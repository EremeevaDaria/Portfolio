{
 "cells": [
  {
   "cell_type": "markdown",
   "metadata": {
    "id": "E0vqbgi9ay0H"
   },
   "source": [
    "# Яндекс.Музыка"
   ]
  },
  {
   "cell_type": "markdown",
   "metadata": {
    "id": "VUC88oWjTJw2"
   },
   "source": [
    "Сравнение Москвы и Петербурга окружено мифами. Например:\n",
    " * Москва — мегаполис, подчинённый жёсткому ритму рабочей недели;\n",
    " * Петербург — культурная столица, со своими вкусами.\n",
    "\n",
    "На данных Яндекс.Музыки вы сравните поведение пользователей двух столиц.\n",
    "\n",
    "**Цель исследования** — проверьте три гипотезы:\n",
    "1. Активность пользователей зависит от дня недели. Причём в Москве и Петербурге это проявляется по-разному.\n",
    "2. В понедельник утром в Москве преобладают одни жанры, а в Петербурге — другие. Так же и вечером пятницы преобладают разные жанры — в зависимости от города. \n",
    "3. Москва и Петербург предпочитают разные жанры музыки. В Москве чаще слушают поп-музыку, в Петербурге — русский рэп.\n",
    "\n",
    "**Ход исследования**\n",
    "\n",
    "Данные о поведении пользователей вы получите из файла `yandex_music_project.csv`. О качестве данных ничего не известно. Поэтому перед проверкой гипотез понадобится обзор данных. \n",
    "\n",
    "Вы проверите данные на ошибки и оцените их влияние на исследование. Затем, на этапе предобработки вы поищете возможность исправить самые критичные ошибки данных.\n",
    " \n",
    "Таким образом, исследование пройдёт в три этапа:\n",
    " 1. Обзор данных.\n",
    " 2. Предобработка данных.\n",
    " 3. Проверка гипотез.\n",
    "\n"
   ]
  },
  {
   "cell_type": "markdown",
   "metadata": {
    "id": "Ml1hmfXC_Zcs"
   },
   "source": [
    "## Обзор данных\n",
    "\n",
    "Составим первое представление о данных Яндекс.Музыки.\n",
    "\n",
    "\n"
   ]
  },
  {
   "cell_type": "code",
   "execution_count": 2,
   "metadata": {
    "id": "AXN7PHPN_Zcs"
   },
   "outputs": [],
   "source": [
    "# импортируем библиотеки pandas\n",
    "import pandas as pd"
   ]
  },
  {
   "cell_type": "code",
   "execution_count": 3,
   "metadata": {
    "id": "fFVu7vqh_Zct"
   },
   "outputs": [],
   "source": [
    "# прочтем файл с данными и сохраненим в переменной df\n",
    "df = pd.read_csv('/datasets/yandex_music_project.csv')"
   ]
  },
  {
   "cell_type": "code",
   "execution_count": 4,
   "metadata": {
    "id": "oWTVX3gW_Zct"
   },
   "outputs": [
    {
     "data": {
      "text/html": [
       "<div>\n",
       "<style scoped>\n",
       "    .dataframe tbody tr th:only-of-type {\n",
       "        vertical-align: middle;\n",
       "    }\n",
       "\n",
       "    .dataframe tbody tr th {\n",
       "        vertical-align: top;\n",
       "    }\n",
       "\n",
       "    .dataframe thead th {\n",
       "        text-align: right;\n",
       "    }\n",
       "</style>\n",
       "<table border=\"1\" class=\"dataframe\">\n",
       "  <thead>\n",
       "    <tr style=\"text-align: right;\">\n",
       "      <th></th>\n",
       "      <th>userID</th>\n",
       "      <th>Track</th>\n",
       "      <th>artist</th>\n",
       "      <th>genre</th>\n",
       "      <th>City</th>\n",
       "      <th>time</th>\n",
       "      <th>Day</th>\n",
       "    </tr>\n",
       "  </thead>\n",
       "  <tbody>\n",
       "    <tr>\n",
       "      <th>0</th>\n",
       "      <td>FFB692EC</td>\n",
       "      <td>Kamigata To Boots</td>\n",
       "      <td>The Mass Missile</td>\n",
       "      <td>rock</td>\n",
       "      <td>Saint-Petersburg</td>\n",
       "      <td>20:28:33</td>\n",
       "      <td>Wednesday</td>\n",
       "    </tr>\n",
       "    <tr>\n",
       "      <th>1</th>\n",
       "      <td>55204538</td>\n",
       "      <td>Delayed Because of Accident</td>\n",
       "      <td>Andreas Rönnberg</td>\n",
       "      <td>rock</td>\n",
       "      <td>Moscow</td>\n",
       "      <td>14:07:09</td>\n",
       "      <td>Friday</td>\n",
       "    </tr>\n",
       "    <tr>\n",
       "      <th>2</th>\n",
       "      <td>20EC38</td>\n",
       "      <td>Funiculì funiculà</td>\n",
       "      <td>Mario Lanza</td>\n",
       "      <td>pop</td>\n",
       "      <td>Saint-Petersburg</td>\n",
       "      <td>20:58:07</td>\n",
       "      <td>Wednesday</td>\n",
       "    </tr>\n",
       "    <tr>\n",
       "      <th>3</th>\n",
       "      <td>A3DD03C9</td>\n",
       "      <td>Dragons in the Sunset</td>\n",
       "      <td>Fire + Ice</td>\n",
       "      <td>folk</td>\n",
       "      <td>Saint-Petersburg</td>\n",
       "      <td>08:37:09</td>\n",
       "      <td>Monday</td>\n",
       "    </tr>\n",
       "    <tr>\n",
       "      <th>4</th>\n",
       "      <td>E2DC1FAE</td>\n",
       "      <td>Soul People</td>\n",
       "      <td>Space Echo</td>\n",
       "      <td>dance</td>\n",
       "      <td>Moscow</td>\n",
       "      <td>08:34:34</td>\n",
       "      <td>Monday</td>\n",
       "    </tr>\n",
       "    <tr>\n",
       "      <th>5</th>\n",
       "      <td>842029A1</td>\n",
       "      <td>Преданная</td>\n",
       "      <td>IMPERVTOR</td>\n",
       "      <td>rusrap</td>\n",
       "      <td>Saint-Petersburg</td>\n",
       "      <td>13:09:41</td>\n",
       "      <td>Friday</td>\n",
       "    </tr>\n",
       "    <tr>\n",
       "      <th>6</th>\n",
       "      <td>4CB90AA5</td>\n",
       "      <td>True</td>\n",
       "      <td>Roman Messer</td>\n",
       "      <td>dance</td>\n",
       "      <td>Moscow</td>\n",
       "      <td>13:00:07</td>\n",
       "      <td>Wednesday</td>\n",
       "    </tr>\n",
       "    <tr>\n",
       "      <th>7</th>\n",
       "      <td>F03E1C1F</td>\n",
       "      <td>Feeling This Way</td>\n",
       "      <td>Polina Griffith</td>\n",
       "      <td>dance</td>\n",
       "      <td>Moscow</td>\n",
       "      <td>20:47:49</td>\n",
       "      <td>Wednesday</td>\n",
       "    </tr>\n",
       "    <tr>\n",
       "      <th>8</th>\n",
       "      <td>8FA1D3BE</td>\n",
       "      <td>И вновь продолжается бой</td>\n",
       "      <td>NaN</td>\n",
       "      <td>ruspop</td>\n",
       "      <td>Moscow</td>\n",
       "      <td>09:17:40</td>\n",
       "      <td>Friday</td>\n",
       "    </tr>\n",
       "    <tr>\n",
       "      <th>9</th>\n",
       "      <td>E772D5C0</td>\n",
       "      <td>Pessimist</td>\n",
       "      <td>NaN</td>\n",
       "      <td>dance</td>\n",
       "      <td>Saint-Petersburg</td>\n",
       "      <td>21:20:49</td>\n",
       "      <td>Wednesday</td>\n",
       "    </tr>\n",
       "  </tbody>\n",
       "</table>\n",
       "</div>"
      ],
      "text/plain": [
       "     userID                        Track            artist   genre  \\\n",
       "0  FFB692EC            Kamigata To Boots  The Mass Missile    rock   \n",
       "1  55204538  Delayed Because of Accident  Andreas Rönnberg    rock   \n",
       "2    20EC38            Funiculì funiculà       Mario Lanza     pop   \n",
       "3  A3DD03C9        Dragons in the Sunset        Fire + Ice    folk   \n",
       "4  E2DC1FAE                  Soul People        Space Echo   dance   \n",
       "5  842029A1                    Преданная         IMPERVTOR  rusrap   \n",
       "6  4CB90AA5                         True      Roman Messer   dance   \n",
       "7  F03E1C1F             Feeling This Way   Polina Griffith   dance   \n",
       "8  8FA1D3BE     И вновь продолжается бой               NaN  ruspop   \n",
       "9  E772D5C0                    Pessimist               NaN   dance   \n",
       "\n",
       "             City        time        Day  \n",
       "0  Saint-Petersburg  20:28:33  Wednesday  \n",
       "1            Moscow  14:07:09     Friday  \n",
       "2  Saint-Petersburg  20:58:07  Wednesday  \n",
       "3  Saint-Petersburg  08:37:09     Monday  \n",
       "4            Moscow  08:34:34     Monday  \n",
       "5  Saint-Petersburg  13:09:41     Friday  \n",
       "6            Moscow  13:00:07  Wednesday  \n",
       "7            Moscow  20:47:49  Wednesday  \n",
       "8            Moscow  09:17:40     Friday  \n",
       "9  Saint-Petersburg  21:20:49  Wednesday  "
      ]
     },
     "metadata": {},
     "output_type": "display_data"
    }
   ],
   "source": [
    "# получим первые 10 строк таблицы df\n",
    "display(df.head(10))"
   ]
  },
  {
   "cell_type": "code",
   "execution_count": 5,
   "metadata": {
    "id": "DSf2kIb-_Zct"
   },
   "outputs": [
    {
     "name": "stdout",
     "output_type": "stream",
     "text": [
      "<class 'pandas.core.frame.DataFrame'>\n",
      "RangeIndex: 65079 entries, 0 to 65078\n",
      "Data columns (total 7 columns):\n",
      " #   Column    Non-Null Count  Dtype \n",
      "---  ------    --------------  ----- \n",
      " 0     userID  65079 non-null  object\n",
      " 1   Track     63848 non-null  object\n",
      " 2   artist    57876 non-null  object\n",
      " 3   genre     63881 non-null  object\n",
      " 4     City    65079 non-null  object\n",
      " 5   time      65079 non-null  object\n",
      " 6   Day       65079 non-null  object\n",
      "dtypes: object(7)\n",
      "memory usage: 3.5+ MB\n",
      "None\n"
     ]
    }
   ],
   "source": [
    "# полученим общую информацию о данных в таблице df\n",
    "print(df.info())"
   ]
  },
  {
   "cell_type": "markdown",
   "metadata": {
    "id": "TaQ2Iwbr_Zct"
   },
   "source": [
    "Итак, в таблице семь столбцов. Тип данных во всех столбцах — `object`.\n",
    "\n",
    "Согласно документации к данным:\n",
    "* `userID` — идентификатор пользователя;\n",
    "* `Track` — название трека;  \n",
    "* `artist` — имя исполнителя;\n",
    "* `genre` — название жанра;\n",
    "* `City` — город пользователя;\n",
    "* `time` — время начала прослушивания;\n",
    "* `Day` — день недели.\n",
    "\n",
    "В названиях колонок видны три нарушения стиля:\n",
    "1. Строчные буквы сочетаются с прописными.\n",
    "2. Встречаются пробелы.\n",
    "3. Найдите ещё одну проблему в названии колонок и опишите её в этом пункте.\n",
    "   Название колонки из нескольких слов лучше всего записать \"змеиным_регистром\". \n",
    "\n",
    "\n",
    "Количество значений в столбцах различается. Значит, в данных есть пропущенные значения.\n"
   ]
  },
  {
   "cell_type": "markdown",
   "metadata": {
    "id": "MCB6-dXG_Zct"
   },
   "source": [
    "**Выводы**\n",
    "\n",
    "В каждой строке таблицы — данные о прослушанном треке. Часть колонок описывает саму композицию: название, исполнителя и жанр. Остальные данные рассказывают о пользователе: из какого он города, когда он слушал музыку. \n",
    "\n",
    "Предварительно можно утверждать, что, данных достаточно для проверки гипотез. Но встречаются пропуски в данных, а в названиях колонок — расхождения с хорошим стилем.\n",
    "\n",
    "Чтобы двигаться дальше, нужно устранить проблемы в данных."
   ]
  },
  {
   "cell_type": "markdown",
   "metadata": {
    "id": "SjYF6Ub9_Zct"
   },
   "source": [
    "## Предобработка данных\n",
    "Исправим стиль в заголовках столбцов, исключим пропуски. Затем проверим данные на дубликаты."
   ]
  },
  {
   "cell_type": "markdown",
   "metadata": {
    "id": "dIaKXr29_Zct"
   },
   "source": [
    "### Стиль заголовков\n",
    "Выведем на экран названия столбцов:"
   ]
  },
  {
   "cell_type": "code",
   "execution_count": 6,
   "metadata": {
    "id": "oKOTdF_Q_Zct"
   },
   "outputs": [],
   "source": [
    "# перечень названий столбцов таблицы df\n",
    "columns = ['userID', 'Track', 'artist', 'genre', 'City', 'time', 'Day']"
   ]
  },
  {
   "cell_type": "markdown",
   "metadata": {
    "id": "zj5534cv_Zct"
   },
   "source": [
    "Приведем названия в соответствие с хорошим стилем:\n",
    "* несколько слов в названии запишите в «змеином_регистре»,\n",
    "* все символы сделайте строчными,\n",
    "* устраните пробелы.\n",
    "\n",
    "Для этого переименуем колонки так:\n",
    "* `'  userID'` → `'user_id'`;\n",
    "* `'Track'` → `'track'`;\n",
    "* `'  City  '` → `'city'`;\n",
    "* `'Day'` → `'day'`."
   ]
  },
  {
   "cell_type": "code",
   "execution_count": 7,
   "metadata": {
    "id": "ISlFqs5y_Zct"
   },
   "outputs": [],
   "source": [
    "# переименование столбцов\n",
    "df = df.rename(columns={'  userID':'user_id', 'Track':'track', '  City  ':'city', 'Day':'day'})"
   ]
  },
  {
   "cell_type": "markdown",
   "metadata": {
    "id": "1dqbh00J_Zct"
   },
   "source": [
    "Проверим результат. Для этого ещё раз выведем на экран названия столбцов:"
   ]
  },
  {
   "cell_type": "code",
   "execution_count": 8,
   "metadata": {
    "id": "d4NOAmTW_Zct"
   },
   "outputs": [
    {
     "data": {
      "text/plain": [
       "['userID', 'Track', 'artist', 'genre', 'City', 'time', 'Day']"
      ]
     },
     "metadata": {},
     "output_type": "display_data"
    }
   ],
   "source": [
    "# проверка результатов - перечень названий столбцов\n",
    "display(columns)"
   ]
  },
  {
   "cell_type": "markdown",
   "metadata": {
    "id": "5ISfbcfY_Zct"
   },
   "source": [
    "### Пропуски значений\n",
    "Посчитаем, сколько в таблице пропущенных значений"
   ]
  },
  {
   "cell_type": "code",
   "execution_count": 9,
   "metadata": {
    "id": "RskX29qr_Zct"
   },
   "outputs": [
    {
     "name": "stdout",
     "output_type": "stream",
     "text": [
      "user_id       0\n",
      "track      1231\n",
      "artist     7203\n",
      "genre      1198\n",
      "city          0\n",
      "time          0\n",
      "day           0\n",
      "dtype: int64\n"
     ]
    }
   ],
   "source": [
    "print(df.isna().sum()) # подсчёт пропусков"
   ]
  },
  {
   "cell_type": "markdown",
   "metadata": {
    "id": "qubhgnlO_Zct"
   },
   "source": [
    "Не все пропущенные значения влияют на исследование. Так в `track` и `artist` пропуски не важны для вашей работы. Достаточно заменить их явными обозначениями.\n",
    "\n",
    "Но пропуски в `genre` могут помешать сравнению музыкальных вкусов в Москве и Санкт-Петербурге. На практике было бы правильно установить причину пропусков и восстановить данные. Такой возможности нет в учебном проекте. Придётся:\n",
    "* заполнить и эти пропуски явными обозначениями,\n",
    "* оценить, насколько они повредят расчётам. "
   ]
  },
  {
   "cell_type": "markdown",
   "metadata": {
    "id": "fSv2laPA_Zct"
   },
   "source": [
    "Заменим пропущенные значения в столбцах `track`, `artist` и `genre` на строку `'unknown'`. Для этого создадим список `columns_to_replace`, переберем его элементы циклом `for` и для каждого столбца выполним замену пропущенных значений:"
   ]
  },
  {
   "cell_type": "code",
   "execution_count": 10,
   "metadata": {
    "id": "KplB5qWs_Zct"
   },
   "outputs": [],
   "source": [
    "columns_to_replace = ['track', 'artist', 'genre'] # перебор названий столбцов в цикле и замена пропущенных значений на 'unknown'\n",
    "for column in columns_to_replace:\n",
    "    df[column] = df[column].fillna('unknown') "
   ]
  },
  {
   "cell_type": "markdown",
   "metadata": {
    "id": "Ilsm-MZo_Zct"
   },
   "source": [
    "Убедимся, что в таблице не осталось пропусков. Для этого ещё раз посчитаем пропущенные значения."
   ]
  },
  {
   "cell_type": "code",
   "execution_count": 11,
   "metadata": {
    "id": "Tq4nYRX4_Zct"
   },
   "outputs": [
    {
     "name": "stdout",
     "output_type": "stream",
     "text": [
      "user_id    0\n",
      "track      0\n",
      "artist     0\n",
      "genre      0\n",
      "city       0\n",
      "time       0\n",
      "day        0\n",
      "dtype: int64\n"
     ]
    }
   ],
   "source": [
    "print(df.isna().sum())# подсчёт пропусков"
   ]
  },
  {
   "cell_type": "markdown",
   "metadata": {
    "id": "BWKRtBJ3_Zct"
   },
   "source": [
    "### Дубликаты\n",
    "Посчитаем явные дубликаты в таблице"
   ]
  },
  {
   "cell_type": "code",
   "execution_count": 12,
   "metadata": {
    "id": "36eES_S0_Zct"
   },
   "outputs": [
    {
     "name": "stdout",
     "output_type": "stream",
     "text": [
      "3826\n"
     ]
    }
   ],
   "source": [
    "# подсчёт явных дубликатов\n",
    "print(df.duplicated().sum())"
   ]
  },
  {
   "cell_type": "code",
   "execution_count": 13,
   "metadata": {
    "id": "exFHq6tt_Zct"
   },
   "outputs": [],
   "source": [
    "# удаление явных дубликатов (с удалением старых индексов и формированием новых)\n",
    "df = df.drop_duplicates().reset_index(drop=True)"
   ]
  },
  {
   "cell_type": "code",
   "execution_count": 14,
   "metadata": {
    "id": "-8PuNWQ0_Zct"
   },
   "outputs": [
    {
     "data": {
      "text/plain": [
       "0"
      ]
     },
     "metadata": {},
     "output_type": "display_data"
    }
   ],
   "source": [
    "# проверка на отсутствие дубликатов\n",
    "display(df.duplicated().sum())"
   ]
  },
  {
   "cell_type": "markdown",
   "metadata": {
    "id": "QlFBsxAr_Zct"
   },
   "source": [
    "Теперь избавимся от неявных дубликатов в колонке `genre`."
   ]
  },
  {
   "cell_type": "markdown",
   "metadata": {
    "id": "eSjWwsOh_Zct"
   },
   "source": [
    "Выведем на экран список уникальных названий жанров, отсортированный в алфавитном порядке. "
   ]
  },
  {
   "cell_type": "code",
   "execution_count": 15,
   "metadata": {
    "id": "JIUcqzZN_Zct"
   },
   "outputs": [
    {
     "data": {
      "text/plain": [
       "array(['acid', 'acoustic', 'action', 'adult', 'africa', 'afrikaans',\n",
       "       'alternative', 'alternativepunk', 'ambient', 'americana',\n",
       "       'animated', 'anime', 'arabesk', 'arabic', 'arena',\n",
       "       'argentinetango', 'art', 'audiobook', 'author', 'avantgarde',\n",
       "       'axé', 'baile', 'balkan', 'beats', 'bigroom', 'black', 'bluegrass',\n",
       "       'blues', 'bollywood', 'bossa', 'brazilian', 'breakbeat', 'breaks',\n",
       "       'broadway', 'cantautori', 'cantopop', 'canzone', 'caribbean',\n",
       "       'caucasian', 'celtic', 'chamber', 'chanson', 'children', 'chill',\n",
       "       'chinese', 'choral', 'christian', 'christmas', 'classical',\n",
       "       'classicmetal', 'club', 'colombian', 'comedy', 'conjazz',\n",
       "       'contemporary', 'country', 'cuban', 'dance', 'dancehall',\n",
       "       'dancepop', 'dark', 'death', 'deep', 'deutschrock', 'deutschspr',\n",
       "       'dirty', 'disco', 'dnb', 'documentary', 'downbeat', 'downtempo',\n",
       "       'drum', 'dub', 'dubstep', 'eastern', 'easy', 'electronic',\n",
       "       'electropop', 'emo', 'entehno', 'epicmetal', 'estrada', 'ethnic',\n",
       "       'eurofolk', 'european', 'experimental', 'extrememetal', 'fado',\n",
       "       'fairytail', 'film', 'fitness', 'flamenco', 'folk', 'folklore',\n",
       "       'folkmetal', 'folkrock', 'folktronica', 'forró', 'frankreich',\n",
       "       'französisch', 'french', 'funk', 'future', 'gangsta', 'garage',\n",
       "       'german', 'ghazal', 'gitarre', 'glitch', 'gospel', 'gothic',\n",
       "       'grime', 'grunge', 'gypsy', 'handsup', \"hard'n'heavy\", 'hardcore',\n",
       "       'hardstyle', 'hardtechno', 'hip', 'hip-hop', 'hiphop',\n",
       "       'historisch', 'holiday', 'hop', 'horror', 'house', 'hymn', 'idm',\n",
       "       'independent', 'indian', 'indie', 'indipop', 'industrial',\n",
       "       'inspirational', 'instrumental', 'international', 'irish', 'jam',\n",
       "       'japanese', 'jazz', 'jewish', 'jpop', 'jungle', 'k-pop',\n",
       "       'karadeniz', 'karaoke', 'kayokyoku', 'korean', 'laiko', 'latin',\n",
       "       'latino', 'leftfield', 'local', 'lounge', 'loungeelectronic',\n",
       "       'lovers', 'malaysian', 'mandopop', 'marschmusik', 'meditative',\n",
       "       'mediterranean', 'melodic', 'metal', 'metalcore', 'mexican',\n",
       "       'middle', 'minimal', 'miscellaneous', 'modern', 'mood', 'mpb',\n",
       "       'muslim', 'native', 'neoklassik', 'neue', 'new', 'newage',\n",
       "       'newwave', 'nu', 'nujazz', 'numetal', 'oceania', 'old', 'opera',\n",
       "       'orchestral', 'other', 'piano', 'podcasts', 'pop', 'popdance',\n",
       "       'popelectronic', 'popeurodance', 'poprussian', 'post',\n",
       "       'posthardcore', 'postrock', 'power', 'progmetal', 'progressive',\n",
       "       'psychedelic', 'punjabi', 'punk', 'quebecois', 'ragga', 'ram',\n",
       "       'rancheras', 'rap', 'rave', 'reggae', 'reggaeton', 'regional',\n",
       "       'relax', 'religious', 'retro', 'rhythm', 'rnb', 'rnr', 'rock',\n",
       "       'rockabilly', 'rockalternative', 'rockindie', 'rockother',\n",
       "       'romance', 'roots', 'ruspop', 'rusrap', 'rusrock', 'russian',\n",
       "       'salsa', 'samba', 'scenic', 'schlager', 'self', 'sertanejo',\n",
       "       'shanson', 'shoegazing', 'showtunes', 'singer', 'ska', 'skarock',\n",
       "       'slow', 'smooth', 'soft', 'soul', 'soulful', 'sound', 'soundtrack',\n",
       "       'southern', 'specialty', 'speech', 'spiritual', 'sport',\n",
       "       'stonerrock', 'surf', 'swing', 'synthpop', 'synthrock',\n",
       "       'sängerportrait', 'tango', 'tanzorchester', 'taraftar', 'tatar',\n",
       "       'tech', 'techno', 'teen', 'thrash', 'top', 'traditional',\n",
       "       'tradjazz', 'trance', 'tribal', 'trip', 'triphop', 'tropical',\n",
       "       'türk', 'türkçe', 'ukrrock', 'unknown', 'urban', 'uzbek',\n",
       "       'variété', 'vi', 'videogame', 'vocal', 'western', 'world',\n",
       "       'worldbeat', 'ïîï', 'электроника'], dtype=object)"
      ]
     },
     "metadata": {},
     "output_type": "display_data"
    }
   ],
   "source": [
    "# Просмотр уникальных названий жанров\n",
    "genre_name = df.loc[:,'genre']\n",
    "genre_name = genre_name.sort_values()\n",
    "genre_name = genre_name.unique()\n",
    "display(genre_name)"
   ]
  },
  {
   "cell_type": "markdown",
   "metadata": {
    "id": "qej-Qmuo_Zct"
   },
   "source": [
    "Просмотрим список и найдем неявные дубликаты названия `hiphop`. \n",
    "Чтобы очистить от них таблицу, напишем функцию `replace_wrong_genres()` с двумя параметрами: \n",
    "* `wrong_genres` — список дубликатов,\n",
    "* `correct_genre` — строка с правильным значением.\n",
    "\n",
    "Функция должна исправить колонку `genre` в таблице `df`: заменить каждое значение из списка `wrong_genres` на значение из `correct_genre`."
   ]
  },
  {
   "cell_type": "code",
   "execution_count": 16,
   "metadata": {
    "id": "ErNDkmns_Zct"
   },
   "outputs": [],
   "source": [
    "# Функция для замены неявных дубликатов\n",
    "def replace_wrong_genres(wrong_genres, correct_genre): # на вход функции подаются список неправильных значений и строка с правильным значением\n",
    "    for wrong_genre in wrong_genres: #перебираем неправильные жанры\n",
    "        df['genre'] =  df['genre'].replace(wrong_genre, correct_genre) #для каждого неправильного жанра вызываем метод replace    \n",
    "        "
   ]
  },
  {
   "cell_type": "markdown",
   "metadata": {
    "id": "aDoBJxbA_Zct"
   },
   "source": [
    "Вызовем `replace_wrong_genres()` и передадим ей такие аргументы, чтобы она устранила неявные дубликаты: вместо `hip`, `hop` и `hip-hop` в таблице должно быть значение `hiphop`"
   ]
  },
  {
   "cell_type": "code",
   "execution_count": 17,
   "metadata": {
    "id": "YN5i2hpmSo09"
   },
   "outputs": [],
   "source": [
    "# Устранение неявных дубликатов\n",
    "duplicates = ['hip', 'hop', 'hip-hop'] # список неправильных имён\n",
    "genre = 'hiphop' # правильное имя\n",
    "replace_wrong_genres(duplicates, genre) #функция replace пройдется по списку duplicates и заменит неправильные значения\n"
   ]
  },
  {
   "cell_type": "markdown",
   "metadata": {
    "id": "zQKF16_RG15m"
   },
   "source": [
    "Проверим, что заменили неправильные названия:\n",
    "\n",
    "*   hip\n",
    "*   hop\n",
    "*   hip-hop\n",
    "\n",
    "Выведем отсортированный список уникальных значений столбца `genre`."
   ]
  },
  {
   "cell_type": "code",
   "execution_count": 18,
   "metadata": {
    "id": "wvixALnFG15m"
   },
   "outputs": [
    {
     "data": {
      "text/plain": [
       "array(['acid', 'acoustic', 'action', 'adult', 'africa', 'afrikaans',\n",
       "       'alternative', 'alternativepunk', 'ambient', 'americana',\n",
       "       'animated', 'anime', 'arabesk', 'arabic', 'arena',\n",
       "       'argentinetango', 'art', 'audiobook', 'author', 'avantgarde',\n",
       "       'axé', 'baile', 'balkan', 'beats', 'bigroom', 'black', 'bluegrass',\n",
       "       'blues', 'bollywood', 'bossa', 'brazilian', 'breakbeat', 'breaks',\n",
       "       'broadway', 'cantautori', 'cantopop', 'canzone', 'caribbean',\n",
       "       'caucasian', 'celtic', 'chamber', 'chanson', 'children', 'chill',\n",
       "       'chinese', 'choral', 'christian', 'christmas', 'classical',\n",
       "       'classicmetal', 'club', 'colombian', 'comedy', 'conjazz',\n",
       "       'contemporary', 'country', 'cuban', 'dance', 'dancehall',\n",
       "       'dancepop', 'dark', 'death', 'deep', 'deutschrock', 'deutschspr',\n",
       "       'dirty', 'disco', 'dnb', 'documentary', 'downbeat', 'downtempo',\n",
       "       'drum', 'dub', 'dubstep', 'eastern', 'easy', 'electronic',\n",
       "       'electropop', 'emo', 'entehno', 'epicmetal', 'estrada', 'ethnic',\n",
       "       'eurofolk', 'european', 'experimental', 'extrememetal', 'fado',\n",
       "       'fairytail', 'film', 'fitness', 'flamenco', 'folk', 'folklore',\n",
       "       'folkmetal', 'folkrock', 'folktronica', 'forró', 'frankreich',\n",
       "       'französisch', 'french', 'funk', 'future', 'gangsta', 'garage',\n",
       "       'german', 'ghazal', 'gitarre', 'glitch', 'gospel', 'gothic',\n",
       "       'grime', 'grunge', 'gypsy', 'handsup', \"hard'n'heavy\", 'hardcore',\n",
       "       'hardstyle', 'hardtechno', 'hiphop', 'historisch', 'holiday',\n",
       "       'horror', 'house', 'hymn', 'idm', 'independent', 'indian', 'indie',\n",
       "       'indipop', 'industrial', 'inspirational', 'instrumental',\n",
       "       'international', 'irish', 'jam', 'japanese', 'jazz', 'jewish',\n",
       "       'jpop', 'jungle', 'k-pop', 'karadeniz', 'karaoke', 'kayokyoku',\n",
       "       'korean', 'laiko', 'latin', 'latino', 'leftfield', 'local',\n",
       "       'lounge', 'loungeelectronic', 'lovers', 'malaysian', 'mandopop',\n",
       "       'marschmusik', 'meditative', 'mediterranean', 'melodic', 'metal',\n",
       "       'metalcore', 'mexican', 'middle', 'minimal', 'miscellaneous',\n",
       "       'modern', 'mood', 'mpb', 'muslim', 'native', 'neoklassik', 'neue',\n",
       "       'new', 'newage', 'newwave', 'nu', 'nujazz', 'numetal', 'oceania',\n",
       "       'old', 'opera', 'orchestral', 'other', 'piano', 'podcasts', 'pop',\n",
       "       'popdance', 'popelectronic', 'popeurodance', 'poprussian', 'post',\n",
       "       'posthardcore', 'postrock', 'power', 'progmetal', 'progressive',\n",
       "       'psychedelic', 'punjabi', 'punk', 'quebecois', 'ragga', 'ram',\n",
       "       'rancheras', 'rap', 'rave', 'reggae', 'reggaeton', 'regional',\n",
       "       'relax', 'religious', 'retro', 'rhythm', 'rnb', 'rnr', 'rock',\n",
       "       'rockabilly', 'rockalternative', 'rockindie', 'rockother',\n",
       "       'romance', 'roots', 'ruspop', 'rusrap', 'rusrock', 'russian',\n",
       "       'salsa', 'samba', 'scenic', 'schlager', 'self', 'sertanejo',\n",
       "       'shanson', 'shoegazing', 'showtunes', 'singer', 'ska', 'skarock',\n",
       "       'slow', 'smooth', 'soft', 'soul', 'soulful', 'sound', 'soundtrack',\n",
       "       'southern', 'specialty', 'speech', 'spiritual', 'sport',\n",
       "       'stonerrock', 'surf', 'swing', 'synthpop', 'synthrock',\n",
       "       'sängerportrait', 'tango', 'tanzorchester', 'taraftar', 'tatar',\n",
       "       'tech', 'techno', 'teen', 'thrash', 'top', 'traditional',\n",
       "       'tradjazz', 'trance', 'tribal', 'trip', 'triphop', 'tropical',\n",
       "       'türk', 'türkçe', 'ukrrock', 'unknown', 'urban', 'uzbek',\n",
       "       'variété', 'vi', 'videogame', 'vocal', 'western', 'world',\n",
       "       'worldbeat', 'ïîï', 'электроника'], dtype=object)"
      ]
     },
     "metadata": {},
     "output_type": "display_data"
    }
   ],
   "source": [
    "# Проверка на неявные дубликаты\n",
    "genre = df.loc[:,'genre']\n",
    "genre = genre.sort_values()\n",
    "genre = genre.unique()\n",
    "display(genre)"
   ]
  },
  {
   "cell_type": "markdown",
   "metadata": {
    "id": "jz6a9-7HQUDd"
   },
   "source": [
    "**Выводы**\n",
    "\n",
    "Предобработка обнаружила три проблемы в данных:\n",
    "\n",
    "- нарушения в стиле заголовков,\n",
    "- пропущенные значения,\n",
    "- дубликаты — явные и неявные.\n",
    "\n",
    "Мы исправили заголовки, чтобы упростить работу с таблицей. Без дубликатов исследование станет более точным.\n",
    "\n",
    "Пропущенные значения мы заменили на `'unknown'`. Ещё предстоит увидеть, не повредят ли исследованию пропуски в колонке `genre`.\n",
    "\n",
    "Теперь можно перейти к проверке гипотез. "
   ]
  },
  {
   "cell_type": "markdown",
   "metadata": {
    "id": "WttZHXH0SqKk"
   },
   "source": [
    "## Проверка гипотез"
   ]
  },
  {
   "cell_type": "markdown",
   "metadata": {
    "id": "Im936VVi_Zcu"
   },
   "source": [
    "### Сравнение поведения пользователей двух столиц"
   ]
  },
  {
   "cell_type": "markdown",
   "metadata": {
    "id": "nwt_MuaL_Zcu"
   },
   "source": [
    "Первая гипотеза утверждает, что пользователи по-разному слушают музыку в Москве и Санкт-Петербурге. Проверим это предположение по данным о трёх днях недели — понедельнике, среде и пятнице. Для этого:\n",
    "\n",
    "* Разделим пользователей Москвы и Санкт-Петербурга\n",
    "* Сравним, сколько треков послушала каждая группа пользователей в понедельник, среду и пятницу.\n"
   ]
  },
  {
   "cell_type": "markdown",
   "metadata": {
    "id": "8Dw_YMmT_Zcu"
   },
   "source": [
    "Оценим активность пользователей в каждом городе. Сгруппируем данные по городу и посчитаем прослушивания в каждой группе."
   ]
  },
  {
   "cell_type": "code",
   "execution_count": 19,
   "metadata": {
    "id": "0_Qs96oh_Zcu"
   },
   "outputs": [
    {
     "data": {
      "text/plain": [
       "city\n",
       "Moscow              42741\n",
       "Saint-Petersburg    18512\n",
       "Name: genre, dtype: int64"
      ]
     },
     "metadata": {},
     "output_type": "display_data"
    }
   ],
   "source": [
    "# Подсчёт прослушиваний в каждом городе\n",
    "city_grouping = df.groupby('city')['genre'].count()\n",
    "display(city_grouping)\n",
    "    "
   ]
  },
  {
   "cell_type": "markdown",
   "metadata": {
    "id": "dzli3w8o_Zcu"
   },
   "source": [
    "В Москве прослушиваний больше, чем в Петербурге. Из этого не следует, что московские пользователи чаще слушают музыку. Просто самих пользователей в Москве больше.\n",
    "\n",
    "Теперь сгруппируем данные по дню недели и подсчитайте прослушивания в понедельник, среду и пятницу. Учтем, что в данных есть информация только о прослушиваниях только за эти дни."
   ]
  },
  {
   "cell_type": "code",
   "execution_count": 20,
   "metadata": {
    "id": "uZMKjiJz_Zcu"
   },
   "outputs": [
    {
     "data": {
      "text/plain": [
       "day\n",
       "Friday       21840\n",
       "Monday       21354\n",
       "Wednesday    18059\n",
       "Name: genre, dtype: int64"
      ]
     },
     "metadata": {},
     "output_type": "display_data"
    }
   ],
   "source": [
    "# Подсчёт прослушиваний в каждый из трёх дней\n",
    "day_grouping = df.groupby('day')['genre'].count()\n",
    "display(day_grouping)\n"
   ]
  },
  {
   "cell_type": "markdown",
   "metadata": {
    "id": "cC2tNrlL_Zcu"
   },
   "source": [
    "В среднем пользователи из двух городов менее активны по средам. Но картина может измениться, если рассмотреть каждый город в отдельности."
   ]
  },
  {
   "cell_type": "markdown",
   "metadata": {
    "id": "POzs8bGa_Zcu"
   },
   "source": [
    "Напишем функцию, которая объединит два эти расчёта.\n",
    "\n",
    "Создадим функцию `number_tracks()`, которая посчитает прослушивания для заданного дня и города. Ей понадобятся два параметра:\n",
    "* день недели,\n",
    "* название города.\n",
    "\n",
    "В функции сохраним в переменную строки исходной таблицы, у которых значение:\n",
    "  * в колонке `day` равно параметру `day`,\n",
    "  * в колонке `city` равно параметру `city`.\n",
    "\n",
    "Для этого применим последовательную фильтрацию с логической индексацией.\n",
    "\n",
    "Затем посчитаем значения в столбце `user_id` получившейся таблицы. Результат сохраним в новую переменную. Верним эту переменную из функции."
   ]
  },
  {
   "cell_type": "code",
   "execution_count": 21,
   "metadata": {
    "id": "Nz3GdQB1_Zcu"
   },
   "outputs": [],
   "source": [
    "# <создание функции number_tracks()>\n",
    "# Объявляется функция с двумя параметрами: day, city.\n",
    "def number_tracks(day, city):\n",
    "    track_list = df[df['day'] == day]\n",
    "    track_list = track_list[track_list['city'] == city]\n",
    "    track_list_count = track_list['user_id'].count()\n",
    "    return track_list_count\n"
   ]
  },
  {
   "cell_type": "markdown",
   "metadata": {
    "id": "ytf7xFrFJQ2r"
   },
   "source": [
    "Вызовем `number_tracks()` шесть раз, меняя значение параметров — так, чтобы получить данные для каждого города в каждый из трёх дней."
   ]
  },
  {
   "cell_type": "code",
   "execution_count": 22,
   "metadata": {
    "id": "rJcRATNQ_Zcu",
    "scrolled": false
   },
   "outputs": [
    {
     "data": {
      "text/plain": [
       "15740"
      ]
     },
     "execution_count": 22,
     "metadata": {},
     "output_type": "execute_result"
    }
   ],
   "source": [
    "# количество прослушиваний в Москве по понедельникам\n",
    "number_tracks('Monday', 'Moscow')"
   ]
  },
  {
   "cell_type": "code",
   "execution_count": 23,
   "metadata": {
    "id": "hq_ncZ5T_Zcu"
   },
   "outputs": [
    {
     "data": {
      "text/plain": [
       "5614"
      ]
     },
     "execution_count": 23,
     "metadata": {},
     "output_type": "execute_result"
    }
   ],
   "source": [
    "# количество прослушиваний в Санкт-Петербурге по понедельникам\n",
    "number_tracks('Monday', 'Saint-Petersburg')"
   ]
  },
  {
   "cell_type": "code",
   "execution_count": 24,
   "metadata": {
    "id": "_NTy2VPU_Zcu"
   },
   "outputs": [
    {
     "data": {
      "text/plain": [
       "11056"
      ]
     },
     "execution_count": 24,
     "metadata": {},
     "output_type": "execute_result"
    }
   ],
   "source": [
    "# количество прослушиваний в Москве по средам\n",
    "number_tracks('Wednesday', 'Moscow')"
   ]
  },
  {
   "cell_type": "code",
   "execution_count": 25,
   "metadata": {
    "id": "j2y3TAwo_Zcu"
   },
   "outputs": [
    {
     "data": {
      "text/plain": [
       "7003"
      ]
     },
     "execution_count": 25,
     "metadata": {},
     "output_type": "execute_result"
    }
   ],
   "source": [
    "# количество прослушиваний в Санкт-Петербурге по средам\n",
    "number_tracks('Wednesday', 'Saint-Petersburg')"
   ]
  },
  {
   "cell_type": "code",
   "execution_count": 26,
   "metadata": {
    "id": "vYDw5u_K_Zcu"
   },
   "outputs": [
    {
     "data": {
      "text/plain": [
       "15945"
      ]
     },
     "execution_count": 26,
     "metadata": {},
     "output_type": "execute_result"
    }
   ],
   "source": [
    "# количество прослушиваний в Москве по пятницам\n",
    "number_tracks('Friday', 'Moscow')"
   ]
  },
  {
   "cell_type": "code",
   "execution_count": 27,
   "metadata": {
    "id": "8_yzFtW3_Zcu"
   },
   "outputs": [
    {
     "data": {
      "text/plain": [
       "5895"
      ]
     },
     "execution_count": 27,
     "metadata": {},
     "output_type": "execute_result"
    }
   ],
   "source": [
    "# количество прослушиваний в Санкт-Петербурге по пятницам\n",
    "number_tracks('Friday', 'Saint-Petersburg')"
   ]
  },
  {
   "cell_type": "markdown",
   "metadata": {
    "id": "7QXffbO-_Zcu"
   },
   "source": [
    "Создадим c помощью конструктора `pd.DataFrame` таблицу, где\n",
    "* названия колонок — `['city', 'monday', 'wednesday', 'friday']`;\n",
    "* данные — результаты, которые вы получили с помощью `number_tracks`."
   ]
  },
  {
   "cell_type": "code",
   "execution_count": 28,
   "metadata": {
    "id": "APAcLpOr_Zcu"
   },
   "outputs": [
    {
     "data": {
      "text/html": [
       "<div>\n",
       "<style scoped>\n",
       "    .dataframe tbody tr th:only-of-type {\n",
       "        vertical-align: middle;\n",
       "    }\n",
       "\n",
       "    .dataframe tbody tr th {\n",
       "        vertical-align: top;\n",
       "    }\n",
       "\n",
       "    .dataframe thead th {\n",
       "        text-align: right;\n",
       "    }\n",
       "</style>\n",
       "<table border=\"1\" class=\"dataframe\">\n",
       "  <thead>\n",
       "    <tr style=\"text-align: right;\">\n",
       "      <th></th>\n",
       "      <th>city</th>\n",
       "      <th>monday</th>\n",
       "      <th>wednesday</th>\n",
       "      <th>friday</th>\n",
       "    </tr>\n",
       "  </thead>\n",
       "  <tbody>\n",
       "    <tr>\n",
       "      <th>0</th>\n",
       "      <td>Moscow</td>\n",
       "      <td>15740</td>\n",
       "      <td>11056</td>\n",
       "      <td>15945</td>\n",
       "    </tr>\n",
       "    <tr>\n",
       "      <th>1</th>\n",
       "      <td>Saint-Petersburg</td>\n",
       "      <td>5614</td>\n",
       "      <td>7003</td>\n",
       "      <td>5895</td>\n",
       "    </tr>\n",
       "  </tbody>\n",
       "</table>\n",
       "</div>"
      ],
      "text/plain": [
       "               city  monday  wednesday  friday\n",
       "0            Moscow   15740      11056   15945\n",
       "1  Saint-Petersburg    5614       7003    5895"
      ]
     },
     "metadata": {},
     "output_type": "display_data"
    }
   ],
   "source": [
    "# Таблица с результатами\n",
    "columns = ['city', 'monday', 'wednesday', 'friday']\n",
    "data = [\n",
    "    ['Moscow', 15740, 11056, 15945],\n",
    "    ['Saint-Petersburg', 5614, 7003, 5895]\n",
    "]\n",
    "display(pd.DataFrame(data = data, columns=columns))"
   ]
  },
  {
   "cell_type": "markdown",
   "metadata": {
    "id": "-EgPIHYu_Zcu"
   },
   "source": [
    "**Выводы**\n",
    "\n",
    "Данные показывают разницу поведения пользователей:\n",
    "\n",
    "- В Москве пик прослушиваний приходится на понедельник и пятницу, а в среду заметен спад.\n",
    "- В Петербурге, наоборот, больше слушают музыку по средам. Активность в понедельник и пятницу здесь почти в равной мере уступает среде.\n",
    "\n",
    "Значит, данные говорят в пользу первой гипотезы."
   ]
  },
  {
   "cell_type": "markdown",
   "metadata": {
    "id": "atZAxtq4_Zcu"
   },
   "source": [
    "### Музыка в начале и в конце недели"
   ]
  },
  {
   "cell_type": "markdown",
   "metadata": {
    "id": "eXrQqXFH_Zcu"
   },
   "source": [
    "Согласно второй гипотезе, утром в понедельник в Москве преобладают одни жанры, а в Петербурге — другие. Так же и вечером пятницы преобладают разные жанры — в зависимости от города."
   ]
  },
  {
   "cell_type": "markdown",
   "metadata": {
    "id": "S8UcW6Hw_Zcu"
   },
   "source": [
    "Сохраним таблицы с данными в две переменные:\n",
    "* по Москве — в `moscow_general`;\n",
    "* по Санкт-Петербургу — в `spb_general`."
   ]
  },
  {
   "cell_type": "code",
   "execution_count": 29,
   "metadata": {
    "id": "qeaFfM_P_Zcu"
   },
   "outputs": [],
   "source": [
    "# получение таблицы moscow_general из тех строк таблицы df, \n",
    "# для которых значение в столбце 'city' равно 'Moscow'\n",
    "moscow_general = df[df['city'] == 'Moscow']"
   ]
  },
  {
   "cell_type": "code",
   "execution_count": 30,
   "metadata": {
    "id": "ORaVRKto_Zcu"
   },
   "outputs": [],
   "source": [
    "# получение таблицы spb_general из тех строк таблицы df,\n",
    "# для которых значение в столбце 'city' равно 'Saint-Petersburg'\n",
    "spb_general = df[df['city'] == 'Saint-Petersburg']"
   ]
  },
  {
   "cell_type": "markdown",
   "metadata": {
    "id": "MEJV-CX2_Zcu"
   },
   "source": [
    "Создадим функцию `genre_weekday()` с четырьмя параметрами:\n",
    "* таблица (датафрейм) с данными,\n",
    "* день недели,\n",
    "* начальная временная метка в формате 'hh:mm', \n",
    "* последняя временная метка в формате 'hh:mm'.\n",
    "\n",
    "Функция должна вернуть информацию о топ-10 жанров тех треков, которые прослушивали в указанный день, в промежутке между двумя отметками времени."
   ]
  },
  {
   "cell_type": "code",
   "execution_count": 31,
   "metadata": {
    "id": "laJT9BYl_Zcu"
   },
   "outputs": [],
   "source": [
    "def genre_weekday(table, day, time1, time2):\n",
    "    genre_df = table[table['day'] == day]\n",
    "    genre_df = genre_df[(genre_df['time'] > time1) & (genre_df['time'] < time2)]\n",
    "    genre_df_count = genre_df.groupby('genre')['user_id'].count()\n",
    "    genre_df_sorted = genre_df_count.sort_values(ascending = False)\n",
    "    return genre_df_sorted.head(10)"
   ]
  },
  {
   "cell_type": "markdown",
   "metadata": {
    "id": "la2s2_PF_Zcu"
   },
   "source": [
    "Cравните результаты функции `genre_weekday()` для Москвы и Санкт-Петербурга в понедельник утром (с 7:00 до 11:00) и в пятницу вечером (с 17:00 до 23:00):"
   ]
  },
  {
   "cell_type": "code",
   "execution_count": 32,
   "metadata": {
    "id": "yz7itPUQ_Zcu"
   },
   "outputs": [
    {
     "data": {
      "text/plain": [
       "genre\n",
       "pop            781\n",
       "dance          549\n",
       "electronic     480\n",
       "rock           474\n",
       "hiphop         286\n",
       "ruspop         186\n",
       "world          181\n",
       "rusrap         175\n",
       "alternative    164\n",
       "unknown        161\n",
       "Name: user_id, dtype: int64"
      ]
     },
     "execution_count": 32,
     "metadata": {},
     "output_type": "execute_result"
    }
   ],
   "source": [
    "# вызов функции для утра понедельника в Москве (вместо df — таблица moscow_general)\n",
    "# объекты, хранящие время, являются строками и сравниваются как строки\n",
    "# пример вызова: genre_weekday(moscow_general, 'Monday', '07:00', '11:00')\n",
    "genre_weekday(moscow_general, 'Monday', '07:00', '11:00')"
   ]
  },
  {
   "cell_type": "code",
   "execution_count": 33,
   "metadata": {
    "id": "kwUcHPdy_Zcu"
   },
   "outputs": [
    {
     "data": {
      "text/plain": [
       "genre\n",
       "pop            218\n",
       "dance          182\n",
       "rock           162\n",
       "electronic     147\n",
       "hiphop          80\n",
       "ruspop          64\n",
       "alternative     58\n",
       "rusrap          55\n",
       "jazz            44\n",
       "classical       40\n",
       "Name: user_id, dtype: int64"
      ]
     },
     "execution_count": 33,
     "metadata": {},
     "output_type": "execute_result"
    }
   ],
   "source": [
    "# вызов функции для утра понедельника в Петербурге (вместо df — таблица spb_general)\n",
    "genre_weekday(spb_general, 'Monday', '07:00', '11:00')"
   ]
  },
  {
   "cell_type": "code",
   "execution_count": 34,
   "metadata": {
    "id": "EzXVRE1o_Zcu"
   },
   "outputs": [
    {
     "data": {
      "text/plain": [
       "genre\n",
       "pop            713\n",
       "rock           517\n",
       "dance          495\n",
       "electronic     482\n",
       "hiphop         273\n",
       "world          208\n",
       "ruspop         170\n",
       "alternative    163\n",
       "classical      163\n",
       "rusrap         142\n",
       "Name: user_id, dtype: int64"
      ]
     },
     "execution_count": 34,
     "metadata": {},
     "output_type": "execute_result"
    }
   ],
   "source": [
    "# вызов функции для вечера пятницы в Москве\n",
    "genre_weekday(moscow_general, 'Friday', '17:00', '23:00')"
   ]
  },
  {
   "cell_type": "code",
   "execution_count": 35,
   "metadata": {
    "id": "JZaEKu5v_Zcu"
   },
   "outputs": [
    {
     "data": {
      "text/plain": [
       "genre\n",
       "pop            256\n",
       "electronic     216\n",
       "rock           216\n",
       "dance          210\n",
       "hiphop          97\n",
       "alternative     63\n",
       "jazz            61\n",
       "classical       60\n",
       "rusrap          59\n",
       "world           54\n",
       "Name: user_id, dtype: int64"
      ]
     },
     "execution_count": 35,
     "metadata": {},
     "output_type": "execute_result"
    }
   ],
   "source": [
    "# вызов функции для вечера пятницы в Петербурге\n",
    "genre_weekday(spb_general, 'Friday', '17:00', '23:00')"
   ]
  },
  {
   "cell_type": "markdown",
   "metadata": {
    "id": "wrCe4MNX_Zcu"
   },
   "source": [
    "**Выводы**\n",
    "\n",
    "Если сравнить топ-10 жанров в понедельник утром, можно сделать такие выводы:\n",
    "\n",
    "1. В Москве и Петербурге слушают похожую музыку. Единственное отличие — в московский рейтинг вошёл жанр “world”, а в петербургский — джаз и классика.\n",
    "\n",
    "2. В Москве пропущенных значений оказалось так много, что значение `'unknown'` заняло десятое место среди самых популярных жанров. Значит, пропущенные значения занимают существенную долю в данных и угрожают достоверности исследования.\n",
    "\n",
    "Вечер пятницы не меняет эту картину. Некоторые жанры поднимаются немного выше, другие спускаются, но в целом топ-10 остаётся тем же самым.\n",
    "\n",
    "Таким образом, вторая гипотеза подтвердилась лишь частично:\n",
    "* Пользователи слушают похожую музыку в начале недели и в конце.\n",
    "* Разница между Москвой и Петербургом не слишком выражена. В Москве чаще слушают русскую популярную музыку, в Петербурге — джаз.\n",
    "\n",
    "Однако пропуски в данных ставят под сомнение этот результат. В Москве их так много, что рейтинг топ-10 мог бы выглядеть иначе, если бы не утерянные  данные о жанрах."
   ]
  },
  {
   "cell_type": "markdown",
   "metadata": {
    "id": "JolODAqr_Zcu"
   },
   "source": [
    "### Жанровые предпочтения в Москве и Петербурге\n",
    "\n",
    "Гипотеза: Петербург — столица рэпа, музыку этого жанра там слушают чаще, чем в Москве.  А Москва — город контрастов, в котором, тем не менее, преобладает поп-музыка."
   ]
  },
  {
   "cell_type": "markdown",
   "metadata": {
    "id": "DlegSvaT_Zcu"
   },
   "source": [
    "Сгруппируем таблицу `moscow_general` по жанру и посчитаем прослушивания треков каждого жанра методом `count()`. Затем отсортируем результат в порядке убывания и сохраним его в таблице `moscow_genres`."
   ]
  },
  {
   "cell_type": "code",
   "execution_count": 36,
   "metadata": {
    "id": "r19lIPke_Zcu"
   },
   "outputs": [],
   "source": [
    "# одной строкой: группировка таблицы moscow_general по столбцу 'genre', \n",
    "# подсчёт числа значений 'genre' в этой группировке методом count(), \n",
    "# сортировка получившегося Series в порядке убывания и сохранение в moscow_genres\n",
    "moscow_genres = moscow_general.groupby('genre')['genre'].count().sort_values(ascending=False)\n"
   ]
  },
  {
   "cell_type": "markdown",
   "metadata": {
    "id": "6kMuomxTiIr8"
   },
   "source": [
    "Выведем на экран первые десять строк `moscow_genres`"
   ]
  },
  {
   "cell_type": "code",
   "execution_count": 37,
   "metadata": {
    "id": "WhCSooF8_Zcv"
   },
   "outputs": [
    {
     "data": {
      "text/plain": [
       "genre\n",
       "pop            5892\n",
       "dance          4435\n",
       "rock           3965\n",
       "electronic     3786\n",
       "hiphop         2096\n",
       "classical      1616\n",
       "world          1432\n",
       "alternative    1379\n",
       "ruspop         1372\n",
       "rusrap         1161\n",
       "Name: genre, dtype: int64"
      ]
     },
     "metadata": {},
     "output_type": "display_data"
    }
   ],
   "source": [
    "# просмотр первых 10 строк moscow_genres\n",
    "display(moscow_genres.head(10))"
   ]
  },
  {
   "cell_type": "markdown",
   "metadata": {
    "id": "cnPG2vnN_Zcv"
   },
   "source": [
    "Теперь повторим то же и для Петербурга.\n",
    "\n",
    "Сгруппируем таблицу `spb_general` по жанру. Посчитаем прослушивания треков каждого жанра. Результат отсортируем в порядке убывания и сохраним в таблице `spb_genres`"
   ]
  },
  {
   "cell_type": "code",
   "execution_count": 38,
   "metadata": {
    "id": "gluLIpE7_Zcv"
   },
   "outputs": [],
   "source": [
    "# одной строкой: группировка таблицы spb_general по столбцу 'genre', \n",
    "# подсчёт числа значений 'genre' в этой группировке методом count(), \n",
    "# сортировка получившегося Series в порядке убывания и сохранение в spb_genres\n",
    "spb_genres = spb_general.groupby('genre')['genre'].count().sort_values(ascending=False)"
   ]
  },
  {
   "cell_type": "markdown",
   "metadata": {
    "id": "5Doha_ODgyQ8"
   },
   "source": [
    "Выведем на экран первые десять строк `spb_genres`"
   ]
  },
  {
   "cell_type": "code",
   "execution_count": 39,
   "metadata": {
    "id": "uaGJHjVU_Zcv"
   },
   "outputs": [
    {
     "data": {
      "text/plain": [
       "genre\n",
       "pop            2431\n",
       "dance          1932\n",
       "rock           1879\n",
       "electronic     1736\n",
       "hiphop          960\n",
       "alternative     649\n",
       "classical       646\n",
       "rusrap          564\n",
       "ruspop          538\n",
       "world           515\n",
       "Name: genre, dtype: int64"
      ]
     },
     "metadata": {},
     "output_type": "display_data"
    }
   ],
   "source": [
    "# просмотр первых 10 строк spb_genres\n",
    "display(spb_genres.head(10))"
   ]
  },
  {
   "cell_type": "markdown",
   "metadata": {
    "id": "RY51YJYu_Zcv"
   },
   "source": [
    "**Выводы**"
   ]
  },
  {
   "cell_type": "markdown",
   "metadata": {
    "id": "nVhnJEm__Zcv"
   },
   "source": [
    "Гипотеза частично подтвердилась:\n",
    "* Поп-музыка — самый популярный жанр в Москве, как и предполагала гипотеза. Более того, в топ-10 жанров встречается близкий жанр — русская популярная музыка.\n",
    "* Вопреки ожиданиям, рэп одинаково популярен в Москве и Петербурге. \n"
   ]
  },
  {
   "cell_type": "markdown",
   "metadata": {
    "id": "ykKQ0N65_Zcv"
   },
   "source": [
    "## Итоги исследования"
   ]
  },
  {
   "cell_type": "markdown",
   "metadata": {
    "id": "tjUwbHb3_Zcv"
   },
   "source": [
    "Мы проверили три гипотезы и установили:\n",
    "\n",
    "1. День недели по-разному влияет на активность пользователей в Москве и Петербурге. \n",
    "\n",
    "Первая гипотеза полностью подтвердилась.\n",
    "\n",
    "2. Музыкальные предпочтения не сильно меняются в течение недели — будь то Москва или Петербург. Небольшие различия заметны в начале недели, по понедельникам:\n",
    "* в Москве слушают музыку жанра “world”,\n",
    "* в Петербурге — джаз и классику.\n",
    "\n",
    "Таким образом, вторая гипотеза подтвердилась лишь отчасти. Этот результат мог оказаться иным, если бы не пропуски в данных.\n",
    "\n",
    "3. Во вкусах пользователей Москвы и Петербурга больше общего чем различий. Вопреки ожиданиям, предпочтения жанров в Петербурге напоминают московские.\n",
    "\n",
    "Третья гипотеза не подтвердилась. Если различия в предпочтениях и существуют, на основной массе пользователей они незаметны.\n"
   ]
  },
  {
   "cell_type": "code",
   "execution_count": null,
   "metadata": {},
   "outputs": [],
   "source": []
  }
 ],
 "metadata": {
  "ExecuteTimeLog": [
   {
    "duration": 238,
    "start_time": "2022-01-08T10:39:40.645Z"
   },
   {
    "duration": 554,
    "start_time": "2022-01-08T10:39:46.593Z"
   },
   {
    "duration": 135,
    "start_time": "2022-01-08T10:39:48.204Z"
   },
   {
    "duration": 17,
    "start_time": "2022-01-08T10:40:20.488Z"
   },
   {
    "duration": 10,
    "start_time": "2022-01-08T10:42:59.782Z"
   },
   {
    "duration": 25,
    "start_time": "2022-01-08T10:55:41.427Z"
   },
   {
    "duration": 3,
    "start_time": "2022-01-08T11:08:33.207Z"
   },
   {
    "duration": 219,
    "start_time": "2022-01-08T11:21:32.666Z"
   },
   {
    "duration": 21,
    "start_time": "2022-01-08T11:22:50.690Z"
   },
   {
    "duration": 7,
    "start_time": "2022-01-08T11:23:11.877Z"
   },
   {
    "duration": 11,
    "start_time": "2022-01-08T11:23:40.964Z"
   },
   {
    "duration": 22,
    "start_time": "2022-01-08T13:30:36.328Z"
   },
   {
    "duration": 6,
    "start_time": "2022-01-08T13:37:03.165Z"
   },
   {
    "duration": 22,
    "start_time": "2022-01-08T13:37:39.981Z"
   },
   {
    "duration": 4963,
    "start_time": "2022-01-08T13:39:34.128Z"
   },
   {
    "duration": -613,
    "start_time": "2022-01-08T13:39:39.706Z"
   },
   {
    "duration": 109,
    "start_time": "2022-01-08T13:40:47.544Z"
   },
   {
    "duration": 21,
    "start_time": "2022-01-08T13:41:11.674Z"
   },
   {
    "duration": 106,
    "start_time": "2022-01-08T13:42:09.688Z"
   },
   {
    "duration": 4640,
    "start_time": "2022-01-08T13:42:21.354Z"
   },
   {
    "duration": 23,
    "start_time": "2022-01-08T13:50:36.815Z"
   },
   {
    "duration": 19,
    "start_time": "2022-01-08T13:50:48.861Z"
   },
   {
    "duration": 12,
    "start_time": "2022-01-08T13:50:51.142Z"
   },
   {
    "duration": 22,
    "start_time": "2022-01-08T13:50:54.791Z"
   },
   {
    "duration": 15,
    "start_time": "2022-01-08T13:55:08.420Z"
   },
   {
    "duration": 11,
    "start_time": "2022-01-08T13:55:12.054Z"
   },
   {
    "duration": 22,
    "start_time": "2022-01-08T13:55:15.648Z"
   },
   {
    "duration": 17,
    "start_time": "2022-01-08T13:55:22.865Z"
   },
   {
    "duration": 21,
    "start_time": "2022-01-08T13:55:27.529Z"
   },
   {
    "duration": 55,
    "start_time": "2022-01-08T13:57:51.328Z"
   },
   {
    "duration": 60,
    "start_time": "2022-01-08T13:59:07.801Z"
   },
   {
    "duration": 47,
    "start_time": "2022-01-08T13:59:41.307Z"
   },
   {
    "duration": 203,
    "start_time": "2022-01-08T14:04:28.542Z"
   },
   {
    "duration": 1214,
    "start_time": "2022-01-08T14:08:44.900Z"
   },
   {
    "duration": 55,
    "start_time": "2022-01-08T14:08:52.087Z"
   },
   {
    "duration": 174,
    "start_time": "2022-01-08T14:37:04.336Z"
   },
   {
    "duration": 189,
    "start_time": "2022-01-08T14:45:08.281Z"
   },
   {
    "duration": 164,
    "start_time": "2022-01-08T14:46:54.278Z"
   },
   {
    "duration": 169,
    "start_time": "2022-01-08T14:47:22.764Z"
   },
   {
    "duration": 3,
    "start_time": "2022-01-08T14:56:16.453Z"
   },
   {
    "duration": 3,
    "start_time": "2022-01-08T14:56:18.922Z"
   },
   {
    "duration": 39,
    "start_time": "2022-01-08T14:56:29.554Z"
   },
   {
    "duration": 40,
    "start_time": "2022-01-08T14:56:33.249Z"
   },
   {
    "duration": 45,
    "start_time": "2022-01-08T14:57:17.546Z"
   },
   {
    "duration": 41,
    "start_time": "2022-01-08T15:19:50.510Z"
   },
   {
    "duration": 3,
    "start_time": "2022-01-08T15:23:02.801Z"
   },
   {
    "duration": 194,
    "start_time": "2022-01-08T15:26:54.865Z"
   },
   {
    "duration": 403,
    "start_time": "2022-01-08T15:27:16.839Z"
   },
   {
    "duration": 355,
    "start_time": "2022-01-08T15:29:50.212Z"
   },
   {
    "duration": 428,
    "start_time": "2022-01-08T15:32:43.875Z"
   },
   {
    "duration": 346,
    "start_time": "2022-01-08T15:33:07.454Z"
   },
   {
    "duration": 3,
    "start_time": "2022-01-08T15:37:43.011Z"
   },
   {
    "duration": 340,
    "start_time": "2022-01-08T15:37:50.986Z"
   },
   {
    "duration": 387,
    "start_time": "2022-01-08T15:40:47.728Z"
   },
   {
    "duration": 323,
    "start_time": "2022-01-08T15:41:06.563Z"
   },
   {
    "duration": 43,
    "start_time": "2022-01-08T15:41:38.050Z"
   },
   {
    "duration": 3,
    "start_time": "2022-01-08T15:41:42.202Z"
   },
   {
    "duration": 381,
    "start_time": "2022-01-08T15:41:44.688Z"
   },
   {
    "duration": 415,
    "start_time": "2022-01-08T15:49:54.719Z"
   },
   {
    "duration": 3,
    "start_time": "2022-01-08T15:50:04.477Z"
   },
   {
    "duration": 11,
    "start_time": "2022-01-08T15:50:06.778Z"
   },
   {
    "duration": 12,
    "start_time": "2022-01-08T15:50:54.060Z"
   },
   {
    "duration": 4,
    "start_time": "2022-01-08T15:51:32.520Z"
   },
   {
    "duration": 5,
    "start_time": "2022-01-08T15:52:21.804Z"
   },
   {
    "duration": 4,
    "start_time": "2022-01-08T15:52:45.552Z"
   },
   {
    "duration": 41,
    "start_time": "2022-01-08T15:54:17.457Z"
   },
   {
    "duration": 5,
    "start_time": "2022-01-08T16:15:42.821Z"
   },
   {
    "duration": 3,
    "start_time": "2022-01-08T16:16:12.514Z"
   },
   {
    "duration": 4,
    "start_time": "2022-01-08T16:16:39.389Z"
   },
   {
    "duration": 55,
    "start_time": "2022-01-08T16:49:23.893Z"
   },
   {
    "duration": 262,
    "start_time": "2022-01-08T16:49:34.806Z"
   },
   {
    "duration": 40,
    "start_time": "2022-01-08T16:49:49.085Z"
   },
   {
    "duration": 10,
    "start_time": "2022-01-08T16:52:34.197Z"
   },
   {
    "duration": 10,
    "start_time": "2022-01-08T16:59:55.270Z"
   },
   {
    "duration": 237,
    "start_time": "2022-01-08T17:00:06.286Z"
   },
   {
    "duration": 11,
    "start_time": "2022-01-08T17:02:47.622Z"
   },
   {
    "duration": 29,
    "start_time": "2022-01-08T17:03:35.037Z"
   },
   {
    "duration": 191,
    "start_time": "2022-01-08T17:04:15.623Z"
   },
   {
    "duration": 30,
    "start_time": "2022-01-08T17:04:27.111Z"
   },
   {
    "duration": 10,
    "start_time": "2022-01-08T17:05:09.850Z"
   },
   {
    "duration": 3,
    "start_time": "2022-01-08T17:27:52.592Z"
   },
   {
    "duration": 3,
    "start_time": "2022-01-08T19:56:51.051Z"
   },
   {
    "duration": 4,
    "start_time": "2022-01-08T20:03:28.116Z"
   },
   {
    "duration": 11,
    "start_time": "2022-01-08T20:14:26.143Z"
   },
   {
    "duration": 11,
    "start_time": "2022-01-08T20:14:57.856Z"
   },
   {
    "duration": 10,
    "start_time": "2022-01-08T20:15:07.924Z"
   },
   {
    "duration": 3,
    "start_time": "2022-01-08T20:16:41.910Z"
   },
   {
    "duration": 12,
    "start_time": "2022-01-08T20:17:35.561Z"
   },
   {
    "duration": 3,
    "start_time": "2022-01-08T20:18:28.231Z"
   },
   {
    "duration": 12,
    "start_time": "2022-01-08T20:18:30.381Z"
   },
   {
    "duration": 3,
    "start_time": "2022-01-08T20:19:23.200Z"
   },
   {
    "duration": 11,
    "start_time": "2022-01-08T20:19:24.577Z"
   },
   {
    "duration": 11,
    "start_time": "2022-01-08T20:20:34.425Z"
   },
   {
    "duration": 4,
    "start_time": "2022-01-08T20:25:32.548Z"
   },
   {
    "duration": 14,
    "start_time": "2022-01-08T20:25:35.311Z"
   },
   {
    "duration": 3,
    "start_time": "2022-01-08T20:25:53.022Z"
   },
   {
    "duration": 12,
    "start_time": "2022-01-08T20:25:55.311Z"
   },
   {
    "duration": 3,
    "start_time": "2022-01-08T20:26:12.496Z"
   },
   {
    "duration": 11,
    "start_time": "2022-01-08T20:26:14.120Z"
   },
   {
    "duration": 3,
    "start_time": "2022-01-08T20:27:52.925Z"
   },
   {
    "duration": 354,
    "start_time": "2022-01-08T20:27:55.857Z"
   },
   {
    "duration": 3,
    "start_time": "2022-01-08T20:31:18.833Z"
   },
   {
    "duration": 11,
    "start_time": "2022-01-08T20:31:19.911Z"
   },
   {
    "duration": 2,
    "start_time": "2022-01-08T20:31:25.392Z"
   },
   {
    "duration": 171,
    "start_time": "2022-01-08T20:32:24.486Z"
   },
   {
    "duration": 11,
    "start_time": "2022-01-08T20:32:35.858Z"
   },
   {
    "duration": 5,
    "start_time": "2022-01-09T09:57:33.853Z"
   },
   {
    "duration": 326,
    "start_time": "2022-01-09T09:58:15.531Z"
   },
   {
    "duration": 5,
    "start_time": "2022-01-09T09:59:42.949Z"
   },
   {
    "duration": 590,
    "start_time": "2022-01-09T10:00:00.613Z"
   },
   {
    "duration": 430,
    "start_time": "2022-01-09T10:00:13.014Z"
   },
   {
    "duration": 303,
    "start_time": "2022-01-09T10:00:19.799Z"
   },
   {
    "duration": 803,
    "start_time": "2022-01-09T10:00:27.422Z"
   },
   {
    "duration": 3,
    "start_time": "2022-01-09T10:00:35.979Z"
   },
   {
    "duration": 4,
    "start_time": "2022-01-09T10:02:31.617Z"
   },
   {
    "duration": 213,
    "start_time": "2022-01-09T10:02:31.624Z"
   },
   {
    "duration": 26,
    "start_time": "2022-01-09T10:02:31.841Z"
   },
   {
    "duration": 55,
    "start_time": "2022-01-09T10:02:31.869Z"
   },
   {
    "duration": 3,
    "start_time": "2022-01-09T10:02:31.927Z"
   },
   {
    "duration": 27,
    "start_time": "2022-01-09T10:02:31.932Z"
   },
   {
    "duration": 8,
    "start_time": "2022-01-09T10:02:31.962Z"
   },
   {
    "duration": 56,
    "start_time": "2022-01-09T10:02:31.974Z"
   },
   {
    "duration": 25,
    "start_time": "2022-01-09T10:02:32.034Z"
   },
   {
    "duration": 28,
    "start_time": "2022-01-09T10:02:32.062Z"
   },
   {
    "duration": 100,
    "start_time": "2022-01-09T10:02:32.093Z"
   },
   {
    "duration": 102,
    "start_time": "2022-01-09T10:02:32.196Z"
   },
   {
    "duration": 84,
    "start_time": "2022-01-09T10:02:32.301Z"
   },
   {
    "duration": 68,
    "start_time": "2022-01-09T10:02:32.389Z"
   },
   {
    "duration": 4,
    "start_time": "2022-01-09T10:02:32.460Z"
   },
   {
    "duration": 25,
    "start_time": "2022-01-09T10:02:32.467Z"
   },
   {
    "duration": 72,
    "start_time": "2022-01-09T10:02:32.495Z"
   },
   {
    "duration": 20,
    "start_time": "2022-01-09T10:02:32.571Z"
   },
   {
    "duration": 40,
    "start_time": "2022-01-09T10:02:32.594Z"
   },
   {
    "duration": 7,
    "start_time": "2022-01-09T10:02:32.637Z"
   },
   {
    "duration": 9182,
    "start_time": "2022-01-09T10:02:32.647Z"
   },
   {
    "duration": -166,
    "start_time": "2022-01-09T10:02:42.000Z"
   },
   {
    "duration": -166,
    "start_time": "2022-01-09T10:02:42.003Z"
   },
   {
    "duration": -165,
    "start_time": "2022-01-09T10:02:42.004Z"
   },
   {
    "duration": -165,
    "start_time": "2022-01-09T10:02:42.006Z"
   },
   {
    "duration": -165,
    "start_time": "2022-01-09T10:02:42.008Z"
   },
   {
    "duration": -164,
    "start_time": "2022-01-09T10:02:42.009Z"
   },
   {
    "duration": -163,
    "start_time": "2022-01-09T10:02:42.011Z"
   },
   {
    "duration": -163,
    "start_time": "2022-01-09T10:02:42.013Z"
   },
   {
    "duration": -162,
    "start_time": "2022-01-09T10:02:42.014Z"
   },
   {
    "duration": -161,
    "start_time": "2022-01-09T10:02:42.016Z"
   },
   {
    "duration": -161,
    "start_time": "2022-01-09T10:02:42.019Z"
   },
   {
    "duration": -172,
    "start_time": "2022-01-09T10:02:42.032Z"
   },
   {
    "duration": -195,
    "start_time": "2022-01-09T10:02:42.058Z"
   },
   {
    "duration": -196,
    "start_time": "2022-01-09T10:02:42.061Z"
   },
   {
    "duration": -195,
    "start_time": "2022-01-09T10:02:42.062Z"
   },
   {
    "duration": -196,
    "start_time": "2022-01-09T10:02:42.065Z"
   },
   {
    "duration": -144,
    "start_time": "2022-01-09T10:02:42.067Z"
   },
   {
    "duration": 5,
    "start_time": "2022-01-09T10:03:21.570Z"
   },
   {
    "duration": 48,
    "start_time": "2022-01-09T10:03:23.256Z"
   },
   {
    "duration": 5,
    "start_time": "2022-01-09T10:03:43.768Z"
   },
   {
    "duration": 576,
    "start_time": "2022-01-09T10:03:45.824Z"
   },
   {
    "duration": 810,
    "start_time": "2022-01-09T10:04:22.607Z"
   },
   {
    "duration": 5,
    "start_time": "2022-01-09T10:05:00.558Z"
   },
   {
    "duration": 30,
    "start_time": "2022-01-09T10:05:09.320Z"
   },
   {
    "duration": 6,
    "start_time": "2022-01-09T10:05:46.043Z"
   },
   {
    "duration": 652,
    "start_time": "2022-01-09T10:05:50.550Z"
   },
   {
    "duration": 680,
    "start_time": "2022-01-09T10:22:11.532Z"
   },
   {
    "duration": 5,
    "start_time": "2022-01-09T10:22:20.192Z"
   },
   {
    "duration": 29,
    "start_time": "2022-01-09T10:22:21.812Z"
   },
   {
    "duration": 102,
    "start_time": "2022-01-09T10:22:34.340Z"
   },
   {
    "duration": 5,
    "start_time": "2022-01-09T10:23:10.552Z"
   },
   {
    "duration": 4,
    "start_time": "2022-01-09T10:26:09.823Z"
   },
   {
    "duration": 22,
    "start_time": "2022-01-09T10:26:11.855Z"
   },
   {
    "duration": 5,
    "start_time": "2022-01-09T10:27:51.143Z"
   },
   {
    "duration": 583,
    "start_time": "2022-01-09T10:27:53.112Z"
   },
   {
    "duration": 6,
    "start_time": "2022-01-09T10:29:14.453Z"
   },
   {
    "duration": 26,
    "start_time": "2022-01-09T10:29:15.859Z"
   },
   {
    "duration": 4,
    "start_time": "2022-01-09T10:31:11.256Z"
   },
   {
    "duration": 685,
    "start_time": "2022-01-09T10:31:13.217Z"
   },
   {
    "duration": 5,
    "start_time": "2022-01-09T10:31:23.302Z"
   },
   {
    "duration": 725,
    "start_time": "2022-01-09T10:31:24.921Z"
   },
   {
    "duration": 4,
    "start_time": "2022-01-09T10:38:47.842Z"
   },
   {
    "duration": 27,
    "start_time": "2022-01-09T10:38:49.767Z"
   },
   {
    "duration": 5,
    "start_time": "2022-01-09T10:40:30.626Z"
   },
   {
    "duration": 31,
    "start_time": "2022-01-09T10:40:32.023Z"
   },
   {
    "duration": 4,
    "start_time": "2022-01-09T10:42:00.025Z"
   },
   {
    "duration": 590,
    "start_time": "2022-01-09T10:42:01.469Z"
   },
   {
    "duration": 5,
    "start_time": "2022-01-09T10:42:12.496Z"
   },
   {
    "duration": 29,
    "start_time": "2022-01-09T10:42:13.765Z"
   },
   {
    "duration": 4,
    "start_time": "2022-01-09T10:48:06.127Z"
   },
   {
    "duration": 540,
    "start_time": "2022-01-09T10:48:07.560Z"
   },
   {
    "duration": 4,
    "start_time": "2022-01-09T10:48:15.889Z"
   },
   {
    "duration": 522,
    "start_time": "2022-01-09T10:48:17.107Z"
   },
   {
    "duration": 4,
    "start_time": "2022-01-09T10:48:23.401Z"
   },
   {
    "duration": 568,
    "start_time": "2022-01-09T10:48:24.952Z"
   },
   {
    "duration": 4,
    "start_time": "2022-01-09T10:48:45.509Z"
   },
   {
    "duration": 626,
    "start_time": "2022-01-09T10:48:46.932Z"
   },
   {
    "duration": 9,
    "start_time": "2022-01-09T10:59:11.064Z"
   },
   {
    "duration": 35,
    "start_time": "2022-01-09T10:59:12.111Z"
   },
   {
    "duration": 5,
    "start_time": "2022-01-09T11:01:27.326Z"
   },
   {
    "duration": 32,
    "start_time": "2022-01-09T11:01:29.432Z"
   },
   {
    "duration": 7,
    "start_time": "2022-01-09T11:01:57.780Z"
   },
   {
    "duration": 560,
    "start_time": "2022-01-09T11:01:59.017Z"
   },
   {
    "duration": 6,
    "start_time": "2022-01-09T11:02:08.682Z"
   },
   {
    "duration": 565,
    "start_time": "2022-01-09T11:02:10.180Z"
   },
   {
    "duration": 4,
    "start_time": "2022-01-09T11:03:05.910Z"
   },
   {
    "duration": 26,
    "start_time": "2022-01-09T11:03:07.232Z"
   },
   {
    "duration": 5,
    "start_time": "2022-01-09T11:03:26.619Z"
   },
   {
    "duration": -177,
    "start_time": "2022-01-09T11:03:32.059Z"
   },
   {
    "duration": 5,
    "start_time": "2022-01-09T11:03:32.571Z"
   },
   {
    "duration": 4362,
    "start_time": "2022-01-09T11:03:33.456Z"
   },
   {
    "duration": 7,
    "start_time": "2022-01-09T11:04:24.563Z"
   },
   {
    "duration": 24,
    "start_time": "2022-01-09T11:04:26.603Z"
   },
   {
    "duration": 5,
    "start_time": "2022-01-09T11:04:41.303Z"
   },
   {
    "duration": 25,
    "start_time": "2022-01-09T11:04:42.560Z"
   },
   {
    "duration": 25,
    "start_time": "2022-01-09T11:04:44.945Z"
   },
   {
    "duration": 4,
    "start_time": "2022-01-09T11:05:07.620Z"
   },
   {
    "duration": 33,
    "start_time": "2022-01-09T11:05:08.632Z"
   },
   {
    "duration": 4,
    "start_time": "2022-01-09T11:05:26.649Z"
   },
   {
    "duration": 27,
    "start_time": "2022-01-09T11:05:28.915Z"
   },
   {
    "duration": 5,
    "start_time": "2022-01-09T11:19:54.195Z"
   },
   {
    "duration": 19,
    "start_time": "2022-01-09T11:19:55.682Z"
   },
   {
    "duration": 22,
    "start_time": "2022-01-09T11:31:55.246Z"
   },
   {
    "duration": 33,
    "start_time": "2022-01-09T11:31:57.112Z"
   },
   {
    "duration": 19,
    "start_time": "2022-01-09T11:31:58.530Z"
   },
   {
    "duration": 23,
    "start_time": "2022-01-09T11:31:59.947Z"
   },
   {
    "duration": 25,
    "start_time": "2022-01-09T11:32:01.145Z"
   },
   {
    "duration": 304,
    "start_time": "2022-01-09T11:44:48.879Z"
   },
   {
    "duration": 285,
    "start_time": "2022-01-09T11:47:45.613Z"
   },
   {
    "duration": 399,
    "start_time": "2022-01-09T11:58:18.030Z"
   },
   {
    "duration": 356,
    "start_time": "2022-01-09T11:58:40.214Z"
   },
   {
    "duration": 342,
    "start_time": "2022-01-09T11:58:47.811Z"
   },
   {
    "duration": 20,
    "start_time": "2022-01-09T11:58:54.961Z"
   },
   {
    "duration": 18,
    "start_time": "2022-01-09T11:58:59.601Z"
   },
   {
    "duration": 20,
    "start_time": "2022-01-09T11:59:02.650Z"
   },
   {
    "duration": 19,
    "start_time": "2022-01-09T11:59:05.931Z"
   },
   {
    "duration": 402,
    "start_time": "2022-01-09T11:59:08.612Z"
   },
   {
    "duration": 22,
    "start_time": "2022-01-09T11:59:13.170Z"
   },
   {
    "duration": 19,
    "start_time": "2022-01-09T11:59:16.825Z"
   },
   {
    "duration": 12,
    "start_time": "2022-01-09T12:05:09.193Z"
   },
   {
    "duration": 13,
    "start_time": "2022-01-09T12:06:27.268Z"
   },
   {
    "duration": 12,
    "start_time": "2022-01-09T12:07:00.500Z"
   },
   {
    "duration": 25,
    "start_time": "2022-01-09T12:07:00.515Z"
   },
   {
    "duration": 13,
    "start_time": "2022-01-09T12:07:00.543Z"
   },
   {
    "duration": 7,
    "start_time": "2022-01-09T12:07:00.559Z"
   },
   {
    "duration": 17,
    "start_time": "2022-01-09T12:07:00.568Z"
   },
   {
    "duration": 18,
    "start_time": "2022-01-09T12:07:00.588Z"
   },
   {
    "duration": 26,
    "start_time": "2022-01-09T12:07:00.608Z"
   },
   {
    "duration": 15,
    "start_time": "2022-01-09T12:07:00.638Z"
   },
   {
    "duration": 8,
    "start_time": "2022-01-09T12:07:00.655Z"
   },
   {
    "duration": 17,
    "start_time": "2022-01-09T12:07:00.665Z"
   },
   {
    "duration": 12,
    "start_time": "2022-01-09T12:07:00.685Z"
   },
   {
    "duration": 9,
    "start_time": "2022-01-09T12:07:00.700Z"
   },
   {
    "duration": 14,
    "start_time": "2022-01-09T12:08:40.192Z"
   },
   {
    "duration": 31,
    "start_time": "2022-01-09T12:09:27.301Z"
   },
   {
    "duration": 16,
    "start_time": "2022-01-09T12:09:43.504Z"
   },
   {
    "duration": 5,
    "start_time": "2022-01-09T12:23:48.841Z"
   },
   {
    "duration": 4,
    "start_time": "2022-01-09T12:28:15.825Z"
   },
   {
    "duration": 5,
    "start_time": "2022-01-09T12:34:11.921Z"
   },
   {
    "duration": 6,
    "start_time": "2022-01-09T12:36:02.193Z"
   },
   {
    "duration": 6,
    "start_time": "2022-01-09T12:36:14.842Z"
   },
   {
    "duration": 6,
    "start_time": "2022-01-09T12:36:19.419Z"
   },
   {
    "duration": 5,
    "start_time": "2022-01-09T12:36:34.298Z"
   },
   {
    "duration": 23,
    "start_time": "2022-01-09T12:39:18.113Z"
   },
   {
    "duration": 284,
    "start_time": "2022-01-09T12:39:22.115Z"
   },
   {
    "duration": 11,
    "start_time": "2022-01-09T12:39:52.408Z"
   },
   {
    "duration": 18,
    "start_time": "2022-01-09T12:39:56.915Z"
   },
   {
    "duration": 23,
    "start_time": "2022-01-09T12:40:34.954Z"
   },
   {
    "duration": 17,
    "start_time": "2022-01-09T12:40:50.191Z"
   },
   {
    "duration": 13,
    "start_time": "2022-01-09T15:01:15.656Z"
   },
   {
    "duration": 8,
    "start_time": "2022-01-09T15:02:04.323Z"
   },
   {
    "duration": 9,
    "start_time": "2022-01-09T15:04:43.148Z"
   },
   {
    "duration": 6,
    "start_time": "2022-01-09T15:04:54.329Z"
   },
   {
    "duration": 4,
    "start_time": "2022-01-09T15:27:23.321Z"
   },
   {
    "duration": 285,
    "start_time": "2022-01-09T15:27:23.328Z"
   },
   {
    "duration": 22,
    "start_time": "2022-01-09T15:27:23.617Z"
   },
   {
    "duration": 36,
    "start_time": "2022-01-09T15:27:23.642Z"
   },
   {
    "duration": 3,
    "start_time": "2022-01-09T15:27:23.681Z"
   },
   {
    "duration": 55,
    "start_time": "2022-01-09T15:27:23.686Z"
   },
   {
    "duration": 5,
    "start_time": "2022-01-09T15:27:23.743Z"
   },
   {
    "duration": 32,
    "start_time": "2022-01-09T15:27:23.752Z"
   },
   {
    "duration": 61,
    "start_time": "2022-01-09T15:27:23.788Z"
   },
   {
    "duration": 45,
    "start_time": "2022-01-09T15:27:23.852Z"
   },
   {
    "duration": 129,
    "start_time": "2022-01-09T15:27:23.899Z"
   },
   {
    "duration": 110,
    "start_time": "2022-01-09T15:27:24.031Z"
   },
   {
    "duration": 85,
    "start_time": "2022-01-09T15:27:24.144Z"
   },
   {
    "duration": 62,
    "start_time": "2022-01-09T15:27:24.232Z"
   },
   {
    "duration": 28,
    "start_time": "2022-01-09T15:27:24.297Z"
   },
   {
    "duration": 45,
    "start_time": "2022-01-09T15:27:24.328Z"
   },
   {
    "duration": 60,
    "start_time": "2022-01-09T15:27:24.376Z"
   },
   {
    "duration": 17,
    "start_time": "2022-01-09T15:27:24.439Z"
   },
   {
    "duration": 14,
    "start_time": "2022-01-09T15:27:24.459Z"
   },
   {
    "duration": 48,
    "start_time": "2022-01-09T15:27:24.476Z"
   },
   {
    "duration": 30,
    "start_time": "2022-01-09T15:27:24.528Z"
   },
   {
    "duration": 29,
    "start_time": "2022-01-09T15:27:24.561Z"
   },
   {
    "duration": 25,
    "start_time": "2022-01-09T15:27:24.626Z"
   },
   {
    "duration": 19,
    "start_time": "2022-01-09T15:27:24.654Z"
   },
   {
    "duration": 53,
    "start_time": "2022-01-09T15:27:24.675Z"
   },
   {
    "duration": 23,
    "start_time": "2022-01-09T15:27:24.731Z"
   },
   {
    "duration": 12,
    "start_time": "2022-01-09T15:27:24.758Z"
   },
   {
    "duration": 19,
    "start_time": "2022-01-09T15:27:24.773Z"
   },
   {
    "duration": 19,
    "start_time": "2022-01-09T15:27:24.823Z"
   },
   {
    "duration": 8,
    "start_time": "2022-01-09T15:27:24.845Z"
   },
   {
    "duration": 30,
    "start_time": "2022-01-09T15:27:24.856Z"
   },
   {
    "duration": 47,
    "start_time": "2022-01-09T15:27:24.888Z"
   },
   {
    "duration": 31,
    "start_time": "2022-01-09T15:27:24.938Z"
   },
   {
    "duration": 65,
    "start_time": "2022-01-09T15:27:24.972Z"
   },
   {
    "duration": 22,
    "start_time": "2022-01-09T15:27:25.039Z"
   },
   {
    "duration": 9,
    "start_time": "2022-01-09T15:27:25.063Z"
   },
   {
    "duration": 12,
    "start_time": "2022-01-09T15:27:25.074Z"
   },
   {
    "duration": 9,
    "start_time": "2022-01-09T15:27:25.089Z"
   },
   {
    "duration": 806,
    "start_time": "2022-01-10T18:41:04.331Z"
   },
   {
    "duration": 197,
    "start_time": "2022-01-10T18:41:05.139Z"
   },
   {
    "duration": 36,
    "start_time": "2022-01-10T18:41:05.339Z"
   },
   {
    "duration": 35,
    "start_time": "2022-01-10T18:41:05.378Z"
   },
   {
    "duration": 6,
    "start_time": "2022-01-10T18:41:05.415Z"
   },
   {
    "duration": 60,
    "start_time": "2022-01-10T18:41:05.424Z"
   },
   {
    "duration": 5,
    "start_time": "2022-01-10T18:41:05.486Z"
   },
   {
    "duration": 39,
    "start_time": "2022-01-10T18:41:05.494Z"
   },
   {
    "duration": 40,
    "start_time": "2022-01-10T18:41:05.537Z"
   },
   {
    "duration": 29,
    "start_time": "2022-01-10T18:41:05.581Z"
   },
   {
    "duration": 115,
    "start_time": "2022-01-10T18:41:05.612Z"
   },
   {
    "duration": 113,
    "start_time": "2022-01-10T18:41:05.730Z"
   },
   {
    "duration": 88,
    "start_time": "2022-01-10T18:41:05.845Z"
   },
   {
    "duration": 68,
    "start_time": "2022-01-10T18:41:05.935Z"
   },
   {
    "duration": 4,
    "start_time": "2022-01-10T18:41:06.006Z"
   },
   {
    "duration": 20,
    "start_time": "2022-01-10T18:41:06.012Z"
   },
   {
    "duration": 81,
    "start_time": "2022-01-10T18:41:06.035Z"
   },
   {
    "duration": 15,
    "start_time": "2022-01-10T18:41:06.118Z"
   },
   {
    "duration": 38,
    "start_time": "2022-01-10T18:41:06.136Z"
   },
   {
    "duration": 5,
    "start_time": "2022-01-10T18:41:06.177Z"
   },
   {
    "duration": 29,
    "start_time": "2022-01-10T18:41:06.184Z"
   },
   {
    "duration": 20,
    "start_time": "2022-01-10T18:41:06.215Z"
   },
   {
    "duration": 44,
    "start_time": "2022-01-10T18:41:06.238Z"
   },
   {
    "duration": 20,
    "start_time": "2022-01-10T18:41:06.284Z"
   },
   {
    "duration": 22,
    "start_time": "2022-01-10T18:41:06.306Z"
   },
   {
    "duration": 21,
    "start_time": "2022-01-10T18:41:06.366Z"
   },
   {
    "duration": 12,
    "start_time": "2022-01-10T18:41:06.392Z"
   },
   {
    "duration": 18,
    "start_time": "2022-01-10T18:41:06.407Z"
   },
   {
    "duration": 46,
    "start_time": "2022-01-10T18:41:06.428Z"
   },
   {
    "duration": 6,
    "start_time": "2022-01-10T18:41:06.477Z"
   },
   {
    "duration": 41,
    "start_time": "2022-01-10T18:41:06.485Z"
   },
   {
    "duration": 47,
    "start_time": "2022-01-10T18:41:06.529Z"
   },
   {
    "duration": 23,
    "start_time": "2022-01-10T18:41:06.579Z"
   },
   {
    "duration": 17,
    "start_time": "2022-01-10T18:41:06.605Z"
   },
   {
    "duration": 49,
    "start_time": "2022-01-10T18:41:06.624Z"
   },
   {
    "duration": 7,
    "start_time": "2022-01-10T18:41:06.675Z"
   },
   {
    "duration": 11,
    "start_time": "2022-01-10T18:41:06.685Z"
   },
   {
    "duration": 10,
    "start_time": "2022-01-10T18:41:06.699Z"
   },
   {
    "duration": 673,
    "start_time": "2022-01-11T22:05:32.211Z"
   },
   {
    "duration": 149,
    "start_time": "2022-01-11T22:05:32.887Z"
   },
   {
    "duration": 24,
    "start_time": "2022-01-11T22:05:33.038Z"
   },
   {
    "duration": 28,
    "start_time": "2022-01-11T22:05:33.064Z"
   },
   {
    "duration": 2,
    "start_time": "2022-01-11T22:05:33.094Z"
   },
   {
    "duration": 27,
    "start_time": "2022-01-11T22:05:33.098Z"
   },
   {
    "duration": 5,
    "start_time": "2022-01-11T22:05:33.127Z"
   },
   {
    "duration": 48,
    "start_time": "2022-01-11T22:05:33.134Z"
   },
   {
    "duration": 21,
    "start_time": "2022-01-11T22:05:33.185Z"
   },
   {
    "duration": 24,
    "start_time": "2022-01-11T22:05:33.208Z"
   },
   {
    "duration": 87,
    "start_time": "2022-01-11T22:05:33.234Z"
   },
   {
    "duration": 80,
    "start_time": "2022-01-11T22:05:33.323Z"
   },
   {
    "duration": 66,
    "start_time": "2022-01-11T22:05:33.404Z"
   },
   {
    "duration": 42,
    "start_time": "2022-01-11T22:05:33.473Z"
   },
   {
    "duration": 3,
    "start_time": "2022-01-11T22:05:33.517Z"
   },
   {
    "duration": 12,
    "start_time": "2022-01-11T22:05:33.522Z"
   },
   {
    "duration": 61,
    "start_time": "2022-01-11T22:05:33.536Z"
   },
   {
    "duration": 11,
    "start_time": "2022-01-11T22:05:33.599Z"
   },
   {
    "duration": 12,
    "start_time": "2022-01-11T22:05:33.613Z"
   },
   {
    "duration": 5,
    "start_time": "2022-01-11T22:05:33.627Z"
   },
   {
    "duration": 45,
    "start_time": "2022-01-11T22:05:33.634Z"
   },
   {
    "duration": 16,
    "start_time": "2022-01-11T22:05:33.681Z"
   },
   {
    "duration": 19,
    "start_time": "2022-01-11T22:05:33.700Z"
   },
   {
    "duration": 45,
    "start_time": "2022-01-11T22:05:33.722Z"
   },
   {
    "duration": 18,
    "start_time": "2022-01-11T22:05:33.769Z"
   },
   {
    "duration": 17,
    "start_time": "2022-01-11T22:05:33.789Z"
   },
   {
    "duration": 8,
    "start_time": "2022-01-11T22:05:33.808Z"
   },
   {
    "duration": 43,
    "start_time": "2022-01-11T22:05:33.818Z"
   },
   {
    "duration": 10,
    "start_time": "2022-01-11T22:05:33.863Z"
   },
   {
    "duration": 4,
    "start_time": "2022-01-11T22:05:33.875Z"
   },
   {
    "duration": 30,
    "start_time": "2022-01-11T22:05:33.880Z"
   },
   {
    "duration": 14,
    "start_time": "2022-01-11T22:05:33.912Z"
   },
   {
    "duration": 44,
    "start_time": "2022-01-11T22:05:33.927Z"
   },
   {
    "duration": 13,
    "start_time": "2022-01-11T22:05:33.973Z"
   },
   {
    "duration": 8,
    "start_time": "2022-01-11T22:05:33.988Z"
   },
   {
    "duration": 5,
    "start_time": "2022-01-11T22:05:33.998Z"
   },
   {
    "duration": 8,
    "start_time": "2022-01-11T22:05:34.005Z"
   },
   {
    "duration": 7,
    "start_time": "2022-01-11T22:05:34.014Z"
   },
   {
    "duration": 52,
    "start_time": "2022-12-07T09:25:20.556Z"
   },
   {
    "duration": 399,
    "start_time": "2022-12-07T09:50:58.813Z"
   },
   {
    "duration": 224,
    "start_time": "2022-12-07T09:50:59.214Z"
   },
   {
    "duration": 16,
    "start_time": "2022-12-07T09:50:59.440Z"
   },
   {
    "duration": 36,
    "start_time": "2022-12-07T09:50:59.457Z"
   },
   {
    "duration": 3,
    "start_time": "2022-12-07T09:50:59.494Z"
   },
   {
    "duration": 15,
    "start_time": "2022-12-07T09:50:59.498Z"
   },
   {
    "duration": 9,
    "start_time": "2022-12-07T09:50:59.515Z"
   },
   {
    "duration": 31,
    "start_time": "2022-12-07T09:50:59.526Z"
   },
   {
    "duration": 22,
    "start_time": "2022-12-07T09:50:59.558Z"
   },
   {
    "duration": 23,
    "start_time": "2022-12-07T09:50:59.582Z"
   },
   {
    "duration": 65,
    "start_time": "2022-12-07T09:50:59.606Z"
   },
   {
    "duration": 79,
    "start_time": "2022-12-07T09:50:59.672Z"
   },
   {
    "duration": 51,
    "start_time": "2022-12-07T09:50:59.753Z"
   },
   {
    "duration": 43,
    "start_time": "2022-12-07T09:50:59.805Z"
   },
   {
    "duration": 3,
    "start_time": "2022-12-07T09:50:59.849Z"
   },
   {
    "duration": 16,
    "start_time": "2022-12-07T09:50:59.853Z"
   },
   {
    "duration": 37,
    "start_time": "2022-12-07T09:50:59.870Z"
   },
   {
    "duration": 10,
    "start_time": "2022-12-07T09:50:59.921Z"
   },
   {
    "duration": 17,
    "start_time": "2022-12-07T09:50:59.933Z"
   },
   {
    "duration": 3,
    "start_time": "2022-12-07T09:50:59.952Z"
   },
   {
    "duration": 21,
    "start_time": "2022-12-07T09:50:59.957Z"
   },
   {
    "duration": 13,
    "start_time": "2022-12-07T09:50:59.980Z"
   },
   {
    "duration": 37,
    "start_time": "2022-12-07T09:50:59.995Z"
   },
   {
    "duration": 30,
    "start_time": "2022-12-07T09:51:00.034Z"
   },
   {
    "duration": 32,
    "start_time": "2022-12-07T09:51:00.066Z"
   },
   {
    "duration": 34,
    "start_time": "2022-12-07T09:51:00.100Z"
   },
   {
    "duration": 8,
    "start_time": "2022-12-07T09:51:00.135Z"
   },
   {
    "duration": 31,
    "start_time": "2022-12-07T09:51:00.146Z"
   },
   {
    "duration": 19,
    "start_time": "2022-12-07T09:51:00.178Z"
   },
   {
    "duration": 18,
    "start_time": "2022-12-07T09:51:00.199Z"
   },
   {
    "duration": 44,
    "start_time": "2022-12-07T09:51:00.219Z"
   },
   {
    "duration": 50,
    "start_time": "2022-12-07T09:51:00.265Z"
   },
   {
    "duration": 29,
    "start_time": "2022-12-07T09:51:00.317Z"
   },
   {
    "duration": 35,
    "start_time": "2022-12-07T09:51:00.348Z"
   },
   {
    "duration": 48,
    "start_time": "2022-12-07T09:51:00.384Z"
   },
   {
    "duration": 17,
    "start_time": "2022-12-07T09:51:00.434Z"
   },
   {
    "duration": 40,
    "start_time": "2022-12-07T09:51:00.452Z"
   },
   {
    "duration": 16,
    "start_time": "2022-12-07T09:51:00.494Z"
   }
  ],
  "colab": {
   "collapsed_sections": [
    "E0vqbgi9ay0H",
    "VUC88oWjTJw2"
   ],
   "name": "yandex_music_project_2021.2.ipynb",
   "provenance": []
  },
  "kernelspec": {
   "display_name": "Python 3 (ipykernel)",
   "language": "python",
   "name": "python3"
  },
  "language_info": {
   "codemirror_mode": {
    "name": "ipython",
    "version": 3
   },
   "file_extension": ".py",
   "mimetype": "text/x-python",
   "name": "python",
   "nbconvert_exporter": "python",
   "pygments_lexer": "ipython3",
   "version": "3.9.5"
  },
  "toc": {
   "base_numbering": 1,
   "nav_menu": {},
   "number_sections": true,
   "sideBar": true,
   "skip_h1_title": true,
   "title_cell": "Table of Contents",
   "title_sidebar": "Contents",
   "toc_cell": false,
   "toc_position": {},
   "toc_section_display": true,
   "toc_window_display": false
  }
 },
 "nbformat": 4,
 "nbformat_minor": 1
}
