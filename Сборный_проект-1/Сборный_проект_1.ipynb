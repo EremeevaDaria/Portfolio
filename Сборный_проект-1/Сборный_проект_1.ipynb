{
 "cells": [
  {
   "cell_type": "markdown",
   "metadata": {},
   "source": [
    "# Сборный проект - 1. Анализ рынка видеоигр"
   ]
  },
  {
   "cell_type": "markdown",
   "metadata": {},
   "source": [
    "**Цель проекта** - проанализировать данные по каждой игровой платформе и выявить определяющие успешность игры закономерности для планирования рекламной кампании на 2017 год.\n",
    "\n",
    "**Задачи**:\n",
    "- подготовить данные для анализа;\n",
    "- провести исследовательский анализ, полученных данных;\n",
    "- определить актуальный период для дальнейшего более подробного анализа;\n",
    "- составить портрет пользователя каждого региона;\n",
    "- проверить гипотезы;\n",
    "- обобщить полученные выводы.\n",
    "\n",
    "Для решения поставленной задачи нам предоставлены **следующие данные:**\n",
    "- данные о продажах игр;\n",
    "- оценки пользователей и экспертов;\n",
    "- жанры \n",
    "- платформы."
   ]
  },
  {
   "cell_type": "markdown",
   "metadata": {},
   "source": [
    "## Подготовка данных"
   ]
  },
  {
   "cell_type": "code",
   "execution_count": 55,
   "metadata": {},
   "outputs": [],
   "source": [
    "#импортируем необходимые библиотеки\n",
    "import pandas as pd \n",
    "import numpy as np\n",
    "from datetime import datetime, timedelta\n",
    "import matplotlib.pyplot as plt\n",
    "import math \n",
    "import calendar\n",
    "import seaborn as sns\n",
    "from scipy import stats as st"
   ]
  },
  {
   "cell_type": "code",
   "execution_count": 56,
   "metadata": {},
   "outputs": [
    {
     "data": {
      "text/html": [
       "<div>\n",
       "<style scoped>\n",
       "    .dataframe tbody tr th:only-of-type {\n",
       "        vertical-align: middle;\n",
       "    }\n",
       "\n",
       "    .dataframe tbody tr th {\n",
       "        vertical-align: top;\n",
       "    }\n",
       "\n",
       "    .dataframe thead th {\n",
       "        text-align: right;\n",
       "    }\n",
       "</style>\n",
       "<table border=\"1\" class=\"dataframe\">\n",
       "  <thead>\n",
       "    <tr style=\"text-align: right;\">\n",
       "      <th></th>\n",
       "      <th>Name</th>\n",
       "      <th>Platform</th>\n",
       "      <th>Year_of_Release</th>\n",
       "      <th>Genre</th>\n",
       "      <th>NA_sales</th>\n",
       "      <th>EU_sales</th>\n",
       "      <th>JP_sales</th>\n",
       "      <th>Other_sales</th>\n",
       "      <th>Critic_Score</th>\n",
       "      <th>User_Score</th>\n",
       "      <th>Rating</th>\n",
       "    </tr>\n",
       "  </thead>\n",
       "  <tbody>\n",
       "    <tr>\n",
       "      <th>0</th>\n",
       "      <td>Wii Sports</td>\n",
       "      <td>Wii</td>\n",
       "      <td>2006.0</td>\n",
       "      <td>Sports</td>\n",
       "      <td>41.36</td>\n",
       "      <td>28.96</td>\n",
       "      <td>3.77</td>\n",
       "      <td>8.45</td>\n",
       "      <td>76.0</td>\n",
       "      <td>8</td>\n",
       "      <td>E</td>\n",
       "    </tr>\n",
       "    <tr>\n",
       "      <th>1</th>\n",
       "      <td>Super Mario Bros.</td>\n",
       "      <td>NES</td>\n",
       "      <td>1985.0</td>\n",
       "      <td>Platform</td>\n",
       "      <td>29.08</td>\n",
       "      <td>3.58</td>\n",
       "      <td>6.81</td>\n",
       "      <td>0.77</td>\n",
       "      <td>NaN</td>\n",
       "      <td>NaN</td>\n",
       "      <td>NaN</td>\n",
       "    </tr>\n",
       "    <tr>\n",
       "      <th>2</th>\n",
       "      <td>Mario Kart Wii</td>\n",
       "      <td>Wii</td>\n",
       "      <td>2008.0</td>\n",
       "      <td>Racing</td>\n",
       "      <td>15.68</td>\n",
       "      <td>12.76</td>\n",
       "      <td>3.79</td>\n",
       "      <td>3.29</td>\n",
       "      <td>82.0</td>\n",
       "      <td>8.3</td>\n",
       "      <td>E</td>\n",
       "    </tr>\n",
       "    <tr>\n",
       "      <th>3</th>\n",
       "      <td>Wii Sports Resort</td>\n",
       "      <td>Wii</td>\n",
       "      <td>2009.0</td>\n",
       "      <td>Sports</td>\n",
       "      <td>15.61</td>\n",
       "      <td>10.93</td>\n",
       "      <td>3.28</td>\n",
       "      <td>2.95</td>\n",
       "      <td>80.0</td>\n",
       "      <td>8</td>\n",
       "      <td>E</td>\n",
       "    </tr>\n",
       "    <tr>\n",
       "      <th>4</th>\n",
       "      <td>Pokemon Red/Pokemon Blue</td>\n",
       "      <td>GB</td>\n",
       "      <td>1996.0</td>\n",
       "      <td>Role-Playing</td>\n",
       "      <td>11.27</td>\n",
       "      <td>8.89</td>\n",
       "      <td>10.22</td>\n",
       "      <td>1.00</td>\n",
       "      <td>NaN</td>\n",
       "      <td>NaN</td>\n",
       "      <td>NaN</td>\n",
       "    </tr>\n",
       "  </tbody>\n",
       "</table>\n",
       "</div>"
      ],
      "text/plain": [
       "                       Name Platform  Year_of_Release         Genre  NA_sales  \\\n",
       "0                Wii Sports      Wii           2006.0        Sports     41.36   \n",
       "1         Super Mario Bros.      NES           1985.0      Platform     29.08   \n",
       "2            Mario Kart Wii      Wii           2008.0        Racing     15.68   \n",
       "3         Wii Sports Resort      Wii           2009.0        Sports     15.61   \n",
       "4  Pokemon Red/Pokemon Blue       GB           1996.0  Role-Playing     11.27   \n",
       "\n",
       "   EU_sales  JP_sales  Other_sales  Critic_Score User_Score Rating  \n",
       "0     28.96      3.77         8.45          76.0          8      E  \n",
       "1      3.58      6.81         0.77           NaN        NaN    NaN  \n",
       "2     12.76      3.79         3.29          82.0        8.3      E  \n",
       "3     10.93      3.28         2.95          80.0          8      E  \n",
       "4      8.89     10.22         1.00           NaN        NaN    NaN  "
      ]
     },
     "metadata": {},
     "output_type": "display_data"
    }
   ],
   "source": [
    "#откроем файл с данными\n",
    "df = pd.read_csv('/datasets/games.csv')\n",
    "#изучим полученные данные\n",
    "display(df.head())"
   ]
  },
  {
   "cell_type": "markdown",
   "metadata": {},
   "source": [
    "После первичной оценки полученных данных, мы можем сделать вывод о том,что:\n",
    " - есть ошибки в записи наименований столбцов;\n",
    " - присутствует большое количество пропусков;\n",
    " - есть ошибки в записи типа данных.\n",
    "\n",
    "Более тщательную проверку мы произведем в следующем пункте данного проекта."
   ]
  },
  {
   "cell_type": "markdown",
   "metadata": {},
   "source": [
    "## Предобработка данных"
   ]
  },
  {
   "cell_type": "code",
   "execution_count": 57,
   "metadata": {},
   "outputs": [
    {
     "data": {
      "text/html": [
       "<div>\n",
       "<style scoped>\n",
       "    .dataframe tbody tr th:only-of-type {\n",
       "        vertical-align: middle;\n",
       "    }\n",
       "\n",
       "    .dataframe tbody tr th {\n",
       "        vertical-align: top;\n",
       "    }\n",
       "\n",
       "    .dataframe thead th {\n",
       "        text-align: right;\n",
       "    }\n",
       "</style>\n",
       "<table border=\"1\" class=\"dataframe\">\n",
       "  <thead>\n",
       "    <tr style=\"text-align: right;\">\n",
       "      <th></th>\n",
       "      <th>name</th>\n",
       "      <th>platform</th>\n",
       "      <th>year_of_release</th>\n",
       "      <th>genre</th>\n",
       "      <th>na_sales</th>\n",
       "      <th>eu_sales</th>\n",
       "      <th>jp_sales</th>\n",
       "      <th>other_sales</th>\n",
       "      <th>critic_score</th>\n",
       "      <th>user_score</th>\n",
       "      <th>rating</th>\n",
       "    </tr>\n",
       "  </thead>\n",
       "  <tbody>\n",
       "    <tr>\n",
       "      <th>0</th>\n",
       "      <td>Wii Sports</td>\n",
       "      <td>Wii</td>\n",
       "      <td>2006.0</td>\n",
       "      <td>Sports</td>\n",
       "      <td>41.36</td>\n",
       "      <td>28.96</td>\n",
       "      <td>3.77</td>\n",
       "      <td>8.45</td>\n",
       "      <td>76.0</td>\n",
       "      <td>8</td>\n",
       "      <td>E</td>\n",
       "    </tr>\n",
       "    <tr>\n",
       "      <th>1</th>\n",
       "      <td>Super Mario Bros.</td>\n",
       "      <td>NES</td>\n",
       "      <td>1985.0</td>\n",
       "      <td>Platform</td>\n",
       "      <td>29.08</td>\n",
       "      <td>3.58</td>\n",
       "      <td>6.81</td>\n",
       "      <td>0.77</td>\n",
       "      <td>NaN</td>\n",
       "      <td>NaN</td>\n",
       "      <td>NaN</td>\n",
       "    </tr>\n",
       "    <tr>\n",
       "      <th>2</th>\n",
       "      <td>Mario Kart Wii</td>\n",
       "      <td>Wii</td>\n",
       "      <td>2008.0</td>\n",
       "      <td>Racing</td>\n",
       "      <td>15.68</td>\n",
       "      <td>12.76</td>\n",
       "      <td>3.79</td>\n",
       "      <td>3.29</td>\n",
       "      <td>82.0</td>\n",
       "      <td>8.3</td>\n",
       "      <td>E</td>\n",
       "    </tr>\n",
       "    <tr>\n",
       "      <th>3</th>\n",
       "      <td>Wii Sports Resort</td>\n",
       "      <td>Wii</td>\n",
       "      <td>2009.0</td>\n",
       "      <td>Sports</td>\n",
       "      <td>15.61</td>\n",
       "      <td>10.93</td>\n",
       "      <td>3.28</td>\n",
       "      <td>2.95</td>\n",
       "      <td>80.0</td>\n",
       "      <td>8</td>\n",
       "      <td>E</td>\n",
       "    </tr>\n",
       "    <tr>\n",
       "      <th>4</th>\n",
       "      <td>Pokemon Red/Pokemon Blue</td>\n",
       "      <td>GB</td>\n",
       "      <td>1996.0</td>\n",
       "      <td>Role-Playing</td>\n",
       "      <td>11.27</td>\n",
       "      <td>8.89</td>\n",
       "      <td>10.22</td>\n",
       "      <td>1.00</td>\n",
       "      <td>NaN</td>\n",
       "      <td>NaN</td>\n",
       "      <td>NaN</td>\n",
       "    </tr>\n",
       "  </tbody>\n",
       "</table>\n",
       "</div>"
      ],
      "text/plain": [
       "                       name platform  year_of_release         genre  na_sales  \\\n",
       "0                Wii Sports      Wii           2006.0        Sports     41.36   \n",
       "1         Super Mario Bros.      NES           1985.0      Platform     29.08   \n",
       "2            Mario Kart Wii      Wii           2008.0        Racing     15.68   \n",
       "3         Wii Sports Resort      Wii           2009.0        Sports     15.61   \n",
       "4  Pokemon Red/Pokemon Blue       GB           1996.0  Role-Playing     11.27   \n",
       "\n",
       "   eu_sales  jp_sales  other_sales  critic_score user_score rating  \n",
       "0     28.96      3.77         8.45          76.0          8      E  \n",
       "1      3.58      6.81         0.77           NaN        NaN    NaN  \n",
       "2     12.76      3.79         3.29          82.0        8.3      E  \n",
       "3     10.93      3.28         2.95          80.0          8      E  \n",
       "4      8.89     10.22         1.00           NaN        NaN    NaN  "
      ]
     },
     "metadata": {},
     "output_type": "display_data"
    }
   ],
   "source": [
    "#приведем название столбцов к нижнему регистру\n",
    "df.columns = map(str.lower, df.columns)\n",
    "display(df.head())"
   ]
  },
  {
   "cell_type": "code",
   "execution_count": 58,
   "metadata": {},
   "outputs": [
    {
     "name": "stdout",
     "output_type": "stream",
     "text": [
      "<class 'pandas.core.frame.DataFrame'>\n",
      "RangeIndex: 16715 entries, 0 to 16714\n",
      "Data columns (total 11 columns):\n",
      " #   Column           Non-Null Count  Dtype  \n",
      "---  ------           --------------  -----  \n",
      " 0   name             16713 non-null  object \n",
      " 1   platform         16715 non-null  object \n",
      " 2   year_of_release  16446 non-null  float64\n",
      " 3   genre            16713 non-null  object \n",
      " 4   na_sales         16715 non-null  float64\n",
      " 5   eu_sales         16715 non-null  float64\n",
      " 6   jp_sales         16715 non-null  float64\n",
      " 7   other_sales      16715 non-null  float64\n",
      " 8   critic_score     8137 non-null   float64\n",
      " 9   user_score       10014 non-null  object \n",
      " 10  rating           9949 non-null   object \n",
      "dtypes: float64(6), object(5)\n",
      "memory usage: 1.4+ MB\n"
     ]
    },
    {
     "data": {
      "text/plain": [
       "None"
      ]
     },
     "metadata": {},
     "output_type": "display_data"
    },
    {
     "data": {
      "text/plain": [
       "name                  2\n",
       "platform              0\n",
       "year_of_release     269\n",
       "genre                 2\n",
       "na_sales              0\n",
       "eu_sales              0\n",
       "jp_sales              0\n",
       "other_sales           0\n",
       "critic_score       8578\n",
       "user_score         6701\n",
       "rating             6766\n",
       "dtype: int64"
      ]
     },
     "metadata": {},
     "output_type": "display_data"
    },
    {
     "data": {
      "text/html": [
       "<div>\n",
       "<style scoped>\n",
       "    .dataframe tbody tr th:only-of-type {\n",
       "        vertical-align: middle;\n",
       "    }\n",
       "\n",
       "    .dataframe tbody tr th {\n",
       "        vertical-align: top;\n",
       "    }\n",
       "\n",
       "    .dataframe thead th {\n",
       "        text-align: right;\n",
       "    }\n",
       "</style>\n",
       "<table border=\"1\" class=\"dataframe\">\n",
       "  <thead>\n",
       "    <tr style=\"text-align: right;\">\n",
       "      <th></th>\n",
       "      <th>year_of_release</th>\n",
       "      <th>na_sales</th>\n",
       "      <th>eu_sales</th>\n",
       "      <th>jp_sales</th>\n",
       "      <th>other_sales</th>\n",
       "      <th>critic_score</th>\n",
       "    </tr>\n",
       "  </thead>\n",
       "  <tbody>\n",
       "    <tr>\n",
       "      <th>count</th>\n",
       "      <td>16446.000000</td>\n",
       "      <td>16715.000000</td>\n",
       "      <td>16715.000000</td>\n",
       "      <td>16715.000000</td>\n",
       "      <td>16715.000000</td>\n",
       "      <td>8137.000000</td>\n",
       "    </tr>\n",
       "    <tr>\n",
       "      <th>mean</th>\n",
       "      <td>2006.484616</td>\n",
       "      <td>0.263377</td>\n",
       "      <td>0.145060</td>\n",
       "      <td>0.077617</td>\n",
       "      <td>0.047342</td>\n",
       "      <td>68.967679</td>\n",
       "    </tr>\n",
       "    <tr>\n",
       "      <th>std</th>\n",
       "      <td>5.877050</td>\n",
       "      <td>0.813604</td>\n",
       "      <td>0.503339</td>\n",
       "      <td>0.308853</td>\n",
       "      <td>0.186731</td>\n",
       "      <td>13.938165</td>\n",
       "    </tr>\n",
       "    <tr>\n",
       "      <th>min</th>\n",
       "      <td>1980.000000</td>\n",
       "      <td>0.000000</td>\n",
       "      <td>0.000000</td>\n",
       "      <td>0.000000</td>\n",
       "      <td>0.000000</td>\n",
       "      <td>13.000000</td>\n",
       "    </tr>\n",
       "    <tr>\n",
       "      <th>25%</th>\n",
       "      <td>2003.000000</td>\n",
       "      <td>0.000000</td>\n",
       "      <td>0.000000</td>\n",
       "      <td>0.000000</td>\n",
       "      <td>0.000000</td>\n",
       "      <td>60.000000</td>\n",
       "    </tr>\n",
       "    <tr>\n",
       "      <th>50%</th>\n",
       "      <td>2007.000000</td>\n",
       "      <td>0.080000</td>\n",
       "      <td>0.020000</td>\n",
       "      <td>0.000000</td>\n",
       "      <td>0.010000</td>\n",
       "      <td>71.000000</td>\n",
       "    </tr>\n",
       "    <tr>\n",
       "      <th>75%</th>\n",
       "      <td>2010.000000</td>\n",
       "      <td>0.240000</td>\n",
       "      <td>0.110000</td>\n",
       "      <td>0.040000</td>\n",
       "      <td>0.030000</td>\n",
       "      <td>79.000000</td>\n",
       "    </tr>\n",
       "    <tr>\n",
       "      <th>max</th>\n",
       "      <td>2016.000000</td>\n",
       "      <td>41.360000</td>\n",
       "      <td>28.960000</td>\n",
       "      <td>10.220000</td>\n",
       "      <td>10.570000</td>\n",
       "      <td>98.000000</td>\n",
       "    </tr>\n",
       "  </tbody>\n",
       "</table>\n",
       "</div>"
      ],
      "text/plain": [
       "       year_of_release      na_sales      eu_sales      jp_sales  \\\n",
       "count     16446.000000  16715.000000  16715.000000  16715.000000   \n",
       "mean       2006.484616      0.263377      0.145060      0.077617   \n",
       "std           5.877050      0.813604      0.503339      0.308853   \n",
       "min        1980.000000      0.000000      0.000000      0.000000   \n",
       "25%        2003.000000      0.000000      0.000000      0.000000   \n",
       "50%        2007.000000      0.080000      0.020000      0.000000   \n",
       "75%        2010.000000      0.240000      0.110000      0.040000   \n",
       "max        2016.000000     41.360000     28.960000     10.220000   \n",
       "\n",
       "        other_sales  critic_score  \n",
       "count  16715.000000   8137.000000  \n",
       "mean       0.047342     68.967679  \n",
       "std        0.186731     13.938165  \n",
       "min        0.000000     13.000000  \n",
       "25%        0.000000     60.000000  \n",
       "50%        0.010000     71.000000  \n",
       "75%        0.030000     79.000000  \n",
       "max       10.570000     98.000000  "
      ]
     },
     "metadata": {},
     "output_type": "display_data"
    },
    {
     "data": {
      "text/plain": [
       "0"
      ]
     },
     "metadata": {},
     "output_type": "display_data"
    }
   ],
   "source": [
    "#создадим универсальную функцию, которая на входе будет принимать датафрейм, а на выходе будет выводить нужные значения\n",
    "def uni_function(function):\n",
    "    display(function.info())\n",
    "    display(function.isna().sum())\n",
    "    display(function.describe())\n",
    "    display(function.duplicated().sum())\n",
    "uni_function(df)"
   ]
  },
  {
   "cell_type": "code",
   "execution_count": 59,
   "metadata": {},
   "outputs": [
    {
     "data": {
      "text/html": [
       "<style  type=\"text/css\" >\n",
       "#T_afaa8_row0_col0,#T_afaa8_row1_col0,#T_afaa8_row3_col0,#T_afaa8_row4_col0,#T_afaa8_row5_col0,#T_afaa8_row6_col0,#T_afaa8_row7_col0{\n",
       "            background-color:  #3b4cc0;\n",
       "            color:  #f1f1f1;\n",
       "        }#T_afaa8_row2_col0{\n",
       "            background-color:  #445acc;\n",
       "            color:  #f1f1f1;\n",
       "        }#T_afaa8_row8_col0{\n",
       "            background-color:  #b40426;\n",
       "            color:  #f1f1f1;\n",
       "        }#T_afaa8_row9_col0{\n",
       "            background-color:  #f18d6f;\n",
       "            color:  #000000;\n",
       "        }#T_afaa8_row10_col0{\n",
       "            background-color:  #f08a6c;\n",
       "            color:  #000000;\n",
       "        }</style><table id=\"T_afaa8_\" ><thead>    <tr>        <th class=\"blank level0\" ></th>        <th class=\"col_heading level0 col0\" >0</th>    </tr></thead><tbody>\n",
       "                <tr>\n",
       "                        <th id=\"T_afaa8_level0_row0\" class=\"row_heading level0 row0\" >name</th>\n",
       "                        <td id=\"T_afaa8_row0_col0\" class=\"data row0 col0\" >0.010000</td>\n",
       "            </tr>\n",
       "            <tr>\n",
       "                        <th id=\"T_afaa8_level0_row1\" class=\"row_heading level0 row1\" >platform</th>\n",
       "                        <td id=\"T_afaa8_row1_col0\" class=\"data row1 col0\" >0.000000</td>\n",
       "            </tr>\n",
       "            <tr>\n",
       "                        <th id=\"T_afaa8_level0_row2\" class=\"row_heading level0 row2\" >year_of_release</th>\n",
       "                        <td id=\"T_afaa8_row2_col0\" class=\"data row2 col0\" >1.610000</td>\n",
       "            </tr>\n",
       "            <tr>\n",
       "                        <th id=\"T_afaa8_level0_row3\" class=\"row_heading level0 row3\" >genre</th>\n",
       "                        <td id=\"T_afaa8_row3_col0\" class=\"data row3 col0\" >0.010000</td>\n",
       "            </tr>\n",
       "            <tr>\n",
       "                        <th id=\"T_afaa8_level0_row4\" class=\"row_heading level0 row4\" >na_sales</th>\n",
       "                        <td id=\"T_afaa8_row4_col0\" class=\"data row4 col0\" >0.000000</td>\n",
       "            </tr>\n",
       "            <tr>\n",
       "                        <th id=\"T_afaa8_level0_row5\" class=\"row_heading level0 row5\" >eu_sales</th>\n",
       "                        <td id=\"T_afaa8_row5_col0\" class=\"data row5 col0\" >0.000000</td>\n",
       "            </tr>\n",
       "            <tr>\n",
       "                        <th id=\"T_afaa8_level0_row6\" class=\"row_heading level0 row6\" >jp_sales</th>\n",
       "                        <td id=\"T_afaa8_row6_col0\" class=\"data row6 col0\" >0.000000</td>\n",
       "            </tr>\n",
       "            <tr>\n",
       "                        <th id=\"T_afaa8_level0_row7\" class=\"row_heading level0 row7\" >other_sales</th>\n",
       "                        <td id=\"T_afaa8_row7_col0\" class=\"data row7 col0\" >0.000000</td>\n",
       "            </tr>\n",
       "            <tr>\n",
       "                        <th id=\"T_afaa8_level0_row8\" class=\"row_heading level0 row8\" >critic_score</th>\n",
       "                        <td id=\"T_afaa8_row8_col0\" class=\"data row8 col0\" >51.320000</td>\n",
       "            </tr>\n",
       "            <tr>\n",
       "                        <th id=\"T_afaa8_level0_row9\" class=\"row_heading level0 row9\" >user_score</th>\n",
       "                        <td id=\"T_afaa8_row9_col0\" class=\"data row9 col0\" >40.090000</td>\n",
       "            </tr>\n",
       "            <tr>\n",
       "                        <th id=\"T_afaa8_level0_row10\" class=\"row_heading level0 row10\" >rating</th>\n",
       "                        <td id=\"T_afaa8_row10_col0\" class=\"data row10 col0\" >40.480000</td>\n",
       "            </tr>\n",
       "    </tbody></table>"
      ],
      "text/plain": [
       "<pandas.io.formats.style.Styler at 0x7f5c30bf8790>"
      ]
     },
     "execution_count": 59,
     "metadata": {},
     "output_type": "execute_result"
    }
   ],
   "source": [
    "#посчитаем процент пропущенных значений в столбце name, genre, year_of_release\n",
    "pd.DataFrame(round((df.isna().mean()*100),2)).style.background_gradient('coolwarm')"
   ]
  },
  {
   "cell_type": "markdown",
   "metadata": {},
   "source": [
    "Доля пропусков в столбцах \"name\" и \"genre\" составили меньше 1%, поэтому этими данными мы можем пренебречь. Удалим эти строки из датафрейма."
   ]
  },
  {
   "cell_type": "code",
   "execution_count": 60,
   "metadata": {},
   "outputs": [],
   "source": [
    "df = df.dropna(subset=['name', 'genre'])"
   ]
  },
  {
   "cell_type": "markdown",
   "metadata": {},
   "source": [
    "Доля пропусков в столбце 'year_of_release' составила больше одного процента, значит этими данными принебрегать нельзя. Год выпуска важный параметр, поэтому пропуски заполнять не будем, т.к. неверные значения могут исказить анализ данных."
   ]
  },
  {
   "cell_type": "code",
   "execution_count": 61,
   "metadata": {},
   "outputs": [],
   "source": [
    "#преобразуем тип данных столбца 'user_score'\n",
    "df['user_score'] = pd.to_numeric(df['user_score'],errors='coerce')"
   ]
  },
  {
   "cell_type": "markdown",
   "metadata": {},
   "source": [
    "Столбец 'user_score' содержит информацию об оценке пользователей, соотвественно он содержит числовые значения, а значит этот столбец не может относится к типу object. В данном стобце  присутствует большое количество пропусков, мы применили метод Pandas — to_numeric(), который превращает значения столбца в числовой тип float64. При запуске этого метода была обнаружена аббревиатура tbd, что на сленге геймеров значит \"будет неопределено\" или \"подлежит обсуждению\", в обоих случаях можно сделать вывод о том, что данные пока что неизвестны. Поэтому,в связи с тем, что мы не можем самостоятельно заполнить пропущенные данные(это приведет к искажению данных), мы применили параметр errors='coerce', который принудительно заменил все некорректные значения на NaN."
   ]
  },
  {
   "cell_type": "code",
   "execution_count": 62,
   "metadata": {},
   "outputs": [
    {
     "data": {
      "text/html": [
       "<div>\n",
       "<style scoped>\n",
       "    .dataframe tbody tr th:only-of-type {\n",
       "        vertical-align: middle;\n",
       "    }\n",
       "\n",
       "    .dataframe tbody tr th {\n",
       "        vertical-align: top;\n",
       "    }\n",
       "\n",
       "    .dataframe thead th {\n",
       "        text-align: right;\n",
       "    }\n",
       "</style>\n",
       "<table border=\"1\" class=\"dataframe\">\n",
       "  <thead>\n",
       "    <tr style=\"text-align: right;\">\n",
       "      <th></th>\n",
       "      <th>name</th>\n",
       "      <th>platform</th>\n",
       "      <th>year_of_release</th>\n",
       "      <th>genre</th>\n",
       "      <th>na_sales</th>\n",
       "      <th>eu_sales</th>\n",
       "      <th>jp_sales</th>\n",
       "      <th>other_sales</th>\n",
       "      <th>critic_score</th>\n",
       "      <th>user_score</th>\n",
       "      <th>rating</th>\n",
       "      <th>total_sales</th>\n",
       "    </tr>\n",
       "  </thead>\n",
       "  <tbody>\n",
       "    <tr>\n",
       "      <th>0</th>\n",
       "      <td>Wii Sports</td>\n",
       "      <td>Wii</td>\n",
       "      <td>2006.0</td>\n",
       "      <td>Sports</td>\n",
       "      <td>41.36</td>\n",
       "      <td>28.96</td>\n",
       "      <td>3.77</td>\n",
       "      <td>8.45</td>\n",
       "      <td>76.0</td>\n",
       "      <td>8.0</td>\n",
       "      <td>E</td>\n",
       "      <td>82.54</td>\n",
       "    </tr>\n",
       "    <tr>\n",
       "      <th>1</th>\n",
       "      <td>Super Mario Bros.</td>\n",
       "      <td>NES</td>\n",
       "      <td>1985.0</td>\n",
       "      <td>Platform</td>\n",
       "      <td>29.08</td>\n",
       "      <td>3.58</td>\n",
       "      <td>6.81</td>\n",
       "      <td>0.77</td>\n",
       "      <td>NaN</td>\n",
       "      <td>NaN</td>\n",
       "      <td>NaN</td>\n",
       "      <td>40.24</td>\n",
       "    </tr>\n",
       "    <tr>\n",
       "      <th>2</th>\n",
       "      <td>Mario Kart Wii</td>\n",
       "      <td>Wii</td>\n",
       "      <td>2008.0</td>\n",
       "      <td>Racing</td>\n",
       "      <td>15.68</td>\n",
       "      <td>12.76</td>\n",
       "      <td>3.79</td>\n",
       "      <td>3.29</td>\n",
       "      <td>82.0</td>\n",
       "      <td>8.3</td>\n",
       "      <td>E</td>\n",
       "      <td>35.52</td>\n",
       "    </tr>\n",
       "    <tr>\n",
       "      <th>3</th>\n",
       "      <td>Wii Sports Resort</td>\n",
       "      <td>Wii</td>\n",
       "      <td>2009.0</td>\n",
       "      <td>Sports</td>\n",
       "      <td>15.61</td>\n",
       "      <td>10.93</td>\n",
       "      <td>3.28</td>\n",
       "      <td>2.95</td>\n",
       "      <td>80.0</td>\n",
       "      <td>8.0</td>\n",
       "      <td>E</td>\n",
       "      <td>32.77</td>\n",
       "    </tr>\n",
       "    <tr>\n",
       "      <th>4</th>\n",
       "      <td>Pokemon Red/Pokemon Blue</td>\n",
       "      <td>GB</td>\n",
       "      <td>1996.0</td>\n",
       "      <td>Role-Playing</td>\n",
       "      <td>11.27</td>\n",
       "      <td>8.89</td>\n",
       "      <td>10.22</td>\n",
       "      <td>1.00</td>\n",
       "      <td>NaN</td>\n",
       "      <td>NaN</td>\n",
       "      <td>NaN</td>\n",
       "      <td>31.38</td>\n",
       "    </tr>\n",
       "  </tbody>\n",
       "</table>\n",
       "</div>"
      ],
      "text/plain": [
       "                       name platform  year_of_release         genre  na_sales  \\\n",
       "0                Wii Sports      Wii           2006.0        Sports     41.36   \n",
       "1         Super Mario Bros.      NES           1985.0      Platform     29.08   \n",
       "2            Mario Kart Wii      Wii           2008.0        Racing     15.68   \n",
       "3         Wii Sports Resort      Wii           2009.0        Sports     15.61   \n",
       "4  Pokemon Red/Pokemon Blue       GB           1996.0  Role-Playing     11.27   \n",
       "\n",
       "   eu_sales  jp_sales  other_sales  critic_score  user_score rating  \\\n",
       "0     28.96      3.77         8.45          76.0         8.0      E   \n",
       "1      3.58      6.81         0.77           NaN         NaN    NaN   \n",
       "2     12.76      3.79         3.29          82.0         8.3      E   \n",
       "3     10.93      3.28         2.95          80.0         8.0      E   \n",
       "4      8.89     10.22         1.00           NaN         NaN    NaN   \n",
       "\n",
       "   total_sales  \n",
       "0        82.54  \n",
       "1        40.24  \n",
       "2        35.52  \n",
       "3        32.77  \n",
       "4        31.38  "
      ]
     },
     "metadata": {},
     "output_type": "display_data"
    }
   ],
   "source": [
    "#определим суммарные продажи во всех регионах и запишем их в отдельный столбец\n",
    "df['total_sales'] = df[['na_sales','eu_sales','jp_sales', 'other_sales']].sum(axis = 1) #суммарные продажи во всех регионах\n",
    "display(df.head())"
   ]
  },
  {
   "cell_type": "code",
   "execution_count": 63,
   "metadata": {},
   "outputs": [],
   "source": [
    "#заменим неизвестные значения в столбце rating\n",
    "df['rating'] = df['rating'].fillna(value='unknown')\n",
    "#display(df['rating'])"
   ]
  },
  {
   "cell_type": "markdown",
   "metadata": {},
   "source": [
    "**Вывод**\n",
    "\n",
    "В результате изучения данных мы устранили всё, что могло бы помешать при дальнейшем анализе. А именно:\n",
    " - привели название столбцов к нижнему регистру;\n",
    " - изменили тип данных столбца user_score;\n",
    " - приняли решение о том, что пропущенные значения нельзя удалять или заменить каким-то другим значением.\n",
    " - удалили строки с пропущенными данными, значениями которых можно было пренебречь\n",
    " - в столбце critic_score больше 50% значений пропущенно. Принимаем решение, что пропущенные данные оставим в исходном виде.\n",
    " - в столбце rating заменили значения Nan на знаечние unknown. Так при необходимости эти значения можно быстро убрать из датасета."
   ]
  },
  {
   "cell_type": "markdown",
   "metadata": {},
   "source": [
    "## Исследовательский анализ данных"
   ]
  },
  {
   "cell_type": "markdown",
   "metadata": {},
   "source": [
    "### Группировка игр по годам"
   ]
  },
  {
   "cell_type": "code",
   "execution_count": 64,
   "metadata": {},
   "outputs": [],
   "source": [
    "games_per_year = df.pivot_table(\n",
    "    index='year_of_release', values='total_sales', aggfunc='count')"
   ]
  },
  {
   "cell_type": "code",
   "execution_count": 65,
   "metadata": {},
   "outputs": [
    {
     "data": {
      "image/png": "[encoded data removed]",
      "text/plain": [
       "<Figure size 1080x504 with 1 Axes>"
      ]
     },
     "metadata": {
      "needs_background": "light"
     },
     "output_type": "display_data"
    }
   ],
   "source": [
    "plt.figure(figsize = (15, 7))\n",
    "plt.xlabel('год выпуска игр на популярных платформах'),\n",
    "plt.ylabel('сумма продаж'),\n",
    "plt.xlim(1980,2016),\n",
    "plt.grid=True\n",
    "sns.lineplot(data=games_per_year, \n",
    "             x='year_of_release',  \n",
    "             y = 'total_sales',\n",
    ")\n",
    "plt.show()"
   ]
  },
  {
   "cell_type": "markdown",
   "metadata": {},
   "source": [
    "После группировки данных мы можем посмотреть сколько игр было выпущенно в разные годы. По полученным данным мы можем сделать вывод о том, что наибольшее количество игр было выпущенно в период с 2006 по 2011 годы, в 2008 году был достигнут максимум. После 2008 это значение идет на спад. Вероятнее всего, спад произошел из-за экономического кризиса 2008 года.\n",
    "\n",
    "Для определения закономерностей, определяющих успех игр, нам может пригодится период времени, в который было выпущенно наибольшее количество игр."
   ]
  },
  {
   "cell_type": "markdown",
   "metadata": {},
   "source": [
    "### Исследование продаж по платформам"
   ]
  },
  {
   "cell_type": "code",
   "execution_count": 66,
   "metadata": {
    "scrolled": true
   },
   "outputs": [
    {
     "data": {
      "image/png": "[encoded data removed]",
      "text/plain": [
       "<Figure size 720x1080 with 1 Axes>"
      ]
     },
     "metadata": {},
     "output_type": "display_data"
    }
   ],
   "source": [
    "#исследуем зависимость продажи игр от платформы на которой они продается\n",
    "#создадим сводную таблицу,в которой сгруппируем данные по столбцу 'platform'\n",
    "sales_by_platform = df.pivot_table(index = 'platform', \n",
    "                                   values = 'total_sales', \n",
    "                                   aggfunc = 'sum').sort_values(by='total_sales', ascending=False)\n",
    "\n",
    "#на графике отразим млн проданных копий\n",
    "sales_by_platform = sales_by_platform.query('total_sales > 100')\n",
    "sales_by_platform.plot(y = 'total_sales', kind = 'pie', figsize=(10, 15))\n",
    "plt.legend(title = 'Исследование продаж по платформам')\n",
    "plt.show()"
   ]
  },
  {
   "cell_type": "markdown",
   "metadata": {},
   "source": [
    "По полученным данным мы можем сделать вывод о том, что платформы: PS2, X360, PS3, Wii, DS, PS имеют наибольшие суммарные продажами. Дальнейшее исследование мы будем проводить только по этим платформам."
   ]
  },
  {
   "cell_type": "markdown",
   "metadata": {},
   "source": [
    "### Анализ лидирующих по продажам платформ"
   ]
  },
  {
   "cell_type": "code",
   "execution_count": 67,
   "metadata": {},
   "outputs": [
    {
     "data": {
      "text/html": [
       "<div>\n",
       "<style scoped>\n",
       "    .dataframe tbody tr th:only-of-type {\n",
       "        vertical-align: middle;\n",
       "    }\n",
       "\n",
       "    .dataframe tbody tr th {\n",
       "        vertical-align: top;\n",
       "    }\n",
       "\n",
       "    .dataframe thead th {\n",
       "        text-align: right;\n",
       "    }\n",
       "</style>\n",
       "<table border=\"1\" class=\"dataframe\">\n",
       "  <thead>\n",
       "    <tr style=\"text-align: right;\">\n",
       "      <th></th>\n",
       "      <th>name</th>\n",
       "      <th>platform</th>\n",
       "      <th>year_of_release</th>\n",
       "      <th>genre</th>\n",
       "      <th>na_sales</th>\n",
       "      <th>eu_sales</th>\n",
       "      <th>jp_sales</th>\n",
       "      <th>other_sales</th>\n",
       "      <th>critic_score</th>\n",
       "      <th>user_score</th>\n",
       "      <th>rating</th>\n",
       "      <th>total_sales</th>\n",
       "    </tr>\n",
       "  </thead>\n",
       "  <tbody>\n",
       "    <tr>\n",
       "      <th>0</th>\n",
       "      <td>Wii Sports</td>\n",
       "      <td>Wii</td>\n",
       "      <td>2006.0</td>\n",
       "      <td>Sports</td>\n",
       "      <td>41.36</td>\n",
       "      <td>28.96</td>\n",
       "      <td>3.77</td>\n",
       "      <td>8.45</td>\n",
       "      <td>76.0</td>\n",
       "      <td>8.0</td>\n",
       "      <td>E</td>\n",
       "      <td>82.54</td>\n",
       "    </tr>\n",
       "    <tr>\n",
       "      <th>1</th>\n",
       "      <td>Mario Kart Wii</td>\n",
       "      <td>Wii</td>\n",
       "      <td>2008.0</td>\n",
       "      <td>Racing</td>\n",
       "      <td>15.68</td>\n",
       "      <td>12.76</td>\n",
       "      <td>3.79</td>\n",
       "      <td>3.29</td>\n",
       "      <td>82.0</td>\n",
       "      <td>8.3</td>\n",
       "      <td>E</td>\n",
       "      <td>35.52</td>\n",
       "    </tr>\n",
       "    <tr>\n",
       "      <th>2</th>\n",
       "      <td>Wii Sports Resort</td>\n",
       "      <td>Wii</td>\n",
       "      <td>2009.0</td>\n",
       "      <td>Sports</td>\n",
       "      <td>15.61</td>\n",
       "      <td>10.93</td>\n",
       "      <td>3.28</td>\n",
       "      <td>2.95</td>\n",
       "      <td>80.0</td>\n",
       "      <td>8.0</td>\n",
       "      <td>E</td>\n",
       "      <td>32.77</td>\n",
       "    </tr>\n",
       "    <tr>\n",
       "      <th>3</th>\n",
       "      <td>New Super Mario Bros.</td>\n",
       "      <td>DS</td>\n",
       "      <td>2006.0</td>\n",
       "      <td>Platform</td>\n",
       "      <td>11.28</td>\n",
       "      <td>9.14</td>\n",
       "      <td>6.50</td>\n",
       "      <td>2.88</td>\n",
       "      <td>89.0</td>\n",
       "      <td>8.5</td>\n",
       "      <td>E</td>\n",
       "      <td>29.80</td>\n",
       "    </tr>\n",
       "    <tr>\n",
       "      <th>4</th>\n",
       "      <td>Wii Play</td>\n",
       "      <td>Wii</td>\n",
       "      <td>2006.0</td>\n",
       "      <td>Misc</td>\n",
       "      <td>13.96</td>\n",
       "      <td>9.18</td>\n",
       "      <td>2.93</td>\n",
       "      <td>2.84</td>\n",
       "      <td>58.0</td>\n",
       "      <td>6.6</td>\n",
       "      <td>E</td>\n",
       "      <td>28.91</td>\n",
       "    </tr>\n",
       "  </tbody>\n",
       "</table>\n",
       "</div>"
      ],
      "text/plain": [
       "                    name platform  year_of_release     genre  na_sales  \\\n",
       "0             Wii Sports      Wii           2006.0    Sports     41.36   \n",
       "1         Mario Kart Wii      Wii           2008.0    Racing     15.68   \n",
       "2      Wii Sports Resort      Wii           2009.0    Sports     15.61   \n",
       "3  New Super Mario Bros.       DS           2006.0  Platform     11.28   \n",
       "4               Wii Play      Wii           2006.0      Misc     13.96   \n",
       "\n",
       "   eu_sales  jp_sales  other_sales  critic_score  user_score rating  \\\n",
       "0     28.96      3.77         8.45          76.0         8.0      E   \n",
       "1     12.76      3.79         3.29          82.0         8.3      E   \n",
       "2     10.93      3.28         2.95          80.0         8.0      E   \n",
       "3      9.14      6.50         2.88          89.0         8.5      E   \n",
       "4      9.18      2.93         2.84          58.0         6.6      E   \n",
       "\n",
       "   total_sales  \n",
       "0        82.54  \n",
       "1        35.52  \n",
       "2        32.77  \n",
       "3        29.80  \n",
       "4        28.91  "
      ]
     },
     "metadata": {},
     "output_type": "display_data"
    }
   ],
   "source": [
    "#создадим датафрейм с лучшими платформами\n",
    "df_top_platforms = df[df['platform'].isin(['PS2', 'X360', 'PS3', 'Wii', 'DS', 'PS'])].reset_index(drop=True) \n",
    "display(df_top_platforms.head())"
   ]
  },
  {
   "cell_type": "code",
   "execution_count": 68,
   "metadata": {},
   "outputs": [
    {
     "data": {
      "image/png": "[encoded data removed]",
      "text/plain": [
       "<Figure size 1080x504 with 1 Axes>"
      ]
     },
     "metadata": {
      "needs_background": "light"
     },
     "output_type": "display_data"
    }
   ],
   "source": [
    "#построим распределение по годам\n",
    "plt.figure(figsize = (15, 7))\n",
    "plt.xlabel('год выпуска игр на популярных платформах'),\n",
    "plt.ylabel('сумма продаж'),\n",
    "plt.xlim(1995,2017),\n",
    "plt.grid=True\n",
    "sns.lineplot(data=df_top_platforms, \n",
    "             x='year_of_release',  \n",
    "             y = 'total_sales',\n",
    "             hue='platform',\n",
    "             estimator = 'sum',\n",
    "             ci = None\n",
    ")\n",
    "plt.show()"
   ]
  },
  {
   "cell_type": "markdown",
   "metadata": {},
   "source": [
    " - На графике распределения мы видим, что первой популярной платформой была DS, она начала свою работу в 1985 году. Пик продаж пришелся на 2007 год, остановка продаж произошла в 2013 году. **Срок работы платформы составил 28 лет.**\n",
    " - следующая платформа(PS) запустилась спустя 9. Пик продаж был в 1998 году, **платформа проработала 9 лет.**\n",
    " - в 2000 году появилась платформа PS2, можно предположить, что она вытеснила с рынка платформу PS. На данной платформе есть два пика продаж, в 2001 и 2004 годах. Продажи остановились в 2011 году. **Срок работы платформы составил 11 лет.** \n",
    " - практически в одно время, появились платформы Wii(2005), X360(2006) и PS3(2006). В 2009 пик продаж был на платформе Wii и после этого продажи нашли на спад. В 2016 году продажи остановились. У платформы X360 было два пика, в 2008 и 2010 году, к 2016 продажи на платформе прератились. У PS3 было два пика, в 2012 и 2013 году, к 2016 продажи на платформе прератились. **Срок работы платформы Wii - 11 лет. Срок работы платформы X360 - 10 лет. Срок работы платформы PS3 - 10 лет.**\n",
    "\n",
    "**Вывод**\n",
    "\n",
    "Платформа долгожитель - платформа DS. Исходя из данных о других платформах, мы можем сделать вывод о том, что в среднем платформы работают в течение 10 лет. Также, ранее мы определили, что лучший период продаж был с 2006 по 2011 годы, значит мы можем исключить платформу PS из исследования, т.к. продажи прекратились до 2006 года. "
   ]
  },
  {
   "cell_type": "markdown",
   "metadata": {},
   "source": [
    "### Анализ платформ в выбранный актуальный период"
   ]
  },
  {
   "cell_type": "markdown",
   "metadata": {},
   "source": [
    "Для того, чтобы построить прогноз на 2017 год, нам нужно проализировать ситуацию по продажам на платформах за последние два года."
   ]
  },
  {
   "cell_type": "code",
   "execution_count": 69,
   "metadata": {},
   "outputs": [
    {
     "data": {
      "text/html": [
       "<div>\n",
       "<style scoped>\n",
       "    .dataframe tbody tr th:only-of-type {\n",
       "        vertical-align: middle;\n",
       "    }\n",
       "\n",
       "    .dataframe tbody tr th {\n",
       "        vertical-align: top;\n",
       "    }\n",
       "\n",
       "    .dataframe thead th {\n",
       "        text-align: right;\n",
       "    }\n",
       "</style>\n",
       "<table border=\"1\" class=\"dataframe\">\n",
       "  <thead>\n",
       "    <tr style=\"text-align: right;\">\n",
       "      <th></th>\n",
       "      <th>name</th>\n",
       "      <th>platform</th>\n",
       "      <th>year_of_release</th>\n",
       "      <th>genre</th>\n",
       "      <th>na_sales</th>\n",
       "      <th>eu_sales</th>\n",
       "      <th>jp_sales</th>\n",
       "      <th>other_sales</th>\n",
       "      <th>critic_score</th>\n",
       "      <th>user_score</th>\n",
       "      <th>rating</th>\n",
       "      <th>total_sales</th>\n",
       "    </tr>\n",
       "  </thead>\n",
       "  <tbody>\n",
       "    <tr>\n",
       "      <th>0</th>\n",
       "      <td>Call of Duty: Black Ops 3</td>\n",
       "      <td>PS4</td>\n",
       "      <td>2015.0</td>\n",
       "      <td>Shooter</td>\n",
       "      <td>6.03</td>\n",
       "      <td>5.86</td>\n",
       "      <td>0.36</td>\n",
       "      <td>2.38</td>\n",
       "      <td>NaN</td>\n",
       "      <td>NaN</td>\n",
       "      <td>unknown</td>\n",
       "      <td>14.63</td>\n",
       "    </tr>\n",
       "    <tr>\n",
       "      <th>1</th>\n",
       "      <td>FIFA 16</td>\n",
       "      <td>PS4</td>\n",
       "      <td>2015.0</td>\n",
       "      <td>Sports</td>\n",
       "      <td>1.12</td>\n",
       "      <td>6.12</td>\n",
       "      <td>0.06</td>\n",
       "      <td>1.28</td>\n",
       "      <td>82.0</td>\n",
       "      <td>4.3</td>\n",
       "      <td>E</td>\n",
       "      <td>8.58</td>\n",
       "    </tr>\n",
       "    <tr>\n",
       "      <th>2</th>\n",
       "      <td>Star Wars Battlefront (2015)</td>\n",
       "      <td>PS4</td>\n",
       "      <td>2015.0</td>\n",
       "      <td>Shooter</td>\n",
       "      <td>2.99</td>\n",
       "      <td>3.49</td>\n",
       "      <td>0.22</td>\n",
       "      <td>1.28</td>\n",
       "      <td>NaN</td>\n",
       "      <td>NaN</td>\n",
       "      <td>unknown</td>\n",
       "      <td>7.98</td>\n",
       "    </tr>\n",
       "    <tr>\n",
       "      <th>3</th>\n",
       "      <td>FIFA 17</td>\n",
       "      <td>PS4</td>\n",
       "      <td>2016.0</td>\n",
       "      <td>Sports</td>\n",
       "      <td>0.66</td>\n",
       "      <td>5.75</td>\n",
       "      <td>0.08</td>\n",
       "      <td>1.11</td>\n",
       "      <td>85.0</td>\n",
       "      <td>5.0</td>\n",
       "      <td>E</td>\n",
       "      <td>7.60</td>\n",
       "    </tr>\n",
       "    <tr>\n",
       "      <th>4</th>\n",
       "      <td>Call of Duty: Black Ops 3</td>\n",
       "      <td>XOne</td>\n",
       "      <td>2015.0</td>\n",
       "      <td>Shooter</td>\n",
       "      <td>4.59</td>\n",
       "      <td>2.11</td>\n",
       "      <td>0.01</td>\n",
       "      <td>0.68</td>\n",
       "      <td>NaN</td>\n",
       "      <td>NaN</td>\n",
       "      <td>unknown</td>\n",
       "      <td>7.39</td>\n",
       "    </tr>\n",
       "  </tbody>\n",
       "</table>\n",
       "</div>"
      ],
      "text/plain": [
       "                           name platform  year_of_release    genre  na_sales  \\\n",
       "0     Call of Duty: Black Ops 3      PS4           2015.0  Shooter      6.03   \n",
       "1                       FIFA 16      PS4           2015.0   Sports      1.12   \n",
       "2  Star Wars Battlefront (2015)      PS4           2015.0  Shooter      2.99   \n",
       "3                       FIFA 17      PS4           2016.0   Sports      0.66   \n",
       "4     Call of Duty: Black Ops 3     XOne           2015.0  Shooter      4.59   \n",
       "\n",
       "   eu_sales  jp_sales  other_sales  critic_score  user_score   rating  \\\n",
       "0      5.86      0.36         2.38           NaN         NaN  unknown   \n",
       "1      6.12      0.06         1.28          82.0         4.3        E   \n",
       "2      3.49      0.22         1.28           NaN         NaN  unknown   \n",
       "3      5.75      0.08         1.11          85.0         5.0        E   \n",
       "4      2.11      0.01         0.68           NaN         NaN  unknown   \n",
       "\n",
       "   total_sales  \n",
       "0        14.63  \n",
       "1         8.58  \n",
       "2         7.98  \n",
       "3         7.60  \n",
       "4         7.39  "
      ]
     },
     "metadata": {},
     "output_type": "display_data"
    },
    {
     "data": {
      "image/png": "[encoded data removed]",
      "text/plain": [
       "<Figure size 1080x504 with 1 Axes>"
      ]
     },
     "metadata": {
      "needs_background": "light"
     },
     "output_type": "display_data"
    }
   ],
   "source": [
    "#создадим датафрем с актуальными данными\n",
    "df_actual = df.query('year_of_release>2014').reset_index(drop=True)\n",
    "display(df_actual.head())\n",
    "#построим график продаж\n",
    "#построим распределение по годам\n",
    "plt.figure(figsize = (15, 7))\n",
    "plt.xlabel('год выпуска игр на популярных платформах'),\n",
    "plt.ylabel('сумма продаж'),\n",
    "plt.xlim(2015,2016),\n",
    "plt.grid=True\n",
    "sns.lineplot(data=df_actual, \n",
    "             x='year_of_release',  \n",
    "             y = 'total_sales',\n",
    "             hue='platform',\n",
    "             estimator = 'sum',\n",
    "             ci = None\n",
    ")\n",
    "\n",
    "plt.show()"
   ]
  },
  {
   "cell_type": "markdown",
   "metadata": {},
   "source": [
    "Исходя из графика мы видим, что потенциально прибыльными платформами являются PS4,XOne,3DS. В 2015 году у этих трех платформ были самые высокие продажи. Снижение продаж на платформе 3DS идет медленно и равномерно, есть вероятность, что при правильном выборе продукта и спланированной рекламной компании эта платформа сможет продержаться на плаву. Также стоит отметить, что к 2016 году на остальных платформах продажи либо остановились, либо приблизись к нулю."
   ]
  },
  {
   "cell_type": "markdown",
   "metadata": {},
   "source": [
    "### График \"ящик с усами\" по глобальным продажам игр в разбивке по платформам за актуальный период"
   ]
  },
  {
   "cell_type": "code",
   "execution_count": 70,
   "metadata": {},
   "outputs": [
    {
     "data": {
      "text/plain": [
       "(0.0, 2.0)"
      ]
     },
     "execution_count": 70,
     "metadata": {},
     "output_type": "execute_result"
    },
    {
     "data": {
      "image/png": "[encoded data removed]",
      "text/plain": [
       "<Figure size 1080x720 with 1 Axes>"
      ]
     },
     "metadata": {
      "needs_background": "light"
     },
     "output_type": "display_data"
    }
   ],
   "source": [
    "#построим график \"ящик с усами\" по глобальным продажам игр \n",
    "df_actual.pivot_table(index = ['name'], \n",
    "               columns = 'platform',\n",
    "               values = 'total_sales', \n",
    "               aggfunc = 'sum').reset_index().boxplot(figsize = (15, 10))\n",
    "plt.ylim(0, 2)"
   ]
  },
  {
   "cell_type": "markdown",
   "metadata": {},
   "source": [
    "При анализе графика мы видим, что наиболее успешные игры выпускались на платформах 3DS, PS4, X0ne. На данных платформах есть игры у которых количество проданных экземпляров привышает 6тясяч копий, а на платфоре PS4 игра была продана более 14 тысяч раз, это Call of Duty: Black Ops 3. Судя по графику наибольшее значение медианы было на платформе WiiU, также можно отметить платформы 3DS,PS4,Wii,WiiU,X360,XOne. \n"
   ]
  },
  {
   "cell_type": "markdown",
   "metadata": {},
   "source": [
    "### Анализ влияния отзывов пользователей и критиков на продажи "
   ]
  },
  {
   "cell_type": "markdown",
   "metadata": {},
   "source": [
    "Для анализа мы выбираем потенциально прибыльную платформу - PS4. Рассмотрим, как влияют на продажи внутри одной популярной платформы отзывы пользователей и критиков. Построим диаграмму рассеяния и\n",
    "посчитаем корреляцию между отзывами и продажами."
   ]
  },
  {
   "cell_type": "code",
   "execution_count": 71,
   "metadata": {
    "scrolled": true
   },
   "outputs": [
    {
     "data": {
      "text/html": [
       "<div>\n",
       "<style scoped>\n",
       "    .dataframe tbody tr th:only-of-type {\n",
       "        vertical-align: middle;\n",
       "    }\n",
       "\n",
       "    .dataframe tbody tr th {\n",
       "        vertical-align: top;\n",
       "    }\n",
       "\n",
       "    .dataframe thead th {\n",
       "        text-align: right;\n",
       "    }\n",
       "</style>\n",
       "<table border=\"1\" class=\"dataframe\">\n",
       "  <thead>\n",
       "    <tr style=\"text-align: right;\">\n",
       "      <th></th>\n",
       "      <th>name</th>\n",
       "      <th>platform</th>\n",
       "      <th>year_of_release</th>\n",
       "      <th>genre</th>\n",
       "      <th>na_sales</th>\n",
       "      <th>eu_sales</th>\n",
       "      <th>jp_sales</th>\n",
       "      <th>other_sales</th>\n",
       "      <th>critic_score</th>\n",
       "      <th>user_score</th>\n",
       "      <th>rating</th>\n",
       "      <th>total_sales</th>\n",
       "    </tr>\n",
       "  </thead>\n",
       "  <tbody>\n",
       "    <tr>\n",
       "      <th>0</th>\n",
       "      <td>Call of Duty: Black Ops 3</td>\n",
       "      <td>PS4</td>\n",
       "      <td>2015.0</td>\n",
       "      <td>Shooter</td>\n",
       "      <td>6.03</td>\n",
       "      <td>5.86</td>\n",
       "      <td>0.36</td>\n",
       "      <td>2.38</td>\n",
       "      <td>NaN</td>\n",
       "      <td>NaN</td>\n",
       "      <td>unknown</td>\n",
       "      <td>14.63</td>\n",
       "    </tr>\n",
       "    <tr>\n",
       "      <th>1</th>\n",
       "      <td>FIFA 16</td>\n",
       "      <td>PS4</td>\n",
       "      <td>2015.0</td>\n",
       "      <td>Sports</td>\n",
       "      <td>1.12</td>\n",
       "      <td>6.12</td>\n",
       "      <td>0.06</td>\n",
       "      <td>1.28</td>\n",
       "      <td>82.0</td>\n",
       "      <td>4.3</td>\n",
       "      <td>E</td>\n",
       "      <td>8.58</td>\n",
       "    </tr>\n",
       "    <tr>\n",
       "      <th>2</th>\n",
       "      <td>Star Wars Battlefront (2015)</td>\n",
       "      <td>PS4</td>\n",
       "      <td>2015.0</td>\n",
       "      <td>Shooter</td>\n",
       "      <td>2.99</td>\n",
       "      <td>3.49</td>\n",
       "      <td>0.22</td>\n",
       "      <td>1.28</td>\n",
       "      <td>NaN</td>\n",
       "      <td>NaN</td>\n",
       "      <td>unknown</td>\n",
       "      <td>7.98</td>\n",
       "    </tr>\n",
       "    <tr>\n",
       "      <th>3</th>\n",
       "      <td>FIFA 17</td>\n",
       "      <td>PS4</td>\n",
       "      <td>2016.0</td>\n",
       "      <td>Sports</td>\n",
       "      <td>0.66</td>\n",
       "      <td>5.75</td>\n",
       "      <td>0.08</td>\n",
       "      <td>1.11</td>\n",
       "      <td>85.0</td>\n",
       "      <td>5.0</td>\n",
       "      <td>E</td>\n",
       "      <td>7.60</td>\n",
       "    </tr>\n",
       "    <tr>\n",
       "      <th>4</th>\n",
       "      <td>Fallout 4</td>\n",
       "      <td>PS4</td>\n",
       "      <td>2015.0</td>\n",
       "      <td>Role-Playing</td>\n",
       "      <td>2.53</td>\n",
       "      <td>3.27</td>\n",
       "      <td>0.24</td>\n",
       "      <td>1.13</td>\n",
       "      <td>87.0</td>\n",
       "      <td>6.5</td>\n",
       "      <td>M</td>\n",
       "      <td>7.17</td>\n",
       "    </tr>\n",
       "  </tbody>\n",
       "</table>\n",
       "</div>"
      ],
      "text/plain": [
       "                           name platform  year_of_release         genre  \\\n",
       "0     Call of Duty: Black Ops 3      PS4           2015.0       Shooter   \n",
       "1                       FIFA 16      PS4           2015.0        Sports   \n",
       "2  Star Wars Battlefront (2015)      PS4           2015.0       Shooter   \n",
       "3                       FIFA 17      PS4           2016.0        Sports   \n",
       "4                     Fallout 4      PS4           2015.0  Role-Playing   \n",
       "\n",
       "   na_sales  eu_sales  jp_sales  other_sales  critic_score  user_score  \\\n",
       "0      6.03      5.86      0.36         2.38           NaN         NaN   \n",
       "1      1.12      6.12      0.06         1.28          82.0         4.3   \n",
       "2      2.99      3.49      0.22         1.28           NaN         NaN   \n",
       "3      0.66      5.75      0.08         1.11          85.0         5.0   \n",
       "4      2.53      3.27      0.24         1.13          87.0         6.5   \n",
       "\n",
       "    rating  total_sales  \n",
       "0  unknown        14.63  \n",
       "1        E         8.58  \n",
       "2  unknown         7.98  \n",
       "3        E         7.60  \n",
       "4        M         7.17  "
      ]
     },
     "metadata": {},
     "output_type": "display_data"
    }
   ],
   "source": [
    "#создадим новый датафрейм с данными платформы PS4\n",
    "df_ps4 = df_actual.query('platform == \"PS4\"').reset_index(drop=True)\n",
    "display(df_ps4.head())"
   ]
  },
  {
   "cell_type": "code",
   "execution_count": 72,
   "metadata": {},
   "outputs": [
    {
     "data": {
      "text/html": [
       "<style  type=\"text/css\" >\n",
       "#T_4e7d8_row0_col0{\n",
       "            background-color:  #b40426;\n",
       "            color:  #f1f1f1;\n",
       "        }#T_4e7d8_row1_col0{\n",
       "            background-color:  #3b4cc0;\n",
       "            color:  #f1f1f1;\n",
       "        }</style><table id=\"T_4e7d8_\" ><thead>    <tr>        <th class=\"blank level0\" ></th>        <th class=\"col_heading level0 col0\" >0</th>    </tr></thead><tbody>\n",
       "                <tr>\n",
       "                        <th id=\"T_4e7d8_level0_row0\" class=\"row_heading level0 row0\" >critic_score</th>\n",
       "                        <td id=\"T_4e7d8_row0_col0\" class=\"data row0 col0\" >38.540000</td>\n",
       "            </tr>\n",
       "            <tr>\n",
       "                        <th id=\"T_4e7d8_level0_row1\" class=\"row_heading level0 row1\" >user_score</th>\n",
       "                        <td id=\"T_4e7d8_row1_col0\" class=\"data row1 col0\" >36.880000</td>\n",
       "            </tr>\n",
       "    </tbody></table>"
      ],
      "text/plain": [
       "<pandas.io.formats.style.Styler at 0x7f5c30bb9cd0>"
      ]
     },
     "execution_count": 72,
     "metadata": {},
     "output_type": "execute_result"
    }
   ],
   "source": [
    "#посчитаем процент пропущенных значений в столбце critic_score, user_score\n",
    "pd.DataFrame(round((df_ps4[['critic_score', 'user_score']].isna().mean()*100),2)).style.background_gradient('coolwarm')"
   ]
  },
  {
   "cell_type": "markdown",
   "metadata": {},
   "source": [
    "Процентрая доля пропусков в обоих столбцах достаточно высокая. Заполнить пропуски самостоятельно мы не можем, поэтому будем проводить анализ по исходным данным."
   ]
  },
  {
   "cell_type": "code",
   "execution_count": 73,
   "metadata": {},
   "outputs": [
    {
     "data": {
      "image/png": "[encoded data removed]",
      "text/plain": [
       "<Figure size 432x720 with 2 Axes>"
      ]
     },
     "metadata": {
      "needs_background": "light"
     },
     "output_type": "display_data"
    },
    {
     "name": "stdout",
     "output_type": "stream",
     "text": [
      "Корреляция между отзывами пользователей и продажами составила: -0.05973845712638215\n",
      "Корреляция между отзывами критиков и продажами составила: 0.3928485555130601\n"
     ]
    }
   ],
   "source": [
    "fig, ax = plt.subplots(2,figsize=(6,10))\n",
    "\n",
    "ax[0].scatter(x = df_ps4['user_score'], y = df_ps4['total_sales'])\n",
    "ax[0].set_xlabel('Оценка пользователей')\n",
    "ax[0].set_ylabel('Кол-во продаж')\n",
    "ax[0].set_title('ОВлияние отзывов пользователей на продажи')\n",
    "\n",
    "\n",
    "ax[1].scatter(x = df_ps4['critic_score'], y = df_ps4['total_sales'])\n",
    "ax[1].set_xlabel('Оценка критиков')\n",
    "ax[1].set_ylabel('Кол-во продаж')\n",
    "ax[1].set_title('Влияние отзывов критиков на продажи')\n",
    "\n",
    "plt.show()\n",
    "\n",
    "correlation_user = df_ps4['total_sales'].corr(df_ps4['user_score'])\n",
    "correlation_critic = df_ps4['total_sales'].corr(df_ps4['critic_score'])\n",
    "print('Корреляция между отзывами пользователей и продажами составила:', correlation_user)\n",
    "print('Корреляция между отзывами критиков и продажами составила:', correlation_critic)\n"
   ]
  },
  {
   "cell_type": "markdown",
   "metadata": {},
   "source": [
    "**Вывод**\n",
    "Мы знаем, что коэффициент Пирсона отрицательный, если рост одной  величины связан с уменьшением другой, а также что, если значение близко к нулю, линейная связь слабая либо отсутсвует вовсе. Значит, отзывы пользователей слабо влияют на количество продаж.\n",
    "\n",
    "В случае с отзывами критиков и количеством продаж, мы можем сделать вывод о том, что линейная связь есть, но не очень сильная.Коэффициент Пирсона положительный, а значит, с ростом первой величины растет вторая."
   ]
  },
  {
   "cell_type": "markdown",
   "metadata": {},
   "source": [
    "### Рассмотрим зависимость отзывов от продаж для других популярных платформ"
   ]
  },
  {
   "cell_type": "code",
   "execution_count": 74,
   "metadata": {},
   "outputs": [],
   "source": [
    "#напишем универсальную функцию, которая будет выводить значения для каждой платформы\n",
    "def score_function(name_platform):\n",
    "    df_platform = df_actual.query('platform == @name_platform')\n",
    "    fig, ax = plt.subplots(2,figsize=(6,10))\n",
    "    \n",
    "    ax[0].scatter(x = df_platform['user_score'], y = df_platform['total_sales'])\n",
    "    ax[0].set_xlabel('Оценка пользователей')\n",
    "    ax[0].set_ylabel('Кол-во продаж')\n",
    "\n",
    "    ax[1].scatter(x = df_platform['critic_score'], y = df_platform['total_sales'])\n",
    "    ax[1].set_xlabel('Оценка критиков')\n",
    "    ax[1].set_ylabel('Кол-во продаж')\n",
    "    \n",
    "    correlation_user = df_platform['total_sales'].corr(df_platform['user_score'])\n",
    "    correlation_critic = df_platform['total_sales'].corr(df_platform['critic_score'])\n",
    "    print('Корреляция между отзывами пользователей и продажами составила:', correlation_user)\n",
    "    print('Корреляция между отзывами критиков и продажами составила:', correlation_critic)\n",
    "   "
   ]
  },
  {
   "cell_type": "code",
   "execution_count": 75,
   "metadata": {},
   "outputs": [
    {
     "name": "stdout",
     "output_type": "stream",
     "text": [
      "Корреляция между отзывами пользователей и продажами составила: 0.36351857248094444\n",
      "Корреляция между отзывами критиков и продажами составила: 0.31704571176962204\n"
     ]
    },
    {
     "data": {
      "image/png": "[encoded data removed]",
      "text/plain": [
       "<Figure size 432x720 with 2 Axes>"
      ]
     },
     "metadata": {
      "needs_background": "light"
     },
     "output_type": "display_data"
    }
   ],
   "source": [
    "#для платформы WiiU\n",
    "score_function('WiiU') "
   ]
  },
  {
   "cell_type": "code",
   "execution_count": 76,
   "metadata": {},
   "outputs": [
    {
     "name": "stdout",
     "output_type": "stream",
     "text": [
      "Корреляция между отзывами пользователей и продажами составила: 0.19879627008102985\n",
      "Корреляция между отзывами критиков и продажами составила: 0.17757455046092874\n"
     ]
    },
    {
     "data": {
      "image/png": "[encoded data removed]",
      "text/plain": [
       "<Figure size 432x720 with 2 Axes>"
      ]
     },
     "metadata": {
      "needs_background": "light"
     },
     "output_type": "display_data"
    }
   ],
   "source": [
    "#для платформы 3DS\n",
    "score_function('3DS') "
   ]
  },
  {
   "cell_type": "markdown",
   "metadata": {},
   "source": [
    "Как мы видим, и для других потенциально прибыльных платформ коэффициент Пирсона близок к нулю, что говорит о слабой линейной связи величин. Поэтому мы можем сделать вывод о том, что отзывы критиков и пользователей практически не влияют на продажи."
   ]
  },
  {
   "cell_type": "markdown",
   "metadata": {},
   "source": [
    "### Анализ общего распределение игр по жанрам"
   ]
  },
  {
   "cell_type": "code",
   "execution_count": 77,
   "metadata": {
    "scrolled": true
   },
   "outputs": [
    {
     "data": {
      "text/plain": [
       "Action          431\n",
       "Role-Playing    132\n",
       "Adventure       110\n",
       "Sports          107\n",
       "Shooter          81\n",
       "Misc             71\n",
       "Racing           42\n",
       "Fighting         37\n",
       "Simulation       33\n",
       "Strategy         29\n",
       "Platform         28\n",
       "Puzzle            7\n",
       "Name: genre, dtype: int64"
      ]
     },
     "execution_count": 77,
     "metadata": {},
     "output_type": "execute_result"
    }
   ],
   "source": [
    "#посмотрим на общее распределение игр по жанрам\n",
    "df_actual['genre'].value_counts() "
   ]
  },
  {
   "cell_type": "code",
   "execution_count": 78,
   "metadata": {},
   "outputs": [
    {
     "name": "stdout",
     "output_type": "stream",
     "text": [
      "Доля action_games в столбце genre составляет: 38.9%\n"
     ]
    }
   ],
   "source": [
    "#определим долю игр в жанре action\n",
    "action_games = df_actual[df_actual['genre']=='Action']['genre'].count()\n",
    "action_games_share = action_games/df_actual.shape[0]\n",
    "print(f'Доля action_games в столбце genre составляет: {action_games_share:.1%}')"
   ]
  },
  {
   "cell_type": "markdown",
   "metadata": {},
   "source": [
    "Судя по полученным данным мы можем сделать вывод о том, что самыми популярными жанрами являются: Action, Role-Playing и Adventure. В этих жанрах выпускается наибольшее количество игр."
   ]
  },
  {
   "cell_type": "markdown",
   "metadata": {},
   "source": [
    "#### Определим самые прибыльные жанры"
   ]
  },
  {
   "cell_type": "markdown",
   "metadata": {},
   "source": [
    "Т.к. количество игр разное для каждогожанра, суммарную прибыль считать мы не будем, ведь чем больше игр в определенном жанре, тем больше прибыль. Поэтому посчитаем прибыль в среднем для каждого жанра."
   ]
  },
  {
   "cell_type": "code",
   "execution_count": 79,
   "metadata": {
    "scrolled": true
   },
   "outputs": [
    {
     "data": {
      "text/html": [
       "<div>\n",
       "<style scoped>\n",
       "    .dataframe tbody tr th:only-of-type {\n",
       "        vertical-align: middle;\n",
       "    }\n",
       "\n",
       "    .dataframe tbody tr th {\n",
       "        vertical-align: top;\n",
       "    }\n",
       "\n",
       "    .dataframe thead th {\n",
       "        text-align: right;\n",
       "    }\n",
       "</style>\n",
       "<table border=\"1\" class=\"dataframe\">\n",
       "  <thead>\n",
       "    <tr style=\"text-align: right;\">\n",
       "      <th></th>\n",
       "      <th>total_sales</th>\n",
       "    </tr>\n",
       "    <tr>\n",
       "      <th>genre</th>\n",
       "      <th></th>\n",
       "    </tr>\n",
       "  </thead>\n",
       "  <tbody>\n",
       "    <tr>\n",
       "      <th>Shooter</th>\n",
       "      <td>1.305309</td>\n",
       "    </tr>\n",
       "    <tr>\n",
       "      <th>Sports</th>\n",
       "      <td>0.601215</td>\n",
       "    </tr>\n",
       "    <tr>\n",
       "      <th>Role-Playing</th>\n",
       "      <td>0.422879</td>\n",
       "    </tr>\n",
       "    <tr>\n",
       "      <th>Fighting</th>\n",
       "      <td>0.334324</td>\n",
       "    </tr>\n",
       "    <tr>\n",
       "      <th>Platform</th>\n",
       "      <td>0.331429</td>\n",
       "    </tr>\n",
       "    <tr>\n",
       "      <th>Racing</th>\n",
       "      <td>0.258571</td>\n",
       "    </tr>\n",
       "    <tr>\n",
       "      <th>Action</th>\n",
       "      <td>0.236961</td>\n",
       "    </tr>\n",
       "    <tr>\n",
       "      <th>Simulation</th>\n",
       "      <td>0.228788</td>\n",
       "    </tr>\n",
       "    <tr>\n",
       "      <th>Misc</th>\n",
       "      <td>0.199577</td>\n",
       "    </tr>\n",
       "    <tr>\n",
       "      <th>Adventure</th>\n",
       "      <td>0.108909</td>\n",
       "    </tr>\n",
       "    <tr>\n",
       "      <th>Puzzle</th>\n",
       "      <td>0.102857</td>\n",
       "    </tr>\n",
       "    <tr>\n",
       "      <th>Strategy</th>\n",
       "      <td>0.102759</td>\n",
       "    </tr>\n",
       "  </tbody>\n",
       "</table>\n",
       "</div>"
      ],
      "text/plain": [
       "              total_sales\n",
       "genre                    \n",
       "Shooter          1.305309\n",
       "Sports           0.601215\n",
       "Role-Playing     0.422879\n",
       "Fighting         0.334324\n",
       "Platform         0.331429\n",
       "Racing           0.258571\n",
       "Action           0.236961\n",
       "Simulation       0.228788\n",
       "Misc             0.199577\n",
       "Adventure        0.108909\n",
       "Puzzle           0.102857\n",
       "Strategy         0.102759"
      ]
     },
     "execution_count": 79,
     "metadata": {},
     "output_type": "execute_result"
    }
   ],
   "source": [
    "df_actual.pivot_table(index='genre', values='total_sales', aggfunc='mean').sort_values(by='total_sales',ascending=False)"
   ]
  },
  {
   "cell_type": "code",
   "execution_count": 80,
   "metadata": {},
   "outputs": [
    {
     "data": {
      "image/png": "[encoded data removed]",
      "text/plain": [
       "<Figure size 432x720 with 1 Axes>"
      ]
     },
     "metadata": {
      "needs_background": "light"
     },
     "output_type": "display_data"
    }
   ],
   "source": [
    "fig, ax = plt.subplots(figsize=(6,10))\n",
    "\n",
    "ax.barh(df_actual.genre, df_actual.total_sales)\n",
    "ax.set_title('Самые прибыльные жанры')\n",
    "ax.set_ylabel('жанры')\n",
    "ax.set_xlabel('Кол-во продаж')\n",
    "plt.tight_layout()"
   ]
  },
  {
   "cell_type": "markdown",
   "metadata": {},
   "source": [
    "По расчетам видно, что самыми прибыльными жанрами можно считать: Shooter, Sports и Role-Playing.\n",
    "Наименнее прибыльные жанры: Strategy, Puzzle, Misc.\t\n",
    "\n",
    "Возможно данные жанры игр попуkярны, потому что позволяют выплеснуть энергию, особо не прилагая умственных способностей, \"разгрузить мозг\", \"сбросить напряжение\". Для многих игры как раз и являютс средством отдыха."
   ]
  },
  {
   "cell_type": "markdown",
   "metadata": {},
   "source": [
    "## Портрета пользователя каждого региона"
   ]
  },
  {
   "cell_type": "markdown",
   "metadata": {},
   "source": [
    "### Самых популярные платформы для каждого региона. Различия в долях продаж."
   ]
  },
  {
   "cell_type": "code",
   "execution_count": 81,
   "metadata": {
    "scrolled": true
   },
   "outputs": [],
   "source": [
    "def popular_platform(quality, region):\n",
    "    result = df_actual.pivot_table(index=quality, values=[region, 'total_sales'], aggfunc='sum').sort_values(by=region,ascending=False).reset_index()\n",
    "    result['share'] = round(result[region]/result['total_sales'],2)\n",
    "    return result.head()"
   ]
  },
  {
   "cell_type": "code",
   "execution_count": 82,
   "metadata": {
    "scrolled": true
   },
   "outputs": [],
   "source": [
    "# доля продаж в Северной Америке\n",
    "na_share = popular_platform('platform', 'na_sales')"
   ]
  },
  {
   "cell_type": "code",
   "execution_count": 83,
   "metadata": {},
   "outputs": [
    {
     "data": {
      "image/png": "[encoded data removed]",
      "text/plain": [
       "<Figure size 288x432 with 1 Axes>"
      ]
     },
     "metadata": {
      "needs_background": "light"
     },
     "output_type": "display_data"
    }
   ],
   "source": [
    "#построим горизонтальную столбчатую диаграмму\n",
    "fig, ax = plt.subplots(figsize=(4,6))\n",
    "\n",
    "ax.barh(na_share.platform, na_share.share)\n",
    "ax.set_title('Самые популярные платформы Северной Америки')\n",
    "ax.set_ylabel('Платформа')\n",
    "ax.set_xlabel('Доля')\n",
    "plt.tight_layout()"
   ]
  },
  {
   "cell_type": "markdown",
   "metadata": {},
   "source": [
    "**Северная Америка**\n",
    "- самыми популярными платформами в Северной Америке являются:  PS4, XOne, 3DS, Wii X360;\n",
    "- доля продаж в Северной Америке от общей доли продаж для платформ XOne\tи X360 составила 60%;\n",
    "- для платформы WiiU доля продаж составила 40%;\n",
    "- для платформы PS4\t - 30%;\n",
    "- для платформы 3DS\t - 20%.\n",
    "\n",
    "Таким образом, мы видим, что самыми популярными в Северной Америке являются платформы американской компании Microsoft."
   ]
  },
  {
   "cell_type": "code",
   "execution_count": 84,
   "metadata": {
    "scrolled": true
   },
   "outputs": [],
   "source": [
    "#продажи в Европе\n",
    "eu_share = popular_platform('platform', 'eu_sales')"
   ]
  },
  {
   "cell_type": "code",
   "execution_count": 85,
   "metadata": {},
   "outputs": [
    {
     "data": {
      "image/png": "[encoded data removed]",
      "text/plain": [
       "<Figure size 288x432 with 1 Axes>"
      ]
     },
     "metadata": {
      "needs_background": "light"
     },
     "output_type": "display_data"
    }
   ],
   "source": [
    "#построим горизонтальную столбчатую диаграмму\n",
    "fig, ax = plt.subplots(figsize=(4,6))\n",
    "\n",
    "ax.barh(eu_share.platform, eu_share.share)\n",
    "ax.set_title('Самые популярные платформы Северной Америки')\n",
    "ax.set_ylabel('Платформа')\n",
    "ax.set_xlabel('Доля')\n",
    "plt.tight_layout()"
   ]
  },
  {
   "cell_type": "markdown",
   "metadata": {},
   "source": [
    "**Европа**\n",
    "\n",
    "- самыми популярными платформами в Европе являются: PS4, XOne, PC, 3DS, PS3;\n",
    "- доля продаж в Европе от общей доли продаж для платформы PC составила 70%;\n",
    "- для платформ PS4 и PS3  доля продаж составила 40%;\n",
    "- для платформы XOne - 30%;\n",
    "- для платформы 3DS - 20%.\n",
    "\n",
    "Делаем вывод о том, что в Европе самой прибыльной платформой является платорма PC."
   ]
  },
  {
   "cell_type": "code",
   "execution_count": 86,
   "metadata": {
    "scrolled": true
   },
   "outputs": [],
   "source": [
    "#продажи в Японии\n",
    "jp_share = popular_platform('platform', 'jp_sales')"
   ]
  },
  {
   "cell_type": "code",
   "execution_count": 87,
   "metadata": {},
   "outputs": [
    {
     "data": {
      "image/png": "[encoded data removed]",
      "text/plain": [
       "<Figure size 288x432 with 1 Axes>"
      ]
     },
     "metadata": {
      "needs_background": "light"
     },
     "output_type": "display_data"
    }
   ],
   "source": [
    "#построим горизонтальную столбчатую диаграмму\n",
    "fig, ax = plt.subplots(figsize=(4,6))\n",
    "\n",
    "ax.barh(jp_share.platform, jp_share.share)\n",
    "ax.set_title('Самые популярные платформы Северной Америки')\n",
    "ax.set_ylabel('Платформа')\n",
    "ax.set_xlabel('Доля')\n",
    "plt.tight_layout()"
   ]
  },
  {
   "cell_type": "markdown",
   "metadata": {},
   "source": [
    "**Япония**\n",
    "\n",
    "- самыми популярными платформами в Япониие являются: 3DS, PS4, PSV,\tPS3, WiiU;\n",
    "- доля продаж в Японии от общей доли продаж для платформы PSV составила 80%;\n",
    "- для платформы 3DS доля продаж составила 50%;\n",
    "- для платформ PS3 и WiiU - 20%;\n",
    "- для платформ PS4 - 10%.\n",
    "\n",
    "Делаем вывод о том, что в Японии самой прибыльной платформой является платорма японской компании Sony."
   ]
  },
  {
   "cell_type": "markdown",
   "metadata": {},
   "source": [
    "### Самые популярные жанры (топ-5)."
   ]
  },
  {
   "cell_type": "code",
   "execution_count": 88,
   "metadata": {
    "scrolled": false
   },
   "outputs": [
    {
     "data": {
      "text/html": [
       "<div>\n",
       "<style scoped>\n",
       "    .dataframe tbody tr th:only-of-type {\n",
       "        vertical-align: middle;\n",
       "    }\n",
       "\n",
       "    .dataframe tbody tr th {\n",
       "        vertical-align: top;\n",
       "    }\n",
       "\n",
       "    .dataframe thead th {\n",
       "        text-align: right;\n",
       "    }\n",
       "</style>\n",
       "<table border=\"1\" class=\"dataframe\">\n",
       "  <thead>\n",
       "    <tr style=\"text-align: right;\">\n",
       "      <th></th>\n",
       "      <th>genre</th>\n",
       "      <th>na_sales</th>\n",
       "      <th>total_sales</th>\n",
       "      <th>share</th>\n",
       "    </tr>\n",
       "  </thead>\n",
       "  <tbody>\n",
       "    <tr>\n",
       "      <th>0</th>\n",
       "      <td>Shooter</td>\n",
       "      <td>48.18</td>\n",
       "      <td>105.73</td>\n",
       "      <td>0.46</td>\n",
       "    </tr>\n",
       "    <tr>\n",
       "      <th>1</th>\n",
       "      <td>Action</td>\n",
       "      <td>33.68</td>\n",
       "      <td>102.13</td>\n",
       "      <td>0.33</td>\n",
       "    </tr>\n",
       "    <tr>\n",
       "      <th>2</th>\n",
       "      <td>Sports</td>\n",
       "      <td>26.31</td>\n",
       "      <td>64.33</td>\n",
       "      <td>0.41</td>\n",
       "    </tr>\n",
       "    <tr>\n",
       "      <th>3</th>\n",
       "      <td>Role-Playing</td>\n",
       "      <td>19.82</td>\n",
       "      <td>55.82</td>\n",
       "      <td>0.36</td>\n",
       "    </tr>\n",
       "    <tr>\n",
       "      <th>4</th>\n",
       "      <td>Misc</td>\n",
       "      <td>5.58</td>\n",
       "      <td>14.17</td>\n",
       "      <td>0.39</td>\n",
       "    </tr>\n",
       "  </tbody>\n",
       "</table>\n",
       "</div>"
      ],
      "text/plain": [
       "          genre  na_sales  total_sales  share\n",
       "0       Shooter     48.18       105.73   0.46\n",
       "1        Action     33.68       102.13   0.33\n",
       "2        Sports     26.31        64.33   0.41\n",
       "3  Role-Playing     19.82        55.82   0.36\n",
       "4          Misc      5.58        14.17   0.39"
      ]
     },
     "metadata": {},
     "output_type": "display_data"
    }
   ],
   "source": [
    "# в Северной Америке\n",
    "na_genre = popular_platform('genre', 'na_sales')\n",
    "display(na_genre)"
   ]
  },
  {
   "cell_type": "code",
   "execution_count": 89,
   "metadata": {},
   "outputs": [
    {
     "data": {
      "image/png": "[encoded data removed]",
      "text/plain": [
       "<Figure size 288x432 with 1 Axes>"
      ]
     },
     "metadata": {
      "needs_background": "light"
     },
     "output_type": "display_data"
    }
   ],
   "source": [
    "#построим горизонтальную столбчатую диаграмму\n",
    "fig, ax = plt.subplots(figsize=(4,6))\n",
    "\n",
    "ax.barh(na_genre.genre, na_genre.share)\n",
    "ax.set_title('Самые популярные жанры Северной Америки')\n",
    "ax.set_ylabel('Жанр')\n",
    "ax.set_xlabel('Доля')\n",
    "plt.tight_layout()"
   ]
  },
  {
   "cell_type": "markdown",
   "metadata": {},
   "source": [
    "**Северная Америка**\n",
    "- самыми популярными жанрами в Северной Америке являются: Action, Shooter, Sports, Role-Playing и Misc;\n",
    "- доля продаж в Северной Америке от общей доли продаж для жанра Shooter составила 50%;\n",
    "- для жанров Sports, Role-Playing и Misc доля продаж составила 40%;\n",
    "- для жанра Action - 30%."
   ]
  },
  {
   "cell_type": "code",
   "execution_count": 90,
   "metadata": {
    "scrolled": false
   },
   "outputs": [
    {
     "data": {
      "text/html": [
       "<div>\n",
       "<style scoped>\n",
       "    .dataframe tbody tr th:only-of-type {\n",
       "        vertical-align: middle;\n",
       "    }\n",
       "\n",
       "    .dataframe tbody tr th {\n",
       "        vertical-align: top;\n",
       "    }\n",
       "\n",
       "    .dataframe thead th {\n",
       "        text-align: right;\n",
       "    }\n",
       "</style>\n",
       "<table border=\"1\" class=\"dataframe\">\n",
       "  <thead>\n",
       "    <tr style=\"text-align: right;\">\n",
       "      <th></th>\n",
       "      <th>genre</th>\n",
       "      <th>eu_sales</th>\n",
       "      <th>total_sales</th>\n",
       "      <th>share</th>\n",
       "    </tr>\n",
       "  </thead>\n",
       "  <tbody>\n",
       "    <tr>\n",
       "      <th>0</th>\n",
       "      <td>Shooter</td>\n",
       "      <td>40.28</td>\n",
       "      <td>105.73</td>\n",
       "      <td>0.38</td>\n",
       "    </tr>\n",
       "    <tr>\n",
       "      <th>1</th>\n",
       "      <td>Action</td>\n",
       "      <td>34.82</td>\n",
       "      <td>102.13</td>\n",
       "      <td>0.34</td>\n",
       "    </tr>\n",
       "    <tr>\n",
       "      <th>2</th>\n",
       "      <td>Sports</td>\n",
       "      <td>27.82</td>\n",
       "      <td>64.33</td>\n",
       "      <td>0.43</td>\n",
       "    </tr>\n",
       "    <tr>\n",
       "      <th>3</th>\n",
       "      <td>Role-Playing</td>\n",
       "      <td>17.21</td>\n",
       "      <td>55.82</td>\n",
       "      <td>0.31</td>\n",
       "    </tr>\n",
       "    <tr>\n",
       "      <th>4</th>\n",
       "      <td>Racing</td>\n",
       "      <td>6.52</td>\n",
       "      <td>10.86</td>\n",
       "      <td>0.60</td>\n",
       "    </tr>\n",
       "  </tbody>\n",
       "</table>\n",
       "</div>"
      ],
      "text/plain": [
       "          genre  eu_sales  total_sales  share\n",
       "0       Shooter     40.28       105.73   0.38\n",
       "1        Action     34.82       102.13   0.34\n",
       "2        Sports     27.82        64.33   0.43\n",
       "3  Role-Playing     17.21        55.82   0.31\n",
       "4        Racing      6.52        10.86   0.60"
      ]
     },
     "metadata": {},
     "output_type": "display_data"
    }
   ],
   "source": [
    "# в Европе\n",
    "eu_genre = popular_platform('genre', 'eu_sales')\n",
    "display(eu_genre)"
   ]
  },
  {
   "cell_type": "code",
   "execution_count": 91,
   "metadata": {},
   "outputs": [
    {
     "data": {
      "image/png": "[encoded data removed]",
      "text/plain": [
       "<Figure size 288x432 with 1 Axes>"
      ]
     },
     "metadata": {
      "needs_background": "light"
     },
     "output_type": "display_data"
    }
   ],
   "source": [
    "#построим горизонтальную столбчатую диаграмму\n",
    "fig, ax = plt.subplots(figsize=(4,6))\n",
    "\n",
    "ax.barh(eu_genre.genre, eu_genre.share)\n",
    "ax.set_title('Самые популярные жанры Европы')\n",
    "ax.set_ylabel('Жанр')\n",
    "ax.set_xlabel('Доля')\n",
    "plt.tight_layout()"
   ]
  },
  {
   "cell_type": "markdown",
   "metadata": {},
   "source": [
    "**Европа**\n",
    "- самыми популярными жанрами в Европе являются: Shooter, Action, Sports, Role-Playing и Racing;\n",
    "\n",
    "- доля продаж в Европе от общей доли продаж для жанра Racing составила 60%;\n",
    "- для жанров   Shooter и Sports - 40%.\n",
    "- для жанров Action и Role-Playing   - 30%."
   ]
  },
  {
   "cell_type": "code",
   "execution_count": 92,
   "metadata": {},
   "outputs": [
    {
     "data": {
      "text/html": [
       "<div>\n",
       "<style scoped>\n",
       "    .dataframe tbody tr th:only-of-type {\n",
       "        vertical-align: middle;\n",
       "    }\n",
       "\n",
       "    .dataframe tbody tr th {\n",
       "        vertical-align: top;\n",
       "    }\n",
       "\n",
       "    .dataframe thead th {\n",
       "        text-align: right;\n",
       "    }\n",
       "</style>\n",
       "<table border=\"1\" class=\"dataframe\">\n",
       "  <thead>\n",
       "    <tr style=\"text-align: right;\">\n",
       "      <th></th>\n",
       "      <th>genre</th>\n",
       "      <th>jp_sales</th>\n",
       "      <th>total_sales</th>\n",
       "      <th>share</th>\n",
       "    </tr>\n",
       "  </thead>\n",
       "  <tbody>\n",
       "    <tr>\n",
       "      <th>0</th>\n",
       "      <td>Action</td>\n",
       "      <td>23.05</td>\n",
       "      <td>102.13</td>\n",
       "      <td>0.23</td>\n",
       "    </tr>\n",
       "    <tr>\n",
       "      <th>1</th>\n",
       "      <td>Role-Playing</td>\n",
       "      <td>13.41</td>\n",
       "      <td>55.82</td>\n",
       "      <td>0.24</td>\n",
       "    </tr>\n",
       "    <tr>\n",
       "      <th>2</th>\n",
       "      <td>Shooter</td>\n",
       "      <td>3.79</td>\n",
       "      <td>105.73</td>\n",
       "      <td>0.04</td>\n",
       "    </tr>\n",
       "    <tr>\n",
       "      <th>3</th>\n",
       "      <td>Misc</td>\n",
       "      <td>3.19</td>\n",
       "      <td>14.17</td>\n",
       "      <td>0.23</td>\n",
       "    </tr>\n",
       "    <tr>\n",
       "      <th>4</th>\n",
       "      <td>Adventure</td>\n",
       "      <td>2.22</td>\n",
       "      <td>11.98</td>\n",
       "      <td>0.19</td>\n",
       "    </tr>\n",
       "  </tbody>\n",
       "</table>\n",
       "</div>"
      ],
      "text/plain": [
       "          genre  jp_sales  total_sales  share\n",
       "0        Action     23.05       102.13   0.23\n",
       "1  Role-Playing     13.41        55.82   0.24\n",
       "2       Shooter      3.79       105.73   0.04\n",
       "3          Misc      3.19        14.17   0.23\n",
       "4     Adventure      2.22        11.98   0.19"
      ]
     },
     "metadata": {},
     "output_type": "display_data"
    }
   ],
   "source": [
    "# в Японии\n",
    "jp_genre = popular_platform('genre', 'jp_sales')\n",
    "display(jp_genre)"
   ]
  },
  {
   "cell_type": "code",
   "execution_count": 93,
   "metadata": {},
   "outputs": [
    {
     "data": {
      "image/png": "[encoded data removed]",
      "text/plain": [
       "<Figure size 288x432 with 1 Axes>"
      ]
     },
     "metadata": {
      "needs_background": "light"
     },
     "output_type": "display_data"
    }
   ],
   "source": [
    "fig, ax = plt.subplots(figsize=(4,6))\n",
    "\n",
    "ax.barh(jp_genre.genre, jp_genre.share)\n",
    "ax.set_title('Самые популярные жанры Японии')\n",
    "ax.set_ylabel('Жанр')\n",
    "ax.set_xlabel('Доля')\n",
    "plt.tight_layout()"
   ]
  },
  {
   "cell_type": "markdown",
   "metadata": {},
   "source": [
    "**Япония**\n",
    "- самыми популярными жанрами в Японии являются: Action, Role-Playing, Shooter, Misc и Adventure;\n",
    "- доля продаж в Японии от общей доли продаж для жанров Action, Role-Playing, Misc, Adventure составила 20%;\n",
    "- для жанра Shooter - 4%."
   ]
  },
  {
   "cell_type": "markdown",
   "metadata": {},
   "source": [
    "**Вывод**\n",
    "- Во всех трех странах среди популярных жарнов присутствуют Shooter, Action и Role-Playing.\n",
    "- В Европе и Северной Америке жанровые предпочтения практически совпадают: Action, Shooter, Sports, Role-Playing, а также для Северной Америки - Misc, для Европы - Racing. \n",
    "- Большая часть пользователей предпочитающих жанры Action, Shooter, Sports прожавают в Северной Америке и Европе. \n",
    "- Вкусы пользователей Японии отличаются от пользователей Европы и Северной Америки.в отличие от других стран здесь популярны такие жанры как: Misc и Adventure."
   ]
  },
  {
   "cell_type": "markdown",
   "metadata": {},
   "source": [
    "###  Влияние рейтинга ESRB на продажи в отдельном регионе"
   ]
  },
  {
   "cell_type": "code",
   "execution_count": 94,
   "metadata": {},
   "outputs": [
    {
     "data": {
      "text/plain": [
       "unknown    513\n",
       "T          192\n",
       "E          153\n",
       "M          149\n",
       "E10+       101\n",
       "Name: rating, dtype: int64"
      ]
     },
     "execution_count": 94,
     "metadata": {},
     "output_type": "execute_result"
    }
   ],
   "source": [
    "# оценим какие варианты рейтинга присутствуют в столбце\n",
    "df_actual['rating'].value_counts()"
   ]
  },
  {
   "cell_type": "code",
   "execution_count": 95,
   "metadata": {},
   "outputs": [
    {
     "data": {
      "image/png": "[encoded data removed]",
      "text/plain": [
       "<Figure size 432x720 with 3 Axes>"
      ]
     },
     "metadata": {
      "needs_background": "light"
     },
     "output_type": "display_data"
    }
   ],
   "source": [
    "#построим столбчатую диаграмму распределения продаж в зависимоти от рейтинга\n",
    "fig, ax = plt.subplots(3, figsize=(6,10))\n",
    "\n",
    "sns.barplot(data=df_actual, ax=ax[0], x = 'rating', y = 'na_sales', estimator=np.sum)\n",
    "ax[0].set_title('Северная Америка', pad=-1)\n",
    "ax[0].set_xlabel('рейтинг ESRB')\n",
    "ax[0].set_ylabel('Кол-во продаж')\n",
    "plt.tight_layout()\n",
    "#Европа\n",
    "sns.barplot(data=df_actual, ax=ax[1], x = 'rating', y = 'eu_sales', estimator=np.sum )\n",
    "ax[1].set_title('Европа', pad=-1)\n",
    "ax[1].set_xlabel('рейтинг ESRB')\n",
    "ax[1].set_ylabel('Кол-во продаж')\n",
    "#Япония\n",
    "sns.barplot(data=df_actual,ax=ax[2], x = 'rating', y = 'jp_sales', estimator=np.sum )\n",
    "ax[2].set_title('Япония', pad=-1)\n",
    "ax[2].set_xlabel('рейтинг ESRB')\n",
    "ax[2].set_ylabel('Кол-во продаж')\n",
    "\n",
    "plt.show()"
   ]
  },
  {
   "cell_type": "markdown",
   "metadata": {},
   "source": [
    "**Вывод**\n",
    "\n",
    "Исходя  из графиков нельзя сделать вывод о том, как влияет рейтинг ESRB на продажи. Мы видим, что большое количество игр вообще не имеет оценки и это очень сильно влияет на распределение на графиках.\n",
    "\n",
    "Данные графики скорее подтверждают полученные нами результаты в пункте 3.6(Анализ влияния отзывов пользователей и критиков на продажи): рейтинг ESRB не влияет на продажи на платформах.\n"
   ]
  },
  {
   "cell_type": "markdown",
   "metadata": {},
   "source": [
    "Возможно, популярность игр без рейтинга в Японии связано с тем, что к играм с рейтингом применяется сильная цензура и действиют сильные ограничения."
   ]
  },
  {
   "cell_type": "markdown",
   "metadata": {},
   "source": [
    "## Проверка гипотиз"
   ]
  },
  {
   "cell_type": "markdown",
   "metadata": {},
   "source": [
    "Проверим две гипотезы:\n",
    " * Средние пользовательские рейтинги платформ Xbox One и PC одинаковые;\n",
    " * Средние пользовательские рейтинги жанров Action (англ. «действие», экшен-игры) и Sports (англ. «спортивные соревнования») разные."
   ]
  },
  {
   "cell_type": "markdown",
   "metadata": {},
   "source": [
    "**Формулировка гипотезы №1**\n",
    "\n",
    "Типичные статистические гипотезы касаются средних значений\n",
    "генеральных совокупностей и звучат так:\n",
    " * среднее генеральной совокупности равно конкретному значению;\n",
    " * средние двух генеральных совокупностей равны между собой.\n",
    "\n",
    "H₀ всегда формулируется так, чтобы использовать знак равенства.В нашем случае нам подходит второй вариант. \n",
    "\n",
    "**Нулевая гипотеза H₀ будет звучать так:** Средние пользовательские рейтинги платформ Xbox One и PC равны.\n",
    "\n",
    "Исходя из H₀ формулируется альтернативная гипотеза H₁.\n",
    "\n",
    "**Альтернативная гипотеза H₁:** Средние пользовательские рейтинги платформ Xbox One и PC различаются\n",
    "\n",
    "**критический уровень статистической значимости** alpha=0.05\n"
   ]
  },
  {
   "cell_type": "code",
   "execution_count": 96,
   "metadata": {},
   "outputs": [
    {
     "name": "stdout",
     "output_type": "stream",
     "text": [
      "p-значение:  0.2778542084733835\n",
      "Не получилось отвергнуть нулевую гипотезу\n"
     ]
    }
   ],
   "source": [
    "alpha = 0.05 # критический уровень статистической значимости\n",
    "# если p-value окажется меньше него - отвегнем гипотезу\n",
    "results = st.ttest_ind(\n",
    "    df_actual.query('platform == \"PC\"')['user_score'].dropna(), \n",
    "    df_actual.query('platform == \"XOne\"')['user_score'].dropna()\n",
    "    ) \n",
    "print('p-значение: ', results.pvalue)\n",
    "if results.pvalue < alpha:\n",
    "    print(\"Отвергаем нулевую гипотезу\")\n",
    "else:\n",
    "    print(\"Не получилось отвергнуть нулевую гипотезу\")"
   ]
  },
  {
   "cell_type": "markdown",
   "metadata": {},
   "source": [
    "**Вывод**\n",
    "\n",
    "По результатам тестирования мы не можем опровергнуть нулевую гипотезу,а значит гипотеза о том, что cредние пользовательские рейтинги платформ Xbox One и PC равны не подтвердилось."
   ]
  },
  {
   "cell_type": "markdown",
   "metadata": {},
   "source": [
    "**Нулевая гипотеза H₀ будет звучать так:** Средние пользовательские рейтинги жанров Action (англ. «действие», экшен-игры) и Sports (англ. «спортивные соревнования») равны.\n",
    "\n",
    "Исходя из H₀ формулируется альтернативная гипотеза H₁.\n",
    "\n",
    "**Альтернативная гипотеза H₁:** Средние пользовательские рейтинги жанров Action (англ. «действие», экшен-игры) и Sports (англ. «спортивные соревнования») различаются.\n",
    "\n",
    "**критический уровень статистической значимости** alpha=0.05\n"
   ]
  },
  {
   "cell_type": "code",
   "execution_count": 97,
   "metadata": {},
   "outputs": [
    {
     "name": "stdout",
     "output_type": "stream",
     "text": [
      "p-значение:  1.0012846807938657e-13\n",
      "Отвергаем нулевую гипотезу\n"
     ]
    }
   ],
   "source": [
    "alpha = 0.05 # критический уровень статистической значимости\n",
    "# если p-value окажется меньше него - отвегнем гипотезу\n",
    "results = st.ttest_ind(\n",
    "    df_actual.query('genre == \"Action\"')['user_score'].dropna(), \n",
    "    df_actual.query('genre == \"Sports\"')['user_score'].dropna()\n",
    "    ) \n",
    "print('p-значение: ', results.pvalue)\n",
    "if results.pvalue < alpha:\n",
    "    print(\"Отвергаем нулевую гипотезу\")\n",
    "else:\n",
    "    print(\"Не получилось отвергнуть нулевую гипотезу\")"
   ]
  },
  {
   "cell_type": "markdown",
   "metadata": {},
   "source": [
    "**Вывод**\n",
    "\n",
    "Мы отвергаем нулевую гипотезу, а значит альтернативная гипотеза оказалась верной. Средние пользовательские рейтинги жанров Action (англ. «действие», экшен-игры) и Sports (англ. «спортивные соревнования») различаются."
   ]
  },
  {
   "cell_type": "markdown",
   "metadata": {},
   "source": [
    "## Общий вывод"
   ]
  },
  {
   "cell_type": "markdown",
   "metadata": {},
   "source": [
    "В данном проекте для выявления потенциально популярного продукта мы проделали следующие шаги:\n",
    "1. Подготовили исходные данные, а именно, поработали с пропусками, привели названия столбцов к правильному виду, изменили тип данны некоторы столбцов, посчитали суммарные продажи во всех регионах и создали новый столбец с этими данными\n",
    "2. На втором этапе анализа мы определили период времени, который поможет нам построить прогноз на 2017 год. Был выбран период с 2015 по 2016 год.\n",
    "3. На третьем этапе мы приступили к более масштабному анализу данных:\n",
    "- Определили потенциально прибыльные платформы(PS4,XOne,3DS);\n",
    "- С помощью графика по глобальным продажам игр по платформам выявили на каких платформах было продано больше всего игр (PS2, X360, PS3, Wii, DS, PS). Мы видим, что ниодна из этих платформ не присутствуют в нашем списке потенцально прибыльных;\n",
    "- Определили, что отзывы критиков и пользователей практически не влияют на продажи;\n",
    "- Определили самые прибыльные жанры: Shooter, Sports и Role-Playing.\n",
    "4. На следующем эпате нам нужно было посмотреть, какая ситуаиця в каждом регионе. Какие платформы популярны, какие жанры игр предпочитают пользователи данных регионов.\n",
    "- в Северной Америке самыми популярными платформами является платформы американской комнапии Microsoft;\n",
    "- В Европе популярна пратформа PC. В Японии платформа японской компании Sony.\n",
    "- Определили, что жанровые предпочтения в Северной Америке и Европе совпадают. Это игры в жанрах Action, Shooter, Sports, Role-Playing, а также для Северной Америки - Misc, для Европы - Racing. \n",
    "- Вкусы пользователей Японии отличаются. Помимо  Action, Shooter и Role-Playing здесь популярны такие жанры как: Misc и Adventure.\n",
    "- Также мы выяснили что рейтинг ESRB не влияет на продажи в регионах. \n",
    "5. Заключительным эпатом нашего исследования была проверка гипотез. Так мы определили, что: \n",
    "- равенство cредних пользовательских рейтингов платформ Xbox One и PC не подтвердилось;\n",
    "- средние пользовательские рейтинги жанров Action (англ. «действие», экшен-игры) и Sports (англ. «спортивные соревнования») различаются. \n",
    "\n",
    "Опираясь на полученные данные, мы точно можем сделать вывод о том, что продажи абсолютно на всех платформах падают. Возможно это связано с развитием игр на мобильных телефонах, возможно роль также сыграли оценки критиков, которые часто не соответствуют дейстительности. В любом случае полученные данные не позволяют сделать вывод о том, что нужно сделать для увеличения продаж на платформах. "
   ]
  }
 ],
 "metadata": {
  "ExecuteTimeLog": [
   {
    "duration": 1337,
    "start_time": "2022-04-08T15:32:11.884Z"
   },
   {
    "duration": 60,
    "start_time": "2022-04-08T15:32:20.702Z"
   },
   {
    "duration": 3,
    "start_time": "2022-04-08T15:32:45.974Z"
   },
   {
    "duration": 14,
    "start_time": "2022-04-08T15:33:01.452Z"
   },
   {
    "duration": 59,
    "start_time": "2022-04-08T15:33:11.567Z"
   },
   {
    "duration": 4,
    "start_time": "2022-04-08T15:33:25.555Z"
   },
   {
    "duration": 4,
    "start_time": "2022-04-08T15:34:20.143Z"
   },
   {
    "duration": 8,
    "start_time": "2022-04-08T15:34:52.870Z"
   },
   {
    "duration": 18,
    "start_time": "2022-04-08T15:35:09.553Z"
   },
   {
    "duration": 4,
    "start_time": "2022-04-08T15:35:50.891Z"
   },
   {
    "duration": 67,
    "start_time": "2022-04-08T15:35:50.897Z"
   },
   {
    "duration": 13,
    "start_time": "2022-04-08T15:35:50.966Z"
   },
   {
    "duration": 83,
    "start_time": "2022-04-08T15:35:50.982Z"
   },
   {
    "duration": 5,
    "start_time": "2022-04-08T15:35:51.066Z"
   },
   {
    "duration": 9,
    "start_time": "2022-04-08T15:35:51.073Z"
   },
   {
    "duration": 34,
    "start_time": "2022-04-08T15:35:51.084Z"
   },
   {
    "duration": 7,
    "start_time": "2022-04-08T15:36:10.231Z"
   },
   {
    "duration": 17,
    "start_time": "2022-04-08T15:36:40.735Z"
   },
   {
    "duration": 24,
    "start_time": "2022-04-08T15:37:24.558Z"
   },
   {
    "duration": 279,
    "start_time": "2022-04-08T15:37:34.522Z"
   },
   {
    "duration": 380,
    "start_time": "2022-04-08T15:38:34.407Z"
   },
   {
    "duration": 281,
    "start_time": "2022-04-08T15:39:05.866Z"
   },
   {
    "duration": 26,
    "start_time": "2022-04-08T15:40:01.098Z"
   },
   {
    "duration": 4,
    "start_time": "2022-04-08T15:40:09.550Z"
   },
   {
    "duration": 4,
    "start_time": "2022-04-08T15:40:15.455Z"
   },
   {
    "duration": 353,
    "start_time": "2022-04-08T15:40:21.819Z"
   },
   {
    "duration": 432,
    "start_time": "2022-04-08T15:50:13.339Z"
   },
   {
    "duration": 336,
    "start_time": "2022-04-08T15:56:32.319Z"
   },
   {
    "duration": 69,
    "start_time": "2022-04-08T15:59:09.186Z"
   },
   {
    "duration": 65,
    "start_time": "2022-04-08T15:59:24.138Z"
   },
   {
    "duration": 66,
    "start_time": "2022-04-08T15:59:54.437Z"
   },
   {
    "duration": 72,
    "start_time": "2022-04-08T16:00:05.735Z"
   },
   {
    "duration": 66,
    "start_time": "2022-04-08T16:00:20.362Z"
   },
   {
    "duration": 355,
    "start_time": "2022-04-08T16:02:04.950Z"
   },
   {
    "duration": 110,
    "start_time": "2022-04-08T17:06:47.789Z"
   },
   {
    "duration": 343,
    "start_time": "2022-04-08T17:06:58.526Z"
   },
   {
    "duration": 5,
    "start_time": "2022-04-08T17:10:36.152Z"
   },
   {
    "duration": 343,
    "start_time": "2022-04-08T17:10:37.895Z"
   },
   {
    "duration": 365,
    "start_time": "2022-04-08T17:11:01.775Z"
   },
   {
    "duration": 5,
    "start_time": "2022-04-08T17:16:59.693Z"
   },
   {
    "duration": 645,
    "start_time": "2022-04-08T17:17:01.647Z"
   },
   {
    "duration": 4,
    "start_time": "2022-04-08T17:17:20.270Z"
   },
   {
    "duration": 327,
    "start_time": "2022-04-08T17:17:22.491Z"
   },
   {
    "duration": 3009,
    "start_time": "2022-04-08T17:24:29.706Z"
   },
   {
    "duration": 450,
    "start_time": "2022-04-08T17:25:33.560Z"
   },
   {
    "duration": 246,
    "start_time": "2022-04-08T17:39:58.123Z"
   },
   {
    "duration": 251,
    "start_time": "2022-04-08T17:40:23.079Z"
   },
   {
    "duration": 244,
    "start_time": "2022-04-08T17:40:45.953Z"
   },
   {
    "duration": 240,
    "start_time": "2022-04-08T17:40:56.415Z"
   },
   {
    "duration": 240,
    "start_time": "2022-04-08T17:41:02.139Z"
   },
   {
    "duration": 206,
    "start_time": "2022-04-08T17:41:28.797Z"
   },
   {
    "duration": 266,
    "start_time": "2022-04-08T17:42:54.260Z"
   },
   {
    "duration": 270,
    "start_time": "2022-04-08T17:43:06.191Z"
   },
   {
    "duration": 4,
    "start_time": "2022-04-08T17:44:24.176Z"
   },
   {
    "duration": 500,
    "start_time": "2022-04-08T17:44:29.019Z"
   },
   {
    "duration": 347,
    "start_time": "2022-04-08T17:44:32.872Z"
   },
   {
    "duration": 6,
    "start_time": "2022-04-08T17:46:02.470Z"
   },
   {
    "duration": 253,
    "start_time": "2022-04-08T17:46:04.125Z"
   },
   {
    "duration": 236,
    "start_time": "2022-04-08T17:46:40.851Z"
   },
   {
    "duration": 246,
    "start_time": "2022-04-08T17:46:46.057Z"
   },
   {
    "duration": 180,
    "start_time": "2022-04-08T17:49:56.701Z"
   },
   {
    "duration": 233,
    "start_time": "2022-04-08T17:50:25.445Z"
   },
   {
    "duration": 246,
    "start_time": "2022-04-08T17:50:44.888Z"
   },
   {
    "duration": 255,
    "start_time": "2022-04-08T17:51:05.415Z"
   },
   {
    "duration": 243,
    "start_time": "2022-04-08T17:51:46.586Z"
   },
   {
    "duration": 194,
    "start_time": "2022-04-08T17:52:50.499Z"
   },
   {
    "duration": 262,
    "start_time": "2022-04-08T17:53:02.140Z"
   },
   {
    "duration": 5,
    "start_time": "2022-04-08T18:01:44.590Z"
   },
   {
    "duration": 269,
    "start_time": "2022-04-08T18:03:51.604Z"
   },
   {
    "duration": 5,
    "start_time": "2022-04-08T18:04:00.631Z"
   },
   {
    "duration": 418,
    "start_time": "2022-04-08T18:04:12.335Z"
   },
   {
    "duration": 47,
    "start_time": "2022-04-09T07:23:45.408Z"
   },
   {
    "duration": 1320,
    "start_time": "2022-04-09T07:23:48.680Z"
   },
   {
    "duration": 60,
    "start_time": "2022-04-09T07:23:50.002Z"
   },
   {
    "duration": 13,
    "start_time": "2022-04-09T07:23:50.064Z"
   },
   {
    "duration": 65,
    "start_time": "2022-04-09T07:23:50.078Z"
   },
   {
    "duration": 4,
    "start_time": "2022-04-09T07:23:50.145Z"
   },
   {
    "duration": 8,
    "start_time": "2022-04-09T07:23:50.151Z"
   },
   {
    "duration": 20,
    "start_time": "2022-04-09T07:23:50.160Z"
   },
   {
    "duration": 28,
    "start_time": "2022-04-09T07:23:50.181Z"
   },
   {
    "duration": 16,
    "start_time": "2022-04-09T07:23:50.211Z"
   },
   {
    "duration": 22,
    "start_time": "2022-04-09T07:23:50.229Z"
   },
   {
    "duration": 304,
    "start_time": "2022-04-09T07:23:50.253Z"
   },
   {
    "duration": 378,
    "start_time": "2022-04-09T07:23:50.558Z"
   },
   {
    "duration": 273,
    "start_time": "2022-04-09T07:23:50.937Z"
   },
   {
    "duration": 24,
    "start_time": "2022-04-09T07:23:51.212Z"
   },
   {
    "duration": 3,
    "start_time": "2022-04-09T07:23:51.238Z"
   },
   {
    "duration": 4,
    "start_time": "2022-04-09T07:23:51.242Z"
   },
   {
    "duration": 269,
    "start_time": "2022-04-09T07:23:51.248Z"
   },
   {
    "duration": 4,
    "start_time": "2022-04-09T07:23:51.519Z"
   },
   {
    "duration": 249,
    "start_time": "2022-04-09T07:23:51.524Z"
   },
   {
    "duration": 241,
    "start_time": "2022-04-09T07:23:51.775Z"
   },
   {
    "duration": 6,
    "start_time": "2022-04-09T07:32:48.444Z"
   },
   {
    "duration": 6,
    "start_time": "2022-04-09T07:35:28.813Z"
   },
   {
    "duration": 6,
    "start_time": "2022-04-09T07:35:54.077Z"
   },
   {
    "duration": 6,
    "start_time": "2022-04-09T07:37:26.491Z"
   },
   {
    "duration": 5,
    "start_time": "2022-04-09T07:43:49.367Z"
   },
   {
    "duration": 5,
    "start_time": "2022-04-09T07:44:33.780Z"
   },
   {
    "duration": 5,
    "start_time": "2022-04-09T07:45:07.412Z"
   },
   {
    "duration": 7,
    "start_time": "2022-04-09T07:46:41.828Z"
   },
   {
    "duration": 8,
    "start_time": "2022-04-09T07:52:25.823Z"
   },
   {
    "duration": 19,
    "start_time": "2022-04-09T07:52:48.790Z"
   },
   {
    "duration": 19,
    "start_time": "2022-04-09T07:53:27.958Z"
   },
   {
    "duration": 8,
    "start_time": "2022-04-09T07:53:42.999Z"
   },
   {
    "duration": 13,
    "start_time": "2022-04-09T07:54:04.447Z"
   },
   {
    "duration": 7,
    "start_time": "2022-04-09T07:54:22.762Z"
   },
   {
    "duration": 3,
    "start_time": "2022-04-09T07:54:25.796Z"
   },
   {
    "duration": 53,
    "start_time": "2022-04-09T07:54:25.801Z"
   },
   {
    "duration": 13,
    "start_time": "2022-04-09T07:54:25.856Z"
   },
   {
    "duration": 147,
    "start_time": "2022-04-09T07:54:25.871Z"
   },
   {
    "duration": 5,
    "start_time": "2022-04-09T07:54:26.020Z"
   },
   {
    "duration": 11,
    "start_time": "2022-04-09T07:54:26.027Z"
   },
   {
    "duration": 4,
    "start_time": "2022-04-09T07:54:26.039Z"
   },
   {
    "duration": 7,
    "start_time": "2022-04-09T07:54:26.045Z"
   },
   {
    "duration": 16,
    "start_time": "2022-04-09T07:54:26.054Z"
   },
   {
    "duration": 38,
    "start_time": "2022-04-09T07:54:26.072Z"
   },
   {
    "duration": 16,
    "start_time": "2022-04-09T07:54:26.113Z"
   },
   {
    "duration": 24,
    "start_time": "2022-04-09T07:54:26.131Z"
   },
   {
    "duration": 280,
    "start_time": "2022-04-09T07:54:26.157Z"
   },
   {
    "duration": 409,
    "start_time": "2022-04-09T07:54:26.440Z"
   },
   {
    "duration": 285,
    "start_time": "2022-04-09T07:54:26.851Z"
   },
   {
    "duration": 25,
    "start_time": "2022-04-09T07:54:27.138Z"
   },
   {
    "duration": 4,
    "start_time": "2022-04-09T07:54:27.165Z"
   },
   {
    "duration": 8,
    "start_time": "2022-04-09T07:54:27.171Z"
   },
   {
    "duration": 267,
    "start_time": "2022-04-09T07:54:27.181Z"
   },
   {
    "duration": 5,
    "start_time": "2022-04-09T07:54:27.450Z"
   },
   {
    "duration": 266,
    "start_time": "2022-04-09T07:54:27.457Z"
   },
   {
    "duration": 240,
    "start_time": "2022-04-09T07:54:27.726Z"
   },
   {
    "duration": 6,
    "start_time": "2022-04-09T07:54:27.968Z"
   },
   {
    "duration": 5,
    "start_time": "2022-04-09T07:54:27.976Z"
   },
   {
    "duration": 66,
    "start_time": "2022-04-09T07:59:03.632Z"
   },
   {
    "duration": 4,
    "start_time": "2022-04-09T07:59:24.519Z"
   },
   {
    "duration": 7,
    "start_time": "2022-04-09T07:59:43.638Z"
   },
   {
    "duration": 64,
    "start_time": "2022-04-09T08:00:03.277Z"
   },
   {
    "duration": 9,
    "start_time": "2022-04-09T08:00:14.743Z"
   },
   {
    "duration": 9,
    "start_time": "2022-04-09T08:00:34.062Z"
   },
   {
    "duration": 9,
    "start_time": "2022-04-09T08:00:51.634Z"
   },
   {
    "duration": 8,
    "start_time": "2022-04-09T08:01:31.531Z"
   },
   {
    "duration": 9,
    "start_time": "2022-04-09T08:01:48.283Z"
   },
   {
    "duration": 6,
    "start_time": "2022-04-09T08:04:25.695Z"
   },
   {
    "duration": 5,
    "start_time": "2022-04-09T08:04:34.097Z"
   },
   {
    "duration": 9,
    "start_time": "2022-04-09T08:40:43.089Z"
   },
   {
    "duration": 5,
    "start_time": "2022-04-09T08:40:54.406Z"
   },
   {
    "duration": 7,
    "start_time": "2022-04-09T08:41:07.570Z"
   },
   {
    "duration": 7,
    "start_time": "2022-04-09T08:41:46.000Z"
   },
   {
    "duration": 13,
    "start_time": "2022-04-09T08:46:46.159Z"
   },
   {
    "duration": 6,
    "start_time": "2022-04-09T08:48:29.848Z"
   },
   {
    "duration": 6,
    "start_time": "2022-04-09T08:51:50.622Z"
   },
   {
    "duration": 6,
    "start_time": "2022-04-09T08:51:55.573Z"
   },
   {
    "duration": 14,
    "start_time": "2022-04-09T08:52:50.594Z"
   },
   {
    "duration": 10,
    "start_time": "2022-04-09T08:53:06.138Z"
   },
   {
    "duration": 7,
    "start_time": "2022-04-09T08:53:20.573Z"
   },
   {
    "duration": 12,
    "start_time": "2022-04-09T08:57:38.821Z"
   },
   {
    "duration": 1423,
    "start_time": "2022-04-12T13:13:29.731Z"
   },
   {
    "duration": 54,
    "start_time": "2022-04-12T13:13:31.156Z"
   },
   {
    "duration": 12,
    "start_time": "2022-04-12T13:13:31.211Z"
   },
   {
    "duration": 69,
    "start_time": "2022-04-12T13:13:31.225Z"
   },
   {
    "duration": 6,
    "start_time": "2022-04-12T13:13:31.295Z"
   },
   {
    "duration": 43,
    "start_time": "2022-04-12T13:13:31.303Z"
   },
   {
    "duration": 16,
    "start_time": "2022-04-12T13:13:31.348Z"
   },
   {
    "duration": 24,
    "start_time": "2022-04-12T13:13:31.366Z"
   },
   {
    "duration": 38,
    "start_time": "2022-04-12T13:13:31.392Z"
   },
   {
    "duration": 13,
    "start_time": "2022-04-12T13:13:31.432Z"
   },
   {
    "duration": 27,
    "start_time": "2022-04-12T13:13:31.447Z"
   },
   {
    "duration": 24,
    "start_time": "2022-04-12T13:13:31.475Z"
   },
   {
    "duration": 446,
    "start_time": "2022-04-12T13:13:31.501Z"
   },
   {
    "duration": 362,
    "start_time": "2022-04-12T13:13:31.950Z"
   },
   {
    "duration": 268,
    "start_time": "2022-04-12T13:13:32.315Z"
   },
   {
    "duration": 23,
    "start_time": "2022-04-12T13:13:32.585Z"
   },
   {
    "duration": 19,
    "start_time": "2022-04-12T13:13:32.610Z"
   },
   {
    "duration": 32,
    "start_time": "2022-04-12T13:13:32.630Z"
   },
   {
    "duration": 234,
    "start_time": "2022-04-12T13:13:32.664Z"
   },
   {
    "duration": 5,
    "start_time": "2022-04-12T13:13:32.899Z"
   },
   {
    "duration": 301,
    "start_time": "2022-04-12T13:13:32.906Z"
   },
   {
    "duration": 213,
    "start_time": "2022-04-12T13:13:33.208Z"
   },
   {
    "duration": 6,
    "start_time": "2022-04-12T13:13:33.422Z"
   },
   {
    "duration": 24,
    "start_time": "2022-04-12T13:13:33.430Z"
   },
   {
    "duration": 23,
    "start_time": "2022-04-12T13:13:33.456Z"
   },
   {
    "duration": 3,
    "start_time": "2022-04-12T13:16:54.153Z"
   },
   {
    "duration": 3,
    "start_time": "2022-04-12T13:17:53.647Z"
   },
   {
    "duration": 115,
    "start_time": "2022-04-12T13:26:07.142Z"
   },
   {
    "duration": 5,
    "start_time": "2022-04-12T13:28:41.899Z"
   },
   {
    "duration": 12,
    "start_time": "2022-04-12T13:28:52.960Z"
   },
   {
    "duration": 9,
    "start_time": "2022-04-12T13:29:29.666Z"
   },
   {
    "duration": 8,
    "start_time": "2022-04-12T13:30:13.936Z"
   },
   {
    "duration": 10,
    "start_time": "2022-04-12T13:31:15.436Z"
   },
   {
    "duration": 7,
    "start_time": "2022-04-12T13:31:23.909Z"
   },
   {
    "duration": 7,
    "start_time": "2022-04-12T13:31:36.672Z"
   },
   {
    "duration": 4,
    "start_time": "2022-04-12T13:34:32.037Z"
   },
   {
    "duration": 2551,
    "start_time": "2022-04-12T13:34:43.535Z"
   },
   {
    "duration": 2396,
    "start_time": "2022-04-12T13:36:28.101Z"
   },
   {
    "duration": 10,
    "start_time": "2022-04-12T13:36:47.975Z"
   },
   {
    "duration": 7,
    "start_time": "2022-04-12T14:00:05.096Z"
   },
   {
    "duration": 10,
    "start_time": "2022-04-12T14:00:14.248Z"
   },
   {
    "duration": 3,
    "start_time": "2022-04-12T14:02:52.332Z"
   },
   {
    "duration": 10,
    "start_time": "2022-04-12T14:03:15.120Z"
   },
   {
    "duration": 17,
    "start_time": "2022-04-12T14:03:23.873Z"
   },
   {
    "duration": 18,
    "start_time": "2022-04-12T14:17:26.349Z"
   },
   {
    "duration": 25,
    "start_time": "2022-04-12T14:18:22.555Z"
   },
   {
    "duration": 2307,
    "start_time": "2022-04-12T14:18:48.199Z"
   },
   {
    "duration": 8,
    "start_time": "2022-04-12T14:19:50.266Z"
   },
   {
    "duration": 8,
    "start_time": "2022-04-12T14:20:11.269Z"
   },
   {
    "duration": 7,
    "start_time": "2022-04-12T14:20:24.245Z"
   },
   {
    "duration": 2337,
    "start_time": "2022-04-12T14:21:31.287Z"
   },
   {
    "duration": 9,
    "start_time": "2022-04-12T14:22:10.472Z"
   },
   {
    "duration": 2297,
    "start_time": "2022-04-12T14:22:16.499Z"
   },
   {
    "duration": 8,
    "start_time": "2022-04-12T14:23:51.498Z"
   },
   {
    "duration": 9,
    "start_time": "2022-04-12T14:36:24.360Z"
   },
   {
    "duration": 13,
    "start_time": "2022-04-12T14:36:43.713Z"
   },
   {
    "duration": 14,
    "start_time": "2022-04-12T14:37:00.199Z"
   },
   {
    "duration": 13,
    "start_time": "2022-04-12T14:37:59.782Z"
   },
   {
    "duration": 13,
    "start_time": "2022-04-12T14:38:03.855Z"
   },
   {
    "duration": 13,
    "start_time": "2022-04-12T14:38:12.065Z"
   },
   {
    "duration": 13,
    "start_time": "2022-04-12T14:38:37.484Z"
   },
   {
    "duration": 3,
    "start_time": "2022-04-12T14:39:14.017Z"
   },
   {
    "duration": 3,
    "start_time": "2022-04-12T14:40:00.571Z"
   },
   {
    "duration": 16,
    "start_time": "2022-04-12T14:41:15.804Z"
   },
   {
    "duration": 4,
    "start_time": "2022-04-12T14:44:54.332Z"
   },
   {
    "duration": 12,
    "start_time": "2022-04-12T14:44:57.676Z"
   },
   {
    "duration": 11,
    "start_time": "2022-04-12T14:49:42.967Z"
   },
   {
    "duration": 146,
    "start_time": "2022-04-12T14:49:59.542Z"
   },
   {
    "duration": 12,
    "start_time": "2022-04-12T14:54:04.856Z"
   },
   {
    "duration": 4,
    "start_time": "2022-04-12T15:06:56.532Z"
   },
   {
    "duration": 14,
    "start_time": "2022-04-12T15:06:58.150Z"
   },
   {
    "duration": 12,
    "start_time": "2022-04-12T15:07:00.921Z"
   },
   {
    "duration": 12,
    "start_time": "2022-04-12T15:07:02.659Z"
   },
   {
    "duration": 11,
    "start_time": "2022-04-12T15:09:55.544Z"
   },
   {
    "duration": 12,
    "start_time": "2022-04-12T15:10:30.519Z"
   },
   {
    "duration": 12,
    "start_time": "2022-04-12T15:10:48.936Z"
   },
   {
    "duration": 13,
    "start_time": "2022-04-12T15:37:41.524Z"
   },
   {
    "duration": 1841,
    "start_time": "2022-04-13T14:54:31.046Z"
   },
   {
    "duration": 91,
    "start_time": "2022-04-13T14:54:32.890Z"
   },
   {
    "duration": 21,
    "start_time": "2022-04-13T14:54:32.982Z"
   },
   {
    "duration": 121,
    "start_time": "2022-04-13T14:54:33.005Z"
   },
   {
    "duration": 9,
    "start_time": "2022-04-13T14:54:33.129Z"
   },
   {
    "duration": 18,
    "start_time": "2022-04-13T14:54:33.140Z"
   },
   {
    "duration": 6,
    "start_time": "2022-04-13T14:54:33.161Z"
   },
   {
    "duration": 16,
    "start_time": "2022-04-13T14:54:33.169Z"
   },
   {
    "duration": 60,
    "start_time": "2022-04-13T14:54:33.187Z"
   },
   {
    "duration": 12,
    "start_time": "2022-04-13T14:54:33.249Z"
   },
   {
    "duration": 26,
    "start_time": "2022-04-13T14:54:33.264Z"
   },
   {
    "duration": 62,
    "start_time": "2022-04-13T14:54:33.292Z"
   },
   {
    "duration": 509,
    "start_time": "2022-04-13T14:54:33.356Z"
   },
   {
    "duration": 656,
    "start_time": "2022-04-13T14:54:33.872Z"
   },
   {
    "duration": 500,
    "start_time": "2022-04-13T14:54:34.530Z"
   },
   {
    "duration": 42,
    "start_time": "2022-04-13T14:54:35.033Z"
   },
   {
    "duration": 14,
    "start_time": "2022-04-13T14:54:35.078Z"
   },
   {
    "duration": 6,
    "start_time": "2022-04-13T14:54:35.124Z"
   },
   {
    "duration": 419,
    "start_time": "2022-04-13T14:54:35.132Z"
   },
   {
    "duration": 7,
    "start_time": "2022-04-13T14:54:35.553Z"
   },
   {
    "duration": 429,
    "start_time": "2022-04-13T14:54:35.564Z"
   },
   {
    "duration": 595,
    "start_time": "2022-04-13T14:54:35.996Z"
   },
   {
    "duration": 8,
    "start_time": "2022-04-13T14:54:36.594Z"
   },
   {
    "duration": 8,
    "start_time": "2022-04-13T14:54:36.624Z"
   },
   {
    "duration": 23,
    "start_time": "2022-04-13T14:54:36.635Z"
   },
   {
    "duration": 7,
    "start_time": "2022-04-13T14:54:36.660Z"
   },
   {
    "duration": 34,
    "start_time": "2022-04-13T14:54:36.669Z"
   },
   {
    "duration": 21,
    "start_time": "2022-04-13T14:54:36.724Z"
   },
   {
    "duration": 25,
    "start_time": "2022-04-13T14:54:36.747Z"
   },
   {
    "duration": 21,
    "start_time": "2022-04-13T14:54:36.774Z"
   },
   {
    "duration": 20,
    "start_time": "2022-04-13T14:54:36.826Z"
   },
   {
    "duration": 21,
    "start_time": "2022-04-13T14:54:36.848Z"
   },
   {
    "duration": 9,
    "start_time": "2022-04-13T15:11:48.291Z"
   },
   {
    "duration": 335,
    "start_time": "2022-04-13T15:40:59.337Z"
   },
   {
    "duration": 192,
    "start_time": "2022-04-13T15:47:29.054Z"
   },
   {
    "duration": 191,
    "start_time": "2022-04-13T15:47:42.453Z"
   },
   {
    "duration": 29,
    "start_time": "2022-04-13T15:47:50.275Z"
   },
   {
    "duration": 188,
    "start_time": "2022-04-13T15:48:07.545Z"
   },
   {
    "duration": 495,
    "start_time": "2022-04-13T15:56:49.629Z"
   },
   {
    "duration": 535,
    "start_time": "2022-04-13T16:00:51.344Z"
   },
   {
    "duration": 635,
    "start_time": "2022-04-13T16:05:50.532Z"
   },
   {
    "duration": 766,
    "start_time": "2022-04-13T16:08:01.680Z"
   },
   {
    "duration": 499,
    "start_time": "2022-04-13T16:09:00.364Z"
   },
   {
    "duration": 1170,
    "start_time": "2022-04-13T16:09:45.580Z"
   },
   {
    "duration": 1160,
    "start_time": "2022-04-13T16:10:08.646Z"
   },
   {
    "duration": 655,
    "start_time": "2022-04-13T16:10:23.725Z"
   },
   {
    "duration": 683,
    "start_time": "2022-04-13T16:10:53.533Z"
   },
   {
    "duration": 901,
    "start_time": "2022-04-13T16:11:26.480Z"
   },
   {
    "duration": 768,
    "start_time": "2022-04-13T16:15:18.509Z"
   },
   {
    "duration": 1330,
    "start_time": "2022-04-13T16:16:00.843Z"
   },
   {
    "duration": 867,
    "start_time": "2022-04-13T16:19:25.385Z"
   },
   {
    "duration": 839,
    "start_time": "2022-04-13T16:19:34.974Z"
   },
   {
    "duration": 13,
    "start_time": "2022-04-13T17:06:12.784Z"
   },
   {
    "duration": 14,
    "start_time": "2022-04-13T17:07:44.194Z"
   },
   {
    "duration": 11,
    "start_time": "2022-04-13T17:08:17.079Z"
   },
   {
    "duration": 31,
    "start_time": "2022-04-13T17:15:18.975Z"
   },
   {
    "duration": 14,
    "start_time": "2022-04-13T17:15:39.667Z"
   },
   {
    "duration": 14,
    "start_time": "2022-04-13T17:16:01.220Z"
   },
   {
    "duration": 13,
    "start_time": "2022-04-13T17:16:08.036Z"
   },
   {
    "duration": 14,
    "start_time": "2022-04-13T17:17:48.298Z"
   },
   {
    "duration": 19,
    "start_time": "2022-04-13T17:18:28.539Z"
   },
   {
    "duration": 18,
    "start_time": "2022-04-13T17:24:46.793Z"
   },
   {
    "duration": 4,
    "start_time": "2022-04-13T17:26:16.901Z"
   },
   {
    "duration": 1658,
    "start_time": "2022-04-14T09:53:41.006Z"
   },
   {
    "duration": 83,
    "start_time": "2022-04-14T09:53:42.666Z"
   },
   {
    "duration": 17,
    "start_time": "2022-04-14T09:53:42.751Z"
   },
   {
    "duration": 83,
    "start_time": "2022-04-14T09:53:42.770Z"
   },
   {
    "duration": 9,
    "start_time": "2022-04-14T09:53:42.854Z"
   },
   {
    "duration": 18,
    "start_time": "2022-04-14T09:53:42.865Z"
   },
   {
    "duration": 5,
    "start_time": "2022-04-14T09:53:42.885Z"
   },
   {
    "duration": 17,
    "start_time": "2022-04-14T09:53:42.892Z"
   },
   {
    "duration": 39,
    "start_time": "2022-04-14T09:53:42.914Z"
   },
   {
    "duration": 9,
    "start_time": "2022-04-14T09:53:42.957Z"
   },
   {
    "duration": 21,
    "start_time": "2022-04-14T09:53:42.968Z"
   },
   {
    "duration": 61,
    "start_time": "2022-04-14T09:53:42.992Z"
   },
   {
    "duration": 457,
    "start_time": "2022-04-14T09:53:43.055Z"
   },
   {
    "duration": 595,
    "start_time": "2022-04-14T09:53:43.515Z"
   },
   {
    "duration": 405,
    "start_time": "2022-04-14T09:53:44.112Z"
   },
   {
    "duration": 36,
    "start_time": "2022-04-14T09:53:44.519Z"
   },
   {
    "duration": 10,
    "start_time": "2022-04-14T09:53:44.557Z"
   },
   {
    "duration": 9,
    "start_time": "2022-04-14T09:53:44.569Z"
   },
   {
    "duration": 428,
    "start_time": "2022-04-14T09:53:44.580Z"
   },
   {
    "duration": 10,
    "start_time": "2022-04-14T09:53:45.012Z"
   },
   {
    "duration": 414,
    "start_time": "2022-04-14T09:53:45.027Z"
   },
   {
    "duration": 256,
    "start_time": "2022-04-14T09:53:45.444Z"
   },
   {
    "duration": 9,
    "start_time": "2022-04-14T09:53:45.702Z"
   },
   {
    "duration": 33,
    "start_time": "2022-04-14T09:53:45.712Z"
   },
   {
    "duration": 29,
    "start_time": "2022-04-14T09:53:45.747Z"
   },
   {
    "duration": 5,
    "start_time": "2022-04-14T09:53:45.778Z"
   },
   {
    "duration": 13,
    "start_time": "2022-04-14T09:53:45.785Z"
   },
   {
    "duration": 13,
    "start_time": "2022-04-14T09:53:45.802Z"
   },
   {
    "duration": 28,
    "start_time": "2022-04-14T09:53:45.828Z"
   },
   {
    "duration": 13,
    "start_time": "2022-04-14T09:53:45.858Z"
   },
   {
    "duration": 18,
    "start_time": "2022-04-14T09:53:45.873Z"
   },
   {
    "duration": 48,
    "start_time": "2022-04-14T09:53:45.893Z"
   },
   {
    "duration": 7,
    "start_time": "2022-04-14T09:53:45.943Z"
   },
   {
    "duration": 646,
    "start_time": "2022-04-14T09:53:45.952Z"
   },
   {
    "duration": 13,
    "start_time": "2022-04-14T09:53:46.601Z"
   },
   {
    "duration": 32,
    "start_time": "2022-04-14T09:53:46.628Z"
   },
   {
    "duration": 578,
    "start_time": "2022-04-14T09:57:53.713Z"
   },
   {
    "duration": 478,
    "start_time": "2022-04-14T09:58:13.708Z"
   },
   {
    "duration": 521,
    "start_time": "2022-04-14T09:58:28.092Z"
   },
   {
    "duration": 937,
    "start_time": "2022-04-14T10:02:36.505Z"
   },
   {
    "duration": 930,
    "start_time": "2022-04-14T10:02:49.107Z"
   },
   {
    "duration": 759,
    "start_time": "2022-04-14T10:03:04.924Z"
   },
   {
    "duration": 602,
    "start_time": "2022-04-14T10:03:18.878Z"
   },
   {
    "duration": 781,
    "start_time": "2022-04-14T10:03:41.051Z"
   },
   {
    "duration": 126,
    "start_time": "2022-04-14T10:05:28.905Z"
   },
   {
    "duration": 791,
    "start_time": "2022-04-14T10:05:33.527Z"
   },
   {
    "duration": 1045,
    "start_time": "2022-04-14T10:05:46.421Z"
   },
   {
    "duration": 1040,
    "start_time": "2022-04-14T10:06:13.223Z"
   },
   {
    "duration": 1089,
    "start_time": "2022-04-14T10:06:23.680Z"
   },
   {
    "duration": 5,
    "start_time": "2022-04-14T11:11:15.651Z"
   },
   {
    "duration": 134,
    "start_time": "2022-04-14T11:11:15.662Z"
   },
   {
    "duration": 16,
    "start_time": "2022-04-14T11:11:15.799Z"
   },
   {
    "duration": 81,
    "start_time": "2022-04-14T11:11:15.816Z"
   },
   {
    "duration": 8,
    "start_time": "2022-04-14T11:11:15.900Z"
   },
   {
    "duration": 33,
    "start_time": "2022-04-14T11:11:15.910Z"
   },
   {
    "duration": 11,
    "start_time": "2022-04-14T11:11:15.946Z"
   },
   {
    "duration": 15,
    "start_time": "2022-04-14T11:11:15.958Z"
   },
   {
    "duration": 25,
    "start_time": "2022-04-14T11:11:15.975Z"
   },
   {
    "duration": 9,
    "start_time": "2022-04-14T11:11:16.001Z"
   },
   {
    "duration": 34,
    "start_time": "2022-04-14T11:11:16.012Z"
   },
   {
    "duration": 30,
    "start_time": "2022-04-14T11:11:16.048Z"
   },
   {
    "duration": 348,
    "start_time": "2022-04-14T11:11:16.079Z"
   },
   {
    "duration": 425,
    "start_time": "2022-04-14T11:11:16.428Z"
   },
   {
    "duration": 311,
    "start_time": "2022-04-14T11:11:16.856Z"
   },
   {
    "duration": 25,
    "start_time": "2022-04-14T11:11:17.169Z"
   },
   {
    "duration": 7,
    "start_time": "2022-04-14T11:11:17.195Z"
   },
   {
    "duration": 24,
    "start_time": "2022-04-14T11:11:17.209Z"
   },
   {
    "duration": 250,
    "start_time": "2022-04-14T11:11:17.235Z"
   },
   {
    "duration": 5,
    "start_time": "2022-04-14T11:11:17.487Z"
   },
   {
    "duration": 341,
    "start_time": "2022-04-14T11:11:17.494Z"
   },
   {
    "duration": 272,
    "start_time": "2022-04-14T11:11:17.837Z"
   },
   {
    "duration": 7,
    "start_time": "2022-04-14T11:11:18.111Z"
   },
   {
    "duration": 33,
    "start_time": "2022-04-14T11:11:18.120Z"
   },
   {
    "duration": 20,
    "start_time": "2022-04-14T11:11:18.154Z"
   },
   {
    "duration": 4,
    "start_time": "2022-04-14T11:11:18.176Z"
   },
   {
    "duration": 20,
    "start_time": "2022-04-14T11:11:18.182Z"
   },
   {
    "duration": 11,
    "start_time": "2022-04-14T11:11:18.204Z"
   },
   {
    "duration": 32,
    "start_time": "2022-04-14T11:11:18.216Z"
   },
   {
    "duration": 15,
    "start_time": "2022-04-14T11:11:18.250Z"
   },
   {
    "duration": 11,
    "start_time": "2022-04-14T11:11:18.267Z"
   },
   {
    "duration": 11,
    "start_time": "2022-04-14T11:11:18.280Z"
   },
   {
    "duration": 7,
    "start_time": "2022-04-14T11:11:18.292Z"
   },
   {
    "duration": 1315,
    "start_time": "2022-04-14T11:11:18.327Z"
   },
   {
    "duration": 12,
    "start_time": "2022-04-14T11:11:19.644Z"
   },
   {
    "duration": 12,
    "start_time": "2022-04-14T11:11:19.658Z"
   },
   {
    "duration": 43,
    "start_time": "2022-04-24T10:03:02.061Z"
   },
   {
    "duration": 1251,
    "start_time": "2022-04-24T10:03:05.867Z"
   },
   {
    "duration": 58,
    "start_time": "2022-04-24T10:03:07.120Z"
   },
   {
    "duration": 12,
    "start_time": "2022-04-24T10:03:07.180Z"
   },
   {
    "duration": 88,
    "start_time": "2022-04-24T10:03:07.194Z"
   },
   {
    "duration": 8,
    "start_time": "2022-04-24T10:03:07.285Z"
   },
   {
    "duration": 18,
    "start_time": "2022-04-24T10:03:07.295Z"
   },
   {
    "duration": 6,
    "start_time": "2022-04-24T10:03:07.327Z"
   },
   {
    "duration": 27,
    "start_time": "2022-04-24T10:03:07.334Z"
   },
   {
    "duration": 10,
    "start_time": "2022-04-24T10:03:07.362Z"
   },
   {
    "duration": 22,
    "start_time": "2022-04-24T10:03:07.374Z"
   },
   {
    "duration": 7,
    "start_time": "2022-04-24T10:03:07.398Z"
   },
   {
    "duration": 20,
    "start_time": "2022-04-24T10:03:07.406Z"
   },
   {
    "duration": 28,
    "start_time": "2022-04-24T10:03:07.427Z"
   },
   {
    "duration": 401,
    "start_time": "2022-04-24T10:03:07.458Z"
   },
   {
    "duration": 362,
    "start_time": "2022-04-24T10:03:07.861Z"
   },
   {
    "duration": 404,
    "start_time": "2022-04-24T10:03:08.225Z"
   },
   {
    "duration": 36,
    "start_time": "2022-04-24T10:03:08.633Z"
   },
   {
    "duration": 4,
    "start_time": "2022-04-24T10:03:08.670Z"
   },
   {
    "duration": 7,
    "start_time": "2022-04-24T10:03:08.675Z"
   },
   {
    "duration": 256,
    "start_time": "2022-04-24T10:03:08.683Z"
   },
   {
    "duration": 7,
    "start_time": "2022-04-24T10:03:08.940Z"
   },
   {
    "duration": 232,
    "start_time": "2022-04-24T10:03:08.948Z"
   },
   {
    "duration": 232,
    "start_time": "2022-04-24T10:03:09.182Z"
   },
   {
    "duration": 16,
    "start_time": "2022-04-24T10:03:09.416Z"
   },
   {
    "duration": 21,
    "start_time": "2022-04-24T10:03:09.435Z"
   },
   {
    "duration": 17,
    "start_time": "2022-04-24T10:03:09.457Z"
   },
   {
    "duration": 6,
    "start_time": "2022-04-24T10:03:09.475Z"
   },
   {
    "duration": 19,
    "start_time": "2022-04-24T10:03:09.483Z"
   },
   {
    "duration": 11,
    "start_time": "2022-04-24T10:03:09.503Z"
   },
   {
    "duration": 21,
    "start_time": "2022-04-24T10:03:09.515Z"
   },
   {
    "duration": 28,
    "start_time": "2022-04-24T10:03:09.538Z"
   },
   {
    "duration": 90,
    "start_time": "2022-04-24T10:03:09.567Z"
   },
   {
    "duration": 12,
    "start_time": "2022-04-24T10:03:09.658Z"
   },
   {
    "duration": 5,
    "start_time": "2022-04-24T10:03:09.672Z"
   },
   {
    "duration": 1197,
    "start_time": "2022-04-24T10:03:09.678Z"
   },
   {
    "duration": 15,
    "start_time": "2022-04-24T10:03:10.927Z"
   },
   {
    "duration": 19,
    "start_time": "2022-04-24T10:03:10.951Z"
   },
   {
    "duration": 9,
    "start_time": "2022-04-24T10:03:40.845Z"
   },
   {
    "duration": 134,
    "start_time": "2022-04-24T10:10:20.986Z"
   },
   {
    "duration": 161,
    "start_time": "2022-04-24T10:34:27.594Z"
   },
   {
    "duration": 83,
    "start_time": "2022-04-24T10:40:32.953Z"
   },
   {
    "duration": 13,
    "start_time": "2022-04-24T10:40:57.180Z"
   },
   {
    "duration": 159,
    "start_time": "2022-04-24T10:45:55.783Z"
   },
   {
    "duration": 139,
    "start_time": "2022-04-24T10:49:53.666Z"
   },
   {
    "duration": 45,
    "start_time": "2022-04-30T06:41:42.121Z"
   },
   {
    "duration": 1377,
    "start_time": "2022-04-30T06:41:48.030Z"
   },
   {
    "duration": 87,
    "start_time": "2022-04-30T06:41:49.410Z"
   },
   {
    "duration": 15,
    "start_time": "2022-04-30T06:41:49.504Z"
   },
   {
    "duration": 74,
    "start_time": "2022-04-30T06:41:49.521Z"
   },
   {
    "duration": 13,
    "start_time": "2022-04-30T06:41:49.597Z"
   },
   {
    "duration": 89,
    "start_time": "2022-04-30T06:41:49.612Z"
   },
   {
    "duration": 13,
    "start_time": "2022-04-30T06:41:49.703Z"
   },
   {
    "duration": 6,
    "start_time": "2022-04-30T06:41:49.717Z"
   },
   {
    "duration": 17,
    "start_time": "2022-04-30T06:41:49.725Z"
   },
   {
    "duration": 26,
    "start_time": "2022-04-30T06:41:49.746Z"
   },
   {
    "duration": 15,
    "start_time": "2022-04-30T06:41:49.793Z"
   },
   {
    "duration": 11,
    "start_time": "2022-04-30T06:41:49.810Z"
   },
   {
    "duration": 16,
    "start_time": "2022-04-30T06:41:49.823Z"
   },
   {
    "duration": 24,
    "start_time": "2022-04-30T06:41:49.841Z"
   },
   {
    "duration": 302,
    "start_time": "2022-04-30T06:41:49.867Z"
   },
   {
    "duration": 402,
    "start_time": "2022-04-30T06:41:50.171Z"
   },
   {
    "duration": 272,
    "start_time": "2022-04-30T06:41:50.574Z"
   },
   {
    "duration": 23,
    "start_time": "2022-04-30T06:41:50.847Z"
   },
   {
    "duration": 4,
    "start_time": "2022-04-30T06:41:50.872Z"
   },
   {
    "duration": 4,
    "start_time": "2022-04-30T06:41:50.900Z"
   },
   {
    "duration": 234,
    "start_time": "2022-04-30T06:41:50.908Z"
   },
   {
    "duration": 6,
    "start_time": "2022-04-30T06:41:51.144Z"
   },
   {
    "duration": 235,
    "start_time": "2022-04-30T06:41:51.152Z"
   },
   {
    "duration": 307,
    "start_time": "2022-04-30T06:41:51.392Z"
   },
   {
    "duration": 6,
    "start_time": "2022-04-30T06:41:51.702Z"
   },
   {
    "duration": 7,
    "start_time": "2022-04-30T06:41:51.709Z"
   },
   {
    "duration": 13,
    "start_time": "2022-04-30T06:41:51.717Z"
   },
   {
    "duration": 3,
    "start_time": "2022-04-30T06:41:51.733Z"
   },
   {
    "duration": 15,
    "start_time": "2022-04-30T06:41:51.738Z"
   },
   {
    "duration": 49,
    "start_time": "2022-04-30T06:41:51.755Z"
   },
   {
    "duration": 12,
    "start_time": "2022-04-30T06:41:51.806Z"
   },
   {
    "duration": 11,
    "start_time": "2022-04-30T06:41:51.820Z"
   },
   {
    "duration": 11,
    "start_time": "2022-04-30T06:41:51.833Z"
   },
   {
    "duration": 10,
    "start_time": "2022-04-30T06:41:51.846Z"
   },
   {
    "duration": 5,
    "start_time": "2022-04-30T06:41:51.858Z"
   },
   {
    "duration": 1068,
    "start_time": "2022-04-30T06:41:51.864Z"
   },
   {
    "duration": 9,
    "start_time": "2022-04-30T06:41:52.934Z"
   },
   {
    "duration": 11,
    "start_time": "2022-04-30T06:41:52.944Z"
   },
   {
    "duration": 8,
    "start_time": "2022-04-30T07:00:52.645Z"
   },
   {
    "duration": 6,
    "start_time": "2022-04-30T07:01:04.003Z"
   },
   {
    "duration": 4,
    "start_time": "2022-04-30T07:01:26.106Z"
   },
   {
    "duration": 13,
    "start_time": "2022-04-30T07:01:36.992Z"
   },
   {
    "duration": 6,
    "start_time": "2022-04-30T07:02:07.413Z"
   },
   {
    "duration": 7,
    "start_time": "2022-04-30T07:17:23.257Z"
   },
   {
    "duration": 4,
    "start_time": "2022-04-30T07:23:47.631Z"
   },
   {
    "duration": 132,
    "start_time": "2022-04-30T07:24:52.900Z"
   },
   {
    "duration": 280,
    "start_time": "2022-04-30T07:39:47.634Z"
   },
   {
    "duration": 20,
    "start_time": "2022-04-30T07:50:34.899Z"
   },
   {
    "duration": 14,
    "start_time": "2022-04-30T07:50:50.918Z"
   },
   {
    "duration": 24,
    "start_time": "2022-04-30T07:52:03.539Z"
   },
   {
    "duration": 31,
    "start_time": "2022-04-30T07:55:29.985Z"
   },
   {
    "duration": 27,
    "start_time": "2022-04-30T07:55:50.349Z"
   },
   {
    "duration": 15,
    "start_time": "2022-04-30T07:56:45.676Z"
   },
   {
    "duration": 17,
    "start_time": "2022-04-30T08:00:14.626Z"
   },
   {
    "duration": 16,
    "start_time": "2022-04-30T08:00:18.060Z"
   },
   {
    "duration": 2131,
    "start_time": "2022-04-30T08:10:53.772Z"
   },
   {
    "duration": 127,
    "start_time": "2022-04-30T08:11:24.055Z"
   },
   {
    "duration": 175,
    "start_time": "2022-04-30T08:11:41.433Z"
   },
   {
    "duration": 162,
    "start_time": "2022-04-30T08:12:04.564Z"
   },
   {
    "duration": 15,
    "start_time": "2022-04-30T08:12:49.350Z"
   },
   {
    "duration": 159,
    "start_time": "2022-04-30T08:13:28.756Z"
   },
   {
    "duration": 149,
    "start_time": "2022-04-30T08:13:38.543Z"
   },
   {
    "duration": 133,
    "start_time": "2022-04-30T08:13:43.845Z"
   },
   {
    "duration": 252,
    "start_time": "2022-04-30T08:13:49.056Z"
   },
   {
    "duration": 127,
    "start_time": "2022-04-30T08:14:31.695Z"
   },
   {
    "duration": 118,
    "start_time": "2022-04-30T08:14:43.544Z"
   },
   {
    "duration": 115,
    "start_time": "2022-04-30T08:15:05.405Z"
   },
   {
    "duration": 121,
    "start_time": "2022-04-30T08:15:25.958Z"
   },
   {
    "duration": 163,
    "start_time": "2022-04-30T08:15:39.916Z"
   },
   {
    "duration": 156,
    "start_time": "2022-04-30T08:17:29.351Z"
   },
   {
    "duration": 108,
    "start_time": "2022-04-30T08:19:55.744Z"
   },
   {
    "duration": 104,
    "start_time": "2022-04-30T08:20:18.800Z"
   },
   {
    "duration": 11,
    "start_time": "2022-04-30T08:20:46.906Z"
   },
   {
    "duration": 2222,
    "start_time": "2022-04-30T08:22:09.775Z"
   },
   {
    "duration": 108,
    "start_time": "2022-04-30T08:22:53.176Z"
   },
   {
    "duration": 112,
    "start_time": "2022-04-30T08:23:01.067Z"
   },
   {
    "duration": 136,
    "start_time": "2022-04-30T08:24:02.386Z"
   },
   {
    "duration": 278,
    "start_time": "2022-04-30T08:24:20.263Z"
   },
   {
    "duration": 196,
    "start_time": "2022-04-30T08:24:28.877Z"
   },
   {
    "duration": 136,
    "start_time": "2022-04-30T08:24:35.262Z"
   },
   {
    "duration": 2061,
    "start_time": "2022-04-30T08:24:58.305Z"
   },
   {
    "duration": 147,
    "start_time": "2022-04-30T08:25:34.613Z"
   },
   {
    "duration": 150,
    "start_time": "2022-04-30T08:28:22.285Z"
   },
   {
    "duration": 181,
    "start_time": "2022-04-30T08:30:06.490Z"
   },
   {
    "duration": 10,
    "start_time": "2022-04-30T08:30:42.528Z"
   },
   {
    "duration": 158,
    "start_time": "2022-04-30T08:31:10.533Z"
   },
   {
    "duration": 121,
    "start_time": "2022-04-30T08:47:04.301Z"
   },
   {
    "duration": 114,
    "start_time": "2022-04-30T08:54:32.510Z"
   },
   {
    "duration": 123,
    "start_time": "2022-04-30T09:25:02.239Z"
   },
   {
    "duration": 121,
    "start_time": "2022-04-30T09:25:22.372Z"
   },
   {
    "duration": 119,
    "start_time": "2022-04-30T10:13:34.246Z"
   },
   {
    "duration": 148,
    "start_time": "2022-04-30T10:15:38.538Z"
   },
   {
    "duration": 10,
    "start_time": "2022-04-30T10:19:31.088Z"
   },
   {
    "duration": 684,
    "start_time": "2022-04-30T10:19:55.498Z"
   },
   {
    "duration": 9,
    "start_time": "2022-04-30T10:24:41.472Z"
   },
   {
    "duration": 10,
    "start_time": "2022-04-30T10:27:33.733Z"
   },
   {
    "duration": 678,
    "start_time": "2022-04-30T10:28:03.626Z"
   },
   {
    "duration": 15,
    "start_time": "2022-04-30T10:30:12.715Z"
   },
   {
    "duration": 655,
    "start_time": "2022-04-30T10:32:00.117Z"
   },
   {
    "duration": 627,
    "start_time": "2022-04-30T10:32:34.964Z"
   },
   {
    "duration": 576,
    "start_time": "2022-04-30T10:32:57.022Z"
   },
   {
    "duration": 3,
    "start_time": "2022-04-30T10:33:03.242Z"
   },
   {
    "duration": 63,
    "start_time": "2022-04-30T10:33:03.247Z"
   },
   {
    "duration": 14,
    "start_time": "2022-04-30T10:33:03.312Z"
   },
   {
    "duration": 87,
    "start_time": "2022-04-30T10:33:03.328Z"
   },
   {
    "duration": 7,
    "start_time": "2022-04-30T10:33:03.417Z"
   },
   {
    "duration": 21,
    "start_time": "2022-04-30T10:33:03.426Z"
   },
   {
    "duration": 8,
    "start_time": "2022-04-30T10:33:03.449Z"
   },
   {
    "duration": 6,
    "start_time": "2022-04-30T10:33:03.458Z"
   },
   {
    "duration": 8,
    "start_time": "2022-04-30T10:33:03.493Z"
   },
   {
    "duration": 19,
    "start_time": "2022-04-30T10:33:03.502Z"
   },
   {
    "duration": 4,
    "start_time": "2022-04-30T10:33:03.524Z"
   },
   {
    "duration": 13,
    "start_time": "2022-04-30T10:33:03.530Z"
   },
   {
    "duration": 226,
    "start_time": "2022-04-30T10:33:03.545Z"
   },
   {
    "duration": 26,
    "start_time": "2022-04-30T10:33:03.772Z"
   },
   {
    "duration": 303,
    "start_time": "2022-04-30T10:33:03.800Z"
   },
   {
    "duration": 0,
    "start_time": "2022-04-30T10:33:04.106Z"
   },
   {
    "duration": 0,
    "start_time": "2022-04-30T10:33:04.107Z"
   },
   {
    "duration": 0,
    "start_time": "2022-04-30T10:33:04.109Z"
   },
   {
    "duration": 0,
    "start_time": "2022-04-30T10:33:04.110Z"
   },
   {
    "duration": 0,
    "start_time": "2022-04-30T10:33:04.112Z"
   },
   {
    "duration": 0,
    "start_time": "2022-04-30T10:33:04.114Z"
   },
   {
    "duration": 0,
    "start_time": "2022-04-30T10:33:04.115Z"
   },
   {
    "duration": 0,
    "start_time": "2022-04-30T10:33:04.117Z"
   },
   {
    "duration": 0,
    "start_time": "2022-04-30T10:33:04.119Z"
   },
   {
    "duration": 0,
    "start_time": "2022-04-30T10:33:04.120Z"
   },
   {
    "duration": 0,
    "start_time": "2022-04-30T10:33:04.121Z"
   },
   {
    "duration": 0,
    "start_time": "2022-04-30T10:33:04.123Z"
   },
   {
    "duration": 0,
    "start_time": "2022-04-30T10:33:04.124Z"
   },
   {
    "duration": 0,
    "start_time": "2022-04-30T10:33:04.126Z"
   },
   {
    "duration": 0,
    "start_time": "2022-04-30T10:33:04.128Z"
   },
   {
    "duration": 0,
    "start_time": "2022-04-30T10:33:04.129Z"
   },
   {
    "duration": 0,
    "start_time": "2022-04-30T10:33:04.131Z"
   },
   {
    "duration": 0,
    "start_time": "2022-04-30T10:33:04.132Z"
   },
   {
    "duration": 0,
    "start_time": "2022-04-30T10:33:04.134Z"
   },
   {
    "duration": 0,
    "start_time": "2022-04-30T10:33:04.313Z"
   },
   {
    "duration": 0,
    "start_time": "2022-04-30T10:33:04.315Z"
   },
   {
    "duration": 0,
    "start_time": "2022-04-30T10:33:04.317Z"
   },
   {
    "duration": 0,
    "start_time": "2022-04-30T10:33:04.319Z"
   },
   {
    "duration": 0,
    "start_time": "2022-04-30T10:33:04.320Z"
   },
   {
    "duration": 0,
    "start_time": "2022-04-30T10:33:04.321Z"
   },
   {
    "duration": 621,
    "start_time": "2022-04-30T10:35:47.453Z"
   },
   {
    "duration": 335,
    "start_time": "2022-04-30T10:35:54.388Z"
   },
   {
    "duration": 311,
    "start_time": "2022-04-30T10:36:00.339Z"
   },
   {
    "duration": 281,
    "start_time": "2022-04-30T10:36:09.824Z"
   },
   {
    "duration": 750,
    "start_time": "2022-04-30T10:42:40.176Z"
   },
   {
    "duration": 745,
    "start_time": "2022-04-30T10:43:07.085Z"
   },
   {
    "duration": 737,
    "start_time": "2022-04-30T10:43:16.342Z"
   },
   {
    "duration": 738,
    "start_time": "2022-04-30T10:43:26.239Z"
   },
   {
    "duration": 862,
    "start_time": "2022-04-30T10:45:28.753Z"
   },
   {
    "duration": 912,
    "start_time": "2022-04-30T10:49:05.110Z"
   },
   {
    "duration": 620,
    "start_time": "2022-04-30T10:49:18.964Z"
   },
   {
    "duration": 760,
    "start_time": "2022-04-30T10:49:43.212Z"
   },
   {
    "duration": 17,
    "start_time": "2022-04-30T10:51:32.747Z"
   },
   {
    "duration": 439,
    "start_time": "2022-04-30T10:52:20.359Z"
   },
   {
    "duration": 437,
    "start_time": "2022-04-30T10:52:25.754Z"
   },
   {
    "duration": 130,
    "start_time": "2022-04-30T11:02:46.350Z"
   },
   {
    "duration": 477,
    "start_time": "2022-04-30T16:57:00.027Z"
   },
   {
    "duration": 347,
    "start_time": "2022-04-30T16:59:07.445Z"
   },
   {
    "duration": 128,
    "start_time": "2022-04-30T16:59:27.828Z"
   },
   {
    "duration": 468,
    "start_time": "2022-04-30T16:59:32.597Z"
   },
   {
    "duration": 489,
    "start_time": "2022-04-30T17:02:12.503Z"
   },
   {
    "duration": 430,
    "start_time": "2022-04-30T17:02:19.866Z"
   },
   {
    "duration": 394,
    "start_time": "2022-04-30T17:02:32.558Z"
   },
   {
    "duration": 424,
    "start_time": "2022-04-30T17:02:58.342Z"
   },
   {
    "duration": 286,
    "start_time": "2022-04-30T17:03:03.787Z"
   },
   {
    "duration": 287,
    "start_time": "2022-04-30T17:03:09.898Z"
   },
   {
    "duration": 347,
    "start_time": "2022-04-30T17:03:19.192Z"
   },
   {
    "duration": 441,
    "start_time": "2022-04-30T17:03:38.956Z"
   },
   {
    "duration": 284,
    "start_time": "2022-04-30T17:04:12.961Z"
   },
   {
    "duration": 375,
    "start_time": "2022-04-30T17:25:42.790Z"
   },
   {
    "duration": 456,
    "start_time": "2022-04-30T17:29:30.888Z"
   },
   {
    "duration": 349,
    "start_time": "2022-04-30T17:29:42.504Z"
   },
   {
    "duration": 258,
    "start_time": "2022-04-30T17:35:36.033Z"
   },
   {
    "duration": 255,
    "start_time": "2022-04-30T17:39:52.842Z"
   },
   {
    "duration": 4,
    "start_time": "2022-04-30T17:41:34.585Z"
   },
   {
    "duration": 57,
    "start_time": "2022-04-30T17:41:34.591Z"
   },
   {
    "duration": 14,
    "start_time": "2022-04-30T17:41:34.650Z"
   },
   {
    "duration": 76,
    "start_time": "2022-04-30T17:41:34.666Z"
   },
   {
    "duration": 7,
    "start_time": "2022-04-30T17:41:34.744Z"
   },
   {
    "duration": 40,
    "start_time": "2022-04-30T17:41:34.753Z"
   },
   {
    "duration": 8,
    "start_time": "2022-04-30T17:41:34.794Z"
   },
   {
    "duration": 5,
    "start_time": "2022-04-30T17:41:34.804Z"
   },
   {
    "duration": 7,
    "start_time": "2022-04-30T17:41:34.812Z"
   },
   {
    "duration": 16,
    "start_time": "2022-04-30T17:41:34.820Z"
   },
   {
    "duration": 4,
    "start_time": "2022-04-30T17:41:34.837Z"
   },
   {
    "duration": 12,
    "start_time": "2022-04-30T17:41:34.843Z"
   },
   {
    "duration": 230,
    "start_time": "2022-04-30T17:41:34.856Z"
   },
   {
    "duration": 444,
    "start_time": "2022-04-30T17:41:35.088Z"
   },
   {
    "duration": 27,
    "start_time": "2022-04-30T17:41:35.534Z"
   },
   {
    "duration": 308,
    "start_time": "2022-04-30T17:41:35.563Z"
   },
   {
    "duration": 356,
    "start_time": "2022-04-30T17:41:35.873Z"
   },
   {
    "duration": 356,
    "start_time": "2022-04-30T17:41:36.230Z"
   },
   {
    "duration": 24,
    "start_time": "2022-04-30T17:41:36.587Z"
   },
   {
    "duration": 12,
    "start_time": "2022-04-30T17:41:36.612Z"
   },
   {
    "duration": 5,
    "start_time": "2022-04-30T17:41:36.626Z"
   },
   {
    "duration": 289,
    "start_time": "2022-04-30T17:41:36.633Z"
   },
   {
    "duration": 5,
    "start_time": "2022-04-30T17:41:36.924Z"
   },
   {
    "duration": 267,
    "start_time": "2022-04-30T17:41:36.932Z"
   },
   {
    "duration": 295,
    "start_time": "2022-04-30T17:41:37.200Z"
   },
   {
    "duration": 7,
    "start_time": "2022-04-30T17:41:37.497Z"
   },
   {
    "duration": 6,
    "start_time": "2022-04-30T17:41:37.506Z"
   },
   {
    "duration": 14,
    "start_time": "2022-04-30T17:41:37.514Z"
   },
   {
    "duration": 4,
    "start_time": "2022-04-30T17:41:37.530Z"
   },
   {
    "duration": 18,
    "start_time": "2022-04-30T17:41:37.536Z"
   },
   {
    "duration": 40,
    "start_time": "2022-04-30T17:41:37.556Z"
   },
   {
    "duration": 12,
    "start_time": "2022-04-30T17:41:37.598Z"
   },
   {
    "duration": 15,
    "start_time": "2022-04-30T17:41:37.611Z"
   },
   {
    "duration": 12,
    "start_time": "2022-04-30T17:41:37.628Z"
   },
   {
    "duration": 11,
    "start_time": "2022-04-30T17:41:37.642Z"
   },
   {
    "duration": 37,
    "start_time": "2022-04-30T17:41:37.655Z"
   },
   {
    "duration": 664,
    "start_time": "2022-04-30T17:41:37.694Z"
   },
   {
    "duration": 10,
    "start_time": "2022-04-30T17:41:38.360Z"
   },
   {
    "duration": 21,
    "start_time": "2022-04-30T17:41:38.371Z"
   },
   {
    "duration": 256,
    "start_time": "2022-04-30T17:44:45.406Z"
   },
   {
    "duration": 282,
    "start_time": "2022-04-30T17:46:57.394Z"
   },
   {
    "duration": 303,
    "start_time": "2022-04-30T17:47:05.489Z"
   },
   {
    "duration": 277,
    "start_time": "2022-04-30T17:47:15.505Z"
   },
   {
    "duration": 831,
    "start_time": "2022-04-30T18:04:51.147Z"
   },
   {
    "duration": 296,
    "start_time": "2022-04-30T18:05:26.063Z"
   },
   {
    "duration": 750,
    "start_time": "2022-04-30T18:05:37.925Z"
   },
   {
    "duration": 128,
    "start_time": "2022-04-30T18:05:49.477Z"
   },
   {
    "duration": 19,
    "start_time": "2022-04-30T18:05:57.451Z"
   },
   {
    "duration": 119,
    "start_time": "2022-04-30T18:08:04.058Z"
   },
   {
    "duration": 126,
    "start_time": "2022-04-30T18:08:26.730Z"
   },
   {
    "duration": 17,
    "start_time": "2022-04-30T18:08:40.583Z"
   },
   {
    "duration": 10273,
    "start_time": "2022-04-30T18:09:34.623Z"
   },
   {
    "duration": 18,
    "start_time": "2022-04-30T18:09:50.121Z"
   },
   {
    "duration": 134,
    "start_time": "2022-04-30T18:10:07.220Z"
   },
   {
    "duration": 137,
    "start_time": "2022-04-30T18:12:15.241Z"
   },
   {
    "duration": 131,
    "start_time": "2022-04-30T18:13:30.552Z"
   },
   {
    "duration": 383,
    "start_time": "2022-04-30T18:13:37.307Z"
   },
   {
    "duration": 555,
    "start_time": "2022-04-30T18:14:33.929Z"
   },
   {
    "duration": 744,
    "start_time": "2022-04-30T18:17:30.821Z"
   },
   {
    "duration": 135,
    "start_time": "2022-04-30T18:17:56.602Z"
   },
   {
    "duration": 139,
    "start_time": "2022-04-30T18:18:43.839Z"
   },
   {
    "duration": 134,
    "start_time": "2022-04-30T18:22:21.033Z"
   },
   {
    "duration": 394,
    "start_time": "2022-04-30T18:25:07.722Z"
   },
   {
    "duration": 134,
    "start_time": "2022-04-30T18:27:47.253Z"
   },
   {
    "duration": 135,
    "start_time": "2022-04-30T18:29:37.078Z"
   },
   {
    "duration": 1845,
    "start_time": "2022-04-30T18:29:53.543Z"
   },
   {
    "duration": 1743,
    "start_time": "2022-04-30T18:30:42.264Z"
   },
   {
    "duration": 1680,
    "start_time": "2022-04-30T18:31:09.803Z"
   },
   {
    "duration": 3,
    "start_time": "2022-04-30T18:33:59.885Z"
   },
   {
    "duration": 53,
    "start_time": "2022-04-30T18:33:59.890Z"
   },
   {
    "duration": 14,
    "start_time": "2022-04-30T18:33:59.946Z"
   },
   {
    "duration": 92,
    "start_time": "2022-04-30T18:33:59.962Z"
   },
   {
    "duration": 8,
    "start_time": "2022-04-30T18:34:00.057Z"
   },
   {
    "duration": 17,
    "start_time": "2022-04-30T18:34:00.094Z"
   },
   {
    "duration": 9,
    "start_time": "2022-04-30T18:34:00.113Z"
   },
   {
    "duration": 5,
    "start_time": "2022-04-30T18:34:00.123Z"
   },
   {
    "duration": 10,
    "start_time": "2022-04-30T18:34:00.129Z"
   },
   {
    "duration": 24,
    "start_time": "2022-04-30T18:34:00.141Z"
   },
   {
    "duration": 6,
    "start_time": "2022-04-30T18:34:00.192Z"
   },
   {
    "duration": 14,
    "start_time": "2022-04-30T18:34:00.200Z"
   },
   {
    "duration": 222,
    "start_time": "2022-04-30T18:34:00.216Z"
   },
   {
    "duration": 466,
    "start_time": "2022-04-30T18:34:00.439Z"
   },
   {
    "duration": 26,
    "start_time": "2022-04-30T18:34:00.906Z"
   },
   {
    "duration": 305,
    "start_time": "2022-04-30T18:34:00.933Z"
   },
   {
    "duration": 376,
    "start_time": "2022-04-30T18:34:01.239Z"
   },
   {
    "duration": 269,
    "start_time": "2022-04-30T18:34:01.616Z"
   },
   {
    "duration": 26,
    "start_time": "2022-04-30T18:34:01.887Z"
   },
   {
    "duration": 4,
    "start_time": "2022-04-30T18:34:01.915Z"
   },
   {
    "duration": 10,
    "start_time": "2022-04-30T18:34:01.920Z"
   },
   {
    "duration": 538,
    "start_time": "2022-04-30T18:34:01.932Z"
   },
   {
    "duration": 5,
    "start_time": "2022-04-30T18:34:02.471Z"
   },
   {
    "duration": 260,
    "start_time": "2022-04-30T18:34:02.478Z"
   },
   {
    "duration": 283,
    "start_time": "2022-04-30T18:34:02.739Z"
   },
   {
    "duration": 5,
    "start_time": "2022-04-30T18:34:03.024Z"
   },
   {
    "duration": 8,
    "start_time": "2022-04-30T18:34:03.030Z"
   },
   {
    "duration": 21,
    "start_time": "2022-04-30T18:34:03.039Z"
   },
   {
    "duration": 1682,
    "start_time": "2022-04-30T18:34:03.063Z"
   },
   {
    "duration": 4,
    "start_time": "2022-04-30T18:34:04.746Z"
   },
   {
    "duration": 22,
    "start_time": "2022-04-30T18:34:04.752Z"
   },
   {
    "duration": 20,
    "start_time": "2022-04-30T18:34:04.776Z"
   },
   {
    "duration": 11,
    "start_time": "2022-04-30T18:34:04.798Z"
   },
   {
    "duration": 15,
    "start_time": "2022-04-30T18:34:04.810Z"
   },
   {
    "duration": 31,
    "start_time": "2022-04-30T18:34:04.827Z"
   },
   {
    "duration": 19,
    "start_time": "2022-04-30T18:34:04.860Z"
   },
   {
    "duration": 6,
    "start_time": "2022-04-30T18:34:04.880Z"
   },
   {
    "duration": 665,
    "start_time": "2022-04-30T18:34:04.888Z"
   },
   {
    "duration": 9,
    "start_time": "2022-04-30T18:34:05.555Z"
   },
   {
    "duration": 27,
    "start_time": "2022-04-30T18:34:05.566Z"
   },
   {
    "duration": 1790,
    "start_time": "2022-05-01T06:49:55.315Z"
   },
   {
    "duration": 81,
    "start_time": "2022-05-01T06:49:57.108Z"
   },
   {
    "duration": 34,
    "start_time": "2022-05-01T06:49:57.191Z"
   },
   {
    "duration": 116,
    "start_time": "2022-05-01T06:49:57.229Z"
   },
   {
    "duration": 10,
    "start_time": "2022-05-01T06:49:57.348Z"
   },
   {
    "duration": 104,
    "start_time": "2022-05-01T06:49:57.361Z"
   },
   {
    "duration": 12,
    "start_time": "2022-05-01T06:49:57.468Z"
   },
   {
    "duration": 8,
    "start_time": "2022-05-01T06:49:57.482Z"
   },
   {
    "duration": 41,
    "start_time": "2022-05-01T06:49:57.492Z"
   },
   {
    "duration": 48,
    "start_time": "2022-05-01T06:49:57.538Z"
   },
   {
    "duration": 7,
    "start_time": "2022-05-01T06:49:57.588Z"
   },
   {
    "duration": 15,
    "start_time": "2022-05-01T06:49:57.597Z"
   },
   {
    "duration": 345,
    "start_time": "2022-05-01T06:49:57.614Z"
   },
   {
    "duration": 844,
    "start_time": "2022-05-01T06:49:57.962Z"
   },
   {
    "duration": 43,
    "start_time": "2022-05-01T06:49:58.809Z"
   },
   {
    "duration": 471,
    "start_time": "2022-05-01T06:49:58.855Z"
   },
   {
    "duration": 589,
    "start_time": "2022-05-01T06:49:59.328Z"
   },
   {
    "duration": 463,
    "start_time": "2022-05-01T06:49:59.919Z"
   },
   {
    "duration": 52,
    "start_time": "2022-05-01T06:50:00.385Z"
   },
   {
    "duration": 25,
    "start_time": "2022-05-01T06:50:00.440Z"
   },
   {
    "duration": 18,
    "start_time": "2022-05-01T06:50:00.468Z"
   },
   {
    "duration": 503,
    "start_time": "2022-05-01T06:50:00.488Z"
   },
   {
    "duration": 7,
    "start_time": "2022-05-01T06:50:00.993Z"
   },
   {
    "duration": 378,
    "start_time": "2022-05-01T06:50:01.002Z"
   },
   {
    "duration": 410,
    "start_time": "2022-05-01T06:50:01.383Z"
   },
   {
    "duration": 7,
    "start_time": "2022-05-01T06:50:01.796Z"
   },
   {
    "duration": 24,
    "start_time": "2022-05-01T06:50:01.805Z"
   },
   {
    "duration": 26,
    "start_time": "2022-05-01T06:50:01.834Z"
   },
   {
    "duration": 2794,
    "start_time": "2022-05-01T06:50:01.862Z"
   },
   {
    "duration": 4,
    "start_time": "2022-05-01T06:50:04.659Z"
   },
   {
    "duration": 31,
    "start_time": "2022-05-01T06:50:04.665Z"
   },
   {
    "duration": 36,
    "start_time": "2022-05-01T06:50:04.698Z"
   },
   {
    "duration": 19,
    "start_time": "2022-05-01T06:50:04.736Z"
   },
   {
    "duration": 21,
    "start_time": "2022-05-01T06:50:04.757Z"
   },
   {
    "duration": 44,
    "start_time": "2022-05-01T06:50:04.780Z"
   },
   {
    "duration": 18,
    "start_time": "2022-05-01T06:50:04.827Z"
   },
   {
    "duration": 12,
    "start_time": "2022-05-01T06:50:04.848Z"
   },
   {
    "duration": 1417,
    "start_time": "2022-05-01T06:50:04.863Z"
   },
   {
    "duration": 14,
    "start_time": "2022-05-01T06:50:06.282Z"
   },
   {
    "duration": 34,
    "start_time": "2022-05-01T06:50:06.298Z"
   },
   {
    "duration": 6,
    "start_time": "2022-05-01T08:20:15.419Z"
   },
   {
    "duration": 5,
    "start_time": "2022-05-01T08:20:36.937Z"
   },
   {
    "duration": 20,
    "start_time": "2022-05-01T08:20:36.945Z"
   },
   {
    "duration": 18,
    "start_time": "2022-05-01T08:20:36.967Z"
   },
   {
    "duration": 39,
    "start_time": "2022-05-01T08:20:36.988Z"
   },
   {
    "duration": 20,
    "start_time": "2022-05-01T08:20:37.029Z"
   },
   {
    "duration": 24,
    "start_time": "2022-05-01T08:20:37.051Z"
   },
   {
    "duration": 18,
    "start_time": "2022-05-01T08:20:37.077Z"
   },
   {
    "duration": 8,
    "start_time": "2022-05-01T08:20:37.130Z"
   },
   {
    "duration": 1541,
    "start_time": "2022-05-01T08:20:37.141Z"
   },
   {
    "duration": 14,
    "start_time": "2022-05-01T08:20:38.685Z"
   },
   {
    "duration": 34,
    "start_time": "2022-05-01T08:20:38.702Z"
   },
   {
    "duration": 5,
    "start_time": "2022-05-01T08:22:42.800Z"
   },
   {
    "duration": 23,
    "start_time": "2022-05-01T08:22:42.808Z"
   },
   {
    "duration": 18,
    "start_time": "2022-05-01T08:22:42.833Z"
   },
   {
    "duration": 19,
    "start_time": "2022-05-01T08:22:42.854Z"
   },
   {
    "duration": 18,
    "start_time": "2022-05-01T08:22:42.875Z"
   },
   {
    "duration": 47,
    "start_time": "2022-05-01T08:22:42.895Z"
   },
   {
    "duration": 22,
    "start_time": "2022-05-01T08:22:42.944Z"
   },
   {
    "duration": 7,
    "start_time": "2022-05-01T08:22:42.968Z"
   },
   {
    "duration": 1486,
    "start_time": "2022-05-01T08:22:42.978Z"
   },
   {
    "duration": 13,
    "start_time": "2022-05-01T08:22:44.466Z"
   },
   {
    "duration": 16,
    "start_time": "2022-05-01T08:22:44.482Z"
   },
   {
    "duration": 5,
    "start_time": "2022-05-01T08:23:03.918Z"
   },
   {
    "duration": 25,
    "start_time": "2022-05-01T08:23:03.926Z"
   },
   {
    "duration": 18,
    "start_time": "2022-05-01T08:23:03.954Z"
   },
   {
    "duration": 49,
    "start_time": "2022-05-01T08:23:03.975Z"
   },
   {
    "duration": 18,
    "start_time": "2022-05-01T08:23:04.027Z"
   },
   {
    "duration": 22,
    "start_time": "2022-05-01T08:23:04.047Z"
   },
   {
    "duration": 18,
    "start_time": "2022-05-01T08:23:04.072Z"
   },
   {
    "duration": 9,
    "start_time": "2022-05-01T08:23:04.123Z"
   },
   {
    "duration": 1658,
    "start_time": "2022-05-01T08:23:04.135Z"
   },
   {
    "duration": 14,
    "start_time": "2022-05-01T08:23:05.795Z"
   },
   {
    "duration": 19,
    "start_time": "2022-05-01T08:23:05.823Z"
   },
   {
    "duration": 390,
    "start_time": "2022-05-01T10:17:14.252Z"
   },
   {
    "duration": 405,
    "start_time": "2022-05-01T10:17:26.473Z"
   },
   {
    "duration": 737,
    "start_time": "2022-05-01T10:18:32.072Z"
   },
   {
    "duration": 370,
    "start_time": "2022-05-01T10:21:51.770Z"
   },
   {
    "duration": 519,
    "start_time": "2022-05-01T10:22:02.601Z"
   },
   {
    "duration": 426,
    "start_time": "2022-05-01T10:22:11.174Z"
   },
   {
    "duration": 43,
    "start_time": "2022-05-01T21:23:17.330Z"
   },
   {
    "duration": 1160,
    "start_time": "2022-05-01T21:23:21.897Z"
   },
   {
    "duration": 53,
    "start_time": "2022-05-01T21:23:23.059Z"
   },
   {
    "duration": 17,
    "start_time": "2022-05-01T21:23:23.114Z"
   },
   {
    "duration": 59,
    "start_time": "2022-05-01T21:23:23.133Z"
   },
   {
    "duration": 30,
    "start_time": "2022-05-01T21:23:23.194Z"
   },
   {
    "duration": 54,
    "start_time": "2022-05-01T21:23:23.226Z"
   },
   {
    "duration": 8,
    "start_time": "2022-05-01T21:23:23.282Z"
   },
   {
    "duration": 13,
    "start_time": "2022-05-01T21:23:23.291Z"
   },
   {
    "duration": 20,
    "start_time": "2022-05-01T21:23:23.306Z"
   },
   {
    "duration": 18,
    "start_time": "2022-05-01T21:23:23.329Z"
   },
   {
    "duration": 9,
    "start_time": "2022-05-01T21:23:23.349Z"
   },
   {
    "duration": 12,
    "start_time": "2022-05-01T21:23:23.360Z"
   },
   {
    "duration": 193,
    "start_time": "2022-05-01T21:23:23.375Z"
   },
   {
    "duration": 436,
    "start_time": "2022-05-01T21:23:23.570Z"
   },
   {
    "duration": 46,
    "start_time": "2022-05-01T21:23:24.009Z"
   },
   {
    "duration": 316,
    "start_time": "2022-05-01T21:23:24.057Z"
   },
   {
    "duration": 493,
    "start_time": "2022-05-01T21:23:24.374Z"
   },
   {
    "duration": 304,
    "start_time": "2022-05-01T21:23:24.869Z"
   },
   {
    "duration": 24,
    "start_time": "2022-05-01T21:23:25.175Z"
   },
   {
    "duration": 5,
    "start_time": "2022-05-01T21:23:25.201Z"
   },
   {
    "duration": 4,
    "start_time": "2022-05-01T21:23:25.223Z"
   },
   {
    "duration": 299,
    "start_time": "2022-05-01T21:23:25.228Z"
   },
   {
    "duration": 4,
    "start_time": "2022-05-01T21:23:25.529Z"
   },
   {
    "duration": 204,
    "start_time": "2022-05-01T21:23:25.535Z"
   },
   {
    "duration": 222,
    "start_time": "2022-05-01T21:23:25.741Z"
   },
   {
    "duration": 5,
    "start_time": "2022-05-01T21:23:25.964Z"
   },
   {
    "duration": 10,
    "start_time": "2022-05-01T21:23:25.971Z"
   },
   {
    "duration": 16,
    "start_time": "2022-05-01T21:23:25.984Z"
   },
   {
    "duration": 2527,
    "start_time": "2022-05-01T21:23:26.001Z"
   },
   {
    "duration": 4,
    "start_time": "2022-05-01T21:23:28.529Z"
   },
   {
    "duration": 14,
    "start_time": "2022-05-01T21:23:28.535Z"
   },
   {
    "duration": 10,
    "start_time": "2022-05-01T21:23:28.550Z"
   },
   {
    "duration": 13,
    "start_time": "2022-05-01T21:23:28.562Z"
   },
   {
    "duration": 11,
    "start_time": "2022-05-01T21:23:28.577Z"
   },
   {
    "duration": 41,
    "start_time": "2022-05-01T21:23:28.591Z"
   },
   {
    "duration": 14,
    "start_time": "2022-05-01T21:23:28.633Z"
   },
   {
    "duration": 5,
    "start_time": "2022-05-01T21:23:28.648Z"
   },
   {
    "duration": 988,
    "start_time": "2022-05-01T21:23:28.655Z"
   },
   {
    "duration": 78,
    "start_time": "2022-05-01T21:23:29.645Z"
   },
   {
    "duration": 9,
    "start_time": "2022-05-01T21:23:29.725Z"
   },
   {
    "duration": 233,
    "start_time": "2022-05-01T21:23:32.540Z"
   },
   {
    "duration": 210,
    "start_time": "2022-05-01T21:23:37.848Z"
   },
   {
    "duration": 366,
    "start_time": "2022-05-01T21:23:45.328Z"
   },
   {
    "duration": 219,
    "start_time": "2022-05-01T21:23:51.098Z"
   },
   {
    "duration": 1178,
    "start_time": "2022-05-01T21:30:50.232Z"
   },
   {
    "duration": 55,
    "start_time": "2022-05-01T21:30:51.412Z"
   },
   {
    "duration": 13,
    "start_time": "2022-05-01T21:30:51.469Z"
   },
   {
    "duration": 76,
    "start_time": "2022-05-01T21:30:51.484Z"
   },
   {
    "duration": 6,
    "start_time": "2022-05-01T21:30:51.563Z"
   },
   {
    "duration": 69,
    "start_time": "2022-05-01T21:30:51.571Z"
   },
   {
    "duration": 9,
    "start_time": "2022-05-01T21:30:51.643Z"
   },
   {
    "duration": 5,
    "start_time": "2022-05-01T21:30:51.654Z"
   },
   {
    "duration": 10,
    "start_time": "2022-05-01T21:30:51.660Z"
   },
   {
    "duration": 19,
    "start_time": "2022-05-01T21:30:51.671Z"
   },
   {
    "duration": 33,
    "start_time": "2022-05-01T21:30:51.692Z"
   },
   {
    "duration": 10,
    "start_time": "2022-05-01T21:30:51.726Z"
   },
   {
    "duration": 189,
    "start_time": "2022-05-01T21:30:51.738Z"
   },
   {
    "duration": 433,
    "start_time": "2022-05-01T21:30:51.931Z"
   },
   {
    "duration": 24,
    "start_time": "2022-05-01T21:30:52.365Z"
   },
   {
    "duration": 264,
    "start_time": "2022-05-01T21:30:52.390Z"
   },
   {
    "duration": 336,
    "start_time": "2022-05-01T21:30:52.656Z"
   },
   {
    "duration": 232,
    "start_time": "2022-05-01T21:30:52.993Z"
   },
   {
    "duration": 24,
    "start_time": "2022-05-01T21:30:53.227Z"
   },
   {
    "duration": 6,
    "start_time": "2022-05-01T21:30:53.253Z"
   },
   {
    "duration": 5,
    "start_time": "2022-05-01T21:30:53.261Z"
   },
   {
    "duration": 234,
    "start_time": "2022-05-01T21:30:53.268Z"
   },
   {
    "duration": 5,
    "start_time": "2022-05-01T21:30:53.503Z"
   },
   {
    "duration": 286,
    "start_time": "2022-05-01T21:30:53.510Z"
   },
   {
    "duration": 210,
    "start_time": "2022-05-01T21:30:53.797Z"
   },
   {
    "duration": 5,
    "start_time": "2022-05-01T21:30:54.009Z"
   },
   {
    "duration": 4,
    "start_time": "2022-05-01T21:30:54.024Z"
   },
   {
    "duration": 13,
    "start_time": "2022-05-01T21:30:54.030Z"
   },
   {
    "duration": 1547,
    "start_time": "2022-05-01T21:30:54.044Z"
   },
   {
    "duration": 4,
    "start_time": "2022-05-01T21:30:55.593Z"
   },
   {
    "duration": 27,
    "start_time": "2022-05-01T21:30:55.598Z"
   },
   {
    "duration": 12,
    "start_time": "2022-05-01T21:30:55.626Z"
   },
   {
    "duration": 11,
    "start_time": "2022-05-01T21:30:55.640Z"
   },
   {
    "duration": 11,
    "start_time": "2022-05-01T21:30:55.653Z"
   },
   {
    "duration": 11,
    "start_time": "2022-05-01T21:30:55.665Z"
   },
   {
    "duration": 46,
    "start_time": "2022-05-01T21:30:55.677Z"
   },
   {
    "duration": 5,
    "start_time": "2022-05-01T21:30:55.724Z"
   },
   {
    "duration": 1015,
    "start_time": "2022-05-01T21:30:55.731Z"
   },
   {
    "duration": 8,
    "start_time": "2022-05-01T21:30:56.748Z"
   },
   {
    "duration": 11,
    "start_time": "2022-05-01T21:30:56.758Z"
   },
   {
    "duration": 46,
    "start_time": "2022-05-02T06:03:46.552Z"
   },
   {
    "duration": 1748,
    "start_time": "2022-05-02T06:03:51.036Z"
   },
   {
    "duration": 77,
    "start_time": "2022-05-02T06:03:52.787Z"
   },
   {
    "duration": 19,
    "start_time": "2022-05-02T06:03:52.866Z"
   },
   {
    "duration": 99,
    "start_time": "2022-05-02T06:03:52.888Z"
   },
   {
    "duration": 8,
    "start_time": "2022-05-02T06:03:52.990Z"
   },
   {
    "duration": 94,
    "start_time": "2022-05-02T06:03:53.000Z"
   },
   {
    "duration": 10,
    "start_time": "2022-05-02T06:03:53.096Z"
   },
   {
    "duration": 4,
    "start_time": "2022-05-02T06:03:53.108Z"
   },
   {
    "duration": 13,
    "start_time": "2022-05-02T06:03:53.114Z"
   },
   {
    "duration": 24,
    "start_time": "2022-05-02T06:03:53.147Z"
   },
   {
    "duration": 5,
    "start_time": "2022-05-02T06:03:53.173Z"
   },
   {
    "duration": 15,
    "start_time": "2022-05-02T06:03:53.180Z"
   },
   {
    "duration": 238,
    "start_time": "2022-05-02T06:03:53.198Z"
   },
   {
    "duration": 450,
    "start_time": "2022-05-02T06:03:53.438Z"
   },
   {
    "duration": 22,
    "start_time": "2022-05-02T06:03:53.890Z"
   },
   {
    "duration": 252,
    "start_time": "2022-05-02T06:03:53.914Z"
   },
   {
    "duration": 502,
    "start_time": "2022-05-02T06:03:54.168Z"
   },
   {
    "duration": 284,
    "start_time": "2022-05-02T06:03:54.672Z"
   },
   {
    "duration": 22,
    "start_time": "2022-05-02T06:03:54.958Z"
   },
   {
    "duration": 6,
    "start_time": "2022-05-02T06:03:54.981Z"
   },
   {
    "duration": 5,
    "start_time": "2022-05-02T06:03:54.988Z"
   },
   {
    "duration": 331,
    "start_time": "2022-05-02T06:03:54.995Z"
   },
   {
    "duration": 5,
    "start_time": "2022-05-02T06:03:55.328Z"
   },
   {
    "duration": 206,
    "start_time": "2022-05-02T06:03:55.334Z"
   },
   {
    "duration": 221,
    "start_time": "2022-05-02T06:03:55.547Z"
   },
   {
    "duration": 6,
    "start_time": "2022-05-02T06:03:55.770Z"
   },
   {
    "duration": 11,
    "start_time": "2022-05-02T06:03:55.777Z"
   },
   {
    "duration": 19,
    "start_time": "2022-05-02T06:03:55.791Z"
   },
   {
    "duration": 1575,
    "start_time": "2022-05-02T06:03:55.812Z"
   },
   {
    "duration": 4,
    "start_time": "2022-05-02T06:03:57.389Z"
   },
   {
    "duration": 14,
    "start_time": "2022-05-02T06:03:57.394Z"
   },
   {
    "duration": 10,
    "start_time": "2022-05-02T06:03:57.410Z"
   },
   {
    "duration": 30,
    "start_time": "2022-05-02T06:03:57.422Z"
   },
   {
    "duration": 11,
    "start_time": "2022-05-02T06:03:57.454Z"
   },
   {
    "duration": 11,
    "start_time": "2022-05-02T06:03:57.466Z"
   },
   {
    "duration": 13,
    "start_time": "2022-05-02T06:03:57.478Z"
   },
   {
    "duration": 5,
    "start_time": "2022-05-02T06:03:57.493Z"
   },
   {
    "duration": 1163,
    "start_time": "2022-05-02T06:03:57.499Z"
   },
   {
    "duration": 9,
    "start_time": "2022-05-02T06:03:58.664Z"
   },
   {
    "duration": 13,
    "start_time": "2022-05-02T06:03:58.675Z"
   },
   {
    "duration": 231,
    "start_time": "2022-05-02T06:05:47.077Z"
   },
   {
    "duration": 166,
    "start_time": "2022-05-02T06:15:16.067Z"
   },
   {
    "duration": 7,
    "start_time": "2022-05-02T06:15:35.997Z"
   },
   {
    "duration": 13,
    "start_time": "2022-05-02T06:15:43.889Z"
   },
   {
    "duration": 100,
    "start_time": "2022-05-02T06:15:56.398Z"
   },
   {
    "duration": 12,
    "start_time": "2022-05-02T06:16:45.055Z"
   },
   {
    "duration": 24,
    "start_time": "2022-05-02T06:19:58.367Z"
   },
   {
    "duration": 392,
    "start_time": "2022-05-02T06:20:08.458Z"
   },
   {
    "duration": 4,
    "start_time": "2022-05-02T06:24:48.137Z"
   },
   {
    "duration": 17,
    "start_time": "2022-05-02T06:24:50.187Z"
   },
   {
    "duration": 4,
    "start_time": "2022-05-02T06:25:15.857Z"
   },
   {
    "duration": 17,
    "start_time": "2022-05-02T06:25:17.716Z"
   },
   {
    "duration": 106,
    "start_time": "2022-05-02T06:25:30.035Z"
   },
   {
    "duration": 17,
    "start_time": "2022-05-02T06:25:58.359Z"
   },
   {
    "duration": 11,
    "start_time": "2022-05-02T06:26:09.164Z"
   },
   {
    "duration": 240,
    "start_time": "2022-05-02T06:26:18.748Z"
   },
   {
    "duration": 102,
    "start_time": "2022-05-02T06:26:55.410Z"
   },
   {
    "duration": 112,
    "start_time": "2022-05-02T06:27:22.504Z"
   },
   {
    "duration": 439,
    "start_time": "2022-05-02T06:30:33.352Z"
   },
   {
    "duration": 12,
    "start_time": "2022-05-02T06:31:10.055Z"
   },
   {
    "duration": 14,
    "start_time": "2022-05-02T06:33:22.479Z"
   },
   {
    "duration": 100,
    "start_time": "2022-05-02T06:34:48.718Z"
   },
   {
    "duration": 14,
    "start_time": "2022-05-02T06:36:08.454Z"
   },
   {
    "duration": 12,
    "start_time": "2022-05-02T06:36:18.454Z"
   },
   {
    "duration": 8,
    "start_time": "2022-05-02T06:46:21.721Z"
   },
   {
    "duration": 4,
    "start_time": "2022-05-02T06:51:02.398Z"
   },
   {
    "duration": 21,
    "start_time": "2022-05-02T06:51:15.158Z"
   },
   {
    "duration": 20,
    "start_time": "2022-05-02T06:53:14.499Z"
   },
   {
    "duration": 14,
    "start_time": "2022-05-02T06:53:23.181Z"
   },
   {
    "duration": 16,
    "start_time": "2022-05-02T06:53:56.948Z"
   },
   {
    "duration": 13,
    "start_time": "2022-05-02T06:54:18.859Z"
   },
   {
    "duration": 21,
    "start_time": "2022-05-02T06:54:36.523Z"
   },
   {
    "duration": 157,
    "start_time": "2022-05-02T06:54:56.205Z"
   },
   {
    "duration": 16,
    "start_time": "2022-05-02T06:55:34.240Z"
   },
   {
    "duration": 22,
    "start_time": "2022-05-02T06:56:02.997Z"
   },
   {
    "duration": 14,
    "start_time": "2022-05-02T06:56:03.021Z"
   },
   {
    "duration": 160,
    "start_time": "2022-05-02T06:56:03.037Z"
   },
   {
    "duration": 0,
    "start_time": "2022-05-02T06:56:03.200Z"
   },
   {
    "duration": 0,
    "start_time": "2022-05-02T06:56:03.201Z"
   },
   {
    "duration": 0,
    "start_time": "2022-05-02T06:56:03.203Z"
   },
   {
    "duration": 0,
    "start_time": "2022-05-02T06:56:03.204Z"
   },
   {
    "duration": 0,
    "start_time": "2022-05-02T06:56:03.206Z"
   },
   {
    "duration": 0,
    "start_time": "2022-05-02T06:56:03.207Z"
   },
   {
    "duration": 0,
    "start_time": "2022-05-02T06:56:03.208Z"
   },
   {
    "duration": 0,
    "start_time": "2022-05-02T06:56:03.209Z"
   },
   {
    "duration": 0,
    "start_time": "2022-05-02T06:56:03.210Z"
   },
   {
    "duration": 13,
    "start_time": "2022-05-02T06:59:43.931Z"
   },
   {
    "duration": 10,
    "start_time": "2022-05-02T07:00:36.140Z"
   },
   {
    "duration": 15,
    "start_time": "2022-05-02T07:00:44.484Z"
   },
   {
    "duration": 3,
    "start_time": "2022-05-02T07:02:03.207Z"
   },
   {
    "duration": 103,
    "start_time": "2022-05-02T07:03:49.329Z"
   },
   {
    "duration": 105,
    "start_time": "2022-05-02T07:04:07.159Z"
   },
   {
    "duration": 16,
    "start_time": "2022-05-02T07:04:59.069Z"
   },
   {
    "duration": 4,
    "start_time": "2022-05-02T07:05:07.332Z"
   },
   {
    "duration": 14,
    "start_time": "2022-05-02T07:05:10.381Z"
   },
   {
    "duration": 4,
    "start_time": "2022-05-02T07:08:39.800Z"
   },
   {
    "duration": 26,
    "start_time": "2022-05-02T07:08:41.373Z"
   },
   {
    "duration": 4,
    "start_time": "2022-05-02T07:10:16.242Z"
   },
   {
    "duration": 15,
    "start_time": "2022-05-02T07:10:18.483Z"
   },
   {
    "duration": 1005,
    "start_time": "2022-05-02T07:15:14.762Z"
   },
   {
    "duration": 123,
    "start_time": "2022-05-02T07:17:36.654Z"
   },
   {
    "duration": 107,
    "start_time": "2022-05-02T07:20:44.369Z"
   },
   {
    "duration": 3,
    "start_time": "2022-05-02T07:21:53.370Z"
   },
   {
    "duration": 196,
    "start_time": "2022-05-02T07:25:13.606Z"
   },
   {
    "duration": 13,
    "start_time": "2022-05-04T10:18:33.728Z"
   },
   {
    "duration": 67,
    "start_time": "2022-05-04T10:18:41.389Z"
   },
   {
    "duration": 2749,
    "start_time": "2022-05-04T10:18:53.852Z"
   },
   {
    "duration": 90,
    "start_time": "2022-05-04T10:18:56.604Z"
   },
   {
    "duration": 20,
    "start_time": "2022-05-04T10:18:56.696Z"
   },
   {
    "duration": 108,
    "start_time": "2022-05-04T10:18:56.725Z"
   },
   {
    "duration": 11,
    "start_time": "2022-05-04T10:18:56.837Z"
   },
   {
    "duration": 108,
    "start_time": "2022-05-04T10:18:56.851Z"
   },
   {
    "duration": 12,
    "start_time": "2022-05-04T10:18:56.962Z"
   },
   {
    "duration": 9,
    "start_time": "2022-05-04T10:18:56.977Z"
   },
   {
    "duration": 44,
    "start_time": "2022-05-04T10:18:56.988Z"
   },
   {
    "duration": 37,
    "start_time": "2022-05-04T10:18:57.035Z"
   },
   {
    "duration": 7,
    "start_time": "2022-05-04T10:18:57.075Z"
   },
   {
    "duration": 43,
    "start_time": "2022-05-04T10:18:57.085Z"
   },
   {
    "duration": 329,
    "start_time": "2022-05-04T10:18:57.130Z"
   },
   {
    "duration": 745,
    "start_time": "2022-05-04T10:18:57.464Z"
   },
   {
    "duration": 40,
    "start_time": "2022-05-04T10:18:58.212Z"
   },
   {
    "duration": 484,
    "start_time": "2022-05-04T10:18:58.255Z"
   },
   {
    "duration": 609,
    "start_time": "2022-05-04T10:18:58.741Z"
   },
   {
    "duration": 516,
    "start_time": "2022-05-04T10:18:59.353Z"
   },
   {
    "duration": 52,
    "start_time": "2022-05-04T10:18:59.872Z"
   },
   {
    "duration": 6,
    "start_time": "2022-05-04T10:18:59.927Z"
   },
   {
    "duration": 11,
    "start_time": "2022-05-04T10:18:59.935Z"
   },
   {
    "duration": 525,
    "start_time": "2022-05-04T10:18:59.949Z"
   },
   {
    "duration": 8,
    "start_time": "2022-05-04T10:19:00.476Z"
   },
   {
    "duration": 378,
    "start_time": "2022-05-04T10:19:00.487Z"
   },
   {
    "duration": 413,
    "start_time": "2022-05-04T10:19:00.868Z"
   },
   {
    "duration": 9,
    "start_time": "2022-05-04T10:19:01.284Z"
   },
   {
    "duration": 31,
    "start_time": "2022-05-04T10:19:01.296Z"
   },
   {
    "duration": 69,
    "start_time": "2022-05-04T10:19:01.330Z"
   },
   {
    "duration": 2930,
    "start_time": "2022-05-04T10:19:01.401Z"
   },
   {
    "duration": 4,
    "start_time": "2022-05-04T10:19:04.334Z"
   },
   {
    "duration": 19,
    "start_time": "2022-05-04T10:19:04.340Z"
   },
   {
    "duration": 32,
    "start_time": "2022-05-04T10:19:04.362Z"
   },
   {
    "duration": 371,
    "start_time": "2022-05-04T10:19:04.397Z"
   },
   {
    "duration": 27,
    "start_time": "2022-05-04T10:19:04.770Z"
   },
   {
    "duration": 49,
    "start_time": "2022-05-04T10:19:04.799Z"
   },
   {
    "duration": 75,
    "start_time": "2022-05-04T10:19:04.850Z"
   },
   {
    "duration": 52,
    "start_time": "2022-05-04T10:19:04.927Z"
   },
   {
    "duration": 29,
    "start_time": "2022-05-04T10:19:04.981Z"
   },
   {
    "duration": 11,
    "start_time": "2022-05-04T10:19:05.012Z"
   },
   {
    "duration": 2391,
    "start_time": "2022-05-04T10:19:05.026Z"
   },
   {
    "duration": 18,
    "start_time": "2022-05-04T10:19:07.431Z"
   },
   {
    "duration": 18,
    "start_time": "2022-05-04T10:19:07.451Z"
   },
   {
    "duration": 327,
    "start_time": "2022-05-04T10:21:00.425Z"
   },
   {
    "duration": 255,
    "start_time": "2022-05-04T10:23:03.438Z"
   },
   {
    "duration": 20,
    "start_time": "2022-05-04T10:23:06.790Z"
   },
   {
    "duration": 326,
    "start_time": "2022-05-04T10:23:08.207Z"
   },
   {
    "duration": 16,
    "start_time": "2022-05-04T10:25:53.229Z"
   },
   {
    "duration": 689,
    "start_time": "2022-05-04T10:25:55.132Z"
   },
   {
    "duration": 16,
    "start_time": "2022-05-04T10:26:44.906Z"
   },
   {
    "duration": 316,
    "start_time": "2022-05-04T10:27:16.309Z"
   },
   {
    "duration": 16,
    "start_time": "2022-05-04T10:28:10.121Z"
   },
   {
    "duration": 441,
    "start_time": "2022-05-04T10:28:30.130Z"
   },
   {
    "duration": 17,
    "start_time": "2022-05-04T10:29:49.775Z"
   },
   {
    "duration": 24,
    "start_time": "2022-05-04T10:30:13.481Z"
   },
   {
    "duration": 304,
    "start_time": "2022-05-04T10:30:45.023Z"
   },
   {
    "duration": 312,
    "start_time": "2022-05-04T10:31:09.978Z"
   },
   {
    "duration": 311,
    "start_time": "2022-05-04T10:31:23.732Z"
   },
   {
    "duration": 38,
    "start_time": "2022-05-04T10:33:09.225Z"
   },
   {
    "duration": 316,
    "start_time": "2022-05-04T10:33:38.599Z"
   },
   {
    "duration": 16,
    "start_time": "2022-05-04T10:34:01.944Z"
   },
   {
    "duration": 23,
    "start_time": "2022-05-04T10:34:16.110Z"
   },
   {
    "duration": 294,
    "start_time": "2022-05-04T10:34:40.490Z"
   },
   {
    "duration": 6,
    "start_time": "2022-05-04T11:01:14.549Z"
   },
   {
    "duration": 110,
    "start_time": "2022-05-04T11:01:14.559Z"
   },
   {
    "duration": 22,
    "start_time": "2022-05-04T11:01:14.672Z"
   },
   {
    "duration": 113,
    "start_time": "2022-05-04T11:01:14.696Z"
   },
   {
    "duration": 10,
    "start_time": "2022-05-04T11:01:14.813Z"
   },
   {
    "duration": 50,
    "start_time": "2022-05-04T11:01:14.830Z"
   },
   {
    "duration": 12,
    "start_time": "2022-05-04T11:01:14.882Z"
   },
   {
    "duration": 14,
    "start_time": "2022-05-04T11:01:14.897Z"
   },
   {
    "duration": 19,
    "start_time": "2022-05-04T11:01:14.914Z"
   },
   {
    "duration": 47,
    "start_time": "2022-05-04T11:01:14.935Z"
   },
   {
    "duration": 6,
    "start_time": "2022-05-04T11:01:14.984Z"
   },
   {
    "duration": 27,
    "start_time": "2022-05-04T11:01:14.992Z"
   },
   {
    "duration": 551,
    "start_time": "2022-05-04T11:01:15.021Z"
   },
   {
    "duration": 772,
    "start_time": "2022-05-04T11:01:15.580Z"
   },
   {
    "duration": 39,
    "start_time": "2022-05-04T11:01:16.355Z"
   },
   {
    "duration": 495,
    "start_time": "2022-05-04T11:01:16.397Z"
   },
   {
    "duration": 1020,
    "start_time": "2022-05-04T11:01:16.895Z"
   },
   {
    "duration": 706,
    "start_time": "2022-05-04T11:01:17.926Z"
   },
   {
    "duration": 59,
    "start_time": "2022-05-04T11:01:18.635Z"
   },
   {
    "duration": 32,
    "start_time": "2022-05-04T11:01:18.697Z"
   },
   {
    "duration": 29,
    "start_time": "2022-05-04T11:01:18.733Z"
   },
   {
    "duration": 419,
    "start_time": "2022-05-04T11:01:18.764Z"
   },
   {
    "duration": 11,
    "start_time": "2022-05-04T11:01:19.186Z"
   },
   {
    "duration": 601,
    "start_time": "2022-05-04T11:01:19.200Z"
   },
   {
    "duration": 441,
    "start_time": "2022-05-04T11:01:19.804Z"
   },
   {
    "duration": 8,
    "start_time": "2022-05-04T11:01:20.248Z"
   },
   {
    "duration": 19,
    "start_time": "2022-05-04T11:01:20.258Z"
   },
   {
    "duration": 43,
    "start_time": "2022-05-04T11:01:20.280Z"
   },
   {
    "duration": 3164,
    "start_time": "2022-05-04T11:01:20.331Z"
   },
   {
    "duration": 4,
    "start_time": "2022-05-04T11:01:23.498Z"
   },
   {
    "duration": 41,
    "start_time": "2022-05-04T11:01:23.505Z"
   },
   {
    "duration": 46,
    "start_time": "2022-05-04T11:01:23.549Z"
   },
   {
    "duration": 475,
    "start_time": "2022-05-04T11:01:23.598Z"
   },
   {
    "duration": 15,
    "start_time": "2022-05-04T11:01:24.076Z"
   },
   {
    "duration": 375,
    "start_time": "2022-05-04T11:01:24.094Z"
   },
   {
    "duration": 19,
    "start_time": "2022-05-04T11:01:24.472Z"
   },
   {
    "duration": 344,
    "start_time": "2022-05-04T11:01:24.494Z"
   },
   {
    "duration": 32,
    "start_time": "2022-05-04T11:01:24.841Z"
   },
   {
    "duration": 528,
    "start_time": "2022-05-04T11:01:24.876Z"
   },
   {
    "duration": 53,
    "start_time": "2022-05-04T11:01:25.406Z"
   },
   {
    "duration": 329,
    "start_time": "2022-05-04T11:01:25.470Z"
   },
   {
    "duration": 47,
    "start_time": "2022-05-04T11:01:25.801Z"
   },
   {
    "duration": 339,
    "start_time": "2022-05-04T11:01:25.856Z"
   },
   {
    "duration": 9,
    "start_time": "2022-05-04T11:01:26.197Z"
   },
   {
    "duration": 1601,
    "start_time": "2022-05-04T11:01:26.208Z"
   },
   {
    "duration": 19,
    "start_time": "2022-05-04T11:01:27.811Z"
   },
   {
    "duration": 43,
    "start_time": "2022-05-04T11:01:27.833Z"
   },
   {
    "duration": 328,
    "start_time": "2022-05-04T11:03:10.159Z"
   },
   {
    "duration": 338,
    "start_time": "2022-05-04T11:03:22.266Z"
   },
   {
    "duration": 1319,
    "start_time": "2022-11-30T14:31:50.412Z"
   },
   {
    "duration": 120,
    "start_time": "2022-11-30T14:31:51.733Z"
   },
   {
    "duration": 12,
    "start_time": "2022-11-30T14:31:51.855Z"
   },
   {
    "duration": 64,
    "start_time": "2022-11-30T14:31:51.869Z"
   },
   {
    "duration": 6,
    "start_time": "2022-11-30T14:31:51.934Z"
   },
   {
    "duration": 55,
    "start_time": "2022-11-30T14:31:51.942Z"
   },
   {
    "duration": 22,
    "start_time": "2022-11-30T14:31:51.999Z"
   },
   {
    "duration": 4,
    "start_time": "2022-11-30T14:31:52.022Z"
   },
   {
    "duration": 16,
    "start_time": "2022-11-30T14:31:52.028Z"
   },
   {
    "duration": 23,
    "start_time": "2022-11-30T14:31:52.046Z"
   },
   {
    "duration": 4,
    "start_time": "2022-11-30T14:31:52.071Z"
   },
   {
    "duration": 11,
    "start_time": "2022-11-30T14:31:52.076Z"
   },
   {
    "duration": 203,
    "start_time": "2022-11-30T14:31:52.088Z"
   },
   {
    "duration": 476,
    "start_time": "2022-11-30T14:31:52.292Z"
   },
   {
    "duration": 27,
    "start_time": "2022-11-30T14:31:52.769Z"
   },
   {
    "duration": 260,
    "start_time": "2022-11-30T14:31:52.798Z"
   },
   {
    "duration": 346,
    "start_time": "2022-11-30T14:31:53.060Z"
   },
   {
    "duration": 261,
    "start_time": "2022-11-30T14:31:53.408Z"
   },
   {
    "duration": 24,
    "start_time": "2022-11-30T14:31:53.671Z"
   },
   {
    "duration": 5,
    "start_time": "2022-11-30T14:31:53.697Z"
   },
   {
    "duration": 19,
    "start_time": "2022-11-30T14:31:53.704Z"
   },
   {
    "duration": 312,
    "start_time": "2022-11-30T14:31:53.724Z"
   },
   {
    "duration": 4,
    "start_time": "2022-11-30T14:31:54.038Z"
   },
   {
    "duration": 213,
    "start_time": "2022-11-30T14:31:54.044Z"
   },
   {
    "duration": 228,
    "start_time": "2022-11-30T14:31:54.259Z"
   },
   {
    "duration": 5,
    "start_time": "2022-11-30T14:31:54.489Z"
   },
   {
    "duration": 6,
    "start_time": "2022-11-30T14:31:54.496Z"
   },
   {
    "duration": 14,
    "start_time": "2022-11-30T14:31:54.520Z"
   },
   {
    "duration": 1772,
    "start_time": "2022-11-30T14:31:54.535Z"
   },
   {
    "duration": 12,
    "start_time": "2022-11-30T14:31:56.309Z"
   },
   {
    "duration": 3,
    "start_time": "2022-11-30T14:31:56.322Z"
   },
   {
    "duration": 12,
    "start_time": "2022-11-30T14:31:56.327Z"
   },
   {
    "duration": 213,
    "start_time": "2022-11-30T14:31:56.341Z"
   },
   {
    "duration": 10,
    "start_time": "2022-11-30T14:31:56.556Z"
   },
   {
    "duration": 262,
    "start_time": "2022-11-30T14:31:56.568Z"
   },
   {
    "duration": 10,
    "start_time": "2022-11-30T14:31:56.832Z"
   },
   {
    "duration": 207,
    "start_time": "2022-11-30T14:31:56.843Z"
   },
   {
    "duration": 15,
    "start_time": "2022-11-30T14:31:57.052Z"
   },
   {
    "duration": 269,
    "start_time": "2022-11-30T14:31:57.068Z"
   },
   {
    "duration": 14,
    "start_time": "2022-11-30T14:31:57.339Z"
   },
   {
    "duration": 193,
    "start_time": "2022-11-30T14:31:57.355Z"
   },
   {
    "duration": 78,
    "start_time": "2022-11-30T14:31:57.550Z"
   },
   {
    "duration": 208,
    "start_time": "2022-11-30T14:31:57.630Z"
   },
   {
    "duration": 6,
    "start_time": "2022-11-30T14:31:57.839Z"
   },
   {
    "duration": 1096,
    "start_time": "2022-11-30T14:31:57.846Z"
   },
   {
    "duration": 9,
    "start_time": "2022-11-30T14:31:58.943Z"
   },
   {
    "duration": 22,
    "start_time": "2022-11-30T14:31:58.954Z"
   },
   {
    "duration": 1085,
    "start_time": "2022-12-15T12:06:06.938Z"
   },
   {
    "duration": 217,
    "start_time": "2022-12-15T12:06:17.848Z"
   },
   {
    "duration": 13,
    "start_time": "2022-12-15T12:06:33.538Z"
   },
   {
    "duration": 5,
    "start_time": "2022-12-15T12:50:51.595Z"
   },
   {
    "duration": 82,
    "start_time": "2022-12-15T12:50:51.602Z"
   },
   {
    "duration": 12,
    "start_time": "2022-12-15T12:50:51.686Z"
   },
   {
    "duration": 64,
    "start_time": "2022-12-15T12:50:51.700Z"
   },
   {
    "duration": 50,
    "start_time": "2022-12-15T12:50:51.765Z"
   },
   {
    "duration": 15,
    "start_time": "2022-12-15T12:50:51.817Z"
   },
   {
    "duration": 44,
    "start_time": "2022-12-15T12:50:51.834Z"
   },
   {
    "duration": 18,
    "start_time": "2022-12-15T12:50:54.362Z"
   },
   {
    "duration": 4,
    "start_time": "2022-12-15T12:50:58.860Z"
   },
   {
    "duration": 240,
    "start_time": "2022-12-15T12:51:21.049Z"
   },
   {
    "duration": 8,
    "start_time": "2022-12-15T12:51:23.913Z"
   },
   {
    "duration": 166,
    "start_time": "2022-12-15T12:51:25.236Z"
   },
   {
    "duration": 447,
    "start_time": "2022-12-15T12:51:38.258Z"
   },
   {
    "duration": 22,
    "start_time": "2022-12-15T12:51:48.883Z"
   },
   {
    "duration": 241,
    "start_time": "2022-12-15T12:51:51.268Z"
   },
   {
    "duration": 332,
    "start_time": "2022-12-15T12:55:11.627Z"
   },
   {
    "duration": 3,
    "start_time": "2022-12-15T12:59:48.129Z"
   },
   {
    "duration": 64,
    "start_time": "2022-12-15T12:59:48.134Z"
   },
   {
    "duration": 19,
    "start_time": "2022-12-15T12:59:48.200Z"
   },
   {
    "duration": 58,
    "start_time": "2022-12-15T12:59:48.220Z"
   },
   {
    "duration": 14,
    "start_time": "2022-12-15T12:59:48.280Z"
   },
   {
    "duration": 9,
    "start_time": "2022-12-15T12:59:48.296Z"
   },
   {
    "duration": 26,
    "start_time": "2022-12-15T12:59:48.307Z"
   },
   {
    "duration": 22,
    "start_time": "2022-12-15T12:59:48.334Z"
   },
   {
    "duration": 4,
    "start_time": "2022-12-15T12:59:48.358Z"
   },
   {
    "duration": 22,
    "start_time": "2022-12-15T12:59:48.364Z"
   },
   {
    "duration": 181,
    "start_time": "2022-12-15T12:59:48.388Z"
   },
   {
    "duration": 546,
    "start_time": "2022-12-15T12:59:48.570Z"
   },
   {
    "duration": 24,
    "start_time": "2022-12-15T12:59:49.117Z"
   },
   {
    "duration": 283,
    "start_time": "2022-12-15T12:59:49.143Z"
   },
   {
    "duration": 330,
    "start_time": "2022-12-15T12:59:49.428Z"
   },
   {
    "duration": 270,
    "start_time": "2022-12-15T12:59:49.760Z"
   },
   {
    "duration": 19,
    "start_time": "2022-12-15T12:59:50.031Z"
   },
   {
    "duration": 1184,
    "start_time": "2022-12-15T12:59:58.901Z"
   },
   {
    "duration": 12,
    "start_time": "2022-12-15T13:00:20.034Z"
   },
   {
    "duration": 285,
    "start_time": "2022-12-15T13:00:45.534Z"
   },
   {
    "duration": 6,
    "start_time": "2022-12-15T13:01:00.745Z"
   },
   {
    "duration": 215,
    "start_time": "2022-12-15T13:01:04.272Z"
   },
   {
    "duration": 214,
    "start_time": "2022-12-15T13:01:07.092Z"
   },
   {
    "duration": 5,
    "start_time": "2022-12-15T13:01:09.380Z"
   },
   {
    "duration": 5,
    "start_time": "2022-12-15T13:02:04.906Z"
   },
   {
    "duration": 12,
    "start_time": "2022-12-15T13:02:08.964Z"
   },
   {
    "duration": 1701,
    "start_time": "2022-12-15T13:02:14.389Z"
   },
   {
    "duration": 4,
    "start_time": "2022-12-15T13:02:33.975Z"
   },
   {
    "duration": 14,
    "start_time": "2022-12-15T13:02:36.662Z"
   },
   {
    "duration": 221,
    "start_time": "2022-12-15T13:02:38.449Z"
   },
   {
    "duration": 10,
    "start_time": "2022-12-15T13:02:43.472Z"
   },
   {
    "duration": 392,
    "start_time": "2022-12-15T13:02:44.948Z"
   },
   {
    "duration": 12,
    "start_time": "2022-12-15T13:02:47.804Z"
   },
   {
    "duration": 13,
    "start_time": "2022-12-15T13:03:08.132Z"
   },
   {
    "duration": 23,
    "start_time": "2022-12-15T13:03:12.163Z"
   },
   {
    "duration": 3,
    "start_time": "2022-12-15T13:03:59.658Z"
   },
   {
    "duration": 83,
    "start_time": "2022-12-15T13:03:59.663Z"
   },
   {
    "duration": 13,
    "start_time": "2022-12-15T13:03:59.748Z"
   },
   {
    "duration": 93,
    "start_time": "2022-12-15T13:03:59.763Z"
   },
   {
    "duration": 18,
    "start_time": "2022-12-15T13:03:59.859Z"
   },
   {
    "duration": 26,
    "start_time": "2022-12-15T13:03:59.879Z"
   },
   {
    "duration": 30,
    "start_time": "2022-12-15T13:03:59.907Z"
   },
   {
    "duration": 53,
    "start_time": "2022-12-15T13:03:59.938Z"
   },
   {
    "duration": 11,
    "start_time": "2022-12-15T13:03:59.992Z"
   },
   {
    "duration": 47,
    "start_time": "2022-12-15T13:04:00.005Z"
   },
   {
    "duration": 189,
    "start_time": "2022-12-15T13:04:00.055Z"
   },
   {
    "duration": 419,
    "start_time": "2022-12-15T13:04:00.245Z"
   },
   {
    "duration": 17,
    "start_time": "2022-12-15T13:04:00.665Z"
   },
   {
    "duration": 271,
    "start_time": "2022-12-15T13:04:00.684Z"
   },
   {
    "duration": 340,
    "start_time": "2022-12-15T13:04:00.957Z"
   },
   {
    "duration": 281,
    "start_time": "2022-12-15T13:04:01.299Z"
   },
   {
    "duration": 22,
    "start_time": "2022-12-15T13:04:01.582Z"
   },
   {
    "duration": 65,
    "start_time": "2022-12-15T13:04:01.606Z"
   },
   {
    "duration": 307,
    "start_time": "2022-12-15T13:04:01.672Z"
   },
   {
    "duration": 4,
    "start_time": "2022-12-15T13:04:01.981Z"
   },
   {
    "duration": 245,
    "start_time": "2022-12-15T13:04:01.987Z"
   },
   {
    "duration": 231,
    "start_time": "2022-12-15T13:04:02.234Z"
   },
   {
    "duration": 5,
    "start_time": "2022-12-15T13:04:02.467Z"
   },
   {
    "duration": 9,
    "start_time": "2022-12-15T13:04:02.473Z"
   },
   {
    "duration": 22,
    "start_time": "2022-12-15T13:04:02.483Z"
   },
   {
    "duration": 1715,
    "start_time": "2022-12-15T13:04:02.506Z"
   },
   {
    "duration": 3,
    "start_time": "2022-12-15T13:04:04.226Z"
   },
   {
    "duration": 13,
    "start_time": "2022-12-15T13:04:04.231Z"
   },
   {
    "duration": 208,
    "start_time": "2022-12-15T13:04:04.248Z"
   },
   {
    "duration": 11,
    "start_time": "2022-12-15T13:04:04.458Z"
   },
   {
    "duration": 265,
    "start_time": "2022-12-15T13:04:04.470Z"
   },
   {
    "duration": 12,
    "start_time": "2022-12-15T13:04:04.737Z"
   },
   {
    "duration": 205,
    "start_time": "2022-12-15T13:04:04.750Z"
   },
   {
    "duration": 15,
    "start_time": "2022-12-15T13:04:04.957Z"
   },
   {
    "duration": 271,
    "start_time": "2022-12-15T13:04:04.974Z"
   },
   {
    "duration": 17,
    "start_time": "2022-12-15T13:04:05.246Z"
   },
   {
    "duration": 291,
    "start_time": "2022-12-15T13:04:05.265Z"
   },
   {
    "duration": 19,
    "start_time": "2022-12-15T13:04:05.558Z"
   },
   {
    "duration": 272,
    "start_time": "2022-12-15T13:04:05.580Z"
   },
   {
    "duration": 6,
    "start_time": "2022-12-15T13:04:05.853Z"
   },
   {
    "duration": 1073,
    "start_time": "2022-12-15T13:04:05.860Z"
   },
   {
    "duration": 8,
    "start_time": "2022-12-15T13:04:06.934Z"
   },
   {
    "duration": 12,
    "start_time": "2022-12-15T13:04:06.944Z"
   }
  ],
  "kernelspec": {
   "display_name": "Python 3 (ipykernel)",
   "language": "python",
   "name": "python3"
  },
  "language_info": {
   "codemirror_mode": {
    "name": "ipython",
    "version": 3
   },
   "file_extension": ".py",
   "mimetype": "text/x-python",
   "name": "python",
   "nbconvert_exporter": "python",
   "pygments_lexer": "ipython3",
   "version": "3.9.5"
  },
  "toc": {
   "base_numbering": 1,
   "nav_menu": {},
   "number_sections": true,
   "sideBar": true,
   "skip_h1_title": true,
   "title_cell": "Table of Contents",
   "title_sidebar": "Contents",
   "toc_cell": false,
   "toc_position": {
    "height": "calc(100% - 180px)",
    "left": "10px",
    "top": "150px",
    "width": "165px"
   },
   "toc_section_display": true,
   "toc_window_display": true
  }
 },
 "nbformat": 4,
 "nbformat_minor": 2
}
