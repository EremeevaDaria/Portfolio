{
 "cells": [
  {
   "cell_type": "markdown",
   "metadata": {
    "toc": true
   },
   "source": [
    "<h1>Содержание<span class=\"tocSkip\"></span></h1>\n",
    "<div class=\"toc\"><ul class=\"toc-item\"><li><span><a href=\"#Подготовка-данных\" data-toc-modified-id=\"Подготовка-данных-1\"><span class=\"toc-item-num\">1&nbsp;&nbsp;</span>Подготовка данных</a></span></li><li><span><a href=\"#Исследование-задачи\" data-toc-modified-id=\"Исследование-задачи-2\"><span class=\"toc-item-num\">2&nbsp;&nbsp;</span>Исследование задачи</a></span><ul class=\"toc-item\"><li><span><a href=\"#Логистическая-регрессия\" data-toc-modified-id=\"Логистическая-регрессия-2.1\"><span class=\"toc-item-num\">2.1&nbsp;&nbsp;</span>Логистическая регрессия</a></span></li><li><span><a href=\"#Дерево-решений\" data-toc-modified-id=\"Дерево-решений-2.2\"><span class=\"toc-item-num\">2.2&nbsp;&nbsp;</span>Дерево решений</a></span></li><li><span><a href=\"#Случайный-лес\" data-toc-modified-id=\"Случайный-лес-2.3\"><span class=\"toc-item-num\">2.3&nbsp;&nbsp;</span>Случайный лес</a></span></li></ul></li><li><span><a href=\"#Борьба-с-дисбалансом\" data-toc-modified-id=\"Борьба-с-дисбалансом-3\"><span class=\"toc-item-num\">3&nbsp;&nbsp;</span>Борьба с дисбалансом</a></span><ul class=\"toc-item\"><li><span><a href=\"#Взвешивание-классов\" data-toc-modified-id=\"Взвешивание-классов-3.1\"><span class=\"toc-item-num\">3.1&nbsp;&nbsp;</span>Взвешивание классов</a></span><ul class=\"toc-item\"><li><span><a href=\"#Логистическая-регрессия\" data-toc-modified-id=\"Логистическая-регрессия-3.1.1\"><span class=\"toc-item-num\">3.1.1&nbsp;&nbsp;</span>Логистическая регрессия</a></span></li><li><span><a href=\"#Дерево-решений\" data-toc-modified-id=\"Дерево-решений-3.1.2\"><span class=\"toc-item-num\">3.1.2&nbsp;&nbsp;</span>Дерево решений</a></span></li><li><span><a href=\"#Случайный-лес\" data-toc-modified-id=\"Случайный-лес-3.1.3\"><span class=\"toc-item-num\">3.1.3&nbsp;&nbsp;</span>Случайный лес</a></span></li></ul></li><li><span><a href=\"#Увеличение-выборки\" data-toc-modified-id=\"Увеличение-выборки-3.2\"><span class=\"toc-item-num\">3.2&nbsp;&nbsp;</span>Увеличение выборки</a></span><ul class=\"toc-item\"><li><span><a href=\"#Логистическая-регрессия\" data-toc-modified-id=\"Логистическая-регрессия-3.2.1\"><span class=\"toc-item-num\">3.2.1&nbsp;&nbsp;</span>Логистическая регрессия</a></span></li><li><span><a href=\"#Дерево-решений\" data-toc-modified-id=\"Дерево-решений-3.2.2\"><span class=\"toc-item-num\">3.2.2&nbsp;&nbsp;</span>Дерево решений</a></span></li><li><span><a href=\"#Случайный-лес\" data-toc-modified-id=\"Случайный-лес-3.2.3\"><span class=\"toc-item-num\">3.2.3&nbsp;&nbsp;</span>Случайный лес</a></span></li></ul></li><li><span><a href=\"#Уменьшение-выборки\" data-toc-modified-id=\"Уменьшение-выборки-3.3\"><span class=\"toc-item-num\">3.3&nbsp;&nbsp;</span>Уменьшение выборки</a></span><ul class=\"toc-item\"><li><span><a href=\"#Логистическая-регрессия\" data-toc-modified-id=\"Логистическая-регрессия-3.3.1\"><span class=\"toc-item-num\">3.3.1&nbsp;&nbsp;</span>Логистическая регрессия</a></span></li><li><span><a href=\"#Дерево-решений\" data-toc-modified-id=\"Дерево-решений-3.3.2\"><span class=\"toc-item-num\">3.3.2&nbsp;&nbsp;</span>Дерево решений</a></span></li><li><span><a href=\"#Случайный-лес\" data-toc-modified-id=\"Случайный-лес-3.3.3\"><span class=\"toc-item-num\">3.3.3&nbsp;&nbsp;</span>Случайный лес</a></span></li></ul></li></ul></li><li><span><a href=\"#Тестирование-модели\" data-toc-modified-id=\"Тестирование-модели-4\"><span class=\"toc-item-num\">4&nbsp;&nbsp;</span>Тестирование модели</a></span></li></ul></div>"
   ]
  },
  {
   "cell_type": "markdown",
   "metadata": {},
   "source": [
    "# Отток клиентов"
   ]
  },
  {
   "cell_type": "markdown",
   "metadata": {},
   "source": [
    "Из «Бета-Банка» стали уходить клиенты. Каждый месяц. Немного, но заметно. Банковские маркетологи посчитали: сохранять текущих клиентов дешевле, чем привлекать новых.\n",
    "\n",
    "Нужно спрогнозировать, уйдёт клиент из банка в ближайшее время или нет. Вам предоставлены исторические данные о поведении клиентов и расторжении договоров с банком. \n",
    "\n",
    "Постройте модель с предельно большим значением *F1*-меры. Чтобы сдать проект успешно, нужно довести метрику до 0.59. Проверьте *F1*-меру на тестовой выборке самостоятельно.\n",
    "\n",
    "Дополнительно измеряйте *AUC-ROC*, сравнивайте её значение с *F1*-мерой.\n",
    "\n",
    "Источник данных: [https://www.kaggle.com/barelydedicated/bank-customer-churn-modeling](https://www.kaggle.com/barelydedicated/bank-customer-churn-modeling)"
   ]
  },
  {
   "cell_type": "markdown",
   "metadata": {},
   "source": [
    "## Подготовка данных"
   ]
  },
  {
   "cell_type": "code",
   "execution_count": 2,
   "metadata": {},
   "outputs": [],
   "source": [
    "#импортируем необходимые библиотеки\n",
    "import pandas as pd \n",
    "import numpy as np\n",
    "import seaborn as sns\n",
    "from sklearn.tree import DecisionTreeClassifier\n",
    "from sklearn.model_selection import train_test_split\n",
    "from sklearn.metrics import accuracy_score\n",
    "from sklearn.ensemble import RandomForestClassifier\n",
    "from sklearn.linear_model import LogisticRegression\n",
    "from sklearn.model_selection import GridSearchCV\n",
    "from sklearn.dummy import DummyClassifier\n",
    "from sklearn.metrics import f1_score, roc_auc_score\n",
    "from sklearn.preprocessing import StandardScaler\n",
    "from sklearn.utils import shuffle\n",
    "\n",
    "import warnings\n",
    "warnings.filterwarnings('ignore')"
   ]
  },
  {
   "cell_type": "code",
   "execution_count": 3,
   "metadata": {
    "scrolled": true
   },
   "outputs": [
    {
     "data": {
      "text/html": [
       "<div>\n",
       "<style scoped>\n",
       "    .dataframe tbody tr th:only-of-type {\n",
       "        vertical-align: middle;\n",
       "    }\n",
       "\n",
       "    .dataframe tbody tr th {\n",
       "        vertical-align: top;\n",
       "    }\n",
       "\n",
       "    .dataframe thead th {\n",
       "        text-align: right;\n",
       "    }\n",
       "</style>\n",
       "<table border=\"1\" class=\"dataframe\">\n",
       "  <thead>\n",
       "    <tr style=\"text-align: right;\">\n",
       "      <th></th>\n",
       "      <th>RowNumber</th>\n",
       "      <th>CustomerId</th>\n",
       "      <th>Surname</th>\n",
       "      <th>CreditScore</th>\n",
       "      <th>Geography</th>\n",
       "      <th>Gender</th>\n",
       "      <th>Age</th>\n",
       "      <th>Tenure</th>\n",
       "      <th>Balance</th>\n",
       "      <th>NumOfProducts</th>\n",
       "      <th>HasCrCard</th>\n",
       "      <th>IsActiveMember</th>\n",
       "      <th>EstimatedSalary</th>\n",
       "      <th>Exited</th>\n",
       "    </tr>\n",
       "  </thead>\n",
       "  <tbody>\n",
       "    <tr>\n",
       "      <th>0</th>\n",
       "      <td>1</td>\n",
       "      <td>15634602</td>\n",
       "      <td>Hargrave</td>\n",
       "      <td>619</td>\n",
       "      <td>France</td>\n",
       "      <td>Female</td>\n",
       "      <td>42</td>\n",
       "      <td>2.0</td>\n",
       "      <td>0.00</td>\n",
       "      <td>1</td>\n",
       "      <td>1</td>\n",
       "      <td>1</td>\n",
       "      <td>101348.88</td>\n",
       "      <td>1</td>\n",
       "    </tr>\n",
       "    <tr>\n",
       "      <th>1</th>\n",
       "      <td>2</td>\n",
       "      <td>15647311</td>\n",
       "      <td>Hill</td>\n",
       "      <td>608</td>\n",
       "      <td>Spain</td>\n",
       "      <td>Female</td>\n",
       "      <td>41</td>\n",
       "      <td>1.0</td>\n",
       "      <td>83807.86</td>\n",
       "      <td>1</td>\n",
       "      <td>0</td>\n",
       "      <td>1</td>\n",
       "      <td>112542.58</td>\n",
       "      <td>0</td>\n",
       "    </tr>\n",
       "    <tr>\n",
       "      <th>2</th>\n",
       "      <td>3</td>\n",
       "      <td>15619304</td>\n",
       "      <td>Onio</td>\n",
       "      <td>502</td>\n",
       "      <td>France</td>\n",
       "      <td>Female</td>\n",
       "      <td>42</td>\n",
       "      <td>8.0</td>\n",
       "      <td>159660.80</td>\n",
       "      <td>3</td>\n",
       "      <td>1</td>\n",
       "      <td>0</td>\n",
       "      <td>113931.57</td>\n",
       "      <td>1</td>\n",
       "    </tr>\n",
       "    <tr>\n",
       "      <th>3</th>\n",
       "      <td>4</td>\n",
       "      <td>15701354</td>\n",
       "      <td>Boni</td>\n",
       "      <td>699</td>\n",
       "      <td>France</td>\n",
       "      <td>Female</td>\n",
       "      <td>39</td>\n",
       "      <td>1.0</td>\n",
       "      <td>0.00</td>\n",
       "      <td>2</td>\n",
       "      <td>0</td>\n",
       "      <td>0</td>\n",
       "      <td>93826.63</td>\n",
       "      <td>0</td>\n",
       "    </tr>\n",
       "    <tr>\n",
       "      <th>4</th>\n",
       "      <td>5</td>\n",
       "      <td>15737888</td>\n",
       "      <td>Mitchell</td>\n",
       "      <td>850</td>\n",
       "      <td>Spain</td>\n",
       "      <td>Female</td>\n",
       "      <td>43</td>\n",
       "      <td>2.0</td>\n",
       "      <td>125510.82</td>\n",
       "      <td>1</td>\n",
       "      <td>1</td>\n",
       "      <td>1</td>\n",
       "      <td>79084.10</td>\n",
       "      <td>0</td>\n",
       "    </tr>\n",
       "  </tbody>\n",
       "</table>\n",
       "</div>"
      ],
      "text/plain": [
       "   RowNumber  CustomerId   Surname  CreditScore Geography  Gender  Age  \\\n",
       "0          1    15634602  Hargrave          619    France  Female   42   \n",
       "1          2    15647311      Hill          608     Spain  Female   41   \n",
       "2          3    15619304      Onio          502    France  Female   42   \n",
       "3          4    15701354      Boni          699    France  Female   39   \n",
       "4          5    15737888  Mitchell          850     Spain  Female   43   \n",
       "\n",
       "   Tenure    Balance  NumOfProducts  HasCrCard  IsActiveMember  \\\n",
       "0     2.0       0.00              1          1               1   \n",
       "1     1.0   83807.86              1          0               1   \n",
       "2     8.0  159660.80              3          1               0   \n",
       "3     1.0       0.00              2          0               0   \n",
       "4     2.0  125510.82              1          1               1   \n",
       "\n",
       "   EstimatedSalary  Exited  \n",
       "0        101348.88       1  \n",
       "1        112542.58       0  \n",
       "2        113931.57       1  \n",
       "3         93826.63       0  \n",
       "4         79084.10       0  "
      ]
     },
     "metadata": {},
     "output_type": "display_data"
    }
   ],
   "source": [
    "#откроем файл с данными\n",
    "df = pd.read_csv('/datasets/Churn.csv')\n",
    "#изучим полученные данные\n",
    "display(df.head())\n"
   ]
  },
  {
   "cell_type": "code",
   "execution_count": 4,
   "metadata": {
    "scrolled": true
   },
   "outputs": [
    {
     "name": "stdout",
     "output_type": "stream",
     "text": [
      "<class 'pandas.core.frame.DataFrame'>\n",
      "RangeIndex: 10000 entries, 0 to 9999\n",
      "Data columns (total 14 columns):\n",
      " #   Column           Non-Null Count  Dtype  \n",
      "---  ------           --------------  -----  \n",
      " 0   RowNumber        10000 non-null  int64  \n",
      " 1   CustomerId       10000 non-null  int64  \n",
      " 2   Surname          10000 non-null  object \n",
      " 3   CreditScore      10000 non-null  int64  \n",
      " 4   Geography        10000 non-null  object \n",
      " 5   Gender           10000 non-null  object \n",
      " 6   Age              10000 non-null  int64  \n",
      " 7   Tenure           9091 non-null   float64\n",
      " 8   Balance          10000 non-null  float64\n",
      " 9   NumOfProducts    10000 non-null  int64  \n",
      " 10  HasCrCard        10000 non-null  int64  \n",
      " 11  IsActiveMember   10000 non-null  int64  \n",
      " 12  EstimatedSalary  10000 non-null  float64\n",
      " 13  Exited           10000 non-null  int64  \n",
      "dtypes: float64(3), int64(8), object(3)\n",
      "memory usage: 1.1+ MB\n"
     ]
    },
    {
     "data": {
      "text/plain": [
       "None"
      ]
     },
     "metadata": {},
     "output_type": "display_data"
    },
    {
     "data": {
      "text/plain": [
       "RowNumber            0\n",
       "CustomerId           0\n",
       "Surname              0\n",
       "CreditScore          0\n",
       "Geography            0\n",
       "Gender               0\n",
       "Age                  0\n",
       "Tenure             909\n",
       "Balance              0\n",
       "NumOfProducts        0\n",
       "HasCrCard            0\n",
       "IsActiveMember       0\n",
       "EstimatedSalary      0\n",
       "Exited               0\n",
       "dtype: int64"
      ]
     },
     "metadata": {},
     "output_type": "display_data"
    },
    {
     "data": {
      "text/html": [
       "<div>\n",
       "<style scoped>\n",
       "    .dataframe tbody tr th:only-of-type {\n",
       "        vertical-align: middle;\n",
       "    }\n",
       "\n",
       "    .dataframe tbody tr th {\n",
       "        vertical-align: top;\n",
       "    }\n",
       "\n",
       "    .dataframe thead th {\n",
       "        text-align: right;\n",
       "    }\n",
       "</style>\n",
       "<table border=\"1\" class=\"dataframe\">\n",
       "  <thead>\n",
       "    <tr style=\"text-align: right;\">\n",
       "      <th></th>\n",
       "      <th>RowNumber</th>\n",
       "      <th>CustomerId</th>\n",
       "      <th>CreditScore</th>\n",
       "      <th>Age</th>\n",
       "      <th>Tenure</th>\n",
       "      <th>Balance</th>\n",
       "      <th>NumOfProducts</th>\n",
       "      <th>HasCrCard</th>\n",
       "      <th>IsActiveMember</th>\n",
       "      <th>EstimatedSalary</th>\n",
       "      <th>Exited</th>\n",
       "    </tr>\n",
       "  </thead>\n",
       "  <tbody>\n",
       "    <tr>\n",
       "      <th>count</th>\n",
       "      <td>10000.00000</td>\n",
       "      <td>1.000000e+04</td>\n",
       "      <td>10000.000000</td>\n",
       "      <td>10000.000000</td>\n",
       "      <td>9091.000000</td>\n",
       "      <td>10000.000000</td>\n",
       "      <td>10000.000000</td>\n",
       "      <td>10000.00000</td>\n",
       "      <td>10000.000000</td>\n",
       "      <td>10000.000000</td>\n",
       "      <td>10000.000000</td>\n",
       "    </tr>\n",
       "    <tr>\n",
       "      <th>mean</th>\n",
       "      <td>5000.50000</td>\n",
       "      <td>1.569094e+07</td>\n",
       "      <td>650.528800</td>\n",
       "      <td>38.921800</td>\n",
       "      <td>4.997690</td>\n",
       "      <td>76485.889288</td>\n",
       "      <td>1.530200</td>\n",
       "      <td>0.70550</td>\n",
       "      <td>0.515100</td>\n",
       "      <td>100090.239881</td>\n",
       "      <td>0.203700</td>\n",
       "    </tr>\n",
       "    <tr>\n",
       "      <th>std</th>\n",
       "      <td>2886.89568</td>\n",
       "      <td>7.193619e+04</td>\n",
       "      <td>96.653299</td>\n",
       "      <td>10.487806</td>\n",
       "      <td>2.894723</td>\n",
       "      <td>62397.405202</td>\n",
       "      <td>0.581654</td>\n",
       "      <td>0.45584</td>\n",
       "      <td>0.499797</td>\n",
       "      <td>57510.492818</td>\n",
       "      <td>0.402769</td>\n",
       "    </tr>\n",
       "    <tr>\n",
       "      <th>min</th>\n",
       "      <td>1.00000</td>\n",
       "      <td>1.556570e+07</td>\n",
       "      <td>350.000000</td>\n",
       "      <td>18.000000</td>\n",
       "      <td>0.000000</td>\n",
       "      <td>0.000000</td>\n",
       "      <td>1.000000</td>\n",
       "      <td>0.00000</td>\n",
       "      <td>0.000000</td>\n",
       "      <td>11.580000</td>\n",
       "      <td>0.000000</td>\n",
       "    </tr>\n",
       "    <tr>\n",
       "      <th>25%</th>\n",
       "      <td>2500.75000</td>\n",
       "      <td>1.562853e+07</td>\n",
       "      <td>584.000000</td>\n",
       "      <td>32.000000</td>\n",
       "      <td>2.000000</td>\n",
       "      <td>0.000000</td>\n",
       "      <td>1.000000</td>\n",
       "      <td>0.00000</td>\n",
       "      <td>0.000000</td>\n",
       "      <td>51002.110000</td>\n",
       "      <td>0.000000</td>\n",
       "    </tr>\n",
       "    <tr>\n",
       "      <th>50%</th>\n",
       "      <td>5000.50000</td>\n",
       "      <td>1.569074e+07</td>\n",
       "      <td>652.000000</td>\n",
       "      <td>37.000000</td>\n",
       "      <td>5.000000</td>\n",
       "      <td>97198.540000</td>\n",
       "      <td>1.000000</td>\n",
       "      <td>1.00000</td>\n",
       "      <td>1.000000</td>\n",
       "      <td>100193.915000</td>\n",
       "      <td>0.000000</td>\n",
       "    </tr>\n",
       "    <tr>\n",
       "      <th>75%</th>\n",
       "      <td>7500.25000</td>\n",
       "      <td>1.575323e+07</td>\n",
       "      <td>718.000000</td>\n",
       "      <td>44.000000</td>\n",
       "      <td>7.000000</td>\n",
       "      <td>127644.240000</td>\n",
       "      <td>2.000000</td>\n",
       "      <td>1.00000</td>\n",
       "      <td>1.000000</td>\n",
       "      <td>149388.247500</td>\n",
       "      <td>0.000000</td>\n",
       "    </tr>\n",
       "    <tr>\n",
       "      <th>max</th>\n",
       "      <td>10000.00000</td>\n",
       "      <td>1.581569e+07</td>\n",
       "      <td>850.000000</td>\n",
       "      <td>92.000000</td>\n",
       "      <td>10.000000</td>\n",
       "      <td>250898.090000</td>\n",
       "      <td>4.000000</td>\n",
       "      <td>1.00000</td>\n",
       "      <td>1.000000</td>\n",
       "      <td>199992.480000</td>\n",
       "      <td>1.000000</td>\n",
       "    </tr>\n",
       "  </tbody>\n",
       "</table>\n",
       "</div>"
      ],
      "text/plain": [
       "         RowNumber    CustomerId   CreditScore           Age       Tenure  \\\n",
       "count  10000.00000  1.000000e+04  10000.000000  10000.000000  9091.000000   \n",
       "mean    5000.50000  1.569094e+07    650.528800     38.921800     4.997690   \n",
       "std     2886.89568  7.193619e+04     96.653299     10.487806     2.894723   \n",
       "min        1.00000  1.556570e+07    350.000000     18.000000     0.000000   \n",
       "25%     2500.75000  1.562853e+07    584.000000     32.000000     2.000000   \n",
       "50%     5000.50000  1.569074e+07    652.000000     37.000000     5.000000   \n",
       "75%     7500.25000  1.575323e+07    718.000000     44.000000     7.000000   \n",
       "max    10000.00000  1.581569e+07    850.000000     92.000000    10.000000   \n",
       "\n",
       "             Balance  NumOfProducts    HasCrCard  IsActiveMember  \\\n",
       "count   10000.000000   10000.000000  10000.00000    10000.000000   \n",
       "mean    76485.889288       1.530200      0.70550        0.515100   \n",
       "std     62397.405202       0.581654      0.45584        0.499797   \n",
       "min         0.000000       1.000000      0.00000        0.000000   \n",
       "25%         0.000000       1.000000      0.00000        0.000000   \n",
       "50%     97198.540000       1.000000      1.00000        1.000000   \n",
       "75%    127644.240000       2.000000      1.00000        1.000000   \n",
       "max    250898.090000       4.000000      1.00000        1.000000   \n",
       "\n",
       "       EstimatedSalary        Exited  \n",
       "count     10000.000000  10000.000000  \n",
       "mean     100090.239881      0.203700  \n",
       "std       57510.492818      0.402769  \n",
       "min          11.580000      0.000000  \n",
       "25%       51002.110000      0.000000  \n",
       "50%      100193.915000      0.000000  \n",
       "75%      149388.247500      0.000000  \n",
       "max      199992.480000      1.000000  "
      ]
     },
     "metadata": {},
     "output_type": "display_data"
    },
    {
     "data": {
      "text/plain": [
       "0"
      ]
     },
     "metadata": {},
     "output_type": "display_data"
    }
   ],
   "source": [
    "#изучим датасет\n",
    "def uni_function(function):\n",
    "    display(function.info())\n",
    "    display(function.isna().sum())\n",
    "    display(function.describe())\n",
    "    display(function.duplicated().sum())\n",
    "uni_function(df)"
   ]
  },
  {
   "cell_type": "markdown",
   "metadata": {},
   "source": [
    "По результатам изучения данных, нам необходимо:\n",
    "1. привести названия столбцов к «змеиному_регистру»;\n",
    "2. удалить неважные для данной задачи столбцы;\n",
    "3. проанализировать, какую долю составляют пропуски в столбце Tenure и решить, как с ними поступить."
   ]
  },
  {
   "cell_type": "code",
   "execution_count": 5,
   "metadata": {
    "scrolled": true
   },
   "outputs": [
    {
     "data": {
      "text/plain": [
       "Index(['rownumber', 'customerid', 'surname', 'creditscore', 'geography',\n",
       "       'gender', 'age', 'tenure', 'balance', 'numofproducts', 'hascrcard',\n",
       "       'isactivemember', 'estimatedsalary', 'exited'],\n",
       "      dtype='object')"
      ]
     },
     "metadata": {},
     "output_type": "display_data"
    }
   ],
   "source": [
    "#приведем столбцы к нижнему регистру\n",
    "df.columns = map(str.lower, df.columns)\n",
    "display(df.columns)"
   ]
  },
  {
   "cell_type": "code",
   "execution_count": 6,
   "metadata": {
    "scrolled": true
   },
   "outputs": [
    {
     "data": {
      "text/plain": [
       "Index(['row_number', 'customerid', 'surname', 'credit_score', 'geography',\n",
       "       'gender', 'age', 'tenure', 'balance', 'num_of_products', 'has_cr_card',\n",
       "       'is_active_member', 'estimated_salary', 'exited'],\n",
       "      dtype='object')"
      ]
     },
     "metadata": {},
     "output_type": "display_data"
    }
   ],
   "source": [
    "#переименуем столбцы\n",
    "df = df.rename(columns={'rownumber': 'row_number', \n",
    "                        'creditscore': 'credit_score',\n",
    "                       'numofproducts': 'num_of_products',\n",
    "                       'hascrcard': 'has_cr_card',\n",
    "                       'isactivemember': 'is_active_member',\n",
    "                       'estimatedsalary': 'estimated_salary'})\n",
    "display(df.columns)"
   ]
  },
  {
   "cell_type": "code",
   "execution_count": 7,
   "metadata": {
    "scrolled": true
   },
   "outputs": [
    {
     "data": {
      "text/plain": [
       "Index(['credit_score', 'geography', 'gender', 'age', 'tenure', 'balance',\n",
       "       'num_of_products', 'has_cr_card', 'is_active_member',\n",
       "       'estimated_salary', 'exited'],\n",
       "      dtype='object')"
      ]
     },
     "metadata": {},
     "output_type": "display_data"
    }
   ],
   "source": [
    "# удалим row_number и surname - тк никакой информации для определения уйдет клиент или нет они не несут,\n",
    "df = df.drop(['row_number', 'surname', 'customerid'] , axis=1)\n",
    "display(df.columns)\n"
   ]
  },
  {
   "cell_type": "code",
   "execution_count": 8,
   "metadata": {
    "scrolled": false
   },
   "outputs": [
    {
     "data": {
      "text/html": [
       "<style  type=\"text/css\" >\n",
       "#T_ffb1b_row0_col0,#T_ffb1b_row1_col0,#T_ffb1b_row2_col0,#T_ffb1b_row3_col0,#T_ffb1b_row5_col0,#T_ffb1b_row6_col0,#T_ffb1b_row7_col0,#T_ffb1b_row8_col0,#T_ffb1b_row9_col0,#T_ffb1b_row10_col0{\n",
       "            background-color:  #3b4cc0;\n",
       "            color:  #f1f1f1;\n",
       "        }#T_ffb1b_row4_col0{\n",
       "            background-color:  #b40426;\n",
       "            color:  #f1f1f1;\n",
       "        }</style><table id=\"T_ffb1b_\" ><thead>    <tr>        <th class=\"blank level0\" ></th>        <th class=\"col_heading level0 col0\" >0</th>    </tr></thead><tbody>\n",
       "                <tr>\n",
       "                        <th id=\"T_ffb1b_level0_row0\" class=\"row_heading level0 row0\" >credit_score</th>\n",
       "                        <td id=\"T_ffb1b_row0_col0\" class=\"data row0 col0\" >0.000000</td>\n",
       "            </tr>\n",
       "            <tr>\n",
       "                        <th id=\"T_ffb1b_level0_row1\" class=\"row_heading level0 row1\" >geography</th>\n",
       "                        <td id=\"T_ffb1b_row1_col0\" class=\"data row1 col0\" >0.000000</td>\n",
       "            </tr>\n",
       "            <tr>\n",
       "                        <th id=\"T_ffb1b_level0_row2\" class=\"row_heading level0 row2\" >gender</th>\n",
       "                        <td id=\"T_ffb1b_row2_col0\" class=\"data row2 col0\" >0.000000</td>\n",
       "            </tr>\n",
       "            <tr>\n",
       "                        <th id=\"T_ffb1b_level0_row3\" class=\"row_heading level0 row3\" >age</th>\n",
       "                        <td id=\"T_ffb1b_row3_col0\" class=\"data row3 col0\" >0.000000</td>\n",
       "            </tr>\n",
       "            <tr>\n",
       "                        <th id=\"T_ffb1b_level0_row4\" class=\"row_heading level0 row4\" >tenure</th>\n",
       "                        <td id=\"T_ffb1b_row4_col0\" class=\"data row4 col0\" >9.090000</td>\n",
       "            </tr>\n",
       "            <tr>\n",
       "                        <th id=\"T_ffb1b_level0_row5\" class=\"row_heading level0 row5\" >balance</th>\n",
       "                        <td id=\"T_ffb1b_row5_col0\" class=\"data row5 col0\" >0.000000</td>\n",
       "            </tr>\n",
       "            <tr>\n",
       "                        <th id=\"T_ffb1b_level0_row6\" class=\"row_heading level0 row6\" >num_of_products</th>\n",
       "                        <td id=\"T_ffb1b_row6_col0\" class=\"data row6 col0\" >0.000000</td>\n",
       "            </tr>\n",
       "            <tr>\n",
       "                        <th id=\"T_ffb1b_level0_row7\" class=\"row_heading level0 row7\" >has_cr_card</th>\n",
       "                        <td id=\"T_ffb1b_row7_col0\" class=\"data row7 col0\" >0.000000</td>\n",
       "            </tr>\n",
       "            <tr>\n",
       "                        <th id=\"T_ffb1b_level0_row8\" class=\"row_heading level0 row8\" >is_active_member</th>\n",
       "                        <td id=\"T_ffb1b_row8_col0\" class=\"data row8 col0\" >0.000000</td>\n",
       "            </tr>\n",
       "            <tr>\n",
       "                        <th id=\"T_ffb1b_level0_row9\" class=\"row_heading level0 row9\" >estimated_salary</th>\n",
       "                        <td id=\"T_ffb1b_row9_col0\" class=\"data row9 col0\" >0.000000</td>\n",
       "            </tr>\n",
       "            <tr>\n",
       "                        <th id=\"T_ffb1b_level0_row10\" class=\"row_heading level0 row10\" >exited</th>\n",
       "                        <td id=\"T_ffb1b_row10_col0\" class=\"data row10 col0\" >0.000000</td>\n",
       "            </tr>\n",
       "    </tbody></table>"
      ],
      "text/plain": [
       "<pandas.io.formats.style.Styler at 0x7faf6258e340>"
      ]
     },
     "execution_count": 8,
     "metadata": {},
     "output_type": "execute_result"
    }
   ],
   "source": [
    "#проверим долю пропущенных значений в столбце Tenure\n",
    "pd.DataFrame(round((df.isna().mean()*100),2)).style.background_gradient('coolwarm')"
   ]
  },
  {
   "cell_type": "markdown",
   "metadata": {},
   "source": [
    "Доля пропусков в столбце tenure составляет 9,09%. Удаление строк с пропущенными значениями приведет к потере данных и искажению результатов. Заменим пропущенные значения нулями, предполагая, что клиент пользуется услугами банка меньше года."
   ]
  },
  {
   "cell_type": "code",
   "execution_count": 9,
   "metadata": {},
   "outputs": [],
   "source": [
    "df['tenure'] = df['tenure'].fillna(0)\n",
    "#pd.DataFrame(round((df.isna().mean()*100),2)).style.background_gradient('coolwarm')"
   ]
  },
  {
   "cell_type": "code",
   "execution_count": 10,
   "metadata": {
    "scrolled": true
   },
   "outputs": [
    {
     "data": {
      "text/html": [
       "<div>\n",
       "<style scoped>\n",
       "    .dataframe tbody tr th:only-of-type {\n",
       "        vertical-align: middle;\n",
       "    }\n",
       "\n",
       "    .dataframe tbody tr th {\n",
       "        vertical-align: top;\n",
       "    }\n",
       "\n",
       "    .dataframe thead th {\n",
       "        text-align: right;\n",
       "    }\n",
       "</style>\n",
       "<table border=\"1\" class=\"dataframe\">\n",
       "  <thead>\n",
       "    <tr style=\"text-align: right;\">\n",
       "      <th></th>\n",
       "      <th>credit_score</th>\n",
       "      <th>age</th>\n",
       "      <th>tenure</th>\n",
       "      <th>balance</th>\n",
       "      <th>num_of_products</th>\n",
       "      <th>has_cr_card</th>\n",
       "      <th>is_active_member</th>\n",
       "      <th>estimated_salary</th>\n",
       "      <th>exited</th>\n",
       "      <th>geography_Germany</th>\n",
       "      <th>geography_Spain</th>\n",
       "      <th>gender_Male</th>\n",
       "    </tr>\n",
       "  </thead>\n",
       "  <tbody>\n",
       "    <tr>\n",
       "      <th>0</th>\n",
       "      <td>619</td>\n",
       "      <td>42</td>\n",
       "      <td>2.0</td>\n",
       "      <td>0.00</td>\n",
       "      <td>1</td>\n",
       "      <td>1</td>\n",
       "      <td>1</td>\n",
       "      <td>101348.88</td>\n",
       "      <td>1</td>\n",
       "      <td>0</td>\n",
       "      <td>0</td>\n",
       "      <td>0</td>\n",
       "    </tr>\n",
       "    <tr>\n",
       "      <th>1</th>\n",
       "      <td>608</td>\n",
       "      <td>41</td>\n",
       "      <td>1.0</td>\n",
       "      <td>83807.86</td>\n",
       "      <td>1</td>\n",
       "      <td>0</td>\n",
       "      <td>1</td>\n",
       "      <td>112542.58</td>\n",
       "      <td>0</td>\n",
       "      <td>0</td>\n",
       "      <td>1</td>\n",
       "      <td>0</td>\n",
       "    </tr>\n",
       "    <tr>\n",
       "      <th>2</th>\n",
       "      <td>502</td>\n",
       "      <td>42</td>\n",
       "      <td>8.0</td>\n",
       "      <td>159660.80</td>\n",
       "      <td>3</td>\n",
       "      <td>1</td>\n",
       "      <td>0</td>\n",
       "      <td>113931.57</td>\n",
       "      <td>1</td>\n",
       "      <td>0</td>\n",
       "      <td>0</td>\n",
       "      <td>0</td>\n",
       "    </tr>\n",
       "    <tr>\n",
       "      <th>3</th>\n",
       "      <td>699</td>\n",
       "      <td>39</td>\n",
       "      <td>1.0</td>\n",
       "      <td>0.00</td>\n",
       "      <td>2</td>\n",
       "      <td>0</td>\n",
       "      <td>0</td>\n",
       "      <td>93826.63</td>\n",
       "      <td>0</td>\n",
       "      <td>0</td>\n",
       "      <td>0</td>\n",
       "      <td>0</td>\n",
       "    </tr>\n",
       "    <tr>\n",
       "      <th>4</th>\n",
       "      <td>850</td>\n",
       "      <td>43</td>\n",
       "      <td>2.0</td>\n",
       "      <td>125510.82</td>\n",
       "      <td>1</td>\n",
       "      <td>1</td>\n",
       "      <td>1</td>\n",
       "      <td>79084.10</td>\n",
       "      <td>0</td>\n",
       "      <td>0</td>\n",
       "      <td>1</td>\n",
       "      <td>0</td>\n",
       "    </tr>\n",
       "  </tbody>\n",
       "</table>\n",
       "</div>"
      ],
      "text/plain": [
       "   credit_score  age  tenure    balance  num_of_products  has_cr_card  \\\n",
       "0           619   42     2.0       0.00                1            1   \n",
       "1           608   41     1.0   83807.86                1            0   \n",
       "2           502   42     8.0  159660.80                3            1   \n",
       "3           699   39     1.0       0.00                2            0   \n",
       "4           850   43     2.0  125510.82                1            1   \n",
       "\n",
       "   is_active_member  estimated_salary  exited  geography_Germany  \\\n",
       "0                 1         101348.88       1                  0   \n",
       "1                 1         112542.58       0                  0   \n",
       "2                 0         113931.57       1                  0   \n",
       "3                 0          93826.63       0                  0   \n",
       "4                 1          79084.10       0                  0   \n",
       "\n",
       "   geography_Spain  gender_Male  \n",
       "0                0            0  \n",
       "1                1            0  \n",
       "2                0            0  \n",
       "3                0            0  \n",
       "4                1            0  "
      ]
     },
     "metadata": {},
     "output_type": "display_data"
    }
   ],
   "source": [
    "#преобразуем категориальные признаки в численные с помощью техники OHE\n",
    "df = pd.get_dummies(data=df, columns=['geography', 'gender'], drop_first=True)\n",
    "display(df.head())"
   ]
  },
  {
   "cell_type": "markdown",
   "metadata": {},
   "source": [
    "Данные подготовлены, можем переходить к исследованию задачи"
   ]
  },
  {
   "cell_type": "markdown",
   "metadata": {},
   "source": [
    "## Исследование задачи"
   ]
  },
  {
   "cell_type": "markdown",
   "metadata": {},
   "source": [
    "Цель: исследовать баланс классов, обучить модель без учёта дисбаланса. Кратко описать выводы.\n",
    "\n",
    "Целевым признаком является столбец 'exited' - факт ухода клиента: \"да\" - 1, \"нет\" - 0. Значит предстоит решить задачу классификации. Для этого воспользуемся логистической регрессией."
   ]
  },
  {
   "cell_type": "code",
   "execution_count": 11,
   "metadata": {
    "scrolled": true
   },
   "outputs": [
    {
     "name": "stdout",
     "output_type": "stream",
     "text": [
      "(10000, 11)\n"
     ]
    }
   ],
   "source": [
    "#Сохраним признаки в отдельные переменные\n",
    "features = df.drop(['exited'], axis=1) # извлечем признаки\n",
    "target = df['exited'] # извлечем целевой признак\n",
    "print(features.shape)"
   ]
  },
  {
   "cell_type": "code",
   "execution_count": 12,
   "metadata": {
    "scrolled": true
   },
   "outputs": [
    {
     "name": "stdout",
     "output_type": "stream",
     "text": [
      "(6000, 11)\n",
      "(2000, 11)\n",
      "(2000, 11)\n"
     ]
    }
   ],
   "source": [
    "#разделите данные на обучающую и тестовую выборки \n",
    "features_train, features_test, target_train, target_test = train_test_split(\n",
    "        features, target, test_size=0.4,train_size=0.6, random_state = 12345)\n",
    "#разделите данные на обучающую и валидационную выборки \n",
    "features_test, features_valid, target_test, target_valid = train_test_split(\n",
    "        features_test, target_test, test_size=0.5, random_state = 12345)\n",
    "print(features_train.shape)\n",
    "print(features_valid.shape)\n",
    "print(features_test.shape)"
   ]
  },
  {
   "cell_type": "markdown",
   "metadata": {},
   "source": [
    "###  Логистическая регрессия"
   ]
  },
  {
   "cell_type": "code",
   "execution_count": 13,
   "metadata": {},
   "outputs": [
    {
     "name": "stderr",
     "output_type": "stream",
     "text": [
      "/tmp/ipykernel_1511/690685240.py:5: SettingWithCopyWarning: \n",
      "A value is trying to be set on a copy of a slice from a DataFrame.\n",
      "Try using .loc[row_indexer,col_indexer] = value instead\n",
      "\n",
      "See the caveats in the documentation: https://pandas.pydata.org/pandas-docs/stable/user_guide/indexing.html#returning-a-view-versus-a-copy\n",
      "  features_train[numeric] = scaler.transform(features_train[numeric])\n",
      "/opt/conda/lib/python3.9/site-packages/pandas/core/indexing.py:1738: SettingWithCopyWarning: \n",
      "A value is trying to be set on a copy of a slice from a DataFrame.\n",
      "Try using .loc[row_indexer,col_indexer] = value instead\n",
      "\n",
      "See the caveats in the documentation: https://pandas.pydata.org/pandas-docs/stable/user_guide/indexing.html#returning-a-view-versus-a-copy\n",
      "  self._setitem_single_column(loc, value[:, i].tolist(), pi)\n"
     ]
    },
    {
     "data": {
      "text/html": [
       "<div>\n",
       "<style scoped>\n",
       "    .dataframe tbody tr th:only-of-type {\n",
       "        vertical-align: middle;\n",
       "    }\n",
       "\n",
       "    .dataframe tbody tr th {\n",
       "        vertical-align: top;\n",
       "    }\n",
       "\n",
       "    .dataframe thead th {\n",
       "        text-align: right;\n",
       "    }\n",
       "</style>\n",
       "<table border=\"1\" class=\"dataframe\">\n",
       "  <thead>\n",
       "    <tr style=\"text-align: right;\">\n",
       "      <th></th>\n",
       "      <th>credit_score</th>\n",
       "      <th>age</th>\n",
       "      <th>tenure</th>\n",
       "      <th>balance</th>\n",
       "      <th>num_of_products</th>\n",
       "      <th>has_cr_card</th>\n",
       "      <th>is_active_member</th>\n",
       "      <th>estimated_salary</th>\n",
       "      <th>geography_Germany</th>\n",
       "      <th>geography_Spain</th>\n",
       "      <th>gender_Male</th>\n",
       "    </tr>\n",
       "  </thead>\n",
       "  <tbody>\n",
       "    <tr>\n",
       "      <th>7479</th>\n",
       "      <td>-0.886751</td>\n",
       "      <td>-0.373192</td>\n",
       "      <td>1.104696</td>\n",
       "      <td>1.232271</td>\n",
       "      <td>-0.891560</td>\n",
       "      <td>1</td>\n",
       "      <td>0</td>\n",
       "      <td>-0.187705</td>\n",
       "      <td>0</td>\n",
       "      <td>1</td>\n",
       "      <td>1</td>\n",
       "    </tr>\n",
       "    <tr>\n",
       "      <th>3411</th>\n",
       "      <td>0.608663</td>\n",
       "      <td>-0.183385</td>\n",
       "      <td>1.104696</td>\n",
       "      <td>0.600563</td>\n",
       "      <td>-0.891560</td>\n",
       "      <td>0</td>\n",
       "      <td>0</td>\n",
       "      <td>-0.333945</td>\n",
       "      <td>0</td>\n",
       "      <td>0</td>\n",
       "      <td>0</td>\n",
       "    </tr>\n",
       "    <tr>\n",
       "      <th>6027</th>\n",
       "      <td>2.052152</td>\n",
       "      <td>0.480939</td>\n",
       "      <td>-0.503694</td>\n",
       "      <td>1.027098</td>\n",
       "      <td>0.830152</td>\n",
       "      <td>0</td>\n",
       "      <td>1</td>\n",
       "      <td>1.503095</td>\n",
       "      <td>1</td>\n",
       "      <td>0</td>\n",
       "      <td>1</td>\n",
       "    </tr>\n",
       "    <tr>\n",
       "      <th>1247</th>\n",
       "      <td>-1.457915</td>\n",
       "      <td>-1.417129</td>\n",
       "      <td>0.461340</td>\n",
       "      <td>-1.233163</td>\n",
       "      <td>0.830152</td>\n",
       "      <td>1</td>\n",
       "      <td>0</td>\n",
       "      <td>-1.071061</td>\n",
       "      <td>0</td>\n",
       "      <td>0</td>\n",
       "      <td>1</td>\n",
       "    </tr>\n",
       "    <tr>\n",
       "      <th>3716</th>\n",
       "      <td>0.130961</td>\n",
       "      <td>-1.132419</td>\n",
       "      <td>-0.825373</td>\n",
       "      <td>1.140475</td>\n",
       "      <td>-0.891560</td>\n",
       "      <td>0</td>\n",
       "      <td>0</td>\n",
       "      <td>1.524268</td>\n",
       "      <td>1</td>\n",
       "      <td>0</td>\n",
       "      <td>0</td>\n",
       "    </tr>\n",
       "  </tbody>\n",
       "</table>\n",
       "</div>"
      ],
      "text/plain": [
       "      credit_score       age    tenure   balance  num_of_products  \\\n",
       "7479     -0.886751 -0.373192  1.104696  1.232271        -0.891560   \n",
       "3411      0.608663 -0.183385  1.104696  0.600563        -0.891560   \n",
       "6027      2.052152  0.480939 -0.503694  1.027098         0.830152   \n",
       "1247     -1.457915 -1.417129  0.461340 -1.233163         0.830152   \n",
       "3716      0.130961 -1.132419 -0.825373  1.140475        -0.891560   \n",
       "\n",
       "      has_cr_card  is_active_member  estimated_salary  geography_Germany  \\\n",
       "7479            1                 0         -0.187705                  0   \n",
       "3411            0                 0         -0.333945                  0   \n",
       "6027            0                 1          1.503095                  1   \n",
       "1247            1                 0         -1.071061                  0   \n",
       "3716            0                 0          1.524268                  1   \n",
       "\n",
       "      geography_Spain  gender_Male  \n",
       "7479                1            1  \n",
       "3411                0            0  \n",
       "6027                0            1  \n",
       "1247                0            1  \n",
       "3716                0            0  "
      ]
     },
     "metadata": {},
     "output_type": "display_data"
    }
   ],
   "source": [
    "#применим метод масштабирования — стандартизация данных\n",
    "numeric = ['credit_score', 'age', 'tenure', 'balance', 'num_of_products', 'estimated_salary']\n",
    "scaler = StandardScaler()\n",
    "scaler.fit(features_train[numeric])\n",
    "features_train[numeric] = scaler.transform(features_train[numeric])\n",
    "features_valid[numeric] = scaler.transform(features_valid[numeric])\n",
    "features_test[numeric] = scaler.transform(features_test[numeric])\n",
    "display(features_train.head())"
   ]
  },
  {
   "cell_type": "code",
   "execution_count": 14,
   "metadata": {
    "scrolled": true
   },
   "outputs": [
    {
     "name": "stdout",
     "output_type": "stream",
     "text": [
      "F1-мера наилучшей модели на валидационной выборке: 0.2743055555555555\n",
      "LogisticRegression(random_state=12345, solver='liblinear')\n",
      "1\n"
     ]
    }
   ],
   "source": [
    "best_model = None\n",
    "best_iters = 0 \n",
    "best_result = 0\n",
    "for iters in range(1, 100):\n",
    "    model = LogisticRegression(random_state=12345,solver='liblinear', max_iter=100)\n",
    "    model.fit(features_train, target_train)\n",
    "    predictions_valid = model.predict(features_valid)\n",
    "    result = f1_score(target_valid, predictions_valid)\n",
    "    if result > best_result:\n",
    "        best_model = model\n",
    "        best_result = result\n",
    "        best_iters = iters\n",
    "\n",
    "print(\"F1-мера наилучшей модели на валидационной выборке:\", best_result)\n",
    "print(best_model)\n",
    "print(best_iters)"
   ]
  },
  {
   "cell_type": "code",
   "execution_count": 15,
   "metadata": {
    "scrolled": true
   },
   "outputs": [
    {
     "name": "stdout",
     "output_type": "stream",
     "text": [
      "AUC: 0.738656005132887\n"
     ]
    },
    {
     "data": {
      "text/plain": [
       "0    0.9235\n",
       "1    0.0765\n",
       "dtype: float64"
      ]
     },
     "metadata": {},
     "output_type": "display_data"
    },
    {
     "data": {
      "text/plain": [
       "<AxesSubplot:>"
      ]
     },
     "execution_count": 15,
     "metadata": {},
     "output_type": "execute_result"
    },
    {
     "data": {
      "image/png": "[encoded data removed]",
      "text/plain": [
       "<Figure size 432x288 with 1 Axes>"
      ]
     },
     "metadata": {
      "needs_background": "light"
     },
     "output_type": "display_data"
    }
   ],
   "source": [
    "# чтобы работала функция value_counts(),\n",
    "# мы преобразовали результат к pd.Series \n",
    "predicted_valid = pd.Series(model.predict(features_valid))\n",
    "class_frequency = predicted_valid.value_counts(normalize=True)\n",
    "\n",
    "#Найдим значения вероятностей классов для валидационной выборки\n",
    "probabilities_valid = model.predict_proba(features_valid)\n",
    "\n",
    "#посчитаем AUC-ROC для выяснения, как сильно наша моель отличается от случайной\n",
    "auc_roc = roc_auc_score(target_valid, probabilities_valid[:, 1])\n",
    "print('AUC:', auc_roc)\n",
    "\n",
    "display(class_frequency)\n",
    "class_frequency.plot(kind='bar') "
   ]
  },
  {
   "cell_type": "markdown",
   "metadata": {},
   "source": [
    "### Дерево решений"
   ]
  },
  {
   "cell_type": "code",
   "execution_count": 16,
   "metadata": {
    "scrolled": false
   },
   "outputs": [
    {
     "name": "stdout",
     "output_type": "stream",
     "text": [
      "F1-мера наилучшей модели на валидационной выборке: 0.53781512605042\n",
      "Оптимальная глубина деревьев: 9\n",
      "DecisionTreeClassifier(max_depth=9, random_state=12345)\n"
     ]
    }
   ],
   "source": [
    "best_model = None\n",
    "best_result = 0\n",
    "best_depth = 0\n",
    "for depth in range(1, 11, 1):\n",
    "    model = DecisionTreeClassifier(random_state=12345, max_depth=depth) # обучим модель с заданной глубиной дерева\n",
    "    model.fit(features_train,target_train) # обучим модель вызовом метода fit()\n",
    "    predictions_valid = model.predict(features_valid) # получим предсказания модели\n",
    "    result = f1_score(target_valid, predictions_valid) # посчитаем качество модели\n",
    "    if result > best_result:\n",
    "        best_model = model\n",
    "        best_result = result\n",
    "        best_depth = depth\n",
    "        \n",
    "print(\"F1-мера наилучшей модели на валидационной выборке:\",best_result)\n",
    "print ('Оптимальная глубина деревьев:',best_depth)\n",
    "print(best_model)"
   ]
  },
  {
   "cell_type": "code",
   "execution_count": 17,
   "metadata": {},
   "outputs": [
    {
     "name": "stdout",
     "output_type": "stream",
     "text": [
      "AUC: 0.7843565377598487\n"
     ]
    },
    {
     "data": {
      "text/plain": [
       "0    0.8545\n",
       "1    0.1455\n",
       "dtype: float64"
      ]
     },
     "metadata": {},
     "output_type": "display_data"
    },
    {
     "data": {
      "text/plain": [
       "<AxesSubplot:>"
      ]
     },
     "execution_count": 17,
     "metadata": {},
     "output_type": "execute_result"
    },
    {
     "data": {
      "image/png": "[encoded data removed]",
      "text/plain": [
       "<Figure size 432x288 with 1 Axes>"
      ]
     },
     "metadata": {
      "needs_background": "light"
     },
     "output_type": "display_data"
    }
   ],
   "source": [
    "#Проанализируем частоты классов в результатах предсказаний решающего дерева\n",
    "model = DecisionTreeClassifier(random_state=12345, max_depth=9)\n",
    "model.fit(features_train, target_train)\n",
    "# чтобы работала функция value_counts(),\n",
    "# мы преобразовали результат к pd.Series \n",
    "predicted_valid = pd.Series(model.predict(features_valid))\n",
    "class_frequency = predicted_valid.value_counts(normalize=True)\n",
    "\n",
    "#Найдим значения вероятностей классов для валидационной выборки\n",
    "probabilities_valid = model.predict_proba(features_valid)\n",
    "\n",
    "\n",
    "#посчитаем AUC-ROC для выяснения, как сильно наша моель отличается от случайной\n",
    "auc_roc = roc_auc_score(target_valid, probabilities_valid[:, 1])\n",
    "print('AUC:', auc_roc)\n",
    "\n",
    "display(class_frequency)\n",
    "class_frequency.plot(kind='bar') \n"
   ]
  },
  {
   "cell_type": "markdown",
   "metadata": {},
   "source": [
    "### Случайный лес"
   ]
  },
  {
   "cell_type": "code",
   "execution_count": 18,
   "metadata": {
    "scrolled": true
   },
   "outputs": [
    {
     "name": "stdout",
     "output_type": "stream",
     "text": [
      "F1-мера наилучшей модели на валидационной выборке: 0.5306748466257668\n",
      "Оптимальная глубина деревьев: 9\n",
      "Оптимальное количество деревьев: 18\n",
      "RandomForestClassifier(max_depth=9, n_estimators=18, random_state=12345)\n"
     ]
    }
   ],
   "source": [
    "best_model = None\n",
    "best_result = 0\n",
    "for est in range(1, 100, 1):\n",
    "    for depth in range(1, 11, 1):\n",
    "        model = RandomForestClassifier(random_state=12345, n_estimators=est, max_depth=depth) # обучим модель с заданным количеством деревьев\n",
    "        model.fit(features_train,target_train) # обучим модель на тренировочной выборке\n",
    "        predictions_valid = model.predict(features_valid) # получим предсказания модели\n",
    "        result = f1_score(target_valid, predictions_valid)\n",
    "        if result > best_result:\n",
    "            best_model = model # сохраним наилучшую модель\n",
    "            best_result = result # сохраним наилучшее значение метрики accuracy на валидационных данных\n",
    "            best_est = est # наилучшее количество деревьев\n",
    "\n",
    "print(\"F1-мера наилучшей модели на валидационной выборке:\", best_result)\n",
    "print ('Оптимальная глубина деревьев:', best_depth)\n",
    "print ('Оптимальное количество деревьев:', best_est)\n",
    "print(best_model)"
   ]
  },
  {
   "cell_type": "code",
   "execution_count": 19,
   "metadata": {
    "scrolled": false
   },
   "outputs": [
    {
     "name": "stdout",
     "output_type": "stream",
     "text": [
      "AUC: 0.8489043894877755\n"
     ]
    },
    {
     "data": {
      "text/plain": [
       "0    0.8855\n",
       "1    0.1145\n",
       "dtype: float64"
      ]
     },
     "metadata": {},
     "output_type": "display_data"
    },
    {
     "data": {
      "text/plain": [
       "<AxesSubplot:>"
      ]
     },
     "execution_count": 19,
     "metadata": {},
     "output_type": "execute_result"
    },
    {
     "data": {
      "image/png": "[encoded data removed]",
      "text/plain": [
       "<Figure size 432x288 with 1 Axes>"
      ]
     },
     "metadata": {
      "needs_background": "light"
     },
     "output_type": "display_data"
    }
   ],
   "source": [
    "#Проанализируем частоты классов в результатах предсказаний случайного леса\n",
    "model = RandomForestClassifier(random_state=12345, n_estimators=18, max_depth=9)\n",
    "model.fit(features_train, target_train)\n",
    "# чтобы работала функция value_counts(),\n",
    "# мы преобразовали результат к pd.Series \n",
    "predicted_valid = pd.Series(model.predict(features_valid))\n",
    "class_frequency = predicted_valid.value_counts(normalize=True)\n",
    "\n",
    "#Найдим значения вероятностей классов для валидационной выборки\n",
    "probabilities_valid = model.predict_proba(features_valid)\n",
    "\n",
    "#посчитаем AUC-ROC для выяснения, как сильно наша моель отличается от случайной\n",
    "auc_roc = roc_auc_score(target_valid, probabilities_valid[:, 1])\n",
    "print('AUC:', auc_roc)\n",
    "\n",
    "display(class_frequency)\n",
    "class_frequency.plot(kind='bar')  \n"
   ]
  },
  {
   "cell_type": "markdown",
   "metadata": {},
   "source": [
    "**Вывод**\n",
    "\n",
    "Мы обучили модель тремя различными алгоритмами: \n",
    "1. логистической регрессией\n",
    "2. деревом решений\n",
    "3. слечайным лесом.\n",
    "\n",
    "Определили значения F1-меры наилучшей модели:\n",
    "- для логистической регрессии F1 = 0.27;\n",
    "- для дерева решений F1 = 0.53;\n",
    "- для случайного леса F1 = 0.53.\n",
    "\n",
    "Рассчитали показатель AUC. Как известно, разумное значение AUC должно быть > 0.5. У хорошей модели классификации показатель AUC > 0.9, но это значение сильно зависит от сферы ее применения. В нашем случае:\n",
    "- для логистической регрессии AUC = 0.73;\n",
    "- для дерева решений AUC = 0.78;\n",
    "- для случайного леса AUC = 0.84.    \n",
    "Полученные значения больше 0.5, а значит мы можем считать нашу модель адекватной.\n",
    "\n",
    "После этого проверили каждую модель на адекватность, используя оптимальные значения для кадлой модели. По результатам проверки, мы можем сделать вывод о том, что в настоящее время все три модели работают плохо. Мы видим, что все модели несбалансированы, соотношения между классами далеко не 1:1. "
   ]
  },
  {
   "cell_type": "markdown",
   "metadata": {},
   "source": [
    "## Борьба с дисбалансом"
   ]
  },
  {
   "cell_type": "markdown",
   "metadata": {},
   "source": [
    "Для решения проблемы дисбаланса классов, есть три способа:\n",
    "- Использовать аргумент class_weight;\n",
    "- Увеличить выборку.\n",
    "- Уменьшить выборку.   "
   ]
  },
  {
   "cell_type": "markdown",
   "metadata": {},
   "source": [
    "###  Взвешивание классов"
   ]
  },
  {
   "cell_type": "markdown",
   "metadata": {},
   "source": [
    "#### Логистическая регрессия"
   ]
  },
  {
   "cell_type": "code",
   "execution_count": 20,
   "metadata": {
    "scrolled": true
   },
   "outputs": [
    {
     "name": "stdout",
     "output_type": "stream",
     "text": [
      "F1: 0.4797238999137188\n",
      "AUC: 0.7417876058170719\n"
     ]
    }
   ],
   "source": [
    "#сделаем веса классов сбалансированными\n",
    "model = LogisticRegression(random_state=12345, solver='liblinear', class_weight='balanced')\n",
    "model.fit(features_train, target_train)\n",
    "predicted_valid = model.predict(features_valid)\n",
    "f1_wl = f1_score(target_valid, predicted_valid)\n",
    "print(\"F1:\", f1_wl)\n",
    "\n",
    "#Найдим значения вероятностей классов для валидационной выборки\n",
    "probabilities_valid = model.predict_proba(features_valid)\n",
    "\n",
    "#посчитаем AUC-ROC для выяснения, как сильно наша моель отличается от случайной\n",
    "auc_roc_wl = roc_auc_score(target_valid, probabilities_valid[:, 1])\n",
    "print('AUC:', auc_roc_wl)"
   ]
  },
  {
   "cell_type": "markdown",
   "metadata": {},
   "source": [
    "#### Дерево решений"
   ]
  },
  {
   "cell_type": "code",
   "execution_count": 21,
   "metadata": {},
   "outputs": [
    {
     "name": "stdout",
     "output_type": "stream",
     "text": [
      "F1: 0.5458015267175572\n",
      "AUC: 0.7679962102984541\n"
     ]
    }
   ],
   "source": [
    "#сделаем веса классов сбалансированными\n",
    "model = DecisionTreeClassifier(random_state=12345, max_depth=9, class_weight='balanced')\n",
    "model.fit(features_train, target_train)\n",
    "predicted_valid = model.predict(features_valid)\n",
    "f1_wt = f1_score(target_valid, predicted_valid)\n",
    "print(\"F1:\", f1_wt)\n",
    "\n",
    "#Найдим значения вероятностей классов для валидационной выборки\n",
    "probabilities_valid = model.predict_proba(features_valid)\n",
    "\n",
    "#посчитаем AUC-ROC для выяснения, как сильно наша моель отличается от случайной\n",
    "auc_roc_wt = roc_auc_score(target_valid, probabilities_valid[:, 1])\n",
    "print('AUC:', auc_roc_wt)"
   ]
  },
  {
   "cell_type": "markdown",
   "metadata": {},
   "source": [
    "#### Случайный лес"
   ]
  },
  {
   "cell_type": "code",
   "execution_count": 22,
   "metadata": {
    "scrolled": true
   },
   "outputs": [
    {
     "name": "stdout",
     "output_type": "stream",
     "text": [
      "F1: 0.58\n",
      "AUC: 0.8489043894877755\n"
     ]
    }
   ],
   "source": [
    "#сделаем веса классов лучшей модели сбалансированными\n",
    "model = RandomForestClassifier(random_state=12345, n_estimators=18, max_depth=9, class_weight='balanced')\n",
    "model.fit(features_train, target_train)\n",
    "predicted_valid = model.predict(features_valid)\n",
    "f1_wf = f1_score(target_valid, predicted_valid)\n",
    "print(\"F1:\", f1_wf )\n",
    "\n",
    "#Найдём значения вероятностей классов для валидационной выборки\n",
    "probabilities_valid = model.predict_proba(features_valid)\n",
    "\n",
    "#посчитаем AUC-ROC для выяснения, как сильно наша моель отличается от случайной\n",
    "auc_roc_wf = roc_auc_score(target_valid, probabilities_valid[:, 1])\n",
    "print('AUC:', auc_roc)"
   ]
  },
  {
   "cell_type": "code",
   "execution_count": 23,
   "metadata": {
    "scrolled": true
   },
   "outputs": [],
   "source": [
    "#создадим сводную таблицу\n",
    "weight = pd.DataFrame([['LogisticRegression',f1_wl, auc_roc_wl],\n",
    "                  ['DecisionTreeClassifier',f1_wt, auc_roc_wt],\n",
    "                  ['RandomForestClassifier',f1_wf, auc_roc_wf]], \n",
    "columns = ['model','F1-мера', 'AUC-ROS'])\n"
   ]
  },
  {
   "cell_type": "markdown",
   "metadata": {},
   "source": [
    "### Увеличение выборки"
   ]
  },
  {
   "cell_type": "code",
   "execution_count": 24,
   "metadata": {
    "scrolled": true
   },
   "outputs": [],
   "source": [
    "def upsample(features, target, repeat):\n",
    "    features_zeros = features[target == 0]\n",
    "    features_ones = features[target == 1]\n",
    "    target_zeros = target[target == 0]\n",
    "    target_ones = target[target == 1]\n",
    "\n",
    "    features_upsampled = pd.concat([features_zeros] + [features_ones] * repeat)\n",
    "    target_upsampled = pd.concat([target_zeros] + [target_ones] * repeat)\n",
    "    \n",
    "    features_upsampled, target_upsampled = shuffle(\n",
    "        features_upsampled, target_upsampled, random_state=12345)\n",
    "    \n",
    "    return features_upsampled, target_upsampled\n",
    "\n",
    "features_upsampled, target_upsampled = upsample(features_train, target_train, 10)\n"
   ]
  },
  {
   "cell_type": "markdown",
   "metadata": {},
   "source": [
    "#### Логистическая регрессия"
   ]
  },
  {
   "cell_type": "code",
   "execution_count": 25,
   "metadata": {},
   "outputs": [
    {
     "name": "stdout",
     "output_type": "stream",
     "text": [
      "F1: 0.43009545199326216\n",
      "AUC: 0.742769510292008\n"
     ]
    }
   ],
   "source": [
    "model = LogisticRegression(random_state=12345, solver='liblinear')\n",
    "model.fit(features_upsampled, target_upsampled)\n",
    "predicted_valid = model.predict(features_valid)\n",
    "f1_up_l = f1_score(target_valid, predicted_valid)\n",
    "print(\"F1:\", f1_up_l)\n",
    "\n",
    "#Найдём значения вероятностей классов для валидационной выборки\n",
    "probabilities_valid = model.predict_proba(features_valid)\n",
    "\n",
    "#посчитаем AUC-ROC для выяснения, как сильно наша моель отличается от случайной\n",
    "auc_roc_up_l = roc_auc_score(target_valid, probabilities_valid[:, 1])\n",
    "print('AUC:', auc_roc_up_l)"
   ]
  },
  {
   "cell_type": "markdown",
   "metadata": {},
   "source": [
    "#### Дерево решений"
   ]
  },
  {
   "cell_type": "code",
   "execution_count": 26,
   "metadata": {
    "scrolled": true
   },
   "outputs": [
    {
     "name": "stdout",
     "output_type": "stream",
     "text": [
      "F1: 0.5166279969064191\n",
      "AUC: 0.7841234291402265\n"
     ]
    }
   ],
   "source": [
    "model = DecisionTreeClassifier(random_state=12345, max_depth=9)\n",
    "model.fit(features_upsampled, target_upsampled)\n",
    "predicted_valid = model.predict(features_valid)\n",
    "f1_up_t = f1_score(target_valid, predicted_valid)\n",
    "print(\"F1:\", f1_up_t)\n",
    "\n",
    "#Найдём значения вероятностей классов для валидационной выборки\n",
    "probabilities_valid = model.predict_proba(features_valid)\n",
    "\n",
    "#посчитаем AUC-ROC для выяснения, как сильно наша моель отличается от случайной\n",
    "auc_roc_up_t = roc_auc_score(target_valid, probabilities_valid[:, 1])\n",
    "print('AUC:', auc_roc_up_t)"
   ]
  },
  {
   "cell_type": "markdown",
   "metadata": {},
   "source": [
    "#### Случайный лес"
   ]
  },
  {
   "cell_type": "code",
   "execution_count": 27,
   "metadata": {
    "scrolled": true
   },
   "outputs": [
    {
     "name": "stdout",
     "output_type": "stream",
     "text": [
      "F1: 0.6116910229645094\n",
      "AUC: 0.8503959848351974\n"
     ]
    }
   ],
   "source": [
    "model = RandomForestClassifier(random_state=12345, n_estimators=18, max_depth=9, class_weight='balanced')\n",
    "model.fit(features_upsampled, target_upsampled)\n",
    "predicted_valid = model.predict(features_valid)\n",
    "f1_up_f = f1_score(target_valid, predicted_valid)\n",
    "print(\"F1:\", f1_up_f)\n",
    "\n",
    "#Найдём значения вероятностей классов для валидационной выборки\n",
    "probabilities_valid = model.predict_proba(features_valid)\n",
    "\n",
    "#посчитаем AUC-ROC для выяснения, как сильно наша моель отличается от случайной\n",
    "auc_roc_up_f = roc_auc_score(target_valid, probabilities_valid[:, 1])\n",
    "print('AUC:', auc_roc_up_f)"
   ]
  },
  {
   "cell_type": "code",
   "execution_count": 28,
   "metadata": {
    "scrolled": true
   },
   "outputs": [],
   "source": [
    "#создадим сводную таблицу\n",
    "upsamp = pd.DataFrame([['LogisticRegression',f1_up_l, auc_roc_up_l],\n",
    "                  ['DecisionTreeClassifier',f1_up_t, auc_roc_up_t],\n",
    "                  ['RandomForestClassifier',f1_up_f, auc_roc_up_f]], \n",
    "columns = ['model','F1-мера', 'AUC-ROS'])\n"
   ]
  },
  {
   "cell_type": "markdown",
   "metadata": {},
   "source": [
    "### Уменьшение выборки"
   ]
  },
  {
   "cell_type": "code",
   "execution_count": 29,
   "metadata": {},
   "outputs": [],
   "source": [
    "def downsample(features, target, fraction):\n",
    "    features_zeros = features[target == 0]\n",
    "    features_ones = features[target == 1]\n",
    "    target_zeros = target[target == 0]\n",
    "    target_ones = target[target == 1]\n",
    "\n",
    "    features_downsampled = pd.concat(\n",
    "            [features_zeros.sample(frac=0.1, random_state=12345)] + [features_ones])\n",
    "    target_downsampled = pd.concat(\n",
    "            [target_zeros.sample(frac=0.1, random_state=12345)] + [target_ones])\n",
    "    \n",
    "    features_downsampled, target_downsampled = shuffle(\n",
    "        features_downsampled, target_downsampled, random_state=12345)\n",
    "\n",
    "    return features_downsampled, target_downsampled\n",
    "\n",
    "features_downsampled, target_downsampled = downsample(features_train, target_train, 0.1)\n"
   ]
  },
  {
   "cell_type": "markdown",
   "metadata": {},
   "source": [
    "#### Логистическая регрессия"
   ]
  },
  {
   "cell_type": "code",
   "execution_count": 30,
   "metadata": {},
   "outputs": [
    {
     "name": "stdout",
     "output_type": "stream",
     "text": [
      "F1: 0.4305239179954442\n",
      "AUC: 0.7358631989698248\n"
     ]
    }
   ],
   "source": [
    "model = LogisticRegression(random_state=12345, solver='liblinear')\n",
    "model.fit(features_downsampled, target_downsampled)\n",
    "predicted_valid = model.predict(features_valid)\n",
    "f1_down_l = f1_score(target_valid, predicted_valid)\n",
    "print(\"F1:\", f1_down_l)\n",
    "\n",
    "#Найдём значения вероятностей классов для валидационной выборки\n",
    "probabilities_valid = model.predict_proba(features_valid)\n",
    "\n",
    "#посчитаем AUC-ROC для выяснения, как сильно наша моель отличается от случайной\n",
    "auc_roc_down_l = roc_auc_score(target_valid, probabilities_valid[:, 1])\n",
    "print('AUC:', auc_roc_down_l)"
   ]
  },
  {
   "cell_type": "markdown",
   "metadata": {},
   "source": [
    "#### Дерево решений"
   ]
  },
  {
   "cell_type": "code",
   "execution_count": 31,
   "metadata": {
    "scrolled": true
   },
   "outputs": [
    {
     "name": "stdout",
     "output_type": "stream",
     "text": [
      "F1: 0.4752877454299255\n",
      "AUC: 0.7272291854989948\n"
     ]
    }
   ],
   "source": [
    "model = DecisionTreeClassifier(random_state=12345, max_depth=9)\n",
    "model.fit(features_downsampled, target_downsampled)\n",
    "predicted_valid = model.predict(features_valid)\n",
    "f1_down_t = f1_score(target_valid, predicted_valid)\n",
    "print(\"F1:\", f1_down_t)\n",
    "\n",
    "#Найдём значения вероятностей классов для валидационной выборки\n",
    "probabilities_valid = model.predict_proba(features_valid)\n",
    "\n",
    "#посчитаем AUC-ROC для выяснения, как сильно наша моель отличается от случайной\n",
    "auc_roc_down_t = roc_auc_score(target_valid, probabilities_valid[:, 1])\n",
    "print('AUC:', auc_roc_down_t)"
   ]
  },
  {
   "cell_type": "markdown",
   "metadata": {},
   "source": [
    "#### Случайный лес"
   ]
  },
  {
   "cell_type": "code",
   "execution_count": 32,
   "metadata": {
    "scrolled": true
   },
   "outputs": [
    {
     "name": "stdout",
     "output_type": "stream",
     "text": [
      "F1: 0.5235294117647059\n",
      "AUC: 0.8178252389925511\n"
     ]
    }
   ],
   "source": [
    "model = RandomForestClassifier(random_state=12345, n_estimators=18, max_depth=9, class_weight='balanced')\n",
    "model.fit(features_downsampled, target_downsampled)\n",
    "predicted_valid = model.predict(features_valid)\n",
    "f1_down_f = f1_score(target_valid, predicted_valid)\n",
    "print(\"F1:\", f1_down_f)\n",
    "\n",
    "#Найдём значения вероятностей классов для валидационной выборки\n",
    "probabilities_valid = model.predict_proba(features_valid)\n",
    "\n",
    "#посчитаем AUC-ROC для выяснения, как сильно наша моель отличается от случайной\n",
    "auc_roc_down_f = roc_auc_score(target_valid, probabilities_valid[:, 1])\n",
    "print('AUC:', auc_roc_down_f)"
   ]
  },
  {
   "cell_type": "code",
   "execution_count": 33,
   "metadata": {
    "scrolled": false
   },
   "outputs": [],
   "source": [
    "#создадим сводную таблицу\n",
    "downsamp = pd.DataFrame([['LogisticRegression',f1_down_l, auc_roc_down_l],\n",
    "                  ['DecisionTreeClassifier',f1_down_t, auc_roc_down_t],\n",
    "                  ['RandomForestClassifier',f1_down_f, auc_roc_down_f]], \n",
    "columns = ['model','F1-мера', 'AUC-ROS'])\n"
   ]
  },
  {
   "cell_type": "code",
   "execution_count": 34,
   "metadata": {},
   "outputs": [
    {
     "data": {
      "text/html": [
       "<div>\n",
       "<style scoped>\n",
       "    .dataframe tbody tr th:only-of-type {\n",
       "        vertical-align: middle;\n",
       "    }\n",
       "\n",
       "    .dataframe tbody tr th {\n",
       "        vertical-align: top;\n",
       "    }\n",
       "\n",
       "    .dataframe thead th {\n",
       "        text-align: right;\n",
       "    }\n",
       "</style>\n",
       "<table border=\"1\" class=\"dataframe\">\n",
       "  <thead>\n",
       "    <tr style=\"text-align: right;\">\n",
       "      <th></th>\n",
       "      <th>model</th>\n",
       "      <th>F1-мера</th>\n",
       "      <th>AUC-ROS</th>\n",
       "    </tr>\n",
       "  </thead>\n",
       "  <tbody>\n",
       "    <tr>\n",
       "      <th>0</th>\n",
       "      <td>LogisticRegression</td>\n",
       "      <td>0.479724</td>\n",
       "      <td>0.741788</td>\n",
       "    </tr>\n",
       "    <tr>\n",
       "      <th>1</th>\n",
       "      <td>DecisionTreeClassifier</td>\n",
       "      <td>0.545802</td>\n",
       "      <td>0.767996</td>\n",
       "    </tr>\n",
       "    <tr>\n",
       "      <th>2</th>\n",
       "      <td>RandomForestClassifier</td>\n",
       "      <td>0.580000</td>\n",
       "      <td>0.843894</td>\n",
       "    </tr>\n",
       "  </tbody>\n",
       "</table>\n",
       "</div>"
      ],
      "text/plain": [
       "                    model   F1-мера   AUC-ROS\n",
       "0      LogisticRegression  0.479724  0.741788\n",
       "1  DecisionTreeClassifier  0.545802  0.767996\n",
       "2  RandomForestClassifier  0.580000  0.843894"
      ]
     },
     "metadata": {},
     "output_type": "display_data"
    },
    {
     "data": {
      "text/html": [
       "<div>\n",
       "<style scoped>\n",
       "    .dataframe tbody tr th:only-of-type {\n",
       "        vertical-align: middle;\n",
       "    }\n",
       "\n",
       "    .dataframe tbody tr th {\n",
       "        vertical-align: top;\n",
       "    }\n",
       "\n",
       "    .dataframe thead th {\n",
       "        text-align: right;\n",
       "    }\n",
       "</style>\n",
       "<table border=\"1\" class=\"dataframe\">\n",
       "  <thead>\n",
       "    <tr style=\"text-align: right;\">\n",
       "      <th></th>\n",
       "      <th>model</th>\n",
       "      <th>F1-мера</th>\n",
       "      <th>AUC-ROS</th>\n",
       "    </tr>\n",
       "  </thead>\n",
       "  <tbody>\n",
       "    <tr>\n",
       "      <th>0</th>\n",
       "      <td>LogisticRegression</td>\n",
       "      <td>0.430095</td>\n",
       "      <td>0.742770</td>\n",
       "    </tr>\n",
       "    <tr>\n",
       "      <th>1</th>\n",
       "      <td>DecisionTreeClassifier</td>\n",
       "      <td>0.516628</td>\n",
       "      <td>0.784123</td>\n",
       "    </tr>\n",
       "    <tr>\n",
       "      <th>2</th>\n",
       "      <td>RandomForestClassifier</td>\n",
       "      <td>0.611691</td>\n",
       "      <td>0.850396</td>\n",
       "    </tr>\n",
       "  </tbody>\n",
       "</table>\n",
       "</div>"
      ],
      "text/plain": [
       "                    model   F1-мера   AUC-ROS\n",
       "0      LogisticRegression  0.430095  0.742770\n",
       "1  DecisionTreeClassifier  0.516628  0.784123\n",
       "2  RandomForestClassifier  0.611691  0.850396"
      ]
     },
     "metadata": {},
     "output_type": "display_data"
    },
    {
     "data": {
      "text/html": [
       "<div>\n",
       "<style scoped>\n",
       "    .dataframe tbody tr th:only-of-type {\n",
       "        vertical-align: middle;\n",
       "    }\n",
       "\n",
       "    .dataframe tbody tr th {\n",
       "        vertical-align: top;\n",
       "    }\n",
       "\n",
       "    .dataframe thead th {\n",
       "        text-align: right;\n",
       "    }\n",
       "</style>\n",
       "<table border=\"1\" class=\"dataframe\">\n",
       "  <thead>\n",
       "    <tr style=\"text-align: right;\">\n",
       "      <th></th>\n",
       "      <th>model</th>\n",
       "      <th>F1-мера</th>\n",
       "      <th>AUC-ROS</th>\n",
       "    </tr>\n",
       "  </thead>\n",
       "  <tbody>\n",
       "    <tr>\n",
       "      <th>0</th>\n",
       "      <td>LogisticRegression</td>\n",
       "      <td>0.430524</td>\n",
       "      <td>0.735863</td>\n",
       "    </tr>\n",
       "    <tr>\n",
       "      <th>1</th>\n",
       "      <td>DecisionTreeClassifier</td>\n",
       "      <td>0.475288</td>\n",
       "      <td>0.727229</td>\n",
       "    </tr>\n",
       "    <tr>\n",
       "      <th>2</th>\n",
       "      <td>RandomForestClassifier</td>\n",
       "      <td>0.523529</td>\n",
       "      <td>0.817825</td>\n",
       "    </tr>\n",
       "  </tbody>\n",
       "</table>\n",
       "</div>"
      ],
      "text/plain": [
       "                    model   F1-мера   AUC-ROS\n",
       "0      LogisticRegression  0.430524  0.735863\n",
       "1  DecisionTreeClassifier  0.475288  0.727229\n",
       "2  RandomForestClassifier  0.523529  0.817825"
      ]
     },
     "metadata": {},
     "output_type": "display_data"
    }
   ],
   "source": [
    "display(weight) #сводная таблица взвешивание классов\n",
    "display(upsamp) # сводная таблица увеличение выборки\n",
    "display(downsamp) #сводная таблица уменьшение выборки"
   ]
  },
  {
   "cell_type": "markdown",
   "metadata": {},
   "source": [
    "**Вывод**\n",
    "Делая вывод, мы будем опираться на то, что главная разница между мерой F1 и ROC AUC заключается в том, что первый принимает предсказанные классы, а второй принимает предсказанные оценки в качестве входных данных. Из-за этого с оценкой F1 нам нужно выбрать порог, который назначает ваши наблюдения этим классам. Часто мы можем значительно улучшить производительность нашей модели, если хорошо ее выберем. Соотвественно, нужно выбрать модель с большим значением F1.\n",
    "Исходя из полученных данных можно сделать вывод о том, что лучшей моделью является RandomForestClassifier и методом борьбы с дисбалансом - увеличение выборки."
   ]
  },
  {
   "cell_type": "markdown",
   "metadata": {},
   "source": [
    "## Тестирование модели"
   ]
  },
  {
   "cell_type": "code",
   "execution_count": 35,
   "metadata": {
    "scrolled": true
   },
   "outputs": [
    {
     "name": "stdout",
     "output_type": "stream",
     "text": [
      "F1 наилучшей модели на тестовой выборке: 0.6139954853273137\n",
      "AUC: 0.8480014396409368\n"
     ]
    }
   ],
   "source": [
    "model = RandomForestClassifier(random_state=12345, n_estimators=18, max_depth=9, class_weight='balanced')\n",
    "model.fit(features_train, target_train)\n",
    "test_predictions = model.predict(features_test) # код расчёта на тестовой выборке\n",
    "\n",
    "test_f1 = f1_score(target_test, test_predictions)\n",
    "\n",
    "print(\"F1 наилучшей модели на тестовой выборке:\", test_f1)\n",
    "\n",
    "#Найдём значения вероятностей классов для валидационной выборки\n",
    "probabilities_test = model.predict_proba(features_test)\n",
    "\n",
    "#посчитаем AUC-ROC для выяснения, как сильно наша моель отличается от случайной\n",
    "auc_roc = roc_auc_score(target_test, probabilities_test[:, 1])\n",
    "print('AUC:', auc_roc)"
   ]
  },
  {
   "cell_type": "markdown",
   "metadata": {},
   "source": [
    "**Итоги**\n",
    "По результатам тестирования нам удалось достичь значения F1-меры 0.61."
   ]
  }
 ],
 "metadata": {
  "ExecuteTimeLog": [
   {
    "duration": 1506,
    "start_time": "2022-05-17T20:16:18.412Z"
   },
   {
    "duration": 78,
    "start_time": "2022-05-17T20:16:19.921Z"
   },
   {
    "duration": 76,
    "start_time": "2022-05-17T20:16:20.001Z"
   },
   {
    "duration": 6,
    "start_time": "2022-05-17T20:16:20.078Z"
   },
   {
    "duration": 7,
    "start_time": "2022-05-17T20:16:20.086Z"
   },
   {
    "duration": 72,
    "start_time": "2022-05-17T20:16:20.095Z"
   },
   {
    "duration": 4,
    "start_time": "2022-05-17T20:16:20.168Z"
   },
   {
    "duration": 6,
    "start_time": "2022-05-17T20:31:05.780Z"
   },
   {
    "duration": 121,
    "start_time": "2022-05-17T20:31:59.277Z"
   },
   {
    "duration": 9,
    "start_time": "2022-05-17T20:33:02.821Z"
   },
   {
    "duration": 10,
    "start_time": "2022-05-17T20:34:03.824Z"
   },
   {
    "duration": 8,
    "start_time": "2022-05-17T20:34:42.566Z"
   },
   {
    "duration": 7,
    "start_time": "2022-05-17T20:37:06.182Z"
   },
   {
    "duration": 10,
    "start_time": "2022-05-17T20:38:08.094Z"
   },
   {
    "duration": 12,
    "start_time": "2022-05-17T20:38:13.220Z"
   },
   {
    "duration": 6,
    "start_time": "2022-05-17T20:38:22.363Z"
   },
   {
    "duration": 13,
    "start_time": "2022-05-17T20:47:00.169Z"
   },
   {
    "duration": 4,
    "start_time": "2022-05-17T20:50:59.413Z"
   },
   {
    "duration": 5,
    "start_time": "2022-05-17T20:51:14.372Z"
   },
   {
    "duration": 10,
    "start_time": "2022-05-17T20:51:15.567Z"
   },
   {
    "duration": 13,
    "start_time": "2022-05-17T20:52:42.417Z"
   },
   {
    "duration": 9,
    "start_time": "2022-05-17T20:52:49.115Z"
   },
   {
    "duration": 30,
    "start_time": "2022-05-17T20:53:27.360Z"
   },
   {
    "duration": 5,
    "start_time": "2022-05-17T20:55:35.259Z"
   },
   {
    "duration": 3,
    "start_time": "2022-05-17T21:12:47.206Z"
   },
   {
    "duration": 4,
    "start_time": "2022-05-17T21:12:51.742Z"
   },
   {
    "duration": 64,
    "start_time": "2022-05-17T21:12:51.748Z"
   },
   {
    "duration": 68,
    "start_time": "2022-05-17T21:12:51.814Z"
   },
   {
    "duration": 6,
    "start_time": "2022-05-17T21:12:51.884Z"
   },
   {
    "duration": 19,
    "start_time": "2022-05-17T21:12:51.892Z"
   },
   {
    "duration": 25,
    "start_time": "2022-05-17T21:12:51.912Z"
   },
   {
    "duration": 5,
    "start_time": "2022-05-17T21:12:51.938Z"
   },
   {
    "duration": 7,
    "start_time": "2022-05-17T21:12:51.944Z"
   },
   {
    "duration": 12,
    "start_time": "2022-05-17T21:12:51.953Z"
   },
   {
    "duration": 10,
    "start_time": "2022-05-17T21:12:51.967Z"
   },
   {
    "duration": 2,
    "start_time": "2022-05-17T21:13:53.792Z"
   },
   {
    "duration": 3,
    "start_time": "2022-05-17T21:14:49.522Z"
   },
   {
    "duration": 48,
    "start_time": "2022-05-17T21:14:49.526Z"
   },
   {
    "duration": 63,
    "start_time": "2022-05-17T21:14:49.575Z"
   },
   {
    "duration": 4,
    "start_time": "2022-05-17T21:14:49.639Z"
   },
   {
    "duration": 5,
    "start_time": "2022-05-17T21:14:49.665Z"
   },
   {
    "duration": 14,
    "start_time": "2022-05-17T21:14:49.671Z"
   },
   {
    "duration": 3,
    "start_time": "2022-05-17T21:14:49.687Z"
   },
   {
    "duration": 6,
    "start_time": "2022-05-17T21:15:07.059Z"
   },
   {
    "duration": 37,
    "start_time": "2022-05-17T21:15:07.068Z"
   },
   {
    "duration": 8,
    "start_time": "2022-05-17T21:15:07.107Z"
   },
   {
    "duration": 10,
    "start_time": "2022-05-17T21:17:57.514Z"
   },
   {
    "duration": 21,
    "start_time": "2022-05-17T21:19:19.675Z"
   },
   {
    "duration": 19,
    "start_time": "2022-05-17T21:20:50.758Z"
   },
   {
    "duration": 227,
    "start_time": "2022-05-17T21:26:53.572Z"
   },
   {
    "duration": 4,
    "start_time": "2022-05-17T21:27:39.839Z"
   },
   {
    "duration": 43,
    "start_time": "2022-05-17T21:27:39.845Z"
   },
   {
    "duration": 82,
    "start_time": "2022-05-17T21:27:39.889Z"
   },
   {
    "duration": 5,
    "start_time": "2022-05-17T21:27:39.972Z"
   },
   {
    "duration": 11,
    "start_time": "2022-05-17T21:27:39.979Z"
   },
   {
    "duration": 15,
    "start_time": "2022-05-17T21:27:39.992Z"
   },
   {
    "duration": 6,
    "start_time": "2022-05-17T21:27:40.009Z"
   },
   {
    "duration": 241,
    "start_time": "2022-05-17T21:27:40.016Z"
   },
   {
    "duration": 65,
    "start_time": "2022-05-17T21:27:40.258Z"
   },
   {
    "duration": 118,
    "start_time": "2022-05-17T21:27:40.325Z"
   },
   {
    "duration": 38,
    "start_time": "2022-05-17T21:27:40.445Z"
   },
   {
    "duration": 5280,
    "start_time": "2022-05-17T21:28:09.391Z"
   },
   {
    "duration": 5292,
    "start_time": "2022-05-17T21:30:05.978Z"
   },
   {
    "duration": 65,
    "start_time": "2022-05-17T21:32:22.171Z"
   },
   {
    "duration": 44,
    "start_time": "2022-05-17T21:32:22.239Z"
   },
   {
    "duration": 108,
    "start_time": "2022-05-17T21:32:22.284Z"
   },
   {
    "duration": 642,
    "start_time": "2022-05-17T21:33:07.687Z"
   },
   {
    "duration": 500276,
    "start_time": "2022-05-17T21:33:58.393Z"
   },
   {
    "duration": 7709,
    "start_time": "2022-05-17T21:47:38.729Z"
   },
   {
    "duration": 1473,
    "start_time": "2022-05-18T06:54:42.477Z"
   },
   {
    "duration": 178,
    "start_time": "2022-05-18T06:54:43.952Z"
   },
   {
    "duration": 65,
    "start_time": "2022-05-18T06:54:44.132Z"
   },
   {
    "duration": 4,
    "start_time": "2022-05-18T06:54:44.199Z"
   },
   {
    "duration": 6,
    "start_time": "2022-05-18T06:54:44.206Z"
   },
   {
    "duration": 78,
    "start_time": "2022-05-18T06:54:44.214Z"
   },
   {
    "duration": 4,
    "start_time": "2022-05-18T06:54:44.294Z"
   },
   {
    "duration": 227,
    "start_time": "2022-05-18T06:54:44.299Z"
   },
   {
    "duration": 77,
    "start_time": "2022-05-18T06:54:44.527Z"
   },
   {
    "duration": 106,
    "start_time": "2022-05-18T06:54:44.605Z"
   },
   {
    "duration": 651,
    "start_time": "2022-05-18T06:54:44.713Z"
   },
   {
    "duration": 599932,
    "start_time": "2022-05-18T06:54:45.365Z"
   },
   {
    "duration": 9,
    "start_time": "2022-05-18T07:04:45.300Z"
   },
   {
    "duration": 7880,
    "start_time": "2022-05-18T07:04:45.385Z"
   },
   {
    "duration": 3171,
    "start_time": "2022-05-18T07:09:36.121Z"
   },
   {
    "duration": 8164,
    "start_time": "2022-05-18T07:12:05.376Z"
   },
   {
    "duration": 50,
    "start_time": "2022-05-18T07:25:04.447Z"
   },
   {
    "duration": 64,
    "start_time": "2022-05-18T07:25:11.655Z"
   },
   {
    "duration": 43,
    "start_time": "2022-05-18T07:28:50.853Z"
   },
   {
    "duration": 48,
    "start_time": "2022-05-18T07:29:48.810Z"
   },
   {
    "duration": 33,
    "start_time": "2022-05-18T07:30:17.748Z"
   },
   {
    "duration": 30,
    "start_time": "2022-05-18T07:35:56.040Z"
   },
   {
    "duration": 66,
    "start_time": "2022-05-18T07:38:03.299Z"
   },
   {
    "duration": 85,
    "start_time": "2022-05-18T07:38:38.718Z"
   },
   {
    "duration": 62,
    "start_time": "2022-05-18T07:39:02.999Z"
   },
   {
    "duration": 763,
    "start_time": "2022-05-18T07:39:39.336Z"
   },
   {
    "duration": 8247,
    "start_time": "2022-05-18T07:39:47.595Z"
   },
   {
    "duration": 3,
    "start_time": "2022-05-18T07:50:38.843Z"
   },
   {
    "duration": 0,
    "start_time": "2022-05-18T08:17:50.356Z"
   },
   {
    "duration": 0,
    "start_time": "2022-05-18T08:17:50.385Z"
   },
   {
    "duration": 0,
    "start_time": "2022-05-18T08:17:50.386Z"
   },
   {
    "duration": 0,
    "start_time": "2022-05-18T08:17:50.393Z"
   },
   {
    "duration": 0,
    "start_time": "2022-05-18T08:17:50.395Z"
   },
   {
    "duration": 0,
    "start_time": "2022-05-18T08:17:50.398Z"
   },
   {
    "duration": 0,
    "start_time": "2022-05-18T08:17:50.400Z"
   },
   {
    "duration": 0,
    "start_time": "2022-05-18T08:17:50.406Z"
   },
   {
    "duration": 0,
    "start_time": "2022-05-18T08:17:50.408Z"
   },
   {
    "duration": 0,
    "start_time": "2022-05-18T08:17:50.415Z"
   },
   {
    "duration": 0,
    "start_time": "2022-05-18T08:17:50.418Z"
   },
   {
    "duration": 0,
    "start_time": "2022-05-18T08:17:50.420Z"
   },
   {
    "duration": 0,
    "start_time": "2022-05-18T08:17:50.423Z"
   },
   {
    "duration": 0,
    "start_time": "2022-05-18T08:17:50.425Z"
   },
   {
    "duration": 5,
    "start_time": "2022-05-18T08:17:52.744Z"
   },
   {
    "duration": 70,
    "start_time": "2022-05-18T08:17:54.061Z"
   },
   {
    "duration": 98,
    "start_time": "2022-05-18T08:17:56.951Z"
   },
   {
    "duration": 7,
    "start_time": "2022-05-18T08:17:59.386Z"
   },
   {
    "duration": 6,
    "start_time": "2022-05-18T08:18:01.173Z"
   },
   {
    "duration": 25,
    "start_time": "2022-05-18T08:18:03.577Z"
   },
   {
    "duration": 4,
    "start_time": "2022-05-18T08:18:06.150Z"
   },
   {
    "duration": 225,
    "start_time": "2022-05-18T08:18:07.482Z"
   },
   {
    "duration": 51,
    "start_time": "2022-05-18T08:18:10.722Z"
   },
   {
    "duration": 148,
    "start_time": "2022-05-18T08:18:12.628Z"
   },
   {
    "duration": 60,
    "start_time": "2022-05-18T08:18:14.885Z"
   },
   {
    "duration": 122416,
    "start_time": "2022-05-18T08:18:31.503Z"
   },
   {
    "duration": 217892,
    "start_time": "2022-05-18T08:21:19.950Z"
   },
   {
    "duration": 45274,
    "start_time": "2022-05-18T08:26:56.430Z"
   },
   {
    "duration": 407,
    "start_time": "2022-05-18T08:32:25.643Z"
   },
   {
    "duration": 503,
    "start_time": "2022-05-18T08:33:18.490Z"
   },
   {
    "duration": 536,
    "start_time": "2022-05-18T08:34:00.847Z"
   },
   {
    "duration": 3685,
    "start_time": "2022-05-18T09:54:28.292Z"
   },
   {
    "duration": 489,
    "start_time": "2022-05-18T09:54:42.760Z"
   },
   {
    "duration": 45272,
    "start_time": "2022-05-18T10:17:22.922Z"
   },
   {
    "duration": 495378,
    "start_time": "2022-05-18T10:27:23.148Z"
   },
   {
    "duration": 310,
    "start_time": "2022-05-18T10:45:41.035Z"
   },
   {
    "duration": 1470,
    "start_time": "2022-05-18T10:48:00.752Z"
   },
   {
    "duration": 495,
    "start_time": "2022-05-18T10:49:06.594Z"
   },
   {
    "duration": 700,
    "start_time": "2022-05-18T10:49:16.366Z"
   },
   {
    "duration": 2081,
    "start_time": "2022-05-18T10:49:52.109Z"
   },
   {
    "duration": 58024,
    "start_time": "2022-05-18T11:00:18.475Z"
   },
   {
    "duration": 283,
    "start_time": "2022-05-18T11:01:23.074Z"
   },
   {
    "duration": 203981,
    "start_time": "2022-05-18T11:07:04.545Z"
   },
   {
    "duration": 7,
    "start_time": "2022-05-18T11:13:39.764Z"
   },
   {
    "duration": 7,
    "start_time": "2022-05-18T11:14:26.846Z"
   },
   {
    "duration": 3219,
    "start_time": "2022-05-18T11:16:54.782Z"
   },
   {
    "duration": 535,
    "start_time": "2022-05-18T11:18:24.703Z"
   },
   {
    "duration": 275,
    "start_time": "2022-05-18T11:18:54.992Z"
   },
   {
    "duration": 8637,
    "start_time": "2022-05-18T11:19:22.048Z"
   },
   {
    "duration": 279,
    "start_time": "2022-05-18T11:19:37.206Z"
   },
   {
    "duration": 667,
    "start_time": "2022-05-18T11:28:19.500Z"
   },
   {
    "duration": 3,
    "start_time": "2022-05-18T11:28:30.911Z"
   },
   {
    "duration": 83,
    "start_time": "2022-05-18T11:28:30.916Z"
   },
   {
    "duration": 84,
    "start_time": "2022-05-18T11:28:31.001Z"
   },
   {
    "duration": 4,
    "start_time": "2022-05-18T11:28:31.087Z"
   },
   {
    "duration": 38,
    "start_time": "2022-05-18T11:28:31.093Z"
   },
   {
    "duration": 17,
    "start_time": "2022-05-18T11:28:31.133Z"
   },
   {
    "duration": 4,
    "start_time": "2022-05-18T11:28:31.151Z"
   },
   {
    "duration": 205,
    "start_time": "2022-05-18T11:28:31.157Z"
   },
   {
    "duration": 59,
    "start_time": "2022-05-18T11:28:31.364Z"
   },
   {
    "duration": 108,
    "start_time": "2022-05-18T11:28:31.426Z"
   },
   {
    "duration": 7,
    "start_time": "2022-05-18T11:28:31.536Z"
   },
   {
    "duration": 39,
    "start_time": "2022-05-18T11:28:31.545Z"
   },
   {
    "duration": 56729,
    "start_time": "2022-05-18T11:28:31.586Z"
   },
   {
    "duration": 832,
    "start_time": "2022-05-18T11:29:28.318Z"
   },
   {
    "duration": 3470,
    "start_time": "2022-05-18T11:29:29.152Z"
   },
   {
    "duration": 504,
    "start_time": "2022-05-18T11:29:32.624Z"
   },
   {
    "duration": 437693,
    "start_time": "2022-05-18T11:29:33.130Z"
   },
   {
    "duration": 307,
    "start_time": "2022-05-18T11:36:50.825Z"
   },
   {
    "duration": 3,
    "start_time": "2022-05-18T11:56:44.148Z"
   },
   {
    "duration": 550,
    "start_time": "2022-05-18T12:00:37.740Z"
   },
   {
    "duration": 3,
    "start_time": "2022-05-18T12:02:09.911Z"
   },
   {
    "duration": 41,
    "start_time": "2022-05-18T12:03:54.994Z"
   },
   {
    "duration": 40,
    "start_time": "2022-05-18T12:04:52.946Z"
   },
   {
    "duration": 38,
    "start_time": "2022-05-18T12:08:23.868Z"
   },
   {
    "duration": 15,
    "start_time": "2022-05-18T12:10:25.403Z"
   },
   {
    "duration": 1002,
    "start_time": "2022-05-18T12:10:50.901Z"
   },
   {
    "duration": 8206,
    "start_time": "2022-05-18T12:11:09.349Z"
   },
   {
    "duration": 944,
    "start_time": "2022-05-18T12:12:49.792Z"
   },
   {
    "duration": 13,
    "start_time": "2022-05-18T12:15:04.141Z"
   },
   {
    "duration": 425,
    "start_time": "2022-05-18T12:15:22.186Z"
   },
   {
    "duration": 176,
    "start_time": "2022-05-18T12:15:46.702Z"
   },
   {
    "duration": 898,
    "start_time": "2022-05-18T12:28:45.454Z"
   },
   {
    "duration": 498,
    "start_time": "2022-05-18T12:29:48.450Z"
   },
   {
    "duration": 546,
    "start_time": "2022-05-18T12:30:16.045Z"
   },
   {
    "duration": 673,
    "start_time": "2022-05-18T12:30:42.101Z"
   },
   {
    "duration": 580,
    "start_time": "2022-05-18T12:31:35.666Z"
   },
   {
    "duration": 334,
    "start_time": "2022-05-18T12:31:59.105Z"
   },
   {
    "duration": 42761,
    "start_time": "2022-05-18T12:52:49.141Z"
   },
   {
    "duration": 3,
    "start_time": "2022-05-18T12:54:13.242Z"
   },
   {
    "duration": 11,
    "start_time": "2022-05-18T12:57:12.853Z"
   },
   {
    "duration": 2110,
    "start_time": "2022-05-18T12:57:20.106Z"
   },
   {
    "duration": 482,
    "start_time": "2022-05-18T12:57:57.802Z"
   },
   {
    "duration": 4,
    "start_time": "2022-05-18T12:58:56.967Z"
   },
   {
    "duration": 61,
    "start_time": "2022-05-18T12:58:56.974Z"
   },
   {
    "duration": 87,
    "start_time": "2022-05-18T12:58:57.038Z"
   },
   {
    "duration": 5,
    "start_time": "2022-05-18T12:58:57.127Z"
   },
   {
    "duration": 7,
    "start_time": "2022-05-18T12:58:57.135Z"
   },
   {
    "duration": 41,
    "start_time": "2022-05-18T12:58:57.144Z"
   },
   {
    "duration": 9,
    "start_time": "2022-05-18T12:58:57.187Z"
   },
   {
    "duration": 208,
    "start_time": "2022-05-18T12:58:57.200Z"
   },
   {
    "duration": 55,
    "start_time": "2022-05-18T12:58:57.410Z"
   },
   {
    "duration": 135,
    "start_time": "2022-05-18T12:58:57.467Z"
   },
   {
    "duration": 8,
    "start_time": "2022-05-18T12:58:57.606Z"
   },
   {
    "duration": 32,
    "start_time": "2022-05-18T12:58:57.616Z"
   },
   {
    "duration": 56680,
    "start_time": "2022-05-18T12:58:57.650Z"
   },
   {
    "duration": 3,
    "start_time": "2022-05-18T12:59:54.332Z"
   },
   {
    "duration": 3535,
    "start_time": "2022-05-18T12:59:54.337Z"
   },
   {
    "duration": 634,
    "start_time": "2022-05-18T12:59:57.873Z"
   },
   {
    "duration": 462278,
    "start_time": "2022-05-18T12:59:58.508Z"
   },
   {
    "duration": 310,
    "start_time": "2022-05-18T13:07:40.794Z"
   },
   {
    "duration": 502,
    "start_time": "2022-05-18T13:07:41.106Z"
   },
   {
    "duration": 523,
    "start_time": "2022-05-18T13:07:41.687Z"
   },
   {
    "duration": 176,
    "start_time": "2022-05-18T13:07:42.213Z"
   },
   {
    "duration": 45,
    "start_time": "2022-05-18T13:07:42.396Z"
   },
   {
    "duration": 26,
    "start_time": "2022-05-18T13:07:42.443Z"
   },
   {
    "duration": 519,
    "start_time": "2022-05-18T13:07:42.471Z"
   },
   {
    "duration": 312,
    "start_time": "2022-05-18T13:56:22.527Z"
   },
   {
    "duration": 542,
    "start_time": "2022-05-18T13:56:40.199Z"
   },
   {
    "duration": 41434,
    "start_time": "2022-05-18T13:57:09.834Z"
   },
   {
    "duration": 45,
    "start_time": "2022-05-18T13:57:51.270Z"
   },
   {
    "duration": 193,
    "start_time": "2022-05-18T14:00:39.740Z"
   },
   {
    "duration": 211,
    "start_time": "2022-05-18T14:04:28.106Z"
   },
   {
    "duration": 448,
    "start_time": "2022-05-18T14:04:55.042Z"
   },
   {
    "duration": 443,
    "start_time": "2022-05-18T14:05:42.760Z"
   },
   {
    "duration": 776,
    "start_time": "2022-05-18T14:06:03.206Z"
   },
   {
    "duration": 212,
    "start_time": "2022-05-18T14:06:18.502Z"
   },
   {
    "duration": 4,
    "start_time": "2022-05-18T14:08:52.593Z"
   },
   {
    "duration": 209,
    "start_time": "2022-05-18T14:10:07.729Z"
   },
   {
    "duration": 1437,
    "start_time": "2022-05-18T14:10:13.259Z"
   },
   {
    "duration": 201,
    "start_time": "2022-05-18T14:13:00.390Z"
   },
   {
    "duration": 1268,
    "start_time": "2022-05-18T14:13:10.727Z"
   },
   {
    "duration": 175,
    "start_time": "2022-05-18T14:13:13.357Z"
   },
   {
    "duration": 1279,
    "start_time": "2022-05-18T14:13:14.913Z"
   },
   {
    "duration": 615,
    "start_time": "2022-05-18T14:14:51.625Z"
   },
   {
    "duration": 551,
    "start_time": "2022-05-18T14:15:06.211Z"
   },
   {
    "duration": 329,
    "start_time": "2022-05-18T14:15:36.626Z"
   },
   {
    "duration": 171,
    "start_time": "2022-05-18T14:15:59.393Z"
   },
   {
    "duration": 1057,
    "start_time": "2022-05-18T14:17:48.932Z"
   },
   {
    "duration": 380,
    "start_time": "2022-05-18T14:19:18.555Z"
   },
   {
    "duration": 4,
    "start_time": "2022-05-18T14:19:33.786Z"
   },
   {
    "duration": 47,
    "start_time": "2022-05-18T14:19:33.791Z"
   },
   {
    "duration": 62,
    "start_time": "2022-05-18T14:19:33.840Z"
   },
   {
    "duration": 4,
    "start_time": "2022-05-18T14:19:33.904Z"
   },
   {
    "duration": 10,
    "start_time": "2022-05-18T14:19:33.909Z"
   },
   {
    "duration": 16,
    "start_time": "2022-05-18T14:19:33.920Z"
   },
   {
    "duration": 4,
    "start_time": "2022-05-18T14:19:33.937Z"
   },
   {
    "duration": 248,
    "start_time": "2022-05-18T14:19:33.942Z"
   },
   {
    "duration": 53,
    "start_time": "2022-05-18T14:19:34.192Z"
   },
   {
    "duration": 133,
    "start_time": "2022-05-18T14:19:34.247Z"
   },
   {
    "duration": 7,
    "start_time": "2022-05-18T14:19:34.382Z"
   },
   {
    "duration": 28,
    "start_time": "2022-05-18T14:19:34.391Z"
   },
   {
    "duration": 40355,
    "start_time": "2022-05-18T14:19:34.421Z"
   },
   {
    "duration": 183,
    "start_time": "2022-05-18T14:20:14.777Z"
   },
   {
    "duration": 3416,
    "start_time": "2022-05-18T14:20:14.962Z"
   },
   {
    "duration": 563,
    "start_time": "2022-05-18T14:20:18.382Z"
   },
   {
    "duration": 435376,
    "start_time": "2022-05-18T14:20:18.947Z"
   },
   {
    "duration": 321,
    "start_time": "2022-05-18T14:27:34.324Z"
   },
   {
    "duration": 652,
    "start_time": "2022-05-18T14:27:34.647Z"
   },
   {
    "duration": 638,
    "start_time": "2022-05-18T14:27:35.301Z"
   },
   {
    "duration": 212,
    "start_time": "2022-05-18T14:27:35.940Z"
   },
   {
    "duration": 174,
    "start_time": "2022-05-18T14:27:36.153Z"
   },
   {
    "duration": 1355,
    "start_time": "2022-05-18T14:27:36.328Z"
   },
   {
    "duration": 1176,
    "start_time": "2022-05-18T14:27:37.687Z"
   },
   {
    "duration": 385,
    "start_time": "2022-05-18T14:27:38.864Z"
   },
   {
    "duration": 445,
    "start_time": "2022-05-18T14:27:39.251Z"
   },
   {
    "duration": 88,
    "start_time": "2022-05-18T14:27:39.700Z"
   },
   {
    "duration": 58,
    "start_time": "2022-05-18T14:29:44.297Z"
   },
   {
    "duration": 255,
    "start_time": "2022-05-18T14:34:28.829Z"
   },
   {
    "duration": 667,
    "start_time": "2022-05-18T14:34:55.929Z"
   },
   {
    "duration": 456,
    "start_time": "2022-05-18T14:35:08.534Z"
   },
   {
    "duration": 307,
    "start_time": "2022-05-18T14:35:27.506Z"
   },
   {
    "duration": 2,
    "start_time": "2022-05-18T14:40:06.559Z"
   },
   {
    "duration": 134,
    "start_time": "2022-05-18T14:41:16.532Z"
   },
   {
    "duration": 111,
    "start_time": "2022-05-18T14:46:38.946Z"
   },
   {
    "duration": 24,
    "start_time": "2022-05-18T14:55:00.698Z"
   },
   {
    "duration": 13,
    "start_time": "2022-05-18T14:55:44.625Z"
   },
   {
    "duration": 14,
    "start_time": "2022-05-18T14:58:42.243Z"
   },
   {
    "duration": 13,
    "start_time": "2022-05-18T14:58:53.160Z"
   },
   {
    "duration": 28,
    "start_time": "2022-05-18T14:59:47.458Z"
   },
   {
    "duration": 34,
    "start_time": "2022-05-18T15:00:01.664Z"
   },
   {
    "duration": 14,
    "start_time": "2022-05-18T15:04:41.310Z"
   },
   {
    "duration": 14,
    "start_time": "2022-05-18T15:05:01.507Z"
   },
   {
    "duration": 5,
    "start_time": "2022-05-18T15:07:57.164Z"
   },
   {
    "duration": 49,
    "start_time": "2022-05-18T15:07:57.170Z"
   },
   {
    "duration": 70,
    "start_time": "2022-05-18T15:07:57.220Z"
   },
   {
    "duration": 5,
    "start_time": "2022-05-18T15:07:57.291Z"
   },
   {
    "duration": 7,
    "start_time": "2022-05-18T15:07:57.298Z"
   },
   {
    "duration": 4,
    "start_time": "2022-05-18T15:07:57.307Z"
   },
   {
    "duration": 15,
    "start_time": "2022-05-18T15:07:57.313Z"
   },
   {
    "duration": 0,
    "start_time": "2022-05-18T15:07:57.330Z"
   },
   {
    "duration": 0,
    "start_time": "2022-05-18T15:07:57.332Z"
   },
   {
    "duration": 0,
    "start_time": "2022-05-18T15:07:57.333Z"
   },
   {
    "duration": 0,
    "start_time": "2022-05-18T15:07:57.334Z"
   },
   {
    "duration": 0,
    "start_time": "2022-05-18T15:07:57.335Z"
   },
   {
    "duration": 0,
    "start_time": "2022-05-18T15:07:57.337Z"
   },
   {
    "duration": 0,
    "start_time": "2022-05-18T15:07:57.338Z"
   },
   {
    "duration": 0,
    "start_time": "2022-05-18T15:07:57.339Z"
   },
   {
    "duration": 0,
    "start_time": "2022-05-18T15:07:57.341Z"
   },
   {
    "duration": 0,
    "start_time": "2022-05-18T15:07:57.342Z"
   },
   {
    "duration": 0,
    "start_time": "2022-05-18T15:07:57.343Z"
   },
   {
    "duration": 0,
    "start_time": "2022-05-18T15:07:57.384Z"
   },
   {
    "duration": 0,
    "start_time": "2022-05-18T15:07:57.385Z"
   },
   {
    "duration": 0,
    "start_time": "2022-05-18T15:07:57.386Z"
   },
   {
    "duration": 1,
    "start_time": "2022-05-18T15:07:57.387Z"
   },
   {
    "duration": 0,
    "start_time": "2022-05-18T15:07:57.389Z"
   },
   {
    "duration": 0,
    "start_time": "2022-05-18T15:07:57.390Z"
   },
   {
    "duration": 0,
    "start_time": "2022-05-18T15:07:57.391Z"
   },
   {
    "duration": 0,
    "start_time": "2022-05-18T15:07:57.392Z"
   },
   {
    "duration": 0,
    "start_time": "2022-05-18T15:07:57.393Z"
   },
   {
    "duration": 0,
    "start_time": "2022-05-18T15:07:57.395Z"
   },
   {
    "duration": 0,
    "start_time": "2022-05-18T15:07:57.396Z"
   },
   {
    "duration": 0,
    "start_time": "2022-05-18T15:07:57.396Z"
   },
   {
    "duration": 1,
    "start_time": "2022-05-18T15:07:57.397Z"
   },
   {
    "duration": 10,
    "start_time": "2022-05-18T15:10:54.554Z"
   },
   {
    "duration": 4,
    "start_time": "2022-05-18T15:11:07.627Z"
   },
   {
    "duration": 45,
    "start_time": "2022-05-18T15:11:08.810Z"
   },
   {
    "duration": 60,
    "start_time": "2022-05-18T15:11:10.879Z"
   },
   {
    "duration": 5,
    "start_time": "2022-05-18T15:11:21.064Z"
   },
   {
    "duration": 5,
    "start_time": "2022-05-18T15:11:23.409Z"
   },
   {
    "duration": 5,
    "start_time": "2022-05-18T15:11:25.857Z"
   },
   {
    "duration": 11,
    "start_time": "2022-05-18T15:12:36.601Z"
   },
   {
    "duration": 4,
    "start_time": "2022-05-18T15:13:44.336Z"
   },
   {
    "duration": 4,
    "start_time": "2022-05-18T15:15:05.913Z"
   },
   {
    "duration": 5,
    "start_time": "2022-05-18T15:15:08.547Z"
   },
   {
    "duration": 56,
    "start_time": "2022-05-18T15:15:08.555Z"
   },
   {
    "duration": 85,
    "start_time": "2022-05-18T15:15:08.613Z"
   },
   {
    "duration": 5,
    "start_time": "2022-05-18T15:15:08.700Z"
   },
   {
    "duration": 7,
    "start_time": "2022-05-18T15:15:08.707Z"
   },
   {
    "duration": 21,
    "start_time": "2022-05-18T15:15:08.715Z"
   },
   {
    "duration": 48,
    "start_time": "2022-05-18T15:15:08.737Z"
   },
   {
    "duration": 3,
    "start_time": "2022-05-18T15:15:08.786Z"
   },
   {
    "duration": 220,
    "start_time": "2022-05-18T15:15:08.791Z"
   },
   {
    "duration": 53,
    "start_time": "2022-05-18T15:15:09.013Z"
   },
   {
    "duration": 103,
    "start_time": "2022-05-18T15:15:09.068Z"
   },
   {
    "duration": 14,
    "start_time": "2022-05-18T15:15:09.173Z"
   },
   {
    "duration": 47,
    "start_time": "2022-05-18T15:15:09.189Z"
   },
   {
    "duration": 0,
    "start_time": "2022-05-18T15:15:48.318Z"
   },
   {
    "duration": 0,
    "start_time": "2022-05-18T15:15:48.319Z"
   },
   {
    "duration": 0,
    "start_time": "2022-05-18T15:15:48.321Z"
   },
   {
    "duration": 0,
    "start_time": "2022-05-18T15:15:48.323Z"
   },
   {
    "duration": 0,
    "start_time": "2022-05-18T15:15:48.324Z"
   },
   {
    "duration": 0,
    "start_time": "2022-05-18T15:15:48.384Z"
   },
   {
    "duration": 0,
    "start_time": "2022-05-18T15:15:48.385Z"
   },
   {
    "duration": 0,
    "start_time": "2022-05-18T15:15:48.387Z"
   },
   {
    "duration": 0,
    "start_time": "2022-05-18T15:15:48.388Z"
   },
   {
    "duration": 0,
    "start_time": "2022-05-18T15:15:48.390Z"
   },
   {
    "duration": 0,
    "start_time": "2022-05-18T15:15:48.392Z"
   },
   {
    "duration": 0,
    "start_time": "2022-05-18T15:15:48.394Z"
   },
   {
    "duration": 0,
    "start_time": "2022-05-18T15:15:48.395Z"
   },
   {
    "duration": 0,
    "start_time": "2022-05-18T15:15:48.397Z"
   },
   {
    "duration": 0,
    "start_time": "2022-05-18T15:15:48.399Z"
   },
   {
    "duration": 0,
    "start_time": "2022-05-18T15:15:48.401Z"
   },
   {
    "duration": 0,
    "start_time": "2022-05-18T15:15:48.402Z"
   },
   {
    "duration": 0,
    "start_time": "2022-05-18T15:15:48.404Z"
   },
   {
    "duration": 0,
    "start_time": "2022-05-18T15:15:48.405Z"
   },
   {
    "duration": 0,
    "start_time": "2022-05-18T15:15:48.407Z"
   },
   {
    "duration": 0,
    "start_time": "2022-05-18T15:15:48.409Z"
   },
   {
    "duration": 0,
    "start_time": "2022-05-18T15:15:48.411Z"
   },
   {
    "duration": 0,
    "start_time": "2022-05-18T15:15:48.413Z"
   },
   {
    "duration": 0,
    "start_time": "2022-05-18T15:15:48.414Z"
   },
   {
    "duration": 0,
    "start_time": "2022-05-18T15:15:48.416Z"
   },
   {
    "duration": 0,
    "start_time": "2022-05-18T15:15:48.418Z"
   },
   {
    "duration": 0,
    "start_time": "2022-05-18T15:15:48.419Z"
   },
   {
    "duration": 0,
    "start_time": "2022-05-18T15:15:48.420Z"
   },
   {
    "duration": 0,
    "start_time": "2022-05-18T15:15:48.485Z"
   },
   {
    "duration": 0,
    "start_time": "2022-05-18T15:15:48.487Z"
   },
   {
    "duration": 0,
    "start_time": "2022-05-18T15:15:48.489Z"
   },
   {
    "duration": 4,
    "start_time": "2022-05-18T15:15:52.890Z"
   },
   {
    "duration": 50,
    "start_time": "2022-05-18T15:15:52.896Z"
   },
   {
    "duration": 85,
    "start_time": "2022-05-18T15:15:52.947Z"
   },
   {
    "duration": 4,
    "start_time": "2022-05-18T15:15:53.034Z"
   },
   {
    "duration": 9,
    "start_time": "2022-05-18T15:15:53.040Z"
   },
   {
    "duration": 10,
    "start_time": "2022-05-18T15:15:53.051Z"
   },
   {
    "duration": 28,
    "start_time": "2022-05-18T15:15:53.062Z"
   },
   {
    "duration": 0,
    "start_time": "2022-05-18T15:15:53.094Z"
   },
   {
    "duration": 0,
    "start_time": "2022-05-18T15:15:53.096Z"
   },
   {
    "duration": 0,
    "start_time": "2022-05-18T15:15:53.098Z"
   },
   {
    "duration": 0,
    "start_time": "2022-05-18T15:15:53.100Z"
   },
   {
    "duration": 0,
    "start_time": "2022-05-18T15:15:53.101Z"
   },
   {
    "duration": 0,
    "start_time": "2022-05-18T15:15:53.103Z"
   },
   {
    "duration": 0,
    "start_time": "2022-05-18T15:15:53.105Z"
   },
   {
    "duration": 0,
    "start_time": "2022-05-18T15:15:53.107Z"
   },
   {
    "duration": 0,
    "start_time": "2022-05-18T15:15:53.109Z"
   },
   {
    "duration": 0,
    "start_time": "2022-05-18T15:15:53.110Z"
   },
   {
    "duration": 0,
    "start_time": "2022-05-18T15:15:53.111Z"
   },
   {
    "duration": 0,
    "start_time": "2022-05-18T15:15:53.112Z"
   },
   {
    "duration": 0,
    "start_time": "2022-05-18T15:15:53.113Z"
   },
   {
    "duration": 0,
    "start_time": "2022-05-18T15:15:53.114Z"
   },
   {
    "duration": 0,
    "start_time": "2022-05-18T15:15:53.115Z"
   },
   {
    "duration": 0,
    "start_time": "2022-05-18T15:15:53.116Z"
   },
   {
    "duration": 0,
    "start_time": "2022-05-18T15:15:53.117Z"
   },
   {
    "duration": 0,
    "start_time": "2022-05-18T15:15:53.118Z"
   },
   {
    "duration": 0,
    "start_time": "2022-05-18T15:15:53.119Z"
   },
   {
    "duration": 0,
    "start_time": "2022-05-18T15:15:53.121Z"
   },
   {
    "duration": 0,
    "start_time": "2022-05-18T15:15:53.122Z"
   },
   {
    "duration": 0,
    "start_time": "2022-05-18T15:15:53.124Z"
   },
   {
    "duration": 0,
    "start_time": "2022-05-18T15:15:53.125Z"
   },
   {
    "duration": 0,
    "start_time": "2022-05-18T15:15:53.126Z"
   },
   {
    "duration": 10,
    "start_time": "2022-05-18T15:16:11.967Z"
   },
   {
    "duration": 5,
    "start_time": "2022-05-18T15:16:23.549Z"
   },
   {
    "duration": 50,
    "start_time": "2022-05-18T15:16:23.555Z"
   },
   {
    "duration": 81,
    "start_time": "2022-05-18T15:16:23.606Z"
   },
   {
    "duration": 5,
    "start_time": "2022-05-18T15:16:23.690Z"
   },
   {
    "duration": 10,
    "start_time": "2022-05-18T15:16:23.700Z"
   },
   {
    "duration": 9,
    "start_time": "2022-05-18T15:16:23.713Z"
   },
   {
    "duration": 13,
    "start_time": "2022-05-18T15:16:23.724Z"
   },
   {
    "duration": 0,
    "start_time": "2022-05-18T15:16:23.740Z"
   },
   {
    "duration": 0,
    "start_time": "2022-05-18T15:16:23.742Z"
   },
   {
    "duration": 0,
    "start_time": "2022-05-18T15:16:23.743Z"
   },
   {
    "duration": 0,
    "start_time": "2022-05-18T15:16:23.744Z"
   },
   {
    "duration": 0,
    "start_time": "2022-05-18T15:16:23.783Z"
   },
   {
    "duration": 0,
    "start_time": "2022-05-18T15:16:23.785Z"
   },
   {
    "duration": 0,
    "start_time": "2022-05-18T15:16:23.785Z"
   },
   {
    "duration": 0,
    "start_time": "2022-05-18T15:16:23.786Z"
   },
   {
    "duration": 0,
    "start_time": "2022-05-18T15:16:23.787Z"
   },
   {
    "duration": 0,
    "start_time": "2022-05-18T15:16:23.788Z"
   },
   {
    "duration": 0,
    "start_time": "2022-05-18T15:16:23.789Z"
   },
   {
    "duration": 0,
    "start_time": "2022-05-18T15:16:23.790Z"
   },
   {
    "duration": 0,
    "start_time": "2022-05-18T15:16:23.791Z"
   },
   {
    "duration": 0,
    "start_time": "2022-05-18T15:16:23.791Z"
   },
   {
    "duration": 0,
    "start_time": "2022-05-18T15:16:23.792Z"
   },
   {
    "duration": 0,
    "start_time": "2022-05-18T15:16:23.793Z"
   },
   {
    "duration": 0,
    "start_time": "2022-05-18T15:16:23.795Z"
   },
   {
    "duration": 0,
    "start_time": "2022-05-18T15:16:23.795Z"
   },
   {
    "duration": 0,
    "start_time": "2022-05-18T15:16:23.796Z"
   },
   {
    "duration": 0,
    "start_time": "2022-05-18T15:16:23.798Z"
   },
   {
    "duration": 0,
    "start_time": "2022-05-18T15:16:23.799Z"
   },
   {
    "duration": 0,
    "start_time": "2022-05-18T15:16:23.800Z"
   },
   {
    "duration": 0,
    "start_time": "2022-05-18T15:16:23.801Z"
   },
   {
    "duration": 0,
    "start_time": "2022-05-18T15:16:23.802Z"
   },
   {
    "duration": 9,
    "start_time": "2022-05-18T15:17:34.397Z"
   },
   {
    "duration": 4,
    "start_time": "2022-05-18T15:18:09.010Z"
   },
   {
    "duration": 73,
    "start_time": "2022-05-18T15:18:09.016Z"
   },
   {
    "duration": 60,
    "start_time": "2022-05-18T15:18:09.091Z"
   },
   {
    "duration": 4,
    "start_time": "2022-05-18T15:18:09.153Z"
   },
   {
    "duration": 27,
    "start_time": "2022-05-18T15:18:09.159Z"
   },
   {
    "duration": 6,
    "start_time": "2022-05-18T15:18:09.187Z"
   },
   {
    "duration": 14,
    "start_time": "2022-05-18T15:18:09.194Z"
   },
   {
    "duration": 3,
    "start_time": "2022-05-18T15:18:09.210Z"
   },
   {
    "duration": 219,
    "start_time": "2022-05-18T15:18:09.214Z"
   },
   {
    "duration": 64,
    "start_time": "2022-05-18T15:18:09.435Z"
   },
   {
    "duration": 99,
    "start_time": "2022-05-18T15:18:09.502Z"
   },
   {
    "duration": 7,
    "start_time": "2022-05-18T15:18:09.602Z"
   },
   {
    "duration": 24,
    "start_time": "2022-05-18T15:18:09.610Z"
   },
   {
    "duration": 18652,
    "start_time": "2022-05-18T15:18:09.637Z"
   },
   {
    "duration": 0,
    "start_time": "2022-05-18T15:18:28.291Z"
   },
   {
    "duration": 0,
    "start_time": "2022-05-18T15:18:28.292Z"
   },
   {
    "duration": 0,
    "start_time": "2022-05-18T15:18:28.293Z"
   },
   {
    "duration": 0,
    "start_time": "2022-05-18T15:18:28.295Z"
   },
   {
    "duration": 0,
    "start_time": "2022-05-18T15:18:28.296Z"
   },
   {
    "duration": 0,
    "start_time": "2022-05-18T15:18:28.297Z"
   },
   {
    "duration": 0,
    "start_time": "2022-05-18T15:18:28.298Z"
   },
   {
    "duration": 0,
    "start_time": "2022-05-18T15:18:28.299Z"
   },
   {
    "duration": 0,
    "start_time": "2022-05-18T15:18:28.301Z"
   },
   {
    "duration": 0,
    "start_time": "2022-05-18T15:18:28.301Z"
   },
   {
    "duration": 0,
    "start_time": "2022-05-18T15:18:28.302Z"
   },
   {
    "duration": 0,
    "start_time": "2022-05-18T15:18:28.304Z"
   },
   {
    "duration": 0,
    "start_time": "2022-05-18T15:18:28.305Z"
   },
   {
    "duration": 0,
    "start_time": "2022-05-18T15:18:28.306Z"
   },
   {
    "duration": 0,
    "start_time": "2022-05-18T15:18:28.308Z"
   },
   {
    "duration": 0,
    "start_time": "2022-05-18T15:18:28.309Z"
   },
   {
    "duration": 0,
    "start_time": "2022-05-18T15:18:28.310Z"
   },
   {
    "duration": 15,
    "start_time": "2022-05-18T15:19:28.266Z"
   },
   {
    "duration": 15,
    "start_time": "2022-05-18T15:19:49.351Z"
   },
   {
    "duration": 23,
    "start_time": "2022-05-18T15:20:50.347Z"
   },
   {
    "duration": 14,
    "start_time": "2022-05-18T15:20:59.507Z"
   },
   {
    "duration": 34,
    "start_time": "2022-05-18T15:25:56.196Z"
   },
   {
    "duration": 65,
    "start_time": "2022-05-18T15:26:13.443Z"
   },
   {
    "duration": 51,
    "start_time": "2022-05-18T15:26:32.519Z"
   },
   {
    "duration": 13,
    "start_time": "2022-05-18T15:41:34.884Z"
   },
   {
    "duration": 4,
    "start_time": "2022-05-18T15:41:48.111Z"
   },
   {
    "duration": 46,
    "start_time": "2022-05-18T15:41:48.120Z"
   },
   {
    "duration": 66,
    "start_time": "2022-05-18T15:41:48.168Z"
   },
   {
    "duration": 14,
    "start_time": "2022-05-18T15:41:48.236Z"
   },
   {
    "duration": 0,
    "start_time": "2022-05-18T15:41:48.253Z"
   },
   {
    "duration": 0,
    "start_time": "2022-05-18T15:41:48.254Z"
   },
   {
    "duration": 0,
    "start_time": "2022-05-18T15:41:48.255Z"
   },
   {
    "duration": 0,
    "start_time": "2022-05-18T15:41:48.255Z"
   },
   {
    "duration": 0,
    "start_time": "2022-05-18T15:41:48.256Z"
   },
   {
    "duration": 0,
    "start_time": "2022-05-18T15:41:48.284Z"
   },
   {
    "duration": 0,
    "start_time": "2022-05-18T15:41:48.285Z"
   },
   {
    "duration": 0,
    "start_time": "2022-05-18T15:41:48.286Z"
   },
   {
    "duration": 0,
    "start_time": "2022-05-18T15:41:48.287Z"
   },
   {
    "duration": 1,
    "start_time": "2022-05-18T15:41:48.288Z"
   },
   {
    "duration": 0,
    "start_time": "2022-05-18T15:41:48.290Z"
   },
   {
    "duration": 0,
    "start_time": "2022-05-18T15:41:48.291Z"
   },
   {
    "duration": 0,
    "start_time": "2022-05-18T15:41:48.293Z"
   },
   {
    "duration": 0,
    "start_time": "2022-05-18T15:41:48.294Z"
   },
   {
    "duration": 0,
    "start_time": "2022-05-18T15:41:48.295Z"
   },
   {
    "duration": 0,
    "start_time": "2022-05-18T15:41:48.297Z"
   },
   {
    "duration": 0,
    "start_time": "2022-05-18T15:41:48.298Z"
   },
   {
    "duration": 0,
    "start_time": "2022-05-18T15:41:48.299Z"
   },
   {
    "duration": 0,
    "start_time": "2022-05-18T15:41:48.301Z"
   },
   {
    "duration": 0,
    "start_time": "2022-05-18T15:41:48.302Z"
   },
   {
    "duration": 0,
    "start_time": "2022-05-18T15:41:48.302Z"
   },
   {
    "duration": 0,
    "start_time": "2022-05-18T15:41:48.303Z"
   },
   {
    "duration": 0,
    "start_time": "2022-05-18T15:41:48.304Z"
   },
   {
    "duration": 0,
    "start_time": "2022-05-18T15:41:48.305Z"
   },
   {
    "duration": 0,
    "start_time": "2022-05-18T15:41:48.306Z"
   },
   {
    "duration": 0,
    "start_time": "2022-05-18T15:41:48.308Z"
   },
   {
    "duration": 0,
    "start_time": "2022-05-18T15:41:48.309Z"
   },
   {
    "duration": 14,
    "start_time": "2022-05-18T15:42:31.519Z"
   },
   {
    "duration": 15,
    "start_time": "2022-05-18T15:45:47.575Z"
   },
   {
    "duration": 50,
    "start_time": "2022-05-18T15:45:55.313Z"
   },
   {
    "duration": 5,
    "start_time": "2022-05-18T15:46:06.855Z"
   },
   {
    "duration": 51,
    "start_time": "2022-05-18T15:46:07.713Z"
   },
   {
    "duration": 55,
    "start_time": "2022-05-18T15:46:17.951Z"
   },
   {
    "duration": 55,
    "start_time": "2022-05-18T15:46:22.306Z"
   },
   {
    "duration": 16,
    "start_time": "2022-05-18T15:47:09.210Z"
   },
   {
    "duration": 5,
    "start_time": "2022-05-18T15:48:36.951Z"
   },
   {
    "duration": 5,
    "start_time": "2022-05-18T15:48:59.406Z"
   },
   {
    "duration": 7,
    "start_time": "2022-05-18T15:49:00.775Z"
   },
   {
    "duration": 6,
    "start_time": "2022-05-18T15:49:02.005Z"
   },
   {
    "duration": 4,
    "start_time": "2022-05-18T15:49:10.756Z"
   },
   {
    "duration": 49,
    "start_time": "2022-05-18T15:49:10.762Z"
   },
   {
    "duration": 75,
    "start_time": "2022-05-18T15:49:10.812Z"
   },
   {
    "duration": 5,
    "start_time": "2022-05-18T15:49:10.889Z"
   },
   {
    "duration": 17,
    "start_time": "2022-05-18T15:49:10.895Z"
   },
   {
    "duration": 10,
    "start_time": "2022-05-18T15:49:10.914Z"
   },
   {
    "duration": 18,
    "start_time": "2022-05-18T15:49:10.925Z"
   },
   {
    "duration": 3,
    "start_time": "2022-05-18T15:49:10.945Z"
   },
   {
    "duration": 39,
    "start_time": "2022-05-18T15:49:10.949Z"
   },
   {
    "duration": 6,
    "start_time": "2022-05-18T15:49:10.990Z"
   },
   {
    "duration": 9,
    "start_time": "2022-05-18T15:49:10.998Z"
   },
   {
    "duration": 7,
    "start_time": "2022-05-18T15:49:11.009Z"
   },
   {
    "duration": 26,
    "start_time": "2022-05-18T15:49:11.017Z"
   },
   {
    "duration": 61,
    "start_time": "2022-05-18T15:49:11.045Z"
   },
   {
    "duration": 0,
    "start_time": "2022-05-18T15:49:11.108Z"
   },
   {
    "duration": 0,
    "start_time": "2022-05-18T15:49:11.109Z"
   },
   {
    "duration": 0,
    "start_time": "2022-05-18T15:49:11.110Z"
   },
   {
    "duration": 0,
    "start_time": "2022-05-18T15:49:11.112Z"
   },
   {
    "duration": 0,
    "start_time": "2022-05-18T15:49:11.113Z"
   },
   {
    "duration": 0,
    "start_time": "2022-05-18T15:49:11.113Z"
   },
   {
    "duration": 0,
    "start_time": "2022-05-18T15:49:11.114Z"
   },
   {
    "duration": 0,
    "start_time": "2022-05-18T15:49:11.115Z"
   },
   {
    "duration": 0,
    "start_time": "2022-05-18T15:49:11.116Z"
   },
   {
    "duration": 0,
    "start_time": "2022-05-18T15:49:11.118Z"
   },
   {
    "duration": 0,
    "start_time": "2022-05-18T15:49:11.119Z"
   },
   {
    "duration": 0,
    "start_time": "2022-05-18T15:49:11.120Z"
   },
   {
    "duration": 0,
    "start_time": "2022-05-18T15:49:11.122Z"
   },
   {
    "duration": 0,
    "start_time": "2022-05-18T15:49:11.123Z"
   },
   {
    "duration": 0,
    "start_time": "2022-05-18T15:49:11.124Z"
   },
   {
    "duration": 0,
    "start_time": "2022-05-18T15:49:11.125Z"
   },
   {
    "duration": 0,
    "start_time": "2022-05-18T15:49:11.126Z"
   },
   {
    "duration": 23,
    "start_time": "2022-05-18T15:52:57.580Z"
   },
   {
    "duration": 24,
    "start_time": "2022-05-18T15:53:00.882Z"
   },
   {
    "duration": 10,
    "start_time": "2022-05-18T15:53:46.552Z"
   },
   {
    "duration": 17,
    "start_time": "2022-05-18T15:56:26.801Z"
   },
   {
    "duration": 14,
    "start_time": "2022-05-18T16:13:11.747Z"
   },
   {
    "duration": 4,
    "start_time": "2022-05-18T16:13:18.709Z"
   },
   {
    "duration": 52,
    "start_time": "2022-05-18T16:13:18.714Z"
   },
   {
    "duration": 70,
    "start_time": "2022-05-18T16:13:18.768Z"
   },
   {
    "duration": 6,
    "start_time": "2022-05-18T16:13:18.840Z"
   },
   {
    "duration": 7,
    "start_time": "2022-05-18T16:13:18.847Z"
   },
   {
    "duration": 28,
    "start_time": "2022-05-18T16:13:18.856Z"
   },
   {
    "duration": 12,
    "start_time": "2022-05-18T16:13:18.886Z"
   },
   {
    "duration": 3,
    "start_time": "2022-05-18T16:13:18.900Z"
   },
   {
    "duration": 19,
    "start_time": "2022-05-18T16:13:18.906Z"
   },
   {
    "duration": 6,
    "start_time": "2022-05-18T16:13:18.927Z"
   },
   {
    "duration": 11,
    "start_time": "2022-05-18T16:13:18.934Z"
   },
   {
    "duration": 38,
    "start_time": "2022-05-18T16:13:18.947Z"
   },
   {
    "duration": 24,
    "start_time": "2022-05-18T16:13:18.987Z"
   },
   {
    "duration": 29,
    "start_time": "2022-05-18T16:13:19.013Z"
   },
   {
    "duration": 0,
    "start_time": "2022-05-18T16:13:19.044Z"
   },
   {
    "duration": 0,
    "start_time": "2022-05-18T16:13:19.045Z"
   },
   {
    "duration": 0,
    "start_time": "2022-05-18T16:13:19.046Z"
   },
   {
    "duration": 0,
    "start_time": "2022-05-18T16:13:19.047Z"
   },
   {
    "duration": 0,
    "start_time": "2022-05-18T16:13:19.049Z"
   },
   {
    "duration": 0,
    "start_time": "2022-05-18T16:13:19.050Z"
   },
   {
    "duration": 0,
    "start_time": "2022-05-18T16:13:19.051Z"
   },
   {
    "duration": 0,
    "start_time": "2022-05-18T16:13:19.083Z"
   },
   {
    "duration": 0,
    "start_time": "2022-05-18T16:13:19.085Z"
   },
   {
    "duration": 0,
    "start_time": "2022-05-18T16:13:19.086Z"
   },
   {
    "duration": 0,
    "start_time": "2022-05-18T16:13:19.087Z"
   },
   {
    "duration": 0,
    "start_time": "2022-05-18T16:13:19.089Z"
   },
   {
    "duration": 0,
    "start_time": "2022-05-18T16:13:19.090Z"
   },
   {
    "duration": 0,
    "start_time": "2022-05-18T16:13:19.092Z"
   },
   {
    "duration": 0,
    "start_time": "2022-05-18T16:13:19.093Z"
   },
   {
    "duration": 0,
    "start_time": "2022-05-18T16:13:19.094Z"
   },
   {
    "duration": 0,
    "start_time": "2022-05-18T16:13:19.095Z"
   },
   {
    "duration": 1493,
    "start_time": "2022-05-18T20:07:57.792Z"
   },
   {
    "duration": 82,
    "start_time": "2022-05-18T20:07:59.287Z"
   },
   {
    "duration": 58,
    "start_time": "2022-05-18T20:07:59.371Z"
   },
   {
    "duration": 3,
    "start_time": "2022-05-18T20:07:59.431Z"
   },
   {
    "duration": 5,
    "start_time": "2022-05-18T20:07:59.452Z"
   },
   {
    "duration": 14,
    "start_time": "2022-05-18T20:07:59.458Z"
   },
   {
    "duration": 55,
    "start_time": "2022-05-18T20:07:59.474Z"
   },
   {
    "duration": 3,
    "start_time": "2022-05-18T20:07:59.530Z"
   },
   {
    "duration": 31,
    "start_time": "2022-05-18T20:07:59.534Z"
   },
   {
    "duration": 6,
    "start_time": "2022-05-18T20:07:59.567Z"
   },
   {
    "duration": 8,
    "start_time": "2022-05-18T20:07:59.574Z"
   },
   {
    "duration": 10,
    "start_time": "2022-05-18T20:07:59.583Z"
   },
   {
    "duration": 25,
    "start_time": "2022-05-18T20:07:59.594Z"
   },
   {
    "duration": 323,
    "start_time": "2022-05-18T20:07:59.620Z"
   },
   {
    "duration": 0,
    "start_time": "2022-05-18T20:07:59.945Z"
   },
   {
    "duration": 0,
    "start_time": "2022-05-18T20:07:59.946Z"
   },
   {
    "duration": 0,
    "start_time": "2022-05-18T20:07:59.952Z"
   },
   {
    "duration": 0,
    "start_time": "2022-05-18T20:07:59.953Z"
   },
   {
    "duration": 0,
    "start_time": "2022-05-18T20:07:59.954Z"
   },
   {
    "duration": 0,
    "start_time": "2022-05-18T20:07:59.955Z"
   },
   {
    "duration": 0,
    "start_time": "2022-05-18T20:07:59.956Z"
   },
   {
    "duration": 0,
    "start_time": "2022-05-18T20:07:59.957Z"
   },
   {
    "duration": 0,
    "start_time": "2022-05-18T20:07:59.958Z"
   },
   {
    "duration": 0,
    "start_time": "2022-05-18T20:07:59.959Z"
   },
   {
    "duration": 0,
    "start_time": "2022-05-18T20:07:59.960Z"
   },
   {
    "duration": 0,
    "start_time": "2022-05-18T20:07:59.961Z"
   },
   {
    "duration": 0,
    "start_time": "2022-05-18T20:07:59.962Z"
   },
   {
    "duration": 0,
    "start_time": "2022-05-18T20:07:59.963Z"
   },
   {
    "duration": 0,
    "start_time": "2022-05-18T20:07:59.964Z"
   },
   {
    "duration": 0,
    "start_time": "2022-05-18T20:07:59.965Z"
   },
   {
    "duration": 0,
    "start_time": "2022-05-18T20:07:59.965Z"
   },
   {
    "duration": 21,
    "start_time": "2022-05-18T20:08:30.300Z"
   },
   {
    "duration": 12937,
    "start_time": "2022-05-18T20:08:30.323Z"
   },
   {
    "duration": 395,
    "start_time": "2022-05-18T20:08:43.262Z"
   },
   {
    "duration": 172,
    "start_time": "2022-05-18T20:08:43.660Z"
   },
   {
    "duration": 134,
    "start_time": "2022-05-18T20:08:43.833Z"
   },
   {
    "duration": 196454,
    "start_time": "2022-05-18T20:08:43.968Z"
   },
   {
    "duration": 116,
    "start_time": "2022-05-18T20:12:00.423Z"
   },
   {
    "duration": 116,
    "start_time": "2022-05-18T20:12:00.541Z"
   },
   {
    "duration": 125,
    "start_time": "2022-05-18T20:12:00.659Z"
   },
   {
    "duration": 25,
    "start_time": "2022-05-18T20:12:00.787Z"
   },
   {
    "duration": 12,
    "start_time": "2022-05-18T20:12:00.813Z"
   },
   {
    "duration": 131,
    "start_time": "2022-05-18T20:12:00.827Z"
   },
   {
    "duration": 128,
    "start_time": "2022-05-18T20:12:00.960Z"
   },
   {
    "duration": 34,
    "start_time": "2022-05-18T20:12:01.089Z"
   },
   {
    "duration": 41,
    "start_time": "2022-05-18T20:12:01.125Z"
   },
   {
    "duration": 92,
    "start_time": "2022-05-18T20:12:01.168Z"
   },
   {
    "duration": 107,
    "start_time": "2022-05-18T20:12:01.262Z"
   },
   {
    "duration": 22,
    "start_time": "2022-05-18T20:12:01.370Z"
   },
   {
    "duration": 67,
    "start_time": "2022-05-18T20:12:01.393Z"
   },
   {
    "duration": 32,
    "start_time": "2022-05-18T20:28:49.903Z"
   },
   {
    "duration": 26,
    "start_time": "2022-05-18T20:29:40.557Z"
   },
   {
    "duration": 35,
    "start_time": "2022-05-18T20:33:40.774Z"
   },
   {
    "duration": 43,
    "start_time": "2022-05-18T20:33:54.429Z"
   },
   {
    "duration": 43,
    "start_time": "2022-05-18T20:34:08.010Z"
   },
   {
    "duration": 5,
    "start_time": "2022-05-18T20:34:48.365Z"
   },
   {
    "duration": 7,
    "start_time": "2022-05-18T20:36:57.056Z"
   },
   {
    "duration": 26,
    "start_time": "2022-05-18T20:38:17.229Z"
   },
   {
    "duration": 7,
    "start_time": "2022-05-18T20:38:43.162Z"
   },
   {
    "duration": 8,
    "start_time": "2022-05-18T20:38:52.856Z"
   },
   {
    "duration": 29,
    "start_time": "2022-05-18T20:39:43.734Z"
   },
   {
    "duration": 12,
    "start_time": "2022-05-18T20:41:14.758Z"
   },
   {
    "duration": 22,
    "start_time": "2022-05-18T20:41:45.817Z"
   },
   {
    "duration": 28,
    "start_time": "2022-05-18T20:41:47.503Z"
   },
   {
    "duration": 8,
    "start_time": "2022-05-18T20:41:55.098Z"
   },
   {
    "duration": 125,
    "start_time": "2022-05-18T21:28:49.387Z"
   },
   {
    "duration": 2,
    "start_time": "2022-05-18T21:28:54.808Z"
   },
   {
    "duration": 149,
    "start_time": "2022-05-18T21:30:54.507Z"
   },
   {
    "duration": 43,
    "start_time": "2022-05-18T21:31:34.400Z"
   },
   {
    "duration": 42,
    "start_time": "2022-05-18T21:31:42.731Z"
   },
   {
    "duration": 42,
    "start_time": "2022-05-18T21:32:30.393Z"
   },
   {
    "duration": 34,
    "start_time": "2022-05-18T21:33:55.553Z"
   },
   {
    "duration": 8,
    "start_time": "2022-05-18T21:33:58.066Z"
   },
   {
    "duration": 50,
    "start_time": "2022-05-18T21:47:06.807Z"
   },
   {
    "duration": 42,
    "start_time": "2022-05-18T21:47:24.833Z"
   },
   {
    "duration": 36,
    "start_time": "2022-05-18T21:47:43.164Z"
   },
   {
    "duration": 9,
    "start_time": "2022-05-18T21:48:05.375Z"
   },
   {
    "duration": 8,
    "start_time": "2022-05-18T21:48:52.707Z"
   },
   {
    "duration": 9,
    "start_time": "2022-05-18T21:49:55.641Z"
   },
   {
    "duration": 18,
    "start_time": "2022-05-18T21:50:36.855Z"
   },
   {
    "duration": 18,
    "start_time": "2022-05-18T21:51:11.939Z"
   },
   {
    "duration": 27,
    "start_time": "2022-05-18T21:51:47.094Z"
   },
   {
    "duration": 9,
    "start_time": "2022-05-18T21:51:50.113Z"
   },
   {
    "duration": 4,
    "start_time": "2022-05-18T21:52:37.013Z"
   },
   {
    "duration": 3,
    "start_time": "2022-05-18T21:52:49.741Z"
   },
   {
    "duration": 15,
    "start_time": "2022-05-18T21:52:58.308Z"
   },
   {
    "duration": 4,
    "start_time": "2022-05-18T21:53:01.661Z"
   },
   {
    "duration": 111,
    "start_time": "2022-05-18T21:53:12.542Z"
   },
   {
    "duration": 124,
    "start_time": "2022-05-18T21:53:12.655Z"
   },
   {
    "duration": 27,
    "start_time": "2022-05-18T21:53:12.781Z"
   },
   {
    "duration": 3,
    "start_time": "2022-05-18T21:53:12.810Z"
   },
   {
    "duration": 22,
    "start_time": "2022-05-18T21:53:12.816Z"
   },
   {
    "duration": 122,
    "start_time": "2022-05-18T21:53:12.840Z"
   },
   {
    "duration": 223,
    "start_time": "2022-05-18T21:53:12.963Z"
   },
   {
    "duration": 35,
    "start_time": "2022-05-18T21:53:13.187Z"
   },
   {
    "duration": 4,
    "start_time": "2022-05-18T21:53:13.224Z"
   },
   {
    "duration": 32,
    "start_time": "2022-05-18T21:53:13.230Z"
   },
   {
    "duration": 27,
    "start_time": "2022-05-18T21:53:13.264Z"
   },
   {
    "duration": 127,
    "start_time": "2022-05-18T21:53:13.351Z"
   },
   {
    "duration": 20,
    "start_time": "2022-05-18T21:53:13.480Z"
   },
   {
    "duration": 17,
    "start_time": "2022-05-18T21:53:13.503Z"
   },
   {
    "duration": 39,
    "start_time": "2022-05-18T21:53:13.521Z"
   },
   {
    "duration": 34,
    "start_time": "2022-05-18T21:53:13.561Z"
   },
   {
    "duration": 6,
    "start_time": "2022-05-18T21:53:13.652Z"
   },
   {
    "duration": 15,
    "start_time": "2022-05-18T21:55:10.296Z"
   },
   {
    "duration": 27,
    "start_time": "2022-05-18T22:23:05.551Z"
   },
   {
    "duration": 35,
    "start_time": "2022-05-18T22:23:26.401Z"
   },
   {
    "duration": 49,
    "start_time": "2022-05-18T22:27:03.674Z"
   },
   {
    "duration": 31,
    "start_time": "2022-05-18T22:27:50.258Z"
   },
   {
    "duration": 3,
    "start_time": "2022-05-18T22:30:57.085Z"
   },
   {
    "duration": 42,
    "start_time": "2022-05-18T22:30:57.090Z"
   },
   {
    "duration": 54,
    "start_time": "2022-05-18T22:30:57.133Z"
   },
   {
    "duration": 4,
    "start_time": "2022-05-18T22:30:57.188Z"
   },
   {
    "duration": 8,
    "start_time": "2022-05-18T22:30:57.194Z"
   },
   {
    "duration": 10,
    "start_time": "2022-05-18T22:30:57.203Z"
   },
   {
    "duration": 12,
    "start_time": "2022-05-18T22:30:57.215Z"
   },
   {
    "duration": 3,
    "start_time": "2022-05-18T22:30:57.229Z"
   },
   {
    "duration": 37,
    "start_time": "2022-05-18T22:30:57.233Z"
   },
   {
    "duration": 5,
    "start_time": "2022-05-18T22:30:57.271Z"
   },
   {
    "duration": 7,
    "start_time": "2022-05-18T22:30:57.279Z"
   },
   {
    "duration": 5,
    "start_time": "2022-05-18T22:30:57.288Z"
   },
   {
    "duration": 20,
    "start_time": "2022-05-18T22:30:57.295Z"
   },
   {
    "duration": 12242,
    "start_time": "2022-05-18T22:30:57.317Z"
   },
   {
    "duration": 366,
    "start_time": "2022-05-18T22:31:09.654Z"
   },
   {
    "duration": 166,
    "start_time": "2022-05-18T22:31:10.021Z"
   },
   {
    "duration": 118,
    "start_time": "2022-05-18T22:31:10.189Z"
   },
   {
    "duration": 183011,
    "start_time": "2022-05-18T22:31:10.308Z"
   },
   {
    "duration": 105,
    "start_time": "2022-05-18T22:34:13.321Z"
   },
   {
    "duration": 39,
    "start_time": "2022-05-18T22:34:13.428Z"
   },
   {
    "duration": 117,
    "start_time": "2022-05-18T22:34:13.552Z"
   },
   {
    "duration": 23,
    "start_time": "2022-05-18T22:34:13.670Z"
   },
   {
    "duration": 3,
    "start_time": "2022-05-18T22:34:13.694Z"
   },
   {
    "duration": 104,
    "start_time": "2022-05-18T22:34:13.699Z"
   },
   {
    "duration": 53,
    "start_time": "2022-05-18T22:34:13.804Z"
   },
   {
    "duration": 222,
    "start_time": "2022-05-18T22:34:13.859Z"
   },
   {
    "duration": 35,
    "start_time": "2022-05-18T22:34:14.082Z"
   },
   {
    "duration": 5,
    "start_time": "2022-05-18T22:34:14.123Z"
   },
   {
    "duration": 27,
    "start_time": "2022-05-18T22:34:14.131Z"
   },
   {
    "duration": 93,
    "start_time": "2022-05-18T22:34:14.159Z"
   },
   {
    "duration": 111,
    "start_time": "2022-05-18T22:34:14.254Z"
   },
   {
    "duration": 17,
    "start_time": "2022-05-18T22:34:14.367Z"
   },
   {
    "duration": 3,
    "start_time": "2022-05-18T22:34:14.386Z"
   },
   {
    "duration": 18,
    "start_time": "2022-05-18T22:34:14.391Z"
   },
   {
    "duration": 52,
    "start_time": "2022-05-18T22:34:14.411Z"
   },
   {
    "duration": 27,
    "start_time": "2022-05-18T22:34:14.465Z"
   },
   {
    "duration": 1540,
    "start_time": "2022-05-19T09:36:12.584Z"
   },
   {
    "duration": 84,
    "start_time": "2022-05-19T09:36:14.126Z"
   },
   {
    "duration": 95,
    "start_time": "2022-05-19T09:36:14.212Z"
   },
   {
    "duration": 10,
    "start_time": "2022-05-19T09:36:14.309Z"
   },
   {
    "duration": 9,
    "start_time": "2022-05-19T09:36:14.321Z"
   },
   {
    "duration": 64,
    "start_time": "2022-05-19T09:36:14.332Z"
   },
   {
    "duration": 79,
    "start_time": "2022-05-19T09:36:14.398Z"
   },
   {
    "duration": 12,
    "start_time": "2022-05-19T09:36:14.478Z"
   },
   {
    "duration": 111,
    "start_time": "2022-05-19T09:36:14.492Z"
   },
   {
    "duration": 7,
    "start_time": "2022-05-19T09:36:14.607Z"
   },
   {
    "duration": 14,
    "start_time": "2022-05-19T09:36:14.616Z"
   },
   {
    "duration": 11,
    "start_time": "2022-05-19T09:36:14.632Z"
   },
   {
    "duration": 66,
    "start_time": "2022-05-19T09:36:14.645Z"
   },
   {
    "duration": 11145,
    "start_time": "2022-05-19T09:36:14.713Z"
   },
   {
    "duration": 306,
    "start_time": "2022-05-19T09:36:25.862Z"
   },
   {
    "duration": 169,
    "start_time": "2022-05-19T09:36:26.170Z"
   },
   {
    "duration": 137,
    "start_time": "2022-05-19T09:36:26.341Z"
   },
   {
    "duration": 207556,
    "start_time": "2022-05-19T09:36:26.479Z"
   },
   {
    "duration": 137,
    "start_time": "2022-05-19T09:39:54.036Z"
   },
   {
    "duration": 190,
    "start_time": "2022-05-19T09:39:54.175Z"
   },
   {
    "duration": 113,
    "start_time": "2022-05-19T09:39:54.371Z"
   },
   {
    "duration": 28,
    "start_time": "2022-05-19T09:39:54.485Z"
   },
   {
    "duration": 4,
    "start_time": "2022-05-19T09:39:54.515Z"
   },
   {
    "duration": 32,
    "start_time": "2022-05-19T09:39:54.520Z"
   },
   {
    "duration": 107,
    "start_time": "2022-05-19T09:39:54.553Z"
   },
   {
    "duration": 128,
    "start_time": "2022-05-19T09:39:54.662Z"
   },
   {
    "duration": 98,
    "start_time": "2022-05-19T09:39:54.792Z"
   },
   {
    "duration": 6,
    "start_time": "2022-05-19T09:39:54.893Z"
   },
   {
    "duration": 34,
    "start_time": "2022-05-19T09:39:54.901Z"
   },
   {
    "duration": 36,
    "start_time": "2022-05-19T09:39:54.936Z"
   },
   {
    "duration": 195,
    "start_time": "2022-05-19T09:39:54.976Z"
   },
   {
    "duration": 50,
    "start_time": "2022-05-19T09:39:55.174Z"
   },
   {
    "duration": 43,
    "start_time": "2022-05-19T09:39:55.227Z"
   },
   {
    "duration": 38,
    "start_time": "2022-05-19T09:39:55.273Z"
   },
   {
    "duration": 65,
    "start_time": "2022-05-19T09:39:55.312Z"
   },
   {
    "duration": 49,
    "start_time": "2022-05-19T09:39:55.378Z"
   },
   {
    "duration": 25,
    "start_time": "2022-05-19T09:42:06.371Z"
   },
   {
    "duration": 5,
    "start_time": "2022-05-19T09:42:16.166Z"
   },
   {
    "duration": 51,
    "start_time": "2022-05-19T09:42:16.173Z"
   },
   {
    "duration": 61,
    "start_time": "2022-05-19T09:42:16.226Z"
   },
   {
    "duration": 4,
    "start_time": "2022-05-19T09:42:16.289Z"
   },
   {
    "duration": 9,
    "start_time": "2022-05-19T09:42:16.295Z"
   },
   {
    "duration": 8,
    "start_time": "2022-05-19T09:42:16.306Z"
   },
   {
    "duration": 17,
    "start_time": "2022-05-19T09:42:16.315Z"
   },
   {
    "duration": 32,
    "start_time": "2022-05-19T09:42:16.334Z"
   },
   {
    "duration": 18,
    "start_time": "2022-05-19T09:42:16.368Z"
   },
   {
    "duration": 4,
    "start_time": "2022-05-19T09:42:16.388Z"
   },
   {
    "duration": 7,
    "start_time": "2022-05-19T09:42:16.394Z"
   },
   {
    "duration": 25,
    "start_time": "2022-05-19T09:42:16.403Z"
   },
   {
    "duration": 10606,
    "start_time": "2022-05-19T09:42:16.456Z"
   },
   {
    "duration": 360,
    "start_time": "2022-05-19T09:42:27.066Z"
   },
   {
    "duration": 178,
    "start_time": "2022-05-19T09:42:27.428Z"
   },
   {
    "duration": 121,
    "start_time": "2022-05-19T09:42:27.608Z"
   },
   {
    "duration": 205387,
    "start_time": "2022-05-19T09:42:27.731Z"
   },
   {
    "duration": 145,
    "start_time": "2022-05-19T09:45:53.120Z"
   },
   {
    "duration": 103,
    "start_time": "2022-05-19T09:45:53.267Z"
   },
   {
    "duration": 200,
    "start_time": "2022-05-19T09:45:53.372Z"
   },
   {
    "duration": 36,
    "start_time": "2022-05-19T09:45:53.574Z"
   },
   {
    "duration": 5,
    "start_time": "2022-05-19T09:45:53.612Z"
   },
   {
    "duration": 108,
    "start_time": "2022-05-19T09:45:53.618Z"
   },
   {
    "duration": 55,
    "start_time": "2022-05-19T09:45:53.728Z"
   },
   {
    "duration": 137,
    "start_time": "2022-05-19T09:45:53.853Z"
   },
   {
    "duration": 35,
    "start_time": "2022-05-19T09:45:53.992Z"
   },
   {
    "duration": 3,
    "start_time": "2022-05-19T09:45:54.029Z"
   },
   {
    "duration": 14,
    "start_time": "2022-05-19T09:45:54.053Z"
   },
   {
    "duration": 96,
    "start_time": "2022-05-19T09:45:54.069Z"
   },
   {
    "duration": 120,
    "start_time": "2022-05-19T09:45:54.167Z"
   },
   {
    "duration": 21,
    "start_time": "2022-05-19T09:45:54.288Z"
   },
   {
    "duration": 18,
    "start_time": "2022-05-19T09:45:54.311Z"
   },
   {
    "duration": 40,
    "start_time": "2022-05-19T09:45:54.331Z"
   },
   {
    "duration": 33,
    "start_time": "2022-05-19T09:45:54.373Z"
   },
   {
    "duration": 29,
    "start_time": "2022-05-19T09:45:54.408Z"
   },
   {
    "duration": 23,
    "start_time": "2022-05-19T09:51:39.068Z"
   },
   {
    "duration": 610,
    "start_time": "2022-05-19T09:55:54.771Z"
   },
   {
    "duration": 499,
    "start_time": "2022-05-19T09:56:25.767Z"
   },
   {
    "duration": 5,
    "start_time": "2022-05-19T09:57:12.124Z"
   },
   {
    "duration": 42,
    "start_time": "2022-05-19T09:57:12.131Z"
   },
   {
    "duration": 81,
    "start_time": "2022-05-19T09:57:12.174Z"
   },
   {
    "duration": 4,
    "start_time": "2022-05-19T09:57:12.257Z"
   },
   {
    "duration": 9,
    "start_time": "2022-05-19T09:57:12.262Z"
   },
   {
    "duration": 5,
    "start_time": "2022-05-19T09:57:12.273Z"
   },
   {
    "duration": 14,
    "start_time": "2022-05-19T09:57:12.279Z"
   },
   {
    "duration": 3,
    "start_time": "2022-05-19T09:57:12.294Z"
   },
   {
    "duration": 666,
    "start_time": "2022-05-19T09:57:12.299Z"
   },
   {
    "duration": 0,
    "start_time": "2022-05-19T09:57:12.968Z"
   },
   {
    "duration": 0,
    "start_time": "2022-05-19T09:57:12.969Z"
   },
   {
    "duration": 0,
    "start_time": "2022-05-19T09:57:12.971Z"
   },
   {
    "duration": 0,
    "start_time": "2022-05-19T09:57:12.972Z"
   },
   {
    "duration": 0,
    "start_time": "2022-05-19T09:57:12.974Z"
   },
   {
    "duration": 0,
    "start_time": "2022-05-19T09:57:12.976Z"
   },
   {
    "duration": 0,
    "start_time": "2022-05-19T09:57:12.977Z"
   },
   {
    "duration": 0,
    "start_time": "2022-05-19T09:57:12.979Z"
   },
   {
    "duration": 0,
    "start_time": "2022-05-19T09:57:12.981Z"
   },
   {
    "duration": 0,
    "start_time": "2022-05-19T09:57:12.982Z"
   },
   {
    "duration": 0,
    "start_time": "2022-05-19T09:57:12.984Z"
   },
   {
    "duration": 0,
    "start_time": "2022-05-19T09:57:12.985Z"
   },
   {
    "duration": 0,
    "start_time": "2022-05-19T09:57:12.986Z"
   },
   {
    "duration": 0,
    "start_time": "2022-05-19T09:57:12.987Z"
   },
   {
    "duration": 0,
    "start_time": "2022-05-19T09:57:12.988Z"
   },
   {
    "duration": 0,
    "start_time": "2022-05-19T09:57:12.989Z"
   },
   {
    "duration": 0,
    "start_time": "2022-05-19T09:57:12.990Z"
   },
   {
    "duration": 0,
    "start_time": "2022-05-19T09:57:12.991Z"
   },
   {
    "duration": 0,
    "start_time": "2022-05-19T09:57:12.992Z"
   },
   {
    "duration": 0,
    "start_time": "2022-05-19T09:57:12.993Z"
   },
   {
    "duration": 0,
    "start_time": "2022-05-19T09:57:12.995Z"
   },
   {
    "duration": 0,
    "start_time": "2022-05-19T09:57:12.996Z"
   },
   {
    "duration": 0,
    "start_time": "2022-05-19T09:57:12.997Z"
   },
   {
    "duration": 0,
    "start_time": "2022-05-19T09:57:12.998Z"
   },
   {
    "duration": 0,
    "start_time": "2022-05-19T09:57:13.000Z"
   },
   {
    "duration": 0,
    "start_time": "2022-05-19T09:57:13.001Z"
   },
   {
    "duration": 714,
    "start_time": "2022-05-19T09:59:18.385Z"
   },
   {
    "duration": 23,
    "start_time": "2022-05-19T10:04:06.084Z"
   },
   {
    "duration": 14,
    "start_time": "2022-05-19T10:04:14.844Z"
   },
   {
    "duration": 13,
    "start_time": "2022-05-19T10:07:59.115Z"
   },
   {
    "duration": 12,
    "start_time": "2022-05-19T10:08:08.383Z"
   },
   {
    "duration": 4,
    "start_time": "2022-05-19T10:08:22.249Z"
   },
   {
    "duration": 44,
    "start_time": "2022-05-19T10:08:22.255Z"
   },
   {
    "duration": 74,
    "start_time": "2022-05-19T10:08:22.301Z"
   },
   {
    "duration": 4,
    "start_time": "2022-05-19T10:08:22.376Z"
   },
   {
    "duration": 14,
    "start_time": "2022-05-19T10:08:22.382Z"
   },
   {
    "duration": 17,
    "start_time": "2022-05-19T10:08:22.398Z"
   },
   {
    "duration": 23,
    "start_time": "2022-05-19T10:08:22.417Z"
   },
   {
    "duration": 5,
    "start_time": "2022-05-19T10:08:22.441Z"
   },
   {
    "duration": 34,
    "start_time": "2022-05-19T10:08:22.447Z"
   },
   {
    "duration": 7,
    "start_time": "2022-05-19T10:08:22.482Z"
   },
   {
    "duration": 15,
    "start_time": "2022-05-19T10:08:22.493Z"
   },
   {
    "duration": 17,
    "start_time": "2022-05-19T10:08:22.510Z"
   },
   {
    "duration": 0,
    "start_time": "2022-05-19T10:08:22.529Z"
   },
   {
    "duration": 0,
    "start_time": "2022-05-19T10:08:22.531Z"
   },
   {
    "duration": 1,
    "start_time": "2022-05-19T10:08:22.531Z"
   },
   {
    "duration": 0,
    "start_time": "2022-05-19T10:08:22.533Z"
   },
   {
    "duration": 0,
    "start_time": "2022-05-19T10:08:22.553Z"
   },
   {
    "duration": 0,
    "start_time": "2022-05-19T10:08:22.554Z"
   },
   {
    "duration": 0,
    "start_time": "2022-05-19T10:08:22.556Z"
   },
   {
    "duration": 0,
    "start_time": "2022-05-19T10:08:22.557Z"
   },
   {
    "duration": 0,
    "start_time": "2022-05-19T10:08:22.557Z"
   },
   {
    "duration": 0,
    "start_time": "2022-05-19T10:08:22.559Z"
   },
   {
    "duration": 0,
    "start_time": "2022-05-19T10:08:22.561Z"
   },
   {
    "duration": 0,
    "start_time": "2022-05-19T10:08:22.562Z"
   },
   {
    "duration": 0,
    "start_time": "2022-05-19T10:08:22.564Z"
   },
   {
    "duration": 0,
    "start_time": "2022-05-19T10:08:22.565Z"
   },
   {
    "duration": 0,
    "start_time": "2022-05-19T10:08:22.566Z"
   },
   {
    "duration": 0,
    "start_time": "2022-05-19T10:08:22.568Z"
   },
   {
    "duration": 0,
    "start_time": "2022-05-19T10:08:22.570Z"
   },
   {
    "duration": 0,
    "start_time": "2022-05-19T10:08:22.571Z"
   },
   {
    "duration": 0,
    "start_time": "2022-05-19T10:08:22.572Z"
   },
   {
    "duration": 0,
    "start_time": "2022-05-19T10:08:22.573Z"
   },
   {
    "duration": 0,
    "start_time": "2022-05-19T10:08:22.574Z"
   },
   {
    "duration": 0,
    "start_time": "2022-05-19T10:08:22.575Z"
   },
   {
    "duration": 0,
    "start_time": "2022-05-19T10:08:22.577Z"
   },
   {
    "duration": 506,
    "start_time": "2022-05-19T10:09:57.377Z"
   },
   {
    "duration": 5,
    "start_time": "2022-05-19T10:10:06.661Z"
   },
   {
    "duration": 47,
    "start_time": "2022-05-19T10:10:06.675Z"
   },
   {
    "duration": 86,
    "start_time": "2022-05-19T10:10:06.725Z"
   },
   {
    "duration": 6,
    "start_time": "2022-05-19T10:10:06.813Z"
   },
   {
    "duration": 30,
    "start_time": "2022-05-19T10:10:06.821Z"
   },
   {
    "duration": 8,
    "start_time": "2022-05-19T10:10:06.854Z"
   },
   {
    "duration": 25,
    "start_time": "2022-05-19T10:10:06.864Z"
   },
   {
    "duration": 4,
    "start_time": "2022-05-19T10:10:06.891Z"
   },
   {
    "duration": 1038,
    "start_time": "2022-05-19T10:10:06.897Z"
   },
   {
    "duration": 0,
    "start_time": "2022-05-19T10:10:07.937Z"
   },
   {
    "duration": 0,
    "start_time": "2022-05-19T10:10:07.938Z"
   },
   {
    "duration": 0,
    "start_time": "2022-05-19T10:10:07.939Z"
   },
   {
    "duration": 0,
    "start_time": "2022-05-19T10:10:07.941Z"
   },
   {
    "duration": 0,
    "start_time": "2022-05-19T10:10:07.942Z"
   },
   {
    "duration": 0,
    "start_time": "2022-05-19T10:10:07.943Z"
   },
   {
    "duration": 0,
    "start_time": "2022-05-19T10:10:07.944Z"
   },
   {
    "duration": 0,
    "start_time": "2022-05-19T10:10:07.945Z"
   },
   {
    "duration": 0,
    "start_time": "2022-05-19T10:10:07.945Z"
   },
   {
    "duration": 0,
    "start_time": "2022-05-19T10:10:07.946Z"
   },
   {
    "duration": 0,
    "start_time": "2022-05-19T10:10:07.948Z"
   },
   {
    "duration": 0,
    "start_time": "2022-05-19T10:10:07.949Z"
   },
   {
    "duration": 0,
    "start_time": "2022-05-19T10:10:07.950Z"
   },
   {
    "duration": 0,
    "start_time": "2022-05-19T10:10:07.952Z"
   },
   {
    "duration": 0,
    "start_time": "2022-05-19T10:10:07.953Z"
   },
   {
    "duration": 1,
    "start_time": "2022-05-19T10:10:07.954Z"
   },
   {
    "duration": 0,
    "start_time": "2022-05-19T10:10:07.956Z"
   },
   {
    "duration": 0,
    "start_time": "2022-05-19T10:10:07.958Z"
   },
   {
    "duration": 0,
    "start_time": "2022-05-19T10:10:07.959Z"
   },
   {
    "duration": 0,
    "start_time": "2022-05-19T10:10:07.960Z"
   },
   {
    "duration": 0,
    "start_time": "2022-05-19T10:10:07.962Z"
   },
   {
    "duration": 0,
    "start_time": "2022-05-19T10:10:07.963Z"
   },
   {
    "duration": 0,
    "start_time": "2022-05-19T10:10:07.964Z"
   },
   {
    "duration": 0,
    "start_time": "2022-05-19T10:10:07.965Z"
   },
   {
    "duration": 0,
    "start_time": "2022-05-19T10:10:07.967Z"
   },
   {
    "duration": 0,
    "start_time": "2022-05-19T10:10:07.968Z"
   },
   {
    "duration": 523,
    "start_time": "2022-05-19T10:10:26.722Z"
   },
   {
    "duration": 17,
    "start_time": "2022-05-19T10:10:37.112Z"
   },
   {
    "duration": 13,
    "start_time": "2022-05-19T10:10:42.374Z"
   },
   {
    "duration": 3,
    "start_time": "2022-05-19T10:11:00.968Z"
   },
   {
    "duration": 71,
    "start_time": "2022-05-19T10:11:00.974Z"
   },
   {
    "duration": 66,
    "start_time": "2022-05-19T10:11:01.047Z"
   },
   {
    "duration": 5,
    "start_time": "2022-05-19T10:11:01.114Z"
   },
   {
    "duration": 19,
    "start_time": "2022-05-19T10:11:01.121Z"
   },
   {
    "duration": 27,
    "start_time": "2022-05-19T10:11:01.142Z"
   },
   {
    "duration": 21,
    "start_time": "2022-05-19T10:11:01.170Z"
   },
   {
    "duration": 6,
    "start_time": "2022-05-19T10:11:01.192Z"
   },
   {
    "duration": 29,
    "start_time": "2022-05-19T10:11:01.199Z"
   },
   {
    "duration": 6,
    "start_time": "2022-05-19T10:11:01.229Z"
   },
   {
    "duration": 10,
    "start_time": "2022-05-19T10:11:01.236Z"
   },
   {
    "duration": 33,
    "start_time": "2022-05-19T10:11:01.252Z"
   },
   {
    "duration": 14265,
    "start_time": "2022-05-19T10:11:01.287Z"
   },
   {
    "duration": 374,
    "start_time": "2022-05-19T10:11:15.556Z"
   },
   {
    "duration": 185,
    "start_time": "2022-05-19T10:11:15.931Z"
   },
   {
    "duration": 140,
    "start_time": "2022-05-19T10:11:16.118Z"
   },
   {
    "duration": 204759,
    "start_time": "2022-05-19T10:11:16.259Z"
   },
   {
    "duration": 121,
    "start_time": "2022-05-19T10:14:41.020Z"
   },
   {
    "duration": 27,
    "start_time": "2022-05-19T10:14:41.151Z"
   },
   {
    "duration": 122,
    "start_time": "2022-05-19T10:14:41.254Z"
   },
   {
    "duration": 26,
    "start_time": "2022-05-19T10:14:41.378Z"
   },
   {
    "duration": 5,
    "start_time": "2022-05-19T10:14:41.405Z"
   },
   {
    "duration": 18,
    "start_time": "2022-05-19T10:14:41.411Z"
   },
   {
    "duration": 122,
    "start_time": "2022-05-19T10:14:41.431Z"
   },
   {
    "duration": 137,
    "start_time": "2022-05-19T10:14:41.557Z"
   },
   {
    "duration": 35,
    "start_time": "2022-05-19T10:14:41.696Z"
   },
   {
    "duration": 21,
    "start_time": "2022-05-19T10:14:41.733Z"
   },
   {
    "duration": 13,
    "start_time": "2022-05-19T10:14:41.755Z"
   },
   {
    "duration": 18,
    "start_time": "2022-05-19T10:14:41.769Z"
   },
   {
    "duration": 104,
    "start_time": "2022-05-19T10:14:41.853Z"
   },
   {
    "duration": 21,
    "start_time": "2022-05-19T10:14:41.959Z"
   },
   {
    "duration": 4,
    "start_time": "2022-05-19T10:14:41.982Z"
   },
   {
    "duration": 30,
    "start_time": "2022-05-19T10:14:41.987Z"
   },
   {
    "duration": 54,
    "start_time": "2022-05-19T10:14:42.019Z"
   },
   {
    "duration": 22,
    "start_time": "2022-05-19T10:14:42.075Z"
   },
   {
    "duration": 4,
    "start_time": "2022-05-19T10:19:39.703Z"
   },
   {
    "duration": 43,
    "start_time": "2022-05-19T10:19:39.711Z"
   },
   {
    "duration": 103,
    "start_time": "2022-05-19T10:19:39.757Z"
   },
   {
    "duration": 6,
    "start_time": "2022-05-19T10:19:39.862Z"
   },
   {
    "duration": 17,
    "start_time": "2022-05-19T10:19:39.871Z"
   },
   {
    "duration": 9,
    "start_time": "2022-05-19T10:19:39.890Z"
   },
   {
    "duration": 26,
    "start_time": "2022-05-19T10:19:39.901Z"
   },
   {
    "duration": 4,
    "start_time": "2022-05-19T10:19:39.928Z"
   },
   {
    "duration": 39,
    "start_time": "2022-05-19T10:19:39.933Z"
   },
   {
    "duration": 5,
    "start_time": "2022-05-19T10:19:39.974Z"
   },
   {
    "duration": 11,
    "start_time": "2022-05-19T10:19:39.981Z"
   },
   {
    "duration": 27,
    "start_time": "2022-05-19T10:19:39.994Z"
   },
   {
    "duration": 11438,
    "start_time": "2022-05-19T10:19:40.022Z"
   },
   {
    "duration": 354,
    "start_time": "2022-05-19T10:19:51.462Z"
   },
   {
    "duration": 172,
    "start_time": "2022-05-19T10:19:51.819Z"
   },
   {
    "duration": 171,
    "start_time": "2022-05-19T10:19:51.993Z"
   },
   {
    "duration": 211028,
    "start_time": "2022-05-19T10:19:52.165Z"
   },
   {
    "duration": 234,
    "start_time": "2022-05-19T10:23:23.195Z"
   },
   {
    "duration": 122,
    "start_time": "2022-05-19T10:23:23.431Z"
   },
   {
    "duration": 120,
    "start_time": "2022-05-19T10:23:23.555Z"
   },
   {
    "duration": 142,
    "start_time": "2022-05-19T10:23:23.677Z"
   },
   {
    "duration": 4,
    "start_time": "2022-05-19T10:23:23.820Z"
   },
   {
    "duration": 22,
    "start_time": "2022-05-19T10:23:23.825Z"
   },
   {
    "duration": 108,
    "start_time": "2022-05-19T10:23:23.849Z"
   },
   {
    "duration": 234,
    "start_time": "2022-05-19T10:23:23.959Z"
   },
   {
    "duration": 231,
    "start_time": "2022-05-19T10:23:24.195Z"
   },
   {
    "duration": 4,
    "start_time": "2022-05-19T10:23:24.428Z"
   },
   {
    "duration": 22,
    "start_time": "2022-05-19T10:23:24.433Z"
   },
   {
    "duration": 95,
    "start_time": "2022-05-19T10:23:24.457Z"
   },
   {
    "duration": 112,
    "start_time": "2022-05-19T10:23:24.556Z"
   },
   {
    "duration": 82,
    "start_time": "2022-05-19T10:23:24.670Z"
   },
   {
    "duration": 5,
    "start_time": "2022-05-19T10:23:24.753Z"
   },
   {
    "duration": 21,
    "start_time": "2022-05-19T10:23:24.759Z"
   },
   {
    "duration": 32,
    "start_time": "2022-05-19T10:23:24.782Z"
   },
   {
    "duration": 48,
    "start_time": "2022-05-19T10:23:24.815Z"
   },
   {
    "duration": 111,
    "start_time": "2022-05-19T10:23:50.356Z"
   },
   {
    "duration": 26,
    "start_time": "2022-05-19T10:26:44.885Z"
   },
   {
    "duration": 119,
    "start_time": "2022-05-19T10:26:51.668Z"
   },
   {
    "duration": 3,
    "start_time": "2022-05-19T10:49:02.319Z"
   },
   {
    "duration": 46,
    "start_time": "2022-05-19T10:49:02.324Z"
   },
   {
    "duration": 84,
    "start_time": "2022-05-19T10:49:02.371Z"
   },
   {
    "duration": 5,
    "start_time": "2022-05-19T10:49:02.456Z"
   },
   {
    "duration": 10,
    "start_time": "2022-05-19T10:49:02.463Z"
   },
   {
    "duration": 19,
    "start_time": "2022-05-19T10:49:02.475Z"
   },
   {
    "duration": 23,
    "start_time": "2022-05-19T10:49:02.496Z"
   },
   {
    "duration": 5,
    "start_time": "2022-05-19T10:49:02.520Z"
   },
   {
    "duration": 26,
    "start_time": "2022-05-19T10:49:02.528Z"
   },
   {
    "duration": 22,
    "start_time": "2022-05-19T10:49:02.556Z"
   },
   {
    "duration": 34,
    "start_time": "2022-05-19T10:49:02.580Z"
   },
   {
    "duration": 46,
    "start_time": "2022-05-19T10:49:02.616Z"
   },
   {
    "duration": 12501,
    "start_time": "2022-05-19T10:49:02.663Z"
   },
   {
    "duration": 394,
    "start_time": "2022-05-19T10:49:15.167Z"
   },
   {
    "duration": 176,
    "start_time": "2022-05-19T10:49:15.563Z"
   },
   {
    "duration": 170,
    "start_time": "2022-05-19T10:49:15.741Z"
   },
   {
    "duration": 203592,
    "start_time": "2022-05-19T10:49:15.913Z"
   },
   {
    "duration": 214,
    "start_time": "2022-05-19T10:52:39.508Z"
   },
   {
    "duration": 136,
    "start_time": "2022-05-19T10:52:39.724Z"
   },
   {
    "duration": 212,
    "start_time": "2022-05-19T10:52:39.862Z"
   },
   {
    "duration": 145,
    "start_time": "2022-05-19T10:52:40.075Z"
   },
   {
    "duration": 4,
    "start_time": "2022-05-19T10:52:40.222Z"
   },
   {
    "duration": 26,
    "start_time": "2022-05-19T10:52:40.227Z"
   },
   {
    "duration": 98,
    "start_time": "2022-05-19T10:52:40.256Z"
   },
   {
    "duration": 138,
    "start_time": "2022-05-19T10:52:40.357Z"
   },
   {
    "duration": 220,
    "start_time": "2022-05-19T10:52:40.497Z"
   },
   {
    "duration": 4,
    "start_time": "2022-05-19T10:52:40.718Z"
   },
   {
    "duration": 14,
    "start_time": "2022-05-19T10:52:40.723Z"
   },
   {
    "duration": 31,
    "start_time": "2022-05-19T10:52:40.738Z"
   },
   {
    "duration": 112,
    "start_time": "2022-05-19T10:52:40.853Z"
   },
   {
    "duration": 66,
    "start_time": "2022-05-19T10:52:40.967Z"
   },
   {
    "duration": 17,
    "start_time": "2022-05-19T10:52:41.035Z"
   },
   {
    "duration": 17,
    "start_time": "2022-05-19T10:52:41.053Z"
   },
   {
    "duration": 148,
    "start_time": "2022-05-19T10:52:41.072Z"
   },
   {
    "duration": 1498,
    "start_time": "2022-05-20T08:39:20.001Z"
   },
   {
    "duration": 177,
    "start_time": "2022-05-20T08:39:21.502Z"
   },
   {
    "duration": 59,
    "start_time": "2022-05-20T08:39:43.089Z"
   },
   {
    "duration": 4,
    "start_time": "2022-05-20T08:40:16.337Z"
   },
   {
    "duration": 7,
    "start_time": "2022-05-20T08:40:17.193Z"
   },
   {
    "duration": 8,
    "start_time": "2022-05-20T08:40:18.454Z"
   },
   {
    "duration": 220,
    "start_time": "2022-05-20T08:40:48.372Z"
   },
   {
    "duration": 3,
    "start_time": "2022-05-20T08:40:50.847Z"
   },
   {
    "duration": 17,
    "start_time": "2022-05-20T08:40:51.817Z"
   },
   {
    "duration": 5,
    "start_time": "2022-05-20T08:41:54.841Z"
   },
   {
    "duration": 9,
    "start_time": "2022-05-20T08:41:55.558Z"
   },
   {
    "duration": 30,
    "start_time": "2022-05-20T08:42:36.892Z"
   },
   {
    "duration": 13097,
    "start_time": "2022-05-20T08:43:33.023Z"
   },
   {
    "duration": 502,
    "start_time": "2022-05-20T08:43:46.122Z"
   },
   {
    "duration": 172,
    "start_time": "2022-05-20T08:43:46.626Z"
   },
   {
    "duration": 154,
    "start_time": "2022-05-20T08:43:46.800Z"
   },
   {
    "duration": 196284,
    "start_time": "2022-05-20T08:43:46.955Z"
   },
   {
    "duration": 209,
    "start_time": "2022-05-20T08:47:03.240Z"
   },
   {
    "duration": 67,
    "start_time": "2022-05-20T08:47:03.451Z"
   },
   {
    "duration": 109,
    "start_time": "2022-05-20T08:47:03.611Z"
   },
   {
    "duration": 126,
    "start_time": "2022-05-20T08:47:03.721Z"
   },
   {
    "duration": 4,
    "start_time": "2022-05-20T08:47:03.848Z"
   },
   {
    "duration": 13,
    "start_time": "2022-05-20T08:47:03.853Z"
   },
   {
    "duration": 59,
    "start_time": "2022-05-20T08:47:03.867Z"
   },
   {
    "duration": 139,
    "start_time": "2022-05-20T08:47:04.013Z"
   },
   {
    "duration": 217,
    "start_time": "2022-05-20T08:47:04.155Z"
   },
   {
    "duration": 4,
    "start_time": "2022-05-20T08:47:04.374Z"
   },
   {
    "duration": 12,
    "start_time": "2022-05-20T08:47:04.380Z"
   },
   {
    "duration": 32,
    "start_time": "2022-05-20T08:47:04.394Z"
   },
   {
    "duration": 117,
    "start_time": "2022-05-20T08:47:04.514Z"
   },
   {
    "duration": 64,
    "start_time": "2022-05-20T08:47:04.633Z"
   },
   {
    "duration": 12,
    "start_time": "2022-05-20T08:47:04.700Z"
   },
   {
    "duration": 16,
    "start_time": "2022-05-20T08:47:04.713Z"
   },
   {
    "duration": 138,
    "start_time": "2022-05-20T08:47:04.731Z"
   },
   {
    "duration": 76,
    "start_time": "2022-05-20T11:40:48.463Z"
   },
   {
    "duration": 32,
    "start_time": "2022-05-20T11:42:35.436Z"
   },
   {
    "duration": 49,
    "start_time": "2022-05-20T11:42:54.444Z"
   },
   {
    "duration": 41,
    "start_time": "2022-05-20T11:43:01.094Z"
   },
   {
    "duration": 28,
    "start_time": "2022-05-20T11:44:53.032Z"
   },
   {
    "duration": 64,
    "start_time": "2022-05-20T11:45:33.855Z"
   },
   {
    "duration": 1544,
    "start_time": "2022-06-20T18:51:22.675Z"
   },
   {
    "duration": 51,
    "start_time": "2022-08-08T14:32:15.686Z"
   },
   {
    "duration": 1443,
    "start_time": "2022-08-08T14:32:18.938Z"
   },
   {
    "duration": 188,
    "start_time": "2022-08-08T14:32:20.383Z"
   },
   {
    "duration": 72,
    "start_time": "2022-08-08T14:32:20.573Z"
   },
   {
    "duration": 27,
    "start_time": "2022-08-08T14:32:20.646Z"
   },
   {
    "duration": 20,
    "start_time": "2022-08-08T14:32:20.675Z"
   },
   {
    "duration": 15,
    "start_time": "2022-08-08T14:32:20.696Z"
   },
   {
    "duration": 63,
    "start_time": "2022-08-08T14:32:20.713Z"
   },
   {
    "duration": 4,
    "start_time": "2022-08-08T14:32:20.780Z"
   },
   {
    "duration": 22,
    "start_time": "2022-08-08T14:32:20.786Z"
   },
   {
    "duration": 11,
    "start_time": "2022-08-08T14:32:20.811Z"
   },
   {
    "duration": 26,
    "start_time": "2022-08-08T14:32:20.824Z"
   },
   {
    "duration": 60,
    "start_time": "2022-08-08T14:32:20.852Z"
   },
   {
    "duration": 11461,
    "start_time": "2022-08-08T14:32:20.914Z"
   },
   {
    "duration": 294,
    "start_time": "2022-08-08T14:32:32.377Z"
   },
   {
    "duration": 185,
    "start_time": "2022-08-08T14:32:32.673Z"
   },
   {
    "duration": 178,
    "start_time": "2022-08-08T14:32:32.860Z"
   },
   {
    "duration": 386094,
    "start_time": "2022-08-08T14:32:33.040Z"
   },
   {
    "duration": 268,
    "start_time": "2022-08-08T14:38:59.136Z"
   },
   {
    "duration": 165,
    "start_time": "2022-08-08T14:38:59.406Z"
   },
   {
    "duration": 122,
    "start_time": "2022-08-08T14:38:59.573Z"
   },
   {
    "duration": 140,
    "start_time": "2022-08-08T14:38:59.697Z"
   },
   {
    "duration": 4,
    "start_time": "2022-08-08T14:38:59.839Z"
   },
   {
    "duration": 37,
    "start_time": "2022-08-08T14:38:59.845Z"
   },
   {
    "duration": 105,
    "start_time": "2022-08-08T14:38:59.884Z"
   },
   {
    "duration": 212,
    "start_time": "2022-08-08T14:38:59.994Z"
   },
   {
    "duration": 252,
    "start_time": "2022-08-08T14:39:00.209Z"
   },
   {
    "duration": 21,
    "start_time": "2022-08-08T14:39:00.462Z"
   },
   {
    "duration": 22,
    "start_time": "2022-08-08T14:39:00.488Z"
   },
   {
    "duration": 67,
    "start_time": "2022-08-08T14:39:00.512Z"
   },
   {
    "duration": 124,
    "start_time": "2022-08-08T14:39:00.582Z"
   },
   {
    "duration": 75,
    "start_time": "2022-08-08T14:39:00.709Z"
   },
   {
    "duration": 4,
    "start_time": "2022-08-08T14:39:00.786Z"
   },
   {
    "duration": 29,
    "start_time": "2022-08-08T14:39:00.792Z"
   },
   {
    "duration": 165,
    "start_time": "2022-08-08T14:39:00.823Z"
   }
  ],
  "kernelspec": {
   "display_name": "Python 3 (ipykernel)",
   "language": "python",
   "name": "python3"
  },
  "language_info": {
   "codemirror_mode": {
    "name": "ipython",
    "version": 3
   },
   "file_extension": ".py",
   "mimetype": "text/x-python",
   "name": "python",
   "nbconvert_exporter": "python",
   "pygments_lexer": "ipython3",
   "version": "3.9.5"
  },
  "toc": {
   "base_numbering": 1,
   "nav_menu": {},
   "number_sections": true,
   "sideBar": true,
   "skip_h1_title": true,
   "title_cell": "Содержание",
   "title_sidebar": "Contents",
   "toc_cell": true,
   "toc_position": {
    "height": "calc(100% - 180px)",
    "left": "10px",
    "top": "150px",
    "width": "330.6px"
   },
   "toc_section_display": true,
   "toc_window_display": true
  }
 },
 "nbformat": 4,
 "nbformat_minor": 2
}
