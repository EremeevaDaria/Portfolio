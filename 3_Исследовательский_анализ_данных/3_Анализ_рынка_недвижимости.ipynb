{
 "cells": [
  {
   "cell_type": "markdown",
   "metadata": {
    "toc": true
   },
   "source": [
    "<h1>Содержание<span class=\"tocSkip\"></span></h1>\n",
    "<div class=\"toc\"><ul class=\"toc-item\"><li><span><a href=\"#Изучение-данных-из-файла\" data-toc-modified-id=\"Изучение-данных-из-файла-1\"><span class=\"toc-item-num\">1&nbsp;&nbsp;</span>Изучение данных из файла</a></span><ul class=\"toc-item\"><li><span><a href=\"#Вывод\" data-toc-modified-id=\"Вывод-1.1\"><span class=\"toc-item-num\">1.1&nbsp;&nbsp;</span>Вывод</a></span></li></ul></li><li><span><a href=\"#Предобработка-данных\" data-toc-modified-id=\"Предобработка-данных-2\"><span class=\"toc-item-num\">2&nbsp;&nbsp;</span>Предобработка данных</a></span><ul class=\"toc-item\"><li><span><a href=\"#Определим-и-изучим-пропущенные-значения\" data-toc-modified-id=\"Определим-и-изучим-пропущенные-значения-2.1\"><span class=\"toc-item-num\">2.1&nbsp;&nbsp;</span>Определим и изучим пропущенные значения</a></span></li><li><span><a href=\"#Оценим-долю-пропусков-в-некоторых-параметрах.\" data-toc-modified-id=\"Оценим-долю-пропусков-в-некоторых-параметрах.-2.2\"><span class=\"toc-item-num\">2.2&nbsp;&nbsp;</span>Оценим долю пропусков в некоторых параметрах.</a></span></li><li><span><a href=\"#Оценим-долю-жилой-и-кухонной-площади-к-общей-площади-квартиры\" data-toc-modified-id=\"Оценим-долю-жилой-и-кухонной-площади-к-общей-площади-квартиры-2.3\"><span class=\"toc-item-num\">2.3&nbsp;&nbsp;</span>Оценим долю жилой и кухонной площади к общей площади квартиры</a></span></li><li><span><a href=\"#Приведем-данные-к-нужным-типам\" data-toc-modified-id=\"Приведем-данные-к-нужным-типам-2.4\"><span class=\"toc-item-num\">2.4&nbsp;&nbsp;</span>Приведем данные к нужным типам</a></span></li></ul></li><li><span><a href=\"#Расчёты-и-добавление-результатов-в-таблицу\" data-toc-modified-id=\"Расчёты-и-добавление-результатов-в-таблицу-3\"><span class=\"toc-item-num\">3&nbsp;&nbsp;</span>Расчёты и добавление результатов в таблицу</a></span></li><li><span><a href=\"#Исследовательский-анализ-данных\" data-toc-modified-id=\"Исследовательский-анализ-данных-4\"><span class=\"toc-item-num\">4&nbsp;&nbsp;</span>Исследовательский анализ данных</a></span><ul class=\"toc-item\"><li><span><a href=\"#Исследование-площади,-цены,-числа-комнат,-высоты-потолков\" data-toc-modified-id=\"Исследование-площади,-цены,-числа-комнат,-высоты-потолков-4.1\"><span class=\"toc-item-num\">4.1&nbsp;&nbsp;</span>Исследование площади, цены, числа комнат, высоты потолков</a></span></li><li><span><a href=\"#Исследование-количества-времени-для-продажи-квартиры\" data-toc-modified-id=\"Исследование-количества-времени-для-продажи-квартиры-4.2\"><span class=\"toc-item-num\">4.2&nbsp;&nbsp;</span>Исследование количества времени для продажи квартиры</a></span></li><li><span><a href=\"#Анализ-редких-и-выбивающихся-значений\" data-toc-modified-id=\"Анализ-редких-и-выбивающихся-значений-4.3\"><span class=\"toc-item-num\">4.3&nbsp;&nbsp;</span>Анализ редких и выбивающихся значений</a></span></li><li><span><a href=\"#Исследование-факторов,-влияющих-на-стоимость-квартиры\" data-toc-modified-id=\"Исследование-факторов,-влияющих-на-стоимость-квартиры-4.4\"><span class=\"toc-item-num\">4.4&nbsp;&nbsp;</span>Исследование факторов, влияющих на стоимость квартиры</a></span></li><li><span><a href=\"#Анализ-десяти-населённых-пунктов-с-наибольшим-числом-объявлений\" data-toc-modified-id=\"Анализ-десяти-населённых-пунктов-с-наибольшим-числом-объявлений-4.5\"><span class=\"toc-item-num\">4.5&nbsp;&nbsp;</span>Анализ десяти населённых пунктов с наибольшим числом объявлений</a></span></li><li><span><a href=\"#Анализ-изменения-цены-по-степени-удалённости-от-центра\" data-toc-modified-id=\"Анализ-изменения-цены-по-степени-удалённости-от-центра-4.6\"><span class=\"toc-item-num\">4.6&nbsp;&nbsp;</span>Анализ изменения цены по степени удалённости от центра</a></span></li><li><span><a href=\"#Сравнение-выводов-по-квартирам-в-центре-и-общих-выводов-по-всему-городу\" data-toc-modified-id=\"Сравнение-выводов-по-квартирам-в-центре-и-общих-выводов-по-всему-городу-4.7\"><span class=\"toc-item-num\">4.7&nbsp;&nbsp;</span>Сравнение выводов по квартирам в центре и общих выводов по всему городу</a></span></li></ul></li><li><span><a href=\"#Общий-вывод\" data-toc-modified-id=\"Общий-вывод-5\"><span class=\"toc-item-num\">5&nbsp;&nbsp;</span>Общий вывод</a></span></li></ul></div>"
   ]
  },
  {
   "cell_type": "markdown",
   "metadata": {},
   "source": [
    "# Продажа квартир в Санкт-Петербурге — анализ рынка недвижимости\n",
    " \n",
    "В вашем распоряжении данные сервиса Яндекс.Недвижимость — архив объявлений о продаже квартир в Санкт-Петербурге и соседних населённых пунктах за несколько лет. Нужно научиться определять рыночную стоимость объектов недвижимости. Ваша задача — установить параметры. Это позволит построить автоматизированную систему: она отследит аномалии и мошенническую деятельность. \n",
    "\n",
    "По каждой квартире на продажу доступны два вида данных. Первые вписаны пользователем, вторые получены автоматически на основе картографических данных. Например, расстояние до центра, аэропорта, ближайшего парка и водоёма. "
   ]
  },
  {
   "cell_type": "markdown",
   "metadata": {},
   "source": [
    "## Изучение данных из файла"
   ]
  },
  {
   "cell_type": "code",
   "execution_count": 52,
   "metadata": {},
   "outputs": [],
   "source": [
    "#загрузим библиотеку pandas\n",
    "import pandas as pd\n",
    "from datetime import datetime, timedelta\n",
    "import matplotlib.pyplot as plt\n",
    "import warnings\n",
    "warnings.filterwarnings('ignore')"
   ]
  },
  {
   "cell_type": "code",
   "execution_count": 53,
   "metadata": {
    "scrolled": true
   },
   "outputs": [],
   "source": [
    "#Откроем файл с данными и изучим общую информацию\n",
    "data = pd.read_csv('/datasets/real_estate_data.csv', sep='\\t')"
   ]
  },
  {
   "cell_type": "code",
   "execution_count": 54,
   "metadata": {
    "scrolled": true
   },
   "outputs": [
    {
     "name": "stdout",
     "output_type": "stream",
     "text": [
      "<class 'pandas.core.frame.DataFrame'>\n",
      "RangeIndex: 23699 entries, 0 to 23698\n",
      "Data columns (total 22 columns):\n",
      " #   Column                Non-Null Count  Dtype  \n",
      "---  ------                --------------  -----  \n",
      " 0   total_images          23699 non-null  int64  \n",
      " 1   last_price            23699 non-null  float64\n",
      " 2   total_area            23699 non-null  float64\n",
      " 3   first_day_exposition  23699 non-null  object \n",
      " 4   rooms                 23699 non-null  int64  \n",
      " 5   ceiling_height        14504 non-null  float64\n",
      " 6   floors_total          23613 non-null  float64\n",
      " 7   living_area           21796 non-null  float64\n",
      " 8   floor                 23699 non-null  int64  \n",
      " 9   is_apartment          2775 non-null   object \n",
      " 10  studio                23699 non-null  bool   \n",
      " 11  open_plan             23699 non-null  bool   \n",
      " 12  kitchen_area          21421 non-null  float64\n",
      " 13  balcony               12180 non-null  float64\n",
      " 14  locality_name         23650 non-null  object \n",
      " 15  airports_nearest      18157 non-null  float64\n",
      " 16  cityCenters_nearest   18180 non-null  float64\n",
      " 17  parks_around3000      18181 non-null  float64\n",
      " 18  parks_nearest         8079 non-null   float64\n",
      " 19  ponds_around3000      18181 non-null  float64\n",
      " 20  ponds_nearest         9110 non-null   float64\n",
      " 21  days_exposition       20518 non-null  float64\n",
      "dtypes: bool(2), float64(14), int64(3), object(3)\n",
      "memory usage: 3.7+ MB\n"
     ]
    },
    {
     "data": {
      "text/plain": [
       "None"
      ]
     },
     "metadata": {},
     "output_type": "display_data"
    },
    {
     "data": {
      "text/plain": [
       "total_images                0\n",
       "last_price                  0\n",
       "total_area                  0\n",
       "first_day_exposition        0\n",
       "rooms                       0\n",
       "ceiling_height           9195\n",
       "floors_total               86\n",
       "living_area              1903\n",
       "floor                       0\n",
       "is_apartment            20924\n",
       "studio                      0\n",
       "open_plan                   0\n",
       "kitchen_area             2278\n",
       "balcony                 11519\n",
       "locality_name              49\n",
       "airports_nearest         5542\n",
       "cityCenters_nearest      5519\n",
       "parks_around3000         5518\n",
       "parks_nearest           15620\n",
       "ponds_around3000         5518\n",
       "ponds_nearest           14589\n",
       "days_exposition          3181\n",
       "dtype: int64"
      ]
     },
     "metadata": {},
     "output_type": "display_data"
    },
    {
     "data": {
      "text/html": [
       "<div>\n",
       "<style scoped>\n",
       "    .dataframe tbody tr th:only-of-type {\n",
       "        vertical-align: middle;\n",
       "    }\n",
       "\n",
       "    .dataframe tbody tr th {\n",
       "        vertical-align: top;\n",
       "    }\n",
       "\n",
       "    .dataframe thead th {\n",
       "        text-align: right;\n",
       "    }\n",
       "</style>\n",
       "<table border=\"1\" class=\"dataframe\">\n",
       "  <thead>\n",
       "    <tr style=\"text-align: right;\">\n",
       "      <th></th>\n",
       "      <th>total_images</th>\n",
       "      <th>last_price</th>\n",
       "      <th>total_area</th>\n",
       "      <th>rooms</th>\n",
       "      <th>ceiling_height</th>\n",
       "      <th>floors_total</th>\n",
       "      <th>living_area</th>\n",
       "      <th>floor</th>\n",
       "      <th>kitchen_area</th>\n",
       "      <th>balcony</th>\n",
       "      <th>airports_nearest</th>\n",
       "      <th>cityCenters_nearest</th>\n",
       "      <th>parks_around3000</th>\n",
       "      <th>parks_nearest</th>\n",
       "      <th>ponds_around3000</th>\n",
       "      <th>ponds_nearest</th>\n",
       "      <th>days_exposition</th>\n",
       "    </tr>\n",
       "  </thead>\n",
       "  <tbody>\n",
       "    <tr>\n",
       "      <th>count</th>\n",
       "      <td>23699.000000</td>\n",
       "      <td>2.369900e+04</td>\n",
       "      <td>23699.000000</td>\n",
       "      <td>23699.000000</td>\n",
       "      <td>14504.000000</td>\n",
       "      <td>23613.000000</td>\n",
       "      <td>21796.000000</td>\n",
       "      <td>23699.000000</td>\n",
       "      <td>21421.000000</td>\n",
       "      <td>12180.000000</td>\n",
       "      <td>18157.000000</td>\n",
       "      <td>18180.000000</td>\n",
       "      <td>18181.000000</td>\n",
       "      <td>8079.000000</td>\n",
       "      <td>18181.000000</td>\n",
       "      <td>9110.000000</td>\n",
       "      <td>20518.000000</td>\n",
       "    </tr>\n",
       "    <tr>\n",
       "      <th>mean</th>\n",
       "      <td>9.858475</td>\n",
       "      <td>6.541549e+06</td>\n",
       "      <td>60.348651</td>\n",
       "      <td>2.070636</td>\n",
       "      <td>2.771499</td>\n",
       "      <td>10.673824</td>\n",
       "      <td>34.457852</td>\n",
       "      <td>5.892358</td>\n",
       "      <td>10.569807</td>\n",
       "      <td>1.150082</td>\n",
       "      <td>28793.672193</td>\n",
       "      <td>14191.277833</td>\n",
       "      <td>0.611408</td>\n",
       "      <td>490.804555</td>\n",
       "      <td>0.770255</td>\n",
       "      <td>517.980900</td>\n",
       "      <td>180.888634</td>\n",
       "    </tr>\n",
       "    <tr>\n",
       "      <th>std</th>\n",
       "      <td>5.682529</td>\n",
       "      <td>1.088701e+07</td>\n",
       "      <td>35.654083</td>\n",
       "      <td>1.078405</td>\n",
       "      <td>1.261056</td>\n",
       "      <td>6.597173</td>\n",
       "      <td>22.030445</td>\n",
       "      <td>4.885249</td>\n",
       "      <td>5.905438</td>\n",
       "      <td>1.071300</td>\n",
       "      <td>12630.880622</td>\n",
       "      <td>8608.386210</td>\n",
       "      <td>0.802074</td>\n",
       "      <td>342.317995</td>\n",
       "      <td>0.938346</td>\n",
       "      <td>277.720643</td>\n",
       "      <td>219.727988</td>\n",
       "    </tr>\n",
       "    <tr>\n",
       "      <th>min</th>\n",
       "      <td>0.000000</td>\n",
       "      <td>1.219000e+04</td>\n",
       "      <td>12.000000</td>\n",
       "      <td>0.000000</td>\n",
       "      <td>1.000000</td>\n",
       "      <td>1.000000</td>\n",
       "      <td>2.000000</td>\n",
       "      <td>1.000000</td>\n",
       "      <td>1.300000</td>\n",
       "      <td>0.000000</td>\n",
       "      <td>0.000000</td>\n",
       "      <td>181.000000</td>\n",
       "      <td>0.000000</td>\n",
       "      <td>1.000000</td>\n",
       "      <td>0.000000</td>\n",
       "      <td>13.000000</td>\n",
       "      <td>1.000000</td>\n",
       "    </tr>\n",
       "    <tr>\n",
       "      <th>25%</th>\n",
       "      <td>6.000000</td>\n",
       "      <td>3.400000e+06</td>\n",
       "      <td>40.000000</td>\n",
       "      <td>1.000000</td>\n",
       "      <td>2.520000</td>\n",
       "      <td>5.000000</td>\n",
       "      <td>18.600000</td>\n",
       "      <td>2.000000</td>\n",
       "      <td>7.000000</td>\n",
       "      <td>0.000000</td>\n",
       "      <td>18585.000000</td>\n",
       "      <td>9238.000000</td>\n",
       "      <td>0.000000</td>\n",
       "      <td>288.000000</td>\n",
       "      <td>0.000000</td>\n",
       "      <td>294.000000</td>\n",
       "      <td>45.000000</td>\n",
       "    </tr>\n",
       "    <tr>\n",
       "      <th>50%</th>\n",
       "      <td>9.000000</td>\n",
       "      <td>4.650000e+06</td>\n",
       "      <td>52.000000</td>\n",
       "      <td>2.000000</td>\n",
       "      <td>2.650000</td>\n",
       "      <td>9.000000</td>\n",
       "      <td>30.000000</td>\n",
       "      <td>4.000000</td>\n",
       "      <td>9.100000</td>\n",
       "      <td>1.000000</td>\n",
       "      <td>26726.000000</td>\n",
       "      <td>13098.500000</td>\n",
       "      <td>0.000000</td>\n",
       "      <td>455.000000</td>\n",
       "      <td>1.000000</td>\n",
       "      <td>502.000000</td>\n",
       "      <td>95.000000</td>\n",
       "    </tr>\n",
       "    <tr>\n",
       "      <th>75%</th>\n",
       "      <td>14.000000</td>\n",
       "      <td>6.800000e+06</td>\n",
       "      <td>69.900000</td>\n",
       "      <td>3.000000</td>\n",
       "      <td>2.800000</td>\n",
       "      <td>16.000000</td>\n",
       "      <td>42.300000</td>\n",
       "      <td>8.000000</td>\n",
       "      <td>12.000000</td>\n",
       "      <td>2.000000</td>\n",
       "      <td>37273.000000</td>\n",
       "      <td>16293.000000</td>\n",
       "      <td>1.000000</td>\n",
       "      <td>612.000000</td>\n",
       "      <td>1.000000</td>\n",
       "      <td>729.000000</td>\n",
       "      <td>232.000000</td>\n",
       "    </tr>\n",
       "    <tr>\n",
       "      <th>max</th>\n",
       "      <td>50.000000</td>\n",
       "      <td>7.630000e+08</td>\n",
       "      <td>900.000000</td>\n",
       "      <td>19.000000</td>\n",
       "      <td>100.000000</td>\n",
       "      <td>60.000000</td>\n",
       "      <td>409.700000</td>\n",
       "      <td>33.000000</td>\n",
       "      <td>112.000000</td>\n",
       "      <td>5.000000</td>\n",
       "      <td>84869.000000</td>\n",
       "      <td>65968.000000</td>\n",
       "      <td>3.000000</td>\n",
       "      <td>3190.000000</td>\n",
       "      <td>3.000000</td>\n",
       "      <td>1344.000000</td>\n",
       "      <td>1580.000000</td>\n",
       "    </tr>\n",
       "  </tbody>\n",
       "</table>\n",
       "</div>"
      ],
      "text/plain": [
       "       total_images    last_price    total_area         rooms  ceiling_height  \\\n",
       "count  23699.000000  2.369900e+04  23699.000000  23699.000000    14504.000000   \n",
       "mean       9.858475  6.541549e+06     60.348651      2.070636        2.771499   \n",
       "std        5.682529  1.088701e+07     35.654083      1.078405        1.261056   \n",
       "min        0.000000  1.219000e+04     12.000000      0.000000        1.000000   \n",
       "25%        6.000000  3.400000e+06     40.000000      1.000000        2.520000   \n",
       "50%        9.000000  4.650000e+06     52.000000      2.000000        2.650000   \n",
       "75%       14.000000  6.800000e+06     69.900000      3.000000        2.800000   \n",
       "max       50.000000  7.630000e+08    900.000000     19.000000      100.000000   \n",
       "\n",
       "       floors_total   living_area         floor  kitchen_area       balcony  \\\n",
       "count  23613.000000  21796.000000  23699.000000  21421.000000  12180.000000   \n",
       "mean      10.673824     34.457852      5.892358     10.569807      1.150082   \n",
       "std        6.597173     22.030445      4.885249      5.905438      1.071300   \n",
       "min        1.000000      2.000000      1.000000      1.300000      0.000000   \n",
       "25%        5.000000     18.600000      2.000000      7.000000      0.000000   \n",
       "50%        9.000000     30.000000      4.000000      9.100000      1.000000   \n",
       "75%       16.000000     42.300000      8.000000     12.000000      2.000000   \n",
       "max       60.000000    409.700000     33.000000    112.000000      5.000000   \n",
       "\n",
       "       airports_nearest  cityCenters_nearest  parks_around3000  parks_nearest  \\\n",
       "count      18157.000000         18180.000000      18181.000000    8079.000000   \n",
       "mean       28793.672193         14191.277833          0.611408     490.804555   \n",
       "std        12630.880622          8608.386210          0.802074     342.317995   \n",
       "min            0.000000           181.000000          0.000000       1.000000   \n",
       "25%        18585.000000          9238.000000          0.000000     288.000000   \n",
       "50%        26726.000000         13098.500000          0.000000     455.000000   \n",
       "75%        37273.000000         16293.000000          1.000000     612.000000   \n",
       "max        84869.000000         65968.000000          3.000000    3190.000000   \n",
       "\n",
       "       ponds_around3000  ponds_nearest  days_exposition  \n",
       "count      18181.000000    9110.000000     20518.000000  \n",
       "mean           0.770255     517.980900       180.888634  \n",
       "std            0.938346     277.720643       219.727988  \n",
       "min            0.000000      13.000000         1.000000  \n",
       "25%            0.000000     294.000000        45.000000  \n",
       "50%            1.000000     502.000000        95.000000  \n",
       "75%            1.000000     729.000000       232.000000  \n",
       "max            3.000000    1344.000000      1580.000000  "
      ]
     },
     "metadata": {},
     "output_type": "display_data"
    },
    {
     "data": {
      "text/plain": [
       "0"
      ]
     },
     "metadata": {},
     "output_type": "display_data"
    }
   ],
   "source": [
    "#найдем все пропуски в таблице\n",
    "def uni_function(function):\n",
    "    display(function.info())\n",
    "    display(function.isna().sum())\n",
    "    display(function.describe())\n",
    "    display(function.duplicated().sum())\n",
    "uni_function(data)"
   ]
  },
  {
   "cell_type": "markdown",
   "metadata": {},
   "source": [
    "### Вывод"
   ]
  },
  {
   "cell_type": "markdown",
   "metadata": {},
   "source": [
    "Исходя из полученных данных можно сделать вывод о том, что в талице присутствует большое количество пропусков, есть как целые, так и вещественые типы данных.Также присутствует ошибка в наименовании столбца 'cityCenters_nearest', которую необходимо устранить в соответствии с правилами синтаксиса и хорошего стиля."
   ]
  },
  {
   "cell_type": "markdown",
   "metadata": {},
   "source": [
    "## Предобработка данных"
   ]
  },
  {
   "cell_type": "markdown",
   "metadata": {},
   "source": [
    "###  Определим и изучим пропущенные значения"
   ]
  },
  {
   "cell_type": "code",
   "execution_count": 55,
   "metadata": {
    "scrolled": false
   },
   "outputs": [],
   "source": [
    "#переименуем название столбца 'cityCenters_nearest'\n",
    "data = data.rename(columns={'cityCenters_nearest': 'city_centers_nearest'}) "
   ]
  },
  {
   "cell_type": "code",
   "execution_count": 56,
   "metadata": {},
   "outputs": [],
   "source": [
    "#удалим неявные дубликаты \n",
    "data['locality_name'] = data['locality_name'].replace(\"посёлок\", \"поселок\", regex=True)"
   ]
  },
  {
   "cell_type": "code",
   "execution_count": 57,
   "metadata": {
    "scrolled": true
   },
   "outputs": [
    {
     "data": {
      "text/html": [
       "<div>\n",
       "<style scoped>\n",
       "    .dataframe tbody tr th:only-of-type {\n",
       "        vertical-align: middle;\n",
       "    }\n",
       "\n",
       "    .dataframe tbody tr th {\n",
       "        vertical-align: top;\n",
       "    }\n",
       "\n",
       "    .dataframe thead th {\n",
       "        text-align: right;\n",
       "    }\n",
       "</style>\n",
       "<table border=\"1\" class=\"dataframe\">\n",
       "  <thead>\n",
       "    <tr style=\"text-align: right;\">\n",
       "      <th></th>\n",
       "      <th>total_images</th>\n",
       "      <th>last_price</th>\n",
       "      <th>total_area</th>\n",
       "      <th>first_day_exposition</th>\n",
       "      <th>rooms</th>\n",
       "      <th>ceiling_height</th>\n",
       "      <th>floors_total</th>\n",
       "      <th>living_area</th>\n",
       "      <th>floor</th>\n",
       "      <th>is_apartment</th>\n",
       "      <th>...</th>\n",
       "      <th>kitchen_area</th>\n",
       "      <th>balcony</th>\n",
       "      <th>locality_name</th>\n",
       "      <th>airports_nearest</th>\n",
       "      <th>city_centers_nearest</th>\n",
       "      <th>parks_around3000</th>\n",
       "      <th>parks_nearest</th>\n",
       "      <th>ponds_around3000</th>\n",
       "      <th>ponds_nearest</th>\n",
       "      <th>days_exposition</th>\n",
       "    </tr>\n",
       "  </thead>\n",
       "  <tbody>\n",
       "    <tr>\n",
       "      <th>0</th>\n",
       "      <td>20</td>\n",
       "      <td>13000000.0</td>\n",
       "      <td>108.0</td>\n",
       "      <td>2019-03-07T00:00:00</td>\n",
       "      <td>3</td>\n",
       "      <td>2.70</td>\n",
       "      <td>16.0</td>\n",
       "      <td>51.0</td>\n",
       "      <td>8</td>\n",
       "      <td>NaN</td>\n",
       "      <td>...</td>\n",
       "      <td>25.0</td>\n",
       "      <td>0.0</td>\n",
       "      <td>Санкт-Петербург</td>\n",
       "      <td>18863.0</td>\n",
       "      <td>16028.0</td>\n",
       "      <td>1.0</td>\n",
       "      <td>482.0</td>\n",
       "      <td>2.0</td>\n",
       "      <td>755.0</td>\n",
       "      <td>NaN</td>\n",
       "    </tr>\n",
       "    <tr>\n",
       "      <th>1</th>\n",
       "      <td>7</td>\n",
       "      <td>3350000.0</td>\n",
       "      <td>40.4</td>\n",
       "      <td>2018-12-04T00:00:00</td>\n",
       "      <td>1</td>\n",
       "      <td>NaN</td>\n",
       "      <td>11.0</td>\n",
       "      <td>18.6</td>\n",
       "      <td>1</td>\n",
       "      <td>NaN</td>\n",
       "      <td>...</td>\n",
       "      <td>11.0</td>\n",
       "      <td>2.0</td>\n",
       "      <td>поселок Шушары</td>\n",
       "      <td>12817.0</td>\n",
       "      <td>18603.0</td>\n",
       "      <td>0.0</td>\n",
       "      <td>NaN</td>\n",
       "      <td>0.0</td>\n",
       "      <td>NaN</td>\n",
       "      <td>81.0</td>\n",
       "    </tr>\n",
       "    <tr>\n",
       "      <th>2</th>\n",
       "      <td>10</td>\n",
       "      <td>5196000.0</td>\n",
       "      <td>56.0</td>\n",
       "      <td>2015-08-20T00:00:00</td>\n",
       "      <td>2</td>\n",
       "      <td>NaN</td>\n",
       "      <td>5.0</td>\n",
       "      <td>34.3</td>\n",
       "      <td>4</td>\n",
       "      <td>NaN</td>\n",
       "      <td>...</td>\n",
       "      <td>8.3</td>\n",
       "      <td>0.0</td>\n",
       "      <td>Санкт-Петербург</td>\n",
       "      <td>21741.0</td>\n",
       "      <td>13933.0</td>\n",
       "      <td>1.0</td>\n",
       "      <td>90.0</td>\n",
       "      <td>2.0</td>\n",
       "      <td>574.0</td>\n",
       "      <td>558.0</td>\n",
       "    </tr>\n",
       "    <tr>\n",
       "      <th>3</th>\n",
       "      <td>0</td>\n",
       "      <td>64900000.0</td>\n",
       "      <td>159.0</td>\n",
       "      <td>2015-07-24T00:00:00</td>\n",
       "      <td>3</td>\n",
       "      <td>NaN</td>\n",
       "      <td>14.0</td>\n",
       "      <td>NaN</td>\n",
       "      <td>9</td>\n",
       "      <td>NaN</td>\n",
       "      <td>...</td>\n",
       "      <td>NaN</td>\n",
       "      <td>0.0</td>\n",
       "      <td>Санкт-Петербург</td>\n",
       "      <td>28098.0</td>\n",
       "      <td>6800.0</td>\n",
       "      <td>2.0</td>\n",
       "      <td>84.0</td>\n",
       "      <td>3.0</td>\n",
       "      <td>234.0</td>\n",
       "      <td>424.0</td>\n",
       "    </tr>\n",
       "    <tr>\n",
       "      <th>4</th>\n",
       "      <td>2</td>\n",
       "      <td>10000000.0</td>\n",
       "      <td>100.0</td>\n",
       "      <td>2018-06-19T00:00:00</td>\n",
       "      <td>2</td>\n",
       "      <td>3.03</td>\n",
       "      <td>14.0</td>\n",
       "      <td>32.0</td>\n",
       "      <td>13</td>\n",
       "      <td>NaN</td>\n",
       "      <td>...</td>\n",
       "      <td>41.0</td>\n",
       "      <td>0.0</td>\n",
       "      <td>Санкт-Петербург</td>\n",
       "      <td>31856.0</td>\n",
       "      <td>8098.0</td>\n",
       "      <td>2.0</td>\n",
       "      <td>112.0</td>\n",
       "      <td>1.0</td>\n",
       "      <td>48.0</td>\n",
       "      <td>121.0</td>\n",
       "    </tr>\n",
       "  </tbody>\n",
       "</table>\n",
       "<p>5 rows × 22 columns</p>\n",
       "</div>"
      ],
      "text/plain": [
       "   total_images  last_price  total_area first_day_exposition  rooms  \\\n",
       "0            20  13000000.0       108.0  2019-03-07T00:00:00      3   \n",
       "1             7   3350000.0        40.4  2018-12-04T00:00:00      1   \n",
       "2            10   5196000.0        56.0  2015-08-20T00:00:00      2   \n",
       "3             0  64900000.0       159.0  2015-07-24T00:00:00      3   \n",
       "4             2  10000000.0       100.0  2018-06-19T00:00:00      2   \n",
       "\n",
       "   ceiling_height  floors_total  living_area  floor is_apartment  ...  \\\n",
       "0            2.70          16.0         51.0      8          NaN  ...   \n",
       "1             NaN          11.0         18.6      1          NaN  ...   \n",
       "2             NaN           5.0         34.3      4          NaN  ...   \n",
       "3             NaN          14.0          NaN      9          NaN  ...   \n",
       "4            3.03          14.0         32.0     13          NaN  ...   \n",
       "\n",
       "   kitchen_area  balcony    locality_name  airports_nearest  \\\n",
       "0          25.0      0.0  Санкт-Петербург           18863.0   \n",
       "1          11.0      2.0   поселок Шушары           12817.0   \n",
       "2           8.3      0.0  Санкт-Петербург           21741.0   \n",
       "3           NaN      0.0  Санкт-Петербург           28098.0   \n",
       "4          41.0      0.0  Санкт-Петербург           31856.0   \n",
       "\n",
       "  city_centers_nearest  parks_around3000  parks_nearest  ponds_around3000  \\\n",
       "0              16028.0               1.0          482.0               2.0   \n",
       "1              18603.0               0.0            NaN               0.0   \n",
       "2              13933.0               1.0           90.0               2.0   \n",
       "3               6800.0               2.0           84.0               3.0   \n",
       "4               8098.0               2.0          112.0               1.0   \n",
       "\n",
       "   ponds_nearest  days_exposition  \n",
       "0          755.0              NaN  \n",
       "1            NaN             81.0  \n",
       "2          574.0            558.0  \n",
       "3          234.0            424.0  \n",
       "4           48.0            121.0  \n",
       "\n",
       "[5 rows x 22 columns]"
      ]
     },
     "metadata": {},
     "output_type": "display_data"
    }
   ],
   "source": [
    "#заменим пропущенные значения в столбце 'balcony' на 0\n",
    "data['balcony'] = data['balcony'].fillna(0)\n",
    "display(data.head())"
   ]
  },
  {
   "cell_type": "code",
   "execution_count": 58,
   "metadata": {
    "scrolled": true
   },
   "outputs": [
    {
     "data": {
      "text/html": [
       "<div>\n",
       "<style scoped>\n",
       "    .dataframe tbody tr th:only-of-type {\n",
       "        vertical-align: middle;\n",
       "    }\n",
       "\n",
       "    .dataframe tbody tr th {\n",
       "        vertical-align: top;\n",
       "    }\n",
       "\n",
       "    .dataframe thead th {\n",
       "        text-align: right;\n",
       "    }\n",
       "</style>\n",
       "<table border=\"1\" class=\"dataframe\">\n",
       "  <thead>\n",
       "    <tr style=\"text-align: right;\">\n",
       "      <th></th>\n",
       "      <th>total_images</th>\n",
       "      <th>last_price</th>\n",
       "      <th>total_area</th>\n",
       "      <th>first_day_exposition</th>\n",
       "      <th>rooms</th>\n",
       "      <th>ceiling_height</th>\n",
       "      <th>floors_total</th>\n",
       "      <th>living_area</th>\n",
       "      <th>floor</th>\n",
       "      <th>is_apartment</th>\n",
       "      <th>...</th>\n",
       "      <th>kitchen_area</th>\n",
       "      <th>balcony</th>\n",
       "      <th>locality_name</th>\n",
       "      <th>airports_nearest</th>\n",
       "      <th>city_centers_nearest</th>\n",
       "      <th>parks_around3000</th>\n",
       "      <th>parks_nearest</th>\n",
       "      <th>ponds_around3000</th>\n",
       "      <th>ponds_nearest</th>\n",
       "      <th>days_exposition</th>\n",
       "    </tr>\n",
       "  </thead>\n",
       "  <tbody>\n",
       "    <tr>\n",
       "      <th>0</th>\n",
       "      <td>20</td>\n",
       "      <td>13000000.0</td>\n",
       "      <td>108.0</td>\n",
       "      <td>2019-03-07T00:00:00</td>\n",
       "      <td>3</td>\n",
       "      <td>2.70</td>\n",
       "      <td>16.0</td>\n",
       "      <td>51.0</td>\n",
       "      <td>8</td>\n",
       "      <td>False</td>\n",
       "      <td>...</td>\n",
       "      <td>25.0</td>\n",
       "      <td>0.0</td>\n",
       "      <td>Санкт-Петербург</td>\n",
       "      <td>18863.0</td>\n",
       "      <td>16028.0</td>\n",
       "      <td>1.0</td>\n",
       "      <td>482.0</td>\n",
       "      <td>2.0</td>\n",
       "      <td>755.0</td>\n",
       "      <td>NaN</td>\n",
       "    </tr>\n",
       "    <tr>\n",
       "      <th>1</th>\n",
       "      <td>7</td>\n",
       "      <td>3350000.0</td>\n",
       "      <td>40.4</td>\n",
       "      <td>2018-12-04T00:00:00</td>\n",
       "      <td>1</td>\n",
       "      <td>NaN</td>\n",
       "      <td>11.0</td>\n",
       "      <td>18.6</td>\n",
       "      <td>1</td>\n",
       "      <td>False</td>\n",
       "      <td>...</td>\n",
       "      <td>11.0</td>\n",
       "      <td>2.0</td>\n",
       "      <td>поселок Шушары</td>\n",
       "      <td>12817.0</td>\n",
       "      <td>18603.0</td>\n",
       "      <td>0.0</td>\n",
       "      <td>NaN</td>\n",
       "      <td>0.0</td>\n",
       "      <td>NaN</td>\n",
       "      <td>81.0</td>\n",
       "    </tr>\n",
       "    <tr>\n",
       "      <th>2</th>\n",
       "      <td>10</td>\n",
       "      <td>5196000.0</td>\n",
       "      <td>56.0</td>\n",
       "      <td>2015-08-20T00:00:00</td>\n",
       "      <td>2</td>\n",
       "      <td>NaN</td>\n",
       "      <td>5.0</td>\n",
       "      <td>34.3</td>\n",
       "      <td>4</td>\n",
       "      <td>False</td>\n",
       "      <td>...</td>\n",
       "      <td>8.3</td>\n",
       "      <td>0.0</td>\n",
       "      <td>Санкт-Петербург</td>\n",
       "      <td>21741.0</td>\n",
       "      <td>13933.0</td>\n",
       "      <td>1.0</td>\n",
       "      <td>90.0</td>\n",
       "      <td>2.0</td>\n",
       "      <td>574.0</td>\n",
       "      <td>558.0</td>\n",
       "    </tr>\n",
       "    <tr>\n",
       "      <th>3</th>\n",
       "      <td>0</td>\n",
       "      <td>64900000.0</td>\n",
       "      <td>159.0</td>\n",
       "      <td>2015-07-24T00:00:00</td>\n",
       "      <td>3</td>\n",
       "      <td>NaN</td>\n",
       "      <td>14.0</td>\n",
       "      <td>NaN</td>\n",
       "      <td>9</td>\n",
       "      <td>False</td>\n",
       "      <td>...</td>\n",
       "      <td>NaN</td>\n",
       "      <td>0.0</td>\n",
       "      <td>Санкт-Петербург</td>\n",
       "      <td>28098.0</td>\n",
       "      <td>6800.0</td>\n",
       "      <td>2.0</td>\n",
       "      <td>84.0</td>\n",
       "      <td>3.0</td>\n",
       "      <td>234.0</td>\n",
       "      <td>424.0</td>\n",
       "    </tr>\n",
       "    <tr>\n",
       "      <th>4</th>\n",
       "      <td>2</td>\n",
       "      <td>10000000.0</td>\n",
       "      <td>100.0</td>\n",
       "      <td>2018-06-19T00:00:00</td>\n",
       "      <td>2</td>\n",
       "      <td>3.03</td>\n",
       "      <td>14.0</td>\n",
       "      <td>32.0</td>\n",
       "      <td>13</td>\n",
       "      <td>False</td>\n",
       "      <td>...</td>\n",
       "      <td>41.0</td>\n",
       "      <td>0.0</td>\n",
       "      <td>Санкт-Петербург</td>\n",
       "      <td>31856.0</td>\n",
       "      <td>8098.0</td>\n",
       "      <td>2.0</td>\n",
       "      <td>112.0</td>\n",
       "      <td>1.0</td>\n",
       "      <td>48.0</td>\n",
       "      <td>121.0</td>\n",
       "    </tr>\n",
       "  </tbody>\n",
       "</table>\n",
       "<p>5 rows × 22 columns</p>\n",
       "</div>"
      ],
      "text/plain": [
       "   total_images  last_price  total_area first_day_exposition  rooms  \\\n",
       "0            20  13000000.0       108.0  2019-03-07T00:00:00      3   \n",
       "1             7   3350000.0        40.4  2018-12-04T00:00:00      1   \n",
       "2            10   5196000.0        56.0  2015-08-20T00:00:00      2   \n",
       "3             0  64900000.0       159.0  2015-07-24T00:00:00      3   \n",
       "4             2  10000000.0       100.0  2018-06-19T00:00:00      2   \n",
       "\n",
       "   ceiling_height  floors_total  living_area  floor  is_apartment  ...  \\\n",
       "0            2.70          16.0         51.0      8         False  ...   \n",
       "1             NaN          11.0         18.6      1         False  ...   \n",
       "2             NaN           5.0         34.3      4         False  ...   \n",
       "3             NaN          14.0          NaN      9         False  ...   \n",
       "4            3.03          14.0         32.0     13         False  ...   \n",
       "\n",
       "   kitchen_area  balcony    locality_name  airports_nearest  \\\n",
       "0          25.0      0.0  Санкт-Петербург           18863.0   \n",
       "1          11.0      2.0   поселок Шушары           12817.0   \n",
       "2           8.3      0.0  Санкт-Петербург           21741.0   \n",
       "3           NaN      0.0  Санкт-Петербург           28098.0   \n",
       "4          41.0      0.0  Санкт-Петербург           31856.0   \n",
       "\n",
       "  city_centers_nearest  parks_around3000  parks_nearest  ponds_around3000  \\\n",
       "0              16028.0               1.0          482.0               2.0   \n",
       "1              18603.0               0.0            NaN               0.0   \n",
       "2              13933.0               1.0           90.0               2.0   \n",
       "3               6800.0               2.0           84.0               3.0   \n",
       "4               8098.0               2.0          112.0               1.0   \n",
       "\n",
       "   ponds_nearest  days_exposition  \n",
       "0          755.0              NaN  \n",
       "1            NaN             81.0  \n",
       "2          574.0            558.0  \n",
       "3          234.0            424.0  \n",
       "4           48.0            121.0  \n",
       "\n",
       "[5 rows x 22 columns]"
      ]
     },
     "metadata": {},
     "output_type": "display_data"
    }
   ],
   "source": [
    "#заполним все пропущенные значения в столбце 'is_apartment' на False\n",
    "data['is_apartment'] = data['is_apartment'].fillna(False)\n",
    "display(data.head())"
   ]
  },
  {
   "cell_type": "markdown",
   "metadata": {},
   "source": [
    "**Вывод**"
   ]
  },
  {
   "cell_type": "markdown",
   "metadata": {},
   "source": [
    "- Мы заменили пропущенные значения в столбце 'balcony' на 0, т.к. этому есть логическое объяснение. Мы можем предположить, что человек не указал количество балконов, т.к. их скорее всего нет.\n",
    "- В столбце is_apartment пропущенные значения скорее всего появились из-за того, что клиенты из списка не имеют недвижимости данного класса, поэтому пропустили данный столбец."
   ]
  },
  {
   "cell_type": "markdown",
   "metadata": {},
   "source": [
    "### Оценим долю пропусков в некоторых параметрах."
   ]
  },
  {
   "cell_type": "code",
   "execution_count": 59,
   "metadata": {},
   "outputs": [
    {
     "name": "stdout",
     "output_type": "stream",
     "text": [
      "Доля пропусков в столбце составила: 0.38799105447487237\n"
     ]
    }
   ],
   "source": [
    "#определим количество пропусков в столбце 'ceiling_height'\n",
    "data_height_sort = data['ceiling_height'].isna().sum()\n",
    "#оценим долю пропусков в столбце 'ceiling_height'\n",
    "height_share = data_height_sort/data.shape[0]\n",
    "print('Доля пропусков в столбце составила:', height_share)"
   ]
  },
  {
   "cell_type": "code",
   "execution_count": 60,
   "metadata": {},
   "outputs": [
    {
     "name": "stdout",
     "output_type": "stream",
     "text": [
      "Доля пропусков в столбце составила: 0.13422507278788134\n"
     ]
    }
   ],
   "source": [
    "data_days_exposition_sort = data['days_exposition'].isna().sum()\n",
    "#оценим долю пропусков в столбце 'days_exposition'\n",
    "days_exposition_share = data_days_exposition_sort/data.shape[0]\n",
    "print('Доля пропусков в столбце составила:', days_exposition_share)\n"
   ]
  },
  {
   "cell_type": "code",
   "execution_count": 61,
   "metadata": {},
   "outputs": [
    {
     "name": "stdout",
     "output_type": "stream",
     "text": [
      "Доля пропусков в столбце составила: 0.002067597788936242\n"
     ]
    }
   ],
   "source": [
    "data_locality_name_sort = data['locality_name'].isna().sum()\n",
    "#оценим долю пропусков в столбце 'locality_name'\n",
    "locality_name_share = data_locality_name_sort/data.shape[0]\n",
    "print('Доля пропусков в столбце составила:', locality_name_share)"
   ]
  },
  {
   "cell_type": "markdown",
   "metadata": {},
   "source": [
    "**Вывод**"
   ]
  },
  {
   "cell_type": "markdown",
   "metadata": {},
   "source": [
    "В отличие от столбца 'locality_name', где процент пропущенных значений составил меньше 1%, в столбцах 'ceiling_height' и 'square_meter_price' мы не можем принебречь пропущенными данными."
   ]
  },
  {
   "cell_type": "markdown",
   "metadata": {},
   "source": [
    "### Оценим долю жилой и кухонной площади к общей площади квартиры"
   ]
  },
  {
   "cell_type": "code",
   "execution_count": 62,
   "metadata": {},
   "outputs": [
    {
     "data": {
      "text/plain": [
       "rooms\n",
       "0     0.598522\n",
       "1     0.436401\n",
       "2     0.522114\n",
       "3     0.562421\n",
       "4     0.574455\n",
       "5     0.554754\n",
       "6     0.612783\n",
       "7     0.553775\n",
       "8     0.650701\n",
       "9     0.544080\n",
       "10    0.637858\n",
       "11    0.708841\n",
       "12    0.455222\n",
       "14    0.641519\n",
       "15    0.693220\n",
       "16    0.666667\n",
       "19    0.706086\n",
       "dtype: float64"
      ]
     },
     "metadata": {},
     "output_type": "display_data"
    },
    {
     "data": {
      "text/plain": [
       "rooms\n",
       "0     0.000000\n",
       "1     0.227398\n",
       "2     0.163953\n",
       "3     0.134565\n",
       "4     0.116323\n",
       "5     0.099443\n",
       "6     0.096483\n",
       "7     0.073073\n",
       "8     0.071943\n",
       "9     0.071697\n",
       "10    0.088096\n",
       "11    0.066702\n",
       "12    0.124444\n",
       "14    0.069855\n",
       "15    0.169492\n",
       "16    0.048148\n",
       "19    0.073679\n",
       "dtype: float64"
      ]
     },
     "metadata": {},
     "output_type": "display_data"
    }
   ],
   "source": [
    "#определим суммарную площадь(м2) для каждого числа комнат\n",
    "living_area_sum = data.groupby('rooms')['living_area'].sum() #жилая площадь\n",
    "kitchen_area_sum = data.groupby('rooms')['kitchen_area'].sum() #площадь кухни\n",
    "#определим общую площадь для каждого числа комнат\n",
    "total_area_sum = data.groupby('rooms')['total_area'].sum()\n",
    "#определим долю жилой площади от общей\n",
    "living_area_share = living_area_sum/total_area_sum\n",
    "#определим долю кухонной площади от общей\n",
    "kitchen_area_share = kitchen_area_sum/total_area_sum\n",
    "display(living_area_share)\n",
    "display(kitchen_area_share)"
   ]
  },
  {
   "cell_type": "markdown",
   "metadata": {},
   "source": [
    "**Вывод**"
   ]
  },
  {
   "cell_type": "markdown",
   "metadata": {},
   "source": [
    "Исходя из полученных данных мы можем сделать вывод о том, что площадь кухни много меньше жилой площади квартиры. Также из полученных данных мы можем сделать вывод о том, что в данных столбцах присутсвуют выбросы, которые могут повлиять на результаты анализа данных. "
   ]
  },
  {
   "cell_type": "markdown",
   "metadata": {},
   "source": [
    "**Вывод**"
   ]
  },
  {
   "cell_type": "markdown",
   "metadata": {},
   "source": [
    "Зная количество пропущенных значений в каждом столбце мы можем сделать вывод о том, что в столбцах \"удаленность от центра\" и \"удаленность от аэропорта\" сожержится большое количество уникальных значений. Существуют строки в которых оба этих значения отсутствуют, а значит, мы не сможем заполнить пропщенных данные. Также мы можем предположить, что неизвестные значения в столбце \"days_exposition\" может говорить о том, что квартира так и не была продана. Соответсвенно удалять данные строки мы не можем, т.к. потеряются многие значения и заполнять пропущенные значения другим значением, тоже не стоит, т.к. это исказит действительность."
   ]
  },
  {
   "cell_type": "markdown",
   "metadata": {},
   "source": [
    "### Приведем данные к нужным типам"
   ]
  },
  {
   "cell_type": "code",
   "execution_count": 63,
   "metadata": {},
   "outputs": [
    {
     "name": "stdout",
     "output_type": "stream",
     "text": [
      "<class 'pandas.core.frame.DataFrame'>\n",
      "RangeIndex: 23699 entries, 0 to 23698\n",
      "Data columns (total 22 columns):\n",
      " #   Column                Non-Null Count  Dtype  \n",
      "---  ------                --------------  -----  \n",
      " 0   total_images          23699 non-null  int64  \n",
      " 1   last_price            23699 non-null  float64\n",
      " 2   total_area            23699 non-null  float64\n",
      " 3   first_day_exposition  23699 non-null  object \n",
      " 4   rooms                 23699 non-null  int64  \n",
      " 5   ceiling_height        14504 non-null  float64\n",
      " 6   floors_total          23613 non-null  float64\n",
      " 7   living_area           21796 non-null  float64\n",
      " 8   floor                 23699 non-null  int64  \n",
      " 9   is_apartment          23699 non-null  bool   \n",
      " 10  studio                23699 non-null  bool   \n",
      " 11  open_plan             23699 non-null  bool   \n",
      " 12  kitchen_area          21421 non-null  float64\n",
      " 13  balcony               23699 non-null  float64\n",
      " 14  locality_name         23650 non-null  object \n",
      " 15  airports_nearest      18157 non-null  float64\n",
      " 16  city_centers_nearest  18180 non-null  float64\n",
      " 17  parks_around3000      18181 non-null  float64\n",
      " 18  parks_nearest         8079 non-null   float64\n",
      " 19  ponds_around3000      18181 non-null  float64\n",
      " 20  ponds_nearest         9110 non-null   float64\n",
      " 21  days_exposition       20518 non-null  float64\n",
      "dtypes: bool(3), float64(14), int64(3), object(2)\n",
      "memory usage: 3.5+ MB\n"
     ]
    }
   ],
   "source": [
    "#определим к какому типу данных относится каждый столбец\n",
    "data.info()"
   ]
  },
  {
   "cell_type": "code",
   "execution_count": 64,
   "metadata": {},
   "outputs": [
    {
     "data": {
      "text/plain": [
       "False    23649\n",
       "True        50\n",
       "Name: is_apartment, dtype: int64"
      ]
     },
     "metadata": {},
     "output_type": "display_data"
    },
    {
     "name": "stdout",
     "output_type": "stream",
     "text": [
      "<class 'pandas.core.frame.DataFrame'>\n",
      "RangeIndex: 23699 entries, 0 to 23698\n",
      "Data columns (total 22 columns):\n",
      " #   Column                Non-Null Count  Dtype         \n",
      "---  ------                --------------  -----         \n",
      " 0   total_images          23699 non-null  int64         \n",
      " 1   last_price            23699 non-null  float64       \n",
      " 2   total_area            23699 non-null  float64       \n",
      " 3   first_day_exposition  23699 non-null  datetime64[ns]\n",
      " 4   rooms                 23699 non-null  int64         \n",
      " 5   ceiling_height        14504 non-null  float64       \n",
      " 6   floors_total          23613 non-null  float64       \n",
      " 7   living_area           21796 non-null  float64       \n",
      " 8   floor                 23699 non-null  int64         \n",
      " 9   is_apartment          23699 non-null  bool          \n",
      " 10  studio                23699 non-null  bool          \n",
      " 11  open_plan             23699 non-null  bool          \n",
      " 12  kitchen_area          21421 non-null  float64       \n",
      " 13  balcony               23699 non-null  float64       \n",
      " 14  locality_name         23650 non-null  object        \n",
      " 15  airports_nearest      18157 non-null  float64       \n",
      " 16  city_centers_nearest  18180 non-null  float64       \n",
      " 17  parks_around3000      18181 non-null  float64       \n",
      " 18  parks_nearest         8079 non-null   float64       \n",
      " 19  ponds_around3000      18181 non-null  float64       \n",
      " 20  ponds_nearest         9110 non-null   float64       \n",
      " 21  days_exposition       20518 non-null  float64       \n",
      "dtypes: bool(3), datetime64[ns](1), float64(14), int64(3), object(1)\n",
      "memory usage: 3.5+ MB\n"
     ]
    }
   ],
   "source": [
    "#заменим тип данных object в столбце 'first_day_exposition' в формат datetime64\n",
    "data['first_day_exposition'] = pd.to_datetime(\n",
    "    data['first_day_exposition'], format='%Y-%m-%dT%H:%M:%S'\n",
    ")\n",
    "#опеределим уникальные значения и количество их упоминаний для столбца 'is_apartment' \n",
    "display(data['is_apartment'].value_counts())\n",
    "#заменим тип данных object на тип данных bool в столбце 'is_apartment'\n",
    "data['is_apartment'] = data['is_apartment'].astype('bool')\n",
    "#проверим внесены ли изменения\n",
    "data.info()"
   ]
  },
  {
   "cell_type": "markdown",
   "metadata": {},
   "source": [
    "**Вывод**"
   ]
  },
  {
   "cell_type": "markdown",
   "metadata": {},
   "source": [
    "Мы изменили тип данных столбца 'first_day_exposition', т.к. все данные в нем имеют значения времени. Изначально, тип данных столбца был object. Можно предположить, что это произошло в результате того, что данные не подходили ни под один другой тип. С помощью метода to_datetime() мы превратили содержимое этого столбца в понятные для Python даты и тип данных автоматически стал datetime64. Так же мы изменили тип данных столбца 'is_apartment'. Как мы знаем из базового курса, часто имена переменных с булевыми значениями начинают с is_. Это как раз такой случай. Для проверки данного утверждения мы применили метод value_counts(). В результате мы увидели только два значения: True и False. Данные значения также присущи типу данных bool."
   ]
  },
  {
   "cell_type": "markdown",
   "metadata": {},
   "source": [
    "## Расчёты и добавление результатов в таблицу"
   ]
  },
  {
   "cell_type": "code",
   "execution_count": 65,
   "metadata": {
    "scrolled": true
   },
   "outputs": [
    {
     "data": {
      "text/html": [
       "<div>\n",
       "<style scoped>\n",
       "    .dataframe tbody tr th:only-of-type {\n",
       "        vertical-align: middle;\n",
       "    }\n",
       "\n",
       "    .dataframe tbody tr th {\n",
       "        vertical-align: top;\n",
       "    }\n",
       "\n",
       "    .dataframe thead th {\n",
       "        text-align: right;\n",
       "    }\n",
       "</style>\n",
       "<table border=\"1\" class=\"dataframe\">\n",
       "  <thead>\n",
       "    <tr style=\"text-align: right;\">\n",
       "      <th></th>\n",
       "      <th>total_images</th>\n",
       "      <th>last_price</th>\n",
       "      <th>total_area</th>\n",
       "      <th>first_day_exposition</th>\n",
       "      <th>rooms</th>\n",
       "      <th>ceiling_height</th>\n",
       "      <th>floors_total</th>\n",
       "      <th>living_area</th>\n",
       "      <th>floor</th>\n",
       "      <th>is_apartment</th>\n",
       "      <th>...</th>\n",
       "      <th>balcony</th>\n",
       "      <th>locality_name</th>\n",
       "      <th>airports_nearest</th>\n",
       "      <th>city_centers_nearest</th>\n",
       "      <th>parks_around3000</th>\n",
       "      <th>parks_nearest</th>\n",
       "      <th>ponds_around3000</th>\n",
       "      <th>ponds_nearest</th>\n",
       "      <th>days_exposition</th>\n",
       "      <th>square_meter_price</th>\n",
       "    </tr>\n",
       "  </thead>\n",
       "  <tbody>\n",
       "    <tr>\n",
       "      <th>0</th>\n",
       "      <td>20</td>\n",
       "      <td>13000000.0</td>\n",
       "      <td>108.0</td>\n",
       "      <td>2019-03-07</td>\n",
       "      <td>3</td>\n",
       "      <td>2.70</td>\n",
       "      <td>16.0</td>\n",
       "      <td>51.0</td>\n",
       "      <td>8</td>\n",
       "      <td>False</td>\n",
       "      <td>...</td>\n",
       "      <td>0.0</td>\n",
       "      <td>Санкт-Петербург</td>\n",
       "      <td>18863.0</td>\n",
       "      <td>16028.0</td>\n",
       "      <td>1.0</td>\n",
       "      <td>482.0</td>\n",
       "      <td>2.0</td>\n",
       "      <td>755.0</td>\n",
       "      <td>NaN</td>\n",
       "      <td>254901.960784</td>\n",
       "    </tr>\n",
       "    <tr>\n",
       "      <th>1</th>\n",
       "      <td>7</td>\n",
       "      <td>3350000.0</td>\n",
       "      <td>40.4</td>\n",
       "      <td>2018-12-04</td>\n",
       "      <td>1</td>\n",
       "      <td>NaN</td>\n",
       "      <td>11.0</td>\n",
       "      <td>18.6</td>\n",
       "      <td>1</td>\n",
       "      <td>False</td>\n",
       "      <td>...</td>\n",
       "      <td>2.0</td>\n",
       "      <td>поселок Шушары</td>\n",
       "      <td>12817.0</td>\n",
       "      <td>18603.0</td>\n",
       "      <td>0.0</td>\n",
       "      <td>NaN</td>\n",
       "      <td>0.0</td>\n",
       "      <td>NaN</td>\n",
       "      <td>81.0</td>\n",
       "      <td>180107.526882</td>\n",
       "    </tr>\n",
       "    <tr>\n",
       "      <th>2</th>\n",
       "      <td>10</td>\n",
       "      <td>5196000.0</td>\n",
       "      <td>56.0</td>\n",
       "      <td>2015-08-20</td>\n",
       "      <td>2</td>\n",
       "      <td>NaN</td>\n",
       "      <td>5.0</td>\n",
       "      <td>34.3</td>\n",
       "      <td>4</td>\n",
       "      <td>False</td>\n",
       "      <td>...</td>\n",
       "      <td>0.0</td>\n",
       "      <td>Санкт-Петербург</td>\n",
       "      <td>21741.0</td>\n",
       "      <td>13933.0</td>\n",
       "      <td>1.0</td>\n",
       "      <td>90.0</td>\n",
       "      <td>2.0</td>\n",
       "      <td>574.0</td>\n",
       "      <td>558.0</td>\n",
       "      <td>151486.880466</td>\n",
       "    </tr>\n",
       "    <tr>\n",
       "      <th>3</th>\n",
       "      <td>0</td>\n",
       "      <td>64900000.0</td>\n",
       "      <td>159.0</td>\n",
       "      <td>2015-07-24</td>\n",
       "      <td>3</td>\n",
       "      <td>NaN</td>\n",
       "      <td>14.0</td>\n",
       "      <td>NaN</td>\n",
       "      <td>9</td>\n",
       "      <td>False</td>\n",
       "      <td>...</td>\n",
       "      <td>0.0</td>\n",
       "      <td>Санкт-Петербург</td>\n",
       "      <td>28098.0</td>\n",
       "      <td>6800.0</td>\n",
       "      <td>2.0</td>\n",
       "      <td>84.0</td>\n",
       "      <td>3.0</td>\n",
       "      <td>234.0</td>\n",
       "      <td>424.0</td>\n",
       "      <td>NaN</td>\n",
       "    </tr>\n",
       "    <tr>\n",
       "      <th>4</th>\n",
       "      <td>2</td>\n",
       "      <td>10000000.0</td>\n",
       "      <td>100.0</td>\n",
       "      <td>2018-06-19</td>\n",
       "      <td>2</td>\n",
       "      <td>3.03</td>\n",
       "      <td>14.0</td>\n",
       "      <td>32.0</td>\n",
       "      <td>13</td>\n",
       "      <td>False</td>\n",
       "      <td>...</td>\n",
       "      <td>0.0</td>\n",
       "      <td>Санкт-Петербург</td>\n",
       "      <td>31856.0</td>\n",
       "      <td>8098.0</td>\n",
       "      <td>2.0</td>\n",
       "      <td>112.0</td>\n",
       "      <td>1.0</td>\n",
       "      <td>48.0</td>\n",
       "      <td>121.0</td>\n",
       "      <td>312500.000000</td>\n",
       "    </tr>\n",
       "  </tbody>\n",
       "</table>\n",
       "<p>5 rows × 23 columns</p>\n",
       "</div>"
      ],
      "text/plain": [
       "   total_images  last_price  total_area first_day_exposition  rooms  \\\n",
       "0            20  13000000.0       108.0           2019-03-07      3   \n",
       "1             7   3350000.0        40.4           2018-12-04      1   \n",
       "2            10   5196000.0        56.0           2015-08-20      2   \n",
       "3             0  64900000.0       159.0           2015-07-24      3   \n",
       "4             2  10000000.0       100.0           2018-06-19      2   \n",
       "\n",
       "   ceiling_height  floors_total  living_area  floor  is_apartment  ...  \\\n",
       "0            2.70          16.0         51.0      8         False  ...   \n",
       "1             NaN          11.0         18.6      1         False  ...   \n",
       "2             NaN           5.0         34.3      4         False  ...   \n",
       "3             NaN          14.0          NaN      9         False  ...   \n",
       "4            3.03          14.0         32.0     13         False  ...   \n",
       "\n",
       "   balcony    locality_name  airports_nearest  city_centers_nearest  \\\n",
       "0      0.0  Санкт-Петербург           18863.0               16028.0   \n",
       "1      2.0   поселок Шушары           12817.0               18603.0   \n",
       "2      0.0  Санкт-Петербург           21741.0               13933.0   \n",
       "3      0.0  Санкт-Петербург           28098.0                6800.0   \n",
       "4      0.0  Санкт-Петербург           31856.0                8098.0   \n",
       "\n",
       "  parks_around3000  parks_nearest  ponds_around3000  ponds_nearest  \\\n",
       "0              1.0          482.0               2.0          755.0   \n",
       "1              0.0            NaN               0.0            NaN   \n",
       "2              1.0           90.0               2.0          574.0   \n",
       "3              2.0           84.0               3.0          234.0   \n",
       "4              2.0          112.0               1.0           48.0   \n",
       "\n",
       "   days_exposition  square_meter_price  \n",
       "0              NaN       254901.960784  \n",
       "1             81.0       180107.526882  \n",
       "2            558.0       151486.880466  \n",
       "3            424.0                 NaN  \n",
       "4            121.0       312500.000000  \n",
       "\n",
       "[5 rows x 23 columns]"
      ]
     },
     "metadata": {},
     "output_type": "display_data"
    }
   ],
   "source": [
    "# создадим столбец 'square_meter_price' и определим цену квадратного метра\n",
    "data['square_meter_price'] = data['last_price']/data['living_area']\n",
    "display(data.head())"
   ]
  },
  {
   "cell_type": "code",
   "execution_count": 66,
   "metadata": {},
   "outputs": [
    {
     "data": {
      "text/html": [
       "<div>\n",
       "<style scoped>\n",
       "    .dataframe tbody tr th:only-of-type {\n",
       "        vertical-align: middle;\n",
       "    }\n",
       "\n",
       "    .dataframe tbody tr th {\n",
       "        vertical-align: top;\n",
       "    }\n",
       "\n",
       "    .dataframe thead th {\n",
       "        text-align: right;\n",
       "    }\n",
       "</style>\n",
       "<table border=\"1\" class=\"dataframe\">\n",
       "  <thead>\n",
       "    <tr style=\"text-align: right;\">\n",
       "      <th></th>\n",
       "      <th>total_images</th>\n",
       "      <th>last_price</th>\n",
       "      <th>total_area</th>\n",
       "      <th>first_day_exposition</th>\n",
       "      <th>rooms</th>\n",
       "      <th>ceiling_height</th>\n",
       "      <th>floors_total</th>\n",
       "      <th>living_area</th>\n",
       "      <th>floor</th>\n",
       "      <th>is_apartment</th>\n",
       "      <th>...</th>\n",
       "      <th>city_centers_nearest</th>\n",
       "      <th>parks_around3000</th>\n",
       "      <th>parks_nearest</th>\n",
       "      <th>ponds_around3000</th>\n",
       "      <th>ponds_nearest</th>\n",
       "      <th>days_exposition</th>\n",
       "      <th>square_meter_price</th>\n",
       "      <th>weekday</th>\n",
       "      <th>month</th>\n",
       "      <th>year</th>\n",
       "    </tr>\n",
       "  </thead>\n",
       "  <tbody>\n",
       "    <tr>\n",
       "      <th>0</th>\n",
       "      <td>20</td>\n",
       "      <td>13000000.0</td>\n",
       "      <td>108.0</td>\n",
       "      <td>2019-03-07</td>\n",
       "      <td>3</td>\n",
       "      <td>2.70</td>\n",
       "      <td>16.0</td>\n",
       "      <td>51.0</td>\n",
       "      <td>8</td>\n",
       "      <td>False</td>\n",
       "      <td>...</td>\n",
       "      <td>16028.0</td>\n",
       "      <td>1.0</td>\n",
       "      <td>482.0</td>\n",
       "      <td>2.0</td>\n",
       "      <td>755.0</td>\n",
       "      <td>NaN</td>\n",
       "      <td>254901.960784</td>\n",
       "      <td>3</td>\n",
       "      <td>3</td>\n",
       "      <td>2019</td>\n",
       "    </tr>\n",
       "    <tr>\n",
       "      <th>1</th>\n",
       "      <td>7</td>\n",
       "      <td>3350000.0</td>\n",
       "      <td>40.4</td>\n",
       "      <td>2018-12-04</td>\n",
       "      <td>1</td>\n",
       "      <td>NaN</td>\n",
       "      <td>11.0</td>\n",
       "      <td>18.6</td>\n",
       "      <td>1</td>\n",
       "      <td>False</td>\n",
       "      <td>...</td>\n",
       "      <td>18603.0</td>\n",
       "      <td>0.0</td>\n",
       "      <td>NaN</td>\n",
       "      <td>0.0</td>\n",
       "      <td>NaN</td>\n",
       "      <td>81.0</td>\n",
       "      <td>180107.526882</td>\n",
       "      <td>1</td>\n",
       "      <td>12</td>\n",
       "      <td>2018</td>\n",
       "    </tr>\n",
       "    <tr>\n",
       "      <th>2</th>\n",
       "      <td>10</td>\n",
       "      <td>5196000.0</td>\n",
       "      <td>56.0</td>\n",
       "      <td>2015-08-20</td>\n",
       "      <td>2</td>\n",
       "      <td>NaN</td>\n",
       "      <td>5.0</td>\n",
       "      <td>34.3</td>\n",
       "      <td>4</td>\n",
       "      <td>False</td>\n",
       "      <td>...</td>\n",
       "      <td>13933.0</td>\n",
       "      <td>1.0</td>\n",
       "      <td>90.0</td>\n",
       "      <td>2.0</td>\n",
       "      <td>574.0</td>\n",
       "      <td>558.0</td>\n",
       "      <td>151486.880466</td>\n",
       "      <td>3</td>\n",
       "      <td>8</td>\n",
       "      <td>2015</td>\n",
       "    </tr>\n",
       "    <tr>\n",
       "      <th>3</th>\n",
       "      <td>0</td>\n",
       "      <td>64900000.0</td>\n",
       "      <td>159.0</td>\n",
       "      <td>2015-07-24</td>\n",
       "      <td>3</td>\n",
       "      <td>NaN</td>\n",
       "      <td>14.0</td>\n",
       "      <td>NaN</td>\n",
       "      <td>9</td>\n",
       "      <td>False</td>\n",
       "      <td>...</td>\n",
       "      <td>6800.0</td>\n",
       "      <td>2.0</td>\n",
       "      <td>84.0</td>\n",
       "      <td>3.0</td>\n",
       "      <td>234.0</td>\n",
       "      <td>424.0</td>\n",
       "      <td>NaN</td>\n",
       "      <td>4</td>\n",
       "      <td>7</td>\n",
       "      <td>2015</td>\n",
       "    </tr>\n",
       "    <tr>\n",
       "      <th>4</th>\n",
       "      <td>2</td>\n",
       "      <td>10000000.0</td>\n",
       "      <td>100.0</td>\n",
       "      <td>2018-06-19</td>\n",
       "      <td>2</td>\n",
       "      <td>3.03</td>\n",
       "      <td>14.0</td>\n",
       "      <td>32.0</td>\n",
       "      <td>13</td>\n",
       "      <td>False</td>\n",
       "      <td>...</td>\n",
       "      <td>8098.0</td>\n",
       "      <td>2.0</td>\n",
       "      <td>112.0</td>\n",
       "      <td>1.0</td>\n",
       "      <td>48.0</td>\n",
       "      <td>121.0</td>\n",
       "      <td>312500.000000</td>\n",
       "      <td>1</td>\n",
       "      <td>6</td>\n",
       "      <td>2018</td>\n",
       "    </tr>\n",
       "  </tbody>\n",
       "</table>\n",
       "<p>5 rows × 26 columns</p>\n",
       "</div>"
      ],
      "text/plain": [
       "   total_images  last_price  total_area first_day_exposition  rooms  \\\n",
       "0            20  13000000.0       108.0           2019-03-07      3   \n",
       "1             7   3350000.0        40.4           2018-12-04      1   \n",
       "2            10   5196000.0        56.0           2015-08-20      2   \n",
       "3             0  64900000.0       159.0           2015-07-24      3   \n",
       "4             2  10000000.0       100.0           2018-06-19      2   \n",
       "\n",
       "   ceiling_height  floors_total  living_area  floor  is_apartment  ...  \\\n",
       "0            2.70          16.0         51.0      8         False  ...   \n",
       "1             NaN          11.0         18.6      1         False  ...   \n",
       "2             NaN           5.0         34.3      4         False  ...   \n",
       "3             NaN          14.0          NaN      9         False  ...   \n",
       "4            3.03          14.0         32.0     13         False  ...   \n",
       "\n",
       "   city_centers_nearest  parks_around3000  parks_nearest  ponds_around3000  \\\n",
       "0               16028.0               1.0          482.0               2.0   \n",
       "1               18603.0               0.0            NaN               0.0   \n",
       "2               13933.0               1.0           90.0               2.0   \n",
       "3                6800.0               2.0           84.0               3.0   \n",
       "4                8098.0               2.0          112.0               1.0   \n",
       "\n",
       "  ponds_nearest  days_exposition  square_meter_price  weekday  month  year  \n",
       "0         755.0              NaN       254901.960784        3      3  2019  \n",
       "1           NaN             81.0       180107.526882        1     12  2018  \n",
       "2         574.0            558.0       151486.880466        3      8  2015  \n",
       "3         234.0            424.0                 NaN        4      7  2015  \n",
       "4          48.0            121.0       312500.000000        1      6  2018  \n",
       "\n",
       "[5 rows x 26 columns]"
      ]
     },
     "metadata": {},
     "output_type": "display_data"
    }
   ],
   "source": [
    "# создадим столбец день недели 'weekday'\n",
    "data['weekday'] = data['first_day_exposition'].dt.weekday\n",
    "\n",
    "#создадим столбец месяц 'month' \n",
    "data['month'] = data['first_day_exposition'].dt.month\n",
    "\n",
    "#год публикации объявления 'year'\n",
    "data['year'] = data['first_day_exposition'].dt.year\n",
    "\n",
    "display(data.head())"
   ]
  },
  {
   "cell_type": "code",
   "execution_count": 67,
   "metadata": {
    "scrolled": true
   },
   "outputs": [
    {
     "data": {
      "text/plain": [
       "другой       20781\n",
       "первый        2917\n",
       "последний        1\n",
       "Name: status_floor, dtype: int64"
      ]
     },
     "metadata": {},
     "output_type": "display_data"
    },
    {
     "data": {
      "text/html": [
       "<div>\n",
       "<style scoped>\n",
       "    .dataframe tbody tr th:only-of-type {\n",
       "        vertical-align: middle;\n",
       "    }\n",
       "\n",
       "    .dataframe tbody tr th {\n",
       "        vertical-align: top;\n",
       "    }\n",
       "\n",
       "    .dataframe thead th {\n",
       "        text-align: right;\n",
       "    }\n",
       "</style>\n",
       "<table border=\"1\" class=\"dataframe\">\n",
       "  <thead>\n",
       "    <tr style=\"text-align: right;\">\n",
       "      <th></th>\n",
       "      <th>total_images</th>\n",
       "      <th>last_price</th>\n",
       "      <th>total_area</th>\n",
       "      <th>first_day_exposition</th>\n",
       "      <th>rooms</th>\n",
       "      <th>ceiling_height</th>\n",
       "      <th>floors_total</th>\n",
       "      <th>living_area</th>\n",
       "      <th>floor</th>\n",
       "      <th>is_apartment</th>\n",
       "      <th>...</th>\n",
       "      <th>parks_around3000</th>\n",
       "      <th>parks_nearest</th>\n",
       "      <th>ponds_around3000</th>\n",
       "      <th>ponds_nearest</th>\n",
       "      <th>days_exposition</th>\n",
       "      <th>square_meter_price</th>\n",
       "      <th>weekday</th>\n",
       "      <th>month</th>\n",
       "      <th>year</th>\n",
       "      <th>status_floor</th>\n",
       "    </tr>\n",
       "  </thead>\n",
       "  <tbody>\n",
       "    <tr>\n",
       "      <th>0</th>\n",
       "      <td>20</td>\n",
       "      <td>13000000.0</td>\n",
       "      <td>108.0</td>\n",
       "      <td>2019-03-07</td>\n",
       "      <td>3</td>\n",
       "      <td>2.70</td>\n",
       "      <td>16.0</td>\n",
       "      <td>51.0</td>\n",
       "      <td>8</td>\n",
       "      <td>False</td>\n",
       "      <td>...</td>\n",
       "      <td>1.0</td>\n",
       "      <td>482.0</td>\n",
       "      <td>2.0</td>\n",
       "      <td>755.0</td>\n",
       "      <td>NaN</td>\n",
       "      <td>254901.960784</td>\n",
       "      <td>3</td>\n",
       "      <td>3</td>\n",
       "      <td>2019</td>\n",
       "      <td>другой</td>\n",
       "    </tr>\n",
       "    <tr>\n",
       "      <th>1</th>\n",
       "      <td>7</td>\n",
       "      <td>3350000.0</td>\n",
       "      <td>40.4</td>\n",
       "      <td>2018-12-04</td>\n",
       "      <td>1</td>\n",
       "      <td>NaN</td>\n",
       "      <td>11.0</td>\n",
       "      <td>18.6</td>\n",
       "      <td>1</td>\n",
       "      <td>False</td>\n",
       "      <td>...</td>\n",
       "      <td>0.0</td>\n",
       "      <td>NaN</td>\n",
       "      <td>0.0</td>\n",
       "      <td>NaN</td>\n",
       "      <td>81.0</td>\n",
       "      <td>180107.526882</td>\n",
       "      <td>1</td>\n",
       "      <td>12</td>\n",
       "      <td>2018</td>\n",
       "      <td>первый</td>\n",
       "    </tr>\n",
       "    <tr>\n",
       "      <th>2</th>\n",
       "      <td>10</td>\n",
       "      <td>5196000.0</td>\n",
       "      <td>56.0</td>\n",
       "      <td>2015-08-20</td>\n",
       "      <td>2</td>\n",
       "      <td>NaN</td>\n",
       "      <td>5.0</td>\n",
       "      <td>34.3</td>\n",
       "      <td>4</td>\n",
       "      <td>False</td>\n",
       "      <td>...</td>\n",
       "      <td>1.0</td>\n",
       "      <td>90.0</td>\n",
       "      <td>2.0</td>\n",
       "      <td>574.0</td>\n",
       "      <td>558.0</td>\n",
       "      <td>151486.880466</td>\n",
       "      <td>3</td>\n",
       "      <td>8</td>\n",
       "      <td>2015</td>\n",
       "      <td>другой</td>\n",
       "    </tr>\n",
       "    <tr>\n",
       "      <th>3</th>\n",
       "      <td>0</td>\n",
       "      <td>64900000.0</td>\n",
       "      <td>159.0</td>\n",
       "      <td>2015-07-24</td>\n",
       "      <td>3</td>\n",
       "      <td>NaN</td>\n",
       "      <td>14.0</td>\n",
       "      <td>NaN</td>\n",
       "      <td>9</td>\n",
       "      <td>False</td>\n",
       "      <td>...</td>\n",
       "      <td>2.0</td>\n",
       "      <td>84.0</td>\n",
       "      <td>3.0</td>\n",
       "      <td>234.0</td>\n",
       "      <td>424.0</td>\n",
       "      <td>NaN</td>\n",
       "      <td>4</td>\n",
       "      <td>7</td>\n",
       "      <td>2015</td>\n",
       "      <td>другой</td>\n",
       "    </tr>\n",
       "    <tr>\n",
       "      <th>4</th>\n",
       "      <td>2</td>\n",
       "      <td>10000000.0</td>\n",
       "      <td>100.0</td>\n",
       "      <td>2018-06-19</td>\n",
       "      <td>2</td>\n",
       "      <td>3.03</td>\n",
       "      <td>14.0</td>\n",
       "      <td>32.0</td>\n",
       "      <td>13</td>\n",
       "      <td>False</td>\n",
       "      <td>...</td>\n",
       "      <td>2.0</td>\n",
       "      <td>112.0</td>\n",
       "      <td>1.0</td>\n",
       "      <td>48.0</td>\n",
       "      <td>121.0</td>\n",
       "      <td>312500.000000</td>\n",
       "      <td>1</td>\n",
       "      <td>6</td>\n",
       "      <td>2018</td>\n",
       "      <td>другой</td>\n",
       "    </tr>\n",
       "  </tbody>\n",
       "</table>\n",
       "<p>5 rows × 27 columns</p>\n",
       "</div>"
      ],
      "text/plain": [
       "   total_images  last_price  total_area first_day_exposition  rooms  \\\n",
       "0            20  13000000.0       108.0           2019-03-07      3   \n",
       "1             7   3350000.0        40.4           2018-12-04      1   \n",
       "2            10   5196000.0        56.0           2015-08-20      2   \n",
       "3             0  64900000.0       159.0           2015-07-24      3   \n",
       "4             2  10000000.0       100.0           2018-06-19      2   \n",
       "\n",
       "   ceiling_height  floors_total  living_area  floor  is_apartment  ...  \\\n",
       "0            2.70          16.0         51.0      8         False  ...   \n",
       "1             NaN          11.0         18.6      1         False  ...   \n",
       "2             NaN           5.0         34.3      4         False  ...   \n",
       "3             NaN          14.0          NaN      9         False  ...   \n",
       "4            3.03          14.0         32.0     13         False  ...   \n",
       "\n",
       "   parks_around3000  parks_nearest  ponds_around3000  ponds_nearest  \\\n",
       "0               1.0          482.0               2.0          755.0   \n",
       "1               0.0            NaN               0.0            NaN   \n",
       "2               1.0           90.0               2.0          574.0   \n",
       "3               2.0           84.0               3.0          234.0   \n",
       "4               2.0          112.0               1.0           48.0   \n",
       "\n",
       "  days_exposition  square_meter_price  weekday  month  year  status_floor  \n",
       "0             NaN       254901.960784        3      3  2019        другой  \n",
       "1            81.0       180107.526882        1     12  2018        первый  \n",
       "2           558.0       151486.880466        3      8  2015        другой  \n",
       "3           424.0                 NaN        4      7  2015        другой  \n",
       "4           121.0       312500.000000        1      6  2018        другой  \n",
       "\n",
       "[5 rows x 27 columns]"
      ]
     },
     "metadata": {},
     "output_type": "display_data"
    }
   ],
   "source": [
    "#этаж квартиры; варианты — первый, последний, другой\n",
    "#создадим функцию которая будет выводить категорию этажа квартиры\n",
    "def status_floor(level):\n",
    "    if level == 1:\n",
    "        return 'первый'\n",
    "    if level == 33:\n",
    "        return 'последний'\n",
    "    return 'другой'\n",
    "#применим метод apply для применения функции ко всем значениям стоблца\n",
    "data['status_floor'] = data['floor'].apply(status_floor)\n",
    "#выведем статистику по группе методом value_counts()\n",
    "display(data['status_floor'].value_counts())\n",
    "display(data.head())\n"
   ]
  },
  {
   "cell_type": "code",
   "execution_count": 68,
   "metadata": {},
   "outputs": [
    {
     "data": {
      "text/html": [
       "<div>\n",
       "<style scoped>\n",
       "    .dataframe tbody tr th:only-of-type {\n",
       "        vertical-align: middle;\n",
       "    }\n",
       "\n",
       "    .dataframe tbody tr th {\n",
       "        vertical-align: top;\n",
       "    }\n",
       "\n",
       "    .dataframe thead th {\n",
       "        text-align: right;\n",
       "    }\n",
       "</style>\n",
       "<table border=\"1\" class=\"dataframe\">\n",
       "  <thead>\n",
       "    <tr style=\"text-align: right;\">\n",
       "      <th></th>\n",
       "      <th>total_images</th>\n",
       "      <th>last_price</th>\n",
       "      <th>total_area</th>\n",
       "      <th>first_day_exposition</th>\n",
       "      <th>rooms</th>\n",
       "      <th>ceiling_height</th>\n",
       "      <th>floors_total</th>\n",
       "      <th>living_area</th>\n",
       "      <th>floor</th>\n",
       "      <th>is_apartment</th>\n",
       "      <th>...</th>\n",
       "      <th>ponds_around3000</th>\n",
       "      <th>ponds_nearest</th>\n",
       "      <th>days_exposition</th>\n",
       "      <th>square_meter_price</th>\n",
       "      <th>weekday</th>\n",
       "      <th>month</th>\n",
       "      <th>year</th>\n",
       "      <th>status_floor</th>\n",
       "      <th>living_conversion</th>\n",
       "      <th>kitchen_conversion</th>\n",
       "    </tr>\n",
       "  </thead>\n",
       "  <tbody>\n",
       "    <tr>\n",
       "      <th>0</th>\n",
       "      <td>20</td>\n",
       "      <td>13000000.0</td>\n",
       "      <td>108.0</td>\n",
       "      <td>2019-03-07</td>\n",
       "      <td>3</td>\n",
       "      <td>2.70</td>\n",
       "      <td>16.0</td>\n",
       "      <td>51.0</td>\n",
       "      <td>8</td>\n",
       "      <td>False</td>\n",
       "      <td>...</td>\n",
       "      <td>2.0</td>\n",
       "      <td>755.0</td>\n",
       "      <td>NaN</td>\n",
       "      <td>254901.960784</td>\n",
       "      <td>3</td>\n",
       "      <td>3</td>\n",
       "      <td>2019</td>\n",
       "      <td>другой</td>\n",
       "      <td>0.472222</td>\n",
       "      <td>0.231481</td>\n",
       "    </tr>\n",
       "    <tr>\n",
       "      <th>1</th>\n",
       "      <td>7</td>\n",
       "      <td>3350000.0</td>\n",
       "      <td>40.4</td>\n",
       "      <td>2018-12-04</td>\n",
       "      <td>1</td>\n",
       "      <td>NaN</td>\n",
       "      <td>11.0</td>\n",
       "      <td>18.6</td>\n",
       "      <td>1</td>\n",
       "      <td>False</td>\n",
       "      <td>...</td>\n",
       "      <td>0.0</td>\n",
       "      <td>NaN</td>\n",
       "      <td>81.0</td>\n",
       "      <td>180107.526882</td>\n",
       "      <td>1</td>\n",
       "      <td>12</td>\n",
       "      <td>2018</td>\n",
       "      <td>первый</td>\n",
       "      <td>0.460396</td>\n",
       "      <td>0.272277</td>\n",
       "    </tr>\n",
       "    <tr>\n",
       "      <th>2</th>\n",
       "      <td>10</td>\n",
       "      <td>5196000.0</td>\n",
       "      <td>56.0</td>\n",
       "      <td>2015-08-20</td>\n",
       "      <td>2</td>\n",
       "      <td>NaN</td>\n",
       "      <td>5.0</td>\n",
       "      <td>34.3</td>\n",
       "      <td>4</td>\n",
       "      <td>False</td>\n",
       "      <td>...</td>\n",
       "      <td>2.0</td>\n",
       "      <td>574.0</td>\n",
       "      <td>558.0</td>\n",
       "      <td>151486.880466</td>\n",
       "      <td>3</td>\n",
       "      <td>8</td>\n",
       "      <td>2015</td>\n",
       "      <td>другой</td>\n",
       "      <td>0.612500</td>\n",
       "      <td>0.148214</td>\n",
       "    </tr>\n",
       "    <tr>\n",
       "      <th>3</th>\n",
       "      <td>0</td>\n",
       "      <td>64900000.0</td>\n",
       "      <td>159.0</td>\n",
       "      <td>2015-07-24</td>\n",
       "      <td>3</td>\n",
       "      <td>NaN</td>\n",
       "      <td>14.0</td>\n",
       "      <td>NaN</td>\n",
       "      <td>9</td>\n",
       "      <td>False</td>\n",
       "      <td>...</td>\n",
       "      <td>3.0</td>\n",
       "      <td>234.0</td>\n",
       "      <td>424.0</td>\n",
       "      <td>NaN</td>\n",
       "      <td>4</td>\n",
       "      <td>7</td>\n",
       "      <td>2015</td>\n",
       "      <td>другой</td>\n",
       "      <td>NaN</td>\n",
       "      <td>NaN</td>\n",
       "    </tr>\n",
       "    <tr>\n",
       "      <th>4</th>\n",
       "      <td>2</td>\n",
       "      <td>10000000.0</td>\n",
       "      <td>100.0</td>\n",
       "      <td>2018-06-19</td>\n",
       "      <td>2</td>\n",
       "      <td>3.03</td>\n",
       "      <td>14.0</td>\n",
       "      <td>32.0</td>\n",
       "      <td>13</td>\n",
       "      <td>False</td>\n",
       "      <td>...</td>\n",
       "      <td>1.0</td>\n",
       "      <td>48.0</td>\n",
       "      <td>121.0</td>\n",
       "      <td>312500.000000</td>\n",
       "      <td>1</td>\n",
       "      <td>6</td>\n",
       "      <td>2018</td>\n",
       "      <td>другой</td>\n",
       "      <td>0.320000</td>\n",
       "      <td>0.410000</td>\n",
       "    </tr>\n",
       "  </tbody>\n",
       "</table>\n",
       "<p>5 rows × 29 columns</p>\n",
       "</div>"
      ],
      "text/plain": [
       "   total_images  last_price  total_area first_day_exposition  rooms  \\\n",
       "0            20  13000000.0       108.0           2019-03-07      3   \n",
       "1             7   3350000.0        40.4           2018-12-04      1   \n",
       "2            10   5196000.0        56.0           2015-08-20      2   \n",
       "3             0  64900000.0       159.0           2015-07-24      3   \n",
       "4             2  10000000.0       100.0           2018-06-19      2   \n",
       "\n",
       "   ceiling_height  floors_total  living_area  floor  is_apartment  ...  \\\n",
       "0            2.70          16.0         51.0      8         False  ...   \n",
       "1             NaN          11.0         18.6      1         False  ...   \n",
       "2             NaN           5.0         34.3      4         False  ...   \n",
       "3             NaN          14.0          NaN      9         False  ...   \n",
       "4            3.03          14.0         32.0     13         False  ...   \n",
       "\n",
       "   ponds_around3000  ponds_nearest  days_exposition  square_meter_price  \\\n",
       "0               2.0          755.0              NaN       254901.960784   \n",
       "1               0.0            NaN             81.0       180107.526882   \n",
       "2               2.0          574.0            558.0       151486.880466   \n",
       "3               3.0          234.0            424.0                 NaN   \n",
       "4               1.0           48.0            121.0       312500.000000   \n",
       "\n",
       "  weekday  month  year  status_floor  living_conversion  kitchen_conversion  \n",
       "0       3      3  2019        другой           0.472222            0.231481  \n",
       "1       1     12  2018        первый           0.460396            0.272277  \n",
       "2       3      8  2015        другой           0.612500            0.148214  \n",
       "3       4      7  2015        другой                NaN                 NaN  \n",
       "4       1      6  2018        другой           0.320000            0.410000  \n",
       "\n",
       "[5 rows x 29 columns]"
      ]
     },
     "metadata": {},
     "output_type": "display_data"
    }
   ],
   "source": [
    "#соотношение жилой и общей площади, а также отношение площади кухни к общей\n",
    "#создадим столбец соотношения жилой и общей площади 'living_conversion'\n",
    "data['living_conversion'] = data['living_area']/data['total_area'] \n",
    "\n",
    "#создадим столбец отношение площади кухни к общей 'kitchen_conversion'\n",
    "data['kitchen_conversion'] = data['kitchen_area']/data['total_area']\n",
    "\n",
    "display(data.head())"
   ]
  },
  {
   "cell_type": "markdown",
   "metadata": {},
   "source": [
    "## Исследовательский анализ данных"
   ]
  },
  {
   "cell_type": "markdown",
   "metadata": {},
   "source": [
    "### Исследование площади, цены, числа комнат, высоты потолков"
   ]
  },
  {
   "cell_type": "code",
   "execution_count": 69,
   "metadata": {
    "scrolled": true
   },
   "outputs": [
    {
     "data": {
      "text/plain": [
       "count    23699.000000\n",
       "mean        60.348651\n",
       "std         35.654083\n",
       "min         12.000000\n",
       "25%         40.000000\n",
       "50%         52.000000\n",
       "75%         69.900000\n",
       "max        900.000000\n",
       "Name: total_area, dtype: float64"
      ]
     },
     "metadata": {},
     "output_type": "display_data"
    },
    {
     "data": {
      "image/png": "[encoded data removed]",
      "text/plain": [
       "<Figure size 432x288 with 1 Axes>"
      ]
     },
     "metadata": {
      "needs_background": "light"
     },
     "output_type": "display_data"
    }
   ],
   "source": [
    "#Изучим параметры площади. \n",
    "display(data.total_area.describe())\n",
    "#Построем гистограмму для этого параметра.\n",
    "data.plot(y='total_area', kind='hist',title='Исследование параметров площади', grid=True, bins=100, range=(0, 1000) )\n",
    "plt.show()"
   ]
  },
  {
   "cell_type": "code",
   "execution_count": 70,
   "metadata": {
    "scrolled": true
   },
   "outputs": [
    {
     "data": {
      "text/plain": [
       "count    2.369900e+04\n",
       "mean     6.541549e+06\n",
       "std      1.088701e+07\n",
       "min      1.219000e+04\n",
       "25%      3.400000e+06\n",
       "50%      4.650000e+06\n",
       "75%      6.800000e+06\n",
       "max      7.630000e+08\n",
       "Name: last_price, dtype: float64"
      ]
     },
     "metadata": {},
     "output_type": "display_data"
    },
    {
     "data": {
      "image/png": "[encoded data removed]",
      "text/plain": [
       "<Figure size 432x288 with 1 Axes>"
      ]
     },
     "metadata": {
      "needs_background": "light"
     },
     "output_type": "display_data"
    }
   ],
   "source": [
    "#Изучим параметр: цена квартиры.\n",
    "display(data.last_price.describe())\n",
    "#Построем гистограмму для этого параметра.\n",
    "data.plot(y = 'last_price', kind='hist',title='Исследование цены квартиры', grid=True,bins=100, range=(0,80000000))\n",
    "plt.show()"
   ]
  },
  {
   "cell_type": "code",
   "execution_count": 71,
   "metadata": {
    "scrolled": true
   },
   "outputs": [
    {
     "data": {
      "text/plain": [
       "count    23699.000000\n",
       "mean         2.070636\n",
       "std          1.078405\n",
       "min          0.000000\n",
       "25%          1.000000\n",
       "50%          2.000000\n",
       "75%          3.000000\n",
       "max         19.000000\n",
       "Name: rooms, dtype: float64"
      ]
     },
     "metadata": {},
     "output_type": "display_data"
    },
    {
     "data": {
      "image/png": "[encoded data removed]",
      "text/plain": [
       "<Figure size 432x288 with 1 Axes>"
      ]
     },
     "metadata": {
      "needs_background": "light"
     },
     "output_type": "display_data"
    }
   ],
   "source": [
    "#Изучим параметр: количество комнат. \n",
    "display(data.rooms.describe())\n",
    "#Построем гистограмму для этого параметра.\n",
    "data.plot(y = 'rooms', kind='hist',title='Исследование количества комнат', grid=True, bins=20, range=(0,20))\n",
    "plt.show()\n"
   ]
  },
  {
   "cell_type": "code",
   "execution_count": 72,
   "metadata": {
    "scrolled": false
   },
   "outputs": [
    {
     "data": {
      "text/plain": [
       "count    14504.000000\n",
       "mean         2.771499\n",
       "std          1.261056\n",
       "min          1.000000\n",
       "25%          2.520000\n",
       "50%          2.650000\n",
       "75%          2.800000\n",
       "max        100.000000\n",
       "Name: ceiling_height, dtype: float64"
      ]
     },
     "metadata": {},
     "output_type": "display_data"
    },
    {
     "data": {
      "image/png": "[encoded data removed]",
      "text/plain": [
       "<Figure size 432x288 with 1 Axes>"
      ]
     },
     "metadata": {
      "needs_background": "light"
     },
     "output_type": "display_data"
    }
   ],
   "source": [
    "#Изучим параметр: высота потолков. \n",
    "display(data.ceiling_height.describe())\n",
    "#Построем гистограмму для этого параметра.\n",
    "data.plot(y = 'ceiling_height', kind='hist',title='Исследование количества комнат', grid=True, bins=50,range=(0,10))\n",
    "plt.show()"
   ]
  },
  {
   "cell_type": "markdown",
   "metadata": {},
   "source": [
    "**Вывод**"
   ]
  },
  {
   "cell_type": "markdown",
   "metadata": {},
   "source": [
    "1. При исследовании площади квартир мы видим что общая прощадь находится в диапазоне от 60 до 900 м2, медианное значение составило 52м2, средняя площадь равна 60м2.\n",
    "2. При исследовании цены квартир мы определили, что средняя цена за квартиру составляет 6,5млн рублей, медианное значение 4,65млн руб.\n",
    "3. Количество комнат колеблется от 1 до 19. В среднем это двухкомнатные квартиры.\n",
    "4. Среднее и медианное значение высоты потолков примерно одинакого. Медиана составляет 2,65 м, среднее значение - 2,77м.\n",
    "Проанализировав данные графиков мы можем сделать вывод, что в исходных данных много анамальных значений, которые можно считать выбросами. Выбросы могли возникнуть в результате ошибки при вводе данных.  "
   ]
  },
  {
   "cell_type": "markdown",
   "metadata": {},
   "source": [
    "###  Исследование количества времени для продажи квартиры"
   ]
  },
  {
   "cell_type": "code",
   "execution_count": 73,
   "metadata": {},
   "outputs": [
    {
     "data": {
      "text/plain": [
       "count    20518.000000\n",
       "mean       180.888634\n",
       "std        219.727988\n",
       "min          1.000000\n",
       "25%         45.000000\n",
       "50%         95.000000\n",
       "75%        232.000000\n",
       "max       1580.000000\n",
       "Name: days_exposition, dtype: float64"
      ]
     },
     "metadata": {},
     "output_type": "display_data"
    },
    {
     "data": {
      "image/png": "[encoded data removed]",
      "text/plain": [
       "<Figure size 432x288 with 1 Axes>"
      ]
     },
     "metadata": {
      "needs_background": "light"
     },
     "output_type": "display_data"
    }
   ],
   "source": [
    "# Изучим время продажи квартиры\n",
    "display(data.days_exposition.describe())\n",
    "\n",
    "#Построем гистограмму для этого параметра.\n",
    "data.plot(y = 'days_exposition', kind = 'hist', grid=True, bins=100)\n",
    "plt.show()"
   ]
  },
  {
   "cell_type": "code",
   "execution_count": 74,
   "metadata": {
    "scrolled": true
   },
   "outputs": [
    {
     "data": {
      "text/plain": [
       "180.88863436982163"
      ]
     },
     "metadata": {},
     "output_type": "display_data"
    },
    {
     "data": {
      "text/plain": [
       "95.0"
      ]
     },
     "metadata": {},
     "output_type": "display_data"
    }
   ],
   "source": [
    "# среднее арифметическое\n",
    "days_avg = data['days_exposition'].describe()['mean']\n",
    "display(days_avg)\n",
    "# медиана\n",
    "days_median = data['days_exposition'].describe()['50%']\n",
    "display(days_median)\n",
    "#постороим диаграмму размаха для определения выбросов\n"
   ]
  },
  {
   "cell_type": "markdown",
   "metadata": {},
   "source": [
    "**Вывод**"
   ]
  },
  {
   "cell_type": "markdown",
   "metadata": {},
   "source": [
    "С помощью метода describe() мы определили среднее значение и медиану. Для того, чтобы определить сколько обычно занмиает продажа будет использовать значение медианы, т.к. среднее значение некорректно характеризует данные, когда некоторые значения сильно выделяются среди большинства. Соответсвенно, в среднем квартиры продают за 95 дней.\n",
    "Также мы выяснили, что самая быстрая продажа произошла за 1 день, самая долгая составила 1580 дней. Будем считать, что продажи совершенные за 1-45 дней(значения от минимума до первого квартиля) прошли очень быстро, а продажи совершенные за 232-1580 дней(от третьего квартиля до максимального количества дней) произошли за необычайно долгое время."
   ]
  },
  {
   "cell_type": "markdown",
   "metadata": {},
   "source": [
    "### Анализ редких и выбивающихся значений"
   ]
  },
  {
   "cell_type": "code",
   "execution_count": 75,
   "metadata": {
    "scrolled": true
   },
   "outputs": [
    {
     "data": {
      "text/plain": [
       "(-100.0, 1600.0)"
      ]
     },
     "execution_count": 75,
     "metadata": {},
     "output_type": "execute_result"
    },
    {
     "data": {
      "image/png": "[encoded data removed]",
      "text/plain": [
       "<Figure size 432x288 with 1 Axes>"
      ]
     },
     "metadata": {
      "needs_background": "light"
     },
     "output_type": "display_data"
    }
   ],
   "source": [
    "#постороим диаграмму размаха для определения выбросов\n",
    "data.boxplot(column='days_exposition')\n",
    "plt.ylim(-100, 1600)"
   ]
  },
  {
   "cell_type": "code",
   "execution_count": 76,
   "metadata": {},
   "outputs": [
    {
     "name": "stdout",
     "output_type": "stream",
     "text": [
      "512.5\n"
     ]
    }
   ],
   "source": [
    "#определим верхнюю границу значений, которые не являются выбросами (правый ус)\n",
    "Q3 = data['days_exposition'].describe()['75%'] #Третий квартиль\n",
    "Q1 = data['days_exposition'].describe()['25%'] #Первый квартиль \n",
    "IQR = Q3-Q1 #Межквартильный размах \n",
    "right_mustache = Q3 + 1.5*IQR #правый ус. Левый ус находится на границе с 0.\n",
    "print(right_mustache)"
   ]
  },
  {
   "cell_type": "code",
   "execution_count": 77,
   "metadata": {},
   "outputs": [
    {
     "data": {
      "text/html": [
       "<div>\n",
       "<style scoped>\n",
       "    .dataframe tbody tr th:only-of-type {\n",
       "        vertical-align: middle;\n",
       "    }\n",
       "\n",
       "    .dataframe tbody tr th {\n",
       "        vertical-align: top;\n",
       "    }\n",
       "\n",
       "    .dataframe thead th {\n",
       "        text-align: right;\n",
       "    }\n",
       "</style>\n",
       "<table border=\"1\" class=\"dataframe\">\n",
       "  <thead>\n",
       "    <tr style=\"text-align: right;\">\n",
       "      <th></th>\n",
       "      <th>total_images</th>\n",
       "      <th>last_price</th>\n",
       "      <th>total_area</th>\n",
       "      <th>first_day_exposition</th>\n",
       "      <th>rooms</th>\n",
       "      <th>ceiling_height</th>\n",
       "      <th>floors_total</th>\n",
       "      <th>living_area</th>\n",
       "      <th>floor</th>\n",
       "      <th>is_apartment</th>\n",
       "      <th>...</th>\n",
       "      <th>ponds_around3000</th>\n",
       "      <th>ponds_nearest</th>\n",
       "      <th>days_exposition</th>\n",
       "      <th>square_meter_price</th>\n",
       "      <th>weekday</th>\n",
       "      <th>month</th>\n",
       "      <th>year</th>\n",
       "      <th>status_floor</th>\n",
       "      <th>living_conversion</th>\n",
       "      <th>kitchen_conversion</th>\n",
       "    </tr>\n",
       "  </thead>\n",
       "  <tbody>\n",
       "    <tr>\n",
       "      <th>1</th>\n",
       "      <td>7</td>\n",
       "      <td>3350000.0</td>\n",
       "      <td>40.4</td>\n",
       "      <td>2018-12-04</td>\n",
       "      <td>1</td>\n",
       "      <td>NaN</td>\n",
       "      <td>11.0</td>\n",
       "      <td>18.6</td>\n",
       "      <td>1</td>\n",
       "      <td>False</td>\n",
       "      <td>...</td>\n",
       "      <td>0.0</td>\n",
       "      <td>NaN</td>\n",
       "      <td>81.0</td>\n",
       "      <td>180107.526882</td>\n",
       "      <td>1</td>\n",
       "      <td>12</td>\n",
       "      <td>2018</td>\n",
       "      <td>первый</td>\n",
       "      <td>0.460396</td>\n",
       "      <td>0.272277</td>\n",
       "    </tr>\n",
       "    <tr>\n",
       "      <th>3</th>\n",
       "      <td>0</td>\n",
       "      <td>64900000.0</td>\n",
       "      <td>159.0</td>\n",
       "      <td>2015-07-24</td>\n",
       "      <td>3</td>\n",
       "      <td>NaN</td>\n",
       "      <td>14.0</td>\n",
       "      <td>NaN</td>\n",
       "      <td>9</td>\n",
       "      <td>False</td>\n",
       "      <td>...</td>\n",
       "      <td>3.0</td>\n",
       "      <td>234.0</td>\n",
       "      <td>424.0</td>\n",
       "      <td>NaN</td>\n",
       "      <td>4</td>\n",
       "      <td>7</td>\n",
       "      <td>2015</td>\n",
       "      <td>другой</td>\n",
       "      <td>NaN</td>\n",
       "      <td>NaN</td>\n",
       "    </tr>\n",
       "    <tr>\n",
       "      <th>4</th>\n",
       "      <td>2</td>\n",
       "      <td>10000000.0</td>\n",
       "      <td>100.0</td>\n",
       "      <td>2018-06-19</td>\n",
       "      <td>2</td>\n",
       "      <td>3.03</td>\n",
       "      <td>14.0</td>\n",
       "      <td>32.0</td>\n",
       "      <td>13</td>\n",
       "      <td>False</td>\n",
       "      <td>...</td>\n",
       "      <td>1.0</td>\n",
       "      <td>48.0</td>\n",
       "      <td>121.0</td>\n",
       "      <td>312500.000000</td>\n",
       "      <td>1</td>\n",
       "      <td>6</td>\n",
       "      <td>2018</td>\n",
       "      <td>другой</td>\n",
       "      <td>0.320000</td>\n",
       "      <td>0.410000</td>\n",
       "    </tr>\n",
       "    <tr>\n",
       "      <th>5</th>\n",
       "      <td>10</td>\n",
       "      <td>2890000.0</td>\n",
       "      <td>30.4</td>\n",
       "      <td>2018-09-10</td>\n",
       "      <td>1</td>\n",
       "      <td>NaN</td>\n",
       "      <td>12.0</td>\n",
       "      <td>14.4</td>\n",
       "      <td>5</td>\n",
       "      <td>False</td>\n",
       "      <td>...</td>\n",
       "      <td>NaN</td>\n",
       "      <td>NaN</td>\n",
       "      <td>55.0</td>\n",
       "      <td>200694.444444</td>\n",
       "      <td>0</td>\n",
       "      <td>9</td>\n",
       "      <td>2018</td>\n",
       "      <td>другой</td>\n",
       "      <td>0.473684</td>\n",
       "      <td>0.299342</td>\n",
       "    </tr>\n",
       "    <tr>\n",
       "      <th>6</th>\n",
       "      <td>6</td>\n",
       "      <td>3700000.0</td>\n",
       "      <td>37.3</td>\n",
       "      <td>2017-11-02</td>\n",
       "      <td>1</td>\n",
       "      <td>NaN</td>\n",
       "      <td>26.0</td>\n",
       "      <td>10.6</td>\n",
       "      <td>6</td>\n",
       "      <td>False</td>\n",
       "      <td>...</td>\n",
       "      <td>0.0</td>\n",
       "      <td>NaN</td>\n",
       "      <td>155.0</td>\n",
       "      <td>349056.603774</td>\n",
       "      <td>3</td>\n",
       "      <td>11</td>\n",
       "      <td>2017</td>\n",
       "      <td>другой</td>\n",
       "      <td>0.284182</td>\n",
       "      <td>0.386059</td>\n",
       "    </tr>\n",
       "    <tr>\n",
       "      <th>...</th>\n",
       "      <td>...</td>\n",
       "      <td>...</td>\n",
       "      <td>...</td>\n",
       "      <td>...</td>\n",
       "      <td>...</td>\n",
       "      <td>...</td>\n",
       "      <td>...</td>\n",
       "      <td>...</td>\n",
       "      <td>...</td>\n",
       "      <td>...</td>\n",
       "      <td>...</td>\n",
       "      <td>...</td>\n",
       "      <td>...</td>\n",
       "      <td>...</td>\n",
       "      <td>...</td>\n",
       "      <td>...</td>\n",
       "      <td>...</td>\n",
       "      <td>...</td>\n",
       "      <td>...</td>\n",
       "      <td>...</td>\n",
       "      <td>...</td>\n",
       "    </tr>\n",
       "    <tr>\n",
       "      <th>23689</th>\n",
       "      <td>13</td>\n",
       "      <td>3550000.0</td>\n",
       "      <td>35.3</td>\n",
       "      <td>2018-02-28</td>\n",
       "      <td>1</td>\n",
       "      <td>2.86</td>\n",
       "      <td>15.0</td>\n",
       "      <td>16.3</td>\n",
       "      <td>4</td>\n",
       "      <td>False</td>\n",
       "      <td>...</td>\n",
       "      <td>2.0</td>\n",
       "      <td>652.0</td>\n",
       "      <td>29.0</td>\n",
       "      <td>217791.411043</td>\n",
       "      <td>2</td>\n",
       "      <td>2</td>\n",
       "      <td>2018</td>\n",
       "      <td>другой</td>\n",
       "      <td>0.461756</td>\n",
       "      <td>0.257790</td>\n",
       "    </tr>\n",
       "    <tr>\n",
       "      <th>23690</th>\n",
       "      <td>3</td>\n",
       "      <td>5500000.0</td>\n",
       "      <td>52.0</td>\n",
       "      <td>2018-07-19</td>\n",
       "      <td>2</td>\n",
       "      <td>NaN</td>\n",
       "      <td>5.0</td>\n",
       "      <td>31.0</td>\n",
       "      <td>2</td>\n",
       "      <td>False</td>\n",
       "      <td>...</td>\n",
       "      <td>0.0</td>\n",
       "      <td>NaN</td>\n",
       "      <td>15.0</td>\n",
       "      <td>177419.354839</td>\n",
       "      <td>3</td>\n",
       "      <td>7</td>\n",
       "      <td>2018</td>\n",
       "      <td>другой</td>\n",
       "      <td>0.596154</td>\n",
       "      <td>0.115385</td>\n",
       "    </tr>\n",
       "    <tr>\n",
       "      <th>23692</th>\n",
       "      <td>2</td>\n",
       "      <td>1350000.0</td>\n",
       "      <td>30.0</td>\n",
       "      <td>2017-07-07</td>\n",
       "      <td>1</td>\n",
       "      <td>NaN</td>\n",
       "      <td>5.0</td>\n",
       "      <td>17.5</td>\n",
       "      <td>4</td>\n",
       "      <td>False</td>\n",
       "      <td>...</td>\n",
       "      <td>NaN</td>\n",
       "      <td>NaN</td>\n",
       "      <td>413.0</td>\n",
       "      <td>77142.857143</td>\n",
       "      <td>4</td>\n",
       "      <td>7</td>\n",
       "      <td>2017</td>\n",
       "      <td>другой</td>\n",
       "      <td>0.583333</td>\n",
       "      <td>0.200000</td>\n",
       "    </tr>\n",
       "    <tr>\n",
       "      <th>23693</th>\n",
       "      <td>9</td>\n",
       "      <td>4600000.0</td>\n",
       "      <td>62.4</td>\n",
       "      <td>2016-08-05</td>\n",
       "      <td>3</td>\n",
       "      <td>2.60</td>\n",
       "      <td>9.0</td>\n",
       "      <td>40.0</td>\n",
       "      <td>8</td>\n",
       "      <td>False</td>\n",
       "      <td>...</td>\n",
       "      <td>1.0</td>\n",
       "      <td>675.0</td>\n",
       "      <td>239.0</td>\n",
       "      <td>115000.000000</td>\n",
       "      <td>4</td>\n",
       "      <td>8</td>\n",
       "      <td>2016</td>\n",
       "      <td>другой</td>\n",
       "      <td>0.641026</td>\n",
       "      <td>0.128205</td>\n",
       "    </tr>\n",
       "    <tr>\n",
       "      <th>23695</th>\n",
       "      <td>14</td>\n",
       "      <td>3100000.0</td>\n",
       "      <td>59.0</td>\n",
       "      <td>2018-01-15</td>\n",
       "      <td>3</td>\n",
       "      <td>NaN</td>\n",
       "      <td>5.0</td>\n",
       "      <td>38.0</td>\n",
       "      <td>4</td>\n",
       "      <td>False</td>\n",
       "      <td>...</td>\n",
       "      <td>NaN</td>\n",
       "      <td>NaN</td>\n",
       "      <td>45.0</td>\n",
       "      <td>81578.947368</td>\n",
       "      <td>0</td>\n",
       "      <td>1</td>\n",
       "      <td>2018</td>\n",
       "      <td>другой</td>\n",
       "      <td>0.644068</td>\n",
       "      <td>0.144068</td>\n",
       "    </tr>\n",
       "  </tbody>\n",
       "</table>\n",
       "<p>18849 rows × 29 columns</p>\n",
       "</div>"
      ],
      "text/plain": [
       "       total_images  last_price  total_area first_day_exposition  rooms  \\\n",
       "1                 7   3350000.0        40.4           2018-12-04      1   \n",
       "3                 0  64900000.0       159.0           2015-07-24      3   \n",
       "4                 2  10000000.0       100.0           2018-06-19      2   \n",
       "5                10   2890000.0        30.4           2018-09-10      1   \n",
       "6                 6   3700000.0        37.3           2017-11-02      1   \n",
       "...             ...         ...         ...                  ...    ...   \n",
       "23689            13   3550000.0        35.3           2018-02-28      1   \n",
       "23690             3   5500000.0        52.0           2018-07-19      2   \n",
       "23692             2   1350000.0        30.0           2017-07-07      1   \n",
       "23693             9   4600000.0        62.4           2016-08-05      3   \n",
       "23695            14   3100000.0        59.0           2018-01-15      3   \n",
       "\n",
       "       ceiling_height  floors_total  living_area  floor  is_apartment  ...  \\\n",
       "1                 NaN          11.0         18.6      1         False  ...   \n",
       "3                 NaN          14.0          NaN      9         False  ...   \n",
       "4                3.03          14.0         32.0     13         False  ...   \n",
       "5                 NaN          12.0         14.4      5         False  ...   \n",
       "6                 NaN          26.0         10.6      6         False  ...   \n",
       "...               ...           ...          ...    ...           ...  ...   \n",
       "23689            2.86          15.0         16.3      4         False  ...   \n",
       "23690             NaN           5.0         31.0      2         False  ...   \n",
       "23692             NaN           5.0         17.5      4         False  ...   \n",
       "23693            2.60           9.0         40.0      8         False  ...   \n",
       "23695             NaN           5.0         38.0      4         False  ...   \n",
       "\n",
       "       ponds_around3000  ponds_nearest  days_exposition  square_meter_price  \\\n",
       "1                   0.0            NaN             81.0       180107.526882   \n",
       "3                   3.0          234.0            424.0                 NaN   \n",
       "4                   1.0           48.0            121.0       312500.000000   \n",
       "5                   NaN            NaN             55.0       200694.444444   \n",
       "6                   0.0            NaN            155.0       349056.603774   \n",
       "...                 ...            ...              ...                 ...   \n",
       "23689               2.0          652.0             29.0       217791.411043   \n",
       "23690               0.0            NaN             15.0       177419.354839   \n",
       "23692               NaN            NaN            413.0        77142.857143   \n",
       "23693               1.0          675.0            239.0       115000.000000   \n",
       "23695               NaN            NaN             45.0        81578.947368   \n",
       "\n",
       "      weekday  month  year  status_floor  living_conversion  \\\n",
       "1           1     12  2018        первый           0.460396   \n",
       "3           4      7  2015        другой                NaN   \n",
       "4           1      6  2018        другой           0.320000   \n",
       "5           0      9  2018        другой           0.473684   \n",
       "6           3     11  2017        другой           0.284182   \n",
       "...       ...    ...   ...           ...                ...   \n",
       "23689       2      2  2018        другой           0.461756   \n",
       "23690       3      7  2018        другой           0.596154   \n",
       "23692       4      7  2017        другой           0.583333   \n",
       "23693       4      8  2016        другой           0.641026   \n",
       "23695       0      1  2018        другой           0.644068   \n",
       "\n",
       "       kitchen_conversion  \n",
       "1                0.272277  \n",
       "3                     NaN  \n",
       "4                0.410000  \n",
       "5                0.299342  \n",
       "6                0.386059  \n",
       "...                   ...  \n",
       "23689            0.257790  \n",
       "23690            0.115385  \n",
       "23692            0.200000  \n",
       "23693            0.128205  \n",
       "23695            0.144068  \n",
       "\n",
       "[18849 rows x 29 columns]"
      ]
     },
     "metadata": {},
     "output_type": "display_data"
    },
    {
     "data": {
      "text/plain": [
       "count    18849.000000\n",
       "mean       128.753886\n",
       "std        121.531193\n",
       "min          1.000000\n",
       "25%         41.000000\n",
       "50%         85.000000\n",
       "75%        183.000000\n",
       "max        512.000000\n",
       "Name: days_exposition, dtype: float64"
      ]
     },
     "metadata": {},
     "output_type": "display_data"
    }
   ],
   "source": [
    "#отфильтруем выбивающиеся значения\n",
    "data_exp_filtered = data[data['days_exposition']<=right_mustache]\n",
    "display(data_exp_filtered)\n",
    "#рассмотрим как изменились показатели времени продажи квартиры\n",
    "display(data_exp_filtered.days_exposition.describe())"
   ]
  },
  {
   "cell_type": "code",
   "execution_count": 78,
   "metadata": {},
   "outputs": [
    {
     "data": {
      "image/png": "[encoded data removed]",
      "text/plain": [
       "<Figure size 432x288 with 1 Axes>"
      ]
     },
     "metadata": {
      "needs_background": "light"
     },
     "output_type": "display_data"
    }
   ],
   "source": [
    "#построим гистограмму по отфильтрованным значениям\n",
    "data_exp_filtered.plot(y = 'days_exposition', kind = 'hist', grid=True, bins=100)\n",
    "plt.show()"
   ]
  },
  {
   "cell_type": "code",
   "execution_count": 79,
   "metadata": {},
   "outputs": [
    {
     "data": {
      "image/png": "[encoded data removed]",
      "text/plain": [
       "<Figure size 432x288 with 1 Axes>"
      ]
     },
     "metadata": {
      "needs_background": "light"
     },
     "output_type": "display_data"
    },
    {
     "data": {
      "image/png": "[encoded data removed]",
      "text/plain": [
       "<Figure size 432x288 with 1 Axes>"
      ]
     },
     "metadata": {
      "needs_background": "light"
     },
     "output_type": "display_data"
    },
    {
     "data": {
      "text/plain": [
       "count    17431.000000\n",
       "mean       135.104240\n",
       "std        124.221663\n",
       "min          1.000000\n",
       "25%         37.000000\n",
       "50%         93.000000\n",
       "75%        195.000000\n",
       "max        512.000000\n",
       "Name: days_exposition, dtype: float64"
      ]
     },
     "metadata": {},
     "output_type": "display_data"
    }
   ],
   "source": [
    "#построим гистограмму для выбивающихся значений\n",
    "data_exp_filtered.plot(y = 'days_exposition', kind = 'hist', grid=True, bins=100, range=(40,80))\n",
    "plt.show()\n",
    "\n",
    "#удалим сильно выбивающиеся значения\n",
    "data_exp_filtered = data_exp_filtered.query('(days_exposition!=60) and not(44.5<days_exposition<45.5)')\n",
    "data_exp_filtered.plot(y = 'days_exposition', kind = 'hist', grid=True, bins=100)\n",
    "plt.show()\n",
    "#рассмотрим как изменились показатели времени продажи квартиры после удаления выбивающихся значений\n",
    "display(data_exp_filtered.days_exposition.describe())"
   ]
  },
  {
   "cell_type": "markdown",
   "metadata": {},
   "source": [
    "**Вывод**"
   ]
  },
  {
   "cell_type": "markdown",
   "metadata": {},
   "source": [
    "С помощью диаграммы размаха мы определили промахи и удалили их из датафрейма. С помощью метода describe() рассмотрели как изменились характеристики в выборке без выбросов. Среди полученных данных мы обнаружили значения которые явно выбиваются. с помощью фильтрации, мы их удалили и снова воспользовались методом describe() и сравнили полученные значения с предыдущими. Т.к. выбивающиеся значения в выборке оказывают влияние на значение медианы и среднего арифметического, принимаем решение, не учитывать их в дальнейшем решении. "
   ]
  },
  {
   "cell_type": "markdown",
   "metadata": {},
   "source": [
    "### Исследование факторов, влияющих на стоимость квартиры"
   ]
  },
  {
   "cell_type": "code",
   "execution_count": 80,
   "metadata": {},
   "outputs": [
    {
     "data": {
      "image/png": "[encoded data removed]",
      "text/plain": [
       "<Figure size 432x288 with 1 Axes>"
      ]
     },
     "metadata": {
      "needs_background": "light"
     },
     "output_type": "display_data"
    },
    {
     "name": "stdout",
     "output_type": "stream",
     "text": [
      "0.6319691275824437\n"
     ]
    }
   ],
   "source": [
    "#определим зависит ли цена от площади\n",
    "#создадим свобную таблицу, в которой рассчитаем медианное значение столбцов и количество кождого значения\n",
    "good_stat_area = data_exp_filtered.pivot_table(index = 'total_area', values='last_price', aggfunc=['median', 'count'])\n",
    "#переименуюем столбцы\n",
    "good_stat_area.columns = ['median_price', 'areas']\n",
    "#посторим гистограмму зависимости цены от площади квартиры\n",
    "good_stat_area.plot(y = 'median_price', style = 'o')\n",
    "plt.show()\n",
    "#рассчитаем корреляцию\n",
    "print(data_exp_filtered['total_area'].corr(data_exp_filtered['last_price']))"
   ]
  },
  {
   "cell_type": "markdown",
   "metadata": {},
   "source": [
    "**Вывод**"
   ]
  },
  {
   "cell_type": "markdown",
   "metadata": {},
   "source": [
    "Согласно графику мы видим, что существует зависимость между площадью и ценой квартиры. Чем больше площадь, тем выше цена. Коэффициент Пирсона составил 0,63, что говорит о достаточно сильной линейной связи. Значит зависимость есть."
   ]
  },
  {
   "cell_type": "code",
   "execution_count": 81,
   "metadata": {},
   "outputs": [
    {
     "data": {
      "text/html": [
       "<div>\n",
       "<style scoped>\n",
       "    .dataframe tbody tr th:only-of-type {\n",
       "        vertical-align: middle;\n",
       "    }\n",
       "\n",
       "    .dataframe tbody tr th {\n",
       "        vertical-align: top;\n",
       "    }\n",
       "\n",
       "    .dataframe thead th {\n",
       "        text-align: right;\n",
       "    }\n",
       "</style>\n",
       "<table border=\"1\" class=\"dataframe\">\n",
       "  <thead>\n",
       "    <tr style=\"text-align: right;\">\n",
       "      <th></th>\n",
       "      <th>median_price</th>\n",
       "      <th>room_count</th>\n",
       "    </tr>\n",
       "    <tr>\n",
       "      <th>rooms</th>\n",
       "      <th></th>\n",
       "      <th></th>\n",
       "    </tr>\n",
       "  </thead>\n",
       "  <tbody>\n",
       "    <tr>\n",
       "      <th>0</th>\n",
       "      <td>2700000.0</td>\n",
       "      <td>160</td>\n",
       "    </tr>\n",
       "    <tr>\n",
       "      <th>1</th>\n",
       "      <td>3580000.0</td>\n",
       "      <td>6243</td>\n",
       "    </tr>\n",
       "    <tr>\n",
       "      <th>2</th>\n",
       "      <td>4700000.0</td>\n",
       "      <td>5896</td>\n",
       "    </tr>\n",
       "    <tr>\n",
       "      <th>3</th>\n",
       "      <td>6100000.0</td>\n",
       "      <td>4057</td>\n",
       "    </tr>\n",
       "    <tr>\n",
       "      <th>4</th>\n",
       "      <td>8600000.0</td>\n",
       "      <td>767</td>\n",
       "    </tr>\n",
       "    <tr>\n",
       "      <th>5</th>\n",
       "      <td>13120000.0</td>\n",
       "      <td>194</td>\n",
       "    </tr>\n",
       "    <tr>\n",
       "      <th>6</th>\n",
       "      <td>19500000.0</td>\n",
       "      <td>63</td>\n",
       "    </tr>\n",
       "    <tr>\n",
       "      <th>7</th>\n",
       "      <td>24000000.0</td>\n",
       "      <td>34</td>\n",
       "    </tr>\n",
       "    <tr>\n",
       "      <th>8</th>\n",
       "      <td>35300000.0</td>\n",
       "      <td>7</td>\n",
       "    </tr>\n",
       "    <tr>\n",
       "      <th>9</th>\n",
       "      <td>19500000.0</td>\n",
       "      <td>3</td>\n",
       "    </tr>\n",
       "    <tr>\n",
       "      <th>10</th>\n",
       "      <td>27750000.0</td>\n",
       "      <td>2</td>\n",
       "    </tr>\n",
       "    <tr>\n",
       "      <th>12</th>\n",
       "      <td>420000000.0</td>\n",
       "      <td>1</td>\n",
       "    </tr>\n",
       "    <tr>\n",
       "      <th>14</th>\n",
       "      <td>26829500.0</td>\n",
       "      <td>2</td>\n",
       "    </tr>\n",
       "    <tr>\n",
       "      <th>15</th>\n",
       "      <td>65000000.0</td>\n",
       "      <td>1</td>\n",
       "    </tr>\n",
       "    <tr>\n",
       "      <th>19</th>\n",
       "      <td>32250000.0</td>\n",
       "      <td>1</td>\n",
       "    </tr>\n",
       "  </tbody>\n",
       "</table>\n",
       "</div>"
      ],
      "text/plain": [
       "       median_price  room_count\n",
       "rooms                          \n",
       "0         2700000.0         160\n",
       "1         3580000.0        6243\n",
       "2         4700000.0        5896\n",
       "3         6100000.0        4057\n",
       "4         8600000.0         767\n",
       "5        13120000.0         194\n",
       "6        19500000.0          63\n",
       "7        24000000.0          34\n",
       "8        35300000.0           7\n",
       "9        19500000.0           3\n",
       "10       27750000.0           2\n",
       "12      420000000.0           1\n",
       "14       26829500.0           2\n",
       "15       65000000.0           1\n",
       "19       32250000.0           1"
      ]
     },
     "metadata": {},
     "output_type": "display_data"
    },
    {
     "data": {
      "image/png": "[encoded data removed]",
      "text/plain": [
       "<Figure size 432x288 with 1 Axes>"
      ]
     },
     "metadata": {
      "needs_background": "light"
     },
     "output_type": "display_data"
    },
    {
     "data": {
      "image/png": "[encoded data removed]",
      "text/plain": [
       "<Figure size 432x288 with 1 Axes>"
      ]
     },
     "metadata": {
      "needs_background": "light"
     },
     "output_type": "display_data"
    },
    {
     "data": {
      "text/plain": [
       "0.3458560944577085"
      ]
     },
     "metadata": {},
     "output_type": "display_data"
    }
   ],
   "source": [
    "#определим зависит ли цена от количества комнат\n",
    "#создадим свобную таблицу, в которой рассчитаем медианное значение столбцов и количество кождого значения\n",
    "good_stat_room = data_exp_filtered.pivot_table(index = 'rooms', values='last_price', aggfunc=['median', 'count'])\n",
    "#переименуюем столбцы\n",
    "good_stat_room.columns = ['median_price', 'room_count']\n",
    "display(good_stat_room)\n",
    "##постороим диаграмму размаха для определения выбросов\n",
    "data_exp_filtered.boxplot(column='rooms')\n",
    "plt.ylim(0, 20)\n",
    "#посторим гистограмму зависимости цены от площади квартиры с учетом выбросов\n",
    "good_stat_room.query('room_count > 60').plot(y = 'median_price')\n",
    "plt.show()\n",
    "#рассчитаем корреляцию\n",
    "display(data_exp_filtered['rooms'].corr(data_exp_filtered['last_price']))\n"
   ]
  },
  {
   "cell_type": "markdown",
   "metadata": {},
   "source": [
    "**Вывод**"
   ]
  },
  {
   "cell_type": "markdown",
   "metadata": {},
   "source": [
    "Согласно графику, мы можем сделать вовод о том, что чем больше количество комнат, тем дороже квартира. Коэффициент Пирсона небольшой, всего 0,346, линейная зависимость очень слабая."
   ]
  },
  {
   "cell_type": "code",
   "execution_count": 82,
   "metadata": {},
   "outputs": [
    {
     "data": {
      "image/png": "[encoded data removed]",
      "text/plain": [
       "<Figure size 432x288 with 1 Axes>"
      ]
     },
     "metadata": {
      "needs_background": "light"
     },
     "output_type": "display_data"
    },
    {
     "data": {
      "image/png": "[encoded data removed]",
      "text/plain": [
       "<Figure size 360x360 with 2 Axes>"
      ]
     },
     "metadata": {
      "needs_background": "light"
     },
     "output_type": "display_data"
    },
    {
     "data": {
      "text/plain": [
       "-0.18489215633990838"
      ]
     },
     "metadata": {},
     "output_type": "display_data"
    },
    {
     "data": {
      "text/plain": [
       "count    13650.000000\n",
       "mean     14328.125421\n",
       "std       8410.846328\n",
       "min        208.000000\n",
       "25%       9719.000000\n",
       "50%      13222.000000\n",
       "75%      16333.000000\n",
       "max      64857.000000\n",
       "Name: city_centers_nearest, dtype: float64"
      ]
     },
     "metadata": {},
     "output_type": "display_data"
    }
   ],
   "source": [
    "#определим зависит ли цена от удаленности от центра города\n",
    "#посторим диаграмму рассеивания\n",
    "# 1 способ\n",
    "data_exp_filtered.plot(y='last_price', x='city_centers_nearest', kind='scatter', alpha=0.3)\n",
    "plt.show()\n",
    "# 2 способ\n",
    "data_exp_filtered.plot(y='last_price', x='city_centers_nearest', kind='hexbin', gridsize=5, figsize=(5, 5), sharex=False, grid=True)\n",
    "plt.show()\n",
    "#рассчитаем корреляцию\n",
    "display(data_exp_filtered['city_centers_nearest'].corr(data_exp_filtered['last_price']))\n",
    "display(data_exp_filtered.city_centers_nearest.describe())\n"
   ]
  },
  {
   "cell_type": "markdown",
   "metadata": {},
   "source": [
    "**Вывод**"
   ]
  },
  {
   "cell_type": "markdown",
   "metadata": {},
   "source": [
    "Исходя из данных диаграмм можно сделать вывод о том, что зависимость между расстоянием до центра и стоимостью квартир есть. Чем дальше от центра, тем квартиры дешевле. "
   ]
  },
  {
   "cell_type": "code",
   "execution_count": 83,
   "metadata": {
    "scrolled": true
   },
   "outputs": [
    {
     "data": {
      "text/html": [
       "<div>\n",
       "<style scoped>\n",
       "    .dataframe tbody tr th:only-of-type {\n",
       "        vertical-align: middle;\n",
       "    }\n",
       "\n",
       "    .dataframe tbody tr th {\n",
       "        vertical-align: top;\n",
       "    }\n",
       "\n",
       "    .dataframe thead th {\n",
       "        text-align: right;\n",
       "    }\n",
       "</style>\n",
       "<table border=\"1\" class=\"dataframe\">\n",
       "  <thead>\n",
       "    <tr style=\"text-align: right;\">\n",
       "      <th></th>\n",
       "      <th>median_price</th>\n",
       "      <th>floor_count</th>\n",
       "    </tr>\n",
       "    <tr>\n",
       "      <th>status_floor</th>\n",
       "      <th></th>\n",
       "      <th></th>\n",
       "    </tr>\n",
       "  </thead>\n",
       "  <tbody>\n",
       "    <tr>\n",
       "      <th>другой</th>\n",
       "      <td>4600000.0</td>\n",
       "      <td>15383</td>\n",
       "    </tr>\n",
       "    <tr>\n",
       "      <th>первый</th>\n",
       "      <td>3814524.0</td>\n",
       "      <td>2047</td>\n",
       "    </tr>\n",
       "    <tr>\n",
       "      <th>последний</th>\n",
       "      <td>9900000.0</td>\n",
       "      <td>1</td>\n",
       "    </tr>\n",
       "  </tbody>\n",
       "</table>\n",
       "</div>"
      ],
      "text/plain": [
       "              median_price  floor_count\n",
       "status_floor                           \n",
       "другой           4600000.0        15383\n",
       "первый           3814524.0         2047\n",
       "последний        9900000.0            1"
      ]
     },
     "metadata": {},
     "output_type": "display_data"
    },
    {
     "data": {
      "image/png": "[encoded data removed]",
      "text/plain": [
       "<Figure size 432x288 with 1 Axes>"
      ]
     },
     "metadata": {
      "needs_background": "light"
     },
     "output_type": "display_data"
    }
   ],
   "source": [
    "#зависимость цены от того, на каком этаже расположена квартира: первом, последнем или другом. \n",
    "#создадим свобную таблицу, в которой рассчитаем медианное значение столбцов и количество кождого значения\n",
    "good_stat_floor = data_exp_filtered.pivot_table(index = 'status_floor', values='last_price', aggfunc=['median', 'count']) \n",
    "#переименуюем столбцы\n",
    "good_stat_floor.columns = ['median_price', 'floor_count']\n",
    "display(good_stat_floor)\n",
    "good_stat_floor.sort_values(by='median_price').plot(y = 'median_price') \n",
    "plt.show()\n"
   ]
  },
  {
   "cell_type": "markdown",
   "metadata": {},
   "source": [
    "**Вывод**"
   ]
  },
  {
   "cell_type": "markdown",
   "metadata": {},
   "source": [
    "Исходя из графика мы видим, что существует прямая зависимость между этажом и ценой. Чем выше выше этаж, тем выше цена."
   ]
  },
  {
   "cell_type": "markdown",
   "metadata": {},
   "source": [
    "Какие факторы больше всего влияют на стоимость квартиры? Изучите, зависит ли цена от площади, числа комнат, удалённости от центра. Изучите зависимость цены от того, на каком этаже расположена квартира: первом, последнем или другом. Также изучите зависимость от даты размещения: дня недели, месяца и года."
   ]
  },
  {
   "cell_type": "code",
   "execution_count": 84,
   "metadata": {},
   "outputs": [
    {
     "data": {
      "text/html": [
       "<div>\n",
       "<style scoped>\n",
       "    .dataframe tbody tr th:only-of-type {\n",
       "        vertical-align: middle;\n",
       "    }\n",
       "\n",
       "    .dataframe tbody tr th {\n",
       "        vertical-align: top;\n",
       "    }\n",
       "\n",
       "    .dataframe thead th {\n",
       "        text-align: right;\n",
       "    }\n",
       "</style>\n",
       "<table border=\"1\" class=\"dataframe\">\n",
       "  <thead>\n",
       "    <tr style=\"text-align: right;\">\n",
       "      <th></th>\n",
       "      <th>median_price</th>\n",
       "      <th>weekday_count</th>\n",
       "    </tr>\n",
       "    <tr>\n",
       "      <th>weekday</th>\n",
       "      <th></th>\n",
       "      <th></th>\n",
       "    </tr>\n",
       "  </thead>\n",
       "  <tbody>\n",
       "    <tr>\n",
       "      <th>0</th>\n",
       "      <td>4500000.0</td>\n",
       "      <td>2597</td>\n",
       "    </tr>\n",
       "    <tr>\n",
       "      <th>1</th>\n",
       "      <td>4589000.0</td>\n",
       "      <td>3077</td>\n",
       "    </tr>\n",
       "    <tr>\n",
       "      <th>2</th>\n",
       "      <td>4550000.0</td>\n",
       "      <td>2876</td>\n",
       "    </tr>\n",
       "    <tr>\n",
       "      <th>3</th>\n",
       "      <td>4562500.0</td>\n",
       "      <td>3200</td>\n",
       "    </tr>\n",
       "    <tr>\n",
       "      <th>4</th>\n",
       "      <td>4490000.0</td>\n",
       "      <td>3053</td>\n",
       "    </tr>\n",
       "    <tr>\n",
       "      <th>5</th>\n",
       "      <td>4500000.0</td>\n",
       "      <td>1399</td>\n",
       "    </tr>\n",
       "    <tr>\n",
       "      <th>6</th>\n",
       "      <td>4490000.0</td>\n",
       "      <td>1229</td>\n",
       "    </tr>\n",
       "  </tbody>\n",
       "</table>\n",
       "</div>"
      ],
      "text/plain": [
       "         median_price  weekday_count\n",
       "weekday                             \n",
       "0           4500000.0           2597\n",
       "1           4589000.0           3077\n",
       "2           4550000.0           2876\n",
       "3           4562500.0           3200\n",
       "4           4490000.0           3053\n",
       "5           4500000.0           1399\n",
       "6           4490000.0           1229"
      ]
     },
     "metadata": {},
     "output_type": "display_data"
    },
    {
     "data": {
      "image/png": "[encoded data removed]",
      "text/plain": [
       "<Figure size 432x288 with 1 Axes>"
      ]
     },
     "metadata": {
      "needs_background": "light"
     },
     "output_type": "display_data"
    },
    {
     "data": {
      "text/plain": [
       "0.005428322356506731"
      ]
     },
     "metadata": {},
     "output_type": "display_data"
    }
   ],
   "source": [
    "#зависимость от даты размещения: дня недели weekday\n",
    "#создадим свобную таблицу, в которой рассчитаем медианное значение столбцов и количество кождого значения\n",
    "good_stat_weekday = data_exp_filtered.pivot_table(index = 'weekday', values='last_price', aggfunc=['median', 'count']) \n",
    "#переименуюем столбцы\n",
    "good_stat_weekday.columns = ['median_price', 'weekday_count']\n",
    "display(good_stat_weekday)\n",
    "good_stat_weekday.plot(y = 'median_price') \n",
    "plt.show()\n",
    "#рассчитаем корреляцию\n",
    "display(data_exp_filtered['weekday'].corr(data_exp_filtered['last_price']))"
   ]
  },
  {
   "cell_type": "markdown",
   "metadata": {},
   "source": [
    "Согласно графику самые высокие цены на квартиры выставленные на продажу во вторник, к выходным цена падает. Возможно,это связано с тем, что люди, выставляющие объявления на продажу в выходные, анализирую предыдущие предложения, делают цену немного ниже, чтобы быстрее продать квартиру."
   ]
  },
  {
   "cell_type": "code",
   "execution_count": 85,
   "metadata": {
    "scrolled": false
   },
   "outputs": [
    {
     "data": {
      "text/html": [
       "<div>\n",
       "<style scoped>\n",
       "    .dataframe tbody tr th:only-of-type {\n",
       "        vertical-align: middle;\n",
       "    }\n",
       "\n",
       "    .dataframe tbody tr th {\n",
       "        vertical-align: top;\n",
       "    }\n",
       "\n",
       "    .dataframe thead th {\n",
       "        text-align: right;\n",
       "    }\n",
       "</style>\n",
       "<table border=\"1\" class=\"dataframe\">\n",
       "  <thead>\n",
       "    <tr style=\"text-align: right;\">\n",
       "      <th></th>\n",
       "      <th>median_price</th>\n",
       "      <th>month_count</th>\n",
       "    </tr>\n",
       "    <tr>\n",
       "      <th>month</th>\n",
       "      <th></th>\n",
       "      <th></th>\n",
       "    </tr>\n",
       "  </thead>\n",
       "  <tbody>\n",
       "    <tr>\n",
       "      <th>1</th>\n",
       "      <td>4550000.0</td>\n",
       "      <td>1036</td>\n",
       "    </tr>\n",
       "    <tr>\n",
       "      <th>2</th>\n",
       "      <td>4600000.0</td>\n",
       "      <td>1921</td>\n",
       "    </tr>\n",
       "    <tr>\n",
       "      <th>3</th>\n",
       "      <td>4500000.0</td>\n",
       "      <td>1650</td>\n",
       "    </tr>\n",
       "    <tr>\n",
       "      <th>4</th>\n",
       "      <td>4500000.0</td>\n",
       "      <td>1320</td>\n",
       "    </tr>\n",
       "    <tr>\n",
       "      <th>5</th>\n",
       "      <td>4540000.0</td>\n",
       "      <td>944</td>\n",
       "    </tr>\n",
       "    <tr>\n",
       "      <th>6</th>\n",
       "      <td>4394500.0</td>\n",
       "      <td>1400</td>\n",
       "    </tr>\n",
       "    <tr>\n",
       "      <th>7</th>\n",
       "      <td>4500000.0</td>\n",
       "      <td>1342</td>\n",
       "    </tr>\n",
       "    <tr>\n",
       "      <th>8</th>\n",
       "      <td>4500000.0</td>\n",
       "      <td>1415</td>\n",
       "    </tr>\n",
       "    <tr>\n",
       "      <th>9</th>\n",
       "      <td>4650000.0</td>\n",
       "      <td>1621</td>\n",
       "    </tr>\n",
       "    <tr>\n",
       "      <th>10</th>\n",
       "      <td>4500000.0</td>\n",
       "      <td>1731</td>\n",
       "    </tr>\n",
       "    <tr>\n",
       "      <th>11</th>\n",
       "      <td>4600000.0</td>\n",
       "      <td>1917</td>\n",
       "    </tr>\n",
       "    <tr>\n",
       "      <th>12</th>\n",
       "      <td>4500000.0</td>\n",
       "      <td>1134</td>\n",
       "    </tr>\n",
       "  </tbody>\n",
       "</table>\n",
       "</div>"
      ],
      "text/plain": [
       "       median_price  month_count\n",
       "month                           \n",
       "1         4550000.0         1036\n",
       "2         4600000.0         1921\n",
       "3         4500000.0         1650\n",
       "4         4500000.0         1320\n",
       "5         4540000.0          944\n",
       "6         4394500.0         1400\n",
       "7         4500000.0         1342\n",
       "8         4500000.0         1415\n",
       "9         4650000.0         1621\n",
       "10        4500000.0         1731\n",
       "11        4600000.0         1917\n",
       "12        4500000.0         1134"
      ]
     },
     "metadata": {},
     "output_type": "display_data"
    },
    {
     "data": {
      "image/png": "[encoded data removed]",
      "text/plain": [
       "<Figure size 432x288 with 1 Axes>"
      ]
     },
     "metadata": {
      "needs_background": "light"
     },
     "output_type": "display_data"
    },
    {
     "data": {
      "text/plain": [
       "0.0008066626786652401"
      ]
     },
     "metadata": {},
     "output_type": "display_data"
    }
   ],
   "source": [
    "#зависимость от даты размещения: месяца.  month\n",
    "#создадим свобную таблицу, в которой рассчитаем медианное значение столбцов и количество кождого значения\n",
    "good_stat_month = data_exp_filtered.pivot_table(index = 'month', values='last_price', aggfunc=['median', 'count']) \n",
    "#переименуюем столбцы\n",
    "good_stat_month.columns = ['median_price', 'month_count']\n",
    "display(good_stat_month)\n",
    "good_stat_month.plot(y = 'median_price') \n",
    "plt.show()\n",
    "#рассчитаем корреляцию\n",
    "display(data_exp_filtered['month'].corr(data_exp_filtered['last_price']))"
   ]
  },
  {
   "cell_type": "markdown",
   "metadata": {},
   "source": [
    "**Вывод**"
   ]
  },
  {
   "cell_type": "markdown",
   "metadata": {},
   "source": [
    "Пиковая цена на квартиры приходится на сентябрь, также высокие цены в феврале и ноябре. Можно предположить, что самые высокие цены в осенне-зимнее время. В весенне-летние месяцы цены значительно ниже, в июне цена резко упала и достигла минимума.\n",
    "Кажется прослеживается сезонность продаж квартир. Лучше всего квартиры продаются осенью,хуже всего летом. Возможно это связано с тем, что лето - это период отпусков, а осень, для многих до сих пор считает началом нового года, т.е. можно предположить что на цены и продажи влияет прихологическое состояние покупателей и продавцов. Интересно, почему люди, зная о сезонности все же продают квартиры летом, явно по заниженной цене. Можно только предположить, что это может быть связано со срочностью продажи недвижимости. \n",
    "Также мы видим, что коэффицент корреляции близок к 0, а значит линейной зависимости между величинами нет."
   ]
  },
  {
   "cell_type": "code",
   "execution_count": 86,
   "metadata": {
    "scrolled": false
   },
   "outputs": [
    {
     "data": {
      "text/html": [
       "<div>\n",
       "<style scoped>\n",
       "    .dataframe tbody tr th:only-of-type {\n",
       "        vertical-align: middle;\n",
       "    }\n",
       "\n",
       "    .dataframe tbody tr th {\n",
       "        vertical-align: top;\n",
       "    }\n",
       "\n",
       "    .dataframe thead th {\n",
       "        text-align: right;\n",
       "    }\n",
       "</style>\n",
       "<table border=\"1\" class=\"dataframe\">\n",
       "  <thead>\n",
       "    <tr style=\"text-align: right;\">\n",
       "      <th></th>\n",
       "      <th>median_price</th>\n",
       "      <th>year_count</th>\n",
       "    </tr>\n",
       "    <tr>\n",
       "      <th>year</th>\n",
       "      <th></th>\n",
       "      <th></th>\n",
       "    </tr>\n",
       "  </thead>\n",
       "  <tbody>\n",
       "    <tr>\n",
       "      <th>2015</th>\n",
       "      <td>4897946.0</td>\n",
       "      <td>482</td>\n",
       "    </tr>\n",
       "    <tr>\n",
       "      <th>2016</th>\n",
       "      <td>4500000.0</td>\n",
       "      <td>2018</td>\n",
       "    </tr>\n",
       "    <tr>\n",
       "      <th>2017</th>\n",
       "      <td>4500000.0</td>\n",
       "      <td>7130</td>\n",
       "    </tr>\n",
       "    <tr>\n",
       "      <th>2018</th>\n",
       "      <td>4500000.0</td>\n",
       "      <td>6797</td>\n",
       "    </tr>\n",
       "    <tr>\n",
       "      <th>2019</th>\n",
       "      <td>4800000.0</td>\n",
       "      <td>1004</td>\n",
       "    </tr>\n",
       "  </tbody>\n",
       "</table>\n",
       "</div>"
      ],
      "text/plain": [
       "      median_price  year_count\n",
       "year                          \n",
       "2015     4897946.0         482\n",
       "2016     4500000.0        2018\n",
       "2017     4500000.0        7130\n",
       "2018     4500000.0        6797\n",
       "2019     4800000.0        1004"
      ]
     },
     "metadata": {},
     "output_type": "display_data"
    },
    {
     "data": {
      "image/png": "[encoded data removed]",
      "text/plain": [
       "<Figure size 432x288 with 1 Axes>"
      ]
     },
     "metadata": {
      "needs_background": "light"
     },
     "output_type": "display_data"
    },
    {
     "data": {
      "text/plain": [
       "-0.03505335638034259"
      ]
     },
     "metadata": {},
     "output_type": "display_data"
    }
   ],
   "source": [
    "#зависимость от даты размещения: года. year\n",
    "#создадим свобную таблицу, в которой рассчитаем медианное значение столбцов и количество кождого значения\n",
    "good_stat_year = data_exp_filtered.pivot_table(index = 'year', values='last_price', aggfunc=['median', 'count']) \n",
    "#переименуюем столбцы\n",
    "good_stat_year.columns = ['median_price', 'year_count']\n",
    "display(good_stat_year)\n",
    "good_stat_year.plot(y = 'median_price') \n",
    "plt.show()\n",
    "#рассчитаем корреляцию\n",
    "display(data_exp_filtered['year'].corr(data_exp_filtered['last_price']))"
   ]
  },
  {
   "cell_type": "markdown",
   "metadata": {},
   "source": [
    "**Вывод**"
   ]
  },
  {
   "cell_type": "markdown",
   "metadata": {},
   "source": [
    "С 2015 года цена на недвижимость начала падать и в 2016 достигла своего минимума. с 2016 по 2018 рынок продаж был стабилен и в 2018 году начался рост цен. Однако мы точно можем сказать, что в 2019 цена не достигла цены 2015 года. Определенно точно можно сказать, что уровень цен не зависит от года. Рынок недвижимости непредсказуем и зависит от множества факторов, например, политическая и экономическая ситуация в стране и мире. Например в 2014-2015 году произошел валютный кризис в России (резкое ослабление российского рубля по отношению к иностранным валютам),вызванное стремительным снижением мировых цен на нефть, от экспорта которой во многом зависит доходная часть бюджета России, а также введением экономических санкций в отношении России в связи с аннексией Крыма и вооруженным конфликтом на востоке Украины. Соответственно, эта ситуация повлияла и на цены на рынке, что мы и видем на графике."
   ]
  },
  {
   "cell_type": "markdown",
   "metadata": {},
   "source": [
    "### Анализ десяти населённых пунктов с наибольшим числом объявлений"
   ]
  },
  {
   "cell_type": "code",
   "execution_count": 87,
   "metadata": {},
   "outputs": [
    {
     "data": {
      "text/html": [
       "<div>\n",
       "<style scoped>\n",
       "    .dataframe tbody tr th:only-of-type {\n",
       "        vertical-align: middle;\n",
       "    }\n",
       "\n",
       "    .dataframe tbody tr th {\n",
       "        vertical-align: top;\n",
       "    }\n",
       "\n",
       "    .dataframe thead th {\n",
       "        text-align: right;\n",
       "    }\n",
       "</style>\n",
       "<table border=\"1\" class=\"dataframe\">\n",
       "  <thead>\n",
       "    <tr style=\"text-align: right;\">\n",
       "      <th></th>\n",
       "      <th>mean_square_meter_price</th>\n",
       "      <th>name_count</th>\n",
       "    </tr>\n",
       "    <tr>\n",
       "      <th>locality_name</th>\n",
       "      <th></th>\n",
       "      <th></th>\n",
       "    </tr>\n",
       "  </thead>\n",
       "  <tbody>\n",
       "    <tr>\n",
       "      <th>Санкт-Петербург</th>\n",
       "      <td>210827.251751</td>\n",
       "      <td>11062</td>\n",
       "    </tr>\n",
       "    <tr>\n",
       "      <th>поселок Мурино</th>\n",
       "      <td>177605.359398</td>\n",
       "      <td>438</td>\n",
       "    </tr>\n",
       "    <tr>\n",
       "      <th>поселок Шушары</th>\n",
       "      <td>156193.978278</td>\n",
       "      <td>334</td>\n",
       "    </tr>\n",
       "    <tr>\n",
       "      <th>Всеволожск</th>\n",
       "      <td>134288.473204</td>\n",
       "      <td>269</td>\n",
       "    </tr>\n",
       "    <tr>\n",
       "      <th>Колпино</th>\n",
       "      <td>131234.509169</td>\n",
       "      <td>259</td>\n",
       "    </tr>\n",
       "    <tr>\n",
       "      <th>Пушкин</th>\n",
       "      <td>191308.416856</td>\n",
       "      <td>246</td>\n",
       "    </tr>\n",
       "    <tr>\n",
       "      <th>поселок Парголово</th>\n",
       "      <td>201432.492142</td>\n",
       "      <td>238</td>\n",
       "    </tr>\n",
       "    <tr>\n",
       "      <th>деревня Кудрово</th>\n",
       "      <td>188304.712930</td>\n",
       "      <td>218</td>\n",
       "    </tr>\n",
       "    <tr>\n",
       "      <th>Гатчина</th>\n",
       "      <td>119954.215897</td>\n",
       "      <td>215</td>\n",
       "    </tr>\n",
       "    <tr>\n",
       "      <th>Петергоф</th>\n",
       "      <td>144259.214759</td>\n",
       "      <td>145</td>\n",
       "    </tr>\n",
       "  </tbody>\n",
       "</table>\n",
       "</div>"
      ],
      "text/plain": [
       "                   mean_square_meter_price  name_count\n",
       "locality_name                                         \n",
       "Санкт-Петербург              210827.251751       11062\n",
       "поселок Мурино               177605.359398         438\n",
       "поселок Шушары               156193.978278         334\n",
       "Всеволожск                   134288.473204         269\n",
       "Колпино                      131234.509169         259\n",
       "Пушкин                       191308.416856         246\n",
       "поселок Парголово            201432.492142         238\n",
       "деревня Кудрово              188304.712930         218\n",
       "Гатчина                      119954.215897         215\n",
       "Петергоф                     144259.214759         145"
      ]
     },
     "metadata": {},
     "output_type": "display_data"
    }
   ],
   "source": [
    "#создадим свобную таблицу\n",
    "locality_pivot_table = data_exp_filtered.pivot_table(index='locality_name', values='square_meter_price', aggfunc=['mean', 'count'])\n",
    "#переименуюем столбцы\n",
    "locality_pivot_table.columns = ['mean_square_meter_price', 'name_count']\n",
    "locality_pivot_table = locality_pivot_table.sort_values(by='name_count', ascending=False).head(10)\n",
    "display(locality_pivot_table)\n"
   ]
  },
  {
   "cell_type": "markdown",
   "metadata": {},
   "source": [
    "**Вывод**"
   ]
  },
  {
   "cell_type": "markdown",
   "metadata": {},
   "source": [
    "В данной таблице представлено 10 населенных пунктов с наибольшим числом объявлений в порядке убывания. Исходя их этих данных мы можем сделать вывод о том, что среди этой 10-ки, самая высокая стоимость жилья в Санкт-Петербуре, а самая низкая в Санкт-Петербурге."
   ]
  },
  {
   "cell_type": "markdown",
   "metadata": {},
   "source": [
    "### Анализ изменения цены по степени удалённости от центра"
   ]
  },
  {
   "cell_type": "code",
   "execution_count": 88,
   "metadata": {
    "scrolled": true
   },
   "outputs": [
    {
     "data": {
      "text/html": [
       "<div>\n",
       "<style scoped>\n",
       "    .dataframe tbody tr th:only-of-type {\n",
       "        vertical-align: middle;\n",
       "    }\n",
       "\n",
       "    .dataframe tbody tr th {\n",
       "        vertical-align: top;\n",
       "    }\n",
       "\n",
       "    .dataframe thead th {\n",
       "        text-align: right;\n",
       "    }\n",
       "</style>\n",
       "<table border=\"1\" class=\"dataframe\">\n",
       "  <thead>\n",
       "    <tr style=\"text-align: right;\">\n",
       "      <th></th>\n",
       "      <th>mean_price</th>\n",
       "    </tr>\n",
       "    <tr>\n",
       "      <th>distance_to_center_km</th>\n",
       "      <th></th>\n",
       "    </tr>\n",
       "  </thead>\n",
       "  <tbody>\n",
       "    <tr>\n",
       "      <th>0.0</th>\n",
       "      <td>3.035867e+07</td>\n",
       "    </tr>\n",
       "    <tr>\n",
       "      <th>1.0</th>\n",
       "      <td>2.067179e+07</td>\n",
       "    </tr>\n",
       "    <tr>\n",
       "      <th>2.0</th>\n",
       "      <td>1.735657e+07</td>\n",
       "    </tr>\n",
       "    <tr>\n",
       "      <th>3.0</th>\n",
       "      <td>1.017501e+07</td>\n",
       "    </tr>\n",
       "    <tr>\n",
       "      <th>4.0</th>\n",
       "      <td>1.331013e+07</td>\n",
       "    </tr>\n",
       "    <tr>\n",
       "      <th>5.0</th>\n",
       "      <td>1.363282e+07</td>\n",
       "    </tr>\n",
       "    <tr>\n",
       "      <th>6.0</th>\n",
       "      <td>1.483896e+07</td>\n",
       "    </tr>\n",
       "    <tr>\n",
       "      <th>7.0</th>\n",
       "      <td>1.271356e+07</td>\n",
       "    </tr>\n",
       "    <tr>\n",
       "      <th>8.0</th>\n",
       "      <td>9.568406e+06</td>\n",
       "    </tr>\n",
       "    <tr>\n",
       "      <th>9.0</th>\n",
       "      <td>6.702755e+06</td>\n",
       "    </tr>\n",
       "    <tr>\n",
       "      <th>10.0</th>\n",
       "      <td>6.084855e+06</td>\n",
       "    </tr>\n",
       "    <tr>\n",
       "      <th>11.0</th>\n",
       "      <td>5.943968e+06</td>\n",
       "    </tr>\n",
       "    <tr>\n",
       "      <th>12.0</th>\n",
       "      <td>5.609565e+06</td>\n",
       "    </tr>\n",
       "    <tr>\n",
       "      <th>13.0</th>\n",
       "      <td>5.918479e+06</td>\n",
       "    </tr>\n",
       "    <tr>\n",
       "      <th>14.0</th>\n",
       "      <td>5.431773e+06</td>\n",
       "    </tr>\n",
       "    <tr>\n",
       "      <th>15.0</th>\n",
       "      <td>5.560326e+06</td>\n",
       "    </tr>\n",
       "    <tr>\n",
       "      <th>16.0</th>\n",
       "      <td>5.206352e+06</td>\n",
       "    </tr>\n",
       "    <tr>\n",
       "      <th>17.0</th>\n",
       "      <td>5.147087e+06</td>\n",
       "    </tr>\n",
       "    <tr>\n",
       "      <th>18.0</th>\n",
       "      <td>5.049700e+06</td>\n",
       "    </tr>\n",
       "    <tr>\n",
       "      <th>19.0</th>\n",
       "      <td>4.910782e+06</td>\n",
       "    </tr>\n",
       "    <tr>\n",
       "      <th>20.0</th>\n",
       "      <td>5.615199e+06</td>\n",
       "    </tr>\n",
       "    <tr>\n",
       "      <th>21.0</th>\n",
       "      <td>5.013616e+06</td>\n",
       "    </tr>\n",
       "    <tr>\n",
       "      <th>22.0</th>\n",
       "      <td>5.186924e+06</td>\n",
       "    </tr>\n",
       "    <tr>\n",
       "      <th>23.0</th>\n",
       "      <td>4.511579e+06</td>\n",
       "    </tr>\n",
       "    <tr>\n",
       "      <th>24.0</th>\n",
       "      <td>3.838358e+06</td>\n",
       "    </tr>\n",
       "    <tr>\n",
       "      <th>25.0</th>\n",
       "      <td>4.043992e+06</td>\n",
       "    </tr>\n",
       "    <tr>\n",
       "      <th>26.0</th>\n",
       "      <td>3.956035e+06</td>\n",
       "    </tr>\n",
       "    <tr>\n",
       "      <th>27.0</th>\n",
       "      <td>8.300000e+06</td>\n",
       "    </tr>\n",
       "    <tr>\n",
       "      <th>28.0</th>\n",
       "      <td>5.026429e+06</td>\n",
       "    </tr>\n",
       "    <tr>\n",
       "      <th>29.0</th>\n",
       "      <td>3.833333e+06</td>\n",
       "    </tr>\n",
       "  </tbody>\n",
       "</table>\n",
       "</div>"
      ],
      "text/plain": [
       "                         mean_price\n",
       "distance_to_center_km              \n",
       "0.0                    3.035867e+07\n",
       "1.0                    2.067179e+07\n",
       "2.0                    1.735657e+07\n",
       "3.0                    1.017501e+07\n",
       "4.0                    1.331013e+07\n",
       "5.0                    1.363282e+07\n",
       "6.0                    1.483896e+07\n",
       "7.0                    1.271356e+07\n",
       "8.0                    9.568406e+06\n",
       "9.0                    6.702755e+06\n",
       "10.0                   6.084855e+06\n",
       "11.0                   5.943968e+06\n",
       "12.0                   5.609565e+06\n",
       "13.0                   5.918479e+06\n",
       "14.0                   5.431773e+06\n",
       "15.0                   5.560326e+06\n",
       "16.0                   5.206352e+06\n",
       "17.0                   5.147087e+06\n",
       "18.0                   5.049700e+06\n",
       "19.0                   4.910782e+06\n",
       "20.0                   5.615199e+06\n",
       "21.0                   5.013616e+06\n",
       "22.0                   5.186924e+06\n",
       "23.0                   4.511579e+06\n",
       "24.0                   3.838358e+06\n",
       "25.0                   4.043992e+06\n",
       "26.0                   3.956035e+06\n",
       "27.0                   8.300000e+06\n",
       "28.0                   5.026429e+06\n",
       "29.0                   3.833333e+06"
      ]
     },
     "metadata": {},
     "output_type": "display_data"
    },
    {
     "data": {
      "image/png": "[encoded data removed]",
      "text/plain": [
       "<Figure size 432x288 with 1 Axes>"
      ]
     },
     "metadata": {
      "needs_background": "light"
     },
     "output_type": "display_data"
    }
   ],
   "source": [
    "#создадим столбец, где расстояние до центра будет в км\n",
    "data_exp_filtered['distance_to_center_km'] = data_exp_filtered['city_centers_nearest']/1000\n",
    "#округлим значения до целых\n",
    "data_exp_filtered['distance_to_center_km'] = data_exp_filtered['distance_to_center_km'].round(0)\n",
    "#посчитаем среднюю цену для каждого километра\n",
    "pivot_table_km = data_exp_filtered.query('locality_name == \"Санкт-Петербург\"').pivot_table(index='distance_to_center_km', values='last_price', aggfunc=['mean'])\n",
    "#переименуюем столбц\n",
    "pivot_table_km.columns = ['mean_price']\n",
    "display(pivot_table_km)\n",
    "pivot_table_km.plot(kind='bar')\n",
    "plt.show()"
   ]
  },
  {
   "cell_type": "markdown",
   "metadata": {},
   "source": [
    "**Вывод**"
   ]
  },
  {
   "cell_type": "markdown",
   "metadata": {},
   "source": [
    "На графике видно, что чем дальше от центра, тем стоимость квартир меньше. График сильно меняется на отметке 9км, будем считать, что именно на этом расстоянии заканчивается центральная часть города. "
   ]
  },
  {
   "cell_type": "markdown",
   "metadata": {},
   "source": [
    "### Сравнение выводов по квартирам в центре и общих выводов по всему городу"
   ]
  },
  {
   "cell_type": "code",
   "execution_count": 89,
   "metadata": {},
   "outputs": [
    {
     "data": {
      "text/html": [
       "<div>\n",
       "<style scoped>\n",
       "    .dataframe tbody tr th:only-of-type {\n",
       "        vertical-align: middle;\n",
       "    }\n",
       "\n",
       "    .dataframe tbody tr th {\n",
       "        vertical-align: top;\n",
       "    }\n",
       "\n",
       "    .dataframe thead th {\n",
       "        text-align: right;\n",
       "    }\n",
       "</style>\n",
       "<table border=\"1\" class=\"dataframe\">\n",
       "  <thead>\n",
       "    <tr style=\"text-align: right;\">\n",
       "      <th></th>\n",
       "      <th>total_images</th>\n",
       "      <th>last_price</th>\n",
       "      <th>total_area</th>\n",
       "      <th>first_day_exposition</th>\n",
       "      <th>rooms</th>\n",
       "      <th>ceiling_height</th>\n",
       "      <th>floors_total</th>\n",
       "      <th>living_area</th>\n",
       "      <th>floor</th>\n",
       "      <th>is_apartment</th>\n",
       "      <th>...</th>\n",
       "      <th>ponds_nearest</th>\n",
       "      <th>days_exposition</th>\n",
       "      <th>square_meter_price</th>\n",
       "      <th>weekday</th>\n",
       "      <th>month</th>\n",
       "      <th>year</th>\n",
       "      <th>status_floor</th>\n",
       "      <th>living_conversion</th>\n",
       "      <th>kitchen_conversion</th>\n",
       "      <th>distance_to_center_km</th>\n",
       "    </tr>\n",
       "  </thead>\n",
       "  <tbody>\n",
       "    <tr>\n",
       "      <th>3</th>\n",
       "      <td>0</td>\n",
       "      <td>64900000.0</td>\n",
       "      <td>159.0</td>\n",
       "      <td>2015-07-24</td>\n",
       "      <td>3</td>\n",
       "      <td>NaN</td>\n",
       "      <td>14.0</td>\n",
       "      <td>NaN</td>\n",
       "      <td>9</td>\n",
       "      <td>False</td>\n",
       "      <td>...</td>\n",
       "      <td>234.0</td>\n",
       "      <td>424.0</td>\n",
       "      <td>NaN</td>\n",
       "      <td>4</td>\n",
       "      <td>7</td>\n",
       "      <td>2015</td>\n",
       "      <td>другой</td>\n",
       "      <td>NaN</td>\n",
       "      <td>NaN</td>\n",
       "      <td>7.0</td>\n",
       "    </tr>\n",
       "    <tr>\n",
       "      <th>4</th>\n",
       "      <td>2</td>\n",
       "      <td>10000000.0</td>\n",
       "      <td>100.0</td>\n",
       "      <td>2018-06-19</td>\n",
       "      <td>2</td>\n",
       "      <td>3.03</td>\n",
       "      <td>14.0</td>\n",
       "      <td>32.0</td>\n",
       "      <td>13</td>\n",
       "      <td>False</td>\n",
       "      <td>...</td>\n",
       "      <td>48.0</td>\n",
       "      <td>121.0</td>\n",
       "      <td>312500.000000</td>\n",
       "      <td>1</td>\n",
       "      <td>6</td>\n",
       "      <td>2018</td>\n",
       "      <td>другой</td>\n",
       "      <td>0.320000</td>\n",
       "      <td>0.410000</td>\n",
       "      <td>8.0</td>\n",
       "    </tr>\n",
       "    <tr>\n",
       "      <th>24</th>\n",
       "      <td>8</td>\n",
       "      <td>6500000.0</td>\n",
       "      <td>97.2</td>\n",
       "      <td>2015-10-31</td>\n",
       "      <td>2</td>\n",
       "      <td>NaN</td>\n",
       "      <td>3.0</td>\n",
       "      <td>46.5</td>\n",
       "      <td>1</td>\n",
       "      <td>False</td>\n",
       "      <td>...</td>\n",
       "      <td>124.0</td>\n",
       "      <td>265.0</td>\n",
       "      <td>139784.946237</td>\n",
       "      <td>5</td>\n",
       "      <td>10</td>\n",
       "      <td>2015</td>\n",
       "      <td>первый</td>\n",
       "      <td>0.478395</td>\n",
       "      <td>0.201646</td>\n",
       "      <td>2.0</td>\n",
       "    </tr>\n",
       "    <tr>\n",
       "      <th>63</th>\n",
       "      <td>2</td>\n",
       "      <td>20000000.0</td>\n",
       "      <td>118.0</td>\n",
       "      <td>2018-09-11</td>\n",
       "      <td>3</td>\n",
       "      <td>3.00</td>\n",
       "      <td>9.0</td>\n",
       "      <td>68.0</td>\n",
       "      <td>7</td>\n",
       "      <td>False</td>\n",
       "      <td>...</td>\n",
       "      <td>779.0</td>\n",
       "      <td>37.0</td>\n",
       "      <td>294117.647059</td>\n",
       "      <td>1</td>\n",
       "      <td>9</td>\n",
       "      <td>2018</td>\n",
       "      <td>другой</td>\n",
       "      <td>0.576271</td>\n",
       "      <td>0.135593</td>\n",
       "      <td>5.0</td>\n",
       "    </tr>\n",
       "    <tr>\n",
       "      <th>70</th>\n",
       "      <td>9</td>\n",
       "      <td>3400000.0</td>\n",
       "      <td>30.0</td>\n",
       "      <td>2018-09-05</td>\n",
       "      <td>1</td>\n",
       "      <td>NaN</td>\n",
       "      <td>5.0</td>\n",
       "      <td>16.0</td>\n",
       "      <td>1</td>\n",
       "      <td>False</td>\n",
       "      <td>...</td>\n",
       "      <td>NaN</td>\n",
       "      <td>14.0</td>\n",
       "      <td>212500.000000</td>\n",
       "      <td>2</td>\n",
       "      <td>9</td>\n",
       "      <td>2018</td>\n",
       "      <td>первый</td>\n",
       "      <td>0.533333</td>\n",
       "      <td>0.233333</td>\n",
       "      <td>8.0</td>\n",
       "    </tr>\n",
       "    <tr>\n",
       "      <th>...</th>\n",
       "      <td>...</td>\n",
       "      <td>...</td>\n",
       "      <td>...</td>\n",
       "      <td>...</td>\n",
       "      <td>...</td>\n",
       "      <td>...</td>\n",
       "      <td>...</td>\n",
       "      <td>...</td>\n",
       "      <td>...</td>\n",
       "      <td>...</td>\n",
       "      <td>...</td>\n",
       "      <td>...</td>\n",
       "      <td>...</td>\n",
       "      <td>...</td>\n",
       "      <td>...</td>\n",
       "      <td>...</td>\n",
       "      <td>...</td>\n",
       "      <td>...</td>\n",
       "      <td>...</td>\n",
       "      <td>...</td>\n",
       "      <td>...</td>\n",
       "    </tr>\n",
       "    <tr>\n",
       "      <th>23644</th>\n",
       "      <td>7</td>\n",
       "      <td>4990000.0</td>\n",
       "      <td>62.5</td>\n",
       "      <td>2018-04-26</td>\n",
       "      <td>2</td>\n",
       "      <td>2.70</td>\n",
       "      <td>4.0</td>\n",
       "      <td>32.3</td>\n",
       "      <td>4</td>\n",
       "      <td>False</td>\n",
       "      <td>...</td>\n",
       "      <td>171.0</td>\n",
       "      <td>166.0</td>\n",
       "      <td>154489.164087</td>\n",
       "      <td>3</td>\n",
       "      <td>4</td>\n",
       "      <td>2018</td>\n",
       "      <td>другой</td>\n",
       "      <td>0.516800</td>\n",
       "      <td>0.193600</td>\n",
       "      <td>4.0</td>\n",
       "    </tr>\n",
       "    <tr>\n",
       "      <th>23665</th>\n",
       "      <td>11</td>\n",
       "      <td>4250000.0</td>\n",
       "      <td>47.0</td>\n",
       "      <td>2016-05-20</td>\n",
       "      <td>1</td>\n",
       "      <td>NaN</td>\n",
       "      <td>6.0</td>\n",
       "      <td>18.2</td>\n",
       "      <td>1</td>\n",
       "      <td>False</td>\n",
       "      <td>...</td>\n",
       "      <td>519.0</td>\n",
       "      <td>131.0</td>\n",
       "      <td>233516.483516</td>\n",
       "      <td>4</td>\n",
       "      <td>5</td>\n",
       "      <td>2016</td>\n",
       "      <td>первый</td>\n",
       "      <td>0.387234</td>\n",
       "      <td>0.310638</td>\n",
       "      <td>5.0</td>\n",
       "    </tr>\n",
       "    <tr>\n",
       "      <th>23668</th>\n",
       "      <td>13</td>\n",
       "      <td>6000000.0</td>\n",
       "      <td>47.0</td>\n",
       "      <td>2018-03-16</td>\n",
       "      <td>2</td>\n",
       "      <td>3.00</td>\n",
       "      <td>5.0</td>\n",
       "      <td>27.0</td>\n",
       "      <td>4</td>\n",
       "      <td>False</td>\n",
       "      <td>...</td>\n",
       "      <td>NaN</td>\n",
       "      <td>157.0</td>\n",
       "      <td>222222.222222</td>\n",
       "      <td>4</td>\n",
       "      <td>3</td>\n",
       "      <td>2018</td>\n",
       "      <td>другой</td>\n",
       "      <td>0.574468</td>\n",
       "      <td>0.191489</td>\n",
       "      <td>9.0</td>\n",
       "    </tr>\n",
       "    <tr>\n",
       "      <th>23681</th>\n",
       "      <td>13</td>\n",
       "      <td>5250000.0</td>\n",
       "      <td>43.0</td>\n",
       "      <td>2018-05-11</td>\n",
       "      <td>2</td>\n",
       "      <td>2.50</td>\n",
       "      <td>5.0</td>\n",
       "      <td>29.0</td>\n",
       "      <td>2</td>\n",
       "      <td>False</td>\n",
       "      <td>...</td>\n",
       "      <td>660.0</td>\n",
       "      <td>80.0</td>\n",
       "      <td>181034.482759</td>\n",
       "      <td>4</td>\n",
       "      <td>5</td>\n",
       "      <td>2018</td>\n",
       "      <td>другой</td>\n",
       "      <td>0.674419</td>\n",
       "      <td>0.139535</td>\n",
       "      <td>7.0</td>\n",
       "    </tr>\n",
       "    <tr>\n",
       "      <th>23690</th>\n",
       "      <td>3</td>\n",
       "      <td>5500000.0</td>\n",
       "      <td>52.0</td>\n",
       "      <td>2018-07-19</td>\n",
       "      <td>2</td>\n",
       "      <td>NaN</td>\n",
       "      <td>5.0</td>\n",
       "      <td>31.0</td>\n",
       "      <td>2</td>\n",
       "      <td>False</td>\n",
       "      <td>...</td>\n",
       "      <td>NaN</td>\n",
       "      <td>15.0</td>\n",
       "      <td>177419.354839</td>\n",
       "      <td>3</td>\n",
       "      <td>7</td>\n",
       "      <td>2018</td>\n",
       "      <td>другой</td>\n",
       "      <td>0.596154</td>\n",
       "      <td>0.115385</td>\n",
       "      <td>6.0</td>\n",
       "    </tr>\n",
       "  </tbody>\n",
       "</table>\n",
       "<p>3284 rows × 30 columns</p>\n",
       "</div>"
      ],
      "text/plain": [
       "       total_images  last_price  total_area first_day_exposition  rooms  \\\n",
       "3                 0  64900000.0       159.0           2015-07-24      3   \n",
       "4                 2  10000000.0       100.0           2018-06-19      2   \n",
       "24                8   6500000.0        97.2           2015-10-31      2   \n",
       "63                2  20000000.0       118.0           2018-09-11      3   \n",
       "70                9   3400000.0        30.0           2018-09-05      1   \n",
       "...             ...         ...         ...                  ...    ...   \n",
       "23644             7   4990000.0        62.5           2018-04-26      2   \n",
       "23665            11   4250000.0        47.0           2016-05-20      1   \n",
       "23668            13   6000000.0        47.0           2018-03-16      2   \n",
       "23681            13   5250000.0        43.0           2018-05-11      2   \n",
       "23690             3   5500000.0        52.0           2018-07-19      2   \n",
       "\n",
       "       ceiling_height  floors_total  living_area  floor  is_apartment  ...  \\\n",
       "3                 NaN          14.0          NaN      9         False  ...   \n",
       "4                3.03          14.0         32.0     13         False  ...   \n",
       "24                NaN           3.0         46.5      1         False  ...   \n",
       "63               3.00           9.0         68.0      7         False  ...   \n",
       "70                NaN           5.0         16.0      1         False  ...   \n",
       "...               ...           ...          ...    ...           ...  ...   \n",
       "23644            2.70           4.0         32.3      4         False  ...   \n",
       "23665             NaN           6.0         18.2      1         False  ...   \n",
       "23668            3.00           5.0         27.0      4         False  ...   \n",
       "23681            2.50           5.0         29.0      2         False  ...   \n",
       "23690             NaN           5.0         31.0      2         False  ...   \n",
       "\n",
       "       ponds_nearest  days_exposition  square_meter_price  weekday month  \\\n",
       "3              234.0            424.0                 NaN        4     7   \n",
       "4               48.0            121.0       312500.000000        1     6   \n",
       "24             124.0            265.0       139784.946237        5    10   \n",
       "63             779.0             37.0       294117.647059        1     9   \n",
       "70               NaN             14.0       212500.000000        2     9   \n",
       "...              ...              ...                 ...      ...   ...   \n",
       "23644          171.0            166.0       154489.164087        3     4   \n",
       "23665          519.0            131.0       233516.483516        4     5   \n",
       "23668            NaN            157.0       222222.222222        4     3   \n",
       "23681          660.0             80.0       181034.482759        4     5   \n",
       "23690            NaN             15.0       177419.354839        3     7   \n",
       "\n",
       "       year  status_floor  living_conversion  kitchen_conversion  \\\n",
       "3      2015        другой                NaN                 NaN   \n",
       "4      2018        другой           0.320000            0.410000   \n",
       "24     2015        первый           0.478395            0.201646   \n",
       "63     2018        другой           0.576271            0.135593   \n",
       "70     2018        первый           0.533333            0.233333   \n",
       "...     ...           ...                ...                 ...   \n",
       "23644  2018        другой           0.516800            0.193600   \n",
       "23665  2016        первый           0.387234            0.310638   \n",
       "23668  2018        другой           0.574468            0.191489   \n",
       "23681  2018        другой           0.674419            0.139535   \n",
       "23690  2018        другой           0.596154            0.115385   \n",
       "\n",
       "       distance_to_center_km  \n",
       "3                        7.0  \n",
       "4                        8.0  \n",
       "24                       2.0  \n",
       "63                       5.0  \n",
       "70                       8.0  \n",
       "...                      ...  \n",
       "23644                    4.0  \n",
       "23665                    5.0  \n",
       "23668                    9.0  \n",
       "23681                    7.0  \n",
       "23690                    6.0  \n",
       "\n",
       "[3284 rows x 30 columns]"
      ]
     },
     "metadata": {},
     "output_type": "display_data"
    }
   ],
   "source": [
    "# Выделим сегмент квартир в центре(в радиусе 9км)\n",
    "sity_center_flat = data_exp_filtered.query('(locality_name == \"Санкт-Петербург\") and (distance_to_center_km<=9)')\n",
    "display(sity_center_flat)"
   ]
  },
  {
   "cell_type": "code",
   "execution_count": 90,
   "metadata": {
    "scrolled": true
   },
   "outputs": [
    {
     "data": {
      "text/plain": [
       "count    3284.000000\n",
       "mean       82.733718\n",
       "std        55.329589\n",
       "min        12.000000\n",
       "25%        48.800000\n",
       "50%        70.000000\n",
       "75%        97.000000\n",
       "max       900.000000\n",
       "Name: total_area, dtype: float64"
      ]
     },
     "metadata": {},
     "output_type": "display_data"
    },
    {
     "data": {
      "image/png": "[encoded data removed]",
      "text/plain": [
       "<Figure size 432x288 with 1 Axes>"
      ]
     },
     "metadata": {
      "needs_background": "light"
     },
     "output_type": "display_data"
    }
   ],
   "source": [
    "#Изучим параметры площади. \n",
    "display(sity_center_flat.total_area.describe())\n",
    "#Построем гистограмму для этого параметра.\n",
    "sity_center_flat['total_area'].hist(bins=100, range=(0, 900))\n",
    "plt.show()\n"
   ]
  },
  {
   "cell_type": "markdown",
   "metadata": {},
   "source": [
    "Средняя площадь квартир в центре составляет 70 м2. "
   ]
  },
  {
   "cell_type": "code",
   "execution_count": 91,
   "metadata": {
    "scrolled": false
   },
   "outputs": [
    {
     "data": {
      "text/plain": [
       "count    3.284000e+03\n",
       "mean     1.257058e+07\n",
       "std      2.375288e+07\n",
       "min      1.219000e+04\n",
       "25%      5.690000e+06\n",
       "50%      7.992500e+06\n",
       "75%      1.223582e+07\n",
       "max      7.630000e+08\n",
       "Name: last_price, dtype: float64"
      ]
     },
     "metadata": {},
     "output_type": "display_data"
    },
    {
     "data": {
      "image/png": "[encoded data removed]",
      "text/plain": [
       "<Figure size 432x288 with 1 Axes>"
      ]
     },
     "metadata": {
      "needs_background": "light"
     },
     "output_type": "display_data"
    }
   ],
   "source": [
    "#Изучим параметр: цена квартиры.\n",
    "display(sity_center_flat.last_price.describe())\n",
    "#Построем гистограмму для этого параметра.\n",
    "sity_center_flat['last_price'].hist(bins=100, range=(0,80000000))\n",
    "plt.show()"
   ]
  },
  {
   "cell_type": "markdown",
   "metadata": {},
   "source": [
    "Цена квартир в среднем составляет 8 млн рублей. "
   ]
  },
  {
   "cell_type": "code",
   "execution_count": 92,
   "metadata": {
    "scrolled": true
   },
   "outputs": [
    {
     "data": {
      "text/plain": [
       "count    3284.000000\n",
       "mean        2.591961\n",
       "std         1.359439\n",
       "min         0.000000\n",
       "25%         2.000000\n",
       "50%         2.000000\n",
       "75%         3.000000\n",
       "max        19.000000\n",
       "Name: rooms, dtype: float64"
      ]
     },
     "metadata": {},
     "output_type": "display_data"
    },
    {
     "data": {
      "image/png": "[encoded data removed]",
      "text/plain": [
       "<Figure size 432x288 with 1 Axes>"
      ]
     },
     "metadata": {
      "needs_background": "light"
     },
     "output_type": "display_data"
    }
   ],
   "source": [
    "#Изучим параметр: количество комнат. \n",
    "display(sity_center_flat.rooms.describe())\n",
    "#Построем гистограмму для этого параметра.\n",
    "sity_center_flat['rooms'].hist(bins=20, range=(0,19))\n",
    "plt.show()"
   ]
  },
  {
   "cell_type": "markdown",
   "metadata": {},
   "source": [
    "В центре города продаются в осномном двух- и трёхкомнатные квартиры."
   ]
  },
  {
   "cell_type": "code",
   "execution_count": 93,
   "metadata": {
    "scrolled": true
   },
   "outputs": [
    {
     "data": {
      "text/plain": [
       "count    2046.000000\n",
       "mean        3.081383\n",
       "std         2.337362\n",
       "min         2.400000\n",
       "25%         2.750000\n",
       "50%         3.000000\n",
       "75%         3.200000\n",
       "max       100.000000\n",
       "Name: ceiling_height, dtype: float64"
      ]
     },
     "metadata": {},
     "output_type": "display_data"
    },
    {
     "data": {
      "image/png": "[encoded data removed]",
      "text/plain": [
       "<Figure size 432x288 with 1 Axes>"
      ]
     },
     "metadata": {
      "needs_background": "light"
     },
     "output_type": "display_data"
    }
   ],
   "source": [
    "#Изучим параметр: высота потолков. \n",
    "display(sity_center_flat.ceiling_height.describe())\n",
    "#Построем гистограмму для этого параметра.\n",
    "sity_center_flat['ceiling_height'].hist(bins=50,range=(2,10))\n",
    "plt.show()"
   ]
  },
  {
   "cell_type": "markdown",
   "metadata": {},
   "source": [
    "В среднем высота потолков составляет 3 метра."
   ]
  },
  {
   "cell_type": "code",
   "execution_count": 94,
   "metadata": {
    "scrolled": true
   },
   "outputs": [
    {
     "data": {
      "text/html": [
       "<div>\n",
       "<style scoped>\n",
       "    .dataframe tbody tr th:only-of-type {\n",
       "        vertical-align: middle;\n",
       "    }\n",
       "\n",
       "    .dataframe tbody tr th {\n",
       "        vertical-align: top;\n",
       "    }\n",
       "\n",
       "    .dataframe thead th {\n",
       "        text-align: right;\n",
       "    }\n",
       "</style>\n",
       "<table border=\"1\" class=\"dataframe\">\n",
       "  <thead>\n",
       "    <tr style=\"text-align: right;\">\n",
       "      <th></th>\n",
       "      <th>median_price</th>\n",
       "      <th>room_count</th>\n",
       "    </tr>\n",
       "    <tr>\n",
       "      <th>rooms</th>\n",
       "      <th></th>\n",
       "      <th></th>\n",
       "    </tr>\n",
       "  </thead>\n",
       "  <tbody>\n",
       "    <tr>\n",
       "      <th>0</th>\n",
       "      <td>3425000.0</td>\n",
       "      <td>18</td>\n",
       "    </tr>\n",
       "    <tr>\n",
       "      <th>1</th>\n",
       "      <td>5150000.0</td>\n",
       "      <td>624</td>\n",
       "    </tr>\n",
       "    <tr>\n",
       "      <th>2</th>\n",
       "      <td>6800000.0</td>\n",
       "      <td>1064</td>\n",
       "    </tr>\n",
       "    <tr>\n",
       "      <th>3</th>\n",
       "      <td>9400000.0</td>\n",
       "      <td>985</td>\n",
       "    </tr>\n",
       "    <tr>\n",
       "      <th>4</th>\n",
       "      <td>11490000.0</td>\n",
       "      <td>356</td>\n",
       "    </tr>\n",
       "    <tr>\n",
       "      <th>5</th>\n",
       "      <td>14500000.0</td>\n",
       "      <td>139</td>\n",
       "    </tr>\n",
       "    <tr>\n",
       "      <th>6</th>\n",
       "      <td>19700000.0</td>\n",
       "      <td>53</td>\n",
       "    </tr>\n",
       "    <tr>\n",
       "      <th>7</th>\n",
       "      <td>23000000.0</td>\n",
       "      <td>31</td>\n",
       "    </tr>\n",
       "    <tr>\n",
       "      <th>8</th>\n",
       "      <td>28745000.0</td>\n",
       "      <td>6</td>\n",
       "    </tr>\n",
       "    <tr>\n",
       "      <th>9</th>\n",
       "      <td>17000000.0</td>\n",
       "      <td>1</td>\n",
       "    </tr>\n",
       "    <tr>\n",
       "      <th>10</th>\n",
       "      <td>27750000.0</td>\n",
       "      <td>2</td>\n",
       "    </tr>\n",
       "    <tr>\n",
       "      <th>12</th>\n",
       "      <td>420000000.0</td>\n",
       "      <td>1</td>\n",
       "    </tr>\n",
       "    <tr>\n",
       "      <th>14</th>\n",
       "      <td>26829500.0</td>\n",
       "      <td>2</td>\n",
       "    </tr>\n",
       "    <tr>\n",
       "      <th>15</th>\n",
       "      <td>65000000.0</td>\n",
       "      <td>1</td>\n",
       "    </tr>\n",
       "    <tr>\n",
       "      <th>19</th>\n",
       "      <td>32250000.0</td>\n",
       "      <td>1</td>\n",
       "    </tr>\n",
       "  </tbody>\n",
       "</table>\n",
       "</div>"
      ],
      "text/plain": [
       "       median_price  room_count\n",
       "rooms                          \n",
       "0         3425000.0          18\n",
       "1         5150000.0         624\n",
       "2         6800000.0        1064\n",
       "3         9400000.0         985\n",
       "4        11490000.0         356\n",
       "5        14500000.0         139\n",
       "6        19700000.0          53\n",
       "7        23000000.0          31\n",
       "8        28745000.0           6\n",
       "9        17000000.0           1\n",
       "10       27750000.0           2\n",
       "12      420000000.0           1\n",
       "14       26829500.0           2\n",
       "15       65000000.0           1\n",
       "19       32250000.0           1"
      ]
     },
     "metadata": {},
     "output_type": "display_data"
    },
    {
     "data": {
      "image/png": "[encoded data removed]",
      "text/plain": [
       "<Figure size 432x288 with 1 Axes>"
      ]
     },
     "metadata": {
      "needs_background": "light"
     },
     "output_type": "display_data"
    },
    {
     "data": {
      "image/png": "[encoded data removed]",
      "text/plain": [
       "<Figure size 432x288 with 1 Axes>"
      ]
     },
     "metadata": {
      "needs_background": "light"
     },
     "output_type": "display_data"
    },
    {
     "data": {
      "text/plain": [
       "0.3505942560845254"
      ]
     },
     "metadata": {},
     "output_type": "display_data"
    }
   ],
   "source": [
    "#определим зависит ли цена от количества комнат\n",
    "#создадим свобную таблицу, в которой рассчитаем медианное значение столбцов и количество кождого значения\n",
    "pivot_table_room = (sity_center_flat.pivot_table(index = 'rooms', values='last_price', aggfunc=['median', 'count']))\n",
    "#переименуюем столбцы\n",
    "pivot_table_room.columns = ['median_price', 'room_count']\n",
    "display(pivot_table_room)\n",
    "#постороим диаграмму размаха для определения выбросов\n",
    "sity_center_flat.boxplot(column='rooms')\n",
    "plt.ylim(0, 19)\n",
    "#посторим гистограмму зависимости цены от площади квартиры с учетом выбросов\n",
    "pivot_table_room.query('room_count > 356').plot(y = 'median_price')\n",
    "plt.show()\n",
    "#рассчитаем корреляцию\n",
    "display(sity_center_flat['rooms'].corr(sity_center_flat['last_price']))"
   ]
  },
  {
   "cell_type": "markdown",
   "metadata": {},
   "source": [
    "**Вывод**"
   ]
  },
  {
   "cell_type": "markdown",
   "metadata": {},
   "source": [
    "Согласно графику и расчетам мы видим, что с учеличением числа комнат цена квартир растет. Также можно отметить то, что в центре продаеются квартиры с числом комнат не превышающем трех."
   ]
  },
  {
   "cell_type": "code",
   "execution_count": 95,
   "metadata": {
    "scrolled": true
   },
   "outputs": [
    {
     "data": {
      "text/html": [
       "<div>\n",
       "<style scoped>\n",
       "    .dataframe tbody tr th:only-of-type {\n",
       "        vertical-align: middle;\n",
       "    }\n",
       "\n",
       "    .dataframe tbody tr th {\n",
       "        vertical-align: top;\n",
       "    }\n",
       "\n",
       "    .dataframe thead th {\n",
       "        text-align: right;\n",
       "    }\n",
       "</style>\n",
       "<table border=\"1\" class=\"dataframe\">\n",
       "  <thead>\n",
       "    <tr style=\"text-align: right;\">\n",
       "      <th></th>\n",
       "      <th>median_price</th>\n",
       "      <th>floor_count</th>\n",
       "    </tr>\n",
       "    <tr>\n",
       "      <th>status_floor</th>\n",
       "      <th></th>\n",
       "      <th></th>\n",
       "    </tr>\n",
       "  </thead>\n",
       "  <tbody>\n",
       "    <tr>\n",
       "      <th>другой</th>\n",
       "      <td>8300000.0</td>\n",
       "      <td>2932</td>\n",
       "    </tr>\n",
       "    <tr>\n",
       "      <th>первый</th>\n",
       "      <td>5862500.0</td>\n",
       "      <td>352</td>\n",
       "    </tr>\n",
       "  </tbody>\n",
       "</table>\n",
       "</div>"
      ],
      "text/plain": [
       "              median_price  floor_count\n",
       "status_floor                           \n",
       "другой           8300000.0         2932\n",
       "первый           5862500.0          352"
      ]
     },
     "metadata": {},
     "output_type": "display_data"
    },
    {
     "data": {
      "image/png": "[encoded data removed]",
      "text/plain": [
       "<Figure size 432x288 with 1 Axes>"
      ]
     },
     "metadata": {
      "needs_background": "light"
     },
     "output_type": "display_data"
    }
   ],
   "source": [
    "#зависимость цены от того, на каком этаже расположена квартира: первом, последнем или другом. \n",
    "#создадим свобную таблицу, в которой рассчитаем медианное значение столбцов и количество кождого значения\n",
    "pivot_table_floor = sity_center_flat.pivot_table(index = 'status_floor', values='last_price', aggfunc=['median', 'count']) \n",
    "#переименуюем столбцы\n",
    "pivot_table_floor.columns = ['median_price', 'floor_count']\n",
    "display(pivot_table_floor)\n",
    "pivot_table_floor.sort_values(by='median_price').plot(y = 'median_price') \n",
    "plt.show()"
   ]
  },
  {
   "cell_type": "markdown",
   "metadata": {},
   "source": [
    "**Вывод**"
   ]
  },
  {
   "cell_type": "markdown",
   "metadata": {},
   "source": [
    "В центре города продаются квартиры на первом и других этажах. И цена растет с увеличеснием количества этажей."
   ]
  },
  {
   "cell_type": "code",
   "execution_count": 96,
   "metadata": {},
   "outputs": [
    {
     "data": {
      "image/png": "[encoded data removed]",
      "text/plain": [
       "<Figure size 360x360 with 2 Axes>"
      ]
     },
     "metadata": {
      "needs_background": "light"
     },
     "output_type": "display_data"
    },
    {
     "data": {
      "text/plain": [
       "-0.11598968396629251"
      ]
     },
     "metadata": {},
     "output_type": "display_data"
    },
    {
     "data": {
      "text/plain": [
       "count    3284.000000\n",
       "mean     5624.850183\n",
       "std      2298.295531\n",
       "min       208.000000\n",
       "25%      4091.000000\n",
       "50%      5386.000000\n",
       "75%      7685.250000\n",
       "max      9496.000000\n",
       "Name: city_centers_nearest, dtype: float64"
      ]
     },
     "metadata": {},
     "output_type": "display_data"
    }
   ],
   "source": [
    "#определим зависит ли цена от удаленности от центра города\n",
    "#посторим диаграмму рассеивания\n",
    "sity_center_flat.plot(y='last_price', x='city_centers_nearest', kind='hexbin', gridsize=5, figsize=(5, 5), sharex=False, grid=True)\n",
    "plt.show()\n",
    "#рассчитаем корреляцию\n",
    "display(sity_center_flat['city_centers_nearest'].corr(sity_center_flat['last_price']))\n",
    "display(sity_center_flat.city_centers_nearest.describe())"
   ]
  },
  {
   "cell_type": "markdown",
   "metadata": {},
   "source": [
    "**Вывод**"
   ]
  },
  {
   "cell_type": "markdown",
   "metadata": {},
   "source": [
    "Корреляция Пиросона имеет отрицательное значение. Это говорит о том, что с увелмчением одной ведичины, другая уменьшается. Однако этот коэффициент имеет мальнькое значение, а значий не носит линейный характер.\n",
    "Наибольшая цена выставлена на квартиры расположенные на расстояшии 3-5 км, далее цена снижается."
   ]
  },
  {
   "cell_type": "code",
   "execution_count": 97,
   "metadata": {
    "scrolled": false
   },
   "outputs": [
    {
     "data": {
      "text/html": [
       "<div>\n",
       "<style scoped>\n",
       "    .dataframe tbody tr th:only-of-type {\n",
       "        vertical-align: middle;\n",
       "    }\n",
       "\n",
       "    .dataframe tbody tr th {\n",
       "        vertical-align: top;\n",
       "    }\n",
       "\n",
       "    .dataframe thead th {\n",
       "        text-align: right;\n",
       "    }\n",
       "</style>\n",
       "<table border=\"1\" class=\"dataframe\">\n",
       "  <thead>\n",
       "    <tr style=\"text-align: right;\">\n",
       "      <th></th>\n",
       "      <th>median_price</th>\n",
       "      <th>weekday_count</th>\n",
       "    </tr>\n",
       "    <tr>\n",
       "      <th>weekday</th>\n",
       "      <th></th>\n",
       "      <th></th>\n",
       "    </tr>\n",
       "  </thead>\n",
       "  <tbody>\n",
       "    <tr>\n",
       "      <th>0</th>\n",
       "      <td>8249500.0</td>\n",
       "      <td>496</td>\n",
       "    </tr>\n",
       "    <tr>\n",
       "      <th>1</th>\n",
       "      <td>7800000.0</td>\n",
       "      <td>566</td>\n",
       "    </tr>\n",
       "    <tr>\n",
       "      <th>2</th>\n",
       "      <td>8000000.0</td>\n",
       "      <td>527</td>\n",
       "    </tr>\n",
       "    <tr>\n",
       "      <th>3</th>\n",
       "      <td>7900000.0</td>\n",
       "      <td>672</td>\n",
       "    </tr>\n",
       "    <tr>\n",
       "      <th>4</th>\n",
       "      <td>7700000.0</td>\n",
       "      <td>563</td>\n",
       "    </tr>\n",
       "    <tr>\n",
       "      <th>5</th>\n",
       "      <td>7900000.0</td>\n",
       "      <td>257</td>\n",
       "    </tr>\n",
       "    <tr>\n",
       "      <th>6</th>\n",
       "      <td>8750000.0</td>\n",
       "      <td>203</td>\n",
       "    </tr>\n",
       "  </tbody>\n",
       "</table>\n",
       "</div>"
      ],
      "text/plain": [
       "         median_price  weekday_count\n",
       "weekday                             \n",
       "0           8249500.0            496\n",
       "1           7800000.0            566\n",
       "2           8000000.0            527\n",
       "3           7900000.0            672\n",
       "4           7700000.0            563\n",
       "5           7900000.0            257\n",
       "6           8750000.0            203"
      ]
     },
     "metadata": {},
     "output_type": "display_data"
    },
    {
     "data": {
      "image/png": "[encoded data removed]",
      "text/plain": [
       "<Figure size 432x288 with 1 Axes>"
      ]
     },
     "metadata": {
      "needs_background": "light"
     },
     "output_type": "display_data"
    },
    {
     "data": {
      "text/plain": [
       "0.017504861391657432"
      ]
     },
     "metadata": {},
     "output_type": "display_data"
    }
   ],
   "source": [
    "#зависимость от даты размещения: дня недели weekday\n",
    "#создадим свобную таблицу, в которой рассчитаем медианное значение столбцов и количество кождого значения\n",
    "pivot_table_weekday = sity_center_flat.pivot_table(index = 'weekday', values='last_price', aggfunc=['median', 'count']) \n",
    "#переименуюем столбцы\n",
    "pivot_table_weekday.columns = ['median_price', 'weekday_count']\n",
    "display(pivot_table_weekday)\n",
    "pivot_table_weekday.plot(y = 'median_price') \n",
    "plt.show()\n",
    "#рассчитаем корреляцию\n",
    "display(sity_center_flat['weekday'].corr(sity_center_flat['last_price']))"
   ]
  },
  {
   "cell_type": "markdown",
   "metadata": {},
   "source": [
    "**Вывод**"
   ]
  },
  {
   "cell_type": "markdown",
   "metadata": {},
   "source": [
    "Начиная с понедельника, цена снижается пока не достигнет минимума в пятницу. В воскресенье наблюдается пик цен на квартиры.\n",
    "Коэффициент корреляции близок к 0, линейной зависимости нет. "
   ]
  },
  {
   "cell_type": "code",
   "execution_count": 98,
   "metadata": {},
   "outputs": [
    {
     "data": {
      "text/html": [
       "<div>\n",
       "<style scoped>\n",
       "    .dataframe tbody tr th:only-of-type {\n",
       "        vertical-align: middle;\n",
       "    }\n",
       "\n",
       "    .dataframe tbody tr th {\n",
       "        vertical-align: top;\n",
       "    }\n",
       "\n",
       "    .dataframe thead th {\n",
       "        text-align: right;\n",
       "    }\n",
       "</style>\n",
       "<table border=\"1\" class=\"dataframe\">\n",
       "  <thead>\n",
       "    <tr style=\"text-align: right;\">\n",
       "      <th></th>\n",
       "      <th>median_price</th>\n",
       "      <th>month_count</th>\n",
       "    </tr>\n",
       "    <tr>\n",
       "      <th>month</th>\n",
       "      <th></th>\n",
       "      <th></th>\n",
       "    </tr>\n",
       "  </thead>\n",
       "  <tbody>\n",
       "    <tr>\n",
       "      <th>1</th>\n",
       "      <td>8100000.0</td>\n",
       "      <td>179</td>\n",
       "    </tr>\n",
       "    <tr>\n",
       "      <th>2</th>\n",
       "      <td>7900000.0</td>\n",
       "      <td>353</td>\n",
       "    </tr>\n",
       "    <tr>\n",
       "      <th>3</th>\n",
       "      <td>7900000.0</td>\n",
       "      <td>309</td>\n",
       "    </tr>\n",
       "    <tr>\n",
       "      <th>4</th>\n",
       "      <td>7600000.0</td>\n",
       "      <td>251</td>\n",
       "    </tr>\n",
       "    <tr>\n",
       "      <th>5</th>\n",
       "      <td>8000000.0</td>\n",
       "      <td>207</td>\n",
       "    </tr>\n",
       "    <tr>\n",
       "      <th>6</th>\n",
       "      <td>8050000.0</td>\n",
       "      <td>278</td>\n",
       "    </tr>\n",
       "    <tr>\n",
       "      <th>7</th>\n",
       "      <td>8270000.0</td>\n",
       "      <td>270</td>\n",
       "    </tr>\n",
       "    <tr>\n",
       "      <th>8</th>\n",
       "      <td>7850000.0</td>\n",
       "      <td>272</td>\n",
       "    </tr>\n",
       "    <tr>\n",
       "      <th>9</th>\n",
       "      <td>8500000.0</td>\n",
       "      <td>316</td>\n",
       "    </tr>\n",
       "    <tr>\n",
       "      <th>10</th>\n",
       "      <td>7700000.0</td>\n",
       "      <td>285</td>\n",
       "    </tr>\n",
       "    <tr>\n",
       "      <th>11</th>\n",
       "      <td>8500000.0</td>\n",
       "      <td>349</td>\n",
       "    </tr>\n",
       "    <tr>\n",
       "      <th>12</th>\n",
       "      <td>7000000.0</td>\n",
       "      <td>215</td>\n",
       "    </tr>\n",
       "  </tbody>\n",
       "</table>\n",
       "</div>"
      ],
      "text/plain": [
       "       median_price  month_count\n",
       "month                           \n",
       "1         8100000.0          179\n",
       "2         7900000.0          353\n",
       "3         7900000.0          309\n",
       "4         7600000.0          251\n",
       "5         8000000.0          207\n",
       "6         8050000.0          278\n",
       "7         8270000.0          270\n",
       "8         7850000.0          272\n",
       "9         8500000.0          316\n",
       "10        7700000.0          285\n",
       "11        8500000.0          349\n",
       "12        7000000.0          215"
      ]
     },
     "metadata": {},
     "output_type": "display_data"
    },
    {
     "data": {
      "image/png": "[encoded data removed]",
      "text/plain": [
       "<Figure size 432x288 with 1 Axes>"
      ]
     },
     "metadata": {
      "needs_background": "light"
     },
     "output_type": "display_data"
    },
    {
     "data": {
      "text/plain": [
       "0.004954905673970741"
      ]
     },
     "metadata": {},
     "output_type": "display_data"
    }
   ],
   "source": [
    "#зависимость от даты размещения: месяца.  month\n",
    "#создадим свобную таблицу, в которой рассчитаем медианное значение столбцов и количество кождого значения\n",
    "pivot_table_month = sity_center_flat.pivot_table(index = 'month', values='last_price', aggfunc=['median', 'count']) \n",
    "#переименуюем столбцы\n",
    "pivot_table_month.columns = ['median_price', 'month_count']\n",
    "display(pivot_table_month)\n",
    "pivot_table_month.plot(y = 'median_price') \n",
    "plt.show()\n",
    "#рассчитаем корреляцию\n",
    "display(sity_center_flat['month'].corr(sity_center_flat['last_price']))"
   ]
  },
  {
   "cell_type": "markdown",
   "metadata": {},
   "source": [
    "Пиковая цена на квартиры приходится на сентябрь и ноябрь. В весенне-летние месяцы цены значительно ниже, в мае цена достигла минимума. оэффициент корреляции близок к 0, линейной зависимоти изменения параметров нет."
   ]
  },
  {
   "cell_type": "code",
   "execution_count": 99,
   "metadata": {},
   "outputs": [
    {
     "data": {
      "text/html": [
       "<div>\n",
       "<style scoped>\n",
       "    .dataframe tbody tr th:only-of-type {\n",
       "        vertical-align: middle;\n",
       "    }\n",
       "\n",
       "    .dataframe tbody tr th {\n",
       "        vertical-align: top;\n",
       "    }\n",
       "\n",
       "    .dataframe thead th {\n",
       "        text-align: right;\n",
       "    }\n",
       "</style>\n",
       "<table border=\"1\" class=\"dataframe\">\n",
       "  <thead>\n",
       "    <tr style=\"text-align: right;\">\n",
       "      <th></th>\n",
       "      <th>median_price</th>\n",
       "      <th>year_count</th>\n",
       "    </tr>\n",
       "    <tr>\n",
       "      <th>year</th>\n",
       "      <th></th>\n",
       "      <th></th>\n",
       "    </tr>\n",
       "  </thead>\n",
       "  <tbody>\n",
       "    <tr>\n",
       "      <th>2015</th>\n",
       "      <td>7600000.0</td>\n",
       "      <td>109</td>\n",
       "    </tr>\n",
       "    <tr>\n",
       "      <th>2016</th>\n",
       "      <td>8675000.0</td>\n",
       "      <td>440</td>\n",
       "    </tr>\n",
       "    <tr>\n",
       "      <th>2017</th>\n",
       "      <td>8100000.0</td>\n",
       "      <td>1403</td>\n",
       "    </tr>\n",
       "    <tr>\n",
       "      <th>2018</th>\n",
       "      <td>7800000.0</td>\n",
       "      <td>1147</td>\n",
       "    </tr>\n",
       "    <tr>\n",
       "      <th>2019</th>\n",
       "      <td>7350000.0</td>\n",
       "      <td>185</td>\n",
       "    </tr>\n",
       "  </tbody>\n",
       "</table>\n",
       "</div>"
      ],
      "text/plain": [
       "      median_price  year_count\n",
       "year                          \n",
       "2015     7600000.0         109\n",
       "2016     8675000.0         440\n",
       "2017     8100000.0        1403\n",
       "2018     7800000.0        1147\n",
       "2019     7350000.0         185"
      ]
     },
     "metadata": {},
     "output_type": "display_data"
    },
    {
     "data": {
      "image/png": "[encoded data removed]",
      "text/plain": [
       "<Figure size 432x288 with 1 Axes>"
      ]
     },
     "metadata": {
      "needs_background": "light"
     },
     "output_type": "display_data"
    },
    {
     "data": {
      "text/plain": [
       "-0.06315761563216449"
      ]
     },
     "metadata": {},
     "output_type": "display_data"
    }
   ],
   "source": [
    "#зависимость от даты размещения: года. year\n",
    "#создадим свобную таблицу, в которой рассчитаем медианное значение столбцов и количество кождого значения\n",
    "pivot_table_year = sity_center_flat.pivot_table(index = 'year', values='last_price', aggfunc=['median', 'count']) \n",
    "#переименуюем столбцы\n",
    "pivot_table_year.columns = ['median_price', 'year_count']\n",
    "display(pivot_table_year)\n",
    "pivot_table_year.plot(y = 'median_price') \n",
    "plt.show()\n",
    "#рассчитаем корреляцию\n",
    "display(sity_center_flat['year'].corr(sity_center_flat['last_price']))"
   ]
  },
  {
   "cell_type": "markdown",
   "metadata": {},
   "source": [
    "С 2015 по 2016 цены на квартиры росли, однако после 2016 года цены пошли на спад. В 2019 году цена достигла минимума. Коэффициент корреляции близок к 0, линейной зависимоти изменения параметров нет."
   ]
  },
  {
   "cell_type": "markdown",
   "metadata": {},
   "source": [
    "**Общий вывод**"
   ]
  },
  {
   "cell_type": "markdown",
   "metadata": {},
   "source": [
    "Единственный параметр, который отличается от параметров по городу в целом, это влияние цены квартир от дня размещения объявления:\n",
    "- если смотреть на график роста цены по городу в целом, то самые высокие цены на квартиры устанавливаются в начале недели, а если рассматривать график продаж квартир в центре, то максимальные цены на квартиры устанавливают в выходные;\n",
    "- при рассматрении цен в зависимости от месяца, можем сказать, что этот параметр одинаков для обоих исселований, т.к. прослеживается сезонность;\n",
    "- есть различия в цене на квартиры в зависимости от года. В центре города с 2015 по 2016 цены на квартиры росли и с 2016 года цены пошли на спад. А если смотреть на картину в целом, то с 2015 по 2016 год было уменьшение цены, с 2016 по 2018 годы цены не менялись, а с 2018 начали расти.\n",
    "В остальном все выводы совпадают:\n",
    "- чем больше площадь квартиры, тем цена на нее выше;\n",
    "- чем больше комнат, тем цена выше;\n",
    "- чем дальше от центра расположена квартира, тем ее цена ниже;\n",
    "- чем выше этаж, тем цена выше."
   ]
  },
  {
   "cell_type": "markdown",
   "metadata": {},
   "source": [
    "## Общий вывод"
   ]
  },
  {
   "cell_type": "markdown",
   "metadata": {},
   "source": [
    "Произведя все расчеты мы установили главные параметры, влияющие на стоимость квартир. Это количество комнат, площадь квартиры, расположение относительно центра, и этаж расположения квартиры."
   ]
  }
 ],
 "metadata": {
  "ExecuteTimeLog": [
   {
    "duration": 250,
    "start_time": "2022-02-09T11:12:44.046Z"
   },
   {
    "duration": 569,
    "start_time": "2022-02-09T11:12:47.215Z"
   },
   {
    "duration": 88,
    "start_time": "2022-02-09T11:12:48.735Z"
   },
   {
    "duration": 387,
    "start_time": "2022-02-09T11:21:17.363Z"
   },
   {
    "duration": 72,
    "start_time": "2022-02-09T11:22:16.541Z"
   },
   {
    "duration": 9,
    "start_time": "2022-02-09T12:20:19.212Z"
   },
   {
    "duration": 90,
    "start_time": "2022-02-09T12:33:15.033Z"
   },
   {
    "duration": 29,
    "start_time": "2022-02-09T12:36:55.048Z"
   },
   {
    "duration": 24,
    "start_time": "2022-02-09T12:37:50.312Z"
   },
   {
    "duration": 24,
    "start_time": "2022-02-09T12:38:20.933Z"
   },
   {
    "duration": 6,
    "start_time": "2022-02-09T12:38:33.252Z"
   },
   {
    "duration": 79,
    "start_time": "2022-02-09T12:38:50.341Z"
   },
   {
    "duration": 5,
    "start_time": "2022-02-09T12:43:51.868Z"
   },
   {
    "duration": 23,
    "start_time": "2022-02-09T12:43:53.022Z"
   },
   {
    "duration": 11,
    "start_time": "2022-02-09T12:48:27.315Z"
   },
   {
    "duration": 1311,
    "start_time": "2022-02-09T12:49:12.584Z"
   },
   {
    "duration": 1545,
    "start_time": "2022-02-09T12:50:02.931Z"
   },
   {
    "duration": 1361,
    "start_time": "2022-02-09T12:50:27.645Z"
   },
   {
    "duration": 20,
    "start_time": "2022-02-09T12:50:59.125Z"
   },
   {
    "duration": 89,
    "start_time": "2022-02-09T13:13:25.063Z"
   },
   {
    "duration": 193,
    "start_time": "2022-02-09T13:14:17.029Z"
   },
   {
    "duration": 4,
    "start_time": "2022-02-09T13:14:36.868Z"
   },
   {
    "duration": 83,
    "start_time": "2022-02-09T13:44:24.771Z"
   },
   {
    "duration": 86,
    "start_time": "2022-02-09T13:45:04.161Z"
   },
   {
    "duration": 6,
    "start_time": "2022-02-09T13:45:28.047Z"
   },
   {
    "duration": 5,
    "start_time": "2022-02-09T13:47:04.563Z"
   },
   {
    "duration": 4,
    "start_time": "2022-02-09T14:01:55.112Z"
   },
   {
    "duration": 2,
    "start_time": "2022-02-09T14:02:03.066Z"
   },
   {
    "duration": 80,
    "start_time": "2022-02-09T14:02:03.073Z"
   },
   {
    "duration": 74,
    "start_time": "2022-02-09T14:02:03.155Z"
   },
   {
    "duration": 8,
    "start_time": "2022-02-09T14:02:03.230Z"
   },
   {
    "duration": 6,
    "start_time": "2022-02-09T14:02:03.240Z"
   },
   {
    "duration": 22,
    "start_time": "2022-02-09T14:02:03.247Z"
   },
   {
    "duration": 9,
    "start_time": "2022-02-09T14:02:03.271Z"
   },
   {
    "duration": 48,
    "start_time": "2022-02-09T14:02:03.282Z"
   },
   {
    "duration": 32,
    "start_time": "2022-02-09T14:02:03.332Z"
   },
   {
    "duration": 2,
    "start_time": "2022-02-09T14:33:50.716Z"
   },
   {
    "duration": 74,
    "start_time": "2022-02-09T14:33:53.485Z"
   },
   {
    "duration": 3,
    "start_time": "2022-02-09T14:33:59.262Z"
   },
   {
    "duration": 79,
    "start_time": "2022-02-09T14:33:59.267Z"
   },
   {
    "duration": 76,
    "start_time": "2022-02-09T14:33:59.348Z"
   },
   {
    "duration": 8,
    "start_time": "2022-02-09T14:33:59.426Z"
   },
   {
    "duration": 5,
    "start_time": "2022-02-09T14:33:59.436Z"
   },
   {
    "duration": 23,
    "start_time": "2022-02-09T14:33:59.442Z"
   },
   {
    "duration": 10,
    "start_time": "2022-02-09T14:33:59.466Z"
   },
   {
    "duration": 47,
    "start_time": "2022-02-09T14:33:59.478Z"
   },
   {
    "duration": 21,
    "start_time": "2022-02-09T14:33:59.527Z"
   },
   {
    "duration": 70,
    "start_time": "2022-02-09T14:33:59.550Z"
   },
   {
    "duration": 206,
    "start_time": "2022-02-09T14:37:23.268Z"
   },
   {
    "duration": 198,
    "start_time": "2022-02-09T14:37:45.887Z"
   },
   {
    "duration": 196,
    "start_time": "2022-02-09T14:38:18.753Z"
   },
   {
    "duration": 7,
    "start_time": "2022-02-09T14:40:17.933Z"
   },
   {
    "duration": 23,
    "start_time": "2022-02-09T14:40:28.014Z"
   },
   {
    "duration": 193,
    "start_time": "2022-02-09T14:40:59.304Z"
   },
   {
    "duration": 24,
    "start_time": "2022-02-09T14:41:09.492Z"
   },
   {
    "duration": 206,
    "start_time": "2022-02-09T14:42:46.304Z"
   },
   {
    "duration": 27,
    "start_time": "2022-02-09T14:42:55.446Z"
   },
   {
    "duration": 29,
    "start_time": "2022-02-09T14:43:27.469Z"
   },
   {
    "duration": 3,
    "start_time": "2022-02-09T14:43:45.882Z"
   },
   {
    "duration": 81,
    "start_time": "2022-02-09T14:43:45.886Z"
   },
   {
    "duration": 74,
    "start_time": "2022-02-09T14:43:45.969Z"
   },
   {
    "duration": 8,
    "start_time": "2022-02-09T14:43:46.044Z"
   },
   {
    "duration": 5,
    "start_time": "2022-02-09T14:43:46.054Z"
   },
   {
    "duration": 24,
    "start_time": "2022-02-09T14:43:46.060Z"
   },
   {
    "duration": 30,
    "start_time": "2022-02-09T14:43:46.086Z"
   },
   {
    "duration": 20,
    "start_time": "2022-02-09T14:43:46.118Z"
   },
   {
    "duration": 23,
    "start_time": "2022-02-09T14:43:46.141Z"
   },
   {
    "duration": 62,
    "start_time": "2022-02-09T14:43:46.166Z"
   },
   {
    "duration": 5,
    "start_time": "2022-02-09T15:33:36.214Z"
   },
   {
    "duration": 196,
    "start_time": "2022-02-09T15:33:57.802Z"
   },
   {
    "duration": 186,
    "start_time": "2022-02-09T15:34:01.678Z"
   },
   {
    "duration": 6,
    "start_time": "2022-02-09T15:34:22.979Z"
   },
   {
    "duration": 64,
    "start_time": "2022-02-09T15:35:55.546Z"
   },
   {
    "duration": 3,
    "start_time": "2022-02-09T15:36:09.909Z"
   },
   {
    "duration": 13,
    "start_time": "2022-02-09T15:38:16.531Z"
   },
   {
    "duration": 30,
    "start_time": "2022-02-09T15:38:39.952Z"
   },
   {
    "duration": 23,
    "start_time": "2022-02-09T15:47:27.491Z"
   },
   {
    "duration": 24,
    "start_time": "2022-02-09T15:49:21.969Z"
   },
   {
    "duration": 2,
    "start_time": "2022-02-09T15:52:35.630Z"
   },
   {
    "duration": 78,
    "start_time": "2022-02-09T15:52:35.635Z"
   },
   {
    "duration": 73,
    "start_time": "2022-02-09T15:52:35.715Z"
   },
   {
    "duration": 27,
    "start_time": "2022-02-09T15:52:35.789Z"
   },
   {
    "duration": 5,
    "start_time": "2022-02-09T15:52:35.817Z"
   },
   {
    "duration": 46,
    "start_time": "2022-02-09T15:52:35.824Z"
   },
   {
    "duration": 9,
    "start_time": "2022-02-09T15:52:35.872Z"
   },
   {
    "duration": 23,
    "start_time": "2022-02-09T15:52:35.883Z"
   },
   {
    "duration": 26,
    "start_time": "2022-02-09T15:52:35.908Z"
   },
   {
    "duration": 38,
    "start_time": "2022-02-09T15:52:35.936Z"
   },
   {
    "duration": 45,
    "start_time": "2022-02-09T15:52:35.975Z"
   },
   {
    "duration": 23,
    "start_time": "2022-02-09T15:52:36.021Z"
   },
   {
    "duration": 323,
    "start_time": "2022-02-10T11:22:31.707Z"
   },
   {
    "duration": 668,
    "start_time": "2022-02-10T11:22:41.775Z"
   },
   {
    "duration": 99,
    "start_time": "2022-02-10T11:22:42.445Z"
   },
   {
    "duration": 89,
    "start_time": "2022-02-10T11:22:42.547Z"
   },
   {
    "duration": 11,
    "start_time": "2022-02-10T11:22:42.639Z"
   },
   {
    "duration": 33,
    "start_time": "2022-02-10T11:22:42.651Z"
   },
   {
    "duration": 41,
    "start_time": "2022-02-10T11:22:42.686Z"
   },
   {
    "duration": 12,
    "start_time": "2022-02-10T11:22:42.728Z"
   },
   {
    "duration": 52,
    "start_time": "2022-02-10T11:22:42.742Z"
   },
   {
    "duration": 40,
    "start_time": "2022-02-10T11:22:42.796Z"
   },
   {
    "duration": 50,
    "start_time": "2022-02-10T11:22:42.838Z"
   },
   {
    "duration": 43,
    "start_time": "2022-02-10T11:22:42.890Z"
   },
   {
    "duration": 35,
    "start_time": "2022-02-10T11:22:42.935Z"
   },
   {
    "duration": 279,
    "start_time": "2022-02-10T11:22:42.972Z"
   },
   {
    "duration": 373,
    "start_time": "2022-02-10T11:23:45.452Z"
   },
   {
    "duration": 692,
    "start_time": "2022-02-10T11:23:54.771Z"
   },
   {
    "duration": 372,
    "start_time": "2022-02-10T11:23:59.294Z"
   },
   {
    "duration": 379,
    "start_time": "2022-02-10T11:25:20.366Z"
   },
   {
    "duration": 598,
    "start_time": "2022-02-10T11:28:00.010Z"
   },
   {
    "duration": 209,
    "start_time": "2022-02-10T11:28:57.307Z"
   },
   {
    "duration": 463,
    "start_time": "2022-02-10T11:29:08.602Z"
   },
   {
    "duration": 402,
    "start_time": "2022-02-10T11:29:14.541Z"
   },
   {
    "duration": 225,
    "start_time": "2022-02-10T11:29:46.211Z"
   },
   {
    "duration": 431,
    "start_time": "2022-02-10T11:30:01.639Z"
   },
   {
    "duration": 309,
    "start_time": "2022-02-10T11:30:26.845Z"
   },
   {
    "duration": 381,
    "start_time": "2022-02-10T11:30:46.380Z"
   },
   {
    "duration": 455,
    "start_time": "2022-02-10T11:31:02.699Z"
   },
   {
    "duration": 82,
    "start_time": "2022-02-10T11:32:47.436Z"
   },
   {
    "duration": 502,
    "start_time": "2022-02-10T11:32:57.359Z"
   },
   {
    "duration": 404,
    "start_time": "2022-02-10T11:33:18.241Z"
   },
   {
    "duration": 378,
    "start_time": "2022-02-10T11:33:47.830Z"
   },
   {
    "duration": 433,
    "start_time": "2022-02-10T11:34:05.609Z"
   },
   {
    "duration": 226,
    "start_time": "2022-02-10T11:34:35.500Z"
   },
   {
    "duration": 382,
    "start_time": "2022-02-10T11:34:56.732Z"
   },
   {
    "duration": 496,
    "start_time": "2022-02-10T11:35:11.031Z"
   },
   {
    "duration": 309,
    "start_time": "2022-02-10T11:35:18.445Z"
   },
   {
    "duration": 222,
    "start_time": "2022-02-10T11:35:24.554Z"
   },
   {
    "duration": 220,
    "start_time": "2022-02-10T11:36:05.373Z"
   },
   {
    "duration": 241,
    "start_time": "2022-02-10T11:36:26.496Z"
   },
   {
    "duration": 402,
    "start_time": "2022-02-10T11:39:17.884Z"
   },
   {
    "duration": 312,
    "start_time": "2022-02-10T11:40:53.143Z"
   },
   {
    "duration": 271,
    "start_time": "2022-02-10T11:41:16.172Z"
   },
   {
    "duration": 281,
    "start_time": "2022-02-10T11:41:21.931Z"
   },
   {
    "duration": 256,
    "start_time": "2022-02-10T11:41:27.993Z"
   },
   {
    "duration": 401,
    "start_time": "2022-02-10T11:41:33.633Z"
   },
   {
    "duration": 105,
    "start_time": "2022-02-10T11:43:20.832Z"
   },
   {
    "duration": 97,
    "start_time": "2022-02-10T11:44:38.138Z"
   },
   {
    "duration": 2,
    "start_time": "2022-02-10T11:44:55.608Z"
   },
   {
    "duration": 95,
    "start_time": "2022-02-10T11:44:55.612Z"
   },
   {
    "duration": 8,
    "start_time": "2022-02-10T11:44:55.709Z"
   },
   {
    "duration": 5,
    "start_time": "2022-02-10T11:44:55.719Z"
   },
   {
    "duration": 25,
    "start_time": "2022-02-10T11:44:55.726Z"
   },
   {
    "duration": 10,
    "start_time": "2022-02-10T11:44:55.752Z"
   },
   {
    "duration": 48,
    "start_time": "2022-02-10T11:44:55.764Z"
   },
   {
    "duration": 28,
    "start_time": "2022-02-10T11:44:55.814Z"
   },
   {
    "duration": 55,
    "start_time": "2022-02-10T11:44:55.844Z"
   },
   {
    "duration": 35,
    "start_time": "2022-02-10T11:44:55.900Z"
   },
   {
    "duration": 26,
    "start_time": "2022-02-10T11:44:55.937Z"
   },
   {
    "duration": 129,
    "start_time": "2022-02-10T11:44:55.964Z"
   },
   {
    "duration": 408,
    "start_time": "2022-02-10T11:44:56.099Z"
   },
   {
    "duration": 548,
    "start_time": "2022-02-10T11:44:56.509Z"
   },
   {
    "duration": 234,
    "start_time": "2022-02-10T11:44:57.059Z"
   },
   {
    "duration": 392,
    "start_time": "2022-02-10T11:46:02.863Z"
   },
   {
    "duration": 382,
    "start_time": "2022-02-10T11:46:09.981Z"
   },
   {
    "duration": 404,
    "start_time": "2022-02-10T11:46:38.946Z"
   },
   {
    "duration": 386,
    "start_time": "2022-02-10T11:46:43.827Z"
   },
   {
    "duration": 392,
    "start_time": "2022-02-10T11:46:59.622Z"
   },
   {
    "duration": 412,
    "start_time": "2022-02-10T11:47:42.350Z"
   },
   {
    "duration": 219,
    "start_time": "2022-02-10T11:49:54.261Z"
   },
   {
    "duration": 400,
    "start_time": "2022-02-10T11:50:07.402Z"
   },
   {
    "duration": 397,
    "start_time": "2022-02-10T11:50:25.499Z"
   },
   {
    "duration": 214,
    "start_time": "2022-02-10T11:51:54.657Z"
   },
   {
    "duration": 219,
    "start_time": "2022-02-10T11:52:19.301Z"
   },
   {
    "duration": 221,
    "start_time": "2022-02-10T11:52:24.951Z"
   },
   {
    "duration": 3,
    "start_time": "2022-02-10T12:15:06.195Z"
   },
   {
    "duration": 106,
    "start_time": "2022-02-10T12:15:06.201Z"
   },
   {
    "duration": 9,
    "start_time": "2022-02-10T12:15:06.309Z"
   },
   {
    "duration": 9,
    "start_time": "2022-02-10T12:15:06.321Z"
   },
   {
    "duration": 26,
    "start_time": "2022-02-10T12:15:06.332Z"
   },
   {
    "duration": 38,
    "start_time": "2022-02-10T12:15:06.360Z"
   },
   {
    "duration": 24,
    "start_time": "2022-02-10T12:15:06.400Z"
   },
   {
    "duration": 28,
    "start_time": "2022-02-10T12:15:06.426Z"
   },
   {
    "duration": 60,
    "start_time": "2022-02-10T12:15:06.456Z"
   },
   {
    "duration": 34,
    "start_time": "2022-02-10T12:15:06.518Z"
   },
   {
    "duration": 49,
    "start_time": "2022-02-10T12:15:06.554Z"
   },
   {
    "duration": 112,
    "start_time": "2022-02-10T12:15:06.605Z"
   },
   {
    "duration": 483,
    "start_time": "2022-02-10T12:15:06.719Z"
   },
   {
    "duration": 420,
    "start_time": "2022-02-10T12:15:07.204Z"
   },
   {
    "duration": 259,
    "start_time": "2022-02-10T12:15:07.625Z"
   },
   {
    "duration": 249,
    "start_time": "2022-02-10T12:15:07.886Z"
   },
   {
    "duration": 3,
    "start_time": "2022-02-10T12:15:08.136Z"
   },
   {
    "duration": 396,
    "start_time": "2022-02-10T12:15:30.479Z"
   },
   {
    "duration": 413,
    "start_time": "2022-02-10T12:18:19.150Z"
   },
   {
    "duration": 555,
    "start_time": "2022-02-10T12:18:25.796Z"
   },
   {
    "duration": 425,
    "start_time": "2022-02-10T12:18:45.653Z"
   },
   {
    "duration": 238,
    "start_time": "2022-02-10T12:18:51.573Z"
   },
   {
    "duration": 236,
    "start_time": "2022-02-10T12:18:58.019Z"
   },
   {
    "duration": 739,
    "start_time": "2022-02-10T12:19:27.033Z"
   },
   {
    "duration": 381,
    "start_time": "2022-02-10T13:08:37.443Z"
   },
   {
    "duration": 121,
    "start_time": "2022-02-10T13:47:03.767Z"
   },
   {
    "duration": 119,
    "start_time": "2022-02-10T13:47:56.207Z"
   },
   {
    "duration": 236,
    "start_time": "2022-02-10T14:17:32.330Z"
   },
   {
    "duration": 312,
    "start_time": "2022-02-10T14:18:03.841Z"
   },
   {
    "duration": 264,
    "start_time": "2022-02-10T14:18:13.063Z"
   },
   {
    "duration": 228,
    "start_time": "2022-02-10T14:19:27.263Z"
   },
   {
    "duration": 11,
    "start_time": "2022-02-10T14:27:48.866Z"
   },
   {
    "duration": 19,
    "start_time": "2022-02-10T14:28:01.938Z"
   },
   {
    "duration": 17,
    "start_time": "2022-02-10T14:31:18.272Z"
   },
   {
    "duration": 397,
    "start_time": "2022-02-10T14:39:50.618Z"
   },
   {
    "duration": 278,
    "start_time": "2022-02-10T14:42:22.112Z"
   },
   {
    "duration": 20,
    "start_time": "2022-02-10T14:42:36.615Z"
   },
   {
    "duration": 21,
    "start_time": "2022-02-10T14:42:50.932Z"
   },
   {
    "duration": 353,
    "start_time": "2022-02-10T14:45:58.184Z"
   },
   {
    "duration": 389,
    "start_time": "2022-02-10T14:46:04.539Z"
   },
   {
    "duration": 9,
    "start_time": "2022-02-10T14:46:47.217Z"
   },
   {
    "duration": 381,
    "start_time": "2022-02-10T14:47:20.817Z"
   },
   {
    "duration": 618,
    "start_time": "2022-02-10T14:47:36.322Z"
   },
   {
    "duration": 410,
    "start_time": "2022-02-10T14:48:14.988Z"
   },
   {
    "duration": 224,
    "start_time": "2022-02-10T14:48:45.782Z"
   },
   {
    "duration": 225,
    "start_time": "2022-02-10T14:49:08.391Z"
   },
   {
    "duration": 227,
    "start_time": "2022-02-10T14:49:11.313Z"
   },
   {
    "duration": 401,
    "start_time": "2022-02-10T14:49:51.175Z"
   },
   {
    "duration": 262,
    "start_time": "2022-02-10T14:50:02.531Z"
   },
   {
    "duration": 308,
    "start_time": "2022-02-10T14:50:07.445Z"
   },
   {
    "duration": 257,
    "start_time": "2022-02-10T14:50:16.529Z"
   },
   {
    "duration": 241,
    "start_time": "2022-02-10T14:50:26.112Z"
   },
   {
    "duration": 237,
    "start_time": "2022-02-10T14:51:00.313Z"
   },
   {
    "duration": 193,
    "start_time": "2022-02-10T14:51:09.878Z"
   },
   {
    "duration": 209,
    "start_time": "2022-02-10T14:51:20.234Z"
   },
   {
    "duration": 201,
    "start_time": "2022-02-10T14:51:31.510Z"
   },
   {
    "duration": 203,
    "start_time": "2022-02-10T14:51:37.561Z"
   },
   {
    "duration": 377,
    "start_time": "2022-02-10T14:52:07.169Z"
   },
   {
    "duration": 23,
    "start_time": "2022-02-10T14:53:19.576Z"
   },
   {
    "duration": 12,
    "start_time": "2022-02-10T14:54:10.372Z"
   },
   {
    "duration": 15,
    "start_time": "2022-02-10T15:13:49.274Z"
   },
   {
    "duration": 14,
    "start_time": "2022-02-10T15:14:28.785Z"
   },
   {
    "duration": 15,
    "start_time": "2022-02-10T15:14:52.410Z"
   },
   {
    "duration": 2,
    "start_time": "2022-02-10T15:27:06.789Z"
   },
   {
    "duration": 169,
    "start_time": "2022-02-10T15:42:15.595Z"
   },
   {
    "duration": 260,
    "start_time": "2022-02-10T15:46:35.498Z"
   },
   {
    "duration": 1316,
    "start_time": "2022-02-10T15:48:14.528Z"
   },
   {
    "duration": 262,
    "start_time": "2022-02-10T15:49:32.084Z"
   },
   {
    "duration": 19,
    "start_time": "2022-02-10T15:50:05.318Z"
   },
   {
    "duration": 6601,
    "start_time": "2022-02-10T15:50:15.847Z"
   },
   {
    "duration": 271,
    "start_time": "2022-02-10T15:50:40.594Z"
   },
   {
    "duration": 6515,
    "start_time": "2022-02-10T15:51:00.955Z"
   },
   {
    "duration": 6564,
    "start_time": "2022-02-10T15:53:07.971Z"
   },
   {
    "duration": 159,
    "start_time": "2022-02-10T15:53:28.346Z"
   },
   {
    "duration": 137,
    "start_time": "2022-02-10T15:54:39.769Z"
   },
   {
    "duration": 143,
    "start_time": "2022-02-10T15:55:21.235Z"
   },
   {
    "duration": 3,
    "start_time": "2022-02-10T15:55:31.212Z"
   },
   {
    "duration": 98,
    "start_time": "2022-02-10T15:55:31.217Z"
   },
   {
    "duration": 9,
    "start_time": "2022-02-10T15:55:31.317Z"
   },
   {
    "duration": 22,
    "start_time": "2022-02-10T15:55:31.328Z"
   },
   {
    "duration": 35,
    "start_time": "2022-02-10T15:55:31.352Z"
   },
   {
    "duration": 18,
    "start_time": "2022-02-10T15:55:31.388Z"
   },
   {
    "duration": 31,
    "start_time": "2022-02-10T15:55:31.409Z"
   },
   {
    "duration": 32,
    "start_time": "2022-02-10T15:55:31.443Z"
   },
   {
    "duration": 50,
    "start_time": "2022-02-10T15:55:31.477Z"
   },
   {
    "duration": 34,
    "start_time": "2022-02-10T15:55:31.528Z"
   },
   {
    "duration": 44,
    "start_time": "2022-02-10T15:55:31.564Z"
   },
   {
    "duration": 386,
    "start_time": "2022-02-10T15:55:31.610Z"
   },
   {
    "duration": 412,
    "start_time": "2022-02-10T15:55:31.998Z"
   },
   {
    "duration": 263,
    "start_time": "2022-02-10T15:55:32.412Z"
   },
   {
    "duration": 213,
    "start_time": "2022-02-10T15:55:32.677Z"
   },
   {
    "duration": 387,
    "start_time": "2022-02-10T15:55:32.891Z"
   },
   {
    "duration": 20,
    "start_time": "2022-02-10T15:55:33.279Z"
   },
   {
    "duration": 156,
    "start_time": "2022-02-10T15:55:33.301Z"
   },
   {
    "duration": 135,
    "start_time": "2022-02-10T15:55:47.147Z"
   },
   {
    "duration": 148,
    "start_time": "2022-02-10T15:56:11.538Z"
   },
   {
    "duration": 154,
    "start_time": "2022-02-10T15:57:03.714Z"
   },
   {
    "duration": 139,
    "start_time": "2022-02-10T15:57:46.414Z"
   },
   {
    "duration": 159,
    "start_time": "2022-02-10T15:57:58.973Z"
   },
   {
    "duration": 140,
    "start_time": "2022-02-10T15:58:12.107Z"
   },
   {
    "duration": 153,
    "start_time": "2022-02-10T15:58:31.699Z"
   },
   {
    "duration": 156,
    "start_time": "2022-02-10T15:59:34.614Z"
   },
   {
    "duration": 139,
    "start_time": "2022-02-10T16:03:26.213Z"
   },
   {
    "duration": 156,
    "start_time": "2022-02-10T16:03:42.820Z"
   },
   {
    "duration": 138,
    "start_time": "2022-02-10T16:06:08.412Z"
   },
   {
    "duration": 140,
    "start_time": "2022-02-10T16:06:10.735Z"
   },
   {
    "duration": 437,
    "start_time": "2022-02-10T16:10:50.098Z"
   },
   {
    "duration": 137,
    "start_time": "2022-02-10T16:10:59.009Z"
   },
   {
    "duration": 156,
    "start_time": "2022-02-10T16:13:56.525Z"
   },
   {
    "duration": 156,
    "start_time": "2022-02-10T16:20:21.037Z"
   },
   {
    "duration": 444,
    "start_time": "2022-02-10T16:25:27.252Z"
   },
   {
    "duration": 160,
    "start_time": "2022-02-10T16:25:47.761Z"
   },
   {
    "duration": 272,
    "start_time": "2022-02-10T16:26:00.098Z"
   },
   {
    "duration": 679,
    "start_time": "2022-02-10T16:26:11.465Z"
   },
   {
    "duration": 178,
    "start_time": "2022-02-10T16:26:18.954Z"
   },
   {
    "duration": 152,
    "start_time": "2022-02-10T16:32:19.706Z"
   },
   {
    "duration": 149,
    "start_time": "2022-02-10T16:34:50.073Z"
   },
   {
    "duration": 167,
    "start_time": "2022-02-10T16:35:22.988Z"
   },
   {
    "duration": 283,
    "start_time": "2022-02-10T16:38:22.104Z"
   },
   {
    "duration": 162,
    "start_time": "2022-02-10T16:39:56.158Z"
   },
   {
    "duration": 302,
    "start_time": "2022-02-12T12:13:18.350Z"
   },
   {
    "duration": 687,
    "start_time": "2022-02-12T12:13:24.644Z"
   },
   {
    "duration": 86,
    "start_time": "2022-02-12T12:13:25.333Z"
   },
   {
    "duration": 8,
    "start_time": "2022-02-12T12:13:25.421Z"
   },
   {
    "duration": 10,
    "start_time": "2022-02-12T12:13:25.431Z"
   },
   {
    "duration": 22,
    "start_time": "2022-02-12T12:13:25.443Z"
   },
   {
    "duration": 10,
    "start_time": "2022-02-12T12:13:25.467Z"
   },
   {
    "duration": 48,
    "start_time": "2022-02-12T12:13:25.479Z"
   },
   {
    "duration": 22,
    "start_time": "2022-02-12T12:13:25.529Z"
   },
   {
    "duration": 30,
    "start_time": "2022-02-12T12:13:25.553Z"
   },
   {
    "duration": 55,
    "start_time": "2022-02-12T12:13:25.585Z"
   },
   {
    "duration": 21,
    "start_time": "2022-02-12T12:13:25.642Z"
   },
   {
    "duration": 332,
    "start_time": "2022-02-12T12:13:25.665Z"
   },
   {
    "duration": 351,
    "start_time": "2022-02-12T12:13:25.998Z"
   },
   {
    "duration": 269,
    "start_time": "2022-02-12T12:13:26.350Z"
   },
   {
    "duration": 185,
    "start_time": "2022-02-12T12:13:26.621Z"
   },
   {
    "duration": 318,
    "start_time": "2022-02-12T12:13:26.808Z"
   },
   {
    "duration": 12,
    "start_time": "2022-02-12T12:13:27.128Z"
   },
   {
    "duration": 162,
    "start_time": "2022-02-12T12:13:27.141Z"
   },
   {
    "duration": 317,
    "start_time": "2022-02-12T12:26:38.394Z"
   },
   {
    "duration": 327,
    "start_time": "2022-02-12T12:26:44.552Z"
   },
   {
    "duration": 11,
    "start_time": "2022-02-12T12:26:58.599Z"
   },
   {
    "duration": 13,
    "start_time": "2022-02-12T12:30:55.035Z"
   },
   {
    "duration": 11,
    "start_time": "2022-02-12T12:31:30.898Z"
   },
   {
    "duration": 13,
    "start_time": "2022-02-12T12:31:46.013Z"
   },
   {
    "duration": 13,
    "start_time": "2022-02-12T12:32:09.843Z"
   },
   {
    "duration": 14,
    "start_time": "2022-02-12T12:32:19.557Z"
   },
   {
    "duration": 7,
    "start_time": "2022-02-12T12:37:45.252Z"
   },
   {
    "duration": 36,
    "start_time": "2022-02-12T12:38:00.242Z"
   },
   {
    "duration": 7151,
    "start_time": "2022-02-12T12:40:09.418Z"
   },
   {
    "duration": 3836,
    "start_time": "2022-02-12T12:41:31.234Z"
   },
   {
    "duration": 286,
    "start_time": "2022-02-12T12:41:59.777Z"
   },
   {
    "duration": 397,
    "start_time": "2022-02-12T12:42:08.628Z"
   },
   {
    "duration": 43,
    "start_time": "2022-02-12T12:42:53.541Z"
   },
   {
    "duration": 304,
    "start_time": "2022-02-12T12:42:55.605Z"
   },
   {
    "duration": 37,
    "start_time": "2022-02-12T12:49:22.190Z"
   },
   {
    "duration": 317,
    "start_time": "2022-02-12T12:49:30.796Z"
   },
   {
    "duration": 7,
    "start_time": "2022-02-12T12:49:48.009Z"
   },
   {
    "duration": 331,
    "start_time": "2022-02-12T12:50:00.013Z"
   },
   {
    "duration": 327,
    "start_time": "2022-02-12T12:50:34.571Z"
   },
   {
    "duration": 315,
    "start_time": "2022-02-12T12:52:45.805Z"
   },
   {
    "duration": 574,
    "start_time": "2022-02-12T12:54:50.663Z"
   },
   {
    "duration": 333,
    "start_time": "2022-02-12T12:57:32.494Z"
   },
   {
    "duration": 633,
    "start_time": "2022-02-12T12:57:45.387Z"
   },
   {
    "duration": 843,
    "start_time": "2022-02-12T12:59:01.333Z"
   },
   {
    "duration": 625,
    "start_time": "2022-02-12T12:59:20.620Z"
   },
   {
    "duration": 329,
    "start_time": "2022-02-12T13:00:41.116Z"
   },
   {
    "duration": 608,
    "start_time": "2022-02-12T13:08:22.543Z"
   },
   {
    "duration": 599,
    "start_time": "2022-02-12T13:08:40.013Z"
   },
   {
    "duration": 449,
    "start_time": "2022-02-12T13:09:17.132Z"
   },
   {
    "duration": 642,
    "start_time": "2022-02-12T13:09:40.696Z"
   },
   {
    "duration": 652,
    "start_time": "2022-02-12T13:09:57.917Z"
   },
   {
    "duration": 409,
    "start_time": "2022-02-12T13:11:55.274Z"
   },
   {
    "duration": 733,
    "start_time": "2022-02-12T13:12:04.259Z"
   },
   {
    "duration": 313,
    "start_time": "2022-02-12T13:12:17.992Z"
   },
   {
    "duration": 324,
    "start_time": "2022-02-12T13:13:47.803Z"
   },
   {
    "duration": 312,
    "start_time": "2022-02-12T13:14:19.457Z"
   },
   {
    "duration": 34,
    "start_time": "2022-02-12T13:18:23.828Z"
   },
   {
    "duration": 275,
    "start_time": "2022-02-12T13:23:16.628Z"
   },
   {
    "duration": 10,
    "start_time": "2022-02-12T13:23:55.758Z"
   },
   {
    "duration": 8,
    "start_time": "2022-02-12T13:24:43.561Z"
   },
   {
    "duration": 386,
    "start_time": "2022-02-12T13:24:56.591Z"
   },
   {
    "duration": 409,
    "start_time": "2022-02-12T13:25:04.352Z"
   },
   {
    "duration": 310,
    "start_time": "2022-02-12T13:25:32.744Z"
   },
   {
    "duration": 311,
    "start_time": "2022-02-12T13:25:41.072Z"
   },
   {
    "duration": 254,
    "start_time": "2022-02-12T13:31:23.071Z"
   },
   {
    "duration": 307,
    "start_time": "2022-02-12T13:35:47.661Z"
   },
   {
    "duration": 387,
    "start_time": "2022-02-12T13:36:27.262Z"
   },
   {
    "duration": 291,
    "start_time": "2022-02-12T13:36:50.734Z"
   },
   {
    "duration": 3,
    "start_time": "2022-02-12T13:37:04.361Z"
   },
   {
    "duration": 100,
    "start_time": "2022-02-12T13:37:04.366Z"
   },
   {
    "duration": 10,
    "start_time": "2022-02-12T13:37:04.468Z"
   },
   {
    "duration": 8,
    "start_time": "2022-02-12T13:37:04.481Z"
   },
   {
    "duration": 56,
    "start_time": "2022-02-12T13:37:04.492Z"
   },
   {
    "duration": 15,
    "start_time": "2022-02-12T13:37:04.550Z"
   },
   {
    "duration": 30,
    "start_time": "2022-02-12T13:37:04.567Z"
   },
   {
    "duration": 41,
    "start_time": "2022-02-12T13:37:04.600Z"
   },
   {
    "duration": 30,
    "start_time": "2022-02-12T13:37:04.643Z"
   },
   {
    "duration": 57,
    "start_time": "2022-02-12T13:37:04.675Z"
   },
   {
    "duration": 22,
    "start_time": "2022-02-12T13:37:04.733Z"
   },
   {
    "duration": 325,
    "start_time": "2022-02-12T13:37:04.757Z"
   },
   {
    "duration": 384,
    "start_time": "2022-02-12T13:37:05.084Z"
   },
   {
    "duration": 229,
    "start_time": "2022-02-12T13:37:05.470Z"
   },
   {
    "duration": 184,
    "start_time": "2022-02-12T13:37:05.701Z"
   },
   {
    "duration": 325,
    "start_time": "2022-02-12T13:37:05.887Z"
   },
   {
    "duration": 12,
    "start_time": "2022-02-12T13:37:06.218Z"
   },
   {
    "duration": 251,
    "start_time": "2022-02-12T13:37:06.232Z"
   },
   {
    "duration": 12,
    "start_time": "2022-02-12T13:37:06.485Z"
   },
   {
    "duration": 51,
    "start_time": "2022-02-12T13:37:06.499Z"
   },
   {
    "duration": 334,
    "start_time": "2022-02-12T13:37:06.552Z"
   },
   {
    "duration": 335,
    "start_time": "2022-02-12T13:37:06.888Z"
   },
   {
    "duration": 305,
    "start_time": "2022-02-12T13:37:40.822Z"
   },
   {
    "duration": 321,
    "start_time": "2022-02-12T13:37:45.459Z"
   },
   {
    "duration": 314,
    "start_time": "2022-02-12T13:38:43.065Z"
   },
   {
    "duration": 3,
    "start_time": "2022-02-12T13:38:48.767Z"
   },
   {
    "duration": 91,
    "start_time": "2022-02-12T13:38:48.772Z"
   },
   {
    "duration": 9,
    "start_time": "2022-02-12T13:38:48.865Z"
   },
   {
    "duration": 9,
    "start_time": "2022-02-12T13:38:48.876Z"
   },
   {
    "duration": 37,
    "start_time": "2022-02-12T13:38:48.887Z"
   },
   {
    "duration": 13,
    "start_time": "2022-02-12T13:38:48.927Z"
   },
   {
    "duration": 129,
    "start_time": "2022-02-12T13:38:48.942Z"
   },
   {
    "duration": 23,
    "start_time": "2022-02-12T13:38:49.073Z"
   },
   {
    "duration": 41,
    "start_time": "2022-02-12T13:38:49.098Z"
   },
   {
    "duration": 31,
    "start_time": "2022-02-12T13:38:49.141Z"
   },
   {
    "duration": 52,
    "start_time": "2022-02-12T13:38:49.174Z"
   },
   {
    "duration": 351,
    "start_time": "2022-02-12T13:38:49.228Z"
   },
   {
    "duration": 357,
    "start_time": "2022-02-12T13:38:49.580Z"
   },
   {
    "duration": 220,
    "start_time": "2022-02-12T13:38:49.938Z"
   },
   {
    "duration": 196,
    "start_time": "2022-02-12T13:38:50.160Z"
   },
   {
    "duration": 350,
    "start_time": "2022-02-12T13:38:50.358Z"
   },
   {
    "duration": 19,
    "start_time": "2022-02-12T13:38:50.710Z"
   },
   {
    "duration": 165,
    "start_time": "2022-02-12T13:38:50.730Z"
   },
   {
    "duration": 23,
    "start_time": "2022-02-12T13:38:50.897Z"
   },
   {
    "duration": 51,
    "start_time": "2022-02-12T13:38:50.922Z"
   },
   {
    "duration": 331,
    "start_time": "2022-02-12T13:38:50.975Z"
   },
   {
    "duration": 419,
    "start_time": "2022-02-12T13:38:51.308Z"
   },
   {
    "duration": 326,
    "start_time": "2022-02-12T13:39:06.432Z"
   },
   {
    "duration": 325,
    "start_time": "2022-02-12T13:39:59.793Z"
   },
   {
    "duration": 3,
    "start_time": "2022-02-12T13:40:14.828Z"
   },
   {
    "duration": 85,
    "start_time": "2022-02-12T13:40:14.833Z"
   },
   {
    "duration": 9,
    "start_time": "2022-02-12T13:40:14.920Z"
   },
   {
    "duration": 6,
    "start_time": "2022-02-12T13:40:14.931Z"
   },
   {
    "duration": 20,
    "start_time": "2022-02-12T13:40:14.939Z"
   },
   {
    "duration": 9,
    "start_time": "2022-02-12T13:40:14.961Z"
   },
   {
    "duration": 50,
    "start_time": "2022-02-12T13:40:14.972Z"
   },
   {
    "duration": 26,
    "start_time": "2022-02-12T13:40:15.024Z"
   },
   {
    "duration": 55,
    "start_time": "2022-02-12T13:40:15.053Z"
   },
   {
    "duration": 37,
    "start_time": "2022-02-12T13:40:15.110Z"
   },
   {
    "duration": 35,
    "start_time": "2022-02-12T13:40:15.149Z"
   },
   {
    "duration": 349,
    "start_time": "2022-02-12T13:40:15.186Z"
   },
   {
    "duration": 359,
    "start_time": "2022-02-12T13:40:15.537Z"
   },
   {
    "duration": 234,
    "start_time": "2022-02-12T13:40:15.899Z"
   },
   {
    "duration": 278,
    "start_time": "2022-02-12T13:40:16.135Z"
   },
   {
    "duration": 342,
    "start_time": "2022-02-12T13:40:16.415Z"
   },
   {
    "duration": 16,
    "start_time": "2022-02-12T13:40:16.760Z"
   },
   {
    "duration": 179,
    "start_time": "2022-02-12T13:40:16.778Z"
   },
   {
    "duration": 13,
    "start_time": "2022-02-12T13:40:16.960Z"
   },
   {
    "duration": 59,
    "start_time": "2022-02-12T13:40:16.975Z"
   },
   {
    "duration": 319,
    "start_time": "2022-02-12T13:40:17.036Z"
   },
   {
    "duration": 376,
    "start_time": "2022-02-12T13:40:34.233Z"
   },
   {
    "duration": 317,
    "start_time": "2022-02-12T13:40:37.803Z"
   },
   {
    "duration": 396,
    "start_time": "2022-02-12T13:41:26.129Z"
   },
   {
    "duration": 3,
    "start_time": "2022-02-12T13:41:35.459Z"
   },
   {
    "duration": 91,
    "start_time": "2022-02-12T13:41:35.464Z"
   },
   {
    "duration": 11,
    "start_time": "2022-02-12T13:41:35.558Z"
   },
   {
    "duration": 9,
    "start_time": "2022-02-12T13:41:35.571Z"
   },
   {
    "duration": 48,
    "start_time": "2022-02-12T13:41:35.582Z"
   },
   {
    "duration": 10,
    "start_time": "2022-02-12T13:41:35.632Z"
   },
   {
    "duration": 27,
    "start_time": "2022-02-12T13:41:35.644Z"
   },
   {
    "duration": 46,
    "start_time": "2022-02-12T13:41:35.673Z"
   },
   {
    "duration": 31,
    "start_time": "2022-02-12T13:41:35.722Z"
   },
   {
    "duration": 31,
    "start_time": "2022-02-12T13:41:35.755Z"
   },
   {
    "duration": 49,
    "start_time": "2022-02-12T13:41:35.787Z"
   },
   {
    "duration": 328,
    "start_time": "2022-02-12T13:41:35.837Z"
   },
   {
    "duration": 351,
    "start_time": "2022-02-12T13:41:36.167Z"
   },
   {
    "duration": 221,
    "start_time": "2022-02-12T13:41:36.520Z"
   },
   {
    "duration": 262,
    "start_time": "2022-02-12T13:41:36.743Z"
   },
   {
    "duration": 436,
    "start_time": "2022-02-12T13:41:37.007Z"
   },
   {
    "duration": 14,
    "start_time": "2022-02-12T13:41:37.445Z"
   },
   {
    "duration": 171,
    "start_time": "2022-02-12T13:41:37.461Z"
   },
   {
    "duration": 13,
    "start_time": "2022-02-12T13:41:37.635Z"
   },
   {
    "duration": 36,
    "start_time": "2022-02-12T13:41:37.650Z"
   },
   {
    "duration": 430,
    "start_time": "2022-02-12T13:41:37.688Z"
   },
   {
    "duration": 323,
    "start_time": "2022-02-12T13:41:38.120Z"
   },
   {
    "duration": 712,
    "start_time": "2022-02-12T13:42:06.043Z"
   },
   {
    "duration": 308,
    "start_time": "2022-02-12T13:42:20.203Z"
   },
   {
    "duration": 314,
    "start_time": "2022-02-12T13:42:38.709Z"
   },
   {
    "duration": 92,
    "start_time": "2022-02-12T13:42:48.603Z"
   },
   {
    "duration": 390,
    "start_time": "2022-02-12T13:43:47.149Z"
   },
   {
    "duration": 328,
    "start_time": "2022-02-12T13:45:06.585Z"
   },
   {
    "duration": 3,
    "start_time": "2022-02-12T13:45:12.487Z"
   },
   {
    "duration": 87,
    "start_time": "2022-02-12T13:45:12.492Z"
   },
   {
    "duration": 8,
    "start_time": "2022-02-12T13:45:12.581Z"
   },
   {
    "duration": 6,
    "start_time": "2022-02-12T13:45:12.591Z"
   },
   {
    "duration": 39,
    "start_time": "2022-02-12T13:45:12.599Z"
   },
   {
    "duration": 10,
    "start_time": "2022-02-12T13:45:12.640Z"
   },
   {
    "duration": 21,
    "start_time": "2022-02-12T13:45:12.652Z"
   },
   {
    "duration": 53,
    "start_time": "2022-02-12T13:45:12.676Z"
   },
   {
    "duration": 31,
    "start_time": "2022-02-12T13:45:12.731Z"
   },
   {
    "duration": 54,
    "start_time": "2022-02-12T13:45:12.764Z"
   },
   {
    "duration": 22,
    "start_time": "2022-02-12T13:45:12.820Z"
   },
   {
    "duration": 327,
    "start_time": "2022-02-12T13:45:12.844Z"
   },
   {
    "duration": 452,
    "start_time": "2022-02-12T13:45:13.173Z"
   },
   {
    "duration": 232,
    "start_time": "2022-02-12T13:45:13.627Z"
   },
   {
    "duration": 187,
    "start_time": "2022-02-12T13:45:13.861Z"
   },
   {
    "duration": 460,
    "start_time": "2022-02-12T13:45:14.050Z"
   },
   {
    "duration": 22,
    "start_time": "2022-02-12T13:45:14.512Z"
   },
   {
    "duration": 182,
    "start_time": "2022-02-12T13:45:14.536Z"
   },
   {
    "duration": 13,
    "start_time": "2022-02-12T13:45:14.720Z"
   },
   {
    "duration": 41,
    "start_time": "2022-02-12T13:45:14.735Z"
   },
   {
    "duration": 348,
    "start_time": "2022-02-12T13:45:14.777Z"
   },
   {
    "duration": 361,
    "start_time": "2022-02-12T13:45:15.127Z"
   },
   {
    "duration": 5,
    "start_time": "2022-02-12T13:46:14.995Z"
   },
   {
    "duration": 6,
    "start_time": "2022-02-12T13:46:33.114Z"
   },
   {
    "duration": 7,
    "start_time": "2022-02-12T13:46:50.232Z"
   },
   {
    "duration": 285,
    "start_time": "2022-02-12T13:47:09.889Z"
   },
   {
    "duration": 329,
    "start_time": "2022-02-12T13:53:11.714Z"
   },
   {
    "duration": 327,
    "start_time": "2022-02-12T13:53:32.228Z"
   },
   {
    "duration": 124,
    "start_time": "2022-02-12T13:55:42.485Z"
   },
   {
    "duration": 753,
    "start_time": "2022-02-12T13:55:50.850Z"
   },
   {
    "duration": 3,
    "start_time": "2022-02-12T13:56:10.487Z"
   },
   {
    "duration": 188,
    "start_time": "2022-02-12T13:56:10.493Z"
   },
   {
    "duration": 10,
    "start_time": "2022-02-12T13:56:10.683Z"
   },
   {
    "duration": 22,
    "start_time": "2022-02-12T13:56:10.696Z"
   },
   {
    "duration": 24,
    "start_time": "2022-02-12T13:56:10.720Z"
   },
   {
    "duration": 12,
    "start_time": "2022-02-12T13:56:10.746Z"
   },
   {
    "duration": 23,
    "start_time": "2022-02-12T13:56:10.760Z"
   },
   {
    "duration": 56,
    "start_time": "2022-02-12T13:56:10.784Z"
   },
   {
    "duration": 30,
    "start_time": "2022-02-12T13:56:10.842Z"
   },
   {
    "duration": 62,
    "start_time": "2022-02-12T13:56:10.874Z"
   },
   {
    "duration": 24,
    "start_time": "2022-02-12T13:56:10.938Z"
   },
   {
    "duration": 362,
    "start_time": "2022-02-12T13:56:10.964Z"
   },
   {
    "duration": 362,
    "start_time": "2022-02-12T13:56:11.328Z"
   },
   {
    "duration": 226,
    "start_time": "2022-02-12T13:56:11.692Z"
   },
   {
    "duration": 200,
    "start_time": "2022-02-12T13:56:11.920Z"
   },
   {
    "duration": 334,
    "start_time": "2022-02-12T13:56:12.122Z"
   },
   {
    "duration": 14,
    "start_time": "2022-02-12T13:56:12.458Z"
   },
   {
    "duration": 276,
    "start_time": "2022-02-12T13:56:12.475Z"
   },
   {
    "duration": 12,
    "start_time": "2022-02-12T13:56:12.753Z"
   },
   {
    "duration": 58,
    "start_time": "2022-02-12T13:56:12.767Z"
   },
   {
    "duration": 339,
    "start_time": "2022-02-12T13:56:12.827Z"
   },
   {
    "duration": 677,
    "start_time": "2022-02-12T13:56:13.168Z"
   },
   {
    "duration": 3,
    "start_time": "2022-02-12T13:56:58.510Z"
   },
   {
    "duration": 90,
    "start_time": "2022-02-12T13:56:58.515Z"
   },
   {
    "duration": 20,
    "start_time": "2022-02-12T13:56:58.607Z"
   },
   {
    "duration": 7,
    "start_time": "2022-02-12T13:56:58.629Z"
   },
   {
    "duration": 29,
    "start_time": "2022-02-12T13:56:58.638Z"
   },
   {
    "duration": 12,
    "start_time": "2022-02-12T13:56:58.669Z"
   },
   {
    "duration": 50,
    "start_time": "2022-02-12T13:56:58.683Z"
   },
   {
    "duration": 24,
    "start_time": "2022-02-12T13:56:58.735Z"
   },
   {
    "duration": 60,
    "start_time": "2022-02-12T13:56:58.762Z"
   },
   {
    "duration": 31,
    "start_time": "2022-02-12T13:56:58.824Z"
   },
   {
    "duration": 24,
    "start_time": "2022-02-12T13:56:58.856Z"
   },
   {
    "duration": 612,
    "start_time": "2022-02-12T13:56:58.881Z"
   },
   {
    "duration": 354,
    "start_time": "2022-02-12T13:56:59.495Z"
   },
   {
    "duration": 308,
    "start_time": "2022-02-12T13:56:59.851Z"
   },
   {
    "duration": 206,
    "start_time": "2022-02-12T13:57:00.161Z"
   },
   {
    "duration": 516,
    "start_time": "2022-02-12T13:57:00.370Z"
   },
   {
    "duration": 14,
    "start_time": "2022-02-12T13:57:00.888Z"
   },
   {
    "duration": 182,
    "start_time": "2022-02-12T13:57:00.904Z"
   },
   {
    "duration": 11,
    "start_time": "2022-02-12T13:57:01.088Z"
   },
   {
    "duration": 52,
    "start_time": "2022-02-12T13:57:01.101Z"
   },
   {
    "duration": 334,
    "start_time": "2022-02-12T13:57:01.155Z"
   },
   {
    "duration": 684,
    "start_time": "2022-02-12T13:57:01.491Z"
   },
   {
    "duration": 205,
    "start_time": "2022-02-12T14:00:48.090Z"
   },
   {
    "duration": 320,
    "start_time": "2022-02-12T14:01:04.986Z"
   },
   {
    "duration": 40,
    "start_time": "2022-02-12T14:01:56.821Z"
   },
   {
    "duration": 641,
    "start_time": "2022-02-12T14:04:00.500Z"
   },
   {
    "duration": 2,
    "start_time": "2022-02-12T16:43:50.056Z"
   },
   {
    "duration": 1708,
    "start_time": "2022-02-12T17:00:16.076Z"
   },
   {
    "duration": 1220,
    "start_time": "2022-02-12T17:01:35.178Z"
   },
   {
    "duration": 911,
    "start_time": "2022-02-13T14:57:09.928Z"
   },
   {
    "duration": 123,
    "start_time": "2022-02-13T14:57:10.841Z"
   },
   {
    "duration": 789,
    "start_time": "2022-02-13T14:57:10.967Z"
   },
   {
    "duration": 104,
    "start_time": "2022-02-13T14:57:11.760Z"
   },
   {
    "duration": 211,
    "start_time": "2022-02-13T14:57:11.867Z"
   },
   {
    "duration": 20,
    "start_time": "2022-02-13T14:57:12.081Z"
   },
   {
    "duration": 299,
    "start_time": "2022-02-13T14:57:12.104Z"
   },
   {
    "duration": 252,
    "start_time": "2022-02-13T14:57:12.407Z"
   },
   {
    "duration": 357,
    "start_time": "2022-02-13T14:57:12.662Z"
   },
   {
    "duration": 876,
    "start_time": "2022-02-13T14:57:13.022Z"
   },
   {
    "duration": 290,
    "start_time": "2022-02-13T14:57:13.900Z"
   },
   {
    "duration": 841,
    "start_time": "2022-02-13T14:57:14.193Z"
   },
   {
    "duration": 650,
    "start_time": "2022-02-13T14:57:15.037Z"
   },
   {
    "duration": 432,
    "start_time": "2022-02-13T14:57:15.689Z"
   },
   {
    "duration": 802,
    "start_time": "2022-02-13T14:57:16.123Z"
   },
   {
    "duration": 983,
    "start_time": "2022-02-13T14:57:16.932Z"
   },
   {
    "duration": 30,
    "start_time": "2022-02-13T14:57:17.917Z"
   },
   {
    "duration": 647,
    "start_time": "2022-02-13T14:57:17.950Z"
   },
   {
    "duration": 68,
    "start_time": "2022-02-13T14:57:18.599Z"
   },
   {
    "duration": 174,
    "start_time": "2022-02-13T14:57:18.669Z"
   },
   {
    "duration": 1075,
    "start_time": "2022-02-13T14:57:18.846Z"
   },
   {
    "duration": 1144,
    "start_time": "2022-02-13T14:57:19.923Z"
   },
   {
    "duration": 3,
    "start_time": "2022-02-13T14:57:21.071Z"
   },
   {
    "duration": 2574,
    "start_time": "2022-02-13T14:57:21.077Z"
   },
   {
    "duration": 4,
    "start_time": "2022-02-13T15:07:59.637Z"
   },
   {
    "duration": 402,
    "start_time": "2022-02-13T15:36:31.208Z"
   },
   {
    "duration": 412,
    "start_time": "2022-02-13T15:41:37.379Z"
   },
   {
    "duration": 630,
    "start_time": "2022-02-13T15:47:04.762Z"
   },
   {
    "duration": 646,
    "start_time": "2022-02-13T15:47:36.816Z"
   },
   {
    "duration": 622,
    "start_time": "2022-02-13T15:50:01.249Z"
   },
   {
    "duration": 709,
    "start_time": "2022-02-13T15:52:41.648Z"
   },
   {
    "duration": 353,
    "start_time": "2022-02-13T15:54:33.720Z"
   },
   {
    "duration": 727,
    "start_time": "2022-02-13T15:55:00.567Z"
   },
   {
    "duration": 746,
    "start_time": "2022-02-13T15:55:13.733Z"
   },
   {
    "duration": 940,
    "start_time": "2022-02-13T15:56:43.117Z"
   },
   {
    "duration": 285373,
    "start_time": "2022-02-13T15:57:14.761Z"
   },
   {
    "duration": 703,
    "start_time": "2022-02-13T16:03:09.929Z"
   },
   {
    "duration": 1057,
    "start_time": "2022-02-13T16:04:06.200Z"
   },
   {
    "duration": 311,
    "start_time": "2022-02-13T16:06:55.965Z"
   },
   {
    "duration": 633,
    "start_time": "2022-02-13T16:06:59.519Z"
   },
   {
    "duration": 354,
    "start_time": "2022-02-13T16:10:41.036Z"
   },
   {
    "duration": 347,
    "start_time": "2022-02-13T16:12:28.755Z"
   },
   {
    "duration": 677,
    "start_time": "2022-02-13T16:13:18.484Z"
   },
   {
    "duration": 726,
    "start_time": "2022-02-13T16:13:41.526Z"
   },
   {
    "duration": 473,
    "start_time": "2022-02-13T16:14:27.845Z"
   },
   {
    "duration": 4,
    "start_time": "2022-02-13T16:19:14.842Z"
   },
   {
    "duration": 465,
    "start_time": "2022-02-13T16:19:14.850Z"
   },
   {
    "duration": 87,
    "start_time": "2022-02-13T16:19:15.318Z"
   },
   {
    "duration": 294,
    "start_time": "2022-02-13T16:19:15.408Z"
   },
   {
    "duration": 882,
    "start_time": "2022-02-13T16:19:15.705Z"
   },
   {
    "duration": 730,
    "start_time": "2022-02-13T16:19:16.590Z"
   },
   {
    "duration": 450,
    "start_time": "2022-02-13T16:19:17.323Z"
   },
   {
    "duration": 595,
    "start_time": "2022-02-13T16:19:17.776Z"
   },
   {
    "duration": 403,
    "start_time": "2022-02-13T16:19:18.377Z"
   },
   {
    "duration": 458,
    "start_time": "2022-02-13T16:19:18.783Z"
   },
   {
    "duration": 394,
    "start_time": "2022-02-13T16:19:19.244Z"
   },
   {
    "duration": 966,
    "start_time": "2022-02-13T16:19:19.641Z"
   },
   {
    "duration": 637,
    "start_time": "2022-02-13T16:19:20.610Z"
   },
   {
    "duration": 382,
    "start_time": "2022-02-13T16:19:21.250Z"
   },
   {
    "duration": 331,
    "start_time": "2022-02-13T16:19:21.635Z"
   },
   {
    "duration": 710,
    "start_time": "2022-02-13T16:19:21.968Z"
   },
   {
    "duration": 19,
    "start_time": "2022-02-13T16:19:22.681Z"
   },
   {
    "duration": 599,
    "start_time": "2022-02-13T16:19:22.702Z"
   },
   {
    "duration": 539,
    "start_time": "2022-02-13T16:19:23.304Z"
   },
   {
    "duration": 1718,
    "start_time": "2022-02-13T16:19:23.852Z"
   },
   {
    "duration": 1839,
    "start_time": "2022-02-13T16:19:25.573Z"
   },
   {
    "duration": 1978,
    "start_time": "2022-02-13T16:19:27.415Z"
   },
   {
    "duration": 4,
    "start_time": "2022-02-13T16:19:29.395Z"
   },
   {
    "duration": 1311,
    "start_time": "2022-02-13T16:19:29.401Z"
   },
   {
    "duration": 786,
    "start_time": "2022-02-13T16:19:30.715Z"
   },
   {
    "duration": 328,
    "start_time": "2022-02-13T16:19:55.950Z"
   },
   {
    "duration": 945,
    "start_time": "2022-02-13T16:20:23.453Z"
   },
   {
    "duration": 977,
    "start_time": "2022-02-13T16:20:54.376Z"
   },
   {
    "duration": 494,
    "start_time": "2022-02-13T16:22:04.543Z"
   },
   {
    "duration": 362,
    "start_time": "2022-02-13T16:34:42.894Z"
   },
   {
    "duration": 509,
    "start_time": "2022-02-13T16:35:17.379Z"
   },
   {
    "duration": 434,
    "start_time": "2022-02-13T16:35:25.922Z"
   },
   {
    "duration": 466,
    "start_time": "2022-02-13T16:46:15.628Z"
   },
   {
    "duration": 407,
    "start_time": "2022-02-13T16:46:47.636Z"
   },
   {
    "duration": 337,
    "start_time": "2022-02-13T17:05:17.829Z"
   },
   {
    "duration": 325,
    "start_time": "2022-02-13T17:09:46.500Z"
   },
   {
    "duration": 287,
    "start_time": "2022-02-14T18:33:06.852Z"
   },
   {
    "duration": 683,
    "start_time": "2022-02-14T18:33:17.684Z"
   },
   {
    "duration": 85,
    "start_time": "2022-02-14T18:33:18.370Z"
   },
   {
    "duration": 8,
    "start_time": "2022-02-14T18:33:18.457Z"
   },
   {
    "duration": 10,
    "start_time": "2022-02-14T18:33:18.467Z"
   },
   {
    "duration": 41,
    "start_time": "2022-02-14T18:33:18.478Z"
   },
   {
    "duration": 11,
    "start_time": "2022-02-14T18:33:18.521Z"
   },
   {
    "duration": 21,
    "start_time": "2022-02-14T18:33:18.534Z"
   },
   {
    "duration": 29,
    "start_time": "2022-02-14T18:33:18.557Z"
   },
   {
    "duration": 59,
    "start_time": "2022-02-14T18:33:18.588Z"
   },
   {
    "duration": 32,
    "start_time": "2022-02-14T18:33:18.650Z"
   },
   {
    "duration": 50,
    "start_time": "2022-02-14T18:33:18.684Z"
   },
   {
    "duration": 349,
    "start_time": "2022-02-14T18:33:18.736Z"
   },
   {
    "duration": 376,
    "start_time": "2022-02-14T18:33:19.087Z"
   },
   {
    "duration": 282,
    "start_time": "2022-02-14T18:33:19.465Z"
   },
   {
    "duration": 244,
    "start_time": "2022-02-14T18:33:19.749Z"
   },
   {
    "duration": 349,
    "start_time": "2022-02-14T18:33:19.995Z"
   },
   {
    "duration": 19,
    "start_time": "2022-02-14T18:33:20.346Z"
   },
   {
    "duration": 256,
    "start_time": "2022-02-14T18:33:20.367Z"
   },
   {
    "duration": 16,
    "start_time": "2022-02-14T18:33:20.626Z"
   },
   {
    "duration": 90,
    "start_time": "2022-02-14T18:33:20.645Z"
   },
   {
    "duration": 573,
    "start_time": "2022-02-14T18:33:20.737Z"
   },
   {
    "duration": 1128,
    "start_time": "2022-02-14T18:33:21.312Z"
   },
   {
    "duration": 3,
    "start_time": "2022-02-14T18:33:22.444Z"
   },
   {
    "duration": 419,
    "start_time": "2022-02-14T18:33:22.449Z"
   },
   {
    "duration": 24,
    "start_time": "2022-02-14T18:33:22.870Z"
   },
   {
    "duration": 185,
    "start_time": "2022-02-14T18:35:57.388Z"
   },
   {
    "duration": 306,
    "start_time": "2022-02-14T18:40:50.196Z"
   },
   {
    "duration": 211,
    "start_time": "2022-02-14T18:41:20.065Z"
   },
   {
    "duration": 190,
    "start_time": "2022-02-14T18:43:55.442Z"
   },
   {
    "duration": 192,
    "start_time": "2022-02-14T18:44:07.632Z"
   },
   {
    "duration": 190,
    "start_time": "2022-02-14T18:44:21.462Z"
   },
   {
    "duration": 190,
    "start_time": "2022-02-14T18:48:08.079Z"
   },
   {
    "duration": 210,
    "start_time": "2022-02-14T18:49:01.852Z"
   },
   {
    "duration": 399,
    "start_time": "2022-02-14T18:57:40.841Z"
   },
   {
    "duration": 326,
    "start_time": "2022-02-14T18:58:24.297Z"
   },
   {
    "duration": 454,
    "start_time": "2022-02-14T18:58:47.582Z"
   },
   {
    "duration": 167,
    "start_time": "2022-02-14T19:01:20.444Z"
   },
   {
    "duration": 213,
    "start_time": "2022-02-14T19:01:31.447Z"
   },
   {
    "duration": 160,
    "start_time": "2022-02-14T19:03:03.586Z"
   },
   {
    "duration": 487,
    "start_time": "2022-02-14T19:04:11.074Z"
   },
   {
    "duration": 334,
    "start_time": "2022-02-14T19:05:25.619Z"
   },
   {
    "duration": 542,
    "start_time": "2022-02-14T19:05:53.617Z"
   },
   {
    "duration": 529,
    "start_time": "2022-02-14T19:06:13.347Z"
   },
   {
    "duration": 383,
    "start_time": "2022-02-14T19:11:59.873Z"
   },
   {
    "duration": 213,
    "start_time": "2022-02-14T19:12:08.589Z"
   },
   {
    "duration": 83,
    "start_time": "2022-02-14T19:12:23.058Z"
   },
   {
    "duration": 413,
    "start_time": "2022-02-14T19:12:34.252Z"
   },
   {
    "duration": 506,
    "start_time": "2022-02-14T19:13:01.771Z"
   },
   {
    "duration": 261,
    "start_time": "2022-02-14T19:14:07.227Z"
   },
   {
    "duration": 269,
    "start_time": "2022-02-14T19:14:13.411Z"
   },
   {
    "duration": 263,
    "start_time": "2022-02-14T19:14:56.315Z"
   },
   {
    "duration": 696,
    "start_time": "2022-02-14T19:18:06.314Z"
   },
   {
    "duration": 728,
    "start_time": "2022-02-14T19:18:14.776Z"
   },
   {
    "duration": 704,
    "start_time": "2022-02-14T19:18:29.841Z"
   },
   {
    "duration": 812,
    "start_time": "2022-02-14T19:18:54.694Z"
   },
   {
    "duration": 417,
    "start_time": "2022-02-14T19:19:51.419Z"
   },
   {
    "duration": 791,
    "start_time": "2022-02-14T19:25:54.454Z"
   },
   {
    "duration": 1085,
    "start_time": "2022-02-14T19:26:31.618Z"
   },
   {
    "duration": 737,
    "start_time": "2022-02-14T19:26:57.386Z"
   },
   {
    "duration": 335,
    "start_time": "2022-02-14T19:28:21.401Z"
   },
   {
    "duration": 340,
    "start_time": "2022-02-14T19:28:23.883Z"
   },
   {
    "duration": 754,
    "start_time": "2022-02-14T19:28:28.737Z"
   },
   {
    "duration": 997,
    "start_time": "2022-02-14T19:29:53.052Z"
   },
   {
    "duration": 105,
    "start_time": "2022-02-14T19:38:39.578Z"
   },
   {
    "duration": 708,
    "start_time": "2022-02-14T19:44:28.972Z"
   },
   {
    "duration": 820,
    "start_time": "2022-02-14T19:44:34.440Z"
   },
   {
    "duration": 721,
    "start_time": "2022-02-14T19:44:42.302Z"
   },
   {
    "duration": 1052,
    "start_time": "2022-02-14T19:45:01.766Z"
   },
   {
    "duration": 18,
    "start_time": "2022-02-14T20:02:18.119Z"
   },
   {
    "duration": 22,
    "start_time": "2022-02-14T20:03:05.389Z"
   },
   {
    "duration": 22,
    "start_time": "2022-02-14T20:04:49.970Z"
   },
   {
    "duration": 114,
    "start_time": "2022-02-14T20:05:07.895Z"
   },
   {
    "duration": 20,
    "start_time": "2022-02-14T20:06:36.156Z"
   },
   {
    "duration": 167,
    "start_time": "2022-02-14T20:07:16.233Z"
   },
   {
    "duration": 517,
    "start_time": "2022-02-14T20:11:22.920Z"
   },
   {
    "duration": 494,
    "start_time": "2022-02-14T20:11:40.603Z"
   },
   {
    "duration": 250,
    "start_time": "2022-02-14T20:11:48.953Z"
   },
   {
    "duration": 91,
    "start_time": "2022-02-14T20:12:04.886Z"
   },
   {
    "duration": 227,
    "start_time": "2022-02-14T20:12:08.333Z"
   },
   {
    "duration": 75,
    "start_time": "2022-02-14T20:12:33.823Z"
   },
   {
    "duration": 175,
    "start_time": "2022-02-14T20:13:17.507Z"
   },
   {
    "duration": 200,
    "start_time": "2022-02-14T20:18:49.508Z"
   },
   {
    "duration": 233,
    "start_time": "2022-02-14T20:19:00.273Z"
   },
   {
    "duration": 191,
    "start_time": "2022-02-14T20:19:52.436Z"
   },
   {
    "duration": 838,
    "start_time": "2022-02-15T19:32:57.735Z"
   },
   {
    "duration": 113,
    "start_time": "2022-02-15T19:32:58.576Z"
   },
   {
    "duration": 11,
    "start_time": "2022-02-15T19:32:58.692Z"
   },
   {
    "duration": 23,
    "start_time": "2022-02-15T19:32:58.706Z"
   },
   {
    "duration": 40,
    "start_time": "2022-02-15T19:32:58.731Z"
   },
   {
    "duration": 15,
    "start_time": "2022-02-15T19:32:58.773Z"
   },
   {
    "duration": 60,
    "start_time": "2022-02-15T19:32:58.791Z"
   },
   {
    "duration": 39,
    "start_time": "2022-02-15T19:32:58.855Z"
   },
   {
    "duration": 68,
    "start_time": "2022-02-15T19:32:58.897Z"
   },
   {
    "duration": 67,
    "start_time": "2022-02-15T19:32:58.967Z"
   },
   {
    "duration": 36,
    "start_time": "2022-02-15T19:32:59.036Z"
   },
   {
    "duration": 656,
    "start_time": "2022-02-15T19:32:59.075Z"
   },
   {
    "duration": 566,
    "start_time": "2022-02-15T19:32:59.734Z"
   },
   {
    "duration": 508,
    "start_time": "2022-02-15T19:33:00.303Z"
   },
   {
    "duration": 517,
    "start_time": "2022-02-15T19:33:00.814Z"
   },
   {
    "duration": 560,
    "start_time": "2022-02-15T19:33:01.333Z"
   },
   {
    "duration": 35,
    "start_time": "2022-02-15T19:33:01.895Z"
   },
   {
    "duration": 256,
    "start_time": "2022-02-15T19:33:01.932Z"
   },
   {
    "duration": 15,
    "start_time": "2022-02-15T19:33:02.191Z"
   },
   {
    "duration": 68,
    "start_time": "2022-02-15T19:33:02.223Z"
   },
   {
    "duration": 543,
    "start_time": "2022-02-15T19:33:02.293Z"
   },
   {
    "duration": 1089,
    "start_time": "2022-02-15T19:33:02.839Z"
   },
   {
    "duration": 3,
    "start_time": "2022-02-15T19:33:03.933Z"
   },
   {
    "duration": 424,
    "start_time": "2022-02-15T19:33:03.938Z"
   },
   {
    "duration": 661,
    "start_time": "2022-02-15T19:33:04.365Z"
   },
   {
    "duration": 1208,
    "start_time": "2022-02-15T19:33:05.029Z"
   },
   {
    "duration": 295,
    "start_time": "2022-02-15T19:33:06.240Z"
   },
   {
    "duration": 328,
    "start_time": "2022-02-15T19:33:06.537Z"
   },
   {
    "duration": 3,
    "start_time": "2022-02-15T19:37:38.405Z"
   },
   {
    "duration": 3,
    "start_time": "2022-02-15T19:37:47.532Z"
   },
   {
    "duration": 516,
    "start_time": "2022-02-15T19:40:04.281Z"
   },
   {
    "duration": 269,
    "start_time": "2022-02-15T19:40:23.494Z"
   },
   {
    "duration": 288,
    "start_time": "2022-02-15T19:40:46.940Z"
   },
   {
    "duration": 307,
    "start_time": "2022-02-15T19:42:01.007Z"
   },
   {
    "duration": 313,
    "start_time": "2022-02-15T19:58:06.027Z"
   },
   {
    "duration": 7390,
    "start_time": "2022-02-15T19:58:18.439Z"
   },
   {
    "duration": 391,
    "start_time": "2022-02-15T19:59:29.602Z"
   },
   {
    "duration": 35,
    "start_time": "2022-02-15T20:21:34.008Z"
   },
   {
    "duration": 301,
    "start_time": "2022-02-15T20:24:39.087Z"
   },
   {
    "duration": 94,
    "start_time": "2022-02-15T20:24:51.247Z"
   },
   {
    "duration": 35,
    "start_time": "2022-02-15T20:24:58.193Z"
   },
   {
    "duration": 310,
    "start_time": "2022-02-15T20:27:02.392Z"
   },
   {
    "duration": 377,
    "start_time": "2022-02-15T20:27:25.163Z"
   },
   {
    "duration": 349,
    "start_time": "2022-02-15T20:27:48.812Z"
   },
   {
    "duration": 324,
    "start_time": "2022-02-15T20:29:23.911Z"
   },
   {
    "duration": 41,
    "start_time": "2022-02-15T20:29:36.134Z"
   },
   {
    "duration": 36,
    "start_time": "2022-02-15T20:30:15.982Z"
   },
   {
    "duration": 34,
    "start_time": "2022-02-15T20:30:30.315Z"
   },
   {
    "duration": 84,
    "start_time": "2022-02-15T20:35:51.596Z"
   },
   {
    "duration": 33,
    "start_time": "2022-02-15T20:35:57.585Z"
   },
   {
    "duration": 33,
    "start_time": "2022-02-15T20:38:10.878Z"
   },
   {
    "duration": 42,
    "start_time": "2022-02-15T20:38:24.214Z"
   },
   {
    "duration": 131,
    "start_time": "2022-02-15T20:40:47.956Z"
   },
   {
    "duration": 62,
    "start_time": "2022-02-15T20:41:01.494Z"
   },
   {
    "duration": 50,
    "start_time": "2022-02-15T20:41:19.094Z"
   },
   {
    "duration": 35,
    "start_time": "2022-02-15T20:45:01.288Z"
   },
   {
    "duration": 1037,
    "start_time": "2022-02-16T18:45:20.554Z"
   },
   {
    "duration": 135,
    "start_time": "2022-02-16T18:45:21.594Z"
   },
   {
    "duration": 12,
    "start_time": "2022-02-16T18:45:21.732Z"
   },
   {
    "duration": 29,
    "start_time": "2022-02-16T18:45:21.748Z"
   },
   {
    "duration": 44,
    "start_time": "2022-02-16T18:45:21.779Z"
   },
   {
    "duration": 43,
    "start_time": "2022-02-16T18:45:21.826Z"
   },
   {
    "duration": 32,
    "start_time": "2022-02-16T18:45:21.872Z"
   },
   {
    "duration": 68,
    "start_time": "2022-02-16T18:45:21.907Z"
   },
   {
    "duration": 50,
    "start_time": "2022-02-16T18:45:21.979Z"
   },
   {
    "duration": 72,
    "start_time": "2022-02-16T18:45:22.032Z"
   },
   {
    "duration": 67,
    "start_time": "2022-02-16T18:45:22.106Z"
   },
   {
    "duration": 577,
    "start_time": "2022-02-16T18:45:22.175Z"
   },
   {
    "duration": 610,
    "start_time": "2022-02-16T18:45:22.755Z"
   },
   {
    "duration": 488,
    "start_time": "2022-02-16T18:45:23.371Z"
   },
   {
    "duration": 429,
    "start_time": "2022-02-16T18:45:23.862Z"
   },
   {
    "duration": 600,
    "start_time": "2022-02-16T18:45:24.293Z"
   },
   {
    "duration": 20,
    "start_time": "2022-02-16T18:45:24.896Z"
   },
   {
    "duration": 288,
    "start_time": "2022-02-16T18:45:24.919Z"
   },
   {
    "duration": 18,
    "start_time": "2022-02-16T18:45:25.209Z"
   },
   {
    "duration": 93,
    "start_time": "2022-02-16T18:45:25.230Z"
   },
   {
    "duration": 575,
    "start_time": "2022-02-16T18:45:25.326Z"
   },
   {
    "duration": 1302,
    "start_time": "2022-02-16T18:45:25.904Z"
   },
   {
    "duration": 461,
    "start_time": "2022-02-16T18:45:27.210Z"
   },
   {
    "duration": 597,
    "start_time": "2022-02-16T18:45:27.674Z"
   },
   {
    "duration": 1145,
    "start_time": "2022-02-16T18:45:28.273Z"
   },
   {
    "duration": 340,
    "start_time": "2022-02-16T18:45:29.421Z"
   },
   {
    "duration": 337,
    "start_time": "2022-02-16T18:45:29.770Z"
   },
   {
    "duration": 361,
    "start_time": "2022-02-16T18:45:30.110Z"
   },
   {
    "duration": 398,
    "start_time": "2022-02-16T18:45:30.473Z"
   },
   {
    "duration": 39,
    "start_time": "2022-02-16T18:45:30.874Z"
   },
   {
    "duration": 392,
    "start_time": "2022-02-16T18:46:31.303Z"
   },
   {
    "duration": 40,
    "start_time": "2022-02-16T18:46:46.978Z"
   },
   {
    "duration": 12,
    "start_time": "2022-02-16T18:51:06.510Z"
   },
   {
    "duration": 46,
    "start_time": "2022-02-16T18:51:32.728Z"
   },
   {
    "duration": 69,
    "start_time": "2022-02-16T18:52:18.211Z"
   },
   {
    "duration": 17,
    "start_time": "2022-02-16T18:52:21.762Z"
   },
   {
    "duration": 6686,
    "start_time": "2022-02-16T18:55:24.854Z"
   },
   {
    "duration": 6268,
    "start_time": "2022-02-16T18:56:09.509Z"
   },
   {
    "duration": 11,
    "start_time": "2022-02-16T18:56:22.968Z"
   },
   {
    "duration": 11,
    "start_time": "2022-02-16T18:56:51.572Z"
   },
   {
    "duration": 15,
    "start_time": "2022-02-16T18:57:09.653Z"
   },
   {
    "duration": 83,
    "start_time": "2022-02-16T18:59:01.412Z"
   },
   {
    "duration": 12,
    "start_time": "2022-02-16T19:02:09.605Z"
   },
   {
    "duration": 15,
    "start_time": "2022-02-16T19:02:21.997Z"
   },
   {
    "duration": 88,
    "start_time": "2022-02-16T19:10:13.457Z"
   },
   {
    "duration": 32,
    "start_time": "2022-02-16T19:23:22.614Z"
   },
   {
    "duration": 360,
    "start_time": "2022-02-16T19:25:06.001Z"
   },
   {
    "duration": 383,
    "start_time": "2022-02-16T19:26:15.440Z"
   },
   {
    "duration": 351,
    "start_time": "2022-02-16T19:28:01.261Z"
   },
   {
    "duration": 630,
    "start_time": "2022-02-16T19:28:10.212Z"
   },
   {
    "duration": 562,
    "start_time": "2022-02-16T19:34:23.946Z"
   },
   {
    "duration": 4,
    "start_time": "2022-02-16T19:34:29.244Z"
   },
   {
    "duration": 154,
    "start_time": "2022-02-16T19:34:29.252Z"
   },
   {
    "duration": 13,
    "start_time": "2022-02-16T19:34:29.409Z"
   },
   {
    "duration": 8,
    "start_time": "2022-02-16T19:34:29.425Z"
   },
   {
    "duration": 74,
    "start_time": "2022-02-16T19:34:29.436Z"
   },
   {
    "duration": 18,
    "start_time": "2022-02-16T19:34:29.512Z"
   },
   {
    "duration": 57,
    "start_time": "2022-02-16T19:34:29.532Z"
   },
   {
    "duration": 42,
    "start_time": "2022-02-16T19:34:29.594Z"
   },
   {
    "duration": 79,
    "start_time": "2022-02-16T19:34:29.639Z"
   },
   {
    "duration": 78,
    "start_time": "2022-02-16T19:34:29.721Z"
   },
   {
    "duration": 38,
    "start_time": "2022-02-16T19:34:29.801Z"
   },
   {
    "duration": 607,
    "start_time": "2022-02-16T19:34:29.842Z"
   },
   {
    "duration": 651,
    "start_time": "2022-02-16T19:34:30.452Z"
   },
   {
    "duration": 402,
    "start_time": "2022-02-16T19:34:31.106Z"
   },
   {
    "duration": 455,
    "start_time": "2022-02-16T19:34:31.510Z"
   },
   {
    "duration": 647,
    "start_time": "2022-02-16T19:34:31.968Z"
   },
   {
    "duration": 19,
    "start_time": "2022-02-16T19:34:32.618Z"
   },
   {
    "duration": 289,
    "start_time": "2022-02-16T19:34:32.639Z"
   },
   {
    "duration": 16,
    "start_time": "2022-02-16T19:34:32.931Z"
   },
   {
    "duration": 99,
    "start_time": "2022-02-16T19:34:32.949Z"
   },
   {
    "duration": 702,
    "start_time": "2022-02-16T19:34:33.051Z"
   },
   {
    "duration": 1179,
    "start_time": "2022-02-16T19:34:33.756Z"
   },
   {
    "duration": 371,
    "start_time": "2022-02-16T19:34:34.939Z"
   },
   {
    "duration": 602,
    "start_time": "2022-02-16T19:34:35.312Z"
   },
   {
    "duration": 1185,
    "start_time": "2022-02-16T19:34:35.916Z"
   },
   {
    "duration": 317,
    "start_time": "2022-02-16T19:34:37.104Z"
   },
   {
    "duration": 455,
    "start_time": "2022-02-16T19:34:37.426Z"
   },
   {
    "duration": 368,
    "start_time": "2022-02-16T19:34:37.884Z"
   },
   {
    "duration": 429,
    "start_time": "2022-02-16T19:34:38.254Z"
   },
   {
    "duration": 38,
    "start_time": "2022-02-16T19:34:38.686Z"
   },
   {
    "duration": 608,
    "start_time": "2022-02-16T19:34:38.727Z"
   },
   {
    "duration": 4,
    "start_time": "2022-02-16T19:40:02.968Z"
   },
   {
    "duration": 13,
    "start_time": "2022-02-16T19:51:36.593Z"
   },
   {
    "duration": 63,
    "start_time": "2022-02-16T19:54:02.371Z"
   },
   {
    "duration": 708,
    "start_time": "2022-02-16T19:54:57.756Z"
   },
   {
    "duration": 1227,
    "start_time": "2022-02-16T19:57:57.354Z"
   },
   {
    "duration": 879,
    "start_time": "2022-02-16T19:59:51.602Z"
   },
   {
    "duration": 1010,
    "start_time": "2022-02-16T20:01:31.307Z"
   },
   {
    "duration": 450,
    "start_time": "2022-02-16T20:02:48.830Z"
   },
   {
    "duration": 376,
    "start_time": "2022-02-16T20:04:42.677Z"
   },
   {
    "duration": 547,
    "start_time": "2022-02-16T20:04:57.661Z"
   },
   {
    "duration": 511,
    "start_time": "2022-02-16T20:05:15.991Z"
   },
   {
    "duration": 658,
    "start_time": "2022-02-16T20:10:23.164Z"
   },
   {
    "duration": 88,
    "start_time": "2022-02-16T20:20:12.065Z"
   },
   {
    "duration": 100,
    "start_time": "2022-02-16T20:20:33.704Z"
   },
   {
    "duration": 88,
    "start_time": "2022-02-16T20:20:58.061Z"
   },
   {
    "duration": 96,
    "start_time": "2022-02-16T20:21:04.391Z"
   },
   {
    "duration": 95,
    "start_time": "2022-02-16T20:22:35.004Z"
   },
   {
    "duration": 111,
    "start_time": "2022-02-16T20:22:47.649Z"
   },
   {
    "duration": 596,
    "start_time": "2022-02-16T20:23:20.999Z"
   },
   {
    "duration": 116,
    "start_time": "2022-02-16T20:23:43.994Z"
   },
   {
    "duration": 88,
    "start_time": "2022-02-16T20:24:30.623Z"
   },
   {
    "duration": 27,
    "start_time": "2022-02-16T20:24:38.624Z"
   },
   {
    "duration": 44,
    "start_time": "2022-02-16T20:24:46.887Z"
   },
   {
    "duration": 265,
    "start_time": "2022-02-16T20:26:45.686Z"
   },
   {
    "duration": 719,
    "start_time": "2022-02-16T20:28:24.811Z"
   },
   {
    "duration": 285,
    "start_time": "2022-02-16T20:32:47.752Z"
   },
   {
    "duration": 703,
    "start_time": "2022-02-16T20:35:29.397Z"
   },
   {
    "duration": 349,
    "start_time": "2022-02-16T20:41:01.247Z"
   },
   {
    "duration": 100,
    "start_time": "2022-02-16T20:42:56.695Z"
   },
   {
    "duration": 502,
    "start_time": "2022-02-16T21:03:48.967Z"
   },
   {
    "duration": 339,
    "start_time": "2022-02-16T21:18:10.416Z"
   },
   {
    "duration": 4,
    "start_time": "2022-02-16T21:31:38.530Z"
   },
   {
    "duration": 188,
    "start_time": "2022-02-16T21:31:38.537Z"
   },
   {
    "duration": 13,
    "start_time": "2022-02-16T21:31:38.728Z"
   },
   {
    "duration": 31,
    "start_time": "2022-02-16T21:31:38.745Z"
   },
   {
    "duration": 41,
    "start_time": "2022-02-16T21:31:38.779Z"
   },
   {
    "duration": 48,
    "start_time": "2022-02-16T21:31:38.823Z"
   },
   {
    "duration": 29,
    "start_time": "2022-02-16T21:31:38.874Z"
   },
   {
    "duration": 83,
    "start_time": "2022-02-16T21:31:38.906Z"
   },
   {
    "duration": 87,
    "start_time": "2022-02-16T21:31:38.996Z"
   },
   {
    "duration": 60,
    "start_time": "2022-02-16T21:31:39.087Z"
   },
   {
    "duration": 56,
    "start_time": "2022-02-16T21:31:39.149Z"
   },
   {
    "duration": 570,
    "start_time": "2022-02-16T21:31:39.207Z"
   },
   {
    "duration": 603,
    "start_time": "2022-02-16T21:31:39.780Z"
   },
   {
    "duration": 372,
    "start_time": "2022-02-16T21:31:40.386Z"
   },
   {
    "duration": 521,
    "start_time": "2022-02-16T21:31:40.761Z"
   },
   {
    "duration": 563,
    "start_time": "2022-02-16T21:31:41.284Z"
   },
   {
    "duration": 30,
    "start_time": "2022-02-16T21:31:41.851Z"
   },
   {
    "duration": 282,
    "start_time": "2022-02-16T21:31:41.884Z"
   },
   {
    "duration": 15,
    "start_time": "2022-02-16T21:31:42.170Z"
   },
   {
    "duration": 90,
    "start_time": "2022-02-16T21:31:42.188Z"
   },
   {
    "duration": 570,
    "start_time": "2022-02-16T21:31:42.281Z"
   },
   {
    "duration": 1158,
    "start_time": "2022-02-16T21:31:42.854Z"
   },
   {
    "duration": 367,
    "start_time": "2022-02-16T21:31:44.015Z"
   },
   {
    "duration": 798,
    "start_time": "2022-02-16T21:31:44.385Z"
   },
   {
    "duration": 1094,
    "start_time": "2022-02-16T21:31:45.186Z"
   },
   {
    "duration": 307,
    "start_time": "2022-02-16T21:31:46.283Z"
   },
   {
    "duration": 333,
    "start_time": "2022-02-16T21:31:46.595Z"
   },
   {
    "duration": 329,
    "start_time": "2022-02-16T21:31:46.931Z"
   },
   {
    "duration": 370,
    "start_time": "2022-02-16T21:31:47.270Z"
   },
   {
    "duration": 49,
    "start_time": "2022-02-16T21:31:47.642Z"
   },
   {
    "duration": 558,
    "start_time": "2022-02-16T21:31:47.693Z"
   },
   {
    "duration": 65,
    "start_time": "2022-02-16T21:31:48.254Z"
   },
   {
    "duration": 890,
    "start_time": "2022-02-16T21:31:48.321Z"
   },
   {
    "duration": 703,
    "start_time": "2022-02-16T21:31:49.213Z"
   },
   {
    "duration": 460,
    "start_time": "2022-02-16T21:31:49.919Z"
   },
   {
    "duration": 432,
    "start_time": "2022-02-16T21:31:50.382Z"
   },
   {
    "duration": 570,
    "start_time": "2022-02-16T21:31:50.816Z"
   },
   {
    "duration": 285,
    "start_time": "2022-02-16T21:31:51.389Z"
   },
   {
    "duration": 498,
    "start_time": "2022-02-16T21:31:51.677Z"
   },
   {
    "duration": 492,
    "start_time": "2022-02-16T21:31:52.177Z"
   },
   {
    "duration": 508,
    "start_time": "2022-02-16T21:31:52.672Z"
   },
   {
    "duration": 554,
    "start_time": "2022-02-16T21:31:53.183Z"
   },
   {
    "duration": 655,
    "start_time": "2022-02-25T09:43:25.440Z"
   },
   {
    "duration": 81,
    "start_time": "2022-02-25T09:43:26.096Z"
   },
   {
    "duration": 8,
    "start_time": "2022-02-25T09:43:26.181Z"
   },
   {
    "duration": 7,
    "start_time": "2022-02-25T09:43:26.190Z"
   },
   {
    "duration": 35,
    "start_time": "2022-02-25T09:43:26.199Z"
   },
   {
    "duration": 9,
    "start_time": "2022-02-25T09:43:26.236Z"
   },
   {
    "duration": 20,
    "start_time": "2022-02-25T09:43:26.247Z"
   },
   {
    "duration": 33,
    "start_time": "2022-02-25T09:43:26.269Z"
   },
   {
    "duration": 38,
    "start_time": "2022-02-25T09:43:26.303Z"
   },
   {
    "duration": 28,
    "start_time": "2022-02-25T09:43:26.343Z"
   },
   {
    "duration": 22,
    "start_time": "2022-02-25T09:43:26.372Z"
   },
   {
    "duration": 315,
    "start_time": "2022-02-25T09:43:26.396Z"
   },
   {
    "duration": 330,
    "start_time": "2022-02-25T09:43:26.713Z"
   },
   {
    "duration": 241,
    "start_time": "2022-02-25T09:43:27.044Z"
   },
   {
    "duration": 219,
    "start_time": "2022-02-25T09:43:27.287Z"
   },
   {
    "duration": 309,
    "start_time": "2022-02-25T09:43:27.508Z"
   },
   {
    "duration": 22,
    "start_time": "2022-02-25T09:43:27.818Z"
   },
   {
    "duration": 143,
    "start_time": "2022-02-25T09:43:27.841Z"
   },
   {
    "duration": 10,
    "start_time": "2022-02-25T09:43:27.986Z"
   },
   {
    "duration": 51,
    "start_time": "2022-02-25T09:43:27.997Z"
   },
   {
    "duration": 292,
    "start_time": "2022-02-25T09:43:28.050Z"
   },
   {
    "duration": 599,
    "start_time": "2022-02-25T09:43:28.344Z"
   },
   {
    "duration": 269,
    "start_time": "2022-02-25T09:43:28.945Z"
   },
   {
    "duration": 320,
    "start_time": "2022-02-25T09:43:29.216Z"
   },
   {
    "duration": 632,
    "start_time": "2022-02-25T09:43:29.538Z"
   },
   {
    "duration": 162,
    "start_time": "2022-02-25T09:43:30.172Z"
   },
   {
    "duration": 180,
    "start_time": "2022-02-25T09:43:30.336Z"
   },
   {
    "duration": 187,
    "start_time": "2022-02-25T09:43:30.517Z"
   },
   {
    "duration": 209,
    "start_time": "2022-02-25T09:43:30.705Z"
   },
   {
    "duration": 30,
    "start_time": "2022-02-25T09:43:30.915Z"
   },
   {
    "duration": 359,
    "start_time": "2022-02-25T09:43:30.946Z"
   },
   {
    "duration": 16,
    "start_time": "2022-02-25T09:43:31.291Z"
   },
   {
    "duration": 13,
    "start_time": "2022-02-25T09:43:31.295Z"
   },
   {
    "duration": 12,
    "start_time": "2022-02-25T09:43:31.297Z"
   },
   {
    "duration": 9,
    "start_time": "2022-02-25T09:43:31.301Z"
   },
   {
    "duration": 8,
    "start_time": "2022-02-25T09:43:31.303Z"
   },
   {
    "duration": 5,
    "start_time": "2022-02-25T09:43:31.307Z"
   },
   {
    "duration": 3,
    "start_time": "2022-02-25T09:43:31.310Z"
   },
   {
    "duration": 1,
    "start_time": "2022-02-25T09:43:31.313Z"
   },
   {
    "duration": -1,
    "start_time": "2022-02-25T09:43:31.316Z"
   },
   {
    "duration": -3,
    "start_time": "2022-02-25T09:43:31.319Z"
   },
   {
    "duration": -6,
    "start_time": "2022-02-25T09:43:31.322Z"
   },
   {
    "duration": 677,
    "start_time": "2022-02-26T08:49:51.715Z"
   },
   {
    "duration": 103,
    "start_time": "2022-02-26T08:49:52.394Z"
   },
   {
    "duration": 9,
    "start_time": "2022-02-26T08:49:52.499Z"
   },
   {
    "duration": 14,
    "start_time": "2022-02-26T08:49:52.510Z"
   },
   {
    "duration": 43,
    "start_time": "2022-02-26T08:49:52.526Z"
   },
   {
    "duration": 12,
    "start_time": "2022-02-26T08:49:52.572Z"
   },
   {
    "duration": 23,
    "start_time": "2022-02-26T08:49:52.586Z"
   },
   {
    "duration": 27,
    "start_time": "2022-02-26T08:49:52.611Z"
   },
   {
    "duration": 34,
    "start_time": "2022-02-26T08:49:52.670Z"
   },
   {
    "duration": 37,
    "start_time": "2022-02-26T08:49:52.706Z"
   },
   {
    "duration": 50,
    "start_time": "2022-02-26T08:49:52.745Z"
   },
   {
    "duration": 416,
    "start_time": "2022-02-26T08:49:52.797Z"
   },
   {
    "duration": 439,
    "start_time": "2022-02-26T08:49:53.215Z"
   },
   {
    "duration": 330,
    "start_time": "2022-02-26T08:49:53.656Z"
   },
   {
    "duration": 309,
    "start_time": "2022-02-26T08:49:53.988Z"
   },
   {
    "duration": 434,
    "start_time": "2022-02-26T08:49:54.300Z"
   },
   {
    "duration": 15,
    "start_time": "2022-02-26T08:49:54.736Z"
   },
   {
    "duration": 212,
    "start_time": "2022-02-26T08:49:54.753Z"
   },
   {
    "duration": 14,
    "start_time": "2022-02-26T08:49:54.967Z"
   },
   {
    "duration": 56,
    "start_time": "2022-02-26T08:49:54.983Z"
   },
   {
    "duration": 463,
    "start_time": "2022-02-26T08:49:55.041Z"
   },
   {
    "duration": 849,
    "start_time": "2022-02-26T08:49:55.506Z"
   },
   {
    "duration": 365,
    "start_time": "2022-02-26T08:49:56.357Z"
   },
   {
    "duration": 429,
    "start_time": "2022-02-26T08:49:56.724Z"
   },
   {
    "duration": 827,
    "start_time": "2022-02-26T08:49:57.155Z"
   },
   {
    "duration": 234,
    "start_time": "2022-02-26T08:49:57.983Z"
   },
   {
    "duration": 249,
    "start_time": "2022-02-26T08:49:58.220Z"
   },
   {
    "duration": 242,
    "start_time": "2022-02-26T08:49:58.471Z"
   },
   {
    "duration": 278,
    "start_time": "2022-02-26T08:49:58.714Z"
   },
   {
    "duration": 28,
    "start_time": "2022-02-26T08:49:58.993Z"
   },
   {
    "duration": 345,
    "start_time": "2022-02-26T08:49:59.023Z"
   },
   {
    "duration": -1186,
    "start_time": "2022-02-26T08:50:00.556Z"
   },
   {
    "duration": -1188,
    "start_time": "2022-02-26T08:50:00.560Z"
   },
   {
    "duration": -1194,
    "start_time": "2022-02-26T08:50:00.567Z"
   },
   {
    "duration": -1196,
    "start_time": "2022-02-26T08:50:00.570Z"
   },
   {
    "duration": -1196,
    "start_time": "2022-02-26T08:50:00.572Z"
   },
   {
    "duration": -1199,
    "start_time": "2022-02-26T08:50:00.576Z"
   },
   {
    "duration": -1200,
    "start_time": "2022-02-26T08:50:00.578Z"
   },
   {
    "duration": -1201,
    "start_time": "2022-02-26T08:50:00.580Z"
   },
   {
    "duration": -1202,
    "start_time": "2022-02-26T08:50:00.583Z"
   },
   {
    "duration": -1203,
    "start_time": "2022-02-26T08:50:00.585Z"
   },
   {
    "duration": -1204,
    "start_time": "2022-02-26T08:50:00.587Z"
   },
   {
    "duration": 277,
    "start_time": "2022-02-26T08:52:13.564Z"
   },
   {
    "duration": 386,
    "start_time": "2022-02-26T08:52:46.854Z"
   },
   {
    "duration": 3,
    "start_time": "2022-02-26T08:53:01.340Z"
   },
   {
    "duration": 137,
    "start_time": "2022-02-26T08:53:01.346Z"
   },
   {
    "duration": 10,
    "start_time": "2022-02-26T08:53:01.485Z"
   },
   {
    "duration": 14,
    "start_time": "2022-02-26T08:53:01.497Z"
   },
   {
    "duration": 30,
    "start_time": "2022-02-26T08:53:01.513Z"
   },
   {
    "duration": 34,
    "start_time": "2022-02-26T08:53:01.544Z"
   },
   {
    "duration": 24,
    "start_time": "2022-02-26T08:53:01.580Z"
   },
   {
    "duration": 28,
    "start_time": "2022-02-26T08:53:01.607Z"
   },
   {
    "duration": 57,
    "start_time": "2022-02-26T08:53:01.637Z"
   },
   {
    "duration": 39,
    "start_time": "2022-02-26T08:53:01.696Z"
   },
   {
    "duration": 50,
    "start_time": "2022-02-26T08:53:01.737Z"
   },
   {
    "duration": 418,
    "start_time": "2022-02-26T08:53:01.789Z"
   },
   {
    "duration": 528,
    "start_time": "2022-02-26T08:53:02.209Z"
   },
   {
    "duration": 265,
    "start_time": "2022-02-26T08:53:02.739Z"
   },
   {
    "duration": 310,
    "start_time": "2022-02-26T08:53:03.006Z"
   },
   {
    "duration": 426,
    "start_time": "2022-02-26T08:53:03.318Z"
   },
   {
    "duration": 25,
    "start_time": "2022-02-26T08:53:03.746Z"
   },
   {
    "duration": 209,
    "start_time": "2022-02-26T08:53:03.773Z"
   },
   {
    "duration": 14,
    "start_time": "2022-02-26T08:53:03.984Z"
   },
   {
    "duration": 70,
    "start_time": "2022-02-26T08:53:04.000Z"
   },
   {
    "duration": 404,
    "start_time": "2022-02-26T08:53:04.072Z"
   },
   {
    "duration": 904,
    "start_time": "2022-02-26T08:53:04.478Z"
   },
   {
    "duration": 269,
    "start_time": "2022-02-26T08:53:05.386Z"
   },
   {
    "duration": 442,
    "start_time": "2022-02-26T08:53:05.658Z"
   },
   {
    "duration": 893,
    "start_time": "2022-02-26T08:53:06.102Z"
   },
   {
    "duration": 231,
    "start_time": "2022-02-26T08:53:06.996Z"
   },
   {
    "duration": 243,
    "start_time": "2022-02-26T08:53:07.229Z"
   },
   {
    "duration": 255,
    "start_time": "2022-02-26T08:53:07.474Z"
   },
   {
    "duration": 280,
    "start_time": "2022-02-26T08:53:07.731Z"
   },
   {
    "duration": 25,
    "start_time": "2022-02-26T08:53:08.012Z"
   },
   {
    "duration": 398,
    "start_time": "2022-02-26T08:53:08.039Z"
   },
   {
    "duration": 121,
    "start_time": "2022-02-26T08:53:08.439Z"
   },
   {
    "duration": 429,
    "start_time": "2022-02-26T08:53:08.562Z"
   },
   {
    "duration": 435,
    "start_time": "2022-02-26T08:53:08.993Z"
   },
   {
    "duration": 256,
    "start_time": "2022-02-26T08:53:09.430Z"
   },
   {
    "duration": 304,
    "start_time": "2022-02-26T08:53:09.688Z"
   },
   {
    "duration": 438,
    "start_time": "2022-02-26T08:53:09.994Z"
   },
   {
    "duration": 190,
    "start_time": "2022-02-26T08:53:10.434Z"
   },
   {
    "duration": 353,
    "start_time": "2022-02-26T08:53:10.626Z"
   },
   {
    "duration": 251,
    "start_time": "2022-02-26T08:53:10.981Z"
   },
   {
    "duration": 249,
    "start_time": "2022-02-26T08:53:11.234Z"
   },
   {
    "duration": 359,
    "start_time": "2022-02-26T08:53:11.485Z"
   },
   {
    "duration": 30,
    "start_time": "2022-02-26T08:56:01.947Z"
   },
   {
    "duration": 3,
    "start_time": "2022-02-26T09:00:11.038Z"
   },
   {
    "duration": 3,
    "start_time": "2022-02-26T09:00:20.540Z"
   },
   {
    "duration": 134,
    "start_time": "2022-02-26T09:00:20.547Z"
   },
   {
    "duration": 11,
    "start_time": "2022-02-26T09:00:20.684Z"
   },
   {
    "duration": 7,
    "start_time": "2022-02-26T09:00:20.697Z"
   },
   {
    "duration": 31,
    "start_time": "2022-02-26T09:00:20.706Z"
   },
   {
    "duration": 39,
    "start_time": "2022-02-26T09:00:20.739Z"
   },
   {
    "duration": 24,
    "start_time": "2022-02-26T09:00:20.780Z"
   },
   {
    "duration": 28,
    "start_time": "2022-02-26T09:00:20.806Z"
   },
   {
    "duration": 62,
    "start_time": "2022-02-26T09:00:20.837Z"
   },
   {
    "duration": 38,
    "start_time": "2022-02-26T09:00:20.902Z"
   },
   {
    "duration": 49,
    "start_time": "2022-02-26T09:00:20.942Z"
   },
   {
    "duration": 423,
    "start_time": "2022-02-26T09:00:20.993Z"
   },
   {
    "duration": 439,
    "start_time": "2022-02-26T09:00:21.418Z"
   },
   {
    "duration": 278,
    "start_time": "2022-02-26T09:00:21.859Z"
   },
   {
    "duration": 312,
    "start_time": "2022-02-26T09:00:22.138Z"
   },
   {
    "duration": 437,
    "start_time": "2022-02-26T09:00:22.454Z"
   },
   {
    "duration": 14,
    "start_time": "2022-02-26T09:00:22.893Z"
   },
   {
    "duration": 190,
    "start_time": "2022-02-26T09:00:22.909Z"
   },
   {
    "duration": 13,
    "start_time": "2022-02-26T09:00:23.101Z"
   },
   {
    "duration": 65,
    "start_time": "2022-02-26T09:00:23.116Z"
   },
   {
    "duration": 481,
    "start_time": "2022-02-26T09:00:23.183Z"
   },
   {
    "duration": 817,
    "start_time": "2022-02-26T09:00:23.669Z"
   },
   {
    "duration": 263,
    "start_time": "2022-02-26T09:00:24.488Z"
   },
   {
    "duration": 419,
    "start_time": "2022-02-26T09:00:24.756Z"
   },
   {
    "duration": 774,
    "start_time": "2022-02-26T09:00:25.177Z"
   },
   {
    "duration": 239,
    "start_time": "2022-02-26T09:00:25.953Z"
   },
   {
    "duration": 241,
    "start_time": "2022-02-26T09:00:26.194Z"
   },
   {
    "duration": 334,
    "start_time": "2022-02-26T09:00:26.437Z"
   },
   {
    "duration": 269,
    "start_time": "2022-02-26T09:00:26.773Z"
   },
   {
    "duration": 38,
    "start_time": "2022-02-26T09:00:27.044Z"
   },
   {
    "duration": 393,
    "start_time": "2022-02-26T09:00:27.083Z"
   },
   {
    "duration": 43,
    "start_time": "2022-02-26T09:00:27.478Z"
   },
   {
    "duration": 415,
    "start_time": "2022-02-26T09:00:27.523Z"
   },
   {
    "duration": 422,
    "start_time": "2022-02-26T09:00:27.940Z"
   },
   {
    "duration": 245,
    "start_time": "2022-02-26T09:00:28.364Z"
   },
   {
    "duration": 308,
    "start_time": "2022-02-26T09:00:28.610Z"
   },
   {
    "duration": 433,
    "start_time": "2022-02-26T09:00:28.920Z"
   },
   {
    "duration": 204,
    "start_time": "2022-02-26T09:00:29.355Z"
   },
   {
    "duration": 445,
    "start_time": "2022-02-26T09:00:29.569Z"
   },
   {
    "duration": 266,
    "start_time": "2022-02-26T09:00:30.016Z"
   },
   {
    "duration": 268,
    "start_time": "2022-02-26T09:00:30.284Z"
   },
   {
    "duration": 265,
    "start_time": "2022-02-26T09:00:30.554Z"
   },
   {
    "duration": 3,
    "start_time": "2022-02-26T09:39:31.615Z"
   },
   {
    "duration": 109,
    "start_time": "2022-02-26T09:39:31.620Z"
   },
   {
    "duration": 10,
    "start_time": "2022-02-26T09:39:31.732Z"
   },
   {
    "duration": 33,
    "start_time": "2022-02-26T09:39:31.744Z"
   },
   {
    "duration": 28,
    "start_time": "2022-02-26T09:39:31.779Z"
   },
   {
    "duration": 13,
    "start_time": "2022-02-26T09:39:31.809Z"
   },
   {
    "duration": 54,
    "start_time": "2022-02-26T09:39:31.825Z"
   },
   {
    "duration": 28,
    "start_time": "2022-02-26T09:39:31.881Z"
   },
   {
    "duration": 32,
    "start_time": "2022-02-26T09:39:31.910Z"
   },
   {
    "duration": 34,
    "start_time": "2022-02-26T09:39:31.970Z"
   },
   {
    "duration": 26,
    "start_time": "2022-02-26T09:39:32.005Z"
   },
   {
    "duration": 396,
    "start_time": "2022-02-26T09:39:32.032Z"
   },
   {
    "duration": 427,
    "start_time": "2022-02-26T09:39:32.430Z"
   },
   {
    "duration": 283,
    "start_time": "2022-02-26T09:39:32.859Z"
   },
   {
    "duration": 297,
    "start_time": "2022-02-26T09:39:33.144Z"
   },
   {
    "duration": 479,
    "start_time": "2022-02-26T09:39:33.442Z"
   },
   {
    "duration": 14,
    "start_time": "2022-02-26T09:39:33.923Z"
   },
   {
    "duration": 209,
    "start_time": "2022-02-26T09:39:33.939Z"
   },
   {
    "duration": 24,
    "start_time": "2022-02-26T09:39:34.153Z"
   },
   {
    "duration": 49,
    "start_time": "2022-02-26T09:39:34.180Z"
   },
   {
    "duration": 431,
    "start_time": "2022-02-26T09:39:34.231Z"
   },
   {
    "duration": 834,
    "start_time": "2022-02-26T09:39:34.664Z"
   },
   {
    "duration": 262,
    "start_time": "2022-02-26T09:39:35.500Z"
   },
   {
    "duration": 421,
    "start_time": "2022-02-26T09:39:35.769Z"
   },
   {
    "duration": 949,
    "start_time": "2022-02-26T09:39:36.192Z"
   },
   {
    "duration": 208,
    "start_time": "2022-02-26T09:39:37.143Z"
   },
   {
    "duration": 229,
    "start_time": "2022-02-26T09:39:37.352Z"
   },
   {
    "duration": 232,
    "start_time": "2022-02-26T09:39:37.582Z"
   },
   {
    "duration": 258,
    "start_time": "2022-02-26T09:39:37.816Z"
   },
   {
    "duration": 26,
    "start_time": "2022-02-26T09:39:38.076Z"
   },
   {
    "duration": 381,
    "start_time": "2022-02-26T09:39:38.104Z"
   },
   {
    "duration": 39,
    "start_time": "2022-02-26T09:39:38.487Z"
   },
   {
    "duration": 410,
    "start_time": "2022-02-26T09:39:38.528Z"
   },
   {
    "duration": 425,
    "start_time": "2022-02-26T09:39:38.939Z"
   },
   {
    "duration": 261,
    "start_time": "2022-02-26T09:39:39.369Z"
   },
   {
    "duration": 395,
    "start_time": "2022-02-26T09:39:39.632Z"
   },
   {
    "duration": 418,
    "start_time": "2022-02-26T09:39:40.029Z"
   },
   {
    "duration": 203,
    "start_time": "2022-02-26T09:39:40.449Z"
   },
   {
    "duration": 340,
    "start_time": "2022-02-26T09:39:40.654Z"
   },
   {
    "duration": 257,
    "start_time": "2022-02-26T09:39:40.996Z"
   },
   {
    "duration": 263,
    "start_time": "2022-02-26T09:39:41.254Z"
   },
   {
    "duration": 255,
    "start_time": "2022-02-26T09:39:41.519Z"
   },
   {
    "duration": 652,
    "start_time": "2022-02-27T06:26:33.910Z"
   },
   {
    "duration": 97,
    "start_time": "2022-02-27T06:26:34.564Z"
   },
   {
    "duration": 8,
    "start_time": "2022-02-27T06:26:34.663Z"
   },
   {
    "duration": 10,
    "start_time": "2022-02-27T06:26:34.673Z"
   },
   {
    "duration": 25,
    "start_time": "2022-02-27T06:26:34.685Z"
   },
   {
    "duration": 10,
    "start_time": "2022-02-27T06:26:34.711Z"
   },
   {
    "duration": 25,
    "start_time": "2022-02-27T06:26:34.723Z"
   },
   {
    "duration": 51,
    "start_time": "2022-02-27T06:26:34.750Z"
   },
   {
    "duration": 30,
    "start_time": "2022-02-27T06:26:34.804Z"
   },
   {
    "duration": 56,
    "start_time": "2022-02-27T06:26:34.836Z"
   },
   {
    "duration": 24,
    "start_time": "2022-02-27T06:26:34.894Z"
   },
   {
    "duration": 386,
    "start_time": "2022-02-27T06:26:34.919Z"
   },
   {
    "duration": 406,
    "start_time": "2022-02-27T06:26:35.306Z"
   },
   {
    "duration": 303,
    "start_time": "2022-02-27T06:26:35.714Z"
   },
   {
    "duration": 280,
    "start_time": "2022-02-27T06:26:36.019Z"
   },
   {
    "duration": 369,
    "start_time": "2022-02-27T06:26:36.301Z"
   },
   {
    "duration": 14,
    "start_time": "2022-02-27T06:26:36.676Z"
   },
   {
    "duration": 196,
    "start_time": "2022-02-27T06:26:36.691Z"
   },
   {
    "duration": 11,
    "start_time": "2022-02-27T06:26:36.889Z"
   },
   {
    "duration": 49,
    "start_time": "2022-02-27T06:26:36.902Z"
   },
   {
    "duration": 395,
    "start_time": "2022-02-27T06:26:36.953Z"
   },
   {
    "duration": 748,
    "start_time": "2022-02-27T06:26:37.350Z"
   },
   {
    "duration": 314,
    "start_time": "2022-02-27T06:26:38.099Z"
   },
   {
    "duration": 370,
    "start_time": "2022-02-27T06:26:38.414Z"
   },
   {
    "duration": 733,
    "start_time": "2022-02-27T06:26:38.786Z"
   },
   {
    "duration": 204,
    "start_time": "2022-02-27T06:26:39.521Z"
   },
   {
    "duration": 207,
    "start_time": "2022-02-27T06:26:39.728Z"
   },
   {
    "duration": 219,
    "start_time": "2022-02-27T06:26:39.937Z"
   },
   {
    "duration": 246,
    "start_time": "2022-02-27T06:26:40.157Z"
   },
   {
    "duration": 25,
    "start_time": "2022-02-27T06:26:40.404Z"
   },
   {
    "duration": 359,
    "start_time": "2022-02-27T06:26:40.431Z"
   },
   {
    "duration": 40,
    "start_time": "2022-02-27T06:26:40.793Z"
   },
   {
    "duration": 399,
    "start_time": "2022-02-27T06:26:40.835Z"
   },
   {
    "duration": 454,
    "start_time": "2022-02-27T06:26:41.236Z"
   },
   {
    "duration": 224,
    "start_time": "2022-02-27T06:26:41.693Z"
   },
   {
    "duration": 287,
    "start_time": "2022-02-27T06:26:41.919Z"
   },
   {
    "duration": 387,
    "start_time": "2022-02-27T06:26:42.208Z"
   },
   {
    "duration": 190,
    "start_time": "2022-02-27T06:26:42.597Z"
   },
   {
    "duration": 309,
    "start_time": "2022-02-27T06:26:42.789Z"
   },
   {
    "duration": 236,
    "start_time": "2022-02-27T06:26:43.100Z"
   },
   {
    "duration": 240,
    "start_time": "2022-02-27T06:26:43.338Z"
   },
   {
    "duration": 242,
    "start_time": "2022-02-27T06:26:43.580Z"
   },
   {
    "duration": 596,
    "start_time": "2022-02-27T06:57:07.578Z"
   },
   {
    "duration": 83,
    "start_time": "2022-02-27T06:57:08.176Z"
   },
   {
    "duration": 12,
    "start_time": "2022-02-27T06:57:08.261Z"
   },
   {
    "duration": 9,
    "start_time": "2022-02-27T06:57:08.274Z"
   },
   {
    "duration": 20,
    "start_time": "2022-02-27T06:57:08.285Z"
   },
   {
    "duration": 34,
    "start_time": "2022-02-27T06:57:08.306Z"
   },
   {
    "duration": 22,
    "start_time": "2022-02-27T06:57:08.342Z"
   },
   {
    "duration": 20,
    "start_time": "2022-02-27T06:57:08.366Z"
   },
   {
    "duration": 51,
    "start_time": "2022-02-27T06:57:08.388Z"
   },
   {
    "duration": 32,
    "start_time": "2022-02-27T06:57:08.441Z"
   },
   {
    "duration": 22,
    "start_time": "2022-02-27T06:57:08.474Z"
   },
   {
    "duration": 313,
    "start_time": "2022-02-27T06:57:08.497Z"
   },
   {
    "duration": 328,
    "start_time": "2022-02-27T06:57:08.811Z"
   },
   {
    "duration": 258,
    "start_time": "2022-02-27T06:57:09.141Z"
   },
   {
    "duration": 227,
    "start_time": "2022-02-27T06:57:09.400Z"
   },
   {
    "duration": 306,
    "start_time": "2022-02-27T06:57:09.628Z"
   },
   {
    "duration": 14,
    "start_time": "2022-02-27T06:57:09.936Z"
   },
   {
    "duration": 169,
    "start_time": "2022-02-27T06:57:09.951Z"
   },
   {
    "duration": 14,
    "start_time": "2022-02-27T06:57:10.122Z"
   },
   {
    "duration": 43,
    "start_time": "2022-02-27T06:57:10.138Z"
   },
   {
    "duration": 309,
    "start_time": "2022-02-27T06:57:10.182Z"
   },
   {
    "duration": 609,
    "start_time": "2022-02-27T06:57:10.493Z"
   },
   {
    "duration": 286,
    "start_time": "2022-02-27T06:57:11.104Z"
   },
   {
    "duration": 328,
    "start_time": "2022-02-27T06:57:11.391Z"
   },
   {
    "duration": 651,
    "start_time": "2022-02-27T06:57:11.720Z"
   },
   {
    "duration": 172,
    "start_time": "2022-02-27T06:57:12.373Z"
   },
   {
    "duration": 180,
    "start_time": "2022-02-27T06:57:12.548Z"
   },
   {
    "duration": 182,
    "start_time": "2022-02-27T06:57:12.733Z"
   },
   {
    "duration": 211,
    "start_time": "2022-02-27T06:57:12.917Z"
   },
   {
    "duration": 23,
    "start_time": "2022-02-27T06:57:13.133Z"
   },
   {
    "duration": 305,
    "start_time": "2022-02-27T06:57:13.157Z"
   },
   {
    "duration": 34,
    "start_time": "2022-02-27T06:57:13.464Z"
   },
   {
    "duration": 301,
    "start_time": "2022-02-27T06:57:13.500Z"
   },
   {
    "duration": 379,
    "start_time": "2022-02-27T06:57:13.803Z"
   },
   {
    "duration": 183,
    "start_time": "2022-02-27T06:57:14.184Z"
   },
   {
    "duration": 229,
    "start_time": "2022-02-27T06:57:14.368Z"
   },
   {
    "duration": 305,
    "start_time": "2022-02-27T06:57:14.599Z"
   },
   {
    "duration": 163,
    "start_time": "2022-02-27T06:57:14.905Z"
   },
   {
    "duration": 253,
    "start_time": "2022-02-27T06:57:15.070Z"
   },
   {
    "duration": 200,
    "start_time": "2022-02-27T06:57:15.325Z"
   },
   {
    "duration": 189,
    "start_time": "2022-02-27T06:57:15.526Z"
   },
   {
    "duration": 196,
    "start_time": "2022-02-27T06:57:15.717Z"
   },
   {
    "duration": 374,
    "start_time": "2022-02-27T12:16:27.557Z"
   },
   {
    "duration": 637,
    "start_time": "2022-02-27T12:16:38.703Z"
   },
   {
    "duration": 78,
    "start_time": "2022-02-27T12:16:39.342Z"
   },
   {
    "duration": 8,
    "start_time": "2022-02-27T12:16:39.422Z"
   },
   {
    "duration": 7,
    "start_time": "2022-02-27T12:16:39.431Z"
   },
   {
    "duration": 20,
    "start_time": "2022-02-27T12:16:39.439Z"
   },
   {
    "duration": 4,
    "start_time": "2022-02-27T12:16:39.461Z"
   },
   {
    "duration": 35,
    "start_time": "2022-02-27T12:16:39.467Z"
   },
   {
    "duration": 19,
    "start_time": "2022-02-27T12:16:39.504Z"
   },
   {
    "duration": 21,
    "start_time": "2022-02-27T12:16:39.525Z"
   },
   {
    "duration": 25,
    "start_time": "2022-02-27T12:16:39.547Z"
   },
   {
    "duration": 51,
    "start_time": "2022-02-27T12:16:39.574Z"
   },
   {
    "duration": 22,
    "start_time": "2022-02-27T12:16:39.627Z"
   },
   {
    "duration": 287,
    "start_time": "2022-02-27T12:16:39.651Z"
   },
   {
    "duration": 292,
    "start_time": "2022-02-27T12:16:39.939Z"
   },
   {
    "duration": 229,
    "start_time": "2022-02-27T12:16:40.233Z"
   },
   {
    "duration": 217,
    "start_time": "2022-02-27T12:16:40.463Z"
   },
   {
    "duration": 288,
    "start_time": "2022-02-27T12:16:40.682Z"
   },
   {
    "duration": 11,
    "start_time": "2022-02-27T12:16:40.971Z"
   },
   {
    "duration": 153,
    "start_time": "2022-02-27T12:16:40.983Z"
   },
   {
    "duration": 10,
    "start_time": "2022-02-27T12:16:41.138Z"
   },
   {
    "duration": 52,
    "start_time": "2022-02-27T12:16:41.149Z"
   },
   {
    "duration": 302,
    "start_time": "2022-02-27T12:16:41.203Z"
   },
   {
    "duration": 552,
    "start_time": "2022-02-27T12:16:41.508Z"
   },
   {
    "duration": 243,
    "start_time": "2022-02-27T12:16:42.062Z"
   },
   {
    "duration": 297,
    "start_time": "2022-02-27T12:16:42.306Z"
   },
   {
    "duration": 734,
    "start_time": "2022-02-27T12:16:42.604Z"
   },
   {
    "duration": 157,
    "start_time": "2022-02-27T12:16:43.339Z"
   },
   {
    "duration": 168,
    "start_time": "2022-02-27T12:16:43.501Z"
   },
   {
    "duration": 175,
    "start_time": "2022-02-27T12:16:43.671Z"
   },
   {
    "duration": 204,
    "start_time": "2022-02-27T12:16:43.847Z"
   },
   {
    "duration": 20,
    "start_time": "2022-02-27T12:16:44.052Z"
   },
   {
    "duration": 278,
    "start_time": "2022-02-27T12:16:44.074Z"
   },
   {
    "duration": 32,
    "start_time": "2022-02-27T12:16:44.354Z"
   },
   {
    "duration": 307,
    "start_time": "2022-02-27T12:16:44.387Z"
   },
   {
    "duration": 380,
    "start_time": "2022-02-27T12:16:44.696Z"
   },
   {
    "duration": 191,
    "start_time": "2022-02-27T12:16:45.077Z"
   },
   {
    "duration": 219,
    "start_time": "2022-02-27T12:16:45.269Z"
   },
   {
    "duration": 300,
    "start_time": "2022-02-27T12:16:45.489Z"
   },
   {
    "duration": 150,
    "start_time": "2022-02-27T12:16:45.790Z"
   },
   {
    "duration": 238,
    "start_time": "2022-02-27T12:16:45.941Z"
   },
   {
    "duration": 175,
    "start_time": "2022-02-27T12:16:46.181Z"
   },
   {
    "duration": 182,
    "start_time": "2022-02-27T12:16:46.357Z"
   },
   {
    "duration": 185,
    "start_time": "2022-02-27T12:16:46.540Z"
   },
   {
    "duration": 5,
    "start_time": "2022-02-27T12:17:52.612Z"
   },
   {
    "duration": 5,
    "start_time": "2022-02-27T12:18:20.697Z"
   },
   {
    "duration": 24,
    "start_time": "2022-02-27T12:19:07.482Z"
   },
   {
    "duration": 21,
    "start_time": "2022-02-27T12:25:42.851Z"
   },
   {
    "duration": 19,
    "start_time": "2022-02-27T12:25:46.940Z"
   },
   {
    "duration": 3,
    "start_time": "2022-02-27T12:26:04.896Z"
   },
   {
    "duration": 92,
    "start_time": "2022-02-27T12:26:04.901Z"
   },
   {
    "duration": 12,
    "start_time": "2022-02-27T12:26:04.994Z"
   },
   {
    "duration": 8,
    "start_time": "2022-02-27T12:26:05.008Z"
   },
   {
    "duration": 21,
    "start_time": "2022-02-27T12:26:05.017Z"
   },
   {
    "duration": 4,
    "start_time": "2022-02-27T12:26:05.039Z"
   },
   {
    "duration": 9,
    "start_time": "2022-02-27T12:26:05.045Z"
   },
   {
    "duration": 47,
    "start_time": "2022-02-27T12:26:05.055Z"
   },
   {
    "duration": 21,
    "start_time": "2022-02-27T12:26:05.104Z"
   },
   {
    "duration": 25,
    "start_time": "2022-02-27T12:26:05.127Z"
   },
   {
    "duration": 48,
    "start_time": "2022-02-27T12:26:05.154Z"
   },
   {
    "duration": 21,
    "start_time": "2022-02-27T12:26:05.203Z"
   },
   {
    "duration": 344,
    "start_time": "2022-02-27T12:26:05.225Z"
   },
   {
    "duration": 300,
    "start_time": "2022-02-27T12:26:05.571Z"
   },
   {
    "duration": 188,
    "start_time": "2022-02-27T12:26:05.873Z"
   },
   {
    "duration": 213,
    "start_time": "2022-02-27T12:26:06.063Z"
   },
   {
    "duration": 288,
    "start_time": "2022-02-27T12:26:06.277Z"
   },
   {
    "duration": 11,
    "start_time": "2022-02-27T12:26:06.566Z"
   },
   {
    "duration": 143,
    "start_time": "2022-02-27T12:26:06.578Z"
   },
   {
    "duration": 10,
    "start_time": "2022-02-27T12:26:06.722Z"
   },
   {
    "duration": 34,
    "start_time": "2022-02-27T12:26:06.733Z"
   },
   {
    "duration": 284,
    "start_time": "2022-02-27T12:26:06.768Z"
   },
   {
    "duration": 627,
    "start_time": "2022-02-27T12:26:07.054Z"
   },
   {
    "duration": 184,
    "start_time": "2022-02-27T12:26:07.682Z"
   },
   {
    "duration": 306,
    "start_time": "2022-02-27T12:26:07.867Z"
   },
   {
    "duration": 630,
    "start_time": "2022-02-27T12:26:08.174Z"
   },
   {
    "duration": 162,
    "start_time": "2022-02-27T12:26:08.805Z"
   },
   {
    "duration": 174,
    "start_time": "2022-02-27T12:26:08.970Z"
   },
   {
    "duration": 175,
    "start_time": "2022-02-27T12:26:09.146Z"
   },
   {
    "duration": 193,
    "start_time": "2022-02-27T12:26:09.323Z"
   },
   {
    "duration": 20,
    "start_time": "2022-02-27T12:26:09.517Z"
   },
   {
    "duration": 337,
    "start_time": "2022-02-27T12:26:09.539Z"
   },
   {
    "duration": 39,
    "start_time": "2022-02-27T12:26:09.878Z"
   },
   {
    "duration": 277,
    "start_time": "2022-02-27T12:26:09.919Z"
   },
   {
    "duration": 280,
    "start_time": "2022-02-27T12:26:10.198Z"
   },
   {
    "duration": 174,
    "start_time": "2022-02-27T12:26:10.479Z"
   },
   {
    "duration": 214,
    "start_time": "2022-02-27T12:26:10.654Z"
   },
   {
    "duration": 292,
    "start_time": "2022-02-27T12:26:10.870Z"
   },
   {
    "duration": 139,
    "start_time": "2022-02-27T12:26:11.164Z"
   },
   {
    "duration": 232,
    "start_time": "2022-02-27T12:26:11.305Z"
   },
   {
    "duration": 174,
    "start_time": "2022-02-27T12:26:11.538Z"
   },
   {
    "duration": 232,
    "start_time": "2022-02-27T12:26:11.714Z"
   },
   {
    "duration": 186,
    "start_time": "2022-02-27T12:26:11.948Z"
   },
   {
    "duration": 19,
    "start_time": "2022-02-27T12:26:54.020Z"
   },
   {
    "duration": 71,
    "start_time": "2022-02-27T12:28:14.063Z"
   },
   {
    "duration": 20,
    "start_time": "2022-02-27T12:28:17.785Z"
   },
   {
    "duration": 19,
    "start_time": "2022-02-27T12:28:20.042Z"
   },
   {
    "duration": 5,
    "start_time": "2022-02-27T12:29:37.033Z"
   },
   {
    "duration": 20,
    "start_time": "2022-02-27T12:29:38.153Z"
   },
   {
    "duration": 5,
    "start_time": "2022-02-27T12:29:40.654Z"
   },
   {
    "duration": 3,
    "start_time": "2022-02-27T12:29:50.983Z"
   },
   {
    "duration": 94,
    "start_time": "2022-02-27T12:29:50.987Z"
   },
   {
    "duration": 8,
    "start_time": "2022-02-27T12:29:51.082Z"
   },
   {
    "duration": 24,
    "start_time": "2022-02-27T12:29:51.092Z"
   },
   {
    "duration": 33,
    "start_time": "2022-02-27T12:29:51.118Z"
   },
   {
    "duration": 4,
    "start_time": "2022-02-27T12:29:51.153Z"
   },
   {
    "duration": 11,
    "start_time": "2022-02-27T12:29:51.159Z"
   },
   {
    "duration": 18,
    "start_time": "2022-02-27T12:29:51.172Z"
   },
   {
    "duration": 30,
    "start_time": "2022-02-27T12:29:51.191Z"
   },
   {
    "duration": 27,
    "start_time": "2022-02-27T12:29:51.223Z"
   },
   {
    "duration": 26,
    "start_time": "2022-02-27T12:29:51.252Z"
   },
   {
    "duration": 20,
    "start_time": "2022-02-27T12:29:51.301Z"
   },
   {
    "duration": 287,
    "start_time": "2022-02-27T12:29:51.323Z"
   },
   {
    "duration": 304,
    "start_time": "2022-02-27T12:29:51.612Z"
   },
   {
    "duration": 191,
    "start_time": "2022-02-27T12:29:51.918Z"
   },
   {
    "duration": 215,
    "start_time": "2022-02-27T12:29:52.110Z"
   },
   {
    "duration": 282,
    "start_time": "2022-02-27T12:29:52.327Z"
   },
   {
    "duration": 11,
    "start_time": "2022-02-27T12:29:52.610Z"
   },
   {
    "duration": 140,
    "start_time": "2022-02-27T12:29:52.624Z"
   },
   {
    "duration": 10,
    "start_time": "2022-02-27T12:29:52.766Z"
   },
   {
    "duration": 51,
    "start_time": "2022-02-27T12:29:52.777Z"
   },
   {
    "duration": 334,
    "start_time": "2022-02-27T12:29:52.829Z"
   },
   {
    "duration": 567,
    "start_time": "2022-02-27T12:29:53.164Z"
   },
   {
    "duration": 180,
    "start_time": "2022-02-27T12:29:53.732Z"
   },
   {
    "duration": 290,
    "start_time": "2022-02-27T12:29:53.913Z"
   },
   {
    "duration": 627,
    "start_time": "2022-02-27T12:29:54.204Z"
   },
   {
    "duration": 161,
    "start_time": "2022-02-27T12:29:54.833Z"
   },
   {
    "duration": 222,
    "start_time": "2022-02-27T12:29:54.995Z"
   },
   {
    "duration": 174,
    "start_time": "2022-02-27T12:29:55.218Z"
   },
   {
    "duration": 198,
    "start_time": "2022-02-27T12:29:55.393Z"
   },
   {
    "duration": 25,
    "start_time": "2022-02-27T12:29:55.593Z"
   },
   {
    "duration": 273,
    "start_time": "2022-02-27T12:29:55.619Z"
   },
   {
    "duration": 37,
    "start_time": "2022-02-27T12:29:55.893Z"
   },
   {
    "duration": 283,
    "start_time": "2022-02-27T12:29:55.931Z"
   },
   {
    "duration": 291,
    "start_time": "2022-02-27T12:29:56.216Z"
   },
   {
    "duration": 185,
    "start_time": "2022-02-27T12:29:56.508Z"
   },
   {
    "duration": 210,
    "start_time": "2022-02-27T12:29:56.695Z"
   },
   {
    "duration": 288,
    "start_time": "2022-02-27T12:29:56.906Z"
   },
   {
    "duration": 206,
    "start_time": "2022-02-27T12:29:57.195Z"
   },
   {
    "duration": 334,
    "start_time": "2022-02-27T12:29:57.403Z"
   },
   {
    "duration": 178,
    "start_time": "2022-02-27T12:29:57.739Z"
   },
   {
    "duration": 184,
    "start_time": "2022-02-27T12:29:57.918Z"
   },
   {
    "duration": 190,
    "start_time": "2022-02-27T12:29:58.104Z"
   },
   {
    "duration": 20,
    "start_time": "2022-02-27T12:30:11.897Z"
   },
   {
    "duration": 656,
    "start_time": "2022-02-28T18:41:25.949Z"
   },
   {
    "duration": 91,
    "start_time": "2022-02-28T18:41:26.607Z"
   },
   {
    "duration": 9,
    "start_time": "2022-02-28T18:41:26.700Z"
   },
   {
    "duration": 7,
    "start_time": "2022-02-28T18:41:26.711Z"
   },
   {
    "duration": 23,
    "start_time": "2022-02-28T18:41:26.719Z"
   },
   {
    "duration": 19,
    "start_time": "2022-02-28T18:41:26.744Z"
   },
   {
    "duration": 12,
    "start_time": "2022-02-28T18:41:26.764Z"
   },
   {
    "duration": 19,
    "start_time": "2022-02-28T18:41:26.778Z"
   },
   {
    "duration": 24,
    "start_time": "2022-02-28T18:41:26.799Z"
   },
   {
    "duration": 58,
    "start_time": "2022-02-28T18:41:26.824Z"
   },
   {
    "duration": 31,
    "start_time": "2022-02-28T18:41:26.884Z"
   },
   {
    "duration": 46,
    "start_time": "2022-02-28T18:41:26.917Z"
   },
   {
    "duration": 334,
    "start_time": "2022-02-28T18:41:26.965Z"
   },
   {
    "duration": 353,
    "start_time": "2022-02-28T18:41:27.301Z"
   },
   {
    "duration": 270,
    "start_time": "2022-02-28T18:41:27.656Z"
   },
   {
    "duration": 261,
    "start_time": "2022-02-28T18:41:27.927Z"
   },
   {
    "duration": 342,
    "start_time": "2022-02-28T18:41:28.190Z"
   },
   {
    "duration": 13,
    "start_time": "2022-02-28T18:41:28.533Z"
   },
   {
    "duration": 158,
    "start_time": "2022-02-28T18:41:28.559Z"
   },
   {
    "duration": 11,
    "start_time": "2022-02-28T18:41:28.719Z"
   },
   {
    "duration": 55,
    "start_time": "2022-02-28T18:41:28.731Z"
   },
   {
    "duration": 334,
    "start_time": "2022-02-28T18:41:28.787Z"
   },
   {
    "duration": 684,
    "start_time": "2022-02-28T18:41:29.125Z"
   },
   {
    "duration": 276,
    "start_time": "2022-02-28T18:41:29.811Z"
   },
   {
    "duration": 359,
    "start_time": "2022-02-28T18:41:30.088Z"
   },
   {
    "duration": 720,
    "start_time": "2022-02-28T18:41:30.449Z"
   },
   {
    "duration": 184,
    "start_time": "2022-02-28T18:41:31.170Z"
   },
   {
    "duration": 201,
    "start_time": "2022-02-28T18:41:31.358Z"
   },
   {
    "duration": 188,
    "start_time": "2022-02-28T18:41:31.560Z"
   },
   {
    "duration": 222,
    "start_time": "2022-02-28T18:41:31.750Z"
   },
   {
    "duration": 22,
    "start_time": "2022-02-28T18:41:31.974Z"
   },
   {
    "duration": 334,
    "start_time": "2022-02-28T18:41:31.997Z"
   },
   {
    "duration": 44,
    "start_time": "2022-02-28T18:41:32.332Z"
   },
   {
    "duration": 333,
    "start_time": "2022-02-28T18:41:32.378Z"
   },
   {
    "duration": 399,
    "start_time": "2022-02-28T18:41:32.712Z"
   },
   {
    "duration": 202,
    "start_time": "2022-02-28T18:41:33.112Z"
   },
   {
    "duration": 257,
    "start_time": "2022-02-28T18:41:33.315Z"
   },
   {
    "duration": 356,
    "start_time": "2022-02-28T18:41:33.573Z"
   },
   {
    "duration": 165,
    "start_time": "2022-02-28T18:41:33.931Z"
   },
   {
    "duration": 285,
    "start_time": "2022-02-28T18:41:34.098Z"
   },
   {
    "duration": 201,
    "start_time": "2022-02-28T18:41:34.385Z"
   },
   {
    "duration": 214,
    "start_time": "2022-02-28T18:41:34.587Z"
   },
   {
    "duration": 219,
    "start_time": "2022-02-28T18:41:34.803Z"
   },
   {
    "duration": 4,
    "start_time": "2022-02-28T18:50:53.147Z"
   },
   {
    "duration": 24,
    "start_time": "2022-02-28T18:51:06.030Z"
   },
   {
    "duration": 23,
    "start_time": "2022-02-28T18:51:29.354Z"
   },
   {
    "duration": 3,
    "start_time": "2022-02-28T18:51:38.430Z"
   },
   {
    "duration": 96,
    "start_time": "2022-02-28T18:51:38.435Z"
   },
   {
    "duration": 31,
    "start_time": "2022-02-28T18:51:38.533Z"
   },
   {
    "duration": 6,
    "start_time": "2022-02-28T18:51:38.566Z"
   },
   {
    "duration": 23,
    "start_time": "2022-02-28T18:51:38.574Z"
   },
   {
    "duration": 25,
    "start_time": "2022-02-28T18:51:38.599Z"
   },
   {
    "duration": 11,
    "start_time": "2022-02-28T18:51:38.660Z"
   },
   {
    "duration": 19,
    "start_time": "2022-02-28T18:51:38.673Z"
   },
   {
    "duration": 25,
    "start_time": "2022-02-28T18:51:38.694Z"
   },
   {
    "duration": 62,
    "start_time": "2022-02-28T18:51:38.721Z"
   },
   {
    "duration": 33,
    "start_time": "2022-02-28T18:51:38.785Z"
   },
   {
    "duration": 46,
    "start_time": "2022-02-28T18:51:38.820Z"
   },
   {
    "duration": 391,
    "start_time": "2022-02-28T18:51:38.868Z"
   },
   {
    "duration": 357,
    "start_time": "2022-02-28T18:51:39.260Z"
   },
   {
    "duration": 217,
    "start_time": "2022-02-28T18:51:39.619Z"
   },
   {
    "duration": 259,
    "start_time": "2022-02-28T18:51:39.838Z"
   },
   {
    "duration": 348,
    "start_time": "2022-02-28T18:51:40.098Z"
   },
   {
    "duration": 21,
    "start_time": "2022-02-28T18:51:40.448Z"
   },
   {
    "duration": 162,
    "start_time": "2022-02-28T18:51:40.472Z"
   },
   {
    "duration": 11,
    "start_time": "2022-02-28T18:51:40.636Z"
   },
   {
    "duration": 41,
    "start_time": "2022-02-28T18:51:40.659Z"
   },
   {
    "duration": 349,
    "start_time": "2022-02-28T18:51:40.701Z"
   },
   {
    "duration": 739,
    "start_time": "2022-02-28T18:51:41.052Z"
   },
   {
    "duration": 213,
    "start_time": "2022-02-28T18:51:41.792Z"
   },
   {
    "duration": 353,
    "start_time": "2022-02-28T18:51:42.007Z"
   },
   {
    "duration": 673,
    "start_time": "2022-02-28T18:51:42.361Z"
   },
   {
    "duration": 179,
    "start_time": "2022-02-28T18:51:43.036Z"
   },
   {
    "duration": 190,
    "start_time": "2022-02-28T18:51:43.216Z"
   },
   {
    "duration": 199,
    "start_time": "2022-02-28T18:51:43.407Z"
   },
   {
    "duration": 218,
    "start_time": "2022-02-28T18:51:43.607Z"
   },
   {
    "duration": 35,
    "start_time": "2022-02-28T18:51:43.826Z"
   },
   {
    "duration": 383,
    "start_time": "2022-02-28T18:51:43.862Z"
   },
   {
    "duration": 41,
    "start_time": "2022-02-28T18:51:44.247Z"
   },
   {
    "duration": 337,
    "start_time": "2022-02-28T18:51:44.290Z"
   },
   {
    "duration": 355,
    "start_time": "2022-02-28T18:51:44.628Z"
   },
   {
    "duration": 201,
    "start_time": "2022-02-28T18:51:44.985Z"
   },
   {
    "duration": 264,
    "start_time": "2022-02-28T18:51:45.187Z"
   },
   {
    "duration": 339,
    "start_time": "2022-02-28T18:51:45.453Z"
   },
   {
    "duration": 179,
    "start_time": "2022-02-28T18:51:45.793Z"
   },
   {
    "duration": 287,
    "start_time": "2022-02-28T18:51:45.973Z"
   },
   {
    "duration": 208,
    "start_time": "2022-02-28T18:51:46.261Z"
   },
   {
    "duration": 276,
    "start_time": "2022-02-28T18:51:46.470Z"
   },
   {
    "duration": 219,
    "start_time": "2022-02-28T18:51:46.748Z"
   },
   {
    "duration": 9,
    "start_time": "2022-02-28T19:09:37.877Z"
   },
   {
    "duration": 9,
    "start_time": "2022-02-28T19:12:39.867Z"
   },
   {
    "duration": 9,
    "start_time": "2022-02-28T19:12:51.375Z"
   },
   {
    "duration": 9,
    "start_time": "2022-02-28T19:15:11.389Z"
   },
   {
    "duration": 9,
    "start_time": "2022-02-28T19:16:42.384Z"
   },
   {
    "duration": 9,
    "start_time": "2022-02-28T19:16:56.442Z"
   },
   {
    "duration": 9,
    "start_time": "2022-02-28T19:18:00.303Z"
   },
   {
    "duration": 9,
    "start_time": "2022-02-28T19:18:09.988Z"
   },
   {
    "duration": 9,
    "start_time": "2022-02-28T19:37:08.861Z"
   },
   {
    "duration": 8,
    "start_time": "2022-02-28T19:38:05.303Z"
   },
   {
    "duration": 285,
    "start_time": "2022-02-28T19:40:02.711Z"
   },
   {
    "duration": 9,
    "start_time": "2022-02-28T19:40:13.750Z"
   },
   {
    "duration": 233,
    "start_time": "2022-02-28T19:43:24.888Z"
   },
   {
    "duration": 6,
    "start_time": "2022-02-28T19:44:05.790Z"
   },
   {
    "duration": 2,
    "start_time": "2022-02-28T19:53:20.440Z"
   },
   {
    "duration": 279,
    "start_time": "2022-03-02T18:34:17.365Z"
   },
   {
    "duration": 734,
    "start_time": "2022-03-02T18:34:26.108Z"
   },
   {
    "duration": 97,
    "start_time": "2022-03-02T18:34:26.844Z"
   },
   {
    "duration": 9,
    "start_time": "2022-03-02T18:34:26.944Z"
   },
   {
    "duration": 10,
    "start_time": "2022-03-02T18:34:26.956Z"
   },
   {
    "duration": 55,
    "start_time": "2022-03-02T18:34:26.969Z"
   },
   {
    "duration": 38,
    "start_time": "2022-03-02T18:34:27.026Z"
   },
   {
    "duration": 6,
    "start_time": "2022-03-02T18:34:27.066Z"
   },
   {
    "duration": 5510,
    "start_time": "2022-03-02T18:34:27.075Z"
   },
   {
    "duration": 292,
    "start_time": "2022-03-02T18:34:32.297Z"
   },
   {
    "duration": 286,
    "start_time": "2022-03-02T18:34:32.304Z"
   },
   {
    "duration": 283,
    "start_time": "2022-03-02T18:34:32.308Z"
   },
   {
    "duration": 280,
    "start_time": "2022-03-02T18:34:32.312Z"
   },
   {
    "duration": 277,
    "start_time": "2022-03-02T18:34:32.316Z"
   },
   {
    "duration": 275,
    "start_time": "2022-03-02T18:34:32.320Z"
   },
   {
    "duration": 271,
    "start_time": "2022-03-02T18:34:32.325Z"
   },
   {
    "duration": 268,
    "start_time": "2022-03-02T18:34:32.329Z"
   },
   {
    "duration": 266,
    "start_time": "2022-03-02T18:34:32.332Z"
   },
   {
    "duration": 264,
    "start_time": "2022-03-02T18:34:32.335Z"
   },
   {
    "duration": 262,
    "start_time": "2022-03-02T18:34:32.338Z"
   },
   {
    "duration": 261,
    "start_time": "2022-03-02T18:34:32.341Z"
   },
   {
    "duration": 258,
    "start_time": "2022-03-02T18:34:32.345Z"
   },
   {
    "duration": 255,
    "start_time": "2022-03-02T18:34:32.349Z"
   },
   {
    "duration": 253,
    "start_time": "2022-03-02T18:34:32.352Z"
   },
   {
    "duration": 251,
    "start_time": "2022-03-02T18:34:32.355Z"
   },
   {
    "duration": 249,
    "start_time": "2022-03-02T18:34:32.358Z"
   },
   {
    "duration": 246,
    "start_time": "2022-03-02T18:34:32.362Z"
   },
   {
    "duration": 244,
    "start_time": "2022-03-02T18:34:32.365Z"
   },
   {
    "duration": 241,
    "start_time": "2022-03-02T18:34:32.369Z"
   },
   {
    "duration": 238,
    "start_time": "2022-03-02T18:34:32.373Z"
   },
   {
    "duration": 235,
    "start_time": "2022-03-02T18:34:32.377Z"
   },
   {
    "duration": 232,
    "start_time": "2022-03-02T18:34:32.381Z"
   },
   {
    "duration": 221,
    "start_time": "2022-03-02T18:34:32.393Z"
   },
   {
    "duration": 219,
    "start_time": "2022-03-02T18:34:32.396Z"
   },
   {
    "duration": 216,
    "start_time": "2022-03-02T18:34:32.400Z"
   },
   {
    "duration": 215,
    "start_time": "2022-03-02T18:34:32.403Z"
   },
   {
    "duration": 212,
    "start_time": "2022-03-02T18:34:32.407Z"
   },
   {
    "duration": 209,
    "start_time": "2022-03-02T18:34:32.411Z"
   },
   {
    "duration": 206,
    "start_time": "2022-03-02T18:34:32.415Z"
   },
   {
    "duration": 203,
    "start_time": "2022-03-02T18:34:32.419Z"
   },
   {
    "duration": 200,
    "start_time": "2022-03-02T18:34:32.423Z"
   },
   {
    "duration": 198,
    "start_time": "2022-03-02T18:34:32.426Z"
   },
   {
    "duration": 196,
    "start_time": "2022-03-02T18:34:32.429Z"
   },
   {
    "duration": 193,
    "start_time": "2022-03-02T18:34:32.432Z"
   },
   {
    "duration": 191,
    "start_time": "2022-03-02T18:34:32.435Z"
   },
   {
    "duration": 188,
    "start_time": "2022-03-02T18:34:32.439Z"
   },
   {
    "duration": 186,
    "start_time": "2022-03-02T18:34:32.442Z"
   },
   {
    "duration": 4,
    "start_time": "2022-03-02T18:36:15.844Z"
   },
   {
    "duration": 99,
    "start_time": "2022-03-02T18:36:15.849Z"
   },
   {
    "duration": 9,
    "start_time": "2022-03-02T18:36:15.951Z"
   },
   {
    "duration": 42,
    "start_time": "2022-03-02T18:36:15.962Z"
   },
   {
    "duration": 25,
    "start_time": "2022-03-02T18:36:16.006Z"
   },
   {
    "duration": 30,
    "start_time": "2022-03-02T18:36:16.033Z"
   },
   {
    "duration": 4,
    "start_time": "2022-03-02T18:36:16.066Z"
   },
   {
    "duration": 5409,
    "start_time": "2022-03-02T18:36:16.072Z"
   },
   {
    "duration": 315,
    "start_time": "2022-03-02T18:36:21.170Z"
   },
   {
    "duration": 305,
    "start_time": "2022-03-02T18:36:21.181Z"
   },
   {
    "duration": 301,
    "start_time": "2022-03-02T18:36:21.186Z"
   },
   {
    "duration": 293,
    "start_time": "2022-03-02T18:36:21.195Z"
   },
   {
    "duration": 290,
    "start_time": "2022-03-02T18:36:21.199Z"
   },
   {
    "duration": 287,
    "start_time": "2022-03-02T18:36:21.203Z"
   },
   {
    "duration": 279,
    "start_time": "2022-03-02T18:36:21.212Z"
   },
   {
    "duration": 277,
    "start_time": "2022-03-02T18:36:21.216Z"
   },
   {
    "duration": 275,
    "start_time": "2022-03-02T18:36:21.219Z"
   },
   {
    "duration": 265,
    "start_time": "2022-03-02T18:36:21.230Z"
   },
   {
    "duration": 263,
    "start_time": "2022-03-02T18:36:21.233Z"
   },
   {
    "duration": 260,
    "start_time": "2022-03-02T18:36:21.237Z"
   },
   {
    "duration": 251,
    "start_time": "2022-03-02T18:36:21.247Z"
   },
   {
    "duration": 248,
    "start_time": "2022-03-02T18:36:21.251Z"
   },
   {
    "duration": 246,
    "start_time": "2022-03-02T18:36:21.254Z"
   },
   {
    "duration": 237,
    "start_time": "2022-03-02T18:36:21.264Z"
   },
   {
    "duration": 235,
    "start_time": "2022-03-02T18:36:21.267Z"
   },
   {
    "duration": 233,
    "start_time": "2022-03-02T18:36:21.270Z"
   },
   {
    "duration": 224,
    "start_time": "2022-03-02T18:36:21.280Z"
   },
   {
    "duration": 221,
    "start_time": "2022-03-02T18:36:21.284Z"
   },
   {
    "duration": 219,
    "start_time": "2022-03-02T18:36:21.287Z"
   },
   {
    "duration": 210,
    "start_time": "2022-03-02T18:36:21.297Z"
   },
   {
    "duration": 208,
    "start_time": "2022-03-02T18:36:21.300Z"
   },
   {
    "duration": 206,
    "start_time": "2022-03-02T18:36:21.303Z"
   },
   {
    "duration": 197,
    "start_time": "2022-03-02T18:36:21.313Z"
   },
   {
    "duration": 193,
    "start_time": "2022-03-02T18:36:21.317Z"
   },
   {
    "duration": 191,
    "start_time": "2022-03-02T18:36:21.320Z"
   },
   {
    "duration": 182,
    "start_time": "2022-03-02T18:36:21.330Z"
   },
   {
    "duration": 179,
    "start_time": "2022-03-02T18:36:21.333Z"
   },
   {
    "duration": 175,
    "start_time": "2022-03-02T18:36:21.338Z"
   },
   {
    "duration": 169,
    "start_time": "2022-03-02T18:36:21.347Z"
   },
   {
    "duration": 165,
    "start_time": "2022-03-02T18:36:21.352Z"
   },
   {
    "duration": 157,
    "start_time": "2022-03-02T18:36:21.360Z"
   },
   {
    "duration": 155,
    "start_time": "2022-03-02T18:36:21.363Z"
   },
   {
    "duration": 153,
    "start_time": "2022-03-02T18:36:21.366Z"
   },
   {
    "duration": 150,
    "start_time": "2022-03-02T18:36:21.370Z"
   },
   {
    "duration": 142,
    "start_time": "2022-03-02T18:36:21.379Z"
   },
   {
    "duration": 138,
    "start_time": "2022-03-02T18:36:21.384Z"
   },
   {
    "duration": 3,
    "start_time": "2022-03-02T18:41:20.549Z"
   },
   {
    "duration": 89,
    "start_time": "2022-03-02T18:41:20.554Z"
   },
   {
    "duration": 9,
    "start_time": "2022-03-02T18:41:20.646Z"
   },
   {
    "duration": 8,
    "start_time": "2022-03-02T18:41:20.657Z"
   },
   {
    "duration": 53,
    "start_time": "2022-03-02T18:41:20.667Z"
   },
   {
    "duration": 28,
    "start_time": "2022-03-02T18:41:20.722Z"
   },
   {
    "duration": 5,
    "start_time": "2022-03-02T18:41:20.752Z"
   },
   {
    "duration": 10,
    "start_time": "2022-03-02T18:41:20.759Z"
   },
   {
    "duration": 7,
    "start_time": "2022-03-02T18:41:20.801Z"
   },
   {
    "duration": 15,
    "start_time": "2022-03-02T18:41:20.810Z"
   },
   {
    "duration": 20,
    "start_time": "2022-03-02T18:41:20.827Z"
   },
   {
    "duration": 54,
    "start_time": "2022-03-02T18:41:20.850Z"
   },
   {
    "duration": 33,
    "start_time": "2022-03-02T18:41:20.906Z"
   },
   {
    "duration": 61,
    "start_time": "2022-03-02T18:41:20.942Z"
   },
   {
    "duration": 27,
    "start_time": "2022-03-02T18:41:21.005Z"
   },
   {
    "duration": 375,
    "start_time": "2022-03-02T18:41:21.034Z"
   },
   {
    "duration": 302,
    "start_time": "2022-03-02T18:41:21.110Z"
   },
   {
    "duration": 296,
    "start_time": "2022-03-02T18:41:21.117Z"
   },
   {
    "duration": 286,
    "start_time": "2022-03-02T18:41:21.128Z"
   },
   {
    "duration": 277,
    "start_time": "2022-03-02T18:41:21.138Z"
   },
   {
    "duration": 270,
    "start_time": "2022-03-02T18:41:21.146Z"
   },
   {
    "duration": 263,
    "start_time": "2022-03-02T18:41:21.154Z"
   },
   {
    "duration": 257,
    "start_time": "2022-03-02T18:41:21.161Z"
   },
   {
    "duration": 253,
    "start_time": "2022-03-02T18:41:21.167Z"
   },
   {
    "duration": 249,
    "start_time": "2022-03-02T18:41:21.172Z"
   },
   {
    "duration": 246,
    "start_time": "2022-03-02T18:41:21.175Z"
   },
   {
    "duration": 243,
    "start_time": "2022-03-02T18:41:21.179Z"
   },
   {
    "duration": 241,
    "start_time": "2022-03-02T18:41:21.182Z"
   },
   {
    "duration": 238,
    "start_time": "2022-03-02T18:41:21.186Z"
   },
   {
    "duration": 236,
    "start_time": "2022-03-02T18:41:21.189Z"
   },
   {
    "duration": 234,
    "start_time": "2022-03-02T18:41:21.192Z"
   },
   {
    "duration": 232,
    "start_time": "2022-03-02T18:41:21.195Z"
   },
   {
    "duration": 229,
    "start_time": "2022-03-02T18:41:21.199Z"
   },
   {
    "duration": 220,
    "start_time": "2022-03-02T18:41:21.209Z"
   },
   {
    "duration": 216,
    "start_time": "2022-03-02T18:41:21.214Z"
   },
   {
    "duration": 215,
    "start_time": "2022-03-02T18:41:21.217Z"
   },
   {
    "duration": 213,
    "start_time": "2022-03-02T18:41:21.220Z"
   },
   {
    "duration": 211,
    "start_time": "2022-03-02T18:41:21.223Z"
   },
   {
    "duration": 209,
    "start_time": "2022-03-02T18:41:21.226Z"
   },
   {
    "duration": 206,
    "start_time": "2022-03-02T18:41:21.229Z"
   },
   {
    "duration": 203,
    "start_time": "2022-03-02T18:41:21.233Z"
   },
   {
    "duration": 201,
    "start_time": "2022-03-02T18:41:21.236Z"
   },
   {
    "duration": 199,
    "start_time": "2022-03-02T18:41:21.239Z"
   },
   {
    "duration": 198,
    "start_time": "2022-03-02T18:41:21.241Z"
   },
   {
    "duration": 195,
    "start_time": "2022-03-02T18:41:21.245Z"
   },
   {
    "duration": 193,
    "start_time": "2022-03-02T18:41:21.248Z"
   },
   {
    "duration": 531,
    "start_time": "2022-03-02T18:43:38.707Z"
   },
   {
    "duration": 385,
    "start_time": "2022-03-02T18:45:58.729Z"
   },
   {
    "duration": 360,
    "start_time": "2022-03-02T18:46:16.155Z"
   },
   {
    "duration": 3,
    "start_time": "2022-03-02T18:46:25.962Z"
   },
   {
    "duration": 96,
    "start_time": "2022-03-02T18:46:25.968Z"
   },
   {
    "duration": 36,
    "start_time": "2022-03-02T18:46:26.066Z"
   },
   {
    "duration": 7,
    "start_time": "2022-03-02T18:46:26.104Z"
   },
   {
    "duration": 26,
    "start_time": "2022-03-02T18:46:26.112Z"
   },
   {
    "duration": 27,
    "start_time": "2022-03-02T18:46:26.140Z"
   },
   {
    "duration": 33,
    "start_time": "2022-03-02T18:46:26.170Z"
   },
   {
    "duration": 9,
    "start_time": "2022-03-02T18:46:26.205Z"
   },
   {
    "duration": 8,
    "start_time": "2022-03-02T18:46:26.216Z"
   },
   {
    "duration": 18,
    "start_time": "2022-03-02T18:46:26.225Z"
   },
   {
    "duration": 61,
    "start_time": "2022-03-02T18:46:26.245Z"
   },
   {
    "duration": 37,
    "start_time": "2022-03-02T18:46:26.308Z"
   },
   {
    "duration": 34,
    "start_time": "2022-03-02T18:46:26.346Z"
   },
   {
    "duration": 51,
    "start_time": "2022-03-02T18:46:26.382Z"
   },
   {
    "duration": 26,
    "start_time": "2022-03-02T18:46:26.435Z"
   },
   {
    "duration": 387,
    "start_time": "2022-03-02T18:46:26.463Z"
   },
   {
    "duration": 367,
    "start_time": "2022-03-02T18:46:26.852Z"
   },
   {
    "duration": 244,
    "start_time": "2022-03-02T18:46:27.221Z"
   },
   {
    "duration": 270,
    "start_time": "2022-03-02T18:46:27.470Z"
   },
   {
    "duration": 430,
    "start_time": "2022-03-02T18:46:27.743Z"
   },
   {
    "duration": 33,
    "start_time": "2022-03-02T18:46:28.176Z"
   },
   {
    "duration": 168,
    "start_time": "2022-03-02T18:46:28.211Z"
   },
   {
    "duration": 24,
    "start_time": "2022-03-02T18:46:28.381Z"
   },
   {
    "duration": 55,
    "start_time": "2022-03-02T18:46:28.408Z"
   },
   {
    "duration": 357,
    "start_time": "2022-03-02T18:46:28.465Z"
   },
   {
    "duration": 708,
    "start_time": "2022-03-02T18:46:28.824Z"
   },
   {
    "duration": 230,
    "start_time": "2022-03-02T18:46:29.534Z"
   },
   {
    "duration": 376,
    "start_time": "2022-03-02T18:46:29.766Z"
   },
   {
    "duration": 847,
    "start_time": "2022-03-02T18:46:30.144Z"
   },
   {
    "duration": 290,
    "start_time": "2022-03-02T18:46:30.993Z"
   },
   {
    "duration": 318,
    "start_time": "2022-03-02T18:46:31.285Z"
   },
   {
    "duration": 314,
    "start_time": "2022-03-02T18:46:31.606Z"
   },
   {
    "duration": 359,
    "start_time": "2022-03-02T18:46:31.922Z"
   },
   {
    "duration": 45,
    "start_time": "2022-03-02T18:46:32.283Z"
   },
   {
    "duration": 515,
    "start_time": "2022-03-02T18:46:32.330Z"
   },
   {
    "duration": 68,
    "start_time": "2022-03-02T18:46:32.848Z"
   },
   {
    "duration": 353,
    "start_time": "2022-03-02T18:46:32.918Z"
   },
   {
    "duration": 371,
    "start_time": "2022-03-02T18:46:33.274Z"
   },
   {
    "duration": 224,
    "start_time": "2022-03-02T18:46:33.647Z"
   },
   {
    "duration": 347,
    "start_time": "2022-03-02T18:46:33.873Z"
   },
   {
    "duration": 379,
    "start_time": "2022-03-02T18:46:34.222Z"
   },
   {
    "duration": 184,
    "start_time": "2022-03-02T18:46:34.603Z"
   },
   {
    "duration": 298,
    "start_time": "2022-03-02T18:46:34.788Z"
   },
   {
    "duration": 227,
    "start_time": "2022-03-02T18:46:35.087Z"
   },
   {
    "duration": 227,
    "start_time": "2022-03-02T18:46:35.315Z"
   },
   {
    "duration": 236,
    "start_time": "2022-03-02T18:46:35.543Z"
   },
   {
    "duration": 355,
    "start_time": "2022-03-02T18:48:31.113Z"
   },
   {
    "duration": 341,
    "start_time": "2022-03-02T18:54:36.920Z"
   },
   {
    "duration": 443,
    "start_time": "2022-03-02T18:54:46.833Z"
   },
   {
    "duration": 364,
    "start_time": "2022-03-02T18:54:53.024Z"
   },
   {
    "duration": 357,
    "start_time": "2022-03-02T18:55:17.278Z"
   },
   {
    "duration": 609,
    "start_time": "2022-03-02T18:55:46.116Z"
   },
   {
    "duration": 355,
    "start_time": "2022-03-02T18:55:49.767Z"
   },
   {
    "duration": 433,
    "start_time": "2022-03-02T18:56:48.096Z"
   },
   {
    "duration": 3,
    "start_time": "2022-03-02T18:57:59.342Z"
   },
   {
    "duration": 94,
    "start_time": "2022-03-02T18:57:59.347Z"
   },
   {
    "duration": 10,
    "start_time": "2022-03-02T18:57:59.443Z"
   },
   {
    "duration": 6,
    "start_time": "2022-03-02T18:57:59.455Z"
   },
   {
    "duration": 60,
    "start_time": "2022-03-02T18:57:59.463Z"
   },
   {
    "duration": 28,
    "start_time": "2022-03-02T18:57:59.525Z"
   },
   {
    "duration": 6,
    "start_time": "2022-03-02T18:57:59.556Z"
   },
   {
    "duration": 40,
    "start_time": "2022-03-02T18:57:59.565Z"
   },
   {
    "duration": 11,
    "start_time": "2022-03-02T18:57:59.608Z"
   },
   {
    "duration": 16,
    "start_time": "2022-03-02T18:57:59.621Z"
   },
   {
    "duration": 25,
    "start_time": "2022-03-02T18:57:59.640Z"
   },
   {
    "duration": 58,
    "start_time": "2022-03-02T18:57:59.666Z"
   },
   {
    "duration": 32,
    "start_time": "2022-03-02T18:57:59.726Z"
   },
   {
    "duration": 62,
    "start_time": "2022-03-02T18:57:59.760Z"
   },
   {
    "duration": 27,
    "start_time": "2022-03-02T18:57:59.824Z"
   },
   {
    "duration": 387,
    "start_time": "2022-03-02T18:57:59.854Z"
   },
   {
    "duration": 372,
    "start_time": "2022-03-02T18:58:00.244Z"
   },
   {
    "duration": 521,
    "start_time": "2022-03-02T18:58:00.618Z"
   },
   {
    "duration": 357,
    "start_time": "2022-03-02T18:58:01.144Z"
   },
   {
    "duration": 401,
    "start_time": "2022-03-02T18:58:01.504Z"
   },
   {
    "duration": 374,
    "start_time": "2022-03-02T18:58:01.907Z"
   },
   {
    "duration": 26,
    "start_time": "2022-03-02T18:58:02.284Z"
   },
   {
    "duration": 375,
    "start_time": "2022-03-02T18:58:02.312Z"
   },
   {
    "duration": 24,
    "start_time": "2022-03-02T18:58:02.690Z"
   },
   {
    "duration": 85,
    "start_time": "2022-03-02T18:58:02.716Z"
   },
   {
    "duration": 515,
    "start_time": "2022-03-02T18:58:02.803Z"
   },
   {
    "duration": 727,
    "start_time": "2022-03-02T18:58:03.321Z"
   },
   {
    "duration": 235,
    "start_time": "2022-03-02T18:58:04.050Z"
   },
   {
    "duration": 388,
    "start_time": "2022-03-02T18:58:04.288Z"
   },
   {
    "duration": 759,
    "start_time": "2022-03-02T18:58:04.678Z"
   },
   {
    "duration": 283,
    "start_time": "2022-03-02T18:58:05.439Z"
   },
   {
    "duration": 232,
    "start_time": "2022-03-02T18:58:05.725Z"
   },
   {
    "duration": 234,
    "start_time": "2022-03-02T18:58:05.959Z"
   },
   {
    "duration": 339,
    "start_time": "2022-03-02T18:58:06.201Z"
   },
   {
    "duration": 29,
    "start_time": "2022-03-02T18:58:06.542Z"
   },
   {
    "duration": 360,
    "start_time": "2022-03-02T18:58:06.573Z"
   },
   {
    "duration": 40,
    "start_time": "2022-03-02T18:58:06.935Z"
   },
   {
    "duration": 375,
    "start_time": "2022-03-02T18:58:06.977Z"
   },
   {
    "duration": 378,
    "start_time": "2022-03-02T18:58:07.354Z"
   },
   {
    "duration": 233,
    "start_time": "2022-03-02T18:58:07.734Z"
   },
   {
    "duration": 279,
    "start_time": "2022-03-02T18:58:07.970Z"
   },
   {
    "duration": 460,
    "start_time": "2022-03-02T18:58:08.251Z"
   },
   {
    "duration": 189,
    "start_time": "2022-03-02T18:58:08.713Z"
   },
   {
    "duration": 301,
    "start_time": "2022-03-02T18:58:08.904Z"
   },
   {
    "duration": 227,
    "start_time": "2022-03-02T18:58:09.207Z"
   },
   {
    "duration": 232,
    "start_time": "2022-03-02T18:58:09.436Z"
   },
   {
    "duration": 238,
    "start_time": "2022-03-02T18:58:09.669Z"
   },
   {
    "duration": 494,
    "start_time": "2022-03-02T19:00:11.602Z"
   },
   {
    "duration": 5807,
    "start_time": "2022-03-02T19:00:33.058Z"
   },
   {
    "duration": 5397,
    "start_time": "2022-03-02T19:01:18.183Z"
   },
   {
    "duration": 400,
    "start_time": "2022-03-02T19:05:18.900Z"
   },
   {
    "duration": 568,
    "start_time": "2022-03-02T19:09:54.499Z"
   },
   {
    "duration": 491,
    "start_time": "2022-03-02T19:10:14.600Z"
   },
   {
    "duration": 701,
    "start_time": "2022-03-02T19:23:51.723Z"
   },
   {
    "duration": 431,
    "start_time": "2022-03-02T19:24:01.297Z"
   },
   {
    "duration": 507,
    "start_time": "2022-03-02T19:25:15.857Z"
   },
   {
    "duration": 420,
    "start_time": "2022-03-02T19:25:21.244Z"
   },
   {
    "duration": 267,
    "start_time": "2022-03-02T19:26:09.637Z"
   },
   {
    "duration": 252,
    "start_time": "2022-03-02T19:26:32.938Z"
   },
   {
    "duration": 304,
    "start_time": "2022-03-02T19:27:18.582Z"
   },
   {
    "duration": 407,
    "start_time": "2022-03-02T19:50:22.461Z"
   },
   {
    "duration": 403,
    "start_time": "2022-03-02T19:55:50.627Z"
   },
   {
    "duration": 948,
    "start_time": "2022-03-02T19:57:15.883Z"
   },
   {
    "duration": 231,
    "start_time": "2022-03-02T20:05:19.424Z"
   },
   {
    "duration": 24,
    "start_time": "2022-03-02T20:05:27.520Z"
   },
   {
    "duration": 284,
    "start_time": "2022-03-03T18:36:20.665Z"
   },
   {
    "duration": 879,
    "start_time": "2022-03-03T18:36:29.328Z"
   },
   {
    "duration": 117,
    "start_time": "2022-03-03T18:36:30.210Z"
   },
   {
    "duration": 29,
    "start_time": "2022-03-03T18:36:30.330Z"
   },
   {
    "duration": 12,
    "start_time": "2022-03-03T18:36:30.364Z"
   },
   {
    "duration": 38,
    "start_time": "2022-03-03T18:36:30.378Z"
   },
   {
    "duration": 69,
    "start_time": "2022-03-03T18:36:30.419Z"
   },
   {
    "duration": 7,
    "start_time": "2022-03-03T18:36:30.491Z"
   },
   {
    "duration": 9,
    "start_time": "2022-03-03T18:36:30.503Z"
   },
   {
    "duration": 47,
    "start_time": "2022-03-03T18:36:30.516Z"
   },
   {
    "duration": 75,
    "start_time": "2022-03-03T18:36:30.566Z"
   },
   {
    "duration": 16,
    "start_time": "2022-03-03T18:36:30.654Z"
   },
   {
    "duration": 27,
    "start_time": "2022-03-03T18:36:30.672Z"
   },
   {
    "duration": 73,
    "start_time": "2022-03-03T18:36:30.702Z"
   },
   {
    "duration": 44,
    "start_time": "2022-03-03T18:36:30.778Z"
   },
   {
    "duration": 72,
    "start_time": "2022-03-03T18:36:30.825Z"
   },
   {
    "duration": 58,
    "start_time": "2022-03-03T18:36:30.899Z"
   },
   {
    "duration": 661,
    "start_time": "2022-03-03T18:36:30.959Z"
   },
   {
    "duration": 719,
    "start_time": "2022-03-03T18:36:31.623Z"
   },
   {
    "duration": 411,
    "start_time": "2022-03-03T18:36:32.352Z"
   },
   {
    "duration": 480,
    "start_time": "2022-03-03T18:36:32.765Z"
   },
   {
    "duration": 652,
    "start_time": "2022-03-03T18:36:33.251Z"
   },
   {
    "duration": 16,
    "start_time": "2022-03-03T18:36:33.906Z"
   },
   {
    "duration": 367,
    "start_time": "2022-03-03T18:36:33.929Z"
   },
   {
    "duration": 15,
    "start_time": "2022-03-03T18:36:34.299Z"
   },
   {
    "duration": 88,
    "start_time": "2022-03-03T18:36:34.317Z"
   },
   {
    "duration": 654,
    "start_time": "2022-03-03T18:36:34.407Z"
   },
   {
    "duration": 1384,
    "start_time": "2022-03-03T18:36:35.064Z"
   },
   {
    "duration": 342,
    "start_time": "2022-03-03T18:36:36.453Z"
   },
   {
    "duration": 570,
    "start_time": "2022-03-03T18:36:36.797Z"
   },
   {
    "duration": 1109,
    "start_time": "2022-03-03T18:36:37.369Z"
   },
   {
    "duration": 293,
    "start_time": "2022-03-03T18:36:38.481Z"
   },
   {
    "duration": 309,
    "start_time": "2022-03-03T18:36:38.776Z"
   },
   {
    "duration": 318,
    "start_time": "2022-03-03T18:36:39.087Z"
   },
   {
    "duration": 366,
    "start_time": "2022-03-03T18:36:39.407Z"
   },
   {
    "duration": 32,
    "start_time": "2022-03-03T18:36:39.776Z"
   },
   {
    "duration": 531,
    "start_time": "2022-03-03T18:36:39.811Z"
   },
   {
    "duration": 136,
    "start_time": "2022-03-03T18:36:40.351Z"
   },
   {
    "duration": 578,
    "start_time": "2022-03-03T18:36:40.490Z"
   },
   {
    "duration": 584,
    "start_time": "2022-03-03T18:36:41.070Z"
   },
   {
    "duration": 342,
    "start_time": "2022-03-03T18:36:41.656Z"
   },
   {
    "duration": 423,
    "start_time": "2022-03-03T18:36:42.000Z"
   },
   {
    "duration": 563,
    "start_time": "2022-03-03T18:36:42.425Z"
   },
   {
    "duration": 288,
    "start_time": "2022-03-03T18:36:42.991Z"
   },
   {
    "duration": 475,
    "start_time": "2022-03-03T18:36:43.281Z"
   },
   {
    "duration": 444,
    "start_time": "2022-03-03T18:36:43.758Z"
   },
   {
    "duration": 362,
    "start_time": "2022-03-03T18:36:44.204Z"
   },
   {
    "duration": 419,
    "start_time": "2022-03-03T18:36:44.568Z"
   },
   {
    "duration": 11,
    "start_time": "2022-03-03T18:40:25.251Z"
   },
   {
    "duration": 286,
    "start_time": "2022-03-03T18:54:12.689Z"
   },
   {
    "duration": 230,
    "start_time": "2022-03-03T18:54:23.345Z"
   },
   {
    "duration": 7,
    "start_time": "2022-03-03T18:54:32.709Z"
   },
   {
    "duration": 11,
    "start_time": "2022-03-03T18:54:56.311Z"
   },
   {
    "duration": 12,
    "start_time": "2022-03-03T19:07:37.900Z"
   },
   {
    "duration": 14,
    "start_time": "2022-03-03T19:08:58.118Z"
   },
   {
    "duration": 17,
    "start_time": "2022-03-03T19:09:49.844Z"
   },
   {
    "duration": 23,
    "start_time": "2022-03-03T19:20:51.970Z"
   },
   {
    "duration": 21,
    "start_time": "2022-03-03T19:40:18.209Z"
   },
   {
    "duration": 20,
    "start_time": "2022-03-03T19:47:50.349Z"
   },
   {
    "duration": 18,
    "start_time": "2022-03-03T19:48:34.791Z"
   },
   {
    "duration": 22,
    "start_time": "2022-03-03T19:49:04.446Z"
   },
   {
    "duration": 22,
    "start_time": "2022-03-03T19:55:40.051Z"
   },
   {
    "duration": 17,
    "start_time": "2022-03-03T19:56:24.139Z"
   },
   {
    "duration": 6,
    "start_time": "2022-03-03T19:57:37.833Z"
   },
   {
    "duration": 5,
    "start_time": "2022-03-03T19:57:45.568Z"
   },
   {
    "duration": 6,
    "start_time": "2022-03-03T19:57:52.570Z"
   },
   {
    "duration": 16,
    "start_time": "2022-03-03T19:58:08.669Z"
   },
   {
    "duration": 25,
    "start_time": "2022-03-03T20:03:34.531Z"
   },
   {
    "duration": 17,
    "start_time": "2022-03-03T20:13:33.628Z"
   },
   {
    "duration": 1089,
    "start_time": "2022-03-04T19:10:50.473Z"
   },
   {
    "duration": 163,
    "start_time": "2022-03-04T19:10:51.565Z"
   },
   {
    "duration": 12,
    "start_time": "2022-03-04T19:10:51.731Z"
   },
   {
    "duration": 11,
    "start_time": "2022-03-04T19:10:51.746Z"
   },
   {
    "duration": 67,
    "start_time": "2022-03-04T19:10:51.759Z"
   },
   {
    "duration": 39,
    "start_time": "2022-03-04T19:10:51.829Z"
   },
   {
    "duration": 12,
    "start_time": "2022-03-04T19:10:51.888Z"
   },
   {
    "duration": 8,
    "start_time": "2022-03-04T19:10:51.905Z"
   },
   {
    "duration": 7,
    "start_time": "2022-03-04T19:10:51.916Z"
   },
   {
    "duration": 62,
    "start_time": "2022-03-04T19:10:51.926Z"
   },
   {
    "duration": 21,
    "start_time": "2022-03-04T19:10:51.991Z"
   },
   {
    "duration": 30,
    "start_time": "2022-03-04T19:10:52.014Z"
   },
   {
    "duration": 89,
    "start_time": "2022-03-04T19:10:52.047Z"
   },
   {
    "duration": 69,
    "start_time": "2022-03-04T19:10:52.139Z"
   },
   {
    "duration": 84,
    "start_time": "2022-03-04T19:10:52.211Z"
   },
   {
    "duration": 56,
    "start_time": "2022-03-04T19:10:52.298Z"
   },
   {
    "duration": 725,
    "start_time": "2022-03-04T19:10:52.357Z"
   },
   {
    "duration": 768,
    "start_time": "2022-03-04T19:10:53.084Z"
   },
   {
    "duration": 440,
    "start_time": "2022-03-04T19:10:53.854Z"
   },
   {
    "duration": 596,
    "start_time": "2022-03-04T19:10:54.298Z"
   },
   {
    "duration": 680,
    "start_time": "2022-03-04T19:10:54.900Z"
   },
   {
    "duration": 27,
    "start_time": "2022-03-04T19:10:55.582Z"
   },
   {
    "duration": 358,
    "start_time": "2022-03-04T19:10:55.619Z"
   },
   {
    "duration": 33,
    "start_time": "2022-03-04T19:10:55.981Z"
   },
   {
    "duration": 82,
    "start_time": "2022-03-04T19:10:56.016Z"
   },
   {
    "duration": 802,
    "start_time": "2022-03-04T19:10:56.101Z"
   },
   {
    "duration": 1432,
    "start_time": "2022-03-04T19:10:56.906Z"
   },
   {
    "duration": 393,
    "start_time": "2022-03-04T19:10:58.341Z"
   },
   {
    "duration": 589,
    "start_time": "2022-03-04T19:10:58.736Z"
   },
   {
    "duration": 1462,
    "start_time": "2022-03-04T19:10:59.328Z"
   },
   {
    "duration": 319,
    "start_time": "2022-03-04T19:11:00.794Z"
   },
   {
    "duration": 331,
    "start_time": "2022-03-04T19:11:01.115Z"
   },
   {
    "duration": 342,
    "start_time": "2022-03-04T19:11:01.449Z"
   },
   {
    "duration": 378,
    "start_time": "2022-03-04T19:11:01.795Z"
   },
   {
    "duration": 49,
    "start_time": "2022-03-04T19:11:02.176Z"
   },
   {
    "duration": 744,
    "start_time": "2022-03-04T19:11:02.229Z"
   },
   {
    "duration": 69,
    "start_time": "2022-03-04T19:11:02.976Z"
   },
   {
    "duration": 702,
    "start_time": "2022-03-04T19:11:03.048Z"
   },
   {
    "duration": 617,
    "start_time": "2022-03-04T19:11:03.753Z"
   },
   {
    "duration": 481,
    "start_time": "2022-03-04T19:11:04.372Z"
   },
   {
    "duration": 601,
    "start_time": "2022-03-04T19:11:04.856Z"
   },
   {
    "duration": 754,
    "start_time": "2022-03-04T19:11:05.460Z"
   },
   {
    "duration": 373,
    "start_time": "2022-03-04T19:11:06.217Z"
   },
   {
    "duration": 479,
    "start_time": "2022-03-04T19:11:06.593Z"
   },
   {
    "duration": 347,
    "start_time": "2022-03-04T19:11:07.074Z"
   },
   {
    "duration": 489,
    "start_time": "2022-03-04T19:11:07.423Z"
   },
   {
    "duration": 384,
    "start_time": "2022-03-04T19:11:07.915Z"
   },
   {
    "duration": 15,
    "start_time": "2022-03-04T19:20:02.868Z"
   },
   {
    "duration": 10,
    "start_time": "2022-03-04T19:20:17.660Z"
   },
   {
    "duration": 17,
    "start_time": "2022-03-04T19:22:27.618Z"
   },
   {
    "duration": 25,
    "start_time": "2022-03-04T19:23:26.765Z"
   },
   {
    "duration": 16,
    "start_time": "2022-03-04T19:26:57.655Z"
   },
   {
    "duration": 21,
    "start_time": "2022-03-04T19:56:39.961Z"
   },
   {
    "duration": 590,
    "start_time": "2022-03-04T19:57:08.397Z"
   },
   {
    "duration": 662,
    "start_time": "2022-03-04T19:57:20.838Z"
   },
   {
    "duration": 336,
    "start_time": "2022-03-04T19:57:57.896Z"
   },
   {
    "duration": 16,
    "start_time": "2022-03-04T19:58:06.102Z"
   },
   {
    "duration": 9,
    "start_time": "2022-03-04T19:59:16.134Z"
   },
   {
    "duration": 9,
    "start_time": "2022-03-04T19:59:34.050Z"
   },
   {
    "duration": 15,
    "start_time": "2022-03-04T19:59:48.300Z"
   },
   {
    "duration": 19,
    "start_time": "2022-03-04T19:59:54.087Z"
   },
   {
    "duration": 270,
    "start_time": "2022-03-04T20:03:02.467Z"
   },
   {
    "duration": 7,
    "start_time": "2022-03-04T20:03:12.981Z"
   },
   {
    "duration": 90,
    "start_time": "2022-03-04T20:03:36.947Z"
   },
   {
    "duration": 11,
    "start_time": "2022-03-04T20:03:46.920Z"
   },
   {
    "duration": 11,
    "start_time": "2022-03-04T20:03:54.456Z"
   },
   {
    "duration": 10,
    "start_time": "2022-03-04T20:04:22.300Z"
   },
   {
    "duration": 230,
    "start_time": "2022-03-04T20:05:30.711Z"
   },
   {
    "duration": 10,
    "start_time": "2022-03-04T20:07:37.766Z"
   },
   {
    "duration": 78,
    "start_time": "2022-03-04T20:07:47.400Z"
   },
   {
    "duration": 602,
    "start_time": "2022-03-04T20:07:57.036Z"
   },
   {
    "duration": 95,
    "start_time": "2022-03-04T20:18:54.236Z"
   },
   {
    "duration": 76,
    "start_time": "2022-03-04T20:19:03.857Z"
   },
   {
    "duration": 389,
    "start_time": "2022-03-04T20:19:11.745Z"
   },
   {
    "duration": 564,
    "start_time": "2022-03-04T20:19:54.935Z"
   },
   {
    "duration": 23,
    "start_time": "2022-03-04T20:28:03.443Z"
   },
   {
    "duration": 11,
    "start_time": "2022-03-04T20:28:13.566Z"
   },
   {
    "duration": 9,
    "start_time": "2022-03-04T20:28:17.436Z"
   },
   {
    "duration": 21,
    "start_time": "2022-03-04T20:28:48.112Z"
   },
   {
    "duration": 28,
    "start_time": "2022-03-04T20:29:04.491Z"
   },
   {
    "duration": 295,
    "start_time": "2022-03-04T20:29:12.375Z"
   },
   {
    "duration": 23,
    "start_time": "2022-03-04T20:29:21.301Z"
   },
   {
    "duration": 30,
    "start_time": "2022-03-04T20:29:55.380Z"
   },
   {
    "duration": 38,
    "start_time": "2022-03-04T20:30:55.487Z"
   },
   {
    "duration": 23,
    "start_time": "2022-03-04T20:31:06.630Z"
   },
   {
    "duration": 26,
    "start_time": "2022-03-04T20:31:29.649Z"
   },
   {
    "duration": 36,
    "start_time": "2022-03-04T20:31:43.595Z"
   },
   {
    "duration": 12,
    "start_time": "2022-03-04T20:32:16.127Z"
   },
   {
    "duration": 32,
    "start_time": "2022-03-04T20:32:49.164Z"
   },
   {
    "duration": 78,
    "start_time": "2022-03-04T20:34:29.709Z"
   },
   {
    "duration": 76,
    "start_time": "2022-03-04T20:34:36.555Z"
   },
   {
    "duration": 115,
    "start_time": "2022-03-04T20:34:50.233Z"
   },
   {
    "duration": 74,
    "start_time": "2022-03-04T20:35:24.842Z"
   },
   {
    "duration": 68,
    "start_time": "2022-03-04T20:35:36.712Z"
   },
   {
    "duration": 69,
    "start_time": "2022-03-04T20:35:49.421Z"
   },
   {
    "duration": 26,
    "start_time": "2022-03-04T20:36:42.650Z"
   },
   {
    "duration": 23,
    "start_time": "2022-03-04T20:36:50.141Z"
   },
   {
    "duration": 851,
    "start_time": "2022-03-07T07:58:50.546Z"
   },
   {
    "duration": 116,
    "start_time": "2022-03-07T07:58:51.400Z"
   },
   {
    "duration": 12,
    "start_time": "2022-03-07T07:58:51.518Z"
   },
   {
    "duration": 13,
    "start_time": "2022-03-07T07:58:51.534Z"
   },
   {
    "duration": 39,
    "start_time": "2022-03-07T07:58:51.587Z"
   },
   {
    "duration": 72,
    "start_time": "2022-03-07T07:58:51.629Z"
   },
   {
    "duration": 7,
    "start_time": "2022-03-07T07:58:51.704Z"
   },
   {
    "duration": 7,
    "start_time": "2022-03-07T07:58:51.717Z"
   },
   {
    "duration": 11,
    "start_time": "2022-03-07T07:58:51.728Z"
   },
   {
    "duration": 66,
    "start_time": "2022-03-07T07:58:51.742Z"
   },
   {
    "duration": 22,
    "start_time": "2022-03-07T07:58:51.811Z"
   },
   {
    "duration": 52,
    "start_time": "2022-03-07T07:58:51.835Z"
   },
   {
    "duration": 27,
    "start_time": "2022-03-07T07:58:51.889Z"
   },
   {
    "duration": 80,
    "start_time": "2022-03-07T07:58:51.919Z"
   },
   {
    "duration": 47,
    "start_time": "2022-03-07T07:58:52.002Z"
   },
   {
    "duration": 77,
    "start_time": "2022-03-07T07:58:52.052Z"
   },
   {
    "duration": 77,
    "start_time": "2022-03-07T07:58:52.132Z"
   },
   {
    "duration": 647,
    "start_time": "2022-03-07T07:58:52.212Z"
   },
   {
    "duration": 706,
    "start_time": "2022-03-07T07:58:52.861Z"
   },
   {
    "duration": 396,
    "start_time": "2022-03-07T07:58:53.569Z"
   },
   {
    "duration": 561,
    "start_time": "2022-03-07T07:58:53.967Z"
   },
   {
    "duration": 731,
    "start_time": "2022-03-07T07:58:54.530Z"
   },
   {
    "duration": 30,
    "start_time": "2022-03-07T07:58:55.266Z"
   },
   {
    "duration": 260,
    "start_time": "2022-03-07T07:58:55.298Z"
   },
   {
    "duration": 27,
    "start_time": "2022-03-07T07:58:55.560Z"
   },
   {
    "duration": 66,
    "start_time": "2022-03-07T07:58:55.589Z"
   },
   {
    "duration": 621,
    "start_time": "2022-03-07T07:58:55.658Z"
   },
   {
    "duration": 1305,
    "start_time": "2022-03-07T07:58:56.282Z"
   },
   {
    "duration": 335,
    "start_time": "2022-03-07T07:58:57.589Z"
   },
   {
    "duration": 548,
    "start_time": "2022-03-07T07:58:57.926Z"
   },
   {
    "duration": 1036,
    "start_time": "2022-03-07T07:58:58.486Z"
   },
   {
    "duration": 297,
    "start_time": "2022-03-07T07:58:59.524Z"
   },
   {
    "duration": 315,
    "start_time": "2022-03-07T07:58:59.823Z"
   },
   {
    "duration": 334,
    "start_time": "2022-03-07T07:59:00.140Z"
   },
   {
    "duration": 359,
    "start_time": "2022-03-07T07:59:00.476Z"
   },
   {
    "duration": 58,
    "start_time": "2022-03-07T07:59:00.838Z"
   },
   {
    "duration": 514,
    "start_time": "2022-03-07T07:59:00.899Z"
   },
   {
    "duration": 147,
    "start_time": "2022-03-07T07:59:01.415Z"
   },
   {
    "duration": 558,
    "start_time": "2022-03-07T07:59:01.565Z"
   },
   {
    "duration": 582,
    "start_time": "2022-03-07T07:59:02.125Z"
   },
   {
    "duration": 331,
    "start_time": "2022-03-07T07:59:02.710Z"
   },
   {
    "duration": 424,
    "start_time": "2022-03-07T07:59:03.043Z"
   },
   {
    "duration": 581,
    "start_time": "2022-03-07T07:59:03.469Z"
   },
   {
    "duration": 272,
    "start_time": "2022-03-07T07:59:04.052Z"
   },
   {
    "duration": 444,
    "start_time": "2022-03-07T07:59:04.326Z"
   },
   {
    "duration": 326,
    "start_time": "2022-03-07T07:59:04.773Z"
   },
   {
    "duration": 344,
    "start_time": "2022-03-07T07:59:05.101Z"
   },
   {
    "duration": 419,
    "start_time": "2022-03-07T07:59:05.447Z"
   },
   {
    "duration": 17,
    "start_time": "2022-03-07T08:11:02.361Z"
   },
   {
    "duration": 317,
    "start_time": "2022-03-07T08:32:53.949Z"
   },
   {
    "duration": 4913,
    "start_time": "2022-03-07T08:32:59.401Z"
   },
   {
    "duration": 4843,
    "start_time": "2022-03-07T08:33:27.722Z"
   },
   {
    "duration": 4874,
    "start_time": "2022-03-07T08:36:25.429Z"
   },
   {
    "duration": 4930,
    "start_time": "2022-03-07T08:37:55.799Z"
   },
   {
    "duration": 23,
    "start_time": "2022-03-07T08:38:52.940Z"
   },
   {
    "duration": 232,
    "start_time": "2022-03-07T08:42:23.473Z"
   },
   {
    "duration": 4972,
    "start_time": "2022-03-07T08:42:28.489Z"
   },
   {
    "duration": 130,
    "start_time": "2022-03-07T08:54:23.956Z"
   },
   {
    "duration": 258,
    "start_time": "2022-03-07T09:01:02.064Z"
   },
   {
    "duration": 255,
    "start_time": "2022-03-07T09:02:21.027Z"
   },
   {
    "duration": 281,
    "start_time": "2022-03-07T09:02:35.194Z"
   },
   {
    "duration": 18,
    "start_time": "2022-03-07T09:03:46.741Z"
   },
   {
    "duration": 277,
    "start_time": "2022-03-07T09:47:48.714Z"
   },
   {
    "duration": 271,
    "start_time": "2022-03-07T09:48:35.703Z"
   },
   {
    "duration": 296,
    "start_time": "2022-03-07T09:49:09.396Z"
   },
   {
    "duration": 17,
    "start_time": "2022-03-07T09:50:39.112Z"
   },
   {
    "duration": 55,
    "start_time": "2022-03-07T09:57:15.944Z"
   },
   {
    "duration": 26,
    "start_time": "2022-03-07T09:58:59.187Z"
   },
   {
    "duration": 4,
    "start_time": "2022-03-07T10:02:49.740Z"
   },
   {
    "duration": 159,
    "start_time": "2022-03-07T10:02:49.747Z"
   },
   {
    "duration": 16,
    "start_time": "2022-03-07T10:02:49.909Z"
   },
   {
    "duration": 9,
    "start_time": "2022-03-07T10:02:49.928Z"
   },
   {
    "duration": 63,
    "start_time": "2022-03-07T10:02:49.940Z"
   },
   {
    "duration": 38,
    "start_time": "2022-03-07T10:02:50.006Z"
   },
   {
    "duration": 71,
    "start_time": "2022-03-07T10:02:50.050Z"
   },
   {
    "duration": 8,
    "start_time": "2022-03-07T10:02:50.125Z"
   },
   {
    "duration": 7,
    "start_time": "2022-03-07T10:02:50.135Z"
   },
   {
    "duration": 49,
    "start_time": "2022-03-07T10:02:50.145Z"
   },
   {
    "duration": 22,
    "start_time": "2022-03-07T10:02:50.197Z"
   },
   {
    "duration": 13,
    "start_time": "2022-03-07T10:02:50.222Z"
   },
   {
    "duration": 67,
    "start_time": "2022-03-07T10:02:50.237Z"
   },
   {
    "duration": 45,
    "start_time": "2022-03-07T10:02:50.306Z"
   },
   {
    "duration": 77,
    "start_time": "2022-03-07T10:02:50.353Z"
   },
   {
    "duration": 80,
    "start_time": "2022-03-07T10:02:50.433Z"
   },
   {
    "duration": 39,
    "start_time": "2022-03-07T10:02:50.516Z"
   },
   {
    "duration": 678,
    "start_time": "2022-03-07T10:02:50.558Z"
   },
   {
    "duration": 673,
    "start_time": "2022-03-07T10:02:51.244Z"
   },
   {
    "duration": 448,
    "start_time": "2022-03-07T10:02:51.920Z"
   },
   {
    "duration": 465,
    "start_time": "2022-03-07T10:02:52.370Z"
   },
   {
    "duration": 632,
    "start_time": "2022-03-07T10:02:52.838Z"
   },
   {
    "duration": 30,
    "start_time": "2022-03-07T10:02:53.473Z"
   },
   {
    "duration": 283,
    "start_time": "2022-03-07T10:02:53.506Z"
   },
   {
    "duration": 14,
    "start_time": "2022-03-07T10:02:53.792Z"
   },
   {
    "duration": 87,
    "start_time": "2022-03-07T10:02:53.809Z"
   },
   {
    "duration": 620,
    "start_time": "2022-03-07T10:02:53.899Z"
   },
   {
    "duration": 1236,
    "start_time": "2022-03-07T10:02:54.521Z"
   },
   {
    "duration": 513,
    "start_time": "2022-03-07T10:02:55.760Z"
   },
   {
    "duration": 559,
    "start_time": "2022-03-07T10:02:56.276Z"
   },
   {
    "duration": 1056,
    "start_time": "2022-03-07T10:02:56.837Z"
   },
   {
    "duration": 292,
    "start_time": "2022-03-07T10:02:57.896Z"
   },
   {
    "duration": 309,
    "start_time": "2022-03-07T10:02:58.190Z"
   },
   {
    "duration": 322,
    "start_time": "2022-03-07T10:02:58.502Z"
   },
   {
    "duration": 356,
    "start_time": "2022-03-07T10:02:58.826Z"
   },
   {
    "duration": 36,
    "start_time": "2022-03-07T10:02:59.187Z"
   },
   {
    "duration": 515,
    "start_time": "2022-03-07T10:02:59.225Z"
   },
   {
    "duration": 72,
    "start_time": "2022-03-07T10:02:59.743Z"
   },
   {
    "duration": 539,
    "start_time": "2022-03-07T10:02:59.817Z"
   },
   {
    "duration": 627,
    "start_time": "2022-03-07T10:03:00.358Z"
   },
   {
    "duration": 343,
    "start_time": "2022-03-07T10:03:00.987Z"
   },
   {
    "duration": 524,
    "start_time": "2022-03-07T10:03:01.333Z"
   },
   {
    "duration": 552,
    "start_time": "2022-03-07T10:03:01.861Z"
   },
   {
    "duration": 266,
    "start_time": "2022-03-07T10:03:02.416Z"
   },
   {
    "duration": 535,
    "start_time": "2022-03-07T10:03:02.684Z"
   },
   {
    "duration": 324,
    "start_time": "2022-03-07T10:03:03.221Z"
   },
   {
    "duration": 364,
    "start_time": "2022-03-07T10:03:03.548Z"
   },
   {
    "duration": 378,
    "start_time": "2022-03-07T10:03:03.914Z"
   },
   {
    "duration": 932,
    "start_time": "2022-12-14T11:20:21.833Z"
   },
   {
    "duration": 402,
    "start_time": "2022-12-14T11:20:24.869Z"
   },
   {
    "duration": 166,
    "start_time": "2022-12-14T11:20:56.388Z"
   },
   {
    "duration": 11,
    "start_time": "2022-12-14T11:20:56.562Z"
   },
   {
    "duration": 19,
    "start_time": "2022-12-14T11:20:56.575Z"
   },
   {
    "duration": 40,
    "start_time": "2022-12-14T11:20:56.596Z"
   },
   {
    "duration": 45,
    "start_time": "2022-12-14T11:20:56.638Z"
   },
   {
    "duration": 64,
    "start_time": "2022-12-14T11:20:56.685Z"
   },
   {
    "duration": 42,
    "start_time": "2022-12-14T11:20:56.750Z"
   },
   {
    "duration": 24,
    "start_time": "2022-12-14T11:20:56.794Z"
   },
   {
    "duration": 16,
    "start_time": "2022-12-14T11:20:56.819Z"
   },
   {
    "duration": 40,
    "start_time": "2022-12-14T11:20:56.840Z"
   },
   {
    "duration": 17,
    "start_time": "2022-12-14T11:20:56.881Z"
   },
   {
    "duration": 22,
    "start_time": "2022-12-14T11:20:56.900Z"
   },
   {
    "duration": 35,
    "start_time": "2022-12-14T11:20:56.924Z"
   },
   {
    "duration": 37,
    "start_time": "2022-12-14T11:20:56.965Z"
   },
   {
    "duration": 51,
    "start_time": "2022-12-14T11:20:57.004Z"
   },
   {
    "duration": 25,
    "start_time": "2022-12-14T11:20:57.061Z"
   },
   {
    "duration": 338,
    "start_time": "2022-12-14T11:20:57.088Z"
   },
   {
    "duration": 365,
    "start_time": "2022-12-14T11:20:57.428Z"
   },
   {
    "duration": 288,
    "start_time": "2022-12-14T11:20:57.794Z"
   },
   {
    "duration": 245,
    "start_time": "2022-12-14T11:20:58.084Z"
   },
   {
    "duration": 332,
    "start_time": "2022-12-14T11:20:58.331Z"
   },
   {
    "duration": 14,
    "start_time": "2022-12-14T11:20:58.665Z"
   },
   {
    "duration": 149,
    "start_time": "2022-12-14T11:20:58.681Z"
   },
   {
    "duration": 24,
    "start_time": "2022-12-14T11:20:58.831Z"
   },
   {
    "duration": 75,
    "start_time": "2022-12-14T11:20:58.857Z"
   },
   {
    "duration": 342,
    "start_time": "2022-12-14T11:20:58.934Z"
   },
   {
    "duration": 774,
    "start_time": "2022-12-14T11:20:59.278Z"
   },
   {
    "duration": 165,
    "start_time": "2022-12-14T11:21:00.058Z"
   },
   {
    "duration": 295,
    "start_time": "2022-12-14T11:21:00.225Z"
   },
   {
    "duration": 414,
    "start_time": "2022-12-14T11:21:00.522Z"
   },
   {
    "duration": 164,
    "start_time": "2022-12-14T11:21:00.937Z"
   },
   {
    "duration": 168,
    "start_time": "2022-12-14T11:21:01.104Z"
   },
   {
    "duration": 188,
    "start_time": "2022-12-14T11:21:01.274Z"
   },
   {
    "duration": 193,
    "start_time": "2022-12-14T11:21:01.464Z"
   },
   {
    "duration": 26,
    "start_time": "2022-12-14T11:21:01.658Z"
   },
   {
    "duration": 309,
    "start_time": "2022-12-14T11:21:01.686Z"
   },
   {
    "duration": 123,
    "start_time": "2022-12-14T11:21:01.996Z"
   },
   {
    "duration": 265,
    "start_time": "2022-12-14T11:21:02.121Z"
   },
   {
    "duration": 341,
    "start_time": "2022-12-14T11:21:02.388Z"
   },
   {
    "duration": 171,
    "start_time": "2022-12-14T11:21:02.731Z"
   },
   {
    "duration": 204,
    "start_time": "2022-12-14T11:21:02.904Z"
   },
   {
    "duration": 272,
    "start_time": "2022-12-14T11:21:03.110Z"
   },
   {
    "duration": 141,
    "start_time": "2022-12-14T11:21:03.383Z"
   },
   {
    "duration": 236,
    "start_time": "2022-12-14T11:21:03.525Z"
   },
   {
    "duration": 150,
    "start_time": "2022-12-14T11:21:03.763Z"
   },
   {
    "duration": 264,
    "start_time": "2022-12-14T11:21:03.915Z"
   },
   {
    "duration": 184,
    "start_time": "2022-12-14T11:21:04.181Z"
   },
   {
    "duration": 104,
    "start_time": "2022-12-14T11:23:03.151Z"
   },
   {
    "duration": 126,
    "start_time": "2022-12-14T11:23:17.895Z"
   },
   {
    "duration": 3,
    "start_time": "2022-12-14T11:23:36.183Z"
   },
   {
    "duration": 117,
    "start_time": "2022-12-14T11:23:36.188Z"
   },
   {
    "duration": 164,
    "start_time": "2022-12-14T11:23:36.307Z"
   },
   {
    "duration": 5,
    "start_time": "2022-12-14T11:23:36.473Z"
   },
   {
    "duration": 34,
    "start_time": "2022-12-14T11:23:36.480Z"
   },
   {
    "duration": 45,
    "start_time": "2022-12-14T11:23:36.517Z"
   },
   {
    "duration": 52,
    "start_time": "2022-12-14T11:23:36.565Z"
   },
   {
    "duration": 4,
    "start_time": "2022-12-14T11:23:36.619Z"
   },
   {
    "duration": 42,
    "start_time": "2022-12-14T11:23:36.625Z"
   },
   {
    "duration": 12,
    "start_time": "2022-12-14T11:23:36.669Z"
   },
   {
    "duration": 20,
    "start_time": "2022-12-14T11:23:36.684Z"
   },
   {
    "duration": 27,
    "start_time": "2022-12-14T11:23:36.705Z"
   },
   {
    "duration": 59,
    "start_time": "2022-12-14T11:23:36.734Z"
   },
   {
    "duration": 31,
    "start_time": "2022-12-14T11:23:36.795Z"
   },
   {
    "duration": 39,
    "start_time": "2022-12-14T11:23:36.827Z"
   },
   {
    "duration": 36,
    "start_time": "2022-12-14T11:23:36.868Z"
   },
   {
    "duration": 49,
    "start_time": "2022-12-14T11:23:36.906Z"
   },
   {
    "duration": 332,
    "start_time": "2022-12-14T11:23:36.957Z"
   },
   {
    "duration": 359,
    "start_time": "2022-12-14T11:23:37.291Z"
   },
   {
    "duration": 224,
    "start_time": "2022-12-14T11:23:37.651Z"
   },
   {
    "duration": 247,
    "start_time": "2022-12-14T11:23:37.877Z"
   },
   {
    "duration": 346,
    "start_time": "2022-12-14T11:23:38.126Z"
   },
   {
    "duration": 15,
    "start_time": "2022-12-14T11:23:38.473Z"
   },
   {
    "duration": 225,
    "start_time": "2022-12-14T11:23:38.491Z"
   },
   {
    "duration": 30,
    "start_time": "2022-12-14T11:23:38.718Z"
   },
   {
    "duration": 58,
    "start_time": "2022-12-14T11:23:38.753Z"
   },
   {
    "duration": 310,
    "start_time": "2022-12-14T11:23:38.813Z"
   },
   {
    "duration": 661,
    "start_time": "2022-12-14T11:23:39.125Z"
   },
   {
    "duration": 179,
    "start_time": "2022-12-14T11:23:39.788Z"
   },
   {
    "duration": 318,
    "start_time": "2022-12-14T11:23:39.969Z"
   },
   {
    "duration": 405,
    "start_time": "2022-12-14T11:23:40.289Z"
   },
   {
    "duration": 255,
    "start_time": "2022-12-14T11:23:40.695Z"
   },
   {
    "duration": 165,
    "start_time": "2022-12-14T11:23:40.951Z"
   },
   {
    "duration": 177,
    "start_time": "2022-12-14T11:23:41.118Z"
   },
   {
    "duration": 210,
    "start_time": "2022-12-14T11:23:41.297Z"
   },
   {
    "duration": 38,
    "start_time": "2022-12-14T11:23:41.509Z"
   },
   {
    "duration": 307,
    "start_time": "2022-12-14T11:23:41.555Z"
   },
   {
    "duration": 36,
    "start_time": "2022-12-14T11:23:41.864Z"
   },
   {
    "duration": 283,
    "start_time": "2022-12-14T11:23:41.901Z"
   },
   {
    "duration": 310,
    "start_time": "2022-12-14T11:23:42.186Z"
   },
   {
    "duration": 188,
    "start_time": "2022-12-14T11:23:42.497Z"
   },
   {
    "duration": 291,
    "start_time": "2022-12-14T11:23:42.687Z"
   },
   {
    "duration": 269,
    "start_time": "2022-12-14T11:23:42.980Z"
   },
   {
    "duration": 162,
    "start_time": "2022-12-14T11:23:43.251Z"
   },
   {
    "duration": 269,
    "start_time": "2022-12-14T11:23:43.415Z"
   },
   {
    "duration": 178,
    "start_time": "2022-12-14T11:23:43.685Z"
   },
   {
    "duration": 198,
    "start_time": "2022-12-14T11:23:43.866Z"
   },
   {
    "duration": 203,
    "start_time": "2022-12-14T11:23:44.066Z"
   }
  ],
  "kernelspec": {
   "display_name": "Python 3 (ipykernel)",
   "language": "python",
   "name": "python3"
  },
  "language_info": {
   "codemirror_mode": {
    "name": "ipython",
    "version": 3
   },
   "file_extension": ".py",
   "mimetype": "text/x-python",
   "name": "python",
   "nbconvert_exporter": "python",
   "pygments_lexer": "ipython3",
   "version": "3.9.5"
  },
  "toc": {
   "base_numbering": 1,
   "nav_menu": {},
   "number_sections": true,
   "sideBar": true,
   "skip_h1_title": true,
   "title_cell": "Содержание",
   "title_sidebar": "Contents",
   "toc_cell": true,
   "toc_position": {
    "height": "calc(100% - 180px)",
    "left": "10px",
    "top": "150px",
    "width": "443.512px"
   },
   "toc_section_display": true,
   "toc_window_display": false
  }
 },
 "nbformat": 4,
 "nbformat_minor": 2
}
