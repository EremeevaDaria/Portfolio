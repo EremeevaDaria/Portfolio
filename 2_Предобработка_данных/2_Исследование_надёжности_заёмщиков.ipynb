{
 "cells": [
  {
   "cell_type": "markdown",
   "metadata": {},
   "source": [
    "# Исследование надёжности заёмщиков\n",
    "\n",
    "Заказчик — кредитный отдел банка. Нужно разобраться, влияет ли семейное положение и количество детей клиента на факт погашения кредита в срок. Входные данные от банка — статистика о платёжеспособности клиентов.\n",
    "\n",
    "Результаты исследования будут учтены при построении модели **кредитного скоринга** — специальной системы, которая оценивает способность потенциального заёмщика вернуть кредит банку."
   ]
  },
  {
   "cell_type": "markdown",
   "metadata": {},
   "source": [
    "## Шаг 1. Откройте файл с данными и изучите общую информацию"
   ]
  },
  {
   "cell_type": "code",
   "execution_count": 1,
   "metadata": {},
   "outputs": [],
   "source": [
    "#импортируем библиотеки pandas\n",
    "import pandas as pd\n",
    "#импортируем метод display из библиотеки IPython.display\n",
    "from IPython.display import display\n",
    "#импортируем библиотеку pymystem3 \n",
    "from pymystem3 import Mystem\n",
    "m = Mystem()\n",
    "from collections import Counter"
   ]
  },
  {
   "cell_type": "code",
   "execution_count": 2,
   "metadata": {},
   "outputs": [],
   "source": [
    "#открываем файл с данными\n",
    "data = pd.read_csv('/datasets/data.csv')"
   ]
  },
  {
   "cell_type": "code",
   "execution_count": 3,
   "metadata": {},
   "outputs": [
    {
     "data": {
      "text/html": [
       "<div>\n",
       "<style scoped>\n",
       "    .dataframe tbody tr th:only-of-type {\n",
       "        vertical-align: middle;\n",
       "    }\n",
       "\n",
       "    .dataframe tbody tr th {\n",
       "        vertical-align: top;\n",
       "    }\n",
       "\n",
       "    .dataframe thead th {\n",
       "        text-align: right;\n",
       "    }\n",
       "</style>\n",
       "<table border=\"1\" class=\"dataframe\">\n",
       "  <thead>\n",
       "    <tr style=\"text-align: right;\">\n",
       "      <th></th>\n",
       "      <th>children</th>\n",
       "      <th>days_employed</th>\n",
       "      <th>dob_years</th>\n",
       "      <th>education</th>\n",
       "      <th>education_id</th>\n",
       "      <th>family_status</th>\n",
       "      <th>family_status_id</th>\n",
       "      <th>gender</th>\n",
       "      <th>income_type</th>\n",
       "      <th>debt</th>\n",
       "      <th>total_income</th>\n",
       "      <th>purpose</th>\n",
       "    </tr>\n",
       "  </thead>\n",
       "  <tbody>\n",
       "    <tr>\n",
       "      <th>0</th>\n",
       "      <td>1</td>\n",
       "      <td>-8437.673028</td>\n",
       "      <td>42</td>\n",
       "      <td>высшее</td>\n",
       "      <td>0</td>\n",
       "      <td>женат / замужем</td>\n",
       "      <td>0</td>\n",
       "      <td>F</td>\n",
       "      <td>сотрудник</td>\n",
       "      <td>0</td>\n",
       "      <td>253875.639453</td>\n",
       "      <td>покупка жилья</td>\n",
       "    </tr>\n",
       "    <tr>\n",
       "      <th>1</th>\n",
       "      <td>1</td>\n",
       "      <td>-4024.803754</td>\n",
       "      <td>36</td>\n",
       "      <td>среднее</td>\n",
       "      <td>1</td>\n",
       "      <td>женат / замужем</td>\n",
       "      <td>0</td>\n",
       "      <td>F</td>\n",
       "      <td>сотрудник</td>\n",
       "      <td>0</td>\n",
       "      <td>112080.014102</td>\n",
       "      <td>приобретение автомобиля</td>\n",
       "    </tr>\n",
       "    <tr>\n",
       "      <th>2</th>\n",
       "      <td>0</td>\n",
       "      <td>-5623.422610</td>\n",
       "      <td>33</td>\n",
       "      <td>Среднее</td>\n",
       "      <td>1</td>\n",
       "      <td>женат / замужем</td>\n",
       "      <td>0</td>\n",
       "      <td>M</td>\n",
       "      <td>сотрудник</td>\n",
       "      <td>0</td>\n",
       "      <td>145885.952297</td>\n",
       "      <td>покупка жилья</td>\n",
       "    </tr>\n",
       "    <tr>\n",
       "      <th>3</th>\n",
       "      <td>3</td>\n",
       "      <td>-4124.747207</td>\n",
       "      <td>32</td>\n",
       "      <td>среднее</td>\n",
       "      <td>1</td>\n",
       "      <td>женат / замужем</td>\n",
       "      <td>0</td>\n",
       "      <td>M</td>\n",
       "      <td>сотрудник</td>\n",
       "      <td>0</td>\n",
       "      <td>267628.550329</td>\n",
       "      <td>дополнительное образование</td>\n",
       "    </tr>\n",
       "    <tr>\n",
       "      <th>4</th>\n",
       "      <td>0</td>\n",
       "      <td>340266.072047</td>\n",
       "      <td>53</td>\n",
       "      <td>среднее</td>\n",
       "      <td>1</td>\n",
       "      <td>гражданский брак</td>\n",
       "      <td>1</td>\n",
       "      <td>F</td>\n",
       "      <td>пенсионер</td>\n",
       "      <td>0</td>\n",
       "      <td>158616.077870</td>\n",
       "      <td>сыграть свадьбу</td>\n",
       "    </tr>\n",
       "  </tbody>\n",
       "</table>\n",
       "</div>"
      ],
      "text/plain": [
       "   children  days_employed  dob_years education  education_id  \\\n",
       "0         1   -8437.673028         42    высшее             0   \n",
       "1         1   -4024.803754         36   среднее             1   \n",
       "2         0   -5623.422610         33   Среднее             1   \n",
       "3         3   -4124.747207         32   среднее             1   \n",
       "4         0  340266.072047         53   среднее             1   \n",
       "\n",
       "      family_status  family_status_id gender income_type  debt   total_income  \\\n",
       "0   женат / замужем                 0      F   сотрудник     0  253875.639453   \n",
       "1   женат / замужем                 0      F   сотрудник     0  112080.014102   \n",
       "2   женат / замужем                 0      M   сотрудник     0  145885.952297   \n",
       "3   женат / замужем                 0      M   сотрудник     0  267628.550329   \n",
       "4  гражданский брак                 1      F   пенсионер     0  158616.077870   \n",
       "\n",
       "                      purpose  \n",
       "0               покупка жилья  \n",
       "1     приобретение автомобиля  \n",
       "2               покупка жилья  \n",
       "3  дополнительное образование  \n",
       "4             сыграть свадьбу  "
      ]
     },
     "metadata": {},
     "output_type": "display_data"
    },
    {
     "name": "stdout",
     "output_type": "stream",
     "text": [
      "<class 'pandas.core.frame.DataFrame'>\n",
      "RangeIndex: 21525 entries, 0 to 21524\n",
      "Data columns (total 12 columns):\n",
      " #   Column            Non-Null Count  Dtype  \n",
      "---  ------            --------------  -----  \n",
      " 0   children          21525 non-null  int64  \n",
      " 1   days_employed     19351 non-null  float64\n",
      " 2   dob_years         21525 non-null  int64  \n",
      " 3   education         21525 non-null  object \n",
      " 4   education_id      21525 non-null  int64  \n",
      " 5   family_status     21525 non-null  object \n",
      " 6   family_status_id  21525 non-null  int64  \n",
      " 7   gender            21525 non-null  object \n",
      " 8   income_type       21525 non-null  object \n",
      " 9   debt              21525 non-null  int64  \n",
      " 10  total_income      19351 non-null  float64\n",
      " 11  purpose           21525 non-null  object \n",
      "dtypes: float64(2), int64(5), object(5)\n",
      "memory usage: 2.0+ MB\n"
     ]
    }
   ],
   "source": [
    "#рассмотрим таблицу с данными\n",
    "display(data.head())\n",
    "#получим общею информацию о данных в таблице data\n",
    "data.info()"
   ]
  },
  {
   "cell_type": "markdown",
   "metadata": {},
   "source": [
    "**Вывод**"
   ]
  },
  {
   "cell_type": "markdown",
   "metadata": {},
   "source": [
    "По результатам изучения общей информации можно сделать несколько выводов:\n",
    "1. Присутствуют пропуски в столбцах 'days_employed' и 'total_income'\n",
    "2. Есть дубликаты\n",
    "3. Используются не только целые числа, но и вещественные\n",
    "4. Нет единого формата записи цели получения кредита\n",
    "5. Общий трудовой стаж в днях имеет отрицательное значение"
   ]
  },
  {
   "cell_type": "markdown",
   "metadata": {},
   "source": [
    "## Шаг 2. Предобработка данных"
   ]
  },
  {
   "cell_type": "markdown",
   "metadata": {},
   "source": [
    "### Обработка пропусков"
   ]
  },
  {
   "cell_type": "code",
   "execution_count": 4,
   "metadata": {},
   "outputs": [
    {
     "name": "stdout",
     "output_type": "stream",
     "text": [
      "<class 'pandas.core.frame.DataFrame'>\n",
      "RangeIndex: 21525 entries, 0 to 21524\n",
      "Data columns (total 12 columns):\n",
      " #   Column            Non-Null Count  Dtype  \n",
      "---  ------            --------------  -----  \n",
      " 0   children          21525 non-null  int64  \n",
      " 1   days_employed     21525 non-null  float64\n",
      " 2   dob_years         21525 non-null  int64  \n",
      " 3   education         21525 non-null  object \n",
      " 4   education_id      21525 non-null  int64  \n",
      " 5   family_status     21525 non-null  object \n",
      " 6   family_status_id  21525 non-null  int64  \n",
      " 7   gender            21525 non-null  object \n",
      " 8   income_type       21525 non-null  object \n",
      " 9   debt              21525 non-null  int64  \n",
      " 10  total_income      21525 non-null  float64\n",
      " 11  purpose           21525 non-null  object \n",
      "dtypes: float64(2), int64(5), object(5)\n",
      "memory usage: 2.0+ MB\n"
     ]
    }
   ],
   "source": [
    "#заменим значения NaN в столбцах 'days_employed'\n",
    "data['days_employed'] = data['days_employed'].fillna(0)\n",
    "#определим медиану ежемесячного дохода\n",
    "income_med = data['total_income'].median()\n",
    "#заменим неизвестные значения в столбце 'total_income' значением медианы\n",
    "data['total_income'] = data['total_income'].fillna(income_med)\n",
    "data.info()"
   ]
  },
  {
   "cell_type": "markdown",
   "metadata": {},
   "source": [
    "**Вывод**"
   ]
  },
  {
   "cell_type": "markdown",
   "metadata": {},
   "source": [
    "    В таблице найдены следующие пропущенные значения: в столбцах 'days_employed' и 'total_income' содержатся значения NaN.\n",
    "    На появление пропусков возможно повлиял человеческий фактор или автоматизированная система сбора информации дала сбой.\n",
    "    Т.к. данные об общем трудовом стаже в днях для нашей задачи не важны,но полное удаление строки может привести к потере нужных данных, заменяем все значения NaN в стобце 'days_employed' нулями. \n",
    "    Значения в столбце 'total_income' нам важны и заменить неизвестные значения нулями, будет не совсем правильно. Т.к. у нас нет возможности выяснить недостающие значения, мы можем использовать метод mean() или median. Выбираем метод median(), потому что среднее значение некорректно характеризует данные, когда некоторые значения сильно выделяются среди большинства.\n",
    "\n"
   ]
  },
  {
   "cell_type": "markdown",
   "metadata": {},
   "source": [
    "### Замена типа данных"
   ]
  },
  {
   "cell_type": "code",
   "execution_count": 124,
   "metadata": {},
   "outputs": [],
   "source": [
    "#заменим вещественный тип данных на целочисленный используя метод astype()\n",
    "data[['days_employed','total_income']] = data[['days_employed','total_income']].astype('int')"
   ]
  },
  {
   "cell_type": "markdown",
   "metadata": {},
   "source": [
    "**Вывод**"
   ]
  },
  {
   "cell_type": "markdown",
   "metadata": {},
   "source": [
    "В столбцах 'days_employed' и 'total_income' числа имели тип float64. В нашем случае такой тип данных нам не подходит. Для перевода чисел в нужный тип воспользуемся методом astype(). Используя аргумент ('int') метода astype() переведем все значения в целые числа. "
   ]
  },
  {
   "cell_type": "markdown",
   "metadata": {},
   "source": [
    "### Работа с артифактами"
   ]
  },
  {
   "cell_type": "code",
   "execution_count": 125,
   "metadata": {},
   "outputs": [],
   "source": [
    "#приведем числа в столбце 'days_employed' к абсолютному значению \n",
    "data['days_employed'] = data['days_employed'].abs()\n",
    "#приведем числа в столбце 'days_employed' к абсолютному значению\n",
    "data['children'] = data['children'].abs()\n",
    "#изменим количество детей - 20, на верное значение - 2\n",
    "data['children'] = data['children'].replace(20, 0)"
   ]
  },
  {
   "cell_type": "markdown",
   "metadata": {},
   "source": [
    "**Вывод**"
   ]
  },
  {
   "cell_type": "markdown",
   "metadata": {},
   "source": [
    "В столбцах 'days_employed' и 'children' мы видим, что числа имеют отрицательные значения. Это является ошибкой. Для ее устранения воспользуемся функцией abs() для получения модуля числа(возвращает абсолютное значение аргумента).\n",
    "Также есть ошибка в указании количества детей. 20 детей в одной семье, это невозможный вариант. Данная ошибка могла возникнуть, например, в результате опечатки при вводе данных. Т.е. на правильность данных повлиял человеческий фактор. Исправим неправильное значение, применив метод replace."
   ]
  },
  {
   "cell_type": "markdown",
   "metadata": {},
   "source": [
    "### Обработка дубликатов"
   ]
  },
  {
   "cell_type": "code",
   "execution_count": 126,
   "metadata": {},
   "outputs": [
    {
     "data": {
      "text/plain": [
       "0"
      ]
     },
     "metadata": {},
     "output_type": "display_data"
    }
   ],
   "source": [
    "#определим дубликаты в столбце 'education'\n",
    "duplicated_ed = data['education'].value_counts() \n",
    "#переведем все символы в столбце 'education' в нижний регистр\n",
    "data['education'] = data['education'].str.lower()\n",
    "#удалим явные дубликаты\n",
    "data = data.drop_duplicates().reset_index(drop=True)\n",
    "#найдем количесвто дубликатов\n",
    "display(data.duplicated().sum())"
   ]
  },
  {
   "cell_type": "markdown",
   "metadata": {},
   "source": [
    "**Вывод**"
   ]
  },
  {
   "cell_type": "markdown",
   "metadata": {},
   "source": [
    "В таблице присутствовали как явные, так и неявные дубликаты. С помощью метода drop_duplicates() мы удалили все явные дубликаты.  Метод value_counts() позволил определить дубликаты в столбце 'education'. Данные дублировались из-за различных регистов в строках. Было принято решение привести все символы в строках к нижнему регистру. Это было сделано с помощью метода .str.lower(). Неявные дубликаты мы искали методом unique(). Для удаления найденных неявных дубликатов, воспользуемся лемматизацией, импортировав библитеку pymystem3."
   ]
  },
  {
   "cell_type": "markdown",
   "metadata": {},
   "source": [
    "### Лемматизация"
   ]
  },
  {
   "cell_type": "code",
   "execution_count": 127,
   "metadata": {},
   "outputs": [
    {
     "data": {
      "text/plain": [
       "Counter({'покупка': 5897,\n",
       "         ' ': 33570,\n",
       "         'жилье': 4460,\n",
       "         ',': 21453,\n",
       "         'приобретение': 461,\n",
       "         'автомобиль': 4306,\n",
       "         'дополнительный': 906,\n",
       "         'образование': 4013,\n",
       "         'сыграть': 765,\n",
       "         'свадьба': 2324,\n",
       "         'операция': 2604,\n",
       "         'с': 2918,\n",
       "         'на': 2222,\n",
       "         'проведение': 768,\n",
       "         'для': 1289,\n",
       "         'семья': 638,\n",
       "         'недвижимость': 6351,\n",
       "         'коммерческий': 1311,\n",
       "         'жилой': 1230,\n",
       "         'строительство': 1878,\n",
       "         'собственный': 635,\n",
       "         'подержать': 853,\n",
       "         'свой': 2230,\n",
       "         'со': 627,\n",
       "         'заниматься': 904,\n",
       "         'сделка': 941,\n",
       "         'получение': 1314,\n",
       "         'высокий': 1374,\n",
       "         'подержанный': 111,\n",
       "         'профильный': 436,\n",
       "         'сдача': 651,\n",
       "         'ремонт': 607,\n",
       "         '\\n': 1})"
      ]
     },
     "metadata": {},
     "output_type": "display_data"
    }
   ],
   "source": [
    "#выделим столбец 'purpose' таблицы и сохраним его данные в переменной purpose_all\n",
    "purpose_all = pd.Series(data['purpose'])\n",
    "#объединим все строки столбца в одну строку\n",
    "purpose_join = \",\".join(purpose_all)\n",
    "#проведем лемматизацию строки\n",
    "lemmas = m.lemmatize(purpose_join)\n",
    "#посчитаем количесвто упоминаний лемм\n",
    "lemmas_count = Counter(lemmas)\n",
    "display(lemmas_count)"
   ]
  },
  {
   "cell_type": "markdown",
   "metadata": {},
   "source": [
    "**Вывод**"
   ]
  },
  {
   "cell_type": "markdown",
   "metadata": {},
   "source": [
    "Для проведения лемматизации нам необходимо склеить все значения столбца в одну строку, для этого мы используем метод join(). После мы проводим лемматизацию слов и подсчет упоминаний лемматизированных слов  методом Counter."
   ]
  },
  {
   "cell_type": "markdown",
   "metadata": {},
   "source": [
    "### Категоризация данных"
   ]
  },
  {
   "cell_type": "code",
   "execution_count": 128,
   "metadata": {
    "scrolled": false
   },
   "outputs": [
    {
     "data": {
      "text/html": [
       "<div>\n",
       "<style scoped>\n",
       "    .dataframe tbody tr th:only-of-type {\n",
       "        vertical-align: middle;\n",
       "    }\n",
       "\n",
       "    .dataframe tbody tr th {\n",
       "        vertical-align: top;\n",
       "    }\n",
       "\n",
       "    .dataframe thead th {\n",
       "        text-align: right;\n",
       "    }\n",
       "</style>\n",
       "<table border=\"1\" class=\"dataframe\">\n",
       "  <thead>\n",
       "    <tr style=\"text-align: right;\">\n",
       "      <th>debt</th>\n",
       "      <th>0</th>\n",
       "      <th>1</th>\n",
       "    </tr>\n",
       "    <tr>\n",
       "      <th>has_children</th>\n",
       "      <th></th>\n",
       "      <th></th>\n",
       "    </tr>\n",
       "  </thead>\n",
       "  <tbody>\n",
       "    <tr>\n",
       "      <td>False</td>\n",
       "      <td>13096</td>\n",
       "      <td>1071</td>\n",
       "    </tr>\n",
       "    <tr>\n",
       "      <td>True</td>\n",
       "      <td>6617</td>\n",
       "      <td>670</td>\n",
       "    </tr>\n",
       "  </tbody>\n",
       "</table>\n",
       "</div>"
      ],
      "text/plain": [
       "debt              0     1\n",
       "has_children             \n",
       "False         13096  1071\n",
       "True           6617   670"
      ]
     },
     "metadata": {},
     "output_type": "display_data"
    }
   ],
   "source": [
    "#создадим категориальный признак есть дети или нет\n",
    "data['has_children'] = data['children'] > 0\n",
    "#создадим сводную таблицу зависимости количества задолжностей от наличия детей. \n",
    "children_pivot = data.pivot_table(index=['has_children'], columns='debt', values='family_status_id', aggfunc='count')\n",
    "display(children_pivot)"
   ]
  },
  {
   "cell_type": "code",
   "execution_count": 129,
   "metadata": {},
   "outputs": [
    {
     "data": {
      "text/plain": [
       "женат / замужем          12339\n",
       "гражданский брак          4151\n",
       "Не женат / не замужем     2810\n",
       "в разводе                 1195\n",
       "вдовец / вдова             959\n",
       "Name: status_group, dtype: int64"
      ]
     },
     "metadata": {},
     "output_type": "display_data"
    },
    {
     "data": {
      "text/html": [
       "<div>\n",
       "<style scoped>\n",
       "    .dataframe tbody tr th:only-of-type {\n",
       "        vertical-align: middle;\n",
       "    }\n",
       "\n",
       "    .dataframe tbody tr th {\n",
       "        vertical-align: top;\n",
       "    }\n",
       "\n",
       "    .dataframe thead th {\n",
       "        text-align: right;\n",
       "    }\n",
       "</style>\n",
       "<table border=\"1\" class=\"dataframe\">\n",
       "  <thead>\n",
       "    <tr style=\"text-align: right;\">\n",
       "      <th>debt</th>\n",
       "      <th>0</th>\n",
       "      <th>1</th>\n",
       "    </tr>\n",
       "    <tr>\n",
       "      <th>status_group</th>\n",
       "      <th></th>\n",
       "      <th></th>\n",
       "    </tr>\n",
       "  </thead>\n",
       "  <tbody>\n",
       "    <tr>\n",
       "      <td>Не женат / не замужем</td>\n",
       "      <td>2536</td>\n",
       "      <td>274</td>\n",
       "    </tr>\n",
       "    <tr>\n",
       "      <td>в разводе</td>\n",
       "      <td>1110</td>\n",
       "      <td>85</td>\n",
       "    </tr>\n",
       "    <tr>\n",
       "      <td>вдовец / вдова</td>\n",
       "      <td>896</td>\n",
       "      <td>63</td>\n",
       "    </tr>\n",
       "    <tr>\n",
       "      <td>гражданский брак</td>\n",
       "      <td>3763</td>\n",
       "      <td>388</td>\n",
       "    </tr>\n",
       "    <tr>\n",
       "      <td>женат / замужем</td>\n",
       "      <td>11408</td>\n",
       "      <td>931</td>\n",
       "    </tr>\n",
       "  </tbody>\n",
       "</table>\n",
       "</div>"
      ],
      "text/plain": [
       "debt                       0    1\n",
       "status_group                     \n",
       "Не женат / не замужем   2536  274\n",
       "в разводе               1110   85\n",
       "вдовец / вдова           896   63\n",
       "гражданский брак        3763  388\n",
       "женат / замужем        11408  931"
      ]
     },
     "metadata": {},
     "output_type": "display_data"
    }
   ],
   "source": [
    "#создадим функцию которая будет выводить категорию семейного положения клиента\n",
    "def status_group(status_id): \n",
    "    if status_id == 0:\n",
    "        return 'женат / замужем'\n",
    "    if status_id == 1:\n",
    "        return 'гражданский брак'\n",
    "    if status_id == 2:\n",
    "        return 'вдовец / вдова'\n",
    "    if status_id == 3:\n",
    "        return 'в разводе'\n",
    "    return 'Не женат / не замужем'\n",
    "#применим метод apply для применения функции ко всем значениям стоблца\n",
    "data['status_group'] = data['family_status_id'].apply(status_group)\n",
    "#выведем статистику по группе методом value_counts()\n",
    "display(data['status_group'].value_counts())\n",
    "#создадим сводную таблицу из уникальных значений и задолжности\n",
    "family_pivot = data.pivot_table(index=['status_group'], columns='debt', values='family_status_id', aggfunc='count')\n",
    "display(family_pivot)\n"
   ]
  },
  {
   "cell_type": "code",
   "execution_count": 130,
   "metadata": {},
   "outputs": [
    {
     "data": {
      "text/plain": [
       "низкий     9675\n",
       "высокий    9675\n",
       "средний    2104\n",
       "Name: income_group, dtype: int64"
      ]
     },
     "metadata": {},
     "output_type": "display_data"
    },
    {
     "data": {
      "text/html": [
       "<div>\n",
       "<style scoped>\n",
       "    .dataframe tbody tr th:only-of-type {\n",
       "        vertical-align: middle;\n",
       "    }\n",
       "\n",
       "    .dataframe tbody tr th {\n",
       "        vertical-align: top;\n",
       "    }\n",
       "\n",
       "    .dataframe thead th {\n",
       "        text-align: right;\n",
       "    }\n",
       "</style>\n",
       "<table border=\"1\" class=\"dataframe\">\n",
       "  <thead>\n",
       "    <tr style=\"text-align: right;\">\n",
       "      <th>debt</th>\n",
       "      <th>0</th>\n",
       "      <th>1</th>\n",
       "    </tr>\n",
       "    <tr>\n",
       "      <th>income_group</th>\n",
       "      <th></th>\n",
       "      <th></th>\n",
       "    </tr>\n",
       "  </thead>\n",
       "  <tbody>\n",
       "    <tr>\n",
       "      <td>высокий</td>\n",
       "      <td>8908</td>\n",
       "      <td>767</td>\n",
       "    </tr>\n",
       "    <tr>\n",
       "      <td>низкий</td>\n",
       "      <td>8871</td>\n",
       "      <td>804</td>\n",
       "    </tr>\n",
       "    <tr>\n",
       "      <td>средний</td>\n",
       "      <td>1934</td>\n",
       "      <td>170</td>\n",
       "    </tr>\n",
       "  </tbody>\n",
       "</table>\n",
       "</div>"
      ],
      "text/plain": [
       "debt             0    1\n",
       "income_group           \n",
       "высокий       8908  767\n",
       "низкий        8871  804\n",
       "средний       1934  170"
      ]
     },
     "metadata": {},
     "output_type": "display_data"
    }
   ],
   "source": [
    "#создадим функцию которая будет выводить категорию дохода\n",
    "def income_group(income):   \n",
    "    if income < 145017:\n",
    "        return 'низкий'\n",
    "    if income == 145017:\n",
    "        return 'средний'\n",
    "    return 'высокий'\n",
    "#применим метод apply для применения функции ко всем значениям стоблца\n",
    "data['income_group'] = data['total_income'].apply(income_group)\n",
    "#выведем статистику по группе методом value_counts()\n",
    "display(data['income_group'].value_counts())\n",
    "#создадим сводную таблицу\n",
    "income_pivot = data.pivot_table(index=['income_group'], columns='debt', values='family_status_id', aggfunc='count')\n",
    "display(income_pivot)"
   ]
  },
  {
   "cell_type": "code",
   "execution_count": 131,
   "metadata": {},
   "outputs": [
    {
     "data": {
      "text/plain": [
       "свадьба         12670\n",
       "недвижимость     5113\n",
       "образование      2699\n",
       "автомобиль        972\n",
       "Name: purpose_group, dtype: int64"
      ]
     },
     "metadata": {},
     "output_type": "display_data"
    },
    {
     "data": {
      "text/html": [
       "<div>\n",
       "<style scoped>\n",
       "    .dataframe tbody tr th:only-of-type {\n",
       "        vertical-align: middle;\n",
       "    }\n",
       "\n",
       "    .dataframe tbody tr th {\n",
       "        vertical-align: top;\n",
       "    }\n",
       "\n",
       "    .dataframe thead th {\n",
       "        text-align: right;\n",
       "    }\n",
       "</style>\n",
       "<table border=\"1\" class=\"dataframe\">\n",
       "  <thead>\n",
       "    <tr style=\"text-align: right;\">\n",
       "      <th>debt</th>\n",
       "      <th>0</th>\n",
       "      <th>1</th>\n",
       "    </tr>\n",
       "    <tr>\n",
       "      <th>purpose_group</th>\n",
       "      <th></th>\n",
       "      <th></th>\n",
       "    </tr>\n",
       "  </thead>\n",
       "  <tbody>\n",
       "    <tr>\n",
       "      <td>автомобиль</td>\n",
       "      <td>882</td>\n",
       "      <td>90</td>\n",
       "    </tr>\n",
       "    <tr>\n",
       "      <td>недвижимость</td>\n",
       "      <td>4731</td>\n",
       "      <td>382</td>\n",
       "    </tr>\n",
       "    <tr>\n",
       "      <td>образование</td>\n",
       "      <td>2463</td>\n",
       "      <td>236</td>\n",
       "    </tr>\n",
       "    <tr>\n",
       "      <td>свадьба</td>\n",
       "      <td>11637</td>\n",
       "      <td>1033</td>\n",
       "    </tr>\n",
       "  </tbody>\n",
       "</table>\n",
       "</div>"
      ],
      "text/plain": [
       "debt               0     1\n",
       "purpose_group             \n",
       "автомобиль       882    90\n",
       "недвижимость    4731   382\n",
       "образование     2463   236\n",
       "свадьба        11637  1033"
      ]
     },
     "metadata": {},
     "output_type": "display_data"
    }
   ],
   "source": [
    "#создадим функцию которая будет выводить цели кредита\n",
    "def purpose_group(purpose):\n",
    "    if ('жилье' in purpose) or ('недвижимость' in purpose) or ('жилой' in purpose):\n",
    "        return 'недвижимость'\n",
    "    if  'автомобиль' in purpose: \n",
    "        return 'автомобиль'\n",
    "    if  'образование' in purpose:\n",
    "        return 'образование'\n",
    "    return 'свадьба'\n",
    "#применим метод apply для применения функции ко всем значениям стоблца\n",
    "data['purpose_group'] = data['purpose'].apply(purpose_group)\n",
    "#выведем статистику по группе методом value_counts()\n",
    "display(data['purpose_group'].value_counts())\n",
    "#создадим сводную таблицу\n",
    "purpose_pivot = data.pivot_table(index=['purpose_group'], columns='debt', values='family_status_id', aggfunc='count')\n",
    "display(purpose_pivot)"
   ]
  },
  {
   "cell_type": "markdown",
   "metadata": {},
   "source": [
    "**Вывод**"
   ]
  },
  {
   "cell_type": "markdown",
   "metadata": {},
   "source": [
    "В данном пункте мы произвели категоризацию данных по необходимым для нас показателям: количеству детей, семейному положению, уровню дохода и целям получения кредита.\n",
    "Для всех категорий мы создавали сводные таблицы. Данные таблицы в дальнейшем позволят нам произвести анализ показателей и оценить влияние каждой категории на выплаты по кредиту.\n",
    "Создали категорию наличия детей, которая отражает есть ли у клиента дети или нет. \n",
    "Для категоризации по семейному положению, уровню дохода и целям получения кредита мы создали функции, которые группировали значения по условиям, которые мы определили."
   ]
  },
  {
   "cell_type": "markdown",
   "metadata": {},
   "source": [
    "## Шаг 3. Ответьте на вопросы"
   ]
  },
  {
   "cell_type": "markdown",
   "metadata": {},
   "source": [
    "- Есть ли зависимость между наличием детей и возвратом кредита в срок?"
   ]
  },
  {
   "cell_type": "code",
   "execution_count": 132,
   "metadata": {},
   "outputs": [
    {
     "data": {
      "text/html": [
       "<div>\n",
       "<style scoped>\n",
       "    .dataframe tbody tr th:only-of-type {\n",
       "        vertical-align: middle;\n",
       "    }\n",
       "\n",
       "    .dataframe tbody tr th {\n",
       "        vertical-align: top;\n",
       "    }\n",
       "\n",
       "    .dataframe thead th {\n",
       "        text-align: right;\n",
       "    }\n",
       "</style>\n",
       "<table border=\"1\" class=\"dataframe\">\n",
       "  <thead>\n",
       "    <tr style=\"text-align: right;\">\n",
       "      <th>debt</th>\n",
       "      <th>0</th>\n",
       "      <th>1</th>\n",
       "      <th>percent_debt</th>\n",
       "    </tr>\n",
       "    <tr>\n",
       "      <th>children</th>\n",
       "      <th></th>\n",
       "      <th></th>\n",
       "      <th></th>\n",
       "    </tr>\n",
       "  </thead>\n",
       "  <tbody>\n",
       "    <tr>\n",
       "      <td>0</td>\n",
       "      <td>13096.0</td>\n",
       "      <td>1071.0</td>\n",
       "      <td>8.178070</td>\n",
       "    </tr>\n",
       "    <tr>\n",
       "      <td>1</td>\n",
       "      <td>4410.0</td>\n",
       "      <td>445.0</td>\n",
       "      <td>10.090703</td>\n",
       "    </tr>\n",
       "    <tr>\n",
       "      <td>2</td>\n",
       "      <td>1858.0</td>\n",
       "      <td>194.0</td>\n",
       "      <td>10.441335</td>\n",
       "    </tr>\n",
       "    <tr>\n",
       "      <td>3</td>\n",
       "      <td>303.0</td>\n",
       "      <td>27.0</td>\n",
       "      <td>8.910891</td>\n",
       "    </tr>\n",
       "    <tr>\n",
       "      <td>4</td>\n",
       "      <td>37.0</td>\n",
       "      <td>4.0</td>\n",
       "      <td>10.810811</td>\n",
       "    </tr>\n",
       "    <tr>\n",
       "      <td>5</td>\n",
       "      <td>9.0</td>\n",
       "      <td>0.0</td>\n",
       "      <td>0.000000</td>\n",
       "    </tr>\n",
       "  </tbody>\n",
       "</table>\n",
       "</div>"
      ],
      "text/plain": [
       "debt            0       1  percent_debt\n",
       "children                               \n",
       "0         13096.0  1071.0      8.178070\n",
       "1          4410.0   445.0     10.090703\n",
       "2          1858.0   194.0     10.441335\n",
       "3           303.0    27.0      8.910891\n",
       "4            37.0     4.0     10.810811\n",
       "5             9.0     0.0      0.000000"
      ]
     },
     "metadata": {},
     "output_type": "display_data"
    }
   ],
   "source": [
    "#создадим сводную таблицу зависимости количества задолжностей от количества детей. \n",
    "children_pivot = data.pivot_table(index=['children'], columns='debt', values='family_status_id', aggfunc='count')\n",
    "\n",
    "#заменим значения NaN в столбце 1\n",
    "children_pivot[1] = children_pivot[1].fillna(0)\n",
    "\n",
    "#посчитаем процент клиентов имеющих задолжность для каждой категории стобца children\n",
    "children_pivot['percent_debt'] = children_pivot[1]/children_pivot[0]*100\n",
    "display(children_pivot)\n"
   ]
  },
  {
   "cell_type": "markdown",
   "metadata": {},
   "source": [
    "**Вывод**"
   ]
  },
  {
   "cell_type": "markdown",
   "metadata": {},
   "source": [
    "Исходя из таблицы мы видим, что минимальное количество задолжностей у клиентов у которых нет детей. Так же можно сделать вывод о том, что чем больше количество детей, тем больше задолжностей по выплате кредита, однако есть и исключения. Для семей, в которых 3ое детей, показатель задолжностей, находится примерно на уровне с показателем семей у которых детей нет. это говорит о том, что возможно нам не хватает данных для более точного вывода. тем неменее, мы можем сделать вывод, что количество детей влияет на выплаты по кредиту в срок, бездетные семьи задерживают выплаты реже."
   ]
  },
  {
   "cell_type": "markdown",
   "metadata": {},
   "source": [
    "- Есть ли зависимость между семейным положением и возвратом кредита в срок?"
   ]
  },
  {
   "cell_type": "code",
   "execution_count": 133,
   "metadata": {},
   "outputs": [
    {
     "data": {
      "text/html": [
       "<div>\n",
       "<style scoped>\n",
       "    .dataframe tbody tr th:only-of-type {\n",
       "        vertical-align: middle;\n",
       "    }\n",
       "\n",
       "    .dataframe tbody tr th {\n",
       "        vertical-align: top;\n",
       "    }\n",
       "\n",
       "    .dataframe thead th {\n",
       "        text-align: right;\n",
       "    }\n",
       "</style>\n",
       "<table border=\"1\" class=\"dataframe\">\n",
       "  <thead>\n",
       "    <tr style=\"text-align: right;\">\n",
       "      <th>debt</th>\n",
       "      <th>0</th>\n",
       "      <th>1</th>\n",
       "      <th>percent_debt</th>\n",
       "    </tr>\n",
       "    <tr>\n",
       "      <th>status_group</th>\n",
       "      <th></th>\n",
       "      <th></th>\n",
       "      <th></th>\n",
       "    </tr>\n",
       "  </thead>\n",
       "  <tbody>\n",
       "    <tr>\n",
       "      <td>Не женат / не замужем</td>\n",
       "      <td>2536</td>\n",
       "      <td>274</td>\n",
       "      <td>10.804416</td>\n",
       "    </tr>\n",
       "    <tr>\n",
       "      <td>в разводе</td>\n",
       "      <td>1110</td>\n",
       "      <td>85</td>\n",
       "      <td>7.657658</td>\n",
       "    </tr>\n",
       "    <tr>\n",
       "      <td>вдовец / вдова</td>\n",
       "      <td>896</td>\n",
       "      <td>63</td>\n",
       "      <td>7.031250</td>\n",
       "    </tr>\n",
       "    <tr>\n",
       "      <td>гражданский брак</td>\n",
       "      <td>3763</td>\n",
       "      <td>388</td>\n",
       "      <td>10.310922</td>\n",
       "    </tr>\n",
       "    <tr>\n",
       "      <td>женат / замужем</td>\n",
       "      <td>11408</td>\n",
       "      <td>931</td>\n",
       "      <td>8.160940</td>\n",
       "    </tr>\n",
       "  </tbody>\n",
       "</table>\n",
       "</div>"
      ],
      "text/plain": [
       "debt                       0    1  percent_debt\n",
       "status_group                                   \n",
       "Не женат / не замужем   2536  274     10.804416\n",
       "в разводе               1110   85      7.657658\n",
       "вдовец / вдова           896   63      7.031250\n",
       "гражданский брак        3763  388     10.310922\n",
       "женат / замужем        11408  931      8.160940"
      ]
     },
     "metadata": {},
     "output_type": "display_data"
    }
   ],
   "source": [
    "#посчитаем процент клиентов имеющих задолжность в зависимости от семейного положения\n",
    "family_pivot['percent_debt'] = family_pivot[1]/family_pivot[0]*100\n",
    "display(family_pivot)"
   ]
  },
  {
   "cell_type": "markdown",
   "metadata": {},
   "source": [
    "**Вывод**"
   ]
  },
  {
   "cell_type": "markdown",
   "metadata": {},
   "source": [
    "Как мы видим из таблицы семейное положение тоже влияет на возврат кредита в срок. Клиенты, которые находятся в разводе или  относятся к категории вдовец / вдова, как правило реже задерживают выплаты. Чаще всего выплаты задерживают клиенты состоящие в гражданском браке, либо относятся к категории: Не женат / не замужем. "
   ]
  },
  {
   "cell_type": "markdown",
   "metadata": {},
   "source": [
    "- Есть ли зависимость между уровнем дохода и возвратом кредита в срок?"
   ]
  },
  {
   "cell_type": "code",
   "execution_count": 134,
   "metadata": {},
   "outputs": [
    {
     "data": {
      "text/html": [
       "<div>\n",
       "<style scoped>\n",
       "    .dataframe tbody tr th:only-of-type {\n",
       "        vertical-align: middle;\n",
       "    }\n",
       "\n",
       "    .dataframe tbody tr th {\n",
       "        vertical-align: top;\n",
       "    }\n",
       "\n",
       "    .dataframe thead th {\n",
       "        text-align: right;\n",
       "    }\n",
       "</style>\n",
       "<table border=\"1\" class=\"dataframe\">\n",
       "  <thead>\n",
       "    <tr style=\"text-align: right;\">\n",
       "      <th>debt</th>\n",
       "      <th>0</th>\n",
       "      <th>1</th>\n",
       "      <th>percent_debt</th>\n",
       "    </tr>\n",
       "    <tr>\n",
       "      <th>income_group</th>\n",
       "      <th></th>\n",
       "      <th></th>\n",
       "      <th></th>\n",
       "    </tr>\n",
       "  </thead>\n",
       "  <tbody>\n",
       "    <tr>\n",
       "      <td>высокий</td>\n",
       "      <td>8908</td>\n",
       "      <td>767</td>\n",
       "      <td>8.610238</td>\n",
       "    </tr>\n",
       "    <tr>\n",
       "      <td>низкий</td>\n",
       "      <td>8871</td>\n",
       "      <td>804</td>\n",
       "      <td>9.063240</td>\n",
       "    </tr>\n",
       "    <tr>\n",
       "      <td>средний</td>\n",
       "      <td>1934</td>\n",
       "      <td>170</td>\n",
       "      <td>8.790072</td>\n",
       "    </tr>\n",
       "  </tbody>\n",
       "</table>\n",
       "</div>"
      ],
      "text/plain": [
       "debt             0    1  percent_debt\n",
       "income_group                         \n",
       "высокий       8908  767      8.610238\n",
       "низкий        8871  804      9.063240\n",
       "средний       1934  170      8.790072"
      ]
     },
     "metadata": {},
     "output_type": "display_data"
    }
   ],
   "source": [
    "#посчитаем процент клиентов имеющих задолжность в зависимости от дохода\n",
    "income_pivot['percent_debt'] = income_pivot[1]/income_pivot[0]*100\n",
    "display(income_pivot)"
   ]
  },
  {
   "cell_type": "markdown",
   "metadata": {},
   "source": [
    "**Вывод**"
   ]
  },
  {
   "cell_type": "markdown",
   "metadata": {},
   "source": [
    "Процент клиентов имеющих задолжность по кредиту не зависит от ежемесячного дохода клиента."
   ]
  },
  {
   "cell_type": "markdown",
   "metadata": {},
   "source": [
    "- Как разные цели кредита влияют на его возврат в срок?"
   ]
  },
  {
   "cell_type": "code",
   "execution_count": 135,
   "metadata": {},
   "outputs": [
    {
     "data": {
      "text/html": [
       "<div>\n",
       "<style scoped>\n",
       "    .dataframe tbody tr th:only-of-type {\n",
       "        vertical-align: middle;\n",
       "    }\n",
       "\n",
       "    .dataframe tbody tr th {\n",
       "        vertical-align: top;\n",
       "    }\n",
       "\n",
       "    .dataframe thead th {\n",
       "        text-align: right;\n",
       "    }\n",
       "</style>\n",
       "<table border=\"1\" class=\"dataframe\">\n",
       "  <thead>\n",
       "    <tr style=\"text-align: right;\">\n",
       "      <th>debt</th>\n",
       "      <th>0</th>\n",
       "      <th>1</th>\n",
       "      <th>percent_debt</th>\n",
       "    </tr>\n",
       "    <tr>\n",
       "      <th>purpose_group</th>\n",
       "      <th></th>\n",
       "      <th></th>\n",
       "      <th></th>\n",
       "    </tr>\n",
       "  </thead>\n",
       "  <tbody>\n",
       "    <tr>\n",
       "      <td>автомобиль</td>\n",
       "      <td>882</td>\n",
       "      <td>90</td>\n",
       "      <td>10.204082</td>\n",
       "    </tr>\n",
       "    <tr>\n",
       "      <td>недвижимость</td>\n",
       "      <td>4731</td>\n",
       "      <td>382</td>\n",
       "      <td>8.074403</td>\n",
       "    </tr>\n",
       "    <tr>\n",
       "      <td>образование</td>\n",
       "      <td>2463</td>\n",
       "      <td>236</td>\n",
       "      <td>9.581811</td>\n",
       "    </tr>\n",
       "    <tr>\n",
       "      <td>свадьба</td>\n",
       "      <td>11637</td>\n",
       "      <td>1033</td>\n",
       "      <td>8.876858</td>\n",
       "    </tr>\n",
       "  </tbody>\n",
       "</table>\n",
       "</div>"
      ],
      "text/plain": [
       "debt               0     1  percent_debt\n",
       "purpose_group                           \n",
       "автомобиль       882    90     10.204082\n",
       "недвижимость    4731   382      8.074403\n",
       "образование     2463   236      9.581811\n",
       "свадьба        11637  1033      8.876858"
      ]
     },
     "metadata": {},
     "output_type": "display_data"
    }
   ],
   "source": [
    "#посчитаем процент клиентов имеющих задолжность в зависимости от цели получения кредита\n",
    "purpose_pivot['percent_debt'] = purpose_pivot[1]/purpose_pivot[0]*100\n",
    "display(purpose_pivot)"
   ]
  },
  {
   "cell_type": "markdown",
   "metadata": {},
   "source": [
    "**Вывод**"
   ]
  },
  {
   "cell_type": "markdown",
   "metadata": {},
   "source": [
    "Как мы видим, среди 4 категорий по целям получения кредита, чаще всего вовремя возвращают кредиты с целью кредита на недвижимость. Просрочка платежей чаще всего идет у клиентов, которые берут кредит на автомобиль. Таким образом, мы делаем вывод, что цель кредита влияет на возвращение кредита в срок.\n"
   ]
  },
  {
   "cell_type": "markdown",
   "metadata": {},
   "source": [
    "## Шаг 4. Общий вывод"
   ]
  },
  {
   "cell_type": "markdown",
   "metadata": {},
   "source": [
    "Гипотеза частично подтвердилась.\n",
    "Количество детей и семейное положение влияет на факт погащения кредита в срок.\n",
    "Бездетные клиенты чаще всего выплачивают кредит в срок, однако стоит рассмотреть эту гипотезу более тщательно, поскольку есть и исключение в виде клиентов в семьях которых проживет 3ое детей.\n",
    "Семейное положение также оказывает влияние на своевременность выплат. Клиенты, которые относятся к категории вдовец / вдова, как правило реже задерживают выплаты, в то время как неженатые/незамужние клиенты задерживают выплаты чаще остальных."
   ]
  }
 ],
 "metadata": {
  "ExecuteTimeLog": [
   {
    "duration": 101,
    "start_time": "2022-01-18T20:39:06.276Z"
   },
   {
    "duration": 1552,
    "start_time": "2022-01-18T20:39:19.609Z"
   },
   {
    "duration": 1429,
    "start_time": "2022-01-22T08:40:26.041Z"
   },
   {
    "duration": 3,
    "start_time": "2022-01-22T08:47:41.294Z"
   },
   {
    "duration": 4,
    "start_time": "2022-01-22T08:48:38.926Z"
   },
   {
    "duration": 8423,
    "start_time": "2022-01-22T08:50:21.983Z"
   },
   {
    "duration": 2,
    "start_time": "2022-01-22T08:57:16.163Z"
   },
   {
    "duration": 5,
    "start_time": "2022-01-22T08:57:20.416Z"
   },
   {
    "duration": 3,
    "start_time": "2022-01-22T09:02:13.101Z"
   },
   {
    "duration": 516,
    "start_time": "2022-01-22T09:03:19.492Z"
   },
   {
    "duration": 12,
    "start_time": "2022-01-22T09:06:45.906Z"
   },
   {
    "duration": 30,
    "start_time": "2022-01-22T09:07:05.165Z"
   },
   {
    "duration": 21,
    "start_time": "2022-01-22T09:07:16.308Z"
   },
   {
    "duration": 4,
    "start_time": "2022-01-22T13:14:42.421Z"
   },
   {
    "duration": 18,
    "start_time": "2022-01-22T13:15:02.402Z"
   },
   {
    "duration": 14,
    "start_time": "2022-01-22T13:15:11.628Z"
   },
   {
    "duration": 5,
    "start_time": "2022-01-22T13:17:25.246Z"
   },
   {
    "duration": 19,
    "start_time": "2022-01-22T13:17:38.789Z"
   },
   {
    "duration": 782,
    "start_time": "2022-01-22T13:18:23.422Z"
   },
   {
    "duration": 822,
    "start_time": "2022-01-22T13:18:36.511Z"
   },
   {
    "duration": 686,
    "start_time": "2022-01-22T13:18:47.997Z"
   },
   {
    "duration": 752,
    "start_time": "2022-01-22T13:19:15.587Z"
   },
   {
    "duration": 899,
    "start_time": "2022-01-22T13:19:28.899Z"
   },
   {
    "duration": 675,
    "start_time": "2022-01-22T13:19:47.124Z"
   },
   {
    "duration": 4,
    "start_time": "2022-01-22T13:19:54.982Z"
   },
   {
    "duration": 11,
    "start_time": "2022-01-22T13:20:29.809Z"
   },
   {
    "duration": 6,
    "start_time": "2022-01-22T13:26:42.488Z"
   },
   {
    "duration": 8,
    "start_time": "2022-01-22T13:33:33.486Z"
   },
   {
    "duration": 9,
    "start_time": "2022-01-22T13:33:55.374Z"
   },
   {
    "duration": 20,
    "start_time": "2022-01-22T13:34:11.201Z"
   },
   {
    "duration": 17,
    "start_time": "2022-01-22T13:38:19.470Z"
   },
   {
    "duration": 324,
    "start_time": "2022-01-22T13:42:56.622Z"
   },
   {
    "duration": 322,
    "start_time": "2022-01-22T13:43:08.357Z"
   },
   {
    "duration": 19,
    "start_time": "2022-01-22T13:43:32.414Z"
   },
   {
    "duration": 12,
    "start_time": "2022-01-22T14:07:07.249Z"
   },
   {
    "duration": 5,
    "start_time": "2022-01-22T14:19:08.435Z"
   },
   {
    "duration": 10,
    "start_time": "2022-01-22T14:19:15.987Z"
   },
   {
    "duration": -1653,
    "start_time": "2022-01-22T14:20:26.235Z"
   },
   {
    "duration": 8193,
    "start_time": "2022-01-22T14:21:56.099Z"
   },
   {
    "duration": 5,
    "start_time": "2022-01-22T14:23:04.480Z"
   },
   {
    "duration": 550,
    "start_time": "2022-01-22T14:23:14.275Z"
   },
   {
    "duration": 7,
    "start_time": "2022-01-22T14:23:20.401Z"
   },
   {
    "duration": 4,
    "start_time": "2022-01-22T14:23:30.708Z"
   },
   {
    "duration": 5,
    "start_time": "2022-01-22T14:23:47.637Z"
   },
   {
    "duration": 10,
    "start_time": "2022-01-22T14:24:03.054Z"
   },
   {
    "duration": 10,
    "start_time": "2022-01-22T14:30:42.905Z"
   },
   {
    "duration": 8890,
    "start_time": "2022-01-22T14:31:46.246Z"
   },
   {
    "duration": 9,
    "start_time": "2022-01-22T14:34:28.338Z"
   },
   {
    "duration": 6,
    "start_time": "2022-01-22T14:34:39.217Z"
   },
   {
    "duration": 10,
    "start_time": "2022-01-22T14:37:30.375Z"
   },
   {
    "duration": 336,
    "start_time": "2022-01-22T14:37:52.892Z"
   },
   {
    "duration": 342,
    "start_time": "2022-01-22T14:38:01.438Z"
   },
   {
    "duration": 11,
    "start_time": "2022-01-22T14:40:02.249Z"
   },
   {
    "duration": 98,
    "start_time": "2022-01-22T14:42:16.735Z"
   },
   {
    "duration": 108,
    "start_time": "2022-01-22T14:42:40.870Z"
   },
   {
    "duration": 9,
    "start_time": "2022-01-22T14:42:46.554Z"
   },
   {
    "duration": 8,
    "start_time": "2022-01-22T14:45:09.279Z"
   },
   {
    "duration": 8,
    "start_time": "2022-01-22T14:45:11.124Z"
   },
   {
    "duration": 4,
    "start_time": "2022-01-22T14:45:18.065Z"
   },
   {
    "duration": 6,
    "start_time": "2022-01-22T14:45:27.899Z"
   },
   {
    "duration": 2,
    "start_time": "2022-01-22T14:45:43.484Z"
   },
   {
    "duration": 7,
    "start_time": "2022-01-22T14:45:51.741Z"
   },
   {
    "duration": 7,
    "start_time": "2022-01-22T14:45:57.067Z"
   },
   {
    "duration": 864,
    "start_time": "2022-01-22T14:46:06.889Z"
   },
   {
    "duration": 17,
    "start_time": "2022-01-22T14:46:25.477Z"
   },
   {
    "duration": 12,
    "start_time": "2022-01-22T14:46:28.581Z"
   },
   {
    "duration": 13,
    "start_time": "2022-01-22T14:46:30.933Z"
   },
   {
    "duration": 13,
    "start_time": "2022-01-22T14:47:06.680Z"
   },
   {
    "duration": 19,
    "start_time": "2022-01-22T14:47:12.284Z"
   },
   {
    "duration": 5,
    "start_time": "2022-01-22T14:47:34.134Z"
   },
   {
    "duration": 21,
    "start_time": "2022-01-22T14:47:44.777Z"
   },
   {
    "duration": 349,
    "start_time": "2022-01-22T21:30:10.567Z"
   },
   {
    "duration": 308,
    "start_time": "2022-01-22T21:30:40.836Z"
   },
   {
    "duration": 19,
    "start_time": "2022-01-22T21:30:52.040Z"
   },
   {
    "duration": 330,
    "start_time": "2022-01-22T21:31:32.394Z"
   },
   {
    "duration": 257,
    "start_time": "2022-01-22T21:35:02.843Z"
   },
   {
    "duration": 276,
    "start_time": "2022-01-22T21:35:54.537Z"
   },
   {
    "duration": 96,
    "start_time": "2022-01-22T21:43:25.481Z"
   },
   {
    "duration": 18,
    "start_time": "2022-01-22T21:45:12.100Z"
   },
   {
    "duration": 19,
    "start_time": "2022-01-22T21:46:26.285Z"
   },
   {
    "duration": 101,
    "start_time": "2022-01-22T21:50:37.406Z"
   },
   {
    "duration": 20,
    "start_time": "2022-01-22T21:50:43.757Z"
   },
   {
    "duration": 99,
    "start_time": "2022-01-22T21:52:05.209Z"
   },
   {
    "duration": 104,
    "start_time": "2022-01-22T21:52:17.973Z"
   },
   {
    "duration": 97,
    "start_time": "2022-01-22T21:52:19.092Z"
   },
   {
    "duration": 99,
    "start_time": "2022-01-22T21:53:07.843Z"
   },
   {
    "duration": 112,
    "start_time": "2022-01-22T21:53:30.285Z"
   },
   {
    "duration": 97,
    "start_time": "2022-01-22T21:53:35.045Z"
   },
   {
    "duration": 25,
    "start_time": "2022-01-22T21:55:32.667Z"
   },
   {
    "duration": 30,
    "start_time": "2022-01-22T21:55:51.786Z"
   },
   {
    "duration": 728,
    "start_time": "2022-01-22T21:55:58.915Z"
   },
   {
    "duration": 12,
    "start_time": "2022-01-22T21:56:02.312Z"
   },
   {
    "duration": 31,
    "start_time": "2022-01-22T21:56:04.430Z"
   },
   {
    "duration": 17,
    "start_time": "2022-01-22T21:56:13.364Z"
   },
   {
    "duration": 353,
    "start_time": "2022-01-22T21:56:22.191Z"
   },
   {
    "duration": 18,
    "start_time": "2022-01-22T21:56:33.954Z"
   },
   {
    "duration": 8,
    "start_time": "2022-01-22T21:56:56.068Z"
   },
   {
    "duration": 7,
    "start_time": "2022-01-23T09:49:14.601Z"
   },
   {
    "duration": 8,
    "start_time": "2022-01-23T09:49:16.368Z"
   },
   {
    "duration": 7,
    "start_time": "2022-01-23T09:49:18.439Z"
   },
   {
    "duration": 917,
    "start_time": "2022-01-23T09:49:24.733Z"
   },
   {
    "duration": 12,
    "start_time": "2022-01-23T09:49:29.588Z"
   },
   {
    "duration": 7,
    "start_time": "2022-01-23T09:49:34.327Z"
   },
   {
    "duration": 19,
    "start_time": "2022-01-23T09:49:53.480Z"
   },
   {
    "duration": 1279,
    "start_time": "2022-01-23T18:19:12.317Z"
   },
   {
    "duration": 13,
    "start_time": "2022-01-23T18:19:17.118Z"
   },
   {
    "duration": 23,
    "start_time": "2022-01-23T18:19:20.098Z"
   },
   {
    "duration": 119,
    "start_time": "2022-01-23T18:21:55.776Z"
   },
   {
    "duration": 5,
    "start_time": "2022-01-23T18:22:03.799Z"
   },
   {
    "duration": 2,
    "start_time": "2022-01-23T18:22:31.006Z"
   },
   {
    "duration": 317,
    "start_time": "2022-01-23T18:24:08.288Z"
   },
   {
    "duration": 26,
    "start_time": "2022-01-23T18:24:17.728Z"
   },
   {
    "duration": 7,
    "start_time": "2022-01-23T18:27:20.697Z"
   },
   {
    "duration": 20,
    "start_time": "2022-01-23T18:29:10.619Z"
   },
   {
    "duration": 30,
    "start_time": "2022-01-23T18:39:30.107Z"
   },
   {
    "duration": 47,
    "start_time": "2022-01-23T18:39:47.437Z"
   },
   {
    "duration": 35,
    "start_time": "2022-01-23T18:43:23.033Z"
   },
   {
    "duration": 43,
    "start_time": "2022-01-23T18:43:44.182Z"
   },
   {
    "duration": 51,
    "start_time": "2022-01-23T18:46:14.989Z"
   },
   {
    "duration": 55,
    "start_time": "2022-01-23T18:46:27.182Z"
   },
   {
    "duration": 333,
    "start_time": "2022-01-23T18:54:21.798Z"
   },
   {
    "duration": 55,
    "start_time": "2022-01-23T18:58:32.756Z"
   },
   {
    "duration": 57,
    "start_time": "2022-01-23T18:59:18.035Z"
   },
   {
    "duration": 56,
    "start_time": "2022-01-23T18:59:31.889Z"
   },
   {
    "duration": 61,
    "start_time": "2022-01-23T19:00:15.546Z"
   },
   {
    "duration": 60,
    "start_time": "2022-01-23T19:00:31.059Z"
   },
   {
    "duration": 83,
    "start_time": "2022-01-23T19:02:15.569Z"
   },
   {
    "duration": 70,
    "start_time": "2022-01-23T19:02:51.177Z"
   },
   {
    "duration": 54,
    "start_time": "2022-01-23T19:03:25.859Z"
   },
   {
    "duration": 33,
    "start_time": "2022-01-23T19:03:44.769Z"
   },
   {
    "duration": 299,
    "start_time": "2022-01-23T19:20:07.756Z"
   },
   {
    "duration": 277,
    "start_time": "2022-01-23T19:20:25.809Z"
   },
   {
    "duration": 287,
    "start_time": "2022-01-23T19:20:53.341Z"
   },
   {
    "duration": 34,
    "start_time": "2022-01-23T19:21:24.268Z"
   },
   {
    "duration": 757,
    "start_time": "2022-01-23T19:22:39.083Z"
   },
   {
    "duration": 13,
    "start_time": "2022-01-23T19:22:42.856Z"
   },
   {
    "duration": 22,
    "start_time": "2022-01-23T19:22:46.044Z"
   },
   {
    "duration": 6,
    "start_time": "2022-01-23T19:27:52.915Z"
   },
   {
    "duration": 33,
    "start_time": "2022-01-23T19:27:57.093Z"
   },
   {
    "duration": 675,
    "start_time": "2022-01-23T19:28:53.486Z"
   },
   {
    "duration": 245,
    "start_time": "2022-01-23T19:29:01.218Z"
   },
   {
    "duration": 322,
    "start_time": "2022-01-23T19:44:36.784Z"
   },
   {
    "duration": 6,
    "start_time": "2022-01-23T19:44:44.476Z"
   },
   {
    "duration": 9,
    "start_time": "2022-01-23T19:45:00.309Z"
   },
   {
    "duration": 5,
    "start_time": "2022-01-23T19:52:31.563Z"
   },
   {
    "duration": 854,
    "start_time": "2022-01-23T19:59:04.105Z"
   },
   {
    "duration": 14,
    "start_time": "2022-01-23T19:59:09.276Z"
   },
   {
    "duration": 6,
    "start_time": "2022-01-23T19:59:12.883Z"
   },
   {
    "duration": 36,
    "start_time": "2022-01-23T19:59:15.272Z"
   },
   {
    "duration": 6,
    "start_time": "2022-01-23T19:59:18.513Z"
   },
   {
    "duration": 3594,
    "start_time": "2022-01-23T20:06:26.077Z"
   },
   {
    "duration": 3018,
    "start_time": "2022-01-23T20:06:48.821Z"
   },
   {
    "duration": 1796,
    "start_time": "2022-01-23T20:21:35.946Z"
   },
   {
    "duration": 785,
    "start_time": "2022-01-23T20:21:55.711Z"
   },
   {
    "duration": 13,
    "start_time": "2022-01-23T20:21:59.473Z"
   },
   {
    "duration": 6,
    "start_time": "2022-01-23T20:22:01.896Z"
   },
   {
    "duration": 45,
    "start_time": "2022-01-23T20:22:03.976Z"
   },
   {
    "duration": 3812,
    "start_time": "2022-01-23T20:22:07.596Z"
   },
   {
    "duration": 3244,
    "start_time": "2022-01-23T20:22:23.997Z"
   },
   {
    "duration": 1676,
    "start_time": "2022-01-24T19:21:16.024Z"
   },
   {
    "duration": 17,
    "start_time": "2022-01-24T19:21:22.053Z"
   },
   {
    "duration": 7,
    "start_time": "2022-01-24T19:21:24.535Z"
   },
   {
    "duration": 62,
    "start_time": "2022-01-24T19:21:27.174Z"
   },
   {
    "duration": 88,
    "start_time": "2022-01-24T19:21:49.318Z"
   },
   {
    "duration": 77,
    "start_time": "2022-01-24T19:21:57.450Z"
   },
   {
    "duration": 362,
    "start_time": "2022-01-24T19:40:58.748Z"
   },
   {
    "duration": 539,
    "start_time": "2022-01-24T19:43:00.983Z"
   },
   {
    "duration": 3,
    "start_time": "2022-01-24T19:45:50.291Z"
   },
   {
    "duration": 712,
    "start_time": "2022-01-24T19:56:01.548Z"
   },
   {
    "duration": 356,
    "start_time": "2022-01-24T20:08:16.897Z"
   },
   {
    "duration": 8,
    "start_time": "2022-01-24T20:12:19.577Z"
   },
   {
    "duration": 10,
    "start_time": "2022-01-24T20:12:35.765Z"
   },
   {
    "duration": 27,
    "start_time": "2022-01-24T20:12:48.936Z"
   },
   {
    "duration": 8,
    "start_time": "2022-01-24T20:13:09.098Z"
   },
   {
    "duration": 3816,
    "start_time": "2022-01-24T20:13:19.609Z"
   },
   {
    "duration": 3914,
    "start_time": "2022-01-24T20:13:40.415Z"
   },
   {
    "duration": 1169,
    "start_time": "2022-01-24T20:13:53.763Z"
   },
   {
    "duration": 17,
    "start_time": "2022-01-24T20:13:58.200Z"
   },
   {
    "duration": 7,
    "start_time": "2022-01-24T20:14:00.431Z"
   },
   {
    "duration": 88,
    "start_time": "2022-01-24T20:14:09.137Z"
   },
   {
    "duration": 4426,
    "start_time": "2022-01-24T20:14:15.409Z"
   },
   {
    "duration": 4,
    "start_time": "2022-01-24T20:14:29.469Z"
   },
   {
    "duration": 38,
    "start_time": "2022-01-24T20:14:40.822Z"
   },
   {
    "duration": 968,
    "start_time": "2022-01-24T20:20:01.672Z"
   },
   {
    "duration": 953,
    "start_time": "2022-01-24T20:20:47.858Z"
   },
   {
    "duration": 26,
    "start_time": "2022-01-24T20:20:48.815Z"
   },
   {
    "duration": 9,
    "start_time": "2022-01-24T20:20:48.845Z"
   },
   {
    "duration": 116,
    "start_time": "2022-01-24T20:20:48.857Z"
   },
   {
    "duration": 6146,
    "start_time": "2022-01-24T20:20:48.977Z"
   },
   {
    "duration": 2208,
    "start_time": "2022-01-24T20:33:42.816Z"
   },
   {
    "duration": 1170,
    "start_time": "2022-01-24T20:33:55.123Z"
   },
   {
    "duration": 18,
    "start_time": "2022-01-24T20:33:56.296Z"
   },
   {
    "duration": 8,
    "start_time": "2022-01-24T20:33:56.325Z"
   },
   {
    "duration": 113,
    "start_time": "2022-01-24T20:33:56.336Z"
   },
   {
    "duration": 4693,
    "start_time": "2022-01-24T20:33:56.451Z"
   },
   {
    "duration": 2035,
    "start_time": "2022-01-24T20:34:26.091Z"
   },
   {
    "duration": 900,
    "start_time": "2022-01-24T20:34:36.344Z"
   },
   {
    "duration": 17,
    "start_time": "2022-01-24T20:34:40.994Z"
   },
   {
    "duration": 9,
    "start_time": "2022-01-24T20:34:43.805Z"
   },
   {
    "duration": 92,
    "start_time": "2022-01-24T20:34:48.401Z"
   },
   {
    "duration": 57,
    "start_time": "2022-01-24T20:35:41.994Z"
   },
   {
    "duration": 1718,
    "start_time": "2022-01-24T20:35:54.090Z"
   },
   {
    "duration": 17,
    "start_time": "2022-01-24T20:35:55.810Z"
   },
   {
    "duration": 8,
    "start_time": "2022-01-24T20:35:55.829Z"
   },
   {
    "duration": 65,
    "start_time": "2022-01-24T20:35:55.840Z"
   },
   {
    "duration": 4541,
    "start_time": "2022-01-24T20:35:55.908Z"
   },
   {
    "duration": 8,
    "start_time": "2022-01-24T21:03:40.837Z"
   },
   {
    "duration": 2020,
    "start_time": "2022-01-24T21:03:53.643Z"
   },
   {
    "duration": 931,
    "start_time": "2022-01-24T21:04:04.022Z"
   },
   {
    "duration": 17,
    "start_time": "2022-01-24T21:04:04.956Z"
   },
   {
    "duration": 7,
    "start_time": "2022-01-24T21:04:04.976Z"
   },
   {
    "duration": 78,
    "start_time": "2022-01-24T21:04:04.986Z"
   },
   {
    "duration": 7,
    "start_time": "2022-01-24T21:04:05.066Z"
   },
   {
    "duration": 76,
    "start_time": "2022-01-24T21:04:44.679Z"
   },
   {
    "duration": 68,
    "start_time": "2022-01-24T21:04:59.055Z"
   },
   {
    "duration": 838,
    "start_time": "2022-01-24T21:05:06.058Z"
   },
   {
    "duration": 16,
    "start_time": "2022-01-24T21:05:09.891Z"
   },
   {
    "duration": 7,
    "start_time": "2022-01-24T21:05:13.008Z"
   },
   {
    "duration": 57,
    "start_time": "2022-01-24T21:05:17.949Z"
   },
   {
    "duration": 59,
    "start_time": "2022-01-24T21:05:51.546Z"
   },
   {
    "duration": 65,
    "start_time": "2022-01-24T21:06:01.316Z"
   },
   {
    "duration": 58,
    "start_time": "2022-01-24T21:06:30.539Z"
   },
   {
    "duration": 5,
    "start_time": "2022-01-24T21:07:16.706Z"
   },
   {
    "duration": 8,
    "start_time": "2022-01-24T21:11:35.455Z"
   },
   {
    "duration": 284,
    "start_time": "2022-01-24T21:13:51.798Z"
   },
   {
    "duration": 815,
    "start_time": "2022-01-24T21:14:05.114Z"
   },
   {
    "duration": 26,
    "start_time": "2022-01-24T21:14:19.162Z"
   },
   {
    "duration": 288,
    "start_time": "2022-01-24T21:15:57.985Z"
   },
   {
    "duration": 5,
    "start_time": "2022-01-24T21:16:49.467Z"
   },
   {
    "duration": 7,
    "start_time": "2022-01-24T21:17:01.643Z"
   },
   {
    "duration": 13,
    "start_time": "2022-01-24T21:17:32.977Z"
   },
   {
    "duration": 303,
    "start_time": "2022-01-24T21:18:59.929Z"
   },
   {
    "duration": 296,
    "start_time": "2022-01-24T21:19:40.791Z"
   },
   {
    "duration": 11,
    "start_time": "2022-01-24T21:20:01.515Z"
   },
   {
    "duration": 11,
    "start_time": "2022-01-24T21:20:13.717Z"
   },
   {
    "duration": 23,
    "start_time": "2022-01-24T21:22:07.760Z"
   },
   {
    "duration": 16,
    "start_time": "2022-01-24T21:22:23.153Z"
   },
   {
    "duration": 7,
    "start_time": "2022-01-24T21:23:31.158Z"
   },
   {
    "duration": 968,
    "start_time": "2022-01-24T21:24:14.559Z"
   },
   {
    "duration": 17,
    "start_time": "2022-01-24T21:24:23.674Z"
   },
   {
    "duration": 8,
    "start_time": "2022-01-24T21:24:26.123Z"
   },
   {
    "duration": 55,
    "start_time": "2022-01-24T21:24:28.718Z"
   },
   {
    "duration": 58,
    "start_time": "2022-01-24T21:24:29.986Z"
   },
   {
    "duration": 7,
    "start_time": "2022-01-24T21:24:35.172Z"
   },
   {
    "duration": 8,
    "start_time": "2022-01-24T21:26:02.486Z"
   },
   {
    "duration": 8,
    "start_time": "2022-01-24T21:27:10.723Z"
   },
   {
    "duration": 8,
    "start_time": "2022-01-24T21:28:04.998Z"
   },
   {
    "duration": 95,
    "start_time": "2022-01-24T21:29:08.340Z"
   },
   {
    "duration": 152,
    "start_time": "2022-01-24T21:30:03.594Z"
   },
   {
    "duration": 8,
    "start_time": "2022-01-24T21:32:55.498Z"
   },
   {
    "duration": 90,
    "start_time": "2022-01-24T21:33:07.333Z"
   },
   {
    "duration": 6,
    "start_time": "2022-01-24T21:33:13.671Z"
   },
   {
    "duration": 818,
    "start_time": "2022-01-24T21:33:56.584Z"
   },
   {
    "duration": 7,
    "start_time": "2022-01-24T21:35:57.304Z"
   },
   {
    "duration": 8,
    "start_time": "2022-01-24T21:38:00.560Z"
   },
   {
    "duration": 8,
    "start_time": "2022-01-24T21:38:12.698Z"
   },
   {
    "duration": 1378,
    "start_time": "2022-01-24T21:38:40.807Z"
   },
   {
    "duration": 268,
    "start_time": "2022-01-24T21:39:03.869Z"
   },
   {
    "duration": 7,
    "start_time": "2022-01-24T21:39:16.543Z"
   },
   {
    "duration": 7,
    "start_time": "2022-01-24T21:41:26.677Z"
   },
   {
    "duration": 15,
    "start_time": "2022-01-24T21:41:54.259Z"
   },
   {
    "duration": 13,
    "start_time": "2022-01-24T21:43:02.954Z"
   },
   {
    "duration": 11,
    "start_time": "2022-01-24T21:43:24.386Z"
   },
   {
    "duration": 11,
    "start_time": "2022-01-24T21:47:14.593Z"
   },
   {
    "duration": 269,
    "start_time": "2022-01-24T22:15:39.992Z"
   },
   {
    "duration": 23,
    "start_time": "2022-01-24T22:15:58.316Z"
   },
   {
    "duration": 326,
    "start_time": "2022-01-24T22:25:59.871Z"
   },
   {
    "duration": 288,
    "start_time": "2022-01-24T22:27:13.027Z"
   },
   {
    "duration": 338,
    "start_time": "2022-01-24T22:27:42.343Z"
   },
   {
    "duration": 534,
    "start_time": "2022-01-24T22:28:44.745Z"
   },
   {
    "duration": 981,
    "start_time": "2022-01-24T22:29:11.052Z"
   },
   {
    "duration": 17,
    "start_time": "2022-01-24T22:29:12.036Z"
   },
   {
    "duration": 6,
    "start_time": "2022-01-24T22:29:12.056Z"
   },
   {
    "duration": 84,
    "start_time": "2022-01-24T22:29:12.065Z"
   },
   {
    "duration": 829,
    "start_time": "2022-01-24T22:29:12.151Z"
   },
   {
    "duration": 61,
    "start_time": "2022-01-24T22:29:24.409Z"
   },
   {
    "duration": 293,
    "start_time": "2022-01-24T22:29:37.964Z"
   },
   {
    "duration": 282,
    "start_time": "2022-01-24T22:29:56.153Z"
   },
   {
    "duration": 310,
    "start_time": "2022-01-24T22:30:13.102Z"
   },
   {
    "duration": 12,
    "start_time": "2022-01-24T22:31:09.763Z"
   },
   {
    "duration": 16,
    "start_time": "2022-01-24T22:32:09.172Z"
   },
   {
    "duration": 23,
    "start_time": "2022-01-24T22:33:19.827Z"
   },
   {
    "duration": 30,
    "start_time": "2022-01-24T22:34:18.627Z"
   },
   {
    "duration": 22,
    "start_time": "2022-01-24T22:34:33.818Z"
   },
   {
    "duration": 24,
    "start_time": "2022-01-24T22:34:37.162Z"
   },
   {
    "duration": 22,
    "start_time": "2022-01-24T22:34:46.991Z"
   },
   {
    "duration": 15,
    "start_time": "2022-01-24T22:35:29.663Z"
   },
   {
    "duration": 18,
    "start_time": "2022-01-24T22:36:24.976Z"
   },
   {
    "duration": 18,
    "start_time": "2022-01-24T22:37:02.857Z"
   },
   {
    "duration": 11,
    "start_time": "2022-01-24T22:38:20.721Z"
   },
   {
    "duration": 266,
    "start_time": "2022-01-24T22:44:08.271Z"
   },
   {
    "duration": 9,
    "start_time": "2022-01-24T22:44:14.971Z"
   },
   {
    "duration": 11,
    "start_time": "2022-01-24T22:45:07.282Z"
   },
   {
    "duration": 10,
    "start_time": "2022-01-24T22:45:09.585Z"
   },
   {
    "duration": 9,
    "start_time": "2022-01-24T22:52:10.858Z"
   },
   {
    "duration": 1231,
    "start_time": "2022-01-25T19:25:27.100Z"
   },
   {
    "duration": 14,
    "start_time": "2022-01-25T19:25:34.933Z"
   },
   {
    "duration": 8,
    "start_time": "2022-01-25T19:25:40.875Z"
   },
   {
    "duration": 43,
    "start_time": "2022-01-25T19:25:46.566Z"
   },
   {
    "duration": 43,
    "start_time": "2022-01-25T19:26:08.769Z"
   },
   {
    "duration": 686,
    "start_time": "2022-01-25T19:26:32.821Z"
   },
   {
    "duration": 10,
    "start_time": "2022-01-25T19:26:40.294Z"
   },
   {
    "duration": 616,
    "start_time": "2022-01-25T19:29:25.593Z"
   },
   {
    "duration": 14,
    "start_time": "2022-01-25T19:29:26.212Z"
   },
   {
    "duration": 9,
    "start_time": "2022-01-25T19:29:26.229Z"
   },
   {
    "duration": 64,
    "start_time": "2022-01-25T19:29:26.240Z"
   },
   {
    "duration": 705,
    "start_time": "2022-01-25T19:29:26.307Z"
   },
   {
    "duration": 11,
    "start_time": "2022-01-25T19:29:27.014Z"
   },
   {
    "duration": 643,
    "start_time": "2022-01-25T19:31:40.603Z"
   },
   {
    "duration": 12,
    "start_time": "2022-01-25T19:31:41.248Z"
   },
   {
    "duration": 7,
    "start_time": "2022-01-25T19:31:41.263Z"
   },
   {
    "duration": 80,
    "start_time": "2022-01-25T19:31:41.271Z"
   },
   {
    "duration": 714,
    "start_time": "2022-01-25T19:31:41.353Z"
   },
   {
    "duration": 10,
    "start_time": "2022-01-25T19:31:42.069Z"
   },
   {
    "duration": 63,
    "start_time": "2022-01-25T19:32:25.957Z"
   },
   {
    "duration": 60,
    "start_time": "2022-01-25T19:32:37.156Z"
   },
   {
    "duration": 64,
    "start_time": "2022-01-25T19:32:41.774Z"
   },
   {
    "duration": 608,
    "start_time": "2022-01-25T19:32:49.402Z"
   },
   {
    "duration": 15,
    "start_time": "2022-01-25T19:32:50.013Z"
   },
   {
    "duration": 13,
    "start_time": "2022-01-25T19:32:50.031Z"
   },
   {
    "duration": 83,
    "start_time": "2022-01-25T19:32:50.047Z"
   },
   {
    "duration": 697,
    "start_time": "2022-01-25T19:32:50.132Z"
   },
   {
    "duration": 11,
    "start_time": "2022-01-25T19:32:50.831Z"
   },
   {
    "duration": 64,
    "start_time": "2022-01-25T19:41:29.293Z"
   },
   {
    "duration": 664,
    "start_time": "2022-01-25T19:48:13.516Z"
   },
   {
    "duration": 13,
    "start_time": "2022-01-25T19:48:14.182Z"
   },
   {
    "duration": 6,
    "start_time": "2022-01-25T19:48:14.197Z"
   },
   {
    "duration": 71,
    "start_time": "2022-01-25T19:48:14.205Z"
   },
   {
    "duration": 714,
    "start_time": "2022-01-25T19:48:14.278Z"
   },
   {
    "duration": 11,
    "start_time": "2022-01-25T19:48:14.994Z"
   },
   {
    "duration": 610,
    "start_time": "2022-01-25T19:48:43.655Z"
   },
   {
    "duration": 14,
    "start_time": "2022-01-25T19:48:44.266Z"
   },
   {
    "duration": 7,
    "start_time": "2022-01-25T19:48:44.282Z"
   },
   {
    "duration": 69,
    "start_time": "2022-01-25T19:48:44.291Z"
   },
   {
    "duration": 695,
    "start_time": "2022-01-25T19:48:44.361Z"
   },
   {
    "duration": 10,
    "start_time": "2022-01-25T19:48:45.059Z"
   },
   {
    "duration": 55,
    "start_time": "2022-01-25T19:51:33.934Z"
   },
   {
    "duration": 61,
    "start_time": "2022-01-25T19:51:50.751Z"
   },
   {
    "duration": 234,
    "start_time": "2022-01-25T19:52:15.217Z"
   },
   {
    "duration": 9,
    "start_time": "2022-01-25T19:52:28.110Z"
   },
   {
    "duration": 8,
    "start_time": "2022-01-25T19:54:04.588Z"
   },
   {
    "duration": 9,
    "start_time": "2022-01-25T19:54:23.382Z"
   },
   {
    "duration": 66,
    "start_time": "2022-01-25T20:01:29.736Z"
   },
   {
    "duration": 61,
    "start_time": "2022-01-25T20:01:59.559Z"
   },
   {
    "duration": 662,
    "start_time": "2022-01-25T20:02:11.422Z"
   },
   {
    "duration": 14,
    "start_time": "2022-01-25T20:02:12.086Z"
   },
   {
    "duration": 6,
    "start_time": "2022-01-25T20:02:12.103Z"
   },
   {
    "duration": 70,
    "start_time": "2022-01-25T20:02:12.111Z"
   },
   {
    "duration": 702,
    "start_time": "2022-01-25T20:02:12.198Z"
   },
   {
    "duration": 11,
    "start_time": "2022-01-25T20:02:12.902Z"
   },
   {
    "duration": 9,
    "start_time": "2022-01-25T20:03:16.135Z"
   },
   {
    "duration": 18,
    "start_time": "2022-01-25T20:07:23.535Z"
   },
   {
    "duration": 15,
    "start_time": "2022-01-25T20:07:45.927Z"
   },
   {
    "duration": 15,
    "start_time": "2022-01-25T20:08:16.668Z"
   },
   {
    "duration": 791,
    "start_time": "2022-01-25T20:08:23.637Z"
   },
   {
    "duration": 13,
    "start_time": "2022-01-25T20:08:24.430Z"
   },
   {
    "duration": 14,
    "start_time": "2022-01-25T20:08:24.445Z"
   },
   {
    "duration": 97,
    "start_time": "2022-01-25T20:08:24.462Z"
   },
   {
    "duration": 706,
    "start_time": "2022-01-25T20:08:24.561Z"
   },
   {
    "duration": 11,
    "start_time": "2022-01-25T20:08:25.269Z"
   },
   {
    "duration": 4236,
    "start_time": "2022-01-25T20:12:02.463Z"
   },
   {
    "duration": 6,
    "start_time": "2022-01-25T20:12:59.831Z"
   },
   {
    "duration": 6,
    "start_time": "2022-01-25T20:14:21.385Z"
   },
   {
    "duration": 7,
    "start_time": "2022-01-25T20:18:05.630Z"
   },
   {
    "duration": 62,
    "start_time": "2022-01-25T20:31:01.265Z"
   },
   {
    "duration": 198,
    "start_time": "2022-01-25T20:31:11.415Z"
   },
   {
    "duration": 19,
    "start_time": "2022-01-25T20:31:42.731Z"
   },
   {
    "duration": 26,
    "start_time": "2022-01-25T20:31:54.518Z"
   },
   {
    "duration": 24,
    "start_time": "2022-01-25T20:32:16.502Z"
   },
   {
    "duration": 12,
    "start_time": "2022-01-25T20:35:57.770Z"
   },
   {
    "duration": 13,
    "start_time": "2022-01-25T21:07:01.597Z"
   },
   {
    "duration": 12,
    "start_time": "2022-01-25T21:08:10.026Z"
   },
   {
    "duration": 8,
    "start_time": "2022-01-25T21:09:21.777Z"
   },
   {
    "duration": 686,
    "start_time": "2022-01-25T21:10:26.605Z"
   },
   {
    "duration": 13,
    "start_time": "2022-01-25T21:10:27.293Z"
   },
   {
    "duration": 5,
    "start_time": "2022-01-25T21:10:27.308Z"
   },
   {
    "duration": 11,
    "start_time": "2022-01-25T21:10:27.315Z"
   },
   {
    "duration": 83,
    "start_time": "2022-01-25T21:10:27.328Z"
   },
   {
    "duration": 720,
    "start_time": "2022-01-25T21:10:27.413Z"
   },
   {
    "duration": 12,
    "start_time": "2022-01-25T21:10:28.135Z"
   },
   {
    "duration": 673,
    "start_time": "2022-01-25T21:48:05.481Z"
   },
   {
    "duration": 14,
    "start_time": "2022-01-25T21:48:06.156Z"
   },
   {
    "duration": 5,
    "start_time": "2022-01-25T21:48:06.172Z"
   },
   {
    "duration": 20,
    "start_time": "2022-01-25T21:48:06.179Z"
   },
   {
    "duration": 65,
    "start_time": "2022-01-25T21:48:06.201Z"
   },
   {
    "duration": 723,
    "start_time": "2022-01-25T21:48:06.268Z"
   },
   {
    "duration": 12,
    "start_time": "2022-01-25T21:48:06.993Z"
   },
   {
    "duration": 69,
    "start_time": "2022-01-25T21:50:14.794Z"
   },
   {
    "duration": 65,
    "start_time": "2022-01-25T21:50:46.160Z"
   },
   {
    "duration": 6,
    "start_time": "2022-01-25T21:55:14.829Z"
   },
   {
    "duration": 644,
    "start_time": "2022-01-25T21:56:32.126Z"
   },
   {
    "duration": 14,
    "start_time": "2022-01-25T21:56:32.771Z"
   },
   {
    "duration": 5,
    "start_time": "2022-01-25T21:56:32.787Z"
   },
   {
    "duration": 5,
    "start_time": "2022-01-25T21:56:32.794Z"
   },
   {
    "duration": 70,
    "start_time": "2022-01-25T21:56:32.801Z"
   },
   {
    "duration": 689,
    "start_time": "2022-01-25T21:56:32.873Z"
   },
   {
    "duration": 11,
    "start_time": "2022-01-25T21:56:33.564Z"
   },
   {
    "duration": 6,
    "start_time": "2022-01-25T22:22:27.645Z"
   },
   {
    "duration": 8998,
    "start_time": "2022-01-25T22:25:50.004Z"
   },
   {
    "duration": 590,
    "start_time": "2022-01-26T08:36:11.247Z"
   },
   {
    "duration": 1446,
    "start_time": "2022-01-26T08:36:23.797Z"
   },
   {
    "duration": 15,
    "start_time": "2022-01-26T08:36:25.245Z"
   },
   {
    "duration": 5,
    "start_time": "2022-01-26T08:36:25.263Z"
   },
   {
    "duration": 6,
    "start_time": "2022-01-26T08:36:25.270Z"
   },
   {
    "duration": 76,
    "start_time": "2022-01-26T08:36:25.278Z"
   },
   {
    "duration": 9767,
    "start_time": "2022-01-26T08:36:25.356Z"
   },
   {
    "duration": 9,
    "start_time": "2022-01-26T08:36:35.124Z"
   },
   {
    "duration": 346,
    "start_time": "2022-01-26T18:35:28.658Z"
   },
   {
    "duration": 1629,
    "start_time": "2022-01-26T18:35:37.467Z"
   },
   {
    "duration": 17,
    "start_time": "2022-01-26T18:35:39.099Z"
   },
   {
    "duration": 6,
    "start_time": "2022-01-26T18:35:39.120Z"
   },
   {
    "duration": 22,
    "start_time": "2022-01-26T18:35:39.129Z"
   },
   {
    "duration": 65,
    "start_time": "2022-01-26T18:35:39.154Z"
   },
   {
    "duration": 14287,
    "start_time": "2022-01-26T18:35:39.221Z"
   },
   {
    "duration": 12,
    "start_time": "2022-01-26T18:35:53.511Z"
   },
   {
    "duration": 1985,
    "start_time": "2022-01-26T18:47:09.377Z"
   },
   {
    "duration": 1061,
    "start_time": "2022-01-26T18:47:27.474Z"
   },
   {
    "duration": 18,
    "start_time": "2022-01-26T18:47:28.538Z"
   },
   {
    "duration": 7,
    "start_time": "2022-01-26T18:47:28.558Z"
   },
   {
    "duration": 8,
    "start_time": "2022-01-26T18:47:28.568Z"
   },
   {
    "duration": 80,
    "start_time": "2022-01-26T18:47:28.579Z"
   },
   {
    "duration": 8,
    "start_time": "2022-01-26T18:47:28.661Z"
   },
   {
    "duration": 14,
    "start_time": "2022-01-26T18:47:28.672Z"
   },
   {
    "duration": 10,
    "start_time": "2022-01-26T18:50:35.885Z"
   },
   {
    "duration": 11,
    "start_time": "2022-01-26T18:50:47.603Z"
   },
   {
    "duration": 11,
    "start_time": "2022-01-26T18:53:07.127Z"
   },
   {
    "duration": 392,
    "start_time": "2022-01-26T18:54:02.727Z"
   },
   {
    "duration": 6697,
    "start_time": "2022-01-26T19:03:21.702Z"
   },
   {
    "duration": 4674,
    "start_time": "2022-01-26T19:04:56.289Z"
   },
   {
    "duration": 997,
    "start_time": "2022-01-26T19:05:37.829Z"
   },
   {
    "duration": 24,
    "start_time": "2022-01-26T19:05:38.828Z"
   },
   {
    "duration": 8,
    "start_time": "2022-01-26T19:05:38.855Z"
   },
   {
    "duration": 7,
    "start_time": "2022-01-26T19:05:38.866Z"
   },
   {
    "duration": 98,
    "start_time": "2022-01-26T19:05:38.876Z"
   },
   {
    "duration": 6125,
    "start_time": "2022-01-26T19:05:38.977Z"
   },
   {
    "duration": -893,
    "start_time": "2022-01-26T19:05:45.998Z"
   },
   {
    "duration": 5034,
    "start_time": "2022-01-26T19:07:10.307Z"
   },
   {
    "duration": 4613,
    "start_time": "2022-01-26T19:09:03.319Z"
   },
   {
    "duration": 4346,
    "start_time": "2022-01-26T19:09:28.275Z"
   },
   {
    "duration": 4781,
    "start_time": "2022-01-26T19:12:59.599Z"
   },
   {
    "duration": 4789,
    "start_time": "2022-01-26T19:13:26.555Z"
   },
   {
    "duration": 4742,
    "start_time": "2022-01-26T19:16:23.134Z"
   },
   {
    "duration": 15,
    "start_time": "2022-01-26T19:17:10.824Z"
   },
   {
    "duration": 35,
    "start_time": "2022-01-26T19:17:27.226Z"
   },
   {
    "duration": 2756,
    "start_time": "2022-01-26T19:18:37.822Z"
   },
   {
    "duration": 3598,
    "start_time": "2022-01-26T19:19:34.412Z"
   },
   {
    "duration": 2160,
    "start_time": "2022-01-26T19:19:40.876Z"
   },
   {
    "duration": 2303,
    "start_time": "2022-01-26T19:20:14.096Z"
   },
   {
    "duration": 2537,
    "start_time": "2022-01-26T19:20:19.420Z"
   },
   {
    "duration": 16,
    "start_time": "2022-01-26T19:48:05.891Z"
   },
   {
    "duration": 2115,
    "start_time": "2022-01-26T20:09:41.386Z"
   },
   {
    "duration": 5,
    "start_time": "2022-01-26T20:12:19.325Z"
   },
   {
    "duration": 13,
    "start_time": "2022-01-26T20:13:07.672Z"
   },
   {
    "duration": 296,
    "start_time": "2022-01-26T20:17:11.505Z"
   },
   {
    "duration": 17,
    "start_time": "2022-01-26T20:18:16.395Z"
   },
   {
    "duration": 12,
    "start_time": "2022-01-26T20:20:09.788Z"
   },
   {
    "duration": 103,
    "start_time": "2022-01-26T20:53:34.757Z"
   },
   {
    "duration": 321,
    "start_time": "2022-01-26T20:53:57.984Z"
   },
   {
    "duration": 276,
    "start_time": "2022-01-26T21:01:18.423Z"
   },
   {
    "duration": 31,
    "start_time": "2022-01-26T21:02:56.484Z"
   },
   {
    "duration": 36,
    "start_time": "2022-01-26T21:07:52.934Z"
   },
   {
    "duration": 34,
    "start_time": "2022-01-26T21:08:13.418Z"
   },
   {
    "duration": 40,
    "start_time": "2022-01-26T21:08:28.938Z"
   },
   {
    "duration": 34,
    "start_time": "2022-01-26T21:11:07.542Z"
   },
   {
    "duration": 32,
    "start_time": "2022-01-26T21:44:37.725Z"
   },
   {
    "duration": 32,
    "start_time": "2022-01-26T21:45:09.723Z"
   },
   {
    "duration": 17,
    "start_time": "2022-01-26T21:46:28.803Z"
   },
   {
    "duration": 31,
    "start_time": "2022-01-26T21:47:02.882Z"
   },
   {
    "duration": 322,
    "start_time": "2022-01-26T21:50:22.463Z"
   },
   {
    "duration": 21,
    "start_time": "2022-01-26T21:51:06.743Z"
   },
   {
    "duration": 29,
    "start_time": "2022-01-26T21:51:21.134Z"
   },
   {
    "duration": 1207,
    "start_time": "2022-01-26T21:51:40.943Z"
   },
   {
    "duration": 24,
    "start_time": "2022-01-26T21:51:42.153Z"
   },
   {
    "duration": 9,
    "start_time": "2022-01-26T21:51:42.181Z"
   },
   {
    "duration": 8,
    "start_time": "2022-01-26T21:51:42.194Z"
   },
   {
    "duration": 101,
    "start_time": "2022-01-26T21:51:42.205Z"
   },
   {
    "duration": 3367,
    "start_time": "2022-01-26T21:51:42.309Z"
   },
   {
    "duration": 38,
    "start_time": "2022-01-26T21:51:45.679Z"
   },
   {
    "duration": 51,
    "start_time": "2022-01-26T21:51:45.721Z"
   },
   {
    "duration": 9,
    "start_time": "2022-01-26T21:52:27.324Z"
   },
   {
    "duration": 1185,
    "start_time": "2022-01-26T21:52:38.207Z"
   },
   {
    "duration": 22,
    "start_time": "2022-01-26T21:52:39.396Z"
   },
   {
    "duration": 30,
    "start_time": "2022-01-26T21:52:39.422Z"
   },
   {
    "duration": 10,
    "start_time": "2022-01-26T21:52:39.456Z"
   },
   {
    "duration": 96,
    "start_time": "2022-01-26T21:52:39.469Z"
   },
   {
    "duration": 3426,
    "start_time": "2022-01-26T21:52:39.568Z"
   },
   {
    "duration": 63,
    "start_time": "2022-01-26T21:52:42.998Z"
   },
   {
    "duration": 12,
    "start_time": "2022-01-26T21:52:43.065Z"
   },
   {
    "duration": 12,
    "start_time": "2022-01-26T21:58:56.090Z"
   },
   {
    "duration": 15,
    "start_time": "2022-01-26T22:03:45.833Z"
   },
   {
    "duration": 12,
    "start_time": "2022-01-26T22:04:16.736Z"
   },
   {
    "duration": 91,
    "start_time": "2022-01-26T22:08:28.018Z"
   },
   {
    "duration": 11,
    "start_time": "2022-01-26T22:08:31.749Z"
   },
   {
    "duration": 14,
    "start_time": "2022-01-26T22:08:48.977Z"
   },
   {
    "duration": 1265,
    "start_time": "2022-01-26T22:09:09.881Z"
   },
   {
    "duration": 19,
    "start_time": "2022-01-26T22:09:11.150Z"
   },
   {
    "duration": 8,
    "start_time": "2022-01-26T22:09:11.173Z"
   },
   {
    "duration": 33,
    "start_time": "2022-01-26T22:09:11.185Z"
   },
   {
    "duration": 87,
    "start_time": "2022-01-26T22:09:11.221Z"
   },
   {
    "duration": 3238,
    "start_time": "2022-01-26T22:09:11.311Z"
   },
   {
    "duration": 35,
    "start_time": "2022-01-26T22:09:14.552Z"
   },
   {
    "duration": 13,
    "start_time": "2022-01-26T22:09:14.589Z"
   },
   {
    "duration": 1292,
    "start_time": "2022-01-27T18:36:23.429Z"
   },
   {
    "duration": 12,
    "start_time": "2022-01-27T18:36:24.723Z"
   },
   {
    "duration": 5,
    "start_time": "2022-01-27T18:36:24.737Z"
   },
   {
    "duration": 10,
    "start_time": "2022-01-27T18:36:24.743Z"
   },
   {
    "duration": 59,
    "start_time": "2022-01-27T18:36:24.754Z"
   },
   {
    "duration": 2358,
    "start_time": "2022-01-27T18:36:24.815Z"
   },
   {
    "duration": 38,
    "start_time": "2022-01-27T18:36:27.174Z"
   },
   {
    "duration": 10,
    "start_time": "2022-01-27T18:36:27.214Z"
   },
   {
    "duration": 84,
    "start_time": "2022-01-27T18:36:27.226Z"
   },
   {
    "duration": 8,
    "start_time": "2022-01-27T18:56:03.788Z"
   },
   {
    "duration": 6,
    "start_time": "2022-01-27T18:57:20.885Z"
   },
   {
    "duration": 9,
    "start_time": "2022-01-27T18:57:31.188Z"
   },
   {
    "duration": 247,
    "start_time": "2022-01-27T18:58:54.301Z"
   },
   {
    "duration": 194,
    "start_time": "2022-01-27T18:59:04.404Z"
   },
   {
    "duration": 365,
    "start_time": "2022-01-27T18:59:24.736Z"
   },
   {
    "duration": 7,
    "start_time": "2022-01-27T19:00:30.930Z"
   },
   {
    "duration": 7915,
    "start_time": "2022-01-27T19:00:43.487Z"
   },
   {
    "duration": 775,
    "start_time": "2022-01-27T19:02:09.111Z"
   },
   {
    "duration": 12,
    "start_time": "2022-01-27T19:02:09.887Z"
   },
   {
    "duration": 4,
    "start_time": "2022-01-27T19:02:09.901Z"
   },
   {
    "duration": 5,
    "start_time": "2022-01-27T19:02:09.907Z"
   },
   {
    "duration": 41,
    "start_time": "2022-01-27T19:02:09.914Z"
   },
   {
    "duration": 2321,
    "start_time": "2022-01-27T19:02:09.957Z"
   },
   {
    "duration": 32,
    "start_time": "2022-01-27T19:02:12.280Z"
   },
   {
    "duration": 8506,
    "start_time": "2022-01-27T19:02:12.314Z"
   },
   {
    "duration": 8,
    "start_time": "2022-01-27T19:03:33.962Z"
   },
   {
    "duration": 63,
    "start_time": "2022-01-27T19:04:04.110Z"
   },
   {
    "duration": 7,
    "start_time": "2022-01-27T19:04:12.880Z"
   },
   {
    "duration": 7,
    "start_time": "2022-01-27T19:04:19.501Z"
   },
   {
    "duration": 202,
    "start_time": "2022-01-27T19:08:33.913Z"
   },
   {
    "duration": 7,
    "start_time": "2022-01-27T19:08:42.039Z"
   },
   {
    "duration": 1668,
    "start_time": "2022-01-29T13:10:14.180Z"
   },
   {
    "duration": 16,
    "start_time": "2022-01-29T13:10:15.851Z"
   },
   {
    "duration": 6,
    "start_time": "2022-01-29T13:10:15.870Z"
   },
   {
    "duration": 7,
    "start_time": "2022-01-29T13:10:15.879Z"
   },
   {
    "duration": 86,
    "start_time": "2022-01-29T13:10:15.889Z"
   },
   {
    "duration": 3136,
    "start_time": "2022-01-29T13:10:15.978Z"
   },
   {
    "duration": 35,
    "start_time": "2022-01-29T13:10:19.117Z"
   },
   {
    "duration": 783,
    "start_time": "2022-01-29T13:10:19.155Z"
   },
   {
    "duration": 13881,
    "start_time": "2022-01-29T14:15:30.247Z"
   },
   {
    "duration": 13,
    "start_time": "2022-01-29T14:23:03.509Z"
   },
   {
    "duration": 12,
    "start_time": "2022-01-29T17:01:19.124Z"
   },
   {
    "duration": 12,
    "start_time": "2022-01-29T17:03:34.557Z"
   },
   {
    "duration": 10,
    "start_time": "2022-01-29T17:03:54.483Z"
   },
   {
    "duration": 14,
    "start_time": "2022-01-29T17:06:14.848Z"
   },
   {
    "duration": 14,
    "start_time": "2022-01-29T17:06:43.737Z"
   },
   {
    "duration": 17,
    "start_time": "2022-01-29T17:06:57.958Z"
   },
   {
    "duration": 9,
    "start_time": "2022-01-29T17:07:03.439Z"
   },
   {
    "duration": 12,
    "start_time": "2022-01-29T17:07:08.821Z"
   },
   {
    "duration": 34,
    "start_time": "2022-01-29T17:10:04.252Z"
   },
   {
    "duration": 32,
    "start_time": "2022-01-29T17:10:10.624Z"
   },
   {
    "duration": 15,
    "start_time": "2022-01-29T17:13:24.314Z"
   },
   {
    "duration": 11,
    "start_time": "2022-01-29T17:18:57.889Z"
   },
   {
    "duration": 51,
    "start_time": "2022-01-29T17:20:00.836Z"
   },
   {
    "duration": 986,
    "start_time": "2022-01-29T17:20:23.582Z"
   },
   {
    "duration": 18,
    "start_time": "2022-01-29T17:20:24.571Z"
   },
   {
    "duration": 6,
    "start_time": "2022-01-29T17:20:24.592Z"
   },
   {
    "duration": 24,
    "start_time": "2022-01-29T17:20:24.600Z"
   },
   {
    "duration": 63,
    "start_time": "2022-01-29T17:20:24.626Z"
   },
   {
    "duration": 3028,
    "start_time": "2022-01-29T17:20:24.691Z"
   },
   {
    "duration": 34,
    "start_time": "2022-01-29T17:20:27.723Z"
   },
   {
    "duration": 30,
    "start_time": "2022-01-29T17:20:27.760Z"
   },
   {
    "duration": 72,
    "start_time": "2022-01-29T17:20:27.793Z"
   },
   {
    "duration": 12,
    "start_time": "2022-01-29T17:20:27.868Z"
   },
   {
    "duration": 41,
    "start_time": "2022-01-29T17:20:27.882Z"
   },
   {
    "duration": 9,
    "start_time": "2022-01-29T17:21:53.221Z"
   },
   {
    "duration": 12,
    "start_time": "2022-01-29T17:22:01.988Z"
   },
   {
    "duration": 38,
    "start_time": "2022-01-29T17:23:49.731Z"
   },
   {
    "duration": 58,
    "start_time": "2022-01-29T17:23:57.529Z"
   },
   {
    "duration": 13,
    "start_time": "2022-01-29T17:38:40.008Z"
   },
   {
    "duration": 14,
    "start_time": "2022-01-29T17:39:37.690Z"
   },
   {
    "duration": 5,
    "start_time": "2022-01-29T17:49:38.707Z"
   },
   {
    "duration": 14,
    "start_time": "2022-01-29T17:49:46.319Z"
   },
   {
    "duration": 1088,
    "start_time": "2022-01-29T17:56:50.193Z"
   },
   {
    "duration": 285,
    "start_time": "2022-01-29T17:57:02.281Z"
   },
   {
    "duration": 16,
    "start_time": "2022-01-29T17:58:38.791Z"
   },
   {
    "duration": 6,
    "start_time": "2022-01-29T18:13:55.418Z"
   },
   {
    "duration": 7,
    "start_time": "2022-01-29T18:14:06.902Z"
   },
   {
    "duration": 14,
    "start_time": "2022-01-29T18:15:24.114Z"
   },
   {
    "duration": 5,
    "start_time": "2022-01-29T18:18:49.198Z"
   },
   {
    "duration": 227,
    "start_time": "2022-01-29T18:22:01.311Z"
   },
   {
    "duration": 104,
    "start_time": "2022-01-29T18:22:06.867Z"
   },
   {
    "duration": 6,
    "start_time": "2022-01-29T18:22:12.831Z"
   },
   {
    "duration": 322,
    "start_time": "2022-01-29T18:26:16.283Z"
   },
   {
    "duration": 301,
    "start_time": "2022-01-29T18:26:30.363Z"
   },
   {
    "duration": 19,
    "start_time": "2022-01-29T18:26:37.312Z"
   },
   {
    "duration": 26,
    "start_time": "2022-01-29T18:29:21.681Z"
   },
   {
    "duration": 34,
    "start_time": "2022-01-29T18:29:30.794Z"
   },
   {
    "duration": 36,
    "start_time": "2022-01-29T18:30:52.749Z"
   },
   {
    "duration": 20,
    "start_time": "2022-01-29T18:30:58.502Z"
   },
   {
    "duration": 20,
    "start_time": "2022-01-29T18:31:19.967Z"
   },
   {
    "duration": 79,
    "start_time": "2022-01-29T18:32:18.733Z"
   },
   {
    "duration": 68,
    "start_time": "2022-01-29T18:32:40.485Z"
   },
   {
    "duration": 84,
    "start_time": "2022-01-29T18:33:25.401Z"
   },
   {
    "duration": 57,
    "start_time": "2022-01-29T18:33:59.974Z"
   },
   {
    "duration": 45,
    "start_time": "2022-01-29T18:34:26.032Z"
   },
   {
    "duration": 12,
    "start_time": "2022-01-29T18:35:29.304Z"
   },
   {
    "duration": 9,
    "start_time": "2022-01-29T19:21:04.884Z"
   },
   {
    "duration": 3,
    "start_time": "2022-01-29T19:36:28.615Z"
   },
   {
    "duration": 43,
    "start_time": "2022-01-29T19:43:50.298Z"
   },
   {
    "duration": 8744,
    "start_time": "2022-01-29T19:53:51.574Z"
   },
   {
    "duration": 42,
    "start_time": "2022-01-29T19:54:38.152Z"
   },
   {
    "duration": 38,
    "start_time": "2022-01-29T19:55:44.404Z"
   },
   {
    "duration": 22,
    "start_time": "2022-01-29T19:56:27.147Z"
   },
   {
    "duration": 24,
    "start_time": "2022-01-29T19:58:40.586Z"
   },
   {
    "duration": 26,
    "start_time": "2022-01-29T19:58:55.624Z"
   },
   {
    "duration": 44,
    "start_time": "2022-01-29T20:07:25.514Z"
   },
   {
    "duration": 1042,
    "start_time": "2022-01-29T20:07:39.678Z"
   },
   {
    "duration": 19,
    "start_time": "2022-01-29T20:07:40.724Z"
   },
   {
    "duration": 8,
    "start_time": "2022-01-29T20:07:40.748Z"
   },
   {
    "duration": 9,
    "start_time": "2022-01-29T20:07:40.759Z"
   },
   {
    "duration": 95,
    "start_time": "2022-01-29T20:07:40.770Z"
   },
   {
    "duration": 3556,
    "start_time": "2022-01-29T20:07:40.868Z"
   },
   {
    "duration": 34,
    "start_time": "2022-01-29T20:07:44.426Z"
   },
   {
    "duration": 63,
    "start_time": "2022-01-29T20:07:44.464Z"
   },
   {
    "duration": 45,
    "start_time": "2022-01-29T20:07:44.530Z"
   },
   {
    "duration": 52,
    "start_time": "2022-01-29T20:07:44.577Z"
   },
   {
    "duration": 13,
    "start_time": "2022-01-29T20:07:44.631Z"
   },
   {
    "duration": 13,
    "start_time": "2022-01-29T20:07:44.647Z"
   },
   {
    "duration": 20,
    "start_time": "2022-01-29T20:07:44.662Z"
   },
   {
    "duration": 24,
    "start_time": "2022-01-29T20:08:01.849Z"
   },
   {
    "duration": 19,
    "start_time": "2022-01-29T20:10:00.696Z"
   },
   {
    "duration": 20,
    "start_time": "2022-01-29T20:10:37.023Z"
   },
   {
    "duration": 2426,
    "start_time": "2022-01-29T20:11:56.282Z"
   },
   {
    "duration": 453,
    "start_time": "2022-01-29T20:13:13.813Z"
   },
   {
    "duration": 24,
    "start_time": "2022-01-29T20:13:23.777Z"
   },
   {
    "duration": 55,
    "start_time": "2022-01-29T20:13:37.990Z"
   },
   {
    "duration": 11,
    "start_time": "2022-01-29T20:14:55.498Z"
   },
   {
    "duration": 1131,
    "start_time": "2022-01-29T20:21:58.326Z"
   },
   {
    "duration": 17,
    "start_time": "2022-01-29T20:21:59.459Z"
   },
   {
    "duration": 7,
    "start_time": "2022-01-29T20:21:59.479Z"
   },
   {
    "duration": 39,
    "start_time": "2022-01-29T20:21:59.488Z"
   },
   {
    "duration": 69,
    "start_time": "2022-01-29T20:21:59.531Z"
   },
   {
    "duration": 3694,
    "start_time": "2022-01-29T20:21:59.603Z"
   },
   {
    "duration": 54,
    "start_time": "2022-01-29T20:22:03.300Z"
   },
   {
    "duration": 44,
    "start_time": "2022-01-29T20:22:03.357Z"
   },
   {
    "duration": 67,
    "start_time": "2022-01-29T20:22:03.406Z"
   },
   {
    "duration": 77,
    "start_time": "2022-01-29T20:22:03.476Z"
   },
   {
    "duration": 22,
    "start_time": "2022-01-29T20:22:03.555Z"
   },
   {
    "duration": 13,
    "start_time": "2022-01-29T20:22:03.580Z"
   },
   {
    "duration": 37,
    "start_time": "2022-01-29T20:22:03.596Z"
   },
   {
    "duration": 12,
    "start_time": "2022-01-29T20:22:03.635Z"
   },
   {
    "duration": 1997,
    "start_time": "2022-01-29T21:19:06.625Z"
   },
   {
    "duration": 17,
    "start_time": "2022-01-29T21:19:08.625Z"
   },
   {
    "duration": 7,
    "start_time": "2022-01-29T21:19:08.645Z"
   },
   {
    "duration": 8,
    "start_time": "2022-01-29T21:19:08.654Z"
   },
   {
    "duration": 98,
    "start_time": "2022-01-29T21:19:08.664Z"
   },
   {
    "duration": 3406,
    "start_time": "2022-01-29T21:19:08.765Z"
   },
   {
    "duration": 51,
    "start_time": "2022-01-29T21:19:12.174Z"
   },
   {
    "duration": 39,
    "start_time": "2022-01-29T21:19:12.227Z"
   },
   {
    "duration": 70,
    "start_time": "2022-01-29T21:19:12.269Z"
   },
   {
    "duration": 54,
    "start_time": "2022-01-29T21:19:12.342Z"
   },
   {
    "duration": 13,
    "start_time": "2022-01-29T21:19:12.422Z"
   },
   {
    "duration": 12,
    "start_time": "2022-01-29T21:19:12.437Z"
   },
   {
    "duration": 11,
    "start_time": "2022-01-29T21:19:12.452Z"
   },
   {
    "duration": 11,
    "start_time": "2022-01-29T21:19:12.466Z"
   },
   {
    "duration": 44,
    "start_time": "2022-01-29T21:19:46.205Z"
   },
   {
    "duration": 42,
    "start_time": "2022-01-29T21:19:59.560Z"
   },
   {
    "duration": 31,
    "start_time": "2022-01-29T21:20:06.187Z"
   },
   {
    "duration": 1011,
    "start_time": "2022-01-29T21:20:12.723Z"
   },
   {
    "duration": 17,
    "start_time": "2022-01-29T21:20:13.737Z"
   },
   {
    "duration": 7,
    "start_time": "2022-01-29T21:20:13.757Z"
   },
   {
    "duration": 7,
    "start_time": "2022-01-29T21:20:13.767Z"
   },
   {
    "duration": 95,
    "start_time": "2022-01-29T21:20:13.777Z"
   },
   {
    "duration": 3460,
    "start_time": "2022-01-29T21:20:13.874Z"
   },
   {
    "duration": 36,
    "start_time": "2022-01-29T21:20:17.338Z"
   },
   {
    "duration": 63,
    "start_time": "2022-01-29T21:20:17.377Z"
   },
   {
    "duration": 43,
    "start_time": "2022-01-29T21:20:17.443Z"
   },
   {
    "duration": 74,
    "start_time": "2022-01-29T21:20:17.489Z"
   },
   {
    "duration": 13,
    "start_time": "2022-01-29T21:20:17.566Z"
   },
   {
    "duration": 42,
    "start_time": "2022-01-29T21:20:17.581Z"
   },
   {
    "duration": 11,
    "start_time": "2022-01-29T21:20:17.626Z"
   },
   {
    "duration": 13,
    "start_time": "2022-01-29T21:20:17.640Z"
   },
   {
    "duration": 3270,
    "start_time": "2022-02-07T16:23:40.573Z"
   },
   {
    "duration": -125,
    "start_time": "2022-02-07T16:23:43.971Z"
   },
   {
    "duration": -127,
    "start_time": "2022-02-07T16:23:43.974Z"
   },
   {
    "duration": -126,
    "start_time": "2022-02-07T16:23:43.975Z"
   },
   {
    "duration": -127,
    "start_time": "2022-02-07T16:23:43.977Z"
   },
   {
    "duration": -127,
    "start_time": "2022-02-07T16:23:43.978Z"
   },
   {
    "duration": -127,
    "start_time": "2022-02-07T16:23:43.980Z"
   },
   {
    "duration": -128,
    "start_time": "2022-02-07T16:23:43.982Z"
   },
   {
    "duration": -128,
    "start_time": "2022-02-07T16:23:43.983Z"
   },
   {
    "duration": -128,
    "start_time": "2022-02-07T16:23:43.985Z"
   },
   {
    "duration": -129,
    "start_time": "2022-02-07T16:23:43.987Z"
   },
   {
    "duration": -129,
    "start_time": "2022-02-07T16:23:43.988Z"
   },
   {
    "duration": -129,
    "start_time": "2022-02-07T16:23:43.990Z"
   },
   {
    "duration": -129,
    "start_time": "2022-02-07T16:23:43.991Z"
   },
   {
    "duration": 115,
    "start_time": "2022-02-07T16:30:30.802Z"
   },
   {
    "duration": 871,
    "start_time": "2022-02-07T16:33:25.751Z"
   },
   {
    "duration": 7,
    "start_time": "2022-02-07T16:33:26.625Z"
   },
   {
    "duration": 19,
    "start_time": "2022-02-07T16:33:26.635Z"
   },
   {
    "duration": 6,
    "start_time": "2022-02-07T16:33:26.656Z"
   },
   {
    "duration": 6,
    "start_time": "2022-02-07T16:33:26.665Z"
   },
   {
    "duration": 103,
    "start_time": "2022-02-07T16:33:26.674Z"
   },
   {
    "duration": 3172,
    "start_time": "2022-02-07T16:33:26.779Z"
   },
   {
    "duration": 37,
    "start_time": "2022-02-07T16:33:29.955Z"
   },
   {
    "duration": 61,
    "start_time": "2022-02-07T16:33:29.994Z"
   },
   {
    "duration": 84,
    "start_time": "2022-02-07T16:33:30.059Z"
   },
   {
    "duration": 53,
    "start_time": "2022-02-07T16:33:30.146Z"
   },
   {
    "duration": 43,
    "start_time": "2022-02-07T16:33:30.202Z"
   },
   {
    "duration": 19,
    "start_time": "2022-02-07T16:33:30.248Z"
   },
   {
    "duration": 31,
    "start_time": "2022-02-07T16:33:30.269Z"
   },
   {
    "duration": 25,
    "start_time": "2022-02-07T16:33:30.302Z"
   },
   {
    "duration": 1413,
    "start_time": "2022-02-08T13:30:46.473Z"
   },
   {
    "duration": 149,
    "start_time": "2022-02-08T13:42:42.275Z"
   },
   {
    "duration": 112,
    "start_time": "2022-02-08T14:15:36.940Z"
   },
   {
    "duration": 35,
    "start_time": "2022-02-08T14:32:08.399Z"
   },
   {
    "duration": 14,
    "start_time": "2022-02-08T14:32:22.486Z"
   },
   {
    "duration": 4,
    "start_time": "2022-02-08T14:32:41.042Z"
   },
   {
    "duration": 42,
    "start_time": "2022-02-08T14:33:31.385Z"
   },
   {
    "duration": 35,
    "start_time": "2022-02-08T16:17:55.895Z"
   },
   {
    "duration": 5,
    "start_time": "2022-02-08T16:18:08.920Z"
   },
   {
    "duration": 68,
    "start_time": "2022-02-08T16:18:08.927Z"
   },
   {
    "duration": 47,
    "start_time": "2022-02-08T16:18:08.999Z"
   },
   {
    "duration": 18,
    "start_time": "2022-02-08T16:18:09.049Z"
   },
   {
    "duration": 6,
    "start_time": "2022-02-08T16:18:09.069Z"
   },
   {
    "duration": 9,
    "start_time": "2022-02-08T16:18:09.078Z"
   },
   {
    "duration": 82,
    "start_time": "2022-02-08T16:18:10.050Z"
   },
   {
    "duration": 3325,
    "start_time": "2022-02-08T16:18:10.135Z"
   },
   {
    "duration": 34,
    "start_time": "2022-02-08T16:18:13.463Z"
   },
   {
    "duration": 58,
    "start_time": "2022-02-08T16:18:13.501Z"
   },
   {
    "duration": 76,
    "start_time": "2022-02-08T16:18:13.561Z"
   },
   {
    "duration": 47,
    "start_time": "2022-02-08T16:18:13.640Z"
   },
   {
    "duration": 16,
    "start_time": "2022-02-08T16:18:13.690Z"
   },
   {
    "duration": 12,
    "start_time": "2022-02-08T16:18:13.732Z"
   },
   {
    "duration": 13,
    "start_time": "2022-02-08T16:18:13.747Z"
   },
   {
    "duration": 16,
    "start_time": "2022-02-08T16:18:13.763Z"
   },
   {
    "duration": 33,
    "start_time": "2022-02-08T16:36:13.878Z"
   },
   {
    "duration": 34,
    "start_time": "2022-02-08T16:37:53.060Z"
   },
   {
    "duration": 42,
    "start_time": "2022-02-08T16:38:11.807Z"
   },
   {
    "duration": 30,
    "start_time": "2022-02-08T16:40:09.957Z"
   },
   {
    "duration": 40,
    "start_time": "2022-02-08T16:40:32.331Z"
   },
   {
    "duration": 83,
    "start_time": "2022-02-08T16:40:32.374Z"
   },
   {
    "duration": 42,
    "start_time": "2022-02-08T16:40:32.460Z"
   },
   {
    "duration": 38,
    "start_time": "2022-02-08T16:40:32.505Z"
   },
   {
    "duration": 9,
    "start_time": "2022-02-08T16:40:32.545Z"
   },
   {
    "duration": 26,
    "start_time": "2022-02-08T16:40:32.556Z"
   },
   {
    "duration": 81,
    "start_time": "2022-02-08T16:40:32.584Z"
   },
   {
    "duration": 3344,
    "start_time": "2022-02-08T16:40:32.667Z"
   },
   {
    "duration": 42,
    "start_time": "2022-02-08T16:40:36.015Z"
   },
   {
    "duration": 31,
    "start_time": "2022-02-08T16:40:36.059Z"
   },
   {
    "duration": 68,
    "start_time": "2022-02-08T16:40:36.093Z"
   },
   {
    "duration": 70,
    "start_time": "2022-02-08T16:40:36.164Z"
   },
   {
    "duration": 35,
    "start_time": "2022-02-08T16:40:36.236Z"
   },
   {
    "duration": 10,
    "start_time": "2022-02-08T16:40:36.273Z"
   },
   {
    "duration": 48,
    "start_time": "2022-02-08T16:40:36.285Z"
   },
   {
    "duration": 11,
    "start_time": "2022-02-08T16:40:36.335Z"
   },
   {
    "duration": 36,
    "start_time": "2022-02-08T16:45:52.676Z"
   },
   {
    "duration": 37,
    "start_time": "2022-02-08T16:46:09.938Z"
   },
   {
    "duration": 29,
    "start_time": "2022-02-08T16:47:07.601Z"
   },
   {
    "duration": 36,
    "start_time": "2022-02-08T16:48:01.204Z"
   },
   {
    "duration": 30,
    "start_time": "2022-02-08T16:48:22.988Z"
   },
   {
    "duration": 35,
    "start_time": "2022-02-08T16:56:58.336Z"
   },
   {
    "duration": 40,
    "start_time": "2022-02-08T16:57:08.280Z"
   },
   {
    "duration": 41,
    "start_time": "2022-02-08T16:59:52.715Z"
   },
   {
    "duration": 74,
    "start_time": "2022-02-08T17:00:12.495Z"
   },
   {
    "duration": 112,
    "start_time": "2022-02-08T17:06:17.083Z"
   },
   {
    "duration": 50,
    "start_time": "2022-02-08T17:06:26.246Z"
   },
   {
    "duration": 47,
    "start_time": "2022-02-08T17:17:22.580Z"
   },
   {
    "duration": 43,
    "start_time": "2022-02-08T17:17:47.756Z"
   },
   {
    "duration": 33,
    "start_time": "2022-02-08T17:18:22.631Z"
   },
   {
    "duration": 36,
    "start_time": "2022-02-08T17:18:40.401Z"
   },
   {
    "duration": 48,
    "start_time": "2022-02-08T17:18:52.499Z"
   },
   {
    "duration": 27,
    "start_time": "2022-02-08T17:25:51.853Z"
   },
   {
    "duration": 30,
    "start_time": "2022-02-08T17:26:13.202Z"
   },
   {
    "duration": 42,
    "start_time": "2022-02-08T17:27:41.673Z"
   },
   {
    "duration": 49,
    "start_time": "2022-02-08T17:28:23.103Z"
   },
   {
    "duration": 48,
    "start_time": "2022-02-08T17:28:48.824Z"
   },
   {
    "duration": 42,
    "start_time": "2022-02-08T17:29:02.198Z"
   },
   {
    "duration": 52,
    "start_time": "2022-02-08T17:29:43.560Z"
   },
   {
    "duration": 57,
    "start_time": "2022-02-08T17:29:43.615Z"
   },
   {
    "duration": 57,
    "start_time": "2022-02-08T17:29:43.675Z"
   },
   {
    "duration": 16,
    "start_time": "2022-02-08T17:29:43.736Z"
   },
   {
    "duration": 6,
    "start_time": "2022-02-08T17:29:43.755Z"
   },
   {
    "duration": 22,
    "start_time": "2022-02-08T17:29:43.763Z"
   },
   {
    "duration": 85,
    "start_time": "2022-02-08T17:29:43.788Z"
   },
   {
    "duration": 3333,
    "start_time": "2022-02-08T17:29:43.875Z"
   },
   {
    "duration": 38,
    "start_time": "2022-02-08T17:29:47.212Z"
   },
   {
    "duration": 44,
    "start_time": "2022-02-08T17:29:47.253Z"
   },
   {
    "duration": 68,
    "start_time": "2022-02-08T17:29:47.299Z"
   },
   {
    "duration": 73,
    "start_time": "2022-02-08T17:29:47.369Z"
   },
   {
    "duration": 29,
    "start_time": "2022-02-08T17:29:47.445Z"
   },
   {
    "duration": 29,
    "start_time": "2022-02-08T17:29:47.476Z"
   },
   {
    "duration": 11,
    "start_time": "2022-02-08T17:29:47.532Z"
   },
   {
    "duration": 13,
    "start_time": "2022-02-08T17:29:47.545Z"
   },
   {
    "duration": 12,
    "start_time": "2022-02-08T17:30:44.441Z"
   },
   {
    "duration": 12,
    "start_time": "2022-02-08T17:30:55.967Z"
   },
   {
    "duration": 11,
    "start_time": "2022-02-08T17:31:13.809Z"
   },
   {
    "duration": 14,
    "start_time": "2022-02-08T17:31:43.997Z"
   },
   {
    "duration": 52,
    "start_time": "2022-02-08T17:31:54.884Z"
   },
   {
    "duration": 65,
    "start_time": "2022-02-08T17:31:54.939Z"
   },
   {
    "duration": 51,
    "start_time": "2022-02-08T17:31:55.006Z"
   },
   {
    "duration": 18,
    "start_time": "2022-02-08T17:31:55.060Z"
   },
   {
    "duration": 10,
    "start_time": "2022-02-08T17:31:55.080Z"
   },
   {
    "duration": 46,
    "start_time": "2022-02-08T17:31:55.093Z"
   },
   {
    "duration": 68,
    "start_time": "2022-02-08T17:31:55.142Z"
   },
   {
    "duration": 3308,
    "start_time": "2022-02-08T17:31:55.213Z"
   },
   {
    "duration": 32,
    "start_time": "2022-02-08T17:31:58.524Z"
   },
   {
    "duration": 44,
    "start_time": "2022-02-08T17:31:58.558Z"
   },
   {
    "duration": 45,
    "start_time": "2022-02-08T17:31:58.632Z"
   },
   {
    "duration": 77,
    "start_time": "2022-02-08T17:31:58.680Z"
   },
   {
    "duration": 11,
    "start_time": "2022-02-08T17:31:58.759Z"
   },
   {
    "duration": 14,
    "start_time": "2022-02-08T17:31:58.772Z"
   },
   {
    "duration": 44,
    "start_time": "2022-02-08T17:31:58.788Z"
   },
   {
    "duration": 12,
    "start_time": "2022-02-08T17:31:58.835Z"
   },
   {
    "duration": 30,
    "start_time": "2022-02-08T17:32:07.482Z"
   },
   {
    "duration": 55,
    "start_time": "2022-02-08T17:32:41.011Z"
   },
   {
    "duration": 70,
    "start_time": "2022-02-08T17:32:41.069Z"
   },
   {
    "duration": 44,
    "start_time": "2022-02-08T17:32:41.142Z"
   },
   {
    "duration": 47,
    "start_time": "2022-02-08T17:32:41.189Z"
   },
   {
    "duration": 8,
    "start_time": "2022-02-08T17:32:41.238Z"
   },
   {
    "duration": 9,
    "start_time": "2022-02-08T17:32:41.248Z"
   },
   {
    "duration": 94,
    "start_time": "2022-02-08T17:32:41.259Z"
   },
   {
    "duration": 3397,
    "start_time": "2022-02-08T17:32:41.357Z"
   },
   {
    "duration": 27,
    "start_time": "2022-02-08T17:32:44.757Z"
   },
   {
    "duration": 67,
    "start_time": "2022-02-08T17:32:44.786Z"
   },
   {
    "duration": 44,
    "start_time": "2022-02-08T17:32:44.856Z"
   },
   {
    "duration": 73,
    "start_time": "2022-02-08T17:32:44.903Z"
   },
   {
    "duration": 63,
    "start_time": "2022-02-08T17:32:44.979Z"
   },
   {
    "duration": 14,
    "start_time": "2022-02-08T17:32:45.045Z"
   },
   {
    "duration": 13,
    "start_time": "2022-02-08T17:32:45.061Z"
   },
   {
    "duration": 16,
    "start_time": "2022-02-08T17:32:45.077Z"
   },
   {
    "duration": 56,
    "start_time": "2022-02-08T17:36:43.130Z"
   },
   {
    "duration": 84,
    "start_time": "2022-02-08T17:36:43.189Z"
   },
   {
    "duration": 63,
    "start_time": "2022-02-08T17:36:43.276Z"
   },
   {
    "duration": 20,
    "start_time": "2022-02-08T17:36:43.343Z"
   },
   {
    "duration": 7,
    "start_time": "2022-02-08T17:36:43.366Z"
   },
   {
    "duration": 11,
    "start_time": "2022-02-08T17:36:43.377Z"
   },
   {
    "duration": 108,
    "start_time": "2022-02-08T17:36:43.391Z"
   },
   {
    "duration": 4680,
    "start_time": "2022-02-08T17:36:43.501Z"
   },
   {
    "duration": 29,
    "start_time": "2022-02-08T17:36:48.185Z"
   },
   {
    "duration": 57,
    "start_time": "2022-02-08T17:36:48.217Z"
   },
   {
    "duration": 73,
    "start_time": "2022-02-08T17:36:48.276Z"
   },
   {
    "duration": 51,
    "start_time": "2022-02-08T17:36:48.351Z"
   },
   {
    "duration": 55,
    "start_time": "2022-02-08T17:36:48.405Z"
   },
   {
    "duration": 11,
    "start_time": "2022-02-08T17:36:48.463Z"
   },
   {
    "duration": 15,
    "start_time": "2022-02-08T17:36:48.477Z"
   },
   {
    "duration": 50,
    "start_time": "2022-02-08T17:36:48.494Z"
   },
   {
    "duration": 588,
    "start_time": "2022-12-14T08:48:07.124Z"
   },
   {
    "duration": 384,
    "start_time": "2022-12-14T08:48:09.379Z"
   },
   {
    "duration": 73,
    "start_time": "2022-12-14T08:48:12.531Z"
   },
   {
    "duration": 33,
    "start_time": "2022-12-14T08:49:50.113Z"
   }
  ],
  "kernelspec": {
   "display_name": "Python 3 (ipykernel)",
   "language": "python",
   "name": "python3"
  },
  "language_info": {
   "codemirror_mode": {
    "name": "ipython",
    "version": 3
   },
   "file_extension": ".py",
   "mimetype": "text/x-python",
   "name": "python",
   "nbconvert_exporter": "python",
   "pygments_lexer": "ipython3",
   "version": "3.9.5"
  },
  "toc": {
   "base_numbering": 1,
   "nav_menu": {},
   "number_sections": true,
   "sideBar": true,
   "skip_h1_title": true,
   "title_cell": "Table of Contents",
   "title_sidebar": "Contents",
   "toc_cell": false,
   "toc_position": {},
   "toc_section_display": true,
   "toc_window_display": false
  }
 },
 "nbformat": 4,
 "nbformat_minor": 2
}
