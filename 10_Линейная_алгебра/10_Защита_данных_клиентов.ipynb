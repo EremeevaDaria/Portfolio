{
 "cells": [
  {
   "cell_type": "markdown",
   "metadata": {
    "toc": true
   },
   "source": [
    "<h1>Содержание<span class=\"tocSkip\"></span></h1>\n",
    "<div class=\"toc\"><ul class=\"toc-item\"><li><span><a href=\"#Загрузка-данных\" data-toc-modified-id=\"Загрузка-данных-1\"><span class=\"toc-item-num\">1&nbsp;&nbsp;</span>Загрузка данных</a></span></li><li><span><a href=\"#Умножение-матриц\" data-toc-modified-id=\"Умножение-матриц-2\"><span class=\"toc-item-num\">2&nbsp;&nbsp;</span>Умножение матриц</a></span></li><li><span><a href=\"#Алгоритм-преобразования\" data-toc-modified-id=\"Алгоритм-преобразования-3\"><span class=\"toc-item-num\">3&nbsp;&nbsp;</span>Алгоритм преобразования</a></span></li><li><span><a href=\"#Проверка-алгоритма\" data-toc-modified-id=\"Проверка-алгоритма-4\"><span class=\"toc-item-num\">4&nbsp;&nbsp;</span>Проверка алгоритма</a></span></li></ul></div>"
   ]
  },
  {
   "cell_type": "markdown",
   "metadata": {},
   "source": [
    "# Защита персональных данных клиентов"
   ]
  },
  {
   "cell_type": "markdown",
   "metadata": {},
   "source": [
    "Вам нужно защитить данные клиентов страховой компании «Хоть потоп». Разработайте такой метод преобразования данных, чтобы по ним было сложно восстановить персональную информацию. Обоснуйте корректность его работы.\n",
    "\n",
    "Нужно защитить данные, чтобы при преобразовании качество моделей машинного обучения не ухудшилось. Подбирать наилучшую модель не требуется."
   ]
  },
  {
   "cell_type": "markdown",
   "metadata": {},
   "source": [
    "## Загрузка данных"
   ]
  },
  {
   "cell_type": "code",
   "execution_count": 1,
   "metadata": {},
   "outputs": [],
   "source": [
    "#импортируем необходимые библиотеки\n",
    "import pandas as pd\n",
    "import numpy as np\n",
    "import matplotlib.pyplot as plt\n",
    "import seaborn as sns\n",
    "\n",
    "from sklearn.linear_model import LinearRegression\n",
    "from sklearn.metrics import r2_score\n",
    "from numpy.linalg import inv\n",
    "import random"
   ]
  },
  {
   "cell_type": "code",
   "execution_count": 2,
   "metadata": {
    "scrolled": false
   },
   "outputs": [
    {
     "data": {
      "text/html": [
       "<div>\n",
       "<style scoped>\n",
       "    .dataframe tbody tr th:only-of-type {\n",
       "        vertical-align: middle;\n",
       "    }\n",
       "\n",
       "    .dataframe tbody tr th {\n",
       "        vertical-align: top;\n",
       "    }\n",
       "\n",
       "    .dataframe thead th {\n",
       "        text-align: right;\n",
       "    }\n",
       "</style>\n",
       "<table border=\"1\" class=\"dataframe\">\n",
       "  <thead>\n",
       "    <tr style=\"text-align: right;\">\n",
       "      <th></th>\n",
       "      <th>Пол</th>\n",
       "      <th>Возраст</th>\n",
       "      <th>Зарплата</th>\n",
       "      <th>Члены семьи</th>\n",
       "      <th>Страховые выплаты</th>\n",
       "    </tr>\n",
       "  </thead>\n",
       "  <tbody>\n",
       "    <tr>\n",
       "      <th>0</th>\n",
       "      <td>1</td>\n",
       "      <td>41.0</td>\n",
       "      <td>49600.0</td>\n",
       "      <td>1</td>\n",
       "      <td>0</td>\n",
       "    </tr>\n",
       "    <tr>\n",
       "      <th>1</th>\n",
       "      <td>0</td>\n",
       "      <td>46.0</td>\n",
       "      <td>38000.0</td>\n",
       "      <td>1</td>\n",
       "      <td>1</td>\n",
       "    </tr>\n",
       "    <tr>\n",
       "      <th>2</th>\n",
       "      <td>0</td>\n",
       "      <td>29.0</td>\n",
       "      <td>21000.0</td>\n",
       "      <td>0</td>\n",
       "      <td>0</td>\n",
       "    </tr>\n",
       "    <tr>\n",
       "      <th>3</th>\n",
       "      <td>0</td>\n",
       "      <td>21.0</td>\n",
       "      <td>41700.0</td>\n",
       "      <td>2</td>\n",
       "      <td>0</td>\n",
       "    </tr>\n",
       "    <tr>\n",
       "      <th>4</th>\n",
       "      <td>1</td>\n",
       "      <td>28.0</td>\n",
       "      <td>26100.0</td>\n",
       "      <td>0</td>\n",
       "      <td>0</td>\n",
       "    </tr>\n",
       "  </tbody>\n",
       "</table>\n",
       "</div>"
      ],
      "text/plain": [
       "   Пол  Возраст  Зарплата  Члены семьи  Страховые выплаты\n",
       "0    1     41.0   49600.0            1                  0\n",
       "1    0     46.0   38000.0            1                  1\n",
       "2    0     29.0   21000.0            0                  0\n",
       "3    0     21.0   41700.0            2                  0\n",
       "4    1     28.0   26100.0            0                  0"
      ]
     },
     "metadata": {},
     "output_type": "display_data"
    }
   ],
   "source": [
    "#откроем файл с данными\n",
    "df = pd.read_csv('/datasets/insurance.csv')\n",
    "#изучим данные\n",
    "display(df.head())"
   ]
  },
  {
   "cell_type": "markdown",
   "metadata": {},
   "source": [
    "Из исходных данных мы знаем, что:    \n",
    " - Признаки: пол, возраст и зарплата застрахованного, количество членов его семьи.    \n",
    " - Целевой признак: количество страховых выплат клиенту за последние 5 лет.    \n",
    "Для определения типа задачи(категориальная или количественная), определим, какие значения находятся в столбце \"Страховые выплаты\"."
   ]
  },
  {
   "cell_type": "code",
   "execution_count": 3,
   "metadata": {
    "scrolled": false
   },
   "outputs": [
    {
     "data": {
      "text/plain": [
       "0    4436\n",
       "1     423\n",
       "2     115\n",
       "3      18\n",
       "4       7\n",
       "5       1\n",
       "Name: Страховые выплаты, dtype: int64"
      ]
     },
     "execution_count": 3,
     "metadata": {},
     "output_type": "execute_result"
    }
   ],
   "source": [
    "#определим уникальные значения столбца и их количество\n",
    "df['Страховые выплаты'].value_counts()"
   ]
  },
  {
   "cell_type": "markdown",
   "metadata": {},
   "source": [
    "Как мы видим, числовые значения представлены в диапазоне, а значит данные - количественные. Т.к. целевой признак количественный, мы будем решать задачу регрессии."
   ]
  },
  {
   "cell_type": "code",
   "execution_count": 4,
   "metadata": {},
   "outputs": [],
   "source": [
    "#изучим данные воспользовавшись унифицированной функцией\n",
    "def uni_function(function):\n",
    "    display(function.head())\n",
    "    display(function.info())\n",
    "    display(function.isna().mean()) #доля пропущенных значений\n",
    "    display(function.describe())\n",
    "    display(function.duplicated().sum())"
   ]
  },
  {
   "cell_type": "code",
   "execution_count": 5,
   "metadata": {
    "scrolled": true
   },
   "outputs": [
    {
     "data": {
      "text/html": [
       "<div>\n",
       "<style scoped>\n",
       "    .dataframe tbody tr th:only-of-type {\n",
       "        vertical-align: middle;\n",
       "    }\n",
       "\n",
       "    .dataframe tbody tr th {\n",
       "        vertical-align: top;\n",
       "    }\n",
       "\n",
       "    .dataframe thead th {\n",
       "        text-align: right;\n",
       "    }\n",
       "</style>\n",
       "<table border=\"1\" class=\"dataframe\">\n",
       "  <thead>\n",
       "    <tr style=\"text-align: right;\">\n",
       "      <th></th>\n",
       "      <th>Пол</th>\n",
       "      <th>Возраст</th>\n",
       "      <th>Зарплата</th>\n",
       "      <th>Члены семьи</th>\n",
       "      <th>Страховые выплаты</th>\n",
       "    </tr>\n",
       "  </thead>\n",
       "  <tbody>\n",
       "    <tr>\n",
       "      <th>0</th>\n",
       "      <td>1</td>\n",
       "      <td>41.0</td>\n",
       "      <td>49600.0</td>\n",
       "      <td>1</td>\n",
       "      <td>0</td>\n",
       "    </tr>\n",
       "    <tr>\n",
       "      <th>1</th>\n",
       "      <td>0</td>\n",
       "      <td>46.0</td>\n",
       "      <td>38000.0</td>\n",
       "      <td>1</td>\n",
       "      <td>1</td>\n",
       "    </tr>\n",
       "    <tr>\n",
       "      <th>2</th>\n",
       "      <td>0</td>\n",
       "      <td>29.0</td>\n",
       "      <td>21000.0</td>\n",
       "      <td>0</td>\n",
       "      <td>0</td>\n",
       "    </tr>\n",
       "    <tr>\n",
       "      <th>3</th>\n",
       "      <td>0</td>\n",
       "      <td>21.0</td>\n",
       "      <td>41700.0</td>\n",
       "      <td>2</td>\n",
       "      <td>0</td>\n",
       "    </tr>\n",
       "    <tr>\n",
       "      <th>4</th>\n",
       "      <td>1</td>\n",
       "      <td>28.0</td>\n",
       "      <td>26100.0</td>\n",
       "      <td>0</td>\n",
       "      <td>0</td>\n",
       "    </tr>\n",
       "  </tbody>\n",
       "</table>\n",
       "</div>"
      ],
      "text/plain": [
       "   Пол  Возраст  Зарплата  Члены семьи  Страховые выплаты\n",
       "0    1     41.0   49600.0            1                  0\n",
       "1    0     46.0   38000.0            1                  1\n",
       "2    0     29.0   21000.0            0                  0\n",
       "3    0     21.0   41700.0            2                  0\n",
       "4    1     28.0   26100.0            0                  0"
      ]
     },
     "metadata": {},
     "output_type": "display_data"
    },
    {
     "name": "stdout",
     "output_type": "stream",
     "text": [
      "<class 'pandas.core.frame.DataFrame'>\n",
      "RangeIndex: 5000 entries, 0 to 4999\n",
      "Data columns (total 5 columns):\n",
      " #   Column             Non-Null Count  Dtype  \n",
      "---  ------             --------------  -----  \n",
      " 0   Пол                5000 non-null   int64  \n",
      " 1   Возраст            5000 non-null   float64\n",
      " 2   Зарплата           5000 non-null   float64\n",
      " 3   Члены семьи        5000 non-null   int64  \n",
      " 4   Страховые выплаты  5000 non-null   int64  \n",
      "dtypes: float64(2), int64(3)\n",
      "memory usage: 195.4 KB\n"
     ]
    },
    {
     "data": {
      "text/plain": [
       "None"
      ]
     },
     "metadata": {},
     "output_type": "display_data"
    },
    {
     "data": {
      "text/plain": [
       "Пол                  0.0\n",
       "Возраст              0.0\n",
       "Зарплата             0.0\n",
       "Члены семьи          0.0\n",
       "Страховые выплаты    0.0\n",
       "dtype: float64"
      ]
     },
     "metadata": {},
     "output_type": "display_data"
    },
    {
     "data": {
      "text/html": [
       "<div>\n",
       "<style scoped>\n",
       "    .dataframe tbody tr th:only-of-type {\n",
       "        vertical-align: middle;\n",
       "    }\n",
       "\n",
       "    .dataframe tbody tr th {\n",
       "        vertical-align: top;\n",
       "    }\n",
       "\n",
       "    .dataframe thead th {\n",
       "        text-align: right;\n",
       "    }\n",
       "</style>\n",
       "<table border=\"1\" class=\"dataframe\">\n",
       "  <thead>\n",
       "    <tr style=\"text-align: right;\">\n",
       "      <th></th>\n",
       "      <th>Пол</th>\n",
       "      <th>Возраст</th>\n",
       "      <th>Зарплата</th>\n",
       "      <th>Члены семьи</th>\n",
       "      <th>Страховые выплаты</th>\n",
       "    </tr>\n",
       "  </thead>\n",
       "  <tbody>\n",
       "    <tr>\n",
       "      <th>count</th>\n",
       "      <td>5000.000000</td>\n",
       "      <td>5000.000000</td>\n",
       "      <td>5000.000000</td>\n",
       "      <td>5000.000000</td>\n",
       "      <td>5000.000000</td>\n",
       "    </tr>\n",
       "    <tr>\n",
       "      <th>mean</th>\n",
       "      <td>0.499000</td>\n",
       "      <td>30.952800</td>\n",
       "      <td>39916.360000</td>\n",
       "      <td>1.194200</td>\n",
       "      <td>0.148000</td>\n",
       "    </tr>\n",
       "    <tr>\n",
       "      <th>std</th>\n",
       "      <td>0.500049</td>\n",
       "      <td>8.440807</td>\n",
       "      <td>9900.083569</td>\n",
       "      <td>1.091387</td>\n",
       "      <td>0.463183</td>\n",
       "    </tr>\n",
       "    <tr>\n",
       "      <th>min</th>\n",
       "      <td>0.000000</td>\n",
       "      <td>18.000000</td>\n",
       "      <td>5300.000000</td>\n",
       "      <td>0.000000</td>\n",
       "      <td>0.000000</td>\n",
       "    </tr>\n",
       "    <tr>\n",
       "      <th>25%</th>\n",
       "      <td>0.000000</td>\n",
       "      <td>24.000000</td>\n",
       "      <td>33300.000000</td>\n",
       "      <td>0.000000</td>\n",
       "      <td>0.000000</td>\n",
       "    </tr>\n",
       "    <tr>\n",
       "      <th>50%</th>\n",
       "      <td>0.000000</td>\n",
       "      <td>30.000000</td>\n",
       "      <td>40200.000000</td>\n",
       "      <td>1.000000</td>\n",
       "      <td>0.000000</td>\n",
       "    </tr>\n",
       "    <tr>\n",
       "      <th>75%</th>\n",
       "      <td>1.000000</td>\n",
       "      <td>37.000000</td>\n",
       "      <td>46600.000000</td>\n",
       "      <td>2.000000</td>\n",
       "      <td>0.000000</td>\n",
       "    </tr>\n",
       "    <tr>\n",
       "      <th>max</th>\n",
       "      <td>1.000000</td>\n",
       "      <td>65.000000</td>\n",
       "      <td>79000.000000</td>\n",
       "      <td>6.000000</td>\n",
       "      <td>5.000000</td>\n",
       "    </tr>\n",
       "  </tbody>\n",
       "</table>\n",
       "</div>"
      ],
      "text/plain": [
       "               Пол      Возраст      Зарплата  Члены семьи  Страховые выплаты\n",
       "count  5000.000000  5000.000000   5000.000000  5000.000000        5000.000000\n",
       "mean      0.499000    30.952800  39916.360000     1.194200           0.148000\n",
       "std       0.500049     8.440807   9900.083569     1.091387           0.463183\n",
       "min       0.000000    18.000000   5300.000000     0.000000           0.000000\n",
       "25%       0.000000    24.000000  33300.000000     0.000000           0.000000\n",
       "50%       0.000000    30.000000  40200.000000     1.000000           0.000000\n",
       "75%       1.000000    37.000000  46600.000000     2.000000           0.000000\n",
       "max       1.000000    65.000000  79000.000000     6.000000           5.000000"
      ]
     },
     "metadata": {},
     "output_type": "display_data"
    },
    {
     "data": {
      "text/plain": [
       "153"
      ]
     },
     "metadata": {},
     "output_type": "display_data"
    }
   ],
   "source": [
    "uni_function(df)"
   ]
  },
  {
   "cell_type": "markdown",
   "metadata": {},
   "source": [
    "Посде изучения данных мы видим:    \n",
    " 1. В исходной таблице отсутствуют пропущенные значения, однако было обнаружено 153 дубликата.\n",
    " 2. Имя переменных указаны не по правилам \"хорошего стиля\". Имена на русском языке, без использования \"змеиного регистра\" и с использованием заглавных букв. \n",
    " \n",
    "Для дальнейшей работы устраним эти недочеты.\n",
    "\n",
    "Переименуем названия столбцов в соответсвии с правилами:\n",
    " - Пол - gender;\n",
    " - Возраст - age;\n",
    " - Зарплата - salary;\n",
    " - Члены семьи - family_members;\n",
    " - Страховые выплаты - insurance_payments."
   ]
  },
  {
   "cell_type": "code",
   "execution_count": 6,
   "metadata": {
    "scrolled": true
   },
   "outputs": [
    {
     "data": {
      "text/html": [
       "<div>\n",
       "<style scoped>\n",
       "    .dataframe tbody tr th:only-of-type {\n",
       "        vertical-align: middle;\n",
       "    }\n",
       "\n",
       "    .dataframe tbody tr th {\n",
       "        vertical-align: top;\n",
       "    }\n",
       "\n",
       "    .dataframe thead th {\n",
       "        text-align: right;\n",
       "    }\n",
       "</style>\n",
       "<table border=\"1\" class=\"dataframe\">\n",
       "  <thead>\n",
       "    <tr style=\"text-align: right;\">\n",
       "      <th></th>\n",
       "      <th>gender</th>\n",
       "      <th>age</th>\n",
       "      <th>salary</th>\n",
       "      <th>family_members</th>\n",
       "      <th>insurance_payments</th>\n",
       "    </tr>\n",
       "  </thead>\n",
       "  <tbody>\n",
       "    <tr>\n",
       "      <th>0</th>\n",
       "      <td>1</td>\n",
       "      <td>41.0</td>\n",
       "      <td>49600.0</td>\n",
       "      <td>1</td>\n",
       "      <td>0</td>\n",
       "    </tr>\n",
       "    <tr>\n",
       "      <th>1</th>\n",
       "      <td>0</td>\n",
       "      <td>46.0</td>\n",
       "      <td>38000.0</td>\n",
       "      <td>1</td>\n",
       "      <td>1</td>\n",
       "    </tr>\n",
       "    <tr>\n",
       "      <th>2</th>\n",
       "      <td>0</td>\n",
       "      <td>29.0</td>\n",
       "      <td>21000.0</td>\n",
       "      <td>0</td>\n",
       "      <td>0</td>\n",
       "    </tr>\n",
       "    <tr>\n",
       "      <th>3</th>\n",
       "      <td>0</td>\n",
       "      <td>21.0</td>\n",
       "      <td>41700.0</td>\n",
       "      <td>2</td>\n",
       "      <td>0</td>\n",
       "    </tr>\n",
       "    <tr>\n",
       "      <th>4</th>\n",
       "      <td>1</td>\n",
       "      <td>28.0</td>\n",
       "      <td>26100.0</td>\n",
       "      <td>0</td>\n",
       "      <td>0</td>\n",
       "    </tr>\n",
       "  </tbody>\n",
       "</table>\n",
       "</div>"
      ],
      "text/plain": [
       "   gender   age   salary  family_members  insurance_payments\n",
       "0       1  41.0  49600.0               1                   0\n",
       "1       0  46.0  38000.0               1                   1\n",
       "2       0  29.0  21000.0               0                   0\n",
       "3       0  21.0  41700.0               2                   0\n",
       "4       1  28.0  26100.0               0                   0"
      ]
     },
     "metadata": {},
     "output_type": "display_data"
    }
   ],
   "source": [
    "#переименуем столбцы\n",
    "df = df.rename(columns={'Пол': 'gender', \n",
    "                        'Возраст': 'age', \n",
    "                        'Зарплата': 'salary', \n",
    "                        'Члены семьи': 'family_members', \n",
    "                        'Страховые выплаты': 'insurance_payments'})\n",
    "display(df.head())"
   ]
  },
  {
   "cell_type": "code",
   "execution_count": 7,
   "metadata": {},
   "outputs": [],
   "source": [
    "#удалим явные дубликаты\n",
    "df = df.drop_duplicates().reset_index(drop=True)"
   ]
  },
  {
   "cell_type": "code",
   "execution_count": 8,
   "metadata": {},
   "outputs": [
    {
     "name": "stdout",
     "output_type": "stream",
     "text": [
      "<class 'pandas.core.frame.DataFrame'>\n",
      "RangeIndex: 4847 entries, 0 to 4846\n",
      "Data columns (total 5 columns):\n",
      " #   Column              Non-Null Count  Dtype  \n",
      "---  ------              --------------  -----  \n",
      " 0   gender              4847 non-null   int64  \n",
      " 1   age                 4847 non-null   float64\n",
      " 2   salary              4847 non-null   float64\n",
      " 3   family_members      4847 non-null   int64  \n",
      " 4   insurance_payments  4847 non-null   int64  \n",
      "dtypes: float64(2), int64(3)\n",
      "memory usage: 189.5 KB\n"
     ]
    }
   ],
   "source": [
    "df.info()"
   ]
  },
  {
   "cell_type": "markdown",
   "metadata": {},
   "source": [
    "Данные готовы к работе."
   ]
  },
  {
   "cell_type": "markdown",
   "metadata": {},
   "source": [
    "## Умножение матриц"
   ]
  },
  {
   "cell_type": "markdown",
   "metadata": {},
   "source": [
    "В этом задании вы можете записывать формулы в *Jupyter Notebook.*\n",
    "\n",
    "Чтобы записать формулу внутри текста, окружите её символами доллара \\\\$; если снаружи —  двойными символами \\\\$\\\\$. Эти формулы записываются на языке вёрстки *LaTeX.* \n",
    "\n",
    "Для примера мы записали формулы линейной регрессии. Можете их скопировать и отредактировать, чтобы решить задачу.\n",
    "\n",
    "Работать в *LaTeX* необязательно."
   ]
  },
  {
   "cell_type": "markdown",
   "metadata": {},
   "source": [
    "Обозначения:\n",
    "\n",
    "- $X$ — матрица признаков (нулевой столбец состоит из единиц)\n",
    "\n",
    "- $y$ — вектор целевого признака\n",
    "\n",
    "- $P$ — матрица, на которую умножаются признаки\n",
    "\n",
    "- $w$ — вектор весов линейной регрессии (нулевой элемент равен сдвигу)"
   ]
  },
  {
   "cell_type": "markdown",
   "metadata": {},
   "source": [
    "Предсказания:\n",
    "\n",
    "$$\n",
    "a = Xw\n",
    "$$\n",
    "\n",
    "Задача обучения:\n",
    "\n",
    "$$\n",
    "w = \\arg\\min_w MSE(Xw, y)\n",
    "$$\n",
    "\n",
    "Формула обучения:\n",
    "\n",
    "$$\n",
    "w = (X^T X)^{-1} X^T y\n",
    "$$"
   ]
  },
  {
   "cell_type": "markdown",
   "metadata": {},
   "source": [
    "**Ответ:** не изменится\n",
    "\n",
    "**Обоснование:**    \n",
    "По заданию нам необходимо умножить исходную матрицу(признаки) на обратимую матрицу(единичну матрицу).    \n",
    "Исходная матрица Х имеет размеры mxn(5000х4), единичная матрица P является квадратной - nxn(4x4).    \n",
    "Запишем значение весов опираясь на новые данные:    \n",
    "\n",
    "$$\n",
    "w' = ((XP)^T XP)^{-1} (XP)^T y\n",
    "$$\n",
    "\n",
    "Запишем формулу предсказаний:\n",
    "\n",
    "$$\n",
    "a' = XP ((XP)^T XP)^{-1} (XP)^T y\n",
    "$$\n",
    "\n",
    "Для решения даннной задачи нам необходимо помнить следующие свойства:    \n",
    "1. Если любую матрицу A умножить на единичную (или наоборот), получится эта же матрица A\n",
    "$$\n",
    "AE = EA = A\n",
    "$$\n",
    "2. Обратная для квадратной матрицы A — матрица A с верхним индексом -1, произведение которой на А равно единичной матрице.\n",
    "$$\n",
    "AA^{-1} = A^{-1}A = E\n",
    "$$\n",
    "3. Сочетательное свойство матриц \n",
    "$$ (AB)C = A(BC) $$\n",
    "\n",
    "Свойства степеней\n",
    "\n",
    "$$\n",
    "(AB)^T=B^T A^T\n",
    "$$\n",
    "$$\n",
    "(AB)^{-1} = B^{-1} A^{-1}\n",
    "$$\n",
    "    \n",
    "Раскроем скобки в формуле предсказаний учитывая транспонирование:\n",
    "$$\n",
    "a' = XP (P^T X^T XP)^{-1} P^{T} X^{T} y\n",
    "$$\n",
    "Применяя свойства матриц, преобразуем выражение внутри скобок:\n",
    "$$\n",
    "a' = XP (P^T(X^T X) P)^{-1} P^{T} X^{T}y = X P P^{-1} (X^T X)^{-1} (P^T)^{-1} P^T X^T y\n",
    "$$\n",
    "Произведения $PP^{-1}$ и $(P^T)^{-1} P^T$ дают единичные матрицы, а значит мы можем их убрать из уравнения.    \n",
    "Запишем получившееся уравнение:\n",
    "$$\n",
    "a' = X (X^T X)^{-1} X^T y\n",
    "$$\n",
    "Выражение $$X (X^T X)^{-1} X^T y = w$$. Запишем итоговое выражение:\n",
    "$$\n",
    "a' = Xw\n",
    "$$\n",
    "Как мы видим, исходная запись предсказания совпала с полученной, а значит качество линейной регрессии не изменится.\n",
    "$$\n",
    "a' = a\n",
    "$$"
   ]
  },
  {
   "cell_type": "markdown",
   "metadata": {},
   "source": [
    "## Алгоритм преобразования"
   ]
  },
  {
   "cell_type": "markdown",
   "metadata": {},
   "source": [
    "**Алгоритм**    \n",
    "Алгоритмом преобразования будет являться домножение признаков X на случайную обратимую матрицу Р размером 4х4. Создадим модель линейной регрессии до преобразования и посчитаем метрику R2. Далее проделаем тоже самое с домноженной на обратимую матрицу матрицей и снова посчитаем метрику R2. По итогу метрики R2 должны быть равны."
   ]
  },
  {
   "cell_type": "markdown",
   "metadata": {},
   "source": [
    "**Обоснование**\n",
    "\n",
    "Как было показано в предыдущем пункте, домножение признаков на какую-либо обратимую матрицу не приводит к изменению предсказаний, поэтому результаты R2 должны оказаться равны."
   ]
  },
  {
   "cell_type": "markdown",
   "metadata": {},
   "source": [
    "## Проверка алгоритма"
   ]
  },
  {
   "cell_type": "code",
   "execution_count": 9,
   "metadata": {},
   "outputs": [],
   "source": [
    "features = df.drop(['insurance_payments'], axis = 1) #признаки\n",
    "target = df['insurance_payments'] #целевой признак"
   ]
  },
  {
   "cell_type": "code",
   "execution_count": 10,
   "metadata": {},
   "outputs": [
    {
     "name": "stdout",
     "output_type": "stream",
     "text": [
      "Метрика R2 для признаков в исходном состоянии равняется 0.4302010044852066\n"
     ]
    }
   ],
   "source": [
    "#обучим модель\n",
    "model = LinearRegression()\n",
    "model.fit(features, target)\n",
    "predictions = model.predict(features)\n",
    "r2 = r2_score(target, predictions)\n",
    "print(f'Метрика R2 для признаков в исходном состоянии равняется {r2}')"
   ]
  },
  {
   "cell_type": "code",
   "execution_count": 11,
   "metadata": {},
   "outputs": [
    {
     "data": {
      "text/plain": [
       "array([[ 0.49671415, -0.1382643 ,  0.64768854,  1.52302986],\n",
       "       [-0.23415337, -0.23413696,  1.57921282,  0.76743473],\n",
       "       [-0.46947439,  0.54256004, -0.46341769, -0.46572975],\n",
       "       [ 0.24196227, -1.91328024, -1.72491783, -0.56228753]])"
      ]
     },
     "metadata": {},
     "output_type": "display_data"
    }
   ],
   "source": [
    "#Сгенерируем случайную матрицу размером 4х4 функцией numpy.random.normal()\n",
    "r = np.random.RandomState(42)\n",
    "random_matrix = r.normal(size = (4, 4))\n",
    "display(random_matrix)"
   ]
  },
  {
   "cell_type": "code",
   "execution_count": 12,
   "metadata": {
    "scrolled": true
   },
   "outputs": [
    {
     "data": {
      "text/plain": [
       "matrix([[-0.33124857, -1.0333483 , -2.21070923, -0.47651024],\n",
       "        [ 0.12864778, -0.47781825,  0.15271687, -0.43017975],\n",
       "        [-0.51338817,  0.33588835, -0.8347692 , -0.24072429],\n",
       "        [ 0.99462192,  0.15079316,  1.08985145,  0.21872535]])"
      ]
     },
     "metadata": {},
     "output_type": "display_data"
    }
   ],
   "source": [
    "#найдем обратную матрицу\n",
    "invert_matrix = inv(np.matrix(random_matrix))\n",
    "display(invert_matrix)"
   ]
  },
  {
   "cell_type": "code",
   "execution_count": 13,
   "metadata": {
    "scrolled": true
   },
   "outputs": [
    {
     "data": {
      "text/html": [
       "<div>\n",
       "<style scoped>\n",
       "    .dataframe tbody tr th:only-of-type {\n",
       "        vertical-align: middle;\n",
       "    }\n",
       "\n",
       "    .dataframe tbody tr th {\n",
       "        vertical-align: top;\n",
       "    }\n",
       "\n",
       "    .dataframe thead th {\n",
       "        text-align: right;\n",
       "    }\n",
       "</style>\n",
       "<table border=\"1\" class=\"dataframe\">\n",
       "  <thead>\n",
       "    <tr style=\"text-align: right;\">\n",
       "      <th></th>\n",
       "      <th>0</th>\n",
       "      <th>1</th>\n",
       "      <th>2</th>\n",
       "      <th>3</th>\n",
       "    </tr>\n",
       "  </thead>\n",
       "  <tbody>\n",
       "    <tr>\n",
       "      <th>0</th>\n",
       "      <td>-25458.115200</td>\n",
       "      <td>16639.589185</td>\n",
       "      <td>-41399.411722</td>\n",
       "      <td>-11957.820064</td>\n",
       "    </tr>\n",
       "    <tr>\n",
       "      <th>1</th>\n",
       "      <td>-19501.837964</td>\n",
       "      <td>12741.928552</td>\n",
       "      <td>-31713.114724</td>\n",
       "      <td>-9167.092659</td>\n",
       "    </tr>\n",
       "    <tr>\n",
       "      <th>2</th>\n",
       "      <td>-10777.420742</td>\n",
       "      <td>7039.798675</td>\n",
       "      <td>-17525.724384</td>\n",
       "      <td>-5067.685356</td>\n",
       "    </tr>\n",
       "    <tr>\n",
       "      <th>3</th>\n",
       "      <td>-21403.595758</td>\n",
       "      <td>13996.811706</td>\n",
       "      <td>-34804.488829</td>\n",
       "      <td>-10046.799323</td>\n",
       "    </tr>\n",
       "    <tr>\n",
       "      <th>4</th>\n",
       "      <td>-13396.160295</td>\n",
       "      <td>8752.273743</td>\n",
       "      <td>-21785.410723</td>\n",
       "      <td>-6295.425578</td>\n",
       "    </tr>\n",
       "  </tbody>\n",
       "</table>\n",
       "</div>"
      ],
      "text/plain": [
       "              0             1             2             3\n",
       "0 -25458.115200  16639.589185 -41399.411722 -11957.820064\n",
       "1 -19501.837964  12741.928552 -31713.114724  -9167.092659\n",
       "2 -10777.420742   7039.798675 -17525.724384  -5067.685356\n",
       "3 -21403.595758  13996.811706 -34804.488829 -10046.799323\n",
       "4 -13396.160295   8752.273743 -21785.410723  -6295.425578"
      ]
     },
     "metadata": {},
     "output_type": "display_data"
    }
   ],
   "source": [
    "#домножим нашу исходную матрицу на обратную\n",
    "new_matrix = features@invert_matrix\n",
    "display(new_matrix.head())"
   ]
  },
  {
   "cell_type": "code",
   "execution_count": 14,
   "metadata": {
    "scrolled": true
   },
   "outputs": [
    {
     "name": "stdout",
     "output_type": "stream",
     "text": [
      "Метрика R2 для признаков в исходном состоянии равняется 0.43020100448520615\n"
     ]
    }
   ],
   "source": [
    "#произведем моделирование на новых данных\n",
    "model_2 = LinearRegression()\n",
    "model_2.fit(new_matrix, target)\n",
    "predictions_2 = model_2.predict(new_matrix)\n",
    "r2_new = r2_score(target, predictions_2)\n",
    "print(f'Метрика R2 для признаков в исходном состоянии равняется {r2_new}')"
   ]
  },
  {
   "cell_type": "code",
   "execution_count": 15,
   "metadata": {},
   "outputs": [
    {
     "data": {
      "text/plain": [
       "True"
      ]
     },
     "execution_count": 15,
     "metadata": {},
     "output_type": "execute_result"
    }
   ],
   "source": [
    "#сравним два массива данных\n",
    "np.isclose(r2, r2_new)"
   ]
  },
  {
   "cell_type": "markdown",
   "metadata": {},
   "source": [
    "**Вывод**    \n",
    "При умножение матрицы признаков на обратимую матрицу качество Линейной Регрессии не изменяется."
   ]
  }
 ],
 "metadata": {
  "ExecuteTimeLog": [
   {
    "duration": 1267,
    "start_time": "2022-07-25T13:35:35.611Z"
   },
   {
    "duration": 90,
    "start_time": "2022-07-25T13:37:49.306Z"
   },
   {
    "duration": 32,
    "start_time": "2022-07-25T13:38:06.037Z"
   },
   {
    "duration": 4,
    "start_time": "2022-07-25T13:43:04.082Z"
   },
   {
    "duration": 4,
    "start_time": "2022-07-25T13:43:22.257Z"
   },
   {
    "duration": 12,
    "start_time": "2022-07-25T13:45:15.408Z"
   },
   {
    "duration": 5,
    "start_time": "2022-07-25T13:57:05.554Z"
   },
   {
    "duration": 4,
    "start_time": "2022-07-25T14:00:26.096Z"
   },
   {
    "duration": 39,
    "start_time": "2022-07-25T14:00:59.223Z"
   },
   {
    "duration": 3,
    "start_time": "2022-07-25T14:01:21.310Z"
   },
   {
    "duration": 35,
    "start_time": "2022-07-25T14:01:23.331Z"
   },
   {
    "duration": 3,
    "start_time": "2022-07-25T14:01:49.337Z"
   },
   {
    "duration": 33,
    "start_time": "2022-07-25T14:02:01.492Z"
   },
   {
    "duration": 5,
    "start_time": "2022-07-25T14:02:04.094Z"
   },
   {
    "duration": 3,
    "start_time": "2022-07-25T14:02:06.222Z"
   },
   {
    "duration": 39,
    "start_time": "2022-07-25T14:02:08.669Z"
   },
   {
    "duration": 9,
    "start_time": "2022-07-25T14:30:02.009Z"
   },
   {
    "duration": 5,
    "start_time": "2022-07-25T14:54:33.104Z"
   },
   {
    "duration": 87,
    "start_time": "2022-07-25T14:55:59.814Z"
   },
   {
    "duration": 9,
    "start_time": "2022-07-25T14:56:08.094Z"
   },
   {
    "duration": 5,
    "start_time": "2022-07-25T14:56:13.831Z"
   },
   {
    "duration": 5,
    "start_time": "2022-07-25T14:56:17.319Z"
   },
   {
    "duration": 4,
    "start_time": "2022-07-25T16:07:04.432Z"
   },
   {
    "duration": 5,
    "start_time": "2022-07-25T16:07:31.726Z"
   },
   {
    "duration": 3,
    "start_time": "2022-07-25T16:07:51.764Z"
   },
   {
    "duration": 12,
    "start_time": "2022-07-25T16:14:07.462Z"
   },
   {
    "duration": 63,
    "start_time": "2022-07-26T14:35:25.846Z"
   },
   {
    "duration": 1958,
    "start_time": "2022-07-26T14:35:52.751Z"
   },
   {
    "duration": 4,
    "start_time": "2022-07-26T14:35:57.906Z"
   },
   {
    "duration": 127,
    "start_time": "2022-07-26T14:35:57.912Z"
   },
   {
    "duration": 6,
    "start_time": "2022-07-26T14:35:58.041Z"
   },
   {
    "duration": 6,
    "start_time": "2022-07-26T14:35:58.048Z"
   },
   {
    "duration": 68,
    "start_time": "2022-07-26T14:35:58.057Z"
   },
   {
    "duration": 12,
    "start_time": "2022-07-26T14:35:58.126Z"
   },
   {
    "duration": 6,
    "start_time": "2022-07-26T14:35:58.140Z"
   },
   {
    "duration": 11,
    "start_time": "2022-07-26T14:35:58.148Z"
   },
   {
    "duration": 4,
    "start_time": "2022-07-26T14:35:58.161Z"
   },
   {
    "duration": 55,
    "start_time": "2022-07-26T14:35:58.166Z"
   },
   {
    "duration": 4,
    "start_time": "2022-07-26T14:44:20.465Z"
   },
   {
    "duration": 51,
    "start_time": "2022-07-26T14:44:20.471Z"
   },
   {
    "duration": 7,
    "start_time": "2022-07-26T14:44:20.524Z"
   },
   {
    "duration": 8,
    "start_time": "2022-07-26T14:44:20.534Z"
   },
   {
    "duration": 46,
    "start_time": "2022-07-26T14:44:20.544Z"
   },
   {
    "duration": 35,
    "start_time": "2022-07-26T14:44:20.592Z"
   },
   {
    "duration": 11,
    "start_time": "2022-07-26T14:44:20.629Z"
   },
   {
    "duration": 14,
    "start_time": "2022-07-26T14:44:20.641Z"
   },
   {
    "duration": 4,
    "start_time": "2022-07-26T14:44:20.656Z"
   },
   {
    "duration": 60,
    "start_time": "2022-07-26T14:44:20.663Z"
   },
   {
    "duration": 102,
    "start_time": "2022-07-26T14:44:20.729Z"
   },
   {
    "duration": 4,
    "start_time": "2022-07-26T14:53:40.265Z"
   },
   {
    "duration": 3,
    "start_time": "2022-07-26T14:53:43.158Z"
   },
   {
    "duration": 39,
    "start_time": "2022-07-26T14:53:43.163Z"
   },
   {
    "duration": 8,
    "start_time": "2022-07-26T14:53:43.204Z"
   },
   {
    "duration": 10,
    "start_time": "2022-07-26T14:53:43.222Z"
   },
   {
    "duration": 44,
    "start_time": "2022-07-26T14:53:43.234Z"
   },
   {
    "duration": 10,
    "start_time": "2022-07-26T14:53:43.280Z"
   },
   {
    "duration": 29,
    "start_time": "2022-07-26T14:53:43.292Z"
   },
   {
    "duration": 23,
    "start_time": "2022-07-26T14:53:43.323Z"
   },
   {
    "duration": 6,
    "start_time": "2022-07-26T14:53:43.348Z"
   },
   {
    "duration": 19,
    "start_time": "2022-07-26T14:53:43.356Z"
   },
   {
    "duration": 11,
    "start_time": "2022-07-26T14:53:43.420Z"
   },
   {
    "duration": 77,
    "start_time": "2022-07-26T15:01:34.847Z"
   },
   {
    "duration": 5,
    "start_time": "2022-07-26T15:01:43.229Z"
   },
   {
    "duration": 4,
    "start_time": "2022-07-26T15:03:17.122Z"
   },
   {
    "duration": 7,
    "start_time": "2022-07-26T15:03:32.990Z"
   },
   {
    "duration": 73,
    "start_time": "2022-07-26T15:04:09.227Z"
   },
   {
    "duration": 6,
    "start_time": "2022-07-26T15:04:20.638Z"
   },
   {
    "duration": 10,
    "start_time": "2022-07-26T15:04:38.759Z"
   },
   {
    "duration": 5,
    "start_time": "2022-07-26T15:04:58.139Z"
   },
   {
    "duration": 4,
    "start_time": "2022-07-26T15:07:29.135Z"
   },
   {
    "duration": 14,
    "start_time": "2022-07-26T15:07:43.348Z"
   },
   {
    "duration": 10,
    "start_time": "2022-07-26T15:10:20.751Z"
   },
   {
    "duration": 4,
    "start_time": "2022-07-26T18:27:34.775Z"
   },
   {
    "duration": 4,
    "start_time": "2022-07-26T18:32:50.618Z"
   },
   {
    "duration": 4,
    "start_time": "2022-07-26T18:35:37.874Z"
   },
   {
    "duration": 94,
    "start_time": "2022-07-26T18:35:37.881Z"
   },
   {
    "duration": 6,
    "start_time": "2022-07-26T18:35:37.977Z"
   },
   {
    "duration": 18,
    "start_time": "2022-07-26T18:35:37.984Z"
   },
   {
    "duration": 62,
    "start_time": "2022-07-26T18:35:38.005Z"
   },
   {
    "duration": 12,
    "start_time": "2022-07-26T18:35:38.069Z"
   },
   {
    "duration": 16,
    "start_time": "2022-07-26T18:35:38.082Z"
   },
   {
    "duration": 22,
    "start_time": "2022-07-26T18:35:38.100Z"
   },
   {
    "duration": 25,
    "start_time": "2022-07-26T18:35:38.124Z"
   },
   {
    "duration": 63,
    "start_time": "2022-07-26T18:35:38.150Z"
   },
   {
    "duration": 6,
    "start_time": "2022-07-26T18:35:38.309Z"
   },
   {
    "duration": 18,
    "start_time": "2022-07-26T18:35:38.317Z"
   },
   {
    "duration": 85,
    "start_time": "2022-07-26T18:35:38.338Z"
   },
   {
    "duration": 97,
    "start_time": "2022-07-26T18:35:38.427Z"
   },
   {
    "duration": 88,
    "start_time": "2022-07-26T18:35:38.528Z"
   },
   {
    "duration": 1994,
    "start_time": "2022-07-27T09:49:12.162Z"
   },
   {
    "duration": 112,
    "start_time": "2022-07-27T09:49:14.161Z"
   },
   {
    "duration": 7,
    "start_time": "2022-07-27T09:49:14.275Z"
   },
   {
    "duration": 12,
    "start_time": "2022-07-27T09:49:14.285Z"
   },
   {
    "duration": 64,
    "start_time": "2022-07-27T09:49:14.299Z"
   },
   {
    "duration": 14,
    "start_time": "2022-07-27T09:49:14.366Z"
   },
   {
    "duration": 8,
    "start_time": "2022-07-27T09:49:14.405Z"
   },
   {
    "duration": 14,
    "start_time": "2022-07-27T09:49:14.415Z"
   },
   {
    "duration": 5,
    "start_time": "2022-07-27T09:49:14.432Z"
   },
   {
    "duration": 70,
    "start_time": "2022-07-27T09:49:14.441Z"
   },
   {
    "duration": 92,
    "start_time": "2022-07-27T09:49:14.514Z"
   },
   {
    "duration": 16,
    "start_time": "2022-07-27T09:49:14.608Z"
   },
   {
    "duration": 84,
    "start_time": "2022-07-27T09:49:14.629Z"
   },
   {
    "duration": 101,
    "start_time": "2022-07-27T09:49:14.715Z"
   },
   {
    "duration": 88,
    "start_time": "2022-07-27T09:49:14.819Z"
   },
   {
    "duration": 165,
    "start_time": "2022-07-27T10:10:31.887Z"
   },
   {
    "duration": 6,
    "start_time": "2022-07-27T10:11:33.747Z"
   },
   {
    "duration": 11,
    "start_time": "2022-07-27T10:11:53.947Z"
   },
   {
    "duration": 6,
    "start_time": "2022-07-27T10:15:02.332Z"
   },
   {
    "duration": 310,
    "start_time": "2022-07-27T10:15:55.146Z"
   },
   {
    "duration": 6,
    "start_time": "2022-07-27T10:17:39.809Z"
   },
   {
    "duration": 4,
    "start_time": "2022-07-27T10:17:58.202Z"
   },
   {
    "duration": 7,
    "start_time": "2022-07-27T10:18:15.811Z"
   },
   {
    "duration": 12,
    "start_time": "2022-07-27T10:34:40.678Z"
   },
   {
    "duration": 5,
    "start_time": "2022-07-27T10:51:25.604Z"
   },
   {
    "duration": 141,
    "start_time": "2022-07-27T10:51:25.622Z"
   },
   {
    "duration": 7,
    "start_time": "2022-07-27T10:51:25.766Z"
   },
   {
    "duration": 7,
    "start_time": "2022-07-27T10:51:25.775Z"
   },
   {
    "duration": 65,
    "start_time": "2022-07-27T10:51:25.785Z"
   },
   {
    "duration": 13,
    "start_time": "2022-07-27T10:51:25.852Z"
   },
   {
    "duration": 53,
    "start_time": "2022-07-27T10:51:25.867Z"
   },
   {
    "duration": 56,
    "start_time": "2022-07-27T10:51:25.923Z"
   },
   {
    "duration": 28,
    "start_time": "2022-07-27T10:51:25.980Z"
   },
   {
    "duration": 27,
    "start_time": "2022-07-27T10:51:26.010Z"
   },
   {
    "duration": 211,
    "start_time": "2022-07-27T10:51:26.039Z"
   },
   {
    "duration": 33,
    "start_time": "2022-07-27T10:51:26.253Z"
   },
   {
    "duration": 17,
    "start_time": "2022-07-27T10:51:26.288Z"
   },
   {
    "duration": 132,
    "start_time": "2022-07-27T10:51:26.307Z"
   },
   {
    "duration": 64,
    "start_time": "2022-07-27T10:51:26.441Z"
   },
   {
    "duration": 121,
    "start_time": "2022-07-27T10:51:26.507Z"
   },
   {
    "duration": 2354,
    "start_time": "2022-12-17T07:07:07.098Z"
   },
   {
    "duration": 110,
    "start_time": "2022-12-17T07:07:09.454Z"
   },
   {
    "duration": 5,
    "start_time": "2022-12-17T07:07:09.565Z"
   },
   {
    "duration": 43,
    "start_time": "2022-12-17T07:07:09.572Z"
   },
   {
    "duration": 113,
    "start_time": "2022-12-17T07:07:09.617Z"
   },
   {
    "duration": 10,
    "start_time": "2022-12-17T07:07:09.732Z"
   },
   {
    "duration": 73,
    "start_time": "2022-12-17T07:07:09.743Z"
   },
   {
    "duration": 11,
    "start_time": "2022-12-17T07:07:09.817Z"
   },
   {
    "duration": 14,
    "start_time": "2022-12-17T07:07:09.830Z"
   },
   {
    "duration": 168,
    "start_time": "2022-12-17T07:07:09.846Z"
   },
   {
    "duration": 128,
    "start_time": "2022-12-17T07:07:10.015Z"
   },
   {
    "duration": 70,
    "start_time": "2022-12-17T07:07:10.145Z"
   },
   {
    "duration": 101,
    "start_time": "2022-12-17T07:07:10.221Z"
   },
   {
    "duration": 90,
    "start_time": "2022-12-17T07:07:10.325Z"
   },
   {
    "duration": 109,
    "start_time": "2022-12-17T07:07:10.417Z"
   }
  ],
  "kernelspec": {
   "display_name": "Python 3 (ipykernel)",
   "language": "python",
   "name": "python3"
  },
  "language_info": {
   "codemirror_mode": {
    "name": "ipython",
    "version": 3
   },
   "file_extension": ".py",
   "mimetype": "text/x-python",
   "name": "python",
   "nbconvert_exporter": "python",
   "pygments_lexer": "ipython3",
   "version": "3.9.5"
  },
  "toc": {
   "base_numbering": 1,
   "nav_menu": {},
   "number_sections": true,
   "sideBar": true,
   "skip_h1_title": true,
   "title_cell": "Содержание",
   "title_sidebar": "Contents",
   "toc_cell": true,
   "toc_position": {
    "height": "calc(100% - 180px)",
    "left": "10px",
    "top": "150px",
    "width": "228.967px"
   },
   "toc_section_display": true,
   "toc_window_display": true
  }
 },
 "nbformat": 4,
 "nbformat_minor": 2
}
