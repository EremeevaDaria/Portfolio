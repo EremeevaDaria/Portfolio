{
 "cells": [
  {
   "cell_type": "markdown",
   "metadata": {},
   "source": [
    "# Определение выгодного тарифа для телеком компании"
   ]
  },
  {
   "cell_type": "markdown",
   "metadata": {},
   "source": [
    "**Цель исследования:** - определить какой тарифный план (\"Смарт\" или \"Ультра\") приносит больше денег.\n",
    "\n",
    "**Описание тарифов**\n",
    "\n",
    "**Тариф \"Смарт\"**\n",
    "1. Ежемесячная плата: 550 рублей\n",
    "2.\tВключено 500 минут разговора, 50 сообщений и 15 Гб интернет-трафика\n",
    "3.\tСтоимость услуг сверх тарифного пакета:\n",
    " * минута разговора: 3 рубля\n",
    " * сообщение: 3 рубля\n",
    " * 1 Гб интернет-трафика: 200 рублей\n",
    " \n",
    "**Тариф \"Ультра\"**\n",
    "1.\tЕжемесячная плата: 1950 рублей\n",
    "2.\tВключено 3000 минут разговора, 1000 сообщений и 30 Гб интернет-трафика\n",
    "3.\tСтоимость услуг сверх тарифного пакета:\n",
    " * минута разговора: 1 рубль\n",
    " * сообщение: 1 рубль\n",
    " * 1 Гб интернет-трафика: 150 рублей\n"
   ]
  },
  {
   "cell_type": "markdown",
   "metadata": {},
   "source": [
    "## Обзор данных"
   ]
  },
  {
   "cell_type": "code",
   "execution_count": 34,
   "metadata": {},
   "outputs": [],
   "source": [
    "#импортируем необходимые библиотеки\n",
    "import pandas as pd \n",
    "import numpy as np\n",
    "from datetime import datetime, timedelta\n",
    "import matplotlib.pyplot as plt\n",
    "import math \n",
    "import calendar\n",
    "import seaborn as sns\n",
    "from scipy import stats as st"
   ]
  },
  {
   "cell_type": "code",
   "execution_count": 35,
   "metadata": {},
   "outputs": [],
   "source": [
    "#откроем файлы\n",
    "df_calls = pd.read_csv('/datasets/calls.csv')\n",
    "df_internet = pd.read_csv('/datasets/internet.csv',index_col=[0])\n",
    "df_messages = pd.read_csv('/datasets/messages.csv')\n",
    "df_tariffs = pd.read_csv('/datasets/tariffs.csv')\n",
    "df_users = pd.read_csv('/datasets/users.csv')"
   ]
  },
  {
   "cell_type": "markdown",
   "metadata": {},
   "source": [
    "## Предобработка данных"
   ]
  },
  {
   "cell_type": "markdown",
   "metadata": {},
   "source": [
    "### Проанализируем и подготовим данные"
   ]
  },
  {
   "cell_type": "code",
   "execution_count": 36,
   "metadata": {
    "scrolled": true
   },
   "outputs": [],
   "source": [
    "#создадим универсальную функцию, которая на входе будет принимать датафрейм, а на выходе будет выводить нужные значения\n",
    "def uni_function(df):\n",
    "    display(df.info())\n",
    "    display(df.head())\n",
    "    display(df.isna().mean())\n",
    "    display(df.describe())\n",
    "    display(df.duplicated().sum())"
   ]
  },
  {
   "cell_type": "markdown",
   "metadata": {},
   "source": [
    "### Calls"
   ]
  },
  {
   "cell_type": "code",
   "execution_count": 37,
   "metadata": {
    "scrolled": true
   },
   "outputs": [
    {
     "name": "stdout",
     "output_type": "stream",
     "text": [
      "<class 'pandas.core.frame.DataFrame'>\n",
      "RangeIndex: 202607 entries, 0 to 202606\n",
      "Data columns (total 4 columns):\n",
      " #   Column     Non-Null Count   Dtype  \n",
      "---  ------     --------------   -----  \n",
      " 0   id         202607 non-null  object \n",
      " 1   call_date  202607 non-null  object \n",
      " 2   duration   202607 non-null  float64\n",
      " 3   user_id    202607 non-null  int64  \n",
      "dtypes: float64(1), int64(1), object(2)\n",
      "memory usage: 6.2+ MB\n"
     ]
    },
    {
     "data": {
      "text/plain": [
       "None"
      ]
     },
     "metadata": {},
     "output_type": "display_data"
    },
    {
     "data": {
      "text/html": [
       "<div>\n",
       "<style scoped>\n",
       "    .dataframe tbody tr th:only-of-type {\n",
       "        vertical-align: middle;\n",
       "    }\n",
       "\n",
       "    .dataframe tbody tr th {\n",
       "        vertical-align: top;\n",
       "    }\n",
       "\n",
       "    .dataframe thead th {\n",
       "        text-align: right;\n",
       "    }\n",
       "</style>\n",
       "<table border=\"1\" class=\"dataframe\">\n",
       "  <thead>\n",
       "    <tr style=\"text-align: right;\">\n",
       "      <th></th>\n",
       "      <th>id</th>\n",
       "      <th>call_date</th>\n",
       "      <th>duration</th>\n",
       "      <th>user_id</th>\n",
       "    </tr>\n",
       "  </thead>\n",
       "  <tbody>\n",
       "    <tr>\n",
       "      <th>0</th>\n",
       "      <td>1000_0</td>\n",
       "      <td>2018-07-25</td>\n",
       "      <td>0.00</td>\n",
       "      <td>1000</td>\n",
       "    </tr>\n",
       "    <tr>\n",
       "      <th>1</th>\n",
       "      <td>1000_1</td>\n",
       "      <td>2018-08-17</td>\n",
       "      <td>0.00</td>\n",
       "      <td>1000</td>\n",
       "    </tr>\n",
       "    <tr>\n",
       "      <th>2</th>\n",
       "      <td>1000_2</td>\n",
       "      <td>2018-06-11</td>\n",
       "      <td>2.85</td>\n",
       "      <td>1000</td>\n",
       "    </tr>\n",
       "    <tr>\n",
       "      <th>3</th>\n",
       "      <td>1000_3</td>\n",
       "      <td>2018-09-21</td>\n",
       "      <td>13.80</td>\n",
       "      <td>1000</td>\n",
       "    </tr>\n",
       "    <tr>\n",
       "      <th>4</th>\n",
       "      <td>1000_4</td>\n",
       "      <td>2018-12-15</td>\n",
       "      <td>5.18</td>\n",
       "      <td>1000</td>\n",
       "    </tr>\n",
       "  </tbody>\n",
       "</table>\n",
       "</div>"
      ],
      "text/plain": [
       "       id   call_date  duration  user_id\n",
       "0  1000_0  2018-07-25      0.00     1000\n",
       "1  1000_1  2018-08-17      0.00     1000\n",
       "2  1000_2  2018-06-11      2.85     1000\n",
       "3  1000_3  2018-09-21     13.80     1000\n",
       "4  1000_4  2018-12-15      5.18     1000"
      ]
     },
     "metadata": {},
     "output_type": "display_data"
    },
    {
     "data": {
      "text/plain": [
       "id          0.00\n",
       "call_date   0.00\n",
       "duration    0.00\n",
       "user_id     0.00\n",
       "dtype: float64"
      ]
     },
     "metadata": {},
     "output_type": "display_data"
    },
    {
     "data": {
      "text/html": [
       "<div>\n",
       "<style scoped>\n",
       "    .dataframe tbody tr th:only-of-type {\n",
       "        vertical-align: middle;\n",
       "    }\n",
       "\n",
       "    .dataframe tbody tr th {\n",
       "        vertical-align: top;\n",
       "    }\n",
       "\n",
       "    .dataframe thead th {\n",
       "        text-align: right;\n",
       "    }\n",
       "</style>\n",
       "<table border=\"1\" class=\"dataframe\">\n",
       "  <thead>\n",
       "    <tr style=\"text-align: right;\">\n",
       "      <th></th>\n",
       "      <th>duration</th>\n",
       "      <th>user_id</th>\n",
       "    </tr>\n",
       "  </thead>\n",
       "  <tbody>\n",
       "    <tr>\n",
       "      <th>count</th>\n",
       "      <td>202,607.00</td>\n",
       "      <td>202,607.00</td>\n",
       "    </tr>\n",
       "    <tr>\n",
       "      <th>mean</th>\n",
       "      <td>6.76</td>\n",
       "      <td>1,253.94</td>\n",
       "    </tr>\n",
       "    <tr>\n",
       "      <th>std</th>\n",
       "      <td>5.84</td>\n",
       "      <td>144.72</td>\n",
       "    </tr>\n",
       "    <tr>\n",
       "      <th>min</th>\n",
       "      <td>0.00</td>\n",
       "      <td>1,000.00</td>\n",
       "    </tr>\n",
       "    <tr>\n",
       "      <th>25%</th>\n",
       "      <td>1.30</td>\n",
       "      <td>1,126.00</td>\n",
       "    </tr>\n",
       "    <tr>\n",
       "      <th>50%</th>\n",
       "      <td>6.00</td>\n",
       "      <td>1,260.00</td>\n",
       "    </tr>\n",
       "    <tr>\n",
       "      <th>75%</th>\n",
       "      <td>10.70</td>\n",
       "      <td>1,379.00</td>\n",
       "    </tr>\n",
       "    <tr>\n",
       "      <th>max</th>\n",
       "      <td>38.00</td>\n",
       "      <td>1,499.00</td>\n",
       "    </tr>\n",
       "  </tbody>\n",
       "</table>\n",
       "</div>"
      ],
      "text/plain": [
       "        duration    user_id\n",
       "count 202,607.00 202,607.00\n",
       "mean        6.76   1,253.94\n",
       "std         5.84     144.72\n",
       "min         0.00   1,000.00\n",
       "25%         1.30   1,126.00\n",
       "50%         6.00   1,260.00\n",
       "75%        10.70   1,379.00\n",
       "max        38.00   1,499.00"
      ]
     },
     "metadata": {},
     "output_type": "display_data"
    },
    {
     "data": {
      "text/plain": [
       "0"
      ]
     },
     "metadata": {},
     "output_type": "display_data"
    }
   ],
   "source": [
    "uni_function(df_calls) #изучим датасет df_calls"
   ]
  },
  {
   "cell_type": "code",
   "execution_count": 38,
   "metadata": {},
   "outputs": [
    {
     "data": {
      "text/html": [
       "<div>\n",
       "<style scoped>\n",
       "    .dataframe tbody tr th:only-of-type {\n",
       "        vertical-align: middle;\n",
       "    }\n",
       "\n",
       "    .dataframe tbody tr th {\n",
       "        vertical-align: top;\n",
       "    }\n",
       "\n",
       "    .dataframe thead th {\n",
       "        text-align: right;\n",
       "    }\n",
       "</style>\n",
       "<table border=\"1\" class=\"dataframe\">\n",
       "  <thead>\n",
       "    <tr style=\"text-align: right;\">\n",
       "      <th></th>\n",
       "      <th>id</th>\n",
       "      <th>call_date</th>\n",
       "      <th>duration</th>\n",
       "      <th>user_id</th>\n",
       "      <th>month_number</th>\n",
       "      <th>month_name</th>\n",
       "    </tr>\n",
       "  </thead>\n",
       "  <tbody>\n",
       "    <tr>\n",
       "      <th>0</th>\n",
       "      <td>1000_0</td>\n",
       "      <td>2018-07-25</td>\n",
       "      <td>0</td>\n",
       "      <td>1000</td>\n",
       "      <td>7</td>\n",
       "      <td>July</td>\n",
       "    </tr>\n",
       "    <tr>\n",
       "      <th>1</th>\n",
       "      <td>1000_1</td>\n",
       "      <td>2018-08-17</td>\n",
       "      <td>0</td>\n",
       "      <td>1000</td>\n",
       "      <td>8</td>\n",
       "      <td>August</td>\n",
       "    </tr>\n",
       "    <tr>\n",
       "      <th>2</th>\n",
       "      <td>1000_2</td>\n",
       "      <td>2018-06-11</td>\n",
       "      <td>3</td>\n",
       "      <td>1000</td>\n",
       "      <td>6</td>\n",
       "      <td>June</td>\n",
       "    </tr>\n",
       "    <tr>\n",
       "      <th>3</th>\n",
       "      <td>1000_3</td>\n",
       "      <td>2018-09-21</td>\n",
       "      <td>14</td>\n",
       "      <td>1000</td>\n",
       "      <td>9</td>\n",
       "      <td>September</td>\n",
       "    </tr>\n",
       "    <tr>\n",
       "      <th>4</th>\n",
       "      <td>1000_4</td>\n",
       "      <td>2018-12-15</td>\n",
       "      <td>6</td>\n",
       "      <td>1000</td>\n",
       "      <td>12</td>\n",
       "      <td>December</td>\n",
       "    </tr>\n",
       "    <tr>\n",
       "      <th>...</th>\n",
       "      <td>...</td>\n",
       "      <td>...</td>\n",
       "      <td>...</td>\n",
       "      <td>...</td>\n",
       "      <td>...</td>\n",
       "      <td>...</td>\n",
       "    </tr>\n",
       "    <tr>\n",
       "      <th>202602</th>\n",
       "      <td>1499_215</td>\n",
       "      <td>2018-12-26</td>\n",
       "      <td>1</td>\n",
       "      <td>1499</td>\n",
       "      <td>12</td>\n",
       "      <td>December</td>\n",
       "    </tr>\n",
       "    <tr>\n",
       "      <th>202603</th>\n",
       "      <td>1499_216</td>\n",
       "      <td>2018-10-18</td>\n",
       "      <td>19</td>\n",
       "      <td>1499</td>\n",
       "      <td>10</td>\n",
       "      <td>October</td>\n",
       "    </tr>\n",
       "    <tr>\n",
       "      <th>202604</th>\n",
       "      <td>1499_217</td>\n",
       "      <td>2018-11-10</td>\n",
       "      <td>11</td>\n",
       "      <td>1499</td>\n",
       "      <td>11</td>\n",
       "      <td>November</td>\n",
       "    </tr>\n",
       "    <tr>\n",
       "      <th>202605</th>\n",
       "      <td>1499_218</td>\n",
       "      <td>2018-10-06</td>\n",
       "      <td>5</td>\n",
       "      <td>1499</td>\n",
       "      <td>10</td>\n",
       "      <td>October</td>\n",
       "    </tr>\n",
       "    <tr>\n",
       "      <th>202606</th>\n",
       "      <td>1499_219</td>\n",
       "      <td>2018-12-14</td>\n",
       "      <td>20</td>\n",
       "      <td>1499</td>\n",
       "      <td>12</td>\n",
       "      <td>December</td>\n",
       "    </tr>\n",
       "  </tbody>\n",
       "</table>\n",
       "<p>202607 rows × 6 columns</p>\n",
       "</div>"
      ],
      "text/plain": [
       "              id  call_date  duration  user_id  month_number month_name\n",
       "0         1000_0 2018-07-25         0     1000             7       July\n",
       "1         1000_1 2018-08-17         0     1000             8     August\n",
       "2         1000_2 2018-06-11         3     1000             6       June\n",
       "3         1000_3 2018-09-21        14     1000             9  September\n",
       "4         1000_4 2018-12-15         6     1000            12   December\n",
       "...          ...        ...       ...      ...           ...        ...\n",
       "202602  1499_215 2018-12-26         1     1499            12   December\n",
       "202603  1499_216 2018-10-18        19     1499            10    October\n",
       "202604  1499_217 2018-11-10        11     1499            11   November\n",
       "202605  1499_218 2018-10-06         5     1499            10    October\n",
       "202606  1499_219 2018-12-14        20     1499            12   December\n",
       "\n",
       "[202607 rows x 6 columns]"
      ]
     },
     "metadata": {},
     "output_type": "display_data"
    }
   ],
   "source": [
    "#округлим значения столбца duration до большего целого и преобразуем тип данных \n",
    "def ceil_value(value):\n",
    "    return math.ceil(value)\n",
    "df_calls['duration'] = df_calls['duration'].apply(ceil_value)\n",
    "#преобразуем тип данных столбца call_date\n",
    "df_calls['call_date'] = pd.to_datetime(\n",
    "    df_calls['call_date'], format='%Y-%m-%d'\n",
    ")\n",
    "#df_calls.info()\n",
    "#дабавим столбец 'month'  с номером месяца.\n",
    "df_calls['month_number'] = pd.DatetimeIndex(df_calls['call_date']).month\n",
    "\n",
    "#присвоим номеру месяца название\n",
    "df_calls['month_name'] = df_calls['month_number'].apply(lambda x: calendar.month_name[x])\n",
    "display(df_calls)"
   ]
  },
  {
   "cell_type": "markdown",
   "metadata": {},
   "source": [
    "**Вывод по датафрейму Calls**\n",
    "\n",
    "Согласно правилам телеком-компании «Мегалайн» секунды всегда округляются до минут и каждый звонок округляется отдельно: даже если он длился всего 1 секунду, будет засчитан как 1 минута. Зная это и проанализировав данные, мы обнаружили, что данные в столбце 'duration' не отвечают данным условиям. Для решения данной проблемы мы преобразовали значения столбца в тип int64, используя функцию для округления в большую сторону math.ceil.\n",
    "\n",
    "Также мы обнаружили, что формат даты не соответсвует правильному типу данных, поэтому мы преобразовали данные столбца 'call_date' в тип данных datetime64."
   ]
  },
  {
   "cell_type": "markdown",
   "metadata": {},
   "source": [
    "###  Internet"
   ]
  },
  {
   "cell_type": "code",
   "execution_count": 39,
   "metadata": {
    "scrolled": true
   },
   "outputs": [
    {
     "name": "stdout",
     "output_type": "stream",
     "text": [
      "<class 'pandas.core.frame.DataFrame'>\n",
      "Int64Index: 149396 entries, 0 to 149395\n",
      "Data columns (total 4 columns):\n",
      " #   Column        Non-Null Count   Dtype  \n",
      "---  ------        --------------   -----  \n",
      " 0   id            149396 non-null  object \n",
      " 1   mb_used       149396 non-null  float64\n",
      " 2   session_date  149396 non-null  object \n",
      " 3   user_id       149396 non-null  int64  \n",
      "dtypes: float64(1), int64(1), object(2)\n",
      "memory usage: 5.7+ MB\n"
     ]
    },
    {
     "data": {
      "text/plain": [
       "None"
      ]
     },
     "metadata": {},
     "output_type": "display_data"
    },
    {
     "data": {
      "text/html": [
       "<div>\n",
       "<style scoped>\n",
       "    .dataframe tbody tr th:only-of-type {\n",
       "        vertical-align: middle;\n",
       "    }\n",
       "\n",
       "    .dataframe tbody tr th {\n",
       "        vertical-align: top;\n",
       "    }\n",
       "\n",
       "    .dataframe thead th {\n",
       "        text-align: right;\n",
       "    }\n",
       "</style>\n",
       "<table border=\"1\" class=\"dataframe\">\n",
       "  <thead>\n",
       "    <tr style=\"text-align: right;\">\n",
       "      <th></th>\n",
       "      <th>id</th>\n",
       "      <th>mb_used</th>\n",
       "      <th>session_date</th>\n",
       "      <th>user_id</th>\n",
       "    </tr>\n",
       "  </thead>\n",
       "  <tbody>\n",
       "    <tr>\n",
       "      <th>0</th>\n",
       "      <td>1000_0</td>\n",
       "      <td>112.95</td>\n",
       "      <td>2018-11-25</td>\n",
       "      <td>1000</td>\n",
       "    </tr>\n",
       "    <tr>\n",
       "      <th>1</th>\n",
       "      <td>1000_1</td>\n",
       "      <td>1,052.81</td>\n",
       "      <td>2018-09-07</td>\n",
       "      <td>1000</td>\n",
       "    </tr>\n",
       "    <tr>\n",
       "      <th>2</th>\n",
       "      <td>1000_2</td>\n",
       "      <td>1,197.26</td>\n",
       "      <td>2018-06-25</td>\n",
       "      <td>1000</td>\n",
       "    </tr>\n",
       "    <tr>\n",
       "      <th>3</th>\n",
       "      <td>1000_3</td>\n",
       "      <td>550.27</td>\n",
       "      <td>2018-08-22</td>\n",
       "      <td>1000</td>\n",
       "    </tr>\n",
       "    <tr>\n",
       "      <th>4</th>\n",
       "      <td>1000_4</td>\n",
       "      <td>302.56</td>\n",
       "      <td>2018-09-24</td>\n",
       "      <td>1000</td>\n",
       "    </tr>\n",
       "  </tbody>\n",
       "</table>\n",
       "</div>"
      ],
      "text/plain": [
       "       id  mb_used session_date  user_id\n",
       "0  1000_0   112.95   2018-11-25     1000\n",
       "1  1000_1 1,052.81   2018-09-07     1000\n",
       "2  1000_2 1,197.26   2018-06-25     1000\n",
       "3  1000_3   550.27   2018-08-22     1000\n",
       "4  1000_4   302.56   2018-09-24     1000"
      ]
     },
     "metadata": {},
     "output_type": "display_data"
    },
    {
     "data": {
      "text/plain": [
       "id             0.00\n",
       "mb_used        0.00\n",
       "session_date   0.00\n",
       "user_id        0.00\n",
       "dtype: float64"
      ]
     },
     "metadata": {},
     "output_type": "display_data"
    },
    {
     "data": {
      "text/html": [
       "<div>\n",
       "<style scoped>\n",
       "    .dataframe tbody tr th:only-of-type {\n",
       "        vertical-align: middle;\n",
       "    }\n",
       "\n",
       "    .dataframe tbody tr th {\n",
       "        vertical-align: top;\n",
       "    }\n",
       "\n",
       "    .dataframe thead th {\n",
       "        text-align: right;\n",
       "    }\n",
       "</style>\n",
       "<table border=\"1\" class=\"dataframe\">\n",
       "  <thead>\n",
       "    <tr style=\"text-align: right;\">\n",
       "      <th></th>\n",
       "      <th>mb_used</th>\n",
       "      <th>user_id</th>\n",
       "    </tr>\n",
       "  </thead>\n",
       "  <tbody>\n",
       "    <tr>\n",
       "      <th>count</th>\n",
       "      <td>149,396.00</td>\n",
       "      <td>149,396.00</td>\n",
       "    </tr>\n",
       "    <tr>\n",
       "      <th>mean</th>\n",
       "      <td>370.19</td>\n",
       "      <td>1,252.10</td>\n",
       "    </tr>\n",
       "    <tr>\n",
       "      <th>std</th>\n",
       "      <td>278.30</td>\n",
       "      <td>144.05</td>\n",
       "    </tr>\n",
       "    <tr>\n",
       "      <th>min</th>\n",
       "      <td>0.00</td>\n",
       "      <td>1,000.00</td>\n",
       "    </tr>\n",
       "    <tr>\n",
       "      <th>25%</th>\n",
       "      <td>138.19</td>\n",
       "      <td>1,130.00</td>\n",
       "    </tr>\n",
       "    <tr>\n",
       "      <th>50%</th>\n",
       "      <td>348.01</td>\n",
       "      <td>1,251.00</td>\n",
       "    </tr>\n",
       "    <tr>\n",
       "      <th>75%</th>\n",
       "      <td>559.55</td>\n",
       "      <td>1,380.00</td>\n",
       "    </tr>\n",
       "    <tr>\n",
       "      <th>max</th>\n",
       "      <td>1,724.83</td>\n",
       "      <td>1,499.00</td>\n",
       "    </tr>\n",
       "  </tbody>\n",
       "</table>\n",
       "</div>"
      ],
      "text/plain": [
       "         mb_used    user_id\n",
       "count 149,396.00 149,396.00\n",
       "mean      370.19   1,252.10\n",
       "std       278.30     144.05\n",
       "min         0.00   1,000.00\n",
       "25%       138.19   1,130.00\n",
       "50%       348.01   1,251.00\n",
       "75%       559.55   1,380.00\n",
       "max     1,724.83   1,499.00"
      ]
     },
     "metadata": {},
     "output_type": "display_data"
    },
    {
     "data": {
      "text/plain": [
       "0"
      ]
     },
     "metadata": {},
     "output_type": "display_data"
    }
   ],
   "source": [
    "uni_function(df_internet) #изучим датасет df_internet"
   ]
  },
  {
   "cell_type": "code",
   "execution_count": 40,
   "metadata": {
    "scrolled": true
   },
   "outputs": [
    {
     "data": {
      "text/html": [
       "<div>\n",
       "<style scoped>\n",
       "    .dataframe tbody tr th:only-of-type {\n",
       "        vertical-align: middle;\n",
       "    }\n",
       "\n",
       "    .dataframe tbody tr th {\n",
       "        vertical-align: top;\n",
       "    }\n",
       "\n",
       "    .dataframe thead th {\n",
       "        text-align: right;\n",
       "    }\n",
       "</style>\n",
       "<table border=\"1\" class=\"dataframe\">\n",
       "  <thead>\n",
       "    <tr style=\"text-align: right;\">\n",
       "      <th></th>\n",
       "      <th>id</th>\n",
       "      <th>mb_used</th>\n",
       "      <th>session_date</th>\n",
       "      <th>user_id</th>\n",
       "      <th>month_number</th>\n",
       "      <th>month_name</th>\n",
       "      <th>gb_used</th>\n",
       "    </tr>\n",
       "  </thead>\n",
       "  <tbody>\n",
       "    <tr>\n",
       "      <th>0</th>\n",
       "      <td>1000_0</td>\n",
       "      <td>112.95</td>\n",
       "      <td>2018-11-25</td>\n",
       "      <td>1000</td>\n",
       "      <td>11</td>\n",
       "      <td>November</td>\n",
       "      <td>0.11</td>\n",
       "    </tr>\n",
       "    <tr>\n",
       "      <th>1</th>\n",
       "      <td>1000_1</td>\n",
       "      <td>1,052.81</td>\n",
       "      <td>2018-09-07</td>\n",
       "      <td>1000</td>\n",
       "      <td>9</td>\n",
       "      <td>September</td>\n",
       "      <td>1.03</td>\n",
       "    </tr>\n",
       "    <tr>\n",
       "      <th>2</th>\n",
       "      <td>1000_2</td>\n",
       "      <td>1,197.26</td>\n",
       "      <td>2018-06-25</td>\n",
       "      <td>1000</td>\n",
       "      <td>6</td>\n",
       "      <td>June</td>\n",
       "      <td>1.17</td>\n",
       "    </tr>\n",
       "    <tr>\n",
       "      <th>3</th>\n",
       "      <td>1000_3</td>\n",
       "      <td>550.27</td>\n",
       "      <td>2018-08-22</td>\n",
       "      <td>1000</td>\n",
       "      <td>8</td>\n",
       "      <td>August</td>\n",
       "      <td>0.54</td>\n",
       "    </tr>\n",
       "    <tr>\n",
       "      <th>4</th>\n",
       "      <td>1000_4</td>\n",
       "      <td>302.56</td>\n",
       "      <td>2018-09-24</td>\n",
       "      <td>1000</td>\n",
       "      <td>9</td>\n",
       "      <td>September</td>\n",
       "      <td>0.30</td>\n",
       "    </tr>\n",
       "    <tr>\n",
       "      <th>...</th>\n",
       "      <td>...</td>\n",
       "      <td>...</td>\n",
       "      <td>...</td>\n",
       "      <td>...</td>\n",
       "      <td>...</td>\n",
       "      <td>...</td>\n",
       "      <td>...</td>\n",
       "    </tr>\n",
       "    <tr>\n",
       "      <th>149391</th>\n",
       "      <td>1499_152</td>\n",
       "      <td>318.90</td>\n",
       "      <td>2018-10-03</td>\n",
       "      <td>1499</td>\n",
       "      <td>10</td>\n",
       "      <td>October</td>\n",
       "      <td>0.31</td>\n",
       "    </tr>\n",
       "    <tr>\n",
       "      <th>149392</th>\n",
       "      <td>1499_153</td>\n",
       "      <td>490.13</td>\n",
       "      <td>2018-12-14</td>\n",
       "      <td>1499</td>\n",
       "      <td>12</td>\n",
       "      <td>December</td>\n",
       "      <td>0.48</td>\n",
       "    </tr>\n",
       "    <tr>\n",
       "      <th>149393</th>\n",
       "      <td>1499_154</td>\n",
       "      <td>0.00</td>\n",
       "      <td>2018-10-27</td>\n",
       "      <td>1499</td>\n",
       "      <td>10</td>\n",
       "      <td>October</td>\n",
       "      <td>0.00</td>\n",
       "    </tr>\n",
       "    <tr>\n",
       "      <th>149394</th>\n",
       "      <td>1499_155</td>\n",
       "      <td>1,246.32</td>\n",
       "      <td>2018-11-26</td>\n",
       "      <td>1499</td>\n",
       "      <td>11</td>\n",
       "      <td>November</td>\n",
       "      <td>1.22</td>\n",
       "    </tr>\n",
       "    <tr>\n",
       "      <th>149395</th>\n",
       "      <td>1499_156</td>\n",
       "      <td>544.37</td>\n",
       "      <td>2018-10-26</td>\n",
       "      <td>1499</td>\n",
       "      <td>10</td>\n",
       "      <td>October</td>\n",
       "      <td>0.53</td>\n",
       "    </tr>\n",
       "  </tbody>\n",
       "</table>\n",
       "<p>149396 rows × 7 columns</p>\n",
       "</div>"
      ],
      "text/plain": [
       "              id  mb_used session_date  user_id  month_number month_name  \\\n",
       "0         1000_0   112.95   2018-11-25     1000            11   November   \n",
       "1         1000_1 1,052.81   2018-09-07     1000             9  September   \n",
       "2         1000_2 1,197.26   2018-06-25     1000             6       June   \n",
       "3         1000_3   550.27   2018-08-22     1000             8     August   \n",
       "4         1000_4   302.56   2018-09-24     1000             9  September   \n",
       "...          ...      ...          ...      ...           ...        ...   \n",
       "149391  1499_152   318.90   2018-10-03     1499            10    October   \n",
       "149392  1499_153   490.13   2018-12-14     1499            12   December   \n",
       "149393  1499_154     0.00   2018-10-27     1499            10    October   \n",
       "149394  1499_155 1,246.32   2018-11-26     1499            11   November   \n",
       "149395  1499_156   544.37   2018-10-26     1499            10    October   \n",
       "\n",
       "        gb_used  \n",
       "0          0.11  \n",
       "1          1.03  \n",
       "2          1.17  \n",
       "3          0.54  \n",
       "4          0.30  \n",
       "...         ...  \n",
       "149391     0.31  \n",
       "149392     0.48  \n",
       "149393     0.00  \n",
       "149394     1.22  \n",
       "149395     0.53  \n",
       "\n",
       "[149396 rows x 7 columns]"
      ]
     },
     "metadata": {},
     "output_type": "display_data"
    }
   ],
   "source": [
    "#преобразуем тип данных столбца session_date\n",
    "df_internet['session_date'] = pd.to_datetime(\n",
    "    df_internet['session_date'], format='%Y-%m-%d')\n",
    "\n",
    "#дабавим столбец 'month'  с номером месяца.\n",
    "df_internet['month_number'] = pd.DatetimeIndex(df_internet['session_date']).month\n",
    "#присвоим номеру месяца название\n",
    "df_internet['month_name'] = df_internet['month_number'].apply(lambda x: calendar.month_name[x])\n",
    "\n",
    "#добавим столбец gb_used(перевод Мб в Гб)\n",
    "df_internet['gb_used'] = df_internet['mb_used']/1024\n",
    "display(df_internet)"
   ]
  },
  {
   "cell_type": "markdown",
   "metadata": {},
   "source": [
    "**Вывод по датафрейму internet**\n",
    "\n",
    "После анализа данных мы определили, что в столбцах нет пропущенных значений, но есть ошибки в типе и в способе записи данных. Данные в столбце mb_used мы округлили до большего целого, а так же для столбца session_date изменили тип данных, с object на datetime64.\n",
    "\n",
    "Т.к оплата за тариф осуществляется в Гб, мы добавили новый столбец 'gb_used', куда поместили значения столбца 'mb_used' в Гб, округленные до большего целого значения."
   ]
  },
  {
   "cell_type": "markdown",
   "metadata": {},
   "source": [
    "### Messages"
   ]
  },
  {
   "cell_type": "code",
   "execution_count": 41,
   "metadata": {
    "scrolled": true
   },
   "outputs": [
    {
     "name": "stdout",
     "output_type": "stream",
     "text": [
      "<class 'pandas.core.frame.DataFrame'>\n",
      "RangeIndex: 123036 entries, 0 to 123035\n",
      "Data columns (total 3 columns):\n",
      " #   Column        Non-Null Count   Dtype \n",
      "---  ------        --------------   ----- \n",
      " 0   id            123036 non-null  object\n",
      " 1   message_date  123036 non-null  object\n",
      " 2   user_id       123036 non-null  int64 \n",
      "dtypes: int64(1), object(2)\n",
      "memory usage: 2.8+ MB\n"
     ]
    },
    {
     "data": {
      "text/plain": [
       "None"
      ]
     },
     "metadata": {},
     "output_type": "display_data"
    },
    {
     "data": {
      "text/html": [
       "<div>\n",
       "<style scoped>\n",
       "    .dataframe tbody tr th:only-of-type {\n",
       "        vertical-align: middle;\n",
       "    }\n",
       "\n",
       "    .dataframe tbody tr th {\n",
       "        vertical-align: top;\n",
       "    }\n",
       "\n",
       "    .dataframe thead th {\n",
       "        text-align: right;\n",
       "    }\n",
       "</style>\n",
       "<table border=\"1\" class=\"dataframe\">\n",
       "  <thead>\n",
       "    <tr style=\"text-align: right;\">\n",
       "      <th></th>\n",
       "      <th>id</th>\n",
       "      <th>message_date</th>\n",
       "      <th>user_id</th>\n",
       "    </tr>\n",
       "  </thead>\n",
       "  <tbody>\n",
       "    <tr>\n",
       "      <th>0</th>\n",
       "      <td>1000_0</td>\n",
       "      <td>2018-06-27</td>\n",
       "      <td>1000</td>\n",
       "    </tr>\n",
       "    <tr>\n",
       "      <th>1</th>\n",
       "      <td>1000_1</td>\n",
       "      <td>2018-10-08</td>\n",
       "      <td>1000</td>\n",
       "    </tr>\n",
       "    <tr>\n",
       "      <th>2</th>\n",
       "      <td>1000_2</td>\n",
       "      <td>2018-08-04</td>\n",
       "      <td>1000</td>\n",
       "    </tr>\n",
       "    <tr>\n",
       "      <th>3</th>\n",
       "      <td>1000_3</td>\n",
       "      <td>2018-06-16</td>\n",
       "      <td>1000</td>\n",
       "    </tr>\n",
       "    <tr>\n",
       "      <th>4</th>\n",
       "      <td>1000_4</td>\n",
       "      <td>2018-12-05</td>\n",
       "      <td>1000</td>\n",
       "    </tr>\n",
       "  </tbody>\n",
       "</table>\n",
       "</div>"
      ],
      "text/plain": [
       "       id message_date  user_id\n",
       "0  1000_0   2018-06-27     1000\n",
       "1  1000_1   2018-10-08     1000\n",
       "2  1000_2   2018-08-04     1000\n",
       "3  1000_3   2018-06-16     1000\n",
       "4  1000_4   2018-12-05     1000"
      ]
     },
     "metadata": {},
     "output_type": "display_data"
    },
    {
     "data": {
      "text/plain": [
       "id             0.00\n",
       "message_date   0.00\n",
       "user_id        0.00\n",
       "dtype: float64"
      ]
     },
     "metadata": {},
     "output_type": "display_data"
    },
    {
     "data": {
      "text/html": [
       "<div>\n",
       "<style scoped>\n",
       "    .dataframe tbody tr th:only-of-type {\n",
       "        vertical-align: middle;\n",
       "    }\n",
       "\n",
       "    .dataframe tbody tr th {\n",
       "        vertical-align: top;\n",
       "    }\n",
       "\n",
       "    .dataframe thead th {\n",
       "        text-align: right;\n",
       "    }\n",
       "</style>\n",
       "<table border=\"1\" class=\"dataframe\">\n",
       "  <thead>\n",
       "    <tr style=\"text-align: right;\">\n",
       "      <th></th>\n",
       "      <th>user_id</th>\n",
       "    </tr>\n",
       "  </thead>\n",
       "  <tbody>\n",
       "    <tr>\n",
       "      <th>count</th>\n",
       "      <td>123,036.00</td>\n",
       "    </tr>\n",
       "    <tr>\n",
       "      <th>mean</th>\n",
       "      <td>1,256.99</td>\n",
       "    </tr>\n",
       "    <tr>\n",
       "      <th>std</th>\n",
       "      <td>143.52</td>\n",
       "    </tr>\n",
       "    <tr>\n",
       "      <th>min</th>\n",
       "      <td>1,000.00</td>\n",
       "    </tr>\n",
       "    <tr>\n",
       "      <th>25%</th>\n",
       "      <td>1,134.00</td>\n",
       "    </tr>\n",
       "    <tr>\n",
       "      <th>50%</th>\n",
       "      <td>1,271.00</td>\n",
       "    </tr>\n",
       "    <tr>\n",
       "      <th>75%</th>\n",
       "      <td>1,381.00</td>\n",
       "    </tr>\n",
       "    <tr>\n",
       "      <th>max</th>\n",
       "      <td>1,499.00</td>\n",
       "    </tr>\n",
       "  </tbody>\n",
       "</table>\n",
       "</div>"
      ],
      "text/plain": [
       "         user_id\n",
       "count 123,036.00\n",
       "mean    1,256.99\n",
       "std       143.52\n",
       "min     1,000.00\n",
       "25%     1,134.00\n",
       "50%     1,271.00\n",
       "75%     1,381.00\n",
       "max     1,499.00"
      ]
     },
     "metadata": {},
     "output_type": "display_data"
    },
    {
     "data": {
      "text/plain": [
       "0"
      ]
     },
     "metadata": {},
     "output_type": "display_data"
    }
   ],
   "source": [
    "uni_function(df_messages) #изучим датасет df_messages"
   ]
  },
  {
   "cell_type": "code",
   "execution_count": 42,
   "metadata": {},
   "outputs": [],
   "source": [
    "#преобразуем тип данных столбца message_date\n",
    "df_messages['message_date'] = pd.to_datetime(\n",
    "    df_messages['message_date'], format='%Y-%m-%d')\n",
    "#дабавим столбец 'month'  с номером месяца.\n",
    "df_messages['month_number'] = pd.DatetimeIndex(df_messages['message_date']).month\n",
    "#присвоим номеру месяца название\n",
    "df_messages['month_name'] = df_messages['month_number'].apply(lambda x: calendar.month_name[x])\n",
    "#display(df_messages.head())"
   ]
  },
  {
   "cell_type": "markdown",
   "metadata": {},
   "source": [
    "**Вывод по датафрейму messages**\n",
    "\n",
    "После анализа данных мы определили, что в столбцах нет пропущенных значений, но есть ошибки в типе данных. Поэтому для столбца message_date изменили тип данных, с object на datetime64."
   ]
  },
  {
   "cell_type": "markdown",
   "metadata": {},
   "source": [
    "### Tariffs"
   ]
  },
  {
   "cell_type": "code",
   "execution_count": 43,
   "metadata": {
    "scrolled": true
   },
   "outputs": [
    {
     "name": "stdout",
     "output_type": "stream",
     "text": [
      "<class 'pandas.core.frame.DataFrame'>\n",
      "RangeIndex: 2 entries, 0 to 1\n",
      "Data columns (total 8 columns):\n",
      " #   Column                 Non-Null Count  Dtype \n",
      "---  ------                 --------------  ----- \n",
      " 0   messages_included      2 non-null      int64 \n",
      " 1   mb_per_month_included  2 non-null      int64 \n",
      " 2   minutes_included       2 non-null      int64 \n",
      " 3   rub_monthly_fee        2 non-null      int64 \n",
      " 4   rub_per_gb             2 non-null      int64 \n",
      " 5   rub_per_message        2 non-null      int64 \n",
      " 6   rub_per_minute         2 non-null      int64 \n",
      " 7   tariff_name            2 non-null      object\n",
      "dtypes: int64(7), object(1)\n",
      "memory usage: 256.0+ bytes\n"
     ]
    },
    {
     "data": {
      "text/plain": [
       "None"
      ]
     },
     "metadata": {},
     "output_type": "display_data"
    },
    {
     "data": {
      "text/html": [
       "<div>\n",
       "<style scoped>\n",
       "    .dataframe tbody tr th:only-of-type {\n",
       "        vertical-align: middle;\n",
       "    }\n",
       "\n",
       "    .dataframe tbody tr th {\n",
       "        vertical-align: top;\n",
       "    }\n",
       "\n",
       "    .dataframe thead th {\n",
       "        text-align: right;\n",
       "    }\n",
       "</style>\n",
       "<table border=\"1\" class=\"dataframe\">\n",
       "  <thead>\n",
       "    <tr style=\"text-align: right;\">\n",
       "      <th></th>\n",
       "      <th>messages_included</th>\n",
       "      <th>mb_per_month_included</th>\n",
       "      <th>minutes_included</th>\n",
       "      <th>rub_monthly_fee</th>\n",
       "      <th>rub_per_gb</th>\n",
       "      <th>rub_per_message</th>\n",
       "      <th>rub_per_minute</th>\n",
       "      <th>tariff_name</th>\n",
       "    </tr>\n",
       "  </thead>\n",
       "  <tbody>\n",
       "    <tr>\n",
       "      <th>0</th>\n",
       "      <td>50</td>\n",
       "      <td>15360</td>\n",
       "      <td>500</td>\n",
       "      <td>550</td>\n",
       "      <td>200</td>\n",
       "      <td>3</td>\n",
       "      <td>3</td>\n",
       "      <td>smart</td>\n",
       "    </tr>\n",
       "    <tr>\n",
       "      <th>1</th>\n",
       "      <td>1000</td>\n",
       "      <td>30720</td>\n",
       "      <td>3000</td>\n",
       "      <td>1950</td>\n",
       "      <td>150</td>\n",
       "      <td>1</td>\n",
       "      <td>1</td>\n",
       "      <td>ultra</td>\n",
       "    </tr>\n",
       "  </tbody>\n",
       "</table>\n",
       "</div>"
      ],
      "text/plain": [
       "   messages_included  mb_per_month_included  minutes_included  \\\n",
       "0                 50                  15360               500   \n",
       "1               1000                  30720              3000   \n",
       "\n",
       "   rub_monthly_fee  rub_per_gb  rub_per_message  rub_per_minute tariff_name  \n",
       "0              550         200                3               3       smart  \n",
       "1             1950         150                1               1       ultra  "
      ]
     },
     "metadata": {},
     "output_type": "display_data"
    },
    {
     "data": {
      "text/plain": [
       "messages_included       0.00\n",
       "mb_per_month_included   0.00\n",
       "minutes_included        0.00\n",
       "rub_monthly_fee         0.00\n",
       "rub_per_gb              0.00\n",
       "rub_per_message         0.00\n",
       "rub_per_minute          0.00\n",
       "tariff_name             0.00\n",
       "dtype: float64"
      ]
     },
     "metadata": {},
     "output_type": "display_data"
    },
    {
     "data": {
      "text/html": [
       "<div>\n",
       "<style scoped>\n",
       "    .dataframe tbody tr th:only-of-type {\n",
       "        vertical-align: middle;\n",
       "    }\n",
       "\n",
       "    .dataframe tbody tr th {\n",
       "        vertical-align: top;\n",
       "    }\n",
       "\n",
       "    .dataframe thead th {\n",
       "        text-align: right;\n",
       "    }\n",
       "</style>\n",
       "<table border=\"1\" class=\"dataframe\">\n",
       "  <thead>\n",
       "    <tr style=\"text-align: right;\">\n",
       "      <th></th>\n",
       "      <th>messages_included</th>\n",
       "      <th>mb_per_month_included</th>\n",
       "      <th>minutes_included</th>\n",
       "      <th>rub_monthly_fee</th>\n",
       "      <th>rub_per_gb</th>\n",
       "      <th>rub_per_message</th>\n",
       "      <th>rub_per_minute</th>\n",
       "    </tr>\n",
       "  </thead>\n",
       "  <tbody>\n",
       "    <tr>\n",
       "      <th>count</th>\n",
       "      <td>2.00</td>\n",
       "      <td>2.00</td>\n",
       "      <td>2.00</td>\n",
       "      <td>2.00</td>\n",
       "      <td>2.00</td>\n",
       "      <td>2.00</td>\n",
       "      <td>2.00</td>\n",
       "    </tr>\n",
       "    <tr>\n",
       "      <th>mean</th>\n",
       "      <td>525.00</td>\n",
       "      <td>23,040.00</td>\n",
       "      <td>1,750.00</td>\n",
       "      <td>1,250.00</td>\n",
       "      <td>175.00</td>\n",
       "      <td>2.00</td>\n",
       "      <td>2.00</td>\n",
       "    </tr>\n",
       "    <tr>\n",
       "      <th>std</th>\n",
       "      <td>671.75</td>\n",
       "      <td>10,861.16</td>\n",
       "      <td>1,767.77</td>\n",
       "      <td>989.95</td>\n",
       "      <td>35.36</td>\n",
       "      <td>1.41</td>\n",
       "      <td>1.41</td>\n",
       "    </tr>\n",
       "    <tr>\n",
       "      <th>min</th>\n",
       "      <td>50.00</td>\n",
       "      <td>15,360.00</td>\n",
       "      <td>500.00</td>\n",
       "      <td>550.00</td>\n",
       "      <td>150.00</td>\n",
       "      <td>1.00</td>\n",
       "      <td>1.00</td>\n",
       "    </tr>\n",
       "    <tr>\n",
       "      <th>25%</th>\n",
       "      <td>287.50</td>\n",
       "      <td>19,200.00</td>\n",
       "      <td>1,125.00</td>\n",
       "      <td>900.00</td>\n",
       "      <td>162.50</td>\n",
       "      <td>1.50</td>\n",
       "      <td>1.50</td>\n",
       "    </tr>\n",
       "    <tr>\n",
       "      <th>50%</th>\n",
       "      <td>525.00</td>\n",
       "      <td>23,040.00</td>\n",
       "      <td>1,750.00</td>\n",
       "      <td>1,250.00</td>\n",
       "      <td>175.00</td>\n",
       "      <td>2.00</td>\n",
       "      <td>2.00</td>\n",
       "    </tr>\n",
       "    <tr>\n",
       "      <th>75%</th>\n",
       "      <td>762.50</td>\n",
       "      <td>26,880.00</td>\n",
       "      <td>2,375.00</td>\n",
       "      <td>1,600.00</td>\n",
       "      <td>187.50</td>\n",
       "      <td>2.50</td>\n",
       "      <td>2.50</td>\n",
       "    </tr>\n",
       "    <tr>\n",
       "      <th>max</th>\n",
       "      <td>1,000.00</td>\n",
       "      <td>30,720.00</td>\n",
       "      <td>3,000.00</td>\n",
       "      <td>1,950.00</td>\n",
       "      <td>200.00</td>\n",
       "      <td>3.00</td>\n",
       "      <td>3.00</td>\n",
       "    </tr>\n",
       "  </tbody>\n",
       "</table>\n",
       "</div>"
      ],
      "text/plain": [
       "       messages_included  mb_per_month_included  minutes_included  \\\n",
       "count               2.00                   2.00              2.00   \n",
       "mean              525.00              23,040.00          1,750.00   \n",
       "std               671.75              10,861.16          1,767.77   \n",
       "min                50.00              15,360.00            500.00   \n",
       "25%               287.50              19,200.00          1,125.00   \n",
       "50%               525.00              23,040.00          1,750.00   \n",
       "75%               762.50              26,880.00          2,375.00   \n",
       "max             1,000.00              30,720.00          3,000.00   \n",
       "\n",
       "       rub_monthly_fee  rub_per_gb  rub_per_message  rub_per_minute  \n",
       "count             2.00        2.00             2.00            2.00  \n",
       "mean          1,250.00      175.00             2.00            2.00  \n",
       "std             989.95       35.36             1.41            1.41  \n",
       "min             550.00      150.00             1.00            1.00  \n",
       "25%             900.00      162.50             1.50            1.50  \n",
       "50%           1,250.00      175.00             2.00            2.00  \n",
       "75%           1,600.00      187.50             2.50            2.50  \n",
       "max           1,950.00      200.00             3.00            3.00  "
      ]
     },
     "metadata": {},
     "output_type": "display_data"
    },
    {
     "data": {
      "text/plain": [
       "0"
      ]
     },
     "metadata": {},
     "output_type": "display_data"
    }
   ],
   "source": [
    "uni_function(df_tariffs) #изучим датасет df_tariffs"
   ]
  },
  {
   "cell_type": "code",
   "execution_count": 44,
   "metadata": {},
   "outputs": [
    {
     "data": {
      "text/html": [
       "<div>\n",
       "<style scoped>\n",
       "    .dataframe tbody tr th:only-of-type {\n",
       "        vertical-align: middle;\n",
       "    }\n",
       "\n",
       "    .dataframe tbody tr th {\n",
       "        vertical-align: top;\n",
       "    }\n",
       "\n",
       "    .dataframe thead th {\n",
       "        text-align: right;\n",
       "    }\n",
       "</style>\n",
       "<table border=\"1\" class=\"dataframe\">\n",
       "  <thead>\n",
       "    <tr style=\"text-align: right;\">\n",
       "      <th></th>\n",
       "      <th>messages_included</th>\n",
       "      <th>mb_per_month_included</th>\n",
       "      <th>minutes_included</th>\n",
       "      <th>rub_monthly_fee</th>\n",
       "      <th>rub_per_gb</th>\n",
       "      <th>rub_per_message</th>\n",
       "      <th>rub_per_minute</th>\n",
       "      <th>tariff_name</th>\n",
       "      <th>gb_per_month_included</th>\n",
       "    </tr>\n",
       "  </thead>\n",
       "  <tbody>\n",
       "    <tr>\n",
       "      <th>0</th>\n",
       "      <td>50</td>\n",
       "      <td>15360</td>\n",
       "      <td>500</td>\n",
       "      <td>550</td>\n",
       "      <td>200</td>\n",
       "      <td>3</td>\n",
       "      <td>3</td>\n",
       "      <td>smart</td>\n",
       "      <td>15</td>\n",
       "    </tr>\n",
       "    <tr>\n",
       "      <th>1</th>\n",
       "      <td>1000</td>\n",
       "      <td>30720</td>\n",
       "      <td>3000</td>\n",
       "      <td>1950</td>\n",
       "      <td>150</td>\n",
       "      <td>1</td>\n",
       "      <td>1</td>\n",
       "      <td>ultra</td>\n",
       "      <td>30</td>\n",
       "    </tr>\n",
       "  </tbody>\n",
       "</table>\n",
       "</div>"
      ],
      "text/plain": [
       "   messages_included  mb_per_month_included  minutes_included  \\\n",
       "0                 50                  15360               500   \n",
       "1               1000                  30720              3000   \n",
       "\n",
       "   rub_monthly_fee  rub_per_gb  rub_per_message  rub_per_minute tariff_name  \\\n",
       "0              550         200                3               3       smart   \n",
       "1             1950         150                1               1       ultra   \n",
       "\n",
       "   gb_per_month_included  \n",
       "0                     15  \n",
       "1                     30  "
      ]
     },
     "metadata": {},
     "output_type": "display_data"
    }
   ],
   "source": [
    "#добавим столбец gb_per_month_included(перевод Мб в Гб)\n",
    "df_tariffs['gb_per_month_included'] = df_tariffs['mb_per_month_included']/1024\n",
    "df_tariffs['gb_per_month_included'] = df_tariffs['gb_per_month_included'].astype('int')\n",
    "display(df_tariffs)"
   ]
  },
  {
   "cell_type": "markdown",
   "metadata": {},
   "source": [
    "**Вывод по датафрейму Tariffs**\n",
    "\n",
    "Пропущенных значений не обнаружено, ошибок не выявлено.\n",
    "Т.к оплата за тариф осуществляется в Гб, мы добавили новый столбец 'gb_per_month_included', куда поместили значения столбца 'mb_per_month_included' в Гб."
   ]
  },
  {
   "cell_type": "markdown",
   "metadata": {},
   "source": [
    "### Users"
   ]
  },
  {
   "cell_type": "code",
   "execution_count": 45,
   "metadata": {
    "scrolled": true
   },
   "outputs": [
    {
     "name": "stdout",
     "output_type": "stream",
     "text": [
      "<class 'pandas.core.frame.DataFrame'>\n",
      "RangeIndex: 500 entries, 0 to 499\n",
      "Data columns (total 8 columns):\n",
      " #   Column      Non-Null Count  Dtype \n",
      "---  ------      --------------  ----- \n",
      " 0   user_id     500 non-null    int64 \n",
      " 1   age         500 non-null    int64 \n",
      " 2   churn_date  38 non-null     object\n",
      " 3   city        500 non-null    object\n",
      " 4   first_name  500 non-null    object\n",
      " 5   last_name   500 non-null    object\n",
      " 6   reg_date    500 non-null    object\n",
      " 7   tariff      500 non-null    object\n",
      "dtypes: int64(2), object(6)\n",
      "memory usage: 31.4+ KB\n"
     ]
    },
    {
     "data": {
      "text/plain": [
       "None"
      ]
     },
     "metadata": {},
     "output_type": "display_data"
    },
    {
     "data": {
      "text/html": [
       "<div>\n",
       "<style scoped>\n",
       "    .dataframe tbody tr th:only-of-type {\n",
       "        vertical-align: middle;\n",
       "    }\n",
       "\n",
       "    .dataframe tbody tr th {\n",
       "        vertical-align: top;\n",
       "    }\n",
       "\n",
       "    .dataframe thead th {\n",
       "        text-align: right;\n",
       "    }\n",
       "</style>\n",
       "<table border=\"1\" class=\"dataframe\">\n",
       "  <thead>\n",
       "    <tr style=\"text-align: right;\">\n",
       "      <th></th>\n",
       "      <th>user_id</th>\n",
       "      <th>age</th>\n",
       "      <th>churn_date</th>\n",
       "      <th>city</th>\n",
       "      <th>first_name</th>\n",
       "      <th>last_name</th>\n",
       "      <th>reg_date</th>\n",
       "      <th>tariff</th>\n",
       "    </tr>\n",
       "  </thead>\n",
       "  <tbody>\n",
       "    <tr>\n",
       "      <th>0</th>\n",
       "      <td>1000</td>\n",
       "      <td>52</td>\n",
       "      <td>NaN</td>\n",
       "      <td>Краснодар</td>\n",
       "      <td>Рафаил</td>\n",
       "      <td>Верещагин</td>\n",
       "      <td>2018-05-25</td>\n",
       "      <td>ultra</td>\n",
       "    </tr>\n",
       "    <tr>\n",
       "      <th>1</th>\n",
       "      <td>1001</td>\n",
       "      <td>41</td>\n",
       "      <td>NaN</td>\n",
       "      <td>Москва</td>\n",
       "      <td>Иван</td>\n",
       "      <td>Ежов</td>\n",
       "      <td>2018-11-01</td>\n",
       "      <td>smart</td>\n",
       "    </tr>\n",
       "    <tr>\n",
       "      <th>2</th>\n",
       "      <td>1002</td>\n",
       "      <td>59</td>\n",
       "      <td>NaN</td>\n",
       "      <td>Стерлитамак</td>\n",
       "      <td>Евгений</td>\n",
       "      <td>Абрамович</td>\n",
       "      <td>2018-06-17</td>\n",
       "      <td>smart</td>\n",
       "    </tr>\n",
       "    <tr>\n",
       "      <th>3</th>\n",
       "      <td>1003</td>\n",
       "      <td>23</td>\n",
       "      <td>NaN</td>\n",
       "      <td>Москва</td>\n",
       "      <td>Белла</td>\n",
       "      <td>Белякова</td>\n",
       "      <td>2018-08-17</td>\n",
       "      <td>ultra</td>\n",
       "    </tr>\n",
       "    <tr>\n",
       "      <th>4</th>\n",
       "      <td>1004</td>\n",
       "      <td>68</td>\n",
       "      <td>NaN</td>\n",
       "      <td>Новокузнецк</td>\n",
       "      <td>Татьяна</td>\n",
       "      <td>Авдеенко</td>\n",
       "      <td>2018-05-14</td>\n",
       "      <td>ultra</td>\n",
       "    </tr>\n",
       "  </tbody>\n",
       "</table>\n",
       "</div>"
      ],
      "text/plain": [
       "   user_id  age churn_date         city first_name  last_name    reg_date  \\\n",
       "0     1000   52        NaN    Краснодар     Рафаил  Верещагин  2018-05-25   \n",
       "1     1001   41        NaN       Москва       Иван       Ежов  2018-11-01   \n",
       "2     1002   59        NaN  Стерлитамак    Евгений  Абрамович  2018-06-17   \n",
       "3     1003   23        NaN       Москва      Белла   Белякова  2018-08-17   \n",
       "4     1004   68        NaN  Новокузнецк    Татьяна   Авдеенко  2018-05-14   \n",
       "\n",
       "  tariff  \n",
       "0  ultra  \n",
       "1  smart  \n",
       "2  smart  \n",
       "3  ultra  \n",
       "4  ultra  "
      ]
     },
     "metadata": {},
     "output_type": "display_data"
    },
    {
     "data": {
      "text/plain": [
       "user_id      0.00\n",
       "age          0.00\n",
       "churn_date   0.92\n",
       "city         0.00\n",
       "first_name   0.00\n",
       "last_name    0.00\n",
       "reg_date     0.00\n",
       "tariff       0.00\n",
       "dtype: float64"
      ]
     },
     "metadata": {},
     "output_type": "display_data"
    },
    {
     "data": {
      "text/html": [
       "<div>\n",
       "<style scoped>\n",
       "    .dataframe tbody tr th:only-of-type {\n",
       "        vertical-align: middle;\n",
       "    }\n",
       "\n",
       "    .dataframe tbody tr th {\n",
       "        vertical-align: top;\n",
       "    }\n",
       "\n",
       "    .dataframe thead th {\n",
       "        text-align: right;\n",
       "    }\n",
       "</style>\n",
       "<table border=\"1\" class=\"dataframe\">\n",
       "  <thead>\n",
       "    <tr style=\"text-align: right;\">\n",
       "      <th></th>\n",
       "      <th>user_id</th>\n",
       "      <th>age</th>\n",
       "    </tr>\n",
       "  </thead>\n",
       "  <tbody>\n",
       "    <tr>\n",
       "      <th>count</th>\n",
       "      <td>500.00</td>\n",
       "      <td>500.00</td>\n",
       "    </tr>\n",
       "    <tr>\n",
       "      <th>mean</th>\n",
       "      <td>1,249.50</td>\n",
       "      <td>46.59</td>\n",
       "    </tr>\n",
       "    <tr>\n",
       "      <th>std</th>\n",
       "      <td>144.48</td>\n",
       "      <td>16.67</td>\n",
       "    </tr>\n",
       "    <tr>\n",
       "      <th>min</th>\n",
       "      <td>1,000.00</td>\n",
       "      <td>18.00</td>\n",
       "    </tr>\n",
       "    <tr>\n",
       "      <th>25%</th>\n",
       "      <td>1,124.75</td>\n",
       "      <td>32.00</td>\n",
       "    </tr>\n",
       "    <tr>\n",
       "      <th>50%</th>\n",
       "      <td>1,249.50</td>\n",
       "      <td>46.00</td>\n",
       "    </tr>\n",
       "    <tr>\n",
       "      <th>75%</th>\n",
       "      <td>1,374.25</td>\n",
       "      <td>62.00</td>\n",
       "    </tr>\n",
       "    <tr>\n",
       "      <th>max</th>\n",
       "      <td>1,499.00</td>\n",
       "      <td>75.00</td>\n",
       "    </tr>\n",
       "  </tbody>\n",
       "</table>\n",
       "</div>"
      ],
      "text/plain": [
       "       user_id    age\n",
       "count   500.00 500.00\n",
       "mean  1,249.50  46.59\n",
       "std     144.48  16.67\n",
       "min   1,000.00  18.00\n",
       "25%   1,124.75  32.00\n",
       "50%   1,249.50  46.00\n",
       "75%   1,374.25  62.00\n",
       "max   1,499.00  75.00"
      ]
     },
     "metadata": {},
     "output_type": "display_data"
    },
    {
     "data": {
      "text/plain": [
       "0"
      ]
     },
     "metadata": {},
     "output_type": "display_data"
    }
   ],
   "source": [
    "uni_function(df_users) #изучим датасет df_users"
   ]
  },
  {
   "cell_type": "code",
   "execution_count": 46,
   "metadata": {},
   "outputs": [
    {
     "data": {
      "text/html": [
       "<div>\n",
       "<style scoped>\n",
       "    .dataframe tbody tr th:only-of-type {\n",
       "        vertical-align: middle;\n",
       "    }\n",
       "\n",
       "    .dataframe tbody tr th {\n",
       "        vertical-align: top;\n",
       "    }\n",
       "\n",
       "    .dataframe thead th {\n",
       "        text-align: right;\n",
       "    }\n",
       "</style>\n",
       "<table border=\"1\" class=\"dataframe\">\n",
       "  <thead>\n",
       "    <tr style=\"text-align: right;\">\n",
       "      <th></th>\n",
       "      <th>user_id</th>\n",
       "      <th>age</th>\n",
       "      <th>churn_date</th>\n",
       "      <th>city</th>\n",
       "      <th>first_name</th>\n",
       "      <th>last_name</th>\n",
       "      <th>reg_date</th>\n",
       "      <th>tariff</th>\n",
       "    </tr>\n",
       "  </thead>\n",
       "  <tbody>\n",
       "    <tr>\n",
       "      <th>0</th>\n",
       "      <td>1000</td>\n",
       "      <td>52</td>\n",
       "      <td>NaT</td>\n",
       "      <td>Краснодар</td>\n",
       "      <td>Рафаил</td>\n",
       "      <td>Верещагин</td>\n",
       "      <td>2018-05-25</td>\n",
       "      <td>ultra</td>\n",
       "    </tr>\n",
       "    <tr>\n",
       "      <th>1</th>\n",
       "      <td>1001</td>\n",
       "      <td>41</td>\n",
       "      <td>NaT</td>\n",
       "      <td>Москва</td>\n",
       "      <td>Иван</td>\n",
       "      <td>Ежов</td>\n",
       "      <td>2018-11-01</td>\n",
       "      <td>smart</td>\n",
       "    </tr>\n",
       "    <tr>\n",
       "      <th>2</th>\n",
       "      <td>1002</td>\n",
       "      <td>59</td>\n",
       "      <td>NaT</td>\n",
       "      <td>Стерлитамак</td>\n",
       "      <td>Евгений</td>\n",
       "      <td>Абрамович</td>\n",
       "      <td>2018-06-17</td>\n",
       "      <td>smart</td>\n",
       "    </tr>\n",
       "    <tr>\n",
       "      <th>3</th>\n",
       "      <td>1003</td>\n",
       "      <td>23</td>\n",
       "      <td>NaT</td>\n",
       "      <td>Москва</td>\n",
       "      <td>Белла</td>\n",
       "      <td>Белякова</td>\n",
       "      <td>2018-08-17</td>\n",
       "      <td>ultra</td>\n",
       "    </tr>\n",
       "    <tr>\n",
       "      <th>4</th>\n",
       "      <td>1004</td>\n",
       "      <td>68</td>\n",
       "      <td>NaT</td>\n",
       "      <td>Новокузнецк</td>\n",
       "      <td>Татьяна</td>\n",
       "      <td>Авдеенко</td>\n",
       "      <td>2018-05-14</td>\n",
       "      <td>ultra</td>\n",
       "    </tr>\n",
       "    <tr>\n",
       "      <th>...</th>\n",
       "      <td>...</td>\n",
       "      <td>...</td>\n",
       "      <td>...</td>\n",
       "      <td>...</td>\n",
       "      <td>...</td>\n",
       "      <td>...</td>\n",
       "      <td>...</td>\n",
       "      <td>...</td>\n",
       "    </tr>\n",
       "    <tr>\n",
       "      <th>495</th>\n",
       "      <td>1495</td>\n",
       "      <td>65</td>\n",
       "      <td>NaT</td>\n",
       "      <td>Иркутск</td>\n",
       "      <td>Авксентий</td>\n",
       "      <td>Фокин</td>\n",
       "      <td>2018-08-28</td>\n",
       "      <td>ultra</td>\n",
       "    </tr>\n",
       "    <tr>\n",
       "      <th>496</th>\n",
       "      <td>1496</td>\n",
       "      <td>36</td>\n",
       "      <td>NaT</td>\n",
       "      <td>Вологда</td>\n",
       "      <td>Трифон</td>\n",
       "      <td>Блохин</td>\n",
       "      <td>2018-01-27</td>\n",
       "      <td>smart</td>\n",
       "    </tr>\n",
       "    <tr>\n",
       "      <th>497</th>\n",
       "      <td>1497</td>\n",
       "      <td>32</td>\n",
       "      <td>NaT</td>\n",
       "      <td>Челябинск</td>\n",
       "      <td>Каролина</td>\n",
       "      <td>Агеева</td>\n",
       "      <td>2018-10-09</td>\n",
       "      <td>smart</td>\n",
       "    </tr>\n",
       "    <tr>\n",
       "      <th>498</th>\n",
       "      <td>1498</td>\n",
       "      <td>68</td>\n",
       "      <td>2018-10-25</td>\n",
       "      <td>Владикавказ</td>\n",
       "      <td>Всеволод</td>\n",
       "      <td>Акимчин</td>\n",
       "      <td>2018-07-19</td>\n",
       "      <td>smart</td>\n",
       "    </tr>\n",
       "    <tr>\n",
       "      <th>499</th>\n",
       "      <td>1499</td>\n",
       "      <td>35</td>\n",
       "      <td>NaT</td>\n",
       "      <td>Пермь</td>\n",
       "      <td>Гектор</td>\n",
       "      <td>Корнилов</td>\n",
       "      <td>2018-09-27</td>\n",
       "      <td>smart</td>\n",
       "    </tr>\n",
       "  </tbody>\n",
       "</table>\n",
       "<p>500 rows × 8 columns</p>\n",
       "</div>"
      ],
      "text/plain": [
       "     user_id  age churn_date         city first_name  last_name   reg_date  \\\n",
       "0       1000   52        NaT    Краснодар     Рафаил  Верещагин 2018-05-25   \n",
       "1       1001   41        NaT       Москва       Иван       Ежов 2018-11-01   \n",
       "2       1002   59        NaT  Стерлитамак    Евгений  Абрамович 2018-06-17   \n",
       "3       1003   23        NaT       Москва      Белла   Белякова 2018-08-17   \n",
       "4       1004   68        NaT  Новокузнецк    Татьяна   Авдеенко 2018-05-14   \n",
       "..       ...  ...        ...          ...        ...        ...        ...   \n",
       "495     1495   65        NaT      Иркутск  Авксентий      Фокин 2018-08-28   \n",
       "496     1496   36        NaT      Вологда     Трифон     Блохин 2018-01-27   \n",
       "497     1497   32        NaT    Челябинск   Каролина     Агеева 2018-10-09   \n",
       "498     1498   68 2018-10-25  Владикавказ   Всеволод    Акимчин 2018-07-19   \n",
       "499     1499   35        NaT        Пермь     Гектор   Корнилов 2018-09-27   \n",
       "\n",
       "    tariff  \n",
       "0    ultra  \n",
       "1    smart  \n",
       "2    smart  \n",
       "3    ultra  \n",
       "4    ultra  \n",
       "..     ...  \n",
       "495  ultra  \n",
       "496  smart  \n",
       "497  smart  \n",
       "498  smart  \n",
       "499  smart  \n",
       "\n",
       "[500 rows x 8 columns]"
      ]
     },
     "metadata": {},
     "output_type": "display_data"
    }
   ],
   "source": [
    "#преобразуем тип данных столбца churn_date\n",
    "df_users['churn_date'] = pd.to_datetime(\n",
    "    df_users['churn_date'], format='%Y-%m-%d')\n",
    "\n",
    "#преобразуем тип данных столбца reg_date\n",
    "df_users['reg_date'] = pd.to_datetime(\n",
    "    df_users['reg_date'], format='%Y-%m-%d')\n",
    "display(df_users)"
   ]
  },
  {
   "cell_type": "markdown",
   "metadata": {},
   "source": [
    "**Вывод по датафрейму Users**\n",
    "\n",
    "Доля пропусков в столбце churn_date составила меньше 1%, мы можем пренебречь этими данными, однако мы знаем, что если значение пропущено, то тариф ещё действовал на момент выгрузки данных. Значит преобразовывать столбце мы никак не будем. Для столбцов churn_date и reg_date мы изменили тип данных, с object на datetime64.\n"
   ]
  },
  {
   "cell_type": "markdown",
   "metadata": {},
   "source": [
    "### Подготовка пользовательских данных\n",
    "* Количество сделанных звонков и израсходованных минут разговора по месяцам\n",
    "* количество отправленных сообщений по месяцам;\n",
    "* объем израсходованного интернет-трафика по месяцам"
   ]
  },
  {
   "cell_type": "markdown",
   "metadata": {},
   "source": [
    "#### Подстчет количества звонков "
   ]
  },
  {
   "cell_type": "code",
   "execution_count": 47,
   "metadata": {},
   "outputs": [
    {
     "data": {
      "text/html": [
       "<div>\n",
       "<style scoped>\n",
       "    .dataframe tbody tr th:only-of-type {\n",
       "        vertical-align: middle;\n",
       "    }\n",
       "\n",
       "    .dataframe tbody tr th {\n",
       "        vertical-align: top;\n",
       "    }\n",
       "\n",
       "    .dataframe thead th {\n",
       "        text-align: right;\n",
       "    }\n",
       "</style>\n",
       "<table border=\"1\" class=\"dataframe\">\n",
       "  <thead>\n",
       "    <tr style=\"text-align: right;\">\n",
       "      <th></th>\n",
       "      <th>user_id</th>\n",
       "      <th>month_name</th>\n",
       "      <th>calls_count</th>\n",
       "      <th>used_time</th>\n",
       "    </tr>\n",
       "  </thead>\n",
       "  <tbody>\n",
       "    <tr>\n",
       "      <th>0</th>\n",
       "      <td>1000</td>\n",
       "      <td>August</td>\n",
       "      <td>52</td>\n",
       "      <td>408</td>\n",
       "    </tr>\n",
       "    <tr>\n",
       "      <th>1</th>\n",
       "      <td>1000</td>\n",
       "      <td>December</td>\n",
       "      <td>46</td>\n",
       "      <td>333</td>\n",
       "    </tr>\n",
       "    <tr>\n",
       "      <th>2</th>\n",
       "      <td>1000</td>\n",
       "      <td>July</td>\n",
       "      <td>47</td>\n",
       "      <td>340</td>\n",
       "    </tr>\n",
       "    <tr>\n",
       "      <th>3</th>\n",
       "      <td>1000</td>\n",
       "      <td>June</td>\n",
       "      <td>43</td>\n",
       "      <td>172</td>\n",
       "    </tr>\n",
       "    <tr>\n",
       "      <th>4</th>\n",
       "      <td>1000</td>\n",
       "      <td>May</td>\n",
       "      <td>22</td>\n",
       "      <td>159</td>\n",
       "    </tr>\n",
       "    <tr>\n",
       "      <th>...</th>\n",
       "      <td>...</td>\n",
       "      <td>...</td>\n",
       "      <td>...</td>\n",
       "      <td>...</td>\n",
       "    </tr>\n",
       "    <tr>\n",
       "      <th>3169</th>\n",
       "      <td>1498</td>\n",
       "      <td>September</td>\n",
       "      <td>59</td>\n",
       "      <td>471</td>\n",
       "    </tr>\n",
       "    <tr>\n",
       "      <th>3170</th>\n",
       "      <td>1499</td>\n",
       "      <td>December</td>\n",
       "      <td>69</td>\n",
       "      <td>492</td>\n",
       "    </tr>\n",
       "    <tr>\n",
       "      <th>3171</th>\n",
       "      <td>1499</td>\n",
       "      <td>November</td>\n",
       "      <td>74</td>\n",
       "      <td>612</td>\n",
       "    </tr>\n",
       "    <tr>\n",
       "      <th>3172</th>\n",
       "      <td>1499</td>\n",
       "      <td>October</td>\n",
       "      <td>68</td>\n",
       "      <td>449</td>\n",
       "    </tr>\n",
       "    <tr>\n",
       "      <th>3173</th>\n",
       "      <td>1499</td>\n",
       "      <td>September</td>\n",
       "      <td>9</td>\n",
       "      <td>70</td>\n",
       "    </tr>\n",
       "  </tbody>\n",
       "</table>\n",
       "<p>3174 rows × 4 columns</p>\n",
       "</div>"
      ],
      "text/plain": [
       "      user_id month_name  calls_count  used_time\n",
       "0        1000     August           52        408\n",
       "1        1000   December           46        333\n",
       "2        1000       July           47        340\n",
       "3        1000       June           43        172\n",
       "4        1000        May           22        159\n",
       "...       ...        ...          ...        ...\n",
       "3169     1498  September           59        471\n",
       "3170     1499   December           69        492\n",
       "3171     1499   November           74        612\n",
       "3172     1499    October           68        449\n",
       "3173     1499  September            9         70\n",
       "\n",
       "[3174 rows x 4 columns]"
      ]
     },
     "metadata": {},
     "output_type": "display_data"
    }
   ],
   "source": [
    "#посчитаем количество звонков и израсходованные минуты\n",
    "calls_count = df_calls.groupby(['user_id','month_name']).agg({'id':'count', 'duration':'sum'}).reset_index()\n",
    "calls_count.columns = ['user_id', 'month_name', 'calls_count', 'used_time']\n",
    "display(calls_count)"
   ]
  },
  {
   "cell_type": "markdown",
   "metadata": {},
   "source": [
    "#### Подстчет количества смс"
   ]
  },
  {
   "cell_type": "code",
   "execution_count": 48,
   "metadata": {},
   "outputs": [
    {
     "data": {
      "text/html": [
       "<div>\n",
       "<style scoped>\n",
       "    .dataframe tbody tr th:only-of-type {\n",
       "        vertical-align: middle;\n",
       "    }\n",
       "\n",
       "    .dataframe tbody tr th {\n",
       "        vertical-align: top;\n",
       "    }\n",
       "\n",
       "    .dataframe thead th {\n",
       "        text-align: right;\n",
       "    }\n",
       "</style>\n",
       "<table border=\"1\" class=\"dataframe\">\n",
       "  <thead>\n",
       "    <tr style=\"text-align: right;\">\n",
       "      <th></th>\n",
       "      <th>user_id</th>\n",
       "      <th>month_name</th>\n",
       "      <th>sms_count</th>\n",
       "    </tr>\n",
       "  </thead>\n",
       "  <tbody>\n",
       "    <tr>\n",
       "      <th>0</th>\n",
       "      <td>1000</td>\n",
       "      <td>August</td>\n",
       "      <td>81</td>\n",
       "    </tr>\n",
       "    <tr>\n",
       "      <th>1</th>\n",
       "      <td>1000</td>\n",
       "      <td>December</td>\n",
       "      <td>70</td>\n",
       "    </tr>\n",
       "    <tr>\n",
       "      <th>2</th>\n",
       "      <td>1000</td>\n",
       "      <td>July</td>\n",
       "      <td>75</td>\n",
       "    </tr>\n",
       "    <tr>\n",
       "      <th>3</th>\n",
       "      <td>1000</td>\n",
       "      <td>June</td>\n",
       "      <td>60</td>\n",
       "    </tr>\n",
       "    <tr>\n",
       "      <th>4</th>\n",
       "      <td>1000</td>\n",
       "      <td>May</td>\n",
       "      <td>22</td>\n",
       "    </tr>\n",
       "    <tr>\n",
       "      <th>...</th>\n",
       "      <td>...</td>\n",
       "      <td>...</td>\n",
       "      <td>...</td>\n",
       "    </tr>\n",
       "    <tr>\n",
       "      <th>2712</th>\n",
       "      <td>1498</td>\n",
       "      <td>September</td>\n",
       "      <td>44</td>\n",
       "    </tr>\n",
       "    <tr>\n",
       "      <th>2713</th>\n",
       "      <td>1499</td>\n",
       "      <td>December</td>\n",
       "      <td>66</td>\n",
       "    </tr>\n",
       "    <tr>\n",
       "      <th>2714</th>\n",
       "      <td>1499</td>\n",
       "      <td>November</td>\n",
       "      <td>59</td>\n",
       "    </tr>\n",
       "    <tr>\n",
       "      <th>2715</th>\n",
       "      <td>1499</td>\n",
       "      <td>October</td>\n",
       "      <td>48</td>\n",
       "    </tr>\n",
       "    <tr>\n",
       "      <th>2716</th>\n",
       "      <td>1499</td>\n",
       "      <td>September</td>\n",
       "      <td>11</td>\n",
       "    </tr>\n",
       "  </tbody>\n",
       "</table>\n",
       "<p>2717 rows × 3 columns</p>\n",
       "</div>"
      ],
      "text/plain": [
       "      user_id month_name  sms_count\n",
       "0        1000     August         81\n",
       "1        1000   December         70\n",
       "2        1000       July         75\n",
       "3        1000       June         60\n",
       "4        1000        May         22\n",
       "...       ...        ...        ...\n",
       "2712     1498  September         44\n",
       "2713     1499   December         66\n",
       "2714     1499   November         59\n",
       "2715     1499    October         48\n",
       "2716     1499  September         11\n",
       "\n",
       "[2717 rows x 3 columns]"
      ]
     },
     "metadata": {},
     "output_type": "display_data"
    }
   ],
   "source": [
    "#посчитаем количество отправленых смс по месяцам\n",
    "sms_count = df_messages.groupby(['user_id','month_name']).agg({'id':'count'}).reset_index()\n",
    "sms_count.columns = ['user_id', 'month_name', 'sms_count']\n",
    "display(sms_count)"
   ]
  },
  {
   "cell_type": "markdown",
   "metadata": {},
   "source": [
    "#### Подстчет расхода трафика"
   ]
  },
  {
   "cell_type": "code",
   "execution_count": 49,
   "metadata": {
    "scrolled": true
   },
   "outputs": [
    {
     "data": {
      "text/html": [
       "<div>\n",
       "<style scoped>\n",
       "    .dataframe tbody tr th:only-of-type {\n",
       "        vertical-align: middle;\n",
       "    }\n",
       "\n",
       "    .dataframe tbody tr th {\n",
       "        vertical-align: top;\n",
       "    }\n",
       "\n",
       "    .dataframe thead th {\n",
       "        text-align: right;\n",
       "    }\n",
       "</style>\n",
       "<table border=\"1\" class=\"dataframe\">\n",
       "  <thead>\n",
       "    <tr style=\"text-align: right;\">\n",
       "      <th></th>\n",
       "      <th>user_id</th>\n",
       "      <th>month_name</th>\n",
       "      <th>used_traffic</th>\n",
       "    </tr>\n",
       "  </thead>\n",
       "  <tbody>\n",
       "    <tr>\n",
       "      <th>0</th>\n",
       "      <td>1000</td>\n",
       "      <td>August</td>\n",
       "      <td>14</td>\n",
       "    </tr>\n",
       "    <tr>\n",
       "      <th>1</th>\n",
       "      <td>1000</td>\n",
       "      <td>December</td>\n",
       "      <td>10</td>\n",
       "    </tr>\n",
       "    <tr>\n",
       "      <th>2</th>\n",
       "      <td>1000</td>\n",
       "      <td>July</td>\n",
       "      <td>14</td>\n",
       "    </tr>\n",
       "    <tr>\n",
       "      <th>3</th>\n",
       "      <td>1000</td>\n",
       "      <td>June</td>\n",
       "      <td>23</td>\n",
       "    </tr>\n",
       "    <tr>\n",
       "      <th>4</th>\n",
       "      <td>1000</td>\n",
       "      <td>May</td>\n",
       "      <td>3</td>\n",
       "    </tr>\n",
       "    <tr>\n",
       "      <th>...</th>\n",
       "      <td>...</td>\n",
       "      <td>...</td>\n",
       "      <td>...</td>\n",
       "    </tr>\n",
       "    <tr>\n",
       "      <th>3198</th>\n",
       "      <td>1498</td>\n",
       "      <td>September</td>\n",
       "      <td>22</td>\n",
       "    </tr>\n",
       "    <tr>\n",
       "      <th>3199</th>\n",
       "      <td>1499</td>\n",
       "      <td>December</td>\n",
       "      <td>13</td>\n",
       "    </tr>\n",
       "    <tr>\n",
       "      <th>3200</th>\n",
       "      <td>1499</td>\n",
       "      <td>November</td>\n",
       "      <td>18</td>\n",
       "    </tr>\n",
       "    <tr>\n",
       "      <th>3201</th>\n",
       "      <td>1499</td>\n",
       "      <td>October</td>\n",
       "      <td>18</td>\n",
       "    </tr>\n",
       "    <tr>\n",
       "      <th>3202</th>\n",
       "      <td>1499</td>\n",
       "      <td>September</td>\n",
       "      <td>2</td>\n",
       "    </tr>\n",
       "  </tbody>\n",
       "</table>\n",
       "<p>3203 rows × 3 columns</p>\n",
       "</div>"
      ],
      "text/plain": [
       "      user_id month_name  used_traffic\n",
       "0        1000     August            14\n",
       "1        1000   December            10\n",
       "2        1000       July            14\n",
       "3        1000       June            23\n",
       "4        1000        May             3\n",
       "...       ...        ...           ...\n",
       "3198     1498  September            22\n",
       "3199     1499   December            13\n",
       "3200     1499   November            18\n",
       "3201     1499    October            18\n",
       "3202     1499  September             2\n",
       "\n",
       "[3203 rows x 3 columns]"
      ]
     },
     "metadata": {},
     "output_type": "display_data"
    }
   ],
   "source": [
    "#посчитаем объем израсходованного интернет-трафика по месяцам\n",
    "internet_count = df_internet.groupby(['user_id','month_name']).gb_used.sum().reset_index()\n",
    "internet_count.columns = ['user_id', 'month_name', 'used_traffic']\n",
    "#округлим значения в столбце used_traffic\n",
    "internet_count['used_traffic'] = internet_count['used_traffic'].apply(ceil_value)\n",
    "display(internet_count)                       "
   ]
  },
  {
   "cell_type": "markdown",
   "metadata": {},
   "source": [
    "#### Расчет помесячной выручки"
   ]
  },
  {
   "cell_type": "code",
   "execution_count": 50,
   "metadata": {},
   "outputs": [
    {
     "data": {
      "text/html": [
       "<div>\n",
       "<style scoped>\n",
       "    .dataframe tbody tr th:only-of-type {\n",
       "        vertical-align: middle;\n",
       "    }\n",
       "\n",
       "    .dataframe tbody tr th {\n",
       "        vertical-align: top;\n",
       "    }\n",
       "\n",
       "    .dataframe thead th {\n",
       "        text-align: right;\n",
       "    }\n",
       "</style>\n",
       "<table border=\"1\" class=\"dataframe\">\n",
       "  <thead>\n",
       "    <tr style=\"text-align: right;\">\n",
       "      <th></th>\n",
       "      <th>user_id</th>\n",
       "      <th>month_name</th>\n",
       "      <th>calls_count</th>\n",
       "      <th>used_time</th>\n",
       "      <th>sms_count</th>\n",
       "      <th>used_traffic</th>\n",
       "      <th>city</th>\n",
       "      <th>tariff</th>\n",
       "      <th>messages_included</th>\n",
       "      <th>mb_per_month_included</th>\n",
       "      <th>minutes_included</th>\n",
       "      <th>rub_monthly_fee</th>\n",
       "      <th>rub_per_gb</th>\n",
       "      <th>rub_per_message</th>\n",
       "      <th>rub_per_minute</th>\n",
       "      <th>tariff_name</th>\n",
       "      <th>gb_per_month_included</th>\n",
       "    </tr>\n",
       "  </thead>\n",
       "  <tbody>\n",
       "    <tr>\n",
       "      <th>0</th>\n",
       "      <td>1000</td>\n",
       "      <td>August</td>\n",
       "      <td>52.00</td>\n",
       "      <td>408.00</td>\n",
       "      <td>81.00</td>\n",
       "      <td>14.00</td>\n",
       "      <td>Краснодар</td>\n",
       "      <td>ultra</td>\n",
       "      <td>1000</td>\n",
       "      <td>30720</td>\n",
       "      <td>3000</td>\n",
       "      <td>1950</td>\n",
       "      <td>150</td>\n",
       "      <td>1</td>\n",
       "      <td>1</td>\n",
       "      <td>ultra</td>\n",
       "      <td>30</td>\n",
       "    </tr>\n",
       "    <tr>\n",
       "      <th>1</th>\n",
       "      <td>1000</td>\n",
       "      <td>December</td>\n",
       "      <td>46.00</td>\n",
       "      <td>333.00</td>\n",
       "      <td>70.00</td>\n",
       "      <td>10.00</td>\n",
       "      <td>Краснодар</td>\n",
       "      <td>ultra</td>\n",
       "      <td>1000</td>\n",
       "      <td>30720</td>\n",
       "      <td>3000</td>\n",
       "      <td>1950</td>\n",
       "      <td>150</td>\n",
       "      <td>1</td>\n",
       "      <td>1</td>\n",
       "      <td>ultra</td>\n",
       "      <td>30</td>\n",
       "    </tr>\n",
       "    <tr>\n",
       "      <th>2</th>\n",
       "      <td>1000</td>\n",
       "      <td>July</td>\n",
       "      <td>47.00</td>\n",
       "      <td>340.00</td>\n",
       "      <td>75.00</td>\n",
       "      <td>14.00</td>\n",
       "      <td>Краснодар</td>\n",
       "      <td>ultra</td>\n",
       "      <td>1000</td>\n",
       "      <td>30720</td>\n",
       "      <td>3000</td>\n",
       "      <td>1950</td>\n",
       "      <td>150</td>\n",
       "      <td>1</td>\n",
       "      <td>1</td>\n",
       "      <td>ultra</td>\n",
       "      <td>30</td>\n",
       "    </tr>\n",
       "    <tr>\n",
       "      <th>3</th>\n",
       "      <td>1000</td>\n",
       "      <td>June</td>\n",
       "      <td>43.00</td>\n",
       "      <td>172.00</td>\n",
       "      <td>60.00</td>\n",
       "      <td>23.00</td>\n",
       "      <td>Краснодар</td>\n",
       "      <td>ultra</td>\n",
       "      <td>1000</td>\n",
       "      <td>30720</td>\n",
       "      <td>3000</td>\n",
       "      <td>1950</td>\n",
       "      <td>150</td>\n",
       "      <td>1</td>\n",
       "      <td>1</td>\n",
       "      <td>ultra</td>\n",
       "      <td>30</td>\n",
       "    </tr>\n",
       "    <tr>\n",
       "      <th>4</th>\n",
       "      <td>1000</td>\n",
       "      <td>May</td>\n",
       "      <td>22.00</td>\n",
       "      <td>159.00</td>\n",
       "      <td>22.00</td>\n",
       "      <td>3.00</td>\n",
       "      <td>Краснодар</td>\n",
       "      <td>ultra</td>\n",
       "      <td>1000</td>\n",
       "      <td>30720</td>\n",
       "      <td>3000</td>\n",
       "      <td>1950</td>\n",
       "      <td>150</td>\n",
       "      <td>1</td>\n",
       "      <td>1</td>\n",
       "      <td>ultra</td>\n",
       "      <td>30</td>\n",
       "    </tr>\n",
       "  </tbody>\n",
       "</table>\n",
       "</div>"
      ],
      "text/plain": [
       "   user_id month_name  calls_count  used_time  sms_count  used_traffic  \\\n",
       "0     1000     August        52.00     408.00      81.00         14.00   \n",
       "1     1000   December        46.00     333.00      70.00         10.00   \n",
       "2     1000       July        47.00     340.00      75.00         14.00   \n",
       "3     1000       June        43.00     172.00      60.00         23.00   \n",
       "4     1000        May        22.00     159.00      22.00          3.00   \n",
       "\n",
       "        city tariff  messages_included  mb_per_month_included  \\\n",
       "0  Краснодар  ultra               1000                  30720   \n",
       "1  Краснодар  ultra               1000                  30720   \n",
       "2  Краснодар  ultra               1000                  30720   \n",
       "3  Краснодар  ultra               1000                  30720   \n",
       "4  Краснодар  ultra               1000                  30720   \n",
       "\n",
       "   minutes_included  rub_monthly_fee  rub_per_gb  rub_per_message  \\\n",
       "0              3000             1950         150                1   \n",
       "1              3000             1950         150                1   \n",
       "2              3000             1950         150                1   \n",
       "3              3000             1950         150                1   \n",
       "4              3000             1950         150                1   \n",
       "\n",
       "   rub_per_minute tariff_name  gb_per_month_included  \n",
       "0               1       ultra                     30  \n",
       "1               1       ultra                     30  \n",
       "2               1       ultra                     30  \n",
       "3               1       ultra                     30  \n",
       "4               1       ultra                     30  "
      ]
     },
     "metadata": {},
     "output_type": "display_data"
    }
   ],
   "source": [
    "#Объединим несколько таблиц в одну\n",
    "summary_table = calls_count.merge(sms_count, on = ['user_id', 'month_name'], how = 'outer').merge(internet_count, on = ['month_name','user_id'], how = 'outer')\n",
    "#заменим Nan на нули\n",
    "summary_table = summary_table.fillna(0)\n",
    "#Объединим несколько таблиц в одну\n",
    "summary_table = summary_table.merge(df_users[['user_id', 'city', 'tariff']] , on ='user_id' ,how = 'left')\n",
    "summary_table = summary_table.merge(df_tariffs, left_on =['tariff'], right_on = ['tariff_name'], how = 'outer')\n",
    "\n",
    "display(summary_table.head())"
   ]
  },
  {
   "cell_type": "code",
   "execution_count": 51,
   "metadata": {
    "scrolled": true
   },
   "outputs": [
    {
     "data": {
      "text/html": [
       "<div>\n",
       "<style scoped>\n",
       "    .dataframe tbody tr th:only-of-type {\n",
       "        vertical-align: middle;\n",
       "    }\n",
       "\n",
       "    .dataframe tbody tr th {\n",
       "        vertical-align: top;\n",
       "    }\n",
       "\n",
       "    .dataframe thead th {\n",
       "        text-align: right;\n",
       "    }\n",
       "</style>\n",
       "<table border=\"1\" class=\"dataframe\">\n",
       "  <thead>\n",
       "    <tr style=\"text-align: right;\">\n",
       "      <th></th>\n",
       "      <th>user_id</th>\n",
       "      <th>city</th>\n",
       "      <th>month_name</th>\n",
       "      <th>used_time</th>\n",
       "      <th>sms_count</th>\n",
       "      <th>used_traffic</th>\n",
       "      <th>tariff_name</th>\n",
       "      <th>income</th>\n",
       "    </tr>\n",
       "  </thead>\n",
       "  <tbody>\n",
       "    <tr>\n",
       "      <th>0</th>\n",
       "      <td>1000</td>\n",
       "      <td>Краснодар</td>\n",
       "      <td>August</td>\n",
       "      <td>408.00</td>\n",
       "      <td>81.00</td>\n",
       "      <td>14.00</td>\n",
       "      <td>ultra</td>\n",
       "      <td>1,950.00</td>\n",
       "    </tr>\n",
       "    <tr>\n",
       "      <th>1</th>\n",
       "      <td>1000</td>\n",
       "      <td>Краснодар</td>\n",
       "      <td>December</td>\n",
       "      <td>333.00</td>\n",
       "      <td>70.00</td>\n",
       "      <td>10.00</td>\n",
       "      <td>ultra</td>\n",
       "      <td>1,950.00</td>\n",
       "    </tr>\n",
       "    <tr>\n",
       "      <th>2</th>\n",
       "      <td>1000</td>\n",
       "      <td>Краснодар</td>\n",
       "      <td>July</td>\n",
       "      <td>340.00</td>\n",
       "      <td>75.00</td>\n",
       "      <td>14.00</td>\n",
       "      <td>ultra</td>\n",
       "      <td>1,950.00</td>\n",
       "    </tr>\n",
       "    <tr>\n",
       "      <th>3</th>\n",
       "      <td>1000</td>\n",
       "      <td>Краснодар</td>\n",
       "      <td>June</td>\n",
       "      <td>172.00</td>\n",
       "      <td>60.00</td>\n",
       "      <td>23.00</td>\n",
       "      <td>ultra</td>\n",
       "      <td>1,950.00</td>\n",
       "    </tr>\n",
       "    <tr>\n",
       "      <th>4</th>\n",
       "      <td>1000</td>\n",
       "      <td>Краснодар</td>\n",
       "      <td>May</td>\n",
       "      <td>159.00</td>\n",
       "      <td>22.00</td>\n",
       "      <td>3.00</td>\n",
       "      <td>ultra</td>\n",
       "      <td>1,950.00</td>\n",
       "    </tr>\n",
       "    <tr>\n",
       "      <th>...</th>\n",
       "      <td>...</td>\n",
       "      <td>...</td>\n",
       "      <td>...</td>\n",
       "      <td>...</td>\n",
       "      <td>...</td>\n",
       "      <td>...</td>\n",
       "      <td>...</td>\n",
       "      <td>...</td>\n",
       "    </tr>\n",
       "    <tr>\n",
       "      <th>3200</th>\n",
       "      <td>1498</td>\n",
       "      <td>Владикавказ</td>\n",
       "      <td>August</td>\n",
       "      <td>400.00</td>\n",
       "      <td>62.00</td>\n",
       "      <td>24.00</td>\n",
       "      <td>smart</td>\n",
       "      <td>2,386.00</td>\n",
       "    </tr>\n",
       "    <tr>\n",
       "      <th>3207</th>\n",
       "      <td>1499</td>\n",
       "      <td>Пермь</td>\n",
       "      <td>September</td>\n",
       "      <td>70.00</td>\n",
       "      <td>11.00</td>\n",
       "      <td>2.00</td>\n",
       "      <td>smart</td>\n",
       "      <td>550.00</td>\n",
       "    </tr>\n",
       "    <tr>\n",
       "      <th>3204</th>\n",
       "      <td>1499</td>\n",
       "      <td>Пермь</td>\n",
       "      <td>December</td>\n",
       "      <td>492.00</td>\n",
       "      <td>66.00</td>\n",
       "      <td>13.00</td>\n",
       "      <td>smart</td>\n",
       "      <td>598.00</td>\n",
       "    </tr>\n",
       "    <tr>\n",
       "      <th>3206</th>\n",
       "      <td>1499</td>\n",
       "      <td>Пермь</td>\n",
       "      <td>October</td>\n",
       "      <td>449.00</td>\n",
       "      <td>48.00</td>\n",
       "      <td>18.00</td>\n",
       "      <td>smart</td>\n",
       "      <td>1,150.00</td>\n",
       "    </tr>\n",
       "    <tr>\n",
       "      <th>3205</th>\n",
       "      <td>1499</td>\n",
       "      <td>Пермь</td>\n",
       "      <td>November</td>\n",
       "      <td>612.00</td>\n",
       "      <td>59.00</td>\n",
       "      <td>18.00</td>\n",
       "      <td>smart</td>\n",
       "      <td>1,513.00</td>\n",
       "    </tr>\n",
       "  </tbody>\n",
       "</table>\n",
       "<p>3214 rows × 8 columns</p>\n",
       "</div>"
      ],
      "text/plain": [
       "      user_id         city month_name  used_time  sms_count  used_traffic  \\\n",
       "0        1000    Краснодар     August     408.00      81.00         14.00   \n",
       "1        1000    Краснодар   December     333.00      70.00         10.00   \n",
       "2        1000    Краснодар       July     340.00      75.00         14.00   \n",
       "3        1000    Краснодар       June     172.00      60.00         23.00   \n",
       "4        1000    Краснодар        May     159.00      22.00          3.00   \n",
       "...       ...          ...        ...        ...        ...           ...   \n",
       "3200     1498  Владикавказ     August     400.00      62.00         24.00   \n",
       "3207     1499        Пермь  September      70.00      11.00          2.00   \n",
       "3204     1499        Пермь   December     492.00      66.00         13.00   \n",
       "3206     1499        Пермь    October     449.00      48.00         18.00   \n",
       "3205     1499        Пермь   November     612.00      59.00         18.00   \n",
       "\n",
       "     tariff_name   income  \n",
       "0          ultra 1,950.00  \n",
       "1          ultra 1,950.00  \n",
       "2          ultra 1,950.00  \n",
       "3          ultra 1,950.00  \n",
       "4          ultra 1,950.00  \n",
       "...          ...      ...  \n",
       "3200       smart 2,386.00  \n",
       "3207       smart   550.00  \n",
       "3204       smart   598.00  \n",
       "3206       smart 1,150.00  \n",
       "3205       smart 1,513.00  \n",
       "\n",
       "[3214 rows x 8 columns]"
      ]
     },
     "metadata": {},
     "output_type": "display_data"
    }
   ],
   "source": [
    "#создадим функцию для подсчета выручки\n",
    "def income(row):\n",
    "    calls_price = max(row.used_time - row.minutes_included,0)*row.rub_per_minute\n",
    "    messages_price = max(row.sms_count - row.messages_included,0)*row.rub_per_message\n",
    "    traffic_price = max(row.used_traffic-row.gb_per_month_included,0)*row.rub_per_gb\n",
    "    return row.rub_monthly_fee + calls_price + messages_price + traffic_price\n",
    "summary_table['income'] = summary_table.apply(income, axis=1)\n",
    "# отсортируем полученные данные\n",
    "final_df = summary_table[['user_id', 'city', 'month_name', 'used_time', 'sms_count', 'used_traffic', 'tariff_name', 'income']].sort_values(by = 'user_id')\n",
    "display(final_df)"
   ]
  },
  {
   "cell_type": "markdown",
   "metadata": {},
   "source": [
    "## Анализ и описание данных"
   ]
  },
  {
   "cell_type": "markdown",
   "metadata": {},
   "source": [
    "Определим сколько минут разговора, сколько сообщений и какой объём интернет-трафика требуется пользователям каждого тарифа в месяц. Посчитаем среднее количество, дисперсию и стандартное отклонение. Построим гистограммы для каждого показателя и опишем распределения."
   ]
  },
  {
   "cell_type": "code",
   "execution_count": 52,
   "metadata": {},
   "outputs": [
    {
     "data": {
      "text/html": [
       "<div>\n",
       "<style scoped>\n",
       "    .dataframe tbody tr th:only-of-type {\n",
       "        vertical-align: middle;\n",
       "    }\n",
       "\n",
       "    .dataframe tbody tr th {\n",
       "        vertical-align: top;\n",
       "    }\n",
       "\n",
       "    .dataframe thead tr th {\n",
       "        text-align: left;\n",
       "    }\n",
       "\n",
       "    .dataframe thead tr:last-of-type th {\n",
       "        text-align: right;\n",
       "    }\n",
       "</style>\n",
       "<table border=\"1\" class=\"dataframe\">\n",
       "  <thead>\n",
       "    <tr>\n",
       "      <th></th>\n",
       "      <th colspan=\"3\" halign=\"left\">mean</th>\n",
       "      <th colspan=\"3\" halign=\"left\">var</th>\n",
       "      <th colspan=\"3\" halign=\"left\">std</th>\n",
       "    </tr>\n",
       "    <tr>\n",
       "      <th></th>\n",
       "      <th>sms_count</th>\n",
       "      <th>used_time</th>\n",
       "      <th>used_traffic</th>\n",
       "      <th>sms_count</th>\n",
       "      <th>used_time</th>\n",
       "      <th>used_traffic</th>\n",
       "      <th>sms_count</th>\n",
       "      <th>used_time</th>\n",
       "      <th>used_traffic</th>\n",
       "    </tr>\n",
       "    <tr>\n",
       "      <th>tariff_name</th>\n",
       "      <th></th>\n",
       "      <th></th>\n",
       "      <th></th>\n",
       "      <th></th>\n",
       "      <th></th>\n",
       "      <th></th>\n",
       "      <th></th>\n",
       "      <th></th>\n",
       "      <th></th>\n",
       "    </tr>\n",
       "  </thead>\n",
       "  <tbody>\n",
       "    <tr>\n",
       "      <th>smart</th>\n",
       "      <td>33.38</td>\n",
       "      <td>417.93</td>\n",
       "      <td>16.33</td>\n",
       "      <td>796.81</td>\n",
       "      <td>36,219.32</td>\n",
       "      <td>33.03</td>\n",
       "      <td>28.23</td>\n",
       "      <td>190.31</td>\n",
       "      <td>5.75</td>\n",
       "    </tr>\n",
       "    <tr>\n",
       "      <th>ultra</th>\n",
       "      <td>49.36</td>\n",
       "      <td>526.62</td>\n",
       "      <td>19.49</td>\n",
       "      <td>2,285.27</td>\n",
       "      <td>100,873.63</td>\n",
       "      <td>97.09</td>\n",
       "      <td>47.80</td>\n",
       "      <td>317.61</td>\n",
       "      <td>9.85</td>\n",
       "    </tr>\n",
       "  </tbody>\n",
       "</table>\n",
       "</div>"
      ],
      "text/plain": [
       "                 mean                              var             \\\n",
       "            sms_count used_time used_traffic sms_count  used_time   \n",
       "tariff_name                                                         \n",
       "smart           33.38    417.93        16.33    796.81  36,219.32   \n",
       "ultra           49.36    526.62        19.49  2,285.27 100,873.63   \n",
       "\n",
       "                               std                         \n",
       "            used_traffic sms_count used_time used_traffic  \n",
       "tariff_name                                                \n",
       "smart              33.03     28.23    190.31         5.75  \n",
       "ultra              97.09     47.80    317.61         9.85  "
      ]
     },
     "execution_count": 52,
     "metadata": {},
     "output_type": "execute_result"
    }
   ],
   "source": [
    "#округлим до двух десятичных знаков все значения в датафрейме\n",
    "pd.options.display.float_format = '{:,.2f}'.format\n",
    "#создадим сводную таблицу для описания поведения клиентов оператора\n",
    "pd.pivot_table(final_df,\n",
    "               index=['tariff_name'], \n",
    "               values = ['used_time', 'sms_count', 'used_traffic'],\n",
    "               aggfunc= ['mean', 'var', 'std'])\n"
   ]
  },
  {
   "cell_type": "markdown",
   "metadata": {},
   "source": [
    "**Вывод**\n",
    "Исходя из полученных данных мы можем сделать следующие выводы:\n",
    " - тариф Smart\n",
    "1. В среднем пользователи отправляют 34 сообщения из предоставленных 50; стандартное отклонение составило 29 сообщений. \n",
    "2. Количество потраченых минут в среднем составляет 418 из предоставленных 500; стандартное отклонение составило 191 минуту.\n",
    "3. Среднее значение израсходованного трафика составляет 16 Гб, когда как тариф предполагает бесплатное использование 15 Гб. Лимит интернет трафика привышен незначительно.\n",
    "\n",
    "\n",
    " - тариф Ultra\n",
    "1. В среднем пользователи отправляют 50 сообщения из предоставленных 1000; стандартное отклонение составило 48. \n",
    "2. Количество потраченых минут в среднем составляет 527 из предоставленных 3000; стандартное отклонение составило 318.\n",
    "3. Среднее значение израсходованного трафика составляет 20 Гб, предоставляемый тарифом интернет трафик составляет 30 Гб. Лимит интернет-трафика не превышен.\n",
    "\n",
    "Изучив полученные данные мы можем сделать вывод о том, что пользоватили тарифа Smart превышают лимит интернет-трафика, а значит им приходится доплачивать, а значит этот показатель напрямую влияет на выручку крмпании.\n",
    "Также стоит отметить, что величины стандартных отклонений для данных о сообщениях и интернет-трафике очень большие, это значит, что разброс значений большой.\n"
   ]
  },
  {
   "cell_type": "code",
   "execution_count": 53,
   "metadata": {
    "scrolled": true
   },
   "outputs": [
    {
     "data": {
      "image/png": "[encoded data removed]",
      "text/plain": [
       "<Figure size 576x288 with 1 Axes>"
      ]
     },
     "metadata": {
      "needs_background": "light"
     },
     "output_type": "display_data"
    }
   ],
   "source": [
    "#Построим гистограммы распредения для каждой выборки\n",
    "#Построем гистограмму для параметра sms_count для двухтарифов\n",
    "\n",
    "fig, ax = plt.subplots(\n",
    "    nrows=1, ncols=1,\n",
    "    figsize=(8, 4))\n",
    "final_df[final_df['tariff_name']=='smart'].plot(ax=ax, y='sms_count', kind = 'hist',xlim=(0, 230), alpha=0.7, grid=True, bins=30, label='Тариф Смарт')\n",
    "final_df[final_df['tariff_name']=='ultra'].plot(ax=ax, y='sms_count', kind = 'hist',xlim=(0, 230), alpha=0.7, grid=True, bins=30, label='Тарифа Ультра') \n",
    "plt.show()"
   ]
  },
  {
   "cell_type": "markdown",
   "metadata": {},
   "source": [
    "**Вывод**\n",
    "\n",
    "Из гистограмм мы видим, что в обоих тарифах присутствует большое количество клиентов, которые совсем не пользуются предоставленным количеством смс.Также мы видим, что обе гистограммы имеют распределение Пуассона и имеют небольшое смещение вправо, т.к медиана меньше среднего."
   ]
  },
  {
   "cell_type": "code",
   "execution_count": 54,
   "metadata": {
    "scrolled": true
   },
   "outputs": [
    {
     "data": {
      "text/plain": [
       "count   3,214.00\n",
       "mean      451.24\n",
       "std       241.91\n",
       "min         0.00\n",
       "25%       282.00\n",
       "50%       443.00\n",
       "75%       589.00\n",
       "max     1,673.00\n",
       "Name: used_time, dtype: float64"
      ]
     },
     "metadata": {},
     "output_type": "display_data"
    },
    {
     "data": {
      "image/png": "[encoded data removed]",
      "text/plain": [
       "<Figure size 576x288 with 1 Axes>"
      ]
     },
     "metadata": {
      "needs_background": "light"
     },
     "output_type": "display_data"
    }
   ],
   "source": [
    "#Построем гистограмму для параметра used_time(потраченое на звонки время)\n",
    "display(final_df.used_time.describe())\n",
    "fig, ax = plt.subplots(\n",
    "    nrows=1, ncols=1,\n",
    "    figsize=(8, 4)\n",
    ")\n",
    "final_df[final_df['tariff_name']=='smart'].plot(ax=ax, y='used_time', kind = 'hist',xlim=(0,1680), grid=True, alpha=0.7, bins=30, label='Тарифа Смарт')\n",
    "final_df[final_df['tariff_name']=='ultra'].plot(ax=ax, y='used_time', kind = 'hist',xlim=(0,1680), grid=True, alpha=0.7, bins=30, label='Тарифа Ультра')\n",
    "plt.show()"
   ]
  },
  {
   "cell_type": "markdown",
   "metadata": {},
   "source": [
    "**Вывод**\n",
    "\n",
    "На гистограмме тарифа Ультра, видно, что существует большое количество звонков с нулевой продолжительностью. Как мы знаем,это пропущенные звонки. Однако это немного искажает нашу гистограмму. Если не учитывать данные о пропущенных звонках, мы можем сказать, что распределение у тарифа Ультра близко к нормальному, однако стоит отметить, что оно несколько размытое.\n",
    "У тарифа Смарт распределение нормальное."
   ]
  },
  {
   "cell_type": "code",
   "execution_count": 55,
   "metadata": {
    "scrolled": true
   },
   "outputs": [
    {
     "data": {
      "text/plain": [
       "count   3,214.00\n",
       "mean       17.30\n",
       "std         7.40\n",
       "min         0.00\n",
       "25%        13.00\n",
       "50%        17.00\n",
       "75%        21.00\n",
       "max        49.00\n",
       "Name: used_traffic, dtype: float64"
      ]
     },
     "metadata": {},
     "output_type": "display_data"
    },
    {
     "data": {
      "image/png": "[encoded data removed]",
      "text/plain": [
       "<Figure size 576x216 with 1 Axes>"
      ]
     },
     "metadata": {
      "needs_background": "light"
     },
     "output_type": "display_data"
    }
   ],
   "source": [
    "#Построем гистограмму для параметра used_time(потраченое на звонки время)\n",
    "display(final_df.used_traffic.describe())\n",
    "fig, ax = plt.subplots(figsize=(8, 3))\n",
    "\n",
    "final_df[final_df['tariff_name']=='smart'].plot(ax=ax, y='used_traffic', kind = 'hist',xlim=(0,60), alpha=0.7, grid=True, bins=30, label='Тарифа Смарт')\n",
    "final_df[final_df['tariff_name']=='ultra'].plot(ax=ax, y='used_traffic', kind = 'hist',xlim=(0,60), alpha=0.7, grid=True, bins=30, label='Тарифа Ультра')\n",
    "plt.show()"
   ]
  },
  {
   "cell_type": "markdown",
   "metadata": {},
   "source": [
    "**Вывод**\n",
    "\n",
    "На гистограммах видно, что оба тарифа имеют нормальное распределение, однако у тарифа Смарт оно немного смещено вправо."
   ]
  },
  {
   "cell_type": "code",
   "execution_count": 56,
   "metadata": {
    "scrolled": true
   },
   "outputs": [
    {
     "data": {
      "text/html": [
       "<div>\n",
       "<style scoped>\n",
       "    .dataframe tbody tr th:only-of-type {\n",
       "        vertical-align: middle;\n",
       "    }\n",
       "\n",
       "    .dataframe tbody tr th {\n",
       "        vertical-align: top;\n",
       "    }\n",
       "\n",
       "    .dataframe thead tr th {\n",
       "        text-align: left;\n",
       "    }\n",
       "\n",
       "    .dataframe thead tr:last-of-type th {\n",
       "        text-align: right;\n",
       "    }\n",
       "</style>\n",
       "<table border=\"1\" class=\"dataframe\">\n",
       "  <thead>\n",
       "    <tr>\n",
       "      <th></th>\n",
       "      <th>mean</th>\n",
       "      <th>var</th>\n",
       "      <th>std</th>\n",
       "    </tr>\n",
       "    <tr>\n",
       "      <th></th>\n",
       "      <th>income</th>\n",
       "      <th>income</th>\n",
       "      <th>income</th>\n",
       "    </tr>\n",
       "    <tr>\n",
       "      <th>tariff_name</th>\n",
       "      <th></th>\n",
       "      <th></th>\n",
       "      <th></th>\n",
       "    </tr>\n",
       "  </thead>\n",
       "  <tbody>\n",
       "    <tr>\n",
       "      <th>smart</th>\n",
       "      <td>1,289.97</td>\n",
       "      <td>669,785.71</td>\n",
       "      <td>818.40</td>\n",
       "    </tr>\n",
       "    <tr>\n",
       "      <th>ultra</th>\n",
       "      <td>2,070.15</td>\n",
       "      <td>141,516.75</td>\n",
       "      <td>376.19</td>\n",
       "    </tr>\n",
       "  </tbody>\n",
       "</table>\n",
       "</div>"
      ],
      "text/plain": [
       "                mean        var    std\n",
       "              income     income income\n",
       "tariff_name                           \n",
       "smart       1,289.97 669,785.71 818.40\n",
       "ultra       2,070.15 141,516.75 376.19"
      ]
     },
     "execution_count": 56,
     "metadata": {},
     "output_type": "execute_result"
    }
   ],
   "source": [
    "#создадим сводную таблицу для оценки выручки каждого тарифа\n",
    "pd.pivot_table(final_df,\n",
    "               index=['tariff_name'], \n",
    "               values = ['income'],\n",
    "               aggfunc= ['mean', 'var', 'std'])"
   ]
  },
  {
   "cell_type": "code",
   "execution_count": 57,
   "metadata": {},
   "outputs": [
    {
     "data": {
      "image/png": "[encoded data removed]",
      "text/plain": [
       "<Figure size 720x504 with 1 Axes>"
      ]
     },
     "metadata": {
      "needs_background": "light"
     },
     "output_type": "display_data"
    }
   ],
   "source": [
    "#Построем гистограммы для параметра income(выручка)\n",
    "plt.figure(figsize = (10, 7))\n",
    "sns.histplot(data=final_df, x='income', hue='tariff_name')\n",
    "plt.xlabel('выручка с одного клиента в месяц')\n",
    "plt.ylabel('частота')\n",
    "plt.show()"
   ]
  },
  {
   "cell_type": "markdown",
   "metadata": {},
   "source": [
    "**Общий вывод**\n",
    "\n",
    "Изучив гистограммы, мы можем сказать, что у тарифа Смарт больше клиентов, чем у тарифа Ультра. Такой вывод нам позволяет сделать высота \"колокола\" гистограммы.\n",
    "Также из гистограммы с данными о выручке с одного клиента в месяц видно, что ежемесячный доход от клиентов больше на тарифе Ультра."
   ]
  },
  {
   "cell_type": "markdown",
   "metadata": {},
   "source": [
    "## Проверка гипотез и пояснения"
   ]
  },
  {
   "cell_type": "markdown",
   "metadata": {},
   "source": [
    " Проверим две гипотезы:\n",
    " * средняя выручка пользователей тарифов «Ультра» и «Смарт» различаются;\n",
    " * средняя выручка пользователей из Москвы отличается от выручки пользователей из других регионов."
   ]
  },
  {
   "cell_type": "markdown",
   "metadata": {},
   "source": [
    "**Формулировка гипотезы №1**\n",
    "\n",
    "Типичные статистические гипотезы касаются средних значений\n",
    "генеральных совокупностей и звучат так:\n",
    " * среднее генеральной совокупности равно конкретному значению;\n",
    " * средние двух генеральных совокупностей равны между собой.\n",
    "\n",
    "H₀ всегда формулируется так, чтобы использовать знак равенства.В нашем случае нам подходит второй вариант. \n",
    "\n",
    "**Нулевая гипотеза H₀ будет звучать так:** средняя выручка с пользователей тарифов \"Ультра\" и \"Смарт\" равны.\n",
    "\n",
    "Исходя из H₀ формулируется альтернативная гипотеза H₁.\n",
    "\n",
    "**Альтернативная гипотеза H₁:** средняя выручка с пользователей тарифов \"Ультра\" и \"Смарт\" различаются.\n",
    "\n",
    "**критический уровень статистической значимости** alpha=0.05\n",
    "\n",
    "Для проверки гипотезы о равенстве среднего двух генеральных совокупностей по взятым из них выборкам: scipy.stats.ttest_ind (array1, array2,equal_var). "
   ]
  },
  {
   "cell_type": "code",
   "execution_count": 58,
   "metadata": {},
   "outputs": [
    {
     "name": "stdout",
     "output_type": "stream",
     "text": [
      "Размер выборки тарифа ultra: 985\n",
      "Дисперсия выборки тарифа ultra: 141373.07325620344\n",
      "Размер выборки тарифа smart: 2229\n",
      "Дисперсия выборки тарифа smart: 669485.2209234245\n"
     ]
    }
   ],
   "source": [
    "#проверим размер выборки и дисперсию\n",
    "for tariff in ['ultra', 'smart']:\n",
    "    print(f'Размер выборки тарифа {tariff}: {len(final_df[final_df.tariff_name == tariff])}')\n",
    "    print(f'Дисперсия выборки тарифа {tariff}: {np.var(final_df[final_df.tariff_name == tariff].income)}')\n",
    "    \n"
   ]
  },
  {
   "cell_type": "markdown",
   "metadata": {},
   "source": [
    "Примем, что equal_var = False, т.к.выборки разного размера и дисперсии у совокупностей не одинаковые."
   ]
  },
  {
   "cell_type": "code",
   "execution_count": 59,
   "metadata": {},
   "outputs": [
    {
     "name": "stdout",
     "output_type": "stream",
     "text": [
      "p-значение:  4.2606313931076085e-250\n",
      "Отвергаем нулевую гипотезу\n"
     ]
    }
   ],
   "source": [
    "alpha = 0.05 # критический уровень статистической значимости\n",
    "# если p-value окажется меньше него - отвегнем гипотезу\n",
    "results = st.ttest_ind(\n",
    "    final_df[final_df.tariff_name == 'ultra'].income, \n",
    "    final_df[final_df.tariff_name == 'smart'].income,\n",
    "    equal_var = False) \n",
    "print('p-значение: ', results.pvalue)\n",
    "if results.pvalue < alpha:\n",
    "    print(\"Отвергаем нулевую гипотезу\")\n",
    "else:\n",
    "    print(\"Не получилось отвергнуть нулевую гипотезу\")\n"
   ]
  },
  {
   "cell_type": "markdown",
   "metadata": {},
   "source": [
    "**Вывод**\n",
    "\n",
    "Мы отвергаем нулевую гипотезу, а значит альтернативная гипотеза оказалась верной. Средняя выручка с пользователей тарифов \"Смарт\" и \"Ультра\" различаются."
   ]
  },
  {
   "cell_type": "markdown",
   "metadata": {},
   "source": [
    "**Формулировка гипотезы №2**"
   ]
  },
  {
   "cell_type": "markdown",
   "metadata": {},
   "source": [
    "Нулевая гипотеза H₀ будет звучать так: средняя выручка пользователей из Москвы и пользователей из других регионов равны.\n",
    "\n",
    "Альтернативная гипотеза H₁: средняя выручка пользователей из Москвы и пользователей из других регионов различаются.\n",
    "\n",
    "критический уровень статистической значимости alpha=0.05  \n",
    "\n",
    "Для проверки гипотезы о равенстве среднего двух генеральных совокупностей по взятым из них выборкам: scipy.stats.ttest_ind (array1, array2,equal_var). "
   ]
  },
  {
   "cell_type": "code",
   "execution_count": 60,
   "metadata": {},
   "outputs": [
    {
     "name": "stdout",
     "output_type": "stream",
     "text": [
      "Размер выборки пользователей из Москвы: 611\n",
      "Дисперсия выборки пользователей из Москвы: 564710.7117467273\n",
      "Размер выборки пользователей из Москвы: 2603\n",
      "Дисперсия выборки пользователей из Москвы: 653886.3270894173\n"
     ]
    }
   ],
   "source": [
    "#определим размер выборки и дисперсию\n",
    "print(f'Размер выборки пользователей из Москвы: {len(final_df[final_df.city ==\"Москва\"])}')\n",
    "print(f'Дисперсия выборки пользователей из Москвы: {np.var(final_df[final_df.city == \"Москва\"].income)}')\n",
    "print(f'Размер выборки пользователей из Москвы: {len(final_df[final_df.city !=\"Москва\"])}')\n",
    "print(f'Дисперсия выборки пользователей из Москвы: {np.var(final_df[final_df.city != \"Москва\"].income)}')"
   ]
  },
  {
   "cell_type": "markdown",
   "metadata": {},
   "source": [
    "Примем, что equal_var = False, т.к.выборки разного размера и дисперсии у совокупностей не одинаковые."
   ]
  },
  {
   "cell_type": "code",
   "execution_count": 61,
   "metadata": {},
   "outputs": [
    {
     "name": "stdout",
     "output_type": "stream",
     "text": [
      "p-значение:  0.5989670526299276\n",
      "Не получилось отвергнуть нулевую гипотезу\n"
     ]
    }
   ],
   "source": [
    "alpha = 0.05 # критический уровень статистической значимости\n",
    "# если p-value окажется меньше него - отвегнем гипотезу\n",
    "results = st.ttest_ind(\n",
    "    final_df[final_df.city == 'Москва'].income, \n",
    "    final_df[final_df.tariff_name != 'Москва'].income,\n",
    "    equal_var = False) \n",
    "print('p-значение: ', results.pvalue)\n",
    "if results.pvalue < alpha:\n",
    "    print(\"Отвергаем нулевую гипотезу\")\n",
    "else:\n",
    "    print(\"Не получилось отвергнуть нулевую гипотезу\")"
   ]
  },
  {
   "cell_type": "markdown",
   "metadata": {},
   "source": [
    "**Вывод**\n",
    "\n",
    "По результатам тестирования мы не можем опровергнуть нулевую гипотезу,а значит гипотеза о том, что средняя выручка пользователей из Москвы и пользователей из других регионов равны не подтвердилась."
   ]
  },
  {
   "cell_type": "markdown",
   "metadata": {},
   "source": [
    "## Общий вывод"
   ]
  },
  {
   "cell_type": "markdown",
   "metadata": {},
   "source": [
    "В ходе данного проекта мы:\n",
    " - изучили данные 500 пользователей «Мегалайна» с помощью 5 датасетов;\n",
    " - для дальнейшего анализа были откорректированны типы данных некоторых столбцов и осуществлен перевод значений трафика в Гб, а длительность звонка в минуты;\n",
    " - был сделан анализ двух тарифов (Смарт и Ультра);\n",
    " - мы рассчитали помесячную вручку для каждого пользователя и определили, что что ежемесячный доход от клиентов больше на тарифе Ультра;\n",
    " - в результате исследования мы смогли опровергнуть гипотезу о том, что средняя выручка с пользователей тарифов \"Ультра\" и \"Смарт\" равны;\n",
    " - также мы рассмотрели гипотезу о том, что средняя выручка пользователей из Москвы и пользователей из других регионов равны и нам не удалось подтвердить эту гипотезу.\n",
    " \n",
    "Рекламный бюджет лучше скорректировать для тарифа Ультра,т.к. ежемесячная выручка для каждого пользователя выше именно для этого тарифа.\n"
   ]
  }
 ],
 "metadata": {
  "ExecuteTimeLog": [
   {
    "duration": 60,
    "start_time": "2022-03-08T16:44:23.105Z"
   },
   {
    "duration": 584,
    "start_time": "2022-03-08T16:44:31.005Z"
   },
   {
    "duration": 3,
    "start_time": "2022-03-08T16:46:58.460Z"
   },
   {
    "duration": 374,
    "start_time": "2022-03-08T16:47:32.809Z"
   },
   {
    "duration": 350,
    "start_time": "2022-03-09T18:20:59.067Z"
   },
   {
    "duration": 1034,
    "start_time": "2022-03-09T18:21:14.729Z"
   },
   {
    "duration": 706,
    "start_time": "2022-03-09T18:21:15.766Z"
   },
   {
    "duration": 82,
    "start_time": "2022-03-09T18:21:16.475Z"
   },
   {
    "duration": 306,
    "start_time": "2022-03-09T18:59:38.867Z"
   },
   {
    "duration": 294,
    "start_time": "2022-03-09T18:59:48.361Z"
   },
   {
    "duration": 109,
    "start_time": "2022-03-09T19:01:57.921Z"
   },
   {
    "duration": 484,
    "start_time": "2022-03-09T19:01:59.592Z"
   },
   {
    "duration": 295,
    "start_time": "2022-03-09T19:02:01.719Z"
   },
   {
    "duration": 77,
    "start_time": "2022-03-09T19:02:39.877Z"
   },
   {
    "duration": 84,
    "start_time": "2022-03-09T19:06:29.691Z"
   },
   {
    "duration": 92,
    "start_time": "2022-03-09T19:07:32.522Z"
   },
   {
    "duration": 86,
    "start_time": "2022-03-09T19:11:50.784Z"
   },
   {
    "duration": 26,
    "start_time": "2022-03-09T19:12:02.918Z"
   },
   {
    "duration": 257,
    "start_time": "2022-03-09T19:38:26.973Z"
   },
   {
    "duration": 56,
    "start_time": "2022-03-09T19:38:46.881Z"
   },
   {
    "duration": 52,
    "start_time": "2022-03-09T19:40:42.018Z"
   },
   {
    "duration": 52,
    "start_time": "2022-03-09T19:45:32.447Z"
   },
   {
    "duration": 4,
    "start_time": "2022-03-09T19:45:55.579Z"
   },
   {
    "duration": 50,
    "start_time": "2022-03-09T19:45:59.722Z"
   },
   {
    "duration": 457,
    "start_time": "2022-03-09T19:46:37.100Z"
   },
   {
    "duration": 85,
    "start_time": "2022-03-09T19:46:51.704Z"
   },
   {
    "duration": 54,
    "start_time": "2022-03-09T19:48:09.938Z"
   },
   {
    "duration": 61,
    "start_time": "2022-03-09T19:48:56.740Z"
   },
   {
    "duration": 42,
    "start_time": "2022-03-09T19:49:20.621Z"
   },
   {
    "duration": 820,
    "start_time": "2022-03-10T19:02:21.621Z"
   },
   {
    "duration": 500,
    "start_time": "2022-03-10T19:02:22.443Z"
   },
   {
    "duration": 98,
    "start_time": "2022-03-10T19:02:22.946Z"
   },
   {
    "duration": 106,
    "start_time": "2022-03-10T19:02:23.047Z"
   },
   {
    "duration": 65,
    "start_time": "2022-03-10T19:02:23.156Z"
   },
   {
    "duration": 93,
    "start_time": "2022-03-10T19:02:23.224Z"
   },
   {
    "duration": 40,
    "start_time": "2022-03-10T19:02:23.319Z"
   },
   {
    "duration": 359,
    "start_time": "2022-03-10T19:22:54.782Z"
   },
   {
    "duration": 4,
    "start_time": "2022-03-10T19:23:03.931Z"
   },
   {
    "duration": 512,
    "start_time": "2022-03-10T19:23:03.938Z"
   },
   {
    "duration": 93,
    "start_time": "2022-03-10T19:23:04.453Z"
   },
   {
    "duration": 238,
    "start_time": "2022-03-10T19:23:04.549Z"
   },
   {
    "duration": -1743,
    "start_time": "2022-03-10T19:23:06.533Z"
   },
   {
    "duration": -1743,
    "start_time": "2022-03-10T19:23:06.535Z"
   },
   {
    "duration": -1750,
    "start_time": "2022-03-10T19:23:06.544Z"
   },
   {
    "duration": -1751,
    "start_time": "2022-03-10T19:23:06.546Z"
   },
   {
    "duration": 7,
    "start_time": "2022-03-10T19:27:09.177Z"
   },
   {
    "duration": 42,
    "start_time": "2022-03-10T19:37:57.645Z"
   },
   {
    "duration": 18,
    "start_time": "2022-03-10T19:38:26.641Z"
   },
   {
    "duration": 18,
    "start_time": "2022-03-10T19:38:50.578Z"
   },
   {
    "duration": 86,
    "start_time": "2022-03-10T19:39:02.817Z"
   },
   {
    "duration": 24,
    "start_time": "2022-03-10T19:39:14.221Z"
   },
   {
    "duration": 14,
    "start_time": "2022-03-10T19:43:21.705Z"
   },
   {
    "duration": 92,
    "start_time": "2022-03-10T19:45:31.931Z"
   },
   {
    "duration": 113,
    "start_time": "2022-03-10T19:45:55.601Z"
   },
   {
    "duration": 4,
    "start_time": "2022-03-10T19:46:10.659Z"
   },
   {
    "duration": 98,
    "start_time": "2022-03-10T19:47:15.922Z"
   },
   {
    "duration": 76,
    "start_time": "2022-03-10T19:48:12.069Z"
   },
   {
    "duration": 89,
    "start_time": "2022-03-10T19:51:11.036Z"
   },
   {
    "duration": 86,
    "start_time": "2022-03-10T19:51:43.669Z"
   },
   {
    "duration": 4,
    "start_time": "2022-03-10T19:52:00.755Z"
   },
   {
    "duration": 564,
    "start_time": "2022-03-10T19:52:00.762Z"
   },
   {
    "duration": 4,
    "start_time": "2022-03-10T19:52:01.329Z"
   },
   {
    "duration": 117,
    "start_time": "2022-03-10T19:52:01.335Z"
   },
   {
    "duration": 110,
    "start_time": "2022-03-10T19:52:01.455Z"
   },
   {
    "duration": 84,
    "start_time": "2022-03-10T19:52:01.568Z"
   },
   {
    "duration": 91,
    "start_time": "2022-03-10T19:52:01.654Z"
   },
   {
    "duration": 73,
    "start_time": "2022-03-10T19:52:01.747Z"
   },
   {
    "duration": 95,
    "start_time": "2022-03-10T19:52:23.312Z"
   },
   {
    "duration": 15,
    "start_time": "2022-03-10T19:52:47.089Z"
   },
   {
    "duration": 12,
    "start_time": "2022-03-10T19:53:17.566Z"
   },
   {
    "duration": 5,
    "start_time": "2022-03-10T19:53:57.059Z"
   },
   {
    "duration": 82,
    "start_time": "2022-03-10T19:54:29.144Z"
   },
   {
    "duration": 125,
    "start_time": "2022-03-10T20:13:21.181Z"
   },
   {
    "duration": 140,
    "start_time": "2022-03-10T20:13:27.980Z"
   },
   {
    "duration": 352,
    "start_time": "2022-03-10T20:13:54.422Z"
   },
   {
    "duration": 161,
    "start_time": "2022-03-10T20:14:03.837Z"
   },
   {
    "duration": 1905,
    "start_time": "2022-03-10T20:17:04.786Z"
   },
   {
    "duration": 266,
    "start_time": "2022-03-10T20:18:30.879Z"
   },
   {
    "duration": 144,
    "start_time": "2022-03-10T20:19:29.407Z"
   },
   {
    "duration": 159,
    "start_time": "2022-03-10T20:22:15.194Z"
   },
   {
    "duration": 4,
    "start_time": "2022-03-10T20:24:11.215Z"
   },
   {
    "duration": 509,
    "start_time": "2022-03-10T20:24:11.221Z"
   },
   {
    "duration": 4,
    "start_time": "2022-03-10T20:24:11.733Z"
   },
   {
    "duration": 107,
    "start_time": "2022-03-10T20:24:11.740Z"
   },
   {
    "duration": 210,
    "start_time": "2022-03-10T20:24:11.849Z"
   },
   {
    "duration": 89,
    "start_time": "2022-03-10T20:24:12.061Z"
   },
   {
    "duration": 75,
    "start_time": "2022-03-10T20:24:12.152Z"
   },
   {
    "duration": 84,
    "start_time": "2022-03-10T20:24:12.229Z"
   },
   {
    "duration": 41,
    "start_time": "2022-03-10T20:24:12.316Z"
   },
   {
    "duration": 655,
    "start_time": "2022-03-12T07:43:44.031Z"
   },
   {
    "duration": 402,
    "start_time": "2022-03-12T07:43:44.688Z"
   },
   {
    "duration": 4,
    "start_time": "2022-03-12T07:43:45.092Z"
   },
   {
    "duration": 85,
    "start_time": "2022-03-12T07:43:45.098Z"
   },
   {
    "duration": 152,
    "start_time": "2022-03-12T07:43:45.185Z"
   },
   {
    "duration": 81,
    "start_time": "2022-03-12T07:43:45.339Z"
   },
   {
    "duration": 83,
    "start_time": "2022-03-12T07:43:45.421Z"
   },
   {
    "duration": 50,
    "start_time": "2022-03-12T07:43:45.506Z"
   },
   {
    "duration": 69,
    "start_time": "2022-03-12T07:43:45.560Z"
   },
   {
    "duration": 32,
    "start_time": "2022-03-12T07:43:45.631Z"
   },
   {
    "duration": 70,
    "start_time": "2022-03-12T07:44:30.110Z"
   },
   {
    "duration": 77,
    "start_time": "2022-03-12T07:45:04.376Z"
   },
   {
    "duration": 119,
    "start_time": "2022-03-12T07:46:29.869Z"
   },
   {
    "duration": 5,
    "start_time": "2022-03-12T07:50:47.945Z"
   },
   {
    "duration": 4,
    "start_time": "2022-03-12T07:50:54.392Z"
   },
   {
    "duration": 384,
    "start_time": "2022-03-12T07:50:54.408Z"
   },
   {
    "duration": 3,
    "start_time": "2022-03-12T07:50:54.794Z"
   },
   {
    "duration": 156,
    "start_time": "2022-03-12T07:50:54.800Z"
   },
   {
    "duration": 137,
    "start_time": "2022-03-12T07:50:54.958Z"
   },
   {
    "duration": 146,
    "start_time": "2022-03-12T07:50:55.097Z"
   },
   {
    "duration": 122,
    "start_time": "2022-03-12T07:50:55.246Z"
   },
   {
    "duration": 95,
    "start_time": "2022-03-12T07:50:55.370Z"
   },
   {
    "duration": 56,
    "start_time": "2022-03-12T07:50:55.468Z"
   },
   {
    "duration": 31,
    "start_time": "2022-03-12T07:50:55.526Z"
   },
   {
    "duration": 69,
    "start_time": "2022-03-12T08:19:23.745Z"
   },
   {
    "duration": 19,
    "start_time": "2022-03-12T08:21:35.539Z"
   },
   {
    "duration": 132,
    "start_time": "2022-03-12T08:32:11.989Z"
   },
   {
    "duration": 5493,
    "start_time": "2022-03-12T08:49:02.455Z"
   },
   {
    "duration": 5503,
    "start_time": "2022-03-12T08:49:24.431Z"
   },
   {
    "duration": 5384,
    "start_time": "2022-03-12T08:49:33.478Z"
   },
   {
    "duration": 104,
    "start_time": "2022-03-12T08:50:38.531Z"
   },
   {
    "duration": 106,
    "start_time": "2022-03-12T09:00:04.443Z"
   },
   {
    "duration": 100,
    "start_time": "2022-03-12T09:00:09.875Z"
   },
   {
    "duration": 85,
    "start_time": "2022-03-12T09:00:55.049Z"
   },
   {
    "duration": 22,
    "start_time": "2022-03-12T09:01:34.736Z"
   },
   {
    "duration": 5883,
    "start_time": "2022-03-12T09:20:26.490Z"
   },
   {
    "duration": 218,
    "start_time": "2022-03-12T09:21:44.250Z"
   },
   {
    "duration": 5,
    "start_time": "2022-03-12T09:21:58.649Z"
   },
   {
    "duration": 7,
    "start_time": "2022-03-12T09:22:33.448Z"
   },
   {
    "duration": 3,
    "start_time": "2022-03-12T09:33:32.194Z"
   },
   {
    "duration": 430,
    "start_time": "2022-03-12T09:33:32.199Z"
   },
   {
    "duration": 3,
    "start_time": "2022-03-12T09:33:32.632Z"
   },
   {
    "duration": 188,
    "start_time": "2022-03-12T09:33:32.638Z"
   },
   {
    "duration": 155,
    "start_time": "2022-03-12T09:33:32.828Z"
   },
   {
    "duration": 147,
    "start_time": "2022-03-12T09:33:32.985Z"
   },
   {
    "duration": 120,
    "start_time": "2022-03-12T09:33:33.134Z"
   },
   {
    "duration": 103,
    "start_time": "2022-03-12T09:33:33.256Z"
   },
   {
    "duration": 47,
    "start_time": "2022-03-12T09:33:33.361Z"
   },
   {
    "duration": 46,
    "start_time": "2022-03-12T09:33:33.410Z"
   },
   {
    "duration": 64,
    "start_time": "2022-03-12T09:33:33.458Z"
   },
   {
    "duration": 8,
    "start_time": "2022-03-12T09:33:33.524Z"
   },
   {
    "duration": 86,
    "start_time": "2022-03-12T09:43:18.973Z"
   },
   {
    "duration": 93,
    "start_time": "2022-03-12T09:43:35.363Z"
   },
   {
    "duration": 81,
    "start_time": "2022-03-12T09:45:33.669Z"
   },
   {
    "duration": 156,
    "start_time": "2022-03-12T09:46:19.801Z"
   },
   {
    "duration": 6,
    "start_time": "2022-03-12T09:49:26.704Z"
   },
   {
    "duration": 11,
    "start_time": "2022-03-12T09:49:41.697Z"
   },
   {
    "duration": 149,
    "start_time": "2022-03-12T09:52:34.294Z"
   },
   {
    "duration": 3,
    "start_time": "2022-03-12T09:56:34.448Z"
   },
   {
    "duration": 11,
    "start_time": "2022-03-12T09:56:57.483Z"
   },
   {
    "duration": 11,
    "start_time": "2022-03-12T18:00:57.217Z"
   },
   {
    "duration": 2263,
    "start_time": "2022-03-12T18:04:34.779Z"
   },
   {
    "duration": 2262,
    "start_time": "2022-03-12T18:04:37.045Z"
   },
   {
    "duration": 6022,
    "start_time": "2022-03-12T18:04:39.309Z"
   },
   {
    "duration": 2316,
    "start_time": "2022-03-12T18:04:45.333Z"
   },
   {
    "duration": 2631,
    "start_time": "2022-03-12T18:04:47.651Z"
   },
   {
    "duration": 2580,
    "start_time": "2022-03-12T18:04:50.284Z"
   },
   {
    "duration": 3394,
    "start_time": "2022-03-12T18:04:52.866Z"
   },
   {
    "duration": 2644,
    "start_time": "2022-03-12T18:04:56.262Z"
   },
   {
    "duration": 2774,
    "start_time": "2022-03-12T18:04:58.908Z"
   },
   {
    "duration": 3048,
    "start_time": "2022-03-12T18:05:01.684Z"
   },
   {
    "duration": 2710,
    "start_time": "2022-03-12T18:05:04.734Z"
   },
   {
    "duration": 1190,
    "start_time": "2022-03-12T18:05:07.446Z"
   },
   {
    "duration": 4250,
    "start_time": "2022-03-12T18:05:08.638Z"
   },
   {
    "duration": 325,
    "start_time": "2022-03-12T18:48:35.376Z"
   },
   {
    "duration": 103,
    "start_time": "2022-03-12T18:49:26.365Z"
   },
   {
    "duration": 114,
    "start_time": "2022-03-12T18:49:43.857Z"
   },
   {
    "duration": 317,
    "start_time": "2022-03-12T18:49:59.721Z"
   },
   {
    "duration": 313,
    "start_time": "2022-03-12T18:50:11.775Z"
   },
   {
    "duration": 308,
    "start_time": "2022-03-12T18:50:29.043Z"
   },
   {
    "duration": 333,
    "start_time": "2022-03-12T18:50:33.030Z"
   },
   {
    "duration": 109,
    "start_time": "2022-03-12T18:53:48.402Z"
   },
   {
    "duration": 125,
    "start_time": "2022-03-12T18:54:01.138Z"
   },
   {
    "duration": 352,
    "start_time": "2022-03-12T18:54:50.230Z"
   },
   {
    "duration": 362,
    "start_time": "2022-03-12T18:57:19.295Z"
   },
   {
    "duration": 311,
    "start_time": "2022-03-12T18:57:46.468Z"
   },
   {
    "duration": 305,
    "start_time": "2022-03-12T18:57:52.736Z"
   },
   {
    "duration": 401,
    "start_time": "2022-03-12T19:39:40.155Z"
   },
   {
    "duration": 325,
    "start_time": "2022-03-12T19:39:59.109Z"
   },
   {
    "duration": 324,
    "start_time": "2022-03-12T19:40:09.260Z"
   },
   {
    "duration": 655,
    "start_time": "2022-03-12T19:42:24.324Z"
   },
   {
    "duration": 317,
    "start_time": "2022-03-12T19:43:22.283Z"
   },
   {
    "duration": 667,
    "start_time": "2022-03-12T19:43:42.294Z"
   },
   {
    "duration": 1116,
    "start_time": "2022-03-12T19:43:52.686Z"
   },
   {
    "duration": 4,
    "start_time": "2022-03-12T19:45:15.160Z"
   },
   {
    "duration": 419,
    "start_time": "2022-03-12T19:45:15.166Z"
   },
   {
    "duration": 3,
    "start_time": "2022-03-12T19:45:15.588Z"
   },
   {
    "duration": 170,
    "start_time": "2022-03-12T19:45:15.593Z"
   },
   {
    "duration": 743,
    "start_time": "2022-03-12T19:45:15.765Z"
   },
   {
    "duration": 144,
    "start_time": "2022-03-12T19:45:16.510Z"
   },
   {
    "duration": 184,
    "start_time": "2022-03-12T19:45:16.656Z"
   },
   {
    "duration": 105,
    "start_time": "2022-03-12T19:45:16.842Z"
   },
   {
    "duration": 34,
    "start_time": "2022-03-12T19:45:16.950Z"
   },
   {
    "duration": 57,
    "start_time": "2022-03-12T19:45:16.986Z"
   },
   {
    "duration": 11,
    "start_time": "2022-03-12T19:45:17.045Z"
   },
   {
    "duration": 68,
    "start_time": "2022-03-12T19:45:17.058Z"
   },
   {
    "duration": 6,
    "start_time": "2022-03-12T19:45:17.128Z"
   },
   {
    "duration": 4,
    "start_time": "2022-03-12T19:46:55.276Z"
   },
   {
    "duration": 405,
    "start_time": "2022-03-12T19:46:55.282Z"
   },
   {
    "duration": 4,
    "start_time": "2022-03-12T19:46:55.690Z"
   },
   {
    "duration": 205,
    "start_time": "2022-03-12T19:46:55.697Z"
   },
   {
    "duration": 839,
    "start_time": "2022-03-12T19:46:55.904Z"
   },
   {
    "duration": 139,
    "start_time": "2022-03-12T19:46:56.745Z"
   },
   {
    "duration": 193,
    "start_time": "2022-03-12T19:46:56.886Z"
   },
   {
    "duration": 98,
    "start_time": "2022-03-12T19:46:57.082Z"
   },
   {
    "duration": 34,
    "start_time": "2022-03-12T19:46:57.201Z"
   },
   {
    "duration": 75,
    "start_time": "2022-03-12T19:46:57.237Z"
   },
   {
    "duration": 11,
    "start_time": "2022-03-12T19:46:57.314Z"
   },
   {
    "duration": 38,
    "start_time": "2022-03-12T19:46:57.327Z"
   },
   {
    "duration": 7,
    "start_time": "2022-03-12T19:46:57.402Z"
   },
   {
    "duration": 700,
    "start_time": "2022-03-12T19:47:20.898Z"
   },
   {
    "duration": 762,
    "start_time": "2022-03-12T19:48:00.569Z"
   },
   {
    "duration": 582,
    "start_time": "2022-03-12T19:48:21.298Z"
   },
   {
    "duration": 391,
    "start_time": "2022-03-12T19:49:22.197Z"
   },
   {
    "duration": 392,
    "start_time": "2022-03-12T19:49:30.735Z"
   },
   {
    "duration": 715,
    "start_time": "2022-03-12T20:22:17.182Z"
   },
   {
    "duration": 152,
    "start_time": "2022-03-12T20:30:14.626Z"
   },
   {
    "duration": 134,
    "start_time": "2022-03-12T20:32:12.847Z"
   },
   {
    "duration": 129,
    "start_time": "2022-03-12T20:33:08.833Z"
   },
   {
    "duration": 271,
    "start_time": "2022-03-12T20:34:01.082Z"
   },
   {
    "duration": 18,
    "start_time": "2022-03-12T20:34:22.758Z"
   },
   {
    "duration": 19,
    "start_time": "2022-03-12T20:41:08.615Z"
   },
   {
    "duration": 20,
    "start_time": "2022-03-12T20:51:08.013Z"
   },
   {
    "duration": 69,
    "start_time": "2022-03-12T20:52:04.043Z"
   },
   {
    "duration": 21,
    "start_time": "2022-03-12T20:52:24.382Z"
   },
   {
    "duration": 898,
    "start_time": "2022-03-14T18:33:57.968Z"
   },
   {
    "duration": 500,
    "start_time": "2022-03-14T18:33:58.868Z"
   },
   {
    "duration": 5,
    "start_time": "2022-03-14T18:33:59.371Z"
   },
   {
    "duration": 330,
    "start_time": "2022-03-14T18:33:59.378Z"
   },
   {
    "duration": 1290,
    "start_time": "2022-03-14T18:33:59.711Z"
   },
   {
    "duration": 244,
    "start_time": "2022-03-14T18:34:01.004Z"
   },
   {
    "duration": 954,
    "start_time": "2022-03-14T18:34:01.252Z"
   },
   {
    "duration": 132,
    "start_time": "2022-03-14T18:34:02.209Z"
   },
   {
    "duration": 581,
    "start_time": "2022-03-14T18:34:02.344Z"
   },
   {
    "duration": 79,
    "start_time": "2022-03-14T18:34:02.928Z"
   },
   {
    "duration": 17,
    "start_time": "2022-03-14T18:34:03.009Z"
   },
   {
    "duration": 82,
    "start_time": "2022-03-14T18:34:03.028Z"
   },
   {
    "duration": 9,
    "start_time": "2022-03-14T18:34:03.112Z"
   },
   {
    "duration": 74,
    "start_time": "2022-03-14T18:34:03.123Z"
   },
   {
    "duration": 3,
    "start_time": "2022-03-14T18:34:03.201Z"
   },
   {
    "duration": 351,
    "start_time": "2022-03-14T18:39:10.659Z"
   },
   {
    "duration": 29,
    "start_time": "2022-03-14T18:39:18.605Z"
   },
   {
    "duration": 247,
    "start_time": "2022-03-14T18:39:49.398Z"
   },
   {
    "duration": 21,
    "start_time": "2022-03-14T18:41:10.778Z"
   },
   {
    "duration": 288,
    "start_time": "2022-03-14T18:50:00.422Z"
   },
   {
    "duration": 987,
    "start_time": "2022-03-14T18:57:37.829Z"
   },
   {
    "duration": 88,
    "start_time": "2022-03-14T18:58:27.742Z"
   },
   {
    "duration": 45,
    "start_time": "2022-03-14T18:59:37.895Z"
   },
   {
    "duration": 958,
    "start_time": "2022-03-14T19:01:33.652Z"
   },
   {
    "duration": 959,
    "start_time": "2022-03-14T19:02:13.235Z"
   },
   {
    "duration": 31,
    "start_time": "2022-03-14T19:02:51.280Z"
   },
   {
    "duration": 6078,
    "start_time": "2022-03-14T19:18:17.920Z"
   },
   {
    "duration": 1042,
    "start_time": "2022-03-14T19:23:17.573Z"
   },
   {
    "duration": 1030,
    "start_time": "2022-03-14T19:23:31.376Z"
   },
   {
    "duration": 28,
    "start_time": "2022-03-14T19:23:59.688Z"
   },
   {
    "duration": 4,
    "start_time": "2022-03-14T19:28:21.832Z"
   },
   {
    "duration": 830,
    "start_time": "2022-03-14T19:52:49.326Z"
   },
   {
    "duration": 38,
    "start_time": "2022-03-14T19:53:14.551Z"
   },
   {
    "duration": 30,
    "start_time": "2022-03-14T19:54:26.048Z"
   },
   {
    "duration": 35,
    "start_time": "2022-03-14T19:55:09.834Z"
   },
   {
    "duration": 33,
    "start_time": "2022-03-14T20:06:37.434Z"
   },
   {
    "duration": 32,
    "start_time": "2022-03-14T20:06:46.215Z"
   },
   {
    "duration": 32,
    "start_time": "2022-03-14T20:07:02.920Z"
   },
   {
    "duration": 254,
    "start_time": "2022-03-14T20:18:04.331Z"
   },
   {
    "duration": 299,
    "start_time": "2022-03-14T20:19:10.754Z"
   },
   {
    "duration": 274,
    "start_time": "2022-03-14T20:21:32.787Z"
   },
   {
    "duration": 31,
    "start_time": "2022-03-14T20:30:33.048Z"
   },
   {
    "duration": 20,
    "start_time": "2022-03-14T20:30:34.028Z"
   },
   {
    "duration": 21,
    "start_time": "2022-03-14T20:30:34.997Z"
   },
   {
    "duration": 5897,
    "start_time": "2022-03-14T20:58:37.410Z"
   },
   {
    "duration": 59,
    "start_time": "2022-03-14T20:59:04.469Z"
   },
   {
    "duration": 50,
    "start_time": "2022-03-14T20:59:15.790Z"
   },
   {
    "duration": 49,
    "start_time": "2022-03-14T21:00:14.041Z"
   },
   {
    "duration": 48,
    "start_time": "2022-03-14T21:00:43.679Z"
   },
   {
    "duration": 957,
    "start_time": "2022-03-15T19:10:46.371Z"
   },
   {
    "duration": 482,
    "start_time": "2022-03-15T19:10:47.331Z"
   },
   {
    "duration": 5,
    "start_time": "2022-03-15T19:10:47.816Z"
   },
   {
    "duration": 232,
    "start_time": "2022-03-15T19:10:47.824Z"
   },
   {
    "duration": 1079,
    "start_time": "2022-03-15T19:10:48.058Z"
   },
   {
    "duration": 197,
    "start_time": "2022-03-15T19:10:49.140Z"
   },
   {
    "duration": 903,
    "start_time": "2022-03-15T19:10:49.352Z"
   },
   {
    "duration": 151,
    "start_time": "2022-03-15T19:10:50.259Z"
   },
   {
    "duration": 577,
    "start_time": "2022-03-15T19:10:50.413Z"
   },
   {
    "duration": 85,
    "start_time": "2022-03-15T19:10:50.993Z"
   },
   {
    "duration": 15,
    "start_time": "2022-03-15T19:10:51.081Z"
   },
   {
    "duration": 78,
    "start_time": "2022-03-15T19:10:51.099Z"
   },
   {
    "duration": 8,
    "start_time": "2022-03-15T19:10:51.180Z"
   },
   {
    "duration": 87,
    "start_time": "2022-03-15T19:10:51.191Z"
   },
   {
    "duration": 31,
    "start_time": "2022-03-15T19:10:51.281Z"
   },
   {
    "duration": 60,
    "start_time": "2022-03-15T19:10:51.315Z"
   },
   {
    "duration": 48,
    "start_time": "2022-03-15T19:10:51.377Z"
   },
   {
    "duration": 65,
    "start_time": "2022-03-15T19:10:51.428Z"
   },
   {
    "duration": 3,
    "start_time": "2022-03-15T19:24:55.883Z"
   },
   {
    "duration": 515,
    "start_time": "2022-03-15T19:39:45.451Z"
   },
   {
    "duration": 540,
    "start_time": "2022-03-15T19:40:19.419Z"
   },
   {
    "duration": 761,
    "start_time": "2022-03-15T19:50:19.347Z"
   },
   {
    "duration": 593,
    "start_time": "2022-03-15T19:50:49.177Z"
   },
   {
    "duration": 523,
    "start_time": "2022-03-15T19:51:42.887Z"
   },
   {
    "duration": 527,
    "start_time": "2022-03-15T19:52:16.604Z"
   },
   {
    "duration": 742,
    "start_time": "2022-03-16T16:23:55.209Z"
   },
   {
    "duration": 493,
    "start_time": "2022-03-16T16:23:55.953Z"
   },
   {
    "duration": 3,
    "start_time": "2022-03-16T16:23:56.449Z"
   },
   {
    "duration": 199,
    "start_time": "2022-03-16T16:23:56.454Z"
   },
   {
    "duration": 767,
    "start_time": "2022-03-16T16:23:56.655Z"
   },
   {
    "duration": 153,
    "start_time": "2022-03-16T16:23:57.424Z"
   },
   {
    "duration": 652,
    "start_time": "2022-03-16T16:23:57.579Z"
   },
   {
    "duration": 105,
    "start_time": "2022-03-16T16:23:58.233Z"
   },
   {
    "duration": 412,
    "start_time": "2022-03-16T16:23:58.341Z"
   },
   {
    "duration": 46,
    "start_time": "2022-03-16T16:23:58.755Z"
   },
   {
    "duration": 33,
    "start_time": "2022-03-16T16:23:58.803Z"
   },
   {
    "duration": 35,
    "start_time": "2022-03-16T16:23:58.838Z"
   },
   {
    "duration": 7,
    "start_time": "2022-03-16T16:23:58.874Z"
   },
   {
    "duration": 70,
    "start_time": "2022-03-16T16:23:58.883Z"
   },
   {
    "duration": 25,
    "start_time": "2022-03-16T16:23:58.955Z"
   },
   {
    "duration": 51,
    "start_time": "2022-03-16T16:23:58.981Z"
   },
   {
    "duration": 36,
    "start_time": "2022-03-16T16:23:59.034Z"
   },
   {
    "duration": 385,
    "start_time": "2022-03-16T16:23:59.072Z"
   },
   {
    "duration": 711,
    "start_time": "2022-03-16T17:22:54.742Z"
   },
   {
    "duration": 673,
    "start_time": "2022-03-16T17:23:13.474Z"
   },
   {
    "duration": 364,
    "start_time": "2022-03-16T17:24:58.134Z"
   },
   {
    "duration": 35,
    "start_time": "2022-03-16T17:25:13.277Z"
   },
   {
    "duration": 252,
    "start_time": "2022-03-16T17:40:02.328Z"
   },
   {
    "duration": 34,
    "start_time": "2022-03-16T17:41:20.900Z"
   },
   {
    "duration": 32,
    "start_time": "2022-03-16T17:41:40.625Z"
   },
   {
    "duration": 33,
    "start_time": "2022-03-16T17:42:36.855Z"
   },
   {
    "duration": 27,
    "start_time": "2022-03-16T17:45:04.548Z"
   },
   {
    "duration": 24,
    "start_time": "2022-03-16T17:45:54.000Z"
   },
   {
    "duration": 29,
    "start_time": "2022-03-16T17:46:22.521Z"
   },
   {
    "duration": 263,
    "start_time": "2022-03-16T20:04:33.884Z"
   },
   {
    "duration": 10,
    "start_time": "2022-03-16T20:23:47.268Z"
   },
   {
    "duration": 83,
    "start_time": "2022-03-16T20:25:39.259Z"
   },
   {
    "duration": 215,
    "start_time": "2022-03-16T20:26:33.691Z"
   },
   {
    "duration": 9,
    "start_time": "2022-03-16T20:29:33.427Z"
   },
   {
    "duration": 349,
    "start_time": "2022-03-16T20:51:04.162Z"
   },
   {
    "duration": 342,
    "start_time": "2022-03-16T20:52:21.917Z"
   },
   {
    "duration": 294,
    "start_time": "2022-03-16T20:52:32.611Z"
   },
   {
    "duration": 238,
    "start_time": "2022-03-16T20:53:17.491Z"
   },
   {
    "duration": 337,
    "start_time": "2022-03-16T20:53:36.944Z"
   },
   {
    "duration": 486,
    "start_time": "2022-03-16T20:58:58.345Z"
   },
   {
    "duration": 310,
    "start_time": "2022-03-16T21:05:41.592Z"
   },
   {
    "duration": 286,
    "start_time": "2022-03-16T21:05:52.073Z"
   },
   {
    "duration": 299,
    "start_time": "2022-03-16T21:10:25.657Z"
   },
   {
    "duration": 698,
    "start_time": "2022-03-16T21:13:02.333Z"
   },
   {
    "duration": 1458,
    "start_time": "2022-03-16T21:13:19.075Z"
   },
   {
    "duration": 543,
    "start_time": "2022-03-16T21:14:29.448Z"
   },
   {
    "duration": 1700,
    "start_time": "2022-03-16T21:15:11.315Z"
   },
   {
    "duration": 520,
    "start_time": "2022-03-16T21:15:58.829Z"
   },
   {
    "duration": 588,
    "start_time": "2022-03-16T21:16:09.597Z"
   },
   {
    "duration": 345,
    "start_time": "2022-03-16T21:16:59.168Z"
   },
   {
    "duration": 608,
    "start_time": "2022-03-16T21:20:53.810Z"
   },
   {
    "duration": 492,
    "start_time": "2022-03-16T21:21:18.018Z"
   },
   {
    "duration": 837,
    "start_time": "2022-03-16T21:21:53.388Z"
   },
   {
    "duration": 593,
    "start_time": "2022-03-16T21:22:27.510Z"
   },
   {
    "duration": 438,
    "start_time": "2022-03-16T21:22:41.276Z"
   },
   {
    "duration": 347,
    "start_time": "2022-03-16T21:22:48.794Z"
   },
   {
    "duration": 1662,
    "start_time": "2022-03-17T18:22:04.993Z"
   },
   {
    "duration": 497,
    "start_time": "2022-03-17T18:22:06.658Z"
   },
   {
    "duration": 5,
    "start_time": "2022-03-17T18:22:07.159Z"
   },
   {
    "duration": 266,
    "start_time": "2022-03-17T18:22:07.169Z"
   },
   {
    "duration": 917,
    "start_time": "2022-03-17T18:22:07.438Z"
   },
   {
    "duration": 231,
    "start_time": "2022-03-17T18:22:08.358Z"
   },
   {
    "duration": 746,
    "start_time": "2022-03-17T18:22:08.592Z"
   },
   {
    "duration": 149,
    "start_time": "2022-03-17T18:22:09.340Z"
   },
   {
    "duration": 469,
    "start_time": "2022-03-17T18:22:09.492Z"
   },
   {
    "duration": 70,
    "start_time": "2022-03-17T18:22:09.966Z"
   },
   {
    "duration": 41,
    "start_time": "2022-03-17T18:22:10.038Z"
   },
   {
    "duration": 54,
    "start_time": "2022-03-17T18:22:10.082Z"
   },
   {
    "duration": 11,
    "start_time": "2022-03-17T18:22:10.169Z"
   },
   {
    "duration": 48,
    "start_time": "2022-03-17T18:22:10.182Z"
   },
   {
    "duration": 51,
    "start_time": "2022-03-17T18:22:10.232Z"
   },
   {
    "duration": 28,
    "start_time": "2022-03-17T18:22:10.285Z"
   },
   {
    "duration": 91,
    "start_time": "2022-03-17T18:22:10.315Z"
   },
   {
    "duration": 350,
    "start_time": "2022-03-17T18:22:10.409Z"
   },
   {
    "duration": 47,
    "start_time": "2022-03-17T18:22:10.767Z"
   },
   {
    "duration": 372,
    "start_time": "2022-03-17T18:22:10.817Z"
   },
   {
    "duration": 375,
    "start_time": "2022-03-17T18:26:30.794Z"
   },
   {
    "duration": 90,
    "start_time": "2022-03-17T18:28:53.771Z"
   },
   {
    "duration": 99,
    "start_time": "2022-03-17T18:28:59.558Z"
   },
   {
    "duration": 500,
    "start_time": "2022-03-17T18:29:05.852Z"
   },
   {
    "duration": 464,
    "start_time": "2022-03-17T18:29:20.292Z"
   },
   {
    "duration": 282,
    "start_time": "2022-03-17T18:29:25.803Z"
   },
   {
    "duration": 323,
    "start_time": "2022-03-17T18:29:31.973Z"
   },
   {
    "duration": 244,
    "start_time": "2022-03-17T18:31:46.288Z"
   },
   {
    "duration": 239,
    "start_time": "2022-03-17T18:33:36.795Z"
   },
   {
    "duration": 300,
    "start_time": "2022-03-17T18:33:45.075Z"
   },
   {
    "duration": 1208,
    "start_time": "2022-03-17T18:35:40.682Z"
   },
   {
    "duration": 889,
    "start_time": "2022-03-17T18:35:55.142Z"
   },
   {
    "duration": 850,
    "start_time": "2022-03-17T18:36:45.240Z"
   },
   {
    "duration": 749,
    "start_time": "2022-03-17T18:37:58.099Z"
   },
   {
    "duration": 697,
    "start_time": "2022-03-17T18:38:29.968Z"
   },
   {
    "duration": 744,
    "start_time": "2022-03-17T18:43:38.380Z"
   },
   {
    "duration": 675,
    "start_time": "2022-03-17T18:43:51.520Z"
   },
   {
    "duration": 588,
    "start_time": "2022-03-17T18:49:45.956Z"
   },
   {
    "duration": 710,
    "start_time": "2022-03-17T18:50:05.252Z"
   },
   {
    "duration": 1095,
    "start_time": "2022-03-17T18:50:29.409Z"
   },
   {
    "duration": 810,
    "start_time": "2022-03-17T18:50:40.833Z"
   },
   {
    "duration": 898,
    "start_time": "2022-03-17T18:50:53.061Z"
   },
   {
    "duration": 1421,
    "start_time": "2022-03-17T18:56:03.780Z"
   },
   {
    "duration": 739,
    "start_time": "2022-03-17T19:01:38.513Z"
   },
   {
    "duration": 644,
    "start_time": "2022-03-17T19:01:47.075Z"
   },
   {
    "duration": 600,
    "start_time": "2022-03-17T19:02:01.321Z"
   },
   {
    "duration": 659,
    "start_time": "2022-03-17T19:06:52.901Z"
   },
   {
    "duration": 734,
    "start_time": "2022-03-17T19:18:46.644Z"
   },
   {
    "duration": 598,
    "start_time": "2022-03-17T19:19:04.160Z"
   },
   {
    "duration": 909,
    "start_time": "2022-03-17T19:23:10.371Z"
   },
   {
    "duration": 4,
    "start_time": "2022-03-17T19:29:17.542Z"
   },
   {
    "duration": 151,
    "start_time": "2022-03-17T19:30:05.374Z"
   },
   {
    "duration": 47,
    "start_time": "2022-03-17T19:36:42.406Z"
   },
   {
    "duration": 57,
    "start_time": "2022-03-17T19:42:10.887Z"
   },
   {
    "duration": 596,
    "start_time": "2022-03-17T19:43:30.384Z"
   },
   {
    "duration": 571,
    "start_time": "2022-03-17T19:45:08.985Z"
   },
   {
    "duration": 46,
    "start_time": "2022-03-17T19:57:23.190Z"
   },
   {
    "duration": 541,
    "start_time": "2022-03-17T19:58:02.984Z"
   },
   {
    "duration": 836,
    "start_time": "2022-03-17T19:58:17.617Z"
   },
   {
    "duration": 771,
    "start_time": "2022-03-17T19:59:50.974Z"
   },
   {
    "duration": 395,
    "start_time": "2022-03-17T20:01:13.359Z"
   },
   {
    "duration": 45,
    "start_time": "2022-03-17T20:01:26.115Z"
   },
   {
    "duration": 702,
    "start_time": "2022-03-17T20:01:55.606Z"
   },
   {
    "duration": 49,
    "start_time": "2022-03-17T20:02:40.681Z"
   },
   {
    "duration": 432,
    "start_time": "2022-03-17T20:16:59.108Z"
   },
   {
    "duration": 449,
    "start_time": "2022-03-17T20:17:33.305Z"
   },
   {
    "duration": 52,
    "start_time": "2022-03-17T20:18:17.199Z"
   },
   {
    "duration": 417,
    "start_time": "2022-03-17T20:19:26.881Z"
   },
   {
    "duration": 422,
    "start_time": "2022-03-17T20:21:25.191Z"
   },
   {
    "duration": 508,
    "start_time": "2022-03-17T20:23:54.030Z"
   },
   {
    "duration": 54,
    "start_time": "2022-03-17T20:24:16.943Z"
   },
   {
    "duration": 2275,
    "start_time": "2022-03-19T08:59:30.220Z"
   },
   {
    "duration": 517,
    "start_time": "2022-03-19T08:59:32.498Z"
   },
   {
    "duration": 5,
    "start_time": "2022-03-19T08:59:33.017Z"
   },
   {
    "duration": 285,
    "start_time": "2022-03-19T08:59:33.025Z"
   },
   {
    "duration": 1051,
    "start_time": "2022-03-19T08:59:33.313Z"
   },
   {
    "duration": 347,
    "start_time": "2022-03-19T08:59:34.367Z"
   },
   {
    "duration": 905,
    "start_time": "2022-03-19T08:59:34.717Z"
   },
   {
    "duration": 168,
    "start_time": "2022-03-19T08:59:35.625Z"
   },
   {
    "duration": 601,
    "start_time": "2022-03-19T08:59:35.795Z"
   },
   {
    "duration": 94,
    "start_time": "2022-03-19T08:59:36.400Z"
   },
   {
    "duration": 15,
    "start_time": "2022-03-19T08:59:36.496Z"
   },
   {
    "duration": 94,
    "start_time": "2022-03-19T08:59:36.513Z"
   },
   {
    "duration": 12,
    "start_time": "2022-03-19T08:59:36.610Z"
   },
   {
    "duration": 95,
    "start_time": "2022-03-19T08:59:36.625Z"
   },
   {
    "duration": 42,
    "start_time": "2022-03-19T08:59:36.723Z"
   },
   {
    "duration": 53,
    "start_time": "2022-03-19T08:59:36.768Z"
   },
   {
    "duration": 98,
    "start_time": "2022-03-19T08:59:36.824Z"
   },
   {
    "duration": 436,
    "start_time": "2022-03-19T08:59:36.924Z"
   },
   {
    "duration": 58,
    "start_time": "2022-03-19T08:59:37.362Z"
   },
   {
    "duration": 871,
    "start_time": "2022-03-19T08:59:37.423Z"
   },
   {
    "duration": 892,
    "start_time": "2022-03-19T08:59:38.297Z"
   },
   {
    "duration": 861,
    "start_time": "2022-03-19T08:59:39.192Z"
   },
   {
    "duration": 79,
    "start_time": "2022-03-19T08:59:40.056Z"
   },
   {
    "duration": 184,
    "start_time": "2022-03-19T08:59:40.138Z"
   },
   {
    "duration": 570,
    "start_time": "2022-03-19T09:00:08.654Z"
   },
   {
    "duration": 878,
    "start_time": "2022-03-19T09:02:57.482Z"
   },
   {
    "duration": 439,
    "start_time": "2022-03-19T09:03:58.583Z"
   },
   {
    "duration": 406,
    "start_time": "2022-03-19T09:04:16.335Z"
   },
   {
    "duration": 462,
    "start_time": "2022-03-19T09:04:24.969Z"
   },
   {
    "duration": 48,
    "start_time": "2022-03-19T09:13:10.335Z"
   },
   {
    "duration": 39,
    "start_time": "2022-03-19T09:14:23.331Z"
   },
   {
    "duration": 56,
    "start_time": "2022-03-19T09:27:11.813Z"
   },
   {
    "duration": 42,
    "start_time": "2022-03-19T09:30:26.977Z"
   },
   {
    "duration": 40,
    "start_time": "2022-03-19T09:31:11.883Z"
   },
   {
    "duration": 39,
    "start_time": "2022-03-19T09:31:45.897Z"
   },
   {
    "duration": 52,
    "start_time": "2022-03-19T09:32:13.410Z"
   },
   {
    "duration": 51,
    "start_time": "2022-03-19T09:51:51.869Z"
   },
   {
    "duration": 46,
    "start_time": "2022-03-19T09:55:14.642Z"
   },
   {
    "duration": 73,
    "start_time": "2022-03-19T11:21:20.727Z"
   },
   {
    "duration": 47,
    "start_time": "2022-03-19T11:21:25.616Z"
   },
   {
    "duration": 41,
    "start_time": "2022-03-19T11:21:33.862Z"
   },
   {
    "duration": 24,
    "start_time": "2022-03-19T11:21:37.087Z"
   },
   {
    "duration": 50,
    "start_time": "2022-03-19T11:22:39.893Z"
   },
   {
    "duration": 25,
    "start_time": "2022-03-19T11:22:50.720Z"
   },
   {
    "duration": 493,
    "start_time": "2022-03-19T11:30:05.983Z"
   },
   {
    "duration": 426,
    "start_time": "2022-03-19T11:31:43.584Z"
   },
   {
    "duration": 43,
    "start_time": "2022-03-19T11:37:52.548Z"
   },
   {
    "duration": 330,
    "start_time": "2022-03-19T11:54:51.387Z"
   },
   {
    "duration": 5,
    "start_time": "2022-03-19T11:54:59.933Z"
   },
   {
    "duration": 523,
    "start_time": "2022-03-19T11:54:59.940Z"
   },
   {
    "duration": 5,
    "start_time": "2022-03-19T11:55:00.467Z"
   },
   {
    "duration": 316,
    "start_time": "2022-03-19T11:55:00.474Z"
   },
   {
    "duration": 1613,
    "start_time": "2022-03-19T11:55:00.794Z"
   },
   {
    "duration": 235,
    "start_time": "2022-03-19T11:55:02.410Z"
   },
   {
    "duration": 780,
    "start_time": "2022-03-19T11:55:02.647Z"
   },
   {
    "duration": 172,
    "start_time": "2022-03-19T11:55:03.430Z"
   },
   {
    "duration": 505,
    "start_time": "2022-03-19T11:55:03.605Z"
   },
   {
    "duration": 85,
    "start_time": "2022-03-19T11:55:04.112Z"
   },
   {
    "duration": 15,
    "start_time": "2022-03-19T11:55:04.200Z"
   },
   {
    "duration": 89,
    "start_time": "2022-03-19T11:55:04.217Z"
   },
   {
    "duration": 9,
    "start_time": "2022-03-19T11:55:04.309Z"
   },
   {
    "duration": 66,
    "start_time": "2022-03-19T11:55:04.320Z"
   },
   {
    "duration": 23,
    "start_time": "2022-03-19T11:55:04.389Z"
   },
   {
    "duration": 32,
    "start_time": "2022-03-19T11:55:04.414Z"
   },
   {
    "duration": 70,
    "start_time": "2022-03-19T11:55:04.449Z"
   },
   {
    "duration": 507,
    "start_time": "2022-03-19T11:55:04.522Z"
   },
   {
    "duration": 70,
    "start_time": "2022-03-19T11:55:05.031Z"
   },
   {
    "duration": 825,
    "start_time": "2022-03-19T11:55:05.104Z"
   },
   {
    "duration": 647,
    "start_time": "2022-03-19T11:55:05.931Z"
   },
   {
    "duration": 740,
    "start_time": "2022-03-19T11:55:06.584Z"
   },
   {
    "duration": 36,
    "start_time": "2022-03-19T11:55:07.326Z"
   },
   {
    "duration": 543,
    "start_time": "2022-03-19T11:55:07.364Z"
   },
   {
    "duration": 489,
    "start_time": "2022-03-19T12:26:30.328Z"
   },
   {
    "duration": 1295,
    "start_time": "2022-03-20T07:30:45.812Z"
   },
   {
    "duration": 384,
    "start_time": "2022-03-20T07:30:47.109Z"
   },
   {
    "duration": 4,
    "start_time": "2022-03-20T07:30:47.494Z"
   },
   {
    "duration": 188,
    "start_time": "2022-03-20T07:30:47.499Z"
   },
   {
    "duration": 587,
    "start_time": "2022-03-20T07:30:47.689Z"
   },
   {
    "duration": 151,
    "start_time": "2022-03-20T07:30:48.279Z"
   },
   {
    "duration": 494,
    "start_time": "2022-03-20T07:30:48.432Z"
   },
   {
    "duration": 100,
    "start_time": "2022-03-20T07:30:48.927Z"
   },
   {
    "duration": 317,
    "start_time": "2022-03-20T07:30:49.028Z"
   },
   {
    "duration": 44,
    "start_time": "2022-03-20T07:30:49.348Z"
   },
   {
    "duration": 10,
    "start_time": "2022-03-20T07:30:49.409Z"
   },
   {
    "duration": 32,
    "start_time": "2022-03-20T07:30:49.421Z"
   },
   {
    "duration": 5,
    "start_time": "2022-03-20T07:30:49.455Z"
   },
   {
    "duration": 65,
    "start_time": "2022-03-20T07:30:49.462Z"
   },
   {
    "duration": 20,
    "start_time": "2022-03-20T07:30:49.529Z"
   },
   {
    "duration": 19,
    "start_time": "2022-03-20T07:30:49.551Z"
   },
   {
    "duration": 57,
    "start_time": "2022-03-20T07:30:49.571Z"
   },
   {
    "duration": 198,
    "start_time": "2022-03-20T07:30:49.630Z"
   },
   {
    "duration": 28,
    "start_time": "2022-03-20T07:30:49.829Z"
   },
   {
    "duration": 390,
    "start_time": "2022-03-20T07:30:49.859Z"
   },
   {
    "duration": 401,
    "start_time": "2022-03-20T07:30:50.251Z"
   },
   {
    "duration": 394,
    "start_time": "2022-03-20T07:30:50.654Z"
   },
   {
    "duration": 23,
    "start_time": "2022-03-20T07:30:51.050Z"
   },
   {
    "duration": 319,
    "start_time": "2022-03-20T07:30:51.075Z"
   },
   {
    "duration": 53,
    "start_time": "2022-03-20T07:40:11.152Z"
   },
   {
    "duration": 36,
    "start_time": "2022-03-20T07:40:27.736Z"
   },
   {
    "duration": 29,
    "start_time": "2022-03-20T07:40:45.332Z"
   },
   {
    "duration": 38,
    "start_time": "2022-03-20T07:40:49.117Z"
   },
   {
    "duration": 108,
    "start_time": "2022-03-20T07:41:02.087Z"
   },
   {
    "duration": 33,
    "start_time": "2022-03-20T07:41:28.635Z"
   },
   {
    "duration": 261,
    "start_time": "2022-03-20T07:41:57.088Z"
   },
   {
    "duration": 36,
    "start_time": "2022-03-20T07:52:26.911Z"
   },
   {
    "duration": 514,
    "start_time": "2022-03-20T07:55:15.380Z"
   },
   {
    "duration": 19,
    "start_time": "2022-03-20T07:56:36.199Z"
   },
   {
    "duration": 31,
    "start_time": "2022-03-20T08:08:14.833Z"
   },
   {
    "duration": 36,
    "start_time": "2022-03-20T08:08:45.365Z"
   },
   {
    "duration": 96,
    "start_time": "2022-03-20T08:15:44.738Z"
   },
   {
    "duration": 508,
    "start_time": "2022-03-20T08:16:23.246Z"
   },
   {
    "duration": 500,
    "start_time": "2022-03-20T08:16:56.249Z"
   },
   {
    "duration": 62,
    "start_time": "2022-03-20T08:19:16.860Z"
   },
   {
    "duration": 10,
    "start_time": "2022-03-20T08:20:01.476Z"
   },
   {
    "duration": 3,
    "start_time": "2022-03-20T08:20:09.450Z"
   },
   {
    "duration": 381,
    "start_time": "2022-03-20T08:20:09.455Z"
   },
   {
    "duration": 3,
    "start_time": "2022-03-20T08:20:09.838Z"
   },
   {
    "duration": 161,
    "start_time": "2022-03-20T08:20:09.843Z"
   },
   {
    "duration": 597,
    "start_time": "2022-03-20T08:20:10.006Z"
   },
   {
    "duration": 137,
    "start_time": "2022-03-20T08:20:10.608Z"
   },
   {
    "duration": 505,
    "start_time": "2022-03-20T08:20:10.747Z"
   },
   {
    "duration": 100,
    "start_time": "2022-03-20T08:20:11.254Z"
   },
   {
    "duration": 314,
    "start_time": "2022-03-20T08:20:11.356Z"
   },
   {
    "duration": 59,
    "start_time": "2022-03-20T08:20:11.671Z"
   },
   {
    "duration": 9,
    "start_time": "2022-03-20T08:20:11.733Z"
   },
   {
    "duration": 42,
    "start_time": "2022-03-20T08:20:11.744Z"
   },
   {
    "duration": 38,
    "start_time": "2022-03-20T08:20:11.788Z"
   },
   {
    "duration": 48,
    "start_time": "2022-03-20T08:20:11.828Z"
   },
   {
    "duration": 49,
    "start_time": "2022-03-20T08:20:11.877Z"
   },
   {
    "duration": 29,
    "start_time": "2022-03-20T08:20:11.928Z"
   },
   {
    "duration": 30,
    "start_time": "2022-03-20T08:20:11.959Z"
   },
   {
    "duration": 201,
    "start_time": "2022-03-20T08:20:12.009Z"
   },
   {
    "duration": 29,
    "start_time": "2022-03-20T08:20:12.211Z"
   },
   {
    "duration": 399,
    "start_time": "2022-03-20T08:20:12.242Z"
   },
   {
    "duration": 434,
    "start_time": "2022-03-20T08:20:12.643Z"
   },
   {
    "duration": 392,
    "start_time": "2022-03-20T08:20:13.079Z"
   },
   {
    "duration": 38,
    "start_time": "2022-03-20T08:20:13.472Z"
   },
   {
    "duration": 388,
    "start_time": "2022-03-20T08:20:13.511Z"
   },
   {
    "duration": 26,
    "start_time": "2022-03-20T08:30:45.118Z"
   },
   {
    "duration": 27,
    "start_time": "2022-03-20T08:32:24.140Z"
   },
   {
    "duration": 24,
    "start_time": "2022-03-20T08:32:35.992Z"
   },
   {
    "duration": 83,
    "start_time": "2022-03-20T08:32:41.678Z"
   },
   {
    "duration": 3,
    "start_time": "2022-03-20T08:32:46.715Z"
   },
   {
    "duration": 391,
    "start_time": "2022-03-20T08:32:46.720Z"
   },
   {
    "duration": 3,
    "start_time": "2022-03-20T08:32:47.113Z"
   },
   {
    "duration": 181,
    "start_time": "2022-03-20T08:32:47.119Z"
   },
   {
    "duration": 583,
    "start_time": "2022-03-20T08:32:47.302Z"
   },
   {
    "duration": 131,
    "start_time": "2022-03-20T08:32:47.887Z"
   },
   {
    "duration": 524,
    "start_time": "2022-03-20T08:32:48.019Z"
   },
   {
    "duration": 100,
    "start_time": "2022-03-20T08:32:48.545Z"
   },
   {
    "duration": 319,
    "start_time": "2022-03-20T08:32:48.647Z"
   },
   {
    "duration": 53,
    "start_time": "2022-03-20T08:32:48.968Z"
   },
   {
    "duration": 10,
    "start_time": "2022-03-20T08:32:49.022Z"
   },
   {
    "duration": 33,
    "start_time": "2022-03-20T08:32:49.033Z"
   },
   {
    "duration": 48,
    "start_time": "2022-03-20T08:32:49.067Z"
   },
   {
    "duration": 49,
    "start_time": "2022-03-20T08:32:49.117Z"
   },
   {
    "duration": 52,
    "start_time": "2022-03-20T08:32:49.168Z"
   },
   {
    "duration": 30,
    "start_time": "2022-03-20T08:32:49.222Z"
   },
   {
    "duration": 30,
    "start_time": "2022-03-20T08:32:49.254Z"
   },
   {
    "duration": 212,
    "start_time": "2022-03-20T08:32:49.285Z"
   },
   {
    "duration": 32,
    "start_time": "2022-03-20T08:32:49.499Z"
   },
   {
    "duration": 399,
    "start_time": "2022-03-20T08:32:49.532Z"
   },
   {
    "duration": 404,
    "start_time": "2022-03-20T08:32:49.933Z"
   },
   {
    "duration": 470,
    "start_time": "2022-03-20T08:32:50.339Z"
   },
   {
    "duration": 26,
    "start_time": "2022-03-20T08:32:50.810Z"
   },
   {
    "duration": 325,
    "start_time": "2022-03-20T08:32:50.839Z"
   },
   {
    "duration": 27,
    "start_time": "2022-03-20T08:35:31.254Z"
   },
   {
    "duration": 4,
    "start_time": "2022-03-20T08:35:39.295Z"
   },
   {
    "duration": 387,
    "start_time": "2022-03-20T08:35:39.301Z"
   },
   {
    "duration": 4,
    "start_time": "2022-03-20T08:35:39.690Z"
   },
   {
    "duration": 205,
    "start_time": "2022-03-20T08:35:39.695Z"
   },
   {
    "duration": 598,
    "start_time": "2022-03-20T08:35:39.903Z"
   },
   {
    "duration": 149,
    "start_time": "2022-03-20T08:35:40.503Z"
   },
   {
    "duration": 30,
    "start_time": "2022-03-20T08:35:40.654Z"
   },
   {
    "duration": 104,
    "start_time": "2022-03-20T08:35:40.686Z"
   },
   {
    "duration": 352,
    "start_time": "2022-03-20T08:35:40.793Z"
   },
   {
    "duration": 41,
    "start_time": "2022-03-20T08:35:41.147Z"
   },
   {
    "duration": 10,
    "start_time": "2022-03-20T08:35:41.208Z"
   },
   {
    "duration": 36,
    "start_time": "2022-03-20T08:35:41.220Z"
   },
   {
    "duration": 19,
    "start_time": "2022-03-20T08:35:41.258Z"
   },
   {
    "duration": 78,
    "start_time": "2022-03-20T08:35:41.278Z"
   },
   {
    "duration": 32,
    "start_time": "2022-03-20T08:35:41.358Z"
   },
   {
    "duration": 29,
    "start_time": "2022-03-20T08:35:41.391Z"
   },
   {
    "duration": 0,
    "start_time": "2022-03-20T08:35:41.422Z"
   },
   {
    "duration": 0,
    "start_time": "2022-03-20T08:35:41.424Z"
   },
   {
    "duration": 0,
    "start_time": "2022-03-20T08:35:41.425Z"
   },
   {
    "duration": 0,
    "start_time": "2022-03-20T08:35:41.426Z"
   },
   {
    "duration": 0,
    "start_time": "2022-03-20T08:35:41.428Z"
   },
   {
    "duration": 0,
    "start_time": "2022-03-20T08:35:41.429Z"
   },
   {
    "duration": 0,
    "start_time": "2022-03-20T08:35:41.430Z"
   },
   {
    "duration": 0,
    "start_time": "2022-03-20T08:35:41.431Z"
   },
   {
    "duration": 4,
    "start_time": "2022-03-20T08:37:08.463Z"
   },
   {
    "duration": 404,
    "start_time": "2022-03-20T08:37:08.469Z"
   },
   {
    "duration": 4,
    "start_time": "2022-03-20T08:37:08.874Z"
   },
   {
    "duration": 168,
    "start_time": "2022-03-20T08:37:08.880Z"
   },
   {
    "duration": 576,
    "start_time": "2022-03-20T08:37:09.050Z"
   },
   {
    "duration": 142,
    "start_time": "2022-03-20T08:37:09.628Z"
   },
   {
    "duration": 508,
    "start_time": "2022-03-20T08:37:09.772Z"
   },
   {
    "duration": 94,
    "start_time": "2022-03-20T08:37:10.281Z"
   },
   {
    "duration": 315,
    "start_time": "2022-03-20T08:37:10.378Z"
   },
   {
    "duration": 44,
    "start_time": "2022-03-20T08:37:10.695Z"
   },
   {
    "duration": 10,
    "start_time": "2022-03-20T08:37:10.741Z"
   },
   {
    "duration": 61,
    "start_time": "2022-03-20T08:37:10.752Z"
   },
   {
    "duration": 18,
    "start_time": "2022-03-20T08:37:10.814Z"
   },
   {
    "duration": 49,
    "start_time": "2022-03-20T08:37:10.834Z"
   },
   {
    "duration": 56,
    "start_time": "2022-03-20T08:37:10.884Z"
   },
   {
    "duration": 32,
    "start_time": "2022-03-20T08:37:10.942Z"
   },
   {
    "duration": 46,
    "start_time": "2022-03-20T08:37:10.976Z"
   },
   {
    "duration": 199,
    "start_time": "2022-03-20T08:37:11.024Z"
   },
   {
    "duration": 30,
    "start_time": "2022-03-20T08:37:11.225Z"
   },
   {
    "duration": 395,
    "start_time": "2022-03-20T08:37:11.257Z"
   },
   {
    "duration": 420,
    "start_time": "2022-03-20T08:37:11.654Z"
   },
   {
    "duration": 399,
    "start_time": "2022-03-20T08:37:12.076Z"
   },
   {
    "duration": 35,
    "start_time": "2022-03-20T08:37:12.477Z"
   },
   {
    "duration": 422,
    "start_time": "2022-03-20T08:37:12.516Z"
   },
   {
    "duration": 72,
    "start_time": "2022-03-20T10:28:23.217Z"
   },
   {
    "duration": 4,
    "start_time": "2022-03-20T10:29:47.804Z"
   },
   {
    "duration": 14,
    "start_time": "2022-03-20T10:31:14.808Z"
   },
   {
    "duration": 16,
    "start_time": "2022-03-20T10:35:34.976Z"
   },
   {
    "duration": 15,
    "start_time": "2022-03-20T10:36:05.120Z"
   },
   {
    "duration": 7,
    "start_time": "2022-03-20T10:36:41.655Z"
   },
   {
    "duration": 9,
    "start_time": "2022-03-20T10:36:49.530Z"
   },
   {
    "duration": 5,
    "start_time": "2022-03-20T10:49:53.556Z"
   },
   {
    "duration": 3,
    "start_time": "2022-03-20T10:49:57.588Z"
   },
   {
    "duration": 383,
    "start_time": "2022-03-20T10:49:57.593Z"
   },
   {
    "duration": 3,
    "start_time": "2022-03-20T10:49:57.979Z"
   },
   {
    "duration": 179,
    "start_time": "2022-03-20T10:49:57.984Z"
   },
   {
    "duration": 596,
    "start_time": "2022-03-20T10:49:58.166Z"
   },
   {
    "duration": 134,
    "start_time": "2022-03-20T10:49:58.764Z"
   },
   {
    "duration": 521,
    "start_time": "2022-03-20T10:49:58.900Z"
   },
   {
    "duration": 104,
    "start_time": "2022-03-20T10:49:59.423Z"
   },
   {
    "duration": 324,
    "start_time": "2022-03-20T10:49:59.529Z"
   },
   {
    "duration": 56,
    "start_time": "2022-03-20T10:49:59.855Z"
   },
   {
    "duration": 10,
    "start_time": "2022-03-20T10:49:59.915Z"
   },
   {
    "duration": 42,
    "start_time": "2022-03-20T10:49:59.927Z"
   },
   {
    "duration": 50,
    "start_time": "2022-03-20T10:49:59.970Z"
   },
   {
    "duration": 62,
    "start_time": "2022-03-20T10:50:00.022Z"
   },
   {
    "duration": 40,
    "start_time": "2022-03-20T10:50:00.086Z"
   },
   {
    "duration": 30,
    "start_time": "2022-03-20T10:50:00.127Z"
   },
   {
    "duration": 50,
    "start_time": "2022-03-20T10:50:00.159Z"
   },
   {
    "duration": 211,
    "start_time": "2022-03-20T10:50:00.211Z"
   },
   {
    "duration": 33,
    "start_time": "2022-03-20T10:50:00.424Z"
   },
   {
    "duration": 430,
    "start_time": "2022-03-20T10:50:00.459Z"
   },
   {
    "duration": 427,
    "start_time": "2022-03-20T10:50:00.891Z"
   },
   {
    "duration": 396,
    "start_time": "2022-03-20T10:50:01.320Z"
   },
   {
    "duration": 25,
    "start_time": "2022-03-20T10:50:01.717Z"
   },
   {
    "duration": 325,
    "start_time": "2022-03-20T10:50:01.744Z"
   },
   {
    "duration": 10,
    "start_time": "2022-03-20T10:50:02.071Z"
   },
   {
    "duration": 12,
    "start_time": "2022-03-20T10:50:02.083Z"
   },
   {
    "duration": 28,
    "start_time": "2022-03-20T11:00:33.454Z"
   },
   {
    "duration": 31,
    "start_time": "2022-03-20T11:01:22.652Z"
   },
   {
    "duration": 8,
    "start_time": "2022-03-20T11:08:41.173Z"
   },
   {
    "duration": 1347,
    "start_time": "2022-03-22T19:18:55.349Z"
   },
   {
    "duration": 394,
    "start_time": "2022-03-22T19:18:56.700Z"
   },
   {
    "duration": 4,
    "start_time": "2022-03-22T19:18:57.096Z"
   },
   {
    "duration": 274,
    "start_time": "2022-03-22T19:18:57.103Z"
   },
   {
    "duration": 635,
    "start_time": "2022-03-22T19:18:57.379Z"
   },
   {
    "duration": 155,
    "start_time": "2022-03-22T19:18:58.016Z"
   },
   {
    "duration": 519,
    "start_time": "2022-03-22T19:18:58.173Z"
   },
   {
    "duration": 119,
    "start_time": "2022-03-22T19:18:58.694Z"
   },
   {
    "duration": 325,
    "start_time": "2022-03-22T19:18:58.815Z"
   },
   {
    "duration": 62,
    "start_time": "2022-03-22T19:18:59.143Z"
   },
   {
    "duration": 11,
    "start_time": "2022-03-22T19:18:59.206Z"
   },
   {
    "duration": 43,
    "start_time": "2022-03-22T19:18:59.219Z"
   },
   {
    "duration": 51,
    "start_time": "2022-03-22T19:18:59.264Z"
   },
   {
    "duration": 56,
    "start_time": "2022-03-22T19:18:59.317Z"
   },
   {
    "duration": 61,
    "start_time": "2022-03-22T19:18:59.375Z"
   },
   {
    "duration": 33,
    "start_time": "2022-03-22T19:18:59.438Z"
   },
   {
    "duration": 55,
    "start_time": "2022-03-22T19:18:59.473Z"
   },
   {
    "duration": 213,
    "start_time": "2022-03-22T19:18:59.530Z"
   },
   {
    "duration": 30,
    "start_time": "2022-03-22T19:18:59.744Z"
   },
   {
    "duration": 410,
    "start_time": "2022-03-22T19:18:59.776Z"
   },
   {
    "duration": 418,
    "start_time": "2022-03-22T19:19:00.188Z"
   },
   {
    "duration": 419,
    "start_time": "2022-03-22T19:19:00.609Z"
   },
   {
    "duration": 28,
    "start_time": "2022-03-22T19:19:01.030Z"
   },
   {
    "duration": 319,
    "start_time": "2022-03-22T19:19:01.060Z"
   },
   {
    "duration": 20,
    "start_time": "2022-03-22T19:19:01.381Z"
   },
   {
    "duration": 18,
    "start_time": "2022-03-22T19:19:01.403Z"
   },
   {
    "duration": 209,
    "start_time": "2022-03-22T19:37:09.585Z"
   },
   {
    "duration": 404,
    "start_time": "2022-03-22T19:40:16.451Z"
   },
   {
    "duration": 3,
    "start_time": "2022-03-22T19:40:22.232Z"
   },
   {
    "duration": 430,
    "start_time": "2022-03-22T19:40:22.238Z"
   },
   {
    "duration": 5,
    "start_time": "2022-03-22T19:40:22.670Z"
   },
   {
    "duration": 187,
    "start_time": "2022-03-22T19:40:22.677Z"
   },
   {
    "duration": 602,
    "start_time": "2022-03-22T19:40:22.868Z"
   },
   {
    "duration": 153,
    "start_time": "2022-03-22T19:40:23.472Z"
   },
   {
    "duration": 614,
    "start_time": "2022-03-22T19:40:23.627Z"
   },
   {
    "duration": 118,
    "start_time": "2022-03-22T19:40:24.243Z"
   },
   {
    "duration": 335,
    "start_time": "2022-03-22T19:40:24.363Z"
   },
   {
    "duration": 48,
    "start_time": "2022-03-22T19:40:24.701Z"
   },
   {
    "duration": 10,
    "start_time": "2022-03-22T19:40:24.751Z"
   },
   {
    "duration": 67,
    "start_time": "2022-03-22T19:40:24.763Z"
   },
   {
    "duration": 21,
    "start_time": "2022-03-22T19:40:24.831Z"
   },
   {
    "duration": 75,
    "start_time": "2022-03-22T19:40:24.855Z"
   },
   {
    "duration": 33,
    "start_time": "2022-03-22T19:40:24.932Z"
   },
   {
    "duration": 48,
    "start_time": "2022-03-22T19:40:24.967Z"
   },
   {
    "duration": 33,
    "start_time": "2022-03-22T19:40:25.017Z"
   },
   {
    "duration": 212,
    "start_time": "2022-03-22T19:40:25.051Z"
   },
   {
    "duration": 38,
    "start_time": "2022-03-22T19:40:25.264Z"
   },
   {
    "duration": 374,
    "start_time": "2022-03-22T19:40:25.304Z"
   },
   {
    "duration": 413,
    "start_time": "2022-03-22T19:40:25.679Z"
   },
   {
    "duration": 391,
    "start_time": "2022-03-22T19:40:26.095Z"
   },
   {
    "duration": 33,
    "start_time": "2022-03-22T19:40:26.487Z"
   },
   {
    "duration": 317,
    "start_time": "2022-03-22T19:40:26.521Z"
   },
   {
    "duration": 11,
    "start_time": "2022-03-22T19:40:26.840Z"
   },
   {
    "duration": 11,
    "start_time": "2022-03-22T19:40:26.853Z"
   },
   {
    "duration": 816,
    "start_time": "2022-03-22T19:40:26.866Z"
   },
   {
    "duration": 572,
    "start_time": "2022-03-22T19:40:49.248Z"
   },
   {
    "duration": 333,
    "start_time": "2022-03-22T19:41:04.085Z"
   },
   {
    "duration": 274,
    "start_time": "2022-03-22T19:41:19.497Z"
   },
   {
    "duration": 292,
    "start_time": "2022-03-22T19:41:27.703Z"
   },
   {
    "duration": 205,
    "start_time": "2022-03-22T19:41:37.100Z"
   },
   {
    "duration": 7,
    "start_time": "2022-03-22T19:41:45.437Z"
   },
   {
    "duration": 15,
    "start_time": "2022-03-22T19:42:27.613Z"
   },
   {
    "duration": 14,
    "start_time": "2022-03-22T19:42:41.912Z"
   },
   {
    "duration": 9,
    "start_time": "2022-03-22T19:44:01.321Z"
   },
   {
    "duration": 222,
    "start_time": "2022-03-22T19:46:07.753Z"
   },
   {
    "duration": 32,
    "start_time": "2022-03-22T19:56:29.826Z"
   },
   {
    "duration": 31,
    "start_time": "2022-03-22T19:56:35.555Z"
   },
   {
    "duration": 31,
    "start_time": "2022-03-22T20:12:05.508Z"
   },
   {
    "duration": 119,
    "start_time": "2022-03-22T20:13:25.420Z"
   },
   {
    "duration": 3,
    "start_time": "2022-03-22T20:13:52.540Z"
   },
   {
    "duration": 808,
    "start_time": "2022-03-22T20:13:52.545Z"
   },
   {
    "duration": 4,
    "start_time": "2022-03-22T20:13:53.355Z"
   },
   {
    "duration": 200,
    "start_time": "2022-03-22T20:13:53.361Z"
   },
   {
    "duration": 585,
    "start_time": "2022-03-22T20:13:53.563Z"
   },
   {
    "duration": 160,
    "start_time": "2022-03-22T20:13:54.150Z"
   },
   {
    "duration": 472,
    "start_time": "2022-03-22T20:13:54.312Z"
   },
   {
    "duration": 119,
    "start_time": "2022-03-22T20:13:54.785Z"
   },
   {
    "duration": 315,
    "start_time": "2022-03-22T20:13:54.907Z"
   },
   {
    "duration": 43,
    "start_time": "2022-03-22T20:13:55.224Z"
   },
   {
    "duration": 33,
    "start_time": "2022-03-22T20:13:55.269Z"
   },
   {
    "duration": 40,
    "start_time": "2022-03-22T20:13:55.304Z"
   },
   {
    "duration": 22,
    "start_time": "2022-03-22T20:13:55.346Z"
   },
   {
    "duration": 83,
    "start_time": "2022-03-22T20:13:55.371Z"
   },
   {
    "duration": 53,
    "start_time": "2022-03-22T20:13:55.456Z"
   },
   {
    "duration": 33,
    "start_time": "2022-03-22T20:13:55.511Z"
   },
   {
    "duration": 59,
    "start_time": "2022-03-22T20:13:55.546Z"
   },
   {
    "duration": 214,
    "start_time": "2022-03-22T20:13:55.607Z"
   },
   {
    "duration": 30,
    "start_time": "2022-03-22T20:13:55.823Z"
   },
   {
    "duration": 386,
    "start_time": "2022-03-22T20:13:55.855Z"
   },
   {
    "duration": 588,
    "start_time": "2022-03-22T20:13:56.243Z"
   },
   {
    "duration": 368,
    "start_time": "2022-03-22T20:13:56.833Z"
   },
   {
    "duration": 27,
    "start_time": "2022-03-22T20:13:57.203Z"
   },
   {
    "duration": 320,
    "start_time": "2022-03-22T20:13:57.233Z"
   },
   {
    "duration": 12,
    "start_time": "2022-03-22T20:13:57.555Z"
   },
   {
    "duration": 15,
    "start_time": "2022-03-22T20:13:57.568Z"
   },
   {
    "duration": 12,
    "start_time": "2022-03-22T20:13:57.601Z"
   },
   {
    "duration": 8,
    "start_time": "2022-03-22T20:13:57.615Z"
   },
   {
    "duration": 91,
    "start_time": "2022-03-22T20:14:31.301Z"
   },
   {
    "duration": 3,
    "start_time": "2022-03-22T20:14:35.484Z"
   },
   {
    "duration": 413,
    "start_time": "2022-03-22T20:14:35.489Z"
   },
   {
    "duration": 4,
    "start_time": "2022-03-22T20:14:35.903Z"
   },
   {
    "duration": 209,
    "start_time": "2022-03-22T20:14:35.909Z"
   },
   {
    "duration": 607,
    "start_time": "2022-03-22T20:14:36.120Z"
   },
   {
    "duration": 155,
    "start_time": "2022-03-22T20:14:36.729Z"
   },
   {
    "duration": 517,
    "start_time": "2022-03-22T20:14:36.886Z"
   },
   {
    "duration": 118,
    "start_time": "2022-03-22T20:14:37.405Z"
   },
   {
    "duration": 337,
    "start_time": "2022-03-22T20:14:37.525Z"
   },
   {
    "duration": 55,
    "start_time": "2022-03-22T20:14:37.864Z"
   },
   {
    "duration": 13,
    "start_time": "2022-03-22T20:14:37.920Z"
   },
   {
    "duration": 68,
    "start_time": "2022-03-22T20:14:37.935Z"
   },
   {
    "duration": 24,
    "start_time": "2022-03-22T20:14:38.005Z"
   },
   {
    "duration": 82,
    "start_time": "2022-03-22T20:14:38.033Z"
   },
   {
    "duration": 40,
    "start_time": "2022-03-22T20:14:38.117Z"
   },
   {
    "duration": 58,
    "start_time": "2022-03-22T20:14:38.159Z"
   },
   {
    "duration": 35,
    "start_time": "2022-03-22T20:14:38.218Z"
   },
   {
    "duration": 216,
    "start_time": "2022-03-22T20:14:38.254Z"
   },
   {
    "duration": 37,
    "start_time": "2022-03-22T20:14:38.472Z"
   },
   {
    "duration": 391,
    "start_time": "2022-03-22T20:14:38.511Z"
   },
   {
    "duration": 408,
    "start_time": "2022-03-22T20:14:38.904Z"
   },
   {
    "duration": 474,
    "start_time": "2022-03-22T20:14:39.314Z"
   },
   {
    "duration": 32,
    "start_time": "2022-03-22T20:14:39.789Z"
   },
   {
    "duration": 330,
    "start_time": "2022-03-22T20:14:39.823Z"
   },
   {
    "duration": 10,
    "start_time": "2022-03-22T20:14:40.155Z"
   },
   {
    "duration": 9,
    "start_time": "2022-03-22T20:14:40.167Z"
   },
   {
    "duration": 31,
    "start_time": "2022-03-22T20:14:40.178Z"
   },
   {
    "duration": 10,
    "start_time": "2022-03-22T20:14:40.211Z"
   },
   {
    "duration": 83,
    "start_time": "2022-03-22T20:17:17.758Z"
   },
   {
    "duration": 4,
    "start_time": "2022-03-22T20:21:39.302Z"
   },
   {
    "duration": 448,
    "start_time": "2022-03-22T20:21:39.308Z"
   },
   {
    "duration": 3,
    "start_time": "2022-03-22T20:21:39.758Z"
   },
   {
    "duration": 189,
    "start_time": "2022-03-22T20:21:39.764Z"
   },
   {
    "duration": 623,
    "start_time": "2022-03-22T20:21:39.956Z"
   },
   {
    "duration": 147,
    "start_time": "2022-03-22T20:21:40.580Z"
   },
   {
    "duration": 581,
    "start_time": "2022-03-22T20:21:40.729Z"
   },
   {
    "duration": 124,
    "start_time": "2022-03-22T20:21:41.312Z"
   },
   {
    "duration": 334,
    "start_time": "2022-03-22T20:21:41.440Z"
   },
   {
    "duration": 50,
    "start_time": "2022-03-22T20:21:41.776Z"
   },
   {
    "duration": 12,
    "start_time": "2022-03-22T20:21:41.828Z"
   },
   {
    "duration": 65,
    "start_time": "2022-03-22T20:21:41.842Z"
   },
   {
    "duration": 24,
    "start_time": "2022-03-22T20:21:41.909Z"
   },
   {
    "duration": 85,
    "start_time": "2022-03-22T20:21:41.935Z"
   },
   {
    "duration": 38,
    "start_time": "2022-03-22T20:21:42.022Z"
   },
   {
    "duration": 54,
    "start_time": "2022-03-22T20:21:42.062Z"
   },
   {
    "duration": 33,
    "start_time": "2022-03-22T20:21:42.118Z"
   },
   {
    "duration": 218,
    "start_time": "2022-03-22T20:21:42.153Z"
   },
   {
    "duration": 43,
    "start_time": "2022-03-22T20:21:42.373Z"
   },
   {
    "duration": 388,
    "start_time": "2022-03-22T20:21:42.418Z"
   },
   {
    "duration": 415,
    "start_time": "2022-03-22T20:21:42.808Z"
   },
   {
    "duration": 381,
    "start_time": "2022-03-22T20:21:43.225Z"
   },
   {
    "duration": 26,
    "start_time": "2022-03-22T20:21:43.608Z"
   },
   {
    "duration": 440,
    "start_time": "2022-03-22T20:21:43.637Z"
   },
   {
    "duration": 24,
    "start_time": "2022-03-22T20:21:44.079Z"
   },
   {
    "duration": 9,
    "start_time": "2022-03-22T20:21:44.105Z"
   },
   {
    "duration": 13,
    "start_time": "2022-03-22T20:21:44.115Z"
   },
   {
    "duration": 8,
    "start_time": "2022-03-22T20:21:44.129Z"
   },
   {
    "duration": 3,
    "start_time": "2022-03-22T20:23:14.632Z"
   },
   {
    "duration": 420,
    "start_time": "2022-03-22T20:23:14.638Z"
   },
   {
    "duration": 4,
    "start_time": "2022-03-22T20:23:15.060Z"
   },
   {
    "duration": 197,
    "start_time": "2022-03-22T20:23:15.066Z"
   },
   {
    "duration": 671,
    "start_time": "2022-03-22T20:23:15.265Z"
   },
   {
    "duration": 169,
    "start_time": "2022-03-22T20:23:15.938Z"
   },
   {
    "duration": 509,
    "start_time": "2022-03-22T20:23:16.109Z"
   },
   {
    "duration": 119,
    "start_time": "2022-03-22T20:23:16.619Z"
   },
   {
    "duration": 313,
    "start_time": "2022-03-22T20:23:16.740Z"
   },
   {
    "duration": 60,
    "start_time": "2022-03-22T20:23:17.055Z"
   },
   {
    "duration": 11,
    "start_time": "2022-03-22T20:23:17.118Z"
   },
   {
    "duration": 41,
    "start_time": "2022-03-22T20:23:17.131Z"
   },
   {
    "duration": 24,
    "start_time": "2022-03-22T20:23:17.200Z"
   },
   {
    "duration": 54,
    "start_time": "2022-03-22T20:23:17.226Z"
   },
   {
    "duration": 35,
    "start_time": "2022-03-22T20:23:17.302Z"
   },
   {
    "duration": 32,
    "start_time": "2022-03-22T20:23:17.340Z"
   },
   {
    "duration": 57,
    "start_time": "2022-03-22T20:23:17.374Z"
   },
   {
    "duration": 211,
    "start_time": "2022-03-22T20:23:17.432Z"
   },
   {
    "duration": 30,
    "start_time": "2022-03-22T20:23:17.645Z"
   },
   {
    "duration": 398,
    "start_time": "2022-03-22T20:23:17.677Z"
   },
   {
    "duration": 406,
    "start_time": "2022-03-22T20:23:18.078Z"
   },
   {
    "duration": 376,
    "start_time": "2022-03-22T20:23:18.486Z"
   },
   {
    "duration": 25,
    "start_time": "2022-03-22T20:23:18.864Z"
   },
   {
    "duration": 319,
    "start_time": "2022-03-22T20:23:18.902Z"
   },
   {
    "duration": 10,
    "start_time": "2022-03-22T20:23:19.223Z"
   },
   {
    "duration": 10,
    "start_time": "2022-03-22T20:23:19.236Z"
   },
   {
    "duration": 20,
    "start_time": "2022-03-22T20:23:19.248Z"
   },
   {
    "duration": 34,
    "start_time": "2022-03-22T20:23:19.270Z"
   },
   {
    "duration": 180,
    "start_time": "2022-03-22T20:25:23.736Z"
   },
   {
    "duration": 4,
    "start_time": "2022-03-22T20:25:39.272Z"
   },
   {
    "duration": 415,
    "start_time": "2022-03-22T20:25:39.278Z"
   },
   {
    "duration": 5,
    "start_time": "2022-03-22T20:25:39.695Z"
   },
   {
    "duration": 198,
    "start_time": "2022-03-22T20:25:39.702Z"
   },
   {
    "duration": 606,
    "start_time": "2022-03-22T20:25:39.903Z"
   },
   {
    "duration": 205,
    "start_time": "2022-03-22T20:25:40.511Z"
   },
   {
    "duration": 533,
    "start_time": "2022-03-22T20:25:40.717Z"
   },
   {
    "duration": 112,
    "start_time": "2022-03-22T20:25:41.252Z"
   },
   {
    "duration": 329,
    "start_time": "2022-03-22T20:25:41.366Z"
   },
   {
    "duration": 43,
    "start_time": "2022-03-22T20:25:41.697Z"
   },
   {
    "duration": 10,
    "start_time": "2022-03-22T20:25:41.744Z"
   },
   {
    "duration": 66,
    "start_time": "2022-03-22T20:25:41.756Z"
   },
   {
    "duration": 20,
    "start_time": "2022-03-22T20:25:41.824Z"
   },
   {
    "duration": 79,
    "start_time": "2022-03-22T20:25:41.846Z"
   },
   {
    "duration": 35,
    "start_time": "2022-03-22T20:25:41.934Z"
   },
   {
    "duration": 47,
    "start_time": "2022-03-22T20:25:41.971Z"
   },
   {
    "duration": 34,
    "start_time": "2022-03-22T20:25:42.020Z"
   },
   {
    "duration": 225,
    "start_time": "2022-03-22T20:25:42.056Z"
   },
   {
    "duration": 40,
    "start_time": "2022-03-22T20:25:42.283Z"
   },
   {
    "duration": 386,
    "start_time": "2022-03-22T20:25:42.325Z"
   },
   {
    "duration": 406,
    "start_time": "2022-03-22T20:25:42.714Z"
   },
   {
    "duration": 381,
    "start_time": "2022-03-22T20:25:43.122Z"
   },
   {
    "duration": 25,
    "start_time": "2022-03-22T20:25:43.505Z"
   },
   {
    "duration": 331,
    "start_time": "2022-03-22T20:25:43.532Z"
   },
   {
    "duration": 10,
    "start_time": "2022-03-22T20:25:43.865Z"
   },
   {
    "duration": 28,
    "start_time": "2022-03-22T20:25:43.876Z"
   },
   {
    "duration": 18,
    "start_time": "2022-03-22T20:25:43.906Z"
   },
   {
    "duration": 11,
    "start_time": "2022-03-22T20:25:43.926Z"
   },
   {
    "duration": 4,
    "start_time": "2022-03-22T20:27:24.262Z"
   },
   {
    "duration": 429,
    "start_time": "2022-03-22T20:27:24.268Z"
   },
   {
    "duration": 3,
    "start_time": "2022-03-22T20:27:24.700Z"
   },
   {
    "duration": 184,
    "start_time": "2022-03-22T20:27:24.705Z"
   },
   {
    "duration": 585,
    "start_time": "2022-03-22T20:27:24.891Z"
   },
   {
    "duration": 158,
    "start_time": "2022-03-22T20:27:25.477Z"
   },
   {
    "duration": 534,
    "start_time": "2022-03-22T20:27:25.637Z"
   },
   {
    "duration": 114,
    "start_time": "2022-03-22T20:27:26.174Z"
   },
   {
    "duration": 334,
    "start_time": "2022-03-22T20:27:26.303Z"
   },
   {
    "duration": 64,
    "start_time": "2022-03-22T20:27:26.641Z"
   },
   {
    "duration": 11,
    "start_time": "2022-03-22T20:27:26.708Z"
   },
   {
    "duration": 45,
    "start_time": "2022-03-22T20:27:26.720Z"
   },
   {
    "duration": 42,
    "start_time": "2022-03-22T20:27:26.767Z"
   },
   {
    "duration": 49,
    "start_time": "2022-03-22T20:27:26.811Z"
   },
   {
    "duration": 56,
    "start_time": "2022-03-22T20:27:26.862Z"
   },
   {
    "duration": 32,
    "start_time": "2022-03-22T20:27:26.920Z"
   },
   {
    "duration": 54,
    "start_time": "2022-03-22T20:27:26.954Z"
   },
   {
    "duration": 207,
    "start_time": "2022-03-22T20:27:27.010Z"
   },
   {
    "duration": 30,
    "start_time": "2022-03-22T20:27:27.220Z"
   },
   {
    "duration": 392,
    "start_time": "2022-03-22T20:27:27.251Z"
   },
   {
    "duration": 514,
    "start_time": "2022-03-22T20:27:27.644Z"
   },
   {
    "duration": 384,
    "start_time": "2022-03-22T20:27:28.160Z"
   },
   {
    "duration": 26,
    "start_time": "2022-03-22T20:27:28.546Z"
   },
   {
    "duration": 318,
    "start_time": "2022-03-22T20:27:28.574Z"
   },
   {
    "duration": 13,
    "start_time": "2022-03-22T20:27:28.894Z"
   },
   {
    "duration": 10,
    "start_time": "2022-03-22T20:27:28.909Z"
   },
   {
    "duration": 15,
    "start_time": "2022-03-22T20:27:28.921Z"
   },
   {
    "duration": 7,
    "start_time": "2022-03-22T20:27:28.938Z"
   },
   {
    "duration": 3,
    "start_time": "2022-03-22T20:28:28.303Z"
   },
   {
    "duration": 416,
    "start_time": "2022-03-22T20:28:28.308Z"
   },
   {
    "duration": 3,
    "start_time": "2022-03-22T20:28:28.727Z"
   },
   {
    "duration": 185,
    "start_time": "2022-03-22T20:28:28.731Z"
   },
   {
    "duration": 610,
    "start_time": "2022-03-22T20:28:28.918Z"
   },
   {
    "duration": 156,
    "start_time": "2022-03-22T20:28:29.531Z"
   },
   {
    "duration": 157,
    "start_time": "2022-03-22T20:28:29.690Z"
   },
   {
    "duration": 0,
    "start_time": "2022-03-22T20:28:29.849Z"
   },
   {
    "duration": 0,
    "start_time": "2022-03-22T20:28:29.851Z"
   },
   {
    "duration": 0,
    "start_time": "2022-03-22T20:28:29.852Z"
   },
   {
    "duration": 0,
    "start_time": "2022-03-22T20:28:29.854Z"
   },
   {
    "duration": 0,
    "start_time": "2022-03-22T20:28:29.855Z"
   },
   {
    "duration": 0,
    "start_time": "2022-03-22T20:28:29.856Z"
   },
   {
    "duration": 0,
    "start_time": "2022-03-22T20:28:29.857Z"
   },
   {
    "duration": 0,
    "start_time": "2022-03-22T20:28:29.858Z"
   },
   {
    "duration": 0,
    "start_time": "2022-03-22T20:28:29.859Z"
   },
   {
    "duration": 0,
    "start_time": "2022-03-22T20:28:29.860Z"
   },
   {
    "duration": 0,
    "start_time": "2022-03-22T20:28:29.861Z"
   },
   {
    "duration": 0,
    "start_time": "2022-03-22T20:28:29.862Z"
   },
   {
    "duration": 0,
    "start_time": "2022-03-22T20:28:29.863Z"
   },
   {
    "duration": 0,
    "start_time": "2022-03-22T20:28:29.864Z"
   },
   {
    "duration": 0,
    "start_time": "2022-03-22T20:28:29.865Z"
   },
   {
    "duration": 0,
    "start_time": "2022-03-22T20:28:29.866Z"
   },
   {
    "duration": 0,
    "start_time": "2022-03-22T20:28:29.867Z"
   },
   {
    "duration": 0,
    "start_time": "2022-03-22T20:28:29.869Z"
   },
   {
    "duration": 0,
    "start_time": "2022-03-22T20:28:29.870Z"
   },
   {
    "duration": 0,
    "start_time": "2022-03-22T20:28:29.871Z"
   },
   {
    "duration": 0,
    "start_time": "2022-03-22T20:28:29.871Z"
   },
   {
    "duration": 4,
    "start_time": "2022-03-22T20:29:45.156Z"
   },
   {
    "duration": 439,
    "start_time": "2022-03-22T20:29:45.162Z"
   },
   {
    "duration": 4,
    "start_time": "2022-03-22T20:29:45.603Z"
   },
   {
    "duration": 268,
    "start_time": "2022-03-22T20:29:45.610Z"
   },
   {
    "duration": 633,
    "start_time": "2022-03-22T20:29:45.879Z"
   },
   {
    "duration": 161,
    "start_time": "2022-03-22T20:29:46.514Z"
   },
   {
    "duration": 601,
    "start_time": "2022-03-22T20:29:46.677Z"
   },
   {
    "duration": 128,
    "start_time": "2022-03-22T20:29:47.280Z"
   },
   {
    "duration": 336,
    "start_time": "2022-03-22T20:29:47.411Z"
   },
   {
    "duration": 57,
    "start_time": "2022-03-22T20:29:47.749Z"
   },
   {
    "duration": 15,
    "start_time": "2022-03-22T20:29:47.808Z"
   },
   {
    "duration": 42,
    "start_time": "2022-03-22T20:29:47.824Z"
   },
   {
    "duration": 52,
    "start_time": "2022-03-22T20:29:47.868Z"
   },
   {
    "duration": 61,
    "start_time": "2022-03-22T20:29:47.922Z"
   },
   {
    "duration": 36,
    "start_time": "2022-03-22T20:29:48.001Z"
   },
   {
    "duration": 31,
    "start_time": "2022-03-22T20:29:48.039Z"
   },
   {
    "duration": 54,
    "start_time": "2022-03-22T20:29:48.071Z"
   },
   {
    "duration": 332,
    "start_time": "2022-03-22T20:29:48.127Z"
   },
   {
    "duration": 63,
    "start_time": "2022-03-22T20:29:48.461Z"
   },
   {
    "duration": 430,
    "start_time": "2022-03-22T20:29:48.526Z"
   },
   {
    "duration": 431,
    "start_time": "2022-03-22T20:29:48.957Z"
   },
   {
    "duration": 536,
    "start_time": "2022-03-22T20:29:49.391Z"
   },
   {
    "duration": 33,
    "start_time": "2022-03-22T20:29:49.929Z"
   },
   {
    "duration": 475,
    "start_time": "2022-03-22T20:29:49.966Z"
   },
   {
    "duration": 11,
    "start_time": "2022-03-22T20:29:50.443Z"
   },
   {
    "duration": 16,
    "start_time": "2022-03-22T20:29:50.456Z"
   },
   {
    "duration": 30,
    "start_time": "2022-03-22T20:29:50.475Z"
   },
   {
    "duration": 9,
    "start_time": "2022-03-22T20:29:50.508Z"
   },
   {
    "duration": 192,
    "start_time": "2022-03-23T17:19:55.547Z"
   },
   {
    "duration": 179,
    "start_time": "2022-03-23T17:20:32.066Z"
   },
   {
    "duration": 42,
    "start_time": "2022-03-23T17:22:47.375Z"
   },
   {
    "duration": 1801,
    "start_time": "2022-03-23T17:22:55.563Z"
   },
   {
    "duration": 381,
    "start_time": "2022-03-23T17:22:57.366Z"
   },
   {
    "duration": 3,
    "start_time": "2022-03-23T17:22:57.749Z"
   },
   {
    "duration": 177,
    "start_time": "2022-03-23T17:22:57.754Z"
   },
   {
    "duration": 544,
    "start_time": "2022-03-23T17:22:57.933Z"
   },
   {
    "duration": 131,
    "start_time": "2022-03-23T17:22:58.481Z"
   },
   {
    "duration": 429,
    "start_time": "2022-03-23T17:22:58.613Z"
   },
   {
    "duration": 89,
    "start_time": "2022-03-23T17:22:59.043Z"
   },
   {
    "duration": 323,
    "start_time": "2022-03-23T17:22:59.133Z"
   },
   {
    "duration": 42,
    "start_time": "2022-03-23T17:22:59.457Z"
   },
   {
    "duration": 8,
    "start_time": "2022-03-23T17:22:59.501Z"
   },
   {
    "duration": 33,
    "start_time": "2022-03-23T17:22:59.510Z"
   },
   {
    "duration": 54,
    "start_time": "2022-03-23T17:22:59.544Z"
   },
   {
    "duration": 95,
    "start_time": "2022-03-23T17:22:59.602Z"
   },
   {
    "duration": 32,
    "start_time": "2022-03-23T17:22:59.699Z"
   },
   {
    "duration": 28,
    "start_time": "2022-03-23T17:22:59.733Z"
   },
   {
    "duration": 32,
    "start_time": "2022-03-23T17:22:59.781Z"
   },
   {
    "duration": 325,
    "start_time": "2022-03-23T17:22:59.815Z"
   },
   {
    "duration": 48,
    "start_time": "2022-03-23T17:23:00.142Z"
   },
   {
    "duration": 551,
    "start_time": "2022-03-23T17:23:00.192Z"
   },
   {
    "duration": 352,
    "start_time": "2022-03-23T17:23:00.745Z"
   },
   {
    "duration": 336,
    "start_time": "2022-03-23T17:23:01.099Z"
   },
   {
    "duration": 22,
    "start_time": "2022-03-23T17:23:01.436Z"
   },
   {
    "duration": 266,
    "start_time": "2022-03-23T17:23:01.460Z"
   },
   {
    "duration": 10,
    "start_time": "2022-03-23T17:23:01.728Z"
   },
   {
    "duration": 18,
    "start_time": "2022-03-23T17:23:01.740Z"
   },
   {
    "duration": 26,
    "start_time": "2022-03-23T17:23:01.760Z"
   },
   {
    "duration": 11,
    "start_time": "2022-03-23T17:23:01.789Z"
   },
   {
    "duration": 148,
    "start_time": "2022-03-23T17:28:17.041Z"
   },
   {
    "duration": 3,
    "start_time": "2022-03-23T17:28:23.335Z"
   },
   {
    "duration": 408,
    "start_time": "2022-03-23T17:28:23.340Z"
   },
   {
    "duration": 3,
    "start_time": "2022-03-23T17:28:23.750Z"
   },
   {
    "duration": 182,
    "start_time": "2022-03-23T17:28:23.755Z"
   },
   {
    "duration": 528,
    "start_time": "2022-03-23T17:28:23.939Z"
   },
   {
    "duration": 129,
    "start_time": "2022-03-23T17:28:24.469Z"
   },
   {
    "duration": 414,
    "start_time": "2022-03-23T17:28:24.599Z"
   },
   {
    "duration": 103,
    "start_time": "2022-03-23T17:28:25.014Z"
   },
   {
    "duration": 502,
    "start_time": "2022-03-23T17:28:25.120Z"
   },
   {
    "duration": 69,
    "start_time": "2022-03-23T17:28:25.624Z"
   },
   {
    "duration": 12,
    "start_time": "2022-03-23T17:28:25.695Z"
   },
   {
    "duration": 47,
    "start_time": "2022-03-23T17:28:25.710Z"
   },
   {
    "duration": 48,
    "start_time": "2022-03-23T17:28:25.758Z"
   },
   {
    "duration": 91,
    "start_time": "2022-03-23T17:28:25.808Z"
   },
   {
    "duration": 56,
    "start_time": "2022-03-23T17:28:25.900Z"
   },
   {
    "duration": 53,
    "start_time": "2022-03-23T17:28:25.958Z"
   },
   {
    "duration": 32,
    "start_time": "2022-03-23T17:28:26.013Z"
   },
   {
    "duration": 192,
    "start_time": "2022-03-23T17:28:26.046Z"
   },
   {
    "duration": 25,
    "start_time": "2022-03-23T17:28:26.240Z"
   },
   {
    "duration": 319,
    "start_time": "2022-03-23T17:28:26.266Z"
   },
   {
    "duration": 440,
    "start_time": "2022-03-23T17:28:26.586Z"
   },
   {
    "duration": 457,
    "start_time": "2022-03-23T17:28:27.027Z"
   },
   {
    "duration": 32,
    "start_time": "2022-03-23T17:28:27.486Z"
   },
   {
    "duration": 432,
    "start_time": "2022-03-23T17:28:27.522Z"
   },
   {
    "duration": 11,
    "start_time": "2022-03-23T17:28:27.956Z"
   },
   {
    "duration": 25,
    "start_time": "2022-03-23T17:28:27.969Z"
   },
   {
    "duration": 29,
    "start_time": "2022-03-23T17:28:27.996Z"
   },
   {
    "duration": 12,
    "start_time": "2022-03-23T17:28:28.027Z"
   },
   {
    "duration": 3,
    "start_time": "2022-03-23T17:55:21.367Z"
   },
   {
    "duration": 438,
    "start_time": "2022-03-23T17:55:21.373Z"
   },
   {
    "duration": 4,
    "start_time": "2022-03-23T17:55:21.812Z"
   },
   {
    "duration": 149,
    "start_time": "2022-03-23T17:55:21.817Z"
   },
   {
    "duration": 539,
    "start_time": "2022-03-23T17:55:21.968Z"
   },
   {
    "duration": 133,
    "start_time": "2022-03-23T17:55:22.508Z"
   },
   {
    "duration": 422,
    "start_time": "2022-03-23T17:55:22.643Z"
   },
   {
    "duration": 87,
    "start_time": "2022-03-23T17:55:23.067Z"
   },
   {
    "duration": 288,
    "start_time": "2022-03-23T17:55:23.155Z"
   },
   {
    "duration": 54,
    "start_time": "2022-03-23T17:55:23.444Z"
   },
   {
    "duration": 9,
    "start_time": "2022-03-23T17:55:23.500Z"
   },
   {
    "duration": 35,
    "start_time": "2022-03-23T17:55:23.510Z"
   },
   {
    "duration": 45,
    "start_time": "2022-03-23T17:55:23.546Z"
   },
   {
    "duration": 44,
    "start_time": "2022-03-23T17:55:23.594Z"
   },
   {
    "duration": 45,
    "start_time": "2022-03-23T17:55:23.640Z"
   },
   {
    "duration": 26,
    "start_time": "2022-03-23T17:55:23.687Z"
   },
   {
    "duration": 28,
    "start_time": "2022-03-23T17:55:23.715Z"
   },
   {
    "duration": 196,
    "start_time": "2022-03-23T17:55:23.745Z"
   },
   {
    "duration": 24,
    "start_time": "2022-03-23T17:55:23.942Z"
   },
   {
    "duration": 329,
    "start_time": "2022-03-23T17:55:23.968Z"
   },
   {
    "duration": 413,
    "start_time": "2022-03-23T17:55:24.299Z"
   },
   {
    "duration": 340,
    "start_time": "2022-03-23T17:55:24.713Z"
   },
   {
    "duration": 32,
    "start_time": "2022-03-23T17:55:25.055Z"
   },
   {
    "duration": 314,
    "start_time": "2022-03-23T17:55:25.089Z"
   },
   {
    "duration": 11,
    "start_time": "2022-03-23T17:55:25.405Z"
   },
   {
    "duration": 9,
    "start_time": "2022-03-23T17:55:25.417Z"
   },
   {
    "duration": 11,
    "start_time": "2022-03-23T17:55:25.428Z"
   },
   {
    "duration": 8,
    "start_time": "2022-03-23T17:55:25.441Z"
   },
   {
    "duration": 34,
    "start_time": "2022-03-23T17:56:20.518Z"
   },
   {
    "duration": 3,
    "start_time": "2022-03-23T17:56:28.695Z"
   },
   {
    "duration": 420,
    "start_time": "2022-03-23T17:56:28.700Z"
   },
   {
    "duration": 3,
    "start_time": "2022-03-23T17:56:29.122Z"
   },
   {
    "duration": 176,
    "start_time": "2022-03-23T17:56:29.127Z"
   },
   {
    "duration": 545,
    "start_time": "2022-03-23T17:56:29.306Z"
   },
   {
    "duration": 134,
    "start_time": "2022-03-23T17:56:29.853Z"
   },
   {
    "duration": 368,
    "start_time": "2022-03-23T17:56:29.990Z"
   },
   {
    "duration": 83,
    "start_time": "2022-03-23T17:56:30.360Z"
   },
   {
    "duration": 292,
    "start_time": "2022-03-23T17:56:30.444Z"
   },
   {
    "duration": 47,
    "start_time": "2022-03-23T17:56:30.737Z"
   },
   {
    "duration": 10,
    "start_time": "2022-03-23T17:56:30.785Z"
   },
   {
    "duration": 38,
    "start_time": "2022-03-23T17:56:30.796Z"
   },
   {
    "duration": 21,
    "start_time": "2022-03-23T17:56:30.836Z"
   },
   {
    "duration": 74,
    "start_time": "2022-03-23T17:56:30.883Z"
   },
   {
    "duration": 67,
    "start_time": "2022-03-23T17:56:30.958Z"
   },
   {
    "duration": 28,
    "start_time": "2022-03-23T17:56:31.027Z"
   },
   {
    "duration": 47,
    "start_time": "2022-03-23T17:56:31.056Z"
   },
   {
    "duration": 297,
    "start_time": "2022-03-23T17:56:31.104Z"
   },
   {
    "duration": 38,
    "start_time": "2022-03-23T17:56:31.403Z"
   },
   {
    "duration": 511,
    "start_time": "2022-03-23T17:56:31.443Z"
   },
   {
    "duration": 364,
    "start_time": "2022-03-23T17:56:31.956Z"
   },
   {
    "duration": 432,
    "start_time": "2022-03-23T17:56:32.321Z"
   },
   {
    "duration": 33,
    "start_time": "2022-03-23T17:56:32.755Z"
   },
   {
    "duration": 258,
    "start_time": "2022-03-23T17:56:32.790Z"
   },
   {
    "duration": 8,
    "start_time": "2022-03-23T17:56:33.050Z"
   },
   {
    "duration": 24,
    "start_time": "2022-03-23T17:56:33.060Z"
   },
   {
    "duration": 13,
    "start_time": "2022-03-23T17:56:33.085Z"
   },
   {
    "duration": 11,
    "start_time": "2022-03-23T17:56:33.101Z"
   },
   {
    "duration": 24,
    "start_time": "2022-03-23T17:57:44.731Z"
   },
   {
    "duration": 4,
    "start_time": "2022-03-23T17:58:09.700Z"
   },
   {
    "duration": 575,
    "start_time": "2022-03-23T17:58:09.706Z"
   },
   {
    "duration": 4,
    "start_time": "2022-03-23T17:58:10.283Z"
   },
   {
    "duration": 264,
    "start_time": "2022-03-23T17:58:10.290Z"
   },
   {
    "duration": 1031,
    "start_time": "2022-03-23T17:58:10.555Z"
   },
   {
    "duration": 139,
    "start_time": "2022-03-23T17:58:11.587Z"
   },
   {
    "duration": 364,
    "start_time": "2022-03-23T17:58:11.728Z"
   },
   {
    "duration": 106,
    "start_time": "2022-03-23T17:58:12.094Z"
   },
   {
    "duration": 294,
    "start_time": "2022-03-23T17:58:12.202Z"
   },
   {
    "duration": 39,
    "start_time": "2022-03-23T17:58:12.499Z"
   },
   {
    "duration": 10,
    "start_time": "2022-03-23T17:58:12.539Z"
   },
   {
    "duration": 60,
    "start_time": "2022-03-23T17:58:12.550Z"
   },
   {
    "duration": 19,
    "start_time": "2022-03-23T17:58:12.611Z"
   },
   {
    "duration": 71,
    "start_time": "2022-03-23T17:58:12.632Z"
   },
   {
    "duration": 28,
    "start_time": "2022-03-23T17:58:12.704Z"
   },
   {
    "duration": 12,
    "start_time": "2022-03-23T17:58:12.733Z"
   },
   {
    "duration": 0,
    "start_time": "2022-03-23T17:58:12.747Z"
   },
   {
    "duration": 0,
    "start_time": "2022-03-23T17:58:12.748Z"
   },
   {
    "duration": 0,
    "start_time": "2022-03-23T17:58:12.749Z"
   },
   {
    "duration": 0,
    "start_time": "2022-03-23T17:58:12.750Z"
   },
   {
    "duration": 0,
    "start_time": "2022-03-23T17:58:12.751Z"
   },
   {
    "duration": 0,
    "start_time": "2022-03-23T17:58:12.752Z"
   },
   {
    "duration": 0,
    "start_time": "2022-03-23T17:58:12.753Z"
   },
   {
    "duration": 0,
    "start_time": "2022-03-23T17:58:12.754Z"
   },
   {
    "duration": 0,
    "start_time": "2022-03-23T17:58:12.780Z"
   },
   {
    "duration": 0,
    "start_time": "2022-03-23T17:58:12.781Z"
   },
   {
    "duration": 0,
    "start_time": "2022-03-23T17:58:12.783Z"
   },
   {
    "duration": 0,
    "start_time": "2022-03-23T17:58:12.785Z"
   },
   {
    "duration": 23,
    "start_time": "2022-03-23T17:59:17.957Z"
   },
   {
    "duration": 3,
    "start_time": "2022-03-23T17:59:22.768Z"
   },
   {
    "duration": 423,
    "start_time": "2022-03-23T17:59:22.774Z"
   },
   {
    "duration": 4,
    "start_time": "2022-03-23T17:59:23.198Z"
   },
   {
    "duration": 171,
    "start_time": "2022-03-23T17:59:23.204Z"
   },
   {
    "duration": 577,
    "start_time": "2022-03-23T17:59:23.382Z"
   },
   {
    "duration": 134,
    "start_time": "2022-03-23T17:59:23.961Z"
   },
   {
    "duration": 350,
    "start_time": "2022-03-23T17:59:24.097Z"
   },
   {
    "duration": 89,
    "start_time": "2022-03-23T17:59:24.448Z"
   },
   {
    "duration": 292,
    "start_time": "2022-03-23T17:59:24.539Z"
   },
   {
    "duration": 35,
    "start_time": "2022-03-23T17:59:24.833Z"
   },
   {
    "duration": 9,
    "start_time": "2022-03-23T17:59:24.881Z"
   },
   {
    "duration": 34,
    "start_time": "2022-03-23T17:59:24.891Z"
   },
   {
    "duration": 17,
    "start_time": "2022-03-23T17:59:24.927Z"
   },
   {
    "duration": 70,
    "start_time": "2022-03-23T17:59:24.947Z"
   },
   {
    "duration": 29,
    "start_time": "2022-03-23T17:59:25.019Z"
   },
   {
    "duration": 37,
    "start_time": "2022-03-23T17:59:25.050Z"
   },
   {
    "duration": 28,
    "start_time": "2022-03-23T17:59:25.089Z"
   },
   {
    "duration": 189,
    "start_time": "2022-03-23T17:59:25.119Z"
   },
   {
    "duration": 26,
    "start_time": "2022-03-23T17:59:25.310Z"
   },
   {
    "duration": 325,
    "start_time": "2022-03-23T17:59:25.338Z"
   },
   {
    "duration": 331,
    "start_time": "2022-03-23T17:59:25.664Z"
   },
   {
    "duration": 598,
    "start_time": "2022-03-23T17:59:25.997Z"
   },
   {
    "duration": 32,
    "start_time": "2022-03-23T17:59:26.597Z"
   },
   {
    "duration": 438,
    "start_time": "2022-03-23T17:59:26.632Z"
   },
   {
    "duration": 15,
    "start_time": "2022-03-23T17:59:27.072Z"
   },
   {
    "duration": 11,
    "start_time": "2022-03-23T17:59:27.088Z"
   },
   {
    "duration": 16,
    "start_time": "2022-03-23T17:59:27.101Z"
   },
   {
    "duration": 9,
    "start_time": "2022-03-23T17:59:27.119Z"
   },
   {
    "duration": 6,
    "start_time": "2022-03-23T17:59:45.546Z"
   },
   {
    "duration": 409,
    "start_time": "2022-03-23T17:59:45.554Z"
   },
   {
    "duration": 4,
    "start_time": "2022-03-23T17:59:45.964Z"
   },
   {
    "duration": 216,
    "start_time": "2022-03-23T17:59:45.969Z"
   },
   {
    "duration": 685,
    "start_time": "2022-03-23T17:59:46.187Z"
   },
   {
    "duration": 132,
    "start_time": "2022-03-23T17:59:46.881Z"
   },
   {
    "duration": 395,
    "start_time": "2022-03-23T17:59:47.015Z"
   },
   {
    "duration": 108,
    "start_time": "2022-03-23T17:59:47.412Z"
   },
   {
    "duration": 490,
    "start_time": "2022-03-23T17:59:47.522Z"
   },
   {
    "duration": 72,
    "start_time": "2022-03-23T17:59:48.014Z"
   },
   {
    "duration": 15,
    "start_time": "2022-03-23T17:59:48.088Z"
   },
   {
    "duration": 51,
    "start_time": "2022-03-23T17:59:48.106Z"
   },
   {
    "duration": 42,
    "start_time": "2022-03-23T17:59:48.159Z"
   },
   {
    "duration": 96,
    "start_time": "2022-03-23T17:59:48.204Z"
   },
   {
    "duration": 29,
    "start_time": "2022-03-23T17:59:48.302Z"
   },
   {
    "duration": 28,
    "start_time": "2022-03-23T17:59:48.333Z"
   },
   {
    "duration": 56,
    "start_time": "2022-03-23T17:59:48.363Z"
   },
   {
    "duration": 212,
    "start_time": "2022-03-23T17:59:48.420Z"
   },
   {
    "duration": 25,
    "start_time": "2022-03-23T17:59:48.634Z"
   },
   {
    "duration": 428,
    "start_time": "2022-03-23T17:59:48.660Z"
   },
   {
    "duration": 387,
    "start_time": "2022-03-23T17:59:49.090Z"
   },
   {
    "duration": 444,
    "start_time": "2022-03-23T17:59:49.480Z"
   },
   {
    "duration": 22,
    "start_time": "2022-03-23T17:59:49.926Z"
   },
   {
    "duration": 413,
    "start_time": "2022-03-23T17:59:49.949Z"
   },
   {
    "duration": 21,
    "start_time": "2022-03-23T17:59:50.364Z"
   },
   {
    "duration": 10,
    "start_time": "2022-03-23T17:59:50.388Z"
   },
   {
    "duration": 27,
    "start_time": "2022-03-23T17:59:50.400Z"
   },
   {
    "duration": 7,
    "start_time": "2022-03-23T17:59:50.429Z"
   },
   {
    "duration": 217,
    "start_time": "2022-03-23T18:16:56.251Z"
   },
   {
    "duration": 3154,
    "start_time": "2022-03-23T18:17:01.012Z"
   },
   {
    "duration": 3135,
    "start_time": "2022-03-23T18:17:18.584Z"
   },
   {
    "duration": 27,
    "start_time": "2022-03-23T18:17:54.297Z"
   },
   {
    "duration": 25,
    "start_time": "2022-03-23T18:18:09.028Z"
   },
   {
    "duration": 29,
    "start_time": "2022-03-23T18:19:08.349Z"
   },
   {
    "duration": 30,
    "start_time": "2022-03-23T18:28:53.113Z"
   },
   {
    "duration": 32,
    "start_time": "2022-03-23T18:29:00.311Z"
   },
   {
    "duration": 45,
    "start_time": "2022-03-23T18:33:45.203Z"
   },
   {
    "duration": 29,
    "start_time": "2022-03-23T18:52:02.458Z"
   },
   {
    "duration": 38,
    "start_time": "2022-03-23T18:54:16.158Z"
   },
   {
    "duration": 28,
    "start_time": "2022-03-23T18:54:28.897Z"
   },
   {
    "duration": 39,
    "start_time": "2022-03-23T18:54:46.058Z"
   },
   {
    "duration": 29,
    "start_time": "2022-03-23T18:55:11.189Z"
   },
   {
    "duration": 9,
    "start_time": "2022-03-23T18:55:16.176Z"
   },
   {
    "duration": 406,
    "start_time": "2022-03-23T18:55:16.187Z"
   },
   {
    "duration": 4,
    "start_time": "2022-03-23T18:55:16.595Z"
   },
   {
    "duration": 181,
    "start_time": "2022-03-23T18:55:16.601Z"
   },
   {
    "duration": 535,
    "start_time": "2022-03-23T18:55:16.785Z"
   },
   {
    "duration": 112,
    "start_time": "2022-03-23T18:55:17.322Z"
   },
   {
    "duration": 358,
    "start_time": "2022-03-23T18:55:17.436Z"
   },
   {
    "duration": 135,
    "start_time": "2022-03-23T18:55:17.796Z"
   },
   {
    "duration": 336,
    "start_time": "2022-03-23T18:55:17.933Z"
   },
   {
    "duration": 39,
    "start_time": "2022-03-23T18:55:18.271Z"
   },
   {
    "duration": 8,
    "start_time": "2022-03-23T18:55:18.312Z"
   },
   {
    "duration": 35,
    "start_time": "2022-03-23T18:55:18.321Z"
   },
   {
    "duration": 16,
    "start_time": "2022-03-23T18:55:18.381Z"
   },
   {
    "duration": 45,
    "start_time": "2022-03-23T18:55:18.400Z"
   },
   {
    "duration": 48,
    "start_time": "2022-03-23T18:55:18.446Z"
   },
   {
    "duration": 28,
    "start_time": "2022-03-23T18:55:18.495Z"
   },
   {
    "duration": 29,
    "start_time": "2022-03-23T18:55:18.525Z"
   },
   {
    "duration": 204,
    "start_time": "2022-03-23T18:55:18.555Z"
   },
   {
    "duration": 33,
    "start_time": "2022-03-23T18:55:18.760Z"
   },
   {
    "duration": 316,
    "start_time": "2022-03-23T18:55:18.794Z"
   },
   {
    "duration": 324,
    "start_time": "2022-03-23T18:55:19.112Z"
   },
   {
    "duration": 332,
    "start_time": "2022-03-23T18:55:19.437Z"
   },
   {
    "duration": 25,
    "start_time": "2022-03-23T18:55:19.771Z"
   },
   {
    "duration": 267,
    "start_time": "2022-03-23T18:55:19.798Z"
   },
   {
    "duration": 18,
    "start_time": "2022-03-23T18:55:20.067Z"
   },
   {
    "duration": 7,
    "start_time": "2022-03-23T18:55:20.086Z"
   },
   {
    "duration": 10,
    "start_time": "2022-03-23T18:55:20.094Z"
   },
   {
    "duration": 6,
    "start_time": "2022-03-23T18:55:20.106Z"
   },
   {
    "duration": 3,
    "start_time": "2022-03-23T18:56:37.857Z"
   },
   {
    "duration": 392,
    "start_time": "2022-03-23T18:56:37.863Z"
   },
   {
    "duration": 3,
    "start_time": "2022-03-23T18:56:38.257Z"
   },
   {
    "duration": 167,
    "start_time": "2022-03-23T18:56:38.262Z"
   },
   {
    "duration": 609,
    "start_time": "2022-03-23T18:56:38.431Z"
   },
   {
    "duration": 146,
    "start_time": "2022-03-23T18:56:39.043Z"
   },
   {
    "duration": 350,
    "start_time": "2022-03-23T18:56:39.191Z"
   },
   {
    "duration": 98,
    "start_time": "2022-03-23T18:56:39.543Z"
   },
   {
    "duration": 287,
    "start_time": "2022-03-23T18:56:39.643Z"
   },
   {
    "duration": 49,
    "start_time": "2022-03-23T18:56:39.932Z"
   },
   {
    "duration": 9,
    "start_time": "2022-03-23T18:56:39.982Z"
   },
   {
    "duration": 32,
    "start_time": "2022-03-23T18:56:39.993Z"
   },
   {
    "duration": 19,
    "start_time": "2022-03-23T18:56:40.027Z"
   },
   {
    "duration": 44,
    "start_time": "2022-03-23T18:56:40.080Z"
   },
   {
    "duration": 28,
    "start_time": "2022-03-23T18:56:40.128Z"
   },
   {
    "duration": 51,
    "start_time": "2022-03-23T18:56:40.158Z"
   },
   {
    "duration": 26,
    "start_time": "2022-03-23T18:56:40.210Z"
   },
   {
    "duration": 187,
    "start_time": "2022-03-23T18:56:40.238Z"
   },
   {
    "duration": 25,
    "start_time": "2022-03-23T18:56:40.427Z"
   },
   {
    "duration": 334,
    "start_time": "2022-03-23T18:56:40.453Z"
   },
   {
    "duration": 445,
    "start_time": "2022-03-23T18:56:40.789Z"
   },
   {
    "duration": 315,
    "start_time": "2022-03-23T18:56:41.236Z"
   },
   {
    "duration": 34,
    "start_time": "2022-03-23T18:56:41.552Z"
   },
   {
    "duration": 271,
    "start_time": "2022-03-23T18:56:41.587Z"
   },
   {
    "duration": 9,
    "start_time": "2022-03-23T18:56:41.860Z"
   },
   {
    "duration": 7,
    "start_time": "2022-03-23T18:56:41.880Z"
   },
   {
    "duration": 11,
    "start_time": "2022-03-23T18:56:41.889Z"
   },
   {
    "duration": 8,
    "start_time": "2022-03-23T18:56:41.902Z"
   },
   {
    "duration": 29,
    "start_time": "2022-03-23T18:57:24.472Z"
   },
   {
    "duration": 1214,
    "start_time": "2022-04-03T20:21:00.483Z"
   },
   {
    "duration": 431,
    "start_time": "2022-04-03T20:21:01.699Z"
   },
   {
    "duration": 4,
    "start_time": "2022-04-03T20:21:02.132Z"
   },
   {
    "duration": 192,
    "start_time": "2022-04-03T20:21:02.138Z"
   },
   {
    "duration": 539,
    "start_time": "2022-04-03T20:21:02.332Z"
   },
   {
    "duration": 140,
    "start_time": "2022-04-03T20:21:02.880Z"
   },
   {
    "duration": 359,
    "start_time": "2022-04-03T20:21:03.022Z"
   },
   {
    "duration": 103,
    "start_time": "2022-04-03T20:21:03.383Z"
   },
   {
    "duration": 271,
    "start_time": "2022-04-03T20:21:03.488Z"
   },
   {
    "duration": 46,
    "start_time": "2022-04-03T20:21:03.762Z"
   },
   {
    "duration": 9,
    "start_time": "2022-04-03T20:21:03.809Z"
   },
   {
    "duration": 61,
    "start_time": "2022-04-03T20:21:03.820Z"
   },
   {
    "duration": 19,
    "start_time": "2022-04-03T20:21:03.882Z"
   },
   {
    "duration": 48,
    "start_time": "2022-04-03T20:21:03.902Z"
   },
   {
    "duration": 56,
    "start_time": "2022-04-03T20:21:03.952Z"
   },
   {
    "duration": 31,
    "start_time": "2022-04-03T20:21:04.009Z"
   },
   {
    "duration": 46,
    "start_time": "2022-04-03T20:21:04.042Z"
   },
   {
    "duration": 185,
    "start_time": "2022-04-03T20:21:04.089Z"
   },
   {
    "duration": 28,
    "start_time": "2022-04-03T20:21:04.276Z"
   },
   {
    "duration": 356,
    "start_time": "2022-04-03T20:21:04.305Z"
   },
   {
    "duration": 335,
    "start_time": "2022-04-03T20:21:04.662Z"
   },
   {
    "duration": 334,
    "start_time": "2022-04-03T20:21:04.998Z"
   },
   {
    "duration": 21,
    "start_time": "2022-04-03T20:21:05.334Z"
   },
   {
    "duration": 278,
    "start_time": "2022-04-03T20:21:05.357Z"
   },
   {
    "duration": 8,
    "start_time": "2022-04-03T20:21:05.637Z"
   },
   {
    "duration": 7,
    "start_time": "2022-04-03T20:21:05.647Z"
   },
   {
    "duration": 34,
    "start_time": "2022-04-03T20:21:05.655Z"
   },
   {
    "duration": 7,
    "start_time": "2022-04-03T20:21:05.692Z"
   },
   {
    "duration": 2,
    "start_time": "2022-04-03T20:24:26.676Z"
   },
   {
    "duration": 195,
    "start_time": "2022-04-03T20:24:27.865Z"
   },
   {
    "duration": 3,
    "start_time": "2022-04-03T20:24:33.532Z"
   },
   {
    "duration": 1252,
    "start_time": "2022-04-03T20:24:40.705Z"
   },
   {
    "duration": 417,
    "start_time": "2022-04-03T20:24:41.959Z"
   },
   {
    "duration": 3,
    "start_time": "2022-04-03T20:24:42.378Z"
   },
   {
    "duration": 189,
    "start_time": "2022-04-03T20:24:42.383Z"
   },
   {
    "duration": 535,
    "start_time": "2022-04-03T20:24:42.574Z"
   },
   {
    "duration": 182,
    "start_time": "2022-04-03T20:24:43.111Z"
   },
   {
    "duration": 615,
    "start_time": "2022-04-03T20:24:43.295Z"
   },
   {
    "duration": 182,
    "start_time": "2022-04-03T20:24:43.911Z"
   },
   {
    "duration": 517,
    "start_time": "2022-04-03T20:24:44.094Z"
   },
   {
    "duration": 92,
    "start_time": "2022-04-03T20:24:44.614Z"
   },
   {
    "duration": 8,
    "start_time": "2022-04-03T20:24:44.707Z"
   },
   {
    "duration": 86,
    "start_time": "2022-04-03T20:24:44.717Z"
   },
   {
    "duration": 16,
    "start_time": "2022-04-03T20:24:44.805Z"
   },
   {
    "duration": 94,
    "start_time": "2022-04-03T20:24:44.823Z"
   },
   {
    "duration": 79,
    "start_time": "2022-04-03T20:24:44.919Z"
   },
   {
    "duration": 87,
    "start_time": "2022-04-03T20:24:45.000Z"
   },
   {
    "duration": 27,
    "start_time": "2022-04-03T20:24:45.089Z"
   },
   {
    "duration": 373,
    "start_time": "2022-04-03T20:24:45.118Z"
   },
   {
    "duration": 25,
    "start_time": "2022-04-03T20:24:45.492Z"
   },
   {
    "duration": 614,
    "start_time": "2022-04-03T20:24:45.519Z"
   },
   {
    "duration": 341,
    "start_time": "2022-04-03T20:24:46.134Z"
   },
   {
    "duration": 326,
    "start_time": "2022-04-03T20:24:46.480Z"
   },
   {
    "duration": 22,
    "start_time": "2022-04-03T20:24:46.808Z"
   },
   {
    "duration": 277,
    "start_time": "2022-04-03T20:24:46.832Z"
   },
   {
    "duration": 9,
    "start_time": "2022-04-03T20:24:47.111Z"
   },
   {
    "duration": 9,
    "start_time": "2022-04-03T20:24:47.121Z"
   },
   {
    "duration": 13,
    "start_time": "2022-04-03T20:24:47.131Z"
   },
   {
    "duration": 14,
    "start_time": "2022-04-03T20:24:47.147Z"
   },
   {
    "duration": 361,
    "start_time": "2022-04-03T20:45:48.720Z"
   },
   {
    "duration": 283,
    "start_time": "2022-04-03T20:45:57.793Z"
   },
   {
    "duration": 280,
    "start_time": "2022-04-03T20:46:14.007Z"
   },
   {
    "duration": 309,
    "start_time": "2022-04-03T20:46:30.188Z"
   },
   {
    "duration": 261,
    "start_time": "2022-04-03T20:47:01.775Z"
   },
   {
    "duration": 369,
    "start_time": "2022-04-03T20:47:59.312Z"
   },
   {
    "duration": 150,
    "start_time": "2022-04-03T20:49:09.036Z"
   },
   {
    "duration": 90,
    "start_time": "2022-04-03T20:50:50.582Z"
   },
   {
    "duration": 11,
    "start_time": "2022-04-03T20:50:59.333Z"
   },
   {
    "duration": 12,
    "start_time": "2022-04-03T20:51:07.101Z"
   },
   {
    "duration": 16,
    "start_time": "2022-04-03T20:51:19.543Z"
   },
   {
    "duration": 205,
    "start_time": "2022-04-03T20:53:04.883Z"
   },
   {
    "duration": 220,
    "start_time": "2022-04-03T20:53:45.897Z"
   },
   {
    "duration": 1165,
    "start_time": "2022-04-03T20:56:49.991Z"
   },
   {
    "duration": 376,
    "start_time": "2022-04-03T20:56:51.158Z"
   },
   {
    "duration": 3,
    "start_time": "2022-04-03T20:56:51.536Z"
   },
   {
    "duration": 161,
    "start_time": "2022-04-03T20:56:51.541Z"
   },
   {
    "duration": 540,
    "start_time": "2022-04-03T20:56:51.703Z"
   },
   {
    "duration": 127,
    "start_time": "2022-04-03T20:56:52.244Z"
   },
   {
    "duration": 349,
    "start_time": "2022-04-03T20:56:52.380Z"
   },
   {
    "duration": 89,
    "start_time": "2022-04-03T20:56:52.730Z"
   },
   {
    "duration": 302,
    "start_time": "2022-04-03T20:56:52.821Z"
   },
   {
    "duration": 57,
    "start_time": "2022-04-03T20:56:53.127Z"
   },
   {
    "duration": 9,
    "start_time": "2022-04-03T20:56:53.185Z"
   },
   {
    "duration": 33,
    "start_time": "2022-04-03T20:56:53.197Z"
   },
   {
    "duration": 49,
    "start_time": "2022-04-03T20:56:53.232Z"
   },
   {
    "duration": 45,
    "start_time": "2022-04-03T20:56:53.283Z"
   },
   {
    "duration": 30,
    "start_time": "2022-04-03T20:56:53.330Z"
   },
   {
    "duration": 31,
    "start_time": "2022-04-03T20:56:53.381Z"
   },
   {
    "duration": 28,
    "start_time": "2022-04-03T20:56:53.414Z"
   },
   {
    "duration": 194,
    "start_time": "2022-04-03T20:56:53.444Z"
   },
   {
    "duration": 24,
    "start_time": "2022-04-03T20:56:53.640Z"
   },
   {
    "duration": 333,
    "start_time": "2022-04-03T20:56:53.666Z"
   },
   {
    "duration": 332,
    "start_time": "2022-04-03T20:56:54.001Z"
   },
   {
    "duration": 320,
    "start_time": "2022-04-03T20:56:54.335Z"
   },
   {
    "duration": 30,
    "start_time": "2022-04-03T20:56:54.657Z"
   },
   {
    "duration": 264,
    "start_time": "2022-04-03T20:56:54.688Z"
   },
   {
    "duration": 9,
    "start_time": "2022-04-03T20:56:54.954Z"
   },
   {
    "duration": 19,
    "start_time": "2022-04-03T20:56:54.965Z"
   },
   {
    "duration": 10,
    "start_time": "2022-04-03T20:56:54.986Z"
   },
   {
    "duration": 7,
    "start_time": "2022-04-03T20:56:54.999Z"
   },
   {
    "duration": 1228,
    "start_time": "2022-04-03T21:17:15.837Z"
   },
   {
    "duration": 425,
    "start_time": "2022-04-03T21:17:17.067Z"
   },
   {
    "duration": 4,
    "start_time": "2022-04-03T21:17:17.494Z"
   },
   {
    "duration": 199,
    "start_time": "2022-04-03T21:17:17.500Z"
   },
   {
    "duration": 569,
    "start_time": "2022-04-03T21:17:17.701Z"
   },
   {
    "duration": 146,
    "start_time": "2022-04-03T21:17:18.272Z"
   },
   {
    "duration": 374,
    "start_time": "2022-04-03T21:17:18.419Z"
   },
   {
    "duration": 93,
    "start_time": "2022-04-03T21:17:18.795Z"
   },
   {
    "duration": 299,
    "start_time": "2022-04-03T21:17:18.890Z"
   },
   {
    "duration": 39,
    "start_time": "2022-04-03T21:17:19.192Z"
   },
   {
    "duration": 8,
    "start_time": "2022-04-03T21:17:19.232Z"
   },
   {
    "duration": 56,
    "start_time": "2022-04-03T21:17:19.242Z"
   },
   {
    "duration": 21,
    "start_time": "2022-04-03T21:17:19.300Z"
   },
   {
    "duration": 73,
    "start_time": "2022-04-03T21:17:19.323Z"
   },
   {
    "duration": 30,
    "start_time": "2022-04-03T21:17:19.397Z"
   },
   {
    "duration": 30,
    "start_time": "2022-04-03T21:17:19.428Z"
   },
   {
    "duration": 46,
    "start_time": "2022-04-03T21:17:19.459Z"
   },
   {
    "duration": 185,
    "start_time": "2022-04-03T21:17:19.506Z"
   },
   {
    "duration": 34,
    "start_time": "2022-04-03T21:17:19.693Z"
   },
   {
    "duration": 343,
    "start_time": "2022-04-03T21:17:19.728Z"
   },
   {
    "duration": 354,
    "start_time": "2022-04-03T21:17:20.073Z"
   },
   {
    "duration": 338,
    "start_time": "2022-04-03T21:17:20.428Z"
   },
   {
    "duration": 31,
    "start_time": "2022-04-03T21:17:20.767Z"
   },
   {
    "duration": 294,
    "start_time": "2022-04-03T21:17:20.799Z"
   },
   {
    "duration": 9,
    "start_time": "2022-04-03T21:17:21.095Z"
   },
   {
    "duration": 13,
    "start_time": "2022-04-03T21:17:21.105Z"
   },
   {
    "duration": 16,
    "start_time": "2022-04-03T21:17:21.120Z"
   },
   {
    "duration": 8,
    "start_time": "2022-04-03T21:17:21.139Z"
   },
   {
    "duration": 1138,
    "start_time": "2022-04-03T21:19:14.828Z"
   },
   {
    "duration": 434,
    "start_time": "2022-04-03T21:19:15.968Z"
   },
   {
    "duration": 4,
    "start_time": "2022-04-03T21:19:16.404Z"
   },
   {
    "duration": 176,
    "start_time": "2022-04-03T21:19:16.411Z"
   },
   {
    "duration": 545,
    "start_time": "2022-04-03T21:19:16.589Z"
   },
   {
    "duration": 136,
    "start_time": "2022-04-03T21:19:17.135Z"
   },
   {
    "duration": 386,
    "start_time": "2022-04-03T21:19:17.272Z"
   },
   {
    "duration": 103,
    "start_time": "2022-04-03T21:19:17.660Z"
   },
   {
    "duration": 298,
    "start_time": "2022-04-03T21:19:17.765Z"
   },
   {
    "duration": 50,
    "start_time": "2022-04-03T21:19:18.066Z"
   },
   {
    "duration": 9,
    "start_time": "2022-04-03T21:19:18.117Z"
   },
   {
    "duration": 56,
    "start_time": "2022-04-03T21:19:18.127Z"
   },
   {
    "duration": 18,
    "start_time": "2022-04-03T21:19:18.184Z"
   },
   {
    "duration": 49,
    "start_time": "2022-04-03T21:19:18.204Z"
   },
   {
    "duration": 57,
    "start_time": "2022-04-03T21:19:18.255Z"
   },
   {
    "duration": 29,
    "start_time": "2022-04-03T21:19:18.314Z"
   },
   {
    "duration": 53,
    "start_time": "2022-04-03T21:19:18.345Z"
   },
   {
    "duration": 216,
    "start_time": "2022-04-03T21:19:18.400Z"
   },
   {
    "duration": 26,
    "start_time": "2022-04-03T21:19:18.617Z"
   },
   {
    "duration": 347,
    "start_time": "2022-04-03T21:19:18.644Z"
   },
   {
    "duration": 353,
    "start_time": "2022-04-03T21:19:18.993Z"
   },
   {
    "duration": 327,
    "start_time": "2022-04-03T21:19:19.348Z"
   },
   {
    "duration": 28,
    "start_time": "2022-04-03T21:19:19.676Z"
   },
   {
    "duration": 279,
    "start_time": "2022-04-03T21:19:19.706Z"
   },
   {
    "duration": 11,
    "start_time": "2022-04-03T21:19:19.987Z"
   },
   {
    "duration": 7,
    "start_time": "2022-04-03T21:19:19.999Z"
   },
   {
    "duration": 15,
    "start_time": "2022-04-03T21:19:20.007Z"
   },
   {
    "duration": 9,
    "start_time": "2022-04-03T21:19:20.025Z"
   },
   {
    "duration": 58,
    "start_time": "2022-04-05T19:56:16.362Z"
   },
   {
    "duration": 1368,
    "start_time": "2022-04-05T19:56:22.477Z"
   },
   {
    "duration": 408,
    "start_time": "2022-04-05T19:56:23.848Z"
   },
   {
    "duration": 4,
    "start_time": "2022-04-05T19:56:24.257Z"
   },
   {
    "duration": 214,
    "start_time": "2022-04-05T19:56:24.263Z"
   },
   {
    "duration": 605,
    "start_time": "2022-04-05T19:56:24.480Z"
   },
   {
    "duration": 148,
    "start_time": "2022-04-05T19:56:25.087Z"
   },
   {
    "duration": 407,
    "start_time": "2022-04-05T19:56:25.237Z"
   },
   {
    "duration": 108,
    "start_time": "2022-04-05T19:56:25.645Z"
   },
   {
    "duration": 326,
    "start_time": "2022-04-05T19:56:25.769Z"
   },
   {
    "duration": 38,
    "start_time": "2022-04-05T19:56:26.096Z"
   },
   {
    "duration": 27,
    "start_time": "2022-04-05T19:56:26.136Z"
   },
   {
    "duration": 40,
    "start_time": "2022-04-05T19:56:26.166Z"
   },
   {
    "duration": 19,
    "start_time": "2022-04-05T19:56:26.208Z"
   },
   {
    "duration": 87,
    "start_time": "2022-04-05T19:56:26.230Z"
   },
   {
    "duration": 61,
    "start_time": "2022-04-05T19:56:26.319Z"
   },
   {
    "duration": 31,
    "start_time": "2022-04-05T19:56:26.382Z"
   },
   {
    "duration": 31,
    "start_time": "2022-04-05T19:56:26.414Z"
   },
   {
    "duration": 207,
    "start_time": "2022-04-05T19:56:26.470Z"
   },
   {
    "duration": 27,
    "start_time": "2022-04-05T19:56:26.680Z"
   },
   {
    "duration": 415,
    "start_time": "2022-04-05T19:56:26.709Z"
   },
   {
    "duration": 398,
    "start_time": "2022-04-05T19:56:27.126Z"
   },
   {
    "duration": 375,
    "start_time": "2022-04-05T19:56:27.525Z"
   },
   {
    "duration": 24,
    "start_time": "2022-04-05T19:56:27.902Z"
   },
   {
    "duration": 308,
    "start_time": "2022-04-05T19:56:27.928Z"
   },
   {
    "duration": 9,
    "start_time": "2022-04-05T19:56:28.238Z"
   },
   {
    "duration": 38,
    "start_time": "2022-04-05T19:56:28.249Z"
   },
   {
    "duration": 10,
    "start_time": "2022-04-05T19:56:28.289Z"
   },
   {
    "duration": 7,
    "start_time": "2022-04-05T19:56:28.301Z"
   },
   {
    "duration": 240,
    "start_time": "2022-04-05T20:57:43.942Z"
   },
   {
    "duration": 99,
    "start_time": "2022-04-05T20:59:24.288Z"
   },
   {
    "duration": 1453,
    "start_time": "2022-04-07T15:44:16.685Z"
   },
   {
    "duration": 411,
    "start_time": "2022-04-07T15:44:18.140Z"
   },
   {
    "duration": 3,
    "start_time": "2022-04-07T15:44:18.553Z"
   },
   {
    "duration": 210,
    "start_time": "2022-04-07T15:44:18.558Z"
   },
   {
    "duration": 654,
    "start_time": "2022-04-07T15:44:18.770Z"
   },
   {
    "duration": 176,
    "start_time": "2022-04-07T15:44:19.425Z"
   },
   {
    "duration": 419,
    "start_time": "2022-04-07T15:44:19.603Z"
   },
   {
    "duration": 121,
    "start_time": "2022-04-07T15:44:20.024Z"
   },
   {
    "duration": 327,
    "start_time": "2022-04-07T15:44:20.147Z"
   },
   {
    "duration": 66,
    "start_time": "2022-04-07T15:44:20.477Z"
   },
   {
    "duration": 10,
    "start_time": "2022-04-07T15:44:20.546Z"
   },
   {
    "duration": 70,
    "start_time": "2022-04-07T15:44:20.558Z"
   },
   {
    "duration": 19,
    "start_time": "2022-04-07T15:44:20.630Z"
   },
   {
    "duration": 73,
    "start_time": "2022-04-07T15:44:20.650Z"
   },
   {
    "duration": 35,
    "start_time": "2022-04-07T15:44:20.726Z"
   },
   {
    "duration": 54,
    "start_time": "2022-04-07T15:44:20.763Z"
   },
   {
    "duration": 35,
    "start_time": "2022-04-07T15:44:20.819Z"
   },
   {
    "duration": 221,
    "start_time": "2022-04-07T15:44:20.856Z"
   },
   {
    "duration": 41,
    "start_time": "2022-04-07T15:44:21.079Z"
   },
   {
    "duration": 425,
    "start_time": "2022-04-07T15:44:21.122Z"
   },
   {
    "duration": 440,
    "start_time": "2022-04-07T15:44:21.549Z"
   },
   {
    "duration": 421,
    "start_time": "2022-04-07T15:44:21.991Z"
   },
   {
    "duration": 27,
    "start_time": "2022-04-07T15:44:22.414Z"
   },
   {
    "duration": 351,
    "start_time": "2022-04-07T15:44:22.443Z"
   },
   {
    "duration": 18,
    "start_time": "2022-04-07T15:44:22.796Z"
   },
   {
    "duration": 35,
    "start_time": "2022-04-07T15:44:22.817Z"
   },
   {
    "duration": 28,
    "start_time": "2022-04-07T15:44:22.854Z"
   },
   {
    "duration": 19,
    "start_time": "2022-04-07T15:44:22.886Z"
   },
   {
    "duration": 74,
    "start_time": "2022-04-07T16:07:53.976Z"
   },
   {
    "duration": 352,
    "start_time": "2022-04-07T16:09:51.936Z"
   },
   {
    "duration": 67,
    "start_time": "2022-04-07T16:10:32.440Z"
   },
   {
    "duration": 177,
    "start_time": "2022-04-07T16:10:38.595Z"
   },
   {
    "duration": 170,
    "start_time": "2022-04-07T16:26:42.959Z"
   },
   {
    "duration": 1161,
    "start_time": "2022-04-07T16:28:55.926Z"
   },
   {
    "duration": 103,
    "start_time": "2022-04-07T16:34:00.370Z"
   },
   {
    "duration": 170,
    "start_time": "2022-04-07T16:35:32.673Z"
   },
   {
    "duration": 3,
    "start_time": "2022-04-07T16:35:39.944Z"
   },
   {
    "duration": 389,
    "start_time": "2022-04-07T16:35:39.949Z"
   },
   {
    "duration": 4,
    "start_time": "2022-04-07T16:35:40.340Z"
   },
   {
    "duration": 157,
    "start_time": "2022-04-07T16:35:40.346Z"
   },
   {
    "duration": 554,
    "start_time": "2022-04-07T16:35:40.505Z"
   },
   {
    "duration": 137,
    "start_time": "2022-04-07T16:35:41.061Z"
   },
   {
    "duration": 370,
    "start_time": "2022-04-07T16:35:41.200Z"
   },
   {
    "duration": 94,
    "start_time": "2022-04-07T16:35:41.572Z"
   },
   {
    "duration": 301,
    "start_time": "2022-04-07T16:35:41.668Z"
   },
   {
    "duration": 52,
    "start_time": "2022-04-07T16:35:41.971Z"
   },
   {
    "duration": 9,
    "start_time": "2022-04-07T16:35:42.025Z"
   },
   {
    "duration": 36,
    "start_time": "2022-04-07T16:35:42.036Z"
   },
   {
    "duration": 51,
    "start_time": "2022-04-07T16:35:42.073Z"
   },
   {
    "duration": 43,
    "start_time": "2022-04-07T16:35:42.125Z"
   },
   {
    "duration": 51,
    "start_time": "2022-04-07T16:35:42.170Z"
   },
   {
    "duration": 27,
    "start_time": "2022-04-07T16:35:42.222Z"
   },
   {
    "duration": 28,
    "start_time": "2022-04-07T16:35:42.251Z"
   },
   {
    "duration": 205,
    "start_time": "2022-04-07T16:35:42.281Z"
   },
   {
    "duration": 35,
    "start_time": "2022-04-07T16:35:42.488Z"
   },
   {
    "duration": 186,
    "start_time": "2022-04-07T16:35:42.525Z"
   },
   {
    "duration": 0,
    "start_time": "2022-04-07T16:35:42.712Z"
   },
   {
    "duration": 0,
    "start_time": "2022-04-07T16:35:42.713Z"
   },
   {
    "duration": 0,
    "start_time": "2022-04-07T16:35:42.714Z"
   },
   {
    "duration": 0,
    "start_time": "2022-04-07T16:35:42.716Z"
   },
   {
    "duration": 0,
    "start_time": "2022-04-07T16:35:42.716Z"
   },
   {
    "duration": 0,
    "start_time": "2022-04-07T16:35:42.718Z"
   },
   {
    "duration": 0,
    "start_time": "2022-04-07T16:35:42.719Z"
   },
   {
    "duration": 0,
    "start_time": "2022-04-07T16:35:42.720Z"
   },
   {
    "duration": 174,
    "start_time": "2022-04-07T16:37:23.282Z"
   },
   {
    "duration": 68,
    "start_time": "2022-04-07T16:37:34.065Z"
   },
   {
    "duration": 178,
    "start_time": "2022-04-07T16:38:12.988Z"
   },
   {
    "duration": 1571,
    "start_time": "2022-04-07T18:40:55.030Z"
   },
   {
    "duration": 397,
    "start_time": "2022-04-07T18:40:56.603Z"
   },
   {
    "duration": 4,
    "start_time": "2022-04-07T18:40:57.002Z"
   },
   {
    "duration": 215,
    "start_time": "2022-04-07T18:40:57.010Z"
   },
   {
    "duration": 621,
    "start_time": "2022-04-07T18:40:57.227Z"
   },
   {
    "duration": 181,
    "start_time": "2022-04-07T18:40:57.851Z"
   },
   {
    "duration": 420,
    "start_time": "2022-04-07T18:40:58.034Z"
   },
   {
    "duration": 120,
    "start_time": "2022-04-07T18:40:58.456Z"
   },
   {
    "duration": 333,
    "start_time": "2022-04-07T18:40:58.578Z"
   },
   {
    "duration": 46,
    "start_time": "2022-04-07T18:40:58.914Z"
   },
   {
    "duration": 39,
    "start_time": "2022-04-07T18:40:58.962Z"
   },
   {
    "duration": 35,
    "start_time": "2022-04-07T18:40:59.003Z"
   },
   {
    "duration": 21,
    "start_time": "2022-04-07T18:40:59.040Z"
   },
   {
    "duration": 84,
    "start_time": "2022-04-07T18:40:59.063Z"
   },
   {
    "duration": 35,
    "start_time": "2022-04-07T18:40:59.148Z"
   },
   {
    "duration": 47,
    "start_time": "2022-04-07T18:40:59.185Z"
   },
   {
    "duration": 34,
    "start_time": "2022-04-07T18:40:59.234Z"
   },
   {
    "duration": 232,
    "start_time": "2022-04-07T18:40:59.270Z"
   },
   {
    "duration": 31,
    "start_time": "2022-04-07T18:40:59.505Z"
   },
   {
    "duration": 305,
    "start_time": "2022-04-07T18:40:59.538Z"
   },
   {
    "duration": 0,
    "start_time": "2022-04-07T18:40:59.845Z"
   },
   {
    "duration": 0,
    "start_time": "2022-04-07T18:40:59.847Z"
   },
   {
    "duration": 0,
    "start_time": "2022-04-07T18:40:59.849Z"
   },
   {
    "duration": 0,
    "start_time": "2022-04-07T18:40:59.851Z"
   },
   {
    "duration": 0,
    "start_time": "2022-04-07T18:40:59.852Z"
   },
   {
    "duration": 0,
    "start_time": "2022-04-07T18:40:59.854Z"
   },
   {
    "duration": 0,
    "start_time": "2022-04-07T18:40:59.856Z"
   },
   {
    "duration": 0,
    "start_time": "2022-04-07T18:40:59.857Z"
   },
   {
    "duration": 341,
    "start_time": "2022-04-07T18:58:19.940Z"
   },
   {
    "duration": 320,
    "start_time": "2022-04-07T19:00:22.470Z"
   },
   {
    "duration": 4,
    "start_time": "2022-04-07T19:24:08.964Z"
   },
   {
    "duration": 32,
    "start_time": "2022-04-07T19:24:55.175Z"
   },
   {
    "duration": 417,
    "start_time": "2022-04-07T19:26:49.398Z"
   },
   {
    "duration": 3,
    "start_time": "2022-04-07T19:26:53.108Z"
   },
   {
    "duration": 420,
    "start_time": "2022-04-07T19:26:53.113Z"
   },
   {
    "duration": 4,
    "start_time": "2022-04-07T19:26:53.535Z"
   },
   {
    "duration": 174,
    "start_time": "2022-04-07T19:26:53.541Z"
   },
   {
    "duration": 579,
    "start_time": "2022-04-07T19:26:53.717Z"
   },
   {
    "duration": 127,
    "start_time": "2022-04-07T19:26:54.300Z"
   },
   {
    "duration": 36,
    "start_time": "2022-04-07T19:26:54.429Z"
   },
   {
    "duration": 0,
    "start_time": "2022-04-07T19:26:54.468Z"
   },
   {
    "duration": 0,
    "start_time": "2022-04-07T19:26:54.470Z"
   },
   {
    "duration": 0,
    "start_time": "2022-04-07T19:26:54.471Z"
   },
   {
    "duration": 0,
    "start_time": "2022-04-07T19:26:54.472Z"
   },
   {
    "duration": 0,
    "start_time": "2022-04-07T19:26:54.473Z"
   },
   {
    "duration": 0,
    "start_time": "2022-04-07T19:26:54.502Z"
   },
   {
    "duration": 0,
    "start_time": "2022-04-07T19:26:54.503Z"
   },
   {
    "duration": 0,
    "start_time": "2022-04-07T19:26:54.504Z"
   },
   {
    "duration": 0,
    "start_time": "2022-04-07T19:26:54.505Z"
   },
   {
    "duration": 0,
    "start_time": "2022-04-07T19:26:54.507Z"
   },
   {
    "duration": 0,
    "start_time": "2022-04-07T19:26:54.508Z"
   },
   {
    "duration": 0,
    "start_time": "2022-04-07T19:26:54.509Z"
   },
   {
    "duration": 0,
    "start_time": "2022-04-07T19:26:54.510Z"
   },
   {
    "duration": 0,
    "start_time": "2022-04-07T19:26:54.511Z"
   },
   {
    "duration": 0,
    "start_time": "2022-04-07T19:26:54.513Z"
   },
   {
    "duration": 0,
    "start_time": "2022-04-07T19:26:54.514Z"
   },
   {
    "duration": 0,
    "start_time": "2022-04-07T19:26:54.515Z"
   },
   {
    "duration": 0,
    "start_time": "2022-04-07T19:26:54.516Z"
   },
   {
    "duration": 0,
    "start_time": "2022-04-07T19:26:54.517Z"
   },
   {
    "duration": 0,
    "start_time": "2022-04-07T19:26:54.518Z"
   },
   {
    "duration": 0,
    "start_time": "2022-04-07T19:26:54.519Z"
   },
   {
    "duration": 28,
    "start_time": "2022-04-07T19:27:35.981Z"
   },
   {
    "duration": 498,
    "start_time": "2022-04-07T19:27:51.891Z"
   },
   {
    "duration": 47,
    "start_time": "2022-04-07T19:28:00.451Z"
   },
   {
    "duration": 498,
    "start_time": "2022-04-07T19:28:03.799Z"
   },
   {
    "duration": 365,
    "start_time": "2022-04-07T19:32:14.957Z"
   },
   {
    "duration": 4,
    "start_time": "2022-04-07T19:32:42.537Z"
   },
   {
    "duration": 426,
    "start_time": "2022-04-07T19:32:42.543Z"
   },
   {
    "duration": 3,
    "start_time": "2022-04-07T19:32:42.972Z"
   },
   {
    "duration": 228,
    "start_time": "2022-04-07T19:32:42.977Z"
   },
   {
    "duration": 702,
    "start_time": "2022-04-07T19:32:43.208Z"
   },
   {
    "duration": 153,
    "start_time": "2022-04-07T19:32:43.911Z"
   },
   {
    "duration": 378,
    "start_time": "2022-04-07T19:32:44.066Z"
   },
   {
    "duration": 120,
    "start_time": "2022-04-07T19:32:44.446Z"
   },
   {
    "duration": 312,
    "start_time": "2022-04-07T19:32:44.569Z"
   },
   {
    "duration": 47,
    "start_time": "2022-04-07T19:32:44.882Z"
   },
   {
    "duration": 10,
    "start_time": "2022-04-07T19:32:44.931Z"
   },
   {
    "duration": 72,
    "start_time": "2022-04-07T19:32:44.943Z"
   },
   {
    "duration": 23,
    "start_time": "2022-04-07T19:32:45.017Z"
   },
   {
    "duration": 80,
    "start_time": "2022-04-07T19:32:45.042Z"
   },
   {
    "duration": 38,
    "start_time": "2022-04-07T19:32:45.124Z"
   },
   {
    "duration": 49,
    "start_time": "2022-04-07T19:32:45.164Z"
   },
   {
    "duration": 33,
    "start_time": "2022-04-07T19:32:45.215Z"
   },
   {
    "duration": 311,
    "start_time": "2022-04-07T19:32:45.249Z"
   },
   {
    "duration": 40,
    "start_time": "2022-04-07T19:32:45.562Z"
   },
   {
    "duration": 330,
    "start_time": "2022-04-07T19:32:45.604Z"
   },
   {
    "duration": 392,
    "start_time": "2022-04-07T19:32:45.936Z"
   },
   {
    "duration": 481,
    "start_time": "2022-04-07T19:32:46.330Z"
   },
   {
    "duration": 27,
    "start_time": "2022-04-07T19:32:46.813Z"
   },
   {
    "duration": 313,
    "start_time": "2022-04-07T19:32:46.844Z"
   },
   {
    "duration": 10,
    "start_time": "2022-04-07T19:32:47.159Z"
   },
   {
    "duration": 30,
    "start_time": "2022-04-07T19:32:47.171Z"
   },
   {
    "duration": 13,
    "start_time": "2022-04-07T19:32:47.203Z"
   },
   {
    "duration": 10,
    "start_time": "2022-04-07T19:32:47.217Z"
   },
   {
    "duration": 421,
    "start_time": "2022-04-07T19:34:32.453Z"
   },
   {
    "duration": 4,
    "start_time": "2022-04-07T19:34:36.155Z"
   },
   {
    "duration": 429,
    "start_time": "2022-04-07T19:34:36.161Z"
   },
   {
    "duration": 4,
    "start_time": "2022-04-07T19:34:36.592Z"
   },
   {
    "duration": 189,
    "start_time": "2022-04-07T19:34:36.598Z"
   },
   {
    "duration": 608,
    "start_time": "2022-04-07T19:34:36.789Z"
   },
   {
    "duration": 134,
    "start_time": "2022-04-07T19:34:37.398Z"
   },
   {
    "duration": 408,
    "start_time": "2022-04-07T19:34:37.534Z"
   },
   {
    "duration": 115,
    "start_time": "2022-04-07T19:34:37.944Z"
   },
   {
    "duration": 332,
    "start_time": "2022-04-07T19:34:38.062Z"
   },
   {
    "duration": 44,
    "start_time": "2022-04-07T19:34:38.397Z"
   },
   {
    "duration": 11,
    "start_time": "2022-04-07T19:34:38.443Z"
   },
   {
    "duration": 72,
    "start_time": "2022-04-07T19:34:38.457Z"
   },
   {
    "duration": 22,
    "start_time": "2022-04-07T19:34:38.531Z"
   },
   {
    "duration": 77,
    "start_time": "2022-04-07T19:34:38.556Z"
   },
   {
    "duration": 37,
    "start_time": "2022-04-07T19:34:38.635Z"
   },
   {
    "duration": 55,
    "start_time": "2022-04-07T19:34:38.674Z"
   },
   {
    "duration": 35,
    "start_time": "2022-04-07T19:34:38.731Z"
   },
   {
    "duration": 241,
    "start_time": "2022-04-07T19:34:38.768Z"
   },
   {
    "duration": 32,
    "start_time": "2022-04-07T19:34:39.012Z"
   },
   {
    "duration": 452,
    "start_time": "2022-04-07T19:34:39.046Z"
   },
   {
    "duration": 400,
    "start_time": "2022-04-07T19:34:39.501Z"
   },
   {
    "duration": 402,
    "start_time": "2022-04-07T19:34:39.902Z"
   },
   {
    "duration": 27,
    "start_time": "2022-04-07T19:34:40.306Z"
   },
   {
    "duration": 346,
    "start_time": "2022-04-07T19:34:40.337Z"
   },
   {
    "duration": 18,
    "start_time": "2022-04-07T19:34:40.685Z"
   },
   {
    "duration": 10,
    "start_time": "2022-04-07T19:34:40.705Z"
   },
   {
    "duration": 10,
    "start_time": "2022-04-07T19:34:40.717Z"
   },
   {
    "duration": 8,
    "start_time": "2022-04-07T19:34:40.729Z"
   },
   {
    "duration": 364,
    "start_time": "2022-04-07T19:35:20.014Z"
   },
   {
    "duration": 57,
    "start_time": "2022-04-07T19:48:15.146Z"
   },
   {
    "duration": 267,
    "start_time": "2022-04-07T19:48:36.672Z"
   },
   {
    "duration": 446,
    "start_time": "2022-04-07T19:49:25.168Z"
   },
   {
    "duration": 346,
    "start_time": "2022-04-07T19:50:13.057Z"
   },
   {
    "duration": 333,
    "start_time": "2022-04-07T19:50:44.744Z"
   },
   {
    "duration": 323,
    "start_time": "2022-04-07T19:51:10.065Z"
   },
   {
    "duration": 356,
    "start_time": "2022-04-07T19:51:30.177Z"
   },
   {
    "duration": 312,
    "start_time": "2022-04-07T19:51:38.740Z"
   },
   {
    "duration": 400,
    "start_time": "2022-04-07T19:51:45.690Z"
   },
   {
    "duration": 307,
    "start_time": "2022-04-07T19:51:50.691Z"
   },
   {
    "duration": 131,
    "start_time": "2022-04-07T20:49:38.929Z"
   },
   {
    "duration": 316,
    "start_time": "2022-04-07T20:50:08.701Z"
   },
   {
    "duration": 336,
    "start_time": "2022-04-07T20:50:55.088Z"
   },
   {
    "duration": 1179,
    "start_time": "2022-04-08T14:29:58.188Z"
   },
   {
    "duration": 389,
    "start_time": "2022-04-08T14:29:59.369Z"
   },
   {
    "duration": 4,
    "start_time": "2022-04-08T14:29:59.759Z"
   },
   {
    "duration": 191,
    "start_time": "2022-04-08T14:29:59.765Z"
   },
   {
    "duration": 576,
    "start_time": "2022-04-08T14:29:59.957Z"
   },
   {
    "duration": 129,
    "start_time": "2022-04-08T14:30:00.535Z"
   },
   {
    "duration": 407,
    "start_time": "2022-04-08T14:30:00.665Z"
   },
   {
    "duration": 106,
    "start_time": "2022-04-08T14:30:01.074Z"
   },
   {
    "duration": 325,
    "start_time": "2022-04-08T14:30:01.181Z"
   },
   {
    "duration": 43,
    "start_time": "2022-04-08T14:30:01.509Z"
   },
   {
    "duration": 10,
    "start_time": "2022-04-08T14:30:01.553Z"
   },
   {
    "duration": 72,
    "start_time": "2022-04-08T14:30:01.565Z"
   },
   {
    "duration": 20,
    "start_time": "2022-04-08T14:30:01.638Z"
   },
   {
    "duration": 83,
    "start_time": "2022-04-08T14:30:01.660Z"
   },
   {
    "duration": 69,
    "start_time": "2022-04-08T14:30:01.745Z"
   },
   {
    "duration": 99,
    "start_time": "2022-04-08T14:30:01.816Z"
   },
   {
    "duration": 31,
    "start_time": "2022-04-08T14:30:01.917Z"
   },
   {
    "duration": 387,
    "start_time": "2022-04-08T14:30:01.950Z"
   },
   {
    "duration": 87,
    "start_time": "2022-04-08T14:30:02.339Z"
   },
   {
    "duration": 715,
    "start_time": "2022-04-08T14:30:02.428Z"
   },
   {
    "duration": 476,
    "start_time": "2022-04-08T14:30:03.145Z"
   },
   {
    "duration": 353,
    "start_time": "2022-04-08T14:30:03.623Z"
   },
   {
    "duration": 32,
    "start_time": "2022-04-08T14:30:03.978Z"
   },
   {
    "duration": 335,
    "start_time": "2022-04-08T14:30:04.011Z"
   },
   {
    "duration": 10,
    "start_time": "2022-04-08T14:30:04.349Z"
   },
   {
    "duration": 13,
    "start_time": "2022-04-08T14:30:04.361Z"
   },
   {
    "duration": 13,
    "start_time": "2022-04-08T14:30:04.375Z"
   },
   {
    "duration": 8,
    "start_time": "2022-04-08T14:30:04.409Z"
   },
   {
    "duration": 21,
    "start_time": "2022-04-08T14:31:11.126Z"
   },
   {
    "duration": 322,
    "start_time": "2022-04-08T14:34:53.900Z"
   },
   {
    "duration": 258,
    "start_time": "2022-04-08T14:35:05.364Z"
   },
   {
    "duration": 250,
    "start_time": "2022-04-08T14:35:11.338Z"
   },
   {
    "duration": 1205,
    "start_time": "2022-04-08T14:39:18.900Z"
   },
   {
    "duration": 403,
    "start_time": "2022-04-08T14:39:20.108Z"
   },
   {
    "duration": 4,
    "start_time": "2022-04-08T14:39:20.514Z"
   },
   {
    "duration": 226,
    "start_time": "2022-04-08T14:39:20.520Z"
   },
   {
    "duration": 606,
    "start_time": "2022-04-08T14:39:20.748Z"
   },
   {
    "duration": 124,
    "start_time": "2022-04-08T14:39:21.356Z"
   },
   {
    "duration": 400,
    "start_time": "2022-04-08T14:39:21.482Z"
   },
   {
    "duration": 109,
    "start_time": "2022-04-08T14:39:21.883Z"
   },
   {
    "duration": 386,
    "start_time": "2022-04-08T14:39:21.993Z"
   },
   {
    "duration": 60,
    "start_time": "2022-04-08T14:39:22.382Z"
   },
   {
    "duration": 13,
    "start_time": "2022-04-08T14:39:22.444Z"
   },
   {
    "duration": 72,
    "start_time": "2022-04-08T14:39:22.459Z"
   },
   {
    "duration": 25,
    "start_time": "2022-04-08T14:39:22.533Z"
   },
   {
    "duration": 77,
    "start_time": "2022-04-08T14:39:22.559Z"
   },
   {
    "duration": 34,
    "start_time": "2022-04-08T14:39:22.637Z"
   },
   {
    "duration": 60,
    "start_time": "2022-04-08T14:39:22.673Z"
   },
   {
    "duration": 34,
    "start_time": "2022-04-08T14:39:22.735Z"
   },
   {
    "duration": 218,
    "start_time": "2022-04-08T14:39:22.770Z"
   },
   {
    "duration": 35,
    "start_time": "2022-04-08T14:39:22.989Z"
   },
   {
    "duration": 359,
    "start_time": "2022-04-08T14:39:23.028Z"
   },
   {
    "duration": 358,
    "start_time": "2022-04-08T14:39:23.389Z"
   },
   {
    "duration": 349,
    "start_time": "2022-04-08T14:39:23.749Z"
   },
   {
    "duration": 35,
    "start_time": "2022-04-08T14:39:24.100Z"
   },
   {
    "duration": 322,
    "start_time": "2022-04-08T14:39:24.136Z"
   },
   {
    "duration": 9,
    "start_time": "2022-04-08T14:39:24.459Z"
   },
   {
    "duration": 6,
    "start_time": "2022-04-08T14:39:24.470Z"
   },
   {
    "duration": 9,
    "start_time": "2022-04-08T14:39:24.478Z"
   },
   {
    "duration": 9,
    "start_time": "2022-04-08T14:39:24.510Z"
   },
   {
    "duration": 1132,
    "start_time": "2022-04-08T14:42:29.334Z"
   },
   {
    "duration": 390,
    "start_time": "2022-04-08T14:42:30.468Z"
   },
   {
    "duration": 3,
    "start_time": "2022-04-08T14:42:30.860Z"
   },
   {
    "duration": 210,
    "start_time": "2022-04-08T14:42:30.865Z"
   },
   {
    "duration": 594,
    "start_time": "2022-04-08T14:42:31.077Z"
   },
   {
    "duration": 127,
    "start_time": "2022-04-08T14:42:31.673Z"
   },
   {
    "duration": 399,
    "start_time": "2022-04-08T14:42:31.802Z"
   },
   {
    "duration": 118,
    "start_time": "2022-04-08T14:42:32.203Z"
   },
   {
    "duration": 371,
    "start_time": "2022-04-08T14:42:32.323Z"
   },
   {
    "duration": 68,
    "start_time": "2022-04-08T14:42:32.698Z"
   },
   {
    "duration": 10,
    "start_time": "2022-04-08T14:42:32.768Z"
   },
   {
    "duration": 80,
    "start_time": "2022-04-08T14:42:32.779Z"
   },
   {
    "duration": 32,
    "start_time": "2022-04-08T14:42:32.861Z"
   },
   {
    "duration": 78,
    "start_time": "2022-04-08T14:42:32.895Z"
   },
   {
    "duration": 38,
    "start_time": "2022-04-08T14:42:32.975Z"
   },
   {
    "duration": 41,
    "start_time": "2022-04-08T14:42:33.015Z"
   },
   {
    "duration": 43,
    "start_time": "2022-04-08T14:42:33.058Z"
   },
   {
    "duration": 218,
    "start_time": "2022-04-08T14:42:33.103Z"
   },
   {
    "duration": 29,
    "start_time": "2022-04-08T14:42:33.323Z"
   },
   {
    "duration": 384,
    "start_time": "2022-04-08T14:42:33.354Z"
   },
   {
    "duration": 378,
    "start_time": "2022-04-08T14:42:33.740Z"
   },
   {
    "duration": 358,
    "start_time": "2022-04-08T14:42:34.120Z"
   },
   {
    "duration": 32,
    "start_time": "2022-04-08T14:42:34.480Z"
   },
   {
    "duration": 335,
    "start_time": "2022-04-08T14:42:34.514Z"
   },
   {
    "duration": 10,
    "start_time": "2022-04-08T14:42:34.851Z"
   },
   {
    "duration": 24,
    "start_time": "2022-04-08T14:42:34.863Z"
   },
   {
    "duration": 23,
    "start_time": "2022-04-08T14:42:34.889Z"
   },
   {
    "duration": 17,
    "start_time": "2022-04-08T14:42:34.916Z"
   },
   {
    "duration": 1367,
    "start_time": "2022-12-15T10:48:01.340Z"
   },
   {
    "duration": 1220,
    "start_time": "2022-12-15T10:48:02.710Z"
   },
   {
    "duration": 3,
    "start_time": "2022-12-15T10:48:03.932Z"
   },
   {
    "duration": 184,
    "start_time": "2022-12-15T10:48:03.937Z"
   },
   {
    "duration": 541,
    "start_time": "2022-12-15T10:48:04.122Z"
   },
   {
    "duration": 117,
    "start_time": "2022-12-15T10:48:04.665Z"
   },
   {
    "duration": 369,
    "start_time": "2022-12-15T10:48:04.783Z"
   },
   {
    "duration": 95,
    "start_time": "2022-12-15T10:48:05.154Z"
   },
   {
    "duration": 340,
    "start_time": "2022-12-15T10:48:05.251Z"
   },
   {
    "duration": 61,
    "start_time": "2022-12-15T10:48:05.594Z"
   },
   {
    "duration": 12,
    "start_time": "2022-12-15T10:48:05.657Z"
   },
   {
    "duration": 63,
    "start_time": "2022-12-15T10:48:05.671Z"
   },
   {
    "duration": 17,
    "start_time": "2022-12-15T10:48:05.736Z"
   },
   {
    "duration": 69,
    "start_time": "2022-12-15T10:48:05.754Z"
   },
   {
    "duration": 31,
    "start_time": "2022-12-15T10:48:05.825Z"
   },
   {
    "duration": 43,
    "start_time": "2022-12-15T10:48:05.858Z"
   },
   {
    "duration": 36,
    "start_time": "2022-12-15T10:48:05.902Z"
   },
   {
    "duration": 181,
    "start_time": "2022-12-15T10:48:05.940Z"
   },
   {
    "duration": 30,
    "start_time": "2022-12-15T10:48:06.122Z"
   },
   {
    "duration": 294,
    "start_time": "2022-12-15T10:49:12.641Z"
   },
   {
    "duration": 185,
    "start_time": "2022-12-15T10:50:22.755Z"
   },
   {
    "duration": 162,
    "start_time": "2022-12-15T10:54:14.733Z"
   },
   {
    "duration": 295,
    "start_time": "2022-12-15T11:04:38.542Z"
   },
   {
    "duration": 229,
    "start_time": "2022-12-15T11:08:48.507Z"
   },
   {
    "duration": 301,
    "start_time": "2022-12-15T11:09:37.665Z"
   },
   {
    "duration": 216,
    "start_time": "2022-12-15T11:11:43.367Z"
   },
   {
    "duration": 246,
    "start_time": "2022-12-15T11:13:31.865Z"
   },
   {
    "duration": 283,
    "start_time": "2022-12-15T11:14:12.669Z"
   },
   {
    "duration": 216,
    "start_time": "2022-12-15T11:14:29.160Z"
   },
   {
    "duration": 303,
    "start_time": "2022-12-15T11:15:09.560Z"
   },
   {
    "duration": 1403,
    "start_time": "2022-12-15T11:20:48.313Z"
   },
   {
    "duration": 286,
    "start_time": "2022-12-15T11:20:59.702Z"
   },
   {
    "duration": 272,
    "start_time": "2022-12-15T11:21:14.844Z"
   },
   {
    "duration": 3,
    "start_time": "2022-12-15T11:22:57.339Z"
   },
   {
    "duration": 395,
    "start_time": "2022-12-15T11:22:57.344Z"
   },
   {
    "duration": 2,
    "start_time": "2022-12-15T11:22:57.741Z"
   },
   {
    "duration": 156,
    "start_time": "2022-12-15T11:22:57.745Z"
   },
   {
    "duration": 528,
    "start_time": "2022-12-15T11:22:57.902Z"
   },
   {
    "duration": 98,
    "start_time": "2022-12-15T11:22:58.431Z"
   },
   {
    "duration": 345,
    "start_time": "2022-12-15T11:22:58.531Z"
   },
   {
    "duration": 87,
    "start_time": "2022-12-15T11:22:58.878Z"
   },
   {
    "duration": 294,
    "start_time": "2022-12-15T11:22:58.967Z"
   },
   {
    "duration": 40,
    "start_time": "2022-12-15T11:22:59.264Z"
   },
   {
    "duration": 22,
    "start_time": "2022-12-15T11:22:59.306Z"
   },
   {
    "duration": 40,
    "start_time": "2022-12-15T11:22:59.330Z"
   },
   {
    "duration": 16,
    "start_time": "2022-12-15T11:22:59.372Z"
   },
   {
    "duration": 59,
    "start_time": "2022-12-15T11:22:59.390Z"
   },
   {
    "duration": 28,
    "start_time": "2022-12-15T11:22:59.451Z"
   },
   {
    "duration": 28,
    "start_time": "2022-12-15T11:22:59.480Z"
   },
   {
    "duration": 41,
    "start_time": "2022-12-15T11:22:59.509Z"
   },
   {
    "duration": 192,
    "start_time": "2022-12-15T11:22:59.551Z"
   },
   {
    "duration": 36,
    "start_time": "2022-12-15T11:22:59.745Z"
   },
   {
    "duration": 253,
    "start_time": "2022-12-15T11:22:59.782Z"
   },
   {
    "duration": 244,
    "start_time": "2022-12-15T11:23:00.037Z"
   },
   {
    "duration": 234,
    "start_time": "2022-12-15T11:23:00.282Z"
   },
   {
    "duration": 27,
    "start_time": "2022-12-15T11:23:00.518Z"
   },
   {
    "duration": 370,
    "start_time": "2022-12-15T11:23:00.547Z"
   },
   {
    "duration": 13,
    "start_time": "2022-12-15T11:23:00.919Z"
   },
   {
    "duration": 16,
    "start_time": "2022-12-15T11:23:00.934Z"
   },
   {
    "duration": 15,
    "start_time": "2022-12-15T11:23:00.952Z"
   },
   {
    "duration": 18,
    "start_time": "2022-12-15T11:23:00.970Z"
   }
  ],
  "kernelspec": {
   "display_name": "Python 3 (ipykernel)",
   "language": "python",
   "name": "python3"
  },
  "language_info": {
   "codemirror_mode": {
    "name": "ipython",
    "version": 3
   },
   "file_extension": ".py",
   "mimetype": "text/x-python",
   "name": "python",
   "nbconvert_exporter": "python",
   "pygments_lexer": "ipython3",
   "version": "3.9.5"
  },
  "toc": {
   "base_numbering": 1,
   "nav_menu": {},
   "number_sections": true,
   "sideBar": true,
   "skip_h1_title": true,
   "title_cell": "Table of Contents",
   "title_sidebar": "Contents",
   "toc_cell": false,
   "toc_position": {
    "height": "calc(100% - 180px)",
    "left": "10px",
    "top": "150px",
    "width": "165px"
   },
   "toc_section_display": true,
   "toc_window_display": true
  }
 },
 "nbformat": 4,
 "nbformat_minor": 2
}
