{
 "cells": [
  {
   "cell_type": "markdown",
   "metadata": {},
   "source": [
    "# Определение стоимости автомобилей"
   ]
  },
  {
   "cell_type": "markdown",
   "metadata": {},
   "source": [
    "Сервис по продаже автомобилей с пробегом «Не бит, не крашен» разрабатывает приложение для привлечения новых клиентов. В нём можно быстро узнать рыночную стоимость своего автомобиля. В вашем распоряжении исторические данные: технические характеристики, комплектации и цены автомобилей. Вам нужно построить модель для определения стоимости. \n",
    "\n",
    "Заказчику важны:\n",
    "\n",
    "- качество предсказания;\n",
    "- скорость предсказания;\n",
    "- время обучения."
   ]
  },
  {
   "cell_type": "markdown",
   "metadata": {},
   "source": [
    "**План исследования**\n",
    "1. Загрузим данные\n",
    "2. Изучим данные. \n",
    "3. Подготовим выборки для обучения моделей.\n",
    "4. Обучим разные модели, одна из которых — LightGBM, как минимум одна — не бустинг.\n",
    "5. Проанализируем время обучения, время предсказания и качество моделей.\n",
    "6. Выберем лучшую модель, проверим её качество на тестовой выборке."
   ]
  },
  {
   "cell_type": "markdown",
   "metadata": {},
   "source": [
    "**Описание данных**\n",
    "Признаки:    \n",
    "DateCrawled — дата скачивания анкеты из базы    \n",
    "VehicleType — тип автомобильного кузова    \n",
    "RegistrationYear — год регистрации автомобиля    \n",
    "Gearbox — тип коробки передач    \n",
    "Power — мощность (л. с.)    \n",
    "Model — модель автомобиля     \n",
    "Kilometer — пробег (км)     \n",
    "RegistrationMonth — месяц регистрации автомобиля     \n",
    "FuelType — тип топлива     \n",
    "Brand — марка автомобиля     \n",
    "NotRepaired — была машина в ремонте или нет     \n",
    "DateCreated — дата создания анкеты     \n",
    "NumberOfPictures — количество фотографий автомобиля     \n",
    "PostalCode — почтовый индекс владельца анкеты (пользователя)     \n",
    "LastSeen — дата последней активности пользователя      \n",
    "Целевой признак:      \n",
    "Price — цена (евро)    "
   ]
  },
  {
   "cell_type": "markdown",
   "metadata": {},
   "source": [
    "## Подготовка данных"
   ]
  },
  {
   "cell_type": "code",
   "execution_count": 217,
   "metadata": {},
   "outputs": [],
   "source": [
    "import pandas as pd\n",
    "import lightgbm as lgb\n",
    "import matplotlib.pyplot as plt\n",
    "import numpy as np\n",
    "import seaborn as sns\n",
    "import time\n",
    "import warnings\n",
    "\n",
    "from catboost import CatBoostRegressor\n",
    "from catboost import Pool, cv\n",
    "from lightgbm import LGBMRegressor\n",
    "from sklearn.linear_model import LinearRegression\n",
    "from sklearn.metrics import mean_squared_error\n",
    "from sklearn.metrics import r2_score\n",
    "from sklearn.model_selection import cross_val_score\n",
    "from sklearn.model_selection import GridSearchCV\n",
    "from sklearn.model_selection import KFold\n",
    "from sklearn.model_selection import train_test_split\n",
    "from sklearn.preprocessing import StandardScaler\n",
    "from sklearn.preprocessing import OrdinalEncoder\n",
    "from sklearn.tree import DecisionTreeRegressor\n"
   ]
  },
  {
   "cell_type": "code",
   "execution_count": 218,
   "metadata": {
    "scrolled": true
   },
   "outputs": [
    {
     "data": {
      "text/html": [
       "<div>\n",
       "<style scoped>\n",
       "    .dataframe tbody tr th:only-of-type {\n",
       "        vertical-align: middle;\n",
       "    }\n",
       "\n",
       "    .dataframe tbody tr th {\n",
       "        vertical-align: top;\n",
       "    }\n",
       "\n",
       "    .dataframe thead th {\n",
       "        text-align: right;\n",
       "    }\n",
       "</style>\n",
       "<table border=\"1\" class=\"dataframe\">\n",
       "  <thead>\n",
       "    <tr style=\"text-align: right;\">\n",
       "      <th></th>\n",
       "      <th>DateCrawled</th>\n",
       "      <th>Price</th>\n",
       "      <th>VehicleType</th>\n",
       "      <th>RegistrationYear</th>\n",
       "      <th>Gearbox</th>\n",
       "      <th>Power</th>\n",
       "      <th>Model</th>\n",
       "      <th>Kilometer</th>\n",
       "      <th>RegistrationMonth</th>\n",
       "      <th>FuelType</th>\n",
       "      <th>Brand</th>\n",
       "      <th>NotRepaired</th>\n",
       "      <th>DateCreated</th>\n",
       "      <th>NumberOfPictures</th>\n",
       "      <th>PostalCode</th>\n",
       "      <th>LastSeen</th>\n",
       "    </tr>\n",
       "  </thead>\n",
       "  <tbody>\n",
       "    <tr>\n",
       "      <th>0</th>\n",
       "      <td>2016-03-24 11:52:17</td>\n",
       "      <td>480</td>\n",
       "      <td>NaN</td>\n",
       "      <td>1993</td>\n",
       "      <td>manual</td>\n",
       "      <td>0</td>\n",
       "      <td>golf</td>\n",
       "      <td>150000</td>\n",
       "      <td>0</td>\n",
       "      <td>petrol</td>\n",
       "      <td>volkswagen</td>\n",
       "      <td>NaN</td>\n",
       "      <td>2016-03-24 00:00:00</td>\n",
       "      <td>0</td>\n",
       "      <td>70435</td>\n",
       "      <td>2016-04-07 03:16:57</td>\n",
       "    </tr>\n",
       "    <tr>\n",
       "      <th>1</th>\n",
       "      <td>2016-03-24 10:58:45</td>\n",
       "      <td>18300</td>\n",
       "      <td>coupe</td>\n",
       "      <td>2011</td>\n",
       "      <td>manual</td>\n",
       "      <td>190</td>\n",
       "      <td>NaN</td>\n",
       "      <td>125000</td>\n",
       "      <td>5</td>\n",
       "      <td>gasoline</td>\n",
       "      <td>audi</td>\n",
       "      <td>yes</td>\n",
       "      <td>2016-03-24 00:00:00</td>\n",
       "      <td>0</td>\n",
       "      <td>66954</td>\n",
       "      <td>2016-04-07 01:46:50</td>\n",
       "    </tr>\n",
       "    <tr>\n",
       "      <th>2</th>\n",
       "      <td>2016-03-14 12:52:21</td>\n",
       "      <td>9800</td>\n",
       "      <td>suv</td>\n",
       "      <td>2004</td>\n",
       "      <td>auto</td>\n",
       "      <td>163</td>\n",
       "      <td>grand</td>\n",
       "      <td>125000</td>\n",
       "      <td>8</td>\n",
       "      <td>gasoline</td>\n",
       "      <td>jeep</td>\n",
       "      <td>NaN</td>\n",
       "      <td>2016-03-14 00:00:00</td>\n",
       "      <td>0</td>\n",
       "      <td>90480</td>\n",
       "      <td>2016-04-05 12:47:46</td>\n",
       "    </tr>\n",
       "    <tr>\n",
       "      <th>3</th>\n",
       "      <td>2016-03-17 16:54:04</td>\n",
       "      <td>1500</td>\n",
       "      <td>small</td>\n",
       "      <td>2001</td>\n",
       "      <td>manual</td>\n",
       "      <td>75</td>\n",
       "      <td>golf</td>\n",
       "      <td>150000</td>\n",
       "      <td>6</td>\n",
       "      <td>petrol</td>\n",
       "      <td>volkswagen</td>\n",
       "      <td>no</td>\n",
       "      <td>2016-03-17 00:00:00</td>\n",
       "      <td>0</td>\n",
       "      <td>91074</td>\n",
       "      <td>2016-03-17 17:40:17</td>\n",
       "    </tr>\n",
       "    <tr>\n",
       "      <th>4</th>\n",
       "      <td>2016-03-31 17:25:20</td>\n",
       "      <td>3600</td>\n",
       "      <td>small</td>\n",
       "      <td>2008</td>\n",
       "      <td>manual</td>\n",
       "      <td>69</td>\n",
       "      <td>fabia</td>\n",
       "      <td>90000</td>\n",
       "      <td>7</td>\n",
       "      <td>gasoline</td>\n",
       "      <td>skoda</td>\n",
       "      <td>no</td>\n",
       "      <td>2016-03-31 00:00:00</td>\n",
       "      <td>0</td>\n",
       "      <td>60437</td>\n",
       "      <td>2016-04-06 10:17:21</td>\n",
       "    </tr>\n",
       "    <tr>\n",
       "      <th>...</th>\n",
       "      <td>...</td>\n",
       "      <td>...</td>\n",
       "      <td>...</td>\n",
       "      <td>...</td>\n",
       "      <td>...</td>\n",
       "      <td>...</td>\n",
       "      <td>...</td>\n",
       "      <td>...</td>\n",
       "      <td>...</td>\n",
       "      <td>...</td>\n",
       "      <td>...</td>\n",
       "      <td>...</td>\n",
       "      <td>...</td>\n",
       "      <td>...</td>\n",
       "      <td>...</td>\n",
       "      <td>...</td>\n",
       "    </tr>\n",
       "    <tr>\n",
       "      <th>354364</th>\n",
       "      <td>2016-03-21 09:50:58</td>\n",
       "      <td>0</td>\n",
       "      <td>NaN</td>\n",
       "      <td>2005</td>\n",
       "      <td>manual</td>\n",
       "      <td>0</td>\n",
       "      <td>colt</td>\n",
       "      <td>150000</td>\n",
       "      <td>7</td>\n",
       "      <td>petrol</td>\n",
       "      <td>mitsubishi</td>\n",
       "      <td>yes</td>\n",
       "      <td>2016-03-21 00:00:00</td>\n",
       "      <td>0</td>\n",
       "      <td>2694</td>\n",
       "      <td>2016-03-21 10:42:49</td>\n",
       "    </tr>\n",
       "    <tr>\n",
       "      <th>354365</th>\n",
       "      <td>2016-03-14 17:48:27</td>\n",
       "      <td>2200</td>\n",
       "      <td>NaN</td>\n",
       "      <td>2005</td>\n",
       "      <td>NaN</td>\n",
       "      <td>0</td>\n",
       "      <td>NaN</td>\n",
       "      <td>20000</td>\n",
       "      <td>1</td>\n",
       "      <td>NaN</td>\n",
       "      <td>sonstige_autos</td>\n",
       "      <td>NaN</td>\n",
       "      <td>2016-03-14 00:00:00</td>\n",
       "      <td>0</td>\n",
       "      <td>39576</td>\n",
       "      <td>2016-04-06 00:46:52</td>\n",
       "    </tr>\n",
       "    <tr>\n",
       "      <th>354366</th>\n",
       "      <td>2016-03-05 19:56:21</td>\n",
       "      <td>1199</td>\n",
       "      <td>convertible</td>\n",
       "      <td>2000</td>\n",
       "      <td>auto</td>\n",
       "      <td>101</td>\n",
       "      <td>fortwo</td>\n",
       "      <td>125000</td>\n",
       "      <td>3</td>\n",
       "      <td>petrol</td>\n",
       "      <td>smart</td>\n",
       "      <td>no</td>\n",
       "      <td>2016-03-05 00:00:00</td>\n",
       "      <td>0</td>\n",
       "      <td>26135</td>\n",
       "      <td>2016-03-11 18:17:12</td>\n",
       "    </tr>\n",
       "    <tr>\n",
       "      <th>354367</th>\n",
       "      <td>2016-03-19 18:57:12</td>\n",
       "      <td>9200</td>\n",
       "      <td>bus</td>\n",
       "      <td>1996</td>\n",
       "      <td>manual</td>\n",
       "      <td>102</td>\n",
       "      <td>transporter</td>\n",
       "      <td>150000</td>\n",
       "      <td>3</td>\n",
       "      <td>gasoline</td>\n",
       "      <td>volkswagen</td>\n",
       "      <td>no</td>\n",
       "      <td>2016-03-19 00:00:00</td>\n",
       "      <td>0</td>\n",
       "      <td>87439</td>\n",
       "      <td>2016-04-07 07:15:26</td>\n",
       "    </tr>\n",
       "    <tr>\n",
       "      <th>354368</th>\n",
       "      <td>2016-03-20 19:41:08</td>\n",
       "      <td>3400</td>\n",
       "      <td>wagon</td>\n",
       "      <td>2002</td>\n",
       "      <td>manual</td>\n",
       "      <td>100</td>\n",
       "      <td>golf</td>\n",
       "      <td>150000</td>\n",
       "      <td>6</td>\n",
       "      <td>gasoline</td>\n",
       "      <td>volkswagen</td>\n",
       "      <td>NaN</td>\n",
       "      <td>2016-03-20 00:00:00</td>\n",
       "      <td>0</td>\n",
       "      <td>40764</td>\n",
       "      <td>2016-03-24 12:45:21</td>\n",
       "    </tr>\n",
       "  </tbody>\n",
       "</table>\n",
       "<p>354369 rows × 16 columns</p>\n",
       "</div>"
      ],
      "text/plain": [
       "                DateCrawled  Price  VehicleType  RegistrationYear Gearbox  \\\n",
       "0       2016-03-24 11:52:17    480          NaN              1993  manual   \n",
       "1       2016-03-24 10:58:45  18300        coupe              2011  manual   \n",
       "2       2016-03-14 12:52:21   9800          suv              2004    auto   \n",
       "3       2016-03-17 16:54:04   1500        small              2001  manual   \n",
       "4       2016-03-31 17:25:20   3600        small              2008  manual   \n",
       "...                     ...    ...          ...               ...     ...   \n",
       "354364  2016-03-21 09:50:58      0          NaN              2005  manual   \n",
       "354365  2016-03-14 17:48:27   2200          NaN              2005     NaN   \n",
       "354366  2016-03-05 19:56:21   1199  convertible              2000    auto   \n",
       "354367  2016-03-19 18:57:12   9200          bus              1996  manual   \n",
       "354368  2016-03-20 19:41:08   3400        wagon              2002  manual   \n",
       "\n",
       "        Power        Model  Kilometer  RegistrationMonth  FuelType  \\\n",
       "0           0         golf     150000                  0    petrol   \n",
       "1         190          NaN     125000                  5  gasoline   \n",
       "2         163        grand     125000                  8  gasoline   \n",
       "3          75         golf     150000                  6    petrol   \n",
       "4          69        fabia      90000                  7  gasoline   \n",
       "...       ...          ...        ...                ...       ...   \n",
       "354364      0         colt     150000                  7    petrol   \n",
       "354365      0          NaN      20000                  1       NaN   \n",
       "354366    101       fortwo     125000                  3    petrol   \n",
       "354367    102  transporter     150000                  3  gasoline   \n",
       "354368    100         golf     150000                  6  gasoline   \n",
       "\n",
       "                 Brand NotRepaired          DateCreated  NumberOfPictures  \\\n",
       "0           volkswagen         NaN  2016-03-24 00:00:00                 0   \n",
       "1                 audi         yes  2016-03-24 00:00:00                 0   \n",
       "2                 jeep         NaN  2016-03-14 00:00:00                 0   \n",
       "3           volkswagen          no  2016-03-17 00:00:00                 0   \n",
       "4                skoda          no  2016-03-31 00:00:00                 0   \n",
       "...                ...         ...                  ...               ...   \n",
       "354364      mitsubishi         yes  2016-03-21 00:00:00                 0   \n",
       "354365  sonstige_autos         NaN  2016-03-14 00:00:00                 0   \n",
       "354366           smart          no  2016-03-05 00:00:00                 0   \n",
       "354367      volkswagen          no  2016-03-19 00:00:00                 0   \n",
       "354368      volkswagen         NaN  2016-03-20 00:00:00                 0   \n",
       "\n",
       "        PostalCode             LastSeen  \n",
       "0            70435  2016-04-07 03:16:57  \n",
       "1            66954  2016-04-07 01:46:50  \n",
       "2            90480  2016-04-05 12:47:46  \n",
       "3            91074  2016-03-17 17:40:17  \n",
       "4            60437  2016-04-06 10:17:21  \n",
       "...            ...                  ...  \n",
       "354364        2694  2016-03-21 10:42:49  \n",
       "354365       39576  2016-04-06 00:46:52  \n",
       "354366       26135  2016-03-11 18:17:12  \n",
       "354367       87439  2016-04-07 07:15:26  \n",
       "354368       40764  2016-03-24 12:45:21  \n",
       "\n",
       "[354369 rows x 16 columns]"
      ]
     },
     "metadata": {},
     "output_type": "display_data"
    }
   ],
   "source": [
    "#откроем файл с данными\n",
    "df = pd.read_csv('/datasets/autos.csv')\n",
    "#изучим данные\n",
    "display(df)"
   ]
  },
  {
   "cell_type": "code",
   "execution_count": 219,
   "metadata": {},
   "outputs": [],
   "source": [
    "#изучим данные воспользовавшись унифицированной функцией\n",
    "def uni_function(function):\n",
    "    display(function.head())\n",
    "    display(function.info())\n",
    "    display(function.isna().mean().sort_values(ascending = False)) #доля пропущенных значений\n",
    "    display(function.describe())\n",
    "    display(function.duplicated().sum())"
   ]
  },
  {
   "cell_type": "code",
   "execution_count": 220,
   "metadata": {
    "scrolled": true
   },
   "outputs": [
    {
     "data": {
      "text/html": [
       "<div>\n",
       "<style scoped>\n",
       "    .dataframe tbody tr th:only-of-type {\n",
       "        vertical-align: middle;\n",
       "    }\n",
       "\n",
       "    .dataframe tbody tr th {\n",
       "        vertical-align: top;\n",
       "    }\n",
       "\n",
       "    .dataframe thead th {\n",
       "        text-align: right;\n",
       "    }\n",
       "</style>\n",
       "<table border=\"1\" class=\"dataframe\">\n",
       "  <thead>\n",
       "    <tr style=\"text-align: right;\">\n",
       "      <th></th>\n",
       "      <th>DateCrawled</th>\n",
       "      <th>Price</th>\n",
       "      <th>VehicleType</th>\n",
       "      <th>RegistrationYear</th>\n",
       "      <th>Gearbox</th>\n",
       "      <th>Power</th>\n",
       "      <th>Model</th>\n",
       "      <th>Kilometer</th>\n",
       "      <th>RegistrationMonth</th>\n",
       "      <th>FuelType</th>\n",
       "      <th>Brand</th>\n",
       "      <th>NotRepaired</th>\n",
       "      <th>DateCreated</th>\n",
       "      <th>NumberOfPictures</th>\n",
       "      <th>PostalCode</th>\n",
       "      <th>LastSeen</th>\n",
       "    </tr>\n",
       "  </thead>\n",
       "  <tbody>\n",
       "    <tr>\n",
       "      <th>0</th>\n",
       "      <td>2016-03-24 11:52:17</td>\n",
       "      <td>480</td>\n",
       "      <td>NaN</td>\n",
       "      <td>1993</td>\n",
       "      <td>manual</td>\n",
       "      <td>0</td>\n",
       "      <td>golf</td>\n",
       "      <td>150000</td>\n",
       "      <td>0</td>\n",
       "      <td>petrol</td>\n",
       "      <td>volkswagen</td>\n",
       "      <td>NaN</td>\n",
       "      <td>2016-03-24 00:00:00</td>\n",
       "      <td>0</td>\n",
       "      <td>70435</td>\n",
       "      <td>2016-04-07 03:16:57</td>\n",
       "    </tr>\n",
       "    <tr>\n",
       "      <th>1</th>\n",
       "      <td>2016-03-24 10:58:45</td>\n",
       "      <td>18300</td>\n",
       "      <td>coupe</td>\n",
       "      <td>2011</td>\n",
       "      <td>manual</td>\n",
       "      <td>190</td>\n",
       "      <td>NaN</td>\n",
       "      <td>125000</td>\n",
       "      <td>5</td>\n",
       "      <td>gasoline</td>\n",
       "      <td>audi</td>\n",
       "      <td>yes</td>\n",
       "      <td>2016-03-24 00:00:00</td>\n",
       "      <td>0</td>\n",
       "      <td>66954</td>\n",
       "      <td>2016-04-07 01:46:50</td>\n",
       "    </tr>\n",
       "    <tr>\n",
       "      <th>2</th>\n",
       "      <td>2016-03-14 12:52:21</td>\n",
       "      <td>9800</td>\n",
       "      <td>suv</td>\n",
       "      <td>2004</td>\n",
       "      <td>auto</td>\n",
       "      <td>163</td>\n",
       "      <td>grand</td>\n",
       "      <td>125000</td>\n",
       "      <td>8</td>\n",
       "      <td>gasoline</td>\n",
       "      <td>jeep</td>\n",
       "      <td>NaN</td>\n",
       "      <td>2016-03-14 00:00:00</td>\n",
       "      <td>0</td>\n",
       "      <td>90480</td>\n",
       "      <td>2016-04-05 12:47:46</td>\n",
       "    </tr>\n",
       "    <tr>\n",
       "      <th>3</th>\n",
       "      <td>2016-03-17 16:54:04</td>\n",
       "      <td>1500</td>\n",
       "      <td>small</td>\n",
       "      <td>2001</td>\n",
       "      <td>manual</td>\n",
       "      <td>75</td>\n",
       "      <td>golf</td>\n",
       "      <td>150000</td>\n",
       "      <td>6</td>\n",
       "      <td>petrol</td>\n",
       "      <td>volkswagen</td>\n",
       "      <td>no</td>\n",
       "      <td>2016-03-17 00:00:00</td>\n",
       "      <td>0</td>\n",
       "      <td>91074</td>\n",
       "      <td>2016-03-17 17:40:17</td>\n",
       "    </tr>\n",
       "    <tr>\n",
       "      <th>4</th>\n",
       "      <td>2016-03-31 17:25:20</td>\n",
       "      <td>3600</td>\n",
       "      <td>small</td>\n",
       "      <td>2008</td>\n",
       "      <td>manual</td>\n",
       "      <td>69</td>\n",
       "      <td>fabia</td>\n",
       "      <td>90000</td>\n",
       "      <td>7</td>\n",
       "      <td>gasoline</td>\n",
       "      <td>skoda</td>\n",
       "      <td>no</td>\n",
       "      <td>2016-03-31 00:00:00</td>\n",
       "      <td>0</td>\n",
       "      <td>60437</td>\n",
       "      <td>2016-04-06 10:17:21</td>\n",
       "    </tr>\n",
       "  </tbody>\n",
       "</table>\n",
       "</div>"
      ],
      "text/plain": [
       "           DateCrawled  Price VehicleType  RegistrationYear Gearbox  Power  \\\n",
       "0  2016-03-24 11:52:17    480         NaN              1993  manual      0   \n",
       "1  2016-03-24 10:58:45  18300       coupe              2011  manual    190   \n",
       "2  2016-03-14 12:52:21   9800         suv              2004    auto    163   \n",
       "3  2016-03-17 16:54:04   1500       small              2001  manual     75   \n",
       "4  2016-03-31 17:25:20   3600       small              2008  manual     69   \n",
       "\n",
       "   Model  Kilometer  RegistrationMonth  FuelType       Brand NotRepaired  \\\n",
       "0   golf     150000                  0    petrol  volkswagen         NaN   \n",
       "1    NaN     125000                  5  gasoline        audi         yes   \n",
       "2  grand     125000                  8  gasoline        jeep         NaN   \n",
       "3   golf     150000                  6    petrol  volkswagen          no   \n",
       "4  fabia      90000                  7  gasoline       skoda          no   \n",
       "\n",
       "           DateCreated  NumberOfPictures  PostalCode             LastSeen  \n",
       "0  2016-03-24 00:00:00                 0       70435  2016-04-07 03:16:57  \n",
       "1  2016-03-24 00:00:00                 0       66954  2016-04-07 01:46:50  \n",
       "2  2016-03-14 00:00:00                 0       90480  2016-04-05 12:47:46  \n",
       "3  2016-03-17 00:00:00                 0       91074  2016-03-17 17:40:17  \n",
       "4  2016-03-31 00:00:00                 0       60437  2016-04-06 10:17:21  "
      ]
     },
     "metadata": {},
     "output_type": "display_data"
    },
    {
     "name": "stdout",
     "output_type": "stream",
     "text": [
      "<class 'pandas.core.frame.DataFrame'>\n",
      "RangeIndex: 354369 entries, 0 to 354368\n",
      "Data columns (total 16 columns):\n",
      " #   Column             Non-Null Count   Dtype \n",
      "---  ------             --------------   ----- \n",
      " 0   DateCrawled        354369 non-null  object\n",
      " 1   Price              354369 non-null  int64 \n",
      " 2   VehicleType        316879 non-null  object\n",
      " 3   RegistrationYear   354369 non-null  int64 \n",
      " 4   Gearbox            334536 non-null  object\n",
      " 5   Power              354369 non-null  int64 \n",
      " 6   Model              334664 non-null  object\n",
      " 7   Kilometer          354369 non-null  int64 \n",
      " 8   RegistrationMonth  354369 non-null  int64 \n",
      " 9   FuelType           321474 non-null  object\n",
      " 10  Brand              354369 non-null  object\n",
      " 11  NotRepaired        283215 non-null  object\n",
      " 12  DateCreated        354369 non-null  object\n",
      " 13  NumberOfPictures   354369 non-null  int64 \n",
      " 14  PostalCode         354369 non-null  int64 \n",
      " 15  LastSeen           354369 non-null  object\n",
      "dtypes: int64(7), object(9)\n",
      "memory usage: 43.3+ MB\n"
     ]
    },
    {
     "data": {
      "text/plain": [
       "None"
      ]
     },
     "metadata": {},
     "output_type": "display_data"
    },
    {
     "data": {
      "text/plain": [
       "NotRepaired          0.200791\n",
       "VehicleType          0.105794\n",
       "FuelType             0.092827\n",
       "Gearbox              0.055967\n",
       "Model                0.055606\n",
       "DateCrawled          0.000000\n",
       "Price                0.000000\n",
       "RegistrationYear     0.000000\n",
       "Power                0.000000\n",
       "Kilometer            0.000000\n",
       "RegistrationMonth    0.000000\n",
       "Brand                0.000000\n",
       "DateCreated          0.000000\n",
       "NumberOfPictures     0.000000\n",
       "PostalCode           0.000000\n",
       "LastSeen             0.000000\n",
       "dtype: float64"
      ]
     },
     "metadata": {},
     "output_type": "display_data"
    },
    {
     "data": {
      "text/html": [
       "<div>\n",
       "<style scoped>\n",
       "    .dataframe tbody tr th:only-of-type {\n",
       "        vertical-align: middle;\n",
       "    }\n",
       "\n",
       "    .dataframe tbody tr th {\n",
       "        vertical-align: top;\n",
       "    }\n",
       "\n",
       "    .dataframe thead th {\n",
       "        text-align: right;\n",
       "    }\n",
       "</style>\n",
       "<table border=\"1\" class=\"dataframe\">\n",
       "  <thead>\n",
       "    <tr style=\"text-align: right;\">\n",
       "      <th></th>\n",
       "      <th>Price</th>\n",
       "      <th>RegistrationYear</th>\n",
       "      <th>Power</th>\n",
       "      <th>Kilometer</th>\n",
       "      <th>RegistrationMonth</th>\n",
       "      <th>NumberOfPictures</th>\n",
       "      <th>PostalCode</th>\n",
       "    </tr>\n",
       "  </thead>\n",
       "  <tbody>\n",
       "    <tr>\n",
       "      <th>count</th>\n",
       "      <td>354369.000000</td>\n",
       "      <td>354369.000000</td>\n",
       "      <td>354369.000000</td>\n",
       "      <td>354369.000000</td>\n",
       "      <td>354369.000000</td>\n",
       "      <td>354369.0</td>\n",
       "      <td>354369.000000</td>\n",
       "    </tr>\n",
       "    <tr>\n",
       "      <th>mean</th>\n",
       "      <td>4416.656776</td>\n",
       "      <td>2004.234448</td>\n",
       "      <td>110.094337</td>\n",
       "      <td>128211.172535</td>\n",
       "      <td>5.714645</td>\n",
       "      <td>0.0</td>\n",
       "      <td>50508.689087</td>\n",
       "    </tr>\n",
       "    <tr>\n",
       "      <th>std</th>\n",
       "      <td>4514.158514</td>\n",
       "      <td>90.227958</td>\n",
       "      <td>189.850405</td>\n",
       "      <td>37905.341530</td>\n",
       "      <td>3.726421</td>\n",
       "      <td>0.0</td>\n",
       "      <td>25783.096248</td>\n",
       "    </tr>\n",
       "    <tr>\n",
       "      <th>min</th>\n",
       "      <td>0.000000</td>\n",
       "      <td>1000.000000</td>\n",
       "      <td>0.000000</td>\n",
       "      <td>5000.000000</td>\n",
       "      <td>0.000000</td>\n",
       "      <td>0.0</td>\n",
       "      <td>1067.000000</td>\n",
       "    </tr>\n",
       "    <tr>\n",
       "      <th>25%</th>\n",
       "      <td>1050.000000</td>\n",
       "      <td>1999.000000</td>\n",
       "      <td>69.000000</td>\n",
       "      <td>125000.000000</td>\n",
       "      <td>3.000000</td>\n",
       "      <td>0.0</td>\n",
       "      <td>30165.000000</td>\n",
       "    </tr>\n",
       "    <tr>\n",
       "      <th>50%</th>\n",
       "      <td>2700.000000</td>\n",
       "      <td>2003.000000</td>\n",
       "      <td>105.000000</td>\n",
       "      <td>150000.000000</td>\n",
       "      <td>6.000000</td>\n",
       "      <td>0.0</td>\n",
       "      <td>49413.000000</td>\n",
       "    </tr>\n",
       "    <tr>\n",
       "      <th>75%</th>\n",
       "      <td>6400.000000</td>\n",
       "      <td>2008.000000</td>\n",
       "      <td>143.000000</td>\n",
       "      <td>150000.000000</td>\n",
       "      <td>9.000000</td>\n",
       "      <td>0.0</td>\n",
       "      <td>71083.000000</td>\n",
       "    </tr>\n",
       "    <tr>\n",
       "      <th>max</th>\n",
       "      <td>20000.000000</td>\n",
       "      <td>9999.000000</td>\n",
       "      <td>20000.000000</td>\n",
       "      <td>150000.000000</td>\n",
       "      <td>12.000000</td>\n",
       "      <td>0.0</td>\n",
       "      <td>99998.000000</td>\n",
       "    </tr>\n",
       "  </tbody>\n",
       "</table>\n",
       "</div>"
      ],
      "text/plain": [
       "               Price  RegistrationYear          Power      Kilometer  \\\n",
       "count  354369.000000     354369.000000  354369.000000  354369.000000   \n",
       "mean     4416.656776       2004.234448     110.094337  128211.172535   \n",
       "std      4514.158514         90.227958     189.850405   37905.341530   \n",
       "min         0.000000       1000.000000       0.000000    5000.000000   \n",
       "25%      1050.000000       1999.000000      69.000000  125000.000000   \n",
       "50%      2700.000000       2003.000000     105.000000  150000.000000   \n",
       "75%      6400.000000       2008.000000     143.000000  150000.000000   \n",
       "max     20000.000000       9999.000000   20000.000000  150000.000000   \n",
       "\n",
       "       RegistrationMonth  NumberOfPictures     PostalCode  \n",
       "count      354369.000000          354369.0  354369.000000  \n",
       "mean            5.714645               0.0   50508.689087  \n",
       "std             3.726421               0.0   25783.096248  \n",
       "min             0.000000               0.0    1067.000000  \n",
       "25%             3.000000               0.0   30165.000000  \n",
       "50%             6.000000               0.0   49413.000000  \n",
       "75%             9.000000               0.0   71083.000000  \n",
       "max            12.000000               0.0   99998.000000  "
      ]
     },
     "metadata": {},
     "output_type": "display_data"
    },
    {
     "data": {
      "text/plain": [
       "4"
      ]
     },
     "metadata": {},
     "output_type": "display_data"
    },
    {
     "data": {
      "text/plain": [
       "None"
      ]
     },
     "metadata": {},
     "output_type": "display_data"
    }
   ],
   "source": [
    "display(uni_function(df))"
   ]
  },
  {
   "cell_type": "markdown",
   "metadata": {},
   "source": [
    "Изучив исходные данные мы обнаружили:\n",
    "1. Столбцы содержащие информацию о датах имеют неверный формат;\n",
    "2. В таблице обнаружены дубликаты;\n",
    "3. Столбцы NotRepaired, VehicleType,FuelType, Gearbox,Model имеют пропуски. Необходимо рассмотреть эти столбцы отдельно и проанализировать, возможно ли заполнить пропуски.\n",
    "4. Название столбцов считаюся приемлемыми, но для личного удобства, переименуем их.\n",
    "5. В столбцах Price, Power, RegistrationMonth минимальные значения равны 0. Если для цены такие значения принять возможно, например, в случае, если машину хотят утилизировать, а вот для мощности двигателя и месяца регистрации автомобиля такие значения невозможны. Необходимо узучить эти столбцы более детально. Данные столбца Price мы не будем редактировать еще и потому что это целевой признак, а для целевого признака нам важны все значения.\n",
    "6. Столбце RegistrationYear также имеет странные значения. минимум составляет 1000, максимум 9999. Также исследуем эти данные на выбросы."
   ]
  },
  {
   "cell_type": "markdown",
   "metadata": {},
   "source": [
    "### Переименование столбцов"
   ]
  },
  {
   "cell_type": "markdown",
   "metadata": {},
   "source": [
    "**Признаки**   \n",
    "DateCrawled — дата скачивания анкеты из базы    \n",
    "VehicleType — тип автомобильного кузова     \n",
    "RegistrationYear — год регистрации автомобиля     \n",
    "Gearbox — тип коробки передач     \n",
    "Power — мощность (л. с.)     \n",
    "Model — модель автомобиля     \n",
    "Kilometer — пробег (км)     \n",
    "RegistrationMonth — месяц регистрации автомобиля     \n",
    "FuelType — тип топлива     \n",
    "Brand — марка автомобиля     \n",
    "NotRepaired — была машина в ремонте или нет     \n",
    "DateCreated — дата создания анкеты      \n",
    "NumberOfPictures — количество фотографий автомобиля      \n",
    "PostalCode — почтовый индекс владельца анкеты (пользователя)      \n",
    "LastSeen — дата последней активности пользователя     "
   ]
  },
  {
   "cell_type": "code",
   "execution_count": 221,
   "metadata": {},
   "outputs": [],
   "source": [
    "#приведем все названия к нижнему регистру\n",
    "df.columns = df.columns.str.lower()"
   ]
  },
  {
   "cell_type": "code",
   "execution_count": 222,
   "metadata": {
    "scrolled": false
   },
   "outputs": [],
   "source": [
    "#переименуем столбцы\n",
    "df = df.rename(columns={'datecrawled': 'date_crawled', \n",
    "                        'vehicletype': 'vehicle_type', \n",
    "                        'registrationyear': 'registration_year', \n",
    "                        'registrationmonth': 'registration_month', \n",
    "                        'fueltype': 'fuel_type',\n",
    "                        'notrepaired' : 'not_repaired',\n",
    "                        'datecreated' : 'date_created',\n",
    "                        'numberofpictures' : 'number_of_pictures',\n",
    "                        'postalcode' : 'postal_code',\n",
    "                        'lastseen' : 'last_seen'})"
   ]
  },
  {
   "cell_type": "markdown",
   "metadata": {},
   "source": [
    "### Удаление дубликатов и пропусков"
   ]
  },
  {
   "cell_type": "code",
   "execution_count": 223,
   "metadata": {},
   "outputs": [],
   "source": [
    "#преобразуем тип данных в столбцах имеющих информацию о времени\n",
    "df['date_crawled'] = pd.to_datetime(df['date_crawled'], format='%Y-%m-%dT%H:%M:%S')\n",
    "df['date_created'] = pd.to_datetime(df['date_created'], format='%Y-%m-%dT%H:%M:%S')\n",
    "df['last_seen'] = pd.to_datetime(df['last_seen'], format='%Y-%m-%dT%H:%M:%S')"
   ]
  },
  {
   "cell_type": "code",
   "execution_count": 224,
   "metadata": {},
   "outputs": [
    {
     "data": {
      "text/plain": [
       "Timestamp('2016-04-07 14:36:58')"
      ]
     },
     "execution_count": 224,
     "metadata": {},
     "output_type": "execute_result"
    }
   ],
   "source": [
    "#узнаем, в каком году была выгружена последняя анкета. Это помощет нам ограничить год регистрации автомобиля в дальшейшем.\n",
    "(df['date_crawled'].max())"
   ]
  },
  {
   "cell_type": "code",
   "execution_count": 225,
   "metadata": {},
   "outputs": [],
   "source": [
    "#удалим неинформативные признаки \n",
    "# date_crawled, date_created, last_seen - даты скачивания и создания объявления, дата последней активности пользователя\n",
    "# number_of_pictures -  количество фотографий автомобиля во всех строчках значение 0\n",
    "df = df.drop(['date_crawled', 'date_created', 'last_seen', 'number_of_pictures', 'postal_code'], axis=1)"
   ]
  },
  {
   "cell_type": "code",
   "execution_count": 226,
   "metadata": {},
   "outputs": [],
   "source": [
    "#удалим явные дубликаты\n",
    "df = df.drop_duplicates().reset_index(drop=True)"
   ]
  },
  {
   "cell_type": "code",
   "execution_count": 227,
   "metadata": {
    "scrolled": true
   },
   "outputs": [
    {
     "data": {
      "text/html": [
       "<style  type=\"text/css\" >\n",
       "#T_be291_row0_col0{\n",
       "            background-color:  #b40426;\n",
       "            color:  #f1f1f1;\n",
       "        }#T_be291_row1_col0{\n",
       "            background-color:  #e4d9d2;\n",
       "            color:  #000000;\n",
       "        }#T_be291_row2_col0{\n",
       "            background-color:  #d4dbe6;\n",
       "            color:  #000000;\n",
       "        }#T_be291_row3_col0{\n",
       "            background-color:  #97b8ff;\n",
       "            color:  #000000;\n",
       "        }#T_be291_row4_col0{\n",
       "            background-color:  #92b4fe;\n",
       "            color:  #000000;\n",
       "        }#T_be291_row5_col0,#T_be291_row6_col0,#T_be291_row7_col0,#T_be291_row8_col0,#T_be291_row9_col0,#T_be291_row10_col0{\n",
       "            background-color:  #3b4cc0;\n",
       "            color:  #f1f1f1;\n",
       "        }</style><table id=\"T_be291_\" ><thead>    <tr>        <th class=\"blank level0\" ></th>        <th class=\"col_heading level0 col0\" >0</th>    </tr></thead><tbody>\n",
       "                <tr>\n",
       "                        <th id=\"T_be291_level0_row0\" class=\"row_heading level0 row0\" >not_repaired</th>\n",
       "                        <td id=\"T_be291_row0_col0\" class=\"data row0 col0\" >20.320000</td>\n",
       "            </tr>\n",
       "            <tr>\n",
       "                        <th id=\"T_be291_level0_row1\" class=\"row_heading level0 row1\" >vehicle_type</th>\n",
       "                        <td id=\"T_be291_row1_col0\" class=\"data row1 col0\" >10.790000</td>\n",
       "            </tr>\n",
       "            <tr>\n",
       "                        <th id=\"T_be291_level0_row2\" class=\"row_heading level0 row2\" >fuel_type</th>\n",
       "                        <td id=\"T_be291_row2_col0\" class=\"data row2 col0\" >9.520000</td>\n",
       "            </tr>\n",
       "            <tr>\n",
       "                        <th id=\"T_be291_level0_row3\" class=\"row_heading level0 row3\" >model</th>\n",
       "                        <td id=\"T_be291_row3_col0\" class=\"data row3 col0\" >5.670000</td>\n",
       "            </tr>\n",
       "            <tr>\n",
       "                        <th id=\"T_be291_level0_row4\" class=\"row_heading level0 row4\" >gearbox</th>\n",
       "                        <td id=\"T_be291_row4_col0\" class=\"data row4 col0\" >5.380000</td>\n",
       "            </tr>\n",
       "            <tr>\n",
       "                        <th id=\"T_be291_level0_row5\" class=\"row_heading level0 row5\" >price</th>\n",
       "                        <td id=\"T_be291_row5_col0\" class=\"data row5 col0\" >0.000000</td>\n",
       "            </tr>\n",
       "            <tr>\n",
       "                        <th id=\"T_be291_level0_row6\" class=\"row_heading level0 row6\" >registration_year</th>\n",
       "                        <td id=\"T_be291_row6_col0\" class=\"data row6 col0\" >0.000000</td>\n",
       "            </tr>\n",
       "            <tr>\n",
       "                        <th id=\"T_be291_level0_row7\" class=\"row_heading level0 row7\" >power</th>\n",
       "                        <td id=\"T_be291_row7_col0\" class=\"data row7 col0\" >0.000000</td>\n",
       "            </tr>\n",
       "            <tr>\n",
       "                        <th id=\"T_be291_level0_row8\" class=\"row_heading level0 row8\" >kilometer</th>\n",
       "                        <td id=\"T_be291_row8_col0\" class=\"data row8 col0\" >0.000000</td>\n",
       "            </tr>\n",
       "            <tr>\n",
       "                        <th id=\"T_be291_level0_row9\" class=\"row_heading level0 row9\" >registration_month</th>\n",
       "                        <td id=\"T_be291_row9_col0\" class=\"data row9 col0\" >0.000000</td>\n",
       "            </tr>\n",
       "            <tr>\n",
       "                        <th id=\"T_be291_level0_row10\" class=\"row_heading level0 row10\" >brand</th>\n",
       "                        <td id=\"T_be291_row10_col0\" class=\"data row10 col0\" >0.000000</td>\n",
       "            </tr>\n",
       "    </tbody></table>"
      ],
      "text/plain": [
       "<pandas.io.formats.style.Styler at 0x7f68a620dd90>"
      ]
     },
     "execution_count": 227,
     "metadata": {},
     "output_type": "execute_result"
    }
   ],
   "source": [
    "#еще раз оценим долю пропусков\n",
    "pd.DataFrame(round((df.isna().mean()*100).sort_values(ascending=False),2)).style.background_gradient('coolwarm')"
   ]
  },
  {
   "cell_type": "markdown",
   "metadata": {},
   "source": [
    "Процентное значение пропусков в столбцах очень высокое, мы не можем удалить такие данные. Изучим их и по возможности устраним."
   ]
  },
  {
   "cell_type": "code",
   "execution_count": 228,
   "metadata": {},
   "outputs": [],
   "source": [
    "#создадим функцию для определния уникальных значений\n",
    "def value_function(column_name):\n",
    "    display(df[column_name].unique())\n",
    "    display(df[column_name].value_counts())"
   ]
  },
  {
   "cell_type": "code",
   "execution_count": 229,
   "metadata": {},
   "outputs": [
    {
     "data": {
      "text/plain": [
       "array([nan, 'yes', 'no'], dtype=object)"
      ]
     },
     "metadata": {},
     "output_type": "display_data"
    },
    {
     "data": {
      "text/plain": [
       "no     225970\n",
       "yes     34429\n",
       "Name: not_repaired, dtype: int64"
      ]
     },
     "metadata": {},
     "output_type": "display_data"
    }
   ],
   "source": [
    "#изучим столбец not_repaired\n",
    "#определим уникальные значения\n",
    "value_function('not_repaired')"
   ]
  },
  {
   "cell_type": "markdown",
   "metadata": {},
   "source": [
    "Исходя из полученных данных мы можешь предположить, что, если графа не заполнена, значит автомобиль не попадал в аварии, а значит можно эти строки заполнить фразой 'no'."
   ]
  },
  {
   "cell_type": "code",
   "execution_count": 230,
   "metadata": {
    "scrolled": true
   },
   "outputs": [
    {
     "data": {
      "text/plain": [
       "array([nan, 'coupe', 'suv', 'small', 'sedan', 'convertible', 'bus',\n",
       "       'wagon', 'other'], dtype=object)"
      ]
     },
     "metadata": {},
     "output_type": "display_data"
    },
    {
     "data": {
      "text/plain": [
       "sedan          83602\n",
       "small          73496\n",
       "wagon          59662\n",
       "bus            26795\n",
       "convertible    18752\n",
       "coupe          15120\n",
       "suv            10977\n",
       "other           3173\n",
       "Name: vehicle_type, dtype: int64"
      ]
     },
     "metadata": {},
     "output_type": "display_data"
    }
   ],
   "source": [
    "#изучим столбец vehicle_type\n",
    "#определим уникальные значения\n",
    "value_function('vehicle_type')"
   ]
  },
  {
   "cell_type": "code",
   "execution_count": 231,
   "metadata": {},
   "outputs": [
    {
     "data": {
      "text/plain": [
       "array(['golf', nan, 'grand', 'fabia', '3er', '2_reihe', 'other', 'c_max',\n",
       "       '3_reihe', 'passat', 'navara', 'ka', 'polo', 'twingo', 'a_klasse',\n",
       "       'scirocco', '5er', 'meriva', 'arosa', 'c4', 'civic', 'transporter',\n",
       "       'punto', 'e_klasse', 'clio', 'kadett', 'kangoo', 'corsa', 'one',\n",
       "       'fortwo', '1er', 'b_klasse', 'signum', 'astra', 'a8', 'jetta',\n",
       "       'fiesta', 'c_klasse', 'micra', 'vito', 'sprinter', '156', 'escort',\n",
       "       'forester', 'xc_reihe', 'scenic', 'a4', 'a1', 'insignia', 'combo',\n",
       "       'focus', 'tt', 'a6', 'jazz', 'omega', 'slk', '7er', '80', '147',\n",
       "       '100', 'z_reihe', 'sportage', 'sorento', 'v40', 'ibiza', 'mustang',\n",
       "       'eos', 'touran', 'getz', 'a3', 'almera', 'megane', 'lupo', 'r19',\n",
       "       'zafira', 'caddy', 'mondeo', 'cordoba', 'colt', 'impreza',\n",
       "       'vectra', 'berlingo', 'tiguan', 'i_reihe', 'espace', 'sharan',\n",
       "       '6_reihe', 'panda', 'up', 'seicento', 'ceed', '5_reihe', 'yeti',\n",
       "       'octavia', 'mii', 'rx_reihe', '6er', 'modus', 'fox', 'matiz',\n",
       "       'beetle', 'c1', 'rio', 'touareg', 'logan', 'spider', 'cuore',\n",
       "       's_max', 'a2', 'galaxy', 'c3', 'viano', 's_klasse', '1_reihe',\n",
       "       'avensis', 'roomster', 'sl', 'kaefer', 'santa', 'cooper', 'leon',\n",
       "       '4_reihe', 'a5', '500', 'laguna', 'ptcruiser', 'clk', 'primera',\n",
       "       'x_reihe', 'exeo', '159', 'transit', 'juke', 'qashqai', 'carisma',\n",
       "       'accord', 'corolla', 'lanos', 'phaeton', 'verso', 'swift', 'rav',\n",
       "       'picanto', 'boxster', 'kalos', 'superb', 'stilo', 'alhambra',\n",
       "       'mx_reihe', 'roadster', 'ypsilon', 'cayenne', 'galant', 'justy',\n",
       "       '90', 'sirion', 'crossfire', 'agila', 'duster', 'cr_reihe', 'v50',\n",
       "       'c_reihe', 'v_klasse', 'm_klasse', 'yaris', 'c5', 'aygo', 'cc',\n",
       "       'carnival', 'fusion', '911', 'bora', 'forfour', 'm_reihe', 'cl',\n",
       "       'tigra', '300c', 'spark', 'v70', 'kuga', 'x_type', 'ducato',\n",
       "       's_type', 'x_trail', 'toledo', 'altea', 'voyager', 'calibra',\n",
       "       'bravo', 'antara', 'tucson', 'citigo', 'jimny', 'wrangler',\n",
       "       'lybra', 'q7', 'lancer', 'captiva', 'c2', 'discovery',\n",
       "       'freelander', 'sandero', 'note', '900', 'cherokee', 'clubman',\n",
       "       'samara', 'defender', '601', 'cx_reihe', 'legacy', 'pajero',\n",
       "       'auris', 'niva', 's60', 'nubira', 'vivaro', 'g_klasse', 'lodgy',\n",
       "       '850', 'range_rover', 'q3', 'serie_2', 'glk', 'charade', 'croma',\n",
       "       'outlander', 'doblo', 'musa', 'move', '9000', 'v60', '145', 'aveo',\n",
       "       '200', 'b_max', 'range_rover_sport', 'terios', 'rangerover', 'q5',\n",
       "       'range_rover_evoque', 'materia', 'delta', 'gl', 'kalina', 'amarok',\n",
       "       'elefantino', 'i3', 'kappa', 'serie_3', 'serie_1'], dtype=object)"
      ]
     },
     "metadata": {},
     "output_type": "display_data"
    },
    {
     "data": {
      "text/plain": [
       "golf                  26444\n",
       "other                 23231\n",
       "3er                   18037\n",
       "polo                  11934\n",
       "corsa                 11381\n",
       "                      ...  \n",
       "kalina                    8\n",
       "rangerover                4\n",
       "serie_3                   4\n",
       "serie_1                   2\n",
       "range_rover_evoque        1\n",
       "Name: model, Length: 250, dtype: int64"
      ]
     },
     "metadata": {},
     "output_type": "display_data"
    }
   ],
   "source": [
    "#изучим столбец model\n",
    "#определим уникальные значения\n",
    "display(df['model'].unique())\n",
    "display(df['model'].value_counts())"
   ]
  },
  {
   "cell_type": "code",
   "execution_count": 232,
   "metadata": {
    "scrolled": true
   },
   "outputs": [
    {
     "data": {
      "text/plain": [
       "array(['petrol', 'gasoline', nan, 'lpg', 'other', 'hybrid', 'cng',\n",
       "       'electric'], dtype=object)"
      ]
     },
     "metadata": {},
     "output_type": "display_data"
    },
    {
     "data": {
      "text/plain": [
       "petrol      200260\n",
       "gasoline     89464\n",
       "lpg           4934\n",
       "cng            529\n",
       "hybrid         228\n",
       "other          200\n",
       "electric        89\n",
       "Name: fuel_type, dtype: int64"
      ]
     },
     "metadata": {},
     "output_type": "display_data"
    }
   ],
   "source": [
    "#изучим столбец fuel_type\n",
    "#определим уникальные значения\n",
    "display(df['fuel_type'].unique())\n",
    "display(df['fuel_type'].value_counts())"
   ]
  },
  {
   "cell_type": "code",
   "execution_count": 233,
   "metadata": {},
   "outputs": [
    {
     "data": {
      "text/plain": [
       "array(['petrol', 'gasoline', nan, 'lpg', 'other', 'hybrid', 'cng',\n",
       "       'electric'], dtype=object)"
      ]
     },
     "metadata": {},
     "output_type": "display_data"
    },
    {
     "data": {
      "text/plain": [
       "petrol      200260\n",
       "gasoline     89464\n",
       "lpg           4934\n",
       "cng            529\n",
       "hybrid         228\n",
       "other          200\n",
       "electric        89\n",
       "Name: fuel_type, dtype: int64"
      ]
     },
     "metadata": {},
     "output_type": "display_data"
    }
   ],
   "source": [
    "#изучим столбец fuel_type\n",
    "#определим уникальные значения\n",
    "display(df['fuel_type'].unique())\n",
    "display(df['fuel_type'].value_counts())"
   ]
  },
  {
   "cell_type": "code",
   "execution_count": 234,
   "metadata": {},
   "outputs": [
    {
     "data": {
      "text/plain": [
       "array(['manual', 'auto', nan], dtype=object)"
      ]
     },
     "metadata": {},
     "output_type": "display_data"
    },
    {
     "data": {
      "text/plain": [
       "manual    248135\n",
       "auto       61113\n",
       "Name: gearbox, dtype: int64"
      ]
     },
     "metadata": {},
     "output_type": "display_data"
    }
   ],
   "source": [
    "#изучим столбец gearbox\n",
    "#определим уникальные значения\n",
    "display(df['gearbox'].unique())\n",
    "display(df['gearbox'].value_counts())"
   ]
  },
  {
   "cell_type": "code",
   "execution_count": 235,
   "metadata": {},
   "outputs": [],
   "source": [
    "#выделим категориальные столбцы\n",
    "category_columns = ['not_repaired', 'vehicle_type', 'model', 'fuel_type', 'gearbox', 'brand']\n"
   ]
  },
  {
   "cell_type": "markdown",
   "metadata": {},
   "source": [
    "по имеющимся данным, пропуски заполнить трудно, поэтому, мы принимаем решение заполнить пропущенные значения Nan на значение 'unknown'. Так при необходимости эти значения можно быстро убрать из датасета и в тоже время мы не потяреям большое количество данных."
   ]
  },
  {
   "cell_type": "code",
   "execution_count": 236,
   "metadata": {
    "scrolled": true
   },
   "outputs": [
    {
     "data": {
      "text/html": [
       "<div>\n",
       "<style scoped>\n",
       "    .dataframe tbody tr th:only-of-type {\n",
       "        vertical-align: middle;\n",
       "    }\n",
       "\n",
       "    .dataframe tbody tr th {\n",
       "        vertical-align: top;\n",
       "    }\n",
       "\n",
       "    .dataframe thead th {\n",
       "        text-align: right;\n",
       "    }\n",
       "</style>\n",
       "<table border=\"1\" class=\"dataframe\">\n",
       "  <thead>\n",
       "    <tr style=\"text-align: right;\">\n",
       "      <th></th>\n",
       "      <th>price</th>\n",
       "      <th>vehicle_type</th>\n",
       "      <th>registration_year</th>\n",
       "      <th>gearbox</th>\n",
       "      <th>power</th>\n",
       "      <th>model</th>\n",
       "      <th>kilometer</th>\n",
       "      <th>registration_month</th>\n",
       "      <th>fuel_type</th>\n",
       "      <th>brand</th>\n",
       "      <th>not_repaired</th>\n",
       "    </tr>\n",
       "  </thead>\n",
       "  <tbody>\n",
       "    <tr>\n",
       "      <th>0</th>\n",
       "      <td>480</td>\n",
       "      <td>unknown</td>\n",
       "      <td>1993</td>\n",
       "      <td>manual</td>\n",
       "      <td>0</td>\n",
       "      <td>golf</td>\n",
       "      <td>150000</td>\n",
       "      <td>0</td>\n",
       "      <td>petrol</td>\n",
       "      <td>volkswagen</td>\n",
       "      <td>unknown</td>\n",
       "    </tr>\n",
       "    <tr>\n",
       "      <th>1</th>\n",
       "      <td>18300</td>\n",
       "      <td>coupe</td>\n",
       "      <td>2011</td>\n",
       "      <td>manual</td>\n",
       "      <td>190</td>\n",
       "      <td>unknown</td>\n",
       "      <td>125000</td>\n",
       "      <td>5</td>\n",
       "      <td>gasoline</td>\n",
       "      <td>audi</td>\n",
       "      <td>yes</td>\n",
       "    </tr>\n",
       "    <tr>\n",
       "      <th>2</th>\n",
       "      <td>9800</td>\n",
       "      <td>suv</td>\n",
       "      <td>2004</td>\n",
       "      <td>auto</td>\n",
       "      <td>163</td>\n",
       "      <td>grand</td>\n",
       "      <td>125000</td>\n",
       "      <td>8</td>\n",
       "      <td>gasoline</td>\n",
       "      <td>jeep</td>\n",
       "      <td>unknown</td>\n",
       "    </tr>\n",
       "    <tr>\n",
       "      <th>3</th>\n",
       "      <td>1500</td>\n",
       "      <td>small</td>\n",
       "      <td>2001</td>\n",
       "      <td>manual</td>\n",
       "      <td>75</td>\n",
       "      <td>golf</td>\n",
       "      <td>150000</td>\n",
       "      <td>6</td>\n",
       "      <td>petrol</td>\n",
       "      <td>volkswagen</td>\n",
       "      <td>no</td>\n",
       "    </tr>\n",
       "    <tr>\n",
       "      <th>4</th>\n",
       "      <td>3600</td>\n",
       "      <td>small</td>\n",
       "      <td>2008</td>\n",
       "      <td>manual</td>\n",
       "      <td>69</td>\n",
       "      <td>fabia</td>\n",
       "      <td>90000</td>\n",
       "      <td>7</td>\n",
       "      <td>gasoline</td>\n",
       "      <td>skoda</td>\n",
       "      <td>no</td>\n",
       "    </tr>\n",
       "  </tbody>\n",
       "</table>\n",
       "</div>"
      ],
      "text/plain": [
       "   price vehicle_type  registration_year gearbox  power    model  kilometer  \\\n",
       "0    480      unknown               1993  manual      0     golf     150000   \n",
       "1  18300        coupe               2011  manual    190  unknown     125000   \n",
       "2   9800          suv               2004    auto    163    grand     125000   \n",
       "3   1500        small               2001  manual     75     golf     150000   \n",
       "4   3600        small               2008  manual     69    fabia      90000   \n",
       "\n",
       "   registration_month fuel_type       brand not_repaired  \n",
       "0                   0    petrol  volkswagen      unknown  \n",
       "1                   5  gasoline        audi          yes  \n",
       "2                   8  gasoline        jeep      unknown  \n",
       "3                   6    petrol  volkswagen           no  \n",
       "4                   7  gasoline       skoda           no  "
      ]
     },
     "metadata": {},
     "output_type": "display_data"
    }
   ],
   "source": [
    "df[category_columns] = df[category_columns].fillna('unknown')\n",
    "display(df.head())\n"
   ]
  },
  {
   "cell_type": "markdown",
   "metadata": {},
   "source": [
    "### Проверка корреляции"
   ]
  },
  {
   "cell_type": "code",
   "execution_count": 237,
   "metadata": {},
   "outputs": [
    {
     "data": {
      "text/plain": [
       "<AxesSubplot:>"
      ]
     },
     "execution_count": 237,
     "metadata": {},
     "output_type": "execute_result"
    },
    {
     "data": {
      "image/png": "[encoded data removed]",
      "text/plain": [
       "<Figure size 432x288 with 2 Axes>"
      ]
     },
     "metadata": {
      "needs_background": "light"
     },
     "output_type": "display_data"
    }
   ],
   "source": [
    "#посчитаем корреляцияю\n",
    "sns.heatmap(df.corr(), annot = True)"
   ]
  },
  {
   "cell_type": "markdown",
   "metadata": {
    "scrolled": false
   },
   "source": [
    "**Вывод**    \n",
    "Проверка корреляции является методом определения линейной зависимости между параметрами. С его помощью можно определить какие функции больше всего влияют на целевую переменную.    \n",
    "Исходя из полученных данных, мы видим, что линейная связь практически у всех признаков слабая или отсутствует полностью. Однако стоит обратить внимание, что признак kilometer(пробег, км) оказывает влияние на наш целевой признак price(цена,евро). Коэффициент отрицательный, а значит рост одной величины связан с уменьшением другой. Т.о., чем больше пробег автомобиля, тем ниже будет его рыночная цена."
   ]
  },
  {
   "cell_type": "markdown",
   "metadata": {},
   "source": [
    "### Анализ редких и выбивающихся значений"
   ]
  },
  {
   "cell_type": "code",
   "execution_count": 238,
   "metadata": {
    "scrolled": true
   },
   "outputs": [
    {
     "data": {
      "image/png": "[encoded data removed]",
      "text/plain": [
       "<Figure size 432x288 with 1 Axes>"
      ]
     },
     "metadata": {
      "needs_background": "light"
     },
     "output_type": "display_data"
    }
   ],
   "source": [
    "#постороим диаграмму размаха для определения выбросов\n",
    "sns.boxplot(data=df, y='registration_year', x='registration_month')\n",
    "plt.show()"
   ]
  },
  {
   "cell_type": "markdown",
   "metadata": {},
   "source": [
    "#### Исследование месяца регистрации"
   ]
  },
  {
   "cell_type": "markdown",
   "metadata": {},
   "source": [
    "Из диаграммы мы видим, что большое количество значений сконцентрированно у значения 0, что может говорить о том, что пользователи, размещающие анкеты не знают этой информации, либо не считают важной. Для проверки этого предложения, постороим гистограмму по параметру - месяц регистрации.     "
   ]
  },
  {
   "cell_type": "code",
   "execution_count": 239,
   "metadata": {
    "scrolled": true
   },
   "outputs": [
    {
     "data": {
      "image/png": "[encoded data removed]",
      "text/plain": [
       "<Figure size 432x288 with 1 Axes>"
      ]
     },
     "metadata": {
      "needs_background": "light"
     },
     "output_type": "display_data"
    }
   ],
   "source": [
    "#Построем гистограмму для параметра 'registration_month'.\n",
    "df.plot(y='registration_month', kind='hist',title='Исследование месяца регистрации', grid=True, bins=15, range=(0, 12))\n",
    "plt.show()"
   ]
  },
  {
   "cell_type": "markdown",
   "metadata": {},
   "source": [
    "Значений с нулевым месяцем действительно много, но в целом, мы видим, что значения по месяцам распределены достаточно равномерно. А значит можно сделать вывод о том, что на диаграмме размаха мы видим, что в графе с нулевым значением скорее всего будет также указан неверный год.\n",
    "Удалим нулевые значения в столбце месяц регистрации."
   ]
  },
  {
   "cell_type": "code",
   "execution_count": 240,
   "metadata": {},
   "outputs": [],
   "source": [
    "#удалим нулевые значения\n",
    "df_filt_month = df.loc[df['registration_month'] != 0] #датафрейм без нулевых значений в стобце registration_month"
   ]
  },
  {
   "cell_type": "code",
   "execution_count": 241,
   "metadata": {},
   "outputs": [
    {
     "name": "stdout",
     "output_type": "stream",
     "text": [
      "Процент удаленных строк 10.635016797929172\n"
     ]
    }
   ],
   "source": [
    "#процент удаленных строк\n",
    "procent_month = (df.shape[0] - df_filt_month.shape[0])/df.shape[0] * 100\n",
    "print('Процент удаленных строк', procent_month)"
   ]
  },
  {
   "cell_type": "markdown",
   "metadata": {},
   "source": [
    "Процент потери данных при удалении очень большой, судя по графику корреляции, месяц регистрации практически не влияет на ценообразование. Чтобы сохранить данные других столбцов, удалим столбец с месяцем регистрации."
   ]
  },
  {
   "cell_type": "code",
   "execution_count": 242,
   "metadata": {},
   "outputs": [
    {
     "data": {
      "text/html": [
       "<div>\n",
       "<style scoped>\n",
       "    .dataframe tbody tr th:only-of-type {\n",
       "        vertical-align: middle;\n",
       "    }\n",
       "\n",
       "    .dataframe tbody tr th {\n",
       "        vertical-align: top;\n",
       "    }\n",
       "\n",
       "    .dataframe thead th {\n",
       "        text-align: right;\n",
       "    }\n",
       "</style>\n",
       "<table border=\"1\" class=\"dataframe\">\n",
       "  <thead>\n",
       "    <tr style=\"text-align: right;\">\n",
       "      <th></th>\n",
       "      <th>price</th>\n",
       "      <th>vehicle_type</th>\n",
       "      <th>registration_year</th>\n",
       "      <th>gearbox</th>\n",
       "      <th>power</th>\n",
       "      <th>model</th>\n",
       "      <th>kilometer</th>\n",
       "      <th>fuel_type</th>\n",
       "      <th>brand</th>\n",
       "      <th>not_repaired</th>\n",
       "    </tr>\n",
       "  </thead>\n",
       "  <tbody>\n",
       "    <tr>\n",
       "      <th>0</th>\n",
       "      <td>480</td>\n",
       "      <td>unknown</td>\n",
       "      <td>1993</td>\n",
       "      <td>manual</td>\n",
       "      <td>0</td>\n",
       "      <td>golf</td>\n",
       "      <td>150000</td>\n",
       "      <td>petrol</td>\n",
       "      <td>volkswagen</td>\n",
       "      <td>unknown</td>\n",
       "    </tr>\n",
       "    <tr>\n",
       "      <th>1</th>\n",
       "      <td>18300</td>\n",
       "      <td>coupe</td>\n",
       "      <td>2011</td>\n",
       "      <td>manual</td>\n",
       "      <td>190</td>\n",
       "      <td>unknown</td>\n",
       "      <td>125000</td>\n",
       "      <td>gasoline</td>\n",
       "      <td>audi</td>\n",
       "      <td>yes</td>\n",
       "    </tr>\n",
       "    <tr>\n",
       "      <th>2</th>\n",
       "      <td>9800</td>\n",
       "      <td>suv</td>\n",
       "      <td>2004</td>\n",
       "      <td>auto</td>\n",
       "      <td>163</td>\n",
       "      <td>grand</td>\n",
       "      <td>125000</td>\n",
       "      <td>gasoline</td>\n",
       "      <td>jeep</td>\n",
       "      <td>unknown</td>\n",
       "    </tr>\n",
       "    <tr>\n",
       "      <th>3</th>\n",
       "      <td>1500</td>\n",
       "      <td>small</td>\n",
       "      <td>2001</td>\n",
       "      <td>manual</td>\n",
       "      <td>75</td>\n",
       "      <td>golf</td>\n",
       "      <td>150000</td>\n",
       "      <td>petrol</td>\n",
       "      <td>volkswagen</td>\n",
       "      <td>no</td>\n",
       "    </tr>\n",
       "    <tr>\n",
       "      <th>4</th>\n",
       "      <td>3600</td>\n",
       "      <td>small</td>\n",
       "      <td>2008</td>\n",
       "      <td>manual</td>\n",
       "      <td>69</td>\n",
       "      <td>fabia</td>\n",
       "      <td>90000</td>\n",
       "      <td>gasoline</td>\n",
       "      <td>skoda</td>\n",
       "      <td>no</td>\n",
       "    </tr>\n",
       "  </tbody>\n",
       "</table>\n",
       "</div>"
      ],
      "text/plain": [
       "   price vehicle_type  registration_year gearbox  power    model  kilometer  \\\n",
       "0    480      unknown               1993  manual      0     golf     150000   \n",
       "1  18300        coupe               2011  manual    190  unknown     125000   \n",
       "2   9800          suv               2004    auto    163    grand     125000   \n",
       "3   1500        small               2001  manual     75     golf     150000   \n",
       "4   3600        small               2008  manual     69    fabia      90000   \n",
       "\n",
       "  fuel_type       brand not_repaired  \n",
       "0    petrol  volkswagen      unknown  \n",
       "1  gasoline        audi          yes  \n",
       "2  gasoline        jeep      unknown  \n",
       "3    petrol  volkswagen           no  \n",
       "4  gasoline       skoda           no  "
      ]
     },
     "metadata": {},
     "output_type": "display_data"
    }
   ],
   "source": [
    "df = df.drop(['registration_month'], axis=1)\n",
    "display(df.head())"
   ]
  },
  {
   "cell_type": "markdown",
   "metadata": {},
   "source": [
    "#### Исследование года регистрации"
   ]
  },
  {
   "cell_type": "markdown",
   "metadata": {},
   "source": [
    "Известно что, только в 1885 году появился повсеместно используемый сегодня газолиновый или бензиновый двигатель внутреннего сгорания. Также значения ниже этого года мы отметаем сразу. В конце 1980-х гг. на территорию Советского Союза начали проникать иномарки, а значит, мы можем рассмотреть данные начиная с этого года по 2016 год( год выгрузки последней анкеты). Сравним значения предложенныенами, со значениями определенными с помощью диаграммы размаха."
   ]
  },
  {
   "cell_type": "code",
   "execution_count": 243,
   "metadata": {},
   "outputs": [
    {
     "name": "stdout",
     "output_type": "stream",
     "text": [
      "2016\n",
      "1985.5\n"
     ]
    }
   ],
   "source": [
    "#рассчитаем крайние значения 'усов'\n",
    "Q3 = df['registration_year'].describe()['75%'] #Третий квартиль\n",
    "Q1 = df['registration_year'].describe()['25%'] #Первый квартиль \n",
    "IQR = Q3-Q1 #Межквартильный размах \n",
    "right_mustache = 2016 #правый ус. По границе выгрузки последней анкеты\n",
    "left_mustache = Q1 - 1.5*IQR #правый ус. Левый ус\n",
    "print(right_mustache)\n",
    "print(left_mustache)"
   ]
  },
  {
   "cell_type": "code",
   "execution_count": 244,
   "metadata": {
    "scrolled": true
   },
   "outputs": [
    {
     "name": "stdout",
     "output_type": "stream",
     "text": [
      "Количество строк в отфильтрованной таблице: 307776\n",
      "Количество строк в исходной таблице: 326826\n"
     ]
    }
   ],
   "source": [
    "#отфильтруем выбивающиеся значения по диаграмме размаха.\n",
    "df_filt_year = df.query('1985 <= registration_year <= 2016')\n",
    "print('Количество строк в отфильтрованной таблице:',df_filt_year.shape[0])\n",
    "print('Количество строк в исходной таблице:',df.shape[0])"
   ]
  },
  {
   "cell_type": "code",
   "execution_count": 245,
   "metadata": {
    "scrolled": true
   },
   "outputs": [
    {
     "name": "stdout",
     "output_type": "stream",
     "text": [
      "Процент удаленных строк 5.828789631179894\n"
     ]
    }
   ],
   "source": [
    "#процент удаленных строк\n",
    "procent_year = (df.shape[0] - df_filt_year.shape[0])/df.shape[0] * 100\n",
    "print('Процент удаленных строк', procent_year)"
   ]
  },
  {
   "cell_type": "code",
   "execution_count": 246,
   "metadata": {
    "scrolled": true
   },
   "outputs": [
    {
     "data": {
      "text/html": [
       "<div>\n",
       "<style scoped>\n",
       "    .dataframe tbody tr th:only-of-type {\n",
       "        vertical-align: middle;\n",
       "    }\n",
       "\n",
       "    .dataframe tbody tr th {\n",
       "        vertical-align: top;\n",
       "    }\n",
       "\n",
       "    .dataframe thead th {\n",
       "        text-align: right;\n",
       "    }\n",
       "</style>\n",
       "<table border=\"1\" class=\"dataframe\">\n",
       "  <thead>\n",
       "    <tr style=\"text-align: right;\">\n",
       "      <th></th>\n",
       "      <th>price</th>\n",
       "      <th>registration_year</th>\n",
       "      <th>power</th>\n",
       "      <th>kilometer</th>\n",
       "    </tr>\n",
       "  </thead>\n",
       "  <tbody>\n",
       "    <tr>\n",
       "      <th>count</th>\n",
       "      <td>307776.000000</td>\n",
       "      <td>307776.000000</td>\n",
       "      <td>307776.000000</td>\n",
       "      <td>307776.000000</td>\n",
       "    </tr>\n",
       "    <tr>\n",
       "      <th>mean</th>\n",
       "      <td>4433.295845</td>\n",
       "      <td>2002.924676</td>\n",
       "      <td>111.773156</td>\n",
       "      <td>128596.576731</td>\n",
       "    </tr>\n",
       "    <tr>\n",
       "      <th>std</th>\n",
       "      <td>4532.643343</td>\n",
       "      <td>5.913553</td>\n",
       "      <td>191.958371</td>\n",
       "      <td>37360.587757</td>\n",
       "    </tr>\n",
       "    <tr>\n",
       "      <th>min</th>\n",
       "      <td>0.000000</td>\n",
       "      <td>1985.000000</td>\n",
       "      <td>0.000000</td>\n",
       "      <td>5000.000000</td>\n",
       "    </tr>\n",
       "    <tr>\n",
       "      <th>25%</th>\n",
       "      <td>1000.000000</td>\n",
       "      <td>1999.000000</td>\n",
       "      <td>70.000000</td>\n",
       "      <td>125000.000000</td>\n",
       "    </tr>\n",
       "    <tr>\n",
       "      <th>50%</th>\n",
       "      <td>2750.000000</td>\n",
       "      <td>2003.000000</td>\n",
       "      <td>105.000000</td>\n",
       "      <td>150000.000000</td>\n",
       "    </tr>\n",
       "    <tr>\n",
       "      <th>75%</th>\n",
       "      <td>6450.000000</td>\n",
       "      <td>2007.000000</td>\n",
       "      <td>143.000000</td>\n",
       "      <td>150000.000000</td>\n",
       "    </tr>\n",
       "    <tr>\n",
       "      <th>max</th>\n",
       "      <td>20000.000000</td>\n",
       "      <td>2016.000000</td>\n",
       "      <td>20000.000000</td>\n",
       "      <td>150000.000000</td>\n",
       "    </tr>\n",
       "  </tbody>\n",
       "</table>\n",
       "</div>"
      ],
      "text/plain": [
       "               price  registration_year          power      kilometer\n",
       "count  307776.000000      307776.000000  307776.000000  307776.000000\n",
       "mean     4433.295845        2002.924676     111.773156  128596.576731\n",
       "std      4532.643343           5.913553     191.958371   37360.587757\n",
       "min         0.000000        1985.000000       0.000000    5000.000000\n",
       "25%      1000.000000        1999.000000      70.000000  125000.000000\n",
       "50%      2750.000000        2003.000000     105.000000  150000.000000\n",
       "75%      6450.000000        2007.000000     143.000000  150000.000000\n",
       "max     20000.000000        2016.000000   20000.000000  150000.000000"
      ]
     },
     "execution_count": 246,
     "metadata": {},
     "output_type": "execute_result"
    }
   ],
   "source": [
    "df_filt_year.describe()"
   ]
  },
  {
   "cell_type": "markdown",
   "metadata": {},
   "source": [
    "При фильтрации данных будет утеряно 4.7% данных. Исходя из условий нашей задачи, мы можем удалить эти данные,т.к . они не информативны(дают нам заведомо ложную информацию). Для наглядности построим гистограмму и рассмотрим, как изменится корреляция, без этих данных."
   ]
  },
  {
   "cell_type": "code",
   "execution_count": 247,
   "metadata": {
    "scrolled": true
   },
   "outputs": [
    {
     "data": {
      "image/png": "[encoded data removed]",
      "text/plain": [
       "<Figure size 432x288 with 1 Axes>"
      ]
     },
     "metadata": {
      "needs_background": "light"
     },
     "output_type": "display_data"
    }
   ],
   "source": [
    "#Построем гистограмму для параметра 'registration_year'.\n",
    "df_filt_year.plot(y='registration_year', kind='hist',title='Исследование года регистрации', grid=True, bins=15, range=(1985, 2022))\n",
    "plt.show()"
   ]
  },
  {
   "cell_type": "markdown",
   "metadata": {},
   "source": [
    "Проверим корреляцию после корректировки данных."
   ]
  },
  {
   "cell_type": "code",
   "execution_count": 248,
   "metadata": {
    "scrolled": true
   },
   "outputs": [
    {
     "data": {
      "text/plain": [
       "<AxesSubplot:>"
      ]
     },
     "execution_count": 248,
     "metadata": {},
     "output_type": "execute_result"
    },
    {
     "data": {
      "image/png": "[encoded data removed]",
      "text/plain": [
       "<Figure size 432x288 with 2 Axes>"
      ]
     },
     "metadata": {
      "needs_background": "light"
     },
     "output_type": "display_data"
    }
   ],
   "source": [
    "#посчитаем корреляцияю\n",
    "sns.heatmap(df_filt_year.corr(), annot = True)"
   ]
  },
  {
   "cell_type": "markdown",
   "metadata": {},
   "source": [
    "Как мы видим, после удаления ненужных данных, корреляция сильно изменилась. Мы видим, что год регистрации авто и пробег влияют на ценообразование. Чем моложе автомобиль, тем выше цена, пробег же наоборот уменьшает стоимость, чем он больше, чем ниже цена. Также стоит отметить, что год регистрации автомобиля и пробег тоже связаны. Чем старше авто, тем меньше пробег."
   ]
  },
  {
   "cell_type": "markdown",
   "metadata": {},
   "source": [
    "#### Исследование мощности автомобиля"
   ]
  },
  {
   "cell_type": "markdown",
   "metadata": {},
   "source": [
    "Максимальная мощность, которую развивает автомобиль, равна 1600 лошадиным силам. Построим диаграмму размаха исходя из этих данных."
   ]
  },
  {
   "cell_type": "code",
   "execution_count": 249,
   "metadata": {
    "scrolled": true
   },
   "outputs": [
    {
     "data": {
      "text/plain": [
       "(0.0, 1600.0)"
      ]
     },
     "execution_count": 249,
     "metadata": {},
     "output_type": "execute_result"
    },
    {
     "data": {
      "image/png": "[encoded data removed]",
      "text/plain": [
       "<Figure size 432x288 with 1 Axes>"
      ]
     },
     "metadata": {
      "needs_background": "light"
     },
     "output_type": "display_data"
    }
   ],
   "source": [
    "#постороим диаграмму размаха для определения выбросов\n",
    "df_filt_year.boxplot(column='power')\n",
    "plt.ylim(0, 1600)"
   ]
  },
  {
   "cell_type": "code",
   "execution_count": 250,
   "metadata": {
    "scrolled": true
   },
   "outputs": [
    {
     "name": "stdout",
     "output_type": "stream",
     "text": [
      "252.5\n"
     ]
    }
   ],
   "source": [
    "#рассчитаем крайние значения 'усов'\n",
    "Q3 = df_filt_year['power'].describe()['75%'] #Третий квартиль\n",
    "Q1 = df_filt_year['power'].describe()['25%'] #Первый квартиль \n",
    "IQR = Q3-Q1 #Межквартильный размах \n",
    "right_mustache = Q3 + 1.5*IQR #правый ус.  Левый ус находится на границе с 0.\n",
    "print(right_mustache)"
   ]
  },
  {
   "cell_type": "markdown",
   "metadata": {},
   "source": [
    "Как всем известно, мощность автомобиля не может быть равна 0, это аномалия. Т.к. мы рассматриваем автомобили с 1985 года, возьмем минимальную мощность авто, произведенного в то время. Это 54 л.с. Максимальное значение, возьмем по правому \"усу\" диаграммы размаха."
   ]
  },
  {
   "cell_type": "code",
   "execution_count": 251,
   "metadata": {
    "scrolled": true
   },
   "outputs": [
    {
     "name": "stdout",
     "output_type": "stream",
     "text": [
      "Количество строк в отфильтрованной таблице: 259524\n",
      "Количество строк в исходной таблице: 307776\n"
     ]
    }
   ],
   "source": [
    "#отфильтруем выбивающиеся значения по диаграмме размаха.\n",
    "df_filt_year_pow = df_filt_year.query('54 <= power <= 247.5')\n",
    "print('Количество строк в отфильтрованной таблице:',df_filt_year_pow.shape[0])\n",
    "print('Количество строк в исходной таблице:',df_filt_year.shape[0])"
   ]
  },
  {
   "cell_type": "markdown",
   "metadata": {},
   "source": []
  },
  {
   "cell_type": "code",
   "execution_count": 252,
   "metadata": {
    "scrolled": true
   },
   "outputs": [
    {
     "name": "stdout",
     "output_type": "stream",
     "text": [
      "Процент удаленных строк из отфильтрованного датасета 15.677635683094199\n",
      "Процент удаленных строк из исходного датасета 20.592608911163737\n"
     ]
    }
   ],
   "source": [
    "#процент удаленных строк из отфильтрованного датасета\n",
    "procent_year_pow = (df_filt_year.shape[0] - df_filt_year_pow.shape[0])/df_filt_year.shape[0] * 100\n",
    "print('Процент удаленных строк из отфильтрованного датасета', procent_year_pow)\n",
    "#процент удаленных строк из исходного датасета\n",
    "procent_full = (df.shape[0] - df_filt_year_pow.shape[0])/df.shape[0] * 100\n",
    "print('Процент удаленных строк из исходного датасета', procent_full)\n"
   ]
  },
  {
   "cell_type": "markdown",
   "metadata": {},
   "source": [
    "Как мы видим, процент удаленных данных очень большой, поэтому трогать этот столбец мы не будем. "
   ]
  },
  {
   "cell_type": "markdown",
   "metadata": {
    "scrolled": true
   },
   "source": [
    "#### Исследование цены автомобиля"
   ]
  },
  {
   "cell_type": "markdown",
   "metadata": {},
   "source": [
    "При изучении данных в самом начале проект, мы обнаружили, что у целевого признака - цена, минимальное значение равно нулю. Так как этот признак очень важен и нам необходимо цену только с адекватными значениями."
   ]
  },
  {
   "cell_type": "code",
   "execution_count": 253,
   "metadata": {
    "scrolled": true
   },
   "outputs": [
    {
     "data": {
      "text/html": [
       "<div>\n",
       "<style scoped>\n",
       "    .dataframe tbody tr th:only-of-type {\n",
       "        vertical-align: middle;\n",
       "    }\n",
       "\n",
       "    .dataframe tbody tr th {\n",
       "        vertical-align: top;\n",
       "    }\n",
       "\n",
       "    .dataframe thead th {\n",
       "        text-align: right;\n",
       "    }\n",
       "</style>\n",
       "<table border=\"1\" class=\"dataframe\">\n",
       "  <thead>\n",
       "    <tr style=\"text-align: right;\">\n",
       "      <th></th>\n",
       "      <th>price</th>\n",
       "      <th>registration_year</th>\n",
       "      <th>power</th>\n",
       "      <th>kilometer</th>\n",
       "    </tr>\n",
       "  </thead>\n",
       "  <tbody>\n",
       "    <tr>\n",
       "      <th>count</th>\n",
       "      <td>299491.000000</td>\n",
       "      <td>299491.000000</td>\n",
       "      <td>299491.000000</td>\n",
       "      <td>299491.00000</td>\n",
       "    </tr>\n",
       "    <tr>\n",
       "      <th>mean</th>\n",
       "      <td>4555.936779</td>\n",
       "      <td>2002.995586</td>\n",
       "      <td>112.438681</td>\n",
       "      <td>128642.16287</td>\n",
       "    </tr>\n",
       "    <tr>\n",
       "      <th>std</th>\n",
       "      <td>4533.702249</td>\n",
       "      <td>5.872655</td>\n",
       "      <td>189.536171</td>\n",
       "      <td>37104.39360</td>\n",
       "    </tr>\n",
       "    <tr>\n",
       "      <th>min</th>\n",
       "      <td>1.000000</td>\n",
       "      <td>1985.000000</td>\n",
       "      <td>0.000000</td>\n",
       "      <td>5000.00000</td>\n",
       "    </tr>\n",
       "    <tr>\n",
       "      <th>25%</th>\n",
       "      <td>1199.000000</td>\n",
       "      <td>1999.000000</td>\n",
       "      <td>72.000000</td>\n",
       "      <td>125000.00000</td>\n",
       "    </tr>\n",
       "    <tr>\n",
       "      <th>50%</th>\n",
       "      <td>2850.000000</td>\n",
       "      <td>2003.000000</td>\n",
       "      <td>105.000000</td>\n",
       "      <td>150000.00000</td>\n",
       "    </tr>\n",
       "    <tr>\n",
       "      <th>75%</th>\n",
       "      <td>6500.000000</td>\n",
       "      <td>2007.000000</td>\n",
       "      <td>143.000000</td>\n",
       "      <td>150000.00000</td>\n",
       "    </tr>\n",
       "    <tr>\n",
       "      <th>max</th>\n",
       "      <td>20000.000000</td>\n",
       "      <td>2016.000000</td>\n",
       "      <td>20000.000000</td>\n",
       "      <td>150000.00000</td>\n",
       "    </tr>\n",
       "  </tbody>\n",
       "</table>\n",
       "</div>"
      ],
      "text/plain": [
       "               price  registration_year          power     kilometer\n",
       "count  299491.000000      299491.000000  299491.000000  299491.00000\n",
       "mean     4555.936779        2002.995586     112.438681  128642.16287\n",
       "std      4533.702249           5.872655     189.536171   37104.39360\n",
       "min         1.000000        1985.000000       0.000000    5000.00000\n",
       "25%      1199.000000        1999.000000      72.000000  125000.00000\n",
       "50%      2850.000000        2003.000000     105.000000  150000.00000\n",
       "75%      6500.000000        2007.000000     143.000000  150000.00000\n",
       "max     20000.000000        2016.000000   20000.000000  150000.00000"
      ]
     },
     "execution_count": 253,
     "metadata": {},
     "output_type": "execute_result"
    }
   ],
   "source": [
    "#удалим нулевые значения\n",
    "df_total = df_filt_year.loc[df_filt_year['price'] != 0]\n",
    "df_total.describe()"
   ]
  },
  {
   "cell_type": "markdown",
   "metadata": {},
   "source": [
    "### Преобразование категориальных признаков"
   ]
  },
  {
   "cell_type": "code",
   "execution_count": 254,
   "metadata": {},
   "outputs": [
    {
     "data": {
      "text/plain": [
       "['not_repaired', 'vehicle_type', 'model', 'fuel_type', 'gearbox', 'brand']"
      ]
     },
     "execution_count": 254,
     "metadata": {},
     "output_type": "execute_result"
    }
   ],
   "source": [
    "df_total.columns\n",
    "category_columns"
   ]
  },
  {
   "cell_type": "code",
   "execution_count": 255,
   "metadata": {},
   "outputs": [],
   "source": [
    "#преобразуем категориальные признаки в численные с помощью OrdinalEncoder()\n",
    "ord_enc = OrdinalEncoder()\n",
    "df_total[category_columns] = ord_enc.fit_transform(df_total[category_columns])\n",
    "\n",
    "#преобразуем тип данных категориальных признаков\n",
    "df_total[category_columns] = df_total[category_columns].astype('category')"
   ]
  },
  {
   "cell_type": "markdown",
   "metadata": {},
   "source": [
    "## Обучение моделей"
   ]
  },
  {
   "cell_type": "markdown",
   "metadata": {},
   "source": [
    "### Определение выборок "
   ]
  },
  {
   "cell_type": "code",
   "execution_count": 256,
   "metadata": {
    "scrolled": true
   },
   "outputs": [
    {
     "name": "stdout",
     "output_type": "stream",
     "text": [
      "(299491, 9)\n",
      "(299491,)\n"
     ]
    }
   ],
   "source": [
    "#извлечем признаки\n",
    "features = df_total.drop(['price'], axis=1) # извлекаем признаки\n",
    "target = df_total['price'] # извлекаем целевой признак\n",
    "print(features.shape)\n",
    "print(target.shape)"
   ]
  },
  {
   "cell_type": "code",
   "execution_count": 257,
   "metadata": {
    "scrolled": true
   },
   "outputs": [
    {
     "name": "stdout",
     "output_type": "stream",
     "text": [
      "(179694, 9)\n",
      "(119797, 9)\n"
     ]
    }
   ],
   "source": [
    "#разделите данные на обучающую и тестовую выборки \n",
    "features_train, features_test, target_train, target_test = train_test_split(\n",
    "        features, target, test_size=0.4,train_size=0.6, random_state = 12345)\n",
    "print(features_train.shape)\n",
    "print(features_test.shape)"
   ]
  },
  {
   "cell_type": "code",
   "execution_count": 258,
   "metadata": {},
   "outputs": [],
   "source": [
    "# создадим кросс-валидатор для последующего обучения моделей\n",
    "cv = KFold(n_splits=3, shuffle=True, random_state=12345)\n",
    "# словарь для результатов обучения\n",
    "train_score = {}"
   ]
  },
  {
   "cell_type": "markdown",
   "metadata": {},
   "source": [
    "### Масштабирование признаков"
   ]
  },
  {
   "cell_type": "code",
   "execution_count": 259,
   "metadata": {},
   "outputs": [],
   "source": [
    "warnings.filterwarnings('ignore')\n",
    "#применим метод масштабирования — стандартизация данных\n",
    "numeric = ['registration_year', 'power', 'kilometer']\n",
    "scaler = StandardScaler()\n",
    "scaler.fit(features_train[numeric])\n",
    "features_train[numeric] = scaler.transform(features_train[numeric])\n",
    "features_test[numeric] = scaler.transform(features_test[numeric])\n",
    "#display(features_train.head())"
   ]
  },
  {
   "cell_type": "markdown",
   "metadata": {},
   "source": [
    "Обучим модели( LightGBM, LinearRegression, RandomForestRegressor) и измерим время выполнения кода и rmse для моделей "
   ]
  },
  {
   "cell_type": "markdown",
   "metadata": {},
   "source": [
    "### LightGBM"
   ]
  },
  {
   "cell_type": "code",
   "execution_count": 260,
   "metadata": {},
   "outputs": [
    {
     "data": {
      "text/plain": [
       "GridSearchCV(cv=KFold(n_splits=3, random_state=12345, shuffle=True),\n",
       "             estimator=LGBMRegressor(random_state=12345),\n",
       "             param_grid={'learning_rate': [0.01, 0.02, 0.05, 0.1, 0.15],\n",
       "                         'n_estimators': range(10, 101, 10)},\n",
       "             scoring='neg_mean_squared_error')"
      ]
     },
     "execution_count": 260,
     "metadata": {},
     "output_type": "execute_result"
    }
   ],
   "source": [
    "lgbm = LGBMRegressor(random_state=12345)\n",
    "parameters = {'n_estimators': range (10, 101, 10),\n",
    "#             'max_depth':[5, 10, 15]}\n",
    "              'learning_rate': [0.01, 0.02, 0.05, 0.1, 0.15]}\n",
    "gsearch = GridSearchCV(lgbm, parameters, cv=cv,scoring='neg_mean_squared_error')\n",
    "gsearch.fit(features_train, target_train)\n"
   ]
  },
  {
   "cell_type": "code",
   "execution_count": 261,
   "metadata": {},
   "outputs": [
    {
     "name": "stdout",
     "output_type": "stream",
     "text": [
      "Best score: 2489211.742\n",
      "Best parameters set:\n",
      "\tlearning_rate: 0.15\n",
      "\tn_estimators: 100\n"
     ]
    }
   ],
   "source": [
    "best_score = gsearch.best_score_ * (-1)\n",
    "print(\"Best score: %0.3f\" % best_score)\n",
    "\n",
    "print(\"Best parameters set:\")\n",
    "best_parameters = gsearch.best_estimator_.get_params()\n",
    "for param_name in sorted(parameters.keys()):\n",
    "    print(\"\\t%s: %r\" % (param_name, best_parameters[param_name]))"
   ]
  },
  {
   "cell_type": "code",
   "execution_count": 262,
   "metadata": {},
   "outputs": [],
   "source": [
    "#определим индекс с лучшими параметрами\n",
    "best_index_lgbm = gsearch.best_index_"
   ]
  },
  {
   "cell_type": "code",
   "execution_count": 263,
   "metadata": {},
   "outputs": [],
   "source": [
    "#получим всю информацию по обучению\n",
    "result_lgbm = pd.DataFrame(gsearch.cv_results_)\n",
    "result_lgbm.columns\n",
    "best_result_lgbm = result_lgbm.filter(regex='^(?:mean|param)')\n",
    "train_time_lgbm = best_result_lgbm['mean_fit_time'].loc[best_result_lgbm.index[best_index_lgbm]]\n",
    "predict_time_lgbm = best_result_lgbm['mean_score_time'].loc[best_result_lgbm.index[best_index_lgbm]]\n"
   ]
  },
  {
   "cell_type": "code",
   "execution_count": 264,
   "metadata": {},
   "outputs": [],
   "source": [
    "booster = lgb.LGBMModel(objective=\"regression\", n_estimators=100, learning_rate=0.15)\n",
    "booster.fit(features_train, target_train)\n",
    "\n",
    "predicted_train = booster.predict(features_train)\n",
    "rmse_train_lgbm = (mean_squared_error(target_train, predicted_train))**0.5  \n",
    "\n",
    "#predicted_test = booster.predict(features_test)\n",
    "#rmse_test = (mean_squared_error(target_test, predicted_test))**0.5   \n"
   ]
  },
  {
   "cell_type": "code",
   "execution_count": 265,
   "metadata": {},
   "outputs": [
    {
     "data": {
      "text/plain": [
       "[1494.1086522963903,\n",
       " 2489211.7423238046,\n",
       " 3.2974509398142495,\n",
       " 0.6112782955169678]"
      ]
     },
     "metadata": {},
     "output_type": "display_data"
    }
   ],
   "source": [
    "train_score['LightGBM'] = [rmse_train_lgbm, best_score, train_time_lgbm, predict_time_lgbm]\n",
    "display(train_score['LightGBM'])"
   ]
  },
  {
   "cell_type": "markdown",
   "metadata": {},
   "source": [
    "### LinearRegression"
   ]
  },
  {
   "cell_type": "code",
   "execution_count": 291,
   "metadata": {
    "scrolled": true
   },
   "outputs": [
    {
     "data": {
      "text/plain": [
       "[10396571.940972883, 10416628.313478664, 10491803.858643176]"
      ]
     },
     "metadata": {},
     "output_type": "display_data"
    }
   ],
   "source": [
    "start_time_l_train = time.time()\n",
    "lr_model = LinearRegression()\n",
    "lr_model.fit(features_train, target_train)\n",
    "end_time_l_train = time.time() - start_time_l_train\n",
    "\n",
    "\n",
    "start_time_l_pred = time.time()\n",
    "predicted_train = lr_model.predict(features_train)\n",
    "rmse_train = (mean_squared_error(target_train, predicted_train))**0.5  \n",
    "end_time_l_pred = time.time() - start_time_l_pred \n",
    "\n",
    "\n",
    "best_score_lr = cross_val_score(lr_model, features_train, target_train, scoring='neg_mean_squared_error', cv=cv)*(-1)\n",
    "best_score_lr = sorted(best_score_lr)\n",
    "display(best_score_lr) #выбирем наименьшее значение"
   ]
  },
  {
   "cell_type": "code",
   "execution_count": 290,
   "metadata": {
    "scrolled": true
   },
   "outputs": [
    {
     "data": {
      "text/plain": [
       "[3229.9508055017186,\n",
       " 10396571.940972883,\n",
       " 0.03111577033996582,\n",
       " 0.010159969329833984]"
      ]
     },
     "metadata": {},
     "output_type": "display_data"
    }
   ],
   "source": [
    "train_score['LinearRegression'] = [rmse_train, best_score_lr[0], end_time_l_train, end_time_l_pred]\n",
    "display(train_score['LinearRegression'])"
   ]
  },
  {
   "cell_type": "markdown",
   "metadata": {},
   "source": [
    "### DecisionTreeRegressor"
   ]
  },
  {
   "cell_type": "code",
   "execution_count": 293,
   "metadata": {},
   "outputs": [
    {
     "data": {
      "text/plain": [
       "GridSearchCV(cv=KFold(n_splits=3, random_state=12345, shuffle=True),\n",
       "             estimator=DecisionTreeRegressor(random_state=12345),\n",
       "             param_grid={'max_depth': range(1, 11),\n",
       "                         'min_samples_split': range(2, 10, 2)},\n",
       "             scoring='neg_mean_squared_error')"
      ]
     },
     "execution_count": 293,
     "metadata": {},
     "output_type": "execute_result"
    }
   ],
   "source": [
    "dtc = DecisionTreeRegressor(random_state=12345)\n",
    "parameters = {'max_depth': range (1, 11, 1),\n",
    "             'min_samples_split': range (2,10,2)}\n",
    "grid = GridSearchCV(dtc, parameters, cv=cv, scoring='neg_mean_squared_error')\n",
    "grid.fit(features_train, target_train)\n"
   ]
  },
  {
   "cell_type": "code",
   "execution_count": 306,
   "metadata": {
    "scrolled": true
   },
   "outputs": [
    {
     "name": "stdout",
     "output_type": "stream",
     "text": [
      "Best score: 3892988.224\n",
      "Best parameters set:\n",
      "\tmax_depth: 10\n",
      "\tmin_samples_split: 8\n"
     ]
    }
   ],
   "source": [
    "best_score_dtr = grid.best_score_ *(-1)\n",
    "print(\"Best score: %0.3f\" % best_score_dtr)\n",
    "\n",
    "print(\"Best parameters set:\")\n",
    "best_parameters_dtr = grid.best_estimator_.get_params()\n",
    "for param_name in sorted(parameters.keys()):\n",
    "    print(\"\\t%s: %r\" % (param_name, best_parameters_dtr[param_name]))\n"
   ]
  },
  {
   "cell_type": "code",
   "execution_count": 307,
   "metadata": {},
   "outputs": [],
   "source": [
    "#определим индекс с лучшими параметрами\n",
    "best_index_dtr = grid.best_index_"
   ]
  },
  {
   "cell_type": "code",
   "execution_count": 308,
   "metadata": {},
   "outputs": [],
   "source": [
    "result_dtr = pd.DataFrame(grid.cv_results_)\n",
    "result_dtr.columns\n",
    "best_result_dtr = result_dtr.filter(regex='^(?:mean|param)')\n",
    "train_time_dtr = best_result_dtr['mean_fit_time'].loc[best_result_dtr.index[best_index_dtr]]\n",
    "predict_time_dtr = best_result_dtr['mean_score_time'].loc[best_result_dtr.index[best_index_dtr]]\n"
   ]
  },
  {
   "cell_type": "code",
   "execution_count": 309,
   "metadata": {},
   "outputs": [],
   "source": [
    "dtc_model = DecisionTreeRegressor(random_state=12345, max_depth=10, min_samples_split=8) # обучим модель с заданной глубиной дерева\n",
    "dtc_model.fit(features_train,target_train) # обучим модель вызовом метода fit()\n",
    "    \n",
    "predicted_train = dtc_model.predict(features_train) # получим предсказания модели\n",
    "rmse_train = (mean_squared_error(target_train, predicted_train))**0.5 \n",
    "    \n",
    "#predicted_test = dtc_model.predict(features_test)\n",
    "#rmse_test = (mean_squared_error(target_test, predicted_test))**0.5   "
   ]
  },
  {
   "cell_type": "code",
   "execution_count": 310,
   "metadata": {},
   "outputs": [
    {
     "data": {
      "text/plain": [
       "[1849.8465129824922,\n",
       " 3892988.223815596,\n",
       " 0.23719429969787598,\n",
       " 0.010281244913736979]"
      ]
     },
     "metadata": {},
     "output_type": "display_data"
    }
   ],
   "source": [
    "train_score['DecisionTreeRegressor'] = [rmse_train, best_score_dtr, train_time_dtr, predict_time_dtr]\n",
    "display(train_score['DecisionTreeRegressor'])"
   ]
  },
  {
   "cell_type": "markdown",
   "metadata": {},
   "source": [
    "## Анализ моделей"
   ]
  },
  {
   "cell_type": "code",
   "execution_count": 311,
   "metadata": {
    "scrolled": true
   },
   "outputs": [
    {
     "data": {
      "text/html": [
       "<div>\n",
       "<style scoped>\n",
       "    .dataframe tbody tr th:only-of-type {\n",
       "        vertical-align: middle;\n",
       "    }\n",
       "\n",
       "    .dataframe tbody tr th {\n",
       "        vertical-align: top;\n",
       "    }\n",
       "\n",
       "    .dataframe thead th {\n",
       "        text-align: right;\n",
       "    }\n",
       "</style>\n",
       "<table border=\"1\" class=\"dataframe\">\n",
       "  <thead>\n",
       "    <tr style=\"text-align: right;\">\n",
       "      <th></th>\n",
       "      <th>RMSE_train</th>\n",
       "      <th>best_score</th>\n",
       "      <th>train_time</th>\n",
       "      <th>predict_time</th>\n",
       "    </tr>\n",
       "  </thead>\n",
       "  <tbody>\n",
       "    <tr>\n",
       "      <th>LightGBM</th>\n",
       "      <td>1494.108652</td>\n",
       "      <td>2.489212e+06</td>\n",
       "      <td>3.297451</td>\n",
       "      <td>0.611278</td>\n",
       "    </tr>\n",
       "    <tr>\n",
       "      <th>LinearRegression</th>\n",
       "      <td>3229.950806</td>\n",
       "      <td>1.039657e+07</td>\n",
       "      <td>0.031116</td>\n",
       "      <td>0.010160</td>\n",
       "    </tr>\n",
       "    <tr>\n",
       "      <th>DecisionTreeRegressor</th>\n",
       "      <td>1849.846513</td>\n",
       "      <td>3.892988e+06</td>\n",
       "      <td>0.237194</td>\n",
       "      <td>0.010281</td>\n",
       "    </tr>\n",
       "  </tbody>\n",
       "</table>\n",
       "</div>"
      ],
      "text/plain": [
       "                        RMSE_train    best_score  train_time  predict_time\n",
       "LightGBM               1494.108652  2.489212e+06    3.297451      0.611278\n",
       "LinearRegression       3229.950806  1.039657e+07    0.031116      0.010160\n",
       "DecisionTreeRegressor  1849.846513  3.892988e+06    0.237194      0.010281"
      ]
     },
     "metadata": {},
     "output_type": "display_data"
    }
   ],
   "source": [
    "df_score = pd.DataFrame.from_dict(data = train_score, orient='index', columns=['RMSE_train', 'best_score','train_time', 'predict_time'])\n",
    "display(df_score)"
   ]
  },
  {
   "cell_type": "code",
   "execution_count": 312,
   "metadata": {
    "scrolled": false
   },
   "outputs": [
    {
     "data": {
      "text/plain": [
       "<AxesSubplot:>"
      ]
     },
     "execution_count": 312,
     "metadata": {},
     "output_type": "execute_result"
    },
    {
     "data": {
      "image/png": "[encoded data removed]",
      "text/plain": [
       "<Figure size 432x288 with 1 Axes>"
      ]
     },
     "metadata": {
      "needs_background": "light"
     },
     "output_type": "display_data"
    },
    {
     "data": {
      "image/png": "[encoded data removed]",
      "text/plain": [
       "<Figure size 432x288 with 1 Axes>"
      ]
     },
     "metadata": {
      "needs_background": "light"
     },
     "output_type": "display_data"
    },
    {
     "data": {
      "image/png": "[encoded data removed]",
      "text/plain": [
       "<Figure size 432x288 with 1 Axes>"
      ]
     },
     "metadata": {
      "needs_background": "light"
     },
     "output_type": "display_data"
    }
   ],
   "source": [
    "#для лучшей визуализации, построим графики\n",
    "df_score.plot(kind=\"bar\", y=['RMSE_train'])\n",
    "df_score.plot(kind=\"bar\", y=['best_score'])\n",
    "df_score.plot(kind=\"bar\", y=['train_time', 'predict_time'])"
   ]
  },
  {
   "cell_type": "markdown",
   "metadata": {},
   "source": [
    "**Вывод**"
   ]
  },
  {
   "cell_type": "markdown",
   "metadata": {},
   "source": [
    "Исходя из наших рассчетов, мы можем сделать вывод о том, что нам могут подойти две модели. LightGBM\tимеет лучшие показатели RMSE и оценку модели, однако успутает по времени обучения и предсказания двум другим моделям. Модель DecisionTreeRegressor имеет хорошие показатели по времени обучени и предсказания, однако очень сильно уступает по оценке качества модели. Худшей моделью из рассмотренных является LinearRegression. В нашем проекте модель LightGBM является лучшей. Проверим её на тестовой выборке."
   ]
  },
  {
   "cell_type": "markdown",
   "metadata": {},
   "source": [
    "### Проверка лучшей модели на тестовой выборке"
   ]
  },
  {
   "cell_type": "code",
   "execution_count": 304,
   "metadata": {
    "scrolled": true
   },
   "outputs": [
    {
     "name": "stdout",
     "output_type": "stream",
     "text": [
      "Best score_test: 2489211.742\n",
      "RMSE наилучшей модели на тестовой выборке: 1559.6266132078765\n"
     ]
    }
   ],
   "source": [
    "\n",
    "gsearch.fit(features_test, target_test)\n",
    "\n",
    "best_score_test = gsearch.best_score_ * (-1)\n",
    "print(\"Best score_test: %0.3f\" % best_score_test)\n",
    "\n",
    "booster_test = lgb.LGBMModel(objective=\"regression\", n_estimators=100, learning_rate=0.15)\n",
    "booster_test.fit(features_train, target_train)\n",
    "\n",
    "predicted_test = booster_test.predict(features_test)\n",
    "rmse_test_lgbm = (mean_squared_error(target_test, predicted_test))**0.5  \n",
    "\n",
    "print(\"RMSE наилучшей модели на тестовой выборке:\", rmse_test_lgbm)\n",
    "\n"
   ]
  },
  {
   "cell_type": "code",
   "execution_count": 305,
   "metadata": {},
   "outputs": [
    {
     "name": "stdout",
     "output_type": "stream",
     "text": [
      "[['Best score_train', [2489211.7423238046]], ['Best score_test', [2517603.1142293666]]]\n"
     ]
    }
   ],
   "source": [
    "#сравним результаты лучшей модели на обучающей и тестовой выборках\n",
    "comparison_table = [['Best score_train', [best_score ] ],\n",
    "                   ['Best score_test', [best_score_test] ]]\n",
    "print(comparison_table)"
   ]
  },
  {
   "cell_type": "markdown",
   "metadata": {},
   "source": [
    "**Вывод**    \n",
    "Значений MSE полученное на тестовой выборке оказалось больше, чем результат полученный нами на обучающей выборке. А значит, качество модели ухудшилось. Однако стоит отметить, что ухудшение модели незначительно.     \n",
    "Показатель качества модели очень важен. Это самый важный критерий для бизнеса: чем выше качество, тем больше прибыли приносит продукт. А значит, если бы разница между значениями тестовой и обучающей выборок была значительной, нам стоило задуматься о том, правильную ли модель мы выбрали.    \n",
    "В нашем случае, как и говорилось выше, разница между значениями незначительна, а значит мы можем говорить о том, что выбранная нами модель пригодна для использования."
   ]
  }
 ],
 "metadata": {
  "ExecuteTimeLog": [
   {
    "duration": 991,
    "start_time": "2022-08-02T11:20:31.694Z"
   },
   {
    "duration": 3021,
    "start_time": "2022-08-02T11:21:26.650Z"
   },
   {
    "duration": 5,
    "start_time": "2022-08-02T11:24:26.057Z"
   },
   {
    "duration": 899,
    "start_time": "2022-08-02T11:24:44.654Z"
   },
   {
    "duration": 5,
    "start_time": "2022-08-02T11:40:05.772Z"
   },
   {
    "duration": 321,
    "start_time": "2022-08-02T11:40:08.428Z"
   },
   {
    "duration": 4,
    "start_time": "2022-08-02T11:40:32.352Z"
   },
   {
    "duration": 875,
    "start_time": "2022-08-02T11:40:34.588Z"
   },
   {
    "duration": 4,
    "start_time": "2022-08-02T14:02:48.933Z"
   },
   {
    "duration": 14,
    "start_time": "2022-08-02T14:02:57.737Z"
   },
   {
    "duration": 105,
    "start_time": "2022-08-02T14:06:51.037Z"
   },
   {
    "duration": 816,
    "start_time": "2022-08-03T13:14:14.449Z"
   },
   {
    "duration": 1094,
    "start_time": "2022-08-03T13:14:15.272Z"
   },
   {
    "duration": 4,
    "start_time": "2022-08-03T13:14:16.368Z"
   },
   {
    "duration": 738,
    "start_time": "2022-08-03T13:14:16.374Z"
   },
   {
    "duration": 13,
    "start_time": "2022-08-03T13:14:17.113Z"
   },
   {
    "duration": 56,
    "start_time": "2022-08-03T13:14:17.127Z"
   },
   {
    "duration": 65,
    "start_time": "2022-08-03T13:18:12.121Z"
   },
   {
    "duration": 1394,
    "start_time": "2022-08-03T13:47:48.075Z"
   },
   {
    "duration": 266,
    "start_time": "2022-08-03T13:50:04.857Z"
   },
   {
    "duration": 115,
    "start_time": "2022-08-03T13:50:22.463Z"
   },
   {
    "duration": 140,
    "start_time": "2022-08-03T13:51:07.506Z"
   },
   {
    "duration": 29,
    "start_time": "2022-08-03T13:51:19.186Z"
   },
   {
    "duration": 332,
    "start_time": "2022-08-03T13:53:59.447Z"
   },
   {
    "duration": 381,
    "start_time": "2022-08-03T13:54:13.273Z"
   },
   {
    "duration": 492,
    "start_time": "2022-08-03T13:54:36.825Z"
   },
   {
    "duration": 519,
    "start_time": "2022-08-03T13:54:40.972Z"
   },
   {
    "duration": 308,
    "start_time": "2022-08-03T13:54:55.042Z"
   },
   {
    "duration": 2,
    "start_time": "2022-08-03T13:55:22.525Z"
   },
   {
    "duration": 752,
    "start_time": "2022-08-03T13:55:22.529Z"
   },
   {
    "duration": 4,
    "start_time": "2022-08-03T13:55:23.283Z"
   },
   {
    "duration": 720,
    "start_time": "2022-08-03T13:55:23.290Z"
   },
   {
    "duration": 13,
    "start_time": "2022-08-03T13:55:24.012Z"
   },
   {
    "duration": 59,
    "start_time": "2022-08-03T13:55:24.027Z"
   },
   {
    "duration": 473,
    "start_time": "2022-08-03T13:55:24.088Z"
   },
   {
    "duration": 532,
    "start_time": "2022-08-03T13:55:24.563Z"
   },
   {
    "duration": 67,
    "start_time": "2022-08-03T13:55:32.360Z"
   },
   {
    "duration": 483,
    "start_time": "2022-08-03T13:55:33.508Z"
   },
   {
    "duration": 270,
    "start_time": "2022-08-03T13:55:39.865Z"
   },
   {
    "duration": 23,
    "start_time": "2022-08-03T14:15:07.208Z"
   },
   {
    "duration": 3,
    "start_time": "2022-08-03T14:15:26.479Z"
   },
   {
    "duration": 693,
    "start_time": "2022-08-03T14:15:26.484Z"
   },
   {
    "duration": 3,
    "start_time": "2022-08-03T14:15:27.180Z"
   },
   {
    "duration": 660,
    "start_time": "2022-08-03T14:15:27.186Z"
   },
   {
    "duration": 18,
    "start_time": "2022-08-03T14:15:27.847Z"
   },
   {
    "duration": 46,
    "start_time": "2022-08-03T14:15:27.867Z"
   },
   {
    "duration": 54,
    "start_time": "2022-08-03T14:15:27.915Z"
   },
   {
    "duration": 1509,
    "start_time": "2022-08-03T14:15:27.970Z"
   },
   {
    "duration": 0,
    "start_time": "2022-08-03T14:15:29.481Z"
   },
   {
    "duration": 3,
    "start_time": "2022-08-03T14:16:01.117Z"
   },
   {
    "duration": 4,
    "start_time": "2022-08-03T14:16:29.115Z"
   },
   {
    "duration": 731,
    "start_time": "2022-08-03T14:16:29.121Z"
   },
   {
    "duration": 4,
    "start_time": "2022-08-03T14:16:29.857Z"
   },
   {
    "duration": 780,
    "start_time": "2022-08-03T14:16:29.862Z"
   },
   {
    "duration": 23,
    "start_time": "2022-08-03T14:16:30.644Z"
   },
   {
    "duration": 66,
    "start_time": "2022-08-03T14:16:30.669Z"
   },
   {
    "duration": 237,
    "start_time": "2022-08-03T14:16:30.736Z"
   },
   {
    "duration": 27,
    "start_time": "2022-08-03T14:16:30.975Z"
   },
   {
    "duration": 242,
    "start_time": "2022-08-03T14:16:31.004Z"
   },
   {
    "duration": 106,
    "start_time": "2022-08-03T14:45:32.474Z"
   },
   {
    "duration": 67,
    "start_time": "2022-08-03T14:45:39.382Z"
   },
   {
    "duration": 78,
    "start_time": "2022-08-03T14:45:50.330Z"
   },
   {
    "duration": 71,
    "start_time": "2022-08-03T14:46:42.862Z"
   },
   {
    "duration": 75,
    "start_time": "2022-08-03T14:47:13.233Z"
   },
   {
    "duration": 28,
    "start_time": "2022-08-03T14:51:27.267Z"
   },
   {
    "duration": 18,
    "start_time": "2022-08-03T14:52:19.147Z"
   },
   {
    "duration": 19,
    "start_time": "2022-08-03T15:23:58.048Z"
   },
   {
    "duration": 39,
    "start_time": "2022-08-03T15:24:33.624Z"
   },
   {
    "duration": 40,
    "start_time": "2022-08-03T15:24:50.861Z"
   },
   {
    "duration": 3,
    "start_time": "2022-08-03T15:25:03.146Z"
   },
   {
    "duration": 675,
    "start_time": "2022-08-03T15:25:03.151Z"
   },
   {
    "duration": 4,
    "start_time": "2022-08-03T15:25:03.827Z"
   },
   {
    "duration": 661,
    "start_time": "2022-08-03T15:25:03.832Z"
   },
   {
    "duration": 13,
    "start_time": "2022-08-03T15:25:04.495Z"
   },
   {
    "duration": 56,
    "start_time": "2022-08-03T15:25:04.510Z"
   },
   {
    "duration": 221,
    "start_time": "2022-08-03T15:25:04.568Z"
   },
   {
    "duration": 26,
    "start_time": "2022-08-03T15:25:04.791Z"
   },
   {
    "duration": 227,
    "start_time": "2022-08-03T15:25:04.818Z"
   },
   {
    "duration": 75,
    "start_time": "2022-08-03T15:25:05.047Z"
   },
   {
    "duration": 66,
    "start_time": "2022-08-03T15:25:05.123Z"
   },
   {
    "duration": 66,
    "start_time": "2022-08-03T15:25:05.191Z"
   },
   {
    "duration": 42,
    "start_time": "2022-08-03T15:29:07.340Z"
   },
   {
    "duration": 48,
    "start_time": "2022-08-03T15:33:01.961Z"
   },
   {
    "duration": 207,
    "start_time": "2022-08-03T15:36:54.163Z"
   },
   {
    "duration": 3,
    "start_time": "2022-08-03T15:37:00.964Z"
   },
   {
    "duration": 7,
    "start_time": "2022-08-03T15:37:28.643Z"
   },
   {
    "duration": 820,
    "start_time": "2022-08-03T15:38:30.945Z"
   },
   {
    "duration": 3,
    "start_time": "2022-08-03T15:39:36.596Z"
   },
   {
    "duration": 1112,
    "start_time": "2022-08-03T15:39:38.443Z"
   },
   {
    "duration": 2,
    "start_time": "2022-08-03T15:39:55.877Z"
   },
   {
    "duration": 38,
    "start_time": "2022-08-03T15:39:58.058Z"
   },
   {
    "duration": 4,
    "start_time": "2022-08-03T15:40:35.158Z"
   },
   {
    "duration": 749,
    "start_time": "2022-08-03T15:40:35.164Z"
   },
   {
    "duration": 3,
    "start_time": "2022-08-03T15:40:35.914Z"
   },
   {
    "duration": 674,
    "start_time": "2022-08-03T15:40:35.919Z"
   },
   {
    "duration": 12,
    "start_time": "2022-08-03T15:40:36.594Z"
   },
   {
    "duration": 70,
    "start_time": "2022-08-03T15:40:36.608Z"
   },
   {
    "duration": 35,
    "start_time": "2022-08-03T15:40:36.680Z"
   },
   {
    "duration": 211,
    "start_time": "2022-08-03T15:40:36.717Z"
   },
   {
    "duration": 78,
    "start_time": "2022-08-03T15:40:36.931Z"
   },
   {
    "duration": 2,
    "start_time": "2022-08-03T15:40:37.011Z"
   },
   {
    "duration": 55,
    "start_time": "2022-08-03T15:40:37.015Z"
   },
   {
    "duration": 40,
    "start_time": "2022-08-03T15:40:37.071Z"
   },
   {
    "duration": 58,
    "start_time": "2022-08-03T15:40:37.113Z"
   },
   {
    "duration": 46,
    "start_time": "2022-08-03T15:40:37.172Z"
   },
   {
    "duration": 45,
    "start_time": "2022-08-03T15:41:21.939Z"
   },
   {
    "duration": 2,
    "start_time": "2022-08-03T15:45:48.261Z"
   },
   {
    "duration": 675,
    "start_time": "2022-08-03T15:45:48.266Z"
   },
   {
    "duration": 4,
    "start_time": "2022-08-03T15:45:48.943Z"
   },
   {
    "duration": 693,
    "start_time": "2022-08-03T15:45:48.949Z"
   },
   {
    "duration": 20,
    "start_time": "2022-08-03T15:45:49.644Z"
   },
   {
    "duration": 62,
    "start_time": "2022-08-03T15:45:49.666Z"
   },
   {
    "duration": 206,
    "start_time": "2022-08-03T15:45:49.730Z"
   },
   {
    "duration": 27,
    "start_time": "2022-08-03T15:45:49.937Z"
   },
   {
    "duration": 205,
    "start_time": "2022-08-03T15:45:49.965Z"
   },
   {
    "duration": 70,
    "start_time": "2022-08-03T15:45:50.172Z"
   },
   {
    "duration": 16,
    "start_time": "2022-08-03T15:45:50.244Z"
   },
   {
    "duration": 59,
    "start_time": "2022-08-03T15:45:50.262Z"
   },
   {
    "duration": 39,
    "start_time": "2022-08-03T15:45:50.323Z"
   },
   {
    "duration": 40,
    "start_time": "2022-08-03T15:45:50.364Z"
   },
   {
    "duration": 55,
    "start_time": "2022-08-03T15:45:50.405Z"
   },
   {
    "duration": 13,
    "start_time": "2022-08-03T15:52:26.075Z"
   },
   {
    "duration": 3,
    "start_time": "2022-08-03T15:52:38.556Z"
   },
   {
    "duration": 653,
    "start_time": "2022-08-03T15:52:38.560Z"
   },
   {
    "duration": 3,
    "start_time": "2022-08-03T15:52:39.215Z"
   },
   {
    "duration": 697,
    "start_time": "2022-08-03T15:52:39.220Z"
   },
   {
    "duration": 13,
    "start_time": "2022-08-03T15:52:39.918Z"
   },
   {
    "duration": 71,
    "start_time": "2022-08-03T15:52:39.932Z"
   },
   {
    "duration": 233,
    "start_time": "2022-08-03T15:52:40.005Z"
   },
   {
    "duration": 33,
    "start_time": "2022-08-03T15:52:40.240Z"
   },
   {
    "duration": 238,
    "start_time": "2022-08-03T15:52:40.275Z"
   },
   {
    "duration": 74,
    "start_time": "2022-08-03T15:52:40.514Z"
   },
   {
    "duration": 3,
    "start_time": "2022-08-03T15:52:40.590Z"
   },
   {
    "duration": 63,
    "start_time": "2022-08-03T15:52:40.594Z"
   },
   {
    "duration": 42,
    "start_time": "2022-08-03T15:52:40.659Z"
   },
   {
    "duration": 58,
    "start_time": "2022-08-03T15:52:40.702Z"
   },
   {
    "duration": 47,
    "start_time": "2022-08-03T15:52:40.762Z"
   },
   {
    "duration": 3,
    "start_time": "2022-08-03T15:53:11.141Z"
   },
   {
    "duration": 16,
    "start_time": "2022-08-03T15:53:17.158Z"
   },
   {
    "duration": 3,
    "start_time": "2022-08-03T15:53:20.254Z"
   },
   {
    "duration": 683,
    "start_time": "2022-08-03T15:53:20.259Z"
   },
   {
    "duration": 4,
    "start_time": "2022-08-03T15:53:20.944Z"
   },
   {
    "duration": 688,
    "start_time": "2022-08-03T15:53:20.949Z"
   },
   {
    "duration": 3,
    "start_time": "2022-08-03T15:53:21.638Z"
   },
   {
    "duration": 47,
    "start_time": "2022-08-03T15:53:21.643Z"
   },
   {
    "duration": 2,
    "start_time": "2022-08-03T15:53:22.558Z"
   },
   {
    "duration": 767,
    "start_time": "2022-08-03T15:53:22.562Z"
   },
   {
    "duration": 3,
    "start_time": "2022-08-03T15:53:23.330Z"
   },
   {
    "duration": 685,
    "start_time": "2022-08-03T15:53:23.335Z"
   },
   {
    "duration": 3,
    "start_time": "2022-08-03T15:53:24.022Z"
   },
   {
    "duration": 44,
    "start_time": "2022-08-03T15:53:24.027Z"
   },
   {
    "duration": 245,
    "start_time": "2022-08-03T15:53:24.073Z"
   },
   {
    "duration": 23,
    "start_time": "2022-08-03T15:53:24.319Z"
   },
   {
    "duration": 224,
    "start_time": "2022-08-03T15:53:24.344Z"
   },
   {
    "duration": 74,
    "start_time": "2022-08-03T15:53:24.570Z"
   },
   {
    "duration": 3,
    "start_time": "2022-08-03T15:53:24.658Z"
   },
   {
    "duration": 50,
    "start_time": "2022-08-03T15:53:24.662Z"
   },
   {
    "duration": 59,
    "start_time": "2022-08-03T15:53:24.713Z"
   },
   {
    "duration": 43,
    "start_time": "2022-08-03T15:53:24.774Z"
   },
   {
    "duration": 64,
    "start_time": "2022-08-03T15:53:24.818Z"
   },
   {
    "duration": 37,
    "start_time": "2022-08-03T15:55:49.882Z"
   },
   {
    "duration": 3,
    "start_time": "2022-08-03T15:56:00.054Z"
   },
   {
    "duration": 684,
    "start_time": "2022-08-03T15:56:00.059Z"
   },
   {
    "duration": 3,
    "start_time": "2022-08-03T15:56:00.746Z"
   },
   {
    "duration": 733,
    "start_time": "2022-08-03T15:56:00.751Z"
   },
   {
    "duration": 3,
    "start_time": "2022-08-03T15:56:01.486Z"
   },
   {
    "duration": 45,
    "start_time": "2022-08-03T15:56:01.491Z"
   },
   {
    "duration": 255,
    "start_time": "2022-08-03T15:56:01.538Z"
   },
   {
    "duration": 23,
    "start_time": "2022-08-03T15:56:01.794Z"
   },
   {
    "duration": 221,
    "start_time": "2022-08-03T15:56:01.820Z"
   },
   {
    "duration": 75,
    "start_time": "2022-08-03T15:56:02.043Z"
   },
   {
    "duration": 7,
    "start_time": "2022-08-03T15:56:02.120Z"
   },
   {
    "duration": 50,
    "start_time": "2022-08-03T15:56:02.128Z"
   },
   {
    "duration": 42,
    "start_time": "2022-08-03T15:56:02.179Z"
   },
   {
    "duration": 54,
    "start_time": "2022-08-03T15:56:02.222Z"
   },
   {
    "duration": 45,
    "start_time": "2022-08-03T15:56:02.277Z"
   },
   {
    "duration": 788,
    "start_time": "2022-08-04T10:45:31.629Z"
   },
   {
    "duration": 1127,
    "start_time": "2022-08-04T10:45:32.419Z"
   },
   {
    "duration": 3,
    "start_time": "2022-08-04T10:45:33.548Z"
   },
   {
    "duration": 822,
    "start_time": "2022-08-04T10:45:33.553Z"
   },
   {
    "duration": 3,
    "start_time": "2022-08-04T10:45:34.377Z"
   },
   {
    "duration": 72,
    "start_time": "2022-08-04T10:45:34.382Z"
   },
   {
    "duration": 264,
    "start_time": "2022-08-04T10:45:34.456Z"
   },
   {
    "duration": 29,
    "start_time": "2022-08-04T10:45:34.722Z"
   },
   {
    "duration": 245,
    "start_time": "2022-08-04T10:45:34.752Z"
   },
   {
    "duration": 121,
    "start_time": "2022-08-04T10:45:34.999Z"
   },
   {
    "duration": 3,
    "start_time": "2022-08-04T10:45:35.122Z"
   },
   {
    "duration": 55,
    "start_time": "2022-08-04T10:45:35.126Z"
   },
   {
    "duration": 58,
    "start_time": "2022-08-04T10:45:35.183Z"
   },
   {
    "duration": 46,
    "start_time": "2022-08-04T10:45:35.244Z"
   },
   {
    "duration": 67,
    "start_time": "2022-08-04T10:45:35.291Z"
   },
   {
    "duration": 61,
    "start_time": "2022-08-04T10:46:51.021Z"
   },
   {
    "duration": 54,
    "start_time": "2022-08-04T10:50:08.072Z"
   },
   {
    "duration": 48,
    "start_time": "2022-08-04T10:50:42.343Z"
   },
   {
    "duration": 3,
    "start_time": "2022-08-04T10:53:26.233Z"
   },
   {
    "duration": 5,
    "start_time": "2022-08-04T10:53:51.007Z"
   },
   {
    "duration": 795,
    "start_time": "2022-08-05T10:01:26.760Z"
   },
   {
    "duration": 1173,
    "start_time": "2022-08-05T10:01:27.557Z"
   },
   {
    "duration": 3,
    "start_time": "2022-08-05T10:01:28.732Z"
   },
   {
    "duration": 747,
    "start_time": "2022-08-05T10:01:28.737Z"
   },
   {
    "duration": 4,
    "start_time": "2022-08-05T10:01:29.485Z"
   },
   {
    "duration": 64,
    "start_time": "2022-08-05T10:01:29.498Z"
   },
   {
    "duration": 295,
    "start_time": "2022-08-05T10:01:29.564Z"
   },
   {
    "duration": 38,
    "start_time": "2022-08-05T10:01:29.861Z"
   },
   {
    "duration": 234,
    "start_time": "2022-08-05T10:01:29.900Z"
   },
   {
    "duration": 118,
    "start_time": "2022-08-05T10:01:30.136Z"
   },
   {
    "duration": 3,
    "start_time": "2022-08-05T10:01:30.255Z"
   },
   {
    "duration": 63,
    "start_time": "2022-08-05T10:01:30.259Z"
   },
   {
    "duration": 77,
    "start_time": "2022-08-05T10:01:30.324Z"
   },
   {
    "duration": 51,
    "start_time": "2022-08-05T10:01:30.403Z"
   },
   {
    "duration": 69,
    "start_time": "2022-08-05T10:01:30.455Z"
   },
   {
    "duration": 59,
    "start_time": "2022-08-05T10:01:30.526Z"
   },
   {
    "duration": 74,
    "start_time": "2022-08-05T10:01:30.586Z"
   },
   {
    "duration": 9,
    "start_time": "2022-08-05T10:01:30.661Z"
   },
   {
    "duration": 1189,
    "start_time": "2022-08-05T10:01:40.468Z"
   },
   {
    "duration": 5,
    "start_time": "2022-08-05T10:08:30.312Z"
   },
   {
    "duration": 25,
    "start_time": "2022-08-05T10:10:01.906Z"
   },
   {
    "duration": 911,
    "start_time": "2022-08-05T10:19:27.851Z"
   },
   {
    "duration": 6,
    "start_time": "2022-08-05T10:19:43.614Z"
   },
   {
    "duration": 834,
    "start_time": "2022-08-05T10:19:45.580Z"
   },
   {
    "duration": 3,
    "start_time": "2022-08-05T10:20:37.714Z"
   },
   {
    "duration": 1054,
    "start_time": "2022-08-05T10:20:51.538Z"
   },
   {
    "duration": 91,
    "start_time": "2022-08-05T10:21:01.688Z"
   },
   {
    "duration": 97,
    "start_time": "2022-08-05T10:22:11.123Z"
   },
   {
    "duration": 8,
    "start_time": "2022-08-05T10:25:29.518Z"
   },
   {
    "duration": 492,
    "start_time": "2022-08-05T10:25:58.808Z"
   },
   {
    "duration": 737,
    "start_time": "2022-08-05T10:25:59.302Z"
   },
   {
    "duration": 3,
    "start_time": "2022-08-05T10:26:00.042Z"
   },
   {
    "duration": 755,
    "start_time": "2022-08-05T10:26:00.047Z"
   },
   {
    "duration": 3,
    "start_time": "2022-08-05T10:26:00.804Z"
   },
   {
    "duration": 58,
    "start_time": "2022-08-05T10:26:00.809Z"
   },
   {
    "duration": 229,
    "start_time": "2022-08-05T10:26:00.869Z"
   },
   {
    "duration": 23,
    "start_time": "2022-08-05T10:26:01.099Z"
   },
   {
    "duration": 214,
    "start_time": "2022-08-05T10:26:01.124Z"
   },
   {
    "duration": 82,
    "start_time": "2022-08-05T10:26:01.340Z"
   },
   {
    "duration": 11,
    "start_time": "2022-08-05T10:26:01.424Z"
   },
   {
    "duration": 82,
    "start_time": "2022-08-05T10:26:01.437Z"
   },
   {
    "duration": 59,
    "start_time": "2022-08-05T10:26:01.521Z"
   },
   {
    "duration": 71,
    "start_time": "2022-08-05T10:26:01.582Z"
   },
   {
    "duration": 60,
    "start_time": "2022-08-05T10:26:01.655Z"
   },
   {
    "duration": 47,
    "start_time": "2022-08-05T10:26:01.717Z"
   },
   {
    "duration": 53,
    "start_time": "2022-08-05T10:26:01.765Z"
   },
   {
    "duration": 3,
    "start_time": "2022-08-05T10:26:01.820Z"
   },
   {
    "duration": 131,
    "start_time": "2022-08-05T10:26:01.824Z"
   },
   {
    "duration": 576,
    "start_time": "2022-08-05T10:26:01.957Z"
   },
   {
    "duration": 336,
    "start_time": "2022-08-05T10:58:29.782Z"
   },
   {
    "duration": 2942,
    "start_time": "2022-08-05T11:03:22.994Z"
   },
   {
    "duration": 375,
    "start_time": "2022-08-05T11:03:37.585Z"
   },
   {
    "duration": 358,
    "start_time": "2022-08-05T11:22:50.712Z"
   },
   {
    "duration": 333,
    "start_time": "2022-08-05T11:23:44.396Z"
   },
   {
    "duration": 171,
    "start_time": "2022-08-05T11:23:51.323Z"
   },
   {
    "duration": 373,
    "start_time": "2022-08-05T11:25:04.472Z"
   },
   {
    "duration": 38,
    "start_time": "2022-08-05T11:41:42.478Z"
   },
   {
    "duration": 28,
    "start_time": "2022-08-05T11:41:56.456Z"
   },
   {
    "duration": 29,
    "start_time": "2022-08-05T11:42:12.688Z"
   },
   {
    "duration": 11,
    "start_time": "2022-08-05T11:44:57.015Z"
   },
   {
    "duration": 8,
    "start_time": "2022-08-05T11:46:08.371Z"
   },
   {
    "duration": 431,
    "start_time": "2022-08-05T11:47:15.232Z"
   },
   {
    "duration": 9,
    "start_time": "2022-08-05T11:49:28.125Z"
   },
   {
    "duration": 9,
    "start_time": "2022-08-05T11:51:02.607Z"
   },
   {
    "duration": 23,
    "start_time": "2022-08-05T11:51:18.762Z"
   },
   {
    "duration": 39,
    "start_time": "2022-08-05T11:51:31.409Z"
   },
   {
    "duration": 94,
    "start_time": "2022-08-05T11:51:42.906Z"
   },
   {
    "duration": 73,
    "start_time": "2022-08-05T11:51:58.641Z"
   },
   {
    "duration": 3,
    "start_time": "2022-08-05T12:03:36.306Z"
   },
   {
    "duration": 27,
    "start_time": "2022-08-05T12:03:50.043Z"
   },
   {
    "duration": 3,
    "start_time": "2022-08-05T12:04:22.970Z"
   },
   {
    "duration": 4,
    "start_time": "2022-08-05T12:04:32.551Z"
   },
   {
    "duration": 4,
    "start_time": "2022-08-05T12:04:41.120Z"
   },
   {
    "duration": 4,
    "start_time": "2022-08-05T12:04:53.540Z"
   },
   {
    "duration": 5,
    "start_time": "2022-08-05T12:04:58.453Z"
   },
   {
    "duration": 28,
    "start_time": "2022-08-05T12:06:56.742Z"
   },
   {
    "duration": 30,
    "start_time": "2022-08-05T12:07:38.310Z"
   },
   {
    "duration": 3,
    "start_time": "2022-08-05T12:07:58.393Z"
   },
   {
    "duration": 816,
    "start_time": "2022-08-05T12:07:58.398Z"
   },
   {
    "duration": 4,
    "start_time": "2022-08-05T12:07:59.216Z"
   },
   {
    "duration": 831,
    "start_time": "2022-08-05T12:07:59.222Z"
   },
   {
    "duration": 4,
    "start_time": "2022-08-05T12:08:00.054Z"
   },
   {
    "duration": 54,
    "start_time": "2022-08-05T12:08:00.060Z"
   },
   {
    "duration": 267,
    "start_time": "2022-08-05T12:08:00.115Z"
   },
   {
    "duration": 40,
    "start_time": "2022-08-05T12:08:00.384Z"
   },
   {
    "duration": 308,
    "start_time": "2022-08-05T12:08:00.427Z"
   },
   {
    "duration": 92,
    "start_time": "2022-08-05T12:08:00.736Z"
   },
   {
    "duration": 8,
    "start_time": "2022-08-05T12:08:00.829Z"
   },
   {
    "duration": 79,
    "start_time": "2022-08-05T12:08:00.839Z"
   },
   {
    "duration": 46,
    "start_time": "2022-08-05T12:08:00.920Z"
   },
   {
    "duration": 71,
    "start_time": "2022-08-05T12:08:00.967Z"
   },
   {
    "duration": 64,
    "start_time": "2022-08-05T12:08:01.039Z"
   },
   {
    "duration": 55,
    "start_time": "2022-08-05T12:08:01.105Z"
   },
   {
    "duration": 71,
    "start_time": "2022-08-05T12:08:01.162Z"
   },
   {
    "duration": 3,
    "start_time": "2022-08-05T12:08:01.235Z"
   },
   {
    "duration": 139,
    "start_time": "2022-08-05T12:08:01.239Z"
   },
   {
    "duration": 649,
    "start_time": "2022-08-05T12:08:01.380Z"
   },
   {
    "duration": 330,
    "start_time": "2022-08-05T12:08:02.031Z"
   },
   {
    "duration": 51,
    "start_time": "2022-08-05T12:08:02.363Z"
   },
   {
    "duration": 38,
    "start_time": "2022-08-05T12:08:02.419Z"
   },
   {
    "duration": 5,
    "start_time": "2022-08-05T12:08:02.461Z"
   },
   {
    "duration": 45,
    "start_time": "2022-08-05T12:08:02.468Z"
   },
   {
    "duration": 34,
    "start_time": "2022-08-05T12:08:02.519Z"
   },
   {
    "duration": 13,
    "start_time": "2022-08-05T12:08:02.555Z"
   },
   {
    "duration": 35,
    "start_time": "2022-08-05T12:08:11.897Z"
   },
   {
    "duration": 32,
    "start_time": "2022-08-05T12:08:48.684Z"
   },
   {
    "duration": 28,
    "start_time": "2022-08-05T12:08:55.800Z"
   },
   {
    "duration": 33,
    "start_time": "2022-08-05T12:09:14.151Z"
   },
   {
    "duration": 5,
    "start_time": "2022-08-05T12:09:32.518Z"
   },
   {
    "duration": 4,
    "start_time": "2022-08-05T12:10:13.301Z"
   },
   {
    "duration": 87,
    "start_time": "2022-08-05T12:12:02.193Z"
   },
   {
    "duration": 366,
    "start_time": "2022-08-05T12:15:55.840Z"
   },
   {
    "duration": 444,
    "start_time": "2022-08-05T12:17:26.842Z"
   },
   {
    "duration": 26,
    "start_time": "2022-08-05T12:23:03.126Z"
   },
   {
    "duration": 26,
    "start_time": "2022-08-05T12:28:49.073Z"
   },
   {
    "duration": 3,
    "start_time": "2022-08-05T17:14:05.399Z"
   },
   {
    "duration": 774,
    "start_time": "2022-08-05T17:14:05.403Z"
   },
   {
    "duration": 3,
    "start_time": "2022-08-05T17:14:06.180Z"
   },
   {
    "duration": 735,
    "start_time": "2022-08-05T17:14:06.185Z"
   },
   {
    "duration": 6,
    "start_time": "2022-08-05T17:14:06.924Z"
   },
   {
    "duration": 35,
    "start_time": "2022-08-05T17:14:06.932Z"
   },
   {
    "duration": 246,
    "start_time": "2022-08-05T17:14:06.968Z"
   },
   {
    "duration": 25,
    "start_time": "2022-08-05T17:14:07.215Z"
   },
   {
    "duration": 234,
    "start_time": "2022-08-05T17:14:07.243Z"
   },
   {
    "duration": 81,
    "start_time": "2022-08-05T17:14:07.479Z"
   },
   {
    "duration": 3,
    "start_time": "2022-08-05T17:14:07.562Z"
   },
   {
    "duration": 64,
    "start_time": "2022-08-05T17:14:07.567Z"
   },
   {
    "duration": 47,
    "start_time": "2022-08-05T17:14:07.633Z"
   },
   {
    "duration": 51,
    "start_time": "2022-08-05T17:14:07.699Z"
   },
   {
    "duration": 74,
    "start_time": "2022-08-05T17:14:07.753Z"
   },
   {
    "duration": 51,
    "start_time": "2022-08-05T17:14:07.829Z"
   },
   {
    "duration": 51,
    "start_time": "2022-08-05T17:14:07.899Z"
   },
   {
    "duration": 3,
    "start_time": "2022-08-05T17:14:07.952Z"
   },
   {
    "duration": 131,
    "start_time": "2022-08-05T17:14:07.957Z"
   },
   {
    "duration": 535,
    "start_time": "2022-08-05T17:14:08.090Z"
   },
   {
    "duration": 291,
    "start_time": "2022-08-05T17:14:08.626Z"
   },
   {
    "duration": 29,
    "start_time": "2022-08-05T17:14:08.919Z"
   },
   {
    "duration": 27,
    "start_time": "2022-08-05T17:14:08.950Z"
   },
   {
    "duration": 4,
    "start_time": "2022-08-05T17:14:08.998Z"
   },
   {
    "duration": 96,
    "start_time": "2022-08-05T17:14:09.003Z"
   },
   {
    "duration": 342,
    "start_time": "2022-08-05T17:14:09.101Z"
   },
   {
    "duration": 28,
    "start_time": "2022-08-05T17:14:09.444Z"
   },
   {
    "duration": 47,
    "start_time": "2022-08-05T17:14:09.474Z"
   },
   {
    "duration": 27,
    "start_time": "2022-08-05T17:14:17.762Z"
   },
   {
    "duration": 33,
    "start_time": "2022-08-05T17:18:35.769Z"
   },
   {
    "duration": 5,
    "start_time": "2022-08-05T17:18:37.101Z"
   },
   {
    "duration": 5,
    "start_time": "2022-08-05T17:18:44.015Z"
   },
   {
    "duration": 22,
    "start_time": "2022-08-05T17:53:30.284Z"
   },
   {
    "duration": 4,
    "start_time": "2022-08-05T17:54:44.945Z"
   },
   {
    "duration": 821,
    "start_time": "2022-08-05T17:54:44.951Z"
   },
   {
    "duration": 3,
    "start_time": "2022-08-05T17:54:45.774Z"
   },
   {
    "duration": 762,
    "start_time": "2022-08-05T17:54:45.779Z"
   },
   {
    "duration": 4,
    "start_time": "2022-08-05T17:54:46.543Z"
   },
   {
    "duration": 51,
    "start_time": "2022-08-05T17:54:46.548Z"
   },
   {
    "duration": 274,
    "start_time": "2022-08-05T17:54:46.600Z"
   },
   {
    "duration": 34,
    "start_time": "2022-08-05T17:54:46.876Z"
   },
   {
    "duration": 243,
    "start_time": "2022-08-05T17:54:46.912Z"
   },
   {
    "duration": 83,
    "start_time": "2022-08-05T17:54:47.157Z"
   },
   {
    "duration": 3,
    "start_time": "2022-08-05T17:54:47.241Z"
   },
   {
    "duration": 68,
    "start_time": "2022-08-05T17:54:47.245Z"
   },
   {
    "duration": 45,
    "start_time": "2022-08-05T17:54:47.315Z"
   },
   {
    "duration": 71,
    "start_time": "2022-08-05T17:54:47.361Z"
   },
   {
    "duration": 66,
    "start_time": "2022-08-05T17:54:47.433Z"
   },
   {
    "duration": 48,
    "start_time": "2022-08-05T17:54:47.500Z"
   },
   {
    "duration": 70,
    "start_time": "2022-08-05T17:54:47.550Z"
   },
   {
    "duration": 2,
    "start_time": "2022-08-05T17:54:47.622Z"
   },
   {
    "duration": 123,
    "start_time": "2022-08-05T17:54:47.626Z"
   },
   {
    "duration": 529,
    "start_time": "2022-08-05T17:54:47.751Z"
   },
   {
    "duration": 284,
    "start_time": "2022-08-05T17:54:48.281Z"
   },
   {
    "duration": 39,
    "start_time": "2022-08-05T17:54:48.567Z"
   },
   {
    "duration": 32,
    "start_time": "2022-08-05T17:54:48.608Z"
   },
   {
    "duration": 4,
    "start_time": "2022-08-05T17:54:48.641Z"
   },
   {
    "duration": 98,
    "start_time": "2022-08-05T17:54:48.646Z"
   },
   {
    "duration": 24,
    "start_time": "2022-08-05T17:54:48.746Z"
   },
   {
    "duration": 356,
    "start_time": "2022-08-05T17:54:48.771Z"
   },
   {
    "duration": 26,
    "start_time": "2022-08-05T17:54:49.130Z"
   },
   {
    "duration": 42,
    "start_time": "2022-08-05T17:54:49.157Z"
   },
   {
    "duration": 5,
    "start_time": "2022-08-05T17:54:49.201Z"
   },
   {
    "duration": 3,
    "start_time": "2022-08-05T18:06:51.225Z"
   },
   {
    "duration": 16,
    "start_time": "2022-08-05T18:16:04.242Z"
   },
   {
    "duration": 24,
    "start_time": "2022-08-05T18:16:29.568Z"
   },
   {
    "duration": 327,
    "start_time": "2022-08-05T18:19:51.089Z"
   },
   {
    "duration": 4,
    "start_time": "2022-08-05T18:19:54.434Z"
   },
   {
    "duration": 859,
    "start_time": "2022-08-05T18:19:54.440Z"
   },
   {
    "duration": 5,
    "start_time": "2022-08-05T18:19:55.302Z"
   },
   {
    "duration": 828,
    "start_time": "2022-08-05T18:19:55.309Z"
   },
   {
    "duration": 3,
    "start_time": "2022-08-05T18:19:56.139Z"
   },
   {
    "duration": 61,
    "start_time": "2022-08-05T18:19:56.143Z"
   },
   {
    "duration": 290,
    "start_time": "2022-08-05T18:19:56.205Z"
   },
   {
    "duration": 27,
    "start_time": "2022-08-05T18:19:56.497Z"
   },
   {
    "duration": 278,
    "start_time": "2022-08-05T18:19:56.528Z"
   },
   {
    "duration": 77,
    "start_time": "2022-08-05T18:19:56.808Z"
   },
   {
    "duration": 11,
    "start_time": "2022-08-05T18:19:56.887Z"
   },
   {
    "duration": 54,
    "start_time": "2022-08-05T18:19:56.900Z"
   },
   {
    "duration": 77,
    "start_time": "2022-08-05T18:19:56.957Z"
   },
   {
    "duration": 67,
    "start_time": "2022-08-05T18:19:57.036Z"
   },
   {
    "duration": 47,
    "start_time": "2022-08-05T18:19:57.105Z"
   },
   {
    "duration": 73,
    "start_time": "2022-08-05T18:19:57.154Z"
   },
   {
    "duration": 44,
    "start_time": "2022-08-05T18:19:57.228Z"
   },
   {
    "duration": 24,
    "start_time": "2022-08-05T18:19:57.274Z"
   },
   {
    "duration": 112,
    "start_time": "2022-08-05T18:19:57.300Z"
   },
   {
    "duration": 586,
    "start_time": "2022-08-05T18:19:57.413Z"
   },
   {
    "duration": 282,
    "start_time": "2022-08-05T18:19:58.001Z"
   },
   {
    "duration": 40,
    "start_time": "2022-08-05T18:19:58.284Z"
   },
   {
    "duration": 29,
    "start_time": "2022-08-05T18:19:58.326Z"
   },
   {
    "duration": 16,
    "start_time": "2022-08-05T18:19:58.358Z"
   },
   {
    "duration": 97,
    "start_time": "2022-08-05T18:19:58.376Z"
   },
   {
    "duration": 36,
    "start_time": "2022-08-05T18:19:58.475Z"
   },
   {
    "duration": 344,
    "start_time": "2022-08-05T18:19:58.512Z"
   },
   {
    "duration": 40,
    "start_time": "2022-08-05T18:19:58.858Z"
   },
   {
    "duration": 31,
    "start_time": "2022-08-05T18:19:58.900Z"
   },
   {
    "duration": 4,
    "start_time": "2022-08-05T18:19:58.933Z"
   },
   {
    "duration": 37,
    "start_time": "2022-08-05T18:19:58.939Z"
   },
   {
    "duration": 106,
    "start_time": "2022-08-05T18:19:58.978Z"
   },
   {
    "duration": 4,
    "start_time": "2022-08-05T18:40:53.106Z"
   },
   {
    "duration": 4,
    "start_time": "2022-08-05T18:40:55.837Z"
   },
   {
    "duration": 741,
    "start_time": "2022-08-05T18:40:55.845Z"
   },
   {
    "duration": 10,
    "start_time": "2022-08-05T18:40:56.588Z"
   },
   {
    "duration": 729,
    "start_time": "2022-08-05T18:40:56.601Z"
   },
   {
    "duration": 7,
    "start_time": "2022-08-05T18:40:57.332Z"
   },
   {
    "duration": 42,
    "start_time": "2022-08-05T18:40:57.342Z"
   },
   {
    "duration": 290,
    "start_time": "2022-08-05T18:40:57.399Z"
   },
   {
    "duration": 36,
    "start_time": "2022-08-05T18:40:57.691Z"
   },
   {
    "duration": 237,
    "start_time": "2022-08-05T18:40:57.729Z"
   },
   {
    "duration": 94,
    "start_time": "2022-08-05T18:40:57.969Z"
   },
   {
    "duration": 3,
    "start_time": "2022-08-05T18:40:58.065Z"
   },
   {
    "duration": 62,
    "start_time": "2022-08-05T18:40:58.070Z"
   },
   {
    "duration": 46,
    "start_time": "2022-08-05T18:40:58.133Z"
   },
   {
    "duration": 52,
    "start_time": "2022-08-05T18:40:58.199Z"
   },
   {
    "duration": 71,
    "start_time": "2022-08-05T18:40:58.253Z"
   },
   {
    "duration": 49,
    "start_time": "2022-08-05T18:40:58.325Z"
   },
   {
    "duration": 63,
    "start_time": "2022-08-05T18:40:58.375Z"
   },
   {
    "duration": 3,
    "start_time": "2022-08-05T18:40:58.439Z"
   },
   {
    "duration": 135,
    "start_time": "2022-08-05T18:40:58.444Z"
   },
   {
    "duration": 531,
    "start_time": "2022-08-05T18:40:58.581Z"
   },
   {
    "duration": 362,
    "start_time": "2022-08-05T18:40:59.113Z"
   },
   {
    "duration": 35,
    "start_time": "2022-08-05T18:40:59.477Z"
   },
   {
    "duration": 27,
    "start_time": "2022-08-05T18:40:59.514Z"
   },
   {
    "duration": 4,
    "start_time": "2022-08-05T18:40:59.544Z"
   },
   {
    "duration": 103,
    "start_time": "2022-08-05T18:40:59.550Z"
   },
   {
    "duration": 26,
    "start_time": "2022-08-05T18:40:59.655Z"
   },
   {
    "duration": 353,
    "start_time": "2022-08-05T18:40:59.683Z"
   },
   {
    "duration": 27,
    "start_time": "2022-08-05T18:41:00.039Z"
   },
   {
    "duration": 40,
    "start_time": "2022-08-05T18:41:00.068Z"
   },
   {
    "duration": 4,
    "start_time": "2022-08-05T18:41:00.110Z"
   },
   {
    "duration": 45,
    "start_time": "2022-08-05T18:41:00.117Z"
   },
   {
    "duration": 66,
    "start_time": "2022-08-05T18:41:00.164Z"
   },
   {
    "duration": 1519,
    "start_time": "2022-08-07T08:31:36.568Z"
   },
   {
    "duration": 1064,
    "start_time": "2022-08-07T08:31:38.088Z"
   },
   {
    "duration": 3,
    "start_time": "2022-08-07T08:31:39.153Z"
   },
   {
    "duration": 833,
    "start_time": "2022-08-07T08:31:39.158Z"
   },
   {
    "duration": 4,
    "start_time": "2022-08-07T08:31:39.992Z"
   },
   {
    "duration": 88,
    "start_time": "2022-08-07T08:31:39.997Z"
   },
   {
    "duration": 277,
    "start_time": "2022-08-07T08:31:40.086Z"
   },
   {
    "duration": 39,
    "start_time": "2022-08-07T08:31:40.365Z"
   },
   {
    "duration": 234,
    "start_time": "2022-08-07T08:31:40.405Z"
   },
   {
    "duration": 114,
    "start_time": "2022-08-07T08:31:40.641Z"
   },
   {
    "duration": 3,
    "start_time": "2022-08-07T08:31:40.756Z"
   },
   {
    "duration": 59,
    "start_time": "2022-08-07T08:31:40.760Z"
   },
   {
    "duration": 46,
    "start_time": "2022-08-07T08:31:40.820Z"
   },
   {
    "duration": 61,
    "start_time": "2022-08-07T08:31:40.868Z"
   },
   {
    "duration": 59,
    "start_time": "2022-08-07T08:31:40.931Z"
   },
   {
    "duration": 45,
    "start_time": "2022-08-07T08:31:40.991Z"
   },
   {
    "duration": 62,
    "start_time": "2022-08-07T08:31:41.037Z"
   },
   {
    "duration": 3,
    "start_time": "2022-08-07T08:31:41.100Z"
   },
   {
    "duration": 130,
    "start_time": "2022-08-07T08:31:41.104Z"
   },
   {
    "duration": 565,
    "start_time": "2022-08-07T08:31:41.236Z"
   },
   {
    "duration": 273,
    "start_time": "2022-08-07T08:31:41.803Z"
   },
   {
    "duration": 27,
    "start_time": "2022-08-07T08:31:42.078Z"
   },
   {
    "duration": 24,
    "start_time": "2022-08-07T08:31:42.106Z"
   },
   {
    "duration": 3,
    "start_time": "2022-08-07T08:31:42.131Z"
   },
   {
    "duration": 93,
    "start_time": "2022-08-07T08:31:42.136Z"
   },
   {
    "duration": 21,
    "start_time": "2022-08-07T08:31:42.230Z"
   },
   {
    "duration": 321,
    "start_time": "2022-08-07T08:31:42.253Z"
   },
   {
    "duration": 29,
    "start_time": "2022-08-07T08:31:42.577Z"
   },
   {
    "duration": 26,
    "start_time": "2022-08-07T08:31:42.608Z"
   },
   {
    "duration": 3,
    "start_time": "2022-08-07T08:31:42.635Z"
   },
   {
    "duration": 47,
    "start_time": "2022-08-07T08:31:42.640Z"
   },
   {
    "duration": 78,
    "start_time": "2022-08-07T08:31:42.688Z"
   },
   {
    "duration": 3,
    "start_time": "2022-08-07T08:38:31.376Z"
   },
   {
    "duration": 817,
    "start_time": "2022-08-07T08:38:31.381Z"
   },
   {
    "duration": 4,
    "start_time": "2022-08-07T08:38:32.201Z"
   },
   {
    "duration": 854,
    "start_time": "2022-08-07T08:38:32.208Z"
   },
   {
    "duration": 5,
    "start_time": "2022-08-07T08:38:33.065Z"
   },
   {
    "duration": 44,
    "start_time": "2022-08-07T08:38:33.072Z"
   },
   {
    "duration": 350,
    "start_time": "2022-08-07T08:38:33.119Z"
   },
   {
    "duration": 35,
    "start_time": "2022-08-07T08:38:33.471Z"
   },
   {
    "duration": 238,
    "start_time": "2022-08-07T08:38:33.509Z"
   },
   {
    "duration": 83,
    "start_time": "2022-08-07T08:38:33.749Z"
   },
   {
    "duration": 3,
    "start_time": "2022-08-07T08:38:33.834Z"
   },
   {
    "duration": 66,
    "start_time": "2022-08-07T08:38:33.838Z"
   },
   {
    "duration": 47,
    "start_time": "2022-08-07T08:38:33.906Z"
   },
   {
    "duration": 70,
    "start_time": "2022-08-07T08:38:33.955Z"
   },
   {
    "duration": 67,
    "start_time": "2022-08-07T08:38:34.026Z"
   },
   {
    "duration": 63,
    "start_time": "2022-08-07T08:38:34.095Z"
   },
   {
    "duration": 64,
    "start_time": "2022-08-07T08:38:34.160Z"
   },
   {
    "duration": 3,
    "start_time": "2022-08-07T08:38:34.226Z"
   },
   {
    "duration": 126,
    "start_time": "2022-08-07T08:38:34.230Z"
   },
   {
    "duration": 527,
    "start_time": "2022-08-07T08:38:34.358Z"
   },
   {
    "duration": 276,
    "start_time": "2022-08-07T08:38:34.887Z"
   },
   {
    "duration": 36,
    "start_time": "2022-08-07T08:38:35.165Z"
   },
   {
    "duration": 26,
    "start_time": "2022-08-07T08:38:35.203Z"
   },
   {
    "duration": 4,
    "start_time": "2022-08-07T08:38:35.231Z"
   },
   {
    "duration": 95,
    "start_time": "2022-08-07T08:38:35.236Z"
   },
   {
    "duration": 25,
    "start_time": "2022-08-07T08:38:35.333Z"
   },
   {
    "duration": 327,
    "start_time": "2022-08-07T08:38:35.360Z"
   },
   {
    "duration": 24,
    "start_time": "2022-08-07T08:38:35.688Z"
   },
   {
    "duration": 23,
    "start_time": "2022-08-07T08:38:35.714Z"
   },
   {
    "duration": 4,
    "start_time": "2022-08-07T08:38:35.738Z"
   },
   {
    "duration": 50,
    "start_time": "2022-08-07T08:38:35.743Z"
   },
   {
    "duration": 66,
    "start_time": "2022-08-07T08:38:35.795Z"
   },
   {
    "duration": 4,
    "start_time": "2022-08-07T09:13:30.315Z"
   },
   {
    "duration": 799,
    "start_time": "2022-08-07T09:13:30.322Z"
   },
   {
    "duration": 3,
    "start_time": "2022-08-07T09:13:31.123Z"
   },
   {
    "duration": 813,
    "start_time": "2022-08-07T09:13:31.128Z"
   },
   {
    "duration": 6,
    "start_time": "2022-08-07T09:13:31.943Z"
   },
   {
    "duration": 45,
    "start_time": "2022-08-07T09:13:31.950Z"
   },
   {
    "duration": 238,
    "start_time": "2022-08-07T09:13:31.997Z"
   },
   {
    "duration": 36,
    "start_time": "2022-08-07T09:13:32.238Z"
   },
   {
    "duration": 251,
    "start_time": "2022-08-07T09:13:32.275Z"
   },
   {
    "duration": 119,
    "start_time": "2022-08-07T09:13:32.528Z"
   },
   {
    "duration": 4,
    "start_time": "2022-08-07T09:13:32.648Z"
   },
   {
    "duration": 69,
    "start_time": "2022-08-07T09:13:32.653Z"
   },
   {
    "duration": 62,
    "start_time": "2022-08-07T09:13:32.725Z"
   },
   {
    "duration": 83,
    "start_time": "2022-08-07T09:13:32.789Z"
   },
   {
    "duration": 49,
    "start_time": "2022-08-07T09:13:32.886Z"
   },
   {
    "duration": 63,
    "start_time": "2022-08-07T09:13:32.937Z"
   },
   {
    "duration": 61,
    "start_time": "2022-08-07T09:13:33.002Z"
   },
   {
    "duration": 3,
    "start_time": "2022-08-07T09:13:33.064Z"
   },
   {
    "duration": 155,
    "start_time": "2022-08-07T09:13:33.068Z"
   },
   {
    "duration": 570,
    "start_time": "2022-08-07T09:13:33.225Z"
   },
   {
    "duration": 286,
    "start_time": "2022-08-07T09:13:33.797Z"
   },
   {
    "duration": 26,
    "start_time": "2022-08-07T09:13:34.087Z"
   },
   {
    "duration": 26,
    "start_time": "2022-08-07T09:13:34.115Z"
   },
   {
    "duration": 4,
    "start_time": "2022-08-07T09:13:34.142Z"
   },
   {
    "duration": 98,
    "start_time": "2022-08-07T09:13:34.147Z"
   },
   {
    "duration": 41,
    "start_time": "2022-08-07T09:13:34.247Z"
   },
   {
    "duration": 328,
    "start_time": "2022-08-07T09:13:34.291Z"
   },
   {
    "duration": 24,
    "start_time": "2022-08-07T09:13:34.620Z"
   },
   {
    "duration": 42,
    "start_time": "2022-08-07T09:13:34.646Z"
   },
   {
    "duration": 4,
    "start_time": "2022-08-07T09:13:34.689Z"
   },
   {
    "duration": 31,
    "start_time": "2022-08-07T09:13:34.695Z"
   },
   {
    "duration": 87,
    "start_time": "2022-08-07T09:13:34.727Z"
   },
   {
    "duration": 3,
    "start_time": "2022-08-07T09:14:26.095Z"
   },
   {
    "duration": 757,
    "start_time": "2022-08-07T09:14:26.100Z"
   },
   {
    "duration": 3,
    "start_time": "2022-08-07T09:14:26.859Z"
   },
   {
    "duration": 730,
    "start_time": "2022-08-07T09:14:26.863Z"
   },
   {
    "duration": 3,
    "start_time": "2022-08-07T09:14:27.596Z"
   },
   {
    "duration": 63,
    "start_time": "2022-08-07T09:14:27.601Z"
   },
   {
    "duration": 250,
    "start_time": "2022-08-07T09:14:27.665Z"
   },
   {
    "duration": 26,
    "start_time": "2022-08-07T09:14:27.917Z"
   },
   {
    "duration": 211,
    "start_time": "2022-08-07T09:14:27.944Z"
   },
   {
    "duration": 78,
    "start_time": "2022-08-07T09:14:28.156Z"
   },
   {
    "duration": 3,
    "start_time": "2022-08-07T09:14:28.235Z"
   },
   {
    "duration": 59,
    "start_time": "2022-08-07T09:14:28.240Z"
   },
   {
    "duration": 43,
    "start_time": "2022-08-07T09:14:28.301Z"
   },
   {
    "duration": 59,
    "start_time": "2022-08-07T09:14:28.347Z"
   },
   {
    "duration": 46,
    "start_time": "2022-08-07T09:14:28.408Z"
   },
   {
    "duration": 61,
    "start_time": "2022-08-07T09:14:28.455Z"
   },
   {
    "duration": 44,
    "start_time": "2022-08-07T09:14:28.518Z"
   },
   {
    "duration": 3,
    "start_time": "2022-08-07T09:14:28.563Z"
   },
   {
    "duration": 113,
    "start_time": "2022-08-07T09:14:28.586Z"
   },
   {
    "duration": 516,
    "start_time": "2022-08-07T09:14:28.700Z"
   },
   {
    "duration": 361,
    "start_time": "2022-08-07T09:14:29.218Z"
   },
   {
    "duration": 28,
    "start_time": "2022-08-07T09:14:29.581Z"
   },
   {
    "duration": 27,
    "start_time": "2022-08-07T09:14:29.610Z"
   },
   {
    "duration": 4,
    "start_time": "2022-08-07T09:14:29.639Z"
   },
   {
    "duration": 97,
    "start_time": "2022-08-07T09:14:29.645Z"
   },
   {
    "duration": 24,
    "start_time": "2022-08-07T09:14:29.743Z"
   },
   {
    "duration": 330,
    "start_time": "2022-08-07T09:14:29.769Z"
   },
   {
    "duration": 24,
    "start_time": "2022-08-07T09:14:30.100Z"
   },
   {
    "duration": 23,
    "start_time": "2022-08-07T09:14:30.125Z"
   },
   {
    "duration": 4,
    "start_time": "2022-08-07T09:14:30.150Z"
   },
   {
    "duration": 44,
    "start_time": "2022-08-07T09:14:30.155Z"
   },
   {
    "duration": 73,
    "start_time": "2022-08-07T09:14:30.201Z"
   },
   {
    "duration": 82,
    "start_time": "2022-08-07T09:15:13.863Z"
   },
   {
    "duration": 3,
    "start_time": "2022-08-07T09:19:15.440Z"
   },
   {
    "duration": 54,
    "start_time": "2022-08-07T09:22:41.014Z"
   },
   {
    "duration": 2156,
    "start_time": "2022-08-08T08:15:00.871Z"
   },
   {
    "duration": 3622,
    "start_time": "2022-08-08T08:15:03.029Z"
   },
   {
    "duration": 6,
    "start_time": "2022-08-08T08:15:06.653Z"
   },
   {
    "duration": 984,
    "start_time": "2022-08-08T08:15:06.662Z"
   },
   {
    "duration": 3,
    "start_time": "2022-08-08T08:15:07.648Z"
   },
   {
    "duration": 75,
    "start_time": "2022-08-08T08:15:07.653Z"
   },
   {
    "duration": 305,
    "start_time": "2022-08-08T08:15:07.729Z"
   },
   {
    "duration": 45,
    "start_time": "2022-08-08T08:15:08.036Z"
   },
   {
    "duration": 263,
    "start_time": "2022-08-08T08:15:08.090Z"
   },
   {
    "duration": 142,
    "start_time": "2022-08-08T08:15:08.356Z"
   },
   {
    "duration": 4,
    "start_time": "2022-08-08T08:15:08.500Z"
   },
   {
    "duration": 47,
    "start_time": "2022-08-08T08:15:08.506Z"
   },
   {
    "duration": 58,
    "start_time": "2022-08-08T08:15:08.570Z"
   },
   {
    "duration": 79,
    "start_time": "2022-08-08T08:15:08.629Z"
   },
   {
    "duration": 63,
    "start_time": "2022-08-08T08:15:08.710Z"
   },
   {
    "duration": 128,
    "start_time": "2022-08-08T08:15:08.779Z"
   },
   {
    "duration": 70,
    "start_time": "2022-08-08T08:15:08.909Z"
   },
   {
    "duration": 28,
    "start_time": "2022-08-08T08:15:08.981Z"
   },
   {
    "duration": 145,
    "start_time": "2022-08-08T08:15:09.011Z"
   },
   {
    "duration": 676,
    "start_time": "2022-08-08T08:15:09.158Z"
   },
   {
    "duration": 412,
    "start_time": "2022-08-08T08:15:09.835Z"
   },
   {
    "duration": 44,
    "start_time": "2022-08-08T08:15:10.249Z"
   },
   {
    "duration": 32,
    "start_time": "2022-08-08T08:15:10.295Z"
   },
   {
    "duration": 4,
    "start_time": "2022-08-08T08:15:10.330Z"
   },
   {
    "duration": 103,
    "start_time": "2022-08-08T08:15:10.335Z"
   },
   {
    "duration": 43,
    "start_time": "2022-08-08T08:15:10.440Z"
   },
   {
    "duration": 358,
    "start_time": "2022-08-08T08:15:10.485Z"
   },
   {
    "duration": 48,
    "start_time": "2022-08-08T08:15:10.846Z"
   },
   {
    "duration": 27,
    "start_time": "2022-08-08T08:15:10.896Z"
   },
   {
    "duration": 4,
    "start_time": "2022-08-08T08:15:10.925Z"
   },
   {
    "duration": 50,
    "start_time": "2022-08-08T08:15:10.931Z"
   },
   {
    "duration": 90,
    "start_time": "2022-08-08T08:15:10.989Z"
   },
   {
    "duration": 7,
    "start_time": "2022-08-08T08:15:11.088Z"
   },
   {
    "duration": 5,
    "start_time": "2022-08-08T09:46:01.577Z"
   },
   {
    "duration": 3129,
    "start_time": "2022-08-08T09:46:01.585Z"
   },
   {
    "duration": 3,
    "start_time": "2022-08-08T09:46:04.716Z"
   },
   {
    "duration": 848,
    "start_time": "2022-08-08T09:46:04.721Z"
   },
   {
    "duration": 4,
    "start_time": "2022-08-08T09:46:05.572Z"
   },
   {
    "duration": 45,
    "start_time": "2022-08-08T09:46:05.577Z"
   },
   {
    "duration": 280,
    "start_time": "2022-08-08T09:46:05.624Z"
   },
   {
    "duration": 33,
    "start_time": "2022-08-08T09:46:05.906Z"
   },
   {
    "duration": 259,
    "start_time": "2022-08-08T09:46:05.941Z"
   },
   {
    "duration": 81,
    "start_time": "2022-08-08T09:46:06.202Z"
   },
   {
    "duration": 12,
    "start_time": "2022-08-08T09:46:06.286Z"
   },
   {
    "duration": 62,
    "start_time": "2022-08-08T09:46:06.300Z"
   },
   {
    "duration": 49,
    "start_time": "2022-08-08T09:46:06.364Z"
   },
   {
    "duration": 80,
    "start_time": "2022-08-08T09:46:06.415Z"
   },
   {
    "duration": 91,
    "start_time": "2022-08-08T09:46:06.497Z"
   },
   {
    "duration": 87,
    "start_time": "2022-08-08T09:46:06.590Z"
   },
   {
    "duration": 63,
    "start_time": "2022-08-08T09:46:06.680Z"
   },
   {
    "duration": 23,
    "start_time": "2022-08-08T09:46:06.746Z"
   },
   {
    "duration": 133,
    "start_time": "2022-08-08T09:46:06.771Z"
   },
   {
    "duration": 600,
    "start_time": "2022-08-08T09:46:06.906Z"
   },
   {
    "duration": 332,
    "start_time": "2022-08-08T09:46:07.508Z"
   },
   {
    "duration": 39,
    "start_time": "2022-08-08T09:46:07.842Z"
   },
   {
    "duration": 30,
    "start_time": "2022-08-08T09:46:07.883Z"
   },
   {
    "duration": 5,
    "start_time": "2022-08-08T09:46:07.914Z"
   },
   {
    "duration": 112,
    "start_time": "2022-08-08T09:46:07.920Z"
   },
   {
    "duration": 35,
    "start_time": "2022-08-08T09:46:08.035Z"
   },
   {
    "duration": 334,
    "start_time": "2022-08-08T09:46:08.072Z"
   },
   {
    "duration": 28,
    "start_time": "2022-08-08T09:46:08.408Z"
   },
   {
    "duration": 42,
    "start_time": "2022-08-08T09:46:08.440Z"
   },
   {
    "duration": 4,
    "start_time": "2022-08-08T09:46:08.484Z"
   },
   {
    "duration": 22,
    "start_time": "2022-08-08T09:46:08.489Z"
   },
   {
    "duration": 102,
    "start_time": "2022-08-08T09:46:08.513Z"
   },
   {
    "duration": 4,
    "start_time": "2022-08-08T09:46:08.617Z"
   },
   {
    "duration": 4,
    "start_time": "2022-08-08T11:22:46.515Z"
   },
   {
    "duration": 4,
    "start_time": "2022-08-08T11:22:48.917Z"
   },
   {
    "duration": 3019,
    "start_time": "2022-08-08T11:22:48.922Z"
   },
   {
    "duration": 4,
    "start_time": "2022-08-08T11:22:51.942Z"
   },
   {
    "duration": 780,
    "start_time": "2022-08-08T11:22:51.949Z"
   },
   {
    "duration": 4,
    "start_time": "2022-08-08T11:22:52.731Z"
   },
   {
    "duration": 48,
    "start_time": "2022-08-08T11:22:52.737Z"
   },
   {
    "duration": 226,
    "start_time": "2022-08-08T11:22:52.787Z"
   },
   {
    "duration": 33,
    "start_time": "2022-08-08T11:22:53.015Z"
   },
   {
    "duration": 247,
    "start_time": "2022-08-08T11:22:53.050Z"
   },
   {
    "duration": 80,
    "start_time": "2022-08-08T11:22:53.301Z"
   },
   {
    "duration": 3,
    "start_time": "2022-08-08T11:22:53.382Z"
   },
   {
    "duration": 48,
    "start_time": "2022-08-08T11:22:53.387Z"
   },
   {
    "duration": 59,
    "start_time": "2022-08-08T11:22:53.437Z"
   },
   {
    "duration": 70,
    "start_time": "2022-08-08T11:22:53.499Z"
   },
   {
    "duration": 48,
    "start_time": "2022-08-08T11:22:53.570Z"
   },
   {
    "duration": 71,
    "start_time": "2022-08-08T11:22:53.619Z"
   },
   {
    "duration": 45,
    "start_time": "2022-08-08T11:22:53.692Z"
   },
   {
    "duration": 3,
    "start_time": "2022-08-08T11:22:53.739Z"
   },
   {
    "duration": 125,
    "start_time": "2022-08-08T11:22:53.744Z"
   },
   {
    "duration": 556,
    "start_time": "2022-08-08T11:22:53.870Z"
   },
   {
    "duration": 296,
    "start_time": "2022-08-08T11:22:54.428Z"
   },
   {
    "duration": 28,
    "start_time": "2022-08-08T11:22:54.725Z"
   },
   {
    "duration": 33,
    "start_time": "2022-08-08T11:22:54.760Z"
   },
   {
    "duration": 4,
    "start_time": "2022-08-08T11:22:54.795Z"
   },
   {
    "duration": 192,
    "start_time": "2022-08-08T11:22:54.801Z"
   },
   {
    "duration": 26,
    "start_time": "2022-08-08T11:22:54.995Z"
   },
   {
    "duration": 318,
    "start_time": "2022-08-08T11:22:55.023Z"
   },
   {
    "duration": 41,
    "start_time": "2022-08-08T11:22:55.344Z"
   },
   {
    "duration": 25,
    "start_time": "2022-08-08T11:22:55.387Z"
   },
   {
    "duration": 6,
    "start_time": "2022-08-08T11:22:55.414Z"
   },
   {
    "duration": 30,
    "start_time": "2022-08-08T11:22:55.422Z"
   },
   {
    "duration": 80,
    "start_time": "2022-08-08T11:22:55.467Z"
   },
   {
    "duration": 3,
    "start_time": "2022-08-08T11:22:55.549Z"
   },
   {
    "duration": 112,
    "start_time": "2022-08-08T11:22:55.568Z"
   },
   {
    "duration": 3,
    "start_time": "2022-08-08T11:24:41.903Z"
   },
   {
    "duration": 3,
    "start_time": "2022-08-08T11:40:06.063Z"
   },
   {
    "duration": 6,
    "start_time": "2022-08-08T11:48:55.275Z"
   },
   {
    "duration": 31,
    "start_time": "2022-08-08T11:50:30.404Z"
   },
   {
    "duration": 3,
    "start_time": "2022-08-08T12:34:40.383Z"
   },
   {
    "duration": 4,
    "start_time": "2022-08-08T12:34:46.048Z"
   },
   {
    "duration": 993,
    "start_time": "2022-08-08T12:34:46.055Z"
   },
   {
    "duration": 4,
    "start_time": "2022-08-08T12:34:47.049Z"
   },
   {
    "duration": 773,
    "start_time": "2022-08-08T12:34:47.056Z"
   },
   {
    "duration": 4,
    "start_time": "2022-08-08T12:34:47.830Z"
   },
   {
    "duration": 47,
    "start_time": "2022-08-08T12:34:47.836Z"
   },
   {
    "duration": 285,
    "start_time": "2022-08-08T12:34:47.885Z"
   },
   {
    "duration": 32,
    "start_time": "2022-08-08T12:34:48.171Z"
   },
   {
    "duration": 262,
    "start_time": "2022-08-08T12:34:48.205Z"
   },
   {
    "duration": 79,
    "start_time": "2022-08-08T12:34:48.470Z"
   },
   {
    "duration": 17,
    "start_time": "2022-08-08T12:34:48.551Z"
   },
   {
    "duration": 68,
    "start_time": "2022-08-08T12:34:48.570Z"
   },
   {
    "duration": 63,
    "start_time": "2022-08-08T12:34:48.640Z"
   },
   {
    "duration": 67,
    "start_time": "2022-08-08T12:34:48.705Z"
   },
   {
    "duration": 57,
    "start_time": "2022-08-08T12:34:48.773Z"
   },
   {
    "duration": 77,
    "start_time": "2022-08-08T12:34:48.831Z"
   },
   {
    "duration": 65,
    "start_time": "2022-08-08T12:34:48.910Z"
   },
   {
    "duration": 3,
    "start_time": "2022-08-08T12:34:48.976Z"
   },
   {
    "duration": 108,
    "start_time": "2022-08-08T12:34:48.981Z"
   },
   {
    "duration": 596,
    "start_time": "2022-08-08T12:34:49.091Z"
   },
   {
    "duration": 316,
    "start_time": "2022-08-08T12:34:49.689Z"
   },
   {
    "duration": 31,
    "start_time": "2022-08-08T12:34:50.007Z"
   },
   {
    "duration": 45,
    "start_time": "2022-08-08T12:34:50.039Z"
   },
   {
    "duration": 4,
    "start_time": "2022-08-08T12:34:50.085Z"
   },
   {
    "duration": 100,
    "start_time": "2022-08-08T12:34:50.090Z"
   },
   {
    "duration": 27,
    "start_time": "2022-08-08T12:34:50.191Z"
   },
   {
    "duration": 338,
    "start_time": "2022-08-08T12:34:50.220Z"
   },
   {
    "duration": 27,
    "start_time": "2022-08-08T12:34:50.567Z"
   },
   {
    "duration": 26,
    "start_time": "2022-08-08T12:34:50.596Z"
   },
   {
    "duration": 4,
    "start_time": "2022-08-08T12:34:50.624Z"
   },
   {
    "duration": 52,
    "start_time": "2022-08-08T12:34:50.629Z"
   },
   {
    "duration": 89,
    "start_time": "2022-08-08T12:34:50.683Z"
   },
   {
    "duration": 3,
    "start_time": "2022-08-08T12:34:50.773Z"
   },
   {
    "duration": 22,
    "start_time": "2022-08-08T12:34:50.778Z"
   },
   {
    "duration": 97,
    "start_time": "2022-08-08T12:34:50.801Z"
   },
   {
    "duration": 4,
    "start_time": "2022-08-08T12:44:08.114Z"
   },
   {
    "duration": 775,
    "start_time": "2022-08-08T12:44:08.119Z"
   },
   {
    "duration": 4,
    "start_time": "2022-08-08T12:44:08.895Z"
   },
   {
    "duration": 770,
    "start_time": "2022-08-08T12:44:08.901Z"
   },
   {
    "duration": 4,
    "start_time": "2022-08-08T12:44:09.673Z"
   },
   {
    "duration": 46,
    "start_time": "2022-08-08T12:44:09.679Z"
   },
   {
    "duration": 255,
    "start_time": "2022-08-08T12:44:09.727Z"
   },
   {
    "duration": 26,
    "start_time": "2022-08-08T12:44:09.984Z"
   },
   {
    "duration": 240,
    "start_time": "2022-08-08T12:44:10.012Z"
   },
   {
    "duration": 85,
    "start_time": "2022-08-08T12:44:10.255Z"
   },
   {
    "duration": 3,
    "start_time": "2022-08-08T12:44:10.342Z"
   },
   {
    "duration": 71,
    "start_time": "2022-08-08T12:44:10.347Z"
   },
   {
    "duration": 62,
    "start_time": "2022-08-08T12:44:10.420Z"
   },
   {
    "duration": 50,
    "start_time": "2022-08-08T12:44:10.484Z"
   },
   {
    "duration": 64,
    "start_time": "2022-08-08T12:44:10.536Z"
   },
   {
    "duration": 70,
    "start_time": "2022-08-08T12:44:10.602Z"
   },
   {
    "duration": 45,
    "start_time": "2022-08-08T12:44:10.674Z"
   },
   {
    "duration": 2,
    "start_time": "2022-08-08T12:44:10.721Z"
   },
   {
    "duration": 132,
    "start_time": "2022-08-08T12:44:10.724Z"
   },
   {
    "duration": 548,
    "start_time": "2022-08-08T12:44:10.858Z"
   },
   {
    "duration": 352,
    "start_time": "2022-08-08T12:44:11.408Z"
   },
   {
    "duration": 35,
    "start_time": "2022-08-08T12:44:11.762Z"
   },
   {
    "duration": 34,
    "start_time": "2022-08-08T12:44:11.799Z"
   },
   {
    "duration": 4,
    "start_time": "2022-08-08T12:44:11.835Z"
   },
   {
    "duration": 108,
    "start_time": "2022-08-08T12:44:11.841Z"
   },
   {
    "duration": 40,
    "start_time": "2022-08-08T12:44:11.951Z"
   },
   {
    "duration": 335,
    "start_time": "2022-08-08T12:44:11.993Z"
   },
   {
    "duration": 36,
    "start_time": "2022-08-08T12:44:12.332Z"
   },
   {
    "duration": 27,
    "start_time": "2022-08-08T12:44:12.369Z"
   },
   {
    "duration": 4,
    "start_time": "2022-08-08T12:44:12.397Z"
   },
   {
    "duration": 31,
    "start_time": "2022-08-08T12:44:12.403Z"
   },
   {
    "duration": 94,
    "start_time": "2022-08-08T12:44:12.436Z"
   },
   {
    "duration": 2,
    "start_time": "2022-08-08T12:44:12.533Z"
   },
   {
    "duration": 7,
    "start_time": "2022-08-08T12:44:12.537Z"
   },
   {
    "duration": 134,
    "start_time": "2022-08-08T12:44:12.546Z"
   },
   {
    "duration": 2962,
    "start_time": "2022-08-08T12:53:27.885Z"
   },
   {
    "duration": 90,
    "start_time": "2022-08-08T13:15:46.925Z"
   },
   {
    "duration": 11,
    "start_time": "2022-08-08T13:15:52.714Z"
   },
   {
    "duration": 13,
    "start_time": "2022-08-08T13:16:32.320Z"
   },
   {
    "duration": 3,
    "start_time": "2022-08-08T13:18:08.801Z"
   },
   {
    "duration": 4,
    "start_time": "2022-08-08T13:18:12.552Z"
   },
   {
    "duration": 1369,
    "start_time": "2022-08-08T13:18:12.558Z"
   },
   {
    "duration": 3,
    "start_time": "2022-08-08T13:18:13.929Z"
   },
   {
    "duration": 855,
    "start_time": "2022-08-08T13:18:13.934Z"
   },
   {
    "duration": 3,
    "start_time": "2022-08-08T13:18:14.791Z"
   },
   {
    "duration": 36,
    "start_time": "2022-08-08T13:18:14.796Z"
   },
   {
    "duration": 262,
    "start_time": "2022-08-08T13:18:14.834Z"
   },
   {
    "duration": 31,
    "start_time": "2022-08-08T13:18:15.097Z"
   },
   {
    "duration": 287,
    "start_time": "2022-08-08T13:18:15.129Z"
   },
   {
    "duration": 78,
    "start_time": "2022-08-08T13:18:15.418Z"
   },
   {
    "duration": 3,
    "start_time": "2022-08-08T13:18:15.498Z"
   },
   {
    "duration": 69,
    "start_time": "2022-08-08T13:18:15.503Z"
   },
   {
    "duration": 47,
    "start_time": "2022-08-08T13:18:15.574Z"
   },
   {
    "duration": 54,
    "start_time": "2022-08-08T13:18:15.638Z"
   },
   {
    "duration": 47,
    "start_time": "2022-08-08T13:18:15.694Z"
   },
   {
    "duration": 65,
    "start_time": "2022-08-08T13:18:15.743Z"
   },
   {
    "duration": 63,
    "start_time": "2022-08-08T13:18:15.810Z"
   },
   {
    "duration": 3,
    "start_time": "2022-08-08T13:18:15.874Z"
   },
   {
    "duration": 122,
    "start_time": "2022-08-08T13:18:15.878Z"
   },
   {
    "duration": 606,
    "start_time": "2022-08-08T13:18:16.002Z"
   },
   {
    "duration": 355,
    "start_time": "2022-08-08T13:18:16.610Z"
   },
   {
    "duration": 29,
    "start_time": "2022-08-08T13:18:16.966Z"
   },
   {
    "duration": 28,
    "start_time": "2022-08-08T13:18:16.997Z"
   },
   {
    "duration": 4,
    "start_time": "2022-08-08T13:18:17.027Z"
   },
   {
    "duration": 105,
    "start_time": "2022-08-08T13:18:17.033Z"
   },
   {
    "duration": 33,
    "start_time": "2022-08-08T13:18:17.141Z"
   },
   {
    "duration": 327,
    "start_time": "2022-08-08T13:18:17.176Z"
   },
   {
    "duration": 30,
    "start_time": "2022-08-08T13:18:17.505Z"
   },
   {
    "duration": 45,
    "start_time": "2022-08-08T13:18:17.538Z"
   },
   {
    "duration": 4,
    "start_time": "2022-08-08T13:18:17.584Z"
   },
   {
    "duration": 21,
    "start_time": "2022-08-08T13:18:17.590Z"
   },
   {
    "duration": 89,
    "start_time": "2022-08-08T13:18:17.613Z"
   },
   {
    "duration": 3,
    "start_time": "2022-08-08T13:18:17.704Z"
   },
   {
    "duration": 8,
    "start_time": "2022-08-08T13:18:17.708Z"
   },
   {
    "duration": 13,
    "start_time": "2022-08-08T13:18:17.718Z"
   },
   {
    "duration": 13,
    "start_time": "2022-08-08T13:19:53.981Z"
   },
   {
    "duration": 0,
    "start_time": "2022-08-08T13:30:28.612Z"
   },
   {
    "duration": 87668,
    "start_time": "2022-08-08T13:30:33.123Z"
   },
   {
    "duration": 26440,
    "start_time": "2022-08-08T13:32:05.487Z"
   },
   {
    "duration": 13,
    "start_time": "2022-08-08T13:33:11.897Z"
   },
   {
    "duration": 130,
    "start_time": "2022-08-08T13:33:43.640Z"
   },
   {
    "duration": 74855,
    "start_time": "2022-08-08T13:33:51.853Z"
   },
   {
    "duration": 159,
    "start_time": "2022-08-08T13:37:06.512Z"
   },
   {
    "duration": 147,
    "start_time": "2022-08-08T13:37:51.610Z"
   },
   {
    "duration": 9,
    "start_time": "2022-08-08T14:09:54.029Z"
   },
   {
    "duration": 122,
    "start_time": "2022-08-08T14:10:52.631Z"
   },
   {
    "duration": 4,
    "start_time": "2022-08-08T14:10:56.040Z"
   },
   {
    "duration": 955,
    "start_time": "2022-08-08T14:10:56.046Z"
   },
   {
    "duration": 4,
    "start_time": "2022-08-08T14:10:57.002Z"
   },
   {
    "duration": 814,
    "start_time": "2022-08-08T14:10:57.009Z"
   },
   {
    "duration": 4,
    "start_time": "2022-08-08T14:10:57.825Z"
   },
   {
    "duration": 80,
    "start_time": "2022-08-08T14:10:57.831Z"
   },
   {
    "duration": 274,
    "start_time": "2022-08-08T14:10:57.914Z"
   },
   {
    "duration": 26,
    "start_time": "2022-08-08T14:10:58.190Z"
   },
   {
    "duration": 260,
    "start_time": "2022-08-08T14:10:58.217Z"
   },
   {
    "duration": 101,
    "start_time": "2022-08-08T14:10:58.481Z"
   },
   {
    "duration": 4,
    "start_time": "2022-08-08T14:10:58.583Z"
   },
   {
    "duration": 59,
    "start_time": "2022-08-08T14:10:58.590Z"
   },
   {
    "duration": 58,
    "start_time": "2022-08-08T14:10:58.668Z"
   },
   {
    "duration": 74,
    "start_time": "2022-08-08T14:10:58.728Z"
   },
   {
    "duration": 68,
    "start_time": "2022-08-08T14:10:58.804Z"
   },
   {
    "duration": 76,
    "start_time": "2022-08-08T14:10:58.874Z"
   },
   {
    "duration": 74,
    "start_time": "2022-08-08T14:10:58.952Z"
   },
   {
    "duration": 3,
    "start_time": "2022-08-08T14:10:59.029Z"
   },
   {
    "duration": 199,
    "start_time": "2022-08-08T14:10:59.034Z"
   },
   {
    "duration": 619,
    "start_time": "2022-08-08T14:10:59.236Z"
   },
   {
    "duration": 359,
    "start_time": "2022-08-08T14:10:59.867Z"
   },
   {
    "duration": 42,
    "start_time": "2022-08-08T14:11:00.228Z"
   },
   {
    "duration": 45,
    "start_time": "2022-08-08T14:11:00.272Z"
   },
   {
    "duration": 38,
    "start_time": "2022-08-08T14:11:00.320Z"
   },
   {
    "duration": 131,
    "start_time": "2022-08-08T14:11:00.360Z"
   },
   {
    "duration": 26,
    "start_time": "2022-08-08T14:11:00.493Z"
   },
   {
    "duration": 368,
    "start_time": "2022-08-08T14:11:00.522Z"
   },
   {
    "duration": 29,
    "start_time": "2022-08-08T14:11:00.893Z"
   },
   {
    "duration": 57,
    "start_time": "2022-08-08T14:11:00.925Z"
   },
   {
    "duration": 6,
    "start_time": "2022-08-08T14:11:00.984Z"
   },
   {
    "duration": 38,
    "start_time": "2022-08-08T14:11:00.993Z"
   },
   {
    "duration": 140,
    "start_time": "2022-08-08T14:11:01.033Z"
   },
   {
    "duration": 3,
    "start_time": "2022-08-08T14:11:01.175Z"
   },
   {
    "duration": 71,
    "start_time": "2022-08-08T14:11:01.181Z"
   },
   {
    "duration": 175,
    "start_time": "2022-08-08T14:11:01.254Z"
   },
   {
    "duration": 0,
    "start_time": "2022-08-08T14:11:01.431Z"
   },
   {
    "duration": 0,
    "start_time": "2022-08-08T14:11:01.434Z"
   },
   {
    "duration": 67,
    "start_time": "2022-08-08T14:14:16.562Z"
   },
   {
    "duration": 6,
    "start_time": "2022-08-08T14:17:58.967Z"
   },
   {
    "duration": 5,
    "start_time": "2022-08-08T14:18:08.170Z"
   },
   {
    "duration": 836,
    "start_time": "2022-08-08T14:18:08.178Z"
   },
   {
    "duration": 4,
    "start_time": "2022-08-08T14:18:09.016Z"
   },
   {
    "duration": 770,
    "start_time": "2022-08-08T14:18:09.022Z"
   },
   {
    "duration": 4,
    "start_time": "2022-08-08T14:18:09.795Z"
   },
   {
    "duration": 72,
    "start_time": "2022-08-08T14:18:09.801Z"
   },
   {
    "duration": 236,
    "start_time": "2022-08-08T14:18:09.874Z"
   },
   {
    "duration": 26,
    "start_time": "2022-08-08T14:18:10.112Z"
   },
   {
    "duration": 245,
    "start_time": "2022-08-08T14:18:10.153Z"
   },
   {
    "duration": 84,
    "start_time": "2022-08-08T14:18:10.401Z"
   },
   {
    "duration": 3,
    "start_time": "2022-08-08T14:18:10.487Z"
   },
   {
    "duration": 48,
    "start_time": "2022-08-08T14:18:10.492Z"
   },
   {
    "duration": 67,
    "start_time": "2022-08-08T14:18:10.542Z"
   },
   {
    "duration": 72,
    "start_time": "2022-08-08T14:18:10.613Z"
   },
   {
    "duration": 50,
    "start_time": "2022-08-08T14:18:10.686Z"
   },
   {
    "duration": 70,
    "start_time": "2022-08-08T14:18:10.737Z"
   },
   {
    "duration": 79,
    "start_time": "2022-08-08T14:18:10.809Z"
   },
   {
    "duration": 3,
    "start_time": "2022-08-08T14:18:10.890Z"
   },
   {
    "duration": 136,
    "start_time": "2022-08-08T14:18:10.895Z"
   },
   {
    "duration": 701,
    "start_time": "2022-08-08T14:18:11.034Z"
   },
   {
    "duration": 324,
    "start_time": "2022-08-08T14:18:11.737Z"
   },
   {
    "duration": 31,
    "start_time": "2022-08-08T14:18:12.063Z"
   },
   {
    "duration": 28,
    "start_time": "2022-08-08T14:18:12.096Z"
   },
   {
    "duration": 4,
    "start_time": "2022-08-08T14:18:12.126Z"
   },
   {
    "duration": 83,
    "start_time": "2022-08-08T14:18:12.168Z"
   },
   {
    "duration": 38,
    "start_time": "2022-08-08T14:18:12.253Z"
   },
   {
    "duration": 343,
    "start_time": "2022-08-08T14:18:12.293Z"
   },
   {
    "duration": 40,
    "start_time": "2022-08-08T14:18:12.638Z"
   },
   {
    "duration": 26,
    "start_time": "2022-08-08T14:18:12.680Z"
   },
   {
    "duration": 4,
    "start_time": "2022-08-08T14:18:12.708Z"
   },
   {
    "duration": 25,
    "start_time": "2022-08-08T14:18:12.714Z"
   },
   {
    "duration": 75,
    "start_time": "2022-08-08T14:18:12.767Z"
   },
   {
    "duration": 27,
    "start_time": "2022-08-08T14:18:12.844Z"
   },
   {
    "duration": 0,
    "start_time": "2022-08-08T14:18:12.873Z"
   },
   {
    "duration": 0,
    "start_time": "2022-08-08T14:18:12.875Z"
   },
   {
    "duration": 0,
    "start_time": "2022-08-08T14:18:12.876Z"
   },
   {
    "duration": 0,
    "start_time": "2022-08-08T14:18:12.878Z"
   },
   {
    "duration": 0,
    "start_time": "2022-08-08T14:18:12.880Z"
   },
   {
    "duration": 1036,
    "start_time": "2022-08-08T14:22:00.609Z"
   },
   {
    "duration": 4,
    "start_time": "2022-08-08T14:27:32.933Z"
   },
   {
    "duration": 18,
    "start_time": "2022-08-08T14:28:01.004Z"
   },
   {
    "duration": 9,
    "start_time": "2022-08-08T14:28:13.268Z"
   },
   {
    "duration": 967,
    "start_time": "2022-08-08T14:28:13.282Z"
   },
   {
    "duration": 4,
    "start_time": "2022-08-08T14:28:14.251Z"
   },
   {
    "duration": 847,
    "start_time": "2022-08-08T14:28:14.271Z"
   },
   {
    "duration": 3,
    "start_time": "2022-08-08T14:28:15.120Z"
   },
   {
    "duration": 61,
    "start_time": "2022-08-08T14:28:15.125Z"
   },
   {
    "duration": 258,
    "start_time": "2022-08-08T14:28:15.188Z"
   },
   {
    "duration": 39,
    "start_time": "2022-08-08T14:28:15.449Z"
   },
   {
    "duration": 313,
    "start_time": "2022-08-08T14:28:15.490Z"
   },
   {
    "duration": 82,
    "start_time": "2022-08-08T14:28:15.806Z"
   },
   {
    "duration": 6,
    "start_time": "2022-08-08T14:28:15.890Z"
   },
   {
    "duration": 64,
    "start_time": "2022-08-08T14:28:15.898Z"
   },
   {
    "duration": 56,
    "start_time": "2022-08-08T14:28:15.964Z"
   },
   {
    "duration": 76,
    "start_time": "2022-08-08T14:28:16.022Z"
   },
   {
    "duration": 56,
    "start_time": "2022-08-08T14:28:16.100Z"
   },
   {
    "duration": 56,
    "start_time": "2022-08-08T14:28:16.168Z"
   },
   {
    "duration": 65,
    "start_time": "2022-08-08T14:28:16.225Z"
   },
   {
    "duration": 3,
    "start_time": "2022-08-08T14:28:16.292Z"
   },
   {
    "duration": 138,
    "start_time": "2022-08-08T14:28:16.297Z"
   },
   {
    "duration": 489,
    "start_time": "2022-08-08T14:28:16.437Z"
   },
   {
    "duration": 343,
    "start_time": "2022-08-08T14:28:16.928Z"
   },
   {
    "duration": 29,
    "start_time": "2022-08-08T14:28:17.276Z"
   },
   {
    "duration": 28,
    "start_time": "2022-08-08T14:28:17.307Z"
   },
   {
    "duration": 3,
    "start_time": "2022-08-08T14:28:17.337Z"
   },
   {
    "duration": 96,
    "start_time": "2022-08-08T14:28:17.342Z"
   },
   {
    "duration": 42,
    "start_time": "2022-08-08T14:28:17.440Z"
   },
   {
    "duration": 336,
    "start_time": "2022-08-08T14:28:17.484Z"
   },
   {
    "duration": 27,
    "start_time": "2022-08-08T14:28:17.824Z"
   },
   {
    "duration": 27,
    "start_time": "2022-08-08T14:28:17.878Z"
   },
   {
    "duration": 4,
    "start_time": "2022-08-08T14:28:17.907Z"
   },
   {
    "duration": 1031,
    "start_time": "2022-08-08T14:28:17.913Z"
   },
   {
    "duration": 34,
    "start_time": "2022-08-08T14:28:18.946Z"
   },
   {
    "duration": 0,
    "start_time": "2022-08-08T14:28:18.982Z"
   },
   {
    "duration": 0,
    "start_time": "2022-08-08T14:28:18.983Z"
   },
   {
    "duration": 0,
    "start_time": "2022-08-08T14:28:18.984Z"
   },
   {
    "duration": 0,
    "start_time": "2022-08-08T14:28:18.985Z"
   },
   {
    "duration": 0,
    "start_time": "2022-08-08T14:28:18.986Z"
   },
   {
    "duration": 1,
    "start_time": "2022-08-08T14:28:18.986Z"
   },
   {
    "duration": 0,
    "start_time": "2022-08-08T14:28:18.988Z"
   },
   {
    "duration": 0,
    "start_time": "2022-08-08T14:28:18.989Z"
   },
   {
    "duration": 14,
    "start_time": "2022-08-08T14:30:20.792Z"
   },
   {
    "duration": 247,
    "start_time": "2022-08-08T14:30:52.603Z"
   },
   {
    "duration": 210,
    "start_time": "2022-08-08T14:31:18.819Z"
   },
   {
    "duration": 238,
    "start_time": "2022-08-08T14:31:22.159Z"
   },
   {
    "duration": 6,
    "start_time": "2022-08-08T14:34:00.972Z"
   },
   {
    "duration": 2027,
    "start_time": "2022-08-08T14:34:00.990Z"
   },
   {
    "duration": 52,
    "start_time": "2022-08-08T14:34:03.020Z"
   },
   {
    "duration": 2095,
    "start_time": "2022-08-08T14:34:03.079Z"
   },
   {
    "duration": 6,
    "start_time": "2022-08-08T14:34:05.183Z"
   },
   {
    "duration": 116,
    "start_time": "2022-08-08T14:34:05.192Z"
   },
   {
    "duration": 759,
    "start_time": "2022-08-08T14:34:05.310Z"
   },
   {
    "duration": 25,
    "start_time": "2022-08-08T14:34:06.074Z"
   },
   {
    "duration": 666,
    "start_time": "2022-08-08T14:34:06.101Z"
   },
   {
    "duration": 218,
    "start_time": "2022-08-08T14:34:06.770Z"
   },
   {
    "duration": 3,
    "start_time": "2022-08-08T14:34:06.990Z"
   },
   {
    "duration": 178,
    "start_time": "2022-08-08T14:34:06.995Z"
   },
   {
    "duration": 186,
    "start_time": "2022-08-08T14:34:07.181Z"
   },
   {
    "duration": 114,
    "start_time": "2022-08-08T14:34:07.369Z"
   },
   {
    "duration": 118,
    "start_time": "2022-08-08T14:34:07.487Z"
   },
   {
    "duration": 171,
    "start_time": "2022-08-08T14:34:07.607Z"
   },
   {
    "duration": 189,
    "start_time": "2022-08-08T14:34:07.784Z"
   },
   {
    "duration": 6,
    "start_time": "2022-08-08T14:34:07.983Z"
   },
   {
    "duration": 287,
    "start_time": "2022-08-08T14:34:07.991Z"
   },
   {
    "duration": 785,
    "start_time": "2022-08-08T14:34:08.283Z"
   },
   {
    "duration": 720,
    "start_time": "2022-08-08T14:34:09.069Z"
   },
   {
    "duration": 92,
    "start_time": "2022-08-08T14:34:09.791Z"
   },
   {
    "duration": 92,
    "start_time": "2022-08-08T14:34:09.887Z"
   },
   {
    "duration": 5,
    "start_time": "2022-08-08T14:34:09.982Z"
   },
   {
    "duration": 181,
    "start_time": "2022-08-08T14:34:09.989Z"
   },
   {
    "duration": 31,
    "start_time": "2022-08-08T14:34:10.172Z"
   },
   {
    "duration": 1074,
    "start_time": "2022-08-08T14:34:10.205Z"
   },
   {
    "duration": 29,
    "start_time": "2022-08-08T14:34:11.281Z"
   },
   {
    "duration": 28,
    "start_time": "2022-08-08T14:34:11.367Z"
   },
   {
    "duration": 4,
    "start_time": "2022-08-08T14:34:11.397Z"
   },
   {
    "duration": 2087,
    "start_time": "2022-08-08T14:34:11.403Z"
   },
   {
    "duration": 401,
    "start_time": "2022-08-08T14:34:13.492Z"
   },
   {
    "duration": 711,
    "start_time": "2022-08-08T14:34:13.895Z"
   },
   {
    "duration": 66,
    "start_time": "2022-08-08T14:34:14.608Z"
   },
   {
    "duration": 495,
    "start_time": "2022-08-08T14:34:14.676Z"
   },
   {
    "duration": 7,
    "start_time": "2022-08-08T14:34:15.176Z"
   },
   {
    "duration": 94186,
    "start_time": "2022-08-08T14:34:15.185Z"
   },
   {
    "duration": 80215,
    "start_time": "2022-08-08T14:35:49.373Z"
   },
   {
    "duration": 0,
    "start_time": "2022-08-08T14:37:09.596Z"
   },
   {
    "duration": 34437,
    "start_time": "2022-08-08T14:58:40.438Z"
   },
   {
    "duration": 5,
    "start_time": "2022-08-08T15:30:58.761Z"
   },
   {
    "duration": 821,
    "start_time": "2022-08-08T15:30:58.768Z"
   },
   {
    "duration": 5,
    "start_time": "2022-08-08T15:30:59.590Z"
   },
   {
    "duration": 802,
    "start_time": "2022-08-08T15:30:59.597Z"
   },
   {
    "duration": 4,
    "start_time": "2022-08-08T15:31:00.402Z"
   },
   {
    "duration": 74,
    "start_time": "2022-08-08T15:31:00.408Z"
   },
   {
    "duration": 242,
    "start_time": "2022-08-08T15:31:00.484Z"
   },
   {
    "duration": 24,
    "start_time": "2022-08-08T15:31:00.728Z"
   },
   {
    "duration": 213,
    "start_time": "2022-08-08T15:31:00.754Z"
   },
   {
    "duration": 77,
    "start_time": "2022-08-08T15:31:00.969Z"
   },
   {
    "duration": 20,
    "start_time": "2022-08-08T15:31:01.048Z"
   },
   {
    "duration": 90,
    "start_time": "2022-08-08T15:31:01.070Z"
   },
   {
    "duration": 48,
    "start_time": "2022-08-08T15:31:01.162Z"
   },
   {
    "duration": 74,
    "start_time": "2022-08-08T15:31:01.214Z"
   },
   {
    "duration": 50,
    "start_time": "2022-08-08T15:31:01.290Z"
   },
   {
    "duration": 48,
    "start_time": "2022-08-08T15:31:01.368Z"
   },
   {
    "duration": 65,
    "start_time": "2022-08-08T15:31:01.418Z"
   },
   {
    "duration": 4,
    "start_time": "2022-08-08T15:31:01.485Z"
   },
   {
    "duration": 163,
    "start_time": "2022-08-08T15:31:01.490Z"
   },
   {
    "duration": 445,
    "start_time": "2022-08-08T15:31:01.655Z"
   },
   {
    "duration": 355,
    "start_time": "2022-08-08T15:31:02.102Z"
   },
   {
    "duration": 33,
    "start_time": "2022-08-08T15:31:02.458Z"
   },
   {
    "duration": 32,
    "start_time": "2022-08-08T15:31:02.492Z"
   },
   {
    "duration": 4,
    "start_time": "2022-08-08T15:31:02.526Z"
   },
   {
    "duration": 99,
    "start_time": "2022-08-08T15:31:02.532Z"
   },
   {
    "duration": 46,
    "start_time": "2022-08-08T15:31:02.633Z"
   },
   {
    "duration": 344,
    "start_time": "2022-08-08T15:31:02.681Z"
   },
   {
    "duration": 27,
    "start_time": "2022-08-08T15:31:03.028Z"
   },
   {
    "duration": 27,
    "start_time": "2022-08-08T15:31:03.068Z"
   },
   {
    "duration": 5,
    "start_time": "2022-08-08T15:31:03.097Z"
   },
   {
    "duration": 1001,
    "start_time": "2022-08-08T15:31:03.103Z"
   },
   {
    "duration": 216,
    "start_time": "2022-08-08T15:31:04.106Z"
   },
   {
    "duration": 336,
    "start_time": "2022-08-08T15:31:04.324Z"
   },
   {
    "duration": 4,
    "start_time": "2022-08-08T15:31:04.661Z"
   },
   {
    "duration": 202,
    "start_time": "2022-08-08T15:31:04.668Z"
   },
   {
    "duration": 19941,
    "start_time": "2022-08-08T15:31:04.872Z"
   },
   {
    "duration": 18830,
    "start_time": "2022-08-08T15:38:43.638Z"
   },
   {
    "duration": 11,
    "start_time": "2022-08-08T15:42:25.554Z"
   },
   {
    "duration": 21695,
    "start_time": "2022-08-08T15:42:29.772Z"
   },
   {
    "duration": 18341,
    "start_time": "2022-08-08T15:43:17.828Z"
   },
   {
    "duration": 19077,
    "start_time": "2022-08-08T15:44:41.492Z"
   },
   {
    "duration": 18448,
    "start_time": "2022-08-08T15:49:29.123Z"
   },
   {
    "duration": 13,
    "start_time": "2022-08-08T15:50:21.491Z"
   },
   {
    "duration": 4,
    "start_time": "2022-08-08T15:50:56.773Z"
   },
   {
    "duration": 186,
    "start_time": "2022-08-08T15:50:56.779Z"
   },
   {
    "duration": 19301,
    "start_time": "2022-08-08T15:50:56.968Z"
   },
   {
    "duration": 20695,
    "start_time": "2022-08-08T15:51:16.273Z"
   },
   {
    "duration": 3,
    "start_time": "2022-08-08T15:51:36.970Z"
   },
   {
    "duration": 4,
    "start_time": "2022-08-08T15:51:58.958Z"
   },
   {
    "duration": 38385,
    "start_time": "2022-08-08T15:54:10.991Z"
   },
   {
    "duration": 18513,
    "start_time": "2022-08-08T15:57:04.956Z"
   },
   {
    "duration": 4,
    "start_time": "2022-08-08T15:57:41.040Z"
   },
   {
    "duration": 10,
    "start_time": "2022-08-09T11:43:26.392Z"
   },
   {
    "duration": 1085,
    "start_time": "2022-08-09T11:43:26.406Z"
   },
   {
    "duration": 5,
    "start_time": "2022-08-09T11:43:27.493Z"
   },
   {
    "duration": 830,
    "start_time": "2022-08-09T11:43:27.501Z"
   },
   {
    "duration": 3,
    "start_time": "2022-08-09T11:43:28.333Z"
   },
   {
    "duration": 70,
    "start_time": "2022-08-09T11:43:28.338Z"
   },
   {
    "duration": 245,
    "start_time": "2022-08-09T11:43:28.410Z"
   },
   {
    "duration": 28,
    "start_time": "2022-08-09T11:43:28.657Z"
   },
   {
    "duration": 208,
    "start_time": "2022-08-09T11:43:28.686Z"
   },
   {
    "duration": 82,
    "start_time": "2022-08-09T11:43:28.898Z"
   },
   {
    "duration": 3,
    "start_time": "2022-08-09T11:43:28.982Z"
   },
   {
    "duration": 52,
    "start_time": "2022-08-09T11:43:28.987Z"
   },
   {
    "duration": 47,
    "start_time": "2022-08-09T11:43:29.068Z"
   },
   {
    "duration": 68,
    "start_time": "2022-08-09T11:43:29.117Z"
   },
   {
    "duration": 54,
    "start_time": "2022-08-09T11:43:29.187Z"
   },
   {
    "duration": 79,
    "start_time": "2022-08-09T11:43:29.242Z"
   },
   {
    "duration": 62,
    "start_time": "2022-08-09T11:43:29.323Z"
   },
   {
    "duration": 2,
    "start_time": "2022-08-09T11:43:29.387Z"
   },
   {
    "duration": 139,
    "start_time": "2022-08-09T11:43:29.391Z"
   },
   {
    "duration": 423,
    "start_time": "2022-08-09T11:43:29.532Z"
   },
   {
    "duration": 318,
    "start_time": "2022-08-09T11:43:29.957Z"
   },
   {
    "duration": 27,
    "start_time": "2022-08-09T11:43:30.277Z"
   },
   {
    "duration": 68,
    "start_time": "2022-08-09T11:43:30.307Z"
   },
   {
    "duration": 5,
    "start_time": "2022-08-09T11:43:30.377Z"
   },
   {
    "duration": 91,
    "start_time": "2022-08-09T11:43:30.384Z"
   },
   {
    "duration": 34,
    "start_time": "2022-08-09T11:43:30.478Z"
   },
   {
    "duration": 360,
    "start_time": "2022-08-09T11:43:30.514Z"
   },
   {
    "duration": 29,
    "start_time": "2022-08-09T11:43:30.878Z"
   },
   {
    "duration": 64,
    "start_time": "2022-08-09T11:43:30.909Z"
   },
   {
    "duration": 5,
    "start_time": "2022-08-09T11:43:30.975Z"
   },
   {
    "duration": 1196,
    "start_time": "2022-08-09T11:43:30.982Z"
   },
   {
    "duration": 231,
    "start_time": "2022-08-09T11:43:32.180Z"
   },
   {
    "duration": 389,
    "start_time": "2022-08-09T11:43:32.412Z"
   },
   {
    "duration": 3,
    "start_time": "2022-08-09T11:43:32.803Z"
   },
   {
    "duration": 220,
    "start_time": "2022-08-09T11:43:32.808Z"
   },
   {
    "duration": 24146,
    "start_time": "2022-08-09T11:43:33.030Z"
   },
   {
    "duration": 24007,
    "start_time": "2022-08-09T11:43:57.267Z"
   },
   {
    "duration": 5,
    "start_time": "2022-08-09T11:44:21.276Z"
   },
   {
    "duration": 18,
    "start_time": "2022-08-09T12:10:03.183Z"
   },
   {
    "duration": 80,
    "start_time": "2022-08-09T12:10:06.322Z"
   },
   {
    "duration": 0,
    "start_time": "2022-08-09T12:11:52.777Z"
   },
   {
    "duration": 24907,
    "start_time": "2022-08-09T12:11:55.070Z"
   },
   {
    "duration": 52225,
    "start_time": "2022-08-09T12:12:47.055Z"
   },
   {
    "duration": 4,
    "start_time": "2022-08-09T12:13:49.221Z"
   },
   {
    "duration": 18,
    "start_time": "2022-08-09T12:14:27.225Z"
   },
   {
    "duration": 57,
    "start_time": "2022-08-09T12:15:13.587Z"
   },
   {
    "duration": 7,
    "start_time": "2022-08-09T12:15:16.561Z"
   },
   {
    "duration": 890,
    "start_time": "2022-08-09T12:15:16.570Z"
   },
   {
    "duration": 8,
    "start_time": "2022-08-09T12:15:17.462Z"
   },
   {
    "duration": 814,
    "start_time": "2022-08-09T12:15:17.473Z"
   },
   {
    "duration": 4,
    "start_time": "2022-08-09T12:15:18.290Z"
   },
   {
    "duration": 86,
    "start_time": "2022-08-09T12:15:18.297Z"
   },
   {
    "duration": 240,
    "start_time": "2022-08-09T12:15:18.385Z"
   },
   {
    "duration": 27,
    "start_time": "2022-08-09T12:15:18.627Z"
   },
   {
    "duration": 230,
    "start_time": "2022-08-09T12:15:18.667Z"
   },
   {
    "duration": 88,
    "start_time": "2022-08-09T12:15:18.901Z"
   },
   {
    "duration": 5,
    "start_time": "2022-08-09T12:15:18.991Z"
   },
   {
    "duration": 101,
    "start_time": "2022-08-09T12:15:18.998Z"
   },
   {
    "duration": 71,
    "start_time": "2022-08-09T12:15:19.101Z"
   },
   {
    "duration": 63,
    "start_time": "2022-08-09T12:15:19.175Z"
   },
   {
    "duration": 75,
    "start_time": "2022-08-09T12:15:19.239Z"
   },
   {
    "duration": 95,
    "start_time": "2022-08-09T12:15:19.316Z"
   },
   {
    "duration": 86,
    "start_time": "2022-08-09T12:15:19.414Z"
   },
   {
    "duration": 6,
    "start_time": "2022-08-09T12:15:19.503Z"
   },
   {
    "duration": 171,
    "start_time": "2022-08-09T12:15:19.511Z"
   },
   {
    "duration": 471,
    "start_time": "2022-08-09T12:15:19.684Z"
   },
   {
    "duration": 521,
    "start_time": "2022-08-09T12:15:20.158Z"
   },
   {
    "duration": 28,
    "start_time": "2022-08-09T12:15:20.681Z"
   },
   {
    "duration": 58,
    "start_time": "2022-08-09T12:15:20.711Z"
   },
   {
    "duration": 5,
    "start_time": "2022-08-09T12:15:20.770Z"
   },
   {
    "duration": 98,
    "start_time": "2022-08-09T12:15:20.777Z"
   },
   {
    "duration": 26,
    "start_time": "2022-08-09T12:15:20.877Z"
   },
   {
    "duration": 369,
    "start_time": "2022-08-09T12:15:20.905Z"
   },
   {
    "duration": 31,
    "start_time": "2022-08-09T12:15:21.278Z"
   },
   {
    "duration": 26,
    "start_time": "2022-08-09T12:15:21.311Z"
   },
   {
    "duration": 31,
    "start_time": "2022-08-09T12:15:21.339Z"
   },
   {
    "duration": 1116,
    "start_time": "2022-08-09T12:15:21.373Z"
   },
   {
    "duration": 224,
    "start_time": "2022-08-09T12:15:22.491Z"
   },
   {
    "duration": 359,
    "start_time": "2022-08-09T12:15:22.717Z"
   },
   {
    "duration": 3,
    "start_time": "2022-08-09T12:15:23.078Z"
   },
   {
    "duration": 220,
    "start_time": "2022-08-09T12:15:23.083Z"
   },
   {
    "duration": 50072,
    "start_time": "2022-08-09T12:15:23.305Z"
   },
   {
    "duration": 91,
    "start_time": "2022-08-09T12:16:13.379Z"
   },
   {
    "duration": 759202,
    "start_time": "2022-08-09T12:16:13.471Z"
   },
   {
    "duration": 0,
    "start_time": "2022-08-09T12:28:52.675Z"
   },
   {
    "duration": 45795,
    "start_time": "2022-08-09T12:29:17.573Z"
   },
   {
    "duration": 4,
    "start_time": "2022-08-09T12:35:42.108Z"
   },
   {
    "duration": 23714,
    "start_time": "2022-08-09T12:36:33.262Z"
   },
   {
    "duration": 13,
    "start_time": "2022-08-09T12:38:21.301Z"
   },
   {
    "duration": 4,
    "start_time": "2022-08-09T12:39:09.409Z"
   },
   {
    "duration": 5,
    "start_time": "2022-08-09T12:39:18.902Z"
   },
   {
    "duration": 37410,
    "start_time": "2022-08-09T12:39:43.158Z"
   },
   {
    "duration": 152773,
    "start_time": "2022-08-09T12:45:11.884Z"
   },
   {
    "duration": 56,
    "start_time": "2022-08-09T12:54:22.575Z"
   },
   {
    "duration": 9,
    "start_time": "2022-08-09T14:24:52.899Z"
   },
   {
    "duration": 1638,
    "start_time": "2022-08-09T14:24:57.179Z"
   },
   {
    "duration": 3177,
    "start_time": "2022-08-09T14:24:58.820Z"
   },
   {
    "duration": 4,
    "start_time": "2022-08-09T14:25:01.999Z"
   },
   {
    "duration": 893,
    "start_time": "2022-08-09T14:25:02.006Z"
   },
   {
    "duration": 3,
    "start_time": "2022-08-09T14:25:02.901Z"
   },
   {
    "duration": 86,
    "start_time": "2022-08-09T14:25:02.906Z"
   },
   {
    "duration": 299,
    "start_time": "2022-08-09T14:25:02.994Z"
   },
   {
    "duration": 32,
    "start_time": "2022-08-09T14:25:03.295Z"
   },
   {
    "duration": 230,
    "start_time": "2022-08-09T14:25:03.329Z"
   },
   {
    "duration": 122,
    "start_time": "2022-08-09T14:25:03.562Z"
   },
   {
    "duration": 4,
    "start_time": "2022-08-09T14:25:03.686Z"
   },
   {
    "duration": 68,
    "start_time": "2022-08-09T14:25:03.692Z"
   },
   {
    "duration": 50,
    "start_time": "2022-08-09T14:25:03.762Z"
   },
   {
    "duration": 81,
    "start_time": "2022-08-09T14:25:03.814Z"
   },
   {
    "duration": 50,
    "start_time": "2022-08-09T14:25:03.898Z"
   },
   {
    "duration": 66,
    "start_time": "2022-08-09T14:25:03.968Z"
   },
   {
    "duration": 72,
    "start_time": "2022-08-09T14:25:04.036Z"
   },
   {
    "duration": 4,
    "start_time": "2022-08-09T14:25:04.110Z"
   },
   {
    "duration": 143,
    "start_time": "2022-08-09T14:25:04.116Z"
   },
   {
    "duration": 416,
    "start_time": "2022-08-09T14:25:04.262Z"
   },
   {
    "duration": 396,
    "start_time": "2022-08-09T14:25:04.680Z"
   },
   {
    "duration": 30,
    "start_time": "2022-08-09T14:25:05.078Z"
   },
   {
    "duration": 26,
    "start_time": "2022-08-09T14:25:05.109Z"
   },
   {
    "duration": 31,
    "start_time": "2022-08-09T14:25:05.137Z"
   },
   {
    "duration": 71,
    "start_time": "2022-08-09T14:25:05.170Z"
   },
   {
    "duration": 46,
    "start_time": "2022-08-09T14:25:05.243Z"
   },
   {
    "duration": 344,
    "start_time": "2022-08-09T14:25:05.291Z"
   },
   {
    "duration": 41,
    "start_time": "2022-08-09T14:25:05.638Z"
   },
   {
    "duration": 31,
    "start_time": "2022-08-09T14:25:05.681Z"
   },
   {
    "duration": 3,
    "start_time": "2022-08-09T14:25:05.714Z"
   },
   {
    "duration": 1016,
    "start_time": "2022-08-09T14:25:05.719Z"
   },
   {
    "duration": 220,
    "start_time": "2022-08-09T14:25:06.737Z"
   },
   {
    "duration": 343,
    "start_time": "2022-08-09T14:25:06.959Z"
   },
   {
    "duration": 3,
    "start_time": "2022-08-09T14:25:07.304Z"
   },
   {
    "duration": 218,
    "start_time": "2022-08-09T14:25:07.309Z"
   },
   {
    "duration": 23139,
    "start_time": "2022-08-09T14:25:07.529Z"
   },
   {
    "duration": 6,
    "start_time": "2022-08-09T14:25:30.670Z"
   },
   {
    "duration": 149153,
    "start_time": "2022-08-09T14:25:30.678Z"
   },
   {
    "duration": 55,
    "start_time": "2022-08-09T14:37:59.250Z"
   },
   {
    "duration": 7,
    "start_time": "2022-08-09T14:38:03.075Z"
   },
   {
    "duration": 2966,
    "start_time": "2022-08-09T14:38:48.790Z"
   },
   {
    "duration": 3276,
    "start_time": "2022-08-09T14:38:51.758Z"
   },
   {
    "duration": 8,
    "start_time": "2022-08-09T14:38:55.036Z"
   },
   {
    "duration": 865,
    "start_time": "2022-08-09T14:38:55.047Z"
   },
   {
    "duration": 3,
    "start_time": "2022-08-09T14:38:55.914Z"
   },
   {
    "duration": 85,
    "start_time": "2022-08-09T14:38:55.919Z"
   },
   {
    "duration": 284,
    "start_time": "2022-08-09T14:38:56.006Z"
   },
   {
    "duration": 34,
    "start_time": "2022-08-09T14:38:56.292Z"
   },
   {
    "duration": 232,
    "start_time": "2022-08-09T14:38:56.328Z"
   },
   {
    "duration": 121,
    "start_time": "2022-08-09T14:38:56.562Z"
   },
   {
    "duration": 4,
    "start_time": "2022-08-09T14:38:56.685Z"
   },
   {
    "duration": 57,
    "start_time": "2022-08-09T14:38:56.691Z"
   },
   {
    "duration": 78,
    "start_time": "2022-08-09T14:38:56.751Z"
   },
   {
    "duration": 94,
    "start_time": "2022-08-09T14:38:56.831Z"
   },
   {
    "duration": 93,
    "start_time": "2022-08-09T14:38:56.928Z"
   },
   {
    "duration": 69,
    "start_time": "2022-08-09T14:38:57.023Z"
   },
   {
    "duration": 46,
    "start_time": "2022-08-09T14:38:57.094Z"
   },
   {
    "duration": 4,
    "start_time": "2022-08-09T14:38:57.169Z"
   },
   {
    "duration": 139,
    "start_time": "2022-08-09T14:38:57.175Z"
   },
   {
    "duration": 445,
    "start_time": "2022-08-09T14:38:57.317Z"
   },
   {
    "duration": 418,
    "start_time": "2022-08-09T14:38:57.767Z"
   },
   {
    "duration": 30,
    "start_time": "2022-08-09T14:38:58.187Z"
   },
   {
    "duration": 49,
    "start_time": "2022-08-09T14:38:58.219Z"
   },
   {
    "duration": 3,
    "start_time": "2022-08-09T14:38:58.270Z"
   },
   {
    "duration": 81,
    "start_time": "2022-08-09T14:38:58.275Z"
   },
   {
    "duration": 25,
    "start_time": "2022-08-09T14:38:58.369Z"
   },
   {
    "duration": 349,
    "start_time": "2022-08-09T14:38:58.397Z"
   },
   {
    "duration": 38,
    "start_time": "2022-08-09T14:38:58.751Z"
   },
   {
    "duration": 33,
    "start_time": "2022-08-09T14:38:58.791Z"
   },
   {
    "duration": 5,
    "start_time": "2022-08-09T14:38:58.826Z"
   },
   {
    "duration": 985,
    "start_time": "2022-08-09T14:38:58.869Z"
   },
   {
    "duration": 220,
    "start_time": "2022-08-09T14:38:59.856Z"
   },
   {
    "duration": 337,
    "start_time": "2022-08-09T14:39:00.079Z"
   },
   {
    "duration": 4,
    "start_time": "2022-08-09T14:39:00.417Z"
   },
   {
    "duration": 225,
    "start_time": "2022-08-09T14:39:00.423Z"
   },
   {
    "duration": 24218,
    "start_time": "2022-08-09T14:39:00.650Z"
   },
   {
    "duration": 5,
    "start_time": "2022-08-09T14:39:24.870Z"
   },
   {
    "duration": 150549,
    "start_time": "2022-08-09T14:39:24.877Z"
   },
   {
    "duration": 53,
    "start_time": "2022-08-09T14:46:50.033Z"
   },
   {
    "duration": 2117,
    "start_time": "2022-08-09T14:47:08.941Z"
   },
   {
    "duration": 3189,
    "start_time": "2022-08-09T14:47:11.061Z"
   },
   {
    "duration": 4,
    "start_time": "2022-08-09T14:47:14.251Z"
   },
   {
    "duration": 930,
    "start_time": "2022-08-09T14:47:14.258Z"
   },
   {
    "duration": 4,
    "start_time": "2022-08-09T14:47:15.190Z"
   },
   {
    "duration": 81,
    "start_time": "2022-08-09T14:47:15.195Z"
   },
   {
    "duration": 309,
    "start_time": "2022-08-09T14:47:15.278Z"
   },
   {
    "duration": 33,
    "start_time": "2022-08-09T14:47:15.588Z"
   },
   {
    "duration": 239,
    "start_time": "2022-08-09T14:47:15.623Z"
   },
   {
    "duration": 122,
    "start_time": "2022-08-09T14:47:15.867Z"
   },
   {
    "duration": 4,
    "start_time": "2022-08-09T14:47:15.991Z"
   },
   {
    "duration": 88,
    "start_time": "2022-08-09T14:47:15.997Z"
   },
   {
    "duration": 61,
    "start_time": "2022-08-09T14:47:16.086Z"
   },
   {
    "duration": 50,
    "start_time": "2022-08-09T14:47:16.168Z"
   },
   {
    "duration": 74,
    "start_time": "2022-08-09T14:47:16.219Z"
   },
   {
    "duration": 48,
    "start_time": "2022-08-09T14:47:16.295Z"
   },
   {
    "duration": 67,
    "start_time": "2022-08-09T14:47:16.345Z"
   },
   {
    "duration": 3,
    "start_time": "2022-08-09T14:47:16.414Z"
   },
   {
    "duration": 180,
    "start_time": "2022-08-09T14:47:16.419Z"
   },
   {
    "duration": 477,
    "start_time": "2022-08-09T14:47:16.601Z"
   },
   {
    "duration": 420,
    "start_time": "2022-08-09T14:47:17.080Z"
   },
   {
    "duration": 32,
    "start_time": "2022-08-09T14:47:17.502Z"
   },
   {
    "duration": 53,
    "start_time": "2022-08-09T14:47:17.537Z"
   },
   {
    "duration": 4,
    "start_time": "2022-08-09T14:47:17.592Z"
   },
   {
    "duration": 94,
    "start_time": "2022-08-09T14:47:17.598Z"
   },
   {
    "duration": 25,
    "start_time": "2022-08-09T14:47:17.694Z"
   },
   {
    "duration": 368,
    "start_time": "2022-08-09T14:47:17.721Z"
   },
   {
    "duration": 37,
    "start_time": "2022-08-09T14:47:18.093Z"
   },
   {
    "duration": 57,
    "start_time": "2022-08-09T14:47:18.132Z"
   },
   {
    "duration": 5,
    "start_time": "2022-08-09T14:47:18.190Z"
   },
   {
    "duration": 1114,
    "start_time": "2022-08-09T14:47:18.197Z"
   },
   {
    "duration": 221,
    "start_time": "2022-08-09T14:47:19.312Z"
   },
   {
    "duration": 350,
    "start_time": "2022-08-09T14:47:19.535Z"
   },
   {
    "duration": 3,
    "start_time": "2022-08-09T14:47:19.887Z"
   },
   {
    "duration": 223,
    "start_time": "2022-08-09T14:47:19.892Z"
   },
   {
    "duration": 24659,
    "start_time": "2022-08-09T14:47:20.117Z"
   },
   {
    "duration": 5,
    "start_time": "2022-08-09T14:47:44.870Z"
   },
   {
    "duration": 152514,
    "start_time": "2022-08-09T14:47:44.877Z"
   },
   {
    "duration": 67,
    "start_time": "2022-08-09T14:51:58.562Z"
   },
   {
    "duration": 0,
    "start_time": "2022-08-09T14:51:58.631Z"
   },
   {
    "duration": 7,
    "start_time": "2022-08-09T14:52:11.695Z"
   },
   {
    "duration": 2143,
    "start_time": "2022-08-09T14:52:18.671Z"
   },
   {
    "duration": 3271,
    "start_time": "2022-08-09T14:52:20.817Z"
   },
   {
    "duration": 5,
    "start_time": "2022-08-09T14:52:24.091Z"
   },
   {
    "duration": 878,
    "start_time": "2022-08-09T14:52:24.097Z"
   },
   {
    "duration": 4,
    "start_time": "2022-08-09T14:52:24.977Z"
   },
   {
    "duration": 85,
    "start_time": "2022-08-09T14:52:24.983Z"
   },
   {
    "duration": 291,
    "start_time": "2022-08-09T14:52:25.070Z"
   },
   {
    "duration": 35,
    "start_time": "2022-08-09T14:52:25.363Z"
   },
   {
    "duration": 222,
    "start_time": "2022-08-09T14:52:25.400Z"
   },
   {
    "duration": 128,
    "start_time": "2022-08-09T14:52:25.624Z"
   },
   {
    "duration": 13,
    "start_time": "2022-08-09T14:52:25.755Z"
   },
   {
    "duration": 51,
    "start_time": "2022-08-09T14:52:25.770Z"
   },
   {
    "duration": 75,
    "start_time": "2022-08-09T14:52:25.823Z"
   },
   {
    "duration": 70,
    "start_time": "2022-08-09T14:52:25.902Z"
   },
   {
    "duration": 51,
    "start_time": "2022-08-09T14:52:25.974Z"
   },
   {
    "duration": 92,
    "start_time": "2022-08-09T14:52:26.026Z"
   },
   {
    "duration": 67,
    "start_time": "2022-08-09T14:52:26.119Z"
   },
   {
    "duration": 19,
    "start_time": "2022-08-09T14:52:26.188Z"
   },
   {
    "duration": 150,
    "start_time": "2022-08-09T14:52:26.209Z"
   },
   {
    "duration": 503,
    "start_time": "2022-08-09T14:52:26.361Z"
   },
   {
    "duration": 427,
    "start_time": "2022-08-09T14:52:26.866Z"
   },
   {
    "duration": 31,
    "start_time": "2022-08-09T14:52:27.295Z"
   },
   {
    "duration": 54,
    "start_time": "2022-08-09T14:52:27.328Z"
   },
   {
    "duration": 4,
    "start_time": "2022-08-09T14:52:27.384Z"
   },
   {
    "duration": 103,
    "start_time": "2022-08-09T14:52:27.390Z"
   },
   {
    "duration": 28,
    "start_time": "2022-08-09T14:52:27.496Z"
   },
   {
    "duration": 378,
    "start_time": "2022-08-09T14:52:27.526Z"
   },
   {
    "duration": 34,
    "start_time": "2022-08-09T14:52:27.906Z"
   },
   {
    "duration": 64,
    "start_time": "2022-08-09T14:52:27.943Z"
   },
   {
    "duration": 6,
    "start_time": "2022-08-09T14:52:28.010Z"
   },
   {
    "duration": 1217,
    "start_time": "2022-08-09T14:52:28.018Z"
   },
   {
    "duration": 222,
    "start_time": "2022-08-09T14:52:29.237Z"
   },
   {
    "duration": 349,
    "start_time": "2022-08-09T14:52:29.461Z"
   },
   {
    "duration": 4,
    "start_time": "2022-08-09T14:52:29.811Z"
   },
   {
    "duration": 242,
    "start_time": "2022-08-09T14:52:29.816Z"
   },
   {
    "duration": 3,
    "start_time": "2022-08-09T14:52:30.060Z"
   },
   {
    "duration": 25403,
    "start_time": "2022-08-09T14:52:30.068Z"
   },
   {
    "duration": 5,
    "start_time": "2022-08-09T14:52:55.473Z"
   },
   {
    "duration": 156617,
    "start_time": "2022-08-09T14:52:55.480Z"
   },
   {
    "duration": 67,
    "start_time": "2022-08-09T15:06:38.727Z"
   },
   {
    "duration": 0,
    "start_time": "2022-08-09T15:06:38.796Z"
   },
   {
    "duration": 0,
    "start_time": "2022-08-09T15:06:38.797Z"
   },
   {
    "duration": 0,
    "start_time": "2022-08-09T15:06:38.798Z"
   },
   {
    "duration": 0,
    "start_time": "2022-08-09T15:06:38.799Z"
   },
   {
    "duration": 0,
    "start_time": "2022-08-09T15:06:38.801Z"
   },
   {
    "duration": 2310,
    "start_time": "2022-08-09T15:06:52.032Z"
   },
   {
    "duration": 3378,
    "start_time": "2022-08-09T15:06:54.345Z"
   },
   {
    "duration": 4,
    "start_time": "2022-08-09T15:06:57.725Z"
   },
   {
    "duration": 913,
    "start_time": "2022-08-09T15:06:57.732Z"
   },
   {
    "duration": 5,
    "start_time": "2022-08-09T15:06:58.647Z"
   },
   {
    "duration": 84,
    "start_time": "2022-08-09T15:06:58.654Z"
   },
   {
    "duration": 335,
    "start_time": "2022-08-09T15:06:58.740Z"
   },
   {
    "duration": 33,
    "start_time": "2022-08-09T15:06:59.085Z"
   },
   {
    "duration": 221,
    "start_time": "2022-08-09T15:06:59.120Z"
   },
   {
    "duration": 165,
    "start_time": "2022-08-09T15:06:59.344Z"
   },
   {
    "duration": 3,
    "start_time": "2022-08-09T15:06:59.511Z"
   },
   {
    "duration": 66,
    "start_time": "2022-08-09T15:06:59.516Z"
   },
   {
    "duration": 52,
    "start_time": "2022-08-09T15:06:59.584Z"
   },
   {
    "duration": 69,
    "start_time": "2022-08-09T15:06:59.638Z"
   },
   {
    "duration": 85,
    "start_time": "2022-08-09T15:06:59.709Z"
   },
   {
    "duration": 46,
    "start_time": "2022-08-09T15:06:59.796Z"
   },
   {
    "duration": 70,
    "start_time": "2022-08-09T15:06:59.845Z"
   },
   {
    "duration": 3,
    "start_time": "2022-08-09T15:06:59.917Z"
   },
   {
    "duration": 169,
    "start_time": "2022-08-09T15:06:59.922Z"
   },
   {
    "duration": 493,
    "start_time": "2022-08-09T15:07:00.094Z"
   },
   {
    "duration": 450,
    "start_time": "2022-08-09T15:07:00.590Z"
   },
   {
    "duration": 50,
    "start_time": "2022-08-09T15:07:01.043Z"
   },
   {
    "duration": 40,
    "start_time": "2022-08-09T15:07:01.096Z"
   },
   {
    "duration": 5,
    "start_time": "2022-08-09T15:07:01.139Z"
   },
   {
    "duration": 143,
    "start_time": "2022-08-09T15:07:01.146Z"
   },
   {
    "duration": 27,
    "start_time": "2022-08-09T15:07:01.291Z"
   },
   {
    "duration": 419,
    "start_time": "2022-08-09T15:07:01.321Z"
   },
   {
    "duration": 45,
    "start_time": "2022-08-09T15:07:01.744Z"
   },
   {
    "duration": 35,
    "start_time": "2022-08-09T15:07:01.790Z"
   },
   {
    "duration": 4,
    "start_time": "2022-08-09T15:07:01.827Z"
   },
   {
    "duration": 1202,
    "start_time": "2022-08-09T15:07:01.833Z"
   },
   {
    "duration": 241,
    "start_time": "2022-08-09T15:07:03.037Z"
   },
   {
    "duration": 339,
    "start_time": "2022-08-09T15:07:03.285Z"
   },
   {
    "duration": 4,
    "start_time": "2022-08-09T15:07:03.626Z"
   },
   {
    "duration": 259,
    "start_time": "2022-08-09T15:07:03.632Z"
   },
   {
    "duration": 54697,
    "start_time": "2022-08-09T15:07:03.893Z"
   },
   {
    "duration": 40584,
    "start_time": "2022-08-09T15:07:58.592Z"
   },
   {
    "duration": 13,
    "start_time": "2022-08-09T15:08:39.181Z"
   },
   {
    "duration": 154737,
    "start_time": "2022-08-09T15:08:39.196Z"
   },
   {
    "duration": 55,
    "start_time": "2022-08-09T15:21:41.989Z"
   },
   {
    "duration": 2452,
    "start_time": "2022-08-09T15:21:48.949Z"
   },
   {
    "duration": 3500,
    "start_time": "2022-08-09T15:21:51.404Z"
   },
   {
    "duration": 4,
    "start_time": "2022-08-09T15:21:54.906Z"
   },
   {
    "duration": 1039,
    "start_time": "2022-08-09T15:21:54.912Z"
   },
   {
    "duration": 3,
    "start_time": "2022-08-09T15:21:55.954Z"
   },
   {
    "duration": 88,
    "start_time": "2022-08-09T15:21:55.968Z"
   },
   {
    "duration": 327,
    "start_time": "2022-08-09T15:21:56.057Z"
   },
   {
    "duration": 34,
    "start_time": "2022-08-09T15:21:56.386Z"
   },
   {
    "duration": 297,
    "start_time": "2022-08-09T15:21:56.422Z"
   },
   {
    "duration": 184,
    "start_time": "2022-08-09T15:21:56.722Z"
   },
   {
    "duration": 4,
    "start_time": "2022-08-09T15:21:56.912Z"
   },
   {
    "duration": 92,
    "start_time": "2022-08-09T15:21:56.918Z"
   },
   {
    "duration": 83,
    "start_time": "2022-08-09T15:21:57.012Z"
   },
   {
    "duration": 73,
    "start_time": "2022-08-09T15:21:57.098Z"
   },
   {
    "duration": 61,
    "start_time": "2022-08-09T15:21:57.173Z"
   },
   {
    "duration": 74,
    "start_time": "2022-08-09T15:21:57.237Z"
   },
   {
    "duration": 73,
    "start_time": "2022-08-09T15:21:57.313Z"
   },
   {
    "duration": 3,
    "start_time": "2022-08-09T15:21:57.388Z"
   },
   {
    "duration": 154,
    "start_time": "2022-08-09T15:21:57.393Z"
   },
   {
    "duration": 470,
    "start_time": "2022-08-09T15:21:57.549Z"
   },
   {
    "duration": 456,
    "start_time": "2022-08-09T15:21:58.021Z"
   },
   {
    "duration": 31,
    "start_time": "2022-08-09T15:21:58.483Z"
   },
   {
    "duration": 29,
    "start_time": "2022-08-09T15:21:58.516Z"
   },
   {
    "duration": 36,
    "start_time": "2022-08-09T15:21:58.547Z"
   },
   {
    "duration": 90,
    "start_time": "2022-08-09T15:21:58.585Z"
   },
   {
    "duration": 26,
    "start_time": "2022-08-09T15:21:58.677Z"
   },
   {
    "duration": 381,
    "start_time": "2022-08-09T15:21:58.705Z"
   },
   {
    "duration": 29,
    "start_time": "2022-08-09T15:21:59.088Z"
   },
   {
    "duration": 52,
    "start_time": "2022-08-09T15:21:59.119Z"
   },
   {
    "duration": 11,
    "start_time": "2022-08-09T15:21:59.172Z"
   },
   {
    "duration": 1159,
    "start_time": "2022-08-09T15:21:59.185Z"
   },
   {
    "duration": 232,
    "start_time": "2022-08-09T15:22:00.346Z"
   },
   {
    "duration": 345,
    "start_time": "2022-08-09T15:22:00.585Z"
   },
   {
    "duration": 3,
    "start_time": "2022-08-09T15:22:00.933Z"
   },
   {
    "duration": 310,
    "start_time": "2022-08-09T15:22:00.938Z"
   },
   {
    "duration": 42734,
    "start_time": "2022-08-09T15:22:01.250Z"
   },
   {
    "duration": 0,
    "start_time": "2022-08-09T15:22:43.987Z"
   },
   {
    "duration": 0,
    "start_time": "2022-08-09T15:22:43.988Z"
   },
   {
    "duration": 0,
    "start_time": "2022-08-09T15:22:43.990Z"
   },
   {
    "duration": 0,
    "start_time": "2022-08-09T15:22:43.991Z"
   },
   {
    "duration": 0,
    "start_time": "2022-08-09T15:22:43.993Z"
   },
   {
    "duration": 0,
    "start_time": "2022-08-09T15:22:43.994Z"
   },
   {
    "duration": 32,
    "start_time": "2022-08-09T15:23:10.363Z"
   },
   {
    "duration": 254,
    "start_time": "2022-08-09T15:23:12.232Z"
   },
   {
    "duration": 29,
    "start_time": "2022-08-09T15:23:14.857Z"
   },
   {
    "duration": 10713364,
    "start_time": "2022-08-09T15:24:29.516Z"
   },
   {
    "duration": 1557,
    "start_time": "2022-08-10T04:58:28.824Z"
   },
   {
    "duration": 1182,
    "start_time": "2022-08-10T04:58:30.383Z"
   },
   {
    "duration": 5,
    "start_time": "2022-08-10T04:58:31.566Z"
   },
   {
    "duration": 831,
    "start_time": "2022-08-10T04:58:31.573Z"
   },
   {
    "duration": 4,
    "start_time": "2022-08-10T04:58:32.406Z"
   },
   {
    "duration": 72,
    "start_time": "2022-08-10T04:58:32.411Z"
   },
   {
    "duration": 268,
    "start_time": "2022-08-10T04:58:32.484Z"
   },
   {
    "duration": 32,
    "start_time": "2022-08-10T04:58:32.754Z"
   },
   {
    "duration": 217,
    "start_time": "2022-08-10T04:58:32.788Z"
   },
   {
    "duration": 113,
    "start_time": "2022-08-10T04:58:33.008Z"
   },
   {
    "duration": 3,
    "start_time": "2022-08-10T04:58:33.122Z"
   },
   {
    "duration": 53,
    "start_time": "2022-08-10T04:58:33.126Z"
   },
   {
    "duration": 44,
    "start_time": "2022-08-10T04:58:33.181Z"
   },
   {
    "duration": 44,
    "start_time": "2022-08-10T04:58:33.227Z"
   },
   {
    "duration": 64,
    "start_time": "2022-08-10T04:58:33.273Z"
   },
   {
    "duration": 61,
    "start_time": "2022-08-10T04:58:33.339Z"
   },
   {
    "duration": 40,
    "start_time": "2022-08-10T04:58:33.402Z"
   },
   {
    "duration": 3,
    "start_time": "2022-08-10T04:58:33.443Z"
   },
   {
    "duration": 131,
    "start_time": "2022-08-10T04:58:33.447Z"
   },
   {
    "duration": 441,
    "start_time": "2022-08-10T04:58:33.580Z"
   },
   {
    "duration": 369,
    "start_time": "2022-08-10T04:58:34.023Z"
   },
   {
    "duration": 30,
    "start_time": "2022-08-10T04:58:34.393Z"
   },
   {
    "duration": 26,
    "start_time": "2022-08-10T04:58:34.424Z"
   },
   {
    "duration": 3,
    "start_time": "2022-08-10T04:58:34.452Z"
   },
   {
    "duration": 86,
    "start_time": "2022-08-10T04:58:34.456Z"
   },
   {
    "duration": 22,
    "start_time": "2022-08-10T04:58:34.543Z"
   },
   {
    "duration": 280,
    "start_time": "2022-08-10T04:58:34.567Z"
   },
   {
    "duration": 24,
    "start_time": "2022-08-10T04:58:34.850Z"
   },
   {
    "duration": 40,
    "start_time": "2022-08-10T04:58:34.875Z"
   },
   {
    "duration": 5,
    "start_time": "2022-08-10T04:58:34.916Z"
   },
   {
    "duration": 956,
    "start_time": "2022-08-10T04:58:34.922Z"
   },
   {
    "duration": 213,
    "start_time": "2022-08-10T04:58:35.879Z"
   },
   {
    "duration": 318,
    "start_time": "2022-08-10T04:58:36.094Z"
   },
   {
    "duration": 2,
    "start_time": "2022-08-10T04:58:36.414Z"
   },
   {
    "duration": 188,
    "start_time": "2022-08-10T04:58:36.418Z"
   },
   {
    "duration": 576631,
    "start_time": "2022-08-10T04:58:36.608Z"
   },
   {
    "duration": 0,
    "start_time": "2022-08-10T05:08:13.241Z"
   },
   {
    "duration": 0,
    "start_time": "2022-08-10T05:08:13.243Z"
   },
   {
    "duration": 0,
    "start_time": "2022-08-10T05:08:13.244Z"
   },
   {
    "duration": 0,
    "start_time": "2022-08-10T05:08:13.246Z"
   },
   {
    "duration": 0,
    "start_time": "2022-08-10T05:08:13.247Z"
   },
   {
    "duration": 83908,
    "start_time": "2022-08-10T05:14:28.239Z"
   },
   {
    "duration": 128408,
    "start_time": "2022-08-10T05:16:08.201Z"
   },
   {
    "duration": 128842,
    "start_time": "2022-08-10T05:18:23.260Z"
   },
   {
    "duration": 30051,
    "start_time": "2022-08-10T05:21:10.854Z"
   },
   {
    "duration": 129100,
    "start_time": "2022-08-10T05:24:48.410Z"
   },
   {
    "duration": 14371,
    "start_time": "2022-08-10T05:28:00.429Z"
   },
   {
    "duration": 5948,
    "start_time": "2022-08-10T05:28:28.766Z"
   },
   {
    "duration": 15171,
    "start_time": "2022-08-10T05:28:46.139Z"
   },
   {
    "duration": 128648,
    "start_time": "2022-08-10T05:37:42.270Z"
   },
   {
    "duration": 51849,
    "start_time": "2022-08-10T05:41:20.956Z"
   },
   {
    "duration": 10567,
    "start_time": "2022-08-10T05:42:27.970Z"
   },
   {
    "duration": 94960,
    "start_time": "2022-08-10T05:42:38.740Z"
   },
   {
    "duration": 53110,
    "start_time": "2022-08-10T05:44:21.717Z"
   },
   {
    "duration": 366464,
    "start_time": "2022-08-10T05:51:36.682Z"
   },
   {
    "duration": 4,
    "start_time": "2022-08-10T06:07:20.047Z"
   },
   {
    "duration": 4,
    "start_time": "2022-08-10T06:08:00.481Z"
   },
   {
    "duration": 796,
    "start_time": "2022-08-10T06:08:00.487Z"
   },
   {
    "duration": 4,
    "start_time": "2022-08-10T06:08:01.285Z"
   },
   {
    "duration": 782,
    "start_time": "2022-08-10T06:08:01.290Z"
   },
   {
    "duration": 3,
    "start_time": "2022-08-10T06:08:02.074Z"
   },
   {
    "duration": 51,
    "start_time": "2022-08-10T06:08:02.079Z"
   },
   {
    "duration": 242,
    "start_time": "2022-08-10T06:08:02.132Z"
   },
   {
    "duration": 37,
    "start_time": "2022-08-10T06:08:02.376Z"
   },
   {
    "duration": 205,
    "start_time": "2022-08-10T06:08:02.415Z"
   },
   {
    "duration": 79,
    "start_time": "2022-08-10T06:08:02.622Z"
   },
   {
    "duration": 3,
    "start_time": "2022-08-10T06:08:02.702Z"
   },
   {
    "duration": 49,
    "start_time": "2022-08-10T06:08:02.707Z"
   },
   {
    "duration": 53,
    "start_time": "2022-08-10T06:08:02.758Z"
   },
   {
    "duration": 51,
    "start_time": "2022-08-10T06:08:02.813Z"
   },
   {
    "duration": 58,
    "start_time": "2022-08-10T06:08:02.865Z"
   },
   {
    "duration": 82,
    "start_time": "2022-08-10T06:08:02.925Z"
   },
   {
    "duration": 55,
    "start_time": "2022-08-10T06:08:03.009Z"
   },
   {
    "duration": 2,
    "start_time": "2022-08-10T06:08:03.066Z"
   },
   {
    "duration": 122,
    "start_time": "2022-08-10T06:08:03.070Z"
   },
   {
    "duration": 373,
    "start_time": "2022-08-10T06:08:03.200Z"
   },
   {
    "duration": 275,
    "start_time": "2022-08-10T06:08:03.574Z"
   },
   {
    "duration": 27,
    "start_time": "2022-08-10T06:08:03.852Z"
   },
   {
    "duration": 51,
    "start_time": "2022-08-10T06:08:03.881Z"
   },
   {
    "duration": 5,
    "start_time": "2022-08-10T06:08:03.934Z"
   },
   {
    "duration": 111,
    "start_time": "2022-08-10T06:08:03.941Z"
   },
   {
    "duration": 25,
    "start_time": "2022-08-10T06:08:04.053Z"
   },
   {
    "duration": 290,
    "start_time": "2022-08-10T06:08:04.079Z"
   },
   {
    "duration": 31,
    "start_time": "2022-08-10T06:08:04.371Z"
   },
   {
    "duration": 24,
    "start_time": "2022-08-10T06:08:04.404Z"
   },
   {
    "duration": 3,
    "start_time": "2022-08-10T06:08:04.430Z"
   },
   {
    "duration": 800,
    "start_time": "2022-08-10T06:08:04.435Z"
   },
   {
    "duration": 214,
    "start_time": "2022-08-10T06:08:05.237Z"
   },
   {
    "duration": 328,
    "start_time": "2022-08-10T06:08:05.453Z"
   },
   {
    "duration": 3,
    "start_time": "2022-08-10T06:08:05.783Z"
   },
   {
    "duration": 181,
    "start_time": "2022-08-10T06:08:05.787Z"
   },
   {
    "duration": 1673240,
    "start_time": "2022-08-10T06:08:05.969Z"
   },
   {
    "duration": 14699,
    "start_time": "2022-08-10T06:35:59.211Z"
   },
   {
    "duration": 10213,
    "start_time": "2022-08-10T06:36:13.912Z"
   },
   {
    "duration": 4,
    "start_time": "2022-08-10T06:36:24.126Z"
   },
   {
    "duration": 18077,
    "start_time": "2022-08-10T06:36:24.131Z"
   },
   {
    "duration": 91,
    "start_time": "2022-08-10T06:36:42.211Z"
   },
   {
    "duration": 83331,
    "start_time": "2022-08-10T06:36:42.305Z"
   },
   {
    "duration": 1454,
    "start_time": "2022-08-10T07:26:40.196Z"
   },
   {
    "duration": 1054,
    "start_time": "2022-08-10T07:26:41.652Z"
   },
   {
    "duration": 4,
    "start_time": "2022-08-10T07:26:42.707Z"
   },
   {
    "duration": 752,
    "start_time": "2022-08-10T07:26:42.712Z"
   },
   {
    "duration": 4,
    "start_time": "2022-08-10T07:26:43.466Z"
   },
   {
    "duration": 73,
    "start_time": "2022-08-10T07:26:43.471Z"
   },
   {
    "duration": 255,
    "start_time": "2022-08-10T07:26:43.545Z"
   },
   {
    "duration": 32,
    "start_time": "2022-08-10T07:26:43.802Z"
   },
   {
    "duration": 210,
    "start_time": "2022-08-10T07:26:43.835Z"
   },
   {
    "duration": 99,
    "start_time": "2022-08-10T07:26:44.047Z"
   },
   {
    "duration": 3,
    "start_time": "2022-08-10T07:26:44.147Z"
   },
   {
    "duration": 59,
    "start_time": "2022-08-10T07:26:44.151Z"
   },
   {
    "duration": 38,
    "start_time": "2022-08-10T07:26:44.211Z"
   },
   {
    "duration": 56,
    "start_time": "2022-08-10T07:26:44.252Z"
   },
   {
    "duration": 40,
    "start_time": "2022-08-10T07:26:44.310Z"
   },
   {
    "duration": 60,
    "start_time": "2022-08-10T07:26:44.351Z"
   },
   {
    "duration": 38,
    "start_time": "2022-08-10T07:26:44.412Z"
   },
   {
    "duration": 3,
    "start_time": "2022-08-10T07:26:44.451Z"
   },
   {
    "duration": 124,
    "start_time": "2022-08-10T07:26:44.455Z"
   },
   {
    "duration": 377,
    "start_time": "2022-08-10T07:26:44.580Z"
   },
   {
    "duration": 354,
    "start_time": "2022-08-10T07:26:44.959Z"
   },
   {
    "duration": 24,
    "start_time": "2022-08-10T07:26:45.315Z"
   },
   {
    "duration": 24,
    "start_time": "2022-08-10T07:26:45.341Z"
   },
   {
    "duration": 4,
    "start_time": "2022-08-10T07:26:45.366Z"
   },
   {
    "duration": 86,
    "start_time": "2022-08-10T07:26:45.371Z"
   },
   {
    "duration": 23,
    "start_time": "2022-08-10T07:26:45.458Z"
   },
   {
    "duration": 289,
    "start_time": "2022-08-10T07:26:45.482Z"
   },
   {
    "duration": 32,
    "start_time": "2022-08-10T07:26:45.772Z"
   },
   {
    "duration": 30,
    "start_time": "2022-08-10T07:26:45.806Z"
   },
   {
    "duration": 4,
    "start_time": "2022-08-10T07:26:45.837Z"
   },
   {
    "duration": 834,
    "start_time": "2022-08-10T07:26:45.842Z"
   },
   {
    "duration": 213,
    "start_time": "2022-08-10T07:26:46.678Z"
   },
   {
    "duration": 325,
    "start_time": "2022-08-10T07:26:46.893Z"
   },
   {
    "duration": 2,
    "start_time": "2022-08-10T07:26:47.220Z"
   },
   {
    "duration": 188,
    "start_time": "2022-08-10T07:26:47.224Z"
   },
   {
    "duration": 154297,
    "start_time": "2022-08-10T07:26:47.414Z"
   },
   {
    "duration": 15103,
    "start_time": "2022-08-10T07:29:21.712Z"
   },
   {
    "duration": 10097,
    "start_time": "2022-08-10T07:29:36.816Z"
   },
   {
    "duration": 4,
    "start_time": "2022-08-10T07:29:46.914Z"
   },
   {
    "duration": 19280,
    "start_time": "2022-08-10T07:29:46.920Z"
   },
   {
    "duration": 5,
    "start_time": "2022-08-10T07:30:06.204Z"
   },
   {
    "duration": 83317,
    "start_time": "2022-08-10T07:30:06.301Z"
   },
   {
    "duration": 51,
    "start_time": "2022-08-10T07:41:08.951Z"
   },
   {
    "duration": 7,
    "start_time": "2022-08-10T07:55:34.781Z"
   },
   {
    "duration": 0,
    "start_time": "2022-08-10T07:55:34.789Z"
   },
   {
    "duration": 1487,
    "start_time": "2022-08-10T07:56:26.270Z"
   },
   {
    "duration": 1050,
    "start_time": "2022-08-10T07:56:27.759Z"
   },
   {
    "duration": 3,
    "start_time": "2022-08-10T07:56:28.811Z"
   },
   {
    "duration": 781,
    "start_time": "2022-08-10T07:56:28.815Z"
   },
   {
    "duration": 3,
    "start_time": "2022-08-10T07:56:29.601Z"
   },
   {
    "duration": 64,
    "start_time": "2022-08-10T07:56:29.605Z"
   },
   {
    "duration": 259,
    "start_time": "2022-08-10T07:56:29.671Z"
   },
   {
    "duration": 31,
    "start_time": "2022-08-10T07:56:29.931Z"
   },
   {
    "duration": 203,
    "start_time": "2022-08-10T07:56:29.964Z"
   },
   {
    "duration": 100,
    "start_time": "2022-08-10T07:56:30.169Z"
   },
   {
    "duration": 3,
    "start_time": "2022-08-10T07:56:30.270Z"
   },
   {
    "duration": 52,
    "start_time": "2022-08-10T07:56:30.274Z"
   },
   {
    "duration": 39,
    "start_time": "2022-08-10T07:56:30.327Z"
   },
   {
    "duration": 58,
    "start_time": "2022-08-10T07:56:30.368Z"
   },
   {
    "duration": 39,
    "start_time": "2022-08-10T07:56:30.428Z"
   },
   {
    "duration": 58,
    "start_time": "2022-08-10T07:56:30.468Z"
   },
   {
    "duration": 39,
    "start_time": "2022-08-10T07:56:30.528Z"
   },
   {
    "duration": 2,
    "start_time": "2022-08-10T07:56:30.569Z"
   },
   {
    "duration": 129,
    "start_time": "2022-08-10T07:56:30.573Z"
   },
   {
    "duration": 379,
    "start_time": "2022-08-10T07:56:30.704Z"
   },
   {
    "duration": 359,
    "start_time": "2022-08-10T07:56:31.085Z"
   },
   {
    "duration": 29,
    "start_time": "2022-08-10T07:56:31.446Z"
   },
   {
    "duration": 91,
    "start_time": "2022-08-10T07:56:31.476Z"
   },
   {
    "duration": 10,
    "start_time": "2022-08-10T07:56:31.570Z"
   },
   {
    "duration": 126,
    "start_time": "2022-08-10T07:56:31.582Z"
   },
   {
    "duration": 24,
    "start_time": "2022-08-10T07:56:31.710Z"
   },
   {
    "duration": 295,
    "start_time": "2022-08-10T07:56:31.736Z"
   },
   {
    "duration": 26,
    "start_time": "2022-08-10T07:56:32.033Z"
   },
   {
    "duration": 45,
    "start_time": "2022-08-10T07:56:32.061Z"
   },
   {
    "duration": 17,
    "start_time": "2022-08-10T07:56:32.108Z"
   },
   {
    "duration": 1050,
    "start_time": "2022-08-10T07:56:32.127Z"
   },
   {
    "duration": 222,
    "start_time": "2022-08-10T07:56:33.179Z"
   },
   {
    "duration": 327,
    "start_time": "2022-08-10T07:56:33.403Z"
   },
   {
    "duration": 3,
    "start_time": "2022-08-10T07:56:33.732Z"
   },
   {
    "duration": 210,
    "start_time": "2022-08-10T07:56:33.736Z"
   },
   {
    "duration": 130270,
    "start_time": "2022-08-10T07:56:33.948Z"
   },
   {
    "duration": 15486,
    "start_time": "2022-08-10T07:58:44.220Z"
   },
   {
    "duration": 10608,
    "start_time": "2022-08-10T07:58:59.708Z"
   },
   {
    "duration": 4,
    "start_time": "2022-08-10T07:59:10.318Z"
   },
   {
    "duration": 18983,
    "start_time": "2022-08-10T07:59:10.324Z"
   },
   {
    "duration": 89,
    "start_time": "2022-08-10T07:59:29.311Z"
   },
   {
    "duration": 85799,
    "start_time": "2022-08-10T07:59:29.402Z"
   },
   {
    "duration": 54,
    "start_time": "2022-08-10T08:10:39.247Z"
   },
   {
    "duration": 1409,
    "start_time": "2022-08-10T08:11:55.146Z"
   },
   {
    "duration": 1023,
    "start_time": "2022-08-10T08:11:56.557Z"
   },
   {
    "duration": 7,
    "start_time": "2022-08-10T08:11:57.582Z"
   },
   {
    "duration": 802,
    "start_time": "2022-08-10T08:11:57.591Z"
   },
   {
    "duration": 3,
    "start_time": "2022-08-10T08:11:58.399Z"
   },
   {
    "duration": 75,
    "start_time": "2022-08-10T08:11:58.404Z"
   },
   {
    "duration": 249,
    "start_time": "2022-08-10T08:11:58.482Z"
   },
   {
    "duration": 31,
    "start_time": "2022-08-10T08:11:58.733Z"
   },
   {
    "duration": 190,
    "start_time": "2022-08-10T08:11:58.766Z"
   },
   {
    "duration": 108,
    "start_time": "2022-08-10T08:11:58.957Z"
   },
   {
    "duration": 3,
    "start_time": "2022-08-10T08:11:59.067Z"
   },
   {
    "duration": 57,
    "start_time": "2022-08-10T08:11:59.071Z"
   },
   {
    "duration": 39,
    "start_time": "2022-08-10T08:11:59.129Z"
   },
   {
    "duration": 58,
    "start_time": "2022-08-10T08:11:59.170Z"
   },
   {
    "duration": 40,
    "start_time": "2022-08-10T08:11:59.230Z"
   },
   {
    "duration": 57,
    "start_time": "2022-08-10T08:11:59.271Z"
   },
   {
    "duration": 49,
    "start_time": "2022-08-10T08:11:59.329Z"
   },
   {
    "duration": 3,
    "start_time": "2022-08-10T08:11:59.379Z"
   },
   {
    "duration": 132,
    "start_time": "2022-08-10T08:11:59.383Z"
   },
   {
    "duration": 364,
    "start_time": "2022-08-10T08:11:59.517Z"
   },
   {
    "duration": 358,
    "start_time": "2022-08-10T08:11:59.883Z"
   },
   {
    "duration": 25,
    "start_time": "2022-08-10T08:12:00.243Z"
   },
   {
    "duration": 43,
    "start_time": "2022-08-10T08:12:00.270Z"
   },
   {
    "duration": 3,
    "start_time": "2022-08-10T08:12:00.314Z"
   },
   {
    "duration": 67,
    "start_time": "2022-08-10T08:12:00.319Z"
   },
   {
    "duration": 32,
    "start_time": "2022-08-10T08:12:00.388Z"
   },
   {
    "duration": 288,
    "start_time": "2022-08-10T08:12:00.421Z"
   },
   {
    "duration": 27,
    "start_time": "2022-08-10T08:12:00.711Z"
   },
   {
    "duration": 31,
    "start_time": "2022-08-10T08:12:00.740Z"
   },
   {
    "duration": 29,
    "start_time": "2022-08-10T08:12:00.773Z"
   },
   {
    "duration": 1026,
    "start_time": "2022-08-10T08:12:00.803Z"
   },
   {
    "duration": 212,
    "start_time": "2022-08-10T08:12:01.831Z"
   },
   {
    "duration": 320,
    "start_time": "2022-08-10T08:12:02.044Z"
   },
   {
    "duration": 3,
    "start_time": "2022-08-10T08:12:02.366Z"
   },
   {
    "duration": 213,
    "start_time": "2022-08-10T08:12:02.371Z"
   },
   {
    "duration": 135722,
    "start_time": "2022-08-10T08:12:02.586Z"
   },
   {
    "duration": 15205,
    "start_time": "2022-08-10T08:14:18.310Z"
   },
   {
    "duration": 10506,
    "start_time": "2022-08-10T08:14:33.516Z"
   },
   {
    "duration": 4,
    "start_time": "2022-08-10T08:14:44.024Z"
   },
   {
    "duration": 20271,
    "start_time": "2022-08-10T08:14:44.029Z"
   },
   {
    "duration": 4,
    "start_time": "2022-08-10T08:15:04.305Z"
   },
   {
    "duration": 82683,
    "start_time": "2022-08-10T08:15:04.401Z"
   },
   {
    "duration": 76,
    "start_time": "2022-08-10T08:16:27.086Z"
   },
   {
    "duration": 4,
    "start_time": "2022-08-10T08:18:28.717Z"
   },
   {
    "duration": 5,
    "start_time": "2022-08-10T09:43:44.929Z"
   },
   {
    "duration": 700,
    "start_time": "2022-08-10T09:43:44.936Z"
   },
   {
    "duration": 3,
    "start_time": "2022-08-10T09:43:45.638Z"
   },
   {
    "duration": 703,
    "start_time": "2022-08-10T09:43:45.642Z"
   },
   {
    "duration": 4,
    "start_time": "2022-08-10T09:43:46.347Z"
   },
   {
    "duration": 48,
    "start_time": "2022-08-10T09:43:46.352Z"
   },
   {
    "duration": 246,
    "start_time": "2022-08-10T09:43:46.401Z"
   },
   {
    "duration": 28,
    "start_time": "2022-08-10T09:43:46.648Z"
   },
   {
    "duration": 194,
    "start_time": "2022-08-10T09:43:46.679Z"
   },
   {
    "duration": 70,
    "start_time": "2022-08-10T09:43:46.875Z"
   },
   {
    "duration": 2,
    "start_time": "2022-08-10T09:43:46.947Z"
   },
   {
    "duration": 51,
    "start_time": "2022-08-10T09:43:46.950Z"
   },
   {
    "duration": 67,
    "start_time": "2022-08-10T09:43:47.003Z"
   },
   {
    "duration": 62,
    "start_time": "2022-08-10T09:43:47.073Z"
   },
   {
    "duration": 39,
    "start_time": "2022-08-10T09:43:47.136Z"
   },
   {
    "duration": 55,
    "start_time": "2022-08-10T09:43:47.177Z"
   },
   {
    "duration": 37,
    "start_time": "2022-08-10T09:43:47.234Z"
   },
   {
    "duration": 3,
    "start_time": "2022-08-10T09:43:47.272Z"
   },
   {
    "duration": 117,
    "start_time": "2022-08-10T09:43:47.276Z"
   },
   {
    "duration": 357,
    "start_time": "2022-08-10T09:43:47.394Z"
   },
   {
    "duration": 265,
    "start_time": "2022-08-10T09:43:47.752Z"
   },
   {
    "duration": 24,
    "start_time": "2022-08-10T09:43:48.019Z"
   },
   {
    "duration": 26,
    "start_time": "2022-08-10T09:43:48.046Z"
   },
   {
    "duration": 26,
    "start_time": "2022-08-10T09:43:48.074Z"
   },
   {
    "duration": 59,
    "start_time": "2022-08-10T09:43:48.102Z"
   },
   {
    "duration": 43,
    "start_time": "2022-08-10T09:43:48.163Z"
   },
   {
    "duration": 269,
    "start_time": "2022-08-10T09:43:48.208Z"
   },
   {
    "duration": 34,
    "start_time": "2022-08-10T09:43:48.479Z"
   },
   {
    "duration": 26,
    "start_time": "2022-08-10T09:43:48.514Z"
   },
   {
    "duration": 3,
    "start_time": "2022-08-10T09:43:48.542Z"
   },
   {
    "duration": 780,
    "start_time": "2022-08-10T09:43:48.546Z"
   },
   {
    "duration": 209,
    "start_time": "2022-08-10T09:43:49.328Z"
   },
   {
    "duration": 324,
    "start_time": "2022-08-10T09:43:49.539Z"
   },
   {
    "duration": 3,
    "start_time": "2022-08-10T09:43:49.864Z"
   },
   {
    "duration": 238,
    "start_time": "2022-08-10T09:43:49.869Z"
   },
   {
    "duration": 953502,
    "start_time": "2022-08-10T09:43:50.109Z"
   },
   {
    "duration": 15610,
    "start_time": "2022-08-10T09:59:43.612Z"
   },
   {
    "duration": 10892,
    "start_time": "2022-08-10T09:59:59.223Z"
   },
   {
    "duration": 4,
    "start_time": "2022-08-10T10:00:10.117Z"
   },
   {
    "duration": 19178,
    "start_time": "2022-08-10T10:00:10.122Z"
   },
   {
    "duration": 4,
    "start_time": "2022-08-10T10:00:29.305Z"
   },
   {
    "duration": 56883,
    "start_time": "2022-08-10T10:00:29.401Z"
   },
   {
    "duration": 4532,
    "start_time": "2022-08-10T10:01:26.286Z"
   },
   {
    "duration": 4,
    "start_time": "2022-08-10T10:01:30.820Z"
   },
   {
    "duration": 21,
    "start_time": "2022-08-10T10:01:30.826Z"
   },
   {
    "duration": 3,
    "start_time": "2022-08-10T10:02:36.040Z"
   },
   {
    "duration": 4,
    "start_time": "2022-08-10T10:02:47.623Z"
   },
   {
    "duration": 5,
    "start_time": "2022-08-10T10:02:59.359Z"
   },
   {
    "duration": 24,
    "start_time": "2022-08-10T10:05:23.790Z"
   },
   {
    "duration": 146,
    "start_time": "2022-08-10T10:05:38.124Z"
   },
   {
    "duration": 137,
    "start_time": "2022-08-10T10:12:32.790Z"
   },
   {
    "duration": 129,
    "start_time": "2022-08-10T10:14:16.566Z"
   },
   {
    "duration": 236,
    "start_time": "2022-08-10T10:14:36.445Z"
   },
   {
    "duration": 9,
    "start_time": "2022-08-10T10:18:14.479Z"
   },
   {
    "duration": 261,
    "start_time": "2022-08-10T10:18:36.376Z"
   },
   {
    "duration": 5,
    "start_time": "2022-08-10T10:20:47.795Z"
   },
   {
    "duration": 724,
    "start_time": "2022-08-10T10:20:47.802Z"
   },
   {
    "duration": 4,
    "start_time": "2022-08-10T10:20:48.528Z"
   },
   {
    "duration": 807,
    "start_time": "2022-08-10T10:20:48.535Z"
   },
   {
    "duration": 4,
    "start_time": "2022-08-10T10:20:49.344Z"
   },
   {
    "duration": 44,
    "start_time": "2022-08-10T10:20:49.350Z"
   },
   {
    "duration": 223,
    "start_time": "2022-08-10T10:20:49.399Z"
   },
   {
    "duration": 22,
    "start_time": "2022-08-10T10:20:49.624Z"
   },
   {
    "duration": 188,
    "start_time": "2022-08-10T10:20:49.648Z"
   },
   {
    "duration": 82,
    "start_time": "2022-08-10T10:20:49.838Z"
   },
   {
    "duration": 2,
    "start_time": "2022-08-10T10:20:49.922Z"
   },
   {
    "duration": 41,
    "start_time": "2022-08-10T10:20:49.926Z"
   },
   {
    "duration": 61,
    "start_time": "2022-08-10T10:20:49.968Z"
   },
   {
    "duration": 45,
    "start_time": "2022-08-10T10:20:50.031Z"
   },
   {
    "duration": 61,
    "start_time": "2022-08-10T10:20:50.078Z"
   },
   {
    "duration": 41,
    "start_time": "2022-08-10T10:20:50.141Z"
   },
   {
    "duration": 53,
    "start_time": "2022-08-10T10:20:50.183Z"
   },
   {
    "duration": 3,
    "start_time": "2022-08-10T10:20:50.237Z"
   },
   {
    "duration": 118,
    "start_time": "2022-08-10T10:20:50.241Z"
   },
   {
    "duration": 388,
    "start_time": "2022-08-10T10:20:50.361Z"
   },
   {
    "duration": 259,
    "start_time": "2022-08-10T10:20:50.750Z"
   },
   {
    "duration": 25,
    "start_time": "2022-08-10T10:20:51.011Z"
   },
   {
    "duration": 25,
    "start_time": "2022-08-10T10:20:51.038Z"
   },
   {
    "duration": 4,
    "start_time": "2022-08-10T10:20:51.065Z"
   },
   {
    "duration": 57,
    "start_time": "2022-08-10T10:20:51.099Z"
   },
   {
    "duration": 23,
    "start_time": "2022-08-10T10:20:51.158Z"
   },
   {
    "duration": 273,
    "start_time": "2022-08-10T10:20:51.199Z"
   },
   {
    "duration": 35,
    "start_time": "2022-08-10T10:20:51.475Z"
   },
   {
    "duration": 29,
    "start_time": "2022-08-10T10:20:51.512Z"
   },
   {
    "duration": 4,
    "start_time": "2022-08-10T10:20:51.545Z"
   },
   {
    "duration": 899,
    "start_time": "2022-08-10T10:20:51.551Z"
   },
   {
    "duration": 224,
    "start_time": "2022-08-10T10:20:52.451Z"
   },
   {
    "duration": 311,
    "start_time": "2022-08-10T10:20:52.677Z"
   },
   {
    "duration": 3,
    "start_time": "2022-08-10T10:20:52.990Z"
   },
   {
    "duration": 192,
    "start_time": "2022-08-10T10:20:53.001Z"
   },
   {
    "duration": 2309434,
    "start_time": "2022-08-10T10:20:53.195Z"
   },
   {
    "duration": 0,
    "start_time": "2022-08-10T10:59:22.631Z"
   },
   {
    "duration": 0,
    "start_time": "2022-08-10T10:59:22.632Z"
   },
   {
    "duration": 0,
    "start_time": "2022-08-10T10:59:22.633Z"
   },
   {
    "duration": 0,
    "start_time": "2022-08-10T10:59:22.634Z"
   },
   {
    "duration": 0,
    "start_time": "2022-08-10T10:59:22.635Z"
   },
   {
    "duration": 0,
    "start_time": "2022-08-10T10:59:22.636Z"
   },
   {
    "duration": 0,
    "start_time": "2022-08-10T10:59:22.701Z"
   },
   {
    "duration": 0,
    "start_time": "2022-08-10T10:59:22.702Z"
   },
   {
    "duration": 0,
    "start_time": "2022-08-10T10:59:22.703Z"
   },
   {
    "duration": 0,
    "start_time": "2022-08-10T10:59:22.704Z"
   },
   {
    "duration": 0,
    "start_time": "2022-08-10T10:59:22.705Z"
   },
   {
    "duration": 8,
    "start_time": "2022-08-10T11:00:15.750Z"
   },
   {
    "duration": 742,
    "start_time": "2022-08-10T11:00:15.760Z"
   },
   {
    "duration": 3,
    "start_time": "2022-08-10T11:00:16.504Z"
   },
   {
    "duration": 686,
    "start_time": "2022-08-10T11:00:16.509Z"
   },
   {
    "duration": 3,
    "start_time": "2022-08-10T11:00:17.199Z"
   },
   {
    "duration": 45,
    "start_time": "2022-08-10T11:00:17.204Z"
   },
   {
    "duration": 231,
    "start_time": "2022-08-10T11:00:17.251Z"
   },
   {
    "duration": 26,
    "start_time": "2022-08-10T11:00:17.484Z"
   },
   {
    "duration": 198,
    "start_time": "2022-08-10T11:00:17.512Z"
   },
   {
    "duration": 63,
    "start_time": "2022-08-10T11:00:17.712Z"
   },
   {
    "duration": 7,
    "start_time": "2022-08-10T11:00:17.777Z"
   },
   {
    "duration": 69,
    "start_time": "2022-08-10T11:00:17.785Z"
   },
   {
    "duration": 41,
    "start_time": "2022-08-10T11:00:17.855Z"
   },
   {
    "duration": 45,
    "start_time": "2022-08-10T11:00:17.897Z"
   },
   {
    "duration": 73,
    "start_time": "2022-08-10T11:00:17.944Z"
   },
   {
    "duration": 60,
    "start_time": "2022-08-10T11:00:18.018Z"
   },
   {
    "duration": 42,
    "start_time": "2022-08-10T11:00:18.079Z"
   },
   {
    "duration": 3,
    "start_time": "2022-08-10T11:00:18.123Z"
   },
   {
    "duration": 147,
    "start_time": "2022-08-10T11:00:18.128Z"
   },
   {
    "duration": 366,
    "start_time": "2022-08-10T11:00:18.277Z"
   },
   {
    "duration": 262,
    "start_time": "2022-08-10T11:00:18.644Z"
   },
   {
    "duration": 24,
    "start_time": "2022-08-10T11:00:18.908Z"
   },
   {
    "duration": 29,
    "start_time": "2022-08-10T11:00:18.933Z"
   },
   {
    "duration": 3,
    "start_time": "2022-08-10T11:00:18.964Z"
   },
   {
    "duration": 85,
    "start_time": "2022-08-10T11:00:18.969Z"
   },
   {
    "duration": 25,
    "start_time": "2022-08-10T11:00:19.056Z"
   },
   {
    "duration": 289,
    "start_time": "2022-08-10T11:00:19.083Z"
   },
   {
    "duration": 34,
    "start_time": "2022-08-10T11:00:19.377Z"
   },
   {
    "duration": 26,
    "start_time": "2022-08-10T11:00:19.413Z"
   },
   {
    "duration": 3,
    "start_time": "2022-08-10T11:00:19.441Z"
   },
   {
    "duration": 847,
    "start_time": "2022-08-10T11:00:19.446Z"
   },
   {
    "duration": 208,
    "start_time": "2022-08-10T11:00:20.295Z"
   },
   {
    "duration": 319,
    "start_time": "2022-08-10T11:00:20.504Z"
   },
   {
    "duration": 3,
    "start_time": "2022-08-10T11:00:20.825Z"
   },
   {
    "duration": 219,
    "start_time": "2022-08-10T11:00:20.830Z"
   },
   {
    "duration": 494260,
    "start_time": "2022-08-10T11:00:21.051Z"
   },
   {
    "duration": 15388,
    "start_time": "2022-08-10T11:08:35.312Z"
   },
   {
    "duration": 10528,
    "start_time": "2022-08-10T11:08:50.703Z"
   },
   {
    "duration": 69,
    "start_time": "2022-08-10T11:09:01.232Z"
   },
   {
    "duration": 18599,
    "start_time": "2022-08-10T11:09:01.303Z"
   },
   {
    "duration": 4,
    "start_time": "2022-08-10T11:09:19.904Z"
   },
   {
    "duration": 55670,
    "start_time": "2022-08-10T11:09:20.000Z"
   },
   {
    "duration": 4417,
    "start_time": "2022-08-10T11:10:15.671Z"
   },
   {
    "duration": 5,
    "start_time": "2022-08-10T11:10:20.089Z"
   },
   {
    "duration": 47,
    "start_time": "2022-08-10T11:10:20.095Z"
   },
   {
    "duration": 374,
    "start_time": "2022-08-10T11:10:20.144Z"
   },
   {
    "duration": 58,
    "start_time": "2022-08-10T11:10:20.520Z"
   },
   {
    "duration": 2006,
    "start_time": "2022-08-10T12:04:46.625Z"
   },
   {
    "duration": 2980,
    "start_time": "2022-08-10T12:04:48.634Z"
   },
   {
    "duration": 4,
    "start_time": "2022-08-10T12:04:51.616Z"
   },
   {
    "duration": 810,
    "start_time": "2022-08-10T12:04:51.621Z"
   },
   {
    "duration": 3,
    "start_time": "2022-08-10T12:04:52.433Z"
   },
   {
    "duration": 75,
    "start_time": "2022-08-10T12:04:52.438Z"
   },
   {
    "duration": 266,
    "start_time": "2022-08-10T12:04:52.515Z"
   },
   {
    "duration": 31,
    "start_time": "2022-08-10T12:04:52.783Z"
   },
   {
    "duration": 211,
    "start_time": "2022-08-10T12:04:52.816Z"
   },
   {
    "duration": 114,
    "start_time": "2022-08-10T12:04:53.030Z"
   },
   {
    "duration": 3,
    "start_time": "2022-08-10T12:04:53.146Z"
   },
   {
    "duration": 62,
    "start_time": "2022-08-10T12:04:53.150Z"
   },
   {
    "duration": 57,
    "start_time": "2022-08-10T12:04:53.213Z"
   },
   {
    "duration": 48,
    "start_time": "2022-08-10T12:04:53.272Z"
   },
   {
    "duration": 69,
    "start_time": "2022-08-10T12:04:53.322Z"
   },
   {
    "duration": 47,
    "start_time": "2022-08-10T12:04:53.393Z"
   },
   {
    "duration": 71,
    "start_time": "2022-08-10T12:04:53.442Z"
   },
   {
    "duration": 3,
    "start_time": "2022-08-10T12:04:53.515Z"
   },
   {
    "duration": 129,
    "start_time": "2022-08-10T12:04:53.520Z"
   },
   {
    "duration": 424,
    "start_time": "2022-08-10T12:04:53.652Z"
   },
   {
    "duration": 368,
    "start_time": "2022-08-10T12:04:54.078Z"
   },
   {
    "duration": 38,
    "start_time": "2022-08-10T12:04:54.448Z"
   },
   {
    "duration": 25,
    "start_time": "2022-08-10T12:04:54.489Z"
   },
   {
    "duration": 4,
    "start_time": "2022-08-10T12:04:54.516Z"
   },
   {
    "duration": 83,
    "start_time": "2022-08-10T12:04:54.522Z"
   },
   {
    "duration": 21,
    "start_time": "2022-08-10T12:04:54.607Z"
   },
   {
    "duration": 301,
    "start_time": "2022-08-10T12:04:54.630Z"
   },
   {
    "duration": 38,
    "start_time": "2022-08-10T12:04:54.934Z"
   },
   {
    "duration": 30,
    "start_time": "2022-08-10T12:04:54.974Z"
   },
   {
    "duration": 4,
    "start_time": "2022-08-10T12:04:55.006Z"
   },
   {
    "duration": 822,
    "start_time": "2022-08-10T12:04:55.012Z"
   },
   {
    "duration": 211,
    "start_time": "2022-08-10T12:04:55.836Z"
   },
   {
    "duration": 324,
    "start_time": "2022-08-10T12:04:56.049Z"
   },
   {
    "duration": 3,
    "start_time": "2022-08-10T12:04:56.374Z"
   },
   {
    "duration": 213,
    "start_time": "2022-08-10T12:04:56.379Z"
   },
   {
    "duration": 834489,
    "start_time": "2022-08-10T12:04:56.595Z"
   },
   {
    "duration": 91591,
    "start_time": "2022-08-10T12:18:51.086Z"
   },
   {
    "duration": 11503,
    "start_time": "2022-08-10T12:20:22.679Z"
   },
   {
    "duration": 4,
    "start_time": "2022-08-10T12:20:34.183Z"
   },
   {
    "duration": 20079,
    "start_time": "2022-08-10T12:20:34.189Z"
   },
   {
    "duration": 4,
    "start_time": "2022-08-10T12:20:54.270Z"
   },
   {
    "duration": 55750,
    "start_time": "2022-08-10T12:20:54.276Z"
   },
   {
    "duration": 4301,
    "start_time": "2022-08-10T12:21:50.028Z"
   },
   {
    "duration": 4,
    "start_time": "2022-08-10T12:21:54.331Z"
   },
   {
    "duration": 13,
    "start_time": "2022-08-10T12:21:54.336Z"
   },
   {
    "duration": 297,
    "start_time": "2022-08-10T12:21:54.351Z"
   },
   {
    "duration": 130,
    "start_time": "2022-08-10T13:51:10.070Z"
   },
   {
    "duration": 82,
    "start_time": "2022-08-10T18:57:59.656Z"
   },
   {
    "duration": 1568,
    "start_time": "2022-08-11T07:54:40.317Z"
   },
   {
    "duration": 1059,
    "start_time": "2022-08-11T07:54:42.467Z"
   },
   {
    "duration": 3,
    "start_time": "2022-08-11T07:54:56.762Z"
   },
   {
    "duration": 733,
    "start_time": "2022-08-11T07:55:05.592Z"
   },
   {
    "duration": 2,
    "start_time": "2022-08-11T07:55:14.037Z"
   },
   {
    "duration": 58,
    "start_time": "2022-08-11T07:55:15.926Z"
   },
   {
    "duration": 269,
    "start_time": "2022-08-11T07:55:17.361Z"
   },
   {
    "duration": 28,
    "start_time": "2022-08-11T07:55:18.687Z"
   },
   {
    "duration": 187,
    "start_time": "2022-08-11T07:55:21.430Z"
   },
   {
    "duration": 105,
    "start_time": "2022-08-11T07:55:23.292Z"
   },
   {
    "duration": 3,
    "start_time": "2022-08-11T07:55:32.023Z"
   },
   {
    "duration": 41,
    "start_time": "2022-08-11T07:55:33.269Z"
   },
   {
    "duration": 44,
    "start_time": "2022-08-11T07:55:35.715Z"
   },
   {
    "duration": 43,
    "start_time": "2022-08-11T07:55:39.304Z"
   },
   {
    "duration": 44,
    "start_time": "2022-08-11T07:55:40.679Z"
   },
   {
    "duration": 49,
    "start_time": "2022-08-11T07:55:42.658Z"
   },
   {
    "duration": 59,
    "start_time": "2022-08-11T07:55:53.002Z"
   },
   {
    "duration": 2,
    "start_time": "2022-08-11T07:55:54.942Z"
   },
   {
    "duration": 101,
    "start_time": "2022-08-11T07:55:57.202Z"
   },
   {
    "duration": 416,
    "start_time": "2022-08-11T07:56:00.717Z"
   },
   {
    "duration": 300,
    "start_time": "2022-08-11T07:56:06.428Z"
   },
   {
    "duration": 22,
    "start_time": "2022-08-11T07:56:09.918Z"
   },
   {
    "duration": 21,
    "start_time": "2022-08-11T07:56:17.095Z"
   },
   {
    "duration": 5,
    "start_time": "2022-08-11T07:56:18.969Z"
   },
   {
    "duration": 30,
    "start_time": "2022-08-11T07:56:26.649Z"
   },
   {
    "duration": 3,
    "start_time": "2022-08-11T07:56:28.368Z"
   },
   {
    "duration": 26,
    "start_time": "2022-08-11T07:56:33.673Z"
   },
   {
    "duration": 3,
    "start_time": "2022-08-11T07:56:35.222Z"
   },
   {
    "duration": 385,
    "start_time": "2022-08-11T08:00:16.782Z"
   },
   {
    "duration": 20,
    "start_time": "2022-08-11T08:04:00.046Z"
   },
   {
    "duration": 5,
    "start_time": "2022-08-11T08:04:24.627Z"
   },
   {
    "duration": 830,
    "start_time": "2022-08-11T08:04:24.634Z"
   },
   {
    "duration": 4,
    "start_time": "2022-08-11T08:04:25.466Z"
   },
   {
    "duration": 772,
    "start_time": "2022-08-11T08:04:25.473Z"
   },
   {
    "duration": 4,
    "start_time": "2022-08-11T08:04:26.247Z"
   },
   {
    "duration": 49,
    "start_time": "2022-08-11T08:04:26.253Z"
   },
   {
    "duration": 237,
    "start_time": "2022-08-11T08:04:26.304Z"
   },
   {
    "duration": 31,
    "start_time": "2022-08-11T08:04:26.543Z"
   },
   {
    "duration": 221,
    "start_time": "2022-08-11T08:04:26.577Z"
   },
   {
    "duration": 96,
    "start_time": "2022-08-11T08:04:26.801Z"
   },
   {
    "duration": 3,
    "start_time": "2022-08-11T08:04:26.899Z"
   },
   {
    "duration": 56,
    "start_time": "2022-08-11T08:04:26.903Z"
   },
   {
    "duration": 80,
    "start_time": "2022-08-11T08:04:26.960Z"
   },
   {
    "duration": 60,
    "start_time": "2022-08-11T08:04:27.042Z"
   },
   {
    "duration": 67,
    "start_time": "2022-08-11T08:04:27.103Z"
   },
   {
    "duration": 45,
    "start_time": "2022-08-11T08:04:27.173Z"
   },
   {
    "duration": 69,
    "start_time": "2022-08-11T08:04:27.220Z"
   },
   {
    "duration": 3,
    "start_time": "2022-08-11T08:04:27.291Z"
   },
   {
    "duration": 121,
    "start_time": "2022-08-11T08:04:27.295Z"
   },
   {
    "duration": 418,
    "start_time": "2022-08-11T08:04:27.418Z"
   },
   {
    "duration": 296,
    "start_time": "2022-08-11T08:04:27.838Z"
   },
   {
    "duration": 29,
    "start_time": "2022-08-11T08:04:28.138Z"
   },
   {
    "duration": 25,
    "start_time": "2022-08-11T08:04:28.170Z"
   },
   {
    "duration": 3,
    "start_time": "2022-08-11T08:04:28.199Z"
   },
   {
    "duration": 97,
    "start_time": "2022-08-11T08:04:28.204Z"
   },
   {
    "duration": 399,
    "start_time": "2022-08-11T08:04:28.303Z"
   },
   {
    "duration": 33,
    "start_time": "2022-08-11T08:04:28.704Z"
   },
   {
    "duration": 108,
    "start_time": "2022-08-11T08:07:26.585Z"
   },
   {
    "duration": 10,
    "start_time": "2022-08-11T08:07:34.144Z"
   },
   {
    "duration": 338,
    "start_time": "2022-08-11T08:07:40.010Z"
   },
   {
    "duration": 181,
    "start_time": "2022-08-11T08:08:01.136Z"
   },
   {
    "duration": 313,
    "start_time": "2022-08-11T08:08:08.615Z"
   },
   {
    "duration": 238,
    "start_time": "2022-08-11T08:08:17.624Z"
   },
   {
    "duration": 170,
    "start_time": "2022-08-11T08:08:25.688Z"
   },
   {
    "duration": 168,
    "start_time": "2022-08-11T08:08:32.468Z"
   },
   {
    "duration": 10,
    "start_time": "2022-08-11T09:28:41.522Z"
   },
   {
    "duration": 22,
    "start_time": "2022-08-11T09:28:57.577Z"
   },
   {
    "duration": 5,
    "start_time": "2022-08-11T09:29:03.146Z"
   },
   {
    "duration": 747,
    "start_time": "2022-08-11T09:29:03.153Z"
   },
   {
    "duration": 3,
    "start_time": "2022-08-11T09:29:03.902Z"
   },
   {
    "duration": 704,
    "start_time": "2022-08-11T09:29:03.907Z"
   },
   {
    "duration": 3,
    "start_time": "2022-08-11T09:29:04.613Z"
   },
   {
    "duration": 60,
    "start_time": "2022-08-11T09:29:04.618Z"
   },
   {
    "duration": 237,
    "start_time": "2022-08-11T09:29:04.680Z"
   },
   {
    "duration": 46,
    "start_time": "2022-08-11T09:29:04.919Z"
   },
   {
    "duration": 269,
    "start_time": "2022-08-11T09:29:04.969Z"
   },
   {
    "duration": 77,
    "start_time": "2022-08-11T09:29:05.240Z"
   },
   {
    "duration": 4,
    "start_time": "2022-08-11T09:29:05.318Z"
   },
   {
    "duration": 74,
    "start_time": "2022-08-11T09:29:05.323Z"
   },
   {
    "duration": 81,
    "start_time": "2022-08-11T09:29:05.399Z"
   },
   {
    "duration": 84,
    "start_time": "2022-08-11T09:29:05.482Z"
   },
   {
    "duration": 73,
    "start_time": "2022-08-11T09:29:05.569Z"
   },
   {
    "duration": 57,
    "start_time": "2022-08-11T09:29:05.643Z"
   },
   {
    "duration": 68,
    "start_time": "2022-08-11T09:29:05.702Z"
   },
   {
    "duration": 3,
    "start_time": "2022-08-11T09:29:05.771Z"
   },
   {
    "duration": 118,
    "start_time": "2022-08-11T09:29:05.776Z"
   },
   {
    "duration": 386,
    "start_time": "2022-08-11T09:29:05.896Z"
   },
   {
    "duration": 256,
    "start_time": "2022-08-11T09:29:06.283Z"
   },
   {
    "duration": 168,
    "start_time": "2022-08-11T09:29:06.541Z"
   },
   {
    "duration": 33,
    "start_time": "2022-08-11T09:29:06.711Z"
   },
   {
    "duration": 24,
    "start_time": "2022-08-11T09:29:06.747Z"
   },
   {
    "duration": 3,
    "start_time": "2022-08-11T09:29:06.773Z"
   },
   {
    "duration": 78,
    "start_time": "2022-08-11T09:29:06.778Z"
   },
   {
    "duration": 369,
    "start_time": "2022-08-11T09:29:06.858Z"
   },
   {
    "duration": 24,
    "start_time": "2022-08-11T09:29:07.237Z"
   },
   {
    "duration": 433,
    "start_time": "2022-08-11T09:29:07.263Z"
   },
   {
    "duration": 24,
    "start_time": "2022-08-11T09:29:07.698Z"
   },
   {
    "duration": 36,
    "start_time": "2022-08-11T09:29:07.724Z"
   },
   {
    "duration": 28,
    "start_time": "2022-08-11T09:29:19.625Z"
   },
   {
    "duration": 3,
    "start_time": "2022-08-11T09:29:24.184Z"
   },
   {
    "duration": 6,
    "start_time": "2022-08-11T09:31:25.410Z"
   },
   {
    "duration": 410,
    "start_time": "2022-08-11T10:00:15.903Z"
   },
   {
    "duration": 11,
    "start_time": "2022-08-11T10:10:42.689Z"
   },
   {
    "duration": 3,
    "start_time": "2022-08-11T10:11:01.637Z"
   },
   {
    "duration": 21,
    "start_time": "2022-08-11T11:32:16.224Z"
   },
   {
    "duration": 9,
    "start_time": "2022-08-11T11:36:24.435Z"
   },
   {
    "duration": 632,
    "start_time": "2022-08-11T11:36:30.441Z"
   },
   {
    "duration": 8,
    "start_time": "2022-08-11T11:36:33.477Z"
   },
   {
    "duration": 14,
    "start_time": "2022-08-11T11:36:58.634Z"
   },
   {
    "duration": 3,
    "start_time": "2022-08-11T11:38:27.367Z"
   },
   {
    "duration": 4,
    "start_time": "2022-08-11T12:19:08.133Z"
   },
   {
    "duration": 723,
    "start_time": "2022-08-11T12:19:08.139Z"
   },
   {
    "duration": 4,
    "start_time": "2022-08-11T12:19:08.864Z"
   },
   {
    "duration": 761,
    "start_time": "2022-08-11T12:19:08.870Z"
   },
   {
    "duration": 3,
    "start_time": "2022-08-11T12:19:09.639Z"
   },
   {
    "duration": 38,
    "start_time": "2022-08-11T12:19:09.643Z"
   },
   {
    "duration": 249,
    "start_time": "2022-08-11T12:19:09.682Z"
   },
   {
    "duration": 26,
    "start_time": "2022-08-11T12:19:09.933Z"
   },
   {
    "duration": 210,
    "start_time": "2022-08-11T12:19:09.961Z"
   },
   {
    "duration": 86,
    "start_time": "2022-08-11T12:19:10.173Z"
   },
   {
    "duration": 2,
    "start_time": "2022-08-11T12:19:10.262Z"
   },
   {
    "duration": 50,
    "start_time": "2022-08-11T12:19:10.266Z"
   },
   {
    "duration": 62,
    "start_time": "2022-08-11T12:19:10.318Z"
   },
   {
    "duration": 60,
    "start_time": "2022-08-11T12:19:10.381Z"
   },
   {
    "duration": 45,
    "start_time": "2022-08-11T12:19:10.443Z"
   },
   {
    "duration": 57,
    "start_time": "2022-08-11T12:19:10.490Z"
   },
   {
    "duration": 41,
    "start_time": "2022-08-11T12:19:10.549Z"
   },
   {
    "duration": 2,
    "start_time": "2022-08-11T12:19:10.592Z"
   },
   {
    "duration": 124,
    "start_time": "2022-08-11T12:19:10.595Z"
   },
   {
    "duration": 372,
    "start_time": "2022-08-11T12:19:10.720Z"
   },
   {
    "duration": 250,
    "start_time": "2022-08-11T12:19:11.094Z"
   },
   {
    "duration": 171,
    "start_time": "2022-08-11T12:19:11.346Z"
   },
   {
    "duration": 28,
    "start_time": "2022-08-11T12:19:11.519Z"
   },
   {
    "duration": 23,
    "start_time": "2022-08-11T12:19:11.548Z"
   },
   {
    "duration": 3,
    "start_time": "2022-08-11T12:19:11.573Z"
   },
   {
    "duration": 78,
    "start_time": "2022-08-11T12:19:11.577Z"
   },
   {
    "duration": 352,
    "start_time": "2022-08-11T12:19:11.656Z"
   },
   {
    "duration": 31,
    "start_time": "2022-08-11T12:19:12.009Z"
   },
   {
    "duration": 291,
    "start_time": "2022-08-11T12:19:12.043Z"
   },
   {
    "duration": 22,
    "start_time": "2022-08-11T12:19:12.338Z"
   },
   {
    "duration": 18,
    "start_time": "2022-08-11T12:19:12.362Z"
   },
   {
    "duration": 4,
    "start_time": "2022-08-11T12:19:12.381Z"
   },
   {
    "duration": 389,
    "start_time": "2022-08-11T12:19:12.386Z"
   },
   {
    "duration": 4,
    "start_time": "2022-08-11T12:19:12.776Z"
   },
   {
    "duration": 575,
    "start_time": "2022-08-11T12:19:12.782Z"
   },
   {
    "duration": 202,
    "start_time": "2022-08-11T12:19:13.358Z"
   },
   {
    "duration": 303,
    "start_time": "2022-08-11T12:19:13.561Z"
   },
   {
    "duration": 2,
    "start_time": "2022-08-11T12:19:13.866Z"
   },
   {
    "duration": 191,
    "start_time": "2022-08-11T12:19:13.870Z"
   },
   {
    "duration": 123929,
    "start_time": "2022-08-11T12:19:26.612Z"
   },
   {
    "duration": 135405,
    "start_time": "2022-08-11T12:24:14.852Z"
   },
   {
    "duration": 1224397,
    "start_time": "2022-08-11T12:32:36.460Z"
   },
   {
    "duration": 732,
    "start_time": "2022-08-11T13:06:55.275Z"
   },
   {
    "duration": 555,
    "start_time": "2022-08-11T13:07:07.575Z"
   },
   {
    "duration": 537,
    "start_time": "2022-08-11T13:07:14.252Z"
   },
   {
    "duration": 1611,
    "start_time": "2022-08-15T09:41:18.438Z"
   },
   {
    "duration": 1124,
    "start_time": "2022-08-15T09:41:20.051Z"
   },
   {
    "duration": 4,
    "start_time": "2022-08-15T09:41:21.177Z"
   },
   {
    "duration": 816,
    "start_time": "2022-08-15T09:41:21.182Z"
   },
   {
    "duration": 4,
    "start_time": "2022-08-15T09:41:22.002Z"
   },
   {
    "duration": 65,
    "start_time": "2022-08-15T09:41:22.007Z"
   },
   {
    "duration": 269,
    "start_time": "2022-08-15T09:41:22.074Z"
   },
   {
    "duration": 32,
    "start_time": "2022-08-15T09:41:22.345Z"
   },
   {
    "duration": 213,
    "start_time": "2022-08-15T09:41:22.378Z"
   },
   {
    "duration": 119,
    "start_time": "2022-08-15T09:41:22.593Z"
   },
   {
    "duration": 3,
    "start_time": "2022-08-15T09:41:22.714Z"
   },
   {
    "duration": 47,
    "start_time": "2022-08-15T09:41:22.718Z"
   },
   {
    "duration": 57,
    "start_time": "2022-08-15T09:41:22.767Z"
   },
   {
    "duration": 48,
    "start_time": "2022-08-15T09:41:22.826Z"
   },
   {
    "duration": 65,
    "start_time": "2022-08-15T09:41:22.875Z"
   },
   {
    "duration": 44,
    "start_time": "2022-08-15T09:41:22.942Z"
   },
   {
    "duration": 42,
    "start_time": "2022-08-15T09:41:23.003Z"
   },
   {
    "duration": 3,
    "start_time": "2022-08-15T09:41:23.046Z"
   },
   {
    "duration": 126,
    "start_time": "2022-08-15T09:41:23.051Z"
   },
   {
    "duration": 444,
    "start_time": "2022-08-15T09:41:23.178Z"
   },
   {
    "duration": 378,
    "start_time": "2022-08-15T09:41:23.624Z"
   },
   {
    "duration": 213,
    "start_time": "2022-08-15T09:41:24.004Z"
   },
   {
    "duration": 28,
    "start_time": "2022-08-15T09:41:24.219Z"
   },
   {
    "duration": 25,
    "start_time": "2022-08-15T09:41:24.249Z"
   },
   {
    "duration": 26,
    "start_time": "2022-08-15T09:41:24.276Z"
   },
   {
    "duration": 68,
    "start_time": "2022-08-15T09:41:24.304Z"
   },
   {
    "duration": 421,
    "start_time": "2022-08-15T09:41:24.374Z"
   },
   {
    "duration": 23,
    "start_time": "2022-08-15T09:41:24.804Z"
   },
   {
    "duration": 313,
    "start_time": "2022-08-15T09:41:24.829Z"
   },
   {
    "duration": 27,
    "start_time": "2022-08-15T09:41:25.145Z"
   },
   {
    "duration": 46,
    "start_time": "2022-08-15T09:41:25.174Z"
   },
   {
    "duration": 5,
    "start_time": "2022-08-15T09:41:25.222Z"
   },
   {
    "duration": 441,
    "start_time": "2022-08-15T09:41:25.228Z"
   },
   {
    "duration": 3,
    "start_time": "2022-08-15T09:41:25.671Z"
   },
   {
    "duration": 814,
    "start_time": "2022-08-15T09:41:25.675Z"
   },
   {
    "duration": 212,
    "start_time": "2022-08-15T09:41:26.491Z"
   },
   {
    "duration": 322,
    "start_time": "2022-08-15T09:41:26.705Z"
   },
   {
    "duration": 3,
    "start_time": "2022-08-15T09:41:27.029Z"
   },
   {
    "duration": 204,
    "start_time": "2022-08-15T09:41:27.033Z"
   },
   {
    "duration": 117,
    "start_time": "2022-08-15T09:46:02.137Z"
   },
   {
    "duration": 15,
    "start_time": "2022-08-15T09:46:06.070Z"
   },
   {
    "duration": 588,
    "start_time": "2022-08-15T09:46:20.410Z"
   },
   {
    "duration": 15,
    "start_time": "2022-08-15T10:03:24.456Z"
   },
   {
    "duration": 5,
    "start_time": "2022-08-15T10:04:14.458Z"
   },
   {
    "duration": 820,
    "start_time": "2022-08-15T10:04:14.465Z"
   },
   {
    "duration": 4,
    "start_time": "2022-08-15T10:04:15.287Z"
   },
   {
    "duration": 751,
    "start_time": "2022-08-15T10:04:15.292Z"
   },
   {
    "duration": 3,
    "start_time": "2022-08-15T10:04:16.045Z"
   },
   {
    "duration": 37,
    "start_time": "2022-08-15T10:04:16.050Z"
   },
   {
    "duration": 264,
    "start_time": "2022-08-15T10:04:16.089Z"
   },
   {
    "duration": 27,
    "start_time": "2022-08-15T10:04:16.355Z"
   },
   {
    "duration": 217,
    "start_time": "2022-08-15T10:04:16.383Z"
   },
   {
    "duration": 72,
    "start_time": "2022-08-15T10:04:16.601Z"
   },
   {
    "duration": 3,
    "start_time": "2022-08-15T10:04:16.675Z"
   },
   {
    "duration": 62,
    "start_time": "2022-08-15T10:04:16.679Z"
   },
   {
    "duration": 44,
    "start_time": "2022-08-15T10:04:16.743Z"
   },
   {
    "duration": 46,
    "start_time": "2022-08-15T10:04:16.803Z"
   },
   {
    "duration": 59,
    "start_time": "2022-08-15T10:04:16.851Z"
   },
   {
    "duration": 46,
    "start_time": "2022-08-15T10:04:16.912Z"
   },
   {
    "duration": 62,
    "start_time": "2022-08-15T10:04:16.960Z"
   },
   {
    "duration": 3,
    "start_time": "2022-08-15T10:04:17.023Z"
   },
   {
    "duration": 120,
    "start_time": "2022-08-15T10:04:17.028Z"
   },
   {
    "duration": 455,
    "start_time": "2022-08-15T10:04:17.150Z"
   },
   {
    "duration": 292,
    "start_time": "2022-08-15T10:04:17.606Z"
   },
   {
    "duration": 204,
    "start_time": "2022-08-15T10:04:17.902Z"
   },
   {
    "duration": 27,
    "start_time": "2022-08-15T10:04:18.107Z"
   },
   {
    "duration": 26,
    "start_time": "2022-08-15T10:04:18.135Z"
   },
   {
    "duration": 3,
    "start_time": "2022-08-15T10:04:18.163Z"
   },
   {
    "duration": 93,
    "start_time": "2022-08-15T10:04:18.168Z"
   },
   {
    "duration": 513,
    "start_time": "2022-08-15T10:04:18.263Z"
   },
   {
    "duration": 35,
    "start_time": "2022-08-15T10:04:18.777Z"
   },
   {
    "duration": 353,
    "start_time": "2022-08-15T10:04:18.815Z"
   },
   {
    "duration": 36,
    "start_time": "2022-08-15T10:04:19.170Z"
   },
   {
    "duration": 24,
    "start_time": "2022-08-15T10:04:19.208Z"
   },
   {
    "duration": 5,
    "start_time": "2022-08-15T10:04:19.234Z"
   },
   {
    "duration": 433,
    "start_time": "2022-08-15T10:04:19.241Z"
   },
   {
    "duration": 2,
    "start_time": "2022-08-15T10:04:19.676Z"
   },
   {
    "duration": 44,
    "start_time": "2022-08-15T10:04:19.680Z"
   },
   {
    "duration": 73,
    "start_time": "2022-08-15T10:04:19.725Z"
   },
   {
    "duration": 2,
    "start_time": "2022-08-15T10:04:19.800Z"
   },
   {
    "duration": 200,
    "start_time": "2022-08-15T10:04:19.804Z"
   },
   {
    "duration": 11,
    "start_time": "2022-08-15T10:06:28.738Z"
   },
   {
    "duration": 11,
    "start_time": "2022-08-15T10:08:40.638Z"
   },
   {
    "duration": 18,
    "start_time": "2022-08-15T10:08:50.952Z"
   },
   {
    "duration": 67,
    "start_time": "2022-08-15T10:08:53.581Z"
   },
   {
    "duration": 2,
    "start_time": "2022-08-15T10:08:59.412Z"
   },
   {
    "duration": 179,
    "start_time": "2022-08-15T10:09:08.770Z"
   },
   {
    "duration": 804,
    "start_time": "2022-08-15T10:09:16.237Z"
   },
   {
    "duration": 578,
    "start_time": "2022-08-15T11:40:23.466Z"
   },
   {
    "duration": 4,
    "start_time": "2022-08-15T11:56:32.997Z"
   },
   {
    "duration": 818,
    "start_time": "2022-08-15T11:56:33.003Z"
   },
   {
    "duration": 3,
    "start_time": "2022-08-15T11:56:33.823Z"
   },
   {
    "duration": 731,
    "start_time": "2022-08-15T11:56:33.828Z"
   },
   {
    "duration": 3,
    "start_time": "2022-08-15T11:56:34.561Z"
   },
   {
    "duration": 70,
    "start_time": "2022-08-15T11:56:34.566Z"
   },
   {
    "duration": 242,
    "start_time": "2022-08-15T11:56:34.638Z"
   },
   {
    "duration": 32,
    "start_time": "2022-08-15T11:56:34.882Z"
   },
   {
    "duration": 222,
    "start_time": "2022-08-15T11:56:34.916Z"
   },
   {
    "duration": 75,
    "start_time": "2022-08-15T11:56:35.139Z"
   },
   {
    "duration": 3,
    "start_time": "2022-08-15T11:56:35.216Z"
   },
   {
    "duration": 56,
    "start_time": "2022-08-15T11:56:35.221Z"
   },
   {
    "duration": 50,
    "start_time": "2022-08-15T11:56:35.279Z"
   },
   {
    "duration": 47,
    "start_time": "2022-08-15T11:56:35.330Z"
   },
   {
    "duration": 64,
    "start_time": "2022-08-15T11:56:35.379Z"
   },
   {
    "duration": 62,
    "start_time": "2022-08-15T11:56:35.445Z"
   },
   {
    "duration": 44,
    "start_time": "2022-08-15T11:56:35.509Z"
   },
   {
    "duration": 3,
    "start_time": "2022-08-15T11:56:35.554Z"
   },
   {
    "duration": 127,
    "start_time": "2022-08-15T11:56:35.559Z"
   },
   {
    "duration": 415,
    "start_time": "2022-08-15T11:56:35.688Z"
   },
   {
    "duration": 307,
    "start_time": "2022-08-15T11:56:36.105Z"
   },
   {
    "duration": 209,
    "start_time": "2022-08-15T11:56:36.414Z"
   },
   {
    "duration": 26,
    "start_time": "2022-08-15T11:56:36.625Z"
   },
   {
    "duration": 27,
    "start_time": "2022-08-15T11:56:36.654Z"
   },
   {
    "duration": 23,
    "start_time": "2022-08-15T11:56:36.682Z"
   },
   {
    "duration": 66,
    "start_time": "2022-08-15T11:56:36.707Z"
   },
   {
    "duration": 411,
    "start_time": "2022-08-15T11:56:36.774Z"
   },
   {
    "duration": 27,
    "start_time": "2022-08-15T11:56:37.187Z"
   },
   {
    "duration": 323,
    "start_time": "2022-08-15T11:56:37.216Z"
   },
   {
    "duration": 27,
    "start_time": "2022-08-15T11:56:37.541Z"
   },
   {
    "duration": 37,
    "start_time": "2022-08-15T11:56:37.569Z"
   },
   {
    "duration": 4,
    "start_time": "2022-08-15T11:56:37.608Z"
   },
   {
    "duration": 403,
    "start_time": "2022-08-15T11:56:37.613Z"
   },
   {
    "duration": 12,
    "start_time": "2022-08-15T11:56:38.018Z"
   },
   {
    "duration": 842,
    "start_time": "2022-08-15T11:56:45.593Z"
   },
   {
    "duration": 604,
    "start_time": "2022-08-15T12:01:20.851Z"
   },
   {
    "duration": 631,
    "start_time": "2022-08-15T12:01:38.016Z"
   },
   {
    "duration": 690,
    "start_time": "2022-08-15T12:04:02.909Z"
   },
   {
    "duration": 15,
    "start_time": "2022-08-15T12:04:17.352Z"
   },
   {
    "duration": 146,
    "start_time": "2022-08-15T12:11:02.435Z"
   },
   {
    "duration": 24,
    "start_time": "2022-08-15T12:11:15.192Z"
   },
   {
    "duration": 11,
    "start_time": "2022-08-15T12:11:26.471Z"
   },
   {
    "duration": 22,
    "start_time": "2022-08-15T12:11:27.730Z"
   },
   {
    "duration": 5,
    "start_time": "2022-08-15T12:11:33.211Z"
   },
   {
    "duration": 763,
    "start_time": "2022-08-15T12:11:33.219Z"
   },
   {
    "duration": 5,
    "start_time": "2022-08-15T12:11:33.983Z"
   },
   {
    "duration": 764,
    "start_time": "2022-08-15T12:11:33.990Z"
   },
   {
    "duration": 4,
    "start_time": "2022-08-15T12:11:34.756Z"
   },
   {
    "duration": 60,
    "start_time": "2022-08-15T12:11:34.761Z"
   },
   {
    "duration": 239,
    "start_time": "2022-08-15T12:11:34.823Z"
   },
   {
    "duration": 24,
    "start_time": "2022-08-15T12:11:35.064Z"
   },
   {
    "duration": 201,
    "start_time": "2022-08-15T12:11:35.090Z"
   },
   {
    "duration": 74,
    "start_time": "2022-08-15T12:11:35.293Z"
   },
   {
    "duration": 3,
    "start_time": "2022-08-15T12:11:35.368Z"
   },
   {
    "duration": 61,
    "start_time": "2022-08-15T12:11:35.373Z"
   },
   {
    "duration": 45,
    "start_time": "2022-08-15T12:11:35.436Z"
   },
   {
    "duration": 63,
    "start_time": "2022-08-15T12:11:35.484Z"
   },
   {
    "duration": 65,
    "start_time": "2022-08-15T12:11:35.549Z"
   },
   {
    "duration": 45,
    "start_time": "2022-08-15T12:11:35.616Z"
   },
   {
    "duration": 62,
    "start_time": "2022-08-15T12:11:35.663Z"
   },
   {
    "duration": 18,
    "start_time": "2022-08-15T12:11:39.238Z"
   },
   {
    "duration": 29,
    "start_time": "2022-08-15T12:12:40.866Z"
   },
   {
    "duration": 14,
    "start_time": "2022-08-15T12:12:50.950Z"
   },
   {
    "duration": 93,
    "start_time": "2022-08-15T12:13:07.053Z"
   },
   {
    "duration": 108,
    "start_time": "2022-08-15T12:13:33.052Z"
   },
   {
    "duration": 5,
    "start_time": "2022-08-15T12:16:22.934Z"
   },
   {
    "duration": 787,
    "start_time": "2022-08-15T12:16:22.941Z"
   },
   {
    "duration": 3,
    "start_time": "2022-08-15T12:16:23.730Z"
   },
   {
    "duration": 740,
    "start_time": "2022-08-15T12:16:23.735Z"
   },
   {
    "duration": 3,
    "start_time": "2022-08-15T12:16:24.477Z"
   },
   {
    "duration": 44,
    "start_time": "2022-08-15T12:16:24.482Z"
   },
   {
    "duration": 231,
    "start_time": "2022-08-15T12:16:24.528Z"
   },
   {
    "duration": 24,
    "start_time": "2022-08-15T12:16:24.761Z"
   },
   {
    "duration": 203,
    "start_time": "2022-08-15T12:16:24.787Z"
   },
   {
    "duration": 76,
    "start_time": "2022-08-15T12:16:24.991Z"
   },
   {
    "duration": 3,
    "start_time": "2022-08-15T12:16:25.069Z"
   },
   {
    "duration": 65,
    "start_time": "2022-08-15T12:16:25.074Z"
   },
   {
    "duration": 45,
    "start_time": "2022-08-15T12:16:25.141Z"
   },
   {
    "duration": 50,
    "start_time": "2022-08-15T12:16:25.202Z"
   },
   {
    "duration": 61,
    "start_time": "2022-08-15T12:16:25.254Z"
   },
   {
    "duration": 47,
    "start_time": "2022-08-15T12:16:25.317Z"
   },
   {
    "duration": 64,
    "start_time": "2022-08-15T12:16:25.366Z"
   },
   {
    "duration": 30,
    "start_time": "2022-08-15T12:16:25.432Z"
   },
   {
    "duration": 122,
    "start_time": "2022-08-15T12:16:25.464Z"
   },
   {
    "duration": 99,
    "start_time": "2022-08-15T12:16:25.588Z"
   },
   {
    "duration": 0,
    "start_time": "2022-08-15T12:16:25.690Z"
   },
   {
    "duration": 0,
    "start_time": "2022-08-15T12:16:25.691Z"
   },
   {
    "duration": 0,
    "start_time": "2022-08-15T12:16:25.692Z"
   },
   {
    "duration": 0,
    "start_time": "2022-08-15T12:16:25.693Z"
   },
   {
    "duration": 0,
    "start_time": "2022-08-15T12:16:25.694Z"
   },
   {
    "duration": 0,
    "start_time": "2022-08-15T12:16:25.695Z"
   },
   {
    "duration": 0,
    "start_time": "2022-08-15T12:16:25.697Z"
   },
   {
    "duration": 0,
    "start_time": "2022-08-15T12:16:25.698Z"
   },
   {
    "duration": 0,
    "start_time": "2022-08-15T12:16:25.700Z"
   },
   {
    "duration": 0,
    "start_time": "2022-08-15T12:16:25.701Z"
   },
   {
    "duration": 0,
    "start_time": "2022-08-15T12:16:25.702Z"
   },
   {
    "duration": 0,
    "start_time": "2022-08-15T12:16:25.703Z"
   },
   {
    "duration": 0,
    "start_time": "2022-08-15T12:16:25.704Z"
   },
   {
    "duration": 0,
    "start_time": "2022-08-15T12:16:25.705Z"
   },
   {
    "duration": 0,
    "start_time": "2022-08-15T12:16:25.707Z"
   },
   {
    "duration": 3,
    "start_time": "2022-08-15T12:17:24.447Z"
   },
   {
    "duration": 5,
    "start_time": "2022-08-15T12:18:02.088Z"
   },
   {
    "duration": 784,
    "start_time": "2022-08-15T12:18:02.095Z"
   },
   {
    "duration": 4,
    "start_time": "2022-08-15T12:18:02.881Z"
   },
   {
    "duration": 729,
    "start_time": "2022-08-15T12:18:02.886Z"
   },
   {
    "duration": 4,
    "start_time": "2022-08-15T12:18:03.617Z"
   },
   {
    "duration": 40,
    "start_time": "2022-08-15T12:18:03.623Z"
   },
   {
    "duration": 239,
    "start_time": "2022-08-15T12:18:03.664Z"
   },
   {
    "duration": 24,
    "start_time": "2022-08-15T12:18:03.905Z"
   },
   {
    "duration": 202,
    "start_time": "2022-08-15T12:18:03.930Z"
   },
   {
    "duration": 80,
    "start_time": "2022-08-15T12:18:04.134Z"
   },
   {
    "duration": 3,
    "start_time": "2022-08-15T12:18:04.216Z"
   },
   {
    "duration": 48,
    "start_time": "2022-08-15T12:18:04.221Z"
   },
   {
    "duration": 57,
    "start_time": "2022-08-15T12:18:04.273Z"
   },
   {
    "duration": 49,
    "start_time": "2022-08-15T12:18:04.332Z"
   },
   {
    "duration": 79,
    "start_time": "2022-08-15T12:18:04.382Z"
   },
   {
    "duration": 59,
    "start_time": "2022-08-15T12:18:04.463Z"
   },
   {
    "duration": 44,
    "start_time": "2022-08-15T12:18:04.523Z"
   },
   {
    "duration": 3,
    "start_time": "2022-08-15T12:18:04.568Z"
   },
   {
    "duration": 132,
    "start_time": "2022-08-15T12:18:04.573Z"
   },
   {
    "duration": 410,
    "start_time": "2022-08-15T12:18:04.707Z"
   },
   {
    "duration": 301,
    "start_time": "2022-08-15T12:18:05.119Z"
   },
   {
    "duration": 201,
    "start_time": "2022-08-15T12:18:05.422Z"
   },
   {
    "duration": 27,
    "start_time": "2022-08-15T12:18:05.625Z"
   },
   {
    "duration": 26,
    "start_time": "2022-08-15T12:18:05.654Z"
   },
   {
    "duration": 4,
    "start_time": "2022-08-15T12:18:05.702Z"
   },
   {
    "duration": 68,
    "start_time": "2022-08-15T12:18:05.708Z"
   },
   {
    "duration": 417,
    "start_time": "2022-08-15T12:18:05.778Z"
   },
   {
    "duration": 27,
    "start_time": "2022-08-15T12:18:06.203Z"
   },
   {
    "duration": 359,
    "start_time": "2022-08-15T12:18:06.232Z"
   },
   {
    "duration": 29,
    "start_time": "2022-08-15T12:18:06.593Z"
   },
   {
    "duration": 24,
    "start_time": "2022-08-15T12:18:06.624Z"
   },
   {
    "duration": 5,
    "start_time": "2022-08-15T12:18:06.649Z"
   },
   {
    "duration": 455,
    "start_time": "2022-08-15T12:18:06.656Z"
   },
   {
    "duration": 12,
    "start_time": "2022-08-15T12:18:07.113Z"
   },
   {
    "duration": 606,
    "start_time": "2022-08-15T12:18:07.127Z"
   },
   {
    "duration": 15,
    "start_time": "2022-08-15T12:18:14.033Z"
   },
   {
    "duration": 14,
    "start_time": "2022-08-15T12:18:44.213Z"
   },
   {
    "duration": 11,
    "start_time": "2022-08-15T12:23:00.797Z"
   },
   {
    "duration": 12,
    "start_time": "2022-08-15T12:23:44.073Z"
   },
   {
    "duration": 5,
    "start_time": "2022-08-15T12:25:27.446Z"
   },
   {
    "duration": 778,
    "start_time": "2022-08-15T12:25:27.454Z"
   },
   {
    "duration": 4,
    "start_time": "2022-08-15T12:25:28.234Z"
   },
   {
    "duration": 773,
    "start_time": "2022-08-15T12:25:28.240Z"
   },
   {
    "duration": 4,
    "start_time": "2022-08-15T12:25:29.015Z"
   },
   {
    "duration": 45,
    "start_time": "2022-08-15T12:25:29.024Z"
   },
   {
    "duration": 271,
    "start_time": "2022-08-15T12:25:29.071Z"
   },
   {
    "duration": 22,
    "start_time": "2022-08-15T12:25:29.344Z"
   },
   {
    "duration": 215,
    "start_time": "2022-08-15T12:25:29.369Z"
   },
   {
    "duration": 72,
    "start_time": "2022-08-15T12:25:29.585Z"
   },
   {
    "duration": 2,
    "start_time": "2022-08-15T12:25:29.659Z"
   },
   {
    "duration": 57,
    "start_time": "2022-08-15T12:25:29.663Z"
   },
   {
    "duration": 47,
    "start_time": "2022-08-15T12:25:29.721Z"
   },
   {
    "duration": 63,
    "start_time": "2022-08-15T12:25:29.770Z"
   },
   {
    "duration": 46,
    "start_time": "2022-08-15T12:25:29.835Z"
   },
   {
    "duration": 47,
    "start_time": "2022-08-15T12:25:29.902Z"
   },
   {
    "duration": 59,
    "start_time": "2022-08-15T12:25:29.951Z"
   },
   {
    "duration": 3,
    "start_time": "2022-08-15T12:25:30.012Z"
   },
   {
    "duration": 120,
    "start_time": "2022-08-15T12:25:30.016Z"
   },
   {
    "duration": 482,
    "start_time": "2022-08-15T12:25:30.138Z"
   },
   {
    "duration": 320,
    "start_time": "2022-08-15T12:25:30.622Z"
   },
   {
    "duration": 343,
    "start_time": "2022-08-15T12:25:30.944Z"
   },
   {
    "duration": 40,
    "start_time": "2022-08-15T12:25:31.289Z"
   },
   {
    "duration": 26,
    "start_time": "2022-08-15T12:25:31.332Z"
   },
   {
    "duration": 4,
    "start_time": "2022-08-15T12:25:31.359Z"
   },
   {
    "duration": 98,
    "start_time": "2022-08-15T12:25:31.365Z"
   },
   {
    "duration": 428,
    "start_time": "2022-08-15T12:25:31.465Z"
   },
   {
    "duration": 28,
    "start_time": "2022-08-15T12:25:31.894Z"
   },
   {
    "duration": 313,
    "start_time": "2022-08-15T12:25:31.925Z"
   },
   {
    "duration": 27,
    "start_time": "2022-08-15T12:25:32.240Z"
   },
   {
    "duration": 40,
    "start_time": "2022-08-15T12:25:32.269Z"
   },
   {
    "duration": 7,
    "start_time": "2022-08-15T12:25:32.311Z"
   },
   {
    "duration": 454,
    "start_time": "2022-08-15T12:25:32.320Z"
   },
   {
    "duration": 13,
    "start_time": "2022-08-15T12:25:32.776Z"
   },
   {
    "duration": 773,
    "start_time": "2022-08-15T12:25:32.804Z"
   },
   {
    "duration": 25,
    "start_time": "2022-08-15T12:25:33.579Z"
   },
   {
    "duration": 58,
    "start_time": "2022-08-15T12:25:33.605Z"
   },
   {
    "duration": 3,
    "start_time": "2022-08-15T12:25:33.664Z"
   },
   {
    "duration": 171,
    "start_time": "2022-08-15T12:25:33.669Z"
   },
   {
    "duration": 8988,
    "start_time": "2022-08-15T12:25:33.842Z"
   },
   {
    "duration": 0,
    "start_time": "2022-08-15T12:25:42.832Z"
   },
   {
    "duration": 0,
    "start_time": "2022-08-15T12:25:42.833Z"
   },
   {
    "duration": 0,
    "start_time": "2022-08-15T12:25:42.835Z"
   },
   {
    "duration": 0,
    "start_time": "2022-08-15T12:25:42.836Z"
   },
   {
    "duration": 0,
    "start_time": "2022-08-15T12:25:42.837Z"
   },
   {
    "duration": 0,
    "start_time": "2022-08-15T12:25:42.839Z"
   },
   {
    "duration": 0,
    "start_time": "2022-08-15T12:25:42.840Z"
   },
   {
    "duration": 0,
    "start_time": "2022-08-15T12:25:42.902Z"
   },
   {
    "duration": 0,
    "start_time": "2022-08-15T12:25:42.904Z"
   },
   {
    "duration": 0,
    "start_time": "2022-08-15T12:25:42.905Z"
   },
   {
    "duration": 617,
    "start_time": "2022-08-15T12:26:10.276Z"
   },
   {
    "duration": 5,
    "start_time": "2022-08-15T12:29:13.056Z"
   },
   {
    "duration": 814,
    "start_time": "2022-08-15T12:29:13.064Z"
   },
   {
    "duration": 3,
    "start_time": "2022-08-15T12:29:13.880Z"
   },
   {
    "duration": 768,
    "start_time": "2022-08-15T12:29:13.885Z"
   },
   {
    "duration": 4,
    "start_time": "2022-08-15T12:29:14.654Z"
   },
   {
    "duration": 49,
    "start_time": "2022-08-15T12:29:14.659Z"
   },
   {
    "duration": 231,
    "start_time": "2022-08-15T12:29:14.710Z"
   },
   {
    "duration": 23,
    "start_time": "2022-08-15T12:29:14.943Z"
   },
   {
    "duration": 207,
    "start_time": "2022-08-15T12:29:14.969Z"
   },
   {
    "duration": 99,
    "start_time": "2022-08-15T12:29:15.178Z"
   },
   {
    "duration": 3,
    "start_time": "2022-08-15T12:29:15.279Z"
   },
   {
    "duration": 57,
    "start_time": "2022-08-15T12:29:15.284Z"
   },
   {
    "duration": 63,
    "start_time": "2022-08-15T12:29:15.343Z"
   },
   {
    "duration": 48,
    "start_time": "2022-08-15T12:29:15.408Z"
   },
   {
    "duration": 75,
    "start_time": "2022-08-15T12:29:15.458Z"
   },
   {
    "duration": 48,
    "start_time": "2022-08-15T12:29:15.534Z"
   },
   {
    "duration": 86,
    "start_time": "2022-08-15T12:29:15.583Z"
   },
   {
    "duration": 3,
    "start_time": "2022-08-15T12:29:15.670Z"
   },
   {
    "duration": 127,
    "start_time": "2022-08-15T12:29:15.675Z"
   },
   {
    "duration": 425,
    "start_time": "2022-08-15T12:29:15.805Z"
   },
   {
    "duration": 321,
    "start_time": "2022-08-15T12:29:16.233Z"
   },
   {
    "duration": 209,
    "start_time": "2022-08-15T12:29:16.556Z"
   },
   {
    "duration": 36,
    "start_time": "2022-08-15T12:29:16.767Z"
   },
   {
    "duration": 27,
    "start_time": "2022-08-15T12:29:16.807Z"
   },
   {
    "duration": 4,
    "start_time": "2022-08-15T12:29:16.837Z"
   },
   {
    "duration": 88,
    "start_time": "2022-08-15T12:29:16.842Z"
   },
   {
    "duration": 462,
    "start_time": "2022-08-15T12:29:16.932Z"
   },
   {
    "duration": 25,
    "start_time": "2022-08-15T12:29:17.402Z"
   },
   {
    "duration": 336,
    "start_time": "2022-08-15T12:29:17.429Z"
   },
   {
    "duration": 37,
    "start_time": "2022-08-15T12:29:17.767Z"
   },
   {
    "duration": 23,
    "start_time": "2022-08-15T12:29:17.806Z"
   },
   {
    "duration": 5,
    "start_time": "2022-08-15T12:29:17.831Z"
   },
   {
    "duration": 455,
    "start_time": "2022-08-15T12:29:17.838Z"
   },
   {
    "duration": 19,
    "start_time": "2022-08-15T12:29:18.294Z"
   },
   {
    "duration": 929,
    "start_time": "2022-08-15T12:29:18.315Z"
   },
   {
    "duration": 12,
    "start_time": "2022-08-15T12:29:19.246Z"
   },
   {
    "duration": 52,
    "start_time": "2022-08-15T12:29:19.260Z"
   },
   {
    "duration": 4,
    "start_time": "2022-08-15T12:29:19.314Z"
   },
   {
    "duration": 185,
    "start_time": "2022-08-15T12:29:19.320Z"
   },
   {
    "duration": 10013,
    "start_time": "2022-08-15T12:29:19.507Z"
   },
   {
    "duration": 0,
    "start_time": "2022-08-15T12:29:29.522Z"
   },
   {
    "duration": 0,
    "start_time": "2022-08-15T12:29:29.524Z"
   },
   {
    "duration": 0,
    "start_time": "2022-08-15T12:29:29.525Z"
   },
   {
    "duration": 0,
    "start_time": "2022-08-15T12:29:29.527Z"
   },
   {
    "duration": 0,
    "start_time": "2022-08-15T12:29:29.528Z"
   },
   {
    "duration": 0,
    "start_time": "2022-08-15T12:29:29.530Z"
   },
   {
    "duration": 0,
    "start_time": "2022-08-15T12:29:29.531Z"
   },
   {
    "duration": 0,
    "start_time": "2022-08-15T12:29:29.533Z"
   },
   {
    "duration": 0,
    "start_time": "2022-08-15T12:29:29.537Z"
   },
   {
    "duration": 0,
    "start_time": "2022-08-15T12:29:29.538Z"
   },
   {
    "duration": 641,
    "start_time": "2022-08-15T12:59:08.282Z"
   },
   {
    "duration": 1644,
    "start_time": "2022-08-16T08:20:37.874Z"
   },
   {
    "duration": 3133,
    "start_time": "2022-08-16T08:20:39.521Z"
   },
   {
    "duration": 4,
    "start_time": "2022-08-16T08:20:42.656Z"
   },
   {
    "duration": 725,
    "start_time": "2022-08-16T08:20:42.661Z"
   },
   {
    "duration": 3,
    "start_time": "2022-08-16T08:20:43.387Z"
   },
   {
    "duration": 59,
    "start_time": "2022-08-16T08:20:43.392Z"
   },
   {
    "duration": 261,
    "start_time": "2022-08-16T08:20:43.453Z"
   },
   {
    "duration": 30,
    "start_time": "2022-08-16T08:20:43.716Z"
   },
   {
    "duration": 206,
    "start_time": "2022-08-16T08:20:43.747Z"
   },
   {
    "duration": 107,
    "start_time": "2022-08-16T08:20:43.955Z"
   },
   {
    "duration": 3,
    "start_time": "2022-08-16T08:20:44.067Z"
   },
   {
    "duration": 47,
    "start_time": "2022-08-16T08:20:44.071Z"
   },
   {
    "duration": 59,
    "start_time": "2022-08-16T08:20:44.120Z"
   },
   {
    "duration": 43,
    "start_time": "2022-08-16T08:20:44.180Z"
   },
   {
    "duration": 59,
    "start_time": "2022-08-16T08:20:44.225Z"
   },
   {
    "duration": 42,
    "start_time": "2022-08-16T08:20:44.286Z"
   },
   {
    "duration": 60,
    "start_time": "2022-08-16T08:20:44.330Z"
   },
   {
    "duration": 2,
    "start_time": "2022-08-16T08:20:44.392Z"
   },
   {
    "duration": 129,
    "start_time": "2022-08-16T08:20:44.396Z"
   },
   {
    "duration": 453,
    "start_time": "2022-08-16T08:20:44.526Z"
   },
   {
    "duration": 368,
    "start_time": "2022-08-16T08:20:44.981Z"
   },
   {
    "duration": 207,
    "start_time": "2022-08-16T08:20:45.351Z"
   },
   {
    "duration": 30,
    "start_time": "2022-08-16T08:20:45.560Z"
   },
   {
    "duration": 23,
    "start_time": "2022-08-16T08:20:45.592Z"
   },
   {
    "duration": 4,
    "start_time": "2022-08-16T08:20:45.617Z"
   },
   {
    "duration": 92,
    "start_time": "2022-08-16T08:20:45.622Z"
   },
   {
    "duration": 418,
    "start_time": "2022-08-16T08:20:45.716Z"
   },
   {
    "duration": 34,
    "start_time": "2022-08-16T08:20:46.137Z"
   },
   {
    "duration": 301,
    "start_time": "2022-08-16T08:20:46.173Z"
   },
   {
    "duration": 27,
    "start_time": "2022-08-16T08:20:46.477Z"
   },
   {
    "duration": 30,
    "start_time": "2022-08-16T08:20:46.506Z"
   },
   {
    "duration": 5,
    "start_time": "2022-08-16T08:20:46.538Z"
   },
   {
    "duration": 446,
    "start_time": "2022-08-16T08:20:46.571Z"
   },
   {
    "duration": 12,
    "start_time": "2022-08-16T08:20:47.019Z"
   },
   {
    "duration": 735,
    "start_time": "2022-08-16T08:22:04.294Z"
   },
   {
    "duration": 5,
    "start_time": "2022-08-16T08:26:02.662Z"
   },
   {
    "duration": 23,
    "start_time": "2022-08-16T08:26:22.806Z"
   },
   {
    "duration": 17,
    "start_time": "2022-08-16T08:26:39.508Z"
   },
   {
    "duration": 723,
    "start_time": "2022-08-16T08:27:25.829Z"
   },
   {
    "duration": 597,
    "start_time": "2022-08-16T08:27:40.203Z"
   },
   {
    "duration": 578,
    "start_time": "2022-08-16T08:27:53.241Z"
   },
   {
    "duration": 4,
    "start_time": "2022-08-16T08:28:27.300Z"
   },
   {
    "duration": 553,
    "start_time": "2022-08-16T08:28:45.733Z"
   },
   {
    "duration": 606,
    "start_time": "2022-08-16T08:29:21.056Z"
   },
   {
    "duration": 591,
    "start_time": "2022-08-16T08:30:03.900Z"
   },
   {
    "duration": 600,
    "start_time": "2022-08-16T08:30:15.427Z"
   },
   {
    "duration": 595,
    "start_time": "2022-08-16T08:41:54.261Z"
   },
   {
    "duration": 5,
    "start_time": "2022-08-16T08:42:21.145Z"
   },
   {
    "duration": 776,
    "start_time": "2022-08-16T08:42:21.152Z"
   },
   {
    "duration": 3,
    "start_time": "2022-08-16T08:42:21.930Z"
   },
   {
    "duration": 728,
    "start_time": "2022-08-16T08:42:21.934Z"
   },
   {
    "duration": 3,
    "start_time": "2022-08-16T08:42:22.667Z"
   },
   {
    "duration": 56,
    "start_time": "2022-08-16T08:42:22.671Z"
   },
   {
    "duration": 257,
    "start_time": "2022-08-16T08:42:22.728Z"
   },
   {
    "duration": 25,
    "start_time": "2022-08-16T08:42:22.986Z"
   },
   {
    "duration": 219,
    "start_time": "2022-08-16T08:42:23.013Z"
   },
   {
    "duration": 73,
    "start_time": "2022-08-16T08:42:23.233Z"
   },
   {
    "duration": 3,
    "start_time": "2022-08-16T08:42:23.308Z"
   },
   {
    "duration": 56,
    "start_time": "2022-08-16T08:42:23.313Z"
   },
   {
    "duration": 43,
    "start_time": "2022-08-16T08:42:23.370Z"
   },
   {
    "duration": 77,
    "start_time": "2022-08-16T08:42:23.414Z"
   },
   {
    "duration": 78,
    "start_time": "2022-08-16T08:42:23.494Z"
   },
   {
    "duration": 101,
    "start_time": "2022-08-16T08:42:23.574Z"
   },
   {
    "duration": 42,
    "start_time": "2022-08-16T08:42:23.677Z"
   },
   {
    "duration": 3,
    "start_time": "2022-08-16T08:42:23.721Z"
   },
   {
    "duration": 120,
    "start_time": "2022-08-16T08:42:23.725Z"
   },
   {
    "duration": 469,
    "start_time": "2022-08-16T08:42:23.847Z"
   },
   {
    "duration": 370,
    "start_time": "2022-08-16T08:42:24.317Z"
   },
   {
    "duration": 206,
    "start_time": "2022-08-16T08:42:24.688Z"
   },
   {
    "duration": 25,
    "start_time": "2022-08-16T08:42:24.896Z"
   },
   {
    "duration": 26,
    "start_time": "2022-08-16T08:42:24.922Z"
   },
   {
    "duration": 4,
    "start_time": "2022-08-16T08:42:24.968Z"
   },
   {
    "duration": 72,
    "start_time": "2022-08-16T08:42:24.974Z"
   },
   {
    "duration": 514,
    "start_time": "2022-08-16T08:42:25.048Z"
   },
   {
    "duration": 26,
    "start_time": "2022-08-16T08:42:25.563Z"
   },
   {
    "duration": 324,
    "start_time": "2022-08-16T08:42:25.593Z"
   },
   {
    "duration": 26,
    "start_time": "2022-08-16T08:42:25.918Z"
   },
   {
    "duration": 38,
    "start_time": "2022-08-16T08:42:25.946Z"
   },
   {
    "duration": 5,
    "start_time": "2022-08-16T08:42:25.985Z"
   },
   {
    "duration": 420,
    "start_time": "2022-08-16T08:42:25.992Z"
   },
   {
    "duration": 12,
    "start_time": "2022-08-16T08:42:26.413Z"
   },
   {
    "duration": 6,
    "start_time": "2022-08-16T08:42:26.427Z"
   },
   {
    "duration": 889,
    "start_time": "2022-08-16T08:42:26.434Z"
   },
   {
    "duration": 7,
    "start_time": "2022-08-16T08:42:27.325Z"
   },
   {
    "duration": 48,
    "start_time": "2022-08-16T08:42:27.333Z"
   },
   {
    "duration": 3,
    "start_time": "2022-08-16T08:42:27.383Z"
   },
   {
    "duration": 180,
    "start_time": "2022-08-16T08:42:27.387Z"
   },
   {
    "duration": 84505,
    "start_time": "2022-08-16T08:42:27.569Z"
   },
   {
    "duration": 9819,
    "start_time": "2022-08-16T08:43:52.076Z"
   },
   {
    "duration": 7580,
    "start_time": "2022-08-16T08:44:01.896Z"
   },
   {
    "duration": 4,
    "start_time": "2022-08-16T08:44:09.478Z"
   },
   {
    "duration": 287,
    "start_time": "2022-08-16T08:44:09.483Z"
   },
   {
    "duration": 3,
    "start_time": "2022-08-16T08:44:09.772Z"
   },
   {
    "duration": 4591,
    "start_time": "2022-08-16T08:44:09.777Z"
   },
   {
    "duration": 341,
    "start_time": "2022-08-16T08:44:14.370Z"
   },
   {
    "duration": 4,
    "start_time": "2022-08-16T08:44:14.713Z"
   },
   {
    "duration": 10,
    "start_time": "2022-08-16T08:44:14.718Z"
   },
   {
    "duration": 257,
    "start_time": "2022-08-16T08:44:14.729Z"
   },
   {
    "duration": 88,
    "start_time": "2022-08-16T08:54:37.686Z"
   },
   {
    "duration": 458058,
    "start_time": "2022-08-16T08:54:45.350Z"
   },
   {
    "duration": 98824,
    "start_time": "2022-08-16T09:05:27.973Z"
   },
   {
    "duration": 2115724,
    "start_time": "2022-08-16T09:07:29.360Z"
   },
   {
    "duration": 91,
    "start_time": "2022-08-16T09:43:04.589Z"
   },
   {
    "duration": 520587,
    "start_time": "2022-08-16T09:43:29.595Z"
   },
   {
    "duration": 93,
    "start_time": "2022-08-16T09:54:06.922Z"
   },
   {
    "duration": 608168,
    "start_time": "2022-08-16T09:54:15.006Z"
   },
   {
    "duration": 2246731,
    "start_time": "2022-08-16T10:09:16.352Z"
   },
   {
    "duration": 746814,
    "start_time": "2022-08-16T10:47:32.279Z"
   },
   {
    "duration": 349461,
    "start_time": "2022-08-16T11:00:11.427Z"
   },
   {
    "duration": 6,
    "start_time": "2022-08-16T11:07:37.919Z"
   },
   {
    "duration": 802,
    "start_time": "2022-08-16T11:07:37.928Z"
   },
   {
    "duration": 5,
    "start_time": "2022-08-16T11:07:38.733Z"
   },
   {
    "duration": 717,
    "start_time": "2022-08-16T11:07:38.741Z"
   },
   {
    "duration": 4,
    "start_time": "2022-08-16T11:07:39.467Z"
   },
   {
    "duration": 44,
    "start_time": "2022-08-16T11:07:39.473Z"
   },
   {
    "duration": 288,
    "start_time": "2022-08-16T11:07:39.520Z"
   },
   {
    "duration": 28,
    "start_time": "2022-08-16T11:07:39.810Z"
   },
   {
    "duration": 225,
    "start_time": "2022-08-16T11:07:39.842Z"
   },
   {
    "duration": 72,
    "start_time": "2022-08-16T11:07:40.070Z"
   },
   {
    "duration": 23,
    "start_time": "2022-08-16T11:07:40.145Z"
   },
   {
    "duration": 80,
    "start_time": "2022-08-16T11:07:40.170Z"
   },
   {
    "duration": 97,
    "start_time": "2022-08-16T11:07:40.252Z"
   },
   {
    "duration": 97,
    "start_time": "2022-08-16T11:07:40.351Z"
   },
   {
    "duration": 59,
    "start_time": "2022-08-16T11:07:40.450Z"
   },
   {
    "duration": 71,
    "start_time": "2022-08-16T11:07:40.511Z"
   },
   {
    "duration": 43,
    "start_time": "2022-08-16T11:07:40.583Z"
   },
   {
    "duration": 3,
    "start_time": "2022-08-16T11:07:40.627Z"
   },
   {
    "duration": 159,
    "start_time": "2022-08-16T11:07:40.633Z"
   },
   {
    "duration": 429,
    "start_time": "2022-08-16T11:07:40.795Z"
   },
   {
    "duration": 313,
    "start_time": "2022-08-16T11:07:41.226Z"
   },
   {
    "duration": 318,
    "start_time": "2022-08-16T11:07:41.544Z"
   },
   {
    "duration": 26,
    "start_time": "2022-08-16T11:07:41.868Z"
   },
   {
    "duration": 26,
    "start_time": "2022-08-16T11:07:41.896Z"
   },
   {
    "duration": 5,
    "start_time": "2022-08-16T11:07:41.924Z"
   },
   {
    "duration": 102,
    "start_time": "2022-08-16T11:07:41.931Z"
   },
   {
    "duration": 409,
    "start_time": "2022-08-16T11:07:42.035Z"
   },
   {
    "duration": 31,
    "start_time": "2022-08-16T11:07:42.447Z"
   },
   {
    "duration": 303,
    "start_time": "2022-08-16T11:07:42.480Z"
   },
   {
    "duration": 25,
    "start_time": "2022-08-16T11:07:42.785Z"
   },
   {
    "duration": 21,
    "start_time": "2022-08-16T11:07:42.811Z"
   },
   {
    "duration": 5,
    "start_time": "2022-08-16T11:07:42.834Z"
   },
   {
    "duration": 402,
    "start_time": "2022-08-16T11:07:42.869Z"
   },
   {
    "duration": 11,
    "start_time": "2022-08-16T11:07:43.273Z"
   },
   {
    "duration": 8,
    "start_time": "2022-08-16T11:07:43.286Z"
   },
   {
    "duration": 810,
    "start_time": "2022-08-16T11:07:43.296Z"
   },
   {
    "duration": 7,
    "start_time": "2022-08-16T11:07:44.107Z"
   },
   {
    "duration": 34,
    "start_time": "2022-08-16T11:07:44.116Z"
   },
   {
    "duration": 16,
    "start_time": "2022-08-16T11:07:44.152Z"
   },
   {
    "duration": 153,
    "start_time": "2022-08-16T11:07:44.170Z"
   },
   {
    "duration": 250735,
    "start_time": "2022-08-16T11:08:53.754Z"
   },
   {
    "duration": 76633,
    "start_time": "2022-08-16T11:13:18.356Z"
   },
   {
    "duration": 843365,
    "start_time": "2022-08-16T11:16:39.010Z"
   },
   {
    "duration": 2106609,
    "start_time": "2022-08-16T11:30:51.777Z"
   },
   {
    "duration": 6,
    "start_time": "2022-08-16T12:11:59.657Z"
   },
   {
    "duration": 843,
    "start_time": "2022-08-16T12:11:59.665Z"
   },
   {
    "duration": 4,
    "start_time": "2022-08-16T12:12:00.511Z"
   },
   {
    "duration": 811,
    "start_time": "2022-08-16T12:12:00.517Z"
   },
   {
    "duration": 4,
    "start_time": "2022-08-16T12:12:01.329Z"
   },
   {
    "duration": 80,
    "start_time": "2022-08-16T12:12:01.335Z"
   },
   {
    "duration": 270,
    "start_time": "2022-08-16T12:12:01.417Z"
   },
   {
    "duration": 25,
    "start_time": "2022-08-16T12:12:01.689Z"
   },
   {
    "duration": 223,
    "start_time": "2022-08-16T12:12:01.716Z"
   },
   {
    "duration": 71,
    "start_time": "2022-08-16T12:12:01.941Z"
   },
   {
    "duration": 6,
    "start_time": "2022-08-16T12:12:02.014Z"
   },
   {
    "duration": 61,
    "start_time": "2022-08-16T12:12:02.022Z"
   },
   {
    "duration": 58,
    "start_time": "2022-08-16T12:12:02.084Z"
   },
   {
    "duration": 63,
    "start_time": "2022-08-16T12:12:02.144Z"
   },
   {
    "duration": 61,
    "start_time": "2022-08-16T12:12:02.208Z"
   },
   {
    "duration": 46,
    "start_time": "2022-08-16T12:12:02.270Z"
   },
   {
    "duration": 62,
    "start_time": "2022-08-16T12:12:02.318Z"
   },
   {
    "duration": 3,
    "start_time": "2022-08-16T12:12:02.382Z"
   },
   {
    "duration": 112,
    "start_time": "2022-08-16T12:12:02.386Z"
   },
   {
    "duration": 446,
    "start_time": "2022-08-16T12:12:02.500Z"
   },
   {
    "duration": 297,
    "start_time": "2022-08-16T12:12:02.948Z"
   },
   {
    "duration": 206,
    "start_time": "2022-08-16T12:12:03.247Z"
   },
   {
    "duration": 29,
    "start_time": "2022-08-16T12:12:03.455Z"
   },
   {
    "duration": 26,
    "start_time": "2022-08-16T12:12:03.489Z"
   },
   {
    "duration": 5,
    "start_time": "2022-08-16T12:12:03.517Z"
   },
   {
    "duration": 96,
    "start_time": "2022-08-16T12:12:03.524Z"
   },
   {
    "duration": 444,
    "start_time": "2022-08-16T12:12:03.622Z"
   },
   {
    "duration": 26,
    "start_time": "2022-08-16T12:12:04.068Z"
   },
   {
    "duration": 318,
    "start_time": "2022-08-16T12:12:04.095Z"
   },
   {
    "duration": 26,
    "start_time": "2022-08-16T12:12:04.415Z"
   },
   {
    "duration": 42,
    "start_time": "2022-08-16T12:12:04.443Z"
   },
   {
    "duration": 4,
    "start_time": "2022-08-16T12:12:04.487Z"
   },
   {
    "duration": 439,
    "start_time": "2022-08-16T12:12:04.493Z"
   },
   {
    "duration": 10,
    "start_time": "2022-08-16T12:12:04.933Z"
   },
   {
    "duration": 7,
    "start_time": "2022-08-16T12:12:04.945Z"
   },
   {
    "duration": 854,
    "start_time": "2022-08-16T12:12:04.953Z"
   },
   {
    "duration": 6,
    "start_time": "2022-08-16T12:12:05.809Z"
   },
   {
    "duration": 51,
    "start_time": "2022-08-16T12:12:05.816Z"
   },
   {
    "duration": 3,
    "start_time": "2022-08-16T12:12:05.869Z"
   },
   {
    "duration": 168,
    "start_time": "2022-08-16T12:12:05.873Z"
   },
   {
    "duration": 177,
    "start_time": "2022-08-16T12:12:46.491Z"
   },
   {
    "duration": 12,
    "start_time": "2022-08-16T12:12:50.888Z"
   },
   {
    "duration": 5,
    "start_time": "2022-08-16T12:13:52.144Z"
   },
   {
    "duration": 698,
    "start_time": "2022-08-16T12:13:52.151Z"
   },
   {
    "duration": 3,
    "start_time": "2022-08-16T12:13:52.851Z"
   },
   {
    "duration": 850,
    "start_time": "2022-08-16T12:13:52.855Z"
   },
   {
    "duration": 3,
    "start_time": "2022-08-16T12:13:53.708Z"
   },
   {
    "duration": 58,
    "start_time": "2022-08-16T12:13:53.713Z"
   },
   {
    "duration": 275,
    "start_time": "2022-08-16T12:13:53.773Z"
   },
   {
    "duration": 31,
    "start_time": "2022-08-16T12:13:54.049Z"
   },
   {
    "duration": 206,
    "start_time": "2022-08-16T12:13:54.081Z"
   },
   {
    "duration": 78,
    "start_time": "2022-08-16T12:13:54.289Z"
   },
   {
    "duration": 3,
    "start_time": "2022-08-16T12:13:54.370Z"
   },
   {
    "duration": 43,
    "start_time": "2022-08-16T12:13:54.374Z"
   },
   {
    "duration": 53,
    "start_time": "2022-08-16T12:13:54.418Z"
   },
   {
    "duration": 46,
    "start_time": "2022-08-16T12:13:54.472Z"
   },
   {
    "duration": 55,
    "start_time": "2022-08-16T12:13:54.519Z"
   },
   {
    "duration": 42,
    "start_time": "2022-08-16T12:13:54.576Z"
   },
   {
    "duration": 64,
    "start_time": "2022-08-16T12:13:54.619Z"
   },
   {
    "duration": 3,
    "start_time": "2022-08-16T12:13:54.685Z"
   },
   {
    "duration": 112,
    "start_time": "2022-08-16T12:13:54.690Z"
   },
   {
    "duration": 433,
    "start_time": "2022-08-16T12:13:54.805Z"
   },
   {
    "duration": 291,
    "start_time": "2022-08-16T12:13:55.240Z"
   },
   {
    "duration": 188,
    "start_time": "2022-08-16T12:13:55.534Z"
   },
   {
    "duration": 24,
    "start_time": "2022-08-16T12:13:55.724Z"
   },
   {
    "duration": 37,
    "start_time": "2022-08-16T12:13:55.750Z"
   },
   {
    "duration": 4,
    "start_time": "2022-08-16T12:13:55.789Z"
   },
   {
    "duration": 78,
    "start_time": "2022-08-16T12:13:55.795Z"
   },
   {
    "duration": 366,
    "start_time": "2022-08-16T12:13:55.875Z"
   },
   {
    "duration": 32,
    "start_time": "2022-08-16T12:13:56.243Z"
   },
   {
    "duration": 304,
    "start_time": "2022-08-16T12:13:56.279Z"
   },
   {
    "duration": 31,
    "start_time": "2022-08-16T12:13:56.585Z"
   },
   {
    "duration": 26,
    "start_time": "2022-08-16T12:13:56.619Z"
   },
   {
    "duration": 10,
    "start_time": "2022-08-16T12:13:56.667Z"
   },
   {
    "duration": 471,
    "start_time": "2022-08-16T12:13:56.678Z"
   },
   {
    "duration": 20,
    "start_time": "2022-08-16T12:13:57.151Z"
   },
   {
    "duration": 7,
    "start_time": "2022-08-16T12:13:57.172Z"
   },
   {
    "duration": 863,
    "start_time": "2022-08-16T12:13:57.181Z"
   },
   {
    "duration": 7,
    "start_time": "2022-08-16T12:13:58.045Z"
   },
   {
    "duration": 50,
    "start_time": "2022-08-16T12:13:58.055Z"
   },
   {
    "duration": 3,
    "start_time": "2022-08-16T12:13:58.107Z"
   },
   {
    "duration": 160,
    "start_time": "2022-08-16T12:13:58.112Z"
   },
   {
    "duration": 4,
    "start_time": "2022-08-16T12:14:01.432Z"
   },
   {
    "duration": 17589,
    "start_time": "2022-08-16T12:15:37.142Z"
   },
   {
    "duration": 13,
    "start_time": "2022-08-16T12:18:46.449Z"
   },
   {
    "duration": 10,
    "start_time": "2022-08-16T12:25:12.801Z"
   },
   {
    "duration": 4,
    "start_time": "2022-08-16T12:28:03.348Z"
   },
   {
    "duration": 8,
    "start_time": "2022-08-16T12:28:41.157Z"
   },
   {
    "duration": 11,
    "start_time": "2022-08-16T12:29:17.479Z"
   },
   {
    "duration": 24,
    "start_time": "2022-08-16T12:29:22.832Z"
   },
   {
    "duration": 4,
    "start_time": "2022-08-16T12:34:00.563Z"
   },
   {
    "duration": 4,
    "start_time": "2022-08-16T12:35:08.350Z"
   },
   {
    "duration": 6,
    "start_time": "2022-08-16T12:39:32.459Z"
   },
   {
    "duration": 26,
    "start_time": "2022-08-16T12:39:44.588Z"
   },
   {
    "duration": 33,
    "start_time": "2022-08-16T12:41:14.590Z"
   },
   {
    "duration": 33,
    "start_time": "2022-08-16T12:41:24.928Z"
   },
   {
    "duration": 5,
    "start_time": "2022-08-16T12:42:24.987Z"
   },
   {
    "duration": 6,
    "start_time": "2022-08-16T12:45:05.239Z"
   },
   {
    "duration": 6,
    "start_time": "2022-08-16T12:46:14.939Z"
   },
   {
    "duration": 345,
    "start_time": "2022-08-16T12:46:54.594Z"
   },
   {
    "duration": 5,
    "start_time": "2022-08-16T12:46:56.923Z"
   },
   {
    "duration": 3,
    "start_time": "2022-08-16T13:05:52.641Z"
   },
   {
    "duration": 6,
    "start_time": "2022-08-16T13:06:03.692Z"
   },
   {
    "duration": 410,
    "start_time": "2022-08-16T13:06:06.494Z"
   },
   {
    "duration": 4,
    "start_time": "2022-08-16T13:06:08.726Z"
   },
   {
    "duration": 87,
    "start_time": "2022-08-16T13:07:21.437Z"
   },
   {
    "duration": 389,
    "start_time": "2022-08-16T13:07:30.766Z"
   },
   {
    "duration": 4,
    "start_time": "2022-08-16T13:07:33.237Z"
   },
   {
    "duration": 9,
    "start_time": "2022-08-16T13:30:53.359Z"
   },
   {
    "duration": 248,
    "start_time": "2022-08-16T13:30:57.223Z"
   },
   {
    "duration": 4,
    "start_time": "2022-08-16T13:32:48.170Z"
   },
   {
    "duration": 5,
    "start_time": "2022-08-16T13:33:00.223Z"
   },
   {
    "duration": 790,
    "start_time": "2022-08-16T13:33:00.230Z"
   },
   {
    "duration": 4,
    "start_time": "2022-08-16T13:33:01.021Z"
   },
   {
    "duration": 776,
    "start_time": "2022-08-16T13:33:01.027Z"
   },
   {
    "duration": 3,
    "start_time": "2022-08-16T13:33:01.806Z"
   },
   {
    "duration": 71,
    "start_time": "2022-08-16T13:33:01.810Z"
   },
   {
    "duration": 219,
    "start_time": "2022-08-16T13:33:01.883Z"
   },
   {
    "duration": 25,
    "start_time": "2022-08-16T13:33:02.103Z"
   },
   {
    "duration": 212,
    "start_time": "2022-08-16T13:33:02.130Z"
   },
   {
    "duration": 80,
    "start_time": "2022-08-16T13:33:02.344Z"
   },
   {
    "duration": 3,
    "start_time": "2022-08-16T13:33:02.426Z"
   },
   {
    "duration": 54,
    "start_time": "2022-08-16T13:33:02.431Z"
   },
   {
    "duration": 42,
    "start_time": "2022-08-16T13:33:02.486Z"
   },
   {
    "duration": 59,
    "start_time": "2022-08-16T13:33:02.530Z"
   },
   {
    "duration": 51,
    "start_time": "2022-08-16T13:33:02.591Z"
   },
   {
    "duration": 63,
    "start_time": "2022-08-16T13:33:02.643Z"
   },
   {
    "duration": 41,
    "start_time": "2022-08-16T13:33:02.708Z"
   },
   {
    "duration": 19,
    "start_time": "2022-08-16T13:33:02.750Z"
   },
   {
    "duration": 109,
    "start_time": "2022-08-16T13:33:02.770Z"
   },
   {
    "duration": 403,
    "start_time": "2022-08-16T13:33:02.881Z"
   },
   {
    "duration": 299,
    "start_time": "2022-08-16T13:33:03.286Z"
   },
   {
    "duration": 191,
    "start_time": "2022-08-16T13:33:03.587Z"
   },
   {
    "duration": 25,
    "start_time": "2022-08-16T13:33:03.780Z"
   },
   {
    "duration": 26,
    "start_time": "2022-08-16T13:33:03.807Z"
   },
   {
    "duration": 4,
    "start_time": "2022-08-16T13:33:03.834Z"
   },
   {
    "duration": 91,
    "start_time": "2022-08-16T13:33:03.839Z"
   },
   {
    "duration": 507,
    "start_time": "2022-08-16T13:33:03.932Z"
   },
   {
    "duration": 30,
    "start_time": "2022-08-16T13:33:04.441Z"
   },
   {
    "duration": 296,
    "start_time": "2022-08-16T13:33:04.473Z"
   },
   {
    "duration": 25,
    "start_time": "2022-08-16T13:33:04.771Z"
   },
   {
    "duration": 22,
    "start_time": "2022-08-16T13:33:04.798Z"
   },
   {
    "duration": 3,
    "start_time": "2022-08-16T13:33:04.822Z"
   },
   {
    "duration": 404,
    "start_time": "2022-08-16T13:33:04.827Z"
   },
   {
    "duration": 10,
    "start_time": "2022-08-16T13:33:05.233Z"
   },
   {
    "duration": 5,
    "start_time": "2022-08-16T13:33:05.245Z"
   },
   {
    "duration": 864,
    "start_time": "2022-08-16T13:33:05.252Z"
   },
   {
    "duration": 7,
    "start_time": "2022-08-16T13:33:06.118Z"
   },
   {
    "duration": 44,
    "start_time": "2022-08-16T13:33:06.126Z"
   },
   {
    "duration": 2,
    "start_time": "2022-08-16T13:33:06.172Z"
   },
   {
    "duration": 161,
    "start_time": "2022-08-16T13:33:06.176Z"
   },
   {
    "duration": 226,
    "start_time": "2022-08-16T13:33:06.341Z"
   },
   {
    "duration": 6,
    "start_time": "2022-08-16T13:33:10.502Z"
   },
   {
    "duration": 9,
    "start_time": "2022-08-16T13:41:09.368Z"
   },
   {
    "duration": 18241,
    "start_time": "2022-08-16T13:41:32.934Z"
   },
   {
    "duration": 5,
    "start_time": "2022-08-16T13:41:59.498Z"
   },
   {
    "duration": 4,
    "start_time": "2022-08-16T13:42:01.206Z"
   },
   {
    "duration": 7,
    "start_time": "2022-08-16T13:42:02.564Z"
   },
   {
    "duration": 370,
    "start_time": "2022-08-16T13:42:04.364Z"
   },
   {
    "duration": 8,
    "start_time": "2022-08-16T13:42:06.509Z"
   },
   {
    "duration": 12,
    "start_time": "2022-08-16T13:42:08.750Z"
   },
   {
    "duration": 130,
    "start_time": "2022-08-16T13:42:38.537Z"
   },
   {
    "duration": 268,
    "start_time": "2022-08-16T13:42:53.535Z"
   },
   {
    "duration": 379,
    "start_time": "2022-08-16T13:43:29.965Z"
   },
   {
    "duration": 5,
    "start_time": "2022-08-16T13:43:53.065Z"
   },
   {
    "duration": 736,
    "start_time": "2022-08-16T13:43:53.072Z"
   },
   {
    "duration": 4,
    "start_time": "2022-08-16T13:43:53.809Z"
   },
   {
    "duration": 689,
    "start_time": "2022-08-16T13:43:53.815Z"
   },
   {
    "duration": 3,
    "start_time": "2022-08-16T13:43:54.506Z"
   },
   {
    "duration": 71,
    "start_time": "2022-08-16T13:43:54.511Z"
   },
   {
    "duration": 233,
    "start_time": "2022-08-16T13:43:54.584Z"
   },
   {
    "duration": 22,
    "start_time": "2022-08-16T13:43:54.819Z"
   },
   {
    "duration": 186,
    "start_time": "2022-08-16T13:43:54.844Z"
   },
   {
    "duration": 72,
    "start_time": "2022-08-16T13:43:55.032Z"
   },
   {
    "duration": 3,
    "start_time": "2022-08-16T13:43:55.106Z"
   },
   {
    "duration": 58,
    "start_time": "2022-08-16T13:43:55.110Z"
   },
   {
    "duration": 40,
    "start_time": "2022-08-16T13:43:55.170Z"
   },
   {
    "duration": 60,
    "start_time": "2022-08-16T13:43:55.211Z"
   },
   {
    "duration": 43,
    "start_time": "2022-08-16T13:43:55.273Z"
   },
   {
    "duration": 62,
    "start_time": "2022-08-16T13:43:55.318Z"
   },
   {
    "duration": 41,
    "start_time": "2022-08-16T13:43:55.382Z"
   },
   {
    "duration": 3,
    "start_time": "2022-08-16T13:43:55.424Z"
   },
   {
    "duration": 133,
    "start_time": "2022-08-16T13:43:55.429Z"
   },
   {
    "duration": 403,
    "start_time": "2022-08-16T13:43:55.568Z"
   },
   {
    "duration": 291,
    "start_time": "2022-08-16T13:43:55.973Z"
   },
   {
    "duration": 185,
    "start_time": "2022-08-16T13:43:56.267Z"
   },
   {
    "duration": 38,
    "start_time": "2022-08-16T13:43:56.453Z"
   },
   {
    "duration": 31,
    "start_time": "2022-08-16T13:43:56.496Z"
   },
   {
    "duration": 5,
    "start_time": "2022-08-16T13:43:56.529Z"
   },
   {
    "duration": 107,
    "start_time": "2022-08-16T13:43:56.537Z"
   },
   {
    "duration": 425,
    "start_time": "2022-08-16T13:43:56.646Z"
   },
   {
    "duration": 24,
    "start_time": "2022-08-16T13:43:57.072Z"
   },
   {
    "duration": 303,
    "start_time": "2022-08-16T13:43:57.098Z"
   },
   {
    "duration": 26,
    "start_time": "2022-08-16T13:43:57.403Z"
   },
   {
    "duration": 37,
    "start_time": "2022-08-16T13:43:57.431Z"
   },
   {
    "duration": 6,
    "start_time": "2022-08-16T13:43:57.469Z"
   },
   {
    "duration": 379,
    "start_time": "2022-08-16T13:43:57.476Z"
   },
   {
    "duration": 14,
    "start_time": "2022-08-16T13:43:57.858Z"
   },
   {
    "duration": 5,
    "start_time": "2022-08-16T13:43:57.874Z"
   },
   {
    "duration": 820,
    "start_time": "2022-08-16T13:43:57.881Z"
   },
   {
    "duration": 6,
    "start_time": "2022-08-16T13:43:58.703Z"
   },
   {
    "duration": 35,
    "start_time": "2022-08-16T13:43:58.711Z"
   },
   {
    "duration": 20,
    "start_time": "2022-08-16T13:43:58.748Z"
   },
   {
    "duration": 157,
    "start_time": "2022-08-16T13:43:58.769Z"
   },
   {
    "duration": 1077345,
    "start_time": "2022-08-16T13:43:58.928Z"
   },
   {
    "duration": 4,
    "start_time": "2022-08-16T14:01:56.274Z"
   },
   {
    "duration": 8,
    "start_time": "2022-08-16T14:01:56.280Z"
   },
   {
    "duration": 14,
    "start_time": "2022-08-16T14:01:56.290Z"
   },
   {
    "duration": 0,
    "start_time": "2022-08-16T14:01:56.306Z"
   },
   {
    "duration": 0,
    "start_time": "2022-08-16T14:01:56.308Z"
   },
   {
    "duration": 0,
    "start_time": "2022-08-16T14:01:56.309Z"
   },
   {
    "duration": 0,
    "start_time": "2022-08-16T14:01:56.311Z"
   },
   {
    "duration": 0,
    "start_time": "2022-08-16T14:01:56.312Z"
   },
   {
    "duration": 0,
    "start_time": "2022-08-16T14:01:56.314Z"
   },
   {
    "duration": 0,
    "start_time": "2022-08-16T14:01:56.315Z"
   },
   {
    "duration": 0,
    "start_time": "2022-08-16T14:01:56.317Z"
   },
   {
    "duration": 0,
    "start_time": "2022-08-16T14:01:56.318Z"
   },
   {
    "duration": 0,
    "start_time": "2022-08-16T14:01:56.320Z"
   },
   {
    "duration": 0,
    "start_time": "2022-08-16T14:01:56.321Z"
   },
   {
    "duration": 0,
    "start_time": "2022-08-16T14:01:56.322Z"
   },
   {
    "duration": 3,
    "start_time": "2022-08-16T15:06:22.230Z"
   },
   {
    "duration": 3,
    "start_time": "2022-08-16T15:06:27.878Z"
   },
   {
    "duration": 9,
    "start_time": "2022-08-16T15:06:27.883Z"
   },
   {
    "duration": 6275,
    "start_time": "2022-08-16T15:06:27.894Z"
   },
   {
    "duration": 3,
    "start_time": "2022-08-16T15:06:34.171Z"
   },
   {
    "duration": 196,
    "start_time": "2022-08-16T15:06:34.177Z"
   },
   {
    "duration": 93,
    "start_time": "2022-08-16T15:06:34.375Z"
   },
   {
    "duration": 17351,
    "start_time": "2022-08-16T15:06:34.470Z"
   },
   {
    "duration": 5,
    "start_time": "2022-08-16T15:06:51.822Z"
   },
   {
    "duration": 4,
    "start_time": "2022-08-16T15:06:51.829Z"
   },
   {
    "duration": 7,
    "start_time": "2022-08-16T15:06:51.835Z"
   },
   {
    "duration": 382,
    "start_time": "2022-08-16T15:06:51.843Z"
   },
   {
    "duration": 5,
    "start_time": "2022-08-16T15:06:52.227Z"
   },
   {
    "duration": 11,
    "start_time": "2022-08-16T15:06:52.235Z"
   },
   {
    "duration": 406,
    "start_time": "2022-08-16T15:06:52.247Z"
   },
   {
    "duration": 4,
    "start_time": "2022-08-17T08:41:34.134Z"
   },
   {
    "duration": 766,
    "start_time": "2022-08-17T08:41:34.140Z"
   },
   {
    "duration": 3,
    "start_time": "2022-08-17T08:41:34.909Z"
   },
   {
    "duration": 747,
    "start_time": "2022-08-17T08:41:34.914Z"
   },
   {
    "duration": 7,
    "start_time": "2022-08-17T08:41:35.663Z"
   },
   {
    "duration": 63,
    "start_time": "2022-08-17T08:41:35.672Z"
   },
   {
    "duration": 242,
    "start_time": "2022-08-17T08:41:35.737Z"
   },
   {
    "duration": 24,
    "start_time": "2022-08-17T08:41:35.981Z"
   },
   {
    "duration": 213,
    "start_time": "2022-08-17T08:41:36.009Z"
   },
   {
    "duration": 75,
    "start_time": "2022-08-17T08:41:36.224Z"
   },
   {
    "duration": 3,
    "start_time": "2022-08-17T08:41:36.302Z"
   },
   {
    "duration": 62,
    "start_time": "2022-08-17T08:41:36.307Z"
   },
   {
    "duration": 47,
    "start_time": "2022-08-17T08:41:36.370Z"
   },
   {
    "duration": 88,
    "start_time": "2022-08-17T08:41:36.418Z"
   },
   {
    "duration": 71,
    "start_time": "2022-08-17T08:41:36.508Z"
   },
   {
    "duration": 63,
    "start_time": "2022-08-17T08:41:36.581Z"
   },
   {
    "duration": 92,
    "start_time": "2022-08-17T08:41:36.646Z"
   },
   {
    "duration": 3,
    "start_time": "2022-08-17T08:41:36.739Z"
   },
   {
    "duration": 169,
    "start_time": "2022-08-17T08:41:36.744Z"
   },
   {
    "duration": 436,
    "start_time": "2022-08-17T08:41:36.915Z"
   },
   {
    "duration": 316,
    "start_time": "2022-08-17T08:41:37.353Z"
   },
   {
    "duration": 199,
    "start_time": "2022-08-17T08:41:37.672Z"
   },
   {
    "duration": 27,
    "start_time": "2022-08-17T08:41:37.873Z"
   },
   {
    "duration": 25,
    "start_time": "2022-08-17T08:41:37.904Z"
   },
   {
    "duration": 4,
    "start_time": "2022-08-17T08:41:37.930Z"
   },
   {
    "duration": 90,
    "start_time": "2022-08-17T08:41:37.936Z"
   },
   {
    "duration": 429,
    "start_time": "2022-08-17T08:41:38.027Z"
   },
   {
    "duration": 38,
    "start_time": "2022-08-17T08:41:38.458Z"
   },
   {
    "duration": 313,
    "start_time": "2022-08-17T08:41:38.498Z"
   },
   {
    "duration": 26,
    "start_time": "2022-08-17T08:41:38.812Z"
   },
   {
    "duration": 37,
    "start_time": "2022-08-17T08:41:38.840Z"
   },
   {
    "duration": 4,
    "start_time": "2022-08-17T08:41:38.879Z"
   },
   {
    "duration": 415,
    "start_time": "2022-08-17T08:41:38.885Z"
   },
   {
    "duration": 12,
    "start_time": "2022-08-17T08:41:39.302Z"
   },
   {
    "duration": 7,
    "start_time": "2022-08-17T08:41:39.315Z"
   },
   {
    "duration": 835,
    "start_time": "2022-08-17T08:41:39.325Z"
   },
   {
    "duration": 10,
    "start_time": "2022-08-17T08:41:40.161Z"
   },
   {
    "duration": 42,
    "start_time": "2022-08-17T08:41:40.173Z"
   },
   {
    "duration": 3,
    "start_time": "2022-08-17T08:41:40.217Z"
   },
   {
    "duration": 192,
    "start_time": "2022-08-17T08:41:40.223Z"
   },
   {
    "duration": 508759,
    "start_time": "2022-08-17T08:41:40.417Z"
   },
   {
    "duration": 6,
    "start_time": "2022-08-17T08:50:09.178Z"
   },
   {
    "duration": 9,
    "start_time": "2022-08-17T08:50:09.186Z"
   },
   {
    "duration": 8,
    "start_time": "2022-08-17T08:50:09.198Z"
   },
   {
    "duration": 7983,
    "start_time": "2022-08-17T08:50:09.208Z"
   },
   {
    "duration": 5,
    "start_time": "2022-08-17T08:50:17.193Z"
   },
   {
    "duration": 169,
    "start_time": "2022-08-17T08:50:17.199Z"
   },
   {
    "duration": 5,
    "start_time": "2022-08-17T08:50:17.370Z"
   },
   {
    "duration": 18601,
    "start_time": "2022-08-17T08:50:17.467Z"
   },
   {
    "duration": 5,
    "start_time": "2022-08-17T08:50:36.070Z"
   },
   {
    "duration": 6,
    "start_time": "2022-08-17T08:50:36.077Z"
   },
   {
    "duration": 11,
    "start_time": "2022-08-17T08:50:36.085Z"
   },
   {
    "duration": 430,
    "start_time": "2022-08-17T08:50:36.097Z"
   },
   {
    "duration": 5,
    "start_time": "2022-08-17T08:50:36.529Z"
   },
   {
    "duration": 23,
    "start_time": "2022-08-17T08:50:36.537Z"
   },
   {
    "duration": 474,
    "start_time": "2022-08-17T08:50:36.570Z"
   },
   {
    "duration": 6,
    "start_time": "2022-08-17T09:01:17.745Z"
   },
   {
    "duration": 6638,
    "start_time": "2022-08-17T09:01:17.753Z"
   },
   {
    "duration": 4,
    "start_time": "2022-08-17T09:01:24.394Z"
   },
   {
    "duration": 168,
    "start_time": "2022-08-17T09:01:24.400Z"
   },
   {
    "duration": 6,
    "start_time": "2022-08-17T09:01:24.571Z"
   },
   {
    "duration": 19778,
    "start_time": "2022-08-17T09:01:24.579Z"
   },
   {
    "duration": 10,
    "start_time": "2022-08-17T09:01:44.359Z"
   },
   {
    "duration": 6,
    "start_time": "2022-08-17T09:01:44.371Z"
   },
   {
    "duration": 9,
    "start_time": "2022-08-17T09:01:44.378Z"
   },
   {
    "duration": 394,
    "start_time": "2022-08-17T09:01:44.388Z"
   },
   {
    "duration": 4,
    "start_time": "2022-08-17T09:01:44.784Z"
   },
   {
    "duration": 13,
    "start_time": "2022-08-17T09:01:44.790Z"
   },
   {
    "duration": 418,
    "start_time": "2022-08-17T09:01:44.804Z"
   },
   {
    "duration": 475662,
    "start_time": "2022-08-17T09:14:14.635Z"
   },
   {
    "duration": 10,
    "start_time": "2022-08-17T09:53:24.631Z"
   },
   {
    "duration": 169,
    "start_time": "2022-08-17T09:53:41.340Z"
   },
   {
    "duration": 1002663,
    "start_time": "2022-08-17T09:53:41.511Z"
   },
   {
    "duration": 5,
    "start_time": "2022-08-17T10:10:24.176Z"
   },
   {
    "duration": 8,
    "start_time": "2022-08-17T10:10:24.183Z"
   },
   {
    "duration": 13,
    "start_time": "2022-08-17T10:10:24.194Z"
   },
   {
    "duration": 9098,
    "start_time": "2022-08-17T10:10:24.210Z"
   },
   {
    "duration": 4,
    "start_time": "2022-08-17T10:10:33.369Z"
   },
   {
    "duration": 102,
    "start_time": "2022-08-17T10:10:33.375Z"
   },
   {
    "duration": 91,
    "start_time": "2022-08-17T10:10:33.479Z"
   },
   {
    "duration": 19646,
    "start_time": "2022-08-17T10:10:33.572Z"
   },
   {
    "duration": 6,
    "start_time": "2022-08-17T10:10:53.220Z"
   },
   {
    "duration": 5,
    "start_time": "2022-08-17T10:10:53.229Z"
   },
   {
    "duration": 11,
    "start_time": "2022-08-17T10:10:53.236Z"
   },
   {
    "duration": 403,
    "start_time": "2022-08-17T10:10:53.267Z"
   },
   {
    "duration": 4,
    "start_time": "2022-08-17T10:10:53.672Z"
   },
   {
    "duration": 12,
    "start_time": "2022-08-17T10:10:53.678Z"
   },
   {
    "duration": 428,
    "start_time": "2022-08-17T10:10:53.692Z"
   },
   {
    "duration": 5647,
    "start_time": "2022-08-17T10:10:54.122Z"
   },
   {
    "duration": 3,
    "start_time": "2022-08-17T10:10:59.770Z"
   },
   {
    "duration": 14,
    "start_time": "2022-08-17T10:10:59.775Z"
   },
   {
    "duration": 6,
    "start_time": "2022-08-17T10:16:41.652Z"
   },
   {
    "duration": 5,
    "start_time": "2022-08-17T10:18:20.623Z"
   },
   {
    "duration": 4,
    "start_time": "2022-08-17T10:18:36.949Z"
   },
   {
    "duration": 17,
    "start_time": "2022-08-17T10:20:41.542Z"
   },
   {
    "duration": 4,
    "start_time": "2022-08-17T10:21:14.237Z"
   },
   {
    "duration": 12,
    "start_time": "2022-08-17T10:23:42.534Z"
   },
   {
    "duration": 3,
    "start_time": "2022-08-17T10:24:09.819Z"
   },
   {
    "duration": 4,
    "start_time": "2022-08-17T10:24:19.739Z"
   },
   {
    "duration": 5263,
    "start_time": "2022-08-17T10:46:26.741Z"
   },
   {
    "duration": 5952,
    "start_time": "2022-08-17T10:47:05.317Z"
   },
   {
    "duration": 10,
    "start_time": "2022-08-17T10:47:18.349Z"
   },
   {
    "duration": 4,
    "start_time": "2022-08-17T10:47:24.416Z"
   },
   {
    "duration": 5,
    "start_time": "2022-08-17T10:48:52.519Z"
   },
   {
    "duration": 1042,
    "start_time": "2022-08-17T10:48:52.526Z"
   },
   {
    "duration": 4,
    "start_time": "2022-08-17T10:48:53.570Z"
   },
   {
    "duration": 783,
    "start_time": "2022-08-17T10:48:53.577Z"
   },
   {
    "duration": 4,
    "start_time": "2022-08-17T10:48:54.367Z"
   },
   {
    "duration": 42,
    "start_time": "2022-08-17T10:48:54.373Z"
   },
   {
    "duration": 266,
    "start_time": "2022-08-17T10:48:54.417Z"
   },
   {
    "duration": 25,
    "start_time": "2022-08-17T10:48:54.685Z"
   },
   {
    "duration": 229,
    "start_time": "2022-08-17T10:48:54.712Z"
   },
   {
    "duration": 89,
    "start_time": "2022-08-17T10:48:54.943Z"
   },
   {
    "duration": 3,
    "start_time": "2022-08-17T10:48:55.035Z"
   },
   {
    "duration": 73,
    "start_time": "2022-08-17T10:48:55.040Z"
   },
   {
    "duration": 59,
    "start_time": "2022-08-17T10:48:55.115Z"
   },
   {
    "duration": 56,
    "start_time": "2022-08-17T10:48:55.178Z"
   },
   {
    "duration": 74,
    "start_time": "2022-08-17T10:48:55.236Z"
   },
   {
    "duration": 71,
    "start_time": "2022-08-17T10:48:55.311Z"
   },
   {
    "duration": 51,
    "start_time": "2022-08-17T10:48:55.385Z"
   },
   {
    "duration": 3,
    "start_time": "2022-08-17T10:48:55.437Z"
   },
   {
    "duration": 143,
    "start_time": "2022-08-17T10:48:55.442Z"
   },
   {
    "duration": 464,
    "start_time": "2022-08-17T10:48:55.588Z"
   },
   {
    "duration": 348,
    "start_time": "2022-08-17T10:48:56.054Z"
   },
   {
    "duration": 271,
    "start_time": "2022-08-17T10:48:56.404Z"
   },
   {
    "duration": 39,
    "start_time": "2022-08-17T10:48:56.677Z"
   },
   {
    "duration": 31,
    "start_time": "2022-08-17T10:48:56.718Z"
   },
   {
    "duration": 48,
    "start_time": "2022-08-17T10:48:56.769Z"
   },
   {
    "duration": 90,
    "start_time": "2022-08-17T10:48:56.819Z"
   },
   {
    "duration": 470,
    "start_time": "2022-08-17T10:48:56.911Z"
   },
   {
    "duration": 29,
    "start_time": "2022-08-17T10:48:57.383Z"
   },
   {
    "duration": 345,
    "start_time": "2022-08-17T10:48:57.414Z"
   },
   {
    "duration": 28,
    "start_time": "2022-08-17T10:48:57.768Z"
   },
   {
    "duration": 32,
    "start_time": "2022-08-17T10:48:57.798Z"
   },
   {
    "duration": 4,
    "start_time": "2022-08-17T10:48:57.832Z"
   },
   {
    "duration": 469,
    "start_time": "2022-08-17T10:48:57.838Z"
   },
   {
    "duration": 13,
    "start_time": "2022-08-17T10:48:58.309Z"
   },
   {
    "duration": 13,
    "start_time": "2022-08-17T10:48:58.324Z"
   },
   {
    "duration": 968,
    "start_time": "2022-08-17T10:48:58.339Z"
   },
   {
    "duration": 8,
    "start_time": "2022-08-17T10:48:59.309Z"
   },
   {
    "duration": 54,
    "start_time": "2022-08-17T10:48:59.318Z"
   },
   {
    "duration": 3,
    "start_time": "2022-08-17T10:48:59.374Z"
   },
   {
    "duration": 187,
    "start_time": "2022-08-17T10:48:59.380Z"
   },
   {
    "duration": 1276996,
    "start_time": "2022-08-17T10:48:59.571Z"
   },
   {
    "duration": 6,
    "start_time": "2022-08-17T11:10:16.570Z"
   },
   {
    "duration": 34,
    "start_time": "2022-08-17T11:10:16.579Z"
   },
   {
    "duration": 34,
    "start_time": "2022-08-17T11:10:16.615Z"
   },
   {
    "duration": 6118,
    "start_time": "2022-08-17T11:10:16.652Z"
   },
   {
    "duration": 4,
    "start_time": "2022-08-17T11:10:22.772Z"
   },
   {
    "duration": 195,
    "start_time": "2022-08-17T11:10:22.778Z"
   },
   {
    "duration": 93,
    "start_time": "2022-08-17T11:10:22.976Z"
   },
   {
    "duration": 19331,
    "start_time": "2022-08-17T11:10:23.071Z"
   },
   {
    "duration": 4,
    "start_time": "2022-08-17T11:10:42.404Z"
   },
   {
    "duration": 6,
    "start_time": "2022-08-17T11:10:42.410Z"
   },
   {
    "duration": 10,
    "start_time": "2022-08-17T11:10:42.418Z"
   },
   {
    "duration": 408,
    "start_time": "2022-08-17T11:10:42.430Z"
   },
   {
    "duration": 5,
    "start_time": "2022-08-17T11:10:42.839Z"
   },
   {
    "duration": 13,
    "start_time": "2022-08-17T11:10:42.845Z"
   },
   {
    "duration": 425,
    "start_time": "2022-08-17T11:10:42.869Z"
   },
   {
    "duration": 50972,
    "start_time": "2022-08-17T11:10:43.296Z"
   },
   {
    "duration": 4,
    "start_time": "2022-08-17T11:11:34.271Z"
   },
   {
    "duration": 2019,
    "start_time": "2022-08-17T19:32:03.691Z"
   },
   {
    "duration": 3380,
    "start_time": "2022-08-17T19:32:05.712Z"
   },
   {
    "duration": 4,
    "start_time": "2022-08-17T19:32:09.094Z"
   },
   {
    "duration": 875,
    "start_time": "2022-08-17T19:32:09.101Z"
   },
   {
    "duration": 3,
    "start_time": "2022-08-17T19:32:09.977Z"
   },
   {
    "duration": 69,
    "start_time": "2022-08-17T19:32:09.982Z"
   },
   {
    "duration": 300,
    "start_time": "2022-08-17T19:32:10.053Z"
   },
   {
    "duration": 33,
    "start_time": "2022-08-17T19:32:10.355Z"
   },
   {
    "duration": 236,
    "start_time": "2022-08-17T19:32:10.390Z"
   },
   {
    "duration": 131,
    "start_time": "2022-08-17T19:32:10.629Z"
   },
   {
    "duration": 3,
    "start_time": "2022-08-17T19:32:10.762Z"
   },
   {
    "duration": 66,
    "start_time": "2022-08-17T19:32:10.766Z"
   },
   {
    "duration": 60,
    "start_time": "2022-08-17T19:32:10.834Z"
   },
   {
    "duration": 60,
    "start_time": "2022-08-17T19:32:10.896Z"
   },
   {
    "duration": 68,
    "start_time": "2022-08-17T19:32:10.957Z"
   },
   {
    "duration": 67,
    "start_time": "2022-08-17T19:32:11.027Z"
   },
   {
    "duration": 64,
    "start_time": "2022-08-17T19:32:11.097Z"
   },
   {
    "duration": 4,
    "start_time": "2022-08-17T19:32:11.163Z"
   },
   {
    "duration": 143,
    "start_time": "2022-08-17T19:32:11.168Z"
   },
   {
    "duration": 511,
    "start_time": "2022-08-17T19:32:11.313Z"
   },
   {
    "duration": 394,
    "start_time": "2022-08-17T19:32:11.826Z"
   },
   {
    "duration": 207,
    "start_time": "2022-08-17T19:32:12.223Z"
   },
   {
    "duration": 28,
    "start_time": "2022-08-17T19:32:12.432Z"
   },
   {
    "duration": 45,
    "start_time": "2022-08-17T19:32:12.461Z"
   },
   {
    "duration": 4,
    "start_time": "2022-08-17T19:32:12.508Z"
   },
   {
    "duration": 65,
    "start_time": "2022-08-17T19:32:12.514Z"
   },
   {
    "duration": 394,
    "start_time": "2022-08-17T19:32:12.593Z"
   },
   {
    "duration": 22,
    "start_time": "2022-08-17T19:32:12.995Z"
   },
   {
    "duration": 400,
    "start_time": "2022-08-17T19:32:13.019Z"
   },
   {
    "duration": 27,
    "start_time": "2022-08-17T19:32:13.421Z"
   },
   {
    "duration": 48,
    "start_time": "2022-08-17T19:32:13.449Z"
   },
   {
    "duration": 4,
    "start_time": "2022-08-17T19:32:13.499Z"
   },
   {
    "duration": 423,
    "start_time": "2022-08-17T19:32:13.504Z"
   },
   {
    "duration": 12,
    "start_time": "2022-08-17T19:32:13.928Z"
   },
   {
    "duration": 7,
    "start_time": "2022-08-17T19:32:13.942Z"
   },
   {
    "duration": 876,
    "start_time": "2022-08-17T19:32:13.951Z"
   },
   {
    "duration": 6,
    "start_time": "2022-08-17T19:32:14.829Z"
   },
   {
    "duration": 35,
    "start_time": "2022-08-17T19:32:14.837Z"
   },
   {
    "duration": 19,
    "start_time": "2022-08-17T19:32:14.874Z"
   },
   {
    "duration": 200,
    "start_time": "2022-08-17T19:32:14.894Z"
   },
   {
    "duration": 622904,
    "start_time": "2022-08-17T19:32:15.096Z"
   },
   {
    "duration": 5,
    "start_time": "2022-08-17T19:42:38.001Z"
   },
   {
    "duration": 16,
    "start_time": "2022-08-17T19:42:38.008Z"
   },
   {
    "duration": 11,
    "start_time": "2022-08-17T19:42:38.025Z"
   },
   {
    "duration": 6056,
    "start_time": "2022-08-17T19:42:38.037Z"
   },
   {
    "duration": 3,
    "start_time": "2022-08-17T19:42:44.095Z"
   },
   {
    "duration": 204,
    "start_time": "2022-08-17T19:42:44.100Z"
   },
   {
    "duration": 92,
    "start_time": "2022-08-17T19:42:44.307Z"
   },
   {
    "duration": 19377,
    "start_time": "2022-08-17T19:42:44.402Z"
   },
   {
    "duration": 5,
    "start_time": "2022-08-17T19:43:03.780Z"
   },
   {
    "duration": 13,
    "start_time": "2022-08-17T19:43:03.786Z"
   },
   {
    "duration": 11,
    "start_time": "2022-08-17T19:43:03.801Z"
   },
   {
    "duration": 425,
    "start_time": "2022-08-17T19:43:03.813Z"
   },
   {
    "duration": 4,
    "start_time": "2022-08-17T19:43:04.240Z"
   },
   {
    "duration": 14,
    "start_time": "2022-08-17T19:43:04.245Z"
   },
   {
    "duration": 413,
    "start_time": "2022-08-17T19:43:04.261Z"
   },
   {
    "duration": 5712,
    "start_time": "2022-08-17T19:43:04.676Z"
   },
   {
    "duration": 0,
    "start_time": "2022-08-17T19:43:10.390Z"
   },
   {
    "duration": 33,
    "start_time": "2022-08-17T19:54:59.375Z"
   },
   {
    "duration": 5,
    "start_time": "2022-08-17T20:02:33.592Z"
   },
   {
    "duration": 26,
    "start_time": "2022-08-17T20:02:46.544Z"
   },
   {
    "duration": 4,
    "start_time": "2022-08-17T20:03:35.047Z"
   },
   {
    "duration": 3,
    "start_time": "2022-08-17T20:08:33.020Z"
   },
   {
    "duration": 41,
    "start_time": "2022-08-17T20:08:37.854Z"
   },
   {
    "duration": 5,
    "start_time": "2022-08-17T20:12:05.777Z"
   },
   {
    "duration": 5,
    "start_time": "2022-08-17T20:12:18.350Z"
   },
   {
    "duration": 10,
    "start_time": "2022-08-17T20:12:26.296Z"
   },
   {
    "duration": 4,
    "start_time": "2022-08-17T20:12:35.929Z"
   },
   {
    "duration": 5,
    "start_time": "2022-08-17T20:12:41.731Z"
   },
   {
    "duration": 4,
    "start_time": "2022-08-17T20:12:46.851Z"
   },
   {
    "duration": 4,
    "start_time": "2022-08-17T20:12:53.908Z"
   },
   {
    "duration": 6,
    "start_time": "2022-08-17T20:13:02.029Z"
   },
   {
    "duration": 5,
    "start_time": "2022-08-17T20:14:52.192Z"
   },
   {
    "duration": 5,
    "start_time": "2022-08-17T20:14:59.178Z"
   },
   {
    "duration": 5,
    "start_time": "2022-08-17T20:15:29.025Z"
   },
   {
    "duration": 4,
    "start_time": "2022-08-17T20:15:35.475Z"
   },
   {
    "duration": 11,
    "start_time": "2022-08-17T20:15:45.202Z"
   },
   {
    "duration": 12,
    "start_time": "2022-08-17T20:16:10.334Z"
   },
   {
    "duration": 9,
    "start_time": "2022-08-17T20:16:16.777Z"
   },
   {
    "duration": 2,
    "start_time": "2022-08-17T20:16:24.951Z"
   },
   {
    "duration": 9,
    "start_time": "2022-08-17T20:16:27.573Z"
   },
   {
    "duration": 4,
    "start_time": "2022-08-17T20:16:31.797Z"
   },
   {
    "duration": 4,
    "start_time": "2022-08-17T20:16:37.125Z"
   },
   {
    "duration": 4,
    "start_time": "2022-08-17T20:16:50.290Z"
   },
   {
    "duration": 5345,
    "start_time": "2022-08-17T20:19:40.670Z"
   },
   {
    "duration": 5,
    "start_time": "2022-08-17T20:19:49.400Z"
   },
   {
    "duration": 5249,
    "start_time": "2022-08-17T20:19:52.458Z"
   },
   {
    "duration": 46,
    "start_time": "2022-08-18T06:31:53.511Z"
   },
   {
    "duration": 1594,
    "start_time": "2022-08-18T06:32:02.549Z"
   },
   {
    "duration": 1118,
    "start_time": "2022-08-18T06:32:04.145Z"
   },
   {
    "duration": 3,
    "start_time": "2022-08-18T06:32:05.265Z"
   },
   {
    "duration": 837,
    "start_time": "2022-08-18T06:32:05.270Z"
   },
   {
    "duration": 3,
    "start_time": "2022-08-18T06:32:06.110Z"
   },
   {
    "duration": 76,
    "start_time": "2022-08-18T06:32:06.115Z"
   },
   {
    "duration": 324,
    "start_time": "2022-08-18T06:32:06.192Z"
   },
   {
    "duration": 39,
    "start_time": "2022-08-18T06:32:06.518Z"
   },
   {
    "duration": 246,
    "start_time": "2022-08-18T06:32:06.560Z"
   },
   {
    "duration": 122,
    "start_time": "2022-08-18T06:32:06.808Z"
   },
   {
    "duration": 3,
    "start_time": "2022-08-18T06:32:06.931Z"
   },
   {
    "duration": 61,
    "start_time": "2022-08-18T06:32:06.936Z"
   },
   {
    "duration": 50,
    "start_time": "2022-08-18T06:32:06.999Z"
   },
   {
    "duration": 77,
    "start_time": "2022-08-18T06:32:07.051Z"
   },
   {
    "duration": 62,
    "start_time": "2022-08-18T06:32:07.129Z"
   },
   {
    "duration": 48,
    "start_time": "2022-08-18T06:32:07.193Z"
   },
   {
    "duration": 64,
    "start_time": "2022-08-18T06:32:07.243Z"
   },
   {
    "duration": 3,
    "start_time": "2022-08-18T06:32:07.308Z"
   },
   {
    "duration": 127,
    "start_time": "2022-08-18T06:32:07.313Z"
   },
   {
    "duration": 470,
    "start_time": "2022-08-18T06:32:07.441Z"
   },
   {
    "duration": 374,
    "start_time": "2022-08-18T06:32:07.913Z"
   },
   {
    "duration": 199,
    "start_time": "2022-08-18T06:32:08.288Z"
   },
   {
    "duration": 189,
    "start_time": "2022-08-18T06:32:08.489Z"
   },
   {
    "duration": 206,
    "start_time": "2022-08-18T06:32:45.028Z"
   },
   {
    "duration": 5,
    "start_time": "2022-08-18T06:36:14.763Z"
   },
   {
    "duration": 780,
    "start_time": "2022-08-18T06:36:14.770Z"
   },
   {
    "duration": 4,
    "start_time": "2022-08-18T06:36:15.552Z"
   },
   {
    "duration": 823,
    "start_time": "2022-08-18T06:36:15.558Z"
   },
   {
    "duration": 5,
    "start_time": "2022-08-18T06:36:16.383Z"
   },
   {
    "duration": 86,
    "start_time": "2022-08-18T06:36:16.390Z"
   },
   {
    "duration": 290,
    "start_time": "2022-08-18T06:36:16.479Z"
   },
   {
    "duration": 28,
    "start_time": "2022-08-18T06:36:16.770Z"
   },
   {
    "duration": 210,
    "start_time": "2022-08-18T06:36:16.800Z"
   },
   {
    "duration": 90,
    "start_time": "2022-08-18T06:36:17.011Z"
   },
   {
    "duration": 14,
    "start_time": "2022-08-18T06:36:17.105Z"
   },
   {
    "duration": 108,
    "start_time": "2022-08-18T06:36:17.121Z"
   },
   {
    "duration": 62,
    "start_time": "2022-08-18T06:36:17.230Z"
   },
   {
    "duration": 51,
    "start_time": "2022-08-18T06:36:17.294Z"
   },
   {
    "duration": 64,
    "start_time": "2022-08-18T06:36:17.346Z"
   },
   {
    "duration": 47,
    "start_time": "2022-08-18T06:36:17.412Z"
   },
   {
    "duration": 67,
    "start_time": "2022-08-18T06:36:17.461Z"
   },
   {
    "duration": 23,
    "start_time": "2022-08-18T06:36:17.529Z"
   },
   {
    "duration": 170,
    "start_time": "2022-08-18T06:36:17.554Z"
   },
   {
    "duration": 448,
    "start_time": "2022-08-18T06:36:17.726Z"
   },
   {
    "duration": 276,
    "start_time": "2022-08-18T06:36:18.176Z"
   },
   {
    "duration": 187,
    "start_time": "2022-08-18T06:36:18.453Z"
   },
   {
    "duration": 24,
    "start_time": "2022-08-18T06:36:18.642Z"
   },
   {
    "duration": 35,
    "start_time": "2022-08-18T06:36:18.668Z"
   },
   {
    "duration": 4,
    "start_time": "2022-08-18T06:36:18.705Z"
   },
   {
    "duration": 66,
    "start_time": "2022-08-18T06:36:18.711Z"
   },
   {
    "duration": 214,
    "start_time": "2022-08-18T06:36:24.166Z"
   },
   {
    "duration": 99,
    "start_time": "2022-08-18T07:14:35.479Z"
   },
   {
    "duration": 17,
    "start_time": "2022-08-18T07:14:45.504Z"
   },
   {
    "duration": 155,
    "start_time": "2022-08-18T07:16:12.933Z"
   },
   {
    "duration": 18,
    "start_time": "2022-08-18T07:16:29.935Z"
   },
   {
    "duration": 309,
    "start_time": "2022-08-18T07:21:00.631Z"
   },
   {
    "duration": 76,
    "start_time": "2022-08-18T07:26:46.804Z"
   },
   {
    "duration": 92,
    "start_time": "2022-08-18T07:27:00.804Z"
   },
   {
    "duration": 23,
    "start_time": "2022-08-18T07:27:06.209Z"
   },
   {
    "duration": 26,
    "start_time": "2022-08-18T07:28:12.071Z"
   },
   {
    "duration": 6,
    "start_time": "2022-08-18T07:29:15.439Z"
   },
   {
    "duration": 838,
    "start_time": "2022-08-18T07:29:15.447Z"
   },
   {
    "duration": 4,
    "start_time": "2022-08-18T07:29:16.287Z"
   },
   {
    "duration": 794,
    "start_time": "2022-08-18T07:29:16.293Z"
   },
   {
    "duration": 3,
    "start_time": "2022-08-18T07:29:17.089Z"
   },
   {
    "duration": 43,
    "start_time": "2022-08-18T07:29:17.094Z"
   },
   {
    "duration": 243,
    "start_time": "2022-08-18T07:29:17.138Z"
   },
   {
    "duration": 25,
    "start_time": "2022-08-18T07:29:17.383Z"
   },
   {
    "duration": 219,
    "start_time": "2022-08-18T07:29:17.410Z"
   },
   {
    "duration": 91,
    "start_time": "2022-08-18T07:29:17.631Z"
   },
   {
    "duration": 4,
    "start_time": "2022-08-18T07:29:17.724Z"
   },
   {
    "duration": 76,
    "start_time": "2022-08-18T07:29:17.729Z"
   },
   {
    "duration": 53,
    "start_time": "2022-08-18T07:29:17.808Z"
   },
   {
    "duration": 66,
    "start_time": "2022-08-18T07:29:17.863Z"
   },
   {
    "duration": 60,
    "start_time": "2022-08-18T07:29:17.931Z"
   },
   {
    "duration": 53,
    "start_time": "2022-08-18T07:29:17.993Z"
   },
   {
    "duration": 66,
    "start_time": "2022-08-18T07:29:18.048Z"
   },
   {
    "duration": 3,
    "start_time": "2022-08-18T07:29:18.115Z"
   },
   {
    "duration": 136,
    "start_time": "2022-08-18T07:29:18.120Z"
   },
   {
    "duration": 390,
    "start_time": "2022-08-18T07:29:18.258Z"
   },
   {
    "duration": 297,
    "start_time": "2022-08-18T07:29:18.650Z"
   },
   {
    "duration": 186,
    "start_time": "2022-08-18T07:29:18.949Z"
   },
   {
    "duration": 202,
    "start_time": "2022-08-18T07:30:34.755Z"
   },
   {
    "duration": 59,
    "start_time": "2022-08-18T07:31:15.771Z"
   },
   {
    "duration": 208,
    "start_time": "2022-08-18T07:31:24.409Z"
   },
   {
    "duration": 215,
    "start_time": "2022-08-18T07:31:38.541Z"
   },
   {
    "duration": 216,
    "start_time": "2022-08-18T07:31:56.699Z"
   },
   {
    "duration": 2621,
    "start_time": "2022-08-18T09:05:50.028Z"
   },
   {
    "duration": 1097,
    "start_time": "2022-08-18T09:05:52.651Z"
   },
   {
    "duration": 3,
    "start_time": "2022-08-18T09:05:53.750Z"
   },
   {
    "duration": 829,
    "start_time": "2022-08-18T09:05:53.755Z"
   },
   {
    "duration": 3,
    "start_time": "2022-08-18T09:05:54.587Z"
   },
   {
    "duration": 71,
    "start_time": "2022-08-18T09:05:54.591Z"
   },
   {
    "duration": 283,
    "start_time": "2022-08-18T09:05:54.663Z"
   },
   {
    "duration": 40,
    "start_time": "2022-08-18T09:05:54.947Z"
   },
   {
    "duration": 213,
    "start_time": "2022-08-18T09:05:54.989Z"
   },
   {
    "duration": 122,
    "start_time": "2022-08-18T09:05:55.204Z"
   },
   {
    "duration": 3,
    "start_time": "2022-08-18T09:05:55.327Z"
   },
   {
    "duration": 56,
    "start_time": "2022-08-18T09:05:55.331Z"
   },
   {
    "duration": 45,
    "start_time": "2022-08-18T09:05:55.388Z"
   },
   {
    "duration": 62,
    "start_time": "2022-08-18T09:05:55.434Z"
   },
   {
    "duration": 45,
    "start_time": "2022-08-18T09:05:55.498Z"
   },
   {
    "duration": 62,
    "start_time": "2022-08-18T09:05:55.545Z"
   },
   {
    "duration": 43,
    "start_time": "2022-08-18T09:05:55.609Z"
   },
   {
    "duration": 4,
    "start_time": "2022-08-18T09:05:55.654Z"
   },
   {
    "duration": 130,
    "start_time": "2022-08-18T09:05:55.659Z"
   },
   {
    "duration": 461,
    "start_time": "2022-08-18T09:05:55.791Z"
   },
   {
    "duration": 365,
    "start_time": "2022-08-18T09:05:56.255Z"
   },
   {
    "duration": 201,
    "start_time": "2022-08-18T09:06:04.021Z"
   },
   {
    "duration": 18,
    "start_time": "2022-08-18T09:32:35.386Z"
   },
   {
    "duration": 1318,
    "start_time": "2022-08-18T09:42:51.930Z"
   },
   {
    "duration": 4,
    "start_time": "2022-08-18T09:43:07.221Z"
   },
   {
    "duration": 907,
    "start_time": "2022-08-18T09:43:07.231Z"
   },
   {
    "duration": 4,
    "start_time": "2022-08-18T09:43:08.140Z"
   },
   {
    "duration": 881,
    "start_time": "2022-08-18T09:43:08.145Z"
   },
   {
    "duration": 4,
    "start_time": "2022-08-18T09:43:09.028Z"
   },
   {
    "duration": 54,
    "start_time": "2022-08-18T09:43:09.035Z"
   },
   {
    "duration": 272,
    "start_time": "2022-08-18T09:43:11.814Z"
   },
   {
    "duration": 32,
    "start_time": "2022-08-18T09:43:28.733Z"
   },
   {
    "duration": 5,
    "start_time": "2022-08-18T09:44:09.103Z"
   },
   {
    "duration": 16,
    "start_time": "2022-08-18T09:47:40.588Z"
   },
   {
    "duration": 6,
    "start_time": "2022-08-18T09:47:53.513Z"
   },
   {
    "duration": 5,
    "start_time": "2022-08-18T09:48:03.357Z"
   },
   {
    "duration": 36,
    "start_time": "2022-08-18T09:52:54.723Z"
   },
   {
    "duration": 4,
    "start_time": "2022-08-18T09:53:10.633Z"
   },
   {
    "duration": 5,
    "start_time": "2022-08-18T09:56:31.786Z"
   },
   {
    "duration": 33,
    "start_time": "2022-08-18T09:57:11.561Z"
   },
   {
    "duration": 10,
    "start_time": "2022-08-18T10:02:39.799Z"
   },
   {
    "duration": 36,
    "start_time": "2022-08-18T10:02:41.967Z"
   },
   {
    "duration": 4,
    "start_time": "2022-08-18T10:02:43.975Z"
   },
   {
    "duration": 26,
    "start_time": "2022-08-18T10:02:56.121Z"
   },
   {
    "duration": 25,
    "start_time": "2022-08-18T10:03:46.673Z"
   },
   {
    "duration": 46,
    "start_time": "2022-08-18T10:04:02.999Z"
   },
   {
    "duration": 36,
    "start_time": "2022-08-18T10:05:03.114Z"
   },
   {
    "duration": 4,
    "start_time": "2022-08-18T10:05:34.319Z"
   },
   {
    "duration": 80,
    "start_time": "2022-08-18T10:05:53.535Z"
   },
   {
    "duration": 234,
    "start_time": "2022-08-18T10:06:53.470Z"
   },
   {
    "duration": 222,
    "start_time": "2022-08-18T10:06:57.814Z"
   },
   {
    "duration": 223,
    "start_time": "2022-08-18T10:12:01.937Z"
   },
   {
    "duration": 608,
    "start_time": "2022-08-18T10:12:14.412Z"
   },
   {
    "duration": 4,
    "start_time": "2022-08-18T10:12:40.532Z"
   },
   {
    "duration": 805,
    "start_time": "2022-08-18T10:12:40.544Z"
   },
   {
    "duration": 4,
    "start_time": "2022-08-18T10:12:41.350Z"
   },
   {
    "duration": 815,
    "start_time": "2022-08-18T10:12:41.355Z"
   },
   {
    "duration": 3,
    "start_time": "2022-08-18T10:12:42.172Z"
   },
   {
    "duration": 46,
    "start_time": "2022-08-18T10:12:42.176Z"
   },
   {
    "duration": 263,
    "start_time": "2022-08-18T10:12:42.223Z"
   },
   {
    "duration": 7,
    "start_time": "2022-08-18T10:12:42.496Z"
   },
   {
    "duration": 42,
    "start_time": "2022-08-18T10:12:42.505Z"
   },
   {
    "duration": 209,
    "start_time": "2022-08-18T10:12:42.549Z"
   },
   {
    "duration": 99,
    "start_time": "2022-08-18T10:12:42.759Z"
   },
   {
    "duration": 3,
    "start_time": "2022-08-18T10:12:42.860Z"
   },
   {
    "duration": 71,
    "start_time": "2022-08-18T10:12:42.864Z"
   },
   {
    "duration": 56,
    "start_time": "2022-08-18T10:12:42.937Z"
   },
   {
    "duration": 58,
    "start_time": "2022-08-18T10:12:42.995Z"
   },
   {
    "duration": 67,
    "start_time": "2022-08-18T10:12:43.054Z"
   },
   {
    "duration": 46,
    "start_time": "2022-08-18T10:12:43.123Z"
   },
   {
    "duration": 71,
    "start_time": "2022-08-18T10:12:43.171Z"
   },
   {
    "duration": 3,
    "start_time": "2022-08-18T10:12:43.244Z"
   },
   {
    "duration": 140,
    "start_time": "2022-08-18T10:12:43.248Z"
   },
   {
    "duration": 393,
    "start_time": "2022-08-18T10:12:43.390Z"
   },
   {
    "duration": 419,
    "start_time": "2022-08-18T10:12:43.785Z"
   },
   {
    "duration": 213,
    "start_time": "2022-08-18T10:12:44.206Z"
   },
   {
    "duration": 19,
    "start_time": "2022-08-18T10:12:44.421Z"
   },
   {
    "duration": 3,
    "start_time": "2022-08-18T10:12:44.442Z"
   },
   {
    "duration": 51,
    "start_time": "2022-08-18T10:12:44.447Z"
   },
   {
    "duration": 22,
    "start_time": "2022-08-18T10:12:44.500Z"
   },
   {
    "duration": 3,
    "start_time": "2022-08-18T10:12:44.524Z"
   },
   {
    "duration": 75,
    "start_time": "2022-08-18T10:12:44.529Z"
   },
   {
    "duration": 205,
    "start_time": "2022-08-18T10:12:44.609Z"
   },
   {
    "duration": 422,
    "start_time": "2022-08-18T10:14:11.544Z"
   },
   {
    "duration": 91,
    "start_time": "2022-08-18T10:18:37.806Z"
   },
   {
    "duration": 5,
    "start_time": "2022-08-18T10:26:39.615Z"
   },
   {
    "duration": 850,
    "start_time": "2022-08-18T10:26:39.622Z"
   },
   {
    "duration": 4,
    "start_time": "2022-08-18T10:26:40.474Z"
   },
   {
    "duration": 847,
    "start_time": "2022-08-18T10:26:40.480Z"
   },
   {
    "duration": 3,
    "start_time": "2022-08-18T10:26:41.330Z"
   },
   {
    "duration": 63,
    "start_time": "2022-08-18T10:26:41.334Z"
   },
   {
    "duration": 278,
    "start_time": "2022-08-18T10:26:41.406Z"
   },
   {
    "duration": 10,
    "start_time": "2022-08-18T10:26:41.685Z"
   },
   {
    "duration": 50,
    "start_time": "2022-08-18T10:26:41.698Z"
   },
   {
    "duration": 208,
    "start_time": "2022-08-18T10:26:41.750Z"
   },
   {
    "duration": 105,
    "start_time": "2022-08-18T10:26:41.960Z"
   },
   {
    "duration": 3,
    "start_time": "2022-08-18T10:26:42.066Z"
   },
   {
    "duration": 82,
    "start_time": "2022-08-18T10:26:42.071Z"
   },
   {
    "duration": 81,
    "start_time": "2022-08-18T10:26:42.156Z"
   },
   {
    "duration": 76,
    "start_time": "2022-08-18T10:26:42.239Z"
   },
   {
    "duration": 49,
    "start_time": "2022-08-18T10:26:42.319Z"
   },
   {
    "duration": 73,
    "start_time": "2022-08-18T10:26:42.370Z"
   },
   {
    "duration": 69,
    "start_time": "2022-08-18T10:26:42.444Z"
   },
   {
    "duration": 3,
    "start_time": "2022-08-18T10:26:42.515Z"
   },
   {
    "duration": 139,
    "start_time": "2022-08-18T10:26:42.521Z"
   },
   {
    "duration": 417,
    "start_time": "2022-08-18T10:26:42.661Z"
   },
   {
    "duration": 319,
    "start_time": "2022-08-18T10:26:43.079Z"
   },
   {
    "duration": 241,
    "start_time": "2022-08-18T10:26:43.402Z"
   },
   {
    "duration": 20,
    "start_time": "2022-08-18T10:26:43.645Z"
   },
   {
    "duration": 5,
    "start_time": "2022-08-18T10:26:43.667Z"
   },
   {
    "duration": 39,
    "start_time": "2022-08-18T10:26:43.687Z"
   },
   {
    "duration": 21,
    "start_time": "2022-08-18T10:26:43.728Z"
   },
   {
    "duration": 3,
    "start_time": "2022-08-18T10:26:43.751Z"
   },
   {
    "duration": 82,
    "start_time": "2022-08-18T10:26:43.756Z"
   },
   {
    "duration": 233,
    "start_time": "2022-08-18T10:26:43.841Z"
   },
   {
    "duration": 388,
    "start_time": "2022-08-18T10:26:44.076Z"
   },
   {
    "duration": 462,
    "start_time": "2022-08-18T10:27:11.640Z"
   },
   {
    "duration": 22,
    "start_time": "2022-08-18T10:27:24.215Z"
   },
   {
    "duration": 31,
    "start_time": "2022-08-18T10:28:58.069Z"
   },
   {
    "duration": 26,
    "start_time": "2022-08-18T10:29:16.001Z"
   },
   {
    "duration": 5,
    "start_time": "2022-08-18T10:30:45.166Z"
   },
   {
    "duration": 720,
    "start_time": "2022-08-18T10:30:45.174Z"
   },
   {
    "duration": 4,
    "start_time": "2022-08-18T10:30:45.896Z"
   },
   {
    "duration": 786,
    "start_time": "2022-08-18T10:30:45.901Z"
   },
   {
    "duration": 3,
    "start_time": "2022-08-18T10:30:46.689Z"
   },
   {
    "duration": 80,
    "start_time": "2022-08-18T10:30:46.694Z"
   },
   {
    "duration": 287,
    "start_time": "2022-08-18T10:30:46.777Z"
   },
   {
    "duration": 5,
    "start_time": "2022-08-18T10:30:47.066Z"
   },
   {
    "duration": 29,
    "start_time": "2022-08-18T10:30:47.073Z"
   },
   {
    "duration": 210,
    "start_time": "2022-08-18T10:30:47.104Z"
   },
   {
    "duration": 78,
    "start_time": "2022-08-18T10:30:47.317Z"
   },
   {
    "duration": 17,
    "start_time": "2022-08-18T10:30:47.397Z"
   },
   {
    "duration": 63,
    "start_time": "2022-08-18T10:30:47.416Z"
   },
   {
    "duration": 44,
    "start_time": "2022-08-18T10:30:47.481Z"
   },
   {
    "duration": 61,
    "start_time": "2022-08-18T10:30:47.526Z"
   },
   {
    "duration": 54,
    "start_time": "2022-08-18T10:30:47.589Z"
   },
   {
    "duration": 60,
    "start_time": "2022-08-18T10:30:47.645Z"
   },
   {
    "duration": 44,
    "start_time": "2022-08-18T10:30:47.706Z"
   },
   {
    "duration": 2,
    "start_time": "2022-08-18T10:30:47.752Z"
   },
   {
    "duration": 138,
    "start_time": "2022-08-18T10:30:47.756Z"
   },
   {
    "duration": 358,
    "start_time": "2022-08-18T10:30:47.896Z"
   },
   {
    "duration": 268,
    "start_time": "2022-08-18T10:30:48.255Z"
   },
   {
    "duration": 191,
    "start_time": "2022-08-18T10:30:48.525Z"
   },
   {
    "duration": 19,
    "start_time": "2022-08-18T10:30:48.718Z"
   },
   {
    "duration": 3,
    "start_time": "2022-08-18T10:30:48.739Z"
   },
   {
    "duration": 24,
    "start_time": "2022-08-18T10:30:48.743Z"
   },
   {
    "duration": 20,
    "start_time": "2022-08-18T10:30:48.787Z"
   },
   {
    "duration": 4,
    "start_time": "2022-08-18T10:30:48.808Z"
   },
   {
    "duration": 52,
    "start_time": "2022-08-18T10:30:53.503Z"
   },
   {
    "duration": 180,
    "start_time": "2022-08-18T10:30:57.837Z"
   },
   {
    "duration": 369,
    "start_time": "2022-08-18T10:31:00.012Z"
   },
   {
    "duration": 273,
    "start_time": "2022-08-18T10:31:05.568Z"
   },
   {
    "duration": 22,
    "start_time": "2022-08-18T10:31:10.289Z"
   },
   {
    "duration": 22,
    "start_time": "2022-08-18T10:31:12.875Z"
   },
   {
    "duration": 4,
    "start_time": "2022-08-18T10:32:39.039Z"
   },
   {
    "duration": 5,
    "start_time": "2022-08-18T10:33:07.736Z"
   },
   {
    "duration": 11,
    "start_time": "2022-08-18T10:35:42.279Z"
   },
   {
    "duration": 10,
    "start_time": "2022-08-18T10:35:53.357Z"
   },
   {
    "duration": 5,
    "start_time": "2022-08-18T10:36:24.315Z"
   },
   {
    "duration": 13,
    "start_time": "2022-08-18T11:38:46.095Z"
   },
   {
    "duration": 29,
    "start_time": "2022-08-18T11:39:02.997Z"
   },
   {
    "duration": 28,
    "start_time": "2022-08-18T11:39:39.514Z"
   },
   {
    "duration": 25,
    "start_time": "2022-08-18T11:40:07.706Z"
   },
   {
    "duration": 4,
    "start_time": "2022-08-18T11:40:35.629Z"
   },
   {
    "duration": 45,
    "start_time": "2022-08-18T11:40:43.458Z"
   },
   {
    "duration": 204,
    "start_time": "2022-08-18T11:41:46.715Z"
   },
   {
    "duration": 358,
    "start_time": "2022-08-18T11:42:20.472Z"
   },
   {
    "duration": 295,
    "start_time": "2022-08-18T11:44:08.602Z"
   },
   {
    "duration": 21,
    "start_time": "2022-08-18T11:44:23.881Z"
   },
   {
    "duration": 23,
    "start_time": "2022-08-18T11:44:44.212Z"
   },
   {
    "duration": 5,
    "start_time": "2022-08-18T11:49:58.476Z"
   },
   {
    "duration": 14,
    "start_time": "2022-08-18T11:54:30.852Z"
   },
   {
    "duration": 4,
    "start_time": "2022-08-18T11:54:43.417Z"
   },
   {
    "duration": 816,
    "start_time": "2022-08-18T11:54:43.423Z"
   },
   {
    "duration": 3,
    "start_time": "2022-08-18T11:54:44.242Z"
   },
   {
    "duration": 885,
    "start_time": "2022-08-18T11:54:44.247Z"
   },
   {
    "duration": 3,
    "start_time": "2022-08-18T11:54:45.134Z"
   },
   {
    "duration": 47,
    "start_time": "2022-08-18T11:54:45.139Z"
   },
   {
    "duration": 233,
    "start_time": "2022-08-18T11:54:45.188Z"
   },
   {
    "duration": 5,
    "start_time": "2022-08-18T11:54:45.422Z"
   },
   {
    "duration": 23,
    "start_time": "2022-08-18T11:54:45.428Z"
   },
   {
    "duration": 206,
    "start_time": "2022-08-18T11:54:45.453Z"
   },
   {
    "duration": 81,
    "start_time": "2022-08-18T11:54:45.661Z"
   },
   {
    "duration": 3,
    "start_time": "2022-08-18T11:54:45.743Z"
   },
   {
    "duration": 64,
    "start_time": "2022-08-18T11:54:45.748Z"
   },
   {
    "duration": 45,
    "start_time": "2022-08-18T11:54:45.814Z"
   },
   {
    "duration": 63,
    "start_time": "2022-08-18T11:54:45.860Z"
   },
   {
    "duration": 46,
    "start_time": "2022-08-18T11:54:45.924Z"
   },
   {
    "duration": 72,
    "start_time": "2022-08-18T11:54:45.971Z"
   },
   {
    "duration": 64,
    "start_time": "2022-08-18T11:54:46.044Z"
   },
   {
    "duration": 3,
    "start_time": "2022-08-18T11:54:46.109Z"
   },
   {
    "duration": 126,
    "start_time": "2022-08-18T11:54:46.113Z"
   },
   {
    "duration": 461,
    "start_time": "2022-08-18T11:54:46.241Z"
   },
   {
    "duration": 287,
    "start_time": "2022-08-18T11:54:46.704Z"
   },
   {
    "duration": 199,
    "start_time": "2022-08-18T11:54:46.992Z"
   },
   {
    "duration": 20,
    "start_time": "2022-08-18T11:54:47.192Z"
   },
   {
    "duration": 4,
    "start_time": "2022-08-18T11:54:47.213Z"
   },
   {
    "duration": 21,
    "start_time": "2022-08-18T11:54:55.593Z"
   },
   {
    "duration": 5,
    "start_time": "2022-08-18T11:57:19.239Z"
   },
   {
    "duration": 749,
    "start_time": "2022-08-18T11:57:19.246Z"
   },
   {
    "duration": 3,
    "start_time": "2022-08-18T11:57:19.997Z"
   },
   {
    "duration": 723,
    "start_time": "2022-08-18T11:57:20.003Z"
   },
   {
    "duration": 3,
    "start_time": "2022-08-18T11:57:20.728Z"
   },
   {
    "duration": 72,
    "start_time": "2022-08-18T11:57:20.733Z"
   },
   {
    "duration": 231,
    "start_time": "2022-08-18T11:57:20.806Z"
   },
   {
    "duration": 6,
    "start_time": "2022-08-18T11:57:21.039Z"
   },
   {
    "duration": 41,
    "start_time": "2022-08-18T11:57:21.048Z"
   },
   {
    "duration": 209,
    "start_time": "2022-08-18T11:57:21.091Z"
   },
   {
    "duration": 85,
    "start_time": "2022-08-18T11:57:21.302Z"
   },
   {
    "duration": 3,
    "start_time": "2022-08-18T11:57:21.389Z"
   },
   {
    "duration": 51,
    "start_time": "2022-08-18T11:57:21.393Z"
   },
   {
    "duration": 62,
    "start_time": "2022-08-18T11:57:21.446Z"
   },
   {
    "duration": 50,
    "start_time": "2022-08-18T11:57:21.509Z"
   },
   {
    "duration": 66,
    "start_time": "2022-08-18T11:57:21.561Z"
   },
   {
    "duration": 60,
    "start_time": "2022-08-18T11:57:21.628Z"
   },
   {
    "duration": 47,
    "start_time": "2022-08-18T11:57:21.689Z"
   },
   {
    "duration": 3,
    "start_time": "2022-08-18T11:57:21.737Z"
   },
   {
    "duration": 153,
    "start_time": "2022-08-18T11:57:21.742Z"
   },
   {
    "duration": 385,
    "start_time": "2022-08-18T11:57:21.897Z"
   },
   {
    "duration": 283,
    "start_time": "2022-08-18T11:57:22.286Z"
   },
   {
    "duration": 202,
    "start_time": "2022-08-18T11:57:22.571Z"
   },
   {
    "duration": 27,
    "start_time": "2022-08-18T11:57:22.776Z"
   },
   {
    "duration": 3,
    "start_time": "2022-08-18T11:57:22.805Z"
   },
   {
    "duration": 26,
    "start_time": "2022-08-18T11:57:22.810Z"
   },
   {
    "duration": 23,
    "start_time": "2022-08-18T11:57:22.838Z"
   },
   {
    "duration": 39,
    "start_time": "2022-08-18T11:57:22.863Z"
   },
   {
    "duration": 4,
    "start_time": "2022-08-18T11:57:22.903Z"
   },
   {
    "duration": 53,
    "start_time": "2022-08-18T11:57:22.909Z"
   },
   {
    "duration": 216,
    "start_time": "2022-08-18T11:57:22.964Z"
   },
   {
    "duration": 321,
    "start_time": "2022-08-18T11:57:23.182Z"
   },
   {
    "duration": 432,
    "start_time": "2022-08-18T11:57:23.505Z"
   },
   {
    "duration": 23,
    "start_time": "2022-08-18T11:57:23.939Z"
   },
   {
    "duration": 38,
    "start_time": "2022-08-18T11:57:23.964Z"
   },
   {
    "duration": 5,
    "start_time": "2022-08-18T11:57:24.003Z"
   },
   {
    "duration": 21,
    "start_time": "2022-08-18T11:57:26.404Z"
   },
   {
    "duration": 23,
    "start_time": "2022-08-18T11:58:19.030Z"
   },
   {
    "duration": 360,
    "start_time": "2022-08-18T11:59:09.457Z"
   },
   {
    "duration": 20,
    "start_time": "2022-08-18T11:59:24.963Z"
   },
   {
    "duration": 28,
    "start_time": "2022-08-18T12:00:31.034Z"
   },
   {
    "duration": 68,
    "start_time": "2022-08-18T12:00:54.997Z"
   },
   {
    "duration": 4,
    "start_time": "2022-08-18T12:31:04.150Z"
   },
   {
    "duration": 775,
    "start_time": "2022-08-18T12:31:04.155Z"
   },
   {
    "duration": 3,
    "start_time": "2022-08-18T12:31:04.932Z"
   },
   {
    "duration": 722,
    "start_time": "2022-08-18T12:31:04.937Z"
   },
   {
    "duration": 3,
    "start_time": "2022-08-18T12:31:05.661Z"
   },
   {
    "duration": 77,
    "start_time": "2022-08-18T12:31:05.666Z"
   },
   {
    "duration": 252,
    "start_time": "2022-08-18T12:31:05.745Z"
   },
   {
    "duration": 5,
    "start_time": "2022-08-18T12:31:05.999Z"
   },
   {
    "duration": 33,
    "start_time": "2022-08-18T12:31:06.007Z"
   },
   {
    "duration": 244,
    "start_time": "2022-08-18T12:31:06.043Z"
   },
   {
    "duration": 124,
    "start_time": "2022-08-18T12:31:06.289Z"
   },
   {
    "duration": 4,
    "start_time": "2022-08-18T12:31:06.415Z"
   },
   {
    "duration": 70,
    "start_time": "2022-08-18T12:31:06.421Z"
   },
   {
    "duration": 45,
    "start_time": "2022-08-18T12:31:06.492Z"
   },
   {
    "duration": 70,
    "start_time": "2022-08-18T12:31:06.539Z"
   },
   {
    "duration": 55,
    "start_time": "2022-08-18T12:31:06.610Z"
   },
   {
    "duration": 69,
    "start_time": "2022-08-18T12:31:06.667Z"
   },
   {
    "duration": 51,
    "start_time": "2022-08-18T12:31:06.738Z"
   },
   {
    "duration": 2,
    "start_time": "2022-08-18T12:31:06.791Z"
   },
   {
    "duration": 120,
    "start_time": "2022-08-18T12:31:06.795Z"
   },
   {
    "duration": 420,
    "start_time": "2022-08-18T12:31:06.916Z"
   },
   {
    "duration": 282,
    "start_time": "2022-08-18T12:31:07.338Z"
   },
   {
    "duration": 204,
    "start_time": "2022-08-18T12:31:07.623Z"
   },
   {
    "duration": 20,
    "start_time": "2022-08-18T12:31:07.831Z"
   },
   {
    "duration": 3,
    "start_time": "2022-08-18T12:31:07.853Z"
   },
   {
    "duration": 38,
    "start_time": "2022-08-18T12:31:07.858Z"
   },
   {
    "duration": 26,
    "start_time": "2022-08-18T12:31:07.897Z"
   },
   {
    "duration": 25,
    "start_time": "2022-08-18T12:31:07.925Z"
   },
   {
    "duration": 4,
    "start_time": "2022-08-18T12:31:07.952Z"
   },
   {
    "duration": 78,
    "start_time": "2022-08-18T12:31:07.957Z"
   },
   {
    "duration": 236,
    "start_time": "2022-08-18T12:31:08.037Z"
   },
   {
    "duration": 346,
    "start_time": "2022-08-18T12:31:08.275Z"
   },
   {
    "duration": 301,
    "start_time": "2022-08-18T12:31:08.623Z"
   },
   {
    "duration": 24,
    "start_time": "2022-08-18T12:31:08.925Z"
   },
   {
    "duration": 38,
    "start_time": "2022-08-18T12:31:08.951Z"
   },
   {
    "duration": 4,
    "start_time": "2022-08-18T12:31:08.990Z"
   },
   {
    "duration": 64,
    "start_time": "2022-08-18T12:31:08.996Z"
   },
   {
    "duration": 4,
    "start_time": "2022-08-18T12:31:09.061Z"
   },
   {
    "duration": 955,
    "start_time": "2022-08-18T12:31:09.066Z"
   },
   {
    "duration": 7,
    "start_time": "2022-08-18T12:31:10.023Z"
   },
   {
    "duration": 53,
    "start_time": "2022-08-18T12:31:10.032Z"
   },
   {
    "duration": 3,
    "start_time": "2022-08-18T12:31:10.087Z"
   },
   {
    "duration": 18,
    "start_time": "2022-08-18T12:31:10.091Z"
   },
   {
    "duration": 0,
    "start_time": "2022-08-18T12:31:10.111Z"
   },
   {
    "duration": 0,
    "start_time": "2022-08-18T12:31:10.111Z"
   },
   {
    "duration": 0,
    "start_time": "2022-08-18T12:31:10.112Z"
   },
   {
    "duration": 0,
    "start_time": "2022-08-18T12:31:10.113Z"
   },
   {
    "duration": 0,
    "start_time": "2022-08-18T12:31:10.115Z"
   },
   {
    "duration": 0,
    "start_time": "2022-08-18T12:31:10.116Z"
   },
   {
    "duration": 0,
    "start_time": "2022-08-18T12:31:10.117Z"
   },
   {
    "duration": 0,
    "start_time": "2022-08-18T12:31:10.118Z"
   },
   {
    "duration": 0,
    "start_time": "2022-08-18T12:31:10.119Z"
   },
   {
    "duration": 0,
    "start_time": "2022-08-18T12:31:10.120Z"
   },
   {
    "duration": 0,
    "start_time": "2022-08-18T12:31:10.120Z"
   },
   {
    "duration": 0,
    "start_time": "2022-08-18T12:31:10.121Z"
   },
   {
    "duration": 0,
    "start_time": "2022-08-18T12:31:10.123Z"
   },
   {
    "duration": 0,
    "start_time": "2022-08-18T12:31:10.123Z"
   },
   {
    "duration": 0,
    "start_time": "2022-08-18T12:31:10.124Z"
   },
   {
    "duration": 0,
    "start_time": "2022-08-18T12:31:10.125Z"
   },
   {
    "duration": 0,
    "start_time": "2022-08-18T12:31:10.126Z"
   },
   {
    "duration": 0,
    "start_time": "2022-08-18T12:31:10.127Z"
   },
   {
    "duration": 137,
    "start_time": "2022-08-18T12:38:26.655Z"
   },
   {
    "duration": 145,
    "start_time": "2022-08-18T12:38:30.611Z"
   },
   {
    "duration": 4916568,
    "start_time": "2022-08-18T12:38:30.758Z"
   },
   {
    "duration": 0,
    "start_time": "2022-08-18T14:00:27.330Z"
   },
   {
    "duration": 0,
    "start_time": "2022-08-18T14:00:27.331Z"
   },
   {
    "duration": 0,
    "start_time": "2022-08-18T14:00:27.333Z"
   },
   {
    "duration": 0,
    "start_time": "2022-08-18T14:00:27.334Z"
   },
   {
    "duration": 0,
    "start_time": "2022-08-18T14:00:27.336Z"
   },
   {
    "duration": 0,
    "start_time": "2022-08-18T14:00:27.337Z"
   },
   {
    "duration": 0,
    "start_time": "2022-08-18T14:00:27.339Z"
   },
   {
    "duration": 0,
    "start_time": "2022-08-18T14:00:27.340Z"
   },
   {
    "duration": 0,
    "start_time": "2022-08-18T14:00:27.343Z"
   },
   {
    "duration": 0,
    "start_time": "2022-08-18T14:00:27.344Z"
   },
   {
    "duration": 0,
    "start_time": "2022-08-18T14:00:27.346Z"
   },
   {
    "duration": 0,
    "start_time": "2022-08-18T14:00:27.347Z"
   },
   {
    "duration": 0,
    "start_time": "2022-08-18T14:00:27.349Z"
   },
   {
    "duration": 0,
    "start_time": "2022-08-18T14:00:27.350Z"
   },
   {
    "duration": 5,
    "start_time": "2022-08-18T14:01:35.957Z"
   },
   {
    "duration": 968,
    "start_time": "2022-08-18T14:01:35.965Z"
   },
   {
    "duration": 3,
    "start_time": "2022-08-18T14:01:36.935Z"
   },
   {
    "duration": 885,
    "start_time": "2022-08-18T14:01:36.940Z"
   },
   {
    "duration": 4,
    "start_time": "2022-08-18T14:01:37.828Z"
   },
   {
    "duration": 89,
    "start_time": "2022-08-18T14:01:37.833Z"
   },
   {
    "duration": 299,
    "start_time": "2022-08-18T14:01:37.925Z"
   },
   {
    "duration": 6,
    "start_time": "2022-08-18T14:01:38.226Z"
   },
   {
    "duration": 26,
    "start_time": "2022-08-18T14:01:38.234Z"
   },
   {
    "duration": 245,
    "start_time": "2022-08-18T14:01:38.262Z"
   },
   {
    "duration": 93,
    "start_time": "2022-08-18T14:01:38.509Z"
   },
   {
    "duration": 4,
    "start_time": "2022-08-18T14:01:38.606Z"
   },
   {
    "duration": 71,
    "start_time": "2022-08-18T14:01:38.611Z"
   },
   {
    "duration": 70,
    "start_time": "2022-08-18T14:01:38.688Z"
   },
   {
    "duration": 65,
    "start_time": "2022-08-18T14:01:38.760Z"
   },
   {
    "duration": 84,
    "start_time": "2022-08-18T14:01:38.827Z"
   },
   {
    "duration": 52,
    "start_time": "2022-08-18T14:01:38.913Z"
   },
   {
    "duration": 72,
    "start_time": "2022-08-18T14:01:38.966Z"
   },
   {
    "duration": 3,
    "start_time": "2022-08-18T14:01:39.040Z"
   },
   {
    "duration": 149,
    "start_time": "2022-08-18T14:01:39.045Z"
   },
   {
    "duration": 404,
    "start_time": "2022-08-18T14:01:39.195Z"
   },
   {
    "duration": 478,
    "start_time": "2022-08-18T14:01:39.601Z"
   },
   {
    "duration": 265,
    "start_time": "2022-08-18T14:01:40.081Z"
   },
   {
    "duration": 21,
    "start_time": "2022-08-18T14:01:40.349Z"
   },
   {
    "duration": 37,
    "start_time": "2022-08-18T14:01:40.372Z"
   },
   {
    "duration": 29,
    "start_time": "2022-08-18T14:01:40.411Z"
   },
   {
    "duration": 25,
    "start_time": "2022-08-18T14:01:40.441Z"
   },
   {
    "duration": 39,
    "start_time": "2022-08-18T14:01:40.468Z"
   },
   {
    "duration": 10,
    "start_time": "2022-08-18T14:01:40.509Z"
   },
   {
    "duration": 81,
    "start_time": "2022-08-18T14:01:40.521Z"
   },
   {
    "duration": 219,
    "start_time": "2022-08-18T14:01:40.606Z"
   },
   {
    "duration": 399,
    "start_time": "2022-08-18T14:01:40.827Z"
   },
   {
    "duration": 338,
    "start_time": "2022-08-18T14:01:41.228Z"
   },
   {
    "duration": 39,
    "start_time": "2022-08-18T14:01:41.568Z"
   },
   {
    "duration": 27,
    "start_time": "2022-08-18T14:01:41.609Z"
   },
   {
    "duration": 8,
    "start_time": "2022-08-18T14:01:41.639Z"
   },
   {
    "duration": 81,
    "start_time": "2022-08-18T14:01:41.648Z"
   },
   {
    "duration": 3,
    "start_time": "2022-08-18T14:01:41.731Z"
   },
   {
    "duration": 1083,
    "start_time": "2022-08-18T14:01:41.736Z"
   },
   {
    "duration": 8,
    "start_time": "2022-08-18T14:01:42.820Z"
   },
   {
    "duration": 36,
    "start_time": "2022-08-18T14:01:42.832Z"
   },
   {
    "duration": 28,
    "start_time": "2022-08-18T14:01:42.869Z"
   },
   {
    "duration": 192,
    "start_time": "2022-08-18T14:01:42.898Z"
   },
   {
    "duration": 13125219,
    "start_time": "2022-08-18T14:01:43.095Z"
   },
   {
    "duration": 0,
    "start_time": "2022-08-18T17:40:28.316Z"
   },
   {
    "duration": 0,
    "start_time": "2022-08-18T17:40:28.317Z"
   },
   {
    "duration": 0,
    "start_time": "2022-08-18T17:40:28.318Z"
   },
   {
    "duration": 0,
    "start_time": "2022-08-18T17:40:28.319Z"
   },
   {
    "duration": 0,
    "start_time": "2022-08-18T17:40:28.320Z"
   },
   {
    "duration": 0,
    "start_time": "2022-08-18T17:40:28.321Z"
   },
   {
    "duration": 0,
    "start_time": "2022-08-18T17:40:28.322Z"
   },
   {
    "duration": 0,
    "start_time": "2022-08-18T17:40:28.323Z"
   },
   {
    "duration": 0,
    "start_time": "2022-08-18T17:40:28.324Z"
   },
   {
    "duration": 0,
    "start_time": "2022-08-18T17:40:28.325Z"
   },
   {
    "duration": 0,
    "start_time": "2022-08-18T17:40:28.326Z"
   },
   {
    "duration": 0,
    "start_time": "2022-08-18T17:40:28.327Z"
   },
   {
    "duration": 0,
    "start_time": "2022-08-18T17:40:28.328Z"
   },
   {
    "duration": 0,
    "start_time": "2022-08-18T17:40:28.329Z"
   },
   {
    "duration": 0,
    "start_time": "2022-08-18T17:40:28.330Z"
   },
   {
    "duration": 0,
    "start_time": "2022-08-18T17:40:28.331Z"
   },
   {
    "duration": 0,
    "start_time": "2022-08-18T17:40:28.332Z"
   },
   {
    "duration": 6,
    "start_time": "2022-08-18T17:44:30.232Z"
   },
   {
    "duration": 945,
    "start_time": "2022-08-18T17:44:30.241Z"
   },
   {
    "duration": 7,
    "start_time": "2022-08-18T17:44:31.193Z"
   },
   {
    "duration": 868,
    "start_time": "2022-08-18T17:44:31.206Z"
   },
   {
    "duration": 11,
    "start_time": "2022-08-18T17:44:32.076Z"
   },
   {
    "duration": 61,
    "start_time": "2022-08-18T17:44:32.092Z"
   },
   {
    "duration": 266,
    "start_time": "2022-08-18T17:44:32.155Z"
   },
   {
    "duration": 5,
    "start_time": "2022-08-18T17:44:32.425Z"
   },
   {
    "duration": 75,
    "start_time": "2022-08-18T17:44:32.431Z"
   },
   {
    "duration": 234,
    "start_time": "2022-08-18T17:44:32.507Z"
   },
   {
    "duration": 102,
    "start_time": "2022-08-18T17:44:32.743Z"
   },
   {
    "duration": 17,
    "start_time": "2022-08-18T17:44:32.847Z"
   },
   {
    "duration": 72,
    "start_time": "2022-08-18T17:44:32.865Z"
   },
   {
    "duration": 60,
    "start_time": "2022-08-18T17:44:32.940Z"
   },
   {
    "duration": 53,
    "start_time": "2022-08-18T17:44:33.008Z"
   },
   {
    "duration": 62,
    "start_time": "2022-08-18T17:44:33.063Z"
   },
   {
    "duration": 72,
    "start_time": "2022-08-18T17:44:33.127Z"
   },
   {
    "duration": 51,
    "start_time": "2022-08-18T17:44:33.207Z"
   },
   {
    "duration": 3,
    "start_time": "2022-08-18T17:44:33.259Z"
   },
   {
    "duration": 138,
    "start_time": "2022-08-18T17:44:33.263Z"
   },
   {
    "duration": 375,
    "start_time": "2022-08-18T17:44:33.402Z"
   },
   {
    "duration": 315,
    "start_time": "2022-08-18T17:44:33.779Z"
   },
   {
    "duration": 207,
    "start_time": "2022-08-18T17:44:34.102Z"
   },
   {
    "duration": 22,
    "start_time": "2022-08-18T17:44:34.311Z"
   },
   {
    "duration": 4,
    "start_time": "2022-08-18T17:44:34.335Z"
   },
   {
    "duration": 39,
    "start_time": "2022-08-18T17:44:34.341Z"
   },
   {
    "duration": 29,
    "start_time": "2022-08-18T17:44:34.381Z"
   },
   {
    "duration": 42,
    "start_time": "2022-08-18T17:44:34.412Z"
   },
   {
    "duration": 4,
    "start_time": "2022-08-18T17:44:34.456Z"
   },
   {
    "duration": 69,
    "start_time": "2022-08-18T17:44:34.461Z"
   },
   {
    "duration": 211,
    "start_time": "2022-08-18T17:44:34.532Z"
   },
   {
    "duration": 346,
    "start_time": "2022-08-18T17:44:34.745Z"
   },
   {
    "duration": 342,
    "start_time": "2022-08-18T17:44:35.095Z"
   },
   {
    "duration": 23,
    "start_time": "2022-08-18T17:44:35.439Z"
   },
   {
    "duration": 43,
    "start_time": "2022-08-18T17:44:35.463Z"
   },
   {
    "duration": 8,
    "start_time": "2022-08-18T17:44:35.507Z"
   },
   {
    "duration": 89,
    "start_time": "2022-08-18T17:44:35.521Z"
   },
   {
    "duration": 6,
    "start_time": "2022-08-18T17:44:35.611Z"
   },
   {
    "duration": 1155,
    "start_time": "2022-08-18T17:44:35.619Z"
   },
   {
    "duration": 6,
    "start_time": "2022-08-18T17:44:36.775Z"
   },
   {
    "duration": 38,
    "start_time": "2022-08-18T17:44:36.786Z"
   },
   {
    "duration": 3,
    "start_time": "2022-08-18T17:44:36.826Z"
   },
   {
    "duration": 157,
    "start_time": "2022-08-18T17:44:36.830Z"
   },
   {
    "duration": 4855417,
    "start_time": "2022-08-18T17:44:36.989Z"
   },
   {
    "duration": 6,
    "start_time": "2022-08-18T19:05:32.412Z"
   },
   {
    "duration": 8,
    "start_time": "2022-08-18T19:05:32.419Z"
   },
   {
    "duration": 17,
    "start_time": "2022-08-18T19:05:32.428Z"
   },
   {
    "duration": 32676,
    "start_time": "2022-08-18T19:05:32.446Z"
   },
   {
    "duration": 70,
    "start_time": "2022-08-18T19:06:05.123Z"
   },
   {
    "duration": 893,
    "start_time": "2022-08-18T19:06:05.194Z"
   },
   {
    "duration": 12,
    "start_time": "2022-08-18T19:06:06.089Z"
   },
   {
    "duration": 17757,
    "start_time": "2022-08-18T19:06:06.189Z"
   },
   {
    "duration": 4,
    "start_time": "2022-08-18T19:06:23.948Z"
   },
   {
    "duration": 10,
    "start_time": "2022-08-18T19:06:23.953Z"
   },
   {
    "duration": 8,
    "start_time": "2022-08-18T19:06:23.964Z"
   },
   {
    "duration": 357,
    "start_time": "2022-08-18T19:06:23.974Z"
   },
   {
    "duration": 4,
    "start_time": "2022-08-18T19:06:24.333Z"
   },
   {
    "duration": 15,
    "start_time": "2022-08-18T19:06:24.338Z"
   },
   {
    "duration": 155,
    "start_time": "2022-08-18T19:06:24.354Z"
   },
   {
    "duration": 0,
    "start_time": "2022-08-18T19:06:24.510Z"
   },
   {
    "duration": 0,
    "start_time": "2022-08-18T19:06:24.512Z"
   },
   {
    "duration": 111,
    "start_time": "2022-08-18T19:55:04.283Z"
   },
   {
    "duration": 4,
    "start_time": "2022-08-18T19:55:07.110Z"
   },
   {
    "duration": 17695,
    "start_time": "2022-08-18T19:55:12.610Z"
   },
   {
    "duration": 5,
    "start_time": "2022-08-18T19:55:34.878Z"
   },
   {
    "duration": 2,
    "start_time": "2022-08-18T19:55:37.318Z"
   },
   {
    "duration": 7,
    "start_time": "2022-08-18T19:55:39.003Z"
   },
   {
    "duration": 337,
    "start_time": "2022-08-18T19:55:41.279Z"
   },
   {
    "duration": 4,
    "start_time": "2022-08-18T19:55:43.930Z"
   },
   {
    "duration": 10,
    "start_time": "2022-08-18T19:55:48.437Z"
   },
   {
    "duration": 529,
    "start_time": "2022-08-18T19:55:52.609Z"
   },
   {
    "duration": 354919,
    "start_time": "2022-08-18T19:56:23.914Z"
   },
   {
    "duration": 3,
    "start_time": "2022-08-18T20:18:06.543Z"
   },
   {
    "duration": 51,
    "start_time": "2022-08-18T20:48:09.864Z"
   },
   {
    "duration": 72,
    "start_time": "2022-08-18T20:48:09.918Z"
   },
   {
    "duration": 17062,
    "start_time": "2022-08-18T20:48:09.992Z"
   },
   {
    "duration": 4,
    "start_time": "2022-08-18T20:48:27.056Z"
   },
   {
    "duration": 6,
    "start_time": "2022-08-18T20:48:27.062Z"
   },
   {
    "duration": 17,
    "start_time": "2022-08-18T20:48:27.070Z"
   },
   {
    "duration": 358,
    "start_time": "2022-08-18T20:48:27.088Z"
   },
   {
    "duration": 4,
    "start_time": "2022-08-18T20:48:27.448Z"
   },
   {
    "duration": 14,
    "start_time": "2022-08-18T20:48:27.453Z"
   },
   {
    "duration": 399,
    "start_time": "2022-08-18T20:48:27.468Z"
   },
   {
    "duration": 5230,
    "start_time": "2022-08-18T20:48:27.869Z"
   },
   {
    "duration": 3,
    "start_time": "2022-08-18T20:48:33.101Z"
   },
   {
    "duration": 93,
    "start_time": "2022-08-19T08:15:48.354Z"
   },
   {
    "duration": 1604,
    "start_time": "2022-08-19T09:34:59.902Z"
   },
   {
    "duration": 1081,
    "start_time": "2022-08-19T09:35:01.508Z"
   },
   {
    "duration": 3,
    "start_time": "2022-08-19T09:35:02.591Z"
   },
   {
    "duration": 769,
    "start_time": "2022-08-19T09:35:02.597Z"
   },
   {
    "duration": 4,
    "start_time": "2022-08-19T09:35:03.368Z"
   },
   {
    "duration": 67,
    "start_time": "2022-08-19T09:35:03.374Z"
   },
   {
    "duration": 264,
    "start_time": "2022-08-19T09:35:03.443Z"
   },
   {
    "duration": 5,
    "start_time": "2022-08-19T09:35:03.710Z"
   },
   {
    "duration": 33,
    "start_time": "2022-08-19T09:35:03.717Z"
   },
   {
    "duration": 226,
    "start_time": "2022-08-19T09:35:03.753Z"
   },
   {
    "duration": 125,
    "start_time": "2022-08-19T09:35:03.981Z"
   },
   {
    "duration": 3,
    "start_time": "2022-08-19T09:35:04.107Z"
   },
   {
    "duration": 52,
    "start_time": "2022-08-19T09:35:04.111Z"
   },
   {
    "duration": 53,
    "start_time": "2022-08-19T09:35:04.164Z"
   },
   {
    "duration": 45,
    "start_time": "2022-08-19T09:35:04.219Z"
   },
   {
    "duration": 61,
    "start_time": "2022-08-19T09:35:04.266Z"
   },
   {
    "duration": 45,
    "start_time": "2022-08-19T09:35:04.328Z"
   },
   {
    "duration": 73,
    "start_time": "2022-08-19T09:35:04.374Z"
   },
   {
    "duration": 3,
    "start_time": "2022-08-19T09:35:04.450Z"
   },
   {
    "duration": 146,
    "start_time": "2022-08-19T09:35:04.454Z"
   },
   {
    "duration": 487,
    "start_time": "2022-08-19T09:35:04.602Z"
   },
   {
    "duration": 351,
    "start_time": "2022-08-19T09:35:05.091Z"
   },
   {
    "duration": 204,
    "start_time": "2022-08-19T09:35:05.445Z"
   },
   {
    "duration": 20,
    "start_time": "2022-08-19T09:35:05.651Z"
   },
   {
    "duration": 5,
    "start_time": "2022-08-19T09:35:05.672Z"
   },
   {
    "duration": 38,
    "start_time": "2022-08-19T09:35:05.679Z"
   },
   {
    "duration": 27,
    "start_time": "2022-08-19T09:35:05.719Z"
   },
   {
    "duration": 56,
    "start_time": "2022-08-19T09:35:05.751Z"
   },
   {
    "duration": 4,
    "start_time": "2022-08-19T09:35:05.808Z"
   },
   {
    "duration": 59,
    "start_time": "2022-08-19T09:35:05.813Z"
   },
   {
    "duration": 236,
    "start_time": "2022-08-19T09:35:05.874Z"
   },
   {
    "duration": 311,
    "start_time": "2022-08-19T09:35:06.112Z"
   },
   {
    "duration": 291,
    "start_time": "2022-08-19T09:35:06.424Z"
   },
   {
    "duration": 24,
    "start_time": "2022-08-19T09:35:06.716Z"
   },
   {
    "duration": 136,
    "start_time": "2022-08-19T09:35:06.741Z"
   },
   {
    "duration": 0,
    "start_time": "2022-08-19T09:35:06.879Z"
   },
   {
    "duration": 0,
    "start_time": "2022-08-19T09:35:06.881Z"
   },
   {
    "duration": 0,
    "start_time": "2022-08-19T09:35:06.882Z"
   },
   {
    "duration": 0,
    "start_time": "2022-08-19T09:35:06.884Z"
   },
   {
    "duration": 0,
    "start_time": "2022-08-19T09:35:06.899Z"
   },
   {
    "duration": 0,
    "start_time": "2022-08-19T09:35:06.900Z"
   },
   {
    "duration": 0,
    "start_time": "2022-08-19T09:35:06.901Z"
   },
   {
    "duration": 0,
    "start_time": "2022-08-19T09:35:06.903Z"
   },
   {
    "duration": 0,
    "start_time": "2022-08-19T09:35:06.904Z"
   },
   {
    "duration": 0,
    "start_time": "2022-08-19T09:35:06.906Z"
   },
   {
    "duration": 0,
    "start_time": "2022-08-19T09:35:06.907Z"
   },
   {
    "duration": 0,
    "start_time": "2022-08-19T09:35:06.909Z"
   },
   {
    "duration": 0,
    "start_time": "2022-08-19T09:35:06.910Z"
   },
   {
    "duration": 0,
    "start_time": "2022-08-19T09:35:06.911Z"
   },
   {
    "duration": 5,
    "start_time": "2022-08-19T09:40:00.383Z"
   },
   {
    "duration": 747,
    "start_time": "2022-08-19T09:40:00.398Z"
   },
   {
    "duration": 4,
    "start_time": "2022-08-19T09:40:01.146Z"
   },
   {
    "duration": 748,
    "start_time": "2022-08-19T09:40:01.151Z"
   },
   {
    "duration": 3,
    "start_time": "2022-08-19T09:40:01.900Z"
   },
   {
    "duration": 37,
    "start_time": "2022-08-19T09:40:01.906Z"
   },
   {
    "duration": 263,
    "start_time": "2022-08-19T09:40:01.944Z"
   },
   {
    "duration": 5,
    "start_time": "2022-08-19T09:40:02.209Z"
   },
   {
    "duration": 33,
    "start_time": "2022-08-19T09:40:02.215Z"
   },
   {
    "duration": 187,
    "start_time": "2022-08-19T09:40:02.249Z"
   },
   {
    "duration": 73,
    "start_time": "2022-08-19T09:40:02.438Z"
   },
   {
    "duration": 3,
    "start_time": "2022-08-19T09:40:02.512Z"
   },
   {
    "duration": 49,
    "start_time": "2022-08-19T09:40:02.517Z"
   },
   {
    "duration": 57,
    "start_time": "2022-08-19T09:40:02.567Z"
   },
   {
    "duration": 54,
    "start_time": "2022-08-19T09:40:02.627Z"
   },
   {
    "duration": 64,
    "start_time": "2022-08-19T09:40:02.683Z"
   },
   {
    "duration": 77,
    "start_time": "2022-08-19T09:40:02.749Z"
   },
   {
    "duration": 44,
    "start_time": "2022-08-19T09:40:02.827Z"
   },
   {
    "duration": 2,
    "start_time": "2022-08-19T09:40:02.873Z"
   },
   {
    "duration": 133,
    "start_time": "2022-08-19T09:40:02.877Z"
   },
   {
    "duration": 385,
    "start_time": "2022-08-19T09:40:03.013Z"
   },
   {
    "duration": 261,
    "start_time": "2022-08-19T09:40:03.400Z"
   },
   {
    "duration": 191,
    "start_time": "2022-08-19T09:40:03.662Z"
   },
   {
    "duration": 20,
    "start_time": "2022-08-19T09:40:03.854Z"
   },
   {
    "duration": 5,
    "start_time": "2022-08-19T09:40:03.876Z"
   },
   {
    "duration": 23,
    "start_time": "2022-08-19T09:40:03.899Z"
   },
   {
    "duration": 26,
    "start_time": "2022-08-19T09:40:03.923Z"
   },
   {
    "duration": 49,
    "start_time": "2022-08-19T09:40:03.951Z"
   },
   {
    "duration": 3,
    "start_time": "2022-08-19T09:40:04.002Z"
   },
   {
    "duration": 196,
    "start_time": "2022-08-19T09:40:04.007Z"
   },
   {
    "duration": 201,
    "start_time": "2022-08-19T09:40:04.204Z"
   },
   {
    "duration": 379,
    "start_time": "2022-08-19T09:40:04.407Z"
   },
   {
    "duration": 342,
    "start_time": "2022-08-19T09:40:04.788Z"
   },
   {
    "duration": 24,
    "start_time": "2022-08-19T09:40:05.131Z"
   },
   {
    "duration": 11,
    "start_time": "2022-08-19T09:40:05.158Z"
   },
   {
    "duration": 0,
    "start_time": "2022-08-19T09:40:05.172Z"
   },
   {
    "duration": 0,
    "start_time": "2022-08-19T09:40:05.198Z"
   },
   {
    "duration": 0,
    "start_time": "2022-08-19T09:40:05.199Z"
   },
   {
    "duration": 0,
    "start_time": "2022-08-19T09:40:05.201Z"
   },
   {
    "duration": 0,
    "start_time": "2022-08-19T09:40:05.202Z"
   },
   {
    "duration": 0,
    "start_time": "2022-08-19T09:40:05.204Z"
   },
   {
    "duration": 0,
    "start_time": "2022-08-19T09:40:05.205Z"
   },
   {
    "duration": 0,
    "start_time": "2022-08-19T09:40:05.205Z"
   },
   {
    "duration": 0,
    "start_time": "2022-08-19T09:40:05.207Z"
   },
   {
    "duration": 0,
    "start_time": "2022-08-19T09:40:05.208Z"
   },
   {
    "duration": 0,
    "start_time": "2022-08-19T09:40:05.209Z"
   },
   {
    "duration": 0,
    "start_time": "2022-08-19T09:40:05.210Z"
   },
   {
    "duration": 0,
    "start_time": "2022-08-19T09:40:05.211Z"
   },
   {
    "duration": 0,
    "start_time": "2022-08-19T09:40:05.212Z"
   },
   {
    "duration": 0,
    "start_time": "2022-08-19T09:40:05.213Z"
   },
   {
    "duration": 0,
    "start_time": "2022-08-19T09:40:05.214Z"
   },
   {
    "duration": 0,
    "start_time": "2022-08-19T09:40:05.215Z"
   },
   {
    "duration": 0,
    "start_time": "2022-08-19T09:40:05.216Z"
   },
   {
    "duration": 0,
    "start_time": "2022-08-19T09:40:05.217Z"
   },
   {
    "duration": 0,
    "start_time": "2022-08-19T09:40:05.218Z"
   },
   {
    "duration": 0,
    "start_time": "2022-08-19T09:40:05.219Z"
   },
   {
    "duration": 0,
    "start_time": "2022-08-19T09:40:05.220Z"
   },
   {
    "duration": 0,
    "start_time": "2022-08-19T09:40:05.221Z"
   },
   {
    "duration": 0,
    "start_time": "2022-08-19T09:40:05.222Z"
   },
   {
    "duration": 0,
    "start_time": "2022-08-19T09:40:05.223Z"
   },
   {
    "duration": 0,
    "start_time": "2022-08-19T09:40:05.224Z"
   },
   {
    "duration": 10,
    "start_time": "2022-08-19T09:40:58.520Z"
   },
   {
    "duration": 27,
    "start_time": "2022-08-19T09:41:29.658Z"
   },
   {
    "duration": 4,
    "start_time": "2022-08-19T09:41:48.617Z"
   },
   {
    "duration": 68,
    "start_time": "2022-08-19T09:41:54.323Z"
   },
   {
    "duration": 4,
    "start_time": "2022-08-19T09:41:59.035Z"
   },
   {
    "duration": 897,
    "start_time": "2022-08-19T09:42:00.848Z"
   },
   {
    "duration": 9,
    "start_time": "2022-08-19T09:42:06.714Z"
   },
   {
    "duration": 32,
    "start_time": "2022-08-19T09:42:08.042Z"
   },
   {
    "duration": 2,
    "start_time": "2022-08-19T09:42:09.481Z"
   },
   {
    "duration": 133,
    "start_time": "2022-08-19T09:42:11.924Z"
   },
   {
    "duration": 4,
    "start_time": "2022-08-19T09:42:27.045Z"
   },
   {
    "duration": 710,
    "start_time": "2022-08-19T09:42:27.051Z"
   },
   {
    "duration": 3,
    "start_time": "2022-08-19T09:42:27.762Z"
   },
   {
    "duration": 690,
    "start_time": "2022-08-19T09:42:27.767Z"
   },
   {
    "duration": 3,
    "start_time": "2022-08-19T09:42:28.460Z"
   },
   {
    "duration": 52,
    "start_time": "2022-08-19T09:42:28.465Z"
   },
   {
    "duration": 269,
    "start_time": "2022-08-19T09:42:28.520Z"
   },
   {
    "duration": 11,
    "start_time": "2022-08-19T09:42:28.791Z"
   },
   {
    "duration": 23,
    "start_time": "2022-08-19T09:42:28.803Z"
   },
   {
    "duration": 202,
    "start_time": "2022-08-19T09:42:28.827Z"
   },
   {
    "duration": 77,
    "start_time": "2022-08-19T09:42:29.031Z"
   },
   {
    "duration": 3,
    "start_time": "2022-08-19T09:42:29.110Z"
   },
   {
    "duration": 47,
    "start_time": "2022-08-19T09:42:29.114Z"
   },
   {
    "duration": 60,
    "start_time": "2022-08-19T09:42:29.164Z"
   },
   {
    "duration": 45,
    "start_time": "2022-08-19T09:42:29.226Z"
   },
   {
    "duration": 64,
    "start_time": "2022-08-19T09:42:29.273Z"
   },
   {
    "duration": 42,
    "start_time": "2022-08-19T09:42:29.339Z"
   },
   {
    "duration": 40,
    "start_time": "2022-08-19T09:42:29.399Z"
   },
   {
    "duration": 3,
    "start_time": "2022-08-19T09:42:29.440Z"
   },
   {
    "duration": 127,
    "start_time": "2022-08-19T09:42:29.446Z"
   },
   {
    "duration": 379,
    "start_time": "2022-08-19T09:42:29.575Z"
   },
   {
    "duration": 281,
    "start_time": "2022-08-19T09:42:29.955Z"
   },
   {
    "duration": 195,
    "start_time": "2022-08-19T09:42:30.238Z"
   },
   {
    "duration": 20,
    "start_time": "2022-08-19T09:42:30.435Z"
   },
   {
    "duration": 86,
    "start_time": "2022-08-19T09:42:30.457Z"
   },
   {
    "duration": 106,
    "start_time": "2022-08-19T09:42:30.544Z"
   },
   {
    "duration": 44,
    "start_time": "2022-08-19T09:42:30.652Z"
   },
   {
    "duration": 35,
    "start_time": "2022-08-19T09:42:30.698Z"
   },
   {
    "duration": 3,
    "start_time": "2022-08-19T09:42:30.735Z"
   },
   {
    "duration": 101,
    "start_time": "2022-08-19T09:42:30.739Z"
   },
   {
    "duration": 213,
    "start_time": "2022-08-19T09:42:30.842Z"
   },
   {
    "duration": 328,
    "start_time": "2022-08-19T09:42:31.057Z"
   },
   {
    "duration": 316,
    "start_time": "2022-08-19T09:42:31.387Z"
   },
   {
    "duration": 25,
    "start_time": "2022-08-19T09:42:31.704Z"
   },
   {
    "duration": 23,
    "start_time": "2022-08-19T09:42:31.731Z"
   },
   {
    "duration": 5,
    "start_time": "2022-08-19T09:42:31.756Z"
   },
   {
    "duration": 93,
    "start_time": "2022-08-19T09:42:31.762Z"
   },
   {
    "duration": 3,
    "start_time": "2022-08-19T09:42:31.857Z"
   },
   {
    "duration": 948,
    "start_time": "2022-08-19T09:42:31.861Z"
   },
   {
    "duration": 6,
    "start_time": "2022-08-19T09:42:32.810Z"
   },
   {
    "duration": 30,
    "start_time": "2022-08-19T09:42:32.819Z"
   },
   {
    "duration": 3,
    "start_time": "2022-08-19T09:42:32.850Z"
   },
   {
    "duration": 139,
    "start_time": "2022-08-19T09:42:32.855Z"
   },
   {
    "duration": 2524623,
    "start_time": "2022-08-19T09:42:32.996Z"
   },
   {
    "duration": 0,
    "start_time": "2022-08-19T10:24:37.621Z"
   },
   {
    "duration": 0,
    "start_time": "2022-08-19T10:24:37.623Z"
   },
   {
    "duration": 0,
    "start_time": "2022-08-19T10:24:37.624Z"
   },
   {
    "duration": 0,
    "start_time": "2022-08-19T10:24:37.626Z"
   },
   {
    "duration": 0,
    "start_time": "2022-08-19T10:24:37.626Z"
   },
   {
    "duration": 5,
    "start_time": "2022-08-19T10:34:44.474Z"
   },
   {
    "duration": 813,
    "start_time": "2022-08-19T10:34:44.482Z"
   },
   {
    "duration": 4,
    "start_time": "2022-08-19T10:34:45.297Z"
   },
   {
    "duration": 664,
    "start_time": "2022-08-19T10:34:45.302Z"
   },
   {
    "duration": 4,
    "start_time": "2022-08-19T10:34:45.968Z"
   },
   {
    "duration": 50,
    "start_time": "2022-08-19T10:34:45.974Z"
   },
   {
    "duration": 269,
    "start_time": "2022-08-19T10:34:46.026Z"
   },
   {
    "duration": 5,
    "start_time": "2022-08-19T10:34:46.298Z"
   },
   {
    "duration": 24,
    "start_time": "2022-08-19T10:34:46.304Z"
   },
   {
    "duration": 201,
    "start_time": "2022-08-19T10:34:46.330Z"
   },
   {
    "duration": 74,
    "start_time": "2022-08-19T10:34:46.534Z"
   },
   {
    "duration": 3,
    "start_time": "2022-08-19T10:34:46.610Z"
   },
   {
    "duration": 47,
    "start_time": "2022-08-19T10:34:46.614Z"
   },
   {
    "duration": 63,
    "start_time": "2022-08-19T10:34:46.663Z"
   },
   {
    "duration": 50,
    "start_time": "2022-08-19T10:34:46.728Z"
   },
   {
    "duration": 57,
    "start_time": "2022-08-19T10:34:46.780Z"
   },
   {
    "duration": 62,
    "start_time": "2022-08-19T10:34:46.839Z"
   },
   {
    "duration": 48,
    "start_time": "2022-08-19T10:34:46.902Z"
   },
   {
    "duration": 2,
    "start_time": "2022-08-19T10:34:46.952Z"
   },
   {
    "duration": 126,
    "start_time": "2022-08-19T10:34:46.956Z"
   },
   {
    "duration": 384,
    "start_time": "2022-08-19T10:34:47.084Z"
   },
   {
    "duration": 265,
    "start_time": "2022-08-19T10:34:47.470Z"
   },
   {
    "duration": 201,
    "start_time": "2022-08-19T10:34:47.737Z"
   },
   {
    "duration": 23,
    "start_time": "2022-08-19T10:34:47.939Z"
   },
   {
    "duration": 4,
    "start_time": "2022-08-19T10:34:47.964Z"
   },
   {
    "duration": 45,
    "start_time": "2022-08-19T10:34:47.970Z"
   },
   {
    "duration": 26,
    "start_time": "2022-08-19T10:34:48.017Z"
   },
   {
    "duration": 21,
    "start_time": "2022-08-19T10:34:48.045Z"
   },
   {
    "duration": 30,
    "start_time": "2022-08-19T10:34:48.069Z"
   },
   {
    "duration": 57,
    "start_time": "2022-08-19T10:34:48.100Z"
   },
   {
    "duration": 217,
    "start_time": "2022-08-19T10:34:48.159Z"
   },
   {
    "duration": 328,
    "start_time": "2022-08-19T10:34:48.378Z"
   },
   {
    "duration": 293,
    "start_time": "2022-08-19T10:34:48.708Z"
   },
   {
    "duration": 24,
    "start_time": "2022-08-19T10:34:49.003Z"
   },
   {
    "duration": 24,
    "start_time": "2022-08-19T10:34:49.029Z"
   },
   {
    "duration": 4,
    "start_time": "2022-08-19T10:34:49.055Z"
   },
   {
    "duration": 90,
    "start_time": "2022-08-19T10:34:49.061Z"
   },
   {
    "duration": 3,
    "start_time": "2022-08-19T10:34:49.153Z"
   },
   {
    "duration": 823,
    "start_time": "2022-08-19T10:34:49.158Z"
   },
   {
    "duration": 6,
    "start_time": "2022-08-19T10:34:49.982Z"
   },
   {
    "duration": 29,
    "start_time": "2022-08-19T10:34:49.998Z"
   },
   {
    "duration": 3,
    "start_time": "2022-08-19T10:34:50.029Z"
   },
   {
    "duration": 133,
    "start_time": "2022-08-19T10:34:50.033Z"
   },
   {
    "duration": 119,
    "start_time": "2022-08-19T10:35:16.732Z"
   },
   {
    "duration": 1633461,
    "start_time": "2022-08-19T10:35:16.853Z"
   },
   {
    "duration": 0,
    "start_time": "2022-08-19T11:02:30.317Z"
   },
   {
    "duration": 0,
    "start_time": "2022-08-19T11:02:30.319Z"
   },
   {
    "duration": 0,
    "start_time": "2022-08-19T11:02:30.320Z"
   },
   {
    "duration": 0,
    "start_time": "2022-08-19T11:02:30.321Z"
   },
   {
    "duration": 0,
    "start_time": "2022-08-19T11:02:30.322Z"
   },
   {
    "duration": 0,
    "start_time": "2022-08-19T11:02:30.324Z"
   },
   {
    "duration": 0,
    "start_time": "2022-08-19T11:02:30.325Z"
   },
   {
    "duration": 0,
    "start_time": "2022-08-19T11:02:30.327Z"
   },
   {
    "duration": 0,
    "start_time": "2022-08-19T11:02:30.328Z"
   },
   {
    "duration": 0,
    "start_time": "2022-08-19T11:02:30.330Z"
   },
   {
    "duration": 0,
    "start_time": "2022-08-19T11:02:30.331Z"
   },
   {
    "duration": 0,
    "start_time": "2022-08-19T11:02:30.332Z"
   },
   {
    "duration": 0,
    "start_time": "2022-08-19T11:02:30.333Z"
   },
   {
    "duration": 0,
    "start_time": "2022-08-19T11:02:30.335Z"
   },
   {
    "duration": 0,
    "start_time": "2022-08-19T11:02:30.336Z"
   },
   {
    "duration": 0,
    "start_time": "2022-08-19T11:02:30.400Z"
   },
   {
    "duration": 0,
    "start_time": "2022-08-19T11:02:30.401Z"
   },
   {
    "duration": 2161751,
    "start_time": "2022-08-19T11:02:33.674Z"
   },
   {
    "duration": 6,
    "start_time": "2022-08-19T11:39:26.857Z"
   },
   {
    "duration": 762,
    "start_time": "2022-08-19T11:39:26.866Z"
   },
   {
    "duration": 3,
    "start_time": "2022-08-19T11:39:27.630Z"
   },
   {
    "duration": 713,
    "start_time": "2022-08-19T11:39:27.635Z"
   },
   {
    "duration": 3,
    "start_time": "2022-08-19T11:39:28.350Z"
   },
   {
    "duration": 44,
    "start_time": "2022-08-19T11:39:28.355Z"
   },
   {
    "duration": 291,
    "start_time": "2022-08-19T11:39:28.401Z"
   },
   {
    "duration": 8,
    "start_time": "2022-08-19T11:39:28.693Z"
   },
   {
    "duration": 25,
    "start_time": "2022-08-19T11:39:28.703Z"
   },
   {
    "duration": 249,
    "start_time": "2022-08-19T11:39:28.730Z"
   },
   {
    "duration": 135,
    "start_time": "2022-08-19T11:39:28.981Z"
   },
   {
    "duration": 3,
    "start_time": "2022-08-19T11:39:29.118Z"
   },
   {
    "duration": 42,
    "start_time": "2022-08-19T11:39:29.123Z"
   },
   {
    "duration": 84,
    "start_time": "2022-08-19T11:39:29.167Z"
   },
   {
    "duration": 77,
    "start_time": "2022-08-19T11:39:29.253Z"
   },
   {
    "duration": 46,
    "start_time": "2022-08-19T11:39:29.331Z"
   },
   {
    "duration": 83,
    "start_time": "2022-08-19T11:39:29.379Z"
   },
   {
    "duration": 64,
    "start_time": "2022-08-19T11:39:29.464Z"
   },
   {
    "duration": 2,
    "start_time": "2022-08-19T11:39:29.530Z"
   },
   {
    "duration": 135,
    "start_time": "2022-08-19T11:39:29.534Z"
   },
   {
    "duration": 387,
    "start_time": "2022-08-19T11:39:29.671Z"
   },
   {
    "duration": 405,
    "start_time": "2022-08-19T11:39:30.060Z"
   },
   {
    "duration": 193,
    "start_time": "2022-08-19T11:39:30.467Z"
   },
   {
    "duration": 22,
    "start_time": "2022-08-19T11:39:30.663Z"
   },
   {
    "duration": 4,
    "start_time": "2022-08-19T11:39:30.697Z"
   },
   {
    "duration": 35,
    "start_time": "2022-08-19T11:39:30.703Z"
   },
   {
    "duration": 58,
    "start_time": "2022-08-19T11:39:30.739Z"
   },
   {
    "duration": 50,
    "start_time": "2022-08-19T11:39:30.799Z"
   },
   {
    "duration": 5,
    "start_time": "2022-08-19T11:39:30.851Z"
   },
   {
    "duration": 75,
    "start_time": "2022-08-19T11:39:30.857Z"
   },
   {
    "duration": 192,
    "start_time": "2022-08-19T11:39:30.934Z"
   },
   {
    "duration": 333,
    "start_time": "2022-08-19T11:39:31.129Z"
   },
   {
    "duration": 307,
    "start_time": "2022-08-19T11:39:31.464Z"
   },
   {
    "duration": 45,
    "start_time": "2022-08-19T11:39:31.772Z"
   },
   {
    "duration": 24,
    "start_time": "2022-08-19T11:39:31.819Z"
   },
   {
    "duration": 12,
    "start_time": "2022-08-19T11:39:31.845Z"
   },
   {
    "duration": 88,
    "start_time": "2022-08-19T11:39:31.859Z"
   },
   {
    "duration": 5,
    "start_time": "2022-08-19T11:39:31.949Z"
   },
   {
    "duration": 854,
    "start_time": "2022-08-19T11:39:31.957Z"
   },
   {
    "duration": 6,
    "start_time": "2022-08-19T11:39:32.813Z"
   },
   {
    "duration": 30,
    "start_time": "2022-08-19T11:39:32.821Z"
   },
   {
    "duration": 4,
    "start_time": "2022-08-19T11:39:32.853Z"
   },
   {
    "duration": 161,
    "start_time": "2022-08-19T11:39:32.858Z"
   },
   {
    "duration": 3562902,
    "start_time": "2022-08-19T11:39:33.021Z"
   },
   {
    "duration": 0,
    "start_time": "2022-08-19T14:01:31.529Z"
   },
   {
    "duration": 0,
    "start_time": "2022-08-19T14:01:31.530Z"
   },
   {
    "duration": 0,
    "start_time": "2022-08-19T14:01:31.531Z"
   },
   {
    "duration": 0,
    "start_time": "2022-08-19T14:01:31.532Z"
   },
   {
    "duration": 0,
    "start_time": "2022-08-19T14:01:31.534Z"
   },
   {
    "duration": 0,
    "start_time": "2022-08-19T14:01:31.535Z"
   },
   {
    "duration": 0,
    "start_time": "2022-08-19T14:01:31.535Z"
   },
   {
    "duration": 0,
    "start_time": "2022-08-19T14:01:31.537Z"
   },
   {
    "duration": 0,
    "start_time": "2022-08-19T14:01:31.538Z"
   },
   {
    "duration": 0,
    "start_time": "2022-08-19T14:01:31.538Z"
   },
   {
    "duration": 0,
    "start_time": "2022-08-19T14:01:31.539Z"
   },
   {
    "duration": 0,
    "start_time": "2022-08-19T14:01:31.540Z"
   },
   {
    "duration": 0,
    "start_time": "2022-08-19T14:01:31.541Z"
   },
   {
    "duration": 0,
    "start_time": "2022-08-19T14:01:31.542Z"
   },
   {
    "duration": 0,
    "start_time": "2022-08-19T14:01:31.543Z"
   },
   {
    "duration": 0,
    "start_time": "2022-08-19T14:01:31.544Z"
   },
   {
    "duration": 0,
    "start_time": "2022-08-19T14:01:31.545Z"
   },
   {
    "duration": 0,
    "start_time": "2022-08-19T14:01:31.546Z"
   },
   {
    "duration": 0,
    "start_time": "2022-08-19T14:01:31.546Z"
   },
   {
    "duration": 0,
    "start_time": "2022-08-19T14:01:31.547Z"
   },
   {
    "duration": 0,
    "start_time": "2022-08-19T14:01:31.548Z"
   },
   {
    "duration": 0,
    "start_time": "2022-08-19T14:01:31.549Z"
   },
   {
    "duration": 0,
    "start_time": "2022-08-19T14:01:31.550Z"
   },
   {
    "duration": 0,
    "start_time": "2022-08-19T14:01:31.606Z"
   },
   {
    "duration": 0,
    "start_time": "2022-08-19T14:01:31.607Z"
   },
   {
    "duration": 0,
    "start_time": "2022-08-19T14:01:31.610Z"
   },
   {
    "duration": 0,
    "start_time": "2022-08-19T14:01:31.611Z"
   },
   {
    "duration": 0,
    "start_time": "2022-08-19T14:01:31.613Z"
   },
   {
    "duration": 0,
    "start_time": "2022-08-19T14:01:31.613Z"
   },
   {
    "duration": 0,
    "start_time": "2022-08-19T14:01:31.615Z"
   },
   {
    "duration": 0,
    "start_time": "2022-08-19T14:01:31.616Z"
   },
   {
    "duration": 0,
    "start_time": "2022-08-19T14:01:31.617Z"
   },
   {
    "duration": 0,
    "start_time": "2022-08-19T14:01:31.618Z"
   },
   {
    "duration": 0,
    "start_time": "2022-08-19T14:01:31.619Z"
   },
   {
    "duration": 0,
    "start_time": "2022-08-19T14:01:31.621Z"
   },
   {
    "duration": 0,
    "start_time": "2022-08-19T14:01:31.622Z"
   },
   {
    "duration": 0,
    "start_time": "2022-08-19T14:01:31.624Z"
   },
   {
    "duration": 0,
    "start_time": "2022-08-19T14:01:31.625Z"
   },
   {
    "duration": 0,
    "start_time": "2022-08-19T14:01:31.627Z"
   },
   {
    "duration": 0,
    "start_time": "2022-08-19T14:01:31.627Z"
   },
   {
    "duration": 0,
    "start_time": "2022-08-19T14:01:31.629Z"
   },
   {
    "duration": 0,
    "start_time": "2022-08-19T14:01:31.629Z"
   },
   {
    "duration": 0,
    "start_time": "2022-08-19T14:01:31.631Z"
   },
   {
    "duration": 0,
    "start_time": "2022-08-19T14:01:31.632Z"
   },
   {
    "duration": 0,
    "start_time": "2022-08-19T14:01:31.633Z"
   },
   {
    "duration": 0,
    "start_time": "2022-08-19T14:01:31.634Z"
   },
   {
    "duration": 0,
    "start_time": "2022-08-19T14:01:31.636Z"
   },
   {
    "duration": 0,
    "start_time": "2022-08-19T14:01:31.637Z"
   },
   {
    "duration": 0,
    "start_time": "2022-08-19T14:01:31.638Z"
   },
   {
    "duration": 1,
    "start_time": "2022-08-19T14:01:31.639Z"
   },
   {
    "duration": 0,
    "start_time": "2022-08-19T14:01:31.640Z"
   },
   {
    "duration": 0,
    "start_time": "2022-08-19T14:01:31.642Z"
   },
   {
    "duration": 0,
    "start_time": "2022-08-19T14:01:31.643Z"
   },
   {
    "duration": 0,
    "start_time": "2022-08-19T14:01:31.704Z"
   },
   {
    "duration": 0,
    "start_time": "2022-08-19T14:01:31.705Z"
   },
   {
    "duration": 0,
    "start_time": "2022-08-19T14:01:31.706Z"
   },
   {
    "duration": 0,
    "start_time": "2022-08-19T14:01:31.706Z"
   },
   {
    "duration": 0,
    "start_time": "2022-08-19T14:01:31.708Z"
   },
   {
    "duration": 0,
    "start_time": "2022-08-19T14:01:31.710Z"
   },
   {
    "duration": 0,
    "start_time": "2022-08-19T14:01:31.711Z"
   },
   {
    "duration": 0,
    "start_time": "2022-08-19T14:01:31.714Z"
   },
   {
    "duration": 6,
    "start_time": "2022-08-19T14:07:18.733Z"
   },
   {
    "duration": 795,
    "start_time": "2022-08-19T14:07:18.741Z"
   },
   {
    "duration": 4,
    "start_time": "2022-08-19T14:07:19.539Z"
   },
   {
    "duration": 740,
    "start_time": "2022-08-19T14:07:19.544Z"
   },
   {
    "duration": 3,
    "start_time": "2022-08-19T14:07:20.286Z"
   },
   {
    "duration": 68,
    "start_time": "2022-08-19T14:07:20.290Z"
   },
   {
    "duration": 248,
    "start_time": "2022-08-19T14:07:20.360Z"
   },
   {
    "duration": 8,
    "start_time": "2022-08-19T14:07:20.610Z"
   },
   {
    "duration": 23,
    "start_time": "2022-08-19T14:07:20.619Z"
   },
   {
    "duration": 200,
    "start_time": "2022-08-19T14:07:20.644Z"
   },
   {
    "duration": 79,
    "start_time": "2022-08-19T14:07:20.846Z"
   },
   {
    "duration": 2,
    "start_time": "2022-08-19T14:07:20.927Z"
   },
   {
    "duration": 44,
    "start_time": "2022-08-19T14:07:20.931Z"
   },
   {
    "duration": 78,
    "start_time": "2022-08-19T14:07:20.976Z"
   },
   {
    "duration": 66,
    "start_time": "2022-08-19T14:07:21.056Z"
   },
   {
    "duration": 43,
    "start_time": "2022-08-19T14:07:21.123Z"
   },
   {
    "duration": 71,
    "start_time": "2022-08-19T14:07:21.167Z"
   },
   {
    "duration": 40,
    "start_time": "2022-08-19T14:07:21.240Z"
   },
   {
    "duration": 3,
    "start_time": "2022-08-19T14:07:21.281Z"
   },
   {
    "duration": 117,
    "start_time": "2022-08-19T14:07:21.298Z"
   },
   {
    "duration": 368,
    "start_time": "2022-08-19T14:07:21.416Z"
   },
   {
    "duration": 286,
    "start_time": "2022-08-19T14:07:21.786Z"
   },
   {
    "duration": 204,
    "start_time": "2022-08-19T14:07:22.074Z"
   },
   {
    "duration": 32,
    "start_time": "2022-08-19T14:07:22.280Z"
   },
   {
    "duration": 3,
    "start_time": "2022-08-19T14:07:22.316Z"
   },
   {
    "duration": 24,
    "start_time": "2022-08-19T14:07:22.321Z"
   },
   {
    "duration": 23,
    "start_time": "2022-08-19T14:07:22.346Z"
   },
   {
    "duration": 46,
    "start_time": "2022-08-19T14:07:22.371Z"
   },
   {
    "duration": 4,
    "start_time": "2022-08-19T14:07:22.420Z"
   },
   {
    "duration": 50,
    "start_time": "2022-08-19T14:07:22.426Z"
   },
   {
    "duration": 203,
    "start_time": "2022-08-19T14:07:22.478Z"
   },
   {
    "duration": 330,
    "start_time": "2022-08-19T14:07:22.683Z"
   },
   {
    "duration": 303,
    "start_time": "2022-08-19T14:07:23.015Z"
   },
   {
    "duration": 32,
    "start_time": "2022-08-19T14:07:23.320Z"
   },
   {
    "duration": 23,
    "start_time": "2022-08-19T14:07:23.355Z"
   },
   {
    "duration": 29,
    "start_time": "2022-08-19T14:07:23.380Z"
   },
   {
    "duration": 72,
    "start_time": "2022-08-19T14:07:23.411Z"
   },
   {
    "duration": 4,
    "start_time": "2022-08-19T14:07:23.484Z"
   },
   {
    "duration": 951,
    "start_time": "2022-08-19T14:07:23.489Z"
   },
   {
    "duration": 7,
    "start_time": "2022-08-19T14:07:24.442Z"
   },
   {
    "duration": 59,
    "start_time": "2022-08-19T14:07:24.451Z"
   },
   {
    "duration": 13,
    "start_time": "2022-08-19T14:07:24.512Z"
   },
   {
    "duration": 154,
    "start_time": "2022-08-19T14:07:24.527Z"
   },
   {
    "duration": 9620620,
    "start_time": "2022-08-19T14:07:24.683Z"
   },
   {
    "duration": 4,
    "start_time": "2022-08-19T16:47:45.305Z"
   },
   {
    "duration": 5,
    "start_time": "2022-08-19T16:47:45.310Z"
   },
   {
    "duration": 6,
    "start_time": "2022-08-19T16:47:45.316Z"
   },
   {
    "duration": 5982,
    "start_time": "2022-08-19T16:47:45.324Z"
   },
   {
    "duration": 4,
    "start_time": "2022-08-19T16:47:51.307Z"
   },
   {
    "duration": 909,
    "start_time": "2022-08-19T16:47:51.313Z"
   },
   {
    "duration": 75,
    "start_time": "2022-08-19T16:47:52.224Z"
   },
   {
    "duration": 17637,
    "start_time": "2022-08-19T16:47:52.301Z"
   },
   {
    "duration": 4,
    "start_time": "2022-08-19T16:48:09.939Z"
   },
   {
    "duration": 4,
    "start_time": "2022-08-19T16:48:09.945Z"
   },
   {
    "duration": 6,
    "start_time": "2022-08-19T16:48:09.950Z"
   },
   {
    "duration": 380,
    "start_time": "2022-08-19T16:48:09.958Z"
   },
   {
    "duration": 4,
    "start_time": "2022-08-19T16:48:10.339Z"
   },
   {
    "duration": 12,
    "start_time": "2022-08-19T16:48:10.344Z"
   },
   {
    "duration": 130,
    "start_time": "2022-08-19T16:48:10.357Z"
   },
   {
    "duration": 0,
    "start_time": "2022-08-19T16:48:10.488Z"
   },
   {
    "duration": 0,
    "start_time": "2022-08-19T16:48:10.498Z"
   },
   {
    "duration": 581,
    "start_time": "2022-08-19T19:11:14.740Z"
   },
   {
    "duration": 4,
    "start_time": "2022-08-19T19:11:18.569Z"
   },
   {
    "duration": 717,
    "start_time": "2022-08-19T19:11:39.683Z"
   },
   {
    "duration": 698,
    "start_time": "2022-08-19T19:11:48.907Z"
   },
   {
    "duration": 679,
    "start_time": "2022-08-19T19:19:10.641Z"
   },
   {
    "duration": 673,
    "start_time": "2022-08-19T19:19:17.528Z"
   },
   {
    "duration": 580,
    "start_time": "2022-08-19T19:19:37.035Z"
   },
   {
    "duration": 640,
    "start_time": "2022-08-19T19:20:06.889Z"
   },
   {
    "duration": 588,
    "start_time": "2022-08-19T19:20:27.420Z"
   },
   {
    "duration": 678,
    "start_time": "2022-08-19T19:21:15.046Z"
   },
   {
    "duration": 684,
    "start_time": "2022-08-19T19:21:30.840Z"
   },
   {
    "duration": 784,
    "start_time": "2022-08-19T19:22:14.829Z"
   },
   {
    "duration": 4,
    "start_time": "2022-08-19T19:24:33.355Z"
   },
   {
    "duration": 582,
    "start_time": "2022-08-19T19:24:45.937Z"
   },
   {
    "duration": 4,
    "start_time": "2022-08-19T19:24:50.267Z"
   },
   {
    "duration": 742,
    "start_time": "2022-08-19T19:25:05.678Z"
   },
   {
    "duration": 18055,
    "start_time": "2022-08-19T19:25:46.160Z"
   },
   {
    "duration": 19090,
    "start_time": "2022-08-19T19:26:29.137Z"
   },
   {
    "duration": 5,
    "start_time": "2022-08-19T19:26:48.229Z"
   },
   {
    "duration": 10,
    "start_time": "2022-08-19T19:26:48.235Z"
   },
   {
    "duration": 8,
    "start_time": "2022-08-19T19:26:48.247Z"
   },
   {
    "duration": 395,
    "start_time": "2022-08-19T19:26:48.257Z"
   },
   {
    "duration": 3,
    "start_time": "2022-08-19T19:26:48.654Z"
   },
   {
    "duration": 9,
    "start_time": "2022-08-19T19:26:48.658Z"
   },
   {
    "duration": 380,
    "start_time": "2022-08-19T19:26:48.669Z"
   },
   {
    "duration": 64,
    "start_time": "2022-08-19T19:26:49.051Z"
   },
   {
    "duration": 0,
    "start_time": "2022-08-19T19:26:49.117Z"
   },
   {
    "duration": 58,
    "start_time": "2022-08-19T19:29:53.397Z"
   },
   {
    "duration": 14,
    "start_time": "2022-08-19T19:30:21.390Z"
   },
   {
    "duration": 578839,
    "start_time": "2022-08-19T19:33:06.760Z"
   },
   {
    "duration": 4,
    "start_time": "2022-08-19T19:43:29.216Z"
   },
   {
    "duration": 6,
    "start_time": "2022-08-19T19:46:42.003Z"
   },
   {
    "duration": 3,
    "start_time": "2022-08-19T19:46:45.696Z"
   },
   {
    "duration": 6,
    "start_time": "2022-08-19T19:46:47.863Z"
   },
   {
    "duration": 374,
    "start_time": "2022-08-19T19:46:49.630Z"
   },
   {
    "duration": 5,
    "start_time": "2022-08-19T19:46:51.820Z"
   },
   {
    "duration": 13,
    "start_time": "2022-08-19T19:46:55.195Z"
   },
   {
    "duration": 344,
    "start_time": "2022-08-19T19:46:58.841Z"
   },
   {
    "duration": 86,
    "start_time": "2022-08-19T21:28:24.201Z"
   }
  ],
  "kernelspec": {
   "display_name": "Python 3 (ipykernel)",
   "language": "python",
   "name": "python3"
  },
  "language_info": {
   "codemirror_mode": {
    "name": "ipython",
    "version": 3
   },
   "file_extension": ".py",
   "mimetype": "text/x-python",
   "name": "python",
   "nbconvert_exporter": "python",
   "pygments_lexer": "ipython3",
   "version": "3.9.5"
  },
  "toc": {
   "base_numbering": 1,
   "nav_menu": {},
   "number_sections": true,
   "sideBar": true,
   "skip_h1_title": true,
   "title_cell": "Table of Contents",
   "title_sidebar": "Contents",
   "toc_cell": false,
   "toc_position": {
    "height": "calc(100% - 180px)",
    "left": "10px",
    "top": "150px",
    "width": "329.867px"
   },
   "toc_section_display": true,
   "toc_window_display": true
  }
 },
 "nbformat": 4,
 "nbformat_minor": 2
}
