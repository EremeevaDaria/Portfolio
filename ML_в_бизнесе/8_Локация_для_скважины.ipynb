{
 "cells": [
  {
   "cell_type": "markdown",
   "metadata": {},
   "source": [
    "# Определение наиболее выгодного региона нефтедобычи"
   ]
  },
  {
   "cell_type": "markdown",
   "metadata": {},
   "source": [
    "Допустим, вы работаете в добывающей компании «ГлавРосГосНефть». Нужно решить, где бурить новую скважину.\n",
    "\n",
    "Вам предоставлены пробы нефти в трёх регионах: в каждом 10 000 месторождений, где измерили качество нефти и объём её запасов. Постройте модель машинного обучения, которая поможет определить регион, где добыча принесёт наибольшую прибыль. Проанализируйте возможную прибыль и риски техникой *Bootstrap.*\n",
    "\n",
    "Шаги для выбора локации:\n",
    "\n",
    "- В избранном регионе ищут месторождения, для каждого определяют значения признаков;\n",
    "- Строят модель и оценивают объём запасов;\n",
    "- Выбирают месторождения с самым высокими оценками значений. Количество месторождений зависит от бюджета компании и стоимости разработки одной скважины;\n",
    "- Прибыль равна суммарной прибыли отобранных месторождений."
   ]
  },
  {
   "cell_type": "markdown",
   "metadata": {},
   "source": [
    "## Загрузка и подготовка данных"
   ]
  },
  {
   "cell_type": "code",
   "execution_count": 1,
   "metadata": {},
   "outputs": [],
   "source": [
    "#импортируем необходимые библиотеки\n",
    "import pandas as pd\n",
    "import seaborn as sns\n",
    "import numpy as np\n",
    "import matplotlib.pyplot as plt\n",
    "import warnings\n",
    "from sklearn.linear_model import LinearRegression\n",
    "from sklearn.model_selection import train_test_split\n",
    "from sklearn.metrics import mean_squared_error\n",
    "from sklearn.preprocessing import StandardScaler\n",
    "from numpy.random import RandomState\n",
    "from scipy import stats as st\n",
    "from scipy.stats import t"
   ]
  },
  {
   "cell_type": "code",
   "execution_count": 2,
   "metadata": {},
   "outputs": [],
   "source": [
    "#откроем файлы с данными\n",
    "df_1 = pd.read_csv('/datasets/geo_data_0.csv') #первый регион\n",
    "df_2 = pd.read_csv('/datasets/geo_data_1.csv') #второй регион\n",
    "df_3 = pd.read_csv('/datasets/geo_data_2.csv') #третий регион"
   ]
  },
  {
   "cell_type": "code",
   "execution_count": 3,
   "metadata": {
    "scrolled": true
   },
   "outputs": [
    {
     "data": {
      "text/html": [
       "<div>\n",
       "<style scoped>\n",
       "    .dataframe tbody tr th:only-of-type {\n",
       "        vertical-align: middle;\n",
       "    }\n",
       "\n",
       "    .dataframe tbody tr th {\n",
       "        vertical-align: top;\n",
       "    }\n",
       "\n",
       "    .dataframe thead th {\n",
       "        text-align: right;\n",
       "    }\n",
       "</style>\n",
       "<table border=\"1\" class=\"dataframe\">\n",
       "  <thead>\n",
       "    <tr style=\"text-align: right;\">\n",
       "      <th></th>\n",
       "      <th>id</th>\n",
       "      <th>f0</th>\n",
       "      <th>f1</th>\n",
       "      <th>f2</th>\n",
       "      <th>product</th>\n",
       "    </tr>\n",
       "  </thead>\n",
       "  <tbody>\n",
       "    <tr>\n",
       "      <th>0</th>\n",
       "      <td>txEyH</td>\n",
       "      <td>0.705745</td>\n",
       "      <td>-0.497823</td>\n",
       "      <td>1.221170</td>\n",
       "      <td>105.280062</td>\n",
       "    </tr>\n",
       "    <tr>\n",
       "      <th>1</th>\n",
       "      <td>2acmU</td>\n",
       "      <td>1.334711</td>\n",
       "      <td>-0.340164</td>\n",
       "      <td>4.365080</td>\n",
       "      <td>73.037750</td>\n",
       "    </tr>\n",
       "    <tr>\n",
       "      <th>2</th>\n",
       "      <td>409Wp</td>\n",
       "      <td>1.022732</td>\n",
       "      <td>0.151990</td>\n",
       "      <td>1.419926</td>\n",
       "      <td>85.265647</td>\n",
       "    </tr>\n",
       "    <tr>\n",
       "      <th>3</th>\n",
       "      <td>iJLyR</td>\n",
       "      <td>-0.032172</td>\n",
       "      <td>0.139033</td>\n",
       "      <td>2.978566</td>\n",
       "      <td>168.620776</td>\n",
       "    </tr>\n",
       "    <tr>\n",
       "      <th>4</th>\n",
       "      <td>Xdl7t</td>\n",
       "      <td>1.988431</td>\n",
       "      <td>0.155413</td>\n",
       "      <td>4.751769</td>\n",
       "      <td>154.036647</td>\n",
       "    </tr>\n",
       "  </tbody>\n",
       "</table>\n",
       "</div>"
      ],
      "text/plain": [
       "      id        f0        f1        f2     product\n",
       "0  txEyH  0.705745 -0.497823  1.221170  105.280062\n",
       "1  2acmU  1.334711 -0.340164  4.365080   73.037750\n",
       "2  409Wp  1.022732  0.151990  1.419926   85.265647\n",
       "3  iJLyR -0.032172  0.139033  2.978566  168.620776\n",
       "4  Xdl7t  1.988431  0.155413  4.751769  154.036647"
      ]
     },
     "metadata": {},
     "output_type": "display_data"
    },
    {
     "data": {
      "text/html": [
       "<div>\n",
       "<style scoped>\n",
       "    .dataframe tbody tr th:only-of-type {\n",
       "        vertical-align: middle;\n",
       "    }\n",
       "\n",
       "    .dataframe tbody tr th {\n",
       "        vertical-align: top;\n",
       "    }\n",
       "\n",
       "    .dataframe thead th {\n",
       "        text-align: right;\n",
       "    }\n",
       "</style>\n",
       "<table border=\"1\" class=\"dataframe\">\n",
       "  <thead>\n",
       "    <tr style=\"text-align: right;\">\n",
       "      <th></th>\n",
       "      <th>id</th>\n",
       "      <th>f0</th>\n",
       "      <th>f1</th>\n",
       "      <th>f2</th>\n",
       "      <th>product</th>\n",
       "    </tr>\n",
       "  </thead>\n",
       "  <tbody>\n",
       "    <tr>\n",
       "      <th>0</th>\n",
       "      <td>kBEdx</td>\n",
       "      <td>-15.001348</td>\n",
       "      <td>-8.276000</td>\n",
       "      <td>-0.005876</td>\n",
       "      <td>3.179103</td>\n",
       "    </tr>\n",
       "    <tr>\n",
       "      <th>1</th>\n",
       "      <td>62mP7</td>\n",
       "      <td>14.272088</td>\n",
       "      <td>-3.475083</td>\n",
       "      <td>0.999183</td>\n",
       "      <td>26.953261</td>\n",
       "    </tr>\n",
       "    <tr>\n",
       "      <th>2</th>\n",
       "      <td>vyE1P</td>\n",
       "      <td>6.263187</td>\n",
       "      <td>-5.948386</td>\n",
       "      <td>5.001160</td>\n",
       "      <td>134.766305</td>\n",
       "    </tr>\n",
       "    <tr>\n",
       "      <th>3</th>\n",
       "      <td>KcrkZ</td>\n",
       "      <td>-13.081196</td>\n",
       "      <td>-11.506057</td>\n",
       "      <td>4.999415</td>\n",
       "      <td>137.945408</td>\n",
       "    </tr>\n",
       "    <tr>\n",
       "      <th>4</th>\n",
       "      <td>AHL4O</td>\n",
       "      <td>12.702195</td>\n",
       "      <td>-8.147433</td>\n",
       "      <td>5.004363</td>\n",
       "      <td>134.766305</td>\n",
       "    </tr>\n",
       "  </tbody>\n",
       "</table>\n",
       "</div>"
      ],
      "text/plain": [
       "      id         f0         f1        f2     product\n",
       "0  kBEdx -15.001348  -8.276000 -0.005876    3.179103\n",
       "1  62mP7  14.272088  -3.475083  0.999183   26.953261\n",
       "2  vyE1P   6.263187  -5.948386  5.001160  134.766305\n",
       "3  KcrkZ -13.081196 -11.506057  4.999415  137.945408\n",
       "4  AHL4O  12.702195  -8.147433  5.004363  134.766305"
      ]
     },
     "metadata": {},
     "output_type": "display_data"
    },
    {
     "data": {
      "text/html": [
       "<div>\n",
       "<style scoped>\n",
       "    .dataframe tbody tr th:only-of-type {\n",
       "        vertical-align: middle;\n",
       "    }\n",
       "\n",
       "    .dataframe tbody tr th {\n",
       "        vertical-align: top;\n",
       "    }\n",
       "\n",
       "    .dataframe thead th {\n",
       "        text-align: right;\n",
       "    }\n",
       "</style>\n",
       "<table border=\"1\" class=\"dataframe\">\n",
       "  <thead>\n",
       "    <tr style=\"text-align: right;\">\n",
       "      <th></th>\n",
       "      <th>id</th>\n",
       "      <th>f0</th>\n",
       "      <th>f1</th>\n",
       "      <th>f2</th>\n",
       "      <th>product</th>\n",
       "    </tr>\n",
       "  </thead>\n",
       "  <tbody>\n",
       "    <tr>\n",
       "      <th>0</th>\n",
       "      <td>fwXo0</td>\n",
       "      <td>-1.146987</td>\n",
       "      <td>0.963328</td>\n",
       "      <td>-0.828965</td>\n",
       "      <td>27.758673</td>\n",
       "    </tr>\n",
       "    <tr>\n",
       "      <th>1</th>\n",
       "      <td>WJtFt</td>\n",
       "      <td>0.262778</td>\n",
       "      <td>0.269839</td>\n",
       "      <td>-2.530187</td>\n",
       "      <td>56.069697</td>\n",
       "    </tr>\n",
       "    <tr>\n",
       "      <th>2</th>\n",
       "      <td>ovLUW</td>\n",
       "      <td>0.194587</td>\n",
       "      <td>0.289035</td>\n",
       "      <td>-5.586433</td>\n",
       "      <td>62.871910</td>\n",
       "    </tr>\n",
       "    <tr>\n",
       "      <th>3</th>\n",
       "      <td>q6cA6</td>\n",
       "      <td>2.236060</td>\n",
       "      <td>-0.553760</td>\n",
       "      <td>0.930038</td>\n",
       "      <td>114.572842</td>\n",
       "    </tr>\n",
       "    <tr>\n",
       "      <th>4</th>\n",
       "      <td>WPMUX</td>\n",
       "      <td>-0.515993</td>\n",
       "      <td>1.716266</td>\n",
       "      <td>5.899011</td>\n",
       "      <td>149.600746</td>\n",
       "    </tr>\n",
       "  </tbody>\n",
       "</table>\n",
       "</div>"
      ],
      "text/plain": [
       "      id        f0        f1        f2     product\n",
       "0  fwXo0 -1.146987  0.963328 -0.828965   27.758673\n",
       "1  WJtFt  0.262778  0.269839 -2.530187   56.069697\n",
       "2  ovLUW  0.194587  0.289035 -5.586433   62.871910\n",
       "3  q6cA6  2.236060 -0.553760  0.930038  114.572842\n",
       "4  WPMUX -0.515993  1.716266  5.899011  149.600746"
      ]
     },
     "metadata": {},
     "output_type": "display_data"
    }
   ],
   "source": [
    "#изучим, полученные данные\n",
    "display(df_1.head())\n",
    "display(df_2.head())\n",
    "display(df_3.head())"
   ]
  },
  {
   "cell_type": "code",
   "execution_count": 4,
   "metadata": {},
   "outputs": [],
   "source": [
    "#напишем универсальную функцию для изучения данных\n",
    "def uni_function(function):\n",
    "    display(function.info())\n",
    "    display(function.isna().sum())\n",
    "    display(function.describe())\n",
    "    display(function.duplicated().sum())\n",
    "uni_function(df_1) #первый регион"
   ]
  },
  {
   "cell_type": "code",
   "execution_count": 5,
   "metadata": {
    "scrolled": true
   },
   "outputs": [],
   "source": [
    "uni_function(df_2) #второй регион"
   ]
  },
  {
   "cell_type": "code",
   "execution_count": 6,
   "metadata": {},
   "outputs": [],
   "source": [
    "uni_function(df_3) #третий регион"
   ]
  },
  {
   "cell_type": "markdown",
   "metadata": {},
   "source": [
    "**Вывод**    \n",
    "Как мы видим, каждый столбец имеет правильный тип данных, пропусков и дубликатов нет. Знаяения среднего арифметического близки к значениям медианы, значит значительных выбросов в данных нет. Данные чистые и готовы к дальнейшему анализу."
   ]
  },
  {
   "cell_type": "markdown",
   "metadata": {},
   "source": [
    "### Проверка корреляции"
   ]
  },
  {
   "cell_type": "code",
   "execution_count": 7,
   "metadata": {
    "scrolled": true
   },
   "outputs": [
    {
     "data": {
      "text/plain": [
       "<AxesSubplot:>"
      ]
     },
     "execution_count": 7,
     "metadata": {},
     "output_type": "execute_result"
    },
    {
     "data": {
      "image/png": "[encoded data removed]",
      "text/plain": [
       "<Figure size 432x288 with 2 Axes>"
      ]
     },
     "metadata": {
      "needs_background": "light"
     },
     "output_type": "display_data"
    }
   ],
   "source": [
    "sns.heatmap(df_1.corr(), annot = True) #первый регион"
   ]
  },
  {
   "cell_type": "code",
   "execution_count": 8,
   "metadata": {
    "scrolled": true
   },
   "outputs": [
    {
     "data": {
      "text/plain": [
       "<AxesSubplot:>"
      ]
     },
     "execution_count": 8,
     "metadata": {},
     "output_type": "execute_result"
    },
    {
     "data": {
      "image/png": "[encoded data removed]",
      "text/plain": [
       "<Figure size 432x288 with 2 Axes>"
      ]
     },
     "metadata": {
      "needs_background": "light"
     },
     "output_type": "display_data"
    }
   ],
   "source": [
    "sns.heatmap(df_2.corr(), annot = True) #второй регион"
   ]
  },
  {
   "cell_type": "code",
   "execution_count": 9,
   "metadata": {
    "scrolled": true
   },
   "outputs": [
    {
     "data": {
      "text/plain": [
       "<AxesSubplot:>"
      ]
     },
     "execution_count": 9,
     "metadata": {},
     "output_type": "execute_result"
    },
    {
     "data": {
      "image/png": "[encoded data removed]",
      "text/plain": [
       "<Figure size 432x288 with 2 Axes>"
      ]
     },
     "metadata": {
      "needs_background": "light"
     },
     "output_type": "display_data"
    }
   ],
   "source": [
    "sns.heatmap(df_3.corr(), annot = True) #третий регион"
   ]
  },
  {
   "cell_type": "markdown",
   "metadata": {},
   "source": [
    "**Вывод**    \n",
    "Проверка корреляции является методом определения линейной зависимости между параметрами. С его помощью можно определить какие функции больше всего влияют на целевую переменную, и в тоже время для прогнозированя этой целевой переменной.    \n",
    "Исходя из полученных данных, мы видим, что среди данных первого региона взаимосвязи не наблюдается. В данных второго региона мы видим, что взаимосвязь признака f2 и объема запасов в скважине(product) равна единице, а значит корреляция является 100%. Для третьего региона также наблюдается взаимосвязь между параметром f2 и объемом запасов в скважине.\n",
    "\n",
    "Т.к. столбец id в условиях данной задачи не несет в себе никой нужной информации, мы можем его удалить."
   ]
  },
  {
   "cell_type": "code",
   "execution_count": 10,
   "metadata": {
    "scrolled": true
   },
   "outputs": [
    {
     "data": {
      "text/html": [
       "<div>\n",
       "<style scoped>\n",
       "    .dataframe tbody tr th:only-of-type {\n",
       "        vertical-align: middle;\n",
       "    }\n",
       "\n",
       "    .dataframe tbody tr th {\n",
       "        vertical-align: top;\n",
       "    }\n",
       "\n",
       "    .dataframe thead th {\n",
       "        text-align: right;\n",
       "    }\n",
       "</style>\n",
       "<table border=\"1\" class=\"dataframe\">\n",
       "  <thead>\n",
       "    <tr style=\"text-align: right;\">\n",
       "      <th></th>\n",
       "      <th>f0</th>\n",
       "      <th>f1</th>\n",
       "      <th>f2</th>\n",
       "      <th>product</th>\n",
       "    </tr>\n",
       "  </thead>\n",
       "  <tbody>\n",
       "    <tr>\n",
       "      <th>0</th>\n",
       "      <td>0.705745</td>\n",
       "      <td>-0.497823</td>\n",
       "      <td>1.221170</td>\n",
       "      <td>105.280062</td>\n",
       "    </tr>\n",
       "    <tr>\n",
       "      <th>1</th>\n",
       "      <td>1.334711</td>\n",
       "      <td>-0.340164</td>\n",
       "      <td>4.365080</td>\n",
       "      <td>73.037750</td>\n",
       "    </tr>\n",
       "    <tr>\n",
       "      <th>2</th>\n",
       "      <td>1.022732</td>\n",
       "      <td>0.151990</td>\n",
       "      <td>1.419926</td>\n",
       "      <td>85.265647</td>\n",
       "    </tr>\n",
       "    <tr>\n",
       "      <th>3</th>\n",
       "      <td>-0.032172</td>\n",
       "      <td>0.139033</td>\n",
       "      <td>2.978566</td>\n",
       "      <td>168.620776</td>\n",
       "    </tr>\n",
       "    <tr>\n",
       "      <th>4</th>\n",
       "      <td>1.988431</td>\n",
       "      <td>0.155413</td>\n",
       "      <td>4.751769</td>\n",
       "      <td>154.036647</td>\n",
       "    </tr>\n",
       "  </tbody>\n",
       "</table>\n",
       "</div>"
      ],
      "text/plain": [
       "         f0        f1        f2     product\n",
       "0  0.705745 -0.497823  1.221170  105.280062\n",
       "1  1.334711 -0.340164  4.365080   73.037750\n",
       "2  1.022732  0.151990  1.419926   85.265647\n",
       "3 -0.032172  0.139033  2.978566  168.620776\n",
       "4  1.988431  0.155413  4.751769  154.036647"
      ]
     },
     "metadata": {},
     "output_type": "display_data"
    },
    {
     "data": {
      "text/html": [
       "<div>\n",
       "<style scoped>\n",
       "    .dataframe tbody tr th:only-of-type {\n",
       "        vertical-align: middle;\n",
       "    }\n",
       "\n",
       "    .dataframe tbody tr th {\n",
       "        vertical-align: top;\n",
       "    }\n",
       "\n",
       "    .dataframe thead th {\n",
       "        text-align: right;\n",
       "    }\n",
       "</style>\n",
       "<table border=\"1\" class=\"dataframe\">\n",
       "  <thead>\n",
       "    <tr style=\"text-align: right;\">\n",
       "      <th></th>\n",
       "      <th>f0</th>\n",
       "      <th>f1</th>\n",
       "      <th>f2</th>\n",
       "      <th>product</th>\n",
       "    </tr>\n",
       "  </thead>\n",
       "  <tbody>\n",
       "    <tr>\n",
       "      <th>0</th>\n",
       "      <td>-15.001348</td>\n",
       "      <td>-8.276000</td>\n",
       "      <td>-0.005876</td>\n",
       "      <td>3.179103</td>\n",
       "    </tr>\n",
       "    <tr>\n",
       "      <th>1</th>\n",
       "      <td>14.272088</td>\n",
       "      <td>-3.475083</td>\n",
       "      <td>0.999183</td>\n",
       "      <td>26.953261</td>\n",
       "    </tr>\n",
       "    <tr>\n",
       "      <th>2</th>\n",
       "      <td>6.263187</td>\n",
       "      <td>-5.948386</td>\n",
       "      <td>5.001160</td>\n",
       "      <td>134.766305</td>\n",
       "    </tr>\n",
       "    <tr>\n",
       "      <th>3</th>\n",
       "      <td>-13.081196</td>\n",
       "      <td>-11.506057</td>\n",
       "      <td>4.999415</td>\n",
       "      <td>137.945408</td>\n",
       "    </tr>\n",
       "    <tr>\n",
       "      <th>4</th>\n",
       "      <td>12.702195</td>\n",
       "      <td>-8.147433</td>\n",
       "      <td>5.004363</td>\n",
       "      <td>134.766305</td>\n",
       "    </tr>\n",
       "  </tbody>\n",
       "</table>\n",
       "</div>"
      ],
      "text/plain": [
       "          f0         f1        f2     product\n",
       "0 -15.001348  -8.276000 -0.005876    3.179103\n",
       "1  14.272088  -3.475083  0.999183   26.953261\n",
       "2   6.263187  -5.948386  5.001160  134.766305\n",
       "3 -13.081196 -11.506057  4.999415  137.945408\n",
       "4  12.702195  -8.147433  5.004363  134.766305"
      ]
     },
     "metadata": {},
     "output_type": "display_data"
    },
    {
     "data": {
      "text/html": [
       "<div>\n",
       "<style scoped>\n",
       "    .dataframe tbody tr th:only-of-type {\n",
       "        vertical-align: middle;\n",
       "    }\n",
       "\n",
       "    .dataframe tbody tr th {\n",
       "        vertical-align: top;\n",
       "    }\n",
       "\n",
       "    .dataframe thead th {\n",
       "        text-align: right;\n",
       "    }\n",
       "</style>\n",
       "<table border=\"1\" class=\"dataframe\">\n",
       "  <thead>\n",
       "    <tr style=\"text-align: right;\">\n",
       "      <th></th>\n",
       "      <th>f0</th>\n",
       "      <th>f1</th>\n",
       "      <th>f2</th>\n",
       "      <th>product</th>\n",
       "    </tr>\n",
       "  </thead>\n",
       "  <tbody>\n",
       "    <tr>\n",
       "      <th>0</th>\n",
       "      <td>-1.146987</td>\n",
       "      <td>0.963328</td>\n",
       "      <td>-0.828965</td>\n",
       "      <td>27.758673</td>\n",
       "    </tr>\n",
       "    <tr>\n",
       "      <th>1</th>\n",
       "      <td>0.262778</td>\n",
       "      <td>0.269839</td>\n",
       "      <td>-2.530187</td>\n",
       "      <td>56.069697</td>\n",
       "    </tr>\n",
       "    <tr>\n",
       "      <th>2</th>\n",
       "      <td>0.194587</td>\n",
       "      <td>0.289035</td>\n",
       "      <td>-5.586433</td>\n",
       "      <td>62.871910</td>\n",
       "    </tr>\n",
       "    <tr>\n",
       "      <th>3</th>\n",
       "      <td>2.236060</td>\n",
       "      <td>-0.553760</td>\n",
       "      <td>0.930038</td>\n",
       "      <td>114.572842</td>\n",
       "    </tr>\n",
       "    <tr>\n",
       "      <th>4</th>\n",
       "      <td>-0.515993</td>\n",
       "      <td>1.716266</td>\n",
       "      <td>5.899011</td>\n",
       "      <td>149.600746</td>\n",
       "    </tr>\n",
       "  </tbody>\n",
       "</table>\n",
       "</div>"
      ],
      "text/plain": [
       "         f0        f1        f2     product\n",
       "0 -1.146987  0.963328 -0.828965   27.758673\n",
       "1  0.262778  0.269839 -2.530187   56.069697\n",
       "2  0.194587  0.289035 -5.586433   62.871910\n",
       "3  2.236060 -0.553760  0.930038  114.572842\n",
       "4 -0.515993  1.716266  5.899011  149.600746"
      ]
     },
     "metadata": {},
     "output_type": "display_data"
    }
   ],
   "source": [
    "df_1 = df_1.drop(['id'], axis=1)\n",
    "df_2 = df_2.drop(['id'], axis=1)\n",
    "df_3 = df_3.drop(['id'], axis=1)\n",
    "display(df_1.head(), df_2.head(), df_3.head())"
   ]
  },
  {
   "cell_type": "markdown",
   "metadata": {},
   "source": [
    "## Обучение и проверка модели"
   ]
  },
  {
   "cell_type": "markdown",
   "metadata": {},
   "source": [
    "### Разбивка данных на выборки"
   ]
  },
  {
   "cell_type": "code",
   "execution_count": 11,
   "metadata": {},
   "outputs": [],
   "source": [
    "#создадим функцию для работы с 3-мя датасетами\n",
    "def region(region_number):\n",
    "    features = region_number.drop(['product'], axis=1) # извлекаем признаки\n",
    "    target = region_number['product'] # извлекаем целевой признак\n",
    "    #print(features.shape)\n",
    "    #разделим данные на обучающую и валидационную выборки \n",
    "    features_train, features_valid, target_train, target_valid = train_test_split(\n",
    "            features, target, test_size=0.25, random_state = 12345)\n",
    "    #применим метод масштабирования — стандартизация данных\n",
    "    numeric = ['f0', 'f1', 'f2']\n",
    "    scaler = StandardScaler()\n",
    "    scaler.fit(features_train[numeric])\n",
    "    features_train[numeric] = scaler.transform(features_train[numeric])\n",
    "    features_valid[numeric] = scaler.transform(features_valid[numeric])\n",
    "    \n",
    "    return features_train, features_valid, target_train, target_valid\n",
    "warnings.filterwarnings('ignore')"
   ]
  },
  {
   "cell_type": "code",
   "execution_count": 12,
   "metadata": {},
   "outputs": [],
   "source": [
    "features_train_1, features_valid_1, target_train_1, target_valid_1 = region(df_1)\n",
    "features_train_2, features_valid_2, target_train_2, target_valid_2 = region(df_2)\n",
    "features_train_3, features_valid_3, target_train_3, target_valid_3 = region(df_3)"
   ]
  },
  {
   "cell_type": "markdown",
   "metadata": {},
   "source": [
    "### Обучение модели и предсказания на валидационной выборке"
   ]
  },
  {
   "cell_type": "code",
   "execution_count": 13,
   "metadata": {},
   "outputs": [],
   "source": [
    "def teaching(features_train, features_valid, target_train, target_valid):\n",
    "    model = LinearRegression() \n",
    "    model.fit(features_train, target_train) #обучим модель на тренировочной выборке\n",
    "    predictions_valid = pd.Series(model.predict(features_valid)) # получим предсказания модели на валидационной выборке\n",
    "    \n",
    "    rmse = (mean_squared_error(target_valid, predictions_valid))**0.5 # посчитаем значение метрики RMSE на валидационной выборке\n",
    "    raw_mean = predictions_valid.mean() #средний запас\n",
    "    \n",
    "    return predictions_valid, rmse, raw_mean"
   ]
  },
  {
   "cell_type": "code",
   "execution_count": 14,
   "metadata": {},
   "outputs": [],
   "source": [
    "#определим предсказание модеоли,RMSE модели и средний запас предсказанного сырья для каждого региона\n",
    "predictions_valid_1, rmse_1, raw_mean_1 = teaching(features_train_1, features_valid_1, target_train_1, target_valid_1)\n",
    "predictions_valid_2, rmse_2, raw_mean_2 = teaching(features_train_2, features_valid_2, target_train_2, target_valid_2)\n",
    "predictions_valid_3, rmse_3, raw_mean_3 = teaching(features_train_3, features_valid_3, target_train_3, target_valid_3)"
   ]
  },
  {
   "cell_type": "code",
   "execution_count": 15,
   "metadata": {
    "scrolled": true
   },
   "outputs": [
    {
     "name": "stdout",
     "output_type": "stream",
     "text": [
      "Cредний запас предсказанного сырья региона №1 составляет 92.59256778438035\n",
      "Cредний запас предсказанного сырья региона №2 составляет 68.728546895446\n",
      "Cредний запас предсказанного сырья региона №3 составляет 94.96504596800489\n"
     ]
    }
   ],
   "source": [
    "print(f'Cредний запас предсказанного сырья региона №1 составляет {raw_mean_1}') \n",
    "print(f'Cредний запас предсказанного сырья региона №2 составляет {raw_mean_2}')\n",
    "print(f'Cредний запас предсказанного сырья региона №3 составляет {raw_mean_3}')"
   ]
  },
  {
   "cell_type": "code",
   "execution_count": 16,
   "metadata": {},
   "outputs": [
    {
     "name": "stdout",
     "output_type": "stream",
     "text": [
      "Значение RMSE региона №1 составляет 37.5794217150813\n",
      "Значение RMSE региона №2 составляет 0.893099286775617\n",
      "Значение RMSE региона №3 составляет 40.02970873393434\n"
     ]
    }
   ],
   "source": [
    "print(f'Значение RMSE региона №1 составляет {rmse_1}') \n",
    "print(f'Значение RMSE региона №2 составляет {rmse_2}') \n",
    "print(f'Значение RMSE региона №3 составляет {rmse_3}') "
   ]
  },
  {
   "cell_type": "code",
   "execution_count": 17,
   "metadata": {
    "scrolled": true
   },
   "outputs": [
    {
     "name": "stdout",
     "output_type": "stream",
     "text": [
      "Cредний запас исходного сырья региона №1 составляет 92.07859674082927\n",
      "Cредний запас исходного сырья региона №2 составляет 68.72313602435997\n",
      "Cредний запас исходного сырья региона №3 составляет 94.88423280885438\n"
     ]
    }
   ],
   "source": [
    "#сравним полученные данные с реальными\n",
    "print(f'Cредний запас исходного сырья региона №1 составляет {target_valid_1.mean()}') \n",
    "print(f'Cредний запас исходного сырья региона №2 составляет {target_valid_2.mean()}')\n",
    "print(f'Cредний запас исходного сырья региона №3 составляет {target_valid_3.mean()}')"
   ]
  },
  {
   "cell_type": "markdown",
   "metadata": {},
   "source": [
    "**Вывод**    \n",
    "Исходя из полученных данным, мы можем сделать вывод о том, что:\n",
    "1. все модели имеют малый разброс данных, на это указывают небольшие отличия предстазанных результов от реальных.\n",
    "2. наилучшей моделью является модель второго региона. У данной модели минимальное значение RMSE, значит данная модель лучше всех описывает данные. Вероятно, на полученные данные также оказывает влияние и то, что во втором регионе у признака f2 и объёма запасов в скважине присутствует 100% линейная зависимость.\n"
   ]
  },
  {
   "cell_type": "markdown",
   "metadata": {},
   "source": [
    "## Подготовка к расчёту прибыли"
   ]
  },
  {
   "cell_type": "markdown",
   "metadata": {},
   "source": [
    "3.1. Все ключевые значения для расчётов сохраните в отдельных переменных.    \n",
    "3.2. Рассчитайте достаточный объём сырья для безубыточной разработки новой скважины. Сравните полученный объём сырья со средним запасом в каждом регионе.    \n",
    "3.3. Напишите выводы по этапу подготовки расчёта прибыли.    \n"
   ]
  },
  {
   "cell_type": "markdown",
   "metadata": {},
   "source": [
    "### Сохраним важные для расчетов переменные"
   ]
  },
  {
   "cell_type": "code",
   "execution_count": 18,
   "metadata": {},
   "outputs": [],
   "source": [
    "total_points = 500 #исследуемые точки\n",
    "best_points = 200 #лучшие из исследуемых точек(200 лучших скважин)\n",
    "income_per_barrel = 450 #доход с одного барреля\n",
    "unit_income = 0.45 #Доход с каждой 1тыс. баррелей в млн рублей\n",
    "budget = 10000 #Бюджет на разработку скважин в регионе в млн рублей\n",
    "loss_probability = 0.025 #вероятность убытков"
   ]
  },
  {
   "cell_type": "markdown",
   "metadata": {},
   "source": [
    "### Расчет объема сырья для безубыточной разработки"
   ]
  },
  {
   "cell_type": "code",
   "execution_count": 19,
   "metadata": {
    "scrolled": true
   },
   "outputs": [
    {
     "name": "stdout",
     "output_type": "stream",
     "text": [
      "Объем сырья для безубыточной разработки скважины в 1 тыс.баррелей составляет 111.1\n"
     ]
    }
   ],
   "source": [
    "#определим бюджет на разработку одной скважины, млн рублей\n",
    "development_budget = budget/best_points \n",
    "#объем сырья для безубыточной разработки скважины\n",
    "volume_of_raw_materials = development_budget/unit_income \n",
    "print(f'Объем сырья для безубыточной разработки скважины в 1 тыс.баррелей составляет {volume_of_raw_materials:.1f}') "
   ]
  },
  {
   "cell_type": "markdown",
   "metadata": {},
   "source": [
    "### Сравним полученный  объем сырья со средним запасом в каждом регионе"
   ]
  },
  {
   "cell_type": "code",
   "execution_count": 20,
   "metadata": {
    "scrolled": true
   },
   "outputs": [
    {
     "name": "stdout",
     "output_type": "stream",
     "text": [
      "Разница полученного объема сырья и среднего запаса региона №1 составляет 16.7%\n",
      "Разница полученного объема сырья и среднего запаса региона №2 составляет 38.1%\n",
      "Разница полученного объема сырья и среднего запаса региона №3 составляет 14.5%\n"
     ]
    }
   ],
   "source": [
    "volume_difference_1 = (volume_of_raw_materials-raw_mean_1)/volume_of_raw_materials\n",
    "volume_difference_2 = (volume_of_raw_materials-raw_mean_2)/volume_of_raw_materials\n",
    "volume_difference_3 = (volume_of_raw_materials-raw_mean_3)/volume_of_raw_materials\n",
    "print(f'Разница полученного объема сырья и среднего запаса региона №1 составляет {volume_difference_1:.1%}') \n",
    "print(f'Разница полученного объема сырья и среднего запаса региона №2 составляет {volume_difference_2:.1%}') \n",
    "print(f'Разница полученного объема сырья и среднего запаса региона №3 составляет {volume_difference_3:.1%}') "
   ]
  },
  {
   "cell_type": "markdown",
   "metadata": {},
   "source": [
    "Исходя из полученных данных мы можем сделать вывод о том, что ни один из регионов не может обеспечить безубыточную разработку. Мы видим, что самым перспективным районом сейчас является регион №3. Там нехватка сырья для безубычной работы составляет 14,5%."
   ]
  },
  {
   "cell_type": "markdown",
   "metadata": {},
   "source": [
    "## Расчёт прибыли и рисков "
   ]
  },
  {
   "cell_type": "markdown",
   "metadata": {},
   "source": [
    "Напишите функцию для расчёта прибыли по выбранным скважинам и предсказаниям модели:    \n",
    "4.1. Выберите скважины с максимальными значениями предсказаний.    \n",
    "4.2. Просуммируйте целевое значение объёма сырья, соответствующее этим предсказаниям.    \n",
    "4.3. Рассчитайте прибыль для полученного объёма сырья.    "
   ]
  },
  {
   "cell_type": "code",
   "execution_count": 21,
   "metadata": {
    "scrolled": true
   },
   "outputs": [
    {
     "name": "stdout",
     "output_type": "stream",
     "text": [
      "Прибыль для полученного объема сырья: \n",
      "- для региона №1 - 3320.8 млн.рублей,\n",
      "- для региона №2 - 2415.1 млн.рублей,\n",
      "- для региона №3 - 2710.3 млн.рублей.\n",
      "\n"
     ]
    }
   ],
   "source": [
    "def income_calc(target_valid, predictions_valid):\n",
    "    well_best_pred = predictions_valid.sort_values(ascending = False).head(200) #скважины с максимальными значениями предсказаний объема сырья\n",
    "    target_best = target_valid.reset_index(drop=True)[well_best_pred.index] #целевые значения, соответсвующие максимальным значениям предсказаний\n",
    "    income_for_raw_materials = target_best.sum() * unit_income #доход от полученного объема сырья\n",
    "    return income_for_raw_materials   \n",
    "income_calc(target_valid_1, predictions_valid_1)\n",
    "profit_1 = income_calc(target_valid_1, predictions_valid_1) - budget\n",
    "profit_2 = income_calc(target_valid_2, predictions_valid_2) - budget\n",
    "profit_3 = income_calc(target_valid_3, predictions_valid_3) - budget\n",
    "print(f'''Прибыль для полученного объема сырья: \n",
    "- для региона №1 - {profit_1:.1f} млн.рублей,\n",
    "- для региона №2 - {profit_2:.1f} млн.рублей,\n",
    "- для региона №3 - {profit_3:.1f} млн.рублей.\n",
    "''') "
   ]
  },
  {
   "cell_type": "markdown",
   "metadata": {},
   "source": [
    "**Вывод**    \n",
    "Изучив 200 лучших из исследуемых точек, мы выяснили, что самым прибыльным является регион №1, далее идет регион №3 и последним по прибыльности является регион №2."
   ]
  },
  {
   "cell_type": "markdown",
   "metadata": {},
   "source": [
    "## Расчет рисков и прибыли для каждого региона"
   ]
  },
  {
   "cell_type": "markdown",
   "metadata": {},
   "source": [
    "5.1. Примените технику Bootstrap с 1000 выборок, чтобы найти распределение прибыли.     \n",
    "5.2. Найдите среднюю прибыль, 95%-й доверительный интервал и риск убытков. Убыток — это отрицательная прибыль.     \n",
    "5.3. Напишите выводы: предложите регион для разработки скважин и обоснуйте выбор.    "
   ]
  },
  {
   "cell_type": "markdown",
   "metadata": {},
   "source": [
    "Напишем функцию, которая отберет 200 лучших точек и посчитает доход с каждой из них."
   ]
  },
  {
   "cell_type": "code",
   "execution_count": 22,
   "metadata": {},
   "outputs": [],
   "source": [
    "def revenue (target_valid, predictions_valid, best_points):\n",
    "    pred_choice = predictions_valid.sort_values(ascending=False).head(200) # сортируем скважины по значениям их предсказаний\n",
    "    # определяем верные значения для отобранных случайных скважин и берем только нужное количество\n",
    "    target_choice = target_valid[pred_choice.index][:200] #целевые значения, соответсвующие максимальным значениям предсказаний\n",
    "    income = target_choice.sum() * unit_income # доход в млн. рублей для 200 лучших точек\n",
    "    return income"
   ]
  },
  {
   "cell_type": "markdown",
   "metadata": {},
   "source": [
    "Создадим функцию в которой применим технику Bootstrap с 1000 выборок, чтобы найти распределение прибыли. Определим среднюю прибыль, доверительный интервал и риск убытков. По результатам данных рассчетов мы сможем определить наилучший для разработки регион."
   ]
  },
  {
   "cell_type": "code",
   "execution_count": 23,
   "metadata": {
    "scrolled": true
   },
   "outputs": [
    {
     "name": "stdout",
     "output_type": "stream",
     "text": [
      "Регион №1\n",
      "Средняя прибыль: 426.0 млн рублей\n",
      "5%-квантиль: -31.803114346116573\n",
      "95%-квантиль: 881.3414543602809\n",
      "95%-ый доверительный интервал: (408.7322070686989, 443.1448467524865)\n",
      "Количество убыточных экспериментов: 60\n",
      "Вероятность убытков: 6.00%\n",
      "Регион №2\n",
      "Средняя прибыль: 516.0 млн рублей\n",
      "5%-квантиль: 150.78574064118058\n",
      "95%-квантиль: 861.5214641012808\n",
      "95%-ый доверительный интервал: (501.62147617632206, 528.8240707102583)\n",
      "Количество убыточных экспериментов: 10\n",
      "Вероятность убытков: 1.00%\n",
      "Регион №3\n",
      "Средняя прибыль: 436.0 млн рублей\n",
      "5%-квантиль: -43.44849132250144\n",
      "95%-квантиль: 897.9546889016578\n",
      "95%-ый доверительный интервал: (417.4535520413581, 452.5631735241536)\n",
      "Количество убыточных экспериментов: 64\n",
      "Вероятность убытков: 6.40%\n"
     ]
    }
   ],
   "source": [
    "def income_region(target_valid, predictions_valid, total_points):\n",
    "    state = np.random.RandomState(12345)\n",
    "    values = [] # значение выручек для 1000 выборок    \n",
    "    for i in range(1000):\n",
    "        #Сперва создадим подвыборки для бутстрепа с помощью функции sample(). \n",
    "        #у целевого признака по валидационной выборке сбрасываем индексы и выбираем нужное кол-во скважин\n",
    "        #один и тот же элемент может попадать в подвыборку несколько раз(replace=True) \n",
    "        target_subsample = target_valid.reset_index(drop=True).sample(total_points, replace=True, random_state = state)\n",
    "        #из предсказаний выбираем строки соответствующие отобранным строкам в целевом признаке\n",
    "        pred_subsample = predictions_valid[target_subsample.index] \n",
    "        #считаем выручку для отобранных строк, но только для нужного количества скважин\n",
    "        revenue_subs = revenue(target_subsample, pred_subsample, best_points) - budget\n",
    "        values.append(revenue_subs)\n",
    "    \n",
    "    values = pd.Series(values)\n",
    "    mean = np.ceil(values.mean()) # средняя прибыль\n",
    "    print('Средняя прибыль:', mean,'млн рублей')\n",
    "    lower =  values.quantile(0.05) #5%-квартиль \n",
    "    print('5%-квантиль:', lower)\n",
    "    upper =  values.quantile(0.95) #95%-квартиль\n",
    "    print('95%-квантиль:', upper)\n",
    "\n",
    "    confidence_interval = st.t.interval(0.95, len(values)-1, loc=np.mean(values),scale=st.sem(values)) # 95% доверительный интервал\n",
    "    print('95%-ый доверительный интервал:', confidence_interval)\n",
    "    \n",
    "    loss = values[values<0]\n",
    "    print('Количество убыточных экспериментов:', loss.count())\n",
    "    print(\"Вероятность убытков: {:.2%}\".format(loss.count()/len(values)))\n",
    "\n",
    "print('Регион №1')\n",
    "income_region(target_valid_1, predictions_valid_1, total_points)\n",
    "\n",
    "print('Регион №2')\n",
    "income_region(target_valid_2, predictions_valid_2, total_points)\n",
    "\n",
    "print('Регион №3')\n",
    "income_region(target_valid_3, predictions_valid_3, total_points)\n"
   ]
  },
  {
   "cell_type": "markdown",
   "metadata": {},
   "source": [
    "Исходя из полученных данных, мы можем сделать следующие выводы:\n",
    "1. При случайном выборе скважин, 200 из них также оказываются прибыльными, но прибыль уменьшается в несколько раз(для региона №1 - примерно в 7.8 раз, для региона №2 - примерно 4,6 раз, для региона №3 - примерно 6,2 раз). Самым прибыльным регионом изначально был регион №1, при случайном выборе скважин самым прибыльным становится регион №2.\n",
    "\n",
    "2. Самая низкая вероятность убытков в регионе №2 - 1,0%, далее идет регион №1 - 6% и регион №3 - 6,4%.    \n",
    "\n",
    "3. В регионе №2 наибольшая прибыль и наименьшие риски убытков, значит именно регион №2 мы можем рекомендавать заказчику в качетсве региона для разработки месторождения. "
   ]
  },
  {
   "cell_type": "markdown",
   "metadata": {},
   "source": [
    "## Итог"
   ]
  },
  {
   "cell_type": "markdown",
   "metadata": {},
   "source": [
    "В данном проекте мы изучили данные трех регионов, предложенных для разработки месторождений:    \n",
    "1. Мы обучили модель методом линейной регрессии и предсказали запас сырья для каждого региона. Далее мы сравнили полученные данные с истинными значениями запаса сырья и выяснили, что модель предсказывает достоверно, т.к. разброс данных небольшой.     \n",
    "2. Следующим шагом в нашей работе было, определить сколько сырья необходимо добывать для безубыточной работы скважины. По результатам расчетов, мы определили, что ниодин из регионов не может обеспечить безубыточность работы скважины.    \n",
    "Разница полученного объема сырья и среднего запаса региона №1 составляет 16.7%\n",
    "Разница полученного объема сырья и среднего запаса региона №2 составляет 38.1%\n",
    "Разница полученного объема сырья и среднего запаса региона №3 составляет 14.5%\n",
    "3. Мы рассчитали прибыль для каждого региона, исследуя 200 лучших точек из 500. И получили следующие данные:\n",
    "прибыль для полученного объема сырья: \n",
    "- для региона №1 - 3320.8 млн.рублей,\n",
    "- для региона №2 - 2415.1 млн.рублей,\n",
    "- для региона №3 - 2710.3 млн.рублей.\n",
    "4. Далее нам необходимо было проверить прибыльность скважины в условиях случайного выбора точек места разработки скважин. В таком случае, прибыль в кадом регионе упала в несколько раз, а это говорит о том, что необходимо выявить более точные критерии отбора точек месторождений. По результатам расчета, мы выяснили, что наиболее подходящим для разбаботки месторождений является регион №2 (с прибылью 666 млн.рублей и риском убытков 0,3%.  "
   ]
  }
 ],
 "metadata": {
  "ExecuteTimeLog": [
   {
    "duration": 515,
    "start_time": "2022-06-20T18:50:30.513Z"
   },
   {
    "duration": 1476,
    "start_time": "2022-06-20T18:59:41.418Z"
   },
   {
    "duration": 44,
    "start_time": "2022-06-20T19:00:36.459Z"
   },
   {
    "duration": 2,
    "start_time": "2022-06-20T19:04:25.274Z"
   },
   {
    "duration": 23,
    "start_time": "2022-06-20T19:05:10.597Z"
   },
   {
    "duration": 584,
    "start_time": "2022-06-20T19:07:26.059Z"
   },
   {
    "duration": 40,
    "start_time": "2022-06-20T19:07:27.371Z"
   },
   {
    "duration": 129,
    "start_time": "2022-06-20T19:07:35.265Z"
   },
   {
    "duration": 81,
    "start_time": "2022-06-20T19:20:16.566Z"
   },
   {
    "duration": 120,
    "start_time": "2022-06-20T19:22:42.618Z"
   },
   {
    "duration": 105,
    "start_time": "2022-06-20T19:23:13.788Z"
   },
   {
    "duration": 697,
    "start_time": "2022-06-20T19:29:28.499Z"
   },
   {
    "duration": 3,
    "start_time": "2022-06-20T19:29:32.833Z"
   },
   {
    "duration": 370,
    "start_time": "2022-06-20T19:29:37.292Z"
   },
   {
    "duration": 22,
    "start_time": "2022-06-20T19:29:37.664Z"
   },
   {
    "duration": 112,
    "start_time": "2022-06-20T19:29:37.687Z"
   },
   {
    "duration": 103,
    "start_time": "2022-06-20T19:29:37.801Z"
   },
   {
    "duration": 131,
    "start_time": "2022-06-20T19:29:37.906Z"
   },
   {
    "duration": 372,
    "start_time": "2022-06-20T19:32:54.966Z"
   },
   {
    "duration": 2,
    "start_time": "2022-06-20T19:53:57.194Z"
   },
   {
    "duration": 2,
    "start_time": "2022-06-20T19:53:58.668Z"
   },
   {
    "duration": 117,
    "start_time": "2022-06-20T19:55:20.097Z"
   },
   {
    "duration": 115,
    "start_time": "2022-06-20T19:55:30.248Z"
   },
   {
    "duration": 58,
    "start_time": "2022-06-20T19:58:15.324Z"
   },
   {
    "duration": 63,
    "start_time": "2022-06-20T19:58:24.578Z"
   },
   {
    "duration": 339,
    "start_time": "2022-06-20T19:58:29.379Z"
   },
   {
    "duration": 443,
    "start_time": "2022-06-20T19:58:31.984Z"
   },
   {
    "duration": 101,
    "start_time": "2022-06-20T19:58:34.864Z"
   },
   {
    "duration": 1586,
    "start_time": "2022-06-21T18:39:49.447Z"
   },
   {
    "duration": 961,
    "start_time": "2022-06-21T18:39:51.035Z"
   },
   {
    "duration": 25,
    "start_time": "2022-06-21T18:39:51.998Z"
   },
   {
    "duration": 142,
    "start_time": "2022-06-21T18:39:52.025Z"
   },
   {
    "duration": 138,
    "start_time": "2022-06-21T18:39:52.169Z"
   },
   {
    "duration": 117,
    "start_time": "2022-06-21T18:39:52.309Z"
   },
   {
    "duration": 130,
    "start_time": "2022-06-21T18:39:52.427Z"
   },
   {
    "duration": 0,
    "start_time": "2022-06-21T18:39:52.559Z"
   },
   {
    "duration": 2,
    "start_time": "2022-06-21T18:40:03.067Z"
   },
   {
    "duration": 3,
    "start_time": "2022-06-21T18:47:43.215Z"
   },
   {
    "duration": 3,
    "start_time": "2022-06-21T18:47:46.593Z"
   },
   {
    "duration": 2,
    "start_time": "2022-06-21T18:47:51.156Z"
   },
   {
    "duration": 375,
    "start_time": "2022-06-21T18:48:08.455Z"
   },
   {
    "duration": 346,
    "start_time": "2022-06-21T18:51:26.910Z"
   },
   {
    "duration": 371,
    "start_time": "2022-06-21T18:52:14.621Z"
   },
   {
    "duration": 311,
    "start_time": "2022-06-21T18:57:15.156Z"
   },
   {
    "duration": 346,
    "start_time": "2022-06-21T18:57:19.305Z"
   },
   {
    "duration": 382,
    "start_time": "2022-06-21T18:57:21.383Z"
   },
   {
    "duration": 37,
    "start_time": "2022-06-21T19:54:49.181Z"
   },
   {
    "duration": 20,
    "start_time": "2022-06-21T19:55:00.302Z"
   },
   {
    "duration": 40,
    "start_time": "2022-06-21T19:55:10.827Z"
   },
   {
    "duration": 7,
    "start_time": "2022-06-21T19:55:30.482Z"
   },
   {
    "duration": 746,
    "start_time": "2022-06-21T19:55:30.492Z"
   },
   {
    "duration": 29,
    "start_time": "2022-06-21T19:55:31.240Z"
   },
   {
    "duration": 4,
    "start_time": "2022-06-21T19:55:31.273Z"
   },
   {
    "duration": 3,
    "start_time": "2022-06-21T19:55:31.281Z"
   },
   {
    "duration": 117,
    "start_time": "2022-06-21T19:55:31.286Z"
   },
   {
    "duration": 511,
    "start_time": "2022-06-21T19:55:31.407Z"
   },
   {
    "duration": 363,
    "start_time": "2022-06-21T19:55:31.921Z"
   },
   {
    "duration": 345,
    "start_time": "2022-06-21T19:55:32.292Z"
   },
   {
    "duration": 8,
    "start_time": "2022-06-21T19:55:32.638Z"
   },
   {
    "duration": 51,
    "start_time": "2022-06-21T19:55:32.648Z"
   },
   {
    "duration": 23,
    "start_time": "2022-06-21T19:56:10.097Z"
   },
   {
    "duration": 22,
    "start_time": "2022-06-21T19:56:58.477Z"
   },
   {
    "duration": 452,
    "start_time": "2022-06-21T19:57:03.406Z"
   },
   {
    "duration": 25,
    "start_time": "2022-06-21T19:57:03.866Z"
   },
   {
    "duration": 0,
    "start_time": "2022-06-21T19:57:03.898Z"
   },
   {
    "duration": 17,
    "start_time": "2022-06-21T19:57:16.406Z"
   },
   {
    "duration": 959,
    "start_time": "2022-06-21T19:57:16.490Z"
   },
   {
    "duration": 49,
    "start_time": "2022-06-21T19:57:17.457Z"
   },
   {
    "duration": 156,
    "start_time": "2022-06-21T19:57:17.513Z"
   },
   {
    "duration": 97,
    "start_time": "2022-06-21T19:57:17.676Z"
   },
   {
    "duration": 186,
    "start_time": "2022-06-21T19:57:17.781Z"
   },
   {
    "duration": 612,
    "start_time": "2022-06-21T19:57:17.973Z"
   },
   {
    "duration": 397,
    "start_time": "2022-06-21T19:57:18.591Z"
   },
   {
    "duration": 396,
    "start_time": "2022-06-21T19:57:18.995Z"
   },
   {
    "duration": 46,
    "start_time": "2022-06-21T19:57:19.397Z"
   },
   {
    "duration": 153,
    "start_time": "2022-06-21T19:57:19.449Z"
   },
   {
    "duration": 15,
    "start_time": "2022-06-21T20:00:05.416Z"
   },
   {
    "duration": 17,
    "start_time": "2022-06-21T20:00:37.184Z"
   },
   {
    "duration": 15,
    "start_time": "2022-06-21T20:00:44.546Z"
   },
   {
    "duration": 7,
    "start_time": "2022-06-21T20:01:34.203Z"
   },
   {
    "duration": 5,
    "start_time": "2022-06-21T20:13:12.292Z"
   },
   {
    "duration": 5,
    "start_time": "2022-06-21T20:13:17.014Z"
   },
   {
    "duration": 21,
    "start_time": "2022-06-21T20:13:38.086Z"
   },
   {
    "duration": 19,
    "start_time": "2022-06-21T20:14:32.368Z"
   },
   {
    "duration": 5,
    "start_time": "2022-06-21T20:14:37.275Z"
   },
   {
    "duration": 999,
    "start_time": "2022-06-21T20:14:37.283Z"
   },
   {
    "duration": 62,
    "start_time": "2022-06-21T20:14:38.291Z"
   },
   {
    "duration": 37,
    "start_time": "2022-06-21T20:14:38.354Z"
   },
   {
    "duration": 7,
    "start_time": "2022-06-21T20:14:38.393Z"
   },
   {
    "duration": 7,
    "start_time": "2022-06-21T20:14:38.401Z"
   },
   {
    "duration": 504,
    "start_time": "2022-06-21T20:14:38.410Z"
   },
   {
    "duration": 680,
    "start_time": "2022-06-21T20:14:38.915Z"
   },
   {
    "duration": 394,
    "start_time": "2022-06-21T20:14:39.599Z"
   },
   {
    "duration": 61,
    "start_time": "2022-06-21T20:14:39.994Z"
   },
   {
    "duration": 41,
    "start_time": "2022-06-21T20:14:40.058Z"
   },
   {
    "duration": 14,
    "start_time": "2022-06-21T20:14:40.101Z"
   },
   {
    "duration": 18,
    "start_time": "2022-06-21T20:15:02.984Z"
   },
   {
    "duration": 4,
    "start_time": "2022-06-21T20:18:24.115Z"
   },
   {
    "duration": 824,
    "start_time": "2022-06-21T20:18:24.122Z"
   },
   {
    "duration": 26,
    "start_time": "2022-06-21T20:18:24.949Z"
   },
   {
    "duration": 17,
    "start_time": "2022-06-21T20:18:24.976Z"
   },
   {
    "duration": 6,
    "start_time": "2022-06-21T20:18:24.995Z"
   },
   {
    "duration": 6,
    "start_time": "2022-06-21T20:18:25.003Z"
   },
   {
    "duration": 699,
    "start_time": "2022-06-21T20:18:25.011Z"
   },
   {
    "duration": 353,
    "start_time": "2022-06-21T20:18:25.712Z"
   },
   {
    "duration": 319,
    "start_time": "2022-06-21T20:18:26.069Z"
   },
   {
    "duration": 49,
    "start_time": "2022-06-21T20:18:26.390Z"
   },
   {
    "duration": 55,
    "start_time": "2022-06-21T20:18:26.442Z"
   },
   {
    "duration": 20,
    "start_time": "2022-06-21T20:18:26.499Z"
   },
   {
    "duration": 37,
    "start_time": "2022-06-21T20:20:16.886Z"
   },
   {
    "duration": 37,
    "start_time": "2022-06-21T20:20:34.613Z"
   },
   {
    "duration": 3,
    "start_time": "2022-06-21T20:24:00.891Z"
   },
   {
    "duration": 451,
    "start_time": "2022-06-21T20:24:00.896Z"
   },
   {
    "duration": 30,
    "start_time": "2022-06-21T20:24:01.348Z"
   },
   {
    "duration": 8,
    "start_time": "2022-06-21T20:24:01.380Z"
   },
   {
    "duration": 13,
    "start_time": "2022-06-21T20:24:01.390Z"
   },
   {
    "duration": 13,
    "start_time": "2022-06-21T20:24:01.405Z"
   },
   {
    "duration": 359,
    "start_time": "2022-06-21T20:24:01.420Z"
   },
   {
    "duration": 320,
    "start_time": "2022-06-21T20:24:01.781Z"
   },
   {
    "duration": 330,
    "start_time": "2022-06-21T20:24:02.103Z"
   },
   {
    "duration": 35,
    "start_time": "2022-06-21T20:24:02.434Z"
   },
   {
    "duration": 22,
    "start_time": "2022-06-21T20:24:02.471Z"
   },
   {
    "duration": 41,
    "start_time": "2022-06-21T20:24:02.495Z"
   },
   {
    "duration": 31,
    "start_time": "2022-06-21T20:24:44.648Z"
   },
   {
    "duration": 73,
    "start_time": "2022-06-21T20:29:11.615Z"
   },
   {
    "duration": 1476,
    "start_time": "2022-06-28T16:46:25.733Z"
   },
   {
    "duration": 1803,
    "start_time": "2022-06-28T16:46:27.211Z"
   },
   {
    "duration": 25,
    "start_time": "2022-06-28T16:46:29.015Z"
   },
   {
    "duration": 4,
    "start_time": "2022-06-28T16:46:29.041Z"
   },
   {
    "duration": 3,
    "start_time": "2022-06-28T16:46:29.047Z"
   },
   {
    "duration": 4,
    "start_time": "2022-06-28T16:46:29.052Z"
   },
   {
    "duration": 372,
    "start_time": "2022-06-28T16:46:29.057Z"
   },
   {
    "duration": 281,
    "start_time": "2022-06-28T16:46:29.430Z"
   },
   {
    "duration": 293,
    "start_time": "2022-06-28T16:46:29.713Z"
   },
   {
    "duration": 37,
    "start_time": "2022-06-28T16:46:30.008Z"
   },
   {
    "duration": 5,
    "start_time": "2022-06-28T16:46:30.047Z"
   },
   {
    "duration": 32,
    "start_time": "2022-06-28T16:46:30.053Z"
   },
   {
    "duration": 4,
    "start_time": "2022-06-28T16:46:49.153Z"
   },
   {
    "duration": 330,
    "start_time": "2022-06-28T16:46:49.159Z"
   },
   {
    "duration": 20,
    "start_time": "2022-06-28T16:46:49.491Z"
   },
   {
    "duration": 4,
    "start_time": "2022-06-28T16:46:49.512Z"
   },
   {
    "duration": 3,
    "start_time": "2022-06-28T16:46:49.528Z"
   },
   {
    "duration": 4,
    "start_time": "2022-06-28T16:46:49.532Z"
   },
   {
    "duration": 305,
    "start_time": "2022-06-28T16:46:49.537Z"
   },
   {
    "duration": 270,
    "start_time": "2022-06-28T16:46:49.843Z"
   },
   {
    "duration": 395,
    "start_time": "2022-06-28T16:46:50.115Z"
   },
   {
    "duration": 38,
    "start_time": "2022-06-28T16:46:50.512Z"
   },
   {
    "duration": 4,
    "start_time": "2022-06-28T16:46:50.551Z"
   },
   {
    "duration": 31,
    "start_time": "2022-06-28T16:46:50.557Z"
   },
   {
    "duration": 31,
    "start_time": "2022-06-28T17:31:45.754Z"
   },
   {
    "duration": 4,
    "start_time": "2022-06-28T17:32:27.082Z"
   },
   {
    "duration": 4,
    "start_time": "2022-06-28T17:33:08.576Z"
   },
   {
    "duration": 35,
    "start_time": "2022-06-28T17:42:19.103Z"
   },
   {
    "duration": 5,
    "start_time": "2022-06-28T17:44:48.269Z"
   },
   {
    "duration": 25,
    "start_time": "2022-06-28T17:54:50.718Z"
   },
   {
    "duration": 24,
    "start_time": "2022-06-28T17:55:51.098Z"
   },
   {
    "duration": 4,
    "start_time": "2022-06-28T17:55:54.792Z"
   },
   {
    "duration": 23,
    "start_time": "2022-06-28T17:55:56.622Z"
   },
   {
    "duration": 65,
    "start_time": "2022-06-28T19:31:28.991Z"
   },
   {
    "duration": 3,
    "start_time": "2022-06-28T19:31:34.380Z"
   },
   {
    "duration": 363,
    "start_time": "2022-06-28T19:31:34.384Z"
   },
   {
    "duration": 20,
    "start_time": "2022-06-28T19:31:34.749Z"
   },
   {
    "duration": 3,
    "start_time": "2022-06-28T19:31:34.771Z"
   },
   {
    "duration": 3,
    "start_time": "2022-06-28T19:31:34.776Z"
   },
   {
    "duration": 4,
    "start_time": "2022-06-28T19:31:34.781Z"
   },
   {
    "duration": 345,
    "start_time": "2022-06-28T19:31:34.786Z"
   },
   {
    "duration": 312,
    "start_time": "2022-06-28T19:31:35.132Z"
   },
   {
    "duration": 293,
    "start_time": "2022-06-28T19:31:35.450Z"
   },
   {
    "duration": 33,
    "start_time": "2022-06-28T19:31:35.746Z"
   },
   {
    "duration": 4,
    "start_time": "2022-06-28T19:31:35.780Z"
   },
   {
    "duration": 84,
    "start_time": "2022-06-28T19:31:35.785Z"
   },
   {
    "duration": 110,
    "start_time": "2022-06-28T19:31:35.871Z"
   },
   {
    "duration": 4,
    "start_time": "2022-06-28T19:47:47.579Z"
   },
   {
    "duration": 3,
    "start_time": "2022-06-28T19:47:51.782Z"
   },
   {
    "duration": 316,
    "start_time": "2022-06-28T19:47:51.787Z"
   },
   {
    "duration": 25,
    "start_time": "2022-06-28T19:47:52.105Z"
   },
   {
    "duration": 3,
    "start_time": "2022-06-28T19:47:52.131Z"
   },
   {
    "duration": 4,
    "start_time": "2022-06-28T19:47:52.135Z"
   },
   {
    "duration": 5,
    "start_time": "2022-06-28T19:47:52.141Z"
   },
   {
    "duration": 303,
    "start_time": "2022-06-28T19:47:52.147Z"
   },
   {
    "duration": 283,
    "start_time": "2022-06-28T19:47:52.451Z"
   },
   {
    "duration": 278,
    "start_time": "2022-06-28T19:47:52.736Z"
   },
   {
    "duration": 36,
    "start_time": "2022-06-28T19:47:53.015Z"
   },
   {
    "duration": 4,
    "start_time": "2022-06-28T19:47:53.053Z"
   },
   {
    "duration": 77,
    "start_time": "2022-06-28T19:47:53.058Z"
   },
   {
    "duration": 3,
    "start_time": "2022-06-28T19:47:53.137Z"
   },
   {
    "duration": 3,
    "start_time": "2022-06-28T19:49:09.888Z"
   },
   {
    "duration": 69,
    "start_time": "2022-06-28T19:49:39.368Z"
   },
   {
    "duration": 4,
    "start_time": "2022-06-28T19:50:19.870Z"
   },
   {
    "duration": 4,
    "start_time": "2022-06-28T19:59:26.519Z"
   },
   {
    "duration": 156,
    "start_time": "2022-06-28T20:04:42.375Z"
   },
   {
    "duration": 116,
    "start_time": "2022-06-28T20:11:31.215Z"
   },
   {
    "duration": 3,
    "start_time": "2022-06-28T20:17:03.382Z"
   },
   {
    "duration": 3,
    "start_time": "2022-06-28T20:17:19.439Z"
   },
   {
    "duration": 3,
    "start_time": "2022-06-28T20:18:12.103Z"
   },
   {
    "duration": 3,
    "start_time": "2022-06-28T20:18:37.653Z"
   },
   {
    "duration": 3,
    "start_time": "2022-06-28T20:19:19.267Z"
   },
   {
    "duration": 5,
    "start_time": "2022-06-28T20:19:42.236Z"
   },
   {
    "duration": 5,
    "start_time": "2022-06-28T20:21:43.271Z"
   },
   {
    "duration": 377,
    "start_time": "2022-06-28T20:21:43.279Z"
   },
   {
    "duration": 25,
    "start_time": "2022-06-28T20:21:43.657Z"
   },
   {
    "duration": 3,
    "start_time": "2022-06-28T20:21:43.685Z"
   },
   {
    "duration": 7,
    "start_time": "2022-06-28T20:21:43.690Z"
   },
   {
    "duration": 5,
    "start_time": "2022-06-28T20:21:43.699Z"
   },
   {
    "duration": 344,
    "start_time": "2022-06-28T20:21:43.705Z"
   },
   {
    "duration": 267,
    "start_time": "2022-06-28T20:21:44.051Z"
   },
   {
    "duration": 284,
    "start_time": "2022-06-28T20:21:44.319Z"
   },
   {
    "duration": 34,
    "start_time": "2022-06-28T20:21:44.605Z"
   },
   {
    "duration": 4,
    "start_time": "2022-06-28T20:21:44.640Z"
   },
   {
    "duration": 60,
    "start_time": "2022-06-28T20:21:44.645Z"
   },
   {
    "duration": 3,
    "start_time": "2022-06-28T20:21:44.707Z"
   },
   {
    "duration": 122,
    "start_time": "2022-06-28T20:21:44.712Z"
   },
   {
    "duration": 95,
    "start_time": "2022-06-28T20:21:44.835Z"
   },
   {
    "duration": 99,
    "start_time": "2022-06-28T20:21:44.932Z"
   },
   {
    "duration": 1529,
    "start_time": "2022-06-29T17:56:39.260Z"
   },
   {
    "duration": 703,
    "start_time": "2022-06-29T17:56:40.791Z"
   },
   {
    "duration": 27,
    "start_time": "2022-06-29T17:56:41.495Z"
   },
   {
    "duration": 3,
    "start_time": "2022-06-29T17:56:41.523Z"
   },
   {
    "duration": 6,
    "start_time": "2022-06-29T17:56:41.528Z"
   },
   {
    "duration": 5,
    "start_time": "2022-06-29T17:56:41.536Z"
   },
   {
    "duration": 366,
    "start_time": "2022-06-29T17:56:41.543Z"
   },
   {
    "duration": 321,
    "start_time": "2022-06-29T17:56:41.910Z"
   },
   {
    "duration": 320,
    "start_time": "2022-06-29T17:56:42.232Z"
   },
   {
    "duration": 49,
    "start_time": "2022-06-29T17:56:42.554Z"
   },
   {
    "duration": 20,
    "start_time": "2022-06-29T17:56:42.605Z"
   },
   {
    "duration": 114,
    "start_time": "2022-06-29T17:56:42.628Z"
   },
   {
    "duration": 4,
    "start_time": "2022-06-29T17:56:42.745Z"
   },
   {
    "duration": 274,
    "start_time": "2022-06-29T17:56:42.752Z"
   },
   {
    "duration": 4,
    "start_time": "2022-06-29T17:56:43.029Z"
   },
   {
    "duration": 95,
    "start_time": "2022-06-29T17:56:43.035Z"
   },
   {
    "duration": 4,
    "start_time": "2022-06-29T18:09:23.901Z"
   },
   {
    "duration": 5,
    "start_time": "2022-06-29T18:11:32.261Z"
   },
   {
    "duration": 582,
    "start_time": "2022-06-29T18:11:32.269Z"
   },
   {
    "duration": 29,
    "start_time": "2022-06-29T18:11:32.854Z"
   },
   {
    "duration": 4,
    "start_time": "2022-06-29T18:11:32.886Z"
   },
   {
    "duration": 7,
    "start_time": "2022-06-29T18:11:32.892Z"
   },
   {
    "duration": 23,
    "start_time": "2022-06-29T18:11:32.901Z"
   },
   {
    "duration": 340,
    "start_time": "2022-06-29T18:11:32.926Z"
   },
   {
    "duration": 432,
    "start_time": "2022-06-29T18:11:33.269Z"
   },
   {
    "duration": 480,
    "start_time": "2022-06-29T18:11:33.705Z"
   },
   {
    "duration": 42,
    "start_time": "2022-06-29T18:11:34.190Z"
   },
   {
    "duration": 5,
    "start_time": "2022-06-29T18:11:34.234Z"
   },
   {
    "duration": 89,
    "start_time": "2022-06-29T18:11:34.243Z"
   },
   {
    "duration": 7,
    "start_time": "2022-06-29T18:11:34.335Z"
   },
   {
    "duration": 295,
    "start_time": "2022-06-29T18:11:34.344Z"
   },
   {
    "duration": 5,
    "start_time": "2022-06-29T18:11:34.642Z"
   },
   {
    "duration": 108,
    "start_time": "2022-06-29T18:11:34.722Z"
   },
   {
    "duration": 123,
    "start_time": "2022-06-29T18:11:34.832Z"
   },
   {
    "duration": 9,
    "start_time": "2022-06-29T18:12:16.217Z"
   },
   {
    "duration": 6,
    "start_time": "2022-06-29T18:13:10.896Z"
   },
   {
    "duration": 3,
    "start_time": "2022-06-29T18:31:08.189Z"
   },
   {
    "duration": 370,
    "start_time": "2022-06-29T18:31:08.194Z"
   },
   {
    "duration": 22,
    "start_time": "2022-06-29T18:31:08.566Z"
   },
   {
    "duration": 3,
    "start_time": "2022-06-29T18:31:08.590Z"
   },
   {
    "duration": 10,
    "start_time": "2022-06-29T18:31:08.595Z"
   },
   {
    "duration": 24,
    "start_time": "2022-06-29T18:31:08.606Z"
   },
   {
    "duration": 332,
    "start_time": "2022-06-29T18:31:08.632Z"
   },
   {
    "duration": 358,
    "start_time": "2022-06-29T18:31:08.967Z"
   },
   {
    "duration": 315,
    "start_time": "2022-06-29T18:31:09.327Z"
   },
   {
    "duration": 35,
    "start_time": "2022-06-29T18:31:09.644Z"
   },
   {
    "duration": 5,
    "start_time": "2022-06-29T18:31:09.681Z"
   },
   {
    "duration": 103,
    "start_time": "2022-06-29T18:31:09.688Z"
   },
   {
    "duration": 5,
    "start_time": "2022-06-29T18:31:09.793Z"
   },
   {
    "duration": 223,
    "start_time": "2022-06-29T18:31:09.802Z"
   },
   {
    "duration": 97,
    "start_time": "2022-06-29T18:31:10.027Z"
   },
   {
    "duration": 11,
    "start_time": "2022-06-29T18:31:10.126Z"
   },
   {
    "duration": 17,
    "start_time": "2022-06-29T18:31:10.139Z"
   },
   {
    "duration": 3,
    "start_time": "2022-06-29T18:58:48.512Z"
   },
   {
    "duration": 4,
    "start_time": "2022-06-29T18:59:08.692Z"
   },
   {
    "duration": 5,
    "start_time": "2022-06-29T18:59:22.684Z"
   },
   {
    "duration": 79,
    "start_time": "2022-06-29T19:11:10.799Z"
   },
   {
    "duration": 4,
    "start_time": "2022-06-29T19:11:18.194Z"
   },
   {
    "duration": 4,
    "start_time": "2022-06-29T19:16:20.527Z"
   },
   {
    "duration": 3,
    "start_time": "2022-06-29T19:38:46.502Z"
   },
   {
    "duration": 4,
    "start_time": "2022-06-29T19:39:06.400Z"
   },
   {
    "duration": 5,
    "start_time": "2022-06-29T19:40:03.144Z"
   },
   {
    "duration": 4,
    "start_time": "2022-06-29T19:40:08.578Z"
   },
   {
    "duration": 5,
    "start_time": "2022-06-29T19:41:40.637Z"
   },
   {
    "duration": 4,
    "start_time": "2022-06-29T19:41:51.192Z"
   },
   {
    "duration": 4,
    "start_time": "2022-06-29T19:46:26.160Z"
   },
   {
    "duration": 5,
    "start_time": "2022-06-29T19:46:38.127Z"
   },
   {
    "duration": 3,
    "start_time": "2022-06-29T19:47:39.338Z"
   },
   {
    "duration": 4,
    "start_time": "2022-06-29T19:50:19.215Z"
   },
   {
    "duration": 1579,
    "start_time": "2022-07-01T08:58:06.844Z"
   },
   {
    "duration": 757,
    "start_time": "2022-07-01T08:58:08.425Z"
   },
   {
    "duration": 29,
    "start_time": "2022-07-01T08:58:09.184Z"
   },
   {
    "duration": 9,
    "start_time": "2022-07-01T08:58:09.215Z"
   },
   {
    "duration": 5,
    "start_time": "2022-07-01T08:58:09.226Z"
   },
   {
    "duration": 7,
    "start_time": "2022-07-01T08:58:09.233Z"
   },
   {
    "duration": 428,
    "start_time": "2022-07-01T08:58:09.242Z"
   },
   {
    "duration": 345,
    "start_time": "2022-07-01T08:58:09.672Z"
   },
   {
    "duration": 312,
    "start_time": "2022-07-01T08:58:10.023Z"
   },
   {
    "duration": 36,
    "start_time": "2022-07-01T08:58:10.337Z"
   },
   {
    "duration": 5,
    "start_time": "2022-07-01T08:58:10.374Z"
   },
   {
    "duration": 97,
    "start_time": "2022-07-01T08:58:10.380Z"
   },
   {
    "duration": 3,
    "start_time": "2022-07-01T08:58:10.479Z"
   },
   {
    "duration": 243,
    "start_time": "2022-07-01T08:58:10.485Z"
   },
   {
    "duration": 94,
    "start_time": "2022-07-01T08:58:10.734Z"
   },
   {
    "duration": 99,
    "start_time": "2022-07-01T08:58:10.830Z"
   },
   {
    "duration": 11,
    "start_time": "2022-07-01T08:58:10.931Z"
   },
   {
    "duration": 6,
    "start_time": "2022-07-01T08:58:10.943Z"
   },
   {
    "duration": 14,
    "start_time": "2022-07-01T08:58:10.950Z"
   },
   {
    "duration": 4,
    "start_time": "2022-07-01T09:08:32.740Z"
   },
   {
    "duration": 3,
    "start_time": "2022-07-01T09:18:35.679Z"
   },
   {
    "duration": 5,
    "start_time": "2022-07-01T09:19:46.649Z"
   },
   {
    "duration": 5,
    "start_time": "2022-07-01T09:19:58.696Z"
   },
   {
    "duration": 4,
    "start_time": "2022-07-01T09:20:17.421Z"
   },
   {
    "duration": 5,
    "start_time": "2022-07-01T09:20:36.229Z"
   },
   {
    "duration": 4,
    "start_time": "2022-07-01T09:21:14.691Z"
   },
   {
    "duration": 4,
    "start_time": "2022-07-01T09:21:25.971Z"
   },
   {
    "duration": 104,
    "start_time": "2022-07-01T09:57:32.317Z"
   },
   {
    "duration": 4,
    "start_time": "2022-07-01T09:57:41.439Z"
   },
   {
    "duration": 3,
    "start_time": "2022-07-01T10:42:39.380Z"
   },
   {
    "duration": 4,
    "start_time": "2022-07-01T11:10:59.748Z"
   },
   {
    "duration": 16,
    "start_time": "2022-07-01T11:14:11.537Z"
   },
   {
    "duration": 4,
    "start_time": "2022-07-01T11:18:10.275Z"
   },
   {
    "duration": 3,
    "start_time": "2022-07-01T11:18:19.750Z"
   },
   {
    "duration": 368,
    "start_time": "2022-07-01T11:18:19.755Z"
   },
   {
    "duration": 21,
    "start_time": "2022-07-01T11:18:20.125Z"
   },
   {
    "duration": 3,
    "start_time": "2022-07-01T11:18:20.148Z"
   },
   {
    "duration": 5,
    "start_time": "2022-07-01T11:18:20.153Z"
   },
   {
    "duration": 6,
    "start_time": "2022-07-01T11:18:20.159Z"
   },
   {
    "duration": 371,
    "start_time": "2022-07-01T11:18:20.167Z"
   },
   {
    "duration": 299,
    "start_time": "2022-07-01T11:18:20.539Z"
   },
   {
    "duration": 377,
    "start_time": "2022-07-01T11:18:20.848Z"
   },
   {
    "duration": 32,
    "start_time": "2022-07-01T11:18:21.227Z"
   },
   {
    "duration": 4,
    "start_time": "2022-07-01T11:18:21.261Z"
   },
   {
    "duration": 81,
    "start_time": "2022-07-01T11:18:21.267Z"
   },
   {
    "duration": 4,
    "start_time": "2022-07-01T11:18:21.349Z"
   },
   {
    "duration": 173,
    "start_time": "2022-07-01T11:18:21.354Z"
   },
   {
    "duration": 95,
    "start_time": "2022-07-01T11:18:21.529Z"
   },
   {
    "duration": 6,
    "start_time": "2022-07-01T11:18:21.627Z"
   },
   {
    "duration": 91,
    "start_time": "2022-07-01T11:18:21.635Z"
   },
   {
    "duration": 7,
    "start_time": "2022-07-01T11:18:21.728Z"
   },
   {
    "duration": 7,
    "start_time": "2022-07-01T11:18:21.736Z"
   },
   {
    "duration": 8,
    "start_time": "2022-07-01T11:18:21.745Z"
   },
   {
    "duration": 13,
    "start_time": "2022-07-01T11:18:21.754Z"
   },
   {
    "duration": 10,
    "start_time": "2022-07-01T11:19:14.963Z"
   },
   {
    "duration": 12,
    "start_time": "2022-07-01T11:20:43.956Z"
   },
   {
    "duration": 12,
    "start_time": "2022-07-01T11:21:05.217Z"
   },
   {
    "duration": 19,
    "start_time": "2022-07-01T11:28:20.039Z"
   },
   {
    "duration": 4,
    "start_time": "2022-07-01T11:30:49.974Z"
   },
   {
    "duration": 403,
    "start_time": "2022-07-01T11:30:49.980Z"
   },
   {
    "duration": 25,
    "start_time": "2022-07-01T11:30:50.384Z"
   },
   {
    "duration": 20,
    "start_time": "2022-07-01T11:30:50.425Z"
   },
   {
    "duration": 12,
    "start_time": "2022-07-01T11:30:50.448Z"
   },
   {
    "duration": 41,
    "start_time": "2022-07-01T11:30:50.461Z"
   },
   {
    "duration": 400,
    "start_time": "2022-07-01T11:30:50.503Z"
   },
   {
    "duration": 380,
    "start_time": "2022-07-01T11:30:50.905Z"
   },
   {
    "duration": 360,
    "start_time": "2022-07-01T11:30:51.287Z"
   },
   {
    "duration": 39,
    "start_time": "2022-07-01T11:30:51.650Z"
   },
   {
    "duration": 7,
    "start_time": "2022-07-01T11:30:51.692Z"
   },
   {
    "duration": 96,
    "start_time": "2022-07-01T11:30:51.728Z"
   },
   {
    "duration": 9,
    "start_time": "2022-07-01T11:30:51.826Z"
   },
   {
    "duration": 293,
    "start_time": "2022-07-01T11:30:51.843Z"
   },
   {
    "duration": 11,
    "start_time": "2022-07-01T11:30:52.140Z"
   },
   {
    "duration": 103,
    "start_time": "2022-07-01T11:30:52.155Z"
   },
   {
    "duration": 13,
    "start_time": "2022-07-01T11:30:52.260Z"
   },
   {
    "duration": 57,
    "start_time": "2022-07-01T11:30:52.275Z"
   },
   {
    "duration": 17,
    "start_time": "2022-07-01T11:30:52.334Z"
   },
   {
    "duration": 9,
    "start_time": "2022-07-01T11:30:52.353Z"
   },
   {
    "duration": 28,
    "start_time": "2022-07-01T11:30:52.364Z"
   },
   {
    "duration": 6,
    "start_time": "2022-07-01T11:36:55.866Z"
   },
   {
    "duration": 416,
    "start_time": "2022-07-01T11:36:55.874Z"
   },
   {
    "duration": 23,
    "start_time": "2022-07-01T11:36:56.291Z"
   },
   {
    "duration": 7,
    "start_time": "2022-07-01T11:36:56.324Z"
   },
   {
    "duration": 19,
    "start_time": "2022-07-01T11:36:56.333Z"
   },
   {
    "duration": 5,
    "start_time": "2022-07-01T11:36:56.354Z"
   },
   {
    "duration": 318,
    "start_time": "2022-07-01T11:36:56.361Z"
   },
   {
    "duration": 342,
    "start_time": "2022-07-01T11:36:56.682Z"
   },
   {
    "duration": 322,
    "start_time": "2022-07-01T11:36:57.027Z"
   },
   {
    "duration": 31,
    "start_time": "2022-07-01T11:36:57.352Z"
   },
   {
    "duration": 5,
    "start_time": "2022-07-01T11:36:57.385Z"
   },
   {
    "duration": 91,
    "start_time": "2022-07-01T11:36:57.391Z"
   },
   {
    "duration": 5,
    "start_time": "2022-07-01T11:36:57.484Z"
   },
   {
    "duration": 136,
    "start_time": "2022-07-01T11:36:57.491Z"
   },
   {
    "duration": 5,
    "start_time": "2022-07-01T11:36:57.629Z"
   },
   {
    "duration": 108,
    "start_time": "2022-07-01T11:36:57.636Z"
   },
   {
    "duration": 8,
    "start_time": "2022-07-01T11:36:57.746Z"
   },
   {
    "duration": 7,
    "start_time": "2022-07-01T11:36:57.756Z"
   },
   {
    "duration": 6,
    "start_time": "2022-07-01T11:36:57.765Z"
   },
   {
    "duration": 6,
    "start_time": "2022-07-01T11:36:57.772Z"
   },
   {
    "duration": 24,
    "start_time": "2022-07-01T11:36:57.780Z"
   },
   {
    "duration": 18,
    "start_time": "2022-07-01T11:42:11.179Z"
   },
   {
    "duration": 4,
    "start_time": "2022-07-01T11:55:40.889Z"
   },
   {
    "duration": 9,
    "start_time": "2022-07-01T11:55:45.119Z"
   },
   {
    "duration": 369,
    "start_time": "2022-07-01T11:55:45.138Z"
   },
   {
    "duration": 30,
    "start_time": "2022-07-01T11:55:45.509Z"
   },
   {
    "duration": 3,
    "start_time": "2022-07-01T11:55:45.541Z"
   },
   {
    "duration": 7,
    "start_time": "2022-07-01T11:55:45.546Z"
   },
   {
    "duration": 5,
    "start_time": "2022-07-01T11:55:45.555Z"
   },
   {
    "duration": 324,
    "start_time": "2022-07-01T11:55:45.562Z"
   },
   {
    "duration": 358,
    "start_time": "2022-07-01T11:55:45.887Z"
   },
   {
    "duration": 303,
    "start_time": "2022-07-01T11:55:46.247Z"
   },
   {
    "duration": 30,
    "start_time": "2022-07-01T11:55:46.552Z"
   },
   {
    "duration": 5,
    "start_time": "2022-07-01T11:55:46.583Z"
   },
   {
    "duration": 99,
    "start_time": "2022-07-01T11:55:46.589Z"
   },
   {
    "duration": 4,
    "start_time": "2022-07-01T11:55:46.691Z"
   },
   {
    "duration": 130,
    "start_time": "2022-07-01T11:55:46.697Z"
   },
   {
    "duration": 100,
    "start_time": "2022-07-01T11:55:46.830Z"
   },
   {
    "duration": 26,
    "start_time": "2022-07-01T11:55:46.931Z"
   },
   {
    "duration": 13,
    "start_time": "2022-07-01T11:55:46.959Z"
   },
   {
    "duration": 7,
    "start_time": "2022-07-01T11:55:46.973Z"
   },
   {
    "duration": 6,
    "start_time": "2022-07-01T11:55:46.982Z"
   },
   {
    "duration": 6,
    "start_time": "2022-07-01T11:55:46.989Z"
   },
   {
    "duration": 24,
    "start_time": "2022-07-01T11:55:46.996Z"
   },
   {
    "duration": 2,
    "start_time": "2022-07-01T11:56:20.837Z"
   },
   {
    "duration": 71,
    "start_time": "2022-07-01T12:51:13.687Z"
   },
   {
    "duration": 6,
    "start_time": "2022-07-01T12:51:25.714Z"
   },
   {
    "duration": 13,
    "start_time": "2022-07-01T13:01:08.568Z"
   },
   {
    "duration": 4,
    "start_time": "2022-07-01T15:50:46.125Z"
   },
   {
    "duration": 354,
    "start_time": "2022-07-01T15:50:46.131Z"
   },
   {
    "duration": 22,
    "start_time": "2022-07-01T15:50:46.487Z"
   },
   {
    "duration": 3,
    "start_time": "2022-07-01T15:50:46.510Z"
   },
   {
    "duration": 2,
    "start_time": "2022-07-01T15:50:46.522Z"
   },
   {
    "duration": 9,
    "start_time": "2022-07-01T15:50:46.526Z"
   },
   {
    "duration": 317,
    "start_time": "2022-07-01T15:50:46.536Z"
   },
   {
    "duration": 418,
    "start_time": "2022-07-01T15:50:46.855Z"
   },
   {
    "duration": 351,
    "start_time": "2022-07-01T15:50:47.275Z"
   },
   {
    "duration": 32,
    "start_time": "2022-07-01T15:50:47.627Z"
   },
   {
    "duration": 5,
    "start_time": "2022-07-01T15:50:47.661Z"
   },
   {
    "duration": 79,
    "start_time": "2022-07-01T15:50:47.668Z"
   },
   {
    "duration": 3,
    "start_time": "2022-07-01T15:50:47.750Z"
   },
   {
    "duration": 175,
    "start_time": "2022-07-01T15:50:47.755Z"
   },
   {
    "duration": 96,
    "start_time": "2022-07-01T15:50:47.932Z"
   },
   {
    "duration": 94,
    "start_time": "2022-07-01T15:50:48.031Z"
   },
   {
    "duration": 13,
    "start_time": "2022-07-01T15:50:48.127Z"
   },
   {
    "duration": 3,
    "start_time": "2022-07-01T15:50:48.142Z"
   },
   {
    "duration": 6,
    "start_time": "2022-07-01T15:50:48.146Z"
   },
   {
    "duration": 6,
    "start_time": "2022-07-01T15:50:48.153Z"
   },
   {
    "duration": 19,
    "start_time": "2022-07-01T15:50:48.160Z"
   },
   {
    "duration": 9,
    "start_time": "2022-07-01T15:50:48.181Z"
   },
   {
    "duration": 0,
    "start_time": "2022-07-01T15:50:48.191Z"
   },
   {
    "duration": 4,
    "start_time": "2022-07-01T15:51:18.696Z"
   },
   {
    "duration": 388,
    "start_time": "2022-07-01T15:51:18.702Z"
   },
   {
    "duration": 19,
    "start_time": "2022-07-01T15:51:19.092Z"
   },
   {
    "duration": 12,
    "start_time": "2022-07-01T15:51:19.112Z"
   },
   {
    "duration": 5,
    "start_time": "2022-07-01T15:51:19.126Z"
   },
   {
    "duration": 6,
    "start_time": "2022-07-01T15:51:19.132Z"
   },
   {
    "duration": 303,
    "start_time": "2022-07-01T15:51:19.139Z"
   },
   {
    "duration": 280,
    "start_time": "2022-07-01T15:51:19.443Z"
   },
   {
    "duration": 289,
    "start_time": "2022-07-01T15:51:19.725Z"
   },
   {
    "duration": 39,
    "start_time": "2022-07-01T15:51:20.016Z"
   },
   {
    "duration": 4,
    "start_time": "2022-07-01T15:51:20.057Z"
   },
   {
    "duration": 85,
    "start_time": "2022-07-01T15:51:20.063Z"
   },
   {
    "duration": 5,
    "start_time": "2022-07-01T15:51:20.149Z"
   },
   {
    "duration": 176,
    "start_time": "2022-07-01T15:51:20.156Z"
   },
   {
    "duration": 5,
    "start_time": "2022-07-01T15:51:20.425Z"
   },
   {
    "duration": 98,
    "start_time": "2022-07-01T15:51:20.432Z"
   },
   {
    "duration": 12,
    "start_time": "2022-07-01T15:51:20.532Z"
   },
   {
    "duration": 28,
    "start_time": "2022-07-01T15:51:20.546Z"
   },
   {
    "duration": 6,
    "start_time": "2022-07-01T15:51:20.576Z"
   },
   {
    "duration": 7,
    "start_time": "2022-07-01T15:51:20.583Z"
   },
   {
    "duration": 29,
    "start_time": "2022-07-01T15:51:20.591Z"
   },
   {
    "duration": 5,
    "start_time": "2022-07-01T15:51:20.622Z"
   },
   {
    "duration": 28,
    "start_time": "2022-07-01T16:10:58.120Z"
   },
   {
    "duration": 4,
    "start_time": "2022-07-01T16:12:08.116Z"
   },
   {
    "duration": 357,
    "start_time": "2022-07-01T16:12:08.123Z"
   },
   {
    "duration": 23,
    "start_time": "2022-07-01T16:12:08.482Z"
   },
   {
    "duration": 3,
    "start_time": "2022-07-01T16:12:08.506Z"
   },
   {
    "duration": 2,
    "start_time": "2022-07-01T16:12:08.523Z"
   },
   {
    "duration": 6,
    "start_time": "2022-07-01T16:12:08.526Z"
   },
   {
    "duration": 297,
    "start_time": "2022-07-01T16:12:08.533Z"
   },
   {
    "duration": 298,
    "start_time": "2022-07-01T16:12:08.832Z"
   },
   {
    "duration": 301,
    "start_time": "2022-07-01T16:12:09.132Z"
   },
   {
    "duration": 30,
    "start_time": "2022-07-01T16:12:09.435Z"
   },
   {
    "duration": 4,
    "start_time": "2022-07-01T16:12:09.466Z"
   },
   {
    "duration": 84,
    "start_time": "2022-07-01T16:12:09.471Z"
   },
   {
    "duration": 4,
    "start_time": "2022-07-01T16:12:09.557Z"
   },
   {
    "duration": 163,
    "start_time": "2022-07-01T16:12:09.563Z"
   },
   {
    "duration": 97,
    "start_time": "2022-07-01T16:12:09.728Z"
   },
   {
    "duration": 10,
    "start_time": "2022-07-01T16:12:09.828Z"
   },
   {
    "duration": 5,
    "start_time": "2022-07-01T16:12:09.924Z"
   },
   {
    "duration": 11,
    "start_time": "2022-07-01T16:12:09.931Z"
   },
   {
    "duration": 7,
    "start_time": "2022-07-01T16:12:09.944Z"
   },
   {
    "duration": 8,
    "start_time": "2022-07-01T16:12:09.953Z"
   },
   {
    "duration": 20,
    "start_time": "2022-07-01T16:12:09.963Z"
   },
   {
    "duration": 48,
    "start_time": "2022-07-01T16:12:09.985Z"
   },
   {
    "duration": 25,
    "start_time": "2022-07-01T16:13:40.117Z"
   },
   {
    "duration": 1624,
    "start_time": "2022-07-02T15:17:30.465Z"
   },
   {
    "duration": 895,
    "start_time": "2022-07-02T15:17:32.092Z"
   },
   {
    "duration": 33,
    "start_time": "2022-07-02T15:17:32.989Z"
   },
   {
    "duration": 5,
    "start_time": "2022-07-02T15:17:33.024Z"
   },
   {
    "duration": 5,
    "start_time": "2022-07-02T15:17:33.031Z"
   },
   {
    "duration": 6,
    "start_time": "2022-07-02T15:17:33.037Z"
   },
   {
    "duration": 390,
    "start_time": "2022-07-02T15:17:33.044Z"
   },
   {
    "duration": 317,
    "start_time": "2022-07-02T15:17:33.436Z"
   },
   {
    "duration": 321,
    "start_time": "2022-07-02T15:17:33.755Z"
   },
   {
    "duration": 36,
    "start_time": "2022-07-02T15:17:34.077Z"
   },
   {
    "duration": 4,
    "start_time": "2022-07-02T15:17:34.114Z"
   },
   {
    "duration": 94,
    "start_time": "2022-07-02T15:17:34.120Z"
   },
   {
    "duration": 4,
    "start_time": "2022-07-02T15:17:34.216Z"
   },
   {
    "duration": 272,
    "start_time": "2022-07-02T15:17:34.222Z"
   },
   {
    "duration": 76,
    "start_time": "2022-07-02T15:17:34.496Z"
   },
   {
    "duration": 103,
    "start_time": "2022-07-02T15:17:34.574Z"
   },
   {
    "duration": 16,
    "start_time": "2022-07-02T15:17:34.679Z"
   },
   {
    "duration": 13,
    "start_time": "2022-07-02T15:17:34.697Z"
   },
   {
    "duration": 9,
    "start_time": "2022-07-02T15:17:34.712Z"
   },
   {
    "duration": 12,
    "start_time": "2022-07-02T15:17:34.724Z"
   },
   {
    "duration": 154,
    "start_time": "2022-07-02T15:17:34.738Z"
   },
   {
    "duration": 0,
    "start_time": "2022-07-02T15:17:34.894Z"
   },
   {
    "duration": 19,
    "start_time": "2022-07-02T15:25:45.385Z"
   },
   {
    "duration": 4,
    "start_time": "2022-07-02T15:25:49.913Z"
   },
   {
    "duration": 345,
    "start_time": "2022-07-02T15:25:49.919Z"
   },
   {
    "duration": 28,
    "start_time": "2022-07-02T15:25:50.266Z"
   },
   {
    "duration": 3,
    "start_time": "2022-07-02T15:25:50.295Z"
   },
   {
    "duration": 10,
    "start_time": "2022-07-02T15:25:50.300Z"
   },
   {
    "duration": 5,
    "start_time": "2022-07-02T15:25:50.311Z"
   },
   {
    "duration": 365,
    "start_time": "2022-07-02T15:25:50.318Z"
   },
   {
    "duration": 285,
    "start_time": "2022-07-02T15:25:50.685Z"
   },
   {
    "duration": 391,
    "start_time": "2022-07-02T15:25:50.973Z"
   },
   {
    "duration": 32,
    "start_time": "2022-07-02T15:25:51.371Z"
   },
   {
    "duration": 4,
    "start_time": "2022-07-02T15:25:51.405Z"
   },
   {
    "duration": 84,
    "start_time": "2022-07-02T15:25:51.411Z"
   },
   {
    "duration": 3,
    "start_time": "2022-07-02T15:25:51.497Z"
   },
   {
    "duration": 289,
    "start_time": "2022-07-02T15:25:51.503Z"
   },
   {
    "duration": 19,
    "start_time": "2022-07-02T15:25:51.867Z"
   },
   {
    "duration": 99,
    "start_time": "2022-07-02T15:25:51.888Z"
   },
   {
    "duration": 17,
    "start_time": "2022-07-02T15:25:51.989Z"
   },
   {
    "duration": 7,
    "start_time": "2022-07-02T15:25:52.007Z"
   },
   {
    "duration": 5,
    "start_time": "2022-07-02T15:25:52.016Z"
   },
   {
    "duration": 11,
    "start_time": "2022-07-02T15:25:52.023Z"
   },
   {
    "duration": 28,
    "start_time": "2022-07-02T15:25:52.036Z"
   },
   {
    "duration": 29,
    "start_time": "2022-07-02T15:25:52.065Z"
   },
   {
    "duration": 0,
    "start_time": "2022-07-02T15:25:52.096Z"
   },
   {
    "duration": 5,
    "start_time": "2022-07-02T15:27:19.307Z"
   },
   {
    "duration": 13,
    "start_time": "2022-07-02T15:41:47.083Z"
   },
   {
    "duration": 637,
    "start_time": "2022-07-02T15:41:55.143Z"
   },
   {
    "duration": 631,
    "start_time": "2022-07-02T15:42:48.088Z"
   },
   {
    "duration": 1226,
    "start_time": "2022-07-02T15:43:15.297Z"
   },
   {
    "duration": 1921,
    "start_time": "2022-07-02T15:43:37.306Z"
   },
   {
    "duration": 1889,
    "start_time": "2022-07-02T15:43:51.900Z"
   },
   {
    "duration": 1986,
    "start_time": "2022-07-02T15:47:39.455Z"
   },
   {
    "duration": 14,
    "start_time": "2022-07-02T16:01:01.791Z"
   },
   {
    "duration": 9406,
    "start_time": "2022-07-02T16:01:21.816Z"
   },
   {
    "duration": 4,
    "start_time": "2022-07-02T16:07:37.618Z"
   },
   {
    "duration": 31,
    "start_time": "2022-07-02T16:08:29.787Z"
   },
   {
    "duration": 4,
    "start_time": "2022-07-02T16:08:47.406Z"
   },
   {
    "duration": 346,
    "start_time": "2022-07-02T16:08:47.439Z"
   },
   {
    "duration": 29,
    "start_time": "2022-07-02T16:08:47.788Z"
   },
   {
    "duration": 5,
    "start_time": "2022-07-02T16:08:47.819Z"
   },
   {
    "duration": 8,
    "start_time": "2022-07-02T16:08:47.825Z"
   },
   {
    "duration": 7,
    "start_time": "2022-07-02T16:08:47.835Z"
   },
   {
    "duration": 338,
    "start_time": "2022-07-02T16:08:47.844Z"
   },
   {
    "duration": 316,
    "start_time": "2022-07-02T16:08:48.185Z"
   },
   {
    "duration": 296,
    "start_time": "2022-07-02T16:08:48.503Z"
   },
   {
    "duration": 33,
    "start_time": "2022-07-02T16:08:48.800Z"
   },
   {
    "duration": 4,
    "start_time": "2022-07-02T16:08:48.834Z"
   },
   {
    "duration": 99,
    "start_time": "2022-07-02T16:08:48.840Z"
   },
   {
    "duration": 4,
    "start_time": "2022-07-02T16:08:48.941Z"
   },
   {
    "duration": 231,
    "start_time": "2022-07-02T16:08:48.947Z"
   },
   {
    "duration": 4,
    "start_time": "2022-07-02T16:08:49.181Z"
   },
   {
    "duration": 99,
    "start_time": "2022-07-02T16:08:49.187Z"
   },
   {
    "duration": 100,
    "start_time": "2022-07-02T16:08:49.288Z"
   },
   {
    "duration": 7,
    "start_time": "2022-07-02T16:08:49.390Z"
   },
   {
    "duration": 7,
    "start_time": "2022-07-02T16:08:49.399Z"
   },
   {
    "duration": 5,
    "start_time": "2022-07-02T16:08:49.408Z"
   },
   {
    "duration": 20,
    "start_time": "2022-07-02T16:08:49.415Z"
   },
   {
    "duration": 3,
    "start_time": "2022-07-02T16:08:49.437Z"
   },
   {
    "duration": 51,
    "start_time": "2022-07-02T16:08:49.442Z"
   },
   {
    "duration": 0,
    "start_time": "2022-07-02T16:08:49.494Z"
   },
   {
    "duration": 51,
    "start_time": "2022-07-02T16:09:28.952Z"
   },
   {
    "duration": 35,
    "start_time": "2022-07-02T16:12:29.784Z"
   },
   {
    "duration": 30,
    "start_time": "2022-07-02T16:14:59.724Z"
   },
   {
    "duration": 4,
    "start_time": "2022-07-02T16:18:02.266Z"
   },
   {
    "duration": 29,
    "start_time": "2022-07-02T16:18:08.383Z"
   },
   {
    "duration": 3,
    "start_time": "2022-07-02T16:19:18.310Z"
   },
   {
    "duration": 10073,
    "start_time": "2022-07-02T16:19:21.228Z"
   },
   {
    "duration": 5,
    "start_time": "2022-07-02T16:19:40.693Z"
   },
   {
    "duration": 360,
    "start_time": "2022-07-02T16:19:40.700Z"
   },
   {
    "duration": 31,
    "start_time": "2022-07-02T16:19:41.067Z"
   },
   {
    "duration": 3,
    "start_time": "2022-07-02T16:19:41.100Z"
   },
   {
    "duration": 5,
    "start_time": "2022-07-02T16:19:41.105Z"
   },
   {
    "duration": 4,
    "start_time": "2022-07-02T16:19:41.112Z"
   },
   {
    "duration": 364,
    "start_time": "2022-07-02T16:19:41.118Z"
   },
   {
    "duration": 310,
    "start_time": "2022-07-02T16:19:41.484Z"
   },
   {
    "duration": 487,
    "start_time": "2022-07-02T16:19:41.796Z"
   },
   {
    "duration": 31,
    "start_time": "2022-07-02T16:19:42.285Z"
   },
   {
    "duration": 4,
    "start_time": "2022-07-02T16:19:42.319Z"
   },
   {
    "duration": 90,
    "start_time": "2022-07-02T16:19:42.324Z"
   },
   {
    "duration": 4,
    "start_time": "2022-07-02T16:19:42.416Z"
   },
   {
    "duration": 66,
    "start_time": "2022-07-02T16:19:42.422Z"
   },
   {
    "duration": 76,
    "start_time": "2022-07-02T16:19:42.490Z"
   },
   {
    "duration": 114,
    "start_time": "2022-07-02T16:19:42.572Z"
   },
   {
    "duration": 7,
    "start_time": "2022-07-02T16:19:42.688Z"
   },
   {
    "duration": 5,
    "start_time": "2022-07-02T16:19:42.696Z"
   },
   {
    "duration": 5,
    "start_time": "2022-07-02T16:19:42.702Z"
   },
   {
    "duration": 6,
    "start_time": "2022-07-02T16:19:42.709Z"
   },
   {
    "duration": 23,
    "start_time": "2022-07-02T16:19:42.716Z"
   },
   {
    "duration": 3,
    "start_time": "2022-07-02T16:19:42.741Z"
   },
   {
    "duration": 10245,
    "start_time": "2022-07-02T16:19:42.745Z"
   },
   {
    "duration": 14,
    "start_time": "2022-07-02T16:19:52.992Z"
   },
   {
    "duration": 34,
    "start_time": "2022-07-02T20:07:19.747Z"
   },
   {
    "duration": 3,
    "start_time": "2022-07-02T20:07:34.184Z"
   },
   {
    "duration": 29,
    "start_time": "2022-07-02T20:07:36.721Z"
   },
   {
    "duration": 26,
    "start_time": "2022-07-02T20:12:11.997Z"
   },
   {
    "duration": 4,
    "start_time": "2022-07-02T20:23:10.628Z"
   },
   {
    "duration": 30,
    "start_time": "2022-07-02T20:23:19.329Z"
   },
   {
    "duration": 25,
    "start_time": "2022-07-02T20:23:35.497Z"
   },
   {
    "duration": 7,
    "start_time": "2022-07-02T20:23:51.071Z"
   },
   {
    "duration": 314,
    "start_time": "2022-07-02T20:23:51.081Z"
   },
   {
    "duration": 20,
    "start_time": "2022-07-02T20:23:51.397Z"
   },
   {
    "duration": 3,
    "start_time": "2022-07-02T20:23:51.418Z"
   },
   {
    "duration": 6,
    "start_time": "2022-07-02T20:23:51.423Z"
   },
   {
    "duration": 4,
    "start_time": "2022-07-02T20:23:51.430Z"
   },
   {
    "duration": 344,
    "start_time": "2022-07-02T20:23:51.436Z"
   },
   {
    "duration": 296,
    "start_time": "2022-07-02T20:23:51.782Z"
   },
   {
    "duration": 293,
    "start_time": "2022-07-02T20:23:52.081Z"
   },
   {
    "duration": 28,
    "start_time": "2022-07-02T20:23:52.377Z"
   },
   {
    "duration": 4,
    "start_time": "2022-07-02T20:23:52.407Z"
   },
   {
    "duration": 82,
    "start_time": "2022-07-02T20:23:52.413Z"
   },
   {
    "duration": 4,
    "start_time": "2022-07-02T20:23:52.496Z"
   },
   {
    "duration": 84,
    "start_time": "2022-07-02T20:23:52.501Z"
   },
   {
    "duration": 82,
    "start_time": "2022-07-02T20:23:52.587Z"
   },
   {
    "duration": 113,
    "start_time": "2022-07-02T20:23:52.671Z"
   },
   {
    "duration": 8,
    "start_time": "2022-07-02T20:23:52.786Z"
   },
   {
    "duration": 5,
    "start_time": "2022-07-02T20:23:52.795Z"
   },
   {
    "duration": 5,
    "start_time": "2022-07-02T20:23:52.802Z"
   },
   {
    "duration": 7,
    "start_time": "2022-07-02T20:23:52.809Z"
   },
   {
    "duration": 18,
    "start_time": "2022-07-02T20:23:52.817Z"
   },
   {
    "duration": 3,
    "start_time": "2022-07-02T20:23:52.837Z"
   },
   {
    "duration": 48,
    "start_time": "2022-07-02T20:23:52.841Z"
   },
   {
    "duration": 4,
    "start_time": "2022-07-02T20:24:05.302Z"
   },
   {
    "duration": 32,
    "start_time": "2022-07-02T20:24:05.308Z"
   },
   {
    "duration": 1766,
    "start_time": "2022-07-04T07:05:32.751Z"
   },
   {
    "duration": 1093,
    "start_time": "2022-07-04T07:05:34.521Z"
   },
   {
    "duration": 27,
    "start_time": "2022-07-04T07:05:35.616Z"
   },
   {
    "duration": 9,
    "start_time": "2022-07-04T07:05:35.646Z"
   },
   {
    "duration": 49,
    "start_time": "2022-07-04T07:05:35.657Z"
   },
   {
    "duration": 11,
    "start_time": "2022-07-04T07:05:35.709Z"
   },
   {
    "duration": 391,
    "start_time": "2022-07-04T07:05:35.721Z"
   },
   {
    "duration": 359,
    "start_time": "2022-07-04T07:05:36.114Z"
   },
   {
    "duration": 293,
    "start_time": "2022-07-04T07:05:36.479Z"
   },
   {
    "duration": 50,
    "start_time": "2022-07-04T07:05:36.781Z"
   },
   {
    "duration": 5,
    "start_time": "2022-07-04T07:05:36.832Z"
   },
   {
    "duration": 85,
    "start_time": "2022-07-04T07:05:36.838Z"
   },
   {
    "duration": 3,
    "start_time": "2022-07-04T07:05:36.925Z"
   },
   {
    "duration": 237,
    "start_time": "2022-07-04T07:05:36.930Z"
   },
   {
    "duration": 8,
    "start_time": "2022-07-04T07:05:37.169Z"
   },
   {
    "duration": 133,
    "start_time": "2022-07-04T07:05:37.179Z"
   },
   {
    "duration": 8,
    "start_time": "2022-07-04T07:05:37.314Z"
   },
   {
    "duration": 13,
    "start_time": "2022-07-04T07:05:37.324Z"
   },
   {
    "duration": 13,
    "start_time": "2022-07-04T07:05:37.339Z"
   },
   {
    "duration": 28,
    "start_time": "2022-07-04T07:05:37.354Z"
   },
   {
    "duration": 54,
    "start_time": "2022-07-04T07:05:37.384Z"
   },
   {
    "duration": 101,
    "start_time": "2022-07-04T07:05:37.440Z"
   },
   {
    "duration": 0,
    "start_time": "2022-07-04T07:05:37.543Z"
   },
   {
    "duration": 4,
    "start_time": "2022-07-04T07:06:06.010Z"
   },
   {
    "duration": 463,
    "start_time": "2022-07-04T07:06:06.016Z"
   },
   {
    "duration": 32,
    "start_time": "2022-07-04T07:06:06.487Z"
   },
   {
    "duration": 4,
    "start_time": "2022-07-04T07:06:06.521Z"
   },
   {
    "duration": 11,
    "start_time": "2022-07-04T07:06:06.527Z"
   },
   {
    "duration": 10,
    "start_time": "2022-07-04T07:06:06.540Z"
   },
   {
    "duration": 367,
    "start_time": "2022-07-04T07:06:06.551Z"
   },
   {
    "duration": 382,
    "start_time": "2022-07-04T07:06:06.921Z"
   },
   {
    "duration": 451,
    "start_time": "2022-07-04T07:06:07.306Z"
   },
   {
    "duration": 37,
    "start_time": "2022-07-04T07:06:07.759Z"
   },
   {
    "duration": 56,
    "start_time": "2022-07-04T07:06:07.797Z"
   },
   {
    "duration": 154,
    "start_time": "2022-07-04T07:06:07.856Z"
   },
   {
    "duration": 10,
    "start_time": "2022-07-04T07:06:08.018Z"
   },
   {
    "duration": 147,
    "start_time": "2022-07-04T07:06:08.030Z"
   },
   {
    "duration": 113,
    "start_time": "2022-07-04T07:06:08.184Z"
   },
   {
    "duration": 62,
    "start_time": "2022-07-04T07:06:08.298Z"
   },
   {
    "duration": 7,
    "start_time": "2022-07-04T07:06:08.361Z"
   },
   {
    "duration": 39,
    "start_time": "2022-07-04T07:06:08.369Z"
   },
   {
    "duration": 7,
    "start_time": "2022-07-04T07:06:08.410Z"
   },
   {
    "duration": 22,
    "start_time": "2022-07-04T07:06:08.418Z"
   },
   {
    "duration": 26,
    "start_time": "2022-07-04T07:06:08.441Z"
   },
   {
    "duration": 10,
    "start_time": "2022-07-04T07:06:08.469Z"
   },
   {
    "duration": 172,
    "start_time": "2022-07-04T07:06:08.481Z"
   },
   {
    "duration": 26,
    "start_time": "2022-07-04T08:02:19.703Z"
   },
   {
    "duration": 29,
    "start_time": "2022-07-04T08:24:12.947Z"
   },
   {
    "duration": 4,
    "start_time": "2022-07-04T11:28:51.325Z"
   },
   {
    "duration": 4355,
    "start_time": "2022-07-04T11:28:53.378Z"
   },
   {
    "duration": 71,
    "start_time": "2022-07-04T11:40:45.185Z"
   },
   {
    "duration": 4452,
    "start_time": "2022-07-04T11:40:57.289Z"
   },
   {
    "duration": 4296,
    "start_time": "2022-07-04T11:46:28.615Z"
   },
   {
    "duration": 8,
    "start_time": "2022-07-04T12:33:45.261Z"
   },
   {
    "duration": 375,
    "start_time": "2022-07-04T12:33:45.271Z"
   },
   {
    "duration": 31,
    "start_time": "2022-07-04T12:33:45.648Z"
   },
   {
    "duration": 4,
    "start_time": "2022-07-04T12:33:45.682Z"
   },
   {
    "duration": 7,
    "start_time": "2022-07-04T12:33:45.688Z"
   },
   {
    "duration": 5,
    "start_time": "2022-07-04T12:33:45.697Z"
   },
   {
    "duration": 341,
    "start_time": "2022-07-04T12:33:45.704Z"
   },
   {
    "duration": 323,
    "start_time": "2022-07-04T12:33:46.047Z"
   },
   {
    "duration": 319,
    "start_time": "2022-07-04T12:33:46.372Z"
   },
   {
    "duration": 42,
    "start_time": "2022-07-04T12:33:46.695Z"
   },
   {
    "duration": 27,
    "start_time": "2022-07-04T12:33:46.739Z"
   },
   {
    "duration": 105,
    "start_time": "2022-07-04T12:33:46.768Z"
   },
   {
    "duration": 4,
    "start_time": "2022-07-04T12:33:46.875Z"
   },
   {
    "duration": 205,
    "start_time": "2022-07-04T12:33:46.881Z"
   },
   {
    "duration": 104,
    "start_time": "2022-07-04T12:33:47.158Z"
   },
   {
    "duration": 21,
    "start_time": "2022-07-04T12:33:47.264Z"
   },
   {
    "duration": 14,
    "start_time": "2022-07-04T12:33:47.288Z"
   },
   {
    "duration": 14,
    "start_time": "2022-07-04T12:33:47.304Z"
   },
   {
    "duration": 9,
    "start_time": "2022-07-04T12:33:47.320Z"
   },
   {
    "duration": 17,
    "start_time": "2022-07-04T12:33:47.330Z"
   },
   {
    "duration": 65,
    "start_time": "2022-07-04T12:33:47.349Z"
   },
   {
    "duration": 4,
    "start_time": "2022-07-04T12:33:47.416Z"
   },
   {
    "duration": 3969,
    "start_time": "2022-07-04T12:33:47.422Z"
   },
   {
    "duration": 3440,
    "start_time": "2022-07-05T16:03:23.387Z"
   },
   {
    "duration": 1795,
    "start_time": "2022-07-05T16:03:26.830Z"
   },
   {
    "duration": 29,
    "start_time": "2022-07-05T16:03:28.626Z"
   },
   {
    "duration": 4,
    "start_time": "2022-07-05T16:03:28.658Z"
   },
   {
    "duration": 7,
    "start_time": "2022-07-05T16:03:28.663Z"
   },
   {
    "duration": 7,
    "start_time": "2022-07-05T16:03:28.671Z"
   },
   {
    "duration": 446,
    "start_time": "2022-07-05T16:03:28.679Z"
   },
   {
    "duration": 336,
    "start_time": "2022-07-05T16:03:29.127Z"
   },
   {
    "duration": 357,
    "start_time": "2022-07-05T16:03:29.465Z"
   },
   {
    "duration": 39,
    "start_time": "2022-07-05T16:03:29.824Z"
   },
   {
    "duration": 6,
    "start_time": "2022-07-05T16:03:29.865Z"
   },
   {
    "duration": 86,
    "start_time": "2022-07-05T16:03:29.898Z"
   },
   {
    "duration": 18,
    "start_time": "2022-07-05T16:03:29.986Z"
   },
   {
    "duration": 305,
    "start_time": "2022-07-05T16:03:30.006Z"
   },
   {
    "duration": 101,
    "start_time": "2022-07-05T16:03:30.313Z"
   },
   {
    "duration": 116,
    "start_time": "2022-07-05T16:03:30.416Z"
   },
   {
    "duration": 31,
    "start_time": "2022-07-05T16:03:30.534Z"
   },
   {
    "duration": 27,
    "start_time": "2022-07-05T16:03:30.567Z"
   },
   {
    "duration": 27,
    "start_time": "2022-07-05T16:03:30.596Z"
   },
   {
    "duration": 11,
    "start_time": "2022-07-05T16:03:30.625Z"
   },
   {
    "duration": 40,
    "start_time": "2022-07-05T16:03:30.638Z"
   },
   {
    "duration": 5,
    "start_time": "2022-07-05T16:03:30.680Z"
   },
   {
    "duration": 4541,
    "start_time": "2022-07-05T16:03:30.687Z"
   },
   {
    "duration": 5,
    "start_time": "2022-07-05T16:04:02.909Z"
   },
   {
    "duration": 4407,
    "start_time": "2022-07-05T16:04:04.183Z"
   },
   {
    "duration": 1701,
    "start_time": "2022-07-05T17:41:04.417Z"
   },
   {
    "duration": 994,
    "start_time": "2022-07-05T17:41:06.121Z"
   },
   {
    "duration": 25,
    "start_time": "2022-07-05T17:41:07.116Z"
   },
   {
    "duration": 3,
    "start_time": "2022-07-05T17:41:07.144Z"
   },
   {
    "duration": 12,
    "start_time": "2022-07-05T17:41:07.149Z"
   },
   {
    "duration": 16,
    "start_time": "2022-07-05T17:41:07.167Z"
   },
   {
    "duration": 362,
    "start_time": "2022-07-05T17:41:07.185Z"
   },
   {
    "duration": 346,
    "start_time": "2022-07-05T17:41:07.549Z"
   },
   {
    "duration": 338,
    "start_time": "2022-07-05T17:41:07.897Z"
   },
   {
    "duration": 53,
    "start_time": "2022-07-05T17:41:08.239Z"
   },
   {
    "duration": 6,
    "start_time": "2022-07-05T17:41:08.294Z"
   },
   {
    "duration": 109,
    "start_time": "2022-07-05T17:41:08.302Z"
   },
   {
    "duration": 4,
    "start_time": "2022-07-05T17:41:08.413Z"
   },
   {
    "duration": 157,
    "start_time": "2022-07-05T17:41:08.419Z"
   },
   {
    "duration": 185,
    "start_time": "2022-07-05T17:41:08.578Z"
   },
   {
    "duration": 30,
    "start_time": "2022-07-05T17:41:08.765Z"
   },
   {
    "duration": 15,
    "start_time": "2022-07-05T17:41:08.797Z"
   },
   {
    "duration": 9,
    "start_time": "2022-07-05T17:41:08.813Z"
   },
   {
    "duration": 11,
    "start_time": "2022-07-05T17:41:08.824Z"
   },
   {
    "duration": 12,
    "start_time": "2022-07-05T17:41:08.837Z"
   },
   {
    "duration": 49,
    "start_time": "2022-07-05T17:41:08.851Z"
   },
   {
    "duration": 4,
    "start_time": "2022-07-05T17:41:08.902Z"
   },
   {
    "duration": 4296,
    "start_time": "2022-07-05T17:41:08.908Z"
   },
   {
    "duration": 49,
    "start_time": "2022-07-05T17:43:25.971Z"
   },
   {
    "duration": 44,
    "start_time": "2022-07-05T17:50:22.129Z"
   },
   {
    "duration": 60,
    "start_time": "2022-07-05T17:50:41.503Z"
   },
   {
    "duration": 52,
    "start_time": "2022-07-05T17:50:53.571Z"
   },
   {
    "duration": 45,
    "start_time": "2022-07-05T17:51:12.422Z"
   }
  ],
  "kernelspec": {
   "display_name": "Python 3 (ipykernel)",
   "language": "python",
   "name": "python3"
  },
  "language_info": {
   "codemirror_mode": {
    "name": "ipython",
    "version": 3
   },
   "file_extension": ".py",
   "mimetype": "text/x-python",
   "name": "python",
   "nbconvert_exporter": "python",
   "pygments_lexer": "ipython3",
   "version": "3.9.5"
  },
  "toc": {
   "base_numbering": 1,
   "nav_menu": {},
   "number_sections": true,
   "sideBar": true,
   "skip_h1_title": true,
   "title_cell": "Table of Contents",
   "title_sidebar": "Contents",
   "toc_cell": false,
   "toc_position": {},
   "toc_section_display": true,
   "toc_window_display": true
  }
 },
 "nbformat": 4,
 "nbformat_minor": 2
}
