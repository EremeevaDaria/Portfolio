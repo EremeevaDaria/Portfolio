{
 "cells": [
  {
   "cell_type": "markdown",
   "metadata": {},
   "source": [
    "# Обучение модели классификации комментариев"
   ]
  },
  {
   "cell_type": "markdown",
   "metadata": {},
   "source": [
    "Интернет-магазин «Викишоп» запускает новый сервис. Теперь пользователи могут редактировать и дополнять описания товаров, как в вики-сообществах. То есть клиенты предлагают свои правки и комментируют изменения других. Магазину нужен инструмент, который будет искать токсичные комментарии и отправлять их на модерацию. \n",
    "\n",
    "Обучите модель классифицировать комментарии на позитивные и негативные. В вашем распоряжении набор данных с разметкой о токсичности правок.\n",
    "\n",
    "Постройте модель со значением метрики качества *F1* не меньше 0.75. \n",
    "\n",
    "**Инструкция по выполнению проекта**\n",
    "\n",
    "1. Загрузите и подготовьте данные.\n",
    "2. Обучите разные модели. \n",
    "3. Сделайте выводы.\n",
    "\n",
    "Для выполнения проекта применять *BERT* необязательно, но вы можете попробовать.\n",
    "\n",
    "**Описание данных**\n",
    "\n",
    "Данные находятся в файле `toxic_comments.csv`. Столбец *text* в нём содержит текст комментария, а *toxic* — целевой признак."
   ]
  },
  {
   "cell_type": "markdown",
   "metadata": {},
   "source": [
    "## Подготовка"
   ]
  },
  {
   "cell_type": "code",
   "execution_count": 1,
   "metadata": {},
   "outputs": [],
   "source": [
    "#импортируем необходимые библиотеки\n",
    "import pandas as pd \n",
    "import lightgbm as lgb\n",
    "import matplotlib.pyplot as plt \n",
    "import nltk\n",
    "import numpy as np\n",
    "import re\n",
    "import seaborn as sns\n",
    "import time\n",
    "import warnings\n",
    "warnings.filterwarnings('ignore')\n",
    "\n",
    "from lightgbm import LGBMClassifier \n",
    "\n",
    "from nltk.corpus import stopwords as nltk_stopwords\n",
    "from nltk.corpus import wordnet\n",
    "from nltk.stem import WordNetLemmatizer\n",
    "from nltk import word_tokenize, pos_tag\n",
    "\n",
    "from sklearn.ensemble import RandomForestClassifier\n",
    "from sklearn.feature_extraction.text import TfidfVectorizer, TfidfTransformer\n",
    "from sklearn.feature_extraction.text import CountVectorizer\n",
    "from sklearn.linear_model import LogisticRegression\n",
    "from sklearn.metrics import f1_score\n",
    "from sklearn.model_selection import cross_val_score\n",
    "from sklearn.model_selection import KFold\n",
    "from sklearn.model_selection import train_test_split, GridSearchCV\n",
    "from sklearn.pipeline import Pipeline"
   ]
  },
  {
   "cell_type": "code",
   "execution_count": 2,
   "metadata": {},
   "outputs": [],
   "source": [
    "try:\n",
    "    df = pd.read_csv('/datasets/toxic_comments.csv', index_col=0)\n",
    "except:\n",
    "    df = pd.read_csv('/content/gdrive/MyDrive/toxic_comments.csv', index_col=0)"
   ]
  },
  {
   "cell_type": "code",
   "execution_count": 3,
   "metadata": {},
   "outputs": [],
   "source": [
    "#изучим данные воспользовавшись унифицированной функцией\n",
    "def uni_function(function):\n",
    "    display(function.head())\n",
    "    display(function.sample(n=3, random_state=12345))\n",
    "    display(function.info())\n",
    "    display(function.isna().mean().sort_values(ascending = False)) #доля пропущенных значений\n",
    "    display(function.describe(include='all'))\n",
    "    display(function.duplicated().sum())\n",
    "    "
   ]
  },
  {
   "cell_type": "code",
   "execution_count": 4,
   "metadata": {
    "scrolled": false
   },
   "outputs": [
    {
     "data": {
      "text/html": [
       "<div>\n",
       "<style scoped>\n",
       "    .dataframe tbody tr th:only-of-type {\n",
       "        vertical-align: middle;\n",
       "    }\n",
       "\n",
       "    .dataframe tbody tr th {\n",
       "        vertical-align: top;\n",
       "    }\n",
       "\n",
       "    .dataframe thead th {\n",
       "        text-align: right;\n",
       "    }\n",
       "</style>\n",
       "<table border=\"1\" class=\"dataframe\">\n",
       "  <thead>\n",
       "    <tr style=\"text-align: right;\">\n",
       "      <th></th>\n",
       "      <th>text</th>\n",
       "      <th>toxic</th>\n",
       "    </tr>\n",
       "  </thead>\n",
       "  <tbody>\n",
       "    <tr>\n",
       "      <th>0</th>\n",
       "      <td>Explanation\\nWhy the edits made under my usern...</td>\n",
       "      <td>0</td>\n",
       "    </tr>\n",
       "    <tr>\n",
       "      <th>1</th>\n",
       "      <td>D'aww! He matches this background colour I'm s...</td>\n",
       "      <td>0</td>\n",
       "    </tr>\n",
       "    <tr>\n",
       "      <th>2</th>\n",
       "      <td>Hey man, I'm really not trying to edit war. It...</td>\n",
       "      <td>0</td>\n",
       "    </tr>\n",
       "    <tr>\n",
       "      <th>3</th>\n",
       "      <td>\"\\nMore\\nI can't make any real suggestions on ...</td>\n",
       "      <td>0</td>\n",
       "    </tr>\n",
       "    <tr>\n",
       "      <th>4</th>\n",
       "      <td>You, sir, are my hero. Any chance you remember...</td>\n",
       "      <td>0</td>\n",
       "    </tr>\n",
       "  </tbody>\n",
       "</table>\n",
       "</div>"
      ],
      "text/plain": [
       "                                                text  toxic\n",
       "0  Explanation\\nWhy the edits made under my usern...      0\n",
       "1  D'aww! He matches this background colour I'm s...      0\n",
       "2  Hey man, I'm really not trying to edit war. It...      0\n",
       "3  \"\\nMore\\nI can't make any real suggestions on ...      0\n",
       "4  You, sir, are my hero. Any chance you remember...      0"
      ]
     },
     "metadata": {},
     "output_type": "display_data"
    },
    {
     "data": {
      "text/html": [
       "<div>\n",
       "<style scoped>\n",
       "    .dataframe tbody tr th:only-of-type {\n",
       "        vertical-align: middle;\n",
       "    }\n",
       "\n",
       "    .dataframe tbody tr th {\n",
       "        vertical-align: top;\n",
       "    }\n",
       "\n",
       "    .dataframe thead th {\n",
       "        text-align: right;\n",
       "    }\n",
       "</style>\n",
       "<table border=\"1\" class=\"dataframe\">\n",
       "  <thead>\n",
       "    <tr style=\"text-align: right;\">\n",
       "      <th></th>\n",
       "      <th>text</th>\n",
       "      <th>toxic</th>\n",
       "    </tr>\n",
       "  </thead>\n",
       "  <tbody>\n",
       "    <tr>\n",
       "      <th>109583</th>\n",
       "      <td>Expert Categorizers  \\n\\nWhy is there no menti...</td>\n",
       "      <td>0</td>\n",
       "    </tr>\n",
       "    <tr>\n",
       "      <th>105077</th>\n",
       "      <td>\"\\n\\n Noise \\n\\nfart*  talk. \"</td>\n",
       "      <td>1</td>\n",
       "    </tr>\n",
       "    <tr>\n",
       "      <th>82244</th>\n",
       "      <td>An indefinite block is appropriate, even for a...</td>\n",
       "      <td>0</td>\n",
       "    </tr>\n",
       "  </tbody>\n",
       "</table>\n",
       "</div>"
      ],
      "text/plain": [
       "                                                     text  toxic\n",
       "109583  Expert Categorizers  \\n\\nWhy is there no menti...      0\n",
       "105077                     \"\\n\\n Noise \\n\\nfart*  talk. \"      1\n",
       "82244   An indefinite block is appropriate, even for a...      0"
      ]
     },
     "metadata": {},
     "output_type": "display_data"
    },
    {
     "name": "stdout",
     "output_type": "stream",
     "text": [
      "<class 'pandas.core.frame.DataFrame'>\n",
      "Int64Index: 159292 entries, 0 to 159450\n",
      "Data columns (total 2 columns):\n",
      " #   Column  Non-Null Count   Dtype \n",
      "---  ------  --------------   ----- \n",
      " 0   text    159292 non-null  object\n",
      " 1   toxic   159292 non-null  int64 \n",
      "dtypes: int64(1), object(1)\n",
      "memory usage: 3.6+ MB\n"
     ]
    },
    {
     "data": {
      "text/plain": [
       "None"
      ]
     },
     "metadata": {},
     "output_type": "display_data"
    },
    {
     "data": {
      "text/plain": [
       "text     0.0\n",
       "toxic    0.0\n",
       "dtype: float64"
      ]
     },
     "metadata": {},
     "output_type": "display_data"
    },
    {
     "data": {
      "text/html": [
       "<div>\n",
       "<style scoped>\n",
       "    .dataframe tbody tr th:only-of-type {\n",
       "        vertical-align: middle;\n",
       "    }\n",
       "\n",
       "    .dataframe tbody tr th {\n",
       "        vertical-align: top;\n",
       "    }\n",
       "\n",
       "    .dataframe thead th {\n",
       "        text-align: right;\n",
       "    }\n",
       "</style>\n",
       "<table border=\"1\" class=\"dataframe\">\n",
       "  <thead>\n",
       "    <tr style=\"text-align: right;\">\n",
       "      <th></th>\n",
       "      <th>text</th>\n",
       "      <th>toxic</th>\n",
       "    </tr>\n",
       "  </thead>\n",
       "  <tbody>\n",
       "    <tr>\n",
       "      <th>count</th>\n",
       "      <td>159292</td>\n",
       "      <td>159292.000000</td>\n",
       "    </tr>\n",
       "    <tr>\n",
       "      <th>unique</th>\n",
       "      <td>159292</td>\n",
       "      <td>NaN</td>\n",
       "    </tr>\n",
       "    <tr>\n",
       "      <th>top</th>\n",
       "      <td>Is the rupestris parent of AxR1 really St. Geo...</td>\n",
       "      <td>NaN</td>\n",
       "    </tr>\n",
       "    <tr>\n",
       "      <th>freq</th>\n",
       "      <td>1</td>\n",
       "      <td>NaN</td>\n",
       "    </tr>\n",
       "    <tr>\n",
       "      <th>mean</th>\n",
       "      <td>NaN</td>\n",
       "      <td>0.101612</td>\n",
       "    </tr>\n",
       "    <tr>\n",
       "      <th>std</th>\n",
       "      <td>NaN</td>\n",
       "      <td>0.302139</td>\n",
       "    </tr>\n",
       "    <tr>\n",
       "      <th>min</th>\n",
       "      <td>NaN</td>\n",
       "      <td>0.000000</td>\n",
       "    </tr>\n",
       "    <tr>\n",
       "      <th>25%</th>\n",
       "      <td>NaN</td>\n",
       "      <td>0.000000</td>\n",
       "    </tr>\n",
       "    <tr>\n",
       "      <th>50%</th>\n",
       "      <td>NaN</td>\n",
       "      <td>0.000000</td>\n",
       "    </tr>\n",
       "    <tr>\n",
       "      <th>75%</th>\n",
       "      <td>NaN</td>\n",
       "      <td>0.000000</td>\n",
       "    </tr>\n",
       "    <tr>\n",
       "      <th>max</th>\n",
       "      <td>NaN</td>\n",
       "      <td>1.000000</td>\n",
       "    </tr>\n",
       "  </tbody>\n",
       "</table>\n",
       "</div>"
      ],
      "text/plain": [
       "                                                     text          toxic\n",
       "count                                              159292  159292.000000\n",
       "unique                                             159292            NaN\n",
       "top     Is the rupestris parent of AxR1 really St. Geo...            NaN\n",
       "freq                                                    1            NaN\n",
       "mean                                                  NaN       0.101612\n",
       "std                                                   NaN       0.302139\n",
       "min                                                   NaN       0.000000\n",
       "25%                                                   NaN       0.000000\n",
       "50%                                                   NaN       0.000000\n",
       "75%                                                   NaN       0.000000\n",
       "max                                                   NaN       1.000000"
      ]
     },
     "metadata": {},
     "output_type": "display_data"
    },
    {
     "data": {
      "text/plain": [
       "0"
      ]
     },
     "metadata": {},
     "output_type": "display_data"
    },
    {
     "data": {
      "text/plain": [
       "None"
      ]
     },
     "metadata": {},
     "output_type": "display_data"
    }
   ],
   "source": [
    "display(uni_function(df))\n"
   ]
  },
  {
   "cell_type": "markdown",
   "metadata": {},
   "source": [
    "Данные чистые, мы можем приступить к дальнейшему анализу."
   ]
  },
  {
   "cell_type": "code",
   "execution_count": 5,
   "metadata": {
    "scrolled": true
   },
   "outputs": [
    {
     "data": {
      "text/plain": [
       "0    143106\n",
       "1     16186\n",
       "Name: toxic, dtype: int64"
      ]
     },
     "metadata": {},
     "output_type": "display_data"
    }
   ],
   "source": [
    "#определим уникальные значения в столбце toxic и определим их кол-во\n",
    "display(df['toxic'].value_counts())"
   ]
  },
  {
   "cell_type": "markdown",
   "metadata": {},
   "source": [
    "Как мы видим, в столбце присутсвует только два уникальных значения: ноль и единица. Нетоксичных комментариев заметно больше. Выясним, в каком соотношении."
   ]
  },
  {
   "cell_type": "code",
   "execution_count": 6,
   "metadata": {
    "scrolled": true
   },
   "outputs": [
    {
     "data": {
      "text/plain": [
       "0    89.838787\n",
       "1    10.161213\n",
       "Name: toxic, dtype: float64"
      ]
     },
     "metadata": {},
     "output_type": "display_data"
    }
   ],
   "source": [
    "comments = df['toxic'].value_counts()/df['toxic'].shape[0]*100\n",
    "display(comments)\n"
   ]
  },
  {
   "cell_type": "markdown",
   "metadata": {},
   "source": [
    "Токсичных комментариев совсем немного, всего 10%. Отразим это процентное соотношение на графике."
   ]
  },
  {
   "cell_type": "code",
   "execution_count": 7,
   "metadata": {
    "scrolled": true
   },
   "outputs": [
    {
     "data": {
      "text/plain": [
       "<AxesSubplot:xlabel='toxic', ylabel='Count'>"
      ]
     },
     "execution_count": 7,
     "metadata": {},
     "output_type": "execute_result"
    },
    {
     "data": {
      "image/png": "[encoded data removed]",
      "text/plain": [
       "<Figure size 432x288 with 1 Axes>"
      ]
     },
     "metadata": {
      "needs_background": "light"
     },
     "output_type": "display_data"
    }
   ],
   "source": [
    "sns.histplot(data=df, x='toxic')"
   ]
  },
  {
   "cell_type": "markdown",
   "metadata": {},
   "source": [
    "**Вывод**    \n",
    "Мы произвели предобработку данных и познакомились с данными. Выяснили, что датасет чистый, не имеет пропусков и дубликатов,данные имеют соответствующие типы данных. Также мы выяснили, что у целевого признака присутствует несбалансированность. Разницы очевидна, всего 10% комментариев,от общего количества , является токсичными.    \n",
    "Для дальнейшего анализа нам необходимо привести комментарии в должный вид: \n",
    "- приведем все комментарии к нижнему регистру;\n",
    "- очистим текст от лишних символов\n",
    "- проведем лемматизацию."
   ]
  },
  {
   "cell_type": "code",
   "execution_count": 8,
   "metadata": {},
   "outputs": [],
   "source": [
    "#приведем все буквенные данные к нижнему регистру\n",
    "df['text'] = df['text'].str.lower()"
   ]
  },
  {
   "cell_type": "code",
   "execution_count": 9,
   "metadata": {},
   "outputs": [],
   "source": [
    "#очистим текст от лишних символов\n",
    "clear_comments = [] # создаём пустой список\n",
    "pattern = r'[^a-zA-Z0-9]' #шаблон\n",
    "for comments in df.text: # проходимся по каждому элементу исходного списка\n",
    "  re_text = re.sub(pattern, ' ',comments)\n",
    "  clear_comments.append(\" \".join(re_text.split()))"
   ]
  },
  {
   "cell_type": "code",
   "execution_count": 10,
   "metadata": {
    "scrolled": false
   },
   "outputs": [
    {
     "data": {
      "text/html": [
       "<div>\n",
       "<style scoped>\n",
       "    .dataframe tbody tr th:only-of-type {\n",
       "        vertical-align: middle;\n",
       "    }\n",
       "\n",
       "    .dataframe tbody tr th {\n",
       "        vertical-align: top;\n",
       "    }\n",
       "\n",
       "    .dataframe thead th {\n",
       "        text-align: right;\n",
       "    }\n",
       "</style>\n",
       "<table border=\"1\" class=\"dataframe\">\n",
       "  <thead>\n",
       "    <tr style=\"text-align: right;\">\n",
       "      <th></th>\n",
       "      <th>text</th>\n",
       "      <th>toxic</th>\n",
       "      <th>clear_text</th>\n",
       "    </tr>\n",
       "  </thead>\n",
       "  <tbody>\n",
       "    <tr>\n",
       "      <th>0</th>\n",
       "      <td>explanation\\nwhy the edits made under my usern...</td>\n",
       "      <td>0</td>\n",
       "      <td>explanation why the edits made under my userna...</td>\n",
       "    </tr>\n",
       "    <tr>\n",
       "      <th>1</th>\n",
       "      <td>d'aww! he matches this background colour i'm s...</td>\n",
       "      <td>0</td>\n",
       "      <td>d aww he matches this background colour i m se...</td>\n",
       "    </tr>\n",
       "    <tr>\n",
       "      <th>2</th>\n",
       "      <td>hey man, i'm really not trying to edit war. it...</td>\n",
       "      <td>0</td>\n",
       "      <td>hey man i m really not trying to edit war it s...</td>\n",
       "    </tr>\n",
       "    <tr>\n",
       "      <th>3</th>\n",
       "      <td>\"\\nmore\\ni can't make any real suggestions on ...</td>\n",
       "      <td>0</td>\n",
       "      <td>more i can t make any real suggestions on impr...</td>\n",
       "    </tr>\n",
       "    <tr>\n",
       "      <th>4</th>\n",
       "      <td>you, sir, are my hero. any chance you remember...</td>\n",
       "      <td>0</td>\n",
       "      <td>you sir are my hero any chance you remember wh...</td>\n",
       "    </tr>\n",
       "  </tbody>\n",
       "</table>\n",
       "</div>"
      ],
      "text/plain": [
       "                                                text  toxic  \\\n",
       "0  explanation\\nwhy the edits made under my usern...      0   \n",
       "1  d'aww! he matches this background colour i'm s...      0   \n",
       "2  hey man, i'm really not trying to edit war. it...      0   \n",
       "3  \"\\nmore\\ni can't make any real suggestions on ...      0   \n",
       "4  you, sir, are my hero. any chance you remember...      0   \n",
       "\n",
       "                                          clear_text  \n",
       "0  explanation why the edits made under my userna...  \n",
       "1  d aww he matches this background colour i m se...  \n",
       "2  hey man i m really not trying to edit war it s...  \n",
       "3  more i can t make any real suggestions on impr...  \n",
       "4  you sir are my hero any chance you remember wh...  "
      ]
     },
     "metadata": {},
     "output_type": "display_data"
    }
   ],
   "source": [
    "df['clear_text'] = clear_comments\n",
    "display(df.head())"
   ]
  },
  {
   "cell_type": "code",
   "execution_count": 11,
   "metadata": {},
   "outputs": [],
   "source": [
    "def get_wordnet_pos(word):\n",
    "    \"\"\"Map POS tag to first character lemmatize() accepts\"\"\"\n",
    "    tag = nltk.pos_tag([word])[0][1][0].upper()\n",
    "    tag_dict = {\"J\": wordnet.ADJ,\n",
    "                \"N\": wordnet.NOUN,\n",
    "                \"V\": wordnet.VERB,\n",
    "                \"R\": wordnet.ADV}\n",
    "    return tag_dict.get(tag, wordnet.NOUN)"
   ]
  },
  {
   "cell_type": "code",
   "execution_count": 12,
   "metadata": {
    "scrolled": true
   },
   "outputs": [
    {
     "name": "stdout",
     "output_type": "stream",
     "text": [
      "Размер мешка без учёта стоп-слов: (159292, 181867)\n"
     ]
    },
    {
     "name": "stderr",
     "output_type": "stream",
     "text": [
      "[nltk_data] Downloading package stopwords to /home/jovyan/nltk_data...\n",
      "[nltk_data]   Package stopwords is already up-to-date!\n"
     ]
    },
    {
     "name": "stdout",
     "output_type": "stream",
     "text": [
      "Размер мешка с учётом стоп-слов: (159292, 181722)\n"
     ]
    }
   ],
   "source": [
    "# создайте мешок слов без учёта стоп-слов\n",
    "count_vect = CountVectorizer()\n",
    "bow = count_vect.fit_transform(df['clear_text']) \n",
    "\n",
    "print(\"Размер мешка без учёта стоп-слов:\", bow.shape)\n",
    "\n",
    "# создайте новый мешок слов с учётом стоп-слов\n",
    "nltk.download('stopwords')\n",
    "stop_words = set(nltk_stopwords.words('english'))\n",
    "count_vect = CountVectorizer(stop_words=stop_words)\n",
    "bow = count_vect.fit_transform(df['clear_text']) \n",
    "print(\"Размер мешка с учётом стоп-слов:\", bow.shape)"
   ]
  },
  {
   "cell_type": "code",
   "execution_count": 13,
   "metadata": {},
   "outputs": [
    {
     "name": "stderr",
     "output_type": "stream",
     "text": [
      "[nltk_data] Downloading package punkt to /home/jovyan/nltk_data...\n",
      "[nltk_data]   Package punkt is already up-to-date!\n",
      "[nltk_data] Downloading package wordnet to /home/jovyan/nltk_data...\n",
      "[nltk_data]   Package wordnet is already up-to-date!\n",
      "[nltk_data] Downloading package averaged_perceptron_tagger to\n",
      "[nltk_data]     /home/jovyan/nltk_data...\n",
      "[nltk_data]   Unzipping taggers/averaged_perceptron_tagger.zip.\n",
      "[nltk_data] Downloading package stopwords to /home/jovyan/nltk_data...\n",
      "[nltk_data]   Package stopwords is already up-to-date!\n",
      "[nltk_data] Downloading package omw-1.4 to /home/jovyan/nltk_data...\n"
     ]
    },
    {
     "data": {
      "text/html": [
       "<div>\n",
       "<style scoped>\n",
       "    .dataframe tbody tr th:only-of-type {\n",
       "        vertical-align: middle;\n",
       "    }\n",
       "\n",
       "    .dataframe tbody tr th {\n",
       "        vertical-align: top;\n",
       "    }\n",
       "\n",
       "    .dataframe thead th {\n",
       "        text-align: right;\n",
       "    }\n",
       "</style>\n",
       "<table border=\"1\" class=\"dataframe\">\n",
       "  <thead>\n",
       "    <tr style=\"text-align: right;\">\n",
       "      <th></th>\n",
       "      <th>text</th>\n",
       "      <th>toxic</th>\n",
       "      <th>clear_text</th>\n",
       "      <th>text_lem</th>\n",
       "    </tr>\n",
       "  </thead>\n",
       "  <tbody>\n",
       "    <tr>\n",
       "      <th>0</th>\n",
       "      <td>explanation\\nwhy the edits made under my usern...</td>\n",
       "      <td>0</td>\n",
       "      <td>explanation why the edits made under my userna...</td>\n",
       "      <td>explanation edits make username hardcore metal...</td>\n",
       "    </tr>\n",
       "    <tr>\n",
       "      <th>1</th>\n",
       "      <td>d'aww! he matches this background colour i'm s...</td>\n",
       "      <td>0</td>\n",
       "      <td>d aww he matches this background colour i m se...</td>\n",
       "      <td>aww match background colour seemingly stuck th...</td>\n",
       "    </tr>\n",
       "    <tr>\n",
       "      <th>2</th>\n",
       "      <td>hey man, i'm really not trying to edit war. it...</td>\n",
       "      <td>0</td>\n",
       "      <td>hey man i m really not trying to edit war it s...</td>\n",
       "      <td>hey man really try edit war guy constantly rem...</td>\n",
       "    </tr>\n",
       "    <tr>\n",
       "      <th>3</th>\n",
       "      <td>\"\\nmore\\ni can't make any real suggestions on ...</td>\n",
       "      <td>0</td>\n",
       "      <td>more i can t make any real suggestions on impr...</td>\n",
       "      <td>make real suggestion improvement wonder sectio...</td>\n",
       "    </tr>\n",
       "    <tr>\n",
       "      <th>4</th>\n",
       "      <td>you, sir, are my hero. any chance you remember...</td>\n",
       "      <td>0</td>\n",
       "      <td>you sir are my hero any chance you remember wh...</td>\n",
       "      <td>sir hero chance remember page</td>\n",
       "    </tr>\n",
       "  </tbody>\n",
       "</table>\n",
       "</div>"
      ],
      "text/plain": [
       "                                                text  toxic  \\\n",
       "0  explanation\\nwhy the edits made under my usern...      0   \n",
       "1  d'aww! he matches this background colour i'm s...      0   \n",
       "2  hey man, i'm really not trying to edit war. it...      0   \n",
       "3  \"\\nmore\\ni can't make any real suggestions on ...      0   \n",
       "4  you, sir, are my hero. any chance you remember...      0   \n",
       "\n",
       "                                          clear_text  \\\n",
       "0  explanation why the edits made under my userna...   \n",
       "1  d aww he matches this background colour i m se...   \n",
       "2  hey man i m really not trying to edit war it s...   \n",
       "3  more i can t make any real suggestions on impr...   \n",
       "4  you sir are my hero any chance you remember wh...   \n",
       "\n",
       "                                            text_lem  \n",
       "0  explanation edits make username hardcore metal...  \n",
       "1  aww match background colour seemingly stuck th...  \n",
       "2  hey man really try edit war guy constantly rem...  \n",
       "3  make real suggestion improvement wonder sectio...  \n",
       "4                      sir hero chance remember page  "
      ]
     },
     "metadata": {},
     "output_type": "display_data"
    }
   ],
   "source": [
    "#Лемматизируем текст с помощью Wordnet из NLTK\n",
    "lemmatizer = WordNetLemmatizer() #создадим экземпляр WordNetLemmatizer()\n",
    "\n",
    "#создадим функцию, которая будет лемматизировать текст,учитывая все наши условия\n",
    "nltk.download('punkt')\n",
    "nltk.download('wordnet')\n",
    "nltk.download('averaged_perceptron_tagger')\n",
    "nltk.download('stopwords')\n",
    "nltk.download('omw-1.4')\n",
    "\n",
    "def lemmatize_text(text):\n",
    "  lemmatized_output = ' '.join([lemmatizer.lemmatize(w, get_wordnet_pos(w)) for w in nltk.word_tokenize(text) if not w in stop_words])\n",
    "  return lemmatized_output  \n",
    "\n",
    "\n",
    "#nltk.download('wordnet','stopwords','punkt','averaged_perceptron_tagger','omw-1.4')\n",
    "df['text_lem'] = df['clear_text'].apply(lemmatize_text)\n",
    "display(df.head())"
   ]
  },
  {
   "cell_type": "markdown",
   "metadata": {},
   "source": [
    "## Обучение"
   ]
  },
  {
   "cell_type": "markdown",
   "metadata": {},
   "source": [
    "### Определение выборок"
   ]
  },
  {
   "cell_type": "code",
   "execution_count": 14,
   "metadata": {},
   "outputs": [],
   "source": [
    "#определим выборки\n",
    "features = df.drop(['toxic', 'text', 'clear_text'], axis=1)\n",
    "target = df['toxic'] # извлекаем целевой признак"
   ]
  },
  {
   "cell_type": "code",
   "execution_count": 15,
   "metadata": {
    "scrolled": true
   },
   "outputs": [
    {
     "name": "stdout",
     "output_type": "stream",
     "text": [
      "(95575, 1)\n",
      "(63717, 1)\n"
     ]
    }
   ],
   "source": [
    "#разделите данные на обучающую и тестовую выборки \n",
    "features_train, features_test, target_train, target_test = train_test_split(\n",
    "        features, target, test_size=0.4, random_state = 12345, shuffle=False)\n",
    "print(features_train.shape)\n",
    "print(features_test.shape)"
   ]
  },
  {
   "cell_type": "code",
   "execution_count": 16,
   "metadata": {},
   "outputs": [],
   "source": [
    "# создадим кросс-валидатор для последующего обучения моделей\n",
    "cv = KFold(n_splits=3, shuffle=True, random_state=12345)\n"
   ]
  },
  {
   "cell_type": "markdown",
   "metadata": {},
   "source": [
    "### LogisticRegression"
   ]
  },
  {
   "cell_type": "code",
   "execution_count": 17,
   "metadata": {},
   "outputs": [
    {
     "name": "stdout",
     "output_type": "stream",
     "text": [
      "{'clf__C': 10, 'clf__class_weight': 'balanced'}\n",
      "0.7683521519189513\n"
     ]
    }
   ],
   "source": [
    "#%%time\n",
    "\n",
    "\n",
    "lr_pipe = Pipeline([\n",
    "    ('tfidf', TfidfVectorizer(ngram_range=(1,3), min_df=3, max_df=0.9, use_idf=1,\n",
    "               smooth_idf=1, sublinear_tf=1, stop_words=stop_words)),\n",
    "    ('clf', LogisticRegression(random_state=12345))])\n",
    "\n",
    "params = {'clf__C': [0.1, 1, 10, 100],\n",
    "          'clf__class_weight': ['balanced', None]}\n",
    "\n",
    "lr_grid = GridSearchCV(estimator=lr_pipe, param_grid=params, cv=cv, scoring='f1', n_jobs=-1)\n",
    "lr_grid.fit(features_train['text_lem'], target_train)\n",
    "lr_best_paramms = lr_grid.best_params_\n",
    "lr_best_score = lr_grid.best_score_\n",
    "print(lr_best_paramms)\n",
    "print(lr_best_score)"
   ]
  },
  {
   "cell_type": "markdown",
   "metadata": {},
   "source": [
    "После обучения мы получили значение метрики F1 = 0.768"
   ]
  },
  {
   "cell_type": "markdown",
   "metadata": {},
   "source": [
    "### LGBMClassifier"
   ]
  },
  {
   "cell_type": "code",
   "execution_count": 18,
   "metadata": {
    "scrolled": true
   },
   "outputs": [
    {
     "name": "stdout",
     "output_type": "stream",
     "text": [
      "{'clf__learning_rate': 0.15, 'clf__max_depth': -1, 'clf__n_estimators': 200}\n",
      "0.7604942935608303\n"
     ]
    }
   ],
   "source": [
    "#%%time\n",
    "lgb_pipe = Pipeline([\n",
    "    ('tfidf', TfidfVectorizer(ngram_range=(1,3), min_df=3, max_df=0.9, use_idf=1,\n",
    "               smooth_idf=1, sublinear_tf=1, stop_words=stop_words)),\n",
    "    ('clf', LGBMClassifier(random_state=12345))])\n",
    "\n",
    "params = {\n",
    "  'clf__n_estimators': [200],\n",
    "  'clf__learning_rate': [0.15, 0.25],\n",
    "  'clf__max_depth': [8, 10, -1]}\n",
    "\n",
    "lgb_grid = GridSearchCV(estimator=lgb_pipe, param_grid=params, cv=cv, scoring='f1', n_jobs=-1, refit=False)\n",
    "lgb_grid.fit(features_train['text_lem'], target_train)\n",
    "lgb_best_params = lgb_grid.best_params_\n",
    "lgb_best_score = lgb_grid.best_score_\n",
    "print(lgb_best_params)\n",
    "print(lgb_best_score)"
   ]
  },
  {
   "cell_type": "markdown",
   "metadata": {},
   "source": [
    "После обучения мы получили значение метрики F1 = 0.761"
   ]
  },
  {
   "cell_type": "markdown",
   "metadata": {},
   "source": [
    "Для удобства выполнения кода мы использовали Конструктор Pipeline от sklearn, который позволяет объединять преобразователи и оценщики в последовательность, которая функционирует как единое целое. Также, мы подобрали лучшие параметры для каждой модели используя GridSearchCV"
   ]
  },
  {
   "cell_type": "markdown",
   "metadata": {},
   "source": [
    "### Проверка лучшей модели на тестовой выборке"
   ]
  },
  {
   "cell_type": "code",
   "execution_count": 19,
   "metadata": {},
   "outputs": [
    {
     "name": "stdout",
     "output_type": "stream",
     "text": [
      "F1 on test: 0.773\n"
     ]
    }
   ],
   "source": [
    "test_pred = lr_grid.best_estimator_.predict(features_test['text_lem'])\n",
    "\n",
    "test_f1 = f1_score(target_test, test_pred)   \n",
    "print('F1 on test: {:.3f}'.format(test_f1)) "
   ]
  },
  {
   "cell_type": "code",
   "execution_count": 20,
   "metadata": {
    "scrolled": false
   },
   "outputs": [
    {
     "data": {
      "text/html": [
       "<div>\n",
       "<style scoped>\n",
       "    .dataframe tbody tr th:only-of-type {\n",
       "        vertical-align: middle;\n",
       "    }\n",
       "\n",
       "    .dataframe tbody tr th {\n",
       "        vertical-align: top;\n",
       "    }\n",
       "\n",
       "    .dataframe thead th {\n",
       "        text-align: right;\n",
       "    }\n",
       "</style>\n",
       "<table border=\"1\" class=\"dataframe\">\n",
       "  <thead>\n",
       "    <tr style=\"text-align: right;\">\n",
       "      <th></th>\n",
       "      <th>model</th>\n",
       "      <th>F1_train</th>\n",
       "      <th>F1_test</th>\n",
       "    </tr>\n",
       "  </thead>\n",
       "  <tbody>\n",
       "    <tr>\n",
       "      <th>0</th>\n",
       "      <td>LogisticRegression</td>\n",
       "      <td>0.768352</td>\n",
       "      <td>0.773148</td>\n",
       "    </tr>\n",
       "  </tbody>\n",
       "</table>\n",
       "</div>"
      ],
      "text/plain": [
       "                model  F1_train   F1_test\n",
       "0  LogisticRegression  0.768352  0.773148"
      ]
     },
     "metadata": {},
     "output_type": "display_data"
    }
   ],
   "source": [
    "#сравнение результатов\n",
    "#создадим сводную таблицу\n",
    "best_result = pd.DataFrame([['LogisticRegression', lr_best_score, test_f1]],\n",
    "                        columns = ['model', 'F1_train', 'F1_test'])\n",
    "display(best_result)"
   ]
  },
  {
   "cell_type": "markdown",
   "metadata": {},
   "source": [
    "## Выводы"
   ]
  },
  {
   "cell_type": "markdown",
   "metadata": {},
   "source": [
    "В ходе данной работы мы выполнили:\n",
    "\n",
    "1. Предобработку данных. Выяснили, что данные чистые, пропусков и дубликатов нет, тип данных для каждого столбца соблюден. Аномалий не выявлено.\n",
    "2. Исследовательский анализ данных. Рассчитали соотношение комментариев и определи, что нетоксичных комментариев значительно больше, примерно 90%.\n",
    "3. Привели текст в нажлежащий вид. Привели его к нижнему регистру, очистили от лишних символов и провели лимматизацию.\n",
    "4. Выделили обучающую и тестовую выборки в соотнощении 60/40.\n",
    "5. Обучили две модели: LogisticRegression и LGBMClassifier, используя Конструктор Pipeline от sklearn и GridSearchCV.\n",
    "6. Определи лучшую модель и проверили ее на тестовой выборке.    \n",
    "\n",
    "Лучший результат на тестовой выборке у модели логистической регрессии. Метрика качества F1 составила 0.78. Данное значение удовлетворяет условиям нашей задачи."
   ]
  }
 ],
 "metadata": {
  "ExecuteTimeLog": [
   {
    "duration": 9413,
    "start_time": "2022-08-29T18:32:48.369Z"
   },
   {
    "duration": 499,
    "start_time": "2022-08-29T18:33:03.369Z"
   },
   {
    "duration": 214,
    "start_time": "2022-08-29T18:34:52.269Z"
   },
   {
    "duration": 12400,
    "start_time": "2022-08-29T18:36:11.168Z"
   },
   {
    "duration": 6,
    "start_time": "2022-08-29T18:55:10.673Z"
   },
   {
    "duration": 1716,
    "start_time": "2022-08-29T18:55:20.768Z"
   },
   {
    "duration": 4597,
    "start_time": "2022-08-29T18:55:28.973Z"
   },
   {
    "duration": 6,
    "start_time": "2022-08-29T18:55:37.169Z"
   },
   {
    "duration": 2507,
    "start_time": "2022-08-29T18:55:39.569Z"
   },
   {
    "duration": 105,
    "start_time": "2022-08-29T18:59:28.269Z"
   },
   {
    "duration": 110,
    "start_time": "2022-08-29T18:59:43.476Z"
   },
   {
    "duration": 106,
    "start_time": "2022-08-29T19:00:14.469Z"
   },
   {
    "duration": 4,
    "start_time": "2022-08-29T19:00:19.368Z"
   },
   {
    "duration": 5107,
    "start_time": "2022-08-29T19:00:19.375Z"
   },
   {
    "duration": 86,
    "start_time": "2022-08-29T19:00:24.485Z"
   },
   {
    "duration": 2098,
    "start_time": "2022-08-29T19:00:24.574Z"
   },
   {
    "duration": 113,
    "start_time": "2022-08-29T19:00:26.675Z"
   },
   {
    "duration": 6,
    "start_time": "2022-08-29T19:06:10.737Z"
   },
   {
    "duration": 90,
    "start_time": "2022-08-29T19:17:24.680Z"
   },
   {
    "duration": 6,
    "start_time": "2022-08-29T19:18:33.768Z"
   },
   {
    "duration": 9,
    "start_time": "2022-08-29T19:18:42.875Z"
   },
   {
    "duration": 9,
    "start_time": "2022-08-29T19:19:15.768Z"
   },
   {
    "duration": 6,
    "start_time": "2022-08-29T19:19:29.378Z"
   },
   {
    "duration": 12,
    "start_time": "2022-08-29T19:19:35.370Z"
   },
   {
    "duration": 11,
    "start_time": "2022-08-29T19:19:53.669Z"
   },
   {
    "duration": 98,
    "start_time": "2022-08-29T19:20:21.370Z"
   },
   {
    "duration": 13,
    "start_time": "2022-08-29T19:20:28.769Z"
   },
   {
    "duration": 5120,
    "start_time": "2022-08-29T19:24:29.379Z"
   },
   {
    "duration": 54,
    "start_time": "2022-08-29T19:25:02.796Z"
   },
   {
    "duration": 2118,
    "start_time": "2022-08-29T19:25:07.878Z"
   },
   {
    "duration": 3221,
    "start_time": "2022-08-29T19:25:09.998Z"
   },
   {
    "duration": 3,
    "start_time": "2022-08-29T19:25:13.221Z"
   },
   {
    "duration": 344,
    "start_time": "2022-08-29T19:25:13.226Z"
   },
   {
    "duration": 20,
    "start_time": "2022-08-29T19:25:13.571Z"
   },
   {
    "duration": 8,
    "start_time": "2022-08-29T19:25:13.593Z"
   },
   {
    "duration": 12,
    "start_time": "2022-08-29T19:25:13.603Z"
   },
   {
    "duration": 2051,
    "start_time": "2022-08-29T19:25:13.617Z"
   },
   {
    "duration": 50,
    "start_time": "2022-08-29T19:25:33.674Z"
   },
   {
    "duration": 1947,
    "start_time": "2022-08-29T19:25:36.871Z"
   },
   {
    "duration": 3311,
    "start_time": "2022-08-29T19:25:38.820Z"
   },
   {
    "duration": 3,
    "start_time": "2022-08-29T19:25:42.133Z"
   },
   {
    "duration": 347,
    "start_time": "2022-08-29T19:25:42.139Z"
   },
   {
    "duration": 19,
    "start_time": "2022-08-29T19:25:42.487Z"
   },
   {
    "duration": 11,
    "start_time": "2022-08-29T19:25:42.508Z"
   },
   {
    "duration": 9,
    "start_time": "2022-08-29T19:25:42.520Z"
   },
   {
    "duration": 1996,
    "start_time": "2022-08-29T19:25:42.531Z"
   },
   {
    "duration": 12,
    "start_time": "2022-08-29T19:27:47.032Z"
   },
   {
    "duration": 774,
    "start_time": "2022-08-29T19:27:47.047Z"
   },
   {
    "duration": 3,
    "start_time": "2022-08-29T19:27:47.823Z"
   },
   {
    "duration": 306,
    "start_time": "2022-08-29T19:27:47.828Z"
   },
   {
    "duration": 18,
    "start_time": "2022-08-29T19:27:48.136Z"
   },
   {
    "duration": 10,
    "start_time": "2022-08-29T19:27:48.167Z"
   },
   {
    "duration": 7,
    "start_time": "2022-08-29T19:27:48.178Z"
   },
   {
    "duration": 51,
    "start_time": "2022-08-29T19:31:05.342Z"
   },
   {
    "duration": 1791,
    "start_time": "2022-08-29T19:32:10.050Z"
   },
   {
    "duration": 3244,
    "start_time": "2022-08-29T19:32:11.843Z"
   },
   {
    "duration": 4,
    "start_time": "2022-08-29T19:32:15.089Z"
   },
   {
    "duration": 348,
    "start_time": "2022-08-29T19:32:15.094Z"
   },
   {
    "duration": 24,
    "start_time": "2022-08-29T19:32:15.445Z"
   },
   {
    "duration": 23,
    "start_time": "2022-08-29T19:32:15.470Z"
   },
   {
    "duration": 21,
    "start_time": "2022-08-29T19:32:15.495Z"
   },
   {
    "duration": 1954,
    "start_time": "2022-08-29T19:32:15.518Z"
   },
   {
    "duration": 1682,
    "start_time": "2022-08-30T11:06:47.692Z"
   },
   {
    "duration": 2376,
    "start_time": "2022-08-30T11:06:49.376Z"
   },
   {
    "duration": 4,
    "start_time": "2022-08-30T11:06:51.753Z"
   },
   {
    "duration": 343,
    "start_time": "2022-08-30T11:06:51.759Z"
   },
   {
    "duration": 17,
    "start_time": "2022-08-30T11:06:52.104Z"
   },
   {
    "duration": 10,
    "start_time": "2022-08-30T11:06:52.122Z"
   },
   {
    "duration": 7,
    "start_time": "2022-08-30T11:06:52.134Z"
   },
   {
    "duration": 1894,
    "start_time": "2022-08-30T11:06:52.143Z"
   },
   {
    "duration": 83,
    "start_time": "2022-08-30T15:12:31.434Z"
   },
   {
    "duration": 294,
    "start_time": "2022-08-30T15:12:36.502Z"
   },
   {
    "duration": 5,
    "start_time": "2022-08-30T15:34:44.649Z"
   },
   {
    "duration": 836,
    "start_time": "2022-08-30T15:36:44.948Z"
   },
   {
    "duration": 2049,
    "start_time": "2022-08-30T15:41:13.065Z"
   },
   {
    "duration": 2720,
    "start_time": "2022-08-30T15:41:15.116Z"
   },
   {
    "duration": 4,
    "start_time": "2022-08-30T15:41:17.837Z"
   },
   {
    "duration": 369,
    "start_time": "2022-08-30T15:41:17.843Z"
   },
   {
    "duration": 19,
    "start_time": "2022-08-30T15:41:18.215Z"
   },
   {
    "duration": 9,
    "start_time": "2022-08-30T15:41:18.235Z"
   },
   {
    "duration": 9,
    "start_time": "2022-08-30T15:41:18.246Z"
   },
   {
    "duration": 50,
    "start_time": "2022-08-30T15:41:46.170Z"
   },
   {
    "duration": 1984,
    "start_time": "2022-08-30T15:41:50.916Z"
   },
   {
    "duration": 2556,
    "start_time": "2022-08-30T15:41:52.903Z"
   },
   {
    "duration": 3,
    "start_time": "2022-08-30T15:41:55.461Z"
   },
   {
    "duration": 348,
    "start_time": "2022-08-30T15:41:55.466Z"
   },
   {
    "duration": 20,
    "start_time": "2022-08-30T15:41:55.816Z"
   },
   {
    "duration": 20,
    "start_time": "2022-08-30T15:41:55.838Z"
   },
   {
    "duration": 16,
    "start_time": "2022-08-30T15:41:55.859Z"
   },
   {
    "duration": 1977,
    "start_time": "2022-08-30T15:42:13.299Z"
   },
   {
    "duration": 2656,
    "start_time": "2022-08-30T15:42:15.278Z"
   },
   {
    "duration": 4,
    "start_time": "2022-08-30T15:42:17.936Z"
   },
   {
    "duration": 349,
    "start_time": "2022-08-30T15:42:17.941Z"
   },
   {
    "duration": 21,
    "start_time": "2022-08-30T15:42:18.292Z"
   },
   {
    "duration": 9,
    "start_time": "2022-08-30T15:42:18.314Z"
   },
   {
    "duration": 8,
    "start_time": "2022-08-30T15:42:18.325Z"
   },
   {
    "duration": 51,
    "start_time": "2022-08-30T15:42:29.333Z"
   },
   {
    "duration": 2030,
    "start_time": "2022-08-30T15:42:33.190Z"
   },
   {
    "duration": 2592,
    "start_time": "2022-08-30T15:42:37.878Z"
   },
   {
    "duration": 5,
    "start_time": "2022-08-30T15:42:41.600Z"
   },
   {
    "duration": 338,
    "start_time": "2022-08-30T15:42:44.384Z"
   },
   {
    "duration": 19,
    "start_time": "2022-08-30T15:42:46.593Z"
   },
   {
    "duration": 7,
    "start_time": "2022-08-30T15:42:48.245Z"
   },
   {
    "duration": 8,
    "start_time": "2022-08-30T15:42:49.789Z"
   },
   {
    "duration": 50,
    "start_time": "2022-08-30T15:42:58.103Z"
   },
   {
    "duration": 2078,
    "start_time": "2022-08-30T15:43:07.546Z"
   },
   {
    "duration": 2516,
    "start_time": "2022-08-30T15:43:11.057Z"
   },
   {
    "duration": 3,
    "start_time": "2022-08-30T15:43:13.998Z"
   },
   {
    "duration": 343,
    "start_time": "2022-08-30T15:43:16.194Z"
   },
   {
    "duration": 7,
    "start_time": "2022-08-30T15:44:07.299Z"
   },
   {
    "duration": 19,
    "start_time": "2022-08-30T15:44:08.570Z"
   },
   {
    "duration": 65,
    "start_time": "2022-08-30T15:44:16.385Z"
   },
   {
    "duration": 6,
    "start_time": "2022-08-30T15:44:17.549Z"
   },
   {
    "duration": 1596,
    "start_time": "2022-08-30T18:03:53.980Z"
   },
   {
    "duration": 2689,
    "start_time": "2022-08-30T18:03:55.578Z"
   },
   {
    "duration": 4,
    "start_time": "2022-08-30T18:03:58.269Z"
   },
   {
    "duration": 373,
    "start_time": "2022-08-30T18:03:58.275Z"
   },
   {
    "duration": 21,
    "start_time": "2022-08-30T18:03:58.651Z"
   },
   {
    "duration": 11,
    "start_time": "2022-08-30T18:03:58.674Z"
   },
   {
    "duration": 30,
    "start_time": "2022-08-30T18:03:58.687Z"
   },
   {
    "duration": 1571,
    "start_time": "2022-08-31T14:34:31.307Z"
   },
   {
    "duration": 2428,
    "start_time": "2022-08-31T14:34:32.881Z"
   },
   {
    "duration": 3,
    "start_time": "2022-08-31T14:34:35.311Z"
   },
   {
    "duration": 310,
    "start_time": "2022-08-31T14:34:35.316Z"
   },
   {
    "duration": 18,
    "start_time": "2022-08-31T14:34:35.627Z"
   },
   {
    "duration": 12,
    "start_time": "2022-08-31T14:34:35.647Z"
   },
   {
    "duration": 7,
    "start_time": "2022-08-31T14:34:35.661Z"
   },
   {
    "duration": 1491,
    "start_time": "2022-08-31T14:55:21.749Z"
   },
   {
    "duration": 2411,
    "start_time": "2022-08-31T14:55:23.243Z"
   },
   {
    "duration": 3,
    "start_time": "2022-08-31T14:55:25.656Z"
   },
   {
    "duration": 342,
    "start_time": "2022-08-31T14:55:25.661Z"
   },
   {
    "duration": 20,
    "start_time": "2022-08-31T14:55:26.005Z"
   },
   {
    "duration": 10,
    "start_time": "2022-08-31T14:55:26.026Z"
   },
   {
    "duration": 11,
    "start_time": "2022-08-31T14:55:26.038Z"
   },
   {
    "duration": 45,
    "start_time": "2022-08-31T14:57:07.625Z"
   },
   {
    "duration": 1435,
    "start_time": "2022-08-31T14:57:13.970Z"
   },
   {
    "duration": 2424,
    "start_time": "2022-08-31T14:57:16.377Z"
   },
   {
    "duration": 4,
    "start_time": "2022-08-31T14:57:22.137Z"
   },
   {
    "duration": 319,
    "start_time": "2022-08-31T14:57:26.010Z"
   },
   {
    "duration": 19,
    "start_time": "2022-08-31T14:57:36.226Z"
   },
   {
    "duration": 7,
    "start_time": "2022-08-31T14:57:38.664Z"
   },
   {
    "duration": 8,
    "start_time": "2022-08-31T14:57:41.098Z"
   },
   {
    "duration": 1537,
    "start_time": "2022-08-31T15:10:13.293Z"
   },
   {
    "duration": 2362,
    "start_time": "2022-08-31T15:10:16.030Z"
   },
   {
    "duration": 3,
    "start_time": "2022-08-31T15:10:19.303Z"
   },
   {
    "duration": 307,
    "start_time": "2022-08-31T15:10:21.660Z"
   },
   {
    "duration": 28,
    "start_time": "2022-08-31T15:10:24.386Z"
   },
   {
    "duration": 7,
    "start_time": "2022-08-31T15:10:26.842Z"
   },
   {
    "duration": 9,
    "start_time": "2022-08-31T15:10:28.381Z"
   },
   {
    "duration": 1387,
    "start_time": "2022-08-31T15:18:07.115Z"
   },
   {
    "duration": 2389,
    "start_time": "2022-08-31T15:18:08.504Z"
   },
   {
    "duration": 4,
    "start_time": "2022-08-31T15:18:10.895Z"
   },
   {
    "duration": 333,
    "start_time": "2022-08-31T15:18:10.901Z"
   },
   {
    "duration": 17,
    "start_time": "2022-08-31T15:18:11.236Z"
   },
   {
    "duration": 19,
    "start_time": "2022-08-31T15:18:11.255Z"
   },
   {
    "duration": 17,
    "start_time": "2022-08-31T15:18:11.275Z"
   },
   {
    "duration": 1494,
    "start_time": "2022-09-01T09:07:46.445Z"
   },
   {
    "duration": 2167,
    "start_time": "2022-09-01T09:07:47.941Z"
   },
   {
    "duration": 4,
    "start_time": "2022-09-01T09:07:50.110Z"
   },
   {
    "duration": 283,
    "start_time": "2022-09-01T09:07:50.116Z"
   },
   {
    "duration": 15,
    "start_time": "2022-09-01T09:07:50.401Z"
   },
   {
    "duration": 20,
    "start_time": "2022-09-01T09:07:50.418Z"
   },
   {
    "duration": 11,
    "start_time": "2022-09-01T09:07:50.439Z"
   },
   {
    "duration": 243,
    "start_time": "2022-09-01T09:07:50.458Z"
   },
   {
    "duration": 103,
    "start_time": "2022-09-01T09:07:50.703Z"
   },
   {
    "duration": 0,
    "start_time": "2022-09-01T09:07:50.808Z"
   },
   {
    "duration": 3,
    "start_time": "2022-09-01T09:10:48.186Z"
   },
   {
    "duration": 3604,
    "start_time": "2022-09-01T09:10:59.726Z"
   },
   {
    "duration": 59,
    "start_time": "2022-09-01T09:11:21.750Z"
   },
   {
    "duration": 27,
    "start_time": "2022-09-01T09:11:28.367Z"
   },
   {
    "duration": 10,
    "start_time": "2022-09-01T09:11:45.573Z"
   },
   {
    "duration": 269,
    "start_time": "2022-09-01T09:12:12.522Z"
   },
   {
    "duration": 722,
    "start_time": "2022-09-01T09:12:12.793Z"
   },
   {
    "duration": 4,
    "start_time": "2022-09-01T09:12:13.516Z"
   },
   {
    "duration": 303,
    "start_time": "2022-09-01T09:12:13.521Z"
   },
   {
    "duration": 16,
    "start_time": "2022-09-01T09:12:13.826Z"
   },
   {
    "duration": 21,
    "start_time": "2022-09-01T09:12:13.844Z"
   },
   {
    "duration": 7,
    "start_time": "2022-09-01T09:12:13.867Z"
   },
   {
    "duration": 247,
    "start_time": "2022-09-01T09:12:13.875Z"
   },
   {
    "duration": 3662,
    "start_time": "2022-09-01T09:12:14.123Z"
   },
   {
    "duration": 26,
    "start_time": "2022-09-01T09:12:17.787Z"
   },
   {
    "duration": 13429,
    "start_time": "2022-09-01T09:12:17.814Z"
   },
   {
    "duration": 28,
    "start_time": "2022-09-01T09:13:38.850Z"
   },
   {
    "duration": 23,
    "start_time": "2022-09-01T09:13:53.915Z"
   },
   {
    "duration": 3,
    "start_time": "2022-09-01T09:14:07.556Z"
   },
   {
    "duration": 6,
    "start_time": "2022-09-01T09:14:36.674Z"
   },
   {
    "duration": 4,
    "start_time": "2022-09-01T09:15:07.703Z"
   },
   {
    "duration": 700,
    "start_time": "2022-09-01T09:15:07.709Z"
   },
   {
    "duration": 3,
    "start_time": "2022-09-01T09:15:08.411Z"
   },
   {
    "duration": 296,
    "start_time": "2022-09-01T09:15:08.416Z"
   },
   {
    "duration": 16,
    "start_time": "2022-09-01T09:15:08.714Z"
   },
   {
    "duration": 10,
    "start_time": "2022-09-01T09:15:08.731Z"
   },
   {
    "duration": 16,
    "start_time": "2022-09-01T09:15:08.743Z"
   },
   {
    "duration": 249,
    "start_time": "2022-09-01T09:15:08.761Z"
   },
   {
    "duration": 3815,
    "start_time": "2022-09-01T09:15:09.012Z"
   },
   {
    "duration": 29,
    "start_time": "2022-09-01T09:15:12.829Z"
   },
   {
    "duration": 13306,
    "start_time": "2022-09-01T09:15:12.860Z"
   },
   {
    "duration": 31,
    "start_time": "2022-09-01T09:15:26.168Z"
   },
   {
    "duration": 57,
    "start_time": "2022-09-01T09:15:26.201Z"
   },
   {
    "duration": 3,
    "start_time": "2022-09-01T09:15:26.261Z"
   },
   {
    "duration": 7,
    "start_time": "2022-09-01T09:15:26.265Z"
   },
   {
    "duration": 1145312,
    "start_time": "2022-09-01T09:16:03.197Z"
   },
   {
    "duration": 4630927,
    "start_time": "2022-09-01T09:59:15.863Z"
   },
   {
    "duration": 3,
    "start_time": "2022-09-01T11:19:13.175Z"
   },
   {
    "duration": 3,
    "start_time": "2022-09-01T11:19:51.511Z"
   },
   {
    "duration": 16109,
    "start_time": "2022-09-01T11:20:36.094Z"
   },
   {
    "duration": 6436,
    "start_time": "2022-09-01T11:21:43.204Z"
   },
   {
    "duration": 57038,
    "start_time": "2022-09-01T11:21:53.420Z"
   },
   {
    "duration": 484611,
    "start_time": "2022-09-01T11:22:59.147Z"
   },
   {
    "duration": 3,
    "start_time": "2022-09-01T11:33:07.784Z"
   },
   {
    "duration": 35,
    "start_time": "2022-09-01T11:33:09.628Z"
   },
   {
    "duration": 10774,
    "start_time": "2022-09-01T11:33:20.285Z"
   },
   {
    "duration": 70,
    "start_time": "2022-09-01T11:42:20.963Z"
   },
   {
    "duration": 29,
    "start_time": "2022-09-01T11:46:32.478Z"
   },
   {
    "duration": 29,
    "start_time": "2022-09-01T11:46:48.635Z"
   },
   {
    "duration": 10670,
    "start_time": "2022-09-01T11:47:39.689Z"
   },
   {
    "duration": 5,
    "start_time": "2022-09-01T11:54:08.790Z"
   },
   {
    "duration": 816,
    "start_time": "2022-09-01T11:54:08.797Z"
   },
   {
    "duration": 4,
    "start_time": "2022-09-01T11:54:09.616Z"
   },
   {
    "duration": 318,
    "start_time": "2022-09-01T11:54:09.621Z"
   },
   {
    "duration": 29,
    "start_time": "2022-09-01T11:54:09.941Z"
   },
   {
    "duration": 7,
    "start_time": "2022-09-01T11:54:09.972Z"
   },
   {
    "duration": 7,
    "start_time": "2022-09-01T11:54:09.980Z"
   },
   {
    "duration": 272,
    "start_time": "2022-09-01T11:54:09.989Z"
   },
   {
    "duration": 4120,
    "start_time": "2022-09-01T11:54:10.273Z"
   },
   {
    "duration": 27,
    "start_time": "2022-09-01T11:54:14.395Z"
   },
   {
    "duration": 14979,
    "start_time": "2022-09-01T11:54:14.424Z"
   },
   {
    "duration": 42,
    "start_time": "2022-09-01T11:54:29.405Z"
   },
   {
    "duration": 38,
    "start_time": "2022-09-01T11:54:29.450Z"
   },
   {
    "duration": 3,
    "start_time": "2022-09-01T11:54:29.489Z"
   },
   {
    "duration": 1152857,
    "start_time": "2022-09-01T11:54:29.494Z"
   },
   {
    "duration": 2214170,
    "start_time": "2022-09-01T12:13:42.353Z"
   },
   {
    "duration": 0,
    "start_time": "2022-09-01T12:50:36.527Z"
   },
   {
    "duration": 0,
    "start_time": "2022-09-01T12:50:36.529Z"
   },
   {
    "duration": 0,
    "start_time": "2022-09-01T12:50:36.530Z"
   },
   {
    "duration": 0,
    "start_time": "2022-09-01T12:50:36.532Z"
   },
   {
    "duration": 0,
    "start_time": "2022-09-01T12:50:36.533Z"
   },
   {
    "duration": 0,
    "start_time": "2022-09-01T12:50:36.534Z"
   },
   {
    "duration": 0,
    "start_time": "2022-09-01T12:50:36.535Z"
   },
   {
    "duration": 0,
    "start_time": "2022-09-01T12:50:36.536Z"
   },
   {
    "duration": 0,
    "start_time": "2022-09-01T12:50:36.537Z"
   },
   {
    "duration": 5367,
    "start_time": "2022-09-01T12:53:40.181Z"
   },
   {
    "duration": 3411,
    "start_time": "2022-09-01T12:53:45.550Z"
   },
   {
    "duration": 3,
    "start_time": "2022-09-01T12:53:48.963Z"
   },
   {
    "duration": 341,
    "start_time": "2022-09-01T12:53:48.968Z"
   },
   {
    "duration": 16,
    "start_time": "2022-09-01T12:53:49.310Z"
   },
   {
    "duration": 10,
    "start_time": "2022-09-01T12:53:49.327Z"
   },
   {
    "duration": 33,
    "start_time": "2022-09-01T12:53:49.338Z"
   },
   {
    "duration": 274,
    "start_time": "2022-09-01T12:53:49.373Z"
   },
   {
    "duration": 3674,
    "start_time": "2022-09-01T12:53:49.649Z"
   },
   {
    "duration": 25,
    "start_time": "2022-09-01T12:53:53.331Z"
   },
   {
    "duration": 14676,
    "start_time": "2022-09-01T12:53:53.367Z"
   },
   {
    "duration": 41,
    "start_time": "2022-09-01T12:54:08.045Z"
   },
   {
    "duration": 28,
    "start_time": "2022-09-01T12:54:08.088Z"
   },
   {
    "duration": 3,
    "start_time": "2022-09-01T12:54:08.117Z"
   },
   {
    "duration": 1192482,
    "start_time": "2022-09-01T12:54:08.122Z"
   },
   {
    "duration": 8751309,
    "start_time": "2022-09-01T13:14:00.606Z"
   },
   {
    "duration": 3,
    "start_time": "2022-09-01T15:39:51.917Z"
   },
   {
    "duration": 17866,
    "start_time": "2022-09-01T15:39:51.922Z"
   },
   {
    "duration": 7072,
    "start_time": "2022-09-01T15:40:09.790Z"
   },
   {
    "duration": 57705,
    "start_time": "2022-09-01T15:40:16.864Z"
   },
   {
    "duration": 560346,
    "start_time": "2022-09-01T15:41:14.571Z"
   },
   {
    "duration": 3,
    "start_time": "2022-09-01T15:50:34.919Z"
   },
   {
    "duration": 63,
    "start_time": "2022-09-01T15:50:34.923Z"
   },
   {
    "duration": 11255,
    "start_time": "2022-09-01T15:50:34.988Z"
   },
   {
    "duration": 76,
    "start_time": "2022-09-01T15:50:46.268Z"
   },
   {
    "duration": 97,
    "start_time": "2022-09-01T16:00:13.889Z"
   },
   {
    "duration": 10,
    "start_time": "2022-09-01T16:01:13.574Z"
   },
   {
    "duration": 8,
    "start_time": "2022-09-01T16:01:31.846Z"
   },
   {
    "duration": 3,
    "start_time": "2022-09-01T16:02:11.436Z"
   },
   {
    "duration": 10940,
    "start_time": "2022-09-01T16:02:16.494Z"
   },
   {
    "duration": 2,
    "start_time": "2022-09-01T16:02:37.405Z"
   },
   {
    "duration": 10,
    "start_time": "2022-09-01T18:03:00.526Z"
   },
   {
    "duration": 3024,
    "start_time": "2022-09-03T05:44:43.994Z"
   },
   {
    "duration": 2261,
    "start_time": "2022-09-03T05:44:59.916Z"
   },
   {
    "duration": 123,
    "start_time": "2022-09-03T05:45:33.616Z"
   },
   {
    "duration": 801,
    "start_time": "2022-09-03T05:45:47.353Z"
   },
   {
    "duration": 50,
    "start_time": "2022-09-03T05:45:50.179Z"
   },
   {
    "duration": 3,
    "start_time": "2022-09-03T05:45:55.193Z"
   },
   {
    "duration": 274,
    "start_time": "2022-09-03T05:45:57.307Z"
   },
   {
    "duration": 3,
    "start_time": "2022-09-03T05:46:50.051Z"
   },
   {
    "duration": 277,
    "start_time": "2022-09-03T05:46:51.892Z"
   },
   {
    "duration": 72,
    "start_time": "2022-09-03T05:48:52.377Z"
   },
   {
    "duration": 81,
    "start_time": "2022-09-03T05:48:56.136Z"
   },
   {
    "duration": 98061,
    "start_time": "2022-09-03T06:01:45.381Z"
   },
   {
    "duration": 48,
    "start_time": "2022-09-03T06:17:32.409Z"
   },
   {
    "duration": 1457,
    "start_time": "2022-09-03T06:17:42.231Z"
   },
   {
    "duration": 2257,
    "start_time": "2022-09-03T06:17:43.690Z"
   },
   {
    "duration": 3,
    "start_time": "2022-09-03T06:17:45.948Z"
   },
   {
    "duration": 338,
    "start_time": "2022-09-03T06:17:45.953Z"
   },
   {
    "duration": 98,
    "start_time": "2022-09-03T06:17:46.293Z"
   },
   {
    "duration": 0,
    "start_time": "2022-09-03T06:17:46.398Z"
   },
   {
    "duration": 0,
    "start_time": "2022-09-03T06:17:46.399Z"
   },
   {
    "duration": 3,
    "start_time": "2022-09-03T06:18:23.880Z"
   },
   {
    "duration": 796,
    "start_time": "2022-09-03T06:18:23.892Z"
   },
   {
    "duration": 3,
    "start_time": "2022-09-03T06:18:24.689Z"
   },
   {
    "duration": 295,
    "start_time": "2022-09-03T06:18:24.694Z"
   },
   {
    "duration": 6,
    "start_time": "2022-09-03T06:18:32.630Z"
   },
   {
    "duration": 8,
    "start_time": "2022-09-03T06:18:34.171Z"
   },
   {
    "duration": 46,
    "start_time": "2022-09-03T06:43:04.629Z"
   },
   {
    "duration": 4,
    "start_time": "2022-09-03T11:45:02.885Z"
   },
   {
    "duration": 5,
    "start_time": "2022-09-03T11:45:06.894Z"
   },
   {
    "duration": 1534,
    "start_time": "2022-09-03T11:45:41.321Z"
   },
   {
    "duration": 2348,
    "start_time": "2022-09-03T11:45:46.022Z"
   },
   {
    "duration": 4,
    "start_time": "2022-09-03T11:45:51.013Z"
   },
   {
    "duration": 554,
    "start_time": "2022-09-03T11:45:54.588Z"
   },
   {
    "duration": 5,
    "start_time": "2022-09-03T11:52:06.589Z"
   },
   {
    "duration": 416,
    "start_time": "2022-09-03T11:52:09.326Z"
   },
   {
    "duration": 12,
    "start_time": "2022-09-03T15:29:31.796Z"
   },
   {
    "duration": 908,
    "start_time": "2022-09-03T15:29:31.825Z"
   },
   {
    "duration": 4,
    "start_time": "2022-09-03T15:29:32.735Z"
   },
   {
    "duration": 480,
    "start_time": "2022-09-03T15:29:32.740Z"
   },
   {
    "duration": 5,
    "start_time": "2022-09-03T15:29:33.226Z"
   },
   {
    "duration": 8,
    "start_time": "2022-09-03T15:29:33.233Z"
   },
   {
    "duration": 234,
    "start_time": "2022-09-03T15:29:33.242Z"
   },
   {
    "duration": 4019,
    "start_time": "2022-09-03T15:29:33.477Z"
   },
   {
    "duration": 36,
    "start_time": "2022-09-03T15:29:37.498Z"
   },
   {
    "duration": 5,
    "start_time": "2022-09-03T15:29:37.535Z"
   },
   {
    "duration": 14398,
    "start_time": "2022-09-03T15:29:37.541Z"
   },
   {
    "duration": 766944,
    "start_time": "2022-09-03T15:29:51.941Z"
   },
   {
    "duration": 39,
    "start_time": "2022-09-03T15:42:38.886Z"
   },
   {
    "duration": 10,
    "start_time": "2022-09-03T15:42:38.927Z"
   },
   {
    "duration": 2,
    "start_time": "2022-09-03T15:42:38.939Z"
   },
   {
    "duration": 1060362,
    "start_time": "2022-09-03T15:42:38.943Z"
   },
   {
    "duration": 1121,
    "start_time": "2022-09-03T16:00:19.306Z"
   },
   {
    "duration": 0,
    "start_time": "2022-09-03T16:00:20.428Z"
   },
   {
    "duration": 0,
    "start_time": "2022-09-03T16:00:20.429Z"
   },
   {
    "duration": 0,
    "start_time": "2022-09-03T16:00:20.430Z"
   },
   {
    "duration": 0,
    "start_time": "2022-09-03T16:00:20.431Z"
   },
   {
    "duration": 1,
    "start_time": "2022-09-03T16:00:20.432Z"
   },
   {
    "duration": 0,
    "start_time": "2022-09-03T16:00:20.434Z"
   },
   {
    "duration": 0,
    "start_time": "2022-09-03T16:00:20.434Z"
   },
   {
    "duration": 1088966,
    "start_time": "2022-09-03T17:26:14.633Z"
   },
   {
    "duration": 770827,
    "start_time": "2022-09-03T17:44:23.605Z"
   },
   {
    "duration": 0,
    "start_time": "2022-09-03T17:57:14.434Z"
   },
   {
    "duration": 0,
    "start_time": "2022-09-03T17:57:14.436Z"
   },
   {
    "duration": 0,
    "start_time": "2022-09-03T17:57:14.437Z"
   },
   {
    "duration": 0,
    "start_time": "2022-09-03T17:57:14.438Z"
   },
   {
    "duration": 0,
    "start_time": "2022-09-03T17:57:14.439Z"
   },
   {
    "duration": 0,
    "start_time": "2022-09-03T17:57:14.498Z"
   },
   {
    "duration": 0,
    "start_time": "2022-09-03T17:57:14.500Z"
   },
   {
    "duration": 1639,
    "start_time": "2022-09-03T21:39:12.696Z"
   },
   {
    "duration": 705,
    "start_time": "2022-09-03T21:39:14.337Z"
   },
   {
    "duration": 4,
    "start_time": "2022-09-03T21:39:15.043Z"
   },
   {
    "duration": 479,
    "start_time": "2022-09-03T21:39:15.049Z"
   },
   {
    "duration": 5,
    "start_time": "2022-09-03T21:39:15.530Z"
   },
   {
    "duration": 19,
    "start_time": "2022-09-03T21:39:15.536Z"
   },
   {
    "duration": 247,
    "start_time": "2022-09-03T21:39:15.557Z"
   },
   {
    "duration": 3482,
    "start_time": "2022-09-03T21:39:15.805Z"
   },
   {
    "duration": 27,
    "start_time": "2022-09-03T21:39:19.289Z"
   },
   {
    "duration": 9,
    "start_time": "2022-09-03T21:39:19.318Z"
   },
   {
    "duration": 12869,
    "start_time": "2022-09-03T21:39:19.328Z"
   },
   {
    "duration": 654566,
    "start_time": "2022-09-03T21:39:32.198Z"
   },
   {
    "duration": 42,
    "start_time": "2022-09-03T21:50:26.766Z"
   },
   {
    "duration": 12,
    "start_time": "2022-09-03T21:50:26.810Z"
   },
   {
    "duration": 3,
    "start_time": "2022-09-03T21:50:26.823Z"
   },
   {
    "duration": 1054037,
    "start_time": "2022-09-03T21:50:26.827Z"
   },
   {
    "duration": 129,
    "start_time": "2022-09-03T22:08:00.954Z"
   },
   {
    "duration": 0,
    "start_time": "2022-09-03T22:08:01.085Z"
   },
   {
    "duration": 0,
    "start_time": "2022-09-03T22:08:01.086Z"
   },
   {
    "duration": 0,
    "start_time": "2022-09-03T22:08:01.088Z"
   },
   {
    "duration": 0,
    "start_time": "2022-09-03T22:08:01.089Z"
   },
   {
    "duration": 0,
    "start_time": "2022-09-03T22:08:01.090Z"
   },
   {
    "duration": 0,
    "start_time": "2022-09-03T22:08:01.091Z"
   },
   {
    "duration": 0,
    "start_time": "2022-09-03T22:08:01.092Z"
   },
   {
    "duration": 0,
    "start_time": "2022-09-03T22:08:01.093Z"
   },
   {
    "duration": 3,
    "start_time": "2022-09-03T22:09:59.420Z"
   },
   {
    "duration": 1269,
    "start_time": "2022-09-03T22:09:59.820Z"
   },
   {
    "duration": 0,
    "start_time": "2022-09-03T22:10:01.091Z"
   },
   {
    "duration": 15397,
    "start_time": "2022-09-03T22:14:40.674Z"
   },
   {
    "duration": 57805,
    "start_time": "2022-09-03T22:15:01.660Z"
   },
   {
    "duration": 9,
    "start_time": "2022-09-03T22:16:31.049Z"
   },
   {
    "duration": 16,
    "start_time": "2022-09-03T22:16:44.393Z"
   },
   {
    "duration": 18,
    "start_time": "2022-09-03T22:18:30.856Z"
   },
   {
    "duration": 11,
    "start_time": "2022-09-03T22:18:51.530Z"
   },
   {
    "duration": 5,
    "start_time": "2022-09-03T22:18:56.755Z"
   },
   {
    "duration": 16,
    "start_time": "2022-09-03T22:19:09.493Z"
   },
   {
    "duration": 15,
    "start_time": "2022-09-03T22:19:55.356Z"
   },
   {
    "duration": 3,
    "start_time": "2022-09-03T22:20:54.578Z"
   },
   {
    "duration": 13,
    "start_time": "2022-09-03T22:21:09.939Z"
   },
   {
    "duration": 4,
    "start_time": "2022-09-03T22:21:21.242Z"
   },
   {
    "duration": 3,
    "start_time": "2022-09-03T22:21:33.032Z"
   },
   {
    "duration": 11,
    "start_time": "2022-09-03T22:21:55.051Z"
   },
   {
    "duration": 24,
    "start_time": "2022-09-03T22:23:25.147Z"
   },
   {
    "duration": 8,
    "start_time": "2022-09-03T22:23:49.529Z"
   },
   {
    "duration": 1665,
    "start_time": "2022-09-03T22:25:34.252Z"
   },
   {
    "duration": 696,
    "start_time": "2022-09-03T22:25:35.918Z"
   },
   {
    "duration": 3,
    "start_time": "2022-09-03T22:25:36.615Z"
   },
   {
    "duration": 537,
    "start_time": "2022-09-03T22:25:36.620Z"
   },
   {
    "duration": 6,
    "start_time": "2022-09-03T22:25:37.158Z"
   },
   {
    "duration": 19,
    "start_time": "2022-09-03T22:25:37.165Z"
   },
   {
    "duration": 298,
    "start_time": "2022-09-03T22:25:37.185Z"
   },
   {
    "duration": 3296,
    "start_time": "2022-09-03T22:25:37.485Z"
   },
   {
    "duration": 26,
    "start_time": "2022-09-03T22:25:40.782Z"
   },
   {
    "duration": 10,
    "start_time": "2022-09-03T22:25:40.810Z"
   },
   {
    "duration": 12714,
    "start_time": "2022-09-03T22:25:40.821Z"
   },
   {
    "duration": 642355,
    "start_time": "2022-09-03T22:25:53.536Z"
   },
   {
    "duration": 39,
    "start_time": "2022-09-03T22:36:35.892Z"
   },
   {
    "duration": 22,
    "start_time": "2022-09-03T22:36:35.933Z"
   },
   {
    "duration": 2,
    "start_time": "2022-09-03T22:36:35.957Z"
   },
   {
    "duration": 1061798,
    "start_time": "2022-09-03T22:36:35.960Z"
   },
   {
    "duration": 202,
    "start_time": "2022-09-03T22:54:17.760Z"
   },
   {
    "duration": 0,
    "start_time": "2022-09-03T22:54:17.964Z"
   },
   {
    "duration": 0,
    "start_time": "2022-09-03T22:54:17.965Z"
   },
   {
    "duration": 0,
    "start_time": "2022-09-03T22:54:17.965Z"
   },
   {
    "duration": 0,
    "start_time": "2022-09-03T22:54:17.967Z"
   },
   {
    "duration": 0,
    "start_time": "2022-09-03T22:54:17.967Z"
   },
   {
    "duration": 0,
    "start_time": "2022-09-03T22:54:17.968Z"
   },
   {
    "duration": 0,
    "start_time": "2022-09-03T22:54:17.969Z"
   },
   {
    "duration": 0,
    "start_time": "2022-09-03T22:54:17.970Z"
   },
   {
    "duration": 0,
    "start_time": "2022-09-03T22:54:17.971Z"
   },
   {
    "duration": 0,
    "start_time": "2022-09-03T22:54:17.972Z"
   },
   {
    "duration": 16,
    "start_time": "2022-09-03T22:59:13.948Z"
   },
   {
    "duration": 8,
    "start_time": "2022-09-03T22:59:23.259Z"
   },
   {
    "duration": 4953,
    "start_time": "2022-09-03T22:59:43.259Z"
   },
   {
    "duration": 23,
    "start_time": "2022-09-03T22:59:53.634Z"
   },
   {
    "duration": 18,
    "start_time": "2022-09-03T23:00:02.522Z"
   },
   {
    "duration": 4907,
    "start_time": "2022-09-03T23:02:20.018Z"
   },
   {
    "duration": 12,
    "start_time": "2022-09-03T23:08:30.584Z"
   },
   {
    "duration": 3,
    "start_time": "2022-09-03T23:08:45.504Z"
   },
   {
    "duration": 73307,
    "start_time": "2022-09-03T23:08:51.456Z"
   },
   {
    "duration": 109,
    "start_time": "2022-09-03T23:12:47.768Z"
   },
   {
    "duration": 255,
    "start_time": "2022-09-03T23:12:58.610Z"
   },
   {
    "duration": 373,
    "start_time": "2022-09-03T23:13:58.655Z"
   },
   {
    "duration": 25685,
    "start_time": "2022-09-03T23:14:07.703Z"
   },
   {
    "duration": 10,
    "start_time": "2022-09-03T23:15:05.719Z"
   },
   {
    "duration": 187,
    "start_time": "2022-09-03T23:15:19.170Z"
   },
   {
    "duration": 141,
    "start_time": "2022-09-03T23:15:50.128Z"
   },
   {
    "duration": 142,
    "start_time": "2022-09-03T23:16:28.638Z"
   },
   {
    "duration": 141,
    "start_time": "2022-09-03T23:17:35.343Z"
   },
   {
    "duration": 177,
    "start_time": "2022-09-03T23:17:57.270Z"
   },
   {
    "duration": 42,
    "start_time": "2022-09-04T06:30:42.884Z"
   },
   {
    "duration": 1772,
    "start_time": "2022-09-04T06:31:00.221Z"
   },
   {
    "duration": 2111,
    "start_time": "2022-09-04T06:31:01.995Z"
   },
   {
    "duration": 4,
    "start_time": "2022-09-04T06:31:04.108Z"
   },
   {
    "duration": 494,
    "start_time": "2022-09-04T06:31:04.113Z"
   },
   {
    "duration": 5,
    "start_time": "2022-09-04T06:31:04.609Z"
   },
   {
    "duration": 8,
    "start_time": "2022-09-04T06:31:04.615Z"
   },
   {
    "duration": 83,
    "start_time": "2022-09-04T06:31:10.515Z"
   },
   {
    "duration": 53,
    "start_time": "2022-09-04T06:31:39.392Z"
   },
   {
    "duration": 756,
    "start_time": "2022-09-04T06:31:46.536Z"
   },
   {
    "duration": 3,
    "start_time": "2022-09-04T06:31:48.607Z"
   },
   {
    "duration": 5,
    "start_time": "2022-09-04T06:32:04.477Z"
   },
   {
    "duration": 765,
    "start_time": "2022-09-04T06:32:04.483Z"
   },
   {
    "duration": 3,
    "start_time": "2022-09-04T06:32:05.250Z"
   },
   {
    "duration": 494,
    "start_time": "2022-09-04T06:32:05.255Z"
   },
   {
    "duration": 5,
    "start_time": "2022-09-04T06:32:05.750Z"
   },
   {
    "duration": 11,
    "start_time": "2022-09-04T06:32:05.757Z"
   },
   {
    "duration": 109,
    "start_time": "2022-09-04T06:32:17.266Z"
   },
   {
    "duration": 142,
    "start_time": "2022-09-04T06:34:24.879Z"
   },
   {
    "duration": 80,
    "start_time": "2022-09-04T06:40:10.659Z"
   },
   {
    "duration": 4,
    "start_time": "2022-09-04T07:33:24.583Z"
   },
   {
    "duration": 737,
    "start_time": "2022-09-04T07:33:24.595Z"
   },
   {
    "duration": 5,
    "start_time": "2022-09-04T07:33:25.334Z"
   },
   {
    "duration": 493,
    "start_time": "2022-09-04T07:33:25.340Z"
   },
   {
    "duration": 5,
    "start_time": "2022-09-04T07:33:25.837Z"
   },
   {
    "duration": 11,
    "start_time": "2022-09-04T07:33:25.844Z"
   },
   {
    "duration": 149,
    "start_time": "2022-09-04T07:33:25.856Z"
   },
   {
    "duration": 288,
    "start_time": "2022-09-04T07:33:26.007Z"
   },
   {
    "duration": 3513,
    "start_time": "2022-09-04T07:33:26.297Z"
   },
   {
    "duration": 28,
    "start_time": "2022-09-04T07:33:29.812Z"
   },
   {
    "duration": 5,
    "start_time": "2022-09-04T07:33:29.842Z"
   },
   {
    "duration": 12848,
    "start_time": "2022-09-04T07:33:29.849Z"
   },
   {
    "duration": 666277,
    "start_time": "2022-09-04T07:33:42.698Z"
   },
   {
    "duration": 45,
    "start_time": "2022-09-04T07:44:48.977Z"
   },
   {
    "duration": 25,
    "start_time": "2022-09-04T07:44:49.023Z"
   },
   {
    "duration": 3,
    "start_time": "2022-09-04T07:44:49.049Z"
   },
   {
    "duration": 1172114,
    "start_time": "2022-09-04T07:44:49.053Z"
   },
   {
    "duration": 1815,
    "start_time": "2022-12-17T08:01:20.138Z"
   },
   {
    "duration": 3538,
    "start_time": "2022-12-17T08:01:21.954Z"
   },
   {
    "duration": 4,
    "start_time": "2022-12-17T08:01:25.493Z"
   },
   {
    "duration": 528,
    "start_time": "2022-12-17T08:01:25.499Z"
   },
   {
    "duration": 5,
    "start_time": "2022-12-17T08:01:26.029Z"
   },
   {
    "duration": 7,
    "start_time": "2022-12-17T08:01:26.036Z"
   },
   {
    "duration": 186,
    "start_time": "2022-12-17T08:01:26.045Z"
   },
   {
    "duration": 263,
    "start_time": "2022-12-17T08:01:26.232Z"
   },
   {
    "duration": 3556,
    "start_time": "2022-12-17T08:01:26.497Z"
   },
   {
    "duration": 27,
    "start_time": "2022-12-17T08:01:30.055Z"
   },
   {
    "duration": 29,
    "start_time": "2022-12-17T08:01:30.084Z"
   },
   {
    "duration": 13836,
    "start_time": "2022-12-17T08:01:30.115Z"
   },
   {
    "duration": 720479,
    "start_time": "2022-12-17T08:01:43.953Z"
   },
   {
    "duration": 37,
    "start_time": "2022-12-17T08:13:44.434Z"
   },
   {
    "duration": 23,
    "start_time": "2022-12-17T08:13:44.472Z"
   },
   {
    "duration": 3,
    "start_time": "2022-12-17T08:13:44.497Z"
   },
   {
    "duration": 1138619,
    "start_time": "2022-12-17T08:13:44.501Z"
   },
   {
    "duration": 5021448,
    "start_time": "2022-12-17T08:32:43.121Z"
   },
   {
    "duration": 5471,
    "start_time": "2022-12-17T09:56:24.570Z"
   },
   {
    "duration": 9,
    "start_time": "2022-12-17T09:56:30.043Z"
   }
  ],
  "kernelspec": {
   "display_name": "Python 3 (ipykernel)",
   "language": "python",
   "name": "python3"
  },
  "language_info": {
   "codemirror_mode": {
    "name": "ipython",
    "version": 3
   },
   "file_extension": ".py",
   "mimetype": "text/x-python",
   "name": "python",
   "nbconvert_exporter": "python",
   "pygments_lexer": "ipython3",
   "version": "3.9.5"
  },
  "toc": {
   "base_numbering": 1,
   "nav_menu": {},
   "number_sections": true,
   "sideBar": true,
   "skip_h1_title": true,
   "title_cell": "Содержание",
   "title_sidebar": "Contents",
   "toc_cell": true,
   "toc_position": {
    "height": "calc(100% - 180px)",
    "left": "10px",
    "top": "150px",
    "width": "302.391px"
   },
   "toc_section_display": true,
   "toc_window_display": false
  }
 },
 "nbformat": 4,
 "nbformat_minor": 2
}
