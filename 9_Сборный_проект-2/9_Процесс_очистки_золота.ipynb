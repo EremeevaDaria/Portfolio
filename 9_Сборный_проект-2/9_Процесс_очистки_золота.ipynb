{
 "cells": [
  {
   "cell_type": "markdown",
   "metadata": {
    "toc": true
   },
   "source": [
    "<h1>Содержание<span class=\"tocSkip\"></span></h1>\n",
    "<div class=\"toc\"><ul class=\"toc-item\"><li><span><a href=\"#Подготовка-данных\" data-toc-modified-id=\"Подготовка-данных-1\"><span class=\"toc-item-num\">1&nbsp;&nbsp;</span>Подготовка данных</a></span><ul class=\"toc-item\"><li><span><a href=\"#Вычисление-эффективности-обогащения-на-обучающей-выборке\" data-toc-modified-id=\"Вычисление-эффективности-обогащения-на-обучающей-выборке-1.1\"><span class=\"toc-item-num\">1.1&nbsp;&nbsp;</span>Вычисление эффективности обогащения на обучающей выборке</a></span><ul class=\"toc-item\"><li><span><a href=\"#Вычисление-MAE-для-признака-rougher.output.recovery\" data-toc-modified-id=\"Вычисление-MAE-для-признака-rougher.output.recovery-1.1.1\"><span class=\"toc-item-num\">1.1.1&nbsp;&nbsp;</span>Вычисление MAE для признака rougher.output.recovery</a></span></li></ul></li><li><span><a href=\"#Анализ-признаков,-недоступных-в-тестовой-выборке\" data-toc-modified-id=\"Анализ-признаков,-недоступных-в-тестовой-выборке-1.2\"><span class=\"toc-item-num\">1.2&nbsp;&nbsp;</span>Анализ признаков, недоступных в тестовой выборке</a></span></li><li><span><a href=\"#Выполним-предобработку-данных\" data-toc-modified-id=\"Выполним-предобработку-данных-1.3\"><span class=\"toc-item-num\">1.3&nbsp;&nbsp;</span>Выполним предобработку данных</a></span><ul class=\"toc-item\"><li><span><a href=\"#Оценка-доли-пропусков-и-их-устранение\" data-toc-modified-id=\"Оценка-доли-пропусков-и-их-устранение-1.3.1\"><span class=\"toc-item-num\">1.3.1&nbsp;&nbsp;</span>Оценка доли пропусков и их устранение</a></span><ul class=\"toc-item\"><li><span><a href=\"#Тестовая-выборка\" data-toc-modified-id=\"Тестовая-выборка-1.3.1.1\"><span class=\"toc-item-num\">1.3.1.1&nbsp;&nbsp;</span>Тестовая выборка</a></span></li><li><span><a href=\"#Обучающая-выборка\" data-toc-modified-id=\"Обучающая-выборка-1.3.1.2\"><span class=\"toc-item-num\">1.3.1.2&nbsp;&nbsp;</span>Обучающая выборка</a></span></li><li><span><a href=\"#Исходные-данные\" data-toc-modified-id=\"Исходные-данные-1.3.1.3\"><span class=\"toc-item-num\">1.3.1.3&nbsp;&nbsp;</span>Исходные данные</a></span></li></ul></li></ul></li></ul></li><li><span><a href=\"#Анализ-данных\" data-toc-modified-id=\"Анализ-данных-2\"><span class=\"toc-item-num\">2&nbsp;&nbsp;</span>Анализ данных</a></span><ul class=\"toc-item\"><li><span><a href=\"#Исследование-концентрации-металлов-(Au,-Ag,-Pb)-на-различных-этапах-очистки\" data-toc-modified-id=\"Исследование-концентрации-металлов-(Au,-Ag,-Pb)-на-различных-этапах-очистки-2.1\"><span class=\"toc-item-num\">2.1&nbsp;&nbsp;</span>Исследование концентрации металлов (Au, Ag, Pb) на различных этапах очистки</a></span></li><li><span><a href=\"#Сравнение-распределения-размеров-гранул-сырья\" data-toc-modified-id=\"Сравнение-распределения-размеров-гранул-сырья-2.2\"><span class=\"toc-item-num\">2.2&nbsp;&nbsp;</span>Сравнение распределения размеров гранул сырья</a></span></li><li><span><a href=\"#Исследование-суммарной-концентрации-всех-веществ-на-разных-стадиях\" data-toc-modified-id=\"Исследование-суммарной-концентрации-всех-веществ-на-разных-стадиях-2.3\"><span class=\"toc-item-num\">2.3&nbsp;&nbsp;</span>Исследование суммарной концентрации всех веществ на разных стадиях</a></span></li></ul></li><li><span><a href=\"#Модель\" data-toc-modified-id=\"Модель-3\"><span class=\"toc-item-num\">3&nbsp;&nbsp;</span>Модель</a></span><ul class=\"toc-item\"><li><span><a href=\"#Вычисление-итоговой-sMAPE\" data-toc-modified-id=\"Вычисление-итоговой-sMAPE-3.1\"><span class=\"toc-item-num\">3.1&nbsp;&nbsp;</span>Вычисление итоговой sMAPE</a></span></li><li><span><a href=\"#Проверка-модель-на-тестовой-выборке\" data-toc-modified-id=\"Проверка-модель-на-тестовой-выборке-3.2\"><span class=\"toc-item-num\">3.2&nbsp;&nbsp;</span>Проверка модель на тестовой выборке</a></span></li></ul></li><li><span><a href=\"#Итоги\" data-toc-modified-id=\"Итоги-4\"><span class=\"toc-item-num\">4&nbsp;&nbsp;</span>Итоги</a></span></li></ul></div>"
   ]
  },
  {
   "cell_type": "markdown",
   "metadata": {},
   "source": [
    "# Исследование технологического процесса очистки золота"
   ]
  },
  {
   "cell_type": "markdown",
   "metadata": {},
   "source": [
    "Подготовьте прототип модели машинного обучения для «Цифры». Компания разрабатывает решения для эффективной работы промышленных предприятий.\n",
    "\n",
    "Модель должна предсказать коэффициент восстановления золота из золотосодержащей руды. Используйте данные с параметрами добычи и очистки. \n",
    "\n",
    "Модель поможет оптимизировать производство, чтобы не запускать предприятие с убыточными характеристиками.\n",
    "\n",
    "Вам нужно:\n",
    "\n",
    "1. Подготовить данные;\n",
    "2. Провести исследовательский анализ данных;\n",
    "3. Построить и обучить модель.\n"
   ]
  },
  {
   "cell_type": "markdown",
   "metadata": {},
   "source": [
    "## Подготовка данных"
   ]
  },
  {
   "cell_type": "code",
   "execution_count": 1,
   "metadata": {},
   "outputs": [],
   "source": [
    "#загрузим необходимые библиотеки\n",
    "import pandas as pd\n",
    "import matplotlib.pyplot as plt\n",
    "import numpy as np\n",
    "import seaborn as sns\n",
    "import warnings\n",
    "warnings.filterwarnings('ignore')\n",
    "from sklearn.preprocessing import StandardScaler # для масштабирования количественных признаков\n",
    "from sklearn.metrics import mean_absolute_error\n",
    "from sklearn.metrics import make_scorer\n",
    "from sklearn.model_selection import cross_val_score\n",
    "from sklearn.linear_model import LinearRegression # линейная регрессия\n",
    "from sklearn.ensemble import RandomForestRegressor\n",
    "from sklearn.tree import DecisionTreeRegressor\n",
    "from sklearn.dummy import DummyRegressor\n",
    "from sklearn.model_selection import GridSearchCV"
   ]
  },
  {
   "cell_type": "code",
   "execution_count": 2,
   "metadata": {},
   "outputs": [],
   "source": [
    "#Откроем файлы и изучим их\n",
    "#столбец 'date' представлена в формате object, для преобразования используем команду parse_dates\n",
    "df_train = pd.read_csv('/datasets/gold_recovery_train_new.csv',parse_dates = ['date']) #обучающая выборка\n",
    "df_test = pd.read_csv('/datasets/gold_recovery_test_new.csv', parse_dates = ['date']) #тестовая выборка\n",
    "df_full = pd.read_csv('/datasets/gold_recovery_full_new.csv',parse_dates = ['date']) #исходные данные"
   ]
  },
  {
   "cell_type": "code",
   "execution_count": 3,
   "metadata": {
    "scrolled": false
   },
   "outputs": [],
   "source": [
    "#изучим данные воспользовавшись унифицированной функцией\n",
    "def uni_function(function):\n",
    "    display(function.head())\n",
    "    display(function.info())\n",
    "    display(function.isna().mean()) #доля пропущенных значений\n",
    "    display(function.describe())\n",
    "    display(function.duplicated().sum())"
   ]
  },
  {
   "cell_type": "code",
   "execution_count": 4,
   "metadata": {},
   "outputs": [
    {
     "data": {
      "text/html": [
       "<div>\n",
       "<style scoped>\n",
       "    .dataframe tbody tr th:only-of-type {\n",
       "        vertical-align: middle;\n",
       "    }\n",
       "\n",
       "    .dataframe tbody tr th {\n",
       "        vertical-align: top;\n",
       "    }\n",
       "\n",
       "    .dataframe thead th {\n",
       "        text-align: right;\n",
       "    }\n",
       "</style>\n",
       "<table border=\"1\" class=\"dataframe\">\n",
       "  <thead>\n",
       "    <tr style=\"text-align: right;\">\n",
       "      <th></th>\n",
       "      <th>date</th>\n",
       "      <th>final.output.concentrate_ag</th>\n",
       "      <th>final.output.concentrate_pb</th>\n",
       "      <th>final.output.concentrate_sol</th>\n",
       "      <th>final.output.concentrate_au</th>\n",
       "      <th>final.output.recovery</th>\n",
       "      <th>final.output.tail_ag</th>\n",
       "      <th>final.output.tail_pb</th>\n",
       "      <th>final.output.tail_sol</th>\n",
       "      <th>final.output.tail_au</th>\n",
       "      <th>...</th>\n",
       "      <th>secondary_cleaner.state.floatbank4_a_air</th>\n",
       "      <th>secondary_cleaner.state.floatbank4_a_level</th>\n",
       "      <th>secondary_cleaner.state.floatbank4_b_air</th>\n",
       "      <th>secondary_cleaner.state.floatbank4_b_level</th>\n",
       "      <th>secondary_cleaner.state.floatbank5_a_air</th>\n",
       "      <th>secondary_cleaner.state.floatbank5_a_level</th>\n",
       "      <th>secondary_cleaner.state.floatbank5_b_air</th>\n",
       "      <th>secondary_cleaner.state.floatbank5_b_level</th>\n",
       "      <th>secondary_cleaner.state.floatbank6_a_air</th>\n",
       "      <th>secondary_cleaner.state.floatbank6_a_level</th>\n",
       "    </tr>\n",
       "  </thead>\n",
       "  <tbody>\n",
       "    <tr>\n",
       "      <th>0</th>\n",
       "      <td>2016-01-15 00:00:00</td>\n",
       "      <td>6.055403</td>\n",
       "      <td>9.889648</td>\n",
       "      <td>5.507324</td>\n",
       "      <td>42.192020</td>\n",
       "      <td>70.541216</td>\n",
       "      <td>10.411962</td>\n",
       "      <td>0.895447</td>\n",
       "      <td>16.904297</td>\n",
       "      <td>2.143149</td>\n",
       "      <td>...</td>\n",
       "      <td>14.016835</td>\n",
       "      <td>-502.488007</td>\n",
       "      <td>12.099931</td>\n",
       "      <td>-504.715942</td>\n",
       "      <td>9.925633</td>\n",
       "      <td>-498.310211</td>\n",
       "      <td>8.079666</td>\n",
       "      <td>-500.470978</td>\n",
       "      <td>14.151341</td>\n",
       "      <td>-605.841980</td>\n",
       "    </tr>\n",
       "    <tr>\n",
       "      <th>1</th>\n",
       "      <td>2016-01-15 01:00:00</td>\n",
       "      <td>6.029369</td>\n",
       "      <td>9.968944</td>\n",
       "      <td>5.257781</td>\n",
       "      <td>42.701629</td>\n",
       "      <td>69.266198</td>\n",
       "      <td>10.462676</td>\n",
       "      <td>0.927452</td>\n",
       "      <td>16.634514</td>\n",
       "      <td>2.224930</td>\n",
       "      <td>...</td>\n",
       "      <td>13.992281</td>\n",
       "      <td>-505.503262</td>\n",
       "      <td>11.950531</td>\n",
       "      <td>-501.331529</td>\n",
       "      <td>10.039245</td>\n",
       "      <td>-500.169983</td>\n",
       "      <td>7.984757</td>\n",
       "      <td>-500.582168</td>\n",
       "      <td>13.998353</td>\n",
       "      <td>-599.787184</td>\n",
       "    </tr>\n",
       "    <tr>\n",
       "      <th>2</th>\n",
       "      <td>2016-01-15 02:00:00</td>\n",
       "      <td>6.055926</td>\n",
       "      <td>10.213995</td>\n",
       "      <td>5.383759</td>\n",
       "      <td>42.657501</td>\n",
       "      <td>68.116445</td>\n",
       "      <td>10.507046</td>\n",
       "      <td>0.953716</td>\n",
       "      <td>16.208849</td>\n",
       "      <td>2.257889</td>\n",
       "      <td>...</td>\n",
       "      <td>14.015015</td>\n",
       "      <td>-502.520901</td>\n",
       "      <td>11.912783</td>\n",
       "      <td>-501.133383</td>\n",
       "      <td>10.070913</td>\n",
       "      <td>-500.129135</td>\n",
       "      <td>8.013877</td>\n",
       "      <td>-500.517572</td>\n",
       "      <td>14.028663</td>\n",
       "      <td>-601.427363</td>\n",
       "    </tr>\n",
       "    <tr>\n",
       "      <th>3</th>\n",
       "      <td>2016-01-15 03:00:00</td>\n",
       "      <td>6.047977</td>\n",
       "      <td>9.977019</td>\n",
       "      <td>4.858634</td>\n",
       "      <td>42.689819</td>\n",
       "      <td>68.347543</td>\n",
       "      <td>10.422762</td>\n",
       "      <td>0.883763</td>\n",
       "      <td>16.532835</td>\n",
       "      <td>2.146849</td>\n",
       "      <td>...</td>\n",
       "      <td>14.036510</td>\n",
       "      <td>-500.857308</td>\n",
       "      <td>11.999550</td>\n",
       "      <td>-501.193686</td>\n",
       "      <td>9.970366</td>\n",
       "      <td>-499.201640</td>\n",
       "      <td>7.977324</td>\n",
       "      <td>-500.255908</td>\n",
       "      <td>14.005551</td>\n",
       "      <td>-599.996129</td>\n",
       "    </tr>\n",
       "    <tr>\n",
       "      <th>4</th>\n",
       "      <td>2016-01-15 04:00:00</td>\n",
       "      <td>6.148599</td>\n",
       "      <td>10.142511</td>\n",
       "      <td>4.939416</td>\n",
       "      <td>42.774141</td>\n",
       "      <td>66.927016</td>\n",
       "      <td>10.360302</td>\n",
       "      <td>0.792826</td>\n",
       "      <td>16.525686</td>\n",
       "      <td>2.055292</td>\n",
       "      <td>...</td>\n",
       "      <td>14.027298</td>\n",
       "      <td>-499.838632</td>\n",
       "      <td>11.953070</td>\n",
       "      <td>-501.053894</td>\n",
       "      <td>9.925709</td>\n",
       "      <td>-501.686727</td>\n",
       "      <td>7.894242</td>\n",
       "      <td>-500.356035</td>\n",
       "      <td>13.996647</td>\n",
       "      <td>-601.496691</td>\n",
       "    </tr>\n",
       "  </tbody>\n",
       "</table>\n",
       "<p>5 rows × 87 columns</p>\n",
       "</div>"
      ],
      "text/plain": [
       "                 date  final.output.concentrate_ag  \\\n",
       "0 2016-01-15 00:00:00                     6.055403   \n",
       "1 2016-01-15 01:00:00                     6.029369   \n",
       "2 2016-01-15 02:00:00                     6.055926   \n",
       "3 2016-01-15 03:00:00                     6.047977   \n",
       "4 2016-01-15 04:00:00                     6.148599   \n",
       "\n",
       "   final.output.concentrate_pb  final.output.concentrate_sol  \\\n",
       "0                     9.889648                      5.507324   \n",
       "1                     9.968944                      5.257781   \n",
       "2                    10.213995                      5.383759   \n",
       "3                     9.977019                      4.858634   \n",
       "4                    10.142511                      4.939416   \n",
       "\n",
       "   final.output.concentrate_au  final.output.recovery  final.output.tail_ag  \\\n",
       "0                    42.192020              70.541216             10.411962   \n",
       "1                    42.701629              69.266198             10.462676   \n",
       "2                    42.657501              68.116445             10.507046   \n",
       "3                    42.689819              68.347543             10.422762   \n",
       "4                    42.774141              66.927016             10.360302   \n",
       "\n",
       "   final.output.tail_pb  final.output.tail_sol  final.output.tail_au  ...  \\\n",
       "0              0.895447              16.904297              2.143149  ...   \n",
       "1              0.927452              16.634514              2.224930  ...   \n",
       "2              0.953716              16.208849              2.257889  ...   \n",
       "3              0.883763              16.532835              2.146849  ...   \n",
       "4              0.792826              16.525686              2.055292  ...   \n",
       "\n",
       "   secondary_cleaner.state.floatbank4_a_air  \\\n",
       "0                                 14.016835   \n",
       "1                                 13.992281   \n",
       "2                                 14.015015   \n",
       "3                                 14.036510   \n",
       "4                                 14.027298   \n",
       "\n",
       "   secondary_cleaner.state.floatbank4_a_level  \\\n",
       "0                                 -502.488007   \n",
       "1                                 -505.503262   \n",
       "2                                 -502.520901   \n",
       "3                                 -500.857308   \n",
       "4                                 -499.838632   \n",
       "\n",
       "   secondary_cleaner.state.floatbank4_b_air  \\\n",
       "0                                 12.099931   \n",
       "1                                 11.950531   \n",
       "2                                 11.912783   \n",
       "3                                 11.999550   \n",
       "4                                 11.953070   \n",
       "\n",
       "   secondary_cleaner.state.floatbank4_b_level  \\\n",
       "0                                 -504.715942   \n",
       "1                                 -501.331529   \n",
       "2                                 -501.133383   \n",
       "3                                 -501.193686   \n",
       "4                                 -501.053894   \n",
       "\n",
       "   secondary_cleaner.state.floatbank5_a_air  \\\n",
       "0                                  9.925633   \n",
       "1                                 10.039245   \n",
       "2                                 10.070913   \n",
       "3                                  9.970366   \n",
       "4                                  9.925709   \n",
       "\n",
       "   secondary_cleaner.state.floatbank5_a_level  \\\n",
       "0                                 -498.310211   \n",
       "1                                 -500.169983   \n",
       "2                                 -500.129135   \n",
       "3                                 -499.201640   \n",
       "4                                 -501.686727   \n",
       "\n",
       "   secondary_cleaner.state.floatbank5_b_air  \\\n",
       "0                                  8.079666   \n",
       "1                                  7.984757   \n",
       "2                                  8.013877   \n",
       "3                                  7.977324   \n",
       "4                                  7.894242   \n",
       "\n",
       "   secondary_cleaner.state.floatbank5_b_level  \\\n",
       "0                                 -500.470978   \n",
       "1                                 -500.582168   \n",
       "2                                 -500.517572   \n",
       "3                                 -500.255908   \n",
       "4                                 -500.356035   \n",
       "\n",
       "   secondary_cleaner.state.floatbank6_a_air  \\\n",
       "0                                 14.151341   \n",
       "1                                 13.998353   \n",
       "2                                 14.028663   \n",
       "3                                 14.005551   \n",
       "4                                 13.996647   \n",
       "\n",
       "   secondary_cleaner.state.floatbank6_a_level  \n",
       "0                                 -605.841980  \n",
       "1                                 -599.787184  \n",
       "2                                 -601.427363  \n",
       "3                                 -599.996129  \n",
       "4                                 -601.496691  \n",
       "\n",
       "[5 rows x 87 columns]"
      ]
     },
     "metadata": {},
     "output_type": "display_data"
    },
    {
     "name": "stdout",
     "output_type": "stream",
     "text": [
      "<class 'pandas.core.frame.DataFrame'>\n",
      "RangeIndex: 14149 entries, 0 to 14148\n",
      "Data columns (total 87 columns):\n",
      " #   Column                                              Non-Null Count  Dtype         \n",
      "---  ------                                              --------------  -----         \n",
      " 0   date                                                14149 non-null  datetime64[ns]\n",
      " 1   final.output.concentrate_ag                         14148 non-null  float64       \n",
      " 2   final.output.concentrate_pb                         14148 non-null  float64       \n",
      " 3   final.output.concentrate_sol                        13938 non-null  float64       \n",
      " 4   final.output.concentrate_au                         14149 non-null  float64       \n",
      " 5   final.output.recovery                               14149 non-null  float64       \n",
      " 6   final.output.tail_ag                                14149 non-null  float64       \n",
      " 7   final.output.tail_pb                                14049 non-null  float64       \n",
      " 8   final.output.tail_sol                               14144 non-null  float64       \n",
      " 9   final.output.tail_au                                14149 non-null  float64       \n",
      " 10  primary_cleaner.input.sulfate                       14129 non-null  float64       \n",
      " 11  primary_cleaner.input.depressant                    14117 non-null  float64       \n",
      " 12  primary_cleaner.input.feed_size                     14149 non-null  float64       \n",
      " 13  primary_cleaner.input.xanthate                      14049 non-null  float64       \n",
      " 14  primary_cleaner.output.concentrate_ag               14149 non-null  float64       \n",
      " 15  primary_cleaner.output.concentrate_pb               14063 non-null  float64       \n",
      " 16  primary_cleaner.output.concentrate_sol              13863 non-null  float64       \n",
      " 17  primary_cleaner.output.concentrate_au               14149 non-null  float64       \n",
      " 18  primary_cleaner.output.tail_ag                      14148 non-null  float64       \n",
      " 19  primary_cleaner.output.tail_pb                      14134 non-null  float64       \n",
      " 20  primary_cleaner.output.tail_sol                     14103 non-null  float64       \n",
      " 21  primary_cleaner.output.tail_au                      14149 non-null  float64       \n",
      " 22  primary_cleaner.state.floatbank8_a_air              14145 non-null  float64       \n",
      " 23  primary_cleaner.state.floatbank8_a_level            14148 non-null  float64       \n",
      " 24  primary_cleaner.state.floatbank8_b_air              14145 non-null  float64       \n",
      " 25  primary_cleaner.state.floatbank8_b_level            14148 non-null  float64       \n",
      " 26  primary_cleaner.state.floatbank8_c_air              14147 non-null  float64       \n",
      " 27  primary_cleaner.state.floatbank8_c_level            14148 non-null  float64       \n",
      " 28  primary_cleaner.state.floatbank8_d_air              14146 non-null  float64       \n",
      " 29  primary_cleaner.state.floatbank8_d_level            14148 non-null  float64       \n",
      " 30  rougher.calculation.sulfate_to_au_concentrate       14148 non-null  float64       \n",
      " 31  rougher.calculation.floatbank10_sulfate_to_au_feed  14148 non-null  float64       \n",
      " 32  rougher.calculation.floatbank11_sulfate_to_au_feed  14148 non-null  float64       \n",
      " 33  rougher.calculation.au_pb_ratio                     14149 non-null  float64       \n",
      " 34  rougher.input.feed_ag                               14149 non-null  float64       \n",
      " 35  rougher.input.feed_pb                               14049 non-null  float64       \n",
      " 36  rougher.input.feed_rate                             14141 non-null  float64       \n",
      " 37  rougher.input.feed_size                             14005 non-null  float64       \n",
      " 38  rougher.input.feed_sol                              14071 non-null  float64       \n",
      " 39  rougher.input.feed_au                               14149 non-null  float64       \n",
      " 40  rougher.input.floatbank10_sulfate                   14120 non-null  float64       \n",
      " 41  rougher.input.floatbank10_xanthate                  14141 non-null  float64       \n",
      " 42  rougher.input.floatbank11_sulfate                   14113 non-null  float64       \n",
      " 43  rougher.input.floatbank11_xanthate                  13721 non-null  float64       \n",
      " 44  rougher.output.concentrate_ag                       14149 non-null  float64       \n",
      " 45  rougher.output.concentrate_pb                       14149 non-null  float64       \n",
      " 46  rougher.output.concentrate_sol                      14127 non-null  float64       \n",
      " 47  rougher.output.concentrate_au                       14149 non-null  float64       \n",
      " 48  rougher.output.recovery                             14149 non-null  float64       \n",
      " 49  rougher.output.tail_ag                              14148 non-null  float64       \n",
      " 50  rougher.output.tail_pb                              14149 non-null  float64       \n",
      " 51  rougher.output.tail_sol                             14149 non-null  float64       \n",
      " 52  rougher.output.tail_au                              14149 non-null  float64       \n",
      " 53  rougher.state.floatbank10_a_air                     14148 non-null  float64       \n",
      " 54  rougher.state.floatbank10_a_level                   14148 non-null  float64       \n",
      " 55  rougher.state.floatbank10_b_air                     14148 non-null  float64       \n",
      " 56  rougher.state.floatbank10_b_level                   14148 non-null  float64       \n",
      " 57  rougher.state.floatbank10_c_air                     14148 non-null  float64       \n",
      " 58  rougher.state.floatbank10_c_level                   14148 non-null  float64       \n",
      " 59  rougher.state.floatbank10_d_air                     14149 non-null  float64       \n",
      " 60  rougher.state.floatbank10_d_level                   14149 non-null  float64       \n",
      " 61  rougher.state.floatbank10_e_air                     13713 non-null  float64       \n",
      " 62  rougher.state.floatbank10_e_level                   14149 non-null  float64       \n",
      " 63  rougher.state.floatbank10_f_air                     14149 non-null  float64       \n",
      " 64  rougher.state.floatbank10_f_level                   14149 non-null  float64       \n",
      " 65  secondary_cleaner.output.tail_ag                    14147 non-null  float64       \n",
      " 66  secondary_cleaner.output.tail_pb                    14139 non-null  float64       \n",
      " 67  secondary_cleaner.output.tail_sol                   12544 non-null  float64       \n",
      " 68  secondary_cleaner.output.tail_au                    14149 non-null  float64       \n",
      " 69  secondary_cleaner.state.floatbank2_a_air            13932 non-null  float64       \n",
      " 70  secondary_cleaner.state.floatbank2_a_level          14148 non-null  float64       \n",
      " 71  secondary_cleaner.state.floatbank2_b_air            14128 non-null  float64       \n",
      " 72  secondary_cleaner.state.floatbank2_b_level          14148 non-null  float64       \n",
      " 73  secondary_cleaner.state.floatbank3_a_air            14145 non-null  float64       \n",
      " 74  secondary_cleaner.state.floatbank3_a_level          14148 non-null  float64       \n",
      " 75  secondary_cleaner.state.floatbank3_b_air            14148 non-null  float64       \n",
      " 76  secondary_cleaner.state.floatbank3_b_level          14148 non-null  float64       \n",
      " 77  secondary_cleaner.state.floatbank4_a_air            14143 non-null  float64       \n",
      " 78  secondary_cleaner.state.floatbank4_a_level          14148 non-null  float64       \n",
      " 79  secondary_cleaner.state.floatbank4_b_air            14148 non-null  float64       \n",
      " 80  secondary_cleaner.state.floatbank4_b_level          14148 non-null  float64       \n",
      " 81  secondary_cleaner.state.floatbank5_a_air            14148 non-null  float64       \n",
      " 82  secondary_cleaner.state.floatbank5_a_level          14148 non-null  float64       \n",
      " 83  secondary_cleaner.state.floatbank5_b_air            14148 non-null  float64       \n",
      " 84  secondary_cleaner.state.floatbank5_b_level          14148 non-null  float64       \n",
      " 85  secondary_cleaner.state.floatbank6_a_air            14147 non-null  float64       \n",
      " 86  secondary_cleaner.state.floatbank6_a_level          14148 non-null  float64       \n",
      "dtypes: datetime64[ns](1), float64(86)\n",
      "memory usage: 9.4 MB\n"
     ]
    },
    {
     "data": {
      "text/plain": [
       "None"
      ]
     },
     "metadata": {},
     "output_type": "display_data"
    },
    {
     "data": {
      "text/plain": [
       "date                                          0.000000\n",
       "final.output.concentrate_ag                   0.000071\n",
       "final.output.concentrate_pb                   0.000071\n",
       "final.output.concentrate_sol                  0.014913\n",
       "final.output.concentrate_au                   0.000000\n",
       "                                                ...   \n",
       "secondary_cleaner.state.floatbank5_a_level    0.000071\n",
       "secondary_cleaner.state.floatbank5_b_air      0.000071\n",
       "secondary_cleaner.state.floatbank5_b_level    0.000071\n",
       "secondary_cleaner.state.floatbank6_a_air      0.000141\n",
       "secondary_cleaner.state.floatbank6_a_level    0.000071\n",
       "Length: 87, dtype: float64"
      ]
     },
     "metadata": {},
     "output_type": "display_data"
    },
    {
     "data": {
      "text/html": [
       "<div>\n",
       "<style scoped>\n",
       "    .dataframe tbody tr th:only-of-type {\n",
       "        vertical-align: middle;\n",
       "    }\n",
       "\n",
       "    .dataframe tbody tr th {\n",
       "        vertical-align: top;\n",
       "    }\n",
       "\n",
       "    .dataframe thead th {\n",
       "        text-align: right;\n",
       "    }\n",
       "</style>\n",
       "<table border=\"1\" class=\"dataframe\">\n",
       "  <thead>\n",
       "    <tr style=\"text-align: right;\">\n",
       "      <th></th>\n",
       "      <th>final.output.concentrate_ag</th>\n",
       "      <th>final.output.concentrate_pb</th>\n",
       "      <th>final.output.concentrate_sol</th>\n",
       "      <th>final.output.concentrate_au</th>\n",
       "      <th>final.output.recovery</th>\n",
       "      <th>final.output.tail_ag</th>\n",
       "      <th>final.output.tail_pb</th>\n",
       "      <th>final.output.tail_sol</th>\n",
       "      <th>final.output.tail_au</th>\n",
       "      <th>primary_cleaner.input.sulfate</th>\n",
       "      <th>...</th>\n",
       "      <th>secondary_cleaner.state.floatbank4_a_air</th>\n",
       "      <th>secondary_cleaner.state.floatbank4_a_level</th>\n",
       "      <th>secondary_cleaner.state.floatbank4_b_air</th>\n",
       "      <th>secondary_cleaner.state.floatbank4_b_level</th>\n",
       "      <th>secondary_cleaner.state.floatbank5_a_air</th>\n",
       "      <th>secondary_cleaner.state.floatbank5_a_level</th>\n",
       "      <th>secondary_cleaner.state.floatbank5_b_air</th>\n",
       "      <th>secondary_cleaner.state.floatbank5_b_level</th>\n",
       "      <th>secondary_cleaner.state.floatbank6_a_air</th>\n",
       "      <th>secondary_cleaner.state.floatbank6_a_level</th>\n",
       "    </tr>\n",
       "  </thead>\n",
       "  <tbody>\n",
       "    <tr>\n",
       "      <th>count</th>\n",
       "      <td>14148.000000</td>\n",
       "      <td>14148.000000</td>\n",
       "      <td>13938.000000</td>\n",
       "      <td>14149.000000</td>\n",
       "      <td>14149.000000</td>\n",
       "      <td>14149.000000</td>\n",
       "      <td>14049.000000</td>\n",
       "      <td>14144.000000</td>\n",
       "      <td>14149.000000</td>\n",
       "      <td>14129.000000</td>\n",
       "      <td>...</td>\n",
       "      <td>14143.000000</td>\n",
       "      <td>14148.000000</td>\n",
       "      <td>14148.000000</td>\n",
       "      <td>14148.000000</td>\n",
       "      <td>14148.000000</td>\n",
       "      <td>14148.000000</td>\n",
       "      <td>14148.000000</td>\n",
       "      <td>14148.000000</td>\n",
       "      <td>14147.000000</td>\n",
       "      <td>14148.000000</td>\n",
       "    </tr>\n",
       "    <tr>\n",
       "      <th>mean</th>\n",
       "      <td>5.142034</td>\n",
       "      <td>10.132960</td>\n",
       "      <td>9.202849</td>\n",
       "      <td>44.003792</td>\n",
       "      <td>66.518832</td>\n",
       "      <td>9.607035</td>\n",
       "      <td>2.597298</td>\n",
       "      <td>10.512122</td>\n",
       "      <td>2.918421</td>\n",
       "      <td>133.320659</td>\n",
       "      <td>...</td>\n",
       "      <td>19.985454</td>\n",
       "      <td>-478.696836</td>\n",
       "      <td>15.487065</td>\n",
       "      <td>-460.229416</td>\n",
       "      <td>16.775136</td>\n",
       "      <td>-483.956022</td>\n",
       "      <td>13.064590</td>\n",
       "      <td>-483.966564</td>\n",
       "      <td>19.577539</td>\n",
       "      <td>-506.798480</td>\n",
       "    </tr>\n",
       "    <tr>\n",
       "      <th>std</th>\n",
       "      <td>1.369586</td>\n",
       "      <td>1.654930</td>\n",
       "      <td>2.790516</td>\n",
       "      <td>4.905261</td>\n",
       "      <td>10.295402</td>\n",
       "      <td>2.319069</td>\n",
       "      <td>0.971843</td>\n",
       "      <td>3.003617</td>\n",
       "      <td>0.903712</td>\n",
       "      <td>39.431659</td>\n",
       "      <td>...</td>\n",
       "      <td>5.657723</td>\n",
       "      <td>50.736021</td>\n",
       "      <td>5.255655</td>\n",
       "      <td>58.843586</td>\n",
       "      <td>5.831906</td>\n",
       "      <td>37.892788</td>\n",
       "      <td>5.765617</td>\n",
       "      <td>39.207913</td>\n",
       "      <td>5.764417</td>\n",
       "      <td>37.079249</td>\n",
       "    </tr>\n",
       "    <tr>\n",
       "      <th>min</th>\n",
       "      <td>0.000000</td>\n",
       "      <td>0.000000</td>\n",
       "      <td>0.000000</td>\n",
       "      <td>0.000000</td>\n",
       "      <td>0.000000</td>\n",
       "      <td>0.000000</td>\n",
       "      <td>0.000000</td>\n",
       "      <td>0.000000</td>\n",
       "      <td>0.000000</td>\n",
       "      <td>0.003112</td>\n",
       "      <td>...</td>\n",
       "      <td>0.000000</td>\n",
       "      <td>-799.709069</td>\n",
       "      <td>0.000000</td>\n",
       "      <td>-799.889113</td>\n",
       "      <td>-0.372054</td>\n",
       "      <td>-797.142475</td>\n",
       "      <td>0.646208</td>\n",
       "      <td>-800.006180</td>\n",
       "      <td>0.195324</td>\n",
       "      <td>-809.398668</td>\n",
       "    </tr>\n",
       "    <tr>\n",
       "      <th>25%</th>\n",
       "      <td>4.211620</td>\n",
       "      <td>9.297355</td>\n",
       "      <td>7.484645</td>\n",
       "      <td>43.276111</td>\n",
       "      <td>62.545817</td>\n",
       "      <td>7.997429</td>\n",
       "      <td>1.905973</td>\n",
       "      <td>8.811324</td>\n",
       "      <td>2.368607</td>\n",
       "      <td>107.006651</td>\n",
       "      <td>...</td>\n",
       "      <td>14.990775</td>\n",
       "      <td>-500.628656</td>\n",
       "      <td>11.894558</td>\n",
       "      <td>-500.149000</td>\n",
       "      <td>11.083980</td>\n",
       "      <td>-500.363177</td>\n",
       "      <td>8.994405</td>\n",
       "      <td>-500.105994</td>\n",
       "      <td>14.989304</td>\n",
       "      <td>-500.745104</td>\n",
       "    </tr>\n",
       "    <tr>\n",
       "      <th>50%</th>\n",
       "      <td>4.994652</td>\n",
       "      <td>10.297144</td>\n",
       "      <td>8.845462</td>\n",
       "      <td>44.872436</td>\n",
       "      <td>67.432775</td>\n",
       "      <td>9.480270</td>\n",
       "      <td>2.592022</td>\n",
       "      <td>10.514621</td>\n",
       "      <td>2.851025</td>\n",
       "      <td>133.018328</td>\n",
       "      <td>...</td>\n",
       "      <td>20.001789</td>\n",
       "      <td>-499.681450</td>\n",
       "      <td>14.975536</td>\n",
       "      <td>-499.388738</td>\n",
       "      <td>17.932223</td>\n",
       "      <td>-499.702452</td>\n",
       "      <td>11.997547</td>\n",
       "      <td>-499.914556</td>\n",
       "      <td>19.984175</td>\n",
       "      <td>-500.061431</td>\n",
       "    </tr>\n",
       "    <tr>\n",
       "      <th>75%</th>\n",
       "      <td>5.859540</td>\n",
       "      <td>11.170603</td>\n",
       "      <td>10.487508</td>\n",
       "      <td>46.166425</td>\n",
       "      <td>72.346428</td>\n",
       "      <td>11.003707</td>\n",
       "      <td>3.241723</td>\n",
       "      <td>11.933009</td>\n",
       "      <td>3.434764</td>\n",
       "      <td>159.825396</td>\n",
       "      <td>...</td>\n",
       "      <td>24.990826</td>\n",
       "      <td>-477.472413</td>\n",
       "      <td>20.059375</td>\n",
       "      <td>-400.039008</td>\n",
       "      <td>21.346550</td>\n",
       "      <td>-487.712108</td>\n",
       "      <td>17.982903</td>\n",
       "      <td>-453.186936</td>\n",
       "      <td>24.991623</td>\n",
       "      <td>-499.536466</td>\n",
       "    </tr>\n",
       "    <tr>\n",
       "      <th>max</th>\n",
       "      <td>16.001945</td>\n",
       "      <td>17.031899</td>\n",
       "      <td>18.124851</td>\n",
       "      <td>52.756638</td>\n",
       "      <td>100.000000</td>\n",
       "      <td>19.552149</td>\n",
       "      <td>5.639565</td>\n",
       "      <td>22.317730</td>\n",
       "      <td>8.197408</td>\n",
       "      <td>250.127834</td>\n",
       "      <td>...</td>\n",
       "      <td>30.115735</td>\n",
       "      <td>-245.239184</td>\n",
       "      <td>24.007913</td>\n",
       "      <td>-145.071088</td>\n",
       "      <td>43.709931</td>\n",
       "      <td>-275.073125</td>\n",
       "      <td>27.926001</td>\n",
       "      <td>-157.396071</td>\n",
       "      <td>32.188906</td>\n",
       "      <td>-104.427459</td>\n",
       "    </tr>\n",
       "  </tbody>\n",
       "</table>\n",
       "<p>8 rows × 86 columns</p>\n",
       "</div>"
      ],
      "text/plain": [
       "       final.output.concentrate_ag  final.output.concentrate_pb  \\\n",
       "count                 14148.000000                 14148.000000   \n",
       "mean                      5.142034                    10.132960   \n",
       "std                       1.369586                     1.654930   \n",
       "min                       0.000000                     0.000000   \n",
       "25%                       4.211620                     9.297355   \n",
       "50%                       4.994652                    10.297144   \n",
       "75%                       5.859540                    11.170603   \n",
       "max                      16.001945                    17.031899   \n",
       "\n",
       "       final.output.concentrate_sol  final.output.concentrate_au  \\\n",
       "count                  13938.000000                 14149.000000   \n",
       "mean                       9.202849                    44.003792   \n",
       "std                        2.790516                     4.905261   \n",
       "min                        0.000000                     0.000000   \n",
       "25%                        7.484645                    43.276111   \n",
       "50%                        8.845462                    44.872436   \n",
       "75%                       10.487508                    46.166425   \n",
       "max                       18.124851                    52.756638   \n",
       "\n",
       "       final.output.recovery  final.output.tail_ag  final.output.tail_pb  \\\n",
       "count           14149.000000          14149.000000          14049.000000   \n",
       "mean               66.518832              9.607035              2.597298   \n",
       "std                10.295402              2.319069              0.971843   \n",
       "min                 0.000000              0.000000              0.000000   \n",
       "25%                62.545817              7.997429              1.905973   \n",
       "50%                67.432775              9.480270              2.592022   \n",
       "75%                72.346428             11.003707              3.241723   \n",
       "max               100.000000             19.552149              5.639565   \n",
       "\n",
       "       final.output.tail_sol  final.output.tail_au  \\\n",
       "count           14144.000000          14149.000000   \n",
       "mean               10.512122              2.918421   \n",
       "std                 3.003617              0.903712   \n",
       "min                 0.000000              0.000000   \n",
       "25%                 8.811324              2.368607   \n",
       "50%                10.514621              2.851025   \n",
       "75%                11.933009              3.434764   \n",
       "max                22.317730              8.197408   \n",
       "\n",
       "       primary_cleaner.input.sulfate  ...  \\\n",
       "count                   14129.000000  ...   \n",
       "mean                      133.320659  ...   \n",
       "std                        39.431659  ...   \n",
       "min                         0.003112  ...   \n",
       "25%                       107.006651  ...   \n",
       "50%                       133.018328  ...   \n",
       "75%                       159.825396  ...   \n",
       "max                       250.127834  ...   \n",
       "\n",
       "       secondary_cleaner.state.floatbank4_a_air  \\\n",
       "count                              14143.000000   \n",
       "mean                                  19.985454   \n",
       "std                                    5.657723   \n",
       "min                                    0.000000   \n",
       "25%                                   14.990775   \n",
       "50%                                   20.001789   \n",
       "75%                                   24.990826   \n",
       "max                                   30.115735   \n",
       "\n",
       "       secondary_cleaner.state.floatbank4_a_level  \\\n",
       "count                                14148.000000   \n",
       "mean                                  -478.696836   \n",
       "std                                     50.736021   \n",
       "min                                   -799.709069   \n",
       "25%                                   -500.628656   \n",
       "50%                                   -499.681450   \n",
       "75%                                   -477.472413   \n",
       "max                                   -245.239184   \n",
       "\n",
       "       secondary_cleaner.state.floatbank4_b_air  \\\n",
       "count                              14148.000000   \n",
       "mean                                  15.487065   \n",
       "std                                    5.255655   \n",
       "min                                    0.000000   \n",
       "25%                                   11.894558   \n",
       "50%                                   14.975536   \n",
       "75%                                   20.059375   \n",
       "max                                   24.007913   \n",
       "\n",
       "       secondary_cleaner.state.floatbank4_b_level  \\\n",
       "count                                14148.000000   \n",
       "mean                                  -460.229416   \n",
       "std                                     58.843586   \n",
       "min                                   -799.889113   \n",
       "25%                                   -500.149000   \n",
       "50%                                   -499.388738   \n",
       "75%                                   -400.039008   \n",
       "max                                   -145.071088   \n",
       "\n",
       "       secondary_cleaner.state.floatbank5_a_air  \\\n",
       "count                              14148.000000   \n",
       "mean                                  16.775136   \n",
       "std                                    5.831906   \n",
       "min                                   -0.372054   \n",
       "25%                                   11.083980   \n",
       "50%                                   17.932223   \n",
       "75%                                   21.346550   \n",
       "max                                   43.709931   \n",
       "\n",
       "       secondary_cleaner.state.floatbank5_a_level  \\\n",
       "count                                14148.000000   \n",
       "mean                                  -483.956022   \n",
       "std                                     37.892788   \n",
       "min                                   -797.142475   \n",
       "25%                                   -500.363177   \n",
       "50%                                   -499.702452   \n",
       "75%                                   -487.712108   \n",
       "max                                   -275.073125   \n",
       "\n",
       "       secondary_cleaner.state.floatbank5_b_air  \\\n",
       "count                              14148.000000   \n",
       "mean                                  13.064590   \n",
       "std                                    5.765617   \n",
       "min                                    0.646208   \n",
       "25%                                    8.994405   \n",
       "50%                                   11.997547   \n",
       "75%                                   17.982903   \n",
       "max                                   27.926001   \n",
       "\n",
       "       secondary_cleaner.state.floatbank5_b_level  \\\n",
       "count                                14148.000000   \n",
       "mean                                  -483.966564   \n",
       "std                                     39.207913   \n",
       "min                                   -800.006180   \n",
       "25%                                   -500.105994   \n",
       "50%                                   -499.914556   \n",
       "75%                                   -453.186936   \n",
       "max                                   -157.396071   \n",
       "\n",
       "       secondary_cleaner.state.floatbank6_a_air  \\\n",
       "count                              14147.000000   \n",
       "mean                                  19.577539   \n",
       "std                                    5.764417   \n",
       "min                                    0.195324   \n",
       "25%                                   14.989304   \n",
       "50%                                   19.984175   \n",
       "75%                                   24.991623   \n",
       "max                                   32.188906   \n",
       "\n",
       "       secondary_cleaner.state.floatbank6_a_level  \n",
       "count                                14148.000000  \n",
       "mean                                  -506.798480  \n",
       "std                                     37.079249  \n",
       "min                                   -809.398668  \n",
       "25%                                   -500.745104  \n",
       "50%                                   -500.061431  \n",
       "75%                                   -499.536466  \n",
       "max                                   -104.427459  \n",
       "\n",
       "[8 rows x 86 columns]"
      ]
     },
     "metadata": {},
     "output_type": "display_data"
    },
    {
     "data": {
      "text/plain": [
       "0"
      ]
     },
     "metadata": {},
     "output_type": "display_data"
    }
   ],
   "source": [
    "uni_function(df_train) #обучающая выборка"
   ]
  },
  {
   "cell_type": "code",
   "execution_count": 5,
   "metadata": {},
   "outputs": [
    {
     "data": {
      "text/html": [
       "<div>\n",
       "<style scoped>\n",
       "    .dataframe tbody tr th:only-of-type {\n",
       "        vertical-align: middle;\n",
       "    }\n",
       "\n",
       "    .dataframe tbody tr th {\n",
       "        vertical-align: top;\n",
       "    }\n",
       "\n",
       "    .dataframe thead th {\n",
       "        text-align: right;\n",
       "    }\n",
       "</style>\n",
       "<table border=\"1\" class=\"dataframe\">\n",
       "  <thead>\n",
       "    <tr style=\"text-align: right;\">\n",
       "      <th></th>\n",
       "      <th>date</th>\n",
       "      <th>primary_cleaner.input.sulfate</th>\n",
       "      <th>primary_cleaner.input.depressant</th>\n",
       "      <th>primary_cleaner.input.feed_size</th>\n",
       "      <th>primary_cleaner.input.xanthate</th>\n",
       "      <th>primary_cleaner.state.floatbank8_a_air</th>\n",
       "      <th>primary_cleaner.state.floatbank8_a_level</th>\n",
       "      <th>primary_cleaner.state.floatbank8_b_air</th>\n",
       "      <th>primary_cleaner.state.floatbank8_b_level</th>\n",
       "      <th>primary_cleaner.state.floatbank8_c_air</th>\n",
       "      <th>...</th>\n",
       "      <th>secondary_cleaner.state.floatbank4_a_air</th>\n",
       "      <th>secondary_cleaner.state.floatbank4_a_level</th>\n",
       "      <th>secondary_cleaner.state.floatbank4_b_air</th>\n",
       "      <th>secondary_cleaner.state.floatbank4_b_level</th>\n",
       "      <th>secondary_cleaner.state.floatbank5_a_air</th>\n",
       "      <th>secondary_cleaner.state.floatbank5_a_level</th>\n",
       "      <th>secondary_cleaner.state.floatbank5_b_air</th>\n",
       "      <th>secondary_cleaner.state.floatbank5_b_level</th>\n",
       "      <th>secondary_cleaner.state.floatbank6_a_air</th>\n",
       "      <th>secondary_cleaner.state.floatbank6_a_level</th>\n",
       "    </tr>\n",
       "  </thead>\n",
       "  <tbody>\n",
       "    <tr>\n",
       "      <th>0</th>\n",
       "      <td>2016-09-01 00:59:59</td>\n",
       "      <td>210.800909</td>\n",
       "      <td>14.993118</td>\n",
       "      <td>8.080000</td>\n",
       "      <td>1.005021</td>\n",
       "      <td>1398.981301</td>\n",
       "      <td>-500.225577</td>\n",
       "      <td>1399.144926</td>\n",
       "      <td>-499.919735</td>\n",
       "      <td>1400.102998</td>\n",
       "      <td>...</td>\n",
       "      <td>12.023554</td>\n",
       "      <td>-497.795834</td>\n",
       "      <td>8.016656</td>\n",
       "      <td>-501.289139</td>\n",
       "      <td>7.946562</td>\n",
       "      <td>-432.317850</td>\n",
       "      <td>4.872511</td>\n",
       "      <td>-500.037437</td>\n",
       "      <td>26.705889</td>\n",
       "      <td>-499.709414</td>\n",
       "    </tr>\n",
       "    <tr>\n",
       "      <th>1</th>\n",
       "      <td>2016-09-01 01:59:59</td>\n",
       "      <td>215.392455</td>\n",
       "      <td>14.987471</td>\n",
       "      <td>8.080000</td>\n",
       "      <td>0.990469</td>\n",
       "      <td>1398.777912</td>\n",
       "      <td>-500.057435</td>\n",
       "      <td>1398.055362</td>\n",
       "      <td>-499.778182</td>\n",
       "      <td>1396.151033</td>\n",
       "      <td>...</td>\n",
       "      <td>12.058140</td>\n",
       "      <td>-498.695773</td>\n",
       "      <td>8.130979</td>\n",
       "      <td>-499.634209</td>\n",
       "      <td>7.958270</td>\n",
       "      <td>-525.839648</td>\n",
       "      <td>4.878850</td>\n",
       "      <td>-500.162375</td>\n",
       "      <td>25.019940</td>\n",
       "      <td>-499.819438</td>\n",
       "    </tr>\n",
       "    <tr>\n",
       "      <th>2</th>\n",
       "      <td>2016-09-01 02:59:59</td>\n",
       "      <td>215.259946</td>\n",
       "      <td>12.884934</td>\n",
       "      <td>7.786667</td>\n",
       "      <td>0.996043</td>\n",
       "      <td>1398.493666</td>\n",
       "      <td>-500.868360</td>\n",
       "      <td>1398.860436</td>\n",
       "      <td>-499.764529</td>\n",
       "      <td>1398.075709</td>\n",
       "      <td>...</td>\n",
       "      <td>11.962366</td>\n",
       "      <td>-498.767484</td>\n",
       "      <td>8.096893</td>\n",
       "      <td>-500.827423</td>\n",
       "      <td>8.071056</td>\n",
       "      <td>-500.801673</td>\n",
       "      <td>4.905125</td>\n",
       "      <td>-499.828510</td>\n",
       "      <td>24.994862</td>\n",
       "      <td>-500.622559</td>\n",
       "    </tr>\n",
       "    <tr>\n",
       "      <th>3</th>\n",
       "      <td>2016-09-01 03:59:59</td>\n",
       "      <td>215.336236</td>\n",
       "      <td>12.006805</td>\n",
       "      <td>7.640000</td>\n",
       "      <td>0.863514</td>\n",
       "      <td>1399.618111</td>\n",
       "      <td>-498.863574</td>\n",
       "      <td>1397.440120</td>\n",
       "      <td>-499.211024</td>\n",
       "      <td>1400.129303</td>\n",
       "      <td>...</td>\n",
       "      <td>12.033091</td>\n",
       "      <td>-498.350935</td>\n",
       "      <td>8.074946</td>\n",
       "      <td>-499.474407</td>\n",
       "      <td>7.897085</td>\n",
       "      <td>-500.868509</td>\n",
       "      <td>4.931400</td>\n",
       "      <td>-499.963623</td>\n",
       "      <td>24.948919</td>\n",
       "      <td>-498.709987</td>\n",
       "    </tr>\n",
       "    <tr>\n",
       "      <th>4</th>\n",
       "      <td>2016-09-01 04:59:59</td>\n",
       "      <td>199.099327</td>\n",
       "      <td>10.682530</td>\n",
       "      <td>7.530000</td>\n",
       "      <td>0.805575</td>\n",
       "      <td>1401.268123</td>\n",
       "      <td>-500.808305</td>\n",
       "      <td>1398.128818</td>\n",
       "      <td>-499.504543</td>\n",
       "      <td>1402.172226</td>\n",
       "      <td>...</td>\n",
       "      <td>12.025367</td>\n",
       "      <td>-500.786497</td>\n",
       "      <td>8.054678</td>\n",
       "      <td>-500.397500</td>\n",
       "      <td>8.107890</td>\n",
       "      <td>-509.526725</td>\n",
       "      <td>4.957674</td>\n",
       "      <td>-500.360026</td>\n",
       "      <td>25.003331</td>\n",
       "      <td>-500.856333</td>\n",
       "    </tr>\n",
       "  </tbody>\n",
       "</table>\n",
       "<p>5 rows × 53 columns</p>\n",
       "</div>"
      ],
      "text/plain": [
       "                 date  primary_cleaner.input.sulfate  \\\n",
       "0 2016-09-01 00:59:59                     210.800909   \n",
       "1 2016-09-01 01:59:59                     215.392455   \n",
       "2 2016-09-01 02:59:59                     215.259946   \n",
       "3 2016-09-01 03:59:59                     215.336236   \n",
       "4 2016-09-01 04:59:59                     199.099327   \n",
       "\n",
       "   primary_cleaner.input.depressant  primary_cleaner.input.feed_size  \\\n",
       "0                         14.993118                         8.080000   \n",
       "1                         14.987471                         8.080000   \n",
       "2                         12.884934                         7.786667   \n",
       "3                         12.006805                         7.640000   \n",
       "4                         10.682530                         7.530000   \n",
       "\n",
       "   primary_cleaner.input.xanthate  primary_cleaner.state.floatbank8_a_air  \\\n",
       "0                        1.005021                             1398.981301   \n",
       "1                        0.990469                             1398.777912   \n",
       "2                        0.996043                             1398.493666   \n",
       "3                        0.863514                             1399.618111   \n",
       "4                        0.805575                             1401.268123   \n",
       "\n",
       "   primary_cleaner.state.floatbank8_a_level  \\\n",
       "0                               -500.225577   \n",
       "1                               -500.057435   \n",
       "2                               -500.868360   \n",
       "3                               -498.863574   \n",
       "4                               -500.808305   \n",
       "\n",
       "   primary_cleaner.state.floatbank8_b_air  \\\n",
       "0                             1399.144926   \n",
       "1                             1398.055362   \n",
       "2                             1398.860436   \n",
       "3                             1397.440120   \n",
       "4                             1398.128818   \n",
       "\n",
       "   primary_cleaner.state.floatbank8_b_level  \\\n",
       "0                               -499.919735   \n",
       "1                               -499.778182   \n",
       "2                               -499.764529   \n",
       "3                               -499.211024   \n",
       "4                               -499.504543   \n",
       "\n",
       "   primary_cleaner.state.floatbank8_c_air  ...  \\\n",
       "0                             1400.102998  ...   \n",
       "1                             1396.151033  ...   \n",
       "2                             1398.075709  ...   \n",
       "3                             1400.129303  ...   \n",
       "4                             1402.172226  ...   \n",
       "\n",
       "   secondary_cleaner.state.floatbank4_a_air  \\\n",
       "0                                 12.023554   \n",
       "1                                 12.058140   \n",
       "2                                 11.962366   \n",
       "3                                 12.033091   \n",
       "4                                 12.025367   \n",
       "\n",
       "   secondary_cleaner.state.floatbank4_a_level  \\\n",
       "0                                 -497.795834   \n",
       "1                                 -498.695773   \n",
       "2                                 -498.767484   \n",
       "3                                 -498.350935   \n",
       "4                                 -500.786497   \n",
       "\n",
       "   secondary_cleaner.state.floatbank4_b_air  \\\n",
       "0                                  8.016656   \n",
       "1                                  8.130979   \n",
       "2                                  8.096893   \n",
       "3                                  8.074946   \n",
       "4                                  8.054678   \n",
       "\n",
       "   secondary_cleaner.state.floatbank4_b_level  \\\n",
       "0                                 -501.289139   \n",
       "1                                 -499.634209   \n",
       "2                                 -500.827423   \n",
       "3                                 -499.474407   \n",
       "4                                 -500.397500   \n",
       "\n",
       "   secondary_cleaner.state.floatbank5_a_air  \\\n",
       "0                                  7.946562   \n",
       "1                                  7.958270   \n",
       "2                                  8.071056   \n",
       "3                                  7.897085   \n",
       "4                                  8.107890   \n",
       "\n",
       "   secondary_cleaner.state.floatbank5_a_level  \\\n",
       "0                                 -432.317850   \n",
       "1                                 -525.839648   \n",
       "2                                 -500.801673   \n",
       "3                                 -500.868509   \n",
       "4                                 -509.526725   \n",
       "\n",
       "   secondary_cleaner.state.floatbank5_b_air  \\\n",
       "0                                  4.872511   \n",
       "1                                  4.878850   \n",
       "2                                  4.905125   \n",
       "3                                  4.931400   \n",
       "4                                  4.957674   \n",
       "\n",
       "   secondary_cleaner.state.floatbank5_b_level  \\\n",
       "0                                 -500.037437   \n",
       "1                                 -500.162375   \n",
       "2                                 -499.828510   \n",
       "3                                 -499.963623   \n",
       "4                                 -500.360026   \n",
       "\n",
       "   secondary_cleaner.state.floatbank6_a_air  \\\n",
       "0                                 26.705889   \n",
       "1                                 25.019940   \n",
       "2                                 24.994862   \n",
       "3                                 24.948919   \n",
       "4                                 25.003331   \n",
       "\n",
       "   secondary_cleaner.state.floatbank6_a_level  \n",
       "0                                 -499.709414  \n",
       "1                                 -499.819438  \n",
       "2                                 -500.622559  \n",
       "3                                 -498.709987  \n",
       "4                                 -500.856333  \n",
       "\n",
       "[5 rows x 53 columns]"
      ]
     },
     "metadata": {},
     "output_type": "display_data"
    },
    {
     "name": "stdout",
     "output_type": "stream",
     "text": [
      "<class 'pandas.core.frame.DataFrame'>\n",
      "RangeIndex: 5290 entries, 0 to 5289\n",
      "Data columns (total 53 columns):\n",
      " #   Column                                      Non-Null Count  Dtype         \n",
      "---  ------                                      --------------  -----         \n",
      " 0   date                                        5290 non-null   datetime64[ns]\n",
      " 1   primary_cleaner.input.sulfate               5286 non-null   float64       \n",
      " 2   primary_cleaner.input.depressant            5285 non-null   float64       \n",
      " 3   primary_cleaner.input.feed_size             5290 non-null   float64       \n",
      " 4   primary_cleaner.input.xanthate              5286 non-null   float64       \n",
      " 5   primary_cleaner.state.floatbank8_a_air      5290 non-null   float64       \n",
      " 6   primary_cleaner.state.floatbank8_a_level    5290 non-null   float64       \n",
      " 7   primary_cleaner.state.floatbank8_b_air      5290 non-null   float64       \n",
      " 8   primary_cleaner.state.floatbank8_b_level    5290 non-null   float64       \n",
      " 9   primary_cleaner.state.floatbank8_c_air      5290 non-null   float64       \n",
      " 10  primary_cleaner.state.floatbank8_c_level    5290 non-null   float64       \n",
      " 11  primary_cleaner.state.floatbank8_d_air      5290 non-null   float64       \n",
      " 12  primary_cleaner.state.floatbank8_d_level    5290 non-null   float64       \n",
      " 13  rougher.input.feed_ag                       5290 non-null   float64       \n",
      " 14  rougher.input.feed_pb                       5290 non-null   float64       \n",
      " 15  rougher.input.feed_rate                     5287 non-null   float64       \n",
      " 16  rougher.input.feed_size                     5289 non-null   float64       \n",
      " 17  rougher.input.feed_sol                      5269 non-null   float64       \n",
      " 18  rougher.input.feed_au                       5290 non-null   float64       \n",
      " 19  rougher.input.floatbank10_sulfate           5285 non-null   float64       \n",
      " 20  rougher.input.floatbank10_xanthate          5290 non-null   float64       \n",
      " 21  rougher.input.floatbank11_sulfate           5282 non-null   float64       \n",
      " 22  rougher.input.floatbank11_xanthate          5265 non-null   float64       \n",
      " 23  rougher.state.floatbank10_a_air             5290 non-null   float64       \n",
      " 24  rougher.state.floatbank10_a_level           5290 non-null   float64       \n",
      " 25  rougher.state.floatbank10_b_air             5290 non-null   float64       \n",
      " 26  rougher.state.floatbank10_b_level           5290 non-null   float64       \n",
      " 27  rougher.state.floatbank10_c_air             5290 non-null   float64       \n",
      " 28  rougher.state.floatbank10_c_level           5290 non-null   float64       \n",
      " 29  rougher.state.floatbank10_d_air             5290 non-null   float64       \n",
      " 30  rougher.state.floatbank10_d_level           5290 non-null   float64       \n",
      " 31  rougher.state.floatbank10_e_air             5290 non-null   float64       \n",
      " 32  rougher.state.floatbank10_e_level           5290 non-null   float64       \n",
      " 33  rougher.state.floatbank10_f_air             5290 non-null   float64       \n",
      " 34  rougher.state.floatbank10_f_level           5290 non-null   float64       \n",
      " 35  secondary_cleaner.state.floatbank2_a_air    5287 non-null   float64       \n",
      " 36  secondary_cleaner.state.floatbank2_a_level  5290 non-null   float64       \n",
      " 37  secondary_cleaner.state.floatbank2_b_air    5288 non-null   float64       \n",
      " 38  secondary_cleaner.state.floatbank2_b_level  5290 non-null   float64       \n",
      " 39  secondary_cleaner.state.floatbank3_a_air    5281 non-null   float64       \n",
      " 40  secondary_cleaner.state.floatbank3_a_level  5290 non-null   float64       \n",
      " 41  secondary_cleaner.state.floatbank3_b_air    5290 non-null   float64       \n",
      " 42  secondary_cleaner.state.floatbank3_b_level  5290 non-null   float64       \n",
      " 43  secondary_cleaner.state.floatbank4_a_air    5290 non-null   float64       \n",
      " 44  secondary_cleaner.state.floatbank4_a_level  5290 non-null   float64       \n",
      " 45  secondary_cleaner.state.floatbank4_b_air    5290 non-null   float64       \n",
      " 46  secondary_cleaner.state.floatbank4_b_level  5290 non-null   float64       \n",
      " 47  secondary_cleaner.state.floatbank5_a_air    5290 non-null   float64       \n",
      " 48  secondary_cleaner.state.floatbank5_a_level  5290 non-null   float64       \n",
      " 49  secondary_cleaner.state.floatbank5_b_air    5290 non-null   float64       \n",
      " 50  secondary_cleaner.state.floatbank5_b_level  5290 non-null   float64       \n",
      " 51  secondary_cleaner.state.floatbank6_a_air    5290 non-null   float64       \n",
      " 52  secondary_cleaner.state.floatbank6_a_level  5290 non-null   float64       \n",
      "dtypes: datetime64[ns](1), float64(52)\n",
      "memory usage: 2.1 MB\n"
     ]
    },
    {
     "data": {
      "text/plain": [
       "None"
      ]
     },
     "metadata": {},
     "output_type": "display_data"
    },
    {
     "data": {
      "text/plain": [
       "date                                          0.000000\n",
       "primary_cleaner.input.sulfate                 0.000756\n",
       "primary_cleaner.input.depressant              0.000945\n",
       "primary_cleaner.input.feed_size               0.000000\n",
       "primary_cleaner.input.xanthate                0.000756\n",
       "primary_cleaner.state.floatbank8_a_air        0.000000\n",
       "primary_cleaner.state.floatbank8_a_level      0.000000\n",
       "primary_cleaner.state.floatbank8_b_air        0.000000\n",
       "primary_cleaner.state.floatbank8_b_level      0.000000\n",
       "primary_cleaner.state.floatbank8_c_air        0.000000\n",
       "primary_cleaner.state.floatbank8_c_level      0.000000\n",
       "primary_cleaner.state.floatbank8_d_air        0.000000\n",
       "primary_cleaner.state.floatbank8_d_level      0.000000\n",
       "rougher.input.feed_ag                         0.000000\n",
       "rougher.input.feed_pb                         0.000000\n",
       "rougher.input.feed_rate                       0.000567\n",
       "rougher.input.feed_size                       0.000189\n",
       "rougher.input.feed_sol                        0.003970\n",
       "rougher.input.feed_au                         0.000000\n",
       "rougher.input.floatbank10_sulfate             0.000945\n",
       "rougher.input.floatbank10_xanthate            0.000000\n",
       "rougher.input.floatbank11_sulfate             0.001512\n",
       "rougher.input.floatbank11_xanthate            0.004726\n",
       "rougher.state.floatbank10_a_air               0.000000\n",
       "rougher.state.floatbank10_a_level             0.000000\n",
       "rougher.state.floatbank10_b_air               0.000000\n",
       "rougher.state.floatbank10_b_level             0.000000\n",
       "rougher.state.floatbank10_c_air               0.000000\n",
       "rougher.state.floatbank10_c_level             0.000000\n",
       "rougher.state.floatbank10_d_air               0.000000\n",
       "rougher.state.floatbank10_d_level             0.000000\n",
       "rougher.state.floatbank10_e_air               0.000000\n",
       "rougher.state.floatbank10_e_level             0.000000\n",
       "rougher.state.floatbank10_f_air               0.000000\n",
       "rougher.state.floatbank10_f_level             0.000000\n",
       "secondary_cleaner.state.floatbank2_a_air      0.000567\n",
       "secondary_cleaner.state.floatbank2_a_level    0.000000\n",
       "secondary_cleaner.state.floatbank2_b_air      0.000378\n",
       "secondary_cleaner.state.floatbank2_b_level    0.000000\n",
       "secondary_cleaner.state.floatbank3_a_air      0.001701\n",
       "secondary_cleaner.state.floatbank3_a_level    0.000000\n",
       "secondary_cleaner.state.floatbank3_b_air      0.000000\n",
       "secondary_cleaner.state.floatbank3_b_level    0.000000\n",
       "secondary_cleaner.state.floatbank4_a_air      0.000000\n",
       "secondary_cleaner.state.floatbank4_a_level    0.000000\n",
       "secondary_cleaner.state.floatbank4_b_air      0.000000\n",
       "secondary_cleaner.state.floatbank4_b_level    0.000000\n",
       "secondary_cleaner.state.floatbank5_a_air      0.000000\n",
       "secondary_cleaner.state.floatbank5_a_level    0.000000\n",
       "secondary_cleaner.state.floatbank5_b_air      0.000000\n",
       "secondary_cleaner.state.floatbank5_b_level    0.000000\n",
       "secondary_cleaner.state.floatbank6_a_air      0.000000\n",
       "secondary_cleaner.state.floatbank6_a_level    0.000000\n",
       "dtype: float64"
      ]
     },
     "metadata": {},
     "output_type": "display_data"
    },
    {
     "data": {
      "text/html": [
       "<div>\n",
       "<style scoped>\n",
       "    .dataframe tbody tr th:only-of-type {\n",
       "        vertical-align: middle;\n",
       "    }\n",
       "\n",
       "    .dataframe tbody tr th {\n",
       "        vertical-align: top;\n",
       "    }\n",
       "\n",
       "    .dataframe thead th {\n",
       "        text-align: right;\n",
       "    }\n",
       "</style>\n",
       "<table border=\"1\" class=\"dataframe\">\n",
       "  <thead>\n",
       "    <tr style=\"text-align: right;\">\n",
       "      <th></th>\n",
       "      <th>primary_cleaner.input.sulfate</th>\n",
       "      <th>primary_cleaner.input.depressant</th>\n",
       "      <th>primary_cleaner.input.feed_size</th>\n",
       "      <th>primary_cleaner.input.xanthate</th>\n",
       "      <th>primary_cleaner.state.floatbank8_a_air</th>\n",
       "      <th>primary_cleaner.state.floatbank8_a_level</th>\n",
       "      <th>primary_cleaner.state.floatbank8_b_air</th>\n",
       "      <th>primary_cleaner.state.floatbank8_b_level</th>\n",
       "      <th>primary_cleaner.state.floatbank8_c_air</th>\n",
       "      <th>primary_cleaner.state.floatbank8_c_level</th>\n",
       "      <th>...</th>\n",
       "      <th>secondary_cleaner.state.floatbank4_a_air</th>\n",
       "      <th>secondary_cleaner.state.floatbank4_a_level</th>\n",
       "      <th>secondary_cleaner.state.floatbank4_b_air</th>\n",
       "      <th>secondary_cleaner.state.floatbank4_b_level</th>\n",
       "      <th>secondary_cleaner.state.floatbank5_a_air</th>\n",
       "      <th>secondary_cleaner.state.floatbank5_a_level</th>\n",
       "      <th>secondary_cleaner.state.floatbank5_b_air</th>\n",
       "      <th>secondary_cleaner.state.floatbank5_b_level</th>\n",
       "      <th>secondary_cleaner.state.floatbank6_a_air</th>\n",
       "      <th>secondary_cleaner.state.floatbank6_a_level</th>\n",
       "    </tr>\n",
       "  </thead>\n",
       "  <tbody>\n",
       "    <tr>\n",
       "      <th>count</th>\n",
       "      <td>5286.000000</td>\n",
       "      <td>5285.000000</td>\n",
       "      <td>5290.000000</td>\n",
       "      <td>5286.000000</td>\n",
       "      <td>5.290000e+03</td>\n",
       "      <td>5290.000000</td>\n",
       "      <td>5.290000e+03</td>\n",
       "      <td>5290.000000</td>\n",
       "      <td>5.290000e+03</td>\n",
       "      <td>5290.000000</td>\n",
       "      <td>...</td>\n",
       "      <td>5.290000e+03</td>\n",
       "      <td>5290.000000</td>\n",
       "      <td>5.290000e+03</td>\n",
       "      <td>5290.000000</td>\n",
       "      <td>5290.000000</td>\n",
       "      <td>5290.000000</td>\n",
       "      <td>5290.000000</td>\n",
       "      <td>5290.000000</td>\n",
       "      <td>5290.000000</td>\n",
       "      <td>5290.000000</td>\n",
       "    </tr>\n",
       "    <tr>\n",
       "      <th>mean</th>\n",
       "      <td>174.839652</td>\n",
       "      <td>8.683596</td>\n",
       "      <td>7.266339</td>\n",
       "      <td>1.383803</td>\n",
       "      <td>1.539494e+03</td>\n",
       "      <td>-497.665883</td>\n",
       "      <td>1.545174e+03</td>\n",
       "      <td>-500.273098</td>\n",
       "      <td>1.527272e+03</td>\n",
       "      <td>-498.330680</td>\n",
       "      <td>...</td>\n",
       "      <td>1.632007e+01</td>\n",
       "      <td>-505.144570</td>\n",
       "      <td>1.373544e+01</td>\n",
       "      <td>-463.349858</td>\n",
       "      <td>12.804186</td>\n",
       "      <td>-501.329122</td>\n",
       "      <td>9.881145</td>\n",
       "      <td>-495.663398</td>\n",
       "      <td>17.304935</td>\n",
       "      <td>-501.793193</td>\n",
       "    </tr>\n",
       "    <tr>\n",
       "      <th>std</th>\n",
       "      <td>43.027080</td>\n",
       "      <td>3.072050</td>\n",
       "      <td>0.610219</td>\n",
       "      <td>0.643474</td>\n",
       "      <td>1.167979e+02</td>\n",
       "      <td>19.952431</td>\n",
       "      <td>1.222246e+02</td>\n",
       "      <td>32.968307</td>\n",
       "      <td>1.225380e+02</td>\n",
       "      <td>21.964876</td>\n",
       "      <td>...</td>\n",
       "      <td>3.493583e+00</td>\n",
       "      <td>31.427337</td>\n",
       "      <td>3.430484e+00</td>\n",
       "      <td>86.189107</td>\n",
       "      <td>3.026591</td>\n",
       "      <td>17.951495</td>\n",
       "      <td>2.868205</td>\n",
       "      <td>34.535007</td>\n",
       "      <td>4.536544</td>\n",
       "      <td>39.044215</td>\n",
       "    </tr>\n",
       "    <tr>\n",
       "      <th>min</th>\n",
       "      <td>2.566156</td>\n",
       "      <td>0.003839</td>\n",
       "      <td>5.650000</td>\n",
       "      <td>0.004984</td>\n",
       "      <td>5.445860e-32</td>\n",
       "      <td>-795.316337</td>\n",
       "      <td>6.647490e-32</td>\n",
       "      <td>-799.997015</td>\n",
       "      <td>4.033736e-32</td>\n",
       "      <td>-799.960571</td>\n",
       "      <td>...</td>\n",
       "      <td>1.079872e-16</td>\n",
       "      <td>-799.798523</td>\n",
       "      <td>2.489718e-17</td>\n",
       "      <td>-800.836914</td>\n",
       "      <td>0.069227</td>\n",
       "      <td>-797.323986</td>\n",
       "      <td>0.528083</td>\n",
       "      <td>-800.220337</td>\n",
       "      <td>-0.079426</td>\n",
       "      <td>-809.741464</td>\n",
       "    </tr>\n",
       "    <tr>\n",
       "      <th>25%</th>\n",
       "      <td>147.121401</td>\n",
       "      <td>6.489555</td>\n",
       "      <td>6.890000</td>\n",
       "      <td>0.907623</td>\n",
       "      <td>1.498936e+03</td>\n",
       "      <td>-500.357298</td>\n",
       "      <td>1.498971e+03</td>\n",
       "      <td>-500.703002</td>\n",
       "      <td>1.473230e+03</td>\n",
       "      <td>-501.018117</td>\n",
       "      <td>...</td>\n",
       "      <td>1.403618e+01</td>\n",
       "      <td>-500.868258</td>\n",
       "      <td>1.202862e+01</td>\n",
       "      <td>-500.323028</td>\n",
       "      <td>10.914838</td>\n",
       "      <td>-500.726841</td>\n",
       "      <td>8.036719</td>\n",
       "      <td>-500.194668</td>\n",
       "      <td>13.997317</td>\n",
       "      <td>-500.690984</td>\n",
       "    </tr>\n",
       "    <tr>\n",
       "      <th>50%</th>\n",
       "      <td>177.828489</td>\n",
       "      <td>8.052207</td>\n",
       "      <td>7.250000</td>\n",
       "      <td>1.197610</td>\n",
       "      <td>1.585129e+03</td>\n",
       "      <td>-499.969164</td>\n",
       "      <td>1.595622e+03</td>\n",
       "      <td>-500.028514</td>\n",
       "      <td>1.549595e+03</td>\n",
       "      <td>-500.017711</td>\n",
       "      <td>...</td>\n",
       "      <td>1.700847e+01</td>\n",
       "      <td>-500.115727</td>\n",
       "      <td>1.496486e+01</td>\n",
       "      <td>-499.576513</td>\n",
       "      <td>12.954182</td>\n",
       "      <td>-499.990332</td>\n",
       "      <td>10.004301</td>\n",
       "      <td>-499.990535</td>\n",
       "      <td>16.014935</td>\n",
       "      <td>-500.007126</td>\n",
       "    </tr>\n",
       "    <tr>\n",
       "      <th>75%</th>\n",
       "      <td>208.125438</td>\n",
       "      <td>10.027764</td>\n",
       "      <td>7.600000</td>\n",
       "      <td>1.797819</td>\n",
       "      <td>1.602077e+03</td>\n",
       "      <td>-499.568951</td>\n",
       "      <td>1.602324e+03</td>\n",
       "      <td>-499.293257</td>\n",
       "      <td>1.601144e+03</td>\n",
       "      <td>-498.994130</td>\n",
       "      <td>...</td>\n",
       "      <td>1.803862e+01</td>\n",
       "      <td>-499.404224</td>\n",
       "      <td>1.596213e+01</td>\n",
       "      <td>-400.933805</td>\n",
       "      <td>15.097528</td>\n",
       "      <td>-499.283191</td>\n",
       "      <td>11.997467</td>\n",
       "      <td>-499.719913</td>\n",
       "      <td>21.020013</td>\n",
       "      <td>-499.373018</td>\n",
       "    </tr>\n",
       "    <tr>\n",
       "      <th>max</th>\n",
       "      <td>265.983123</td>\n",
       "      <td>40.000000</td>\n",
       "      <td>15.500000</td>\n",
       "      <td>4.102454</td>\n",
       "      <td>2.103104e+03</td>\n",
       "      <td>-57.195404</td>\n",
       "      <td>1.813084e+03</td>\n",
       "      <td>-142.527229</td>\n",
       "      <td>1.715054e+03</td>\n",
       "      <td>-150.937035</td>\n",
       "      <td>...</td>\n",
       "      <td>3.005180e+01</td>\n",
       "      <td>-401.565212</td>\n",
       "      <td>3.126971e+01</td>\n",
       "      <td>-6.506986</td>\n",
       "      <td>25.258848</td>\n",
       "      <td>-244.483566</td>\n",
       "      <td>14.086866</td>\n",
       "      <td>-137.740004</td>\n",
       "      <td>26.705889</td>\n",
       "      <td>-123.307487</td>\n",
       "    </tr>\n",
       "  </tbody>\n",
       "</table>\n",
       "<p>8 rows × 52 columns</p>\n",
       "</div>"
      ],
      "text/plain": [
       "       primary_cleaner.input.sulfate  primary_cleaner.input.depressant  \\\n",
       "count                    5286.000000                       5285.000000   \n",
       "mean                      174.839652                          8.683596   \n",
       "std                        43.027080                          3.072050   \n",
       "min                         2.566156                          0.003839   \n",
       "25%                       147.121401                          6.489555   \n",
       "50%                       177.828489                          8.052207   \n",
       "75%                       208.125438                         10.027764   \n",
       "max                       265.983123                         40.000000   \n",
       "\n",
       "       primary_cleaner.input.feed_size  primary_cleaner.input.xanthate  \\\n",
       "count                      5290.000000                     5286.000000   \n",
       "mean                          7.266339                        1.383803   \n",
       "std                           0.610219                        0.643474   \n",
       "min                           5.650000                        0.004984   \n",
       "25%                           6.890000                        0.907623   \n",
       "50%                           7.250000                        1.197610   \n",
       "75%                           7.600000                        1.797819   \n",
       "max                          15.500000                        4.102454   \n",
       "\n",
       "       primary_cleaner.state.floatbank8_a_air  \\\n",
       "count                            5.290000e+03   \n",
       "mean                             1.539494e+03   \n",
       "std                              1.167979e+02   \n",
       "min                              5.445860e-32   \n",
       "25%                              1.498936e+03   \n",
       "50%                              1.585129e+03   \n",
       "75%                              1.602077e+03   \n",
       "max                              2.103104e+03   \n",
       "\n",
       "       primary_cleaner.state.floatbank8_a_level  \\\n",
       "count                               5290.000000   \n",
       "mean                                -497.665883   \n",
       "std                                   19.952431   \n",
       "min                                 -795.316337   \n",
       "25%                                 -500.357298   \n",
       "50%                                 -499.969164   \n",
       "75%                                 -499.568951   \n",
       "max                                  -57.195404   \n",
       "\n",
       "       primary_cleaner.state.floatbank8_b_air  \\\n",
       "count                            5.290000e+03   \n",
       "mean                             1.545174e+03   \n",
       "std                              1.222246e+02   \n",
       "min                              6.647490e-32   \n",
       "25%                              1.498971e+03   \n",
       "50%                              1.595622e+03   \n",
       "75%                              1.602324e+03   \n",
       "max                              1.813084e+03   \n",
       "\n",
       "       primary_cleaner.state.floatbank8_b_level  \\\n",
       "count                               5290.000000   \n",
       "mean                                -500.273098   \n",
       "std                                   32.968307   \n",
       "min                                 -799.997015   \n",
       "25%                                 -500.703002   \n",
       "50%                                 -500.028514   \n",
       "75%                                 -499.293257   \n",
       "max                                 -142.527229   \n",
       "\n",
       "       primary_cleaner.state.floatbank8_c_air  \\\n",
       "count                            5.290000e+03   \n",
       "mean                             1.527272e+03   \n",
       "std                              1.225380e+02   \n",
       "min                              4.033736e-32   \n",
       "25%                              1.473230e+03   \n",
       "50%                              1.549595e+03   \n",
       "75%                              1.601144e+03   \n",
       "max                              1.715054e+03   \n",
       "\n",
       "       primary_cleaner.state.floatbank8_c_level  ...  \\\n",
       "count                               5290.000000  ...   \n",
       "mean                                -498.330680  ...   \n",
       "std                                   21.964876  ...   \n",
       "min                                 -799.960571  ...   \n",
       "25%                                 -501.018117  ...   \n",
       "50%                                 -500.017711  ...   \n",
       "75%                                 -498.994130  ...   \n",
       "max                                 -150.937035  ...   \n",
       "\n",
       "       secondary_cleaner.state.floatbank4_a_air  \\\n",
       "count                              5.290000e+03   \n",
       "mean                               1.632007e+01   \n",
       "std                                3.493583e+00   \n",
       "min                                1.079872e-16   \n",
       "25%                                1.403618e+01   \n",
       "50%                                1.700847e+01   \n",
       "75%                                1.803862e+01   \n",
       "max                                3.005180e+01   \n",
       "\n",
       "       secondary_cleaner.state.floatbank4_a_level  \\\n",
       "count                                 5290.000000   \n",
       "mean                                  -505.144570   \n",
       "std                                     31.427337   \n",
       "min                                   -799.798523   \n",
       "25%                                   -500.868258   \n",
       "50%                                   -500.115727   \n",
       "75%                                   -499.404224   \n",
       "max                                   -401.565212   \n",
       "\n",
       "       secondary_cleaner.state.floatbank4_b_air  \\\n",
       "count                              5.290000e+03   \n",
       "mean                               1.373544e+01   \n",
       "std                                3.430484e+00   \n",
       "min                                2.489718e-17   \n",
       "25%                                1.202862e+01   \n",
       "50%                                1.496486e+01   \n",
       "75%                                1.596213e+01   \n",
       "max                                3.126971e+01   \n",
       "\n",
       "       secondary_cleaner.state.floatbank4_b_level  \\\n",
       "count                                 5290.000000   \n",
       "mean                                  -463.349858   \n",
       "std                                     86.189107   \n",
       "min                                   -800.836914   \n",
       "25%                                   -500.323028   \n",
       "50%                                   -499.576513   \n",
       "75%                                   -400.933805   \n",
       "max                                     -6.506986   \n",
       "\n",
       "       secondary_cleaner.state.floatbank5_a_air  \\\n",
       "count                               5290.000000   \n",
       "mean                                  12.804186   \n",
       "std                                    3.026591   \n",
       "min                                    0.069227   \n",
       "25%                                   10.914838   \n",
       "50%                                   12.954182   \n",
       "75%                                   15.097528   \n",
       "max                                   25.258848   \n",
       "\n",
       "       secondary_cleaner.state.floatbank5_a_level  \\\n",
       "count                                 5290.000000   \n",
       "mean                                  -501.329122   \n",
       "std                                     17.951495   \n",
       "min                                   -797.323986   \n",
       "25%                                   -500.726841   \n",
       "50%                                   -499.990332   \n",
       "75%                                   -499.283191   \n",
       "max                                   -244.483566   \n",
       "\n",
       "       secondary_cleaner.state.floatbank5_b_air  \\\n",
       "count                               5290.000000   \n",
       "mean                                   9.881145   \n",
       "std                                    2.868205   \n",
       "min                                    0.528083   \n",
       "25%                                    8.036719   \n",
       "50%                                   10.004301   \n",
       "75%                                   11.997467   \n",
       "max                                   14.086866   \n",
       "\n",
       "       secondary_cleaner.state.floatbank5_b_level  \\\n",
       "count                                 5290.000000   \n",
       "mean                                  -495.663398   \n",
       "std                                     34.535007   \n",
       "min                                   -800.220337   \n",
       "25%                                   -500.194668   \n",
       "50%                                   -499.990535   \n",
       "75%                                   -499.719913   \n",
       "max                                   -137.740004   \n",
       "\n",
       "       secondary_cleaner.state.floatbank6_a_air  \\\n",
       "count                               5290.000000   \n",
       "mean                                  17.304935   \n",
       "std                                    4.536544   \n",
       "min                                   -0.079426   \n",
       "25%                                   13.997317   \n",
       "50%                                   16.014935   \n",
       "75%                                   21.020013   \n",
       "max                                   26.705889   \n",
       "\n",
       "       secondary_cleaner.state.floatbank6_a_level  \n",
       "count                                 5290.000000  \n",
       "mean                                  -501.793193  \n",
       "std                                     39.044215  \n",
       "min                                   -809.741464  \n",
       "25%                                   -500.690984  \n",
       "50%                                   -500.007126  \n",
       "75%                                   -499.373018  \n",
       "max                                   -123.307487  \n",
       "\n",
       "[8 rows x 52 columns]"
      ]
     },
     "metadata": {},
     "output_type": "display_data"
    },
    {
     "data": {
      "text/plain": [
       "0"
      ]
     },
     "metadata": {},
     "output_type": "display_data"
    }
   ],
   "source": [
    "uni_function(df_test) #тестовая выборка"
   ]
  },
  {
   "cell_type": "code",
   "execution_count": 6,
   "metadata": {},
   "outputs": [
    {
     "data": {
      "text/html": [
       "<div>\n",
       "<style scoped>\n",
       "    .dataframe tbody tr th:only-of-type {\n",
       "        vertical-align: middle;\n",
       "    }\n",
       "\n",
       "    .dataframe tbody tr th {\n",
       "        vertical-align: top;\n",
       "    }\n",
       "\n",
       "    .dataframe thead th {\n",
       "        text-align: right;\n",
       "    }\n",
       "</style>\n",
       "<table border=\"1\" class=\"dataframe\">\n",
       "  <thead>\n",
       "    <tr style=\"text-align: right;\">\n",
       "      <th></th>\n",
       "      <th>date</th>\n",
       "      <th>final.output.concentrate_ag</th>\n",
       "      <th>final.output.concentrate_pb</th>\n",
       "      <th>final.output.concentrate_sol</th>\n",
       "      <th>final.output.concentrate_au</th>\n",
       "      <th>final.output.recovery</th>\n",
       "      <th>final.output.tail_ag</th>\n",
       "      <th>final.output.tail_pb</th>\n",
       "      <th>final.output.tail_sol</th>\n",
       "      <th>final.output.tail_au</th>\n",
       "      <th>...</th>\n",
       "      <th>secondary_cleaner.state.floatbank4_a_air</th>\n",
       "      <th>secondary_cleaner.state.floatbank4_a_level</th>\n",
       "      <th>secondary_cleaner.state.floatbank4_b_air</th>\n",
       "      <th>secondary_cleaner.state.floatbank4_b_level</th>\n",
       "      <th>secondary_cleaner.state.floatbank5_a_air</th>\n",
       "      <th>secondary_cleaner.state.floatbank5_a_level</th>\n",
       "      <th>secondary_cleaner.state.floatbank5_b_air</th>\n",
       "      <th>secondary_cleaner.state.floatbank5_b_level</th>\n",
       "      <th>secondary_cleaner.state.floatbank6_a_air</th>\n",
       "      <th>secondary_cleaner.state.floatbank6_a_level</th>\n",
       "    </tr>\n",
       "  </thead>\n",
       "  <tbody>\n",
       "    <tr>\n",
       "      <th>0</th>\n",
       "      <td>2016-01-15 00:00:00</td>\n",
       "      <td>6.055403</td>\n",
       "      <td>9.889648</td>\n",
       "      <td>5.507324</td>\n",
       "      <td>42.192020</td>\n",
       "      <td>70.541216</td>\n",
       "      <td>10.411962</td>\n",
       "      <td>0.895447</td>\n",
       "      <td>16.904297</td>\n",
       "      <td>2.143149</td>\n",
       "      <td>...</td>\n",
       "      <td>14.016835</td>\n",
       "      <td>-502.488007</td>\n",
       "      <td>12.099931</td>\n",
       "      <td>-504.715942</td>\n",
       "      <td>9.925633</td>\n",
       "      <td>-498.310211</td>\n",
       "      <td>8.079666</td>\n",
       "      <td>-500.470978</td>\n",
       "      <td>14.151341</td>\n",
       "      <td>-605.841980</td>\n",
       "    </tr>\n",
       "    <tr>\n",
       "      <th>1</th>\n",
       "      <td>2016-01-15 01:00:00</td>\n",
       "      <td>6.029369</td>\n",
       "      <td>9.968944</td>\n",
       "      <td>5.257781</td>\n",
       "      <td>42.701629</td>\n",
       "      <td>69.266198</td>\n",
       "      <td>10.462676</td>\n",
       "      <td>0.927452</td>\n",
       "      <td>16.634514</td>\n",
       "      <td>2.224930</td>\n",
       "      <td>...</td>\n",
       "      <td>13.992281</td>\n",
       "      <td>-505.503262</td>\n",
       "      <td>11.950531</td>\n",
       "      <td>-501.331529</td>\n",
       "      <td>10.039245</td>\n",
       "      <td>-500.169983</td>\n",
       "      <td>7.984757</td>\n",
       "      <td>-500.582168</td>\n",
       "      <td>13.998353</td>\n",
       "      <td>-599.787184</td>\n",
       "    </tr>\n",
       "    <tr>\n",
       "      <th>2</th>\n",
       "      <td>2016-01-15 02:00:00</td>\n",
       "      <td>6.055926</td>\n",
       "      <td>10.213995</td>\n",
       "      <td>5.383759</td>\n",
       "      <td>42.657501</td>\n",
       "      <td>68.116445</td>\n",
       "      <td>10.507046</td>\n",
       "      <td>0.953716</td>\n",
       "      <td>16.208849</td>\n",
       "      <td>2.257889</td>\n",
       "      <td>...</td>\n",
       "      <td>14.015015</td>\n",
       "      <td>-502.520901</td>\n",
       "      <td>11.912783</td>\n",
       "      <td>-501.133383</td>\n",
       "      <td>10.070913</td>\n",
       "      <td>-500.129135</td>\n",
       "      <td>8.013877</td>\n",
       "      <td>-500.517572</td>\n",
       "      <td>14.028663</td>\n",
       "      <td>-601.427363</td>\n",
       "    </tr>\n",
       "    <tr>\n",
       "      <th>3</th>\n",
       "      <td>2016-01-15 03:00:00</td>\n",
       "      <td>6.047977</td>\n",
       "      <td>9.977019</td>\n",
       "      <td>4.858634</td>\n",
       "      <td>42.689819</td>\n",
       "      <td>68.347543</td>\n",
       "      <td>10.422762</td>\n",
       "      <td>0.883763</td>\n",
       "      <td>16.532835</td>\n",
       "      <td>2.146849</td>\n",
       "      <td>...</td>\n",
       "      <td>14.036510</td>\n",
       "      <td>-500.857308</td>\n",
       "      <td>11.999550</td>\n",
       "      <td>-501.193686</td>\n",
       "      <td>9.970366</td>\n",
       "      <td>-499.201640</td>\n",
       "      <td>7.977324</td>\n",
       "      <td>-500.255908</td>\n",
       "      <td>14.005551</td>\n",
       "      <td>-599.996129</td>\n",
       "    </tr>\n",
       "    <tr>\n",
       "      <th>4</th>\n",
       "      <td>2016-01-15 04:00:00</td>\n",
       "      <td>6.148599</td>\n",
       "      <td>10.142511</td>\n",
       "      <td>4.939416</td>\n",
       "      <td>42.774141</td>\n",
       "      <td>66.927016</td>\n",
       "      <td>10.360302</td>\n",
       "      <td>0.792826</td>\n",
       "      <td>16.525686</td>\n",
       "      <td>2.055292</td>\n",
       "      <td>...</td>\n",
       "      <td>14.027298</td>\n",
       "      <td>-499.838632</td>\n",
       "      <td>11.953070</td>\n",
       "      <td>-501.053894</td>\n",
       "      <td>9.925709</td>\n",
       "      <td>-501.686727</td>\n",
       "      <td>7.894242</td>\n",
       "      <td>-500.356035</td>\n",
       "      <td>13.996647</td>\n",
       "      <td>-601.496691</td>\n",
       "    </tr>\n",
       "  </tbody>\n",
       "</table>\n",
       "<p>5 rows × 87 columns</p>\n",
       "</div>"
      ],
      "text/plain": [
       "                 date  final.output.concentrate_ag  \\\n",
       "0 2016-01-15 00:00:00                     6.055403   \n",
       "1 2016-01-15 01:00:00                     6.029369   \n",
       "2 2016-01-15 02:00:00                     6.055926   \n",
       "3 2016-01-15 03:00:00                     6.047977   \n",
       "4 2016-01-15 04:00:00                     6.148599   \n",
       "\n",
       "   final.output.concentrate_pb  final.output.concentrate_sol  \\\n",
       "0                     9.889648                      5.507324   \n",
       "1                     9.968944                      5.257781   \n",
       "2                    10.213995                      5.383759   \n",
       "3                     9.977019                      4.858634   \n",
       "4                    10.142511                      4.939416   \n",
       "\n",
       "   final.output.concentrate_au  final.output.recovery  final.output.tail_ag  \\\n",
       "0                    42.192020              70.541216             10.411962   \n",
       "1                    42.701629              69.266198             10.462676   \n",
       "2                    42.657501              68.116445             10.507046   \n",
       "3                    42.689819              68.347543             10.422762   \n",
       "4                    42.774141              66.927016             10.360302   \n",
       "\n",
       "   final.output.tail_pb  final.output.tail_sol  final.output.tail_au  ...  \\\n",
       "0              0.895447              16.904297              2.143149  ...   \n",
       "1              0.927452              16.634514              2.224930  ...   \n",
       "2              0.953716              16.208849              2.257889  ...   \n",
       "3              0.883763              16.532835              2.146849  ...   \n",
       "4              0.792826              16.525686              2.055292  ...   \n",
       "\n",
       "   secondary_cleaner.state.floatbank4_a_air  \\\n",
       "0                                 14.016835   \n",
       "1                                 13.992281   \n",
       "2                                 14.015015   \n",
       "3                                 14.036510   \n",
       "4                                 14.027298   \n",
       "\n",
       "   secondary_cleaner.state.floatbank4_a_level  \\\n",
       "0                                 -502.488007   \n",
       "1                                 -505.503262   \n",
       "2                                 -502.520901   \n",
       "3                                 -500.857308   \n",
       "4                                 -499.838632   \n",
       "\n",
       "   secondary_cleaner.state.floatbank4_b_air  \\\n",
       "0                                 12.099931   \n",
       "1                                 11.950531   \n",
       "2                                 11.912783   \n",
       "3                                 11.999550   \n",
       "4                                 11.953070   \n",
       "\n",
       "   secondary_cleaner.state.floatbank4_b_level  \\\n",
       "0                                 -504.715942   \n",
       "1                                 -501.331529   \n",
       "2                                 -501.133383   \n",
       "3                                 -501.193686   \n",
       "4                                 -501.053894   \n",
       "\n",
       "   secondary_cleaner.state.floatbank5_a_air  \\\n",
       "0                                  9.925633   \n",
       "1                                 10.039245   \n",
       "2                                 10.070913   \n",
       "3                                  9.970366   \n",
       "4                                  9.925709   \n",
       "\n",
       "   secondary_cleaner.state.floatbank5_a_level  \\\n",
       "0                                 -498.310211   \n",
       "1                                 -500.169983   \n",
       "2                                 -500.129135   \n",
       "3                                 -499.201640   \n",
       "4                                 -501.686727   \n",
       "\n",
       "   secondary_cleaner.state.floatbank5_b_air  \\\n",
       "0                                  8.079666   \n",
       "1                                  7.984757   \n",
       "2                                  8.013877   \n",
       "3                                  7.977324   \n",
       "4                                  7.894242   \n",
       "\n",
       "   secondary_cleaner.state.floatbank5_b_level  \\\n",
       "0                                 -500.470978   \n",
       "1                                 -500.582168   \n",
       "2                                 -500.517572   \n",
       "3                                 -500.255908   \n",
       "4                                 -500.356035   \n",
       "\n",
       "   secondary_cleaner.state.floatbank6_a_air  \\\n",
       "0                                 14.151341   \n",
       "1                                 13.998353   \n",
       "2                                 14.028663   \n",
       "3                                 14.005551   \n",
       "4                                 13.996647   \n",
       "\n",
       "   secondary_cleaner.state.floatbank6_a_level  \n",
       "0                                 -605.841980  \n",
       "1                                 -599.787184  \n",
       "2                                 -601.427363  \n",
       "3                                 -599.996129  \n",
       "4                                 -601.496691  \n",
       "\n",
       "[5 rows x 87 columns]"
      ]
     },
     "metadata": {},
     "output_type": "display_data"
    },
    {
     "name": "stdout",
     "output_type": "stream",
     "text": [
      "<class 'pandas.core.frame.DataFrame'>\n",
      "RangeIndex: 19439 entries, 0 to 19438\n",
      "Data columns (total 87 columns):\n",
      " #   Column                                              Non-Null Count  Dtype         \n",
      "---  ------                                              --------------  -----         \n",
      " 0   date                                                19439 non-null  datetime64[ns]\n",
      " 1   final.output.concentrate_ag                         19438 non-null  float64       \n",
      " 2   final.output.concentrate_pb                         19438 non-null  float64       \n",
      " 3   final.output.concentrate_sol                        19228 non-null  float64       \n",
      " 4   final.output.concentrate_au                         19439 non-null  float64       \n",
      " 5   final.output.recovery                               19439 non-null  float64       \n",
      " 6   final.output.tail_ag                                19438 non-null  float64       \n",
      " 7   final.output.tail_pb                                19338 non-null  float64       \n",
      " 8   final.output.tail_sol                               19433 non-null  float64       \n",
      " 9   final.output.tail_au                                19439 non-null  float64       \n",
      " 10  primary_cleaner.input.sulfate                       19415 non-null  float64       \n",
      " 11  primary_cleaner.input.depressant                    19402 non-null  float64       \n",
      " 12  primary_cleaner.input.feed_size                     19439 non-null  float64       \n",
      " 13  primary_cleaner.input.xanthate                      19335 non-null  float64       \n",
      " 14  primary_cleaner.output.concentrate_ag               19439 non-null  float64       \n",
      " 15  primary_cleaner.output.concentrate_pb               19323 non-null  float64       \n",
      " 16  primary_cleaner.output.concentrate_sol              19069 non-null  float64       \n",
      " 17  primary_cleaner.output.concentrate_au               19439 non-null  float64       \n",
      " 18  primary_cleaner.output.tail_ag                      19435 non-null  float64       \n",
      " 19  primary_cleaner.output.tail_pb                      19418 non-null  float64       \n",
      " 20  primary_cleaner.output.tail_sol                     19377 non-null  float64       \n",
      " 21  primary_cleaner.output.tail_au                      19439 non-null  float64       \n",
      " 22  primary_cleaner.state.floatbank8_a_air              19435 non-null  float64       \n",
      " 23  primary_cleaner.state.floatbank8_a_level            19438 non-null  float64       \n",
      " 24  primary_cleaner.state.floatbank8_b_air              19435 non-null  float64       \n",
      " 25  primary_cleaner.state.floatbank8_b_level            19438 non-null  float64       \n",
      " 26  primary_cleaner.state.floatbank8_c_air              19437 non-null  float64       \n",
      " 27  primary_cleaner.state.floatbank8_c_level            19438 non-null  float64       \n",
      " 28  primary_cleaner.state.floatbank8_d_air              19436 non-null  float64       \n",
      " 29  primary_cleaner.state.floatbank8_d_level            19438 non-null  float64       \n",
      " 30  rougher.calculation.sulfate_to_au_concentrate       19437 non-null  float64       \n",
      " 31  rougher.calculation.floatbank10_sulfate_to_au_feed  19437 non-null  float64       \n",
      " 32  rougher.calculation.floatbank11_sulfate_to_au_feed  19437 non-null  float64       \n",
      " 33  rougher.calculation.au_pb_ratio                     19439 non-null  float64       \n",
      " 34  rougher.input.feed_ag                               19439 non-null  float64       \n",
      " 35  rougher.input.feed_pb                               19339 non-null  float64       \n",
      " 36  rougher.input.feed_rate                             19428 non-null  float64       \n",
      " 37  rougher.input.feed_size                             19294 non-null  float64       \n",
      " 38  rougher.input.feed_sol                              19340 non-null  float64       \n",
      " 39  rougher.input.feed_au                               19439 non-null  float64       \n",
      " 40  rougher.input.floatbank10_sulfate                   19405 non-null  float64       \n",
      " 41  rougher.input.floatbank10_xanthate                  19431 non-null  float64       \n",
      " 42  rougher.input.floatbank11_sulfate                   19395 non-null  float64       \n",
      " 43  rougher.input.floatbank11_xanthate                  18986 non-null  float64       \n",
      " 44  rougher.output.concentrate_ag                       19439 non-null  float64       \n",
      " 45  rougher.output.concentrate_pb                       19439 non-null  float64       \n",
      " 46  rougher.output.concentrate_sol                      19416 non-null  float64       \n",
      " 47  rougher.output.concentrate_au                       19439 non-null  float64       \n",
      " 48  rougher.output.recovery                             19439 non-null  float64       \n",
      " 49  rougher.output.tail_ag                              19438 non-null  float64       \n",
      " 50  rougher.output.tail_pb                              19439 non-null  float64       \n",
      " 51  rougher.output.tail_sol                             19439 non-null  float64       \n",
      " 52  rougher.output.tail_au                              19439 non-null  float64       \n",
      " 53  rougher.state.floatbank10_a_air                     19438 non-null  float64       \n",
      " 54  rougher.state.floatbank10_a_level                   19438 non-null  float64       \n",
      " 55  rougher.state.floatbank10_b_air                     19438 non-null  float64       \n",
      " 56  rougher.state.floatbank10_b_level                   19438 non-null  float64       \n",
      " 57  rougher.state.floatbank10_c_air                     19438 non-null  float64       \n",
      " 58  rougher.state.floatbank10_c_level                   19438 non-null  float64       \n",
      " 59  rougher.state.floatbank10_d_air                     19439 non-null  float64       \n",
      " 60  rougher.state.floatbank10_d_level                   19439 non-null  float64       \n",
      " 61  rougher.state.floatbank10_e_air                     19003 non-null  float64       \n",
      " 62  rougher.state.floatbank10_e_level                   19439 non-null  float64       \n",
      " 63  rougher.state.floatbank10_f_air                     19439 non-null  float64       \n",
      " 64  rougher.state.floatbank10_f_level                   19439 non-null  float64       \n",
      " 65  secondary_cleaner.output.tail_ag                    19437 non-null  float64       \n",
      " 66  secondary_cleaner.output.tail_pb                    19427 non-null  float64       \n",
      " 67  secondary_cleaner.output.tail_sol                   17691 non-null  float64       \n",
      " 68  secondary_cleaner.output.tail_au                    19439 non-null  float64       \n",
      " 69  secondary_cleaner.state.floatbank2_a_air            19219 non-null  float64       \n",
      " 70  secondary_cleaner.state.floatbank2_a_level          19438 non-null  float64       \n",
      " 71  secondary_cleaner.state.floatbank2_b_air            19416 non-null  float64       \n",
      " 72  secondary_cleaner.state.floatbank2_b_level          19438 non-null  float64       \n",
      " 73  secondary_cleaner.state.floatbank3_a_air            19426 non-null  float64       \n",
      " 74  secondary_cleaner.state.floatbank3_a_level          19438 non-null  float64       \n",
      " 75  secondary_cleaner.state.floatbank3_b_air            19438 non-null  float64       \n",
      " 76  secondary_cleaner.state.floatbank3_b_level          19438 non-null  float64       \n",
      " 77  secondary_cleaner.state.floatbank4_a_air            19433 non-null  float64       \n",
      " 78  secondary_cleaner.state.floatbank4_a_level          19438 non-null  float64       \n",
      " 79  secondary_cleaner.state.floatbank4_b_air            19438 non-null  float64       \n",
      " 80  secondary_cleaner.state.floatbank4_b_level          19438 non-null  float64       \n",
      " 81  secondary_cleaner.state.floatbank5_a_air            19438 non-null  float64       \n",
      " 82  secondary_cleaner.state.floatbank5_a_level          19438 non-null  float64       \n",
      " 83  secondary_cleaner.state.floatbank5_b_air            19438 non-null  float64       \n",
      " 84  secondary_cleaner.state.floatbank5_b_level          19438 non-null  float64       \n",
      " 85  secondary_cleaner.state.floatbank6_a_air            19437 non-null  float64       \n",
      " 86  secondary_cleaner.state.floatbank6_a_level          19438 non-null  float64       \n",
      "dtypes: datetime64[ns](1), float64(86)\n",
      "memory usage: 12.9 MB\n"
     ]
    },
    {
     "data": {
      "text/plain": [
       "None"
      ]
     },
     "metadata": {},
     "output_type": "display_data"
    },
    {
     "data": {
      "text/plain": [
       "date                                          0.000000\n",
       "final.output.concentrate_ag                   0.000051\n",
       "final.output.concentrate_pb                   0.000051\n",
       "final.output.concentrate_sol                  0.010854\n",
       "final.output.concentrate_au                   0.000000\n",
       "                                                ...   \n",
       "secondary_cleaner.state.floatbank5_a_level    0.000051\n",
       "secondary_cleaner.state.floatbank5_b_air      0.000051\n",
       "secondary_cleaner.state.floatbank5_b_level    0.000051\n",
       "secondary_cleaner.state.floatbank6_a_air      0.000103\n",
       "secondary_cleaner.state.floatbank6_a_level    0.000051\n",
       "Length: 87, dtype: float64"
      ]
     },
     "metadata": {},
     "output_type": "display_data"
    },
    {
     "data": {
      "text/html": [
       "<div>\n",
       "<style scoped>\n",
       "    .dataframe tbody tr th:only-of-type {\n",
       "        vertical-align: middle;\n",
       "    }\n",
       "\n",
       "    .dataframe tbody tr th {\n",
       "        vertical-align: top;\n",
       "    }\n",
       "\n",
       "    .dataframe thead th {\n",
       "        text-align: right;\n",
       "    }\n",
       "</style>\n",
       "<table border=\"1\" class=\"dataframe\">\n",
       "  <thead>\n",
       "    <tr style=\"text-align: right;\">\n",
       "      <th></th>\n",
       "      <th>final.output.concentrate_ag</th>\n",
       "      <th>final.output.concentrate_pb</th>\n",
       "      <th>final.output.concentrate_sol</th>\n",
       "      <th>final.output.concentrate_au</th>\n",
       "      <th>final.output.recovery</th>\n",
       "      <th>final.output.tail_ag</th>\n",
       "      <th>final.output.tail_pb</th>\n",
       "      <th>final.output.tail_sol</th>\n",
       "      <th>final.output.tail_au</th>\n",
       "      <th>primary_cleaner.input.sulfate</th>\n",
       "      <th>...</th>\n",
       "      <th>secondary_cleaner.state.floatbank4_a_air</th>\n",
       "      <th>secondary_cleaner.state.floatbank4_a_level</th>\n",
       "      <th>secondary_cleaner.state.floatbank4_b_air</th>\n",
       "      <th>secondary_cleaner.state.floatbank4_b_level</th>\n",
       "      <th>secondary_cleaner.state.floatbank5_a_air</th>\n",
       "      <th>secondary_cleaner.state.floatbank5_a_level</th>\n",
       "      <th>secondary_cleaner.state.floatbank5_b_air</th>\n",
       "      <th>secondary_cleaner.state.floatbank5_b_level</th>\n",
       "      <th>secondary_cleaner.state.floatbank6_a_air</th>\n",
       "      <th>secondary_cleaner.state.floatbank6_a_level</th>\n",
       "    </tr>\n",
       "  </thead>\n",
       "  <tbody>\n",
       "    <tr>\n",
       "      <th>count</th>\n",
       "      <td>19438.000000</td>\n",
       "      <td>19438.000000</td>\n",
       "      <td>19228.000000</td>\n",
       "      <td>19439.000000</td>\n",
       "      <td>19439.000000</td>\n",
       "      <td>19438.000000</td>\n",
       "      <td>19338.000000</td>\n",
       "      <td>19433.000000</td>\n",
       "      <td>19439.000000</td>\n",
       "      <td>19415.000000</td>\n",
       "      <td>...</td>\n",
       "      <td>19433.000000</td>\n",
       "      <td>19438.000000</td>\n",
       "      <td>19438.000000</td>\n",
       "      <td>19438.000000</td>\n",
       "      <td>19438.000000</td>\n",
       "      <td>19438.000000</td>\n",
       "      <td>19438.000000</td>\n",
       "      <td>19438.000000</td>\n",
       "      <td>19437.000000</td>\n",
       "      <td>19438.000000</td>\n",
       "    </tr>\n",
       "    <tr>\n",
       "      <th>mean</th>\n",
       "      <td>5.168470</td>\n",
       "      <td>9.978895</td>\n",
       "      <td>9.501224</td>\n",
       "      <td>44.076513</td>\n",
       "      <td>67.050208</td>\n",
       "      <td>9.688589</td>\n",
       "      <td>2.705795</td>\n",
       "      <td>10.583728</td>\n",
       "      <td>3.042467</td>\n",
       "      <td>144.624774</td>\n",
       "      <td>...</td>\n",
       "      <td>18.987674</td>\n",
       "      <td>-485.894516</td>\n",
       "      <td>15.010366</td>\n",
       "      <td>-461.078636</td>\n",
       "      <td>15.694452</td>\n",
       "      <td>-488.684065</td>\n",
       "      <td>12.198224</td>\n",
       "      <td>-487.149827</td>\n",
       "      <td>18.959024</td>\n",
       "      <td>-505.436305</td>\n",
       "    </tr>\n",
       "    <tr>\n",
       "      <th>std</th>\n",
       "      <td>1.372348</td>\n",
       "      <td>1.669240</td>\n",
       "      <td>2.787537</td>\n",
       "      <td>5.129784</td>\n",
       "      <td>10.125840</td>\n",
       "      <td>2.328642</td>\n",
       "      <td>0.949077</td>\n",
       "      <td>2.868782</td>\n",
       "      <td>0.922808</td>\n",
       "      <td>44.464071</td>\n",
       "      <td>...</td>\n",
       "      <td>5.411058</td>\n",
       "      <td>47.758570</td>\n",
       "      <td>4.890228</td>\n",
       "      <td>67.405524</td>\n",
       "      <td>5.510974</td>\n",
       "      <td>34.533396</td>\n",
       "      <td>5.333024</td>\n",
       "      <td>38.347312</td>\n",
       "      <td>5.550498</td>\n",
       "      <td>37.689057</td>\n",
       "    </tr>\n",
       "    <tr>\n",
       "      <th>min</th>\n",
       "      <td>0.000000</td>\n",
       "      <td>0.000000</td>\n",
       "      <td>0.000000</td>\n",
       "      <td>0.000000</td>\n",
       "      <td>0.000000</td>\n",
       "      <td>0.000000</td>\n",
       "      <td>0.000000</td>\n",
       "      <td>0.000000</td>\n",
       "      <td>0.000000</td>\n",
       "      <td>0.003112</td>\n",
       "      <td>...</td>\n",
       "      <td>0.000000</td>\n",
       "      <td>-799.798523</td>\n",
       "      <td>0.000000</td>\n",
       "      <td>-800.836914</td>\n",
       "      <td>-0.372054</td>\n",
       "      <td>-797.323986</td>\n",
       "      <td>0.528083</td>\n",
       "      <td>-800.220337</td>\n",
       "      <td>-0.079426</td>\n",
       "      <td>-809.741464</td>\n",
       "    </tr>\n",
       "    <tr>\n",
       "      <th>25%</th>\n",
       "      <td>4.251240</td>\n",
       "      <td>9.137262</td>\n",
       "      <td>7.722820</td>\n",
       "      <td>43.402215</td>\n",
       "      <td>63.299712</td>\n",
       "      <td>8.062878</td>\n",
       "      <td>2.040119</td>\n",
       "      <td>8.938947</td>\n",
       "      <td>2.461138</td>\n",
       "      <td>114.107029</td>\n",
       "      <td>...</td>\n",
       "      <td>14.975734</td>\n",
       "      <td>-500.704892</td>\n",
       "      <td>11.940294</td>\n",
       "      <td>-500.187742</td>\n",
       "      <td>10.988606</td>\n",
       "      <td>-500.458467</td>\n",
       "      <td>8.971105</td>\n",
       "      <td>-500.129462</td>\n",
       "      <td>14.983037</td>\n",
       "      <td>-500.728067</td>\n",
       "    </tr>\n",
       "    <tr>\n",
       "      <th>50%</th>\n",
       "      <td>5.066094</td>\n",
       "      <td>10.102433</td>\n",
       "      <td>9.218961</td>\n",
       "      <td>45.011244</td>\n",
       "      <td>68.172738</td>\n",
       "      <td>9.743623</td>\n",
       "      <td>2.748730</td>\n",
       "      <td>10.622456</td>\n",
       "      <td>2.984909</td>\n",
       "      <td>143.232103</td>\n",
       "      <td>...</td>\n",
       "      <td>18.017481</td>\n",
       "      <td>-499.837793</td>\n",
       "      <td>14.971014</td>\n",
       "      <td>-499.459786</td>\n",
       "      <td>15.000036</td>\n",
       "      <td>-499.802605</td>\n",
       "      <td>11.019433</td>\n",
       "      <td>-499.935317</td>\n",
       "      <td>19.960541</td>\n",
       "      <td>-500.048400</td>\n",
       "    </tr>\n",
       "    <tr>\n",
       "      <th>75%</th>\n",
       "      <td>5.895527</td>\n",
       "      <td>11.035769</td>\n",
       "      <td>10.947813</td>\n",
       "      <td>46.275313</td>\n",
       "      <td>72.686642</td>\n",
       "      <td>11.134294</td>\n",
       "      <td>3.333216</td>\n",
       "      <td>12.104271</td>\n",
       "      <td>3.571351</td>\n",
       "      <td>175.075656</td>\n",
       "      <td>...</td>\n",
       "      <td>23.012470</td>\n",
       "      <td>-498.249730</td>\n",
       "      <td>19.034162</td>\n",
       "      <td>-400.118106</td>\n",
       "      <td>18.026190</td>\n",
       "      <td>-498.384187</td>\n",
       "      <td>14.019088</td>\n",
       "      <td>-499.436708</td>\n",
       "      <td>24.003170</td>\n",
       "      <td>-499.495378</td>\n",
       "    </tr>\n",
       "    <tr>\n",
       "      <th>max</th>\n",
       "      <td>16.001945</td>\n",
       "      <td>17.031899</td>\n",
       "      <td>19.615720</td>\n",
       "      <td>52.756638</td>\n",
       "      <td>100.000000</td>\n",
       "      <td>19.552149</td>\n",
       "      <td>5.804178</td>\n",
       "      <td>22.317730</td>\n",
       "      <td>8.245022</td>\n",
       "      <td>265.983123</td>\n",
       "      <td>...</td>\n",
       "      <td>30.115735</td>\n",
       "      <td>-245.239184</td>\n",
       "      <td>31.269706</td>\n",
       "      <td>-6.506986</td>\n",
       "      <td>43.709931</td>\n",
       "      <td>-244.483566</td>\n",
       "      <td>27.926001</td>\n",
       "      <td>-137.740004</td>\n",
       "      <td>32.188906</td>\n",
       "      <td>-104.427459</td>\n",
       "    </tr>\n",
       "  </tbody>\n",
       "</table>\n",
       "<p>8 rows × 86 columns</p>\n",
       "</div>"
      ],
      "text/plain": [
       "       final.output.concentrate_ag  final.output.concentrate_pb  \\\n",
       "count                 19438.000000                 19438.000000   \n",
       "mean                      5.168470                     9.978895   \n",
       "std                       1.372348                     1.669240   \n",
       "min                       0.000000                     0.000000   \n",
       "25%                       4.251240                     9.137262   \n",
       "50%                       5.066094                    10.102433   \n",
       "75%                       5.895527                    11.035769   \n",
       "max                      16.001945                    17.031899   \n",
       "\n",
       "       final.output.concentrate_sol  final.output.concentrate_au  \\\n",
       "count                  19228.000000                 19439.000000   \n",
       "mean                       9.501224                    44.076513   \n",
       "std                        2.787537                     5.129784   \n",
       "min                        0.000000                     0.000000   \n",
       "25%                        7.722820                    43.402215   \n",
       "50%                        9.218961                    45.011244   \n",
       "75%                       10.947813                    46.275313   \n",
       "max                       19.615720                    52.756638   \n",
       "\n",
       "       final.output.recovery  final.output.tail_ag  final.output.tail_pb  \\\n",
       "count           19439.000000          19438.000000          19338.000000   \n",
       "mean               67.050208              9.688589              2.705795   \n",
       "std                10.125840              2.328642              0.949077   \n",
       "min                 0.000000              0.000000              0.000000   \n",
       "25%                63.299712              8.062878              2.040119   \n",
       "50%                68.172738              9.743623              2.748730   \n",
       "75%                72.686642             11.134294              3.333216   \n",
       "max               100.000000             19.552149              5.804178   \n",
       "\n",
       "       final.output.tail_sol  final.output.tail_au  \\\n",
       "count           19433.000000          19439.000000   \n",
       "mean               10.583728              3.042467   \n",
       "std                 2.868782              0.922808   \n",
       "min                 0.000000              0.000000   \n",
       "25%                 8.938947              2.461138   \n",
       "50%                10.622456              2.984909   \n",
       "75%                12.104271              3.571351   \n",
       "max                22.317730              8.245022   \n",
       "\n",
       "       primary_cleaner.input.sulfate  ...  \\\n",
       "count                   19415.000000  ...   \n",
       "mean                      144.624774  ...   \n",
       "std                        44.464071  ...   \n",
       "min                         0.003112  ...   \n",
       "25%                       114.107029  ...   \n",
       "50%                       143.232103  ...   \n",
       "75%                       175.075656  ...   \n",
       "max                       265.983123  ...   \n",
       "\n",
       "       secondary_cleaner.state.floatbank4_a_air  \\\n",
       "count                              19433.000000   \n",
       "mean                                  18.987674   \n",
       "std                                    5.411058   \n",
       "min                                    0.000000   \n",
       "25%                                   14.975734   \n",
       "50%                                   18.017481   \n",
       "75%                                   23.012470   \n",
       "max                                   30.115735   \n",
       "\n",
       "       secondary_cleaner.state.floatbank4_a_level  \\\n",
       "count                                19438.000000   \n",
       "mean                                  -485.894516   \n",
       "std                                     47.758570   \n",
       "min                                   -799.798523   \n",
       "25%                                   -500.704892   \n",
       "50%                                   -499.837793   \n",
       "75%                                   -498.249730   \n",
       "max                                   -245.239184   \n",
       "\n",
       "       secondary_cleaner.state.floatbank4_b_air  \\\n",
       "count                              19438.000000   \n",
       "mean                                  15.010366   \n",
       "std                                    4.890228   \n",
       "min                                    0.000000   \n",
       "25%                                   11.940294   \n",
       "50%                                   14.971014   \n",
       "75%                                   19.034162   \n",
       "max                                   31.269706   \n",
       "\n",
       "       secondary_cleaner.state.floatbank4_b_level  \\\n",
       "count                                19438.000000   \n",
       "mean                                  -461.078636   \n",
       "std                                     67.405524   \n",
       "min                                   -800.836914   \n",
       "25%                                   -500.187742   \n",
       "50%                                   -499.459786   \n",
       "75%                                   -400.118106   \n",
       "max                                     -6.506986   \n",
       "\n",
       "       secondary_cleaner.state.floatbank5_a_air  \\\n",
       "count                              19438.000000   \n",
       "mean                                  15.694452   \n",
       "std                                    5.510974   \n",
       "min                                   -0.372054   \n",
       "25%                                   10.988606   \n",
       "50%                                   15.000036   \n",
       "75%                                   18.026190   \n",
       "max                                   43.709931   \n",
       "\n",
       "       secondary_cleaner.state.floatbank5_a_level  \\\n",
       "count                                19438.000000   \n",
       "mean                                  -488.684065   \n",
       "std                                     34.533396   \n",
       "min                                   -797.323986   \n",
       "25%                                   -500.458467   \n",
       "50%                                   -499.802605   \n",
       "75%                                   -498.384187   \n",
       "max                                   -244.483566   \n",
       "\n",
       "       secondary_cleaner.state.floatbank5_b_air  \\\n",
       "count                              19438.000000   \n",
       "mean                                  12.198224   \n",
       "std                                    5.333024   \n",
       "min                                    0.528083   \n",
       "25%                                    8.971105   \n",
       "50%                                   11.019433   \n",
       "75%                                   14.019088   \n",
       "max                                   27.926001   \n",
       "\n",
       "       secondary_cleaner.state.floatbank5_b_level  \\\n",
       "count                                19438.000000   \n",
       "mean                                  -487.149827   \n",
       "std                                     38.347312   \n",
       "min                                   -800.220337   \n",
       "25%                                   -500.129462   \n",
       "50%                                   -499.935317   \n",
       "75%                                   -499.436708   \n",
       "max                                   -137.740004   \n",
       "\n",
       "       secondary_cleaner.state.floatbank6_a_air  \\\n",
       "count                              19437.000000   \n",
       "mean                                  18.959024   \n",
       "std                                    5.550498   \n",
       "min                                   -0.079426   \n",
       "25%                                   14.983037   \n",
       "50%                                   19.960541   \n",
       "75%                                   24.003170   \n",
       "max                                   32.188906   \n",
       "\n",
       "       secondary_cleaner.state.floatbank6_a_level  \n",
       "count                                19438.000000  \n",
       "mean                                  -505.436305  \n",
       "std                                     37.689057  \n",
       "min                                   -809.741464  \n",
       "25%                                   -500.728067  \n",
       "50%                                   -500.048400  \n",
       "75%                                   -499.495378  \n",
       "max                                   -104.427459  \n",
       "\n",
       "[8 rows x 86 columns]"
      ]
     },
     "metadata": {},
     "output_type": "display_data"
    },
    {
     "data": {
      "text/plain": [
       "0"
      ]
     },
     "metadata": {},
     "output_type": "display_data"
    }
   ],
   "source": [
    "uni_function(df_full) #исходные данные"
   ]
  },
  {
   "cell_type": "markdown",
   "metadata": {},
   "source": [
    "### Вычисление эффективности обогащения на обучающей выборке"
   ]
  },
  {
   "cell_type": "code",
   "execution_count": 7,
   "metadata": {},
   "outputs": [
    {
     "name": "stdout",
     "output_type": "stream",
     "text": [
      "Эффективность обогащения золота составляет 0        87.107763\n",
      "1        86.843261\n",
      "2        86.842308\n",
      "3        87.226430\n",
      "4        86.688794\n",
      "           ...    \n",
      "14144    89.574376\n",
      "14145    87.724007\n",
      "14146    88.890579\n",
      "14147    89.858126\n",
      "14148    89.514960\n",
      "Length: 14149, dtype: float64\n"
     ]
    }
   ],
   "source": [
    "#Рассчитаем эффективность обогащения на обучающей выборке\n",
    "C = df_train['rougher.output.concentrate_au'] #доля золота в концентрате после флотации/очистки\n",
    "F = df_train['rougher.input.feed_au'] #доля золота в сырье/концентрате до флотации/очистки\n",
    "T = df_train['rougher.output.tail_au'] #доля золота в отвальных хвостах после флотации/очистки\n",
    "\n",
    "recovery = (C*(F-T))/(F*(C-T))*100 #Эффективность обогащения\n",
    "print(f'Эффективность обогащения золота составляет {recovery}')"
   ]
  },
  {
   "cell_type": "markdown",
   "metadata": {},
   "source": [
    "#### Вычисление MAE для признака rougher.output.recovery"
   ]
  },
  {
   "cell_type": "code",
   "execution_count": 8,
   "metadata": {
    "scrolled": false
   },
   "outputs": [
    {
     "data": {
      "text/plain": [
       "9.73512347450521e-15"
      ]
     },
     "metadata": {},
     "output_type": "display_data"
    }
   ],
   "source": [
    "mae_recovery = mean_absolute_error(df_train['rougher.output.recovery'], recovery)\n",
    "display(mae_recovery)"
   ]
  },
  {
   "cell_type": "markdown",
   "metadata": {},
   "source": [
    "**Вывод**    \n",
    "Среднее абсолютное отклонение(MAE) очень мало, а значит параметр эффективность обогащения расчитан верно."
   ]
  },
  {
   "cell_type": "markdown",
   "metadata": {},
   "source": [
    "### Анализ признаков, недоступных в тестовой выборке"
   ]
  },
  {
   "cell_type": "markdown",
   "metadata": {},
   "source": [
    "В тестовой выборке всего 52 колонки, тогда как в остальных выборках - 86 колонок.\n",
    "Выясним, каких признаков нет в тестовой выборке."
   ]
  },
  {
   "cell_type": "code",
   "execution_count": 9,
   "metadata": {
    "scrolled": true
   },
   "outputs": [
    {
     "data": {
      "text/plain": [
       "{'final.output.concentrate_ag',\n",
       " 'final.output.concentrate_au',\n",
       " 'final.output.concentrate_pb',\n",
       " 'final.output.concentrate_sol',\n",
       " 'final.output.recovery',\n",
       " 'final.output.tail_ag',\n",
       " 'final.output.tail_au',\n",
       " 'final.output.tail_pb',\n",
       " 'final.output.tail_sol',\n",
       " 'primary_cleaner.output.concentrate_ag',\n",
       " 'primary_cleaner.output.concentrate_au',\n",
       " 'primary_cleaner.output.concentrate_pb',\n",
       " 'primary_cleaner.output.concentrate_sol',\n",
       " 'primary_cleaner.output.tail_ag',\n",
       " 'primary_cleaner.output.tail_au',\n",
       " 'primary_cleaner.output.tail_pb',\n",
       " 'primary_cleaner.output.tail_sol',\n",
       " 'rougher.calculation.au_pb_ratio',\n",
       " 'rougher.calculation.floatbank10_sulfate_to_au_feed',\n",
       " 'rougher.calculation.floatbank11_sulfate_to_au_feed',\n",
       " 'rougher.calculation.sulfate_to_au_concentrate',\n",
       " 'rougher.output.concentrate_ag',\n",
       " 'rougher.output.concentrate_au',\n",
       " 'rougher.output.concentrate_pb',\n",
       " 'rougher.output.concentrate_sol',\n",
       " 'rougher.output.recovery',\n",
       " 'rougher.output.tail_ag',\n",
       " 'rougher.output.tail_au',\n",
       " 'rougher.output.tail_pb',\n",
       " 'rougher.output.tail_sol',\n",
       " 'secondary_cleaner.output.tail_ag',\n",
       " 'secondary_cleaner.output.tail_au',\n",
       " 'secondary_cleaner.output.tail_pb',\n",
       " 'secondary_cleaner.output.tail_sol'}"
      ]
     },
     "metadata": {},
     "output_type": "display_data"
    }
   ],
   "source": [
    "set_test = set(df_test)\n",
    "set_full = set(df_full)\n",
    "set_diff = set_full.difference(set_test)  \n",
    "display(set_diff)"
   ]
  },
  {
   "cell_type": "markdown",
   "metadata": {},
   "source": [
    "Отсутствующие столбцы содержат информацию о продукте после стадии очистки и флотации, расчетные характеристики и данные об эффективности обогощения золота(целевой признак). Все эти признаки имеют тип данных float64."
   ]
  },
  {
   "cell_type": "markdown",
   "metadata": {},
   "source": [
    "### Выполним предобработку данных"
   ]
  },
  {
   "cell_type": "markdown",
   "metadata": {},
   "source": [
    "#### Оценка доли пропусков и их устранение"
   ]
  },
  {
   "cell_type": "markdown",
   "metadata": {},
   "source": [
    "##### Тестовая выборка"
   ]
  },
  {
   "cell_type": "code",
   "execution_count": 10,
   "metadata": {},
   "outputs": [
    {
     "data": {
      "text/html": [
       "<style  type=\"text/css\" >\n",
       "#T_7a2b5_row0_col0{\n",
       "            background-color:  #b40426;\n",
       "            color:  #f1f1f1;\n",
       "        }#T_7a2b5_row1_col0{\n",
       "            background-color:  #e36c55;\n",
       "            color:  #000000;\n",
       "        }#T_7a2b5_row2_col0{\n",
       "            background-color:  #b3cdfb;\n",
       "            color:  #000000;\n",
       "        }#T_7a2b5_row3_col0{\n",
       "            background-color:  #a5c3fe;\n",
       "            color:  #000000;\n",
       "        }#T_7a2b5_row4_col0,#T_7a2b5_row5_col0{\n",
       "            background-color:  #799cf8;\n",
       "            color:  #000000;\n",
       "        }#T_7a2b5_row6_col0,#T_7a2b5_row7_col0{\n",
       "            background-color:  #7093f3;\n",
       "            color:  #000000;\n",
       "        }#T_7a2b5_row8_col0,#T_7a2b5_row9_col0{\n",
       "            background-color:  #6282ea;\n",
       "            color:  #000000;\n",
       "        }#T_7a2b5_row10_col0{\n",
       "            background-color:  #5470de;\n",
       "            color:  #000000;\n",
       "        }#T_7a2b5_row11_col0{\n",
       "            background-color:  #465ecf;\n",
       "            color:  #f1f1f1;\n",
       "        }#T_7a2b5_row12_col0,#T_7a2b5_row13_col0,#T_7a2b5_row14_col0,#T_7a2b5_row15_col0,#T_7a2b5_row16_col0,#T_7a2b5_row17_col0,#T_7a2b5_row18_col0,#T_7a2b5_row19_col0,#T_7a2b5_row20_col0,#T_7a2b5_row21_col0,#T_7a2b5_row22_col0,#T_7a2b5_row23_col0,#T_7a2b5_row24_col0,#T_7a2b5_row25_col0,#T_7a2b5_row26_col0,#T_7a2b5_row27_col0,#T_7a2b5_row28_col0,#T_7a2b5_row29_col0,#T_7a2b5_row30_col0,#T_7a2b5_row31_col0,#T_7a2b5_row32_col0,#T_7a2b5_row33_col0,#T_7a2b5_row34_col0,#T_7a2b5_row35_col0,#T_7a2b5_row36_col0,#T_7a2b5_row37_col0,#T_7a2b5_row38_col0,#T_7a2b5_row39_col0,#T_7a2b5_row40_col0,#T_7a2b5_row41_col0,#T_7a2b5_row42_col0,#T_7a2b5_row43_col0,#T_7a2b5_row44_col0,#T_7a2b5_row45_col0,#T_7a2b5_row46_col0,#T_7a2b5_row47_col0,#T_7a2b5_row48_col0,#T_7a2b5_row49_col0,#T_7a2b5_row50_col0,#T_7a2b5_row51_col0,#T_7a2b5_row52_col0{\n",
       "            background-color:  #3b4cc0;\n",
       "            color:  #f1f1f1;\n",
       "        }</style><table id=\"T_7a2b5_\" ><thead>    <tr>        <th class=\"blank level0\" ></th>        <th class=\"col_heading level0 col0\" >0</th>    </tr></thead><tbody>\n",
       "                <tr>\n",
       "                        <th id=\"T_7a2b5_level0_row0\" class=\"row_heading level0 row0\" >rougher.input.floatbank11_xanthate</th>\n",
       "                        <td id=\"T_7a2b5_row0_col0\" class=\"data row0 col0\" >0.470000</td>\n",
       "            </tr>\n",
       "            <tr>\n",
       "                        <th id=\"T_7a2b5_level0_row1\" class=\"row_heading level0 row1\" >rougher.input.feed_sol</th>\n",
       "                        <td id=\"T_7a2b5_row1_col0\" class=\"data row1 col0\" >0.400000</td>\n",
       "            </tr>\n",
       "            <tr>\n",
       "                        <th id=\"T_7a2b5_level0_row2\" class=\"row_heading level0 row2\" >secondary_cleaner.state.floatbank3_a_air</th>\n",
       "                        <td id=\"T_7a2b5_row2_col0\" class=\"data row2 col0\" >0.170000</td>\n",
       "            </tr>\n",
       "            <tr>\n",
       "                        <th id=\"T_7a2b5_level0_row3\" class=\"row_heading level0 row3\" >rougher.input.floatbank11_sulfate</th>\n",
       "                        <td id=\"T_7a2b5_row3_col0\" class=\"data row3 col0\" >0.150000</td>\n",
       "            </tr>\n",
       "            <tr>\n",
       "                        <th id=\"T_7a2b5_level0_row4\" class=\"row_heading level0 row4\" >primary_cleaner.input.depressant</th>\n",
       "                        <td id=\"T_7a2b5_row4_col0\" class=\"data row4 col0\" >0.090000</td>\n",
       "            </tr>\n",
       "            <tr>\n",
       "                        <th id=\"T_7a2b5_level0_row5\" class=\"row_heading level0 row5\" >rougher.input.floatbank10_sulfate</th>\n",
       "                        <td id=\"T_7a2b5_row5_col0\" class=\"data row5 col0\" >0.090000</td>\n",
       "            </tr>\n",
       "            <tr>\n",
       "                        <th id=\"T_7a2b5_level0_row6\" class=\"row_heading level0 row6\" >primary_cleaner.input.xanthate</th>\n",
       "                        <td id=\"T_7a2b5_row6_col0\" class=\"data row6 col0\" >0.080000</td>\n",
       "            </tr>\n",
       "            <tr>\n",
       "                        <th id=\"T_7a2b5_level0_row7\" class=\"row_heading level0 row7\" >primary_cleaner.input.sulfate</th>\n",
       "                        <td id=\"T_7a2b5_row7_col0\" class=\"data row7 col0\" >0.080000</td>\n",
       "            </tr>\n",
       "            <tr>\n",
       "                        <th id=\"T_7a2b5_level0_row8\" class=\"row_heading level0 row8\" >rougher.input.feed_rate</th>\n",
       "                        <td id=\"T_7a2b5_row8_col0\" class=\"data row8 col0\" >0.060000</td>\n",
       "            </tr>\n",
       "            <tr>\n",
       "                        <th id=\"T_7a2b5_level0_row9\" class=\"row_heading level0 row9\" >secondary_cleaner.state.floatbank2_a_air</th>\n",
       "                        <td id=\"T_7a2b5_row9_col0\" class=\"data row9 col0\" >0.060000</td>\n",
       "            </tr>\n",
       "            <tr>\n",
       "                        <th id=\"T_7a2b5_level0_row10\" class=\"row_heading level0 row10\" >secondary_cleaner.state.floatbank2_b_air</th>\n",
       "                        <td id=\"T_7a2b5_row10_col0\" class=\"data row10 col0\" >0.040000</td>\n",
       "            </tr>\n",
       "            <tr>\n",
       "                        <th id=\"T_7a2b5_level0_row11\" class=\"row_heading level0 row11\" >rougher.input.feed_size</th>\n",
       "                        <td id=\"T_7a2b5_row11_col0\" class=\"data row11 col0\" >0.020000</td>\n",
       "            </tr>\n",
       "            <tr>\n",
       "                        <th id=\"T_7a2b5_level0_row12\" class=\"row_heading level0 row12\" >secondary_cleaner.state.floatbank2_b_level</th>\n",
       "                        <td id=\"T_7a2b5_row12_col0\" class=\"data row12 col0\" >0.000000</td>\n",
       "            </tr>\n",
       "            <tr>\n",
       "                        <th id=\"T_7a2b5_level0_row13\" class=\"row_heading level0 row13\" >rougher.state.floatbank10_f_level</th>\n",
       "                        <td id=\"T_7a2b5_row13_col0\" class=\"data row13 col0\" >0.000000</td>\n",
       "            </tr>\n",
       "            <tr>\n",
       "                        <th id=\"T_7a2b5_level0_row14\" class=\"row_heading level0 row14\" >rougher.state.floatbank10_f_air</th>\n",
       "                        <td id=\"T_7a2b5_row14_col0\" class=\"data row14 col0\" >0.000000</td>\n",
       "            </tr>\n",
       "            <tr>\n",
       "                        <th id=\"T_7a2b5_level0_row15\" class=\"row_heading level0 row15\" >secondary_cleaner.state.floatbank3_a_level</th>\n",
       "                        <td id=\"T_7a2b5_row15_col0\" class=\"data row15 col0\" >0.000000</td>\n",
       "            </tr>\n",
       "            <tr>\n",
       "                        <th id=\"T_7a2b5_level0_row16\" class=\"row_heading level0 row16\" >secondary_cleaner.state.floatbank2_a_level</th>\n",
       "                        <td id=\"T_7a2b5_row16_col0\" class=\"data row16 col0\" >0.000000</td>\n",
       "            </tr>\n",
       "            <tr>\n",
       "                        <th id=\"T_7a2b5_level0_row17\" class=\"row_heading level0 row17\" >date</th>\n",
       "                        <td id=\"T_7a2b5_row17_col0\" class=\"data row17 col0\" >0.000000</td>\n",
       "            </tr>\n",
       "            <tr>\n",
       "                        <th id=\"T_7a2b5_level0_row18\" class=\"row_heading level0 row18\" >rougher.state.floatbank10_e_air</th>\n",
       "                        <td id=\"T_7a2b5_row18_col0\" class=\"data row18 col0\" >0.000000</td>\n",
       "            </tr>\n",
       "            <tr>\n",
       "                        <th id=\"T_7a2b5_level0_row19\" class=\"row_heading level0 row19\" >secondary_cleaner.state.floatbank3_b_air</th>\n",
       "                        <td id=\"T_7a2b5_row19_col0\" class=\"data row19 col0\" >0.000000</td>\n",
       "            </tr>\n",
       "            <tr>\n",
       "                        <th id=\"T_7a2b5_level0_row20\" class=\"row_heading level0 row20\" >secondary_cleaner.state.floatbank3_b_level</th>\n",
       "                        <td id=\"T_7a2b5_row20_col0\" class=\"data row20 col0\" >0.000000</td>\n",
       "            </tr>\n",
       "            <tr>\n",
       "                        <th id=\"T_7a2b5_level0_row21\" class=\"row_heading level0 row21\" >secondary_cleaner.state.floatbank4_a_air</th>\n",
       "                        <td id=\"T_7a2b5_row21_col0\" class=\"data row21 col0\" >0.000000</td>\n",
       "            </tr>\n",
       "            <tr>\n",
       "                        <th id=\"T_7a2b5_level0_row22\" class=\"row_heading level0 row22\" >secondary_cleaner.state.floatbank4_a_level</th>\n",
       "                        <td id=\"T_7a2b5_row22_col0\" class=\"data row22 col0\" >0.000000</td>\n",
       "            </tr>\n",
       "            <tr>\n",
       "                        <th id=\"T_7a2b5_level0_row23\" class=\"row_heading level0 row23\" >secondary_cleaner.state.floatbank4_b_air</th>\n",
       "                        <td id=\"T_7a2b5_row23_col0\" class=\"data row23 col0\" >0.000000</td>\n",
       "            </tr>\n",
       "            <tr>\n",
       "                        <th id=\"T_7a2b5_level0_row24\" class=\"row_heading level0 row24\" >secondary_cleaner.state.floatbank4_b_level</th>\n",
       "                        <td id=\"T_7a2b5_row24_col0\" class=\"data row24 col0\" >0.000000</td>\n",
       "            </tr>\n",
       "            <tr>\n",
       "                        <th id=\"T_7a2b5_level0_row25\" class=\"row_heading level0 row25\" >secondary_cleaner.state.floatbank5_a_air</th>\n",
       "                        <td id=\"T_7a2b5_row25_col0\" class=\"data row25 col0\" >0.000000</td>\n",
       "            </tr>\n",
       "            <tr>\n",
       "                        <th id=\"T_7a2b5_level0_row26\" class=\"row_heading level0 row26\" >secondary_cleaner.state.floatbank5_a_level</th>\n",
       "                        <td id=\"T_7a2b5_row26_col0\" class=\"data row26 col0\" >0.000000</td>\n",
       "            </tr>\n",
       "            <tr>\n",
       "                        <th id=\"T_7a2b5_level0_row27\" class=\"row_heading level0 row27\" >secondary_cleaner.state.floatbank5_b_air</th>\n",
       "                        <td id=\"T_7a2b5_row27_col0\" class=\"data row27 col0\" >0.000000</td>\n",
       "            </tr>\n",
       "            <tr>\n",
       "                        <th id=\"T_7a2b5_level0_row28\" class=\"row_heading level0 row28\" >secondary_cleaner.state.floatbank5_b_level</th>\n",
       "                        <td id=\"T_7a2b5_row28_col0\" class=\"data row28 col0\" >0.000000</td>\n",
       "            </tr>\n",
       "            <tr>\n",
       "                        <th id=\"T_7a2b5_level0_row29\" class=\"row_heading level0 row29\" >secondary_cleaner.state.floatbank6_a_air</th>\n",
       "                        <td id=\"T_7a2b5_row29_col0\" class=\"data row29 col0\" >0.000000</td>\n",
       "            </tr>\n",
       "            <tr>\n",
       "                        <th id=\"T_7a2b5_level0_row30\" class=\"row_heading level0 row30\" >rougher.state.floatbank10_e_level</th>\n",
       "                        <td id=\"T_7a2b5_row30_col0\" class=\"data row30 col0\" >0.000000</td>\n",
       "            </tr>\n",
       "            <tr>\n",
       "                        <th id=\"T_7a2b5_level0_row31\" class=\"row_heading level0 row31\" >rougher.state.floatbank10_b_level</th>\n",
       "                        <td id=\"T_7a2b5_row31_col0\" class=\"data row31 col0\" >0.000000</td>\n",
       "            </tr>\n",
       "            <tr>\n",
       "                        <th id=\"T_7a2b5_level0_row32\" class=\"row_heading level0 row32\" >rougher.state.floatbank10_d_level</th>\n",
       "                        <td id=\"T_7a2b5_row32_col0\" class=\"data row32 col0\" >0.000000</td>\n",
       "            </tr>\n",
       "            <tr>\n",
       "                        <th id=\"T_7a2b5_level0_row33\" class=\"row_heading level0 row33\" >primary_cleaner.state.floatbank8_d_level</th>\n",
       "                        <td id=\"T_7a2b5_row33_col0\" class=\"data row33 col0\" >0.000000</td>\n",
       "            </tr>\n",
       "            <tr>\n",
       "                        <th id=\"T_7a2b5_level0_row34\" class=\"row_heading level0 row34\" >primary_cleaner.input.feed_size</th>\n",
       "                        <td id=\"T_7a2b5_row34_col0\" class=\"data row34 col0\" >0.000000</td>\n",
       "            </tr>\n",
       "            <tr>\n",
       "                        <th id=\"T_7a2b5_level0_row35\" class=\"row_heading level0 row35\" >primary_cleaner.state.floatbank8_a_air</th>\n",
       "                        <td id=\"T_7a2b5_row35_col0\" class=\"data row35 col0\" >0.000000</td>\n",
       "            </tr>\n",
       "            <tr>\n",
       "                        <th id=\"T_7a2b5_level0_row36\" class=\"row_heading level0 row36\" >primary_cleaner.state.floatbank8_a_level</th>\n",
       "                        <td id=\"T_7a2b5_row36_col0\" class=\"data row36 col0\" >0.000000</td>\n",
       "            </tr>\n",
       "            <tr>\n",
       "                        <th id=\"T_7a2b5_level0_row37\" class=\"row_heading level0 row37\" >primary_cleaner.state.floatbank8_b_air</th>\n",
       "                        <td id=\"T_7a2b5_row37_col0\" class=\"data row37 col0\" >0.000000</td>\n",
       "            </tr>\n",
       "            <tr>\n",
       "                        <th id=\"T_7a2b5_level0_row38\" class=\"row_heading level0 row38\" >primary_cleaner.state.floatbank8_b_level</th>\n",
       "                        <td id=\"T_7a2b5_row38_col0\" class=\"data row38 col0\" >0.000000</td>\n",
       "            </tr>\n",
       "            <tr>\n",
       "                        <th id=\"T_7a2b5_level0_row39\" class=\"row_heading level0 row39\" >primary_cleaner.state.floatbank8_c_air</th>\n",
       "                        <td id=\"T_7a2b5_row39_col0\" class=\"data row39 col0\" >0.000000</td>\n",
       "            </tr>\n",
       "            <tr>\n",
       "                        <th id=\"T_7a2b5_level0_row40\" class=\"row_heading level0 row40\" >primary_cleaner.state.floatbank8_c_level</th>\n",
       "                        <td id=\"T_7a2b5_row40_col0\" class=\"data row40 col0\" >0.000000</td>\n",
       "            </tr>\n",
       "            <tr>\n",
       "                        <th id=\"T_7a2b5_level0_row41\" class=\"row_heading level0 row41\" >primary_cleaner.state.floatbank8_d_air</th>\n",
       "                        <td id=\"T_7a2b5_row41_col0\" class=\"data row41 col0\" >0.000000</td>\n",
       "            </tr>\n",
       "            <tr>\n",
       "                        <th id=\"T_7a2b5_level0_row42\" class=\"row_heading level0 row42\" >rougher.input.feed_ag</th>\n",
       "                        <td id=\"T_7a2b5_row42_col0\" class=\"data row42 col0\" >0.000000</td>\n",
       "            </tr>\n",
       "            <tr>\n",
       "                        <th id=\"T_7a2b5_level0_row43\" class=\"row_heading level0 row43\" >rougher.state.floatbank10_d_air</th>\n",
       "                        <td id=\"T_7a2b5_row43_col0\" class=\"data row43 col0\" >0.000000</td>\n",
       "            </tr>\n",
       "            <tr>\n",
       "                        <th id=\"T_7a2b5_level0_row44\" class=\"row_heading level0 row44\" >rougher.input.feed_pb</th>\n",
       "                        <td id=\"T_7a2b5_row44_col0\" class=\"data row44 col0\" >0.000000</td>\n",
       "            </tr>\n",
       "            <tr>\n",
       "                        <th id=\"T_7a2b5_level0_row45\" class=\"row_heading level0 row45\" >rougher.input.feed_au</th>\n",
       "                        <td id=\"T_7a2b5_row45_col0\" class=\"data row45 col0\" >0.000000</td>\n",
       "            </tr>\n",
       "            <tr>\n",
       "                        <th id=\"T_7a2b5_level0_row46\" class=\"row_heading level0 row46\" >rougher.input.floatbank10_xanthate</th>\n",
       "                        <td id=\"T_7a2b5_row46_col0\" class=\"data row46 col0\" >0.000000</td>\n",
       "            </tr>\n",
       "            <tr>\n",
       "                        <th id=\"T_7a2b5_level0_row47\" class=\"row_heading level0 row47\" >rougher.state.floatbank10_a_air</th>\n",
       "                        <td id=\"T_7a2b5_row47_col0\" class=\"data row47 col0\" >0.000000</td>\n",
       "            </tr>\n",
       "            <tr>\n",
       "                        <th id=\"T_7a2b5_level0_row48\" class=\"row_heading level0 row48\" >rougher.state.floatbank10_a_level</th>\n",
       "                        <td id=\"T_7a2b5_row48_col0\" class=\"data row48 col0\" >0.000000</td>\n",
       "            </tr>\n",
       "            <tr>\n",
       "                        <th id=\"T_7a2b5_level0_row49\" class=\"row_heading level0 row49\" >rougher.state.floatbank10_b_air</th>\n",
       "                        <td id=\"T_7a2b5_row49_col0\" class=\"data row49 col0\" >0.000000</td>\n",
       "            </tr>\n",
       "            <tr>\n",
       "                        <th id=\"T_7a2b5_level0_row50\" class=\"row_heading level0 row50\" >rougher.state.floatbank10_c_air</th>\n",
       "                        <td id=\"T_7a2b5_row50_col0\" class=\"data row50 col0\" >0.000000</td>\n",
       "            </tr>\n",
       "            <tr>\n",
       "                        <th id=\"T_7a2b5_level0_row51\" class=\"row_heading level0 row51\" >rougher.state.floatbank10_c_level</th>\n",
       "                        <td id=\"T_7a2b5_row51_col0\" class=\"data row51 col0\" >0.000000</td>\n",
       "            </tr>\n",
       "            <tr>\n",
       "                        <th id=\"T_7a2b5_level0_row52\" class=\"row_heading level0 row52\" >secondary_cleaner.state.floatbank6_a_level</th>\n",
       "                        <td id=\"T_7a2b5_row52_col0\" class=\"data row52 col0\" >0.000000</td>\n",
       "            </tr>\n",
       "    </tbody></table>"
      ],
      "text/plain": [
       "<pandas.io.formats.style.Styler at 0x7f666c5c8ac0>"
      ]
     },
     "execution_count": 10,
     "metadata": {},
     "output_type": "execute_result"
    }
   ],
   "source": [
    "#оценим долю пропусков\n",
    "pd.DataFrame(round(((df_test.isna().mean()*100).sort_values(ascending=False)),2)).style.background_gradient('coolwarm') "
   ]
  },
  {
   "cell_type": "markdown",
   "metadata": {},
   "source": [
    "##### Обучающая выборка"
   ]
  },
  {
   "cell_type": "code",
   "execution_count": 11,
   "metadata": {},
   "outputs": [
    {
     "data": {
      "text/html": [
       "<style  type=\"text/css\" >\n",
       "#T_2b3b6_row0_col0{\n",
       "            background-color:  #b40426;\n",
       "            color:  #f1f1f1;\n",
       "        }#T_2b3b6_row1_col0{\n",
       "            background-color:  #94b6ff;\n",
       "            color:  #000000;\n",
       "        }#T_2b3b6_row2_col0{\n",
       "            background-color:  #93b5fe;\n",
       "            color:  #000000;\n",
       "        }#T_2b3b6_row3_col0{\n",
       "            background-color:  #7396f5;\n",
       "            color:  #000000;\n",
       "        }#T_2b3b6_row4_col0{\n",
       "            background-color:  #6485ec;\n",
       "            color:  #000000;\n",
       "        }#T_2b3b6_row5_col0{\n",
       "            background-color:  #6384eb;\n",
       "            color:  #000000;\n",
       "        }#T_2b3b6_row6_col0{\n",
       "            background-color:  #5673e0;\n",
       "            color:  #000000;\n",
       "        }#T_2b3b6_row7_col0,#T_2b3b6_row8_col0,#T_2b3b6_row9_col0{\n",
       "            background-color:  #4e68d8;\n",
       "            color:  #000000;\n",
       "        }#T_2b3b6_row10_col0{\n",
       "            background-color:  #4a63d3;\n",
       "            color:  #f1f1f1;\n",
       "        }#T_2b3b6_row11_col0{\n",
       "            background-color:  #4961d2;\n",
       "            color:  #f1f1f1;\n",
       "        }#T_2b3b6_row12_col0{\n",
       "            background-color:  #4358cb;\n",
       "            color:  #f1f1f1;\n",
       "        }#T_2b3b6_row13_col0,#T_2b3b6_row14_col0{\n",
       "            background-color:  #4055c8;\n",
       "            color:  #f1f1f1;\n",
       "        }#T_2b3b6_row15_col0{\n",
       "            background-color:  #3f53c6;\n",
       "            color:  #f1f1f1;\n",
       "        }#T_2b3b6_row16_col0,#T_2b3b6_row17_col0,#T_2b3b6_row18_col0{\n",
       "            background-color:  #3e51c5;\n",
       "            color:  #f1f1f1;\n",
       "        }#T_2b3b6_row19_col0{\n",
       "            background-color:  #3d50c3;\n",
       "            color:  #f1f1f1;\n",
       "        }#T_2b3b6_row20_col0,#T_2b3b6_row21_col0,#T_2b3b6_row22_col0{\n",
       "            background-color:  #3c4ec2;\n",
       "            color:  #f1f1f1;\n",
       "        }#T_2b3b6_row23_col0,#T_2b3b6_row24_col0,#T_2b3b6_row25_col0,#T_2b3b6_row26_col0,#T_2b3b6_row27_col0,#T_2b3b6_row28_col0,#T_2b3b6_row29_col0,#T_2b3b6_row30_col0,#T_2b3b6_row31_col0,#T_2b3b6_row32_col0,#T_2b3b6_row33_col0,#T_2b3b6_row34_col0,#T_2b3b6_row35_col0,#T_2b3b6_row36_col0,#T_2b3b6_row37_col0,#T_2b3b6_row38_col0,#T_2b3b6_row39_col0,#T_2b3b6_row40_col0,#T_2b3b6_row41_col0,#T_2b3b6_row42_col0,#T_2b3b6_row43_col0,#T_2b3b6_row44_col0,#T_2b3b6_row45_col0,#T_2b3b6_row46_col0,#T_2b3b6_row47_col0,#T_2b3b6_row48_col0,#T_2b3b6_row49_col0,#T_2b3b6_row50_col0,#T_2b3b6_row51_col0,#T_2b3b6_row52_col0,#T_2b3b6_row53_col0,#T_2b3b6_row54_col0,#T_2b3b6_row55_col0,#T_2b3b6_row56_col0,#T_2b3b6_row57_col0,#T_2b3b6_row58_col0,#T_2b3b6_row59_col0,#T_2b3b6_row60_col0,#T_2b3b6_row61_col0,#T_2b3b6_row62_col0,#T_2b3b6_row63_col0,#T_2b3b6_row64_col0,#T_2b3b6_row65_col0,#T_2b3b6_row66_col0,#T_2b3b6_row67_col0,#T_2b3b6_row68_col0,#T_2b3b6_row69_col0,#T_2b3b6_row70_col0,#T_2b3b6_row71_col0,#T_2b3b6_row72_col0,#T_2b3b6_row73_col0,#T_2b3b6_row74_col0,#T_2b3b6_row75_col0,#T_2b3b6_row76_col0,#T_2b3b6_row77_col0,#T_2b3b6_row78_col0,#T_2b3b6_row79_col0,#T_2b3b6_row80_col0,#T_2b3b6_row81_col0,#T_2b3b6_row82_col0,#T_2b3b6_row83_col0,#T_2b3b6_row84_col0,#T_2b3b6_row85_col0,#T_2b3b6_row86_col0{\n",
       "            background-color:  #3b4cc0;\n",
       "            color:  #f1f1f1;\n",
       "        }</style><table id=\"T_2b3b6_\" ><thead>    <tr>        <th class=\"blank level0\" ></th>        <th class=\"col_heading level0 col0\" >0</th>    </tr></thead><tbody>\n",
       "                <tr>\n",
       "                        <th id=\"T_2b3b6_level0_row0\" class=\"row_heading level0 row0\" >secondary_cleaner.output.tail_sol</th>\n",
       "                        <td id=\"T_2b3b6_row0_col0\" class=\"data row0 col0\" >11.340000</td>\n",
       "            </tr>\n",
       "            <tr>\n",
       "                        <th id=\"T_2b3b6_level0_row1\" class=\"row_heading level0 row1\" >rougher.state.floatbank10_e_air</th>\n",
       "                        <td id=\"T_2b3b6_row1_col0\" class=\"data row1 col0\" >3.080000</td>\n",
       "            </tr>\n",
       "            <tr>\n",
       "                        <th id=\"T_2b3b6_level0_row2\" class=\"row_heading level0 row2\" >rougher.input.floatbank11_xanthate</th>\n",
       "                        <td id=\"T_2b3b6_row2_col0\" class=\"data row2 col0\" >3.020000</td>\n",
       "            </tr>\n",
       "            <tr>\n",
       "                        <th id=\"T_2b3b6_level0_row3\" class=\"row_heading level0 row3\" >primary_cleaner.output.concentrate_sol</th>\n",
       "                        <td id=\"T_2b3b6_row3_col0\" class=\"data row3 col0\" >2.020000</td>\n",
       "            </tr>\n",
       "            <tr>\n",
       "                        <th id=\"T_2b3b6_level0_row4\" class=\"row_heading level0 row4\" >secondary_cleaner.state.floatbank2_a_air</th>\n",
       "                        <td id=\"T_2b3b6_row4_col0\" class=\"data row4 col0\" >1.530000</td>\n",
       "            </tr>\n",
       "            <tr>\n",
       "                        <th id=\"T_2b3b6_level0_row5\" class=\"row_heading level0 row5\" >final.output.concentrate_sol</th>\n",
       "                        <td id=\"T_2b3b6_row5_col0\" class=\"data row5 col0\" >1.490000</td>\n",
       "            </tr>\n",
       "            <tr>\n",
       "                        <th id=\"T_2b3b6_level0_row6\" class=\"row_heading level0 row6\" >rougher.input.feed_size</th>\n",
       "                        <td id=\"T_2b3b6_row6_col0\" class=\"data row6 col0\" >1.020000</td>\n",
       "            </tr>\n",
       "            <tr>\n",
       "                        <th id=\"T_2b3b6_level0_row7\" class=\"row_heading level0 row7\" >primary_cleaner.input.xanthate</th>\n",
       "                        <td id=\"T_2b3b6_row7_col0\" class=\"data row7 col0\" >0.710000</td>\n",
       "            </tr>\n",
       "            <tr>\n",
       "                        <th id=\"T_2b3b6_level0_row8\" class=\"row_heading level0 row8\" >rougher.input.feed_pb</th>\n",
       "                        <td id=\"T_2b3b6_row8_col0\" class=\"data row8 col0\" >0.710000</td>\n",
       "            </tr>\n",
       "            <tr>\n",
       "                        <th id=\"T_2b3b6_level0_row9\" class=\"row_heading level0 row9\" >final.output.tail_pb</th>\n",
       "                        <td id=\"T_2b3b6_row9_col0\" class=\"data row9 col0\" >0.710000</td>\n",
       "            </tr>\n",
       "            <tr>\n",
       "                        <th id=\"T_2b3b6_level0_row10\" class=\"row_heading level0 row10\" >primary_cleaner.output.concentrate_pb</th>\n",
       "                        <td id=\"T_2b3b6_row10_col0\" class=\"data row10 col0\" >0.610000</td>\n",
       "            </tr>\n",
       "            <tr>\n",
       "                        <th id=\"T_2b3b6_level0_row11\" class=\"row_heading level0 row11\" >rougher.input.feed_sol</th>\n",
       "                        <td id=\"T_2b3b6_row11_col0\" class=\"data row11 col0\" >0.550000</td>\n",
       "            </tr>\n",
       "            <tr>\n",
       "                        <th id=\"T_2b3b6_level0_row12\" class=\"row_heading level0 row12\" >primary_cleaner.output.tail_sol</th>\n",
       "                        <td id=\"T_2b3b6_row12_col0\" class=\"data row12 col0\" >0.330000</td>\n",
       "            </tr>\n",
       "            <tr>\n",
       "                        <th id=\"T_2b3b6_level0_row13\" class=\"row_heading level0 row13\" >rougher.input.floatbank11_sulfate</th>\n",
       "                        <td id=\"T_2b3b6_row13_col0\" class=\"data row13 col0\" >0.250000</td>\n",
       "            </tr>\n",
       "            <tr>\n",
       "                        <th id=\"T_2b3b6_level0_row14\" class=\"row_heading level0 row14\" >primary_cleaner.input.depressant</th>\n",
       "                        <td id=\"T_2b3b6_row14_col0\" class=\"data row14 col0\" >0.230000</td>\n",
       "            </tr>\n",
       "            <tr>\n",
       "                        <th id=\"T_2b3b6_level0_row15\" class=\"row_heading level0 row15\" >rougher.input.floatbank10_sulfate</th>\n",
       "                        <td id=\"T_2b3b6_row15_col0\" class=\"data row15 col0\" >0.200000</td>\n",
       "            </tr>\n",
       "            <tr>\n",
       "                        <th id=\"T_2b3b6_level0_row16\" class=\"row_heading level0 row16\" >rougher.output.concentrate_sol</th>\n",
       "                        <td id=\"T_2b3b6_row16_col0\" class=\"data row16 col0\" >0.160000</td>\n",
       "            </tr>\n",
       "            <tr>\n",
       "                        <th id=\"T_2b3b6_level0_row17\" class=\"row_heading level0 row17\" >secondary_cleaner.state.floatbank2_b_air</th>\n",
       "                        <td id=\"T_2b3b6_row17_col0\" class=\"data row17 col0\" >0.150000</td>\n",
       "            </tr>\n",
       "            <tr>\n",
       "                        <th id=\"T_2b3b6_level0_row18\" class=\"row_heading level0 row18\" >primary_cleaner.input.sulfate</th>\n",
       "                        <td id=\"T_2b3b6_row18_col0\" class=\"data row18 col0\" >0.140000</td>\n",
       "            </tr>\n",
       "            <tr>\n",
       "                        <th id=\"T_2b3b6_level0_row19\" class=\"row_heading level0 row19\" >primary_cleaner.output.tail_pb</th>\n",
       "                        <td id=\"T_2b3b6_row19_col0\" class=\"data row19 col0\" >0.110000</td>\n",
       "            </tr>\n",
       "            <tr>\n",
       "                        <th id=\"T_2b3b6_level0_row20\" class=\"row_heading level0 row20\" >secondary_cleaner.output.tail_pb</th>\n",
       "                        <td id=\"T_2b3b6_row20_col0\" class=\"data row20 col0\" >0.070000</td>\n",
       "            </tr>\n",
       "            <tr>\n",
       "                        <th id=\"T_2b3b6_level0_row21\" class=\"row_heading level0 row21\" >rougher.input.feed_rate</th>\n",
       "                        <td id=\"T_2b3b6_row21_col0\" class=\"data row21 col0\" >0.060000</td>\n",
       "            </tr>\n",
       "            <tr>\n",
       "                        <th id=\"T_2b3b6_level0_row22\" class=\"row_heading level0 row22\" >rougher.input.floatbank10_xanthate</th>\n",
       "                        <td id=\"T_2b3b6_row22_col0\" class=\"data row22 col0\" >0.060000</td>\n",
       "            </tr>\n",
       "            <tr>\n",
       "                        <th id=\"T_2b3b6_level0_row23\" class=\"row_heading level0 row23\" >secondary_cleaner.state.floatbank4_a_air</th>\n",
       "                        <td id=\"T_2b3b6_row23_col0\" class=\"data row23 col0\" >0.040000</td>\n",
       "            </tr>\n",
       "            <tr>\n",
       "                        <th id=\"T_2b3b6_level0_row24\" class=\"row_heading level0 row24\" >final.output.tail_sol</th>\n",
       "                        <td id=\"T_2b3b6_row24_col0\" class=\"data row24 col0\" >0.040000</td>\n",
       "            </tr>\n",
       "            <tr>\n",
       "                        <th id=\"T_2b3b6_level0_row25\" class=\"row_heading level0 row25\" >secondary_cleaner.state.floatbank3_a_air</th>\n",
       "                        <td id=\"T_2b3b6_row25_col0\" class=\"data row25 col0\" >0.030000</td>\n",
       "            </tr>\n",
       "            <tr>\n",
       "                        <th id=\"T_2b3b6_level0_row26\" class=\"row_heading level0 row26\" >primary_cleaner.state.floatbank8_a_air</th>\n",
       "                        <td id=\"T_2b3b6_row26_col0\" class=\"data row26 col0\" >0.030000</td>\n",
       "            </tr>\n",
       "            <tr>\n",
       "                        <th id=\"T_2b3b6_level0_row27\" class=\"row_heading level0 row27\" >primary_cleaner.state.floatbank8_b_air</th>\n",
       "                        <td id=\"T_2b3b6_row27_col0\" class=\"data row27 col0\" >0.030000</td>\n",
       "            </tr>\n",
       "            <tr>\n",
       "                        <th id=\"T_2b3b6_level0_row28\" class=\"row_heading level0 row28\" >primary_cleaner.state.floatbank8_d_air</th>\n",
       "                        <td id=\"T_2b3b6_row28_col0\" class=\"data row28 col0\" >0.020000</td>\n",
       "            </tr>\n",
       "            <tr>\n",
       "                        <th id=\"T_2b3b6_level0_row29\" class=\"row_heading level0 row29\" >primary_cleaner.state.floatbank8_c_air</th>\n",
       "                        <td id=\"T_2b3b6_row29_col0\" class=\"data row29 col0\" >0.010000</td>\n",
       "            </tr>\n",
       "            <tr>\n",
       "                        <th id=\"T_2b3b6_level0_row30\" class=\"row_heading level0 row30\" >secondary_cleaner.output.tail_ag</th>\n",
       "                        <td id=\"T_2b3b6_row30_col0\" class=\"data row30 col0\" >0.010000</td>\n",
       "            </tr>\n",
       "            <tr>\n",
       "                        <th id=\"T_2b3b6_level0_row31\" class=\"row_heading level0 row31\" >secondary_cleaner.state.floatbank6_a_air</th>\n",
       "                        <td id=\"T_2b3b6_row31_col0\" class=\"data row31 col0\" >0.010000</td>\n",
       "            </tr>\n",
       "            <tr>\n",
       "                        <th id=\"T_2b3b6_level0_row32\" class=\"row_heading level0 row32\" >rougher.state.floatbank10_b_level</th>\n",
       "                        <td id=\"T_2b3b6_row32_col0\" class=\"data row32 col0\" >0.010000</td>\n",
       "            </tr>\n",
       "            <tr>\n",
       "                        <th id=\"T_2b3b6_level0_row33\" class=\"row_heading level0 row33\" >rougher.state.floatbank10_b_air</th>\n",
       "                        <td id=\"T_2b3b6_row33_col0\" class=\"data row33 col0\" >0.010000</td>\n",
       "            </tr>\n",
       "            <tr>\n",
       "                        <th id=\"T_2b3b6_level0_row34\" class=\"row_heading level0 row34\" >rougher.state.floatbank10_c_level</th>\n",
       "                        <td id=\"T_2b3b6_row34_col0\" class=\"data row34 col0\" >0.010000</td>\n",
       "            </tr>\n",
       "            <tr>\n",
       "                        <th id=\"T_2b3b6_level0_row35\" class=\"row_heading level0 row35\" >rougher.state.floatbank10_c_air</th>\n",
       "                        <td id=\"T_2b3b6_row35_col0\" class=\"data row35 col0\" >0.010000</td>\n",
       "            </tr>\n",
       "            <tr>\n",
       "                        <th id=\"T_2b3b6_level0_row36\" class=\"row_heading level0 row36\" >secondary_cleaner.state.floatbank3_a_level</th>\n",
       "                        <td id=\"T_2b3b6_row36_col0\" class=\"data row36 col0\" >0.010000</td>\n",
       "            </tr>\n",
       "            <tr>\n",
       "                        <th id=\"T_2b3b6_level0_row37\" class=\"row_heading level0 row37\" >secondary_cleaner.state.floatbank2_a_level</th>\n",
       "                        <td id=\"T_2b3b6_row37_col0\" class=\"data row37 col0\" >0.010000</td>\n",
       "            </tr>\n",
       "            <tr>\n",
       "                        <th id=\"T_2b3b6_level0_row38\" class=\"row_heading level0 row38\" >secondary_cleaner.state.floatbank2_b_level</th>\n",
       "                        <td id=\"T_2b3b6_row38_col0\" class=\"data row38 col0\" >0.010000</td>\n",
       "            </tr>\n",
       "            <tr>\n",
       "                        <th id=\"T_2b3b6_level0_row39\" class=\"row_heading level0 row39\" >rougher.state.floatbank10_a_air</th>\n",
       "                        <td id=\"T_2b3b6_row39_col0\" class=\"data row39 col0\" >0.010000</td>\n",
       "            </tr>\n",
       "            <tr>\n",
       "                        <th id=\"T_2b3b6_level0_row40\" class=\"row_heading level0 row40\" >secondary_cleaner.state.floatbank3_b_air</th>\n",
       "                        <td id=\"T_2b3b6_row40_col0\" class=\"data row40 col0\" >0.010000</td>\n",
       "            </tr>\n",
       "            <tr>\n",
       "                        <th id=\"T_2b3b6_level0_row41\" class=\"row_heading level0 row41\" >secondary_cleaner.state.floatbank3_b_level</th>\n",
       "                        <td id=\"T_2b3b6_row41_col0\" class=\"data row41 col0\" >0.010000</td>\n",
       "            </tr>\n",
       "            <tr>\n",
       "                        <th id=\"T_2b3b6_level0_row42\" class=\"row_heading level0 row42\" >secondary_cleaner.state.floatbank4_a_level</th>\n",
       "                        <td id=\"T_2b3b6_row42_col0\" class=\"data row42 col0\" >0.010000</td>\n",
       "            </tr>\n",
       "            <tr>\n",
       "                        <th id=\"T_2b3b6_level0_row43\" class=\"row_heading level0 row43\" >secondary_cleaner.state.floatbank4_b_air</th>\n",
       "                        <td id=\"T_2b3b6_row43_col0\" class=\"data row43 col0\" >0.010000</td>\n",
       "            </tr>\n",
       "            <tr>\n",
       "                        <th id=\"T_2b3b6_level0_row44\" class=\"row_heading level0 row44\" >secondary_cleaner.state.floatbank4_b_level</th>\n",
       "                        <td id=\"T_2b3b6_row44_col0\" class=\"data row44 col0\" >0.010000</td>\n",
       "            </tr>\n",
       "            <tr>\n",
       "                        <th id=\"T_2b3b6_level0_row45\" class=\"row_heading level0 row45\" >secondary_cleaner.state.floatbank5_a_air</th>\n",
       "                        <td id=\"T_2b3b6_row45_col0\" class=\"data row45 col0\" >0.010000</td>\n",
       "            </tr>\n",
       "            <tr>\n",
       "                        <th id=\"T_2b3b6_level0_row46\" class=\"row_heading level0 row46\" >secondary_cleaner.state.floatbank5_a_level</th>\n",
       "                        <td id=\"T_2b3b6_row46_col0\" class=\"data row46 col0\" >0.010000</td>\n",
       "            </tr>\n",
       "            <tr>\n",
       "                        <th id=\"T_2b3b6_level0_row47\" class=\"row_heading level0 row47\" >secondary_cleaner.state.floatbank5_b_air</th>\n",
       "                        <td id=\"T_2b3b6_row47_col0\" class=\"data row47 col0\" >0.010000</td>\n",
       "            </tr>\n",
       "            <tr>\n",
       "                        <th id=\"T_2b3b6_level0_row48\" class=\"row_heading level0 row48\" >secondary_cleaner.state.floatbank5_b_level</th>\n",
       "                        <td id=\"T_2b3b6_row48_col0\" class=\"data row48 col0\" >0.010000</td>\n",
       "            </tr>\n",
       "            <tr>\n",
       "                        <th id=\"T_2b3b6_level0_row49\" class=\"row_heading level0 row49\" >rougher.state.floatbank10_a_level</th>\n",
       "                        <td id=\"T_2b3b6_row49_col0\" class=\"data row49 col0\" >0.010000</td>\n",
       "            </tr>\n",
       "            <tr>\n",
       "                        <th id=\"T_2b3b6_level0_row50\" class=\"row_heading level0 row50\" >secondary_cleaner.state.floatbank6_a_level</th>\n",
       "                        <td id=\"T_2b3b6_row50_col0\" class=\"data row50 col0\" >0.010000</td>\n",
       "            </tr>\n",
       "            <tr>\n",
       "                        <th id=\"T_2b3b6_level0_row51\" class=\"row_heading level0 row51\" >rougher.calculation.floatbank11_sulfate_to_au_feed</th>\n",
       "                        <td id=\"T_2b3b6_row51_col0\" class=\"data row51 col0\" >0.010000</td>\n",
       "            </tr>\n",
       "            <tr>\n",
       "                        <th id=\"T_2b3b6_level0_row52\" class=\"row_heading level0 row52\" >rougher.calculation.floatbank10_sulfate_to_au_feed</th>\n",
       "                        <td id=\"T_2b3b6_row52_col0\" class=\"data row52 col0\" >0.010000</td>\n",
       "            </tr>\n",
       "            <tr>\n",
       "                        <th id=\"T_2b3b6_level0_row53\" class=\"row_heading level0 row53\" >primary_cleaner.state.floatbank8_d_level</th>\n",
       "                        <td id=\"T_2b3b6_row53_col0\" class=\"data row53 col0\" >0.010000</td>\n",
       "            </tr>\n",
       "            <tr>\n",
       "                        <th id=\"T_2b3b6_level0_row54\" class=\"row_heading level0 row54\" >primary_cleaner.state.floatbank8_c_level</th>\n",
       "                        <td id=\"T_2b3b6_row54_col0\" class=\"data row54 col0\" >0.010000</td>\n",
       "            </tr>\n",
       "            <tr>\n",
       "                        <th id=\"T_2b3b6_level0_row55\" class=\"row_heading level0 row55\" >primary_cleaner.state.floatbank8_b_level</th>\n",
       "                        <td id=\"T_2b3b6_row55_col0\" class=\"data row55 col0\" >0.010000</td>\n",
       "            </tr>\n",
       "            <tr>\n",
       "                        <th id=\"T_2b3b6_level0_row56\" class=\"row_heading level0 row56\" >primary_cleaner.state.floatbank8_a_level</th>\n",
       "                        <td id=\"T_2b3b6_row56_col0\" class=\"data row56 col0\" >0.010000</td>\n",
       "            </tr>\n",
       "            <tr>\n",
       "                        <th id=\"T_2b3b6_level0_row57\" class=\"row_heading level0 row57\" >primary_cleaner.output.tail_ag</th>\n",
       "                        <td id=\"T_2b3b6_row57_col0\" class=\"data row57 col0\" >0.010000</td>\n",
       "            </tr>\n",
       "            <tr>\n",
       "                        <th id=\"T_2b3b6_level0_row58\" class=\"row_heading level0 row58\" >final.output.concentrate_ag</th>\n",
       "                        <td id=\"T_2b3b6_row58_col0\" class=\"data row58 col0\" >0.010000</td>\n",
       "            </tr>\n",
       "            <tr>\n",
       "                        <th id=\"T_2b3b6_level0_row59\" class=\"row_heading level0 row59\" >rougher.calculation.sulfate_to_au_concentrate</th>\n",
       "                        <td id=\"T_2b3b6_row59_col0\" class=\"data row59 col0\" >0.010000</td>\n",
       "            </tr>\n",
       "            <tr>\n",
       "                        <th id=\"T_2b3b6_level0_row60\" class=\"row_heading level0 row60\" >rougher.output.tail_ag</th>\n",
       "                        <td id=\"T_2b3b6_row60_col0\" class=\"data row60 col0\" >0.010000</td>\n",
       "            </tr>\n",
       "            <tr>\n",
       "                        <th id=\"T_2b3b6_level0_row61\" class=\"row_heading level0 row61\" >final.output.concentrate_pb</th>\n",
       "                        <td id=\"T_2b3b6_row61_col0\" class=\"data row61 col0\" >0.010000</td>\n",
       "            </tr>\n",
       "            <tr>\n",
       "                        <th id=\"T_2b3b6_level0_row62\" class=\"row_heading level0 row62\" >primary_cleaner.input.feed_size</th>\n",
       "                        <td id=\"T_2b3b6_row62_col0\" class=\"data row62 col0\" >0.000000</td>\n",
       "            </tr>\n",
       "            <tr>\n",
       "                        <th id=\"T_2b3b6_level0_row63\" class=\"row_heading level0 row63\" >final.output.tail_au</th>\n",
       "                        <td id=\"T_2b3b6_row63_col0\" class=\"data row63 col0\" >0.000000</td>\n",
       "            </tr>\n",
       "            <tr>\n",
       "                        <th id=\"T_2b3b6_level0_row64\" class=\"row_heading level0 row64\" >primary_cleaner.output.concentrate_au</th>\n",
       "                        <td id=\"T_2b3b6_row64_col0\" class=\"data row64 col0\" >0.000000</td>\n",
       "            </tr>\n",
       "            <tr>\n",
       "                        <th id=\"T_2b3b6_level0_row65\" class=\"row_heading level0 row65\" >final.output.tail_ag</th>\n",
       "                        <td id=\"T_2b3b6_row65_col0\" class=\"data row65 col0\" >0.000000</td>\n",
       "            </tr>\n",
       "            <tr>\n",
       "                        <th id=\"T_2b3b6_level0_row66\" class=\"row_heading level0 row66\" >primary_cleaner.output.tail_au</th>\n",
       "                        <td id=\"T_2b3b6_row66_col0\" class=\"data row66 col0\" >0.000000</td>\n",
       "            </tr>\n",
       "            <tr>\n",
       "                        <th id=\"T_2b3b6_level0_row67\" class=\"row_heading level0 row67\" >final.output.recovery</th>\n",
       "                        <td id=\"T_2b3b6_row67_col0\" class=\"data row67 col0\" >0.000000</td>\n",
       "            </tr>\n",
       "            <tr>\n",
       "                        <th id=\"T_2b3b6_level0_row68\" class=\"row_heading level0 row68\" >final.output.concentrate_au</th>\n",
       "                        <td id=\"T_2b3b6_row68_col0\" class=\"data row68 col0\" >0.000000</td>\n",
       "            </tr>\n",
       "            <tr>\n",
       "                        <th id=\"T_2b3b6_level0_row69\" class=\"row_heading level0 row69\" >primary_cleaner.output.concentrate_ag</th>\n",
       "                        <td id=\"T_2b3b6_row69_col0\" class=\"data row69 col0\" >0.000000</td>\n",
       "            </tr>\n",
       "            <tr>\n",
       "                        <th id=\"T_2b3b6_level0_row70\" class=\"row_heading level0 row70\" >rougher.output.tail_sol</th>\n",
       "                        <td id=\"T_2b3b6_row70_col0\" class=\"data row70 col0\" >0.000000</td>\n",
       "            </tr>\n",
       "            <tr>\n",
       "                        <th id=\"T_2b3b6_level0_row71\" class=\"row_heading level0 row71\" >rougher.output.tail_au</th>\n",
       "                        <td id=\"T_2b3b6_row71_col0\" class=\"data row71 col0\" >0.000000</td>\n",
       "            </tr>\n",
       "            <tr>\n",
       "                        <th id=\"T_2b3b6_level0_row72\" class=\"row_heading level0 row72\" >secondary_cleaner.output.tail_au</th>\n",
       "                        <td id=\"T_2b3b6_row72_col0\" class=\"data row72 col0\" >0.000000</td>\n",
       "            </tr>\n",
       "            <tr>\n",
       "                        <th id=\"T_2b3b6_level0_row73\" class=\"row_heading level0 row73\" >rougher.calculation.au_pb_ratio</th>\n",
       "                        <td id=\"T_2b3b6_row73_col0\" class=\"data row73 col0\" >0.000000</td>\n",
       "            </tr>\n",
       "            <tr>\n",
       "                        <th id=\"T_2b3b6_level0_row74\" class=\"row_heading level0 row74\" >rougher.input.feed_ag</th>\n",
       "                        <td id=\"T_2b3b6_row74_col0\" class=\"data row74 col0\" >0.000000</td>\n",
       "            </tr>\n",
       "            <tr>\n",
       "                        <th id=\"T_2b3b6_level0_row75\" class=\"row_heading level0 row75\" >rougher.input.feed_au</th>\n",
       "                        <td id=\"T_2b3b6_row75_col0\" class=\"data row75 col0\" >0.000000</td>\n",
       "            </tr>\n",
       "            <tr>\n",
       "                        <th id=\"T_2b3b6_level0_row76\" class=\"row_heading level0 row76\" >rougher.state.floatbank10_f_level</th>\n",
       "                        <td id=\"T_2b3b6_row76_col0\" class=\"data row76 col0\" >0.000000</td>\n",
       "            </tr>\n",
       "            <tr>\n",
       "                        <th id=\"T_2b3b6_level0_row77\" class=\"row_heading level0 row77\" >rougher.state.floatbank10_f_air</th>\n",
       "                        <td id=\"T_2b3b6_row77_col0\" class=\"data row77 col0\" >0.000000</td>\n",
       "            </tr>\n",
       "            <tr>\n",
       "                        <th id=\"T_2b3b6_level0_row78\" class=\"row_heading level0 row78\" >rougher.state.floatbank10_e_level</th>\n",
       "                        <td id=\"T_2b3b6_row78_col0\" class=\"data row78 col0\" >0.000000</td>\n",
       "            </tr>\n",
       "            <tr>\n",
       "                        <th id=\"T_2b3b6_level0_row79\" class=\"row_heading level0 row79\" >rougher.state.floatbank10_d_level</th>\n",
       "                        <td id=\"T_2b3b6_row79_col0\" class=\"data row79 col0\" >0.000000</td>\n",
       "            </tr>\n",
       "            <tr>\n",
       "                        <th id=\"T_2b3b6_level0_row80\" class=\"row_heading level0 row80\" >rougher.state.floatbank10_d_air</th>\n",
       "                        <td id=\"T_2b3b6_row80_col0\" class=\"data row80 col0\" >0.000000</td>\n",
       "            </tr>\n",
       "            <tr>\n",
       "                        <th id=\"T_2b3b6_level0_row81\" class=\"row_heading level0 row81\" >rougher.output.concentrate_ag</th>\n",
       "                        <td id=\"T_2b3b6_row81_col0\" class=\"data row81 col0\" >0.000000</td>\n",
       "            </tr>\n",
       "            <tr>\n",
       "                        <th id=\"T_2b3b6_level0_row82\" class=\"row_heading level0 row82\" >rougher.output.concentrate_pb</th>\n",
       "                        <td id=\"T_2b3b6_row82_col0\" class=\"data row82 col0\" >0.000000</td>\n",
       "            </tr>\n",
       "            <tr>\n",
       "                        <th id=\"T_2b3b6_level0_row83\" class=\"row_heading level0 row83\" >rougher.output.concentrate_au</th>\n",
       "                        <td id=\"T_2b3b6_row83_col0\" class=\"data row83 col0\" >0.000000</td>\n",
       "            </tr>\n",
       "            <tr>\n",
       "                        <th id=\"T_2b3b6_level0_row84\" class=\"row_heading level0 row84\" >rougher.output.recovery</th>\n",
       "                        <td id=\"T_2b3b6_row84_col0\" class=\"data row84 col0\" >0.000000</td>\n",
       "            </tr>\n",
       "            <tr>\n",
       "                        <th id=\"T_2b3b6_level0_row85\" class=\"row_heading level0 row85\" >rougher.output.tail_pb</th>\n",
       "                        <td id=\"T_2b3b6_row85_col0\" class=\"data row85 col0\" >0.000000</td>\n",
       "            </tr>\n",
       "            <tr>\n",
       "                        <th id=\"T_2b3b6_level0_row86\" class=\"row_heading level0 row86\" >date</th>\n",
       "                        <td id=\"T_2b3b6_row86_col0\" class=\"data row86 col0\" >0.000000</td>\n",
       "            </tr>\n",
       "    </tbody></table>"
      ],
      "text/plain": [
       "<pandas.io.formats.style.Styler at 0x7f660928ec10>"
      ]
     },
     "execution_count": 11,
     "metadata": {},
     "output_type": "execute_result"
    }
   ],
   "source": [
    "pd.DataFrame(round(((df_train.isna().mean()*100).sort_values(ascending=False)),2)).style.background_gradient('coolwarm') "
   ]
  },
  {
   "cell_type": "markdown",
   "metadata": {},
   "source": [
    "##### Исходные данные"
   ]
  },
  {
   "cell_type": "code",
   "execution_count": 12,
   "metadata": {},
   "outputs": [
    {
     "data": {
      "text/html": [
       "<style  type=\"text/css\" >\n",
       "#T_66c6c_row0_col0{\n",
       "            background-color:  #b40426;\n",
       "            color:  #f1f1f1;\n",
       "        }#T_66c6c_row1_col0{\n",
       "            background-color:  #90b2fe;\n",
       "            color:  #000000;\n",
       "        }#T_66c6c_row2_col0{\n",
       "            background-color:  #8caffe;\n",
       "            color:  #000000;\n",
       "        }#T_66c6c_row3_col0{\n",
       "            background-color:  #80a3fa;\n",
       "            color:  #000000;\n",
       "        }#T_66c6c_row4_col0{\n",
       "            background-color:  #6282ea;\n",
       "            color:  #000000;\n",
       "        }#T_66c6c_row5_col0{\n",
       "            background-color:  #6180e9;\n",
       "            color:  #000000;\n",
       "        }#T_66c6c_row6_col0{\n",
       "            background-color:  #5470de;\n",
       "            color:  #000000;\n",
       "        }#T_66c6c_row7_col0{\n",
       "            background-color:  #4f69d9;\n",
       "            color:  #000000;\n",
       "        }#T_66c6c_row8_col0{\n",
       "            background-color:  #4c66d6;\n",
       "            color:  #000000;\n",
       "        }#T_66c6c_row9_col0,#T_66c6c_row10_col0,#T_66c6c_row11_col0{\n",
       "            background-color:  #4b64d5;\n",
       "            color:  #f1f1f1;\n",
       "        }#T_66c6c_row12_col0{\n",
       "            background-color:  #455cce;\n",
       "            color:  #f1f1f1;\n",
       "        }#T_66c6c_row13_col0{\n",
       "            background-color:  #4257c9;\n",
       "            color:  #f1f1f1;\n",
       "        }#T_66c6c_row14_col0{\n",
       "            background-color:  #4055c8;\n",
       "            color:  #f1f1f1;\n",
       "        }#T_66c6c_row15_col0{\n",
       "            background-color:  #3f53c6;\n",
       "            color:  #f1f1f1;\n",
       "        }#T_66c6c_row16_col0,#T_66c6c_row17_col0,#T_66c6c_row18_col0,#T_66c6c_row19_col0{\n",
       "            background-color:  #3e51c5;\n",
       "            color:  #f1f1f1;\n",
       "        }#T_66c6c_row20_col0,#T_66c6c_row21_col0,#T_66c6c_row22_col0,#T_66c6c_row23_col0{\n",
       "            background-color:  #3c4ec2;\n",
       "            color:  #f1f1f1;\n",
       "        }#T_66c6c_row24_col0,#T_66c6c_row25_col0,#T_66c6c_row26_col0,#T_66c6c_row27_col0,#T_66c6c_row28_col0,#T_66c6c_row29_col0,#T_66c6c_row30_col0,#T_66c6c_row31_col0,#T_66c6c_row32_col0,#T_66c6c_row33_col0,#T_66c6c_row34_col0,#T_66c6c_row35_col0,#T_66c6c_row36_col0,#T_66c6c_row37_col0,#T_66c6c_row38_col0,#T_66c6c_row39_col0,#T_66c6c_row40_col0,#T_66c6c_row41_col0,#T_66c6c_row42_col0,#T_66c6c_row43_col0,#T_66c6c_row44_col0,#T_66c6c_row45_col0,#T_66c6c_row46_col0,#T_66c6c_row47_col0,#T_66c6c_row48_col0,#T_66c6c_row49_col0,#T_66c6c_row50_col0,#T_66c6c_row51_col0,#T_66c6c_row52_col0,#T_66c6c_row53_col0,#T_66c6c_row54_col0,#T_66c6c_row55_col0,#T_66c6c_row56_col0,#T_66c6c_row57_col0,#T_66c6c_row58_col0,#T_66c6c_row59_col0,#T_66c6c_row60_col0,#T_66c6c_row61_col0,#T_66c6c_row62_col0,#T_66c6c_row63_col0,#T_66c6c_row64_col0,#T_66c6c_row65_col0,#T_66c6c_row66_col0,#T_66c6c_row67_col0,#T_66c6c_row68_col0,#T_66c6c_row69_col0,#T_66c6c_row70_col0,#T_66c6c_row71_col0,#T_66c6c_row72_col0,#T_66c6c_row73_col0,#T_66c6c_row74_col0,#T_66c6c_row75_col0,#T_66c6c_row76_col0,#T_66c6c_row77_col0,#T_66c6c_row78_col0,#T_66c6c_row79_col0,#T_66c6c_row80_col0,#T_66c6c_row81_col0,#T_66c6c_row82_col0,#T_66c6c_row83_col0,#T_66c6c_row84_col0,#T_66c6c_row85_col0,#T_66c6c_row86_col0{\n",
       "            background-color:  #3b4cc0;\n",
       "            color:  #f1f1f1;\n",
       "        }</style><table id=\"T_66c6c_\" ><thead>    <tr>        <th class=\"blank level0\" ></th>        <th class=\"col_heading level0 col0\" >0</th>    </tr></thead><tbody>\n",
       "                <tr>\n",
       "                        <th id=\"T_66c6c_level0_row0\" class=\"row_heading level0 row0\" >secondary_cleaner.output.tail_sol</th>\n",
       "                        <td id=\"T_66c6c_row0_col0\" class=\"data row0 col0\" >8.990000</td>\n",
       "            </tr>\n",
       "            <tr>\n",
       "                        <th id=\"T_66c6c_level0_row1\" class=\"row_heading level0 row1\" >rougher.input.floatbank11_xanthate</th>\n",
       "                        <td id=\"T_66c6c_row1_col0\" class=\"data row1 col0\" >2.330000</td>\n",
       "            </tr>\n",
       "            <tr>\n",
       "                        <th id=\"T_66c6c_level0_row2\" class=\"row_heading level0 row2\" >rougher.state.floatbank10_e_air</th>\n",
       "                        <td id=\"T_66c6c_row2_col0\" class=\"data row2 col0\" >2.240000</td>\n",
       "            </tr>\n",
       "            <tr>\n",
       "                        <th id=\"T_66c6c_level0_row3\" class=\"row_heading level0 row3\" >primary_cleaner.output.concentrate_sol</th>\n",
       "                        <td id=\"T_66c6c_row3_col0\" class=\"data row3 col0\" >1.900000</td>\n",
       "            </tr>\n",
       "            <tr>\n",
       "                        <th id=\"T_66c6c_level0_row4\" class=\"row_heading level0 row4\" >secondary_cleaner.state.floatbank2_a_air</th>\n",
       "                        <td id=\"T_66c6c_row4_col0\" class=\"data row4 col0\" >1.130000</td>\n",
       "            </tr>\n",
       "            <tr>\n",
       "                        <th id=\"T_66c6c_level0_row5\" class=\"row_heading level0 row5\" >final.output.concentrate_sol</th>\n",
       "                        <td id=\"T_66c6c_row5_col0\" class=\"data row5 col0\" >1.090000</td>\n",
       "            </tr>\n",
       "            <tr>\n",
       "                        <th id=\"T_66c6c_level0_row6\" class=\"row_heading level0 row6\" >rougher.input.feed_size</th>\n",
       "                        <td id=\"T_66c6c_row6_col0\" class=\"data row6 col0\" >0.750000</td>\n",
       "            </tr>\n",
       "            <tr>\n",
       "                        <th id=\"T_66c6c_level0_row7\" class=\"row_heading level0 row7\" >primary_cleaner.output.concentrate_pb</th>\n",
       "                        <td id=\"T_66c6c_row7_col0\" class=\"data row7 col0\" >0.600000</td>\n",
       "            </tr>\n",
       "            <tr>\n",
       "                        <th id=\"T_66c6c_level0_row8\" class=\"row_heading level0 row8\" >primary_cleaner.input.xanthate</th>\n",
       "                        <td id=\"T_66c6c_row8_col0\" class=\"data row8 col0\" >0.540000</td>\n",
       "            </tr>\n",
       "            <tr>\n",
       "                        <th id=\"T_66c6c_level0_row9\" class=\"row_heading level0 row9\" >final.output.tail_pb</th>\n",
       "                        <td id=\"T_66c6c_row9_col0\" class=\"data row9 col0\" >0.520000</td>\n",
       "            </tr>\n",
       "            <tr>\n",
       "                        <th id=\"T_66c6c_level0_row10\" class=\"row_heading level0 row10\" >rougher.input.feed_pb</th>\n",
       "                        <td id=\"T_66c6c_row10_col0\" class=\"data row10 col0\" >0.510000</td>\n",
       "            </tr>\n",
       "            <tr>\n",
       "                        <th id=\"T_66c6c_level0_row11\" class=\"row_heading level0 row11\" >rougher.input.feed_sol</th>\n",
       "                        <td id=\"T_66c6c_row11_col0\" class=\"data row11 col0\" >0.510000</td>\n",
       "            </tr>\n",
       "            <tr>\n",
       "                        <th id=\"T_66c6c_level0_row12\" class=\"row_heading level0 row12\" >primary_cleaner.output.tail_sol</th>\n",
       "                        <td id=\"T_66c6c_row12_col0\" class=\"data row12 col0\" >0.320000</td>\n",
       "            </tr>\n",
       "            <tr>\n",
       "                        <th id=\"T_66c6c_level0_row13\" class=\"row_heading level0 row13\" >rougher.input.floatbank11_sulfate</th>\n",
       "                        <td id=\"T_66c6c_row13_col0\" class=\"data row13 col0\" >0.230000</td>\n",
       "            </tr>\n",
       "            <tr>\n",
       "                        <th id=\"T_66c6c_level0_row14\" class=\"row_heading level0 row14\" >primary_cleaner.input.depressant</th>\n",
       "                        <td id=\"T_66c6c_row14_col0\" class=\"data row14 col0\" >0.190000</td>\n",
       "            </tr>\n",
       "            <tr>\n",
       "                        <th id=\"T_66c6c_level0_row15\" class=\"row_heading level0 row15\" >rougher.input.floatbank10_sulfate</th>\n",
       "                        <td id=\"T_66c6c_row15_col0\" class=\"data row15 col0\" >0.170000</td>\n",
       "            </tr>\n",
       "            <tr>\n",
       "                        <th id=\"T_66c6c_level0_row16\" class=\"row_heading level0 row16\" >primary_cleaner.input.sulfate</th>\n",
       "                        <td id=\"T_66c6c_row16_col0\" class=\"data row16 col0\" >0.120000</td>\n",
       "            </tr>\n",
       "            <tr>\n",
       "                        <th id=\"T_66c6c_level0_row17\" class=\"row_heading level0 row17\" >rougher.output.concentrate_sol</th>\n",
       "                        <td id=\"T_66c6c_row17_col0\" class=\"data row17 col0\" >0.120000</td>\n",
       "            </tr>\n",
       "            <tr>\n",
       "                        <th id=\"T_66c6c_level0_row18\" class=\"row_heading level0 row18\" >secondary_cleaner.state.floatbank2_b_air</th>\n",
       "                        <td id=\"T_66c6c_row18_col0\" class=\"data row18 col0\" >0.120000</td>\n",
       "            </tr>\n",
       "            <tr>\n",
       "                        <th id=\"T_66c6c_level0_row19\" class=\"row_heading level0 row19\" >primary_cleaner.output.tail_pb</th>\n",
       "                        <td id=\"T_66c6c_row19_col0\" class=\"data row19 col0\" >0.110000</td>\n",
       "            </tr>\n",
       "            <tr>\n",
       "                        <th id=\"T_66c6c_level0_row20\" class=\"row_heading level0 row20\" >secondary_cleaner.state.floatbank3_a_air</th>\n",
       "                        <td id=\"T_66c6c_row20_col0\" class=\"data row20 col0\" >0.070000</td>\n",
       "            </tr>\n",
       "            <tr>\n",
       "                        <th id=\"T_66c6c_level0_row21\" class=\"row_heading level0 row21\" >secondary_cleaner.output.tail_pb</th>\n",
       "                        <td id=\"T_66c6c_row21_col0\" class=\"data row21 col0\" >0.060000</td>\n",
       "            </tr>\n",
       "            <tr>\n",
       "                        <th id=\"T_66c6c_level0_row22\" class=\"row_heading level0 row22\" >rougher.input.feed_rate</th>\n",
       "                        <td id=\"T_66c6c_row22_col0\" class=\"data row22 col0\" >0.060000</td>\n",
       "            </tr>\n",
       "            <tr>\n",
       "                        <th id=\"T_66c6c_level0_row23\" class=\"row_heading level0 row23\" >rougher.input.floatbank10_xanthate</th>\n",
       "                        <td id=\"T_66c6c_row23_col0\" class=\"data row23 col0\" >0.040000</td>\n",
       "            </tr>\n",
       "            <tr>\n",
       "                        <th id=\"T_66c6c_level0_row24\" class=\"row_heading level0 row24\" >final.output.tail_sol</th>\n",
       "                        <td id=\"T_66c6c_row24_col0\" class=\"data row24 col0\" >0.030000</td>\n",
       "            </tr>\n",
       "            <tr>\n",
       "                        <th id=\"T_66c6c_level0_row25\" class=\"row_heading level0 row25\" >secondary_cleaner.state.floatbank4_a_air</th>\n",
       "                        <td id=\"T_66c6c_row25_col0\" class=\"data row25 col0\" >0.030000</td>\n",
       "            </tr>\n",
       "            <tr>\n",
       "                        <th id=\"T_66c6c_level0_row26\" class=\"row_heading level0 row26\" >primary_cleaner.output.tail_ag</th>\n",
       "                        <td id=\"T_66c6c_row26_col0\" class=\"data row26 col0\" >0.020000</td>\n",
       "            </tr>\n",
       "            <tr>\n",
       "                        <th id=\"T_66c6c_level0_row27\" class=\"row_heading level0 row27\" >primary_cleaner.state.floatbank8_b_air</th>\n",
       "                        <td id=\"T_66c6c_row27_col0\" class=\"data row27 col0\" >0.020000</td>\n",
       "            </tr>\n",
       "            <tr>\n",
       "                        <th id=\"T_66c6c_level0_row28\" class=\"row_heading level0 row28\" >primary_cleaner.state.floatbank8_a_air</th>\n",
       "                        <td id=\"T_66c6c_row28_col0\" class=\"data row28 col0\" >0.020000</td>\n",
       "            </tr>\n",
       "            <tr>\n",
       "                        <th id=\"T_66c6c_level0_row29\" class=\"row_heading level0 row29\" >primary_cleaner.state.floatbank8_d_air</th>\n",
       "                        <td id=\"T_66c6c_row29_col0\" class=\"data row29 col0\" >0.020000</td>\n",
       "            </tr>\n",
       "            <tr>\n",
       "                        <th id=\"T_66c6c_level0_row30\" class=\"row_heading level0 row30\" >rougher.calculation.floatbank11_sulfate_to_au_feed</th>\n",
       "                        <td id=\"T_66c6c_row30_col0\" class=\"data row30 col0\" >0.010000</td>\n",
       "            </tr>\n",
       "            <tr>\n",
       "                        <th id=\"T_66c6c_level0_row31\" class=\"row_heading level0 row31\" >secondary_cleaner.output.tail_ag</th>\n",
       "                        <td id=\"T_66c6c_row31_col0\" class=\"data row31 col0\" >0.010000</td>\n",
       "            </tr>\n",
       "            <tr>\n",
       "                        <th id=\"T_66c6c_level0_row32\" class=\"row_heading level0 row32\" >primary_cleaner.state.floatbank8_c_air</th>\n",
       "                        <td id=\"T_66c6c_row32_col0\" class=\"data row32 col0\" >0.010000</td>\n",
       "            </tr>\n",
       "            <tr>\n",
       "                        <th id=\"T_66c6c_level0_row33\" class=\"row_heading level0 row33\" >rougher.calculation.sulfate_to_au_concentrate</th>\n",
       "                        <td id=\"T_66c6c_row33_col0\" class=\"data row33 col0\" >0.010000</td>\n",
       "            </tr>\n",
       "            <tr>\n",
       "                        <th id=\"T_66c6c_level0_row34\" class=\"row_heading level0 row34\" >secondary_cleaner.state.floatbank6_a_air</th>\n",
       "                        <td id=\"T_66c6c_row34_col0\" class=\"data row34 col0\" >0.010000</td>\n",
       "            </tr>\n",
       "            <tr>\n",
       "                        <th id=\"T_66c6c_level0_row35\" class=\"row_heading level0 row35\" >rougher.calculation.floatbank10_sulfate_to_au_feed</th>\n",
       "                        <td id=\"T_66c6c_row35_col0\" class=\"data row35 col0\" >0.010000</td>\n",
       "            </tr>\n",
       "            <tr>\n",
       "                        <th id=\"T_66c6c_level0_row36\" class=\"row_heading level0 row36\" >secondary_cleaner.state.floatbank2_b_level</th>\n",
       "                        <td id=\"T_66c6c_row36_col0\" class=\"data row36 col0\" >0.010000</td>\n",
       "            </tr>\n",
       "            <tr>\n",
       "                        <th id=\"T_66c6c_level0_row37\" class=\"row_heading level0 row37\" >secondary_cleaner.state.floatbank5_a_air</th>\n",
       "                        <td id=\"T_66c6c_row37_col0\" class=\"data row37 col0\" >0.010000</td>\n",
       "            </tr>\n",
       "            <tr>\n",
       "                        <th id=\"T_66c6c_level0_row38\" class=\"row_heading level0 row38\" >rougher.state.floatbank10_b_level</th>\n",
       "                        <td id=\"T_66c6c_row38_col0\" class=\"data row38 col0\" >0.010000</td>\n",
       "            </tr>\n",
       "            <tr>\n",
       "                        <th id=\"T_66c6c_level0_row39\" class=\"row_heading level0 row39\" >rougher.state.floatbank10_c_air</th>\n",
       "                        <td id=\"T_66c6c_row39_col0\" class=\"data row39 col0\" >0.010000</td>\n",
       "            </tr>\n",
       "            <tr>\n",
       "                        <th id=\"T_66c6c_level0_row40\" class=\"row_heading level0 row40\" >rougher.state.floatbank10_c_level</th>\n",
       "                        <td id=\"T_66c6c_row40_col0\" class=\"data row40 col0\" >0.010000</td>\n",
       "            </tr>\n",
       "            <tr>\n",
       "                        <th id=\"T_66c6c_level0_row41\" class=\"row_heading level0 row41\" >secondary_cleaner.state.floatbank5_b_level</th>\n",
       "                        <td id=\"T_66c6c_row41_col0\" class=\"data row41 col0\" >0.010000</td>\n",
       "            </tr>\n",
       "            <tr>\n",
       "                        <th id=\"T_66c6c_level0_row42\" class=\"row_heading level0 row42\" >secondary_cleaner.state.floatbank5_b_air</th>\n",
       "                        <td id=\"T_66c6c_row42_col0\" class=\"data row42 col0\" >0.010000</td>\n",
       "            </tr>\n",
       "            <tr>\n",
       "                        <th id=\"T_66c6c_level0_row43\" class=\"row_heading level0 row43\" >secondary_cleaner.state.floatbank5_a_level</th>\n",
       "                        <td id=\"T_66c6c_row43_col0\" class=\"data row43 col0\" >0.010000</td>\n",
       "            </tr>\n",
       "            <tr>\n",
       "                        <th id=\"T_66c6c_level0_row44\" class=\"row_heading level0 row44\" >secondary_cleaner.state.floatbank4_b_level</th>\n",
       "                        <td id=\"T_66c6c_row44_col0\" class=\"data row44 col0\" >0.010000</td>\n",
       "            </tr>\n",
       "            <tr>\n",
       "                        <th id=\"T_66c6c_level0_row45\" class=\"row_heading level0 row45\" >secondary_cleaner.state.floatbank4_b_air</th>\n",
       "                        <td id=\"T_66c6c_row45_col0\" class=\"data row45 col0\" >0.010000</td>\n",
       "            </tr>\n",
       "            <tr>\n",
       "                        <th id=\"T_66c6c_level0_row46\" class=\"row_heading level0 row46\" >secondary_cleaner.state.floatbank4_a_level</th>\n",
       "                        <td id=\"T_66c6c_row46_col0\" class=\"data row46 col0\" >0.010000</td>\n",
       "            </tr>\n",
       "            <tr>\n",
       "                        <th id=\"T_66c6c_level0_row47\" class=\"row_heading level0 row47\" >secondary_cleaner.state.floatbank3_b_level</th>\n",
       "                        <td id=\"T_66c6c_row47_col0\" class=\"data row47 col0\" >0.010000</td>\n",
       "            </tr>\n",
       "            <tr>\n",
       "                        <th id=\"T_66c6c_level0_row48\" class=\"row_heading level0 row48\" >secondary_cleaner.state.floatbank2_a_level</th>\n",
       "                        <td id=\"T_66c6c_row48_col0\" class=\"data row48 col0\" >0.010000</td>\n",
       "            </tr>\n",
       "            <tr>\n",
       "                        <th id=\"T_66c6c_level0_row49\" class=\"row_heading level0 row49\" >secondary_cleaner.state.floatbank3_b_air</th>\n",
       "                        <td id=\"T_66c6c_row49_col0\" class=\"data row49 col0\" >0.010000</td>\n",
       "            </tr>\n",
       "            <tr>\n",
       "                        <th id=\"T_66c6c_level0_row50\" class=\"row_heading level0 row50\" >rougher.state.floatbank10_a_level</th>\n",
       "                        <td id=\"T_66c6c_row50_col0\" class=\"data row50 col0\" >0.010000</td>\n",
       "            </tr>\n",
       "            <tr>\n",
       "                        <th id=\"T_66c6c_level0_row51\" class=\"row_heading level0 row51\" >secondary_cleaner.state.floatbank3_a_level</th>\n",
       "                        <td id=\"T_66c6c_row51_col0\" class=\"data row51 col0\" >0.010000</td>\n",
       "            </tr>\n",
       "            <tr>\n",
       "                        <th id=\"T_66c6c_level0_row52\" class=\"row_heading level0 row52\" >rougher.state.floatbank10_b_air</th>\n",
       "                        <td id=\"T_66c6c_row52_col0\" class=\"data row52 col0\" >0.010000</td>\n",
       "            </tr>\n",
       "            <tr>\n",
       "                        <th id=\"T_66c6c_level0_row53\" class=\"row_heading level0 row53\" >secondary_cleaner.state.floatbank6_a_level</th>\n",
       "                        <td id=\"T_66c6c_row53_col0\" class=\"data row53 col0\" >0.010000</td>\n",
       "            </tr>\n",
       "            <tr>\n",
       "                        <th id=\"T_66c6c_level0_row54\" class=\"row_heading level0 row54\" >rougher.state.floatbank10_a_air</th>\n",
       "                        <td id=\"T_66c6c_row54_col0\" class=\"data row54 col0\" >0.010000</td>\n",
       "            </tr>\n",
       "            <tr>\n",
       "                        <th id=\"T_66c6c_level0_row55\" class=\"row_heading level0 row55\" >final.output.tail_ag</th>\n",
       "                        <td id=\"T_66c6c_row55_col0\" class=\"data row55 col0\" >0.010000</td>\n",
       "            </tr>\n",
       "            <tr>\n",
       "                        <th id=\"T_66c6c_level0_row56\" class=\"row_heading level0 row56\" >final.output.concentrate_ag</th>\n",
       "                        <td id=\"T_66c6c_row56_col0\" class=\"data row56 col0\" >0.010000</td>\n",
       "            </tr>\n",
       "            <tr>\n",
       "                        <th id=\"T_66c6c_level0_row57\" class=\"row_heading level0 row57\" >primary_cleaner.state.floatbank8_c_level</th>\n",
       "                        <td id=\"T_66c6c_row57_col0\" class=\"data row57 col0\" >0.010000</td>\n",
       "            </tr>\n",
       "            <tr>\n",
       "                        <th id=\"T_66c6c_level0_row58\" class=\"row_heading level0 row58\" >primary_cleaner.state.floatbank8_b_level</th>\n",
       "                        <td id=\"T_66c6c_row58_col0\" class=\"data row58 col0\" >0.010000</td>\n",
       "            </tr>\n",
       "            <tr>\n",
       "                        <th id=\"T_66c6c_level0_row59\" class=\"row_heading level0 row59\" >primary_cleaner.state.floatbank8_a_level</th>\n",
       "                        <td id=\"T_66c6c_row59_col0\" class=\"data row59 col0\" >0.010000</td>\n",
       "            </tr>\n",
       "            <tr>\n",
       "                        <th id=\"T_66c6c_level0_row60\" class=\"row_heading level0 row60\" >primary_cleaner.state.floatbank8_d_level</th>\n",
       "                        <td id=\"T_66c6c_row60_col0\" class=\"data row60 col0\" >0.010000</td>\n",
       "            </tr>\n",
       "            <tr>\n",
       "                        <th id=\"T_66c6c_level0_row61\" class=\"row_heading level0 row61\" >rougher.output.tail_ag</th>\n",
       "                        <td id=\"T_66c6c_row61_col0\" class=\"data row61 col0\" >0.010000</td>\n",
       "            </tr>\n",
       "            <tr>\n",
       "                        <th id=\"T_66c6c_level0_row62\" class=\"row_heading level0 row62\" >final.output.concentrate_pb</th>\n",
       "                        <td id=\"T_66c6c_row62_col0\" class=\"data row62 col0\" >0.010000</td>\n",
       "            </tr>\n",
       "            <tr>\n",
       "                        <th id=\"T_66c6c_level0_row63\" class=\"row_heading level0 row63\" >final.output.tail_au</th>\n",
       "                        <td id=\"T_66c6c_row63_col0\" class=\"data row63 col0\" >0.000000</td>\n",
       "            </tr>\n",
       "            <tr>\n",
       "                        <th id=\"T_66c6c_level0_row64\" class=\"row_heading level0 row64\" >rougher.calculation.au_pb_ratio</th>\n",
       "                        <td id=\"T_66c6c_row64_col0\" class=\"data row64 col0\" >0.000000</td>\n",
       "            </tr>\n",
       "            <tr>\n",
       "                        <th id=\"T_66c6c_level0_row65\" class=\"row_heading level0 row65\" >primary_cleaner.output.concentrate_ag</th>\n",
       "                        <td id=\"T_66c6c_row65_col0\" class=\"data row65 col0\" >0.000000</td>\n",
       "            </tr>\n",
       "            <tr>\n",
       "                        <th id=\"T_66c6c_level0_row66\" class=\"row_heading level0 row66\" >primary_cleaner.output.concentrate_au</th>\n",
       "                        <td id=\"T_66c6c_row66_col0\" class=\"data row66 col0\" >0.000000</td>\n",
       "            </tr>\n",
       "            <tr>\n",
       "                        <th id=\"T_66c6c_level0_row67\" class=\"row_heading level0 row67\" >primary_cleaner.output.tail_au</th>\n",
       "                        <td id=\"T_66c6c_row67_col0\" class=\"data row67 col0\" >0.000000</td>\n",
       "            </tr>\n",
       "            <tr>\n",
       "                        <th id=\"T_66c6c_level0_row68\" class=\"row_heading level0 row68\" >final.output.recovery</th>\n",
       "                        <td id=\"T_66c6c_row68_col0\" class=\"data row68 col0\" >0.000000</td>\n",
       "            </tr>\n",
       "            <tr>\n",
       "                        <th id=\"T_66c6c_level0_row69\" class=\"row_heading level0 row69\" >final.output.concentrate_au</th>\n",
       "                        <td id=\"T_66c6c_row69_col0\" class=\"data row69 col0\" >0.000000</td>\n",
       "            </tr>\n",
       "            <tr>\n",
       "                        <th id=\"T_66c6c_level0_row70\" class=\"row_heading level0 row70\" >primary_cleaner.input.feed_size</th>\n",
       "                        <td id=\"T_66c6c_row70_col0\" class=\"data row70 col0\" >0.000000</td>\n",
       "            </tr>\n",
       "            <tr>\n",
       "                        <th id=\"T_66c6c_level0_row71\" class=\"row_heading level0 row71\" >rougher.input.feed_au</th>\n",
       "                        <td id=\"T_66c6c_row71_col0\" class=\"data row71 col0\" >0.000000</td>\n",
       "            </tr>\n",
       "            <tr>\n",
       "                        <th id=\"T_66c6c_level0_row72\" class=\"row_heading level0 row72\" >rougher.input.feed_ag</th>\n",
       "                        <td id=\"T_66c6c_row72_col0\" class=\"data row72 col0\" >0.000000</td>\n",
       "            </tr>\n",
       "            <tr>\n",
       "                        <th id=\"T_66c6c_level0_row73\" class=\"row_heading level0 row73\" >rougher.output.tail_au</th>\n",
       "                        <td id=\"T_66c6c_row73_col0\" class=\"data row73 col0\" >0.000000</td>\n",
       "            </tr>\n",
       "            <tr>\n",
       "                        <th id=\"T_66c6c_level0_row74\" class=\"row_heading level0 row74\" >secondary_cleaner.output.tail_au</th>\n",
       "                        <td id=\"T_66c6c_row74_col0\" class=\"data row74 col0\" >0.000000</td>\n",
       "            </tr>\n",
       "            <tr>\n",
       "                        <th id=\"T_66c6c_level0_row75\" class=\"row_heading level0 row75\" >rougher.output.concentrate_ag</th>\n",
       "                        <td id=\"T_66c6c_row75_col0\" class=\"data row75 col0\" >0.000000</td>\n",
       "            </tr>\n",
       "            <tr>\n",
       "                        <th id=\"T_66c6c_level0_row76\" class=\"row_heading level0 row76\" >rougher.output.concentrate_pb</th>\n",
       "                        <td id=\"T_66c6c_row76_col0\" class=\"data row76 col0\" >0.000000</td>\n",
       "            </tr>\n",
       "            <tr>\n",
       "                        <th id=\"T_66c6c_level0_row77\" class=\"row_heading level0 row77\" >rougher.output.concentrate_au</th>\n",
       "                        <td id=\"T_66c6c_row77_col0\" class=\"data row77 col0\" >0.000000</td>\n",
       "            </tr>\n",
       "            <tr>\n",
       "                        <th id=\"T_66c6c_level0_row78\" class=\"row_heading level0 row78\" >rougher.state.floatbank10_f_level</th>\n",
       "                        <td id=\"T_66c6c_row78_col0\" class=\"data row78 col0\" >0.000000</td>\n",
       "            </tr>\n",
       "            <tr>\n",
       "                        <th id=\"T_66c6c_level0_row79\" class=\"row_heading level0 row79\" >rougher.state.floatbank10_f_air</th>\n",
       "                        <td id=\"T_66c6c_row79_col0\" class=\"data row79 col0\" >0.000000</td>\n",
       "            </tr>\n",
       "            <tr>\n",
       "                        <th id=\"T_66c6c_level0_row80\" class=\"row_heading level0 row80\" >rougher.state.floatbank10_e_level</th>\n",
       "                        <td id=\"T_66c6c_row80_col0\" class=\"data row80 col0\" >0.000000</td>\n",
       "            </tr>\n",
       "            <tr>\n",
       "                        <th id=\"T_66c6c_level0_row81\" class=\"row_heading level0 row81\" >rougher.output.recovery</th>\n",
       "                        <td id=\"T_66c6c_row81_col0\" class=\"data row81 col0\" >0.000000</td>\n",
       "            </tr>\n",
       "            <tr>\n",
       "                        <th id=\"T_66c6c_level0_row82\" class=\"row_heading level0 row82\" >rougher.state.floatbank10_d_level</th>\n",
       "                        <td id=\"T_66c6c_row82_col0\" class=\"data row82 col0\" >0.000000</td>\n",
       "            </tr>\n",
       "            <tr>\n",
       "                        <th id=\"T_66c6c_level0_row83\" class=\"row_heading level0 row83\" >rougher.state.floatbank10_d_air</th>\n",
       "                        <td id=\"T_66c6c_row83_col0\" class=\"data row83 col0\" >0.000000</td>\n",
       "            </tr>\n",
       "            <tr>\n",
       "                        <th id=\"T_66c6c_level0_row84\" class=\"row_heading level0 row84\" >rougher.output.tail_pb</th>\n",
       "                        <td id=\"T_66c6c_row84_col0\" class=\"data row84 col0\" >0.000000</td>\n",
       "            </tr>\n",
       "            <tr>\n",
       "                        <th id=\"T_66c6c_level0_row85\" class=\"row_heading level0 row85\" >rougher.output.tail_sol</th>\n",
       "                        <td id=\"T_66c6c_row85_col0\" class=\"data row85 col0\" >0.000000</td>\n",
       "            </tr>\n",
       "            <tr>\n",
       "                        <th id=\"T_66c6c_level0_row86\" class=\"row_heading level0 row86\" >date</th>\n",
       "                        <td id=\"T_66c6c_row86_col0\" class=\"data row86 col0\" >0.000000</td>\n",
       "            </tr>\n",
       "    </tbody></table>"
      ],
      "text/plain": [
       "<pandas.io.formats.style.Styler at 0x7f6608fb8640>"
      ]
     },
     "execution_count": 12,
     "metadata": {},
     "output_type": "execute_result"
    }
   ],
   "source": [
    "pd.DataFrame(round(((df_full.isna().mean()*100).sort_values(ascending=False)),2)).style.background_gradient('coolwarm') "
   ]
  },
  {
   "cell_type": "markdown",
   "metadata": {},
   "source": [
    "Как мы видим, в каждом датасете присутствует большое количество пропусков. При их удалении, мы можем потерять большую часть данных. Поэтому, необходимо заменить пропущенные значения применив  метод fillna(method=\"ffill\")"
   ]
  },
  {
   "cell_type": "code",
   "execution_count": 13,
   "metadata": {
    "scrolled": true
   },
   "outputs": [],
   "source": [
    "df_full = df_full.fillna(method=\"ffill\")\n",
    "df_test = df_test.fillna(method=\"ffill\")\n",
    "df_train = df_train.fillna(method=\"ffill\")"
   ]
  },
  {
   "cell_type": "code",
   "execution_count": 14,
   "metadata": {},
   "outputs": [
    {
     "data": {
      "text/html": [
       "<style  type=\"text/css\" >\n",
       "#T_53f8e_row0_col0,#T_53f8e_row1_col0,#T_53f8e_row2_col0,#T_53f8e_row3_col0,#T_53f8e_row4_col0,#T_53f8e_row5_col0,#T_53f8e_row6_col0,#T_53f8e_row7_col0,#T_53f8e_row8_col0,#T_53f8e_row9_col0,#T_53f8e_row10_col0,#T_53f8e_row11_col0,#T_53f8e_row12_col0,#T_53f8e_row13_col0,#T_53f8e_row14_col0,#T_53f8e_row15_col0,#T_53f8e_row16_col0,#T_53f8e_row17_col0,#T_53f8e_row18_col0,#T_53f8e_row19_col0,#T_53f8e_row20_col0,#T_53f8e_row21_col0,#T_53f8e_row22_col0,#T_53f8e_row23_col0,#T_53f8e_row24_col0,#T_53f8e_row25_col0,#T_53f8e_row26_col0,#T_53f8e_row27_col0,#T_53f8e_row28_col0,#T_53f8e_row29_col0,#T_53f8e_row30_col0,#T_53f8e_row31_col0,#T_53f8e_row32_col0,#T_53f8e_row33_col0,#T_53f8e_row34_col0,#T_53f8e_row35_col0,#T_53f8e_row36_col0,#T_53f8e_row37_col0,#T_53f8e_row38_col0,#T_53f8e_row39_col0,#T_53f8e_row40_col0,#T_53f8e_row41_col0,#T_53f8e_row42_col0,#T_53f8e_row43_col0,#T_53f8e_row44_col0,#T_53f8e_row45_col0,#T_53f8e_row46_col0,#T_53f8e_row47_col0,#T_53f8e_row48_col0,#T_53f8e_row49_col0,#T_53f8e_row50_col0,#T_53f8e_row51_col0,#T_53f8e_row52_col0,#T_53f8e_row53_col0,#T_53f8e_row54_col0,#T_53f8e_row55_col0,#T_53f8e_row56_col0,#T_53f8e_row57_col0,#T_53f8e_row58_col0,#T_53f8e_row59_col0,#T_53f8e_row60_col0,#T_53f8e_row61_col0,#T_53f8e_row62_col0,#T_53f8e_row63_col0,#T_53f8e_row64_col0,#T_53f8e_row65_col0,#T_53f8e_row66_col0,#T_53f8e_row67_col0,#T_53f8e_row68_col0,#T_53f8e_row69_col0,#T_53f8e_row70_col0,#T_53f8e_row71_col0,#T_53f8e_row72_col0,#T_53f8e_row73_col0,#T_53f8e_row74_col0,#T_53f8e_row75_col0,#T_53f8e_row76_col0,#T_53f8e_row77_col0,#T_53f8e_row78_col0,#T_53f8e_row79_col0,#T_53f8e_row80_col0,#T_53f8e_row81_col0,#T_53f8e_row82_col0,#T_53f8e_row83_col0,#T_53f8e_row84_col0,#T_53f8e_row85_col0,#T_53f8e_row86_col0{\n",
       "            background-color:  #3b4cc0;\n",
       "            color:  #f1f1f1;\n",
       "        }</style><table id=\"T_53f8e_\" ><thead>    <tr>        <th class=\"blank level0\" ></th>        <th class=\"col_heading level0 col0\" >0</th>    </tr></thead><tbody>\n",
       "                <tr>\n",
       "                        <th id=\"T_53f8e_level0_row0\" class=\"row_heading level0 row0\" >date</th>\n",
       "                        <td id=\"T_53f8e_row0_col0\" class=\"data row0 col0\" >0.000000</td>\n",
       "            </tr>\n",
       "            <tr>\n",
       "                        <th id=\"T_53f8e_level0_row1\" class=\"row_heading level0 row1\" >rougher.state.floatbank10_b_air</th>\n",
       "                        <td id=\"T_53f8e_row1_col0\" class=\"data row1 col0\" >0.000000</td>\n",
       "            </tr>\n",
       "            <tr>\n",
       "                        <th id=\"T_53f8e_level0_row2\" class=\"row_heading level0 row2\" >rougher.state.floatbank10_f_air</th>\n",
       "                        <td id=\"T_53f8e_row2_col0\" class=\"data row2 col0\" >0.000000</td>\n",
       "            </tr>\n",
       "            <tr>\n",
       "                        <th id=\"T_53f8e_level0_row3\" class=\"row_heading level0 row3\" >rougher.state.floatbank10_e_level</th>\n",
       "                        <td id=\"T_53f8e_row3_col0\" class=\"data row3 col0\" >0.000000</td>\n",
       "            </tr>\n",
       "            <tr>\n",
       "                        <th id=\"T_53f8e_level0_row4\" class=\"row_heading level0 row4\" >rougher.state.floatbank10_e_air</th>\n",
       "                        <td id=\"T_53f8e_row4_col0\" class=\"data row4 col0\" >0.000000</td>\n",
       "            </tr>\n",
       "            <tr>\n",
       "                        <th id=\"T_53f8e_level0_row5\" class=\"row_heading level0 row5\" >rougher.state.floatbank10_d_level</th>\n",
       "                        <td id=\"T_53f8e_row5_col0\" class=\"data row5 col0\" >0.000000</td>\n",
       "            </tr>\n",
       "            <tr>\n",
       "                        <th id=\"T_53f8e_level0_row6\" class=\"row_heading level0 row6\" >rougher.state.floatbank10_d_air</th>\n",
       "                        <td id=\"T_53f8e_row6_col0\" class=\"data row6 col0\" >0.000000</td>\n",
       "            </tr>\n",
       "            <tr>\n",
       "                        <th id=\"T_53f8e_level0_row7\" class=\"row_heading level0 row7\" >rougher.state.floatbank10_c_level</th>\n",
       "                        <td id=\"T_53f8e_row7_col0\" class=\"data row7 col0\" >0.000000</td>\n",
       "            </tr>\n",
       "            <tr>\n",
       "                        <th id=\"T_53f8e_level0_row8\" class=\"row_heading level0 row8\" >rougher.state.floatbank10_c_air</th>\n",
       "                        <td id=\"T_53f8e_row8_col0\" class=\"data row8 col0\" >0.000000</td>\n",
       "            </tr>\n",
       "            <tr>\n",
       "                        <th id=\"T_53f8e_level0_row9\" class=\"row_heading level0 row9\" >rougher.state.floatbank10_b_level</th>\n",
       "                        <td id=\"T_53f8e_row9_col0\" class=\"data row9 col0\" >0.000000</td>\n",
       "            </tr>\n",
       "            <tr>\n",
       "                        <th id=\"T_53f8e_level0_row10\" class=\"row_heading level0 row10\" >rougher.state.floatbank10_a_level</th>\n",
       "                        <td id=\"T_53f8e_row10_col0\" class=\"data row10 col0\" >0.000000</td>\n",
       "            </tr>\n",
       "            <tr>\n",
       "                        <th id=\"T_53f8e_level0_row11\" class=\"row_heading level0 row11\" >secondary_cleaner.output.tail_ag</th>\n",
       "                        <td id=\"T_53f8e_row11_col0\" class=\"data row11 col0\" >0.000000</td>\n",
       "            </tr>\n",
       "            <tr>\n",
       "                        <th id=\"T_53f8e_level0_row12\" class=\"row_heading level0 row12\" >rougher.state.floatbank10_a_air</th>\n",
       "                        <td id=\"T_53f8e_row12_col0\" class=\"data row12 col0\" >0.000000</td>\n",
       "            </tr>\n",
       "            <tr>\n",
       "                        <th id=\"T_53f8e_level0_row13\" class=\"row_heading level0 row13\" >rougher.output.tail_au</th>\n",
       "                        <td id=\"T_53f8e_row13_col0\" class=\"data row13 col0\" >0.000000</td>\n",
       "            </tr>\n",
       "            <tr>\n",
       "                        <th id=\"T_53f8e_level0_row14\" class=\"row_heading level0 row14\" >rougher.output.tail_sol</th>\n",
       "                        <td id=\"T_53f8e_row14_col0\" class=\"data row14 col0\" >0.000000</td>\n",
       "            </tr>\n",
       "            <tr>\n",
       "                        <th id=\"T_53f8e_level0_row15\" class=\"row_heading level0 row15\" >rougher.output.tail_pb</th>\n",
       "                        <td id=\"T_53f8e_row15_col0\" class=\"data row15 col0\" >0.000000</td>\n",
       "            </tr>\n",
       "            <tr>\n",
       "                        <th id=\"T_53f8e_level0_row16\" class=\"row_heading level0 row16\" >rougher.output.tail_ag</th>\n",
       "                        <td id=\"T_53f8e_row16_col0\" class=\"data row16 col0\" >0.000000</td>\n",
       "            </tr>\n",
       "            <tr>\n",
       "                        <th id=\"T_53f8e_level0_row17\" class=\"row_heading level0 row17\" >rougher.output.recovery</th>\n",
       "                        <td id=\"T_53f8e_row17_col0\" class=\"data row17 col0\" >0.000000</td>\n",
       "            </tr>\n",
       "            <tr>\n",
       "                        <th id=\"T_53f8e_level0_row18\" class=\"row_heading level0 row18\" >rougher.output.concentrate_au</th>\n",
       "                        <td id=\"T_53f8e_row18_col0\" class=\"data row18 col0\" >0.000000</td>\n",
       "            </tr>\n",
       "            <tr>\n",
       "                        <th id=\"T_53f8e_level0_row19\" class=\"row_heading level0 row19\" >rougher.output.concentrate_sol</th>\n",
       "                        <td id=\"T_53f8e_row19_col0\" class=\"data row19 col0\" >0.000000</td>\n",
       "            </tr>\n",
       "            <tr>\n",
       "                        <th id=\"T_53f8e_level0_row20\" class=\"row_heading level0 row20\" >rougher.state.floatbank10_f_level</th>\n",
       "                        <td id=\"T_53f8e_row20_col0\" class=\"data row20 col0\" >0.000000</td>\n",
       "            </tr>\n",
       "            <tr>\n",
       "                        <th id=\"T_53f8e_level0_row21\" class=\"row_heading level0 row21\" >secondary_cleaner.output.tail_pb</th>\n",
       "                        <td id=\"T_53f8e_row21_col0\" class=\"data row21 col0\" >0.000000</td>\n",
       "            </tr>\n",
       "            <tr>\n",
       "                        <th id=\"T_53f8e_level0_row22\" class=\"row_heading level0 row22\" >rougher.output.concentrate_ag</th>\n",
       "                        <td id=\"T_53f8e_row22_col0\" class=\"data row22 col0\" >0.000000</td>\n",
       "            </tr>\n",
       "            <tr>\n",
       "                        <th id=\"T_53f8e_level0_row23\" class=\"row_heading level0 row23\" >secondary_cleaner.state.floatbank4_a_air</th>\n",
       "                        <td id=\"T_53f8e_row23_col0\" class=\"data row23 col0\" >0.000000</td>\n",
       "            </tr>\n",
       "            <tr>\n",
       "                        <th id=\"T_53f8e_level0_row24\" class=\"row_heading level0 row24\" >secondary_cleaner.state.floatbank6_a_air</th>\n",
       "                        <td id=\"T_53f8e_row24_col0\" class=\"data row24 col0\" >0.000000</td>\n",
       "            </tr>\n",
       "            <tr>\n",
       "                        <th id=\"T_53f8e_level0_row25\" class=\"row_heading level0 row25\" >secondary_cleaner.state.floatbank5_b_level</th>\n",
       "                        <td id=\"T_53f8e_row25_col0\" class=\"data row25 col0\" >0.000000</td>\n",
       "            </tr>\n",
       "            <tr>\n",
       "                        <th id=\"T_53f8e_level0_row26\" class=\"row_heading level0 row26\" >secondary_cleaner.state.floatbank5_b_air</th>\n",
       "                        <td id=\"T_53f8e_row26_col0\" class=\"data row26 col0\" >0.000000</td>\n",
       "            </tr>\n",
       "            <tr>\n",
       "                        <th id=\"T_53f8e_level0_row27\" class=\"row_heading level0 row27\" >secondary_cleaner.state.floatbank5_a_level</th>\n",
       "                        <td id=\"T_53f8e_row27_col0\" class=\"data row27 col0\" >0.000000</td>\n",
       "            </tr>\n",
       "            <tr>\n",
       "                        <th id=\"T_53f8e_level0_row28\" class=\"row_heading level0 row28\" >secondary_cleaner.state.floatbank5_a_air</th>\n",
       "                        <td id=\"T_53f8e_row28_col0\" class=\"data row28 col0\" >0.000000</td>\n",
       "            </tr>\n",
       "            <tr>\n",
       "                        <th id=\"T_53f8e_level0_row29\" class=\"row_heading level0 row29\" >secondary_cleaner.state.floatbank4_b_level</th>\n",
       "                        <td id=\"T_53f8e_row29_col0\" class=\"data row29 col0\" >0.000000</td>\n",
       "            </tr>\n",
       "            <tr>\n",
       "                        <th id=\"T_53f8e_level0_row30\" class=\"row_heading level0 row30\" >secondary_cleaner.state.floatbank4_b_air</th>\n",
       "                        <td id=\"T_53f8e_row30_col0\" class=\"data row30 col0\" >0.000000</td>\n",
       "            </tr>\n",
       "            <tr>\n",
       "                        <th id=\"T_53f8e_level0_row31\" class=\"row_heading level0 row31\" >secondary_cleaner.state.floatbank4_a_level</th>\n",
       "                        <td id=\"T_53f8e_row31_col0\" class=\"data row31 col0\" >0.000000</td>\n",
       "            </tr>\n",
       "            <tr>\n",
       "                        <th id=\"T_53f8e_level0_row32\" class=\"row_heading level0 row32\" >secondary_cleaner.state.floatbank3_b_level</th>\n",
       "                        <td id=\"T_53f8e_row32_col0\" class=\"data row32 col0\" >0.000000</td>\n",
       "            </tr>\n",
       "            <tr>\n",
       "                        <th id=\"T_53f8e_level0_row33\" class=\"row_heading level0 row33\" >secondary_cleaner.output.tail_sol</th>\n",
       "                        <td id=\"T_53f8e_row33_col0\" class=\"data row33 col0\" >0.000000</td>\n",
       "            </tr>\n",
       "            <tr>\n",
       "                        <th id=\"T_53f8e_level0_row34\" class=\"row_heading level0 row34\" >secondary_cleaner.state.floatbank3_b_air</th>\n",
       "                        <td id=\"T_53f8e_row34_col0\" class=\"data row34 col0\" >0.000000</td>\n",
       "            </tr>\n",
       "            <tr>\n",
       "                        <th id=\"T_53f8e_level0_row35\" class=\"row_heading level0 row35\" >secondary_cleaner.state.floatbank3_a_level</th>\n",
       "                        <td id=\"T_53f8e_row35_col0\" class=\"data row35 col0\" >0.000000</td>\n",
       "            </tr>\n",
       "            <tr>\n",
       "                        <th id=\"T_53f8e_level0_row36\" class=\"row_heading level0 row36\" >secondary_cleaner.state.floatbank3_a_air</th>\n",
       "                        <td id=\"T_53f8e_row36_col0\" class=\"data row36 col0\" >0.000000</td>\n",
       "            </tr>\n",
       "            <tr>\n",
       "                        <th id=\"T_53f8e_level0_row37\" class=\"row_heading level0 row37\" >secondary_cleaner.state.floatbank2_b_level</th>\n",
       "                        <td id=\"T_53f8e_row37_col0\" class=\"data row37 col0\" >0.000000</td>\n",
       "            </tr>\n",
       "            <tr>\n",
       "                        <th id=\"T_53f8e_level0_row38\" class=\"row_heading level0 row38\" >secondary_cleaner.state.floatbank2_b_air</th>\n",
       "                        <td id=\"T_53f8e_row38_col0\" class=\"data row38 col0\" >0.000000</td>\n",
       "            </tr>\n",
       "            <tr>\n",
       "                        <th id=\"T_53f8e_level0_row39\" class=\"row_heading level0 row39\" >secondary_cleaner.state.floatbank2_a_level</th>\n",
       "                        <td id=\"T_53f8e_row39_col0\" class=\"data row39 col0\" >0.000000</td>\n",
       "            </tr>\n",
       "            <tr>\n",
       "                        <th id=\"T_53f8e_level0_row40\" class=\"row_heading level0 row40\" >secondary_cleaner.state.floatbank2_a_air</th>\n",
       "                        <td id=\"T_53f8e_row40_col0\" class=\"data row40 col0\" >0.000000</td>\n",
       "            </tr>\n",
       "            <tr>\n",
       "                        <th id=\"T_53f8e_level0_row41\" class=\"row_heading level0 row41\" >secondary_cleaner.output.tail_au</th>\n",
       "                        <td id=\"T_53f8e_row41_col0\" class=\"data row41 col0\" >0.000000</td>\n",
       "            </tr>\n",
       "            <tr>\n",
       "                        <th id=\"T_53f8e_level0_row42\" class=\"row_heading level0 row42\" >rougher.output.concentrate_pb</th>\n",
       "                        <td id=\"T_53f8e_row42_col0\" class=\"data row42 col0\" >0.000000</td>\n",
       "            </tr>\n",
       "            <tr>\n",
       "                        <th id=\"T_53f8e_level0_row43\" class=\"row_heading level0 row43\" >rougher.input.floatbank11_xanthate</th>\n",
       "                        <td id=\"T_53f8e_row43_col0\" class=\"data row43 col0\" >0.000000</td>\n",
       "            </tr>\n",
       "            <tr>\n",
       "                        <th id=\"T_53f8e_level0_row44\" class=\"row_heading level0 row44\" >final.output.concentrate_ag</th>\n",
       "                        <td id=\"T_53f8e_row44_col0\" class=\"data row44 col0\" >0.000000</td>\n",
       "            </tr>\n",
       "            <tr>\n",
       "                        <th id=\"T_53f8e_level0_row45\" class=\"row_heading level0 row45\" >primary_cleaner.input.depressant</th>\n",
       "                        <td id=\"T_53f8e_row45_col0\" class=\"data row45 col0\" >0.000000</td>\n",
       "            </tr>\n",
       "            <tr>\n",
       "                        <th id=\"T_53f8e_level0_row46\" class=\"row_heading level0 row46\" >primary_cleaner.output.tail_pb</th>\n",
       "                        <td id=\"T_53f8e_row46_col0\" class=\"data row46 col0\" >0.000000</td>\n",
       "            </tr>\n",
       "            <tr>\n",
       "                        <th id=\"T_53f8e_level0_row47\" class=\"row_heading level0 row47\" >primary_cleaner.output.tail_ag</th>\n",
       "                        <td id=\"T_53f8e_row47_col0\" class=\"data row47 col0\" >0.000000</td>\n",
       "            </tr>\n",
       "            <tr>\n",
       "                        <th id=\"T_53f8e_level0_row48\" class=\"row_heading level0 row48\" >primary_cleaner.output.concentrate_au</th>\n",
       "                        <td id=\"T_53f8e_row48_col0\" class=\"data row48 col0\" >0.000000</td>\n",
       "            </tr>\n",
       "            <tr>\n",
       "                        <th id=\"T_53f8e_level0_row49\" class=\"row_heading level0 row49\" >primary_cleaner.output.concentrate_sol</th>\n",
       "                        <td id=\"T_53f8e_row49_col0\" class=\"data row49 col0\" >0.000000</td>\n",
       "            </tr>\n",
       "            <tr>\n",
       "                        <th id=\"T_53f8e_level0_row50\" class=\"row_heading level0 row50\" >primary_cleaner.output.concentrate_pb</th>\n",
       "                        <td id=\"T_53f8e_row50_col0\" class=\"data row50 col0\" >0.000000</td>\n",
       "            </tr>\n",
       "            <tr>\n",
       "                        <th id=\"T_53f8e_level0_row51\" class=\"row_heading level0 row51\" >primary_cleaner.output.concentrate_ag</th>\n",
       "                        <td id=\"T_53f8e_row51_col0\" class=\"data row51 col0\" >0.000000</td>\n",
       "            </tr>\n",
       "            <tr>\n",
       "                        <th id=\"T_53f8e_level0_row52\" class=\"row_heading level0 row52\" >primary_cleaner.input.xanthate</th>\n",
       "                        <td id=\"T_53f8e_row52_col0\" class=\"data row52 col0\" >0.000000</td>\n",
       "            </tr>\n",
       "            <tr>\n",
       "                        <th id=\"T_53f8e_level0_row53\" class=\"row_heading level0 row53\" >primary_cleaner.input.feed_size</th>\n",
       "                        <td id=\"T_53f8e_row53_col0\" class=\"data row53 col0\" >0.000000</td>\n",
       "            </tr>\n",
       "            <tr>\n",
       "                        <th id=\"T_53f8e_level0_row54\" class=\"row_heading level0 row54\" >primary_cleaner.input.sulfate</th>\n",
       "                        <td id=\"T_53f8e_row54_col0\" class=\"data row54 col0\" >0.000000</td>\n",
       "            </tr>\n",
       "            <tr>\n",
       "                        <th id=\"T_53f8e_level0_row55\" class=\"row_heading level0 row55\" >primary_cleaner.output.tail_au</th>\n",
       "                        <td id=\"T_53f8e_row55_col0\" class=\"data row55 col0\" >0.000000</td>\n",
       "            </tr>\n",
       "            <tr>\n",
       "                        <th id=\"T_53f8e_level0_row56\" class=\"row_heading level0 row56\" >final.output.tail_au</th>\n",
       "                        <td id=\"T_53f8e_row56_col0\" class=\"data row56 col0\" >0.000000</td>\n",
       "            </tr>\n",
       "            <tr>\n",
       "                        <th id=\"T_53f8e_level0_row57\" class=\"row_heading level0 row57\" >final.output.tail_sol</th>\n",
       "                        <td id=\"T_53f8e_row57_col0\" class=\"data row57 col0\" >0.000000</td>\n",
       "            </tr>\n",
       "            <tr>\n",
       "                        <th id=\"T_53f8e_level0_row58\" class=\"row_heading level0 row58\" >final.output.tail_pb</th>\n",
       "                        <td id=\"T_53f8e_row58_col0\" class=\"data row58 col0\" >0.000000</td>\n",
       "            </tr>\n",
       "            <tr>\n",
       "                        <th id=\"T_53f8e_level0_row59\" class=\"row_heading level0 row59\" >final.output.tail_ag</th>\n",
       "                        <td id=\"T_53f8e_row59_col0\" class=\"data row59 col0\" >0.000000</td>\n",
       "            </tr>\n",
       "            <tr>\n",
       "                        <th id=\"T_53f8e_level0_row60\" class=\"row_heading level0 row60\" >final.output.recovery</th>\n",
       "                        <td id=\"T_53f8e_row60_col0\" class=\"data row60 col0\" >0.000000</td>\n",
       "            </tr>\n",
       "            <tr>\n",
       "                        <th id=\"T_53f8e_level0_row61\" class=\"row_heading level0 row61\" >final.output.concentrate_au</th>\n",
       "                        <td id=\"T_53f8e_row61_col0\" class=\"data row61 col0\" >0.000000</td>\n",
       "            </tr>\n",
       "            <tr>\n",
       "                        <th id=\"T_53f8e_level0_row62\" class=\"row_heading level0 row62\" >final.output.concentrate_sol</th>\n",
       "                        <td id=\"T_53f8e_row62_col0\" class=\"data row62 col0\" >0.000000</td>\n",
       "            </tr>\n",
       "            <tr>\n",
       "                        <th id=\"T_53f8e_level0_row63\" class=\"row_heading level0 row63\" >final.output.concentrate_pb</th>\n",
       "                        <td id=\"T_53f8e_row63_col0\" class=\"data row63 col0\" >0.000000</td>\n",
       "            </tr>\n",
       "            <tr>\n",
       "                        <th id=\"T_53f8e_level0_row64\" class=\"row_heading level0 row64\" >primary_cleaner.output.tail_sol</th>\n",
       "                        <td id=\"T_53f8e_row64_col0\" class=\"data row64 col0\" >0.000000</td>\n",
       "            </tr>\n",
       "            <tr>\n",
       "                        <th id=\"T_53f8e_level0_row65\" class=\"row_heading level0 row65\" >primary_cleaner.state.floatbank8_a_air</th>\n",
       "                        <td id=\"T_53f8e_row65_col0\" class=\"data row65 col0\" >0.000000</td>\n",
       "            </tr>\n",
       "            <tr>\n",
       "                        <th id=\"T_53f8e_level0_row66\" class=\"row_heading level0 row66\" >rougher.input.floatbank11_sulfate</th>\n",
       "                        <td id=\"T_53f8e_row66_col0\" class=\"data row66 col0\" >0.000000</td>\n",
       "            </tr>\n",
       "            <tr>\n",
       "                        <th id=\"T_53f8e_level0_row67\" class=\"row_heading level0 row67\" >rougher.calculation.au_pb_ratio</th>\n",
       "                        <td id=\"T_53f8e_row67_col0\" class=\"data row67 col0\" >0.000000</td>\n",
       "            </tr>\n",
       "            <tr>\n",
       "                        <th id=\"T_53f8e_level0_row68\" class=\"row_heading level0 row68\" >rougher.input.floatbank10_xanthate</th>\n",
       "                        <td id=\"T_53f8e_row68_col0\" class=\"data row68 col0\" >0.000000</td>\n",
       "            </tr>\n",
       "            <tr>\n",
       "                        <th id=\"T_53f8e_level0_row69\" class=\"row_heading level0 row69\" >rougher.input.floatbank10_sulfate</th>\n",
       "                        <td id=\"T_53f8e_row69_col0\" class=\"data row69 col0\" >0.000000</td>\n",
       "            </tr>\n",
       "            <tr>\n",
       "                        <th id=\"T_53f8e_level0_row70\" class=\"row_heading level0 row70\" >rougher.input.feed_au</th>\n",
       "                        <td id=\"T_53f8e_row70_col0\" class=\"data row70 col0\" >0.000000</td>\n",
       "            </tr>\n",
       "            <tr>\n",
       "                        <th id=\"T_53f8e_level0_row71\" class=\"row_heading level0 row71\" >rougher.input.feed_sol</th>\n",
       "                        <td id=\"T_53f8e_row71_col0\" class=\"data row71 col0\" >0.000000</td>\n",
       "            </tr>\n",
       "            <tr>\n",
       "                        <th id=\"T_53f8e_level0_row72\" class=\"row_heading level0 row72\" >rougher.input.feed_size</th>\n",
       "                        <td id=\"T_53f8e_row72_col0\" class=\"data row72 col0\" >0.000000</td>\n",
       "            </tr>\n",
       "            <tr>\n",
       "                        <th id=\"T_53f8e_level0_row73\" class=\"row_heading level0 row73\" >rougher.input.feed_rate</th>\n",
       "                        <td id=\"T_53f8e_row73_col0\" class=\"data row73 col0\" >0.000000</td>\n",
       "            </tr>\n",
       "            <tr>\n",
       "                        <th id=\"T_53f8e_level0_row74\" class=\"row_heading level0 row74\" >rougher.input.feed_pb</th>\n",
       "                        <td id=\"T_53f8e_row74_col0\" class=\"data row74 col0\" >0.000000</td>\n",
       "            </tr>\n",
       "            <tr>\n",
       "                        <th id=\"T_53f8e_level0_row75\" class=\"row_heading level0 row75\" >rougher.input.feed_ag</th>\n",
       "                        <td id=\"T_53f8e_row75_col0\" class=\"data row75 col0\" >0.000000</td>\n",
       "            </tr>\n",
       "            <tr>\n",
       "                        <th id=\"T_53f8e_level0_row76\" class=\"row_heading level0 row76\" >rougher.calculation.floatbank11_sulfate_to_au_feed</th>\n",
       "                        <td id=\"T_53f8e_row76_col0\" class=\"data row76 col0\" >0.000000</td>\n",
       "            </tr>\n",
       "            <tr>\n",
       "                        <th id=\"T_53f8e_level0_row77\" class=\"row_heading level0 row77\" >primary_cleaner.state.floatbank8_a_level</th>\n",
       "                        <td id=\"T_53f8e_row77_col0\" class=\"data row77 col0\" >0.000000</td>\n",
       "            </tr>\n",
       "            <tr>\n",
       "                        <th id=\"T_53f8e_level0_row78\" class=\"row_heading level0 row78\" >rougher.calculation.floatbank10_sulfate_to_au_feed</th>\n",
       "                        <td id=\"T_53f8e_row78_col0\" class=\"data row78 col0\" >0.000000</td>\n",
       "            </tr>\n",
       "            <tr>\n",
       "                        <th id=\"T_53f8e_level0_row79\" class=\"row_heading level0 row79\" >rougher.calculation.sulfate_to_au_concentrate</th>\n",
       "                        <td id=\"T_53f8e_row79_col0\" class=\"data row79 col0\" >0.000000</td>\n",
       "            </tr>\n",
       "            <tr>\n",
       "                        <th id=\"T_53f8e_level0_row80\" class=\"row_heading level0 row80\" >primary_cleaner.state.floatbank8_d_level</th>\n",
       "                        <td id=\"T_53f8e_row80_col0\" class=\"data row80 col0\" >0.000000</td>\n",
       "            </tr>\n",
       "            <tr>\n",
       "                        <th id=\"T_53f8e_level0_row81\" class=\"row_heading level0 row81\" >primary_cleaner.state.floatbank8_d_air</th>\n",
       "                        <td id=\"T_53f8e_row81_col0\" class=\"data row81 col0\" >0.000000</td>\n",
       "            </tr>\n",
       "            <tr>\n",
       "                        <th id=\"T_53f8e_level0_row82\" class=\"row_heading level0 row82\" >primary_cleaner.state.floatbank8_c_level</th>\n",
       "                        <td id=\"T_53f8e_row82_col0\" class=\"data row82 col0\" >0.000000</td>\n",
       "            </tr>\n",
       "            <tr>\n",
       "                        <th id=\"T_53f8e_level0_row83\" class=\"row_heading level0 row83\" >primary_cleaner.state.floatbank8_c_air</th>\n",
       "                        <td id=\"T_53f8e_row83_col0\" class=\"data row83 col0\" >0.000000</td>\n",
       "            </tr>\n",
       "            <tr>\n",
       "                        <th id=\"T_53f8e_level0_row84\" class=\"row_heading level0 row84\" >primary_cleaner.state.floatbank8_b_level</th>\n",
       "                        <td id=\"T_53f8e_row84_col0\" class=\"data row84 col0\" >0.000000</td>\n",
       "            </tr>\n",
       "            <tr>\n",
       "                        <th id=\"T_53f8e_level0_row85\" class=\"row_heading level0 row85\" >primary_cleaner.state.floatbank8_b_air</th>\n",
       "                        <td id=\"T_53f8e_row85_col0\" class=\"data row85 col0\" >0.000000</td>\n",
       "            </tr>\n",
       "            <tr>\n",
       "                        <th id=\"T_53f8e_level0_row86\" class=\"row_heading level0 row86\" >secondary_cleaner.state.floatbank6_a_level</th>\n",
       "                        <td id=\"T_53f8e_row86_col0\" class=\"data row86 col0\" >0.000000</td>\n",
       "            </tr>\n",
       "    </tbody></table>"
      ],
      "text/plain": [
       "<pandas.io.formats.style.Styler at 0x7f668c473550>"
      ]
     },
     "metadata": {},
     "output_type": "display_data"
    },
    {
     "data": {
      "text/html": [
       "<style  type=\"text/css\" >\n",
       "#T_f9221_row0_col0,#T_f9221_row1_col0,#T_f9221_row2_col0,#T_f9221_row3_col0,#T_f9221_row4_col0,#T_f9221_row5_col0,#T_f9221_row6_col0,#T_f9221_row7_col0,#T_f9221_row8_col0,#T_f9221_row9_col0,#T_f9221_row10_col0,#T_f9221_row11_col0,#T_f9221_row12_col0,#T_f9221_row13_col0,#T_f9221_row14_col0,#T_f9221_row15_col0,#T_f9221_row16_col0,#T_f9221_row17_col0,#T_f9221_row18_col0,#T_f9221_row19_col0,#T_f9221_row20_col0,#T_f9221_row21_col0,#T_f9221_row22_col0,#T_f9221_row23_col0,#T_f9221_row24_col0,#T_f9221_row25_col0,#T_f9221_row26_col0,#T_f9221_row27_col0,#T_f9221_row28_col0,#T_f9221_row29_col0,#T_f9221_row30_col0,#T_f9221_row31_col0,#T_f9221_row32_col0,#T_f9221_row33_col0,#T_f9221_row34_col0,#T_f9221_row35_col0,#T_f9221_row36_col0,#T_f9221_row37_col0,#T_f9221_row38_col0,#T_f9221_row39_col0,#T_f9221_row40_col0,#T_f9221_row41_col0,#T_f9221_row42_col0,#T_f9221_row43_col0,#T_f9221_row44_col0,#T_f9221_row45_col0,#T_f9221_row46_col0,#T_f9221_row47_col0,#T_f9221_row48_col0,#T_f9221_row49_col0,#T_f9221_row50_col0,#T_f9221_row51_col0,#T_f9221_row52_col0,#T_f9221_row53_col0,#T_f9221_row54_col0,#T_f9221_row55_col0,#T_f9221_row56_col0,#T_f9221_row57_col0,#T_f9221_row58_col0,#T_f9221_row59_col0,#T_f9221_row60_col0,#T_f9221_row61_col0,#T_f9221_row62_col0,#T_f9221_row63_col0,#T_f9221_row64_col0,#T_f9221_row65_col0,#T_f9221_row66_col0,#T_f9221_row67_col0,#T_f9221_row68_col0,#T_f9221_row69_col0,#T_f9221_row70_col0,#T_f9221_row71_col0,#T_f9221_row72_col0,#T_f9221_row73_col0,#T_f9221_row74_col0,#T_f9221_row75_col0,#T_f9221_row76_col0,#T_f9221_row77_col0,#T_f9221_row78_col0,#T_f9221_row79_col0,#T_f9221_row80_col0,#T_f9221_row81_col0,#T_f9221_row82_col0,#T_f9221_row83_col0,#T_f9221_row84_col0,#T_f9221_row85_col0,#T_f9221_row86_col0{\n",
       "            background-color:  #3b4cc0;\n",
       "            color:  #f1f1f1;\n",
       "        }</style><table id=\"T_f9221_\" ><thead>    <tr>        <th class=\"blank level0\" ></th>        <th class=\"col_heading level0 col0\" >0</th>    </tr></thead><tbody>\n",
       "                <tr>\n",
       "                        <th id=\"T_f9221_level0_row0\" class=\"row_heading level0 row0\" >date</th>\n",
       "                        <td id=\"T_f9221_row0_col0\" class=\"data row0 col0\" >0.000000</td>\n",
       "            </tr>\n",
       "            <tr>\n",
       "                        <th id=\"T_f9221_level0_row1\" class=\"row_heading level0 row1\" >rougher.state.floatbank10_b_air</th>\n",
       "                        <td id=\"T_f9221_row1_col0\" class=\"data row1 col0\" >0.000000</td>\n",
       "            </tr>\n",
       "            <tr>\n",
       "                        <th id=\"T_f9221_level0_row2\" class=\"row_heading level0 row2\" >rougher.state.floatbank10_f_air</th>\n",
       "                        <td id=\"T_f9221_row2_col0\" class=\"data row2 col0\" >0.000000</td>\n",
       "            </tr>\n",
       "            <tr>\n",
       "                        <th id=\"T_f9221_level0_row3\" class=\"row_heading level0 row3\" >rougher.state.floatbank10_e_level</th>\n",
       "                        <td id=\"T_f9221_row3_col0\" class=\"data row3 col0\" >0.000000</td>\n",
       "            </tr>\n",
       "            <tr>\n",
       "                        <th id=\"T_f9221_level0_row4\" class=\"row_heading level0 row4\" >rougher.state.floatbank10_e_air</th>\n",
       "                        <td id=\"T_f9221_row4_col0\" class=\"data row4 col0\" >0.000000</td>\n",
       "            </tr>\n",
       "            <tr>\n",
       "                        <th id=\"T_f9221_level0_row5\" class=\"row_heading level0 row5\" >rougher.state.floatbank10_d_level</th>\n",
       "                        <td id=\"T_f9221_row5_col0\" class=\"data row5 col0\" >0.000000</td>\n",
       "            </tr>\n",
       "            <tr>\n",
       "                        <th id=\"T_f9221_level0_row6\" class=\"row_heading level0 row6\" >rougher.state.floatbank10_d_air</th>\n",
       "                        <td id=\"T_f9221_row6_col0\" class=\"data row6 col0\" >0.000000</td>\n",
       "            </tr>\n",
       "            <tr>\n",
       "                        <th id=\"T_f9221_level0_row7\" class=\"row_heading level0 row7\" >rougher.state.floatbank10_c_level</th>\n",
       "                        <td id=\"T_f9221_row7_col0\" class=\"data row7 col0\" >0.000000</td>\n",
       "            </tr>\n",
       "            <tr>\n",
       "                        <th id=\"T_f9221_level0_row8\" class=\"row_heading level0 row8\" >rougher.state.floatbank10_c_air</th>\n",
       "                        <td id=\"T_f9221_row8_col0\" class=\"data row8 col0\" >0.000000</td>\n",
       "            </tr>\n",
       "            <tr>\n",
       "                        <th id=\"T_f9221_level0_row9\" class=\"row_heading level0 row9\" >rougher.state.floatbank10_b_level</th>\n",
       "                        <td id=\"T_f9221_row9_col0\" class=\"data row9 col0\" >0.000000</td>\n",
       "            </tr>\n",
       "            <tr>\n",
       "                        <th id=\"T_f9221_level0_row10\" class=\"row_heading level0 row10\" >rougher.state.floatbank10_a_level</th>\n",
       "                        <td id=\"T_f9221_row10_col0\" class=\"data row10 col0\" >0.000000</td>\n",
       "            </tr>\n",
       "            <tr>\n",
       "                        <th id=\"T_f9221_level0_row11\" class=\"row_heading level0 row11\" >secondary_cleaner.output.tail_ag</th>\n",
       "                        <td id=\"T_f9221_row11_col0\" class=\"data row11 col0\" >0.000000</td>\n",
       "            </tr>\n",
       "            <tr>\n",
       "                        <th id=\"T_f9221_level0_row12\" class=\"row_heading level0 row12\" >rougher.state.floatbank10_a_air</th>\n",
       "                        <td id=\"T_f9221_row12_col0\" class=\"data row12 col0\" >0.000000</td>\n",
       "            </tr>\n",
       "            <tr>\n",
       "                        <th id=\"T_f9221_level0_row13\" class=\"row_heading level0 row13\" >rougher.output.tail_au</th>\n",
       "                        <td id=\"T_f9221_row13_col0\" class=\"data row13 col0\" >0.000000</td>\n",
       "            </tr>\n",
       "            <tr>\n",
       "                        <th id=\"T_f9221_level0_row14\" class=\"row_heading level0 row14\" >rougher.output.tail_sol</th>\n",
       "                        <td id=\"T_f9221_row14_col0\" class=\"data row14 col0\" >0.000000</td>\n",
       "            </tr>\n",
       "            <tr>\n",
       "                        <th id=\"T_f9221_level0_row15\" class=\"row_heading level0 row15\" >rougher.output.tail_pb</th>\n",
       "                        <td id=\"T_f9221_row15_col0\" class=\"data row15 col0\" >0.000000</td>\n",
       "            </tr>\n",
       "            <tr>\n",
       "                        <th id=\"T_f9221_level0_row16\" class=\"row_heading level0 row16\" >rougher.output.tail_ag</th>\n",
       "                        <td id=\"T_f9221_row16_col0\" class=\"data row16 col0\" >0.000000</td>\n",
       "            </tr>\n",
       "            <tr>\n",
       "                        <th id=\"T_f9221_level0_row17\" class=\"row_heading level0 row17\" >rougher.output.recovery</th>\n",
       "                        <td id=\"T_f9221_row17_col0\" class=\"data row17 col0\" >0.000000</td>\n",
       "            </tr>\n",
       "            <tr>\n",
       "                        <th id=\"T_f9221_level0_row18\" class=\"row_heading level0 row18\" >rougher.output.concentrate_au</th>\n",
       "                        <td id=\"T_f9221_row18_col0\" class=\"data row18 col0\" >0.000000</td>\n",
       "            </tr>\n",
       "            <tr>\n",
       "                        <th id=\"T_f9221_level0_row19\" class=\"row_heading level0 row19\" >rougher.output.concentrate_sol</th>\n",
       "                        <td id=\"T_f9221_row19_col0\" class=\"data row19 col0\" >0.000000</td>\n",
       "            </tr>\n",
       "            <tr>\n",
       "                        <th id=\"T_f9221_level0_row20\" class=\"row_heading level0 row20\" >rougher.state.floatbank10_f_level</th>\n",
       "                        <td id=\"T_f9221_row20_col0\" class=\"data row20 col0\" >0.000000</td>\n",
       "            </tr>\n",
       "            <tr>\n",
       "                        <th id=\"T_f9221_level0_row21\" class=\"row_heading level0 row21\" >secondary_cleaner.output.tail_pb</th>\n",
       "                        <td id=\"T_f9221_row21_col0\" class=\"data row21 col0\" >0.000000</td>\n",
       "            </tr>\n",
       "            <tr>\n",
       "                        <th id=\"T_f9221_level0_row22\" class=\"row_heading level0 row22\" >rougher.output.concentrate_ag</th>\n",
       "                        <td id=\"T_f9221_row22_col0\" class=\"data row22 col0\" >0.000000</td>\n",
       "            </tr>\n",
       "            <tr>\n",
       "                        <th id=\"T_f9221_level0_row23\" class=\"row_heading level0 row23\" >secondary_cleaner.state.floatbank4_a_air</th>\n",
       "                        <td id=\"T_f9221_row23_col0\" class=\"data row23 col0\" >0.000000</td>\n",
       "            </tr>\n",
       "            <tr>\n",
       "                        <th id=\"T_f9221_level0_row24\" class=\"row_heading level0 row24\" >secondary_cleaner.state.floatbank6_a_air</th>\n",
       "                        <td id=\"T_f9221_row24_col0\" class=\"data row24 col0\" >0.000000</td>\n",
       "            </tr>\n",
       "            <tr>\n",
       "                        <th id=\"T_f9221_level0_row25\" class=\"row_heading level0 row25\" >secondary_cleaner.state.floatbank5_b_level</th>\n",
       "                        <td id=\"T_f9221_row25_col0\" class=\"data row25 col0\" >0.000000</td>\n",
       "            </tr>\n",
       "            <tr>\n",
       "                        <th id=\"T_f9221_level0_row26\" class=\"row_heading level0 row26\" >secondary_cleaner.state.floatbank5_b_air</th>\n",
       "                        <td id=\"T_f9221_row26_col0\" class=\"data row26 col0\" >0.000000</td>\n",
       "            </tr>\n",
       "            <tr>\n",
       "                        <th id=\"T_f9221_level0_row27\" class=\"row_heading level0 row27\" >secondary_cleaner.state.floatbank5_a_level</th>\n",
       "                        <td id=\"T_f9221_row27_col0\" class=\"data row27 col0\" >0.000000</td>\n",
       "            </tr>\n",
       "            <tr>\n",
       "                        <th id=\"T_f9221_level0_row28\" class=\"row_heading level0 row28\" >secondary_cleaner.state.floatbank5_a_air</th>\n",
       "                        <td id=\"T_f9221_row28_col0\" class=\"data row28 col0\" >0.000000</td>\n",
       "            </tr>\n",
       "            <tr>\n",
       "                        <th id=\"T_f9221_level0_row29\" class=\"row_heading level0 row29\" >secondary_cleaner.state.floatbank4_b_level</th>\n",
       "                        <td id=\"T_f9221_row29_col0\" class=\"data row29 col0\" >0.000000</td>\n",
       "            </tr>\n",
       "            <tr>\n",
       "                        <th id=\"T_f9221_level0_row30\" class=\"row_heading level0 row30\" >secondary_cleaner.state.floatbank4_b_air</th>\n",
       "                        <td id=\"T_f9221_row30_col0\" class=\"data row30 col0\" >0.000000</td>\n",
       "            </tr>\n",
       "            <tr>\n",
       "                        <th id=\"T_f9221_level0_row31\" class=\"row_heading level0 row31\" >secondary_cleaner.state.floatbank4_a_level</th>\n",
       "                        <td id=\"T_f9221_row31_col0\" class=\"data row31 col0\" >0.000000</td>\n",
       "            </tr>\n",
       "            <tr>\n",
       "                        <th id=\"T_f9221_level0_row32\" class=\"row_heading level0 row32\" >secondary_cleaner.state.floatbank3_b_level</th>\n",
       "                        <td id=\"T_f9221_row32_col0\" class=\"data row32 col0\" >0.000000</td>\n",
       "            </tr>\n",
       "            <tr>\n",
       "                        <th id=\"T_f9221_level0_row33\" class=\"row_heading level0 row33\" >secondary_cleaner.output.tail_sol</th>\n",
       "                        <td id=\"T_f9221_row33_col0\" class=\"data row33 col0\" >0.000000</td>\n",
       "            </tr>\n",
       "            <tr>\n",
       "                        <th id=\"T_f9221_level0_row34\" class=\"row_heading level0 row34\" >secondary_cleaner.state.floatbank3_b_air</th>\n",
       "                        <td id=\"T_f9221_row34_col0\" class=\"data row34 col0\" >0.000000</td>\n",
       "            </tr>\n",
       "            <tr>\n",
       "                        <th id=\"T_f9221_level0_row35\" class=\"row_heading level0 row35\" >secondary_cleaner.state.floatbank3_a_level</th>\n",
       "                        <td id=\"T_f9221_row35_col0\" class=\"data row35 col0\" >0.000000</td>\n",
       "            </tr>\n",
       "            <tr>\n",
       "                        <th id=\"T_f9221_level0_row36\" class=\"row_heading level0 row36\" >secondary_cleaner.state.floatbank3_a_air</th>\n",
       "                        <td id=\"T_f9221_row36_col0\" class=\"data row36 col0\" >0.000000</td>\n",
       "            </tr>\n",
       "            <tr>\n",
       "                        <th id=\"T_f9221_level0_row37\" class=\"row_heading level0 row37\" >secondary_cleaner.state.floatbank2_b_level</th>\n",
       "                        <td id=\"T_f9221_row37_col0\" class=\"data row37 col0\" >0.000000</td>\n",
       "            </tr>\n",
       "            <tr>\n",
       "                        <th id=\"T_f9221_level0_row38\" class=\"row_heading level0 row38\" >secondary_cleaner.state.floatbank2_b_air</th>\n",
       "                        <td id=\"T_f9221_row38_col0\" class=\"data row38 col0\" >0.000000</td>\n",
       "            </tr>\n",
       "            <tr>\n",
       "                        <th id=\"T_f9221_level0_row39\" class=\"row_heading level0 row39\" >secondary_cleaner.state.floatbank2_a_level</th>\n",
       "                        <td id=\"T_f9221_row39_col0\" class=\"data row39 col0\" >0.000000</td>\n",
       "            </tr>\n",
       "            <tr>\n",
       "                        <th id=\"T_f9221_level0_row40\" class=\"row_heading level0 row40\" >secondary_cleaner.state.floatbank2_a_air</th>\n",
       "                        <td id=\"T_f9221_row40_col0\" class=\"data row40 col0\" >0.000000</td>\n",
       "            </tr>\n",
       "            <tr>\n",
       "                        <th id=\"T_f9221_level0_row41\" class=\"row_heading level0 row41\" >secondary_cleaner.output.tail_au</th>\n",
       "                        <td id=\"T_f9221_row41_col0\" class=\"data row41 col0\" >0.000000</td>\n",
       "            </tr>\n",
       "            <tr>\n",
       "                        <th id=\"T_f9221_level0_row42\" class=\"row_heading level0 row42\" >rougher.output.concentrate_pb</th>\n",
       "                        <td id=\"T_f9221_row42_col0\" class=\"data row42 col0\" >0.000000</td>\n",
       "            </tr>\n",
       "            <tr>\n",
       "                        <th id=\"T_f9221_level0_row43\" class=\"row_heading level0 row43\" >rougher.input.floatbank11_xanthate</th>\n",
       "                        <td id=\"T_f9221_row43_col0\" class=\"data row43 col0\" >0.000000</td>\n",
       "            </tr>\n",
       "            <tr>\n",
       "                        <th id=\"T_f9221_level0_row44\" class=\"row_heading level0 row44\" >final.output.concentrate_ag</th>\n",
       "                        <td id=\"T_f9221_row44_col0\" class=\"data row44 col0\" >0.000000</td>\n",
       "            </tr>\n",
       "            <tr>\n",
       "                        <th id=\"T_f9221_level0_row45\" class=\"row_heading level0 row45\" >primary_cleaner.input.depressant</th>\n",
       "                        <td id=\"T_f9221_row45_col0\" class=\"data row45 col0\" >0.000000</td>\n",
       "            </tr>\n",
       "            <tr>\n",
       "                        <th id=\"T_f9221_level0_row46\" class=\"row_heading level0 row46\" >primary_cleaner.output.tail_pb</th>\n",
       "                        <td id=\"T_f9221_row46_col0\" class=\"data row46 col0\" >0.000000</td>\n",
       "            </tr>\n",
       "            <tr>\n",
       "                        <th id=\"T_f9221_level0_row47\" class=\"row_heading level0 row47\" >primary_cleaner.output.tail_ag</th>\n",
       "                        <td id=\"T_f9221_row47_col0\" class=\"data row47 col0\" >0.000000</td>\n",
       "            </tr>\n",
       "            <tr>\n",
       "                        <th id=\"T_f9221_level0_row48\" class=\"row_heading level0 row48\" >primary_cleaner.output.concentrate_au</th>\n",
       "                        <td id=\"T_f9221_row48_col0\" class=\"data row48 col0\" >0.000000</td>\n",
       "            </tr>\n",
       "            <tr>\n",
       "                        <th id=\"T_f9221_level0_row49\" class=\"row_heading level0 row49\" >primary_cleaner.output.concentrate_sol</th>\n",
       "                        <td id=\"T_f9221_row49_col0\" class=\"data row49 col0\" >0.000000</td>\n",
       "            </tr>\n",
       "            <tr>\n",
       "                        <th id=\"T_f9221_level0_row50\" class=\"row_heading level0 row50\" >primary_cleaner.output.concentrate_pb</th>\n",
       "                        <td id=\"T_f9221_row50_col0\" class=\"data row50 col0\" >0.000000</td>\n",
       "            </tr>\n",
       "            <tr>\n",
       "                        <th id=\"T_f9221_level0_row51\" class=\"row_heading level0 row51\" >primary_cleaner.output.concentrate_ag</th>\n",
       "                        <td id=\"T_f9221_row51_col0\" class=\"data row51 col0\" >0.000000</td>\n",
       "            </tr>\n",
       "            <tr>\n",
       "                        <th id=\"T_f9221_level0_row52\" class=\"row_heading level0 row52\" >primary_cleaner.input.xanthate</th>\n",
       "                        <td id=\"T_f9221_row52_col0\" class=\"data row52 col0\" >0.000000</td>\n",
       "            </tr>\n",
       "            <tr>\n",
       "                        <th id=\"T_f9221_level0_row53\" class=\"row_heading level0 row53\" >primary_cleaner.input.feed_size</th>\n",
       "                        <td id=\"T_f9221_row53_col0\" class=\"data row53 col0\" >0.000000</td>\n",
       "            </tr>\n",
       "            <tr>\n",
       "                        <th id=\"T_f9221_level0_row54\" class=\"row_heading level0 row54\" >primary_cleaner.input.sulfate</th>\n",
       "                        <td id=\"T_f9221_row54_col0\" class=\"data row54 col0\" >0.000000</td>\n",
       "            </tr>\n",
       "            <tr>\n",
       "                        <th id=\"T_f9221_level0_row55\" class=\"row_heading level0 row55\" >primary_cleaner.output.tail_au</th>\n",
       "                        <td id=\"T_f9221_row55_col0\" class=\"data row55 col0\" >0.000000</td>\n",
       "            </tr>\n",
       "            <tr>\n",
       "                        <th id=\"T_f9221_level0_row56\" class=\"row_heading level0 row56\" >final.output.tail_au</th>\n",
       "                        <td id=\"T_f9221_row56_col0\" class=\"data row56 col0\" >0.000000</td>\n",
       "            </tr>\n",
       "            <tr>\n",
       "                        <th id=\"T_f9221_level0_row57\" class=\"row_heading level0 row57\" >final.output.tail_sol</th>\n",
       "                        <td id=\"T_f9221_row57_col0\" class=\"data row57 col0\" >0.000000</td>\n",
       "            </tr>\n",
       "            <tr>\n",
       "                        <th id=\"T_f9221_level0_row58\" class=\"row_heading level0 row58\" >final.output.tail_pb</th>\n",
       "                        <td id=\"T_f9221_row58_col0\" class=\"data row58 col0\" >0.000000</td>\n",
       "            </tr>\n",
       "            <tr>\n",
       "                        <th id=\"T_f9221_level0_row59\" class=\"row_heading level0 row59\" >final.output.tail_ag</th>\n",
       "                        <td id=\"T_f9221_row59_col0\" class=\"data row59 col0\" >0.000000</td>\n",
       "            </tr>\n",
       "            <tr>\n",
       "                        <th id=\"T_f9221_level0_row60\" class=\"row_heading level0 row60\" >final.output.recovery</th>\n",
       "                        <td id=\"T_f9221_row60_col0\" class=\"data row60 col0\" >0.000000</td>\n",
       "            </tr>\n",
       "            <tr>\n",
       "                        <th id=\"T_f9221_level0_row61\" class=\"row_heading level0 row61\" >final.output.concentrate_au</th>\n",
       "                        <td id=\"T_f9221_row61_col0\" class=\"data row61 col0\" >0.000000</td>\n",
       "            </tr>\n",
       "            <tr>\n",
       "                        <th id=\"T_f9221_level0_row62\" class=\"row_heading level0 row62\" >final.output.concentrate_sol</th>\n",
       "                        <td id=\"T_f9221_row62_col0\" class=\"data row62 col0\" >0.000000</td>\n",
       "            </tr>\n",
       "            <tr>\n",
       "                        <th id=\"T_f9221_level0_row63\" class=\"row_heading level0 row63\" >final.output.concentrate_pb</th>\n",
       "                        <td id=\"T_f9221_row63_col0\" class=\"data row63 col0\" >0.000000</td>\n",
       "            </tr>\n",
       "            <tr>\n",
       "                        <th id=\"T_f9221_level0_row64\" class=\"row_heading level0 row64\" >primary_cleaner.output.tail_sol</th>\n",
       "                        <td id=\"T_f9221_row64_col0\" class=\"data row64 col0\" >0.000000</td>\n",
       "            </tr>\n",
       "            <tr>\n",
       "                        <th id=\"T_f9221_level0_row65\" class=\"row_heading level0 row65\" >primary_cleaner.state.floatbank8_a_air</th>\n",
       "                        <td id=\"T_f9221_row65_col0\" class=\"data row65 col0\" >0.000000</td>\n",
       "            </tr>\n",
       "            <tr>\n",
       "                        <th id=\"T_f9221_level0_row66\" class=\"row_heading level0 row66\" >rougher.input.floatbank11_sulfate</th>\n",
       "                        <td id=\"T_f9221_row66_col0\" class=\"data row66 col0\" >0.000000</td>\n",
       "            </tr>\n",
       "            <tr>\n",
       "                        <th id=\"T_f9221_level0_row67\" class=\"row_heading level0 row67\" >rougher.calculation.au_pb_ratio</th>\n",
       "                        <td id=\"T_f9221_row67_col0\" class=\"data row67 col0\" >0.000000</td>\n",
       "            </tr>\n",
       "            <tr>\n",
       "                        <th id=\"T_f9221_level0_row68\" class=\"row_heading level0 row68\" >rougher.input.floatbank10_xanthate</th>\n",
       "                        <td id=\"T_f9221_row68_col0\" class=\"data row68 col0\" >0.000000</td>\n",
       "            </tr>\n",
       "            <tr>\n",
       "                        <th id=\"T_f9221_level0_row69\" class=\"row_heading level0 row69\" >rougher.input.floatbank10_sulfate</th>\n",
       "                        <td id=\"T_f9221_row69_col0\" class=\"data row69 col0\" >0.000000</td>\n",
       "            </tr>\n",
       "            <tr>\n",
       "                        <th id=\"T_f9221_level0_row70\" class=\"row_heading level0 row70\" >rougher.input.feed_au</th>\n",
       "                        <td id=\"T_f9221_row70_col0\" class=\"data row70 col0\" >0.000000</td>\n",
       "            </tr>\n",
       "            <tr>\n",
       "                        <th id=\"T_f9221_level0_row71\" class=\"row_heading level0 row71\" >rougher.input.feed_sol</th>\n",
       "                        <td id=\"T_f9221_row71_col0\" class=\"data row71 col0\" >0.000000</td>\n",
       "            </tr>\n",
       "            <tr>\n",
       "                        <th id=\"T_f9221_level0_row72\" class=\"row_heading level0 row72\" >rougher.input.feed_size</th>\n",
       "                        <td id=\"T_f9221_row72_col0\" class=\"data row72 col0\" >0.000000</td>\n",
       "            </tr>\n",
       "            <tr>\n",
       "                        <th id=\"T_f9221_level0_row73\" class=\"row_heading level0 row73\" >rougher.input.feed_rate</th>\n",
       "                        <td id=\"T_f9221_row73_col0\" class=\"data row73 col0\" >0.000000</td>\n",
       "            </tr>\n",
       "            <tr>\n",
       "                        <th id=\"T_f9221_level0_row74\" class=\"row_heading level0 row74\" >rougher.input.feed_pb</th>\n",
       "                        <td id=\"T_f9221_row74_col0\" class=\"data row74 col0\" >0.000000</td>\n",
       "            </tr>\n",
       "            <tr>\n",
       "                        <th id=\"T_f9221_level0_row75\" class=\"row_heading level0 row75\" >rougher.input.feed_ag</th>\n",
       "                        <td id=\"T_f9221_row75_col0\" class=\"data row75 col0\" >0.000000</td>\n",
       "            </tr>\n",
       "            <tr>\n",
       "                        <th id=\"T_f9221_level0_row76\" class=\"row_heading level0 row76\" >rougher.calculation.floatbank11_sulfate_to_au_feed</th>\n",
       "                        <td id=\"T_f9221_row76_col0\" class=\"data row76 col0\" >0.000000</td>\n",
       "            </tr>\n",
       "            <tr>\n",
       "                        <th id=\"T_f9221_level0_row77\" class=\"row_heading level0 row77\" >primary_cleaner.state.floatbank8_a_level</th>\n",
       "                        <td id=\"T_f9221_row77_col0\" class=\"data row77 col0\" >0.000000</td>\n",
       "            </tr>\n",
       "            <tr>\n",
       "                        <th id=\"T_f9221_level0_row78\" class=\"row_heading level0 row78\" >rougher.calculation.floatbank10_sulfate_to_au_feed</th>\n",
       "                        <td id=\"T_f9221_row78_col0\" class=\"data row78 col0\" >0.000000</td>\n",
       "            </tr>\n",
       "            <tr>\n",
       "                        <th id=\"T_f9221_level0_row79\" class=\"row_heading level0 row79\" >rougher.calculation.sulfate_to_au_concentrate</th>\n",
       "                        <td id=\"T_f9221_row79_col0\" class=\"data row79 col0\" >0.000000</td>\n",
       "            </tr>\n",
       "            <tr>\n",
       "                        <th id=\"T_f9221_level0_row80\" class=\"row_heading level0 row80\" >primary_cleaner.state.floatbank8_d_level</th>\n",
       "                        <td id=\"T_f9221_row80_col0\" class=\"data row80 col0\" >0.000000</td>\n",
       "            </tr>\n",
       "            <tr>\n",
       "                        <th id=\"T_f9221_level0_row81\" class=\"row_heading level0 row81\" >primary_cleaner.state.floatbank8_d_air</th>\n",
       "                        <td id=\"T_f9221_row81_col0\" class=\"data row81 col0\" >0.000000</td>\n",
       "            </tr>\n",
       "            <tr>\n",
       "                        <th id=\"T_f9221_level0_row82\" class=\"row_heading level0 row82\" >primary_cleaner.state.floatbank8_c_level</th>\n",
       "                        <td id=\"T_f9221_row82_col0\" class=\"data row82 col0\" >0.000000</td>\n",
       "            </tr>\n",
       "            <tr>\n",
       "                        <th id=\"T_f9221_level0_row83\" class=\"row_heading level0 row83\" >primary_cleaner.state.floatbank8_c_air</th>\n",
       "                        <td id=\"T_f9221_row83_col0\" class=\"data row83 col0\" >0.000000</td>\n",
       "            </tr>\n",
       "            <tr>\n",
       "                        <th id=\"T_f9221_level0_row84\" class=\"row_heading level0 row84\" >primary_cleaner.state.floatbank8_b_level</th>\n",
       "                        <td id=\"T_f9221_row84_col0\" class=\"data row84 col0\" >0.000000</td>\n",
       "            </tr>\n",
       "            <tr>\n",
       "                        <th id=\"T_f9221_level0_row85\" class=\"row_heading level0 row85\" >primary_cleaner.state.floatbank8_b_air</th>\n",
       "                        <td id=\"T_f9221_row85_col0\" class=\"data row85 col0\" >0.000000</td>\n",
       "            </tr>\n",
       "            <tr>\n",
       "                        <th id=\"T_f9221_level0_row86\" class=\"row_heading level0 row86\" >secondary_cleaner.state.floatbank6_a_level</th>\n",
       "                        <td id=\"T_f9221_row86_col0\" class=\"data row86 col0\" >0.000000</td>\n",
       "            </tr>\n",
       "    </tbody></table>"
      ],
      "text/plain": [
       "<pandas.io.formats.style.Styler at 0x7f66090f8d00>"
      ]
     },
     "metadata": {},
     "output_type": "display_data"
    },
    {
     "data": {
      "text/html": [
       "<style  type=\"text/css\" >\n",
       "#T_ba6b3_row0_col0,#T_ba6b3_row1_col0,#T_ba6b3_row2_col0,#T_ba6b3_row3_col0,#T_ba6b3_row4_col0,#T_ba6b3_row5_col0,#T_ba6b3_row6_col0,#T_ba6b3_row7_col0,#T_ba6b3_row8_col0,#T_ba6b3_row9_col0,#T_ba6b3_row10_col0,#T_ba6b3_row11_col0,#T_ba6b3_row12_col0,#T_ba6b3_row13_col0,#T_ba6b3_row14_col0,#T_ba6b3_row15_col0,#T_ba6b3_row16_col0,#T_ba6b3_row17_col0,#T_ba6b3_row18_col0,#T_ba6b3_row19_col0,#T_ba6b3_row20_col0,#T_ba6b3_row21_col0,#T_ba6b3_row22_col0,#T_ba6b3_row23_col0,#T_ba6b3_row24_col0,#T_ba6b3_row25_col0,#T_ba6b3_row26_col0,#T_ba6b3_row27_col0,#T_ba6b3_row28_col0,#T_ba6b3_row29_col0,#T_ba6b3_row30_col0,#T_ba6b3_row31_col0,#T_ba6b3_row32_col0,#T_ba6b3_row33_col0,#T_ba6b3_row34_col0,#T_ba6b3_row35_col0,#T_ba6b3_row36_col0,#T_ba6b3_row37_col0,#T_ba6b3_row38_col0,#T_ba6b3_row39_col0,#T_ba6b3_row40_col0,#T_ba6b3_row41_col0,#T_ba6b3_row42_col0,#T_ba6b3_row43_col0,#T_ba6b3_row44_col0,#T_ba6b3_row45_col0,#T_ba6b3_row46_col0,#T_ba6b3_row47_col0,#T_ba6b3_row48_col0,#T_ba6b3_row49_col0,#T_ba6b3_row50_col0,#T_ba6b3_row51_col0,#T_ba6b3_row52_col0{\n",
       "            background-color:  #3b4cc0;\n",
       "            color:  #f1f1f1;\n",
       "        }</style><table id=\"T_ba6b3_\" ><thead>    <tr>        <th class=\"blank level0\" ></th>        <th class=\"col_heading level0 col0\" >0</th>    </tr></thead><tbody>\n",
       "                <tr>\n",
       "                        <th id=\"T_ba6b3_level0_row0\" class=\"row_heading level0 row0\" >date</th>\n",
       "                        <td id=\"T_ba6b3_row0_col0\" class=\"data row0 col0\" >0.000000</td>\n",
       "            </tr>\n",
       "            <tr>\n",
       "                        <th id=\"T_ba6b3_level0_row1\" class=\"row_heading level0 row1\" >rougher.state.floatbank10_c_air</th>\n",
       "                        <td id=\"T_ba6b3_row1_col0\" class=\"data row1 col0\" >0.000000</td>\n",
       "            </tr>\n",
       "            <tr>\n",
       "                        <th id=\"T_ba6b3_level0_row2\" class=\"row_heading level0 row2\" >rougher.state.floatbank10_d_air</th>\n",
       "                        <td id=\"T_ba6b3_row2_col0\" class=\"data row2 col0\" >0.000000</td>\n",
       "            </tr>\n",
       "            <tr>\n",
       "                        <th id=\"T_ba6b3_level0_row3\" class=\"row_heading level0 row3\" >rougher.state.floatbank10_d_level</th>\n",
       "                        <td id=\"T_ba6b3_row3_col0\" class=\"data row3 col0\" >0.000000</td>\n",
       "            </tr>\n",
       "            <tr>\n",
       "                        <th id=\"T_ba6b3_level0_row4\" class=\"row_heading level0 row4\" >rougher.state.floatbank10_e_air</th>\n",
       "                        <td id=\"T_ba6b3_row4_col0\" class=\"data row4 col0\" >0.000000</td>\n",
       "            </tr>\n",
       "            <tr>\n",
       "                        <th id=\"T_ba6b3_level0_row5\" class=\"row_heading level0 row5\" >rougher.state.floatbank10_e_level</th>\n",
       "                        <td id=\"T_ba6b3_row5_col0\" class=\"data row5 col0\" >0.000000</td>\n",
       "            </tr>\n",
       "            <tr>\n",
       "                        <th id=\"T_ba6b3_level0_row6\" class=\"row_heading level0 row6\" >rougher.state.floatbank10_f_air</th>\n",
       "                        <td id=\"T_ba6b3_row6_col0\" class=\"data row6 col0\" >0.000000</td>\n",
       "            </tr>\n",
       "            <tr>\n",
       "                        <th id=\"T_ba6b3_level0_row7\" class=\"row_heading level0 row7\" >rougher.state.floatbank10_f_level</th>\n",
       "                        <td id=\"T_ba6b3_row7_col0\" class=\"data row7 col0\" >0.000000</td>\n",
       "            </tr>\n",
       "            <tr>\n",
       "                        <th id=\"T_ba6b3_level0_row8\" class=\"row_heading level0 row8\" >secondary_cleaner.state.floatbank2_a_air</th>\n",
       "                        <td id=\"T_ba6b3_row8_col0\" class=\"data row8 col0\" >0.000000</td>\n",
       "            </tr>\n",
       "            <tr>\n",
       "                        <th id=\"T_ba6b3_level0_row9\" class=\"row_heading level0 row9\" >secondary_cleaner.state.floatbank2_a_level</th>\n",
       "                        <td id=\"T_ba6b3_row9_col0\" class=\"data row9 col0\" >0.000000</td>\n",
       "            </tr>\n",
       "            <tr>\n",
       "                        <th id=\"T_ba6b3_level0_row10\" class=\"row_heading level0 row10\" >secondary_cleaner.state.floatbank2_b_air</th>\n",
       "                        <td id=\"T_ba6b3_row10_col0\" class=\"data row10 col0\" >0.000000</td>\n",
       "            </tr>\n",
       "            <tr>\n",
       "                        <th id=\"T_ba6b3_level0_row11\" class=\"row_heading level0 row11\" >secondary_cleaner.state.floatbank2_b_level</th>\n",
       "                        <td id=\"T_ba6b3_row11_col0\" class=\"data row11 col0\" >0.000000</td>\n",
       "            </tr>\n",
       "            <tr>\n",
       "                        <th id=\"T_ba6b3_level0_row12\" class=\"row_heading level0 row12\" >secondary_cleaner.state.floatbank3_a_air</th>\n",
       "                        <td id=\"T_ba6b3_row12_col0\" class=\"data row12 col0\" >0.000000</td>\n",
       "            </tr>\n",
       "            <tr>\n",
       "                        <th id=\"T_ba6b3_level0_row13\" class=\"row_heading level0 row13\" >secondary_cleaner.state.floatbank3_a_level</th>\n",
       "                        <td id=\"T_ba6b3_row13_col0\" class=\"data row13 col0\" >0.000000</td>\n",
       "            </tr>\n",
       "            <tr>\n",
       "                        <th id=\"T_ba6b3_level0_row14\" class=\"row_heading level0 row14\" >secondary_cleaner.state.floatbank3_b_air</th>\n",
       "                        <td id=\"T_ba6b3_row14_col0\" class=\"data row14 col0\" >0.000000</td>\n",
       "            </tr>\n",
       "            <tr>\n",
       "                        <th id=\"T_ba6b3_level0_row15\" class=\"row_heading level0 row15\" >secondary_cleaner.state.floatbank3_b_level</th>\n",
       "                        <td id=\"T_ba6b3_row15_col0\" class=\"data row15 col0\" >0.000000</td>\n",
       "            </tr>\n",
       "            <tr>\n",
       "                        <th id=\"T_ba6b3_level0_row16\" class=\"row_heading level0 row16\" >secondary_cleaner.state.floatbank4_a_air</th>\n",
       "                        <td id=\"T_ba6b3_row16_col0\" class=\"data row16 col0\" >0.000000</td>\n",
       "            </tr>\n",
       "            <tr>\n",
       "                        <th id=\"T_ba6b3_level0_row17\" class=\"row_heading level0 row17\" >secondary_cleaner.state.floatbank4_a_level</th>\n",
       "                        <td id=\"T_ba6b3_row17_col0\" class=\"data row17 col0\" >0.000000</td>\n",
       "            </tr>\n",
       "            <tr>\n",
       "                        <th id=\"T_ba6b3_level0_row18\" class=\"row_heading level0 row18\" >secondary_cleaner.state.floatbank4_b_air</th>\n",
       "                        <td id=\"T_ba6b3_row18_col0\" class=\"data row18 col0\" >0.000000</td>\n",
       "            </tr>\n",
       "            <tr>\n",
       "                        <th id=\"T_ba6b3_level0_row19\" class=\"row_heading level0 row19\" >secondary_cleaner.state.floatbank4_b_level</th>\n",
       "                        <td id=\"T_ba6b3_row19_col0\" class=\"data row19 col0\" >0.000000</td>\n",
       "            </tr>\n",
       "            <tr>\n",
       "                        <th id=\"T_ba6b3_level0_row20\" class=\"row_heading level0 row20\" >secondary_cleaner.state.floatbank5_a_air</th>\n",
       "                        <td id=\"T_ba6b3_row20_col0\" class=\"data row20 col0\" >0.000000</td>\n",
       "            </tr>\n",
       "            <tr>\n",
       "                        <th id=\"T_ba6b3_level0_row21\" class=\"row_heading level0 row21\" >secondary_cleaner.state.floatbank5_a_level</th>\n",
       "                        <td id=\"T_ba6b3_row21_col0\" class=\"data row21 col0\" >0.000000</td>\n",
       "            </tr>\n",
       "            <tr>\n",
       "                        <th id=\"T_ba6b3_level0_row22\" class=\"row_heading level0 row22\" >secondary_cleaner.state.floatbank5_b_air</th>\n",
       "                        <td id=\"T_ba6b3_row22_col0\" class=\"data row22 col0\" >0.000000</td>\n",
       "            </tr>\n",
       "            <tr>\n",
       "                        <th id=\"T_ba6b3_level0_row23\" class=\"row_heading level0 row23\" >secondary_cleaner.state.floatbank5_b_level</th>\n",
       "                        <td id=\"T_ba6b3_row23_col0\" class=\"data row23 col0\" >0.000000</td>\n",
       "            </tr>\n",
       "            <tr>\n",
       "                        <th id=\"T_ba6b3_level0_row24\" class=\"row_heading level0 row24\" >secondary_cleaner.state.floatbank6_a_air</th>\n",
       "                        <td id=\"T_ba6b3_row24_col0\" class=\"data row24 col0\" >0.000000</td>\n",
       "            </tr>\n",
       "            <tr>\n",
       "                        <th id=\"T_ba6b3_level0_row25\" class=\"row_heading level0 row25\" >rougher.state.floatbank10_c_level</th>\n",
       "                        <td id=\"T_ba6b3_row25_col0\" class=\"data row25 col0\" >0.000000</td>\n",
       "            </tr>\n",
       "            <tr>\n",
       "                        <th id=\"T_ba6b3_level0_row26\" class=\"row_heading level0 row26\" >rougher.state.floatbank10_b_level</th>\n",
       "                        <td id=\"T_ba6b3_row26_col0\" class=\"data row26 col0\" >0.000000</td>\n",
       "            </tr>\n",
       "            <tr>\n",
       "                        <th id=\"T_ba6b3_level0_row27\" class=\"row_heading level0 row27\" >primary_cleaner.input.sulfate</th>\n",
       "                        <td id=\"T_ba6b3_row27_col0\" class=\"data row27 col0\" >0.000000</td>\n",
       "            </tr>\n",
       "            <tr>\n",
       "                        <th id=\"T_ba6b3_level0_row28\" class=\"row_heading level0 row28\" >rougher.state.floatbank10_b_air</th>\n",
       "                        <td id=\"T_ba6b3_row28_col0\" class=\"data row28 col0\" >0.000000</td>\n",
       "            </tr>\n",
       "            <tr>\n",
       "                        <th id=\"T_ba6b3_level0_row29\" class=\"row_heading level0 row29\" >primary_cleaner.input.depressant</th>\n",
       "                        <td id=\"T_ba6b3_row29_col0\" class=\"data row29 col0\" >0.000000</td>\n",
       "            </tr>\n",
       "            <tr>\n",
       "                        <th id=\"T_ba6b3_level0_row30\" class=\"row_heading level0 row30\" >primary_cleaner.input.feed_size</th>\n",
       "                        <td id=\"T_ba6b3_row30_col0\" class=\"data row30 col0\" >0.000000</td>\n",
       "            </tr>\n",
       "            <tr>\n",
       "                        <th id=\"T_ba6b3_level0_row31\" class=\"row_heading level0 row31\" >primary_cleaner.input.xanthate</th>\n",
       "                        <td id=\"T_ba6b3_row31_col0\" class=\"data row31 col0\" >0.000000</td>\n",
       "            </tr>\n",
       "            <tr>\n",
       "                        <th id=\"T_ba6b3_level0_row32\" class=\"row_heading level0 row32\" >primary_cleaner.state.floatbank8_a_air</th>\n",
       "                        <td id=\"T_ba6b3_row32_col0\" class=\"data row32 col0\" >0.000000</td>\n",
       "            </tr>\n",
       "            <tr>\n",
       "                        <th id=\"T_ba6b3_level0_row33\" class=\"row_heading level0 row33\" >primary_cleaner.state.floatbank8_a_level</th>\n",
       "                        <td id=\"T_ba6b3_row33_col0\" class=\"data row33 col0\" >0.000000</td>\n",
       "            </tr>\n",
       "            <tr>\n",
       "                        <th id=\"T_ba6b3_level0_row34\" class=\"row_heading level0 row34\" >primary_cleaner.state.floatbank8_b_air</th>\n",
       "                        <td id=\"T_ba6b3_row34_col0\" class=\"data row34 col0\" >0.000000</td>\n",
       "            </tr>\n",
       "            <tr>\n",
       "                        <th id=\"T_ba6b3_level0_row35\" class=\"row_heading level0 row35\" >primary_cleaner.state.floatbank8_b_level</th>\n",
       "                        <td id=\"T_ba6b3_row35_col0\" class=\"data row35 col0\" >0.000000</td>\n",
       "            </tr>\n",
       "            <tr>\n",
       "                        <th id=\"T_ba6b3_level0_row36\" class=\"row_heading level0 row36\" >primary_cleaner.state.floatbank8_c_air</th>\n",
       "                        <td id=\"T_ba6b3_row36_col0\" class=\"data row36 col0\" >0.000000</td>\n",
       "            </tr>\n",
       "            <tr>\n",
       "                        <th id=\"T_ba6b3_level0_row37\" class=\"row_heading level0 row37\" >primary_cleaner.state.floatbank8_c_level</th>\n",
       "                        <td id=\"T_ba6b3_row37_col0\" class=\"data row37 col0\" >0.000000</td>\n",
       "            </tr>\n",
       "            <tr>\n",
       "                        <th id=\"T_ba6b3_level0_row38\" class=\"row_heading level0 row38\" >primary_cleaner.state.floatbank8_d_air</th>\n",
       "                        <td id=\"T_ba6b3_row38_col0\" class=\"data row38 col0\" >0.000000</td>\n",
       "            </tr>\n",
       "            <tr>\n",
       "                        <th id=\"T_ba6b3_level0_row39\" class=\"row_heading level0 row39\" >primary_cleaner.state.floatbank8_d_level</th>\n",
       "                        <td id=\"T_ba6b3_row39_col0\" class=\"data row39 col0\" >0.000000</td>\n",
       "            </tr>\n",
       "            <tr>\n",
       "                        <th id=\"T_ba6b3_level0_row40\" class=\"row_heading level0 row40\" >rougher.input.feed_ag</th>\n",
       "                        <td id=\"T_ba6b3_row40_col0\" class=\"data row40 col0\" >0.000000</td>\n",
       "            </tr>\n",
       "            <tr>\n",
       "                        <th id=\"T_ba6b3_level0_row41\" class=\"row_heading level0 row41\" >rougher.input.feed_pb</th>\n",
       "                        <td id=\"T_ba6b3_row41_col0\" class=\"data row41 col0\" >0.000000</td>\n",
       "            </tr>\n",
       "            <tr>\n",
       "                        <th id=\"T_ba6b3_level0_row42\" class=\"row_heading level0 row42\" >rougher.input.feed_rate</th>\n",
       "                        <td id=\"T_ba6b3_row42_col0\" class=\"data row42 col0\" >0.000000</td>\n",
       "            </tr>\n",
       "            <tr>\n",
       "                        <th id=\"T_ba6b3_level0_row43\" class=\"row_heading level0 row43\" >rougher.input.feed_size</th>\n",
       "                        <td id=\"T_ba6b3_row43_col0\" class=\"data row43 col0\" >0.000000</td>\n",
       "            </tr>\n",
       "            <tr>\n",
       "                        <th id=\"T_ba6b3_level0_row44\" class=\"row_heading level0 row44\" >rougher.input.feed_sol</th>\n",
       "                        <td id=\"T_ba6b3_row44_col0\" class=\"data row44 col0\" >0.000000</td>\n",
       "            </tr>\n",
       "            <tr>\n",
       "                        <th id=\"T_ba6b3_level0_row45\" class=\"row_heading level0 row45\" >rougher.input.feed_au</th>\n",
       "                        <td id=\"T_ba6b3_row45_col0\" class=\"data row45 col0\" >0.000000</td>\n",
       "            </tr>\n",
       "            <tr>\n",
       "                        <th id=\"T_ba6b3_level0_row46\" class=\"row_heading level0 row46\" >rougher.input.floatbank10_sulfate</th>\n",
       "                        <td id=\"T_ba6b3_row46_col0\" class=\"data row46 col0\" >0.000000</td>\n",
       "            </tr>\n",
       "            <tr>\n",
       "                        <th id=\"T_ba6b3_level0_row47\" class=\"row_heading level0 row47\" >rougher.input.floatbank10_xanthate</th>\n",
       "                        <td id=\"T_ba6b3_row47_col0\" class=\"data row47 col0\" >0.000000</td>\n",
       "            </tr>\n",
       "            <tr>\n",
       "                        <th id=\"T_ba6b3_level0_row48\" class=\"row_heading level0 row48\" >rougher.input.floatbank11_sulfate</th>\n",
       "                        <td id=\"T_ba6b3_row48_col0\" class=\"data row48 col0\" >0.000000</td>\n",
       "            </tr>\n",
       "            <tr>\n",
       "                        <th id=\"T_ba6b3_level0_row49\" class=\"row_heading level0 row49\" >rougher.input.floatbank11_xanthate</th>\n",
       "                        <td id=\"T_ba6b3_row49_col0\" class=\"data row49 col0\" >0.000000</td>\n",
       "            </tr>\n",
       "            <tr>\n",
       "                        <th id=\"T_ba6b3_level0_row50\" class=\"row_heading level0 row50\" >rougher.state.floatbank10_a_air</th>\n",
       "                        <td id=\"T_ba6b3_row50_col0\" class=\"data row50 col0\" >0.000000</td>\n",
       "            </tr>\n",
       "            <tr>\n",
       "                        <th id=\"T_ba6b3_level0_row51\" class=\"row_heading level0 row51\" >rougher.state.floatbank10_a_level</th>\n",
       "                        <td id=\"T_ba6b3_row51_col0\" class=\"data row51 col0\" >0.000000</td>\n",
       "            </tr>\n",
       "            <tr>\n",
       "                        <th id=\"T_ba6b3_level0_row52\" class=\"row_heading level0 row52\" >secondary_cleaner.state.floatbank6_a_level</th>\n",
       "                        <td id=\"T_ba6b3_row52_col0\" class=\"data row52 col0\" >0.000000</td>\n",
       "            </tr>\n",
       "    </tbody></table>"
      ],
      "text/plain": [
       "<pandas.io.formats.style.Styler at 0x7f66090f8040>"
      ]
     },
     "metadata": {},
     "output_type": "display_data"
    }
   ],
   "source": [
    "#проверка\n",
    "display(pd.DataFrame(round(((df_full.isna().mean()*100).sort_values(ascending=False)),2)).style.background_gradient('coolwarm'))\n",
    "display(pd.DataFrame(round(((df_train.isna().mean()*100).sort_values(ascending=False)),2)).style.background_gradient('coolwarm'))\n",
    "display(pd.DataFrame(round(((df_test.isna().mean()*100).sort_values(ascending=False)),2)).style.background_gradient('coolwarm')) "
   ]
  },
  {
   "cell_type": "markdown",
   "metadata": {},
   "source": [
    "**Вывод**    \n",
    "Мы подготовили данные для дальнейшей работы, а для этого мы:\n",
    "    1. проверили верность расчета параметра эффективность обогащения. Табличные данные совпали с расчетными, значит параметр указан верно.    \n",
    "    2. Проанализировали, каких данных не хватает в тестовой выборке\n",
    "    3. устранили найденные пропуски с помощью метода fillna(method=\"ffill\").\n",
    "Данные проверены и теперь мы можем приступать к дальнейшему исследованию."
   ]
  },
  {
   "cell_type": "markdown",
   "metadata": {},
   "source": [
    "## Анализ данных"
   ]
  },
  {
   "cell_type": "markdown",
   "metadata": {},
   "source": [
    "### Исследование концентрации металлов (Au, Ag, Pb) на различных этапах очистки"
   ]
  },
  {
   "cell_type": "markdown",
   "metadata": {},
   "source": [
    "Этапы технологического процесса:    \n",
    "1. флотация золоносной руды (rougher.input.feed) --> черновой концентрат (rougher.output.concentrate)    \n",
    "2. первый этап очистки (primary_cleaner.output.concentrate)    \n",
    "3. финальный концентрат ()    "
   ]
  },
  {
   "cell_type": "code",
   "execution_count": 15,
   "metadata": {},
   "outputs": [],
   "source": [
    "#напишем функцию которая будет рассчитывать концентрацию на каждом этапе\n",
    "def concentration(metal, title):\n",
    "    x_1 = df_full[f'rougher.input.feed_{metal}'] #флотация сырья\n",
    "    x_2 = df_full[f'rougher.output.concentrate_{metal}'] #черновой концентрат\n",
    "    x_3 = df_full[f'primary_cleaner.output.concentrate_{metal}'] #первичная очистка\n",
    "    x_4 = df_full[f'final.output.concentrate_{metal}'] #финальный концентрат\n",
    "   \n",
    "    \n",
    "    plt.figure(figsize = (12, 6))\n",
    "    sns.distplot(x_1, kde_kws = {'label':'флотация сырья'}, color= 'tab:pink')\n",
    "    sns.distplot(x_2, kde_kws = {'label':'черновой концентрат'}, color='tab:green')\n",
    "    sns.distplot(x_3, kde_kws = {'label':'первичная очистка'}, color='tab:orange')\n",
    "    sns.distplot(x_4, kde_kws = {'label':'финальный концентрат'}, color= 'tab:purple')\n",
    "    \n",
    "    \n",
    "    plt.title(label=f'Концентрация {title} на различных этапах очистки', fontsize=15)\n",
    "    plt.xlabel('Концентрация')\n",
    "    plt.ylabel('Количество наблюдений')\n",
    "    plt.legend()\n",
    "    plt.show()"
   ]
  },
  {
   "cell_type": "code",
   "execution_count": 16,
   "metadata": {
    "scrolled": true
   },
   "outputs": [
    {
     "data": {
      "image/png": "[encoded data removed]",
      "text/plain": [
       "<Figure size 864x432 with 1 Axes>"
      ]
     },
     "metadata": {
      "needs_background": "light"
     },
     "output_type": "display_data"
    }
   ],
   "source": [
    "concentration('au', 'золота')"
   ]
  },
  {
   "cell_type": "code",
   "execution_count": 17,
   "metadata": {
    "scrolled": true
   },
   "outputs": [
    {
     "data": {
      "image/png": "[encoded data removed]",
      "text/plain": [
       "<Figure size 864x432 with 1 Axes>"
      ]
     },
     "metadata": {
      "needs_background": "light"
     },
     "output_type": "display_data"
    }
   ],
   "source": [
    "concentration('ag', 'серебра')"
   ]
  },
  {
   "cell_type": "code",
   "execution_count": 18,
   "metadata": {},
   "outputs": [
    {
     "data": {
      "image/png": "[encoded data removed]",
      "text/plain": [
       "<Figure size 864x432 with 1 Axes>"
      ]
     },
     "metadata": {
      "needs_background": "light"
     },
     "output_type": "display_data"
    }
   ],
   "source": [
    "concentration('pb', 'свинца')"
   ]
  },
  {
   "cell_type": "markdown",
   "metadata": {},
   "source": [
    "**Вывод**    \n",
    "- Концентрация золота увеличивается после каждого этапа очистки\n",
    "- После флотации концентрация серебра увеличивается, а в результате дальнейшей обработки, концентрация заметно уменьшается.\n",
    "- Концентрация свинца увелицивается на протяжении всего технологического процесса до момента первичного этапа очистки. После него мы видим небольшое снижение концентрации "
   ]
  },
  {
   "cell_type": "markdown",
   "metadata": {},
   "source": [
    "### Сравнение распределения размеров гранул сырья"
   ]
  },
  {
   "cell_type": "markdown",
   "metadata": {},
   "source": [
    "Сравните распределения размеров гранул сырья на обучающей и тестовой выборках. Если распределения сильно отличаются друг от друга, оценка модели будет неправильной."
   ]
  },
  {
   "cell_type": "code",
   "execution_count": 19,
   "metadata": {},
   "outputs": [],
   "source": [
    "def granule_size(step, title):\n",
    "    x0 = df_train[f'{step}.input.feed_size']\n",
    "    x1 = df_test[f'{step}.input.feed_size']\n",
    "    plt.figure(figsize=(12, 6))\n",
    "    sns.distplot(x0, kde_kws= {\"label\": \"Train\"})\n",
    "    sns.distplot(x1, kde_kws= {\"label\": \"Test\"})\n",
    "    plt.xlabel('Размер гранул')\n",
    "    plt.ylabel('Количество наблюдений')\n",
    "    plt.title(label=f'Распределение размеров гранул сырья для {title}', fontsize=15)\n",
    "    plt.legend()\n",
    "    plt.show()"
   ]
  },
  {
   "cell_type": "code",
   "execution_count": 20,
   "metadata": {
    "scrolled": true
   },
   "outputs": [
    {
     "data": {
      "image/png": "[encoded data removed]",
      "text/plain": [
       "<Figure size 864x432 with 1 Axes>"
      ]
     },
     "metadata": {
      "needs_background": "light"
     },
     "output_type": "display_data"
    }
   ],
   "source": [
    "granule_size('primary_cleaner', 'очистки')"
   ]
  },
  {
   "cell_type": "code",
   "execution_count": 21,
   "metadata": {
    "scrolled": true
   },
   "outputs": [
    {
     "data": {
      "image/png": "[encoded data removed]",
      "text/plain": [
       "<Figure size 864x432 with 1 Axes>"
      ]
     },
     "metadata": {
      "needs_background": "light"
     },
     "output_type": "display_data"
    }
   ],
   "source": [
    "granule_size('rougher', 'флотация')"
   ]
  },
  {
   "cell_type": "markdown",
   "metadata": {},
   "source": [
    "**Вывод**     \n",
    "Как мы видим из гистограмм,распределение размер гранул для обучающей и тестовой выборки практически не отличаются, а значит, оценка модели в дальнейшем будет верной. Может переходить к следующему этапу исследования."
   ]
  },
  {
   "cell_type": "markdown",
   "metadata": {},
   "source": [
    "### Исследование суммарной концентрации всех веществ на разных стадиях"
   ]
  },
  {
   "cell_type": "markdown",
   "metadata": {},
   "source": [
    "Исследуйте суммарную концентрацию всех веществ на разных стадиях: в сырье, в черновом и финальном концентратах.    \n",
    "Заметили аномальные значения в суммарном распределении или нет?    \n",
    "Если они есть, стоит ли их удалять из обеих выборок?    \n",
    "Опишите выводы и удалите аномалии.    "
   ]
  },
  {
   "cell_type": "code",
   "execution_count": 22,
   "metadata": {},
   "outputs": [],
   "source": [
    "def func(sample, stage):\n",
    "    ag = sample[f'{stage}ag']\n",
    "    au = sample[f'{stage}au']\n",
    "    pb = sample[f'{stage}pb']\n",
    "    sol = sample[f'{stage}sol']\n",
    "    total_conc = ag + au + pb + sol\n",
    "    return total_conc"
   ]
  },
  {
   "cell_type": "code",
   "execution_count": 23,
   "metadata": {
    "scrolled": true
   },
   "outputs": [
    {
     "data": {
      "image/png": "[encoded data removed]",
      "text/plain": [
       "<Figure size 432x288 with 1 Axes>"
      ]
     },
     "metadata": {
      "needs_background": "light"
     },
     "output_type": "display_data"
    }
   ],
   "source": [
    "func(df_full, 'rougher.input.feed_').plot(y='total_conc', kind='hist',label='Концентрация веществ в сырье', grid=True, bins=10, range=(0, 90))\n",
    "func(df_full,'rougher.output.concentrate_').plot(y='total_conc', kind='hist',label='Черновой концентрат', grid=True, bins=10, range=(-10, 90))\n",
    "func(df_full,'final.output.concentrate_').plot(y='total_conc', kind='hist',label='Финальный концентрат', grid=True, bins=10, range=(0, 90))\n",
    "plt.title(label='Суммарные концентрации на разных стадиях', fontsize=15)\n",
    "plt.legend()   \n",
    "plt.show()"
   ]
  },
  {
   "cell_type": "markdown",
   "metadata": {},
   "source": [
    "Как мы видим из гистограмм, после флотации в черновом концетрате, суммарная концентрация веществ равна 0, удалим такие значения для чернового концентрата в исходном датасете и в обучающей выборке."
   ]
  },
  {
   "cell_type": "code",
   "execution_count": 24,
   "metadata": {},
   "outputs": [
    {
     "data": {
      "text/plain": [
       "(19439, 89)"
      ]
     },
     "metadata": {},
     "output_type": "display_data"
    },
    {
     "data": {
      "text/plain": [
       "(18949, 89)"
      ]
     },
     "metadata": {},
     "output_type": "display_data"
    }
   ],
   "source": [
    "df_full['rougher.output.total_concentrate'] = df_full[['rougher.output.concentrate_au',\n",
    "                                               'rougher.output.concentrate_ag',\n",
    "                                               'rougher.output.concentrate_pb',\n",
    "                                               'rougher.output.concentrate_sol']].sum(axis=1)\n",
    "df_full['final.output.total_concentrate'] = df_full[['final.output.concentrate_au',\n",
    "                                               'final.output.concentrate_ag',\n",
    "                                               'final.output.concentrate_pb',\n",
    "                                               'final.output.concentrate_sol']].sum(axis=1)\n",
    "df_full_new= df_full[df_full['rougher.output.total_concentrate'] != 0]\n",
    "df_full_new= df_full_new[df_full_new['final.output.total_concentrate'] != 0]\n",
    "display(df_full.shape)\n",
    "display(df_full_new.shape)"
   ]
  },
  {
   "cell_type": "code",
   "execution_count": 25,
   "metadata": {
    "scrolled": false
   },
   "outputs": [
    {
     "data": {
      "text/plain": [
       "(14149, 89)"
      ]
     },
     "metadata": {},
     "output_type": "display_data"
    },
    {
     "data": {
      "text/plain": [
       "(13795, 89)"
      ]
     },
     "metadata": {},
     "output_type": "display_data"
    }
   ],
   "source": [
    "df_train['rougher.output.total_concentrate'] = df_train[['rougher.output.concentrate_au',\n",
    "                                               'rougher.output.concentrate_ag',\n",
    "                                               'rougher.output.concentrate_pb',\n",
    "                                               'rougher.output.concentrate_sol']].sum(axis=1)\n",
    "df_train['final.output.total_concentrate'] = df_train[['final.output.concentrate_au',\n",
    "                                               'final.output.concentrate_ag',\n",
    "                                               'final.output.concentrate_pb',\n",
    "                                               'final.output.concentrate_sol']].sum(axis=1)\n",
    "df_train_new= df_train[df_train['rougher.output.total_concentrate'] != 0]\n",
    "df_train_new= df_train_new[df_train_new['final.output.total_concentrate'] != 0]\n",
    "display(df_train.shape)\n",
    "display(df_train_new.shape)"
   ]
  },
  {
   "cell_type": "markdown",
   "metadata": {},
   "source": [
    "После удаления нулевых значений в черновом концентрате, посмотрим как изменится распределение концентрации"
   ]
  },
  {
   "cell_type": "code",
   "execution_count": 26,
   "metadata": {
    "scrolled": true
   },
   "outputs": [
    {
     "data": {
      "image/png": "[encoded data removed]",
      "text/plain": [
       "<Figure size 432x288 with 1 Axes>"
      ]
     },
     "metadata": {
      "needs_background": "light"
     },
     "output_type": "display_data"
    }
   ],
   "source": [
    "func(df_full_new, 'rougher.input.feed_').plot(y='total_conc', kind='hist',label='Концентрация веществ в сырье', grid=True, bins=10, range=(0, 90))\n",
    "func(df_full_new,'rougher.output.concentrate_').plot(y='total_conc', kind='hist',label='Черновой концентрат', grid=True, bins=10, range=(-10, 90))\n",
    "func(df_full_new,'final.output.concentrate_').plot(y='total_conc', kind='hist',label='Финальный концентрат', grid=True, bins=10, range=(0, 90))\n",
    "plt.title(label='Суммарные концентрации на разных стадиях', fontsize=15)\n",
    "plt.legend()   \n",
    "plt.show()"
   ]
  },
  {
   "cell_type": "markdown",
   "metadata": {},
   "source": [
    "**Вывод**    \n",
    "На данном этапе анализа, мы обнаружили анамалию в данных и устранили ее, удалив нулевые суммарные значения из исходных данных и обучающей выборки. Тестовую выборку мы не затронули, т.к. там нет данных о продукте после флотации и на финальном этапе. Количестводанных сократилось на 2.5%. Кроме того, по результатам анализа гистограмм мы видим, что суммарная концентрация веществ уменьшается после каждого этапа очистки."
   ]
  },
  {
   "cell_type": "markdown",
   "metadata": {},
   "source": [
    "## Модель"
   ]
  },
  {
   "cell_type": "markdown",
   "metadata": {},
   "source": [
    "3.1. Напишите функцию для вычисления итоговой sMAPE.    \n",
    "3.2. Обучите разные модели и оцените их качество кросс-валидацией. Выберите лучшую модель и проверьте её на тестовой выборке.   Опишите выводы.     "
   ]
  },
  {
   "cell_type": "markdown",
   "metadata": {},
   "source": [
    "### Вычисление итоговой sMAPE"
   ]
  },
  {
   "cell_type": "code",
   "execution_count": 27,
   "metadata": {},
   "outputs": [],
   "source": [
    "#создадим функцию для расчета sMAPE\n",
    "def smape(target, predictions): #y_target-целевой признак, y_pred-предсказание\n",
    "    return ((1/len(target)) * np.sum(2 * np.abs(target-predictions) / (np.abs(target) + np.abs(predictions))))*100\n",
    "#сделаем из функции переменную smape_scorer с помощью make_scorer\n",
    "smape_scorer = make_scorer(smape, greater_is_better=False)\n"
   ]
  },
  {
   "cell_type": "markdown",
   "metadata": {},
   "source": [
    "Модель можно обучать только на тех признаках, которые присутствуют в тестовом датасете. Остальные признаки нужно удалить из трейна на этапе обучения модели"
   ]
  },
  {
   "cell_type": "code",
   "execution_count": 28,
   "metadata": {
    "scrolled": false
   },
   "outputs": [
    {
     "data": {
      "text/plain": [
       "(13795, 53)"
      ]
     },
     "metadata": {},
     "output_type": "display_data"
    },
    {
     "data": {
      "text/plain": [
       "(5290, 53)"
      ]
     },
     "metadata": {},
     "output_type": "display_data"
    },
    {
     "data": {
      "text/plain": [
       "(18949, 89)"
      ]
     },
     "metadata": {},
     "output_type": "display_data"
    }
   ],
   "source": [
    "#в обучающей выборке оставляет те же признаки, что и в тестовой выборке\n",
    "df_train = df_train_new[df_test.columns] #обучающая выборка\n",
    "\n",
    "display(df_train.shape)\n",
    "display(df_test.shape)\n",
    "display(df_full_new.shape)"
   ]
  },
  {
   "cell_type": "code",
   "execution_count": 29,
   "metadata": {
    "scrolled": true
   },
   "outputs": [
    {
     "data": {
      "text/plain": [
       "(13795, 89)"
      ]
     },
     "metadata": {},
     "output_type": "display_data"
    },
    {
     "data": {
      "text/plain": [
       "(5290, 89)"
      ]
     },
     "metadata": {},
     "output_type": "display_data"
    }
   ],
   "source": [
    "#чтобы кол-во строк совпадало во всех датафреймах воспользуемся методом merge\n",
    "df_full_train = df_full_new.merge(df_train, how ='right', on = ['date'], suffixes = ('', '_y'))\n",
    "df_full_train.drop(df_full_train.filter(regex='_y$').columns.tolist(),axis=1, inplace=True)\n",
    "\n",
    "df_full_test = df_full_new.merge(df_test, how ='right', on = ['date'], suffixes = ('', '_y'))\n",
    "df_full_test.drop(df_full_test.filter(regex='_y$').columns.tolist(),axis=1, inplace=True)\n",
    "\n",
    "display(df_full_train.shape)\n",
    "display(df_full_test.shape)\n",
    "#uni_function(df_full_test)"
   ]
  },
  {
   "cell_type": "code",
   "execution_count": 30,
   "metadata": {},
   "outputs": [],
   "source": [
    "df_train = df_train.drop('date', axis=1)\n",
    "df_test = df_test.drop('date', axis=1)"
   ]
  },
  {
   "cell_type": "code",
   "execution_count": 31,
   "metadata": {},
   "outputs": [],
   "source": [
    "#флотация\n",
    "features_rougher_train = df_train #признаки \n",
    "features_rougher_test = df_test #признаки \n",
    "target_rougher_train = df_full_train['rougher.output.recovery'] #целевой признак\n",
    "target_rougher_test = df_full_test['rougher.output.recovery'] #целевой признак\n",
    "\n",
    "#Финальный концентрат\n",
    "features_final_train = df_train #признаки \n",
    "features_final_test = df_test #признаки \n",
    "target_final_train = df_full_train['final.output.recovery'] #целевой признак\n",
    "target_final_test = df_full_test['final.output.recovery'] #целевой признак\n"
   ]
  },
  {
   "cell_type": "code",
   "execution_count": 32,
   "metadata": {},
   "outputs": [],
   "source": [
    "# проведем масштабирование признаков этапа флотации\n",
    "scaler_rougher = StandardScaler()\n",
    "scaler_rougher.fit(features_rougher_train)\n",
    "\n",
    "train_col_rougher = features_rougher_train.columns\n",
    "test_col_rougher = features_rougher_test.columns\n",
    "\n",
    "features_rougher_train = scaler_rougher.transform(features_rougher_train)\n",
    "features_rougher_train = pd.DataFrame(features_rougher_train, columns = train_col_rougher)\n",
    "\n",
    "features_rougher_test = scaler_rougher.transform(features_rougher_test)\n",
    "features_rougher_test = pd.DataFrame(features_rougher_test, columns = test_col_rougher)"
   ]
  },
  {
   "cell_type": "code",
   "execution_count": 33,
   "metadata": {},
   "outputs": [],
   "source": [
    "# проведем масштабирование признаков финального этапа\n",
    "\n",
    "scaler_final = StandardScaler()\n",
    "scaler_final.fit(features_final_train)\n",
    "\n",
    "train_col_final = features_final_train.columns\n",
    "test_col_final = features_final_test.columns\n",
    "\n",
    "features_final_train = scaler_final.transform(features_final_train)\n",
    "features_final_train = pd.DataFrame(features_final_train, columns = train_col_final)\n",
    "\n",
    "features_final_test = scaler_final.transform(features_final_test)\n",
    "features_final_test = pd.DataFrame(features_final_test, columns = test_col_final)"
   ]
  },
  {
   "cell_type": "code",
   "execution_count": 34,
   "metadata": {},
   "outputs": [],
   "source": [
    "#Создадим функцию для оценки качества модели с помощью кросс-валидации.\n",
    "def cross_val (model, features, target):\n",
    "    scores = cross_val_score(model, features, \n",
    "                                   target, scoring=smape_scorer, cv=5)\n",
    "    smape_res = np.mean(scores) #Средняя оценка качества модели\n",
    "    return smape_res"
   ]
  },
  {
   "cell_type": "code",
   "execution_count": 35,
   "metadata": {},
   "outputs": [],
   "source": [
    "#Создадим функцию для автоматического вывода smape каждого этапа и финальной sMAPE.\n",
    "def total_smape(model):\n",
    "    smape_rougher = (cross_val(model, features_rougher_train, target_rougher_train))*(-1)\n",
    "    smape_final = (cross_val(model, features_final_train, target_final_train))*(-1)\n",
    "    total_smape = (0.25*smape_rougher + 0.75*smape_final)\n",
    "    print('Средняя оценка качества модели по кросс-валидации на этапе флотации составила:',smape_rougher)\n",
    "    print('Средняя оценка качества модели по кросс-валидации на финальном этапе составила:',smape_final)\n",
    "    print('Итоговое sMAPE по кросс-валидации составило:', total_smape)"
   ]
  },
  {
   "cell_type": "markdown",
   "metadata": {},
   "source": [
    "Спрогнозируем значения sMAPE для следующих алгоритмов:    \n",
    "1. Линейная регрессия;    \n",
    "2. Решающее дерево;\n",
    "3. Случайный лес.    \n",
    "4.В качестве проверки успешности моделей сравним их со случайной моделью, для этого применим DummyRegressor."
   ]
  },
  {
   "cell_type": "code",
   "execution_count": 36,
   "metadata": {
    "scrolled": true
   },
   "outputs": [
    {
     "name": "stdout",
     "output_type": "stream",
     "text": [
      "Средняя оценка качества модели по кросс-валидации на этапе флотации составила: 7.267806730900352\n",
      "Средняя оценка качества модели по кросс-валидации на финальном этапе составила: 10.990200515158017\n",
      "Итоговое sMAPE по кросс-валидации составило: 10.059602069093602\n"
     ]
    }
   ],
   "source": [
    "model = LinearRegression()\n",
    "total_smape(model)"
   ]
  },
  {
   "cell_type": "code",
   "execution_count": 37,
   "metadata": {},
   "outputs": [
    {
     "name": "stdout",
     "output_type": "stream",
     "text": [
      "Средняя оценка качества модели по кросс-валидации на этапе флотации составила: 9.683088746556445\n",
      "Средняя оценка качества модели по кросс-валидации на финальном этапе составила: 17.45264911404371\n",
      "Итоговое sMAPE по кросс-валидации составило: 15.510259022171892\n"
     ]
    }
   ],
   "source": [
    "model = DecisionTreeRegressor()\n",
    "total_smape(model)"
   ]
  },
  {
   "cell_type": "code",
   "execution_count": 38,
   "metadata": {},
   "outputs": [
    {
     "name": "stdout",
     "output_type": "stream",
     "text": [
      "Средняя оценка качества модели по кросс-валидации на этапе флотации составила: 7.335959801674167\n",
      "Средняя оценка качества модели по кросс-валидации на финальном этапе составила: 9.880143375206945\n",
      "Итоговое sMAPE по кросс-валидации составило: 9.24409748182375\n"
     ]
    }
   ],
   "source": [
    "model = RandomForestRegressor()\n",
    "total_smape(model)"
   ]
  },
  {
   "cell_type": "code",
   "execution_count": 39,
   "metadata": {
    "scrolled": true
   },
   "outputs": [
    {
     "name": "stdout",
     "output_type": "stream",
     "text": [
      "Средняя оценка качества модели по кросс-валидации на этапе флотации составила: 7.804618399753869\n",
      "Средняя оценка качества модели по кросс-валидации на финальном этапе составила: 10.447654847065328\n",
      "Итоговое sMAPE по кросс-валидации составило: 9.786895735237463\n"
     ]
    }
   ],
   "source": [
    "model = DummyRegressor()\n",
    "total_smape(model)"
   ]
  },
  {
   "cell_type": "markdown",
   "metadata": {},
   "source": [
    "Исходя из полученных данных мы видим, что итоговое sMAPE получается у случайного леса. Попробуем определить наилучшие параметры для данной модели и оценить как изменится итоговое sMAPE."
   ]
  },
  {
   "cell_type": "code",
   "execution_count": 40,
   "metadata": {},
   "outputs": [
    {
     "name": "stdout",
     "output_type": "stream",
     "text": [
      "Итоговое sMAPE по кросс-валидации составило: 8.50348408799725\n",
      "Оптимальная глубина деревьев: 4\n",
      "Оптимальное количество деревьев: 50\n"
     ]
    }
   ],
   "source": [
    "best_smape = 10\n",
    "best_est = 0\n",
    "best_depth = 0\n",
    "for est in range(10, 51, 10):\n",
    "    for depth in range(1, 11):\n",
    "        model = RandomForestRegressor(random_state=12345, n_estimators=est, max_depth=depth) # обучим модель с заданным количеством деревьев\n",
    "        smape_rougher = (cross_val(model, features_rougher_train, target_rougher_train))*(-1)\n",
    "        smape_final = (cross_val(model, features_final_train, target_final_train))*(-1)\n",
    "        total_smape = (0.25*smape_rougher + 0.75*smape_final)\n",
    "        if total_smape < best_smape:\n",
    "            best_smape = total_smape\n",
    "            best_est = est\n",
    "            best_depth = depth\n",
    "\n",
    "print('Итоговое sMAPE по кросс-валидации составило:', best_smape)\n",
    "print ('Оптимальная глубина деревьев:', best_depth)\n",
    "print ('Оптимальное количество деревьев:', best_est)"
   ]
  },
  {
   "cell_type": "markdown",
   "metadata": {},
   "source": [
    "### Проверка модель на тестовой выборке"
   ]
  },
  {
   "cell_type": "code",
   "execution_count": 41,
   "metadata": {
    "scrolled": false
   },
   "outputs": [
    {
     "name": "stdout",
     "output_type": "stream",
     "text": [
      "Средняя оценка качества по кросс-валидации на этапе флотации составила 4.6396166284048705\n",
      "Средняя оценка качества по кросс-валидации на финальном этапе составила 7.952301564050651\n",
      "Конечная оценка качества по кросс-валидации составила 7.124130330139206\n"
     ]
    }
   ],
   "source": [
    "model_rougher = RandomForestRegressor(max_depth=4, n_estimators=50)\n",
    "model_rougher.fit(features_rougher_train, target_rougher_train)  #обучение модели на тренировочной выборке\n",
    "rougher_test_predictions = model_rougher.predict(features_rougher_test) # код расчёта на тестовой выборке\n",
    "\n",
    "model_final = RandomForestRegressor(max_depth=4, n_estimators=50)\n",
    "model_final.fit(features_final_train, target_final_train)  #обучение модели на тренировочной выборке\n",
    "final_test_predictions = model_final.predict(features_final_test) # код расчёта на тестовой выборке\n",
    "\n",
    "smape_rougher = smape(target_rougher_test, rougher_test_predictions)\n",
    "smape_final = smape(target_final_test, final_test_predictions)\n",
    "smape_end = 0.25 * smape_rougher + 0.75 * smape_final\n",
    "print('Средняя оценка качества по кросс-валидации на этапе флотации составила', smape_rougher)\n",
    "print('Средняя оценка качества по кросс-валидации на финальном этапе составила', smape_final)\n",
    "print('Конечная оценка качества по кросс-валидации составила', smape_end)\n"
   ]
  },
  {
   "cell_type": "markdown",
   "metadata": {},
   "source": [
    "## Итоги"
   ]
  },
  {
   "cell_type": "markdown",
   "metadata": {},
   "source": [
    "В данной работе нами были проделаны следующие шаги:\n",
    "1. Изучены и обработаны исходные данные;\n",
    "2. Нами было проведено исследование суммарных концентрации веществ на различных этапах очистки, в ходе которого мы определили, что концентрация веществ к концу процесса уменьшается;\n",
    "3. Подготовлена автоматизированная функция поиска наилучшего sMAPE с помощью кросс-валидации;\n",
    "4. Наилучшей моделью оказался случайный лес с 50 деревьями и глубиной 4. Финальная sMAPE для данной модели на тестовой выборке составила 7.135."
   ]
  }
 ],
 "metadata": {
  "ExecuteTimeLog": [
   {
    "duration": 823,
    "start_time": "2022-07-06T08:25:01.268Z"
   },
   {
    "duration": 2,
    "start_time": "2022-07-06T08:25:12.304Z"
   },
   {
    "duration": 2139,
    "start_time": "2022-07-06T08:44:25.775Z"
   },
   {
    "duration": 13,
    "start_time": "2022-07-06T08:44:47.232Z"
   },
   {
    "duration": 287,
    "start_time": "2022-07-06T08:44:58.025Z"
   },
   {
    "duration": 767,
    "start_time": "2022-07-06T08:45:31.031Z"
   },
   {
    "duration": 434,
    "start_time": "2022-07-06T08:47:04.548Z"
   },
   {
    "duration": 2524,
    "start_time": "2022-07-06T08:47:14.271Z"
   },
   {
    "duration": 732,
    "start_time": "2022-07-06T08:51:09.217Z"
   },
   {
    "duration": 7,
    "start_time": "2022-07-06T08:51:25.831Z"
   },
   {
    "duration": 16,
    "start_time": "2022-07-06T08:51:34.286Z"
   },
   {
    "duration": 697,
    "start_time": "2022-07-06T08:52:46.866Z"
   },
   {
    "duration": 21,
    "start_time": "2022-07-06T08:52:49.095Z"
   },
   {
    "duration": 706,
    "start_time": "2022-07-06T08:54:08.889Z"
   },
   {
    "duration": 19,
    "start_time": "2022-07-06T08:54:10.579Z"
   },
   {
    "duration": 692,
    "start_time": "2022-07-06T08:55:26.636Z"
   },
   {
    "duration": 14,
    "start_time": "2022-07-06T08:55:29.026Z"
   },
   {
    "duration": 657,
    "start_time": "2022-07-06T08:57:03.933Z"
   },
   {
    "duration": 3,
    "start_time": "2022-07-06T08:57:38.870Z"
   },
   {
    "duration": 3,
    "start_time": "2022-07-06T08:58:22.325Z"
   },
   {
    "duration": 401,
    "start_time": "2022-07-06T08:58:27.504Z"
   },
   {
    "duration": 405,
    "start_time": "2022-07-06T09:13:44.176Z"
   },
   {
    "duration": 6,
    "start_time": "2022-07-06T09:15:11.592Z"
   },
   {
    "duration": 181,
    "start_time": "2022-07-06T09:15:34.238Z"
   },
   {
    "duration": 395,
    "start_time": "2022-07-06T09:16:32.753Z"
   },
   {
    "duration": 410,
    "start_time": "2022-07-06T09:29:33.970Z"
   },
   {
    "duration": 4,
    "start_time": "2022-07-06T09:33:06.308Z"
   },
   {
    "duration": 381,
    "start_time": "2022-07-06T09:33:11.079Z"
   },
   {
    "duration": 17,
    "start_time": "2022-07-06T10:11:25.492Z"
   },
   {
    "duration": 5,
    "start_time": "2022-07-06T10:26:15.173Z"
   },
   {
    "duration": 5,
    "start_time": "2022-07-06T10:26:30.180Z"
   },
   {
    "duration": 6,
    "start_time": "2022-07-06T10:26:56.193Z"
   },
   {
    "duration": 13,
    "start_time": "2022-07-06T10:27:53.688Z"
   },
   {
    "duration": 14,
    "start_time": "2022-07-06T10:28:46.882Z"
   },
   {
    "duration": 7,
    "start_time": "2022-07-06T10:29:04.775Z"
   },
   {
    "duration": 4,
    "start_time": "2022-07-06T12:29:54.876Z"
   },
   {
    "duration": 422,
    "start_time": "2022-07-06T12:29:57.011Z"
   },
   {
    "duration": 3,
    "start_time": "2022-07-06T12:30:43.341Z"
   },
   {
    "duration": 387,
    "start_time": "2022-07-06T12:30:45.384Z"
   },
   {
    "duration": 5,
    "start_time": "2022-07-06T12:30:54.686Z"
   },
   {
    "duration": 397,
    "start_time": "2022-07-06T12:30:55.686Z"
   },
   {
    "duration": 15,
    "start_time": "2022-07-06T12:45:49.650Z"
   },
   {
    "duration": 3,
    "start_time": "2022-07-06T12:45:55.853Z"
   },
   {
    "duration": 3,
    "start_time": "2022-07-06T12:46:02.650Z"
   },
   {
    "duration": 7,
    "start_time": "2022-07-06T13:06:34.673Z"
   },
   {
    "duration": 3,
    "start_time": "2022-07-06T13:07:05.707Z"
   },
   {
    "duration": 6,
    "start_time": "2022-07-06T13:07:23.966Z"
   },
   {
    "duration": 10,
    "start_time": "2022-07-06T13:07:28.284Z"
   },
   {
    "duration": 6,
    "start_time": "2022-07-06T13:08:05.383Z"
   },
   {
    "duration": 665,
    "start_time": "2022-07-06T13:23:52.919Z"
   },
   {
    "duration": 3,
    "start_time": "2022-07-06T13:23:56.675Z"
   },
   {
    "duration": 718,
    "start_time": "2022-07-06T13:23:56.692Z"
   },
   {
    "duration": 3,
    "start_time": "2022-07-06T13:23:57.412Z"
   },
   {
    "duration": 386,
    "start_time": "2022-07-06T13:23:57.417Z"
   },
   {
    "duration": 3,
    "start_time": "2022-07-06T13:23:57.805Z"
   },
   {
    "duration": 6,
    "start_time": "2022-07-06T13:23:57.811Z"
   },
   {
    "duration": 4,
    "start_time": "2022-07-06T13:23:57.819Z"
   },
   {
    "duration": 27,
    "start_time": "2022-07-06T13:23:57.825Z"
   },
   {
    "duration": 4,
    "start_time": "2022-07-06T13:27:28.269Z"
   },
   {
    "duration": 7,
    "start_time": "2022-07-06T13:27:45.217Z"
   },
   {
    "duration": 5,
    "start_time": "2022-07-06T13:29:14.084Z"
   },
   {
    "duration": 3,
    "start_time": "2022-07-06T13:29:18.661Z"
   },
   {
    "duration": 7,
    "start_time": "2022-07-06T13:29:28.261Z"
   },
   {
    "duration": 6,
    "start_time": "2022-07-06T13:33:06.653Z"
   },
   {
    "duration": 10,
    "start_time": "2022-07-06T13:33:50.854Z"
   },
   {
    "duration": 6,
    "start_time": "2022-07-06T13:33:56.384Z"
   },
   {
    "duration": 35,
    "start_time": "2022-07-06T13:35:17.390Z"
   },
   {
    "duration": 10,
    "start_time": "2022-07-06T13:44:30.347Z"
   },
   {
    "duration": 8,
    "start_time": "2022-07-06T13:44:36.868Z"
   },
   {
    "duration": 5,
    "start_time": "2022-07-06T13:50:46.794Z"
   },
   {
    "duration": 7,
    "start_time": "2022-07-06T13:50:52.327Z"
   },
   {
    "duration": 5,
    "start_time": "2022-07-06T13:50:54.577Z"
   },
   {
    "duration": 5,
    "start_time": "2022-07-06T13:51:43.946Z"
   },
   {
    "duration": 7,
    "start_time": "2022-07-06T15:11:35.137Z"
   },
   {
    "duration": 6,
    "start_time": "2022-07-06T15:11:37.566Z"
   },
   {
    "duration": 4,
    "start_time": "2022-07-06T15:14:49.232Z"
   },
   {
    "duration": 2,
    "start_time": "2022-07-06T15:19:44.706Z"
   },
   {
    "duration": 3,
    "start_time": "2022-07-06T15:21:44.850Z"
   },
   {
    "duration": 5,
    "start_time": "2022-07-06T15:21:59.032Z"
   },
   {
    "duration": 8,
    "start_time": "2022-07-06T15:26:51.691Z"
   },
   {
    "duration": 69,
    "start_time": "2022-07-06T15:27:08.518Z"
   },
   {
    "duration": 3,
    "start_time": "2022-07-06T15:27:43.391Z"
   },
   {
    "duration": 19,
    "start_time": "2022-07-06T15:28:10.348Z"
   },
   {
    "duration": 15,
    "start_time": "2022-07-06T15:29:43.968Z"
   },
   {
    "duration": 2,
    "start_time": "2022-07-06T15:29:51.267Z"
   },
   {
    "duration": 20,
    "start_time": "2022-07-06T15:31:00.135Z"
   },
   {
    "duration": 13,
    "start_time": "2022-07-06T15:33:32.083Z"
   },
   {
    "duration": 85,
    "start_time": "2022-07-06T15:33:50.829Z"
   },
   {
    "duration": 13,
    "start_time": "2022-07-06T15:34:31.164Z"
   },
   {
    "duration": 17,
    "start_time": "2022-07-06T15:34:46.864Z"
   },
   {
    "duration": 13,
    "start_time": "2022-07-06T15:38:14.827Z"
   },
   {
    "duration": 9,
    "start_time": "2022-07-06T15:38:32.951Z"
   },
   {
    "duration": 10,
    "start_time": "2022-07-06T15:38:37.978Z"
   },
   {
    "duration": 2,
    "start_time": "2022-07-06T15:38:45.419Z"
   },
   {
    "duration": 619,
    "start_time": "2022-07-06T15:38:45.423Z"
   },
   {
    "duration": 2,
    "start_time": "2022-07-06T15:38:46.044Z"
   },
   {
    "duration": 414,
    "start_time": "2022-07-06T15:38:46.051Z"
   },
   {
    "duration": 2,
    "start_time": "2022-07-06T15:38:46.468Z"
   },
   {
    "duration": 5,
    "start_time": "2022-07-06T15:38:46.471Z"
   },
   {
    "duration": 9,
    "start_time": "2022-07-06T15:38:46.477Z"
   },
   {
    "duration": 6,
    "start_time": "2022-07-06T15:38:46.487Z"
   },
   {
    "duration": 7,
    "start_time": "2022-07-06T15:38:46.494Z"
   },
   {
    "duration": 11,
    "start_time": "2022-07-06T15:38:46.502Z"
   },
   {
    "duration": 2,
    "start_time": "2022-07-06T15:38:46.514Z"
   },
   {
    "duration": 15,
    "start_time": "2022-07-06T15:39:05.311Z"
   },
   {
    "duration": 13,
    "start_time": "2022-07-06T15:39:49.493Z"
   },
   {
    "duration": 2,
    "start_time": "2022-07-06T15:40:10.300Z"
   },
   {
    "duration": 587,
    "start_time": "2022-07-06T15:40:10.306Z"
   },
   {
    "duration": 2,
    "start_time": "2022-07-06T15:40:10.896Z"
   },
   {
    "duration": 407,
    "start_time": "2022-07-06T15:40:10.900Z"
   },
   {
    "duration": 2,
    "start_time": "2022-07-06T15:40:11.308Z"
   },
   {
    "duration": 8,
    "start_time": "2022-07-06T15:40:11.312Z"
   },
   {
    "duration": 10,
    "start_time": "2022-07-06T15:40:11.321Z"
   },
   {
    "duration": 6,
    "start_time": "2022-07-06T15:40:11.332Z"
   },
   {
    "duration": 13,
    "start_time": "2022-07-06T15:40:11.340Z"
   },
   {
    "duration": 12,
    "start_time": "2022-07-06T15:40:11.354Z"
   },
   {
    "duration": 10,
    "start_time": "2022-07-06T15:40:11.367Z"
   },
   {
    "duration": 0,
    "start_time": "2022-07-06T15:40:11.378Z"
   },
   {
    "duration": 10,
    "start_time": "2022-07-06T15:43:07.673Z"
   },
   {
    "duration": 6,
    "start_time": "2022-07-06T15:43:43.495Z"
   },
   {
    "duration": 22,
    "start_time": "2022-07-06T15:48:33.954Z"
   },
   {
    "duration": 30,
    "start_time": "2022-07-06T15:55:21.122Z"
   },
   {
    "duration": 1547,
    "start_time": "2022-07-07T09:13:44.134Z"
   },
   {
    "duration": 3301,
    "start_time": "2022-07-07T09:13:45.684Z"
   },
   {
    "duration": 3,
    "start_time": "2022-07-07T09:13:48.986Z"
   },
   {
    "duration": 392,
    "start_time": "2022-07-07T09:13:48.991Z"
   },
   {
    "duration": 2,
    "start_time": "2022-07-07T09:13:49.386Z"
   },
   {
    "duration": 14,
    "start_time": "2022-07-07T09:13:49.390Z"
   },
   {
    "duration": 10,
    "start_time": "2022-07-07T09:13:49.406Z"
   },
   {
    "duration": 8,
    "start_time": "2022-07-07T09:13:49.417Z"
   },
   {
    "duration": 8,
    "start_time": "2022-07-07T09:13:49.426Z"
   },
   {
    "duration": 71,
    "start_time": "2022-07-07T09:13:49.435Z"
   },
   {
    "duration": 19,
    "start_time": "2022-07-07T09:13:49.508Z"
   },
   {
    "duration": 22,
    "start_time": "2022-07-07T09:13:49.529Z"
   },
   {
    "duration": 120,
    "start_time": "2022-07-07T09:13:49.552Z"
   },
   {
    "duration": 8,
    "start_time": "2022-07-07T09:15:08.043Z"
   },
   {
    "duration": 39,
    "start_time": "2022-07-07T09:34:16.468Z"
   },
   {
    "duration": 46,
    "start_time": "2022-07-07T09:34:54.043Z"
   },
   {
    "duration": 21,
    "start_time": "2022-07-07T09:35:58.044Z"
   },
   {
    "duration": 2,
    "start_time": "2022-07-07T09:37:44.343Z"
   },
   {
    "duration": 671,
    "start_time": "2022-07-07T09:37:44.347Z"
   },
   {
    "duration": 4,
    "start_time": "2022-07-07T09:37:45.020Z"
   },
   {
    "duration": 373,
    "start_time": "2022-07-07T09:37:45.026Z"
   },
   {
    "duration": 3,
    "start_time": "2022-07-07T09:37:45.404Z"
   },
   {
    "duration": 7,
    "start_time": "2022-07-07T09:37:45.408Z"
   },
   {
    "duration": 9,
    "start_time": "2022-07-07T09:37:45.416Z"
   },
   {
    "duration": 7,
    "start_time": "2022-07-07T09:37:45.426Z"
   },
   {
    "duration": 5,
    "start_time": "2022-07-07T09:37:45.435Z"
   },
   {
    "duration": 18,
    "start_time": "2022-07-07T09:37:45.442Z"
   },
   {
    "duration": 48,
    "start_time": "2022-07-07T09:37:45.461Z"
   },
   {
    "duration": 21,
    "start_time": "2022-07-07T09:37:45.511Z"
   },
   {
    "duration": 37,
    "start_time": "2022-07-07T09:37:45.533Z"
   },
   {
    "duration": 42,
    "start_time": "2022-07-07T09:37:45.572Z"
   },
   {
    "duration": 54,
    "start_time": "2022-07-07T09:38:05.680Z"
   },
   {
    "duration": 21,
    "start_time": "2022-07-07T09:38:08.445Z"
   },
   {
    "duration": 19,
    "start_time": "2022-07-07T09:39:47.867Z"
   },
   {
    "duration": 29,
    "start_time": "2022-07-07T09:40:25.255Z"
   },
   {
    "duration": 21,
    "start_time": "2022-07-07T09:40:33.305Z"
   },
   {
    "duration": 15,
    "start_time": "2022-07-07T09:40:40.363Z"
   },
   {
    "duration": 54,
    "start_time": "2022-07-07T09:41:27.703Z"
   },
   {
    "duration": 3,
    "start_time": "2022-07-07T09:41:44.368Z"
   },
   {
    "duration": 113,
    "start_time": "2022-07-07T09:53:21.756Z"
   },
   {
    "duration": 2,
    "start_time": "2022-07-07T11:33:24.412Z"
   },
   {
    "duration": 2,
    "start_time": "2022-07-07T11:33:27.772Z"
   },
   {
    "duration": 2,
    "start_time": "2022-07-07T11:33:30.796Z"
   },
   {
    "duration": 3,
    "start_time": "2022-07-07T11:37:20.794Z"
   },
   {
    "duration": 62,
    "start_time": "2022-07-07T11:54:11.541Z"
   },
   {
    "duration": 701,
    "start_time": "2022-07-07T11:54:11.606Z"
   },
   {
    "duration": 3,
    "start_time": "2022-07-07T11:54:12.309Z"
   },
   {
    "duration": 361,
    "start_time": "2022-07-07T11:54:12.313Z"
   },
   {
    "duration": 2,
    "start_time": "2022-07-07T11:54:12.676Z"
   },
   {
    "duration": 5,
    "start_time": "2022-07-07T11:54:12.680Z"
   },
   {
    "duration": 18,
    "start_time": "2022-07-07T11:54:12.686Z"
   },
   {
    "duration": 4,
    "start_time": "2022-07-07T11:54:12.705Z"
   },
   {
    "duration": 5,
    "start_time": "2022-07-07T11:54:12.711Z"
   },
   {
    "duration": 5,
    "start_time": "2022-07-07T11:54:12.717Z"
   },
   {
    "duration": 5,
    "start_time": "2022-07-07T11:54:12.724Z"
   },
   {
    "duration": 5,
    "start_time": "2022-07-07T11:54:12.730Z"
   },
   {
    "duration": 17,
    "start_time": "2022-07-07T11:54:12.737Z"
   },
   {
    "duration": 3,
    "start_time": "2022-07-07T11:54:12.756Z"
   },
   {
    "duration": 44,
    "start_time": "2022-07-07T11:54:12.760Z"
   },
   {
    "duration": 7,
    "start_time": "2022-07-07T12:19:20.136Z"
   },
   {
    "duration": 11,
    "start_time": "2022-07-07T12:21:09.791Z"
   },
   {
    "duration": 4,
    "start_time": "2022-07-07T12:28:37.132Z"
   },
   {
    "duration": 9,
    "start_time": "2022-07-07T12:28:38.868Z"
   },
   {
    "duration": 8,
    "start_time": "2022-07-07T12:28:45.087Z"
   },
   {
    "duration": 1443,
    "start_time": "2022-07-07T12:29:03.493Z"
   },
   {
    "duration": 5,
    "start_time": "2022-07-07T12:29:27.351Z"
   },
   {
    "duration": 1702,
    "start_time": "2022-07-07T12:29:29.260Z"
   },
   {
    "duration": 5,
    "start_time": "2022-07-07T12:32:12.755Z"
   },
   {
    "duration": 285,
    "start_time": "2022-07-07T12:32:14.562Z"
   },
   {
    "duration": 5,
    "start_time": "2022-07-07T12:32:40.836Z"
   },
   {
    "duration": 2073,
    "start_time": "2022-07-07T12:32:43.323Z"
   },
   {
    "duration": 4,
    "start_time": "2022-07-07T12:34:05.308Z"
   },
   {
    "duration": 7,
    "start_time": "2022-07-07T12:35:50.968Z"
   },
   {
    "duration": 2448,
    "start_time": "2022-07-07T12:35:52.929Z"
   },
   {
    "duration": 5,
    "start_time": "2022-07-07T12:37:58.181Z"
   },
   {
    "duration": 1558,
    "start_time": "2022-07-07T12:38:00.962Z"
   },
   {
    "duration": 11,
    "start_time": "2022-07-07T12:44:00.290Z"
   },
   {
    "duration": 4,
    "start_time": "2022-07-07T12:44:05.854Z"
   },
   {
    "duration": 14,
    "start_time": "2022-07-07T12:44:20.593Z"
   },
   {
    "duration": 4,
    "start_time": "2022-07-07T12:45:07.834Z"
   },
   {
    "duration": 23,
    "start_time": "2022-07-07T12:45:10.219Z"
   },
   {
    "duration": 5,
    "start_time": "2022-07-07T12:45:52.098Z"
   },
   {
    "duration": 4,
    "start_time": "2022-07-07T12:47:18.518Z"
   },
   {
    "duration": 19,
    "start_time": "2022-07-07T12:47:21.496Z"
   },
   {
    "duration": 5,
    "start_time": "2022-07-07T12:47:55.783Z"
   },
   {
    "duration": 19,
    "start_time": "2022-07-07T12:47:58.467Z"
   },
   {
    "duration": 4,
    "start_time": "2022-07-07T12:48:16.357Z"
   },
   {
    "duration": 213,
    "start_time": "2022-07-07T12:48:18.624Z"
   },
   {
    "duration": 4,
    "start_time": "2022-07-07T12:51:50.075Z"
   },
   {
    "duration": 446,
    "start_time": "2022-07-07T12:51:54.158Z"
   },
   {
    "duration": 5,
    "start_time": "2022-07-07T12:53:31.795Z"
   },
   {
    "duration": 2039,
    "start_time": "2022-07-07T12:53:34.248Z"
   },
   {
    "duration": 5,
    "start_time": "2022-07-07T12:56:03.822Z"
   },
   {
    "duration": 5,
    "start_time": "2022-07-07T12:56:38.723Z"
   },
   {
    "duration": 1433,
    "start_time": "2022-07-07T12:56:39.887Z"
   },
   {
    "duration": 5,
    "start_time": "2022-07-07T12:57:50.577Z"
   },
   {
    "duration": 14,
    "start_time": "2022-07-07T12:57:51.838Z"
   },
   {
    "duration": 5,
    "start_time": "2022-07-07T12:59:47.985Z"
   },
   {
    "duration": 1611,
    "start_time": "2022-07-07T12:59:51.004Z"
   },
   {
    "duration": 5,
    "start_time": "2022-07-07T13:03:40.560Z"
   },
   {
    "duration": 1428,
    "start_time": "2022-07-07T13:03:43.569Z"
   },
   {
    "duration": 71,
    "start_time": "2022-07-07T14:19:48.958Z"
   },
   {
    "duration": 4,
    "start_time": "2022-07-07T14:20:23.094Z"
   },
   {
    "duration": 23,
    "start_time": "2022-07-07T14:20:33.560Z"
   },
   {
    "duration": 4,
    "start_time": "2022-07-07T14:21:07.865Z"
   },
   {
    "duration": 521,
    "start_time": "2022-07-07T14:21:10.403Z"
   },
   {
    "duration": 4,
    "start_time": "2022-07-07T14:24:01.226Z"
   },
   {
    "duration": 1418,
    "start_time": "2022-07-07T14:24:02.486Z"
   },
   {
    "duration": 5,
    "start_time": "2022-07-07T14:25:32.121Z"
   },
   {
    "duration": 1549,
    "start_time": "2022-07-07T14:25:34.462Z"
   },
   {
    "duration": 3,
    "start_time": "2022-07-07T14:26:25.134Z"
   },
   {
    "duration": 3,
    "start_time": "2022-07-07T14:26:26.058Z"
   },
   {
    "duration": 1416,
    "start_time": "2022-07-07T14:29:15.820Z"
   },
   {
    "duration": 1457,
    "start_time": "2022-07-07T14:29:18.819Z"
   },
   {
    "duration": 6,
    "start_time": "2022-07-07T14:43:07.091Z"
   },
   {
    "duration": 1540,
    "start_time": "2022-07-07T14:43:09.088Z"
   },
   {
    "duration": 3,
    "start_time": "2022-07-07T15:06:43.967Z"
   },
   {
    "duration": 19,
    "start_time": "2022-07-07T15:08:38.169Z"
   },
   {
    "duration": 4,
    "start_time": "2022-07-07T15:09:00.118Z"
   },
   {
    "duration": 21,
    "start_time": "2022-07-07T15:09:05.199Z"
   },
   {
    "duration": 4,
    "start_time": "2022-07-07T15:09:09.962Z"
   },
   {
    "duration": 31,
    "start_time": "2022-07-07T15:09:14.539Z"
   },
   {
    "duration": 5,
    "start_time": "2022-07-07T15:10:19.415Z"
   },
   {
    "duration": 700,
    "start_time": "2022-07-07T15:10:21.167Z"
   },
   {
    "duration": 390,
    "start_time": "2022-07-07T15:24:43.856Z"
   },
   {
    "duration": 5,
    "start_time": "2022-07-07T15:27:13.255Z"
   },
   {
    "duration": 4,
    "start_time": "2022-07-07T15:27:29.358Z"
   },
   {
    "duration": 12,
    "start_time": "2022-07-07T15:29:24.690Z"
   },
   {
    "duration": 4,
    "start_time": "2022-07-07T15:29:28.739Z"
   },
   {
    "duration": 5,
    "start_time": "2022-07-07T15:29:43.274Z"
   },
   {
    "duration": 578,
    "start_time": "2022-07-07T15:29:45.342Z"
   },
   {
    "duration": 4,
    "start_time": "2022-07-07T15:30:32.100Z"
   },
   {
    "duration": 718,
    "start_time": "2022-07-07T15:30:35.498Z"
   },
   {
    "duration": 622,
    "start_time": "2022-07-07T15:31:23.897Z"
   },
   {
    "duration": 10,
    "start_time": "2022-07-08T06:10:19.442Z"
   },
   {
    "duration": 63,
    "start_time": "2022-07-08T06:10:31.605Z"
   },
   {
    "duration": 1874,
    "start_time": "2022-07-08T06:10:37.642Z"
   },
   {
    "duration": 1730,
    "start_time": "2022-07-08T06:10:39.518Z"
   },
   {
    "duration": 8,
    "start_time": "2022-07-08T06:10:41.250Z"
   },
   {
    "duration": 470,
    "start_time": "2022-07-08T06:10:41.260Z"
   },
   {
    "duration": 3,
    "start_time": "2022-07-08T06:10:41.733Z"
   },
   {
    "duration": 3,
    "start_time": "2022-07-08T06:10:41.738Z"
   },
   {
    "duration": 41,
    "start_time": "2022-07-08T06:10:41.743Z"
   },
   {
    "duration": 64,
    "start_time": "2022-07-08T06:10:41.786Z"
   },
   {
    "duration": 22,
    "start_time": "2022-07-08T06:10:41.852Z"
   },
   {
    "duration": 12,
    "start_time": "2022-07-08T06:10:41.877Z"
   },
   {
    "duration": 13,
    "start_time": "2022-07-08T06:10:41.891Z"
   },
   {
    "duration": 18,
    "start_time": "2022-07-08T06:10:41.906Z"
   },
   {
    "duration": 57,
    "start_time": "2022-07-08T06:10:41.927Z"
   },
   {
    "duration": 64,
    "start_time": "2022-07-08T06:10:41.987Z"
   },
   {
    "duration": 11,
    "start_time": "2022-07-08T06:10:42.054Z"
   },
   {
    "duration": 1504,
    "start_time": "2022-07-08T06:10:42.067Z"
   },
   {
    "duration": 6,
    "start_time": "2022-07-08T06:10:43.573Z"
   },
   {
    "duration": 2172,
    "start_time": "2022-07-08T06:10:43.581Z"
   },
   {
    "duration": 2566,
    "start_time": "2022-07-08T06:10:45.755Z"
   },
   {
    "duration": 6,
    "start_time": "2022-07-08T06:10:48.324Z"
   },
   {
    "duration": 644,
    "start_time": "2022-07-08T06:10:48.333Z"
   },
   {
    "duration": 600,
    "start_time": "2022-07-08T06:10:48.980Z"
   },
   {
    "duration": 5,
    "start_time": "2022-07-08T06:12:02.611Z"
   },
   {
    "duration": 2053,
    "start_time": "2022-07-08T06:12:04.631Z"
   },
   {
    "duration": 2056,
    "start_time": "2022-07-08T06:13:04.299Z"
   },
   {
    "duration": 5,
    "start_time": "2022-07-08T06:13:15.703Z"
   },
   {
    "duration": 4,
    "start_time": "2022-07-08T06:13:19.657Z"
   },
   {
    "duration": 802,
    "start_time": "2022-07-08T06:13:19.663Z"
   },
   {
    "duration": 3,
    "start_time": "2022-07-08T06:13:20.468Z"
   },
   {
    "duration": 461,
    "start_time": "2022-07-08T06:13:20.474Z"
   },
   {
    "duration": 3,
    "start_time": "2022-07-08T06:13:20.937Z"
   },
   {
    "duration": 23,
    "start_time": "2022-07-08T06:13:20.942Z"
   },
   {
    "duration": 16,
    "start_time": "2022-07-08T06:13:20.967Z"
   },
   {
    "duration": 11,
    "start_time": "2022-07-08T06:13:20.985Z"
   },
   {
    "duration": 12,
    "start_time": "2022-07-08T06:13:20.998Z"
   },
   {
    "duration": 34,
    "start_time": "2022-07-08T06:13:21.013Z"
   },
   {
    "duration": 9,
    "start_time": "2022-07-08T06:13:21.051Z"
   },
   {
    "duration": 17,
    "start_time": "2022-07-08T06:13:21.062Z"
   },
   {
    "duration": 47,
    "start_time": "2022-07-08T06:13:21.081Z"
   },
   {
    "duration": 32,
    "start_time": "2022-07-08T06:13:21.133Z"
   },
   {
    "duration": 28,
    "start_time": "2022-07-08T06:13:21.167Z"
   },
   {
    "duration": 1866,
    "start_time": "2022-07-08T06:13:21.197Z"
   },
   {
    "duration": 1821,
    "start_time": "2022-07-08T06:13:23.065Z"
   },
   {
    "duration": 1567,
    "start_time": "2022-07-08T06:13:24.888Z"
   },
   {
    "duration": 4,
    "start_time": "2022-07-08T06:13:26.457Z"
   },
   {
    "duration": 639,
    "start_time": "2022-07-08T06:13:26.463Z"
   },
   {
    "duration": 747,
    "start_time": "2022-07-08T06:13:27.104Z"
   },
   {
    "duration": 8,
    "start_time": "2022-07-08T06:14:09.100Z"
   },
   {
    "duration": 6,
    "start_time": "2022-07-08T06:14:13.362Z"
   },
   {
    "duration": 1586,
    "start_time": "2022-07-08T06:14:15.220Z"
   },
   {
    "duration": 5,
    "start_time": "2022-07-08T06:15:25.174Z"
   },
   {
    "duration": 15,
    "start_time": "2022-07-08T06:15:26.495Z"
   },
   {
    "duration": 5,
    "start_time": "2022-07-08T06:15:36.766Z"
   },
   {
    "duration": 1613,
    "start_time": "2022-07-08T06:15:37.374Z"
   },
   {
    "duration": 6,
    "start_time": "2022-07-08T06:18:23.558Z"
   },
   {
    "duration": 1786,
    "start_time": "2022-07-08T06:18:25.603Z"
   },
   {
    "duration": 7,
    "start_time": "2022-07-08T06:18:35.953Z"
   },
   {
    "duration": 1661,
    "start_time": "2022-07-08T06:18:37.423Z"
   },
   {
    "duration": 1796,
    "start_time": "2022-07-08T06:18:47.996Z"
   },
   {
    "duration": 1789,
    "start_time": "2022-07-08T06:18:55.097Z"
   },
   {
    "duration": 5,
    "start_time": "2022-07-08T06:19:37.043Z"
   },
   {
    "duration": 730,
    "start_time": "2022-07-08T06:19:38.885Z"
   },
   {
    "duration": 717,
    "start_time": "2022-07-08T06:19:47.345Z"
   },
   {
    "duration": 2019,
    "start_time": "2022-07-08T10:35:32.503Z"
   },
   {
    "duration": 3651,
    "start_time": "2022-07-08T10:35:34.525Z"
   },
   {
    "duration": 4,
    "start_time": "2022-07-08T10:35:38.178Z"
   },
   {
    "duration": 415,
    "start_time": "2022-07-08T10:35:38.184Z"
   },
   {
    "duration": 3,
    "start_time": "2022-07-08T10:35:38.602Z"
   },
   {
    "duration": 7,
    "start_time": "2022-07-08T10:35:38.607Z"
   },
   {
    "duration": 10,
    "start_time": "2022-07-08T10:35:38.616Z"
   },
   {
    "duration": 6,
    "start_time": "2022-07-08T10:35:38.627Z"
   },
   {
    "duration": 7,
    "start_time": "2022-07-08T10:35:38.635Z"
   },
   {
    "duration": 4,
    "start_time": "2022-07-08T10:35:38.644Z"
   },
   {
    "duration": 3,
    "start_time": "2022-07-08T10:35:38.651Z"
   },
   {
    "duration": 8,
    "start_time": "2022-07-08T10:35:38.702Z"
   },
   {
    "duration": 24,
    "start_time": "2022-07-08T10:35:38.712Z"
   },
   {
    "duration": 3,
    "start_time": "2022-07-08T10:35:38.739Z"
   },
   {
    "duration": 6,
    "start_time": "2022-07-08T10:35:38.744Z"
   },
   {
    "duration": 1655,
    "start_time": "2022-07-08T10:35:38.752Z"
   },
   {
    "duration": 1741,
    "start_time": "2022-07-08T10:35:40.408Z"
   },
   {
    "duration": 1675,
    "start_time": "2022-07-08T10:35:42.151Z"
   },
   {
    "duration": 5,
    "start_time": "2022-07-08T10:35:43.828Z"
   },
   {
    "duration": 652,
    "start_time": "2022-07-08T10:35:43.835Z"
   },
   {
    "duration": 618,
    "start_time": "2022-07-08T10:35:44.489Z"
   },
   {
    "duration": 3,
    "start_time": "2022-07-08T10:56:21.737Z"
   },
   {
    "duration": 123,
    "start_time": "2022-07-08T10:57:20.887Z"
   },
   {
    "duration": 4,
    "start_time": "2022-07-08T10:58:22.295Z"
   },
   {
    "duration": 13,
    "start_time": "2022-07-08T10:58:23.490Z"
   },
   {
    "duration": 3,
    "start_time": "2022-07-08T11:00:28.821Z"
   },
   {
    "duration": 21,
    "start_time": "2022-07-08T11:00:31.298Z"
   },
   {
    "duration": 4,
    "start_time": "2022-07-08T11:01:34.896Z"
   },
   {
    "duration": 17,
    "start_time": "2022-07-08T11:01:36.265Z"
   },
   {
    "duration": 5,
    "start_time": "2022-07-08T11:05:07.037Z"
   },
   {
    "duration": 5,
    "start_time": "2022-07-08T11:05:09.101Z"
   },
   {
    "duration": 6,
    "start_time": "2022-07-08T11:05:25.622Z"
   },
   {
    "duration": 6,
    "start_time": "2022-07-08T11:05:36.975Z"
   },
   {
    "duration": 3,
    "start_time": "2022-07-08T11:10:36.293Z"
   },
   {
    "duration": 6,
    "start_time": "2022-07-08T11:10:38.436Z"
   },
   {
    "duration": 4,
    "start_time": "2022-07-08T11:11:09.642Z"
   },
   {
    "duration": 10,
    "start_time": "2022-07-08T11:11:10.835Z"
   },
   {
    "duration": 3,
    "start_time": "2022-07-08T11:11:24.279Z"
   },
   {
    "duration": 8,
    "start_time": "2022-07-08T11:11:25.081Z"
   },
   {
    "duration": 4,
    "start_time": "2022-07-08T11:13:10.476Z"
   },
   {
    "duration": 9,
    "start_time": "2022-07-08T11:13:11.309Z"
   },
   {
    "duration": 4,
    "start_time": "2022-07-08T11:13:17.321Z"
   },
   {
    "duration": 9,
    "start_time": "2022-07-08T11:13:19.322Z"
   },
   {
    "duration": 287,
    "start_time": "2022-07-08T11:21:59.568Z"
   },
   {
    "duration": 280,
    "start_time": "2022-07-08T11:22:12.661Z"
   },
   {
    "duration": 154,
    "start_time": "2022-07-08T11:22:59.622Z"
   },
   {
    "duration": 147,
    "start_time": "2022-07-08T11:23:23.751Z"
   },
   {
    "duration": 3,
    "start_time": "2022-07-08T11:25:05.122Z"
   },
   {
    "duration": 149,
    "start_time": "2022-07-08T11:25:11.710Z"
   },
   {
    "duration": 152,
    "start_time": "2022-07-08T11:25:41.081Z"
   },
   {
    "duration": 142,
    "start_time": "2022-07-08T11:39:16.166Z"
   },
   {
    "duration": 1309,
    "start_time": "2022-07-08T11:41:12.043Z"
   },
   {
    "duration": 1439,
    "start_time": "2022-07-08T11:42:09.850Z"
   },
   {
    "duration": 1291,
    "start_time": "2022-07-08T11:45:50.163Z"
   },
   {
    "duration": 4,
    "start_time": "2022-07-08T11:45:55.107Z"
   },
   {
    "duration": 13,
    "start_time": "2022-07-08T11:45:57.241Z"
   },
   {
    "duration": 4,
    "start_time": "2022-07-08T11:46:05.501Z"
   },
   {
    "duration": 188,
    "start_time": "2022-07-08T11:46:06.663Z"
   },
   {
    "duration": 136,
    "start_time": "2022-07-08T11:46:09.329Z"
   },
   {
    "duration": 150,
    "start_time": "2022-07-08T11:46:11.438Z"
   },
   {
    "duration": 161,
    "start_time": "2022-07-08T11:47:54.457Z"
   },
   {
    "duration": 171,
    "start_time": "2022-07-08T11:48:01.574Z"
   },
   {
    "duration": 271,
    "start_time": "2022-07-08T11:48:10.837Z"
   },
   {
    "duration": 147,
    "start_time": "2022-07-08T11:48:34.053Z"
   },
   {
    "duration": 135,
    "start_time": "2022-07-08T11:48:45.461Z"
   },
   {
    "duration": 150,
    "start_time": "2022-07-08T11:48:50.745Z"
   },
   {
    "duration": 233,
    "start_time": "2022-07-08T11:48:56.800Z"
   },
   {
    "duration": 158,
    "start_time": "2022-07-08T11:49:20.747Z"
   },
   {
    "duration": 141,
    "start_time": "2022-07-08T11:49:27.456Z"
   },
   {
    "duration": 171,
    "start_time": "2022-07-08T11:49:40.992Z"
   },
   {
    "duration": 158,
    "start_time": "2022-07-08T11:49:48.169Z"
   },
   {
    "duration": 174,
    "start_time": "2022-07-08T11:49:55.194Z"
   },
   {
    "duration": 144,
    "start_time": "2022-07-08T11:50:07.421Z"
   },
   {
    "duration": 14,
    "start_time": "2022-07-08T12:07:26.086Z"
   },
   {
    "duration": 283,
    "start_time": "2022-07-08T12:08:03.065Z"
   },
   {
    "duration": 12,
    "start_time": "2022-07-08T12:08:10.313Z"
   },
   {
    "duration": 11,
    "start_time": "2022-07-08T12:08:21.147Z"
   },
   {
    "duration": 4,
    "start_time": "2022-07-08T12:10:29.418Z"
   },
   {
    "duration": 150,
    "start_time": "2022-07-08T12:12:47.062Z"
   },
   {
    "duration": 10,
    "start_time": "2022-07-08T12:15:57.169Z"
   },
   {
    "duration": 6,
    "start_time": "2022-07-08T12:16:06.050Z"
   },
   {
    "duration": 144,
    "start_time": "2022-07-08T12:16:51.917Z"
   },
   {
    "duration": 119,
    "start_time": "2022-07-08T12:16:58.009Z"
   },
   {
    "duration": 158,
    "start_time": "2022-07-08T12:18:29.378Z"
   },
   {
    "duration": 179,
    "start_time": "2022-07-08T12:19:13.406Z"
   },
   {
    "duration": 239,
    "start_time": "2022-07-08T12:19:35.128Z"
   },
   {
    "duration": 168,
    "start_time": "2022-07-08T12:19:43.397Z"
   },
   {
    "duration": 158,
    "start_time": "2022-07-08T12:20:01.253Z"
   },
   {
    "duration": 188,
    "start_time": "2022-07-08T12:20:06.439Z"
   },
   {
    "duration": 12,
    "start_time": "2022-07-08T12:21:33.838Z"
   },
   {
    "duration": 133,
    "start_time": "2022-07-08T12:31:48.218Z"
   },
   {
    "duration": 10,
    "start_time": "2022-07-08T12:32:46.921Z"
   },
   {
    "duration": 8,
    "start_time": "2022-07-08T12:40:59.654Z"
   },
   {
    "duration": 7,
    "start_time": "2022-07-08T12:41:27.881Z"
   },
   {
    "duration": 6,
    "start_time": "2022-07-08T12:41:47.842Z"
   },
   {
    "duration": 8,
    "start_time": "2022-07-08T12:41:57.879Z"
   },
   {
    "duration": 7,
    "start_time": "2022-07-08T12:42:26.388Z"
   },
   {
    "duration": 9,
    "start_time": "2022-07-08T12:45:24.685Z"
   },
   {
    "duration": 14,
    "start_time": "2022-07-08T12:45:36.874Z"
   },
   {
    "duration": 13,
    "start_time": "2022-07-08T12:45:42.370Z"
   },
   {
    "duration": 15,
    "start_time": "2022-07-08T12:45:55.119Z"
   },
   {
    "duration": 10,
    "start_time": "2022-07-08T12:46:49.046Z"
   },
   {
    "duration": 144,
    "start_time": "2022-07-08T12:47:15.420Z"
   },
   {
    "duration": 177,
    "start_time": "2022-07-08T12:49:44.316Z"
   },
   {
    "duration": 4,
    "start_time": "2022-07-08T13:11:27.826Z"
   },
   {
    "duration": 262,
    "start_time": "2022-07-08T13:11:39.029Z"
   },
   {
    "duration": 10,
    "start_time": "2022-07-08T13:11:50.858Z"
   },
   {
    "duration": 139,
    "start_time": "2022-07-08T13:12:04.528Z"
   },
   {
    "duration": 158,
    "start_time": "2022-07-08T13:12:10.758Z"
   },
   {
    "duration": 211,
    "start_time": "2022-07-08T13:13:44.026Z"
   },
   {
    "duration": 209,
    "start_time": "2022-07-08T13:16:22.750Z"
   },
   {
    "duration": 274,
    "start_time": "2022-07-08T13:17:26.956Z"
   },
   {
    "duration": 243,
    "start_time": "2022-07-08T13:19:17.352Z"
   },
   {
    "duration": 267,
    "start_time": "2022-07-08T13:19:35.147Z"
   },
   {
    "duration": 264,
    "start_time": "2022-07-08T13:19:49.266Z"
   },
   {
    "duration": 256,
    "start_time": "2022-07-08T13:20:23.564Z"
   },
   {
    "duration": 275,
    "start_time": "2022-07-08T13:23:06.383Z"
   },
   {
    "duration": 1976,
    "start_time": "2022-07-08T13:23:44.056Z"
   },
   {
    "duration": 179,
    "start_time": "2022-07-08T13:30:16.265Z"
   },
   {
    "duration": 271,
    "start_time": "2022-07-08T13:37:02.999Z"
   },
   {
    "duration": 11,
    "start_time": "2022-07-08T13:43:25.154Z"
   },
   {
    "duration": 13,
    "start_time": "2022-07-08T13:54:59.837Z"
   },
   {
    "duration": 7,
    "start_time": "2022-07-08T13:55:36.246Z"
   },
   {
    "duration": 11,
    "start_time": "2022-07-08T13:55:53.065Z"
   },
   {
    "duration": 3,
    "start_time": "2022-07-08T13:56:01.085Z"
   },
   {
    "duration": 84,
    "start_time": "2022-07-08T13:57:03.257Z"
   },
   {
    "duration": 6,
    "start_time": "2022-07-08T13:57:13.379Z"
   },
   {
    "duration": 10,
    "start_time": "2022-07-08T13:58:54.165Z"
   },
   {
    "duration": 12,
    "start_time": "2022-07-08T13:59:18.876Z"
   },
   {
    "duration": 15,
    "start_time": "2022-07-08T14:00:24.480Z"
   },
   {
    "duration": 14,
    "start_time": "2022-07-08T14:01:48.656Z"
   },
   {
    "duration": 19,
    "start_time": "2022-07-08T14:01:52.602Z"
   },
   {
    "duration": 6,
    "start_time": "2022-07-08T14:10:07.972Z"
   },
   {
    "duration": 47,
    "start_time": "2022-07-08T14:10:24.261Z"
   },
   {
    "duration": 28,
    "start_time": "2022-07-08T14:10:29.566Z"
   },
   {
    "duration": 9,
    "start_time": "2022-07-08T14:10:53.822Z"
   },
   {
    "duration": 13,
    "start_time": "2022-07-08T14:16:47.998Z"
   },
   {
    "duration": 8,
    "start_time": "2022-07-08T14:19:57.993Z"
   },
   {
    "duration": 19,
    "start_time": "2022-07-08T14:20:21.029Z"
   },
   {
    "duration": 18,
    "start_time": "2022-07-08T14:20:30.066Z"
   },
   {
    "duration": 19,
    "start_time": "2022-07-08T14:20:32.758Z"
   },
   {
    "duration": 18,
    "start_time": "2022-07-08T14:20:54.714Z"
   },
   {
    "duration": 11,
    "start_time": "2022-07-08T14:21:38.355Z"
   },
   {
    "duration": 40,
    "start_time": "2022-07-08T14:21:50.497Z"
   },
   {
    "duration": 13,
    "start_time": "2022-07-08T14:21:56.344Z"
   },
   {
    "duration": 3,
    "start_time": "2022-07-08T14:23:57.257Z"
   },
   {
    "duration": 783,
    "start_time": "2022-07-08T14:23:57.262Z"
   },
   {
    "duration": 3,
    "start_time": "2022-07-08T14:23:58.047Z"
   },
   {
    "duration": 407,
    "start_time": "2022-07-08T14:23:58.053Z"
   },
   {
    "duration": 2,
    "start_time": "2022-07-08T14:23:58.462Z"
   },
   {
    "duration": 5,
    "start_time": "2022-07-08T14:23:58.467Z"
   },
   {
    "duration": 31,
    "start_time": "2022-07-08T14:23:58.474Z"
   },
   {
    "duration": 7,
    "start_time": "2022-07-08T14:23:58.507Z"
   },
   {
    "duration": 6,
    "start_time": "2022-07-08T14:23:58.518Z"
   },
   {
    "duration": 5,
    "start_time": "2022-07-08T14:23:58.526Z"
   },
   {
    "duration": 4,
    "start_time": "2022-07-08T14:23:58.533Z"
   },
   {
    "duration": 8,
    "start_time": "2022-07-08T14:23:58.539Z"
   },
   {
    "duration": 19,
    "start_time": "2022-07-08T14:23:58.549Z"
   },
   {
    "duration": 3,
    "start_time": "2022-07-08T14:23:58.570Z"
   },
   {
    "duration": 28,
    "start_time": "2022-07-08T14:23:58.574Z"
   },
   {
    "duration": 1733,
    "start_time": "2022-07-08T14:23:58.604Z"
   },
   {
    "duration": 1643,
    "start_time": "2022-07-08T14:24:00.339Z"
   },
   {
    "duration": 1697,
    "start_time": "2022-07-08T14:24:01.984Z"
   },
   {
    "duration": 5,
    "start_time": "2022-07-08T14:24:03.683Z"
   },
   {
    "duration": 618,
    "start_time": "2022-07-08T14:24:03.699Z"
   },
   {
    "duration": 649,
    "start_time": "2022-07-08T14:24:04.319Z"
   },
   {
    "duration": 4,
    "start_time": "2022-07-08T14:24:04.971Z"
   },
   {
    "duration": 264,
    "start_time": "2022-07-08T14:24:04.977Z"
   },
   {
    "duration": 22,
    "start_time": "2022-07-08T14:24:05.246Z"
   },
   {
    "duration": 22,
    "start_time": "2022-07-08T14:30:40.493Z"
   },
   {
    "duration": 3,
    "start_time": "2022-07-08T14:33:24.392Z"
   },
   {
    "duration": 5,
    "start_time": "2022-07-08T14:33:33.138Z"
   },
   {
    "duration": 5,
    "start_time": "2022-07-08T14:33:37.281Z"
   },
   {
    "duration": 20,
    "start_time": "2022-07-08T14:37:35.512Z"
   },
   {
    "duration": 4,
    "start_time": "2022-07-08T14:38:58.043Z"
   },
   {
    "duration": 2,
    "start_time": "2022-07-08T14:39:08.468Z"
   },
   {
    "duration": 4,
    "start_time": "2022-07-08T14:39:16.795Z"
   },
   {
    "duration": 269,
    "start_time": "2022-07-08T14:40:44.105Z"
   },
   {
    "duration": 1172,
    "start_time": "2022-07-08T14:45:31.791Z"
   },
   {
    "duration": 3073,
    "start_time": "2022-07-08T14:46:01.210Z"
   },
   {
    "duration": 78,
    "start_time": "2022-07-08T14:46:30.281Z"
   },
   {
    "duration": 1496,
    "start_time": "2022-07-08T14:46:54.720Z"
   },
   {
    "duration": 69,
    "start_time": "2022-07-08T14:47:52.697Z"
   },
   {
    "duration": 1256,
    "start_time": "2022-07-08T14:48:07.706Z"
   },
   {
    "duration": 4,
    "start_time": "2022-07-08T14:48:32.942Z"
   },
   {
    "duration": 664,
    "start_time": "2022-07-08T14:48:32.948Z"
   },
   {
    "duration": 4,
    "start_time": "2022-07-08T14:48:33.615Z"
   },
   {
    "duration": 406,
    "start_time": "2022-07-08T14:48:33.621Z"
   },
   {
    "duration": 3,
    "start_time": "2022-07-08T14:48:34.030Z"
   },
   {
    "duration": 6,
    "start_time": "2022-07-08T14:48:34.035Z"
   },
   {
    "duration": 16,
    "start_time": "2022-07-08T14:48:34.044Z"
   },
   {
    "duration": 10,
    "start_time": "2022-07-08T14:48:34.062Z"
   },
   {
    "duration": 7,
    "start_time": "2022-07-08T14:48:34.073Z"
   },
   {
    "duration": 3,
    "start_time": "2022-07-08T14:48:34.099Z"
   },
   {
    "duration": 7,
    "start_time": "2022-07-08T14:48:34.105Z"
   },
   {
    "duration": 6,
    "start_time": "2022-07-08T14:48:34.115Z"
   },
   {
    "duration": 22,
    "start_time": "2022-07-08T14:48:34.123Z"
   },
   {
    "duration": 2,
    "start_time": "2022-07-08T14:48:34.149Z"
   },
   {
    "duration": 6,
    "start_time": "2022-07-08T14:48:34.153Z"
   },
   {
    "duration": 1781,
    "start_time": "2022-07-08T14:48:34.161Z"
   },
   {
    "duration": 1613,
    "start_time": "2022-07-08T14:48:35.944Z"
   },
   {
    "duration": 1666,
    "start_time": "2022-07-08T14:48:37.559Z"
   },
   {
    "duration": 5,
    "start_time": "2022-07-08T14:48:39.227Z"
   },
   {
    "duration": 692,
    "start_time": "2022-07-08T14:48:39.234Z"
   },
   {
    "duration": 693,
    "start_time": "2022-07-08T14:48:39.928Z"
   },
   {
    "duration": 4,
    "start_time": "2022-07-08T14:48:40.623Z"
   },
   {
    "duration": 403,
    "start_time": "2022-07-08T14:48:40.629Z"
   },
   {
    "duration": 2087,
    "start_time": "2022-07-08T14:48:41.035Z"
   },
   {
    "duration": 0,
    "start_time": "2022-07-08T14:48:43.123Z"
   },
   {
    "duration": 0,
    "start_time": "2022-07-08T14:48:43.125Z"
   },
   {
    "duration": 0,
    "start_time": "2022-07-08T14:48:43.126Z"
   },
   {
    "duration": 0,
    "start_time": "2022-07-08T14:48:43.127Z"
   },
   {
    "duration": 35,
    "start_time": "2022-07-08T14:49:37.073Z"
   },
   {
    "duration": 4,
    "start_time": "2022-07-08T14:51:41.755Z"
   },
   {
    "duration": 3,
    "start_time": "2022-07-08T14:51:51.948Z"
   },
   {
    "duration": 36,
    "start_time": "2022-07-08T14:53:05.746Z"
   },
   {
    "duration": 4,
    "start_time": "2022-07-08T14:53:21.580Z"
   },
   {
    "duration": 2,
    "start_time": "2022-07-08T14:53:26.603Z"
   },
   {
    "duration": 248,
    "start_time": "2022-07-08T14:53:36.935Z"
   },
   {
    "duration": 4,
    "start_time": "2022-07-08T14:59:07.084Z"
   },
   {
    "duration": 663,
    "start_time": "2022-07-08T14:59:07.091Z"
   },
   {
    "duration": 3,
    "start_time": "2022-07-08T14:59:07.756Z"
   },
   {
    "duration": 452,
    "start_time": "2022-07-08T14:59:07.761Z"
   },
   {
    "duration": 2,
    "start_time": "2022-07-08T14:59:08.216Z"
   },
   {
    "duration": 9,
    "start_time": "2022-07-08T14:59:08.220Z"
   },
   {
    "duration": 10,
    "start_time": "2022-07-08T14:59:08.231Z"
   },
   {
    "duration": 5,
    "start_time": "2022-07-08T14:59:08.243Z"
   },
   {
    "duration": 6,
    "start_time": "2022-07-08T14:59:08.250Z"
   },
   {
    "duration": 15,
    "start_time": "2022-07-08T14:59:08.259Z"
   },
   {
    "duration": 22,
    "start_time": "2022-07-08T14:59:08.276Z"
   },
   {
    "duration": 3,
    "start_time": "2022-07-08T14:59:08.300Z"
   },
   {
    "duration": 24,
    "start_time": "2022-07-08T14:59:08.305Z"
   },
   {
    "duration": 3,
    "start_time": "2022-07-08T14:59:08.331Z"
   },
   {
    "duration": 9,
    "start_time": "2022-07-08T14:59:08.336Z"
   },
   {
    "duration": 1704,
    "start_time": "2022-07-08T14:59:08.347Z"
   },
   {
    "duration": 1632,
    "start_time": "2022-07-08T14:59:10.053Z"
   },
   {
    "duration": 1698,
    "start_time": "2022-07-08T14:59:11.687Z"
   },
   {
    "duration": 6,
    "start_time": "2022-07-08T14:59:13.387Z"
   },
   {
    "duration": 711,
    "start_time": "2022-07-08T14:59:13.398Z"
   },
   {
    "duration": 660,
    "start_time": "2022-07-08T14:59:14.111Z"
   },
   {
    "duration": 3,
    "start_time": "2022-07-08T14:59:14.773Z"
   },
   {
    "duration": 258,
    "start_time": "2022-07-08T14:59:14.778Z"
   },
   {
    "duration": 38,
    "start_time": "2022-07-08T14:59:15.038Z"
   },
   {
    "duration": 19,
    "start_time": "2022-07-08T14:59:15.079Z"
   },
   {
    "duration": 32,
    "start_time": "2022-07-08T14:59:15.101Z"
   },
   {
    "duration": 2,
    "start_time": "2022-07-08T14:59:15.135Z"
   },
   {
    "duration": 278,
    "start_time": "2022-07-08T14:59:15.140Z"
   },
   {
    "duration": 9,
    "start_time": "2022-07-09T07:40:39.897Z"
   },
   {
    "duration": 80,
    "start_time": "2022-07-09T07:46:27.987Z"
   },
   {
    "duration": 5,
    "start_time": "2022-07-09T07:46:34.765Z"
   },
   {
    "duration": 1633,
    "start_time": "2022-07-09T07:55:55.712Z"
   },
   {
    "duration": 1478,
    "start_time": "2022-07-09T07:55:57.348Z"
   },
   {
    "duration": 5,
    "start_time": "2022-07-09T07:55:58.828Z"
   },
   {
    "duration": 9,
    "start_time": "2022-07-09T07:55:58.835Z"
   },
   {
    "duration": 20,
    "start_time": "2022-07-09T07:55:58.846Z"
   },
   {
    "duration": 474,
    "start_time": "2022-07-09T07:55:58.868Z"
   },
   {
    "duration": 11,
    "start_time": "2022-07-09T07:55:59.346Z"
   },
   {
    "duration": 6,
    "start_time": "2022-07-09T07:55:59.359Z"
   },
   {
    "duration": 6,
    "start_time": "2022-07-09T07:55:59.367Z"
   },
   {
    "duration": 5,
    "start_time": "2022-07-09T07:55:59.375Z"
   },
   {
    "duration": 5,
    "start_time": "2022-07-09T07:55:59.383Z"
   },
   {
    "duration": 7,
    "start_time": "2022-07-09T07:55:59.390Z"
   },
   {
    "duration": 53,
    "start_time": "2022-07-09T07:55:59.399Z"
   },
   {
    "duration": 4,
    "start_time": "2022-07-09T07:55:59.455Z"
   },
   {
    "duration": 8,
    "start_time": "2022-07-09T07:55:59.461Z"
   },
   {
    "duration": 1689,
    "start_time": "2022-07-09T07:55:59.470Z"
   },
   {
    "duration": 1743,
    "start_time": "2022-07-09T07:56:01.161Z"
   },
   {
    "duration": 1610,
    "start_time": "2022-07-09T07:56:02.906Z"
   },
   {
    "duration": 7,
    "start_time": "2022-07-09T07:56:04.519Z"
   },
   {
    "duration": 582,
    "start_time": "2022-07-09T07:56:04.528Z"
   },
   {
    "duration": 575,
    "start_time": "2022-07-09T07:56:05.112Z"
   },
   {
    "duration": 3,
    "start_time": "2022-07-09T07:56:05.689Z"
   },
   {
    "duration": 246,
    "start_time": "2022-07-09T07:56:05.694Z"
   },
   {
    "duration": 53,
    "start_time": "2022-07-09T07:56:05.941Z"
   },
   {
    "duration": 4,
    "start_time": "2022-07-09T07:56:05.996Z"
   },
   {
    "duration": 64,
    "start_time": "2022-07-09T07:56:06.002Z"
   },
   {
    "duration": 2,
    "start_time": "2022-07-09T07:56:06.068Z"
   },
   {
    "duration": 369,
    "start_time": "2022-07-09T07:56:06.071Z"
   },
   {
    "duration": 6,
    "start_time": "2022-07-09T07:56:06.445Z"
   },
   {
    "duration": 3,
    "start_time": "2022-07-09T08:05:43.153Z"
   },
   {
    "duration": 7,
    "start_time": "2022-07-09T08:30:47.771Z"
   },
   {
    "duration": 16,
    "start_time": "2022-07-09T08:31:28.134Z"
   },
   {
    "duration": 89,
    "start_time": "2022-07-09T08:37:15.576Z"
   },
   {
    "duration": 0,
    "start_time": "2022-07-09T08:37:15.667Z"
   },
   {
    "duration": 0,
    "start_time": "2022-07-09T08:37:15.668Z"
   },
   {
    "duration": 0,
    "start_time": "2022-07-09T08:37:15.669Z"
   },
   {
    "duration": 0,
    "start_time": "2022-07-09T08:37:15.671Z"
   },
   {
    "duration": 0,
    "start_time": "2022-07-09T08:37:15.672Z"
   },
   {
    "duration": 0,
    "start_time": "2022-07-09T08:37:15.673Z"
   },
   {
    "duration": 0,
    "start_time": "2022-07-09T08:37:15.674Z"
   },
   {
    "duration": 0,
    "start_time": "2022-07-09T08:37:15.676Z"
   },
   {
    "duration": 0,
    "start_time": "2022-07-09T08:37:15.677Z"
   },
   {
    "duration": 0,
    "start_time": "2022-07-09T08:37:15.677Z"
   },
   {
    "duration": 0,
    "start_time": "2022-07-09T08:37:15.679Z"
   },
   {
    "duration": 0,
    "start_time": "2022-07-09T08:37:15.679Z"
   },
   {
    "duration": 0,
    "start_time": "2022-07-09T08:37:15.681Z"
   },
   {
    "duration": 0,
    "start_time": "2022-07-09T08:37:15.681Z"
   },
   {
    "duration": 0,
    "start_time": "2022-07-09T08:37:15.682Z"
   },
   {
    "duration": 0,
    "start_time": "2022-07-09T08:37:15.684Z"
   },
   {
    "duration": 0,
    "start_time": "2022-07-09T08:37:15.685Z"
   },
   {
    "duration": 0,
    "start_time": "2022-07-09T08:37:15.686Z"
   },
   {
    "duration": 0,
    "start_time": "2022-07-09T08:37:15.687Z"
   },
   {
    "duration": 0,
    "start_time": "2022-07-09T08:37:15.688Z"
   },
   {
    "duration": 0,
    "start_time": "2022-07-09T08:37:15.689Z"
   },
   {
    "duration": 0,
    "start_time": "2022-07-09T08:37:15.690Z"
   },
   {
    "duration": 0,
    "start_time": "2022-07-09T08:37:15.691Z"
   },
   {
    "duration": 0,
    "start_time": "2022-07-09T08:37:15.692Z"
   },
   {
    "duration": 0,
    "start_time": "2022-07-09T08:37:15.693Z"
   },
   {
    "duration": 0,
    "start_time": "2022-07-09T08:37:15.694Z"
   },
   {
    "duration": 0,
    "start_time": "2022-07-09T08:37:15.694Z"
   },
   {
    "duration": 0,
    "start_time": "2022-07-09T08:37:15.745Z"
   },
   {
    "duration": 0,
    "start_time": "2022-07-09T08:37:15.746Z"
   },
   {
    "duration": 4,
    "start_time": "2022-07-09T08:37:57.595Z"
   },
   {
    "duration": 4,
    "start_time": "2022-07-09T08:38:01.970Z"
   },
   {
    "duration": 731,
    "start_time": "2022-07-09T08:38:01.978Z"
   },
   {
    "duration": 4,
    "start_time": "2022-07-09T08:38:02.711Z"
   },
   {
    "duration": 8,
    "start_time": "2022-07-09T08:38:02.716Z"
   },
   {
    "duration": 5,
    "start_time": "2022-07-09T08:38:02.725Z"
   },
   {
    "duration": 366,
    "start_time": "2022-07-09T08:38:02.731Z"
   },
   {
    "duration": 8,
    "start_time": "2022-07-09T08:38:03.099Z"
   },
   {
    "duration": 8,
    "start_time": "2022-07-09T08:38:03.108Z"
   },
   {
    "duration": 5,
    "start_time": "2022-07-09T08:38:03.118Z"
   },
   {
    "duration": 2,
    "start_time": "2022-07-09T08:38:03.146Z"
   },
   {
    "duration": 4,
    "start_time": "2022-07-09T08:38:03.151Z"
   },
   {
    "duration": 9,
    "start_time": "2022-07-09T08:38:03.157Z"
   },
   {
    "duration": 23,
    "start_time": "2022-07-09T08:38:03.168Z"
   },
   {
    "duration": 3,
    "start_time": "2022-07-09T08:38:03.193Z"
   },
   {
    "duration": 8,
    "start_time": "2022-07-09T08:38:03.198Z"
   },
   {
    "duration": 1621,
    "start_time": "2022-07-09T08:38:03.207Z"
   },
   {
    "duration": 1550,
    "start_time": "2022-07-09T08:38:04.830Z"
   },
   {
    "duration": 1807,
    "start_time": "2022-07-09T08:38:06.382Z"
   },
   {
    "duration": 5,
    "start_time": "2022-07-09T08:38:08.191Z"
   },
   {
    "duration": 745,
    "start_time": "2022-07-09T08:38:08.197Z"
   },
   {
    "duration": 661,
    "start_time": "2022-07-09T08:38:08.944Z"
   },
   {
    "duration": 3,
    "start_time": "2022-07-09T08:38:09.645Z"
   },
   {
    "duration": 359,
    "start_time": "2022-07-09T08:38:09.650Z"
   },
   {
    "duration": 60,
    "start_time": "2022-07-09T08:38:10.011Z"
   },
   {
    "duration": 3,
    "start_time": "2022-07-09T08:38:10.073Z"
   },
   {
    "duration": 33,
    "start_time": "2022-07-09T08:38:10.077Z"
   },
   {
    "duration": 2,
    "start_time": "2022-07-09T08:38:10.112Z"
   },
   {
    "duration": 252,
    "start_time": "2022-07-09T08:38:10.116Z"
   },
   {
    "duration": 4,
    "start_time": "2022-07-09T08:38:10.371Z"
   },
   {
    "duration": 20,
    "start_time": "2022-07-09T08:38:10.377Z"
   },
   {
    "duration": 5,
    "start_time": "2022-07-09T08:43:14.225Z"
   },
   {
    "duration": 22,
    "start_time": "2022-07-09T10:07:43.812Z"
   },
   {
    "duration": 73,
    "start_time": "2022-07-09T11:18:30.158Z"
   },
   {
    "duration": 30,
    "start_time": "2022-07-09T11:18:45.419Z"
   },
   {
    "duration": 843,
    "start_time": "2022-07-09T11:22:40.021Z"
   },
   {
    "duration": 847,
    "start_time": "2022-07-09T11:22:45.946Z"
   },
   {
    "duration": 872,
    "start_time": "2022-07-09T11:22:54.062Z"
   },
   {
    "duration": 1515,
    "start_time": "2022-07-09T11:23:05.865Z"
   },
   {
    "duration": 6,
    "start_time": "2022-07-09T12:00:44.011Z"
   },
   {
    "duration": 7,
    "start_time": "2022-07-09T12:01:02.839Z"
   },
   {
    "duration": 8,
    "start_time": "2022-07-09T12:01:17.474Z"
   },
   {
    "duration": 5,
    "start_time": "2022-07-09T12:01:50.349Z"
   },
   {
    "duration": 178,
    "start_time": "2022-07-09T12:06:08.653Z"
   },
   {
    "duration": 279,
    "start_time": "2022-07-09T12:06:24.022Z"
   },
   {
    "duration": 2,
    "start_time": "2022-07-09T12:06:35.835Z"
   },
   {
    "duration": 3,
    "start_time": "2022-07-09T12:06:36.958Z"
   },
   {
    "duration": 355,
    "start_time": "2022-07-09T12:06:38.244Z"
   },
   {
    "duration": 38,
    "start_time": "2022-07-09T12:07:55.297Z"
   },
   {
    "duration": 5,
    "start_time": "2022-07-09T12:08:09.925Z"
   },
   {
    "duration": 6,
    "start_time": "2022-07-09T12:18:03.407Z"
   },
   {
    "duration": 30,
    "start_time": "2022-07-09T12:18:13.824Z"
   },
   {
    "duration": 6,
    "start_time": "2022-07-09T12:18:18.878Z"
   },
   {
    "duration": 4,
    "start_time": "2022-07-09T12:21:10.264Z"
   },
   {
    "duration": 4,
    "start_time": "2022-07-09T12:23:44.786Z"
   },
   {
    "duration": 12,
    "start_time": "2022-07-09T12:27:14.202Z"
   },
   {
    "duration": 4,
    "start_time": "2022-07-09T12:38:18.673Z"
   },
   {
    "duration": 3,
    "start_time": "2022-07-09T13:28:55.896Z"
   },
   {
    "duration": 722,
    "start_time": "2022-07-09T13:28:55.902Z"
   },
   {
    "duration": 3,
    "start_time": "2022-07-09T13:28:56.627Z"
   },
   {
    "duration": 14,
    "start_time": "2022-07-09T13:28:56.632Z"
   },
   {
    "duration": 5,
    "start_time": "2022-07-09T13:28:56.648Z"
   },
   {
    "duration": 406,
    "start_time": "2022-07-09T13:28:56.655Z"
   },
   {
    "duration": 8,
    "start_time": "2022-07-09T13:28:57.063Z"
   },
   {
    "duration": 9,
    "start_time": "2022-07-09T13:28:57.074Z"
   },
   {
    "duration": 8,
    "start_time": "2022-07-09T13:28:57.085Z"
   },
   {
    "duration": 9,
    "start_time": "2022-07-09T13:28:57.096Z"
   },
   {
    "duration": 6,
    "start_time": "2022-07-09T13:28:57.107Z"
   },
   {
    "duration": 31,
    "start_time": "2022-07-09T13:28:57.115Z"
   },
   {
    "duration": 21,
    "start_time": "2022-07-09T13:28:57.148Z"
   },
   {
    "duration": 3,
    "start_time": "2022-07-09T13:28:57.170Z"
   },
   {
    "duration": 11,
    "start_time": "2022-07-09T13:28:57.175Z"
   },
   {
    "duration": 1841,
    "start_time": "2022-07-09T13:28:57.188Z"
   },
   {
    "duration": 1767,
    "start_time": "2022-07-09T13:28:59.031Z"
   },
   {
    "duration": 1550,
    "start_time": "2022-07-09T13:29:00.800Z"
   },
   {
    "duration": 6,
    "start_time": "2022-07-09T13:29:02.352Z"
   },
   {
    "duration": 685,
    "start_time": "2022-07-09T13:29:02.360Z"
   },
   {
    "duration": 675,
    "start_time": "2022-07-09T13:29:03.048Z"
   },
   {
    "duration": 4,
    "start_time": "2022-07-09T13:29:03.724Z"
   },
   {
    "duration": 267,
    "start_time": "2022-07-09T13:29:03.730Z"
   },
   {
    "duration": 53,
    "start_time": "2022-07-09T13:29:04.000Z"
   },
   {
    "duration": 3,
    "start_time": "2022-07-09T13:29:04.055Z"
   },
   {
    "duration": 34,
    "start_time": "2022-07-09T13:29:04.060Z"
   },
   {
    "duration": 7,
    "start_time": "2022-07-09T13:29:04.096Z"
   },
   {
    "duration": 414,
    "start_time": "2022-07-09T13:29:04.108Z"
   },
   {
    "duration": 5,
    "start_time": "2022-07-09T13:29:04.524Z"
   },
   {
    "duration": 17,
    "start_time": "2022-07-09T13:29:04.531Z"
   },
   {
    "duration": 16,
    "start_time": "2022-07-09T13:29:04.550Z"
   },
   {
    "duration": 8,
    "start_time": "2022-07-09T13:29:04.568Z"
   },
   {
    "duration": 9,
    "start_time": "2022-07-09T13:29:04.578Z"
   },
   {
    "duration": 9,
    "start_time": "2022-07-09T13:29:04.589Z"
   },
   {
    "duration": 14,
    "start_time": "2022-07-09T13:29:04.600Z"
   },
   {
    "duration": 12,
    "start_time": "2022-07-09T13:29:19.329Z"
   },
   {
    "duration": 52,
    "start_time": "2022-07-09T13:29:57.373Z"
   },
   {
    "duration": 638,
    "start_time": "2022-07-09T13:29:57.427Z"
   },
   {
    "duration": 3,
    "start_time": "2022-07-09T13:29:58.067Z"
   },
   {
    "duration": 10,
    "start_time": "2022-07-09T13:29:58.072Z"
   },
   {
    "duration": 4,
    "start_time": "2022-07-09T13:29:58.084Z"
   },
   {
    "duration": 371,
    "start_time": "2022-07-09T13:29:58.090Z"
   },
   {
    "duration": 7,
    "start_time": "2022-07-09T13:29:58.463Z"
   },
   {
    "duration": 13,
    "start_time": "2022-07-09T13:29:58.472Z"
   },
   {
    "duration": 7,
    "start_time": "2022-07-09T13:29:58.487Z"
   },
   {
    "duration": 5,
    "start_time": "2022-07-09T13:29:58.495Z"
   },
   {
    "duration": 5,
    "start_time": "2022-07-09T13:29:58.502Z"
   },
   {
    "duration": 5,
    "start_time": "2022-07-09T13:29:58.508Z"
   },
   {
    "duration": 39,
    "start_time": "2022-07-09T13:29:58.515Z"
   },
   {
    "duration": 2,
    "start_time": "2022-07-09T13:29:58.557Z"
   },
   {
    "duration": 6,
    "start_time": "2022-07-09T13:29:58.561Z"
   },
   {
    "duration": 1668,
    "start_time": "2022-07-09T13:29:58.568Z"
   },
   {
    "duration": 1607,
    "start_time": "2022-07-09T13:30:00.238Z"
   },
   {
    "duration": 1657,
    "start_time": "2022-07-09T13:30:01.847Z"
   },
   {
    "duration": 5,
    "start_time": "2022-07-09T13:30:03.507Z"
   },
   {
    "duration": 629,
    "start_time": "2022-07-09T13:30:03.514Z"
   },
   {
    "duration": 668,
    "start_time": "2022-07-09T13:30:04.145Z"
   },
   {
    "duration": 3,
    "start_time": "2022-07-09T13:30:04.815Z"
   },
   {
    "duration": 265,
    "start_time": "2022-07-09T13:30:04.820Z"
   },
   {
    "duration": 40,
    "start_time": "2022-07-09T13:30:05.087Z"
   },
   {
    "duration": 2,
    "start_time": "2022-07-09T13:30:05.129Z"
   },
   {
    "duration": 30,
    "start_time": "2022-07-09T13:30:05.146Z"
   },
   {
    "duration": 10,
    "start_time": "2022-07-09T13:30:05.177Z"
   },
   {
    "duration": 259,
    "start_time": "2022-07-09T13:30:05.190Z"
   },
   {
    "duration": 4,
    "start_time": "2022-07-09T13:30:05.450Z"
   },
   {
    "duration": 45,
    "start_time": "2022-07-09T13:30:05.455Z"
   },
   {
    "duration": 46,
    "start_time": "2022-07-09T13:30:05.502Z"
   },
   {
    "duration": 26,
    "start_time": "2022-07-09T13:30:05.550Z"
   },
   {
    "duration": 24,
    "start_time": "2022-07-09T13:30:05.577Z"
   },
   {
    "duration": 17,
    "start_time": "2022-07-09T13:30:05.603Z"
   },
   {
    "duration": 34,
    "start_time": "2022-07-09T13:30:05.622Z"
   },
   {
    "duration": 0,
    "start_time": "2022-07-09T13:30:05.658Z"
   },
   {
    "duration": 18,
    "start_time": "2022-07-09T13:30:29.645Z"
   },
   {
    "duration": 3,
    "start_time": "2022-07-09T13:31:21.241Z"
   },
   {
    "duration": 5,
    "start_time": "2022-07-09T13:31:22.905Z"
   },
   {
    "duration": 23,
    "start_time": "2022-07-09T13:31:25.674Z"
   },
   {
    "duration": 6,
    "start_time": "2022-07-09T13:32:58.979Z"
   },
   {
    "duration": 5,
    "start_time": "2022-07-09T13:33:01.155Z"
   },
   {
    "duration": 20,
    "start_time": "2022-07-09T13:33:03.947Z"
   },
   {
    "duration": 5,
    "start_time": "2022-07-09T13:34:53.962Z"
   },
   {
    "duration": 4,
    "start_time": "2022-07-09T13:34:58.450Z"
   },
   {
    "duration": 712,
    "start_time": "2022-07-09T13:34:58.456Z"
   },
   {
    "duration": 5,
    "start_time": "2022-07-09T13:34:59.170Z"
   },
   {
    "duration": 22,
    "start_time": "2022-07-09T13:34:59.178Z"
   },
   {
    "duration": 5,
    "start_time": "2022-07-09T13:34:59.204Z"
   },
   {
    "duration": 406,
    "start_time": "2022-07-09T13:34:59.211Z"
   },
   {
    "duration": 10,
    "start_time": "2022-07-09T13:34:59.619Z"
   },
   {
    "duration": 21,
    "start_time": "2022-07-09T13:34:59.631Z"
   },
   {
    "duration": 34,
    "start_time": "2022-07-09T13:34:59.654Z"
   },
   {
    "duration": 21,
    "start_time": "2022-07-09T13:34:59.690Z"
   },
   {
    "duration": 11,
    "start_time": "2022-07-09T13:34:59.714Z"
   },
   {
    "duration": 10,
    "start_time": "2022-07-09T13:34:59.727Z"
   },
   {
    "duration": 24,
    "start_time": "2022-07-09T13:34:59.739Z"
   },
   {
    "duration": 5,
    "start_time": "2022-07-09T13:34:59.766Z"
   },
   {
    "duration": 24,
    "start_time": "2022-07-09T13:34:59.773Z"
   },
   {
    "duration": 2112,
    "start_time": "2022-07-09T13:34:59.799Z"
   },
   {
    "duration": 1599,
    "start_time": "2022-07-09T13:35:01.913Z"
   },
   {
    "duration": 1497,
    "start_time": "2022-07-09T13:35:03.516Z"
   },
   {
    "duration": 5,
    "start_time": "2022-07-09T13:35:05.014Z"
   },
   {
    "duration": 743,
    "start_time": "2022-07-09T13:35:05.020Z"
   },
   {
    "duration": 651,
    "start_time": "2022-07-09T13:35:05.766Z"
   },
   {
    "duration": 4,
    "start_time": "2022-07-09T13:35:06.419Z"
   },
   {
    "duration": 395,
    "start_time": "2022-07-09T13:35:06.425Z"
   },
   {
    "duration": 39,
    "start_time": "2022-07-09T13:35:06.823Z"
   },
   {
    "duration": 3,
    "start_time": "2022-07-09T13:35:06.864Z"
   },
   {
    "duration": 39,
    "start_time": "2022-07-09T13:35:06.869Z"
   },
   {
    "duration": 3,
    "start_time": "2022-07-09T13:35:06.910Z"
   },
   {
    "duration": 266,
    "start_time": "2022-07-09T13:35:06.914Z"
   },
   {
    "duration": 4,
    "start_time": "2022-07-09T13:35:07.183Z"
   },
   {
    "duration": 16,
    "start_time": "2022-07-09T13:35:07.189Z"
   },
   {
    "duration": 19,
    "start_time": "2022-07-09T13:35:07.207Z"
   },
   {
    "duration": 6,
    "start_time": "2022-07-09T13:35:07.229Z"
   },
   {
    "duration": 10,
    "start_time": "2022-07-09T13:35:07.236Z"
   },
   {
    "duration": 9,
    "start_time": "2022-07-09T13:35:07.248Z"
   },
   {
    "duration": 31,
    "start_time": "2022-07-09T13:35:07.259Z"
   },
   {
    "duration": 0,
    "start_time": "2022-07-09T13:35:07.292Z"
   },
   {
    "duration": 4,
    "start_time": "2022-07-09T13:40:31.953Z"
   },
   {
    "duration": 6,
    "start_time": "2022-07-09T13:40:33.533Z"
   },
   {
    "duration": 3132,
    "start_time": "2022-07-09T13:40:35.635Z"
   },
   {
    "duration": 8,
    "start_time": "2022-07-09T13:40:52.583Z"
   },
   {
    "duration": 8203,
    "start_time": "2022-07-09T13:40:55.159Z"
   },
   {
    "duration": 5,
    "start_time": "2022-07-09T13:41:44.580Z"
   },
   {
    "duration": 723,
    "start_time": "2022-07-09T13:41:44.587Z"
   },
   {
    "duration": 4,
    "start_time": "2022-07-09T13:41:45.312Z"
   },
   {
    "duration": 7,
    "start_time": "2022-07-09T13:41:45.319Z"
   },
   {
    "duration": 7,
    "start_time": "2022-07-09T13:41:45.329Z"
   },
   {
    "duration": 401,
    "start_time": "2022-07-09T13:41:45.346Z"
   },
   {
    "duration": 13,
    "start_time": "2022-07-09T13:41:45.749Z"
   },
   {
    "duration": 8,
    "start_time": "2022-07-09T13:41:45.764Z"
   },
   {
    "duration": 8,
    "start_time": "2022-07-09T13:41:45.774Z"
   },
   {
    "duration": 5,
    "start_time": "2022-07-09T13:41:45.784Z"
   },
   {
    "duration": 9,
    "start_time": "2022-07-09T13:41:45.791Z"
   },
   {
    "duration": 7,
    "start_time": "2022-07-09T13:41:45.802Z"
   },
   {
    "duration": 45,
    "start_time": "2022-07-09T13:41:45.811Z"
   },
   {
    "duration": 3,
    "start_time": "2022-07-09T13:41:45.860Z"
   },
   {
    "duration": 34,
    "start_time": "2022-07-09T13:41:45.865Z"
   },
   {
    "duration": 1832,
    "start_time": "2022-07-09T13:41:45.901Z"
   },
   {
    "duration": 1739,
    "start_time": "2022-07-09T13:41:47.735Z"
   },
   {
    "duration": 1630,
    "start_time": "2022-07-09T13:41:49.476Z"
   },
   {
    "duration": 6,
    "start_time": "2022-07-09T13:41:51.108Z"
   },
   {
    "duration": 783,
    "start_time": "2022-07-09T13:41:51.116Z"
   },
   {
    "duration": 685,
    "start_time": "2022-07-09T13:41:51.900Z"
   },
   {
    "duration": 4,
    "start_time": "2022-07-09T13:41:52.587Z"
   },
   {
    "duration": 269,
    "start_time": "2022-07-09T13:41:52.592Z"
   },
   {
    "duration": 33,
    "start_time": "2022-07-09T13:41:52.863Z"
   },
   {
    "duration": 3,
    "start_time": "2022-07-09T13:41:52.898Z"
   },
   {
    "duration": 58,
    "start_time": "2022-07-09T13:41:52.902Z"
   },
   {
    "duration": 7,
    "start_time": "2022-07-09T13:41:52.962Z"
   },
   {
    "duration": 273,
    "start_time": "2022-07-09T13:41:52.970Z"
   },
   {
    "duration": 4,
    "start_time": "2022-07-09T13:41:53.246Z"
   },
   {
    "duration": 50,
    "start_time": "2022-07-09T13:41:53.251Z"
   },
   {
    "duration": 32,
    "start_time": "2022-07-09T13:41:53.303Z"
   },
   {
    "duration": 51,
    "start_time": "2022-07-09T13:41:53.337Z"
   },
   {
    "duration": 25,
    "start_time": "2022-07-09T13:41:53.391Z"
   },
   {
    "duration": 33,
    "start_time": "2022-07-09T13:41:53.419Z"
   },
   {
    "duration": 4611,
    "start_time": "2022-07-09T13:41:53.455Z"
   },
   {
    "duration": 15,
    "start_time": "2022-07-09T13:41:58.147Z"
   },
   {
    "duration": 5,
    "start_time": "2022-07-09T13:44:11.938Z"
   },
   {
    "duration": 21,
    "start_time": "2022-07-09T13:44:13.359Z"
   },
   {
    "duration": 52,
    "start_time": "2022-07-09T13:45:43.747Z"
   },
   {
    "duration": 4,
    "start_time": "2022-07-09T13:45:57.397Z"
   },
   {
    "duration": 676,
    "start_time": "2022-07-09T13:45:57.403Z"
   },
   {
    "duration": 4,
    "start_time": "2022-07-09T13:45:58.081Z"
   },
   {
    "duration": 11,
    "start_time": "2022-07-09T13:45:58.087Z"
   },
   {
    "duration": 6,
    "start_time": "2022-07-09T13:45:58.100Z"
   },
   {
    "duration": 369,
    "start_time": "2022-07-09T13:45:58.108Z"
   },
   {
    "duration": 9,
    "start_time": "2022-07-09T13:45:58.480Z"
   },
   {
    "duration": 6,
    "start_time": "2022-07-09T13:45:58.490Z"
   },
   {
    "duration": 6,
    "start_time": "2022-07-09T13:45:58.499Z"
   },
   {
    "duration": 5,
    "start_time": "2022-07-09T13:45:58.507Z"
   },
   {
    "duration": 32,
    "start_time": "2022-07-09T13:45:58.514Z"
   },
   {
    "duration": 4,
    "start_time": "2022-07-09T13:45:58.548Z"
   },
   {
    "duration": 23,
    "start_time": "2022-07-09T13:45:58.553Z"
   },
   {
    "duration": 3,
    "start_time": "2022-07-09T13:45:58.577Z"
   },
   {
    "duration": 11,
    "start_time": "2022-07-09T13:45:58.582Z"
   },
   {
    "duration": 1845,
    "start_time": "2022-07-09T13:45:58.595Z"
   },
   {
    "duration": 1475,
    "start_time": "2022-07-09T13:46:00.442Z"
   },
   {
    "duration": 1579,
    "start_time": "2022-07-09T13:46:01.919Z"
   },
   {
    "duration": 5,
    "start_time": "2022-07-09T13:46:03.500Z"
   },
   {
    "duration": 639,
    "start_time": "2022-07-09T13:46:03.507Z"
   },
   {
    "duration": 562,
    "start_time": "2022-07-09T13:46:04.148Z"
   },
   {
    "duration": 4,
    "start_time": "2022-07-09T13:46:04.712Z"
   },
   {
    "duration": 381,
    "start_time": "2022-07-09T13:46:04.717Z"
   },
   {
    "duration": 47,
    "start_time": "2022-07-09T13:46:05.101Z"
   },
   {
    "duration": 2,
    "start_time": "2022-07-09T13:46:05.150Z"
   },
   {
    "duration": 33,
    "start_time": "2022-07-09T13:46:05.153Z"
   },
   {
    "duration": 3,
    "start_time": "2022-07-09T13:46:05.188Z"
   },
   {
    "duration": 283,
    "start_time": "2022-07-09T13:46:05.192Z"
   },
   {
    "duration": 4,
    "start_time": "2022-07-09T13:46:05.477Z"
   },
   {
    "duration": 14,
    "start_time": "2022-07-09T13:46:05.482Z"
   },
   {
    "duration": 19,
    "start_time": "2022-07-09T13:46:05.498Z"
   },
   {
    "duration": 0,
    "start_time": "2022-07-09T13:46:05.519Z"
   },
   {
    "duration": 0,
    "start_time": "2022-07-09T13:46:05.521Z"
   },
   {
    "duration": 0,
    "start_time": "2022-07-09T13:46:05.522Z"
   },
   {
    "duration": 0,
    "start_time": "2022-07-09T13:46:05.523Z"
   },
   {
    "duration": 0,
    "start_time": "2022-07-09T13:46:05.525Z"
   },
   {
    "duration": 6,
    "start_time": "2022-07-09T13:49:32.165Z"
   },
   {
    "duration": 20,
    "start_time": "2022-07-09T17:50:12.491Z"
   },
   {
    "duration": 17,
    "start_time": "2022-07-09T18:08:52.239Z"
   },
   {
    "duration": 8,
    "start_time": "2022-07-09T18:09:10.650Z"
   },
   {
    "duration": 19,
    "start_time": "2022-07-09T18:09:14.778Z"
   },
   {
    "duration": 5,
    "start_time": "2022-07-09T18:09:18.171Z"
   },
   {
    "duration": 638,
    "start_time": "2022-07-09T18:09:18.178Z"
   },
   {
    "duration": 3,
    "start_time": "2022-07-09T18:09:18.818Z"
   },
   {
    "duration": 6,
    "start_time": "2022-07-09T18:09:18.823Z"
   },
   {
    "duration": 15,
    "start_time": "2022-07-09T18:09:18.830Z"
   },
   {
    "duration": 427,
    "start_time": "2022-07-09T18:09:18.847Z"
   },
   {
    "duration": 8,
    "start_time": "2022-07-09T18:09:19.276Z"
   },
   {
    "duration": 13,
    "start_time": "2022-07-09T18:09:19.285Z"
   },
   {
    "duration": 6,
    "start_time": "2022-07-09T18:09:19.300Z"
   },
   {
    "duration": 5,
    "start_time": "2022-07-09T18:09:19.308Z"
   },
   {
    "duration": 8,
    "start_time": "2022-07-09T18:09:19.314Z"
   },
   {
    "duration": 7,
    "start_time": "2022-07-09T18:09:19.323Z"
   },
   {
    "duration": 25,
    "start_time": "2022-07-09T18:09:19.331Z"
   },
   {
    "duration": 3,
    "start_time": "2022-07-09T18:09:19.357Z"
   },
   {
    "duration": 8,
    "start_time": "2022-07-09T18:09:19.362Z"
   },
   {
    "duration": 1674,
    "start_time": "2022-07-09T18:09:19.371Z"
   },
   {
    "duration": 1523,
    "start_time": "2022-07-09T18:09:21.048Z"
   },
   {
    "duration": 1731,
    "start_time": "2022-07-09T18:09:22.573Z"
   },
   {
    "duration": 5,
    "start_time": "2022-07-09T18:09:24.305Z"
   },
   {
    "duration": 602,
    "start_time": "2022-07-09T18:09:24.311Z"
   },
   {
    "duration": 569,
    "start_time": "2022-07-09T18:09:24.915Z"
   },
   {
    "duration": 3,
    "start_time": "2022-07-09T18:09:25.486Z"
   },
   {
    "duration": 249,
    "start_time": "2022-07-09T18:09:25.491Z"
   },
   {
    "duration": 50,
    "start_time": "2022-07-09T18:09:25.742Z"
   },
   {
    "duration": 2,
    "start_time": "2022-07-09T18:09:25.794Z"
   },
   {
    "duration": 31,
    "start_time": "2022-07-09T18:09:25.798Z"
   },
   {
    "duration": 3,
    "start_time": "2022-07-09T18:09:25.846Z"
   },
   {
    "duration": 255,
    "start_time": "2022-07-09T18:09:25.853Z"
   },
   {
    "duration": 4,
    "start_time": "2022-07-09T18:09:26.109Z"
   },
   {
    "duration": 10,
    "start_time": "2022-07-09T18:09:26.114Z"
   },
   {
    "duration": 39,
    "start_time": "2022-07-09T18:09:26.126Z"
   },
   {
    "duration": 0,
    "start_time": "2022-07-09T18:09:26.167Z"
   },
   {
    "duration": 0,
    "start_time": "2022-07-09T18:09:26.168Z"
   },
   {
    "duration": 0,
    "start_time": "2022-07-09T18:09:26.169Z"
   },
   {
    "duration": 0,
    "start_time": "2022-07-09T18:09:26.171Z"
   },
   {
    "duration": 0,
    "start_time": "2022-07-09T18:09:26.172Z"
   },
   {
    "duration": 10,
    "start_time": "2022-07-09T18:10:01.738Z"
   },
   {
    "duration": 15,
    "start_time": "2022-07-09T18:11:01.353Z"
   },
   {
    "duration": 18,
    "start_time": "2022-07-09T18:14:23.876Z"
   },
   {
    "duration": 18,
    "start_time": "2022-07-09T18:15:21.003Z"
   },
   {
    "duration": 8,
    "start_time": "2022-07-09T18:15:55.747Z"
   },
   {
    "duration": 18,
    "start_time": "2022-07-09T18:18:49.943Z"
   },
   {
    "duration": 18,
    "start_time": "2022-07-09T18:24:49.264Z"
   },
   {
    "duration": 12,
    "start_time": "2022-07-09T18:25:12.531Z"
   },
   {
    "duration": 5,
    "start_time": "2022-07-09T18:25:30.052Z"
   },
   {
    "duration": 655,
    "start_time": "2022-07-09T18:25:30.059Z"
   },
   {
    "duration": 4,
    "start_time": "2022-07-09T18:25:30.716Z"
   },
   {
    "duration": 11,
    "start_time": "2022-07-09T18:25:30.722Z"
   },
   {
    "duration": 15,
    "start_time": "2022-07-09T18:25:30.735Z"
   },
   {
    "duration": 373,
    "start_time": "2022-07-09T18:25:30.752Z"
   },
   {
    "duration": 20,
    "start_time": "2022-07-09T18:25:31.128Z"
   },
   {
    "duration": 8,
    "start_time": "2022-07-09T18:25:31.150Z"
   },
   {
    "duration": 13,
    "start_time": "2022-07-09T18:25:31.160Z"
   },
   {
    "duration": 23,
    "start_time": "2022-07-09T18:25:31.175Z"
   },
   {
    "duration": 10,
    "start_time": "2022-07-09T18:25:31.200Z"
   },
   {
    "duration": 15,
    "start_time": "2022-07-09T18:25:31.212Z"
   },
   {
    "duration": 25,
    "start_time": "2022-07-09T18:25:31.229Z"
   },
   {
    "duration": 2,
    "start_time": "2022-07-09T18:25:31.258Z"
   },
   {
    "duration": 11,
    "start_time": "2022-07-09T18:25:31.262Z"
   },
   {
    "duration": 1657,
    "start_time": "2022-07-09T18:25:31.275Z"
   },
   {
    "duration": 1763,
    "start_time": "2022-07-09T18:25:32.934Z"
   },
   {
    "duration": 1600,
    "start_time": "2022-07-09T18:25:34.698Z"
   },
   {
    "duration": 4,
    "start_time": "2022-07-09T18:25:36.300Z"
   },
   {
    "duration": 602,
    "start_time": "2022-07-09T18:25:36.306Z"
   },
   {
    "duration": 572,
    "start_time": "2022-07-09T18:25:36.910Z"
   },
   {
    "duration": 4,
    "start_time": "2022-07-09T18:25:37.484Z"
   },
   {
    "duration": 238,
    "start_time": "2022-07-09T18:25:37.489Z"
   },
   {
    "duration": 41,
    "start_time": "2022-07-09T18:25:37.729Z"
   },
   {
    "duration": 3,
    "start_time": "2022-07-09T18:25:37.771Z"
   },
   {
    "duration": 26,
    "start_time": "2022-07-09T18:25:37.775Z"
   },
   {
    "duration": 2,
    "start_time": "2022-07-09T18:25:37.803Z"
   },
   {
    "duration": 367,
    "start_time": "2022-07-09T18:25:37.806Z"
   },
   {
    "duration": 3,
    "start_time": "2022-07-09T18:25:38.175Z"
   },
   {
    "duration": 14,
    "start_time": "2022-07-09T18:25:38.179Z"
   },
   {
    "duration": 13,
    "start_time": "2022-07-09T18:25:38.194Z"
   },
   {
    "duration": 0,
    "start_time": "2022-07-09T18:25:38.209Z"
   },
   {
    "duration": 0,
    "start_time": "2022-07-09T18:25:38.210Z"
   },
   {
    "duration": 0,
    "start_time": "2022-07-09T18:25:38.211Z"
   },
   {
    "duration": 0,
    "start_time": "2022-07-09T18:25:38.212Z"
   },
   {
    "duration": 0,
    "start_time": "2022-07-09T18:25:38.213Z"
   },
   {
    "duration": 11,
    "start_time": "2022-07-09T18:26:05.836Z"
   },
   {
    "duration": 17,
    "start_time": "2022-07-09T18:26:19.893Z"
   },
   {
    "duration": 779,
    "start_time": "2022-07-09T18:31:47.261Z"
   },
   {
    "duration": 793,
    "start_time": "2022-07-09T18:42:45.451Z"
   },
   {
    "duration": 778,
    "start_time": "2022-07-09T18:43:06.410Z"
   },
   {
    "duration": 812,
    "start_time": "2022-07-09T18:43:34.145Z"
   },
   {
    "duration": 9,
    "start_time": "2022-07-09T18:43:41.933Z"
   },
   {
    "duration": 1135,
    "start_time": "2022-07-09T18:43:44.929Z"
   },
   {
    "duration": 828,
    "start_time": "2022-07-09T18:45:11.453Z"
   },
   {
    "duration": 3,
    "start_time": "2022-07-09T18:45:55.517Z"
   },
   {
    "duration": 893,
    "start_time": "2022-07-09T18:46:02.008Z"
   },
   {
    "duration": 3,
    "start_time": "2022-07-09T18:47:37.315Z"
   },
   {
    "duration": 4,
    "start_time": "2022-07-09T18:48:59.332Z"
   },
   {
    "duration": 6,
    "start_time": "2022-07-09T18:52:05.192Z"
   },
   {
    "duration": 4,
    "start_time": "2022-07-09T18:52:15.465Z"
   },
   {
    "duration": 639,
    "start_time": "2022-07-09T18:52:15.471Z"
   },
   {
    "duration": 3,
    "start_time": "2022-07-09T18:52:16.111Z"
   },
   {
    "duration": 7,
    "start_time": "2022-07-09T18:52:16.117Z"
   },
   {
    "duration": 6,
    "start_time": "2022-07-09T18:52:16.125Z"
   },
   {
    "duration": 367,
    "start_time": "2022-07-09T18:52:16.133Z"
   },
   {
    "duration": 9,
    "start_time": "2022-07-09T18:52:16.502Z"
   },
   {
    "duration": 13,
    "start_time": "2022-07-09T18:52:16.513Z"
   },
   {
    "duration": 6,
    "start_time": "2022-07-09T18:52:16.527Z"
   },
   {
    "duration": 2,
    "start_time": "2022-07-09T18:52:16.547Z"
   },
   {
    "duration": 7,
    "start_time": "2022-07-09T18:52:16.551Z"
   },
   {
    "duration": 7,
    "start_time": "2022-07-09T18:52:16.559Z"
   },
   {
    "duration": 25,
    "start_time": "2022-07-09T18:52:16.568Z"
   },
   {
    "duration": 2,
    "start_time": "2022-07-09T18:52:16.595Z"
   },
   {
    "duration": 9,
    "start_time": "2022-07-09T18:52:16.599Z"
   },
   {
    "duration": 1629,
    "start_time": "2022-07-09T18:52:16.609Z"
   },
   {
    "duration": 1543,
    "start_time": "2022-07-09T18:52:18.240Z"
   },
   {
    "duration": 1595,
    "start_time": "2022-07-09T18:52:19.785Z"
   },
   {
    "duration": 5,
    "start_time": "2022-07-09T18:52:21.382Z"
   },
   {
    "duration": 740,
    "start_time": "2022-07-09T18:52:21.389Z"
   },
   {
    "duration": 570,
    "start_time": "2022-07-09T18:52:22.131Z"
   },
   {
    "duration": 4,
    "start_time": "2022-07-09T18:52:22.703Z"
   },
   {
    "duration": 256,
    "start_time": "2022-07-09T18:52:22.709Z"
   },
   {
    "duration": 42,
    "start_time": "2022-07-09T18:52:22.967Z"
   },
   {
    "duration": 3,
    "start_time": "2022-07-09T18:52:23.010Z"
   },
   {
    "duration": 55,
    "start_time": "2022-07-09T18:52:23.014Z"
   },
   {
    "duration": 2,
    "start_time": "2022-07-09T18:52:23.071Z"
   },
   {
    "duration": 260,
    "start_time": "2022-07-09T18:52:23.076Z"
   },
   {
    "duration": 8,
    "start_time": "2022-07-09T18:52:23.338Z"
   },
   {
    "duration": 18,
    "start_time": "2022-07-09T18:52:23.348Z"
   },
   {
    "duration": 4,
    "start_time": "2022-07-09T18:52:23.367Z"
   },
   {
    "duration": 6,
    "start_time": "2022-07-09T18:52:23.373Z"
   },
   {
    "duration": 5,
    "start_time": "2022-07-09T18:52:23.380Z"
   },
   {
    "duration": 7,
    "start_time": "2022-07-09T18:52:23.387Z"
   },
   {
    "duration": 3859,
    "start_time": "2022-07-09T18:52:23.396Z"
   },
   {
    "duration": 100,
    "start_time": "2022-07-09T18:52:27.347Z"
   },
   {
    "duration": 10,
    "start_time": "2022-07-09T18:54:22.442Z"
   },
   {
    "duration": 50,
    "start_time": "2022-07-09T18:54:49.691Z"
   },
   {
    "duration": 16,
    "start_time": "2022-07-09T18:55:23.941Z"
   },
   {
    "duration": 9,
    "start_time": "2022-07-09T18:56:12.053Z"
   },
   {
    "duration": 719,
    "start_time": "2022-07-09T18:56:16.912Z"
   },
   {
    "duration": 430,
    "start_time": "2022-07-09T18:57:13.336Z"
   },
   {
    "duration": 82,
    "start_time": "2022-07-09T19:09:18.689Z"
   },
   {
    "duration": 15,
    "start_time": "2022-07-09T19:09:48.476Z"
   },
   {
    "duration": 269,
    "start_time": "2022-07-09T19:10:27.256Z"
   },
   {
    "duration": 272,
    "start_time": "2022-07-09T19:10:45.548Z"
   },
   {
    "duration": 4,
    "start_time": "2022-07-09T19:12:02.454Z"
   },
   {
    "duration": 349,
    "start_time": "2022-07-09T19:12:04.316Z"
   },
   {
    "duration": 3,
    "start_time": "2022-07-09T19:12:17.703Z"
   },
   {
    "duration": 692,
    "start_time": "2022-07-09T19:12:17.708Z"
   },
   {
    "duration": 3,
    "start_time": "2022-07-09T19:12:18.402Z"
   },
   {
    "duration": 6,
    "start_time": "2022-07-09T19:12:18.407Z"
   },
   {
    "duration": 5,
    "start_time": "2022-07-09T19:12:18.414Z"
   },
   {
    "duration": 381,
    "start_time": "2022-07-09T19:12:18.421Z"
   },
   {
    "duration": 7,
    "start_time": "2022-07-09T19:12:18.804Z"
   },
   {
    "duration": 6,
    "start_time": "2022-07-09T19:12:18.813Z"
   },
   {
    "duration": 5,
    "start_time": "2022-07-09T19:12:18.821Z"
   },
   {
    "duration": 6,
    "start_time": "2022-07-09T19:12:18.827Z"
   },
   {
    "duration": 8,
    "start_time": "2022-07-09T19:12:18.847Z"
   },
   {
    "duration": 10,
    "start_time": "2022-07-09T19:12:18.856Z"
   },
   {
    "duration": 24,
    "start_time": "2022-07-09T19:12:18.868Z"
   },
   {
    "duration": 3,
    "start_time": "2022-07-09T19:12:18.895Z"
   },
   {
    "duration": 14,
    "start_time": "2022-07-09T19:12:18.900Z"
   },
   {
    "duration": 1719,
    "start_time": "2022-07-09T19:12:18.916Z"
   },
   {
    "duration": 1667,
    "start_time": "2022-07-09T19:12:20.637Z"
   },
   {
    "duration": 1461,
    "start_time": "2022-07-09T19:12:22.305Z"
   },
   {
    "duration": 5,
    "start_time": "2022-07-09T19:12:23.767Z"
   },
   {
    "duration": 635,
    "start_time": "2022-07-09T19:12:23.773Z"
   },
   {
    "duration": 676,
    "start_time": "2022-07-09T19:12:24.411Z"
   },
   {
    "duration": 4,
    "start_time": "2022-07-09T19:12:25.088Z"
   },
   {
    "duration": 238,
    "start_time": "2022-07-09T19:12:25.093Z"
   },
   {
    "duration": 52,
    "start_time": "2022-07-09T19:12:25.333Z"
   },
   {
    "duration": 2,
    "start_time": "2022-07-09T19:12:25.387Z"
   },
   {
    "duration": 28,
    "start_time": "2022-07-09T19:12:25.391Z"
   },
   {
    "duration": 2,
    "start_time": "2022-07-09T19:12:25.420Z"
   },
   {
    "duration": 249,
    "start_time": "2022-07-09T19:12:25.423Z"
   },
   {
    "duration": 3,
    "start_time": "2022-07-09T19:12:25.675Z"
   },
   {
    "duration": 13,
    "start_time": "2022-07-09T19:12:25.680Z"
   },
   {
    "duration": 13,
    "start_time": "2022-07-09T19:12:25.695Z"
   },
   {
    "duration": 0,
    "start_time": "2022-07-09T19:12:25.710Z"
   },
   {
    "duration": 0,
    "start_time": "2022-07-09T19:12:25.711Z"
   },
   {
    "duration": 0,
    "start_time": "2022-07-09T19:12:25.712Z"
   },
   {
    "duration": 0,
    "start_time": "2022-07-09T19:12:25.713Z"
   },
   {
    "duration": 0,
    "start_time": "2022-07-09T19:12:25.714Z"
   },
   {
    "duration": 0,
    "start_time": "2022-07-09T19:12:25.715Z"
   },
   {
    "duration": 239,
    "start_time": "2022-07-09T19:13:01.892Z"
   },
   {
    "duration": 11,
    "start_time": "2022-07-09T19:17:41.040Z"
   },
   {
    "duration": 20,
    "start_time": "2022-07-09T19:18:03.295Z"
   },
   {
    "duration": 232,
    "start_time": "2022-07-09T19:18:52.174Z"
   },
   {
    "duration": 10,
    "start_time": "2022-07-09T19:19:15.741Z"
   },
   {
    "duration": 23,
    "start_time": "2022-07-09T19:19:33.037Z"
   },
   {
    "duration": 14,
    "start_time": "2022-07-09T19:20:04.175Z"
   },
   {
    "duration": 16,
    "start_time": "2022-07-09T19:22:00.859Z"
   },
   {
    "duration": 10,
    "start_time": "2022-07-09T19:22:15.387Z"
   },
   {
    "duration": 94,
    "start_time": "2022-07-09T19:28:27.637Z"
   },
   {
    "duration": 10,
    "start_time": "2022-07-09T19:42:04.717Z"
   },
   {
    "duration": 20,
    "start_time": "2022-07-09T19:43:17.653Z"
   },
   {
    "duration": 736,
    "start_time": "2022-07-09T19:43:38.373Z"
   },
   {
    "duration": 6,
    "start_time": "2022-07-09T19:44:55.881Z"
   },
   {
    "duration": 4,
    "start_time": "2022-07-09T19:45:07.347Z"
   },
   {
    "duration": 765,
    "start_time": "2022-07-09T19:45:18.206Z"
   },
   {
    "duration": 261,
    "start_time": "2022-07-09T19:46:37.551Z"
   },
   {
    "duration": 631,
    "start_time": "2022-07-09T19:50:20.379Z"
   },
   {
    "duration": 3,
    "start_time": "2022-07-09T19:50:23.989Z"
   },
   {
    "duration": 692,
    "start_time": "2022-07-09T19:50:24.009Z"
   },
   {
    "duration": 3,
    "start_time": "2022-07-09T19:50:24.703Z"
   },
   {
    "duration": 9,
    "start_time": "2022-07-09T19:50:24.708Z"
   },
   {
    "duration": 400,
    "start_time": "2022-07-09T19:50:24.719Z"
   },
   {
    "duration": 183,
    "start_time": "2022-07-09T19:50:25.122Z"
   },
   {
    "duration": 412,
    "start_time": "2022-07-09T19:50:25.307Z"
   },
   {
    "duration": 8,
    "start_time": "2022-07-09T19:50:25.721Z"
   },
   {
    "duration": 18,
    "start_time": "2022-07-09T19:50:25.731Z"
   },
   {
    "duration": 6,
    "start_time": "2022-07-09T19:50:25.751Z"
   },
   {
    "duration": 8,
    "start_time": "2022-07-09T19:50:25.759Z"
   },
   {
    "duration": 8,
    "start_time": "2022-07-09T19:50:25.768Z"
   },
   {
    "duration": 7,
    "start_time": "2022-07-09T19:50:25.777Z"
   },
   {
    "duration": 26,
    "start_time": "2022-07-09T19:50:25.785Z"
   },
   {
    "duration": 3,
    "start_time": "2022-07-09T19:50:25.815Z"
   },
   {
    "duration": 28,
    "start_time": "2022-07-09T19:50:25.819Z"
   },
   {
    "duration": 1605,
    "start_time": "2022-07-09T19:50:25.849Z"
   },
   {
    "duration": 1791,
    "start_time": "2022-07-09T19:50:27.456Z"
   },
   {
    "duration": 1643,
    "start_time": "2022-07-09T19:50:29.249Z"
   },
   {
    "duration": 5,
    "start_time": "2022-07-09T19:50:30.894Z"
   },
   {
    "duration": 612,
    "start_time": "2022-07-09T19:50:30.900Z"
   },
   {
    "duration": 596,
    "start_time": "2022-07-09T19:50:31.514Z"
   },
   {
    "duration": 3,
    "start_time": "2022-07-09T19:50:32.112Z"
   },
   {
    "duration": 248,
    "start_time": "2022-07-09T19:50:32.117Z"
   },
   {
    "duration": 40,
    "start_time": "2022-07-09T19:50:32.368Z"
   },
   {
    "duration": 3,
    "start_time": "2022-07-09T19:50:32.410Z"
   },
   {
    "duration": 54,
    "start_time": "2022-07-09T19:50:32.414Z"
   },
   {
    "duration": 2,
    "start_time": "2022-07-09T19:50:32.470Z"
   },
   {
    "duration": 244,
    "start_time": "2022-07-09T19:50:32.474Z"
   },
   {
    "duration": 4,
    "start_time": "2022-07-09T19:50:32.720Z"
   },
   {
    "duration": 22,
    "start_time": "2022-07-09T19:50:32.726Z"
   },
   {
    "duration": 12,
    "start_time": "2022-07-09T19:50:32.750Z"
   },
   {
    "duration": 0,
    "start_time": "2022-07-09T19:50:32.763Z"
   },
   {
    "duration": 0,
    "start_time": "2022-07-09T19:50:32.765Z"
   },
   {
    "duration": 0,
    "start_time": "2022-07-09T19:50:32.766Z"
   },
   {
    "duration": 0,
    "start_time": "2022-07-09T19:50:32.768Z"
   },
   {
    "duration": 0,
    "start_time": "2022-07-09T19:50:32.769Z"
   },
   {
    "duration": 0,
    "start_time": "2022-07-09T19:50:32.770Z"
   },
   {
    "duration": 0,
    "start_time": "2022-07-09T19:50:32.771Z"
   },
   {
    "duration": 4,
    "start_time": "2022-07-09T19:52:51.777Z"
   },
   {
    "duration": 702,
    "start_time": "2022-07-09T19:52:51.783Z"
   },
   {
    "duration": 2,
    "start_time": "2022-07-09T19:52:52.487Z"
   },
   {
    "duration": 8,
    "start_time": "2022-07-09T19:52:52.492Z"
   },
   {
    "duration": 408,
    "start_time": "2022-07-09T19:52:52.502Z"
   },
   {
    "duration": 195,
    "start_time": "2022-07-09T19:52:52.912Z"
   },
   {
    "duration": 502,
    "start_time": "2022-07-09T19:52:53.109Z"
   },
   {
    "duration": 7,
    "start_time": "2022-07-09T19:52:53.613Z"
   },
   {
    "duration": 10,
    "start_time": "2022-07-09T19:52:53.621Z"
   },
   {
    "duration": 4,
    "start_time": "2022-07-09T19:52:53.645Z"
   },
   {
    "duration": 4,
    "start_time": "2022-07-09T19:52:53.651Z"
   },
   {
    "duration": 5,
    "start_time": "2022-07-09T19:52:53.656Z"
   },
   {
    "duration": 5,
    "start_time": "2022-07-09T19:52:53.662Z"
   },
   {
    "duration": 23,
    "start_time": "2022-07-09T19:52:53.669Z"
   },
   {
    "duration": 3,
    "start_time": "2022-07-09T19:52:53.693Z"
   },
   {
    "duration": 9,
    "start_time": "2022-07-09T19:52:53.697Z"
   },
   {
    "duration": 1627,
    "start_time": "2022-07-09T19:52:53.708Z"
   },
   {
    "duration": 1545,
    "start_time": "2022-07-09T19:52:55.337Z"
   },
   {
    "duration": 1691,
    "start_time": "2022-07-09T19:52:56.884Z"
   },
   {
    "duration": 5,
    "start_time": "2022-07-09T19:52:58.577Z"
   },
   {
    "duration": 796,
    "start_time": "2022-07-09T19:52:58.583Z"
   },
   {
    "duration": 585,
    "start_time": "2022-07-09T19:52:59.381Z"
   },
   {
    "duration": 3,
    "start_time": "2022-07-09T19:52:59.968Z"
   },
   {
    "duration": 234,
    "start_time": "2022-07-09T19:52:59.972Z"
   },
   {
    "duration": 54,
    "start_time": "2022-07-09T19:53:00.208Z"
   },
   {
    "duration": 2,
    "start_time": "2022-07-09T19:53:00.264Z"
   },
   {
    "duration": 32,
    "start_time": "2022-07-09T19:53:00.268Z"
   },
   {
    "duration": 2,
    "start_time": "2022-07-09T19:53:00.304Z"
   },
   {
    "duration": 248,
    "start_time": "2022-07-09T19:53:00.307Z"
   },
   {
    "duration": 4,
    "start_time": "2022-07-09T19:53:00.557Z"
   },
   {
    "duration": 16,
    "start_time": "2022-07-09T19:53:00.562Z"
   },
   {
    "duration": 11,
    "start_time": "2022-07-09T19:53:00.579Z"
   },
   {
    "duration": 0,
    "start_time": "2022-07-09T19:53:00.592Z"
   },
   {
    "duration": 0,
    "start_time": "2022-07-09T19:53:00.593Z"
   },
   {
    "duration": 0,
    "start_time": "2022-07-09T19:53:00.594Z"
   },
   {
    "duration": 0,
    "start_time": "2022-07-09T19:53:00.595Z"
   },
   {
    "duration": 0,
    "start_time": "2022-07-09T19:53:00.596Z"
   },
   {
    "duration": 0,
    "start_time": "2022-07-09T19:53:00.597Z"
   },
   {
    "duration": 0,
    "start_time": "2022-07-09T19:53:00.598Z"
   },
   {
    "duration": 18,
    "start_time": "2022-07-09T19:54:57.038Z"
   },
   {
    "duration": 44,
    "start_time": "2022-07-09T19:59:33.125Z"
   },
   {
    "duration": 17,
    "start_time": "2022-07-09T20:01:51.018Z"
   },
   {
    "duration": 1550,
    "start_time": "2022-07-10T07:32:18.254Z"
   },
   {
    "duration": 1679,
    "start_time": "2022-07-10T07:32:19.806Z"
   },
   {
    "duration": 3,
    "start_time": "2022-07-10T07:32:21.486Z"
   },
   {
    "duration": 23,
    "start_time": "2022-07-10T07:32:21.491Z"
   },
   {
    "duration": 392,
    "start_time": "2022-07-10T07:32:21.516Z"
   },
   {
    "duration": 198,
    "start_time": "2022-07-10T07:32:21.909Z"
   },
   {
    "duration": 392,
    "start_time": "2022-07-10T07:32:22.108Z"
   },
   {
    "duration": 8,
    "start_time": "2022-07-10T07:32:22.502Z"
   },
   {
    "duration": 27,
    "start_time": "2022-07-10T07:32:22.511Z"
   },
   {
    "duration": 23,
    "start_time": "2022-07-10T07:32:22.541Z"
   },
   {
    "duration": 15,
    "start_time": "2022-07-10T07:32:22.566Z"
   },
   {
    "duration": 19,
    "start_time": "2022-07-10T07:32:22.583Z"
   },
   {
    "duration": 36,
    "start_time": "2022-07-10T07:32:22.603Z"
   },
   {
    "duration": 34,
    "start_time": "2022-07-10T07:32:22.641Z"
   },
   {
    "duration": 2,
    "start_time": "2022-07-10T07:32:22.677Z"
   },
   {
    "duration": 28,
    "start_time": "2022-07-10T07:32:22.680Z"
   },
   {
    "duration": 1695,
    "start_time": "2022-07-10T07:32:22.710Z"
   },
   {
    "duration": 1541,
    "start_time": "2022-07-10T07:32:24.406Z"
   },
   {
    "duration": 1720,
    "start_time": "2022-07-10T07:32:25.949Z"
   },
   {
    "duration": 4,
    "start_time": "2022-07-10T07:32:27.671Z"
   },
   {
    "duration": 613,
    "start_time": "2022-07-10T07:32:27.677Z"
   },
   {
    "duration": 664,
    "start_time": "2022-07-10T07:32:28.292Z"
   },
   {
    "duration": 3,
    "start_time": "2022-07-10T07:32:28.958Z"
   },
   {
    "duration": 243,
    "start_time": "2022-07-10T07:32:28.963Z"
   },
   {
    "duration": 55,
    "start_time": "2022-07-10T07:32:29.208Z"
   },
   {
    "duration": 3,
    "start_time": "2022-07-10T07:32:29.264Z"
   },
   {
    "duration": 31,
    "start_time": "2022-07-10T07:32:29.268Z"
   },
   {
    "duration": 14,
    "start_time": "2022-07-10T07:32:29.302Z"
   },
   {
    "duration": 239,
    "start_time": "2022-07-10T07:32:29.324Z"
   },
   {
    "duration": 4,
    "start_time": "2022-07-10T07:32:29.565Z"
   },
   {
    "duration": 30,
    "start_time": "2022-07-10T07:32:29.570Z"
   },
   {
    "duration": 118,
    "start_time": "2022-07-10T07:32:29.602Z"
   },
   {
    "duration": 0,
    "start_time": "2022-07-10T07:32:29.722Z"
   },
   {
    "duration": 0,
    "start_time": "2022-07-10T07:32:29.732Z"
   },
   {
    "duration": 0,
    "start_time": "2022-07-10T07:32:29.732Z"
   },
   {
    "duration": 0,
    "start_time": "2022-07-10T07:32:29.733Z"
   },
   {
    "duration": 0,
    "start_time": "2022-07-10T07:32:29.734Z"
   },
   {
    "duration": 0,
    "start_time": "2022-07-10T07:32:29.736Z"
   },
   {
    "duration": 20,
    "start_time": "2022-07-10T07:36:15.868Z"
   },
   {
    "duration": 980,
    "start_time": "2022-07-10T07:36:35.075Z"
   },
   {
    "duration": 12,
    "start_time": "2022-07-10T07:39:38.780Z"
   },
   {
    "duration": 33,
    "start_time": "2022-07-10T07:40:02.442Z"
   },
   {
    "duration": 7,
    "start_time": "2022-07-10T07:40:07.676Z"
   },
   {
    "duration": 15,
    "start_time": "2022-07-10T07:40:24.241Z"
   },
   {
    "duration": 12,
    "start_time": "2022-07-10T07:44:58.240Z"
   },
   {
    "duration": 16,
    "start_time": "2022-07-10T07:45:19.951Z"
   },
   {
    "duration": 26,
    "start_time": "2022-07-10T07:51:45.596Z"
   },
   {
    "duration": 32,
    "start_time": "2022-07-10T07:52:07.132Z"
   },
   {
    "duration": 29,
    "start_time": "2022-07-10T07:53:05.176Z"
   },
   {
    "duration": 22,
    "start_time": "2022-07-10T07:53:43.596Z"
   },
   {
    "duration": 27,
    "start_time": "2022-07-10T07:58:17.536Z"
   },
   {
    "duration": 24,
    "start_time": "2022-07-10T07:59:29.352Z"
   },
   {
    "duration": 33,
    "start_time": "2022-07-10T08:00:08.101Z"
   },
   {
    "duration": 30,
    "start_time": "2022-07-10T08:00:34.510Z"
   },
   {
    "duration": 31,
    "start_time": "2022-07-10T08:14:09.354Z"
   },
   {
    "duration": 49,
    "start_time": "2022-07-10T08:14:22.197Z"
   },
   {
    "duration": 48,
    "start_time": "2022-07-10T08:14:42.204Z"
   },
   {
    "duration": 59,
    "start_time": "2022-07-10T08:19:59.916Z"
   },
   {
    "duration": 66,
    "start_time": "2022-07-10T08:21:00.873Z"
   },
   {
    "duration": 51,
    "start_time": "2022-07-10T08:21:21.939Z"
   },
   {
    "duration": 23,
    "start_time": "2022-07-10T08:22:04.526Z"
   },
   {
    "duration": 619,
    "start_time": "2022-07-10T08:22:40.140Z"
   },
   {
    "duration": 6,
    "start_time": "2022-07-10T08:23:05.650Z"
   },
   {
    "duration": 4,
    "start_time": "2022-07-10T08:28:17.514Z"
   },
   {
    "duration": 13,
    "start_time": "2022-07-10T08:28:25.491Z"
   },
   {
    "duration": 4,
    "start_time": "2022-07-10T08:29:28.114Z"
   },
   {
    "duration": 573,
    "start_time": "2022-07-10T08:29:28.120Z"
   },
   {
    "duration": 2,
    "start_time": "2022-07-10T08:29:28.695Z"
   },
   {
    "duration": 8,
    "start_time": "2022-07-10T08:29:28.700Z"
   },
   {
    "duration": 359,
    "start_time": "2022-07-10T08:29:28.710Z"
   },
   {
    "duration": 178,
    "start_time": "2022-07-10T08:29:29.071Z"
   },
   {
    "duration": 379,
    "start_time": "2022-07-10T08:29:29.251Z"
   },
   {
    "duration": 6,
    "start_time": "2022-07-10T08:29:29.632Z"
   },
   {
    "duration": 5,
    "start_time": "2022-07-10T08:29:29.641Z"
   },
   {
    "duration": 6,
    "start_time": "2022-07-10T08:29:29.647Z"
   },
   {
    "duration": 7,
    "start_time": "2022-07-10T08:29:29.655Z"
   },
   {
    "duration": 5,
    "start_time": "2022-07-10T08:29:29.664Z"
   },
   {
    "duration": 5,
    "start_time": "2022-07-10T08:29:29.671Z"
   },
   {
    "duration": 20,
    "start_time": "2022-07-10T08:29:29.677Z"
   },
   {
    "duration": 3,
    "start_time": "2022-07-10T08:29:29.698Z"
   },
   {
    "duration": 5,
    "start_time": "2022-07-10T08:29:29.723Z"
   },
   {
    "duration": 1542,
    "start_time": "2022-07-10T08:29:29.730Z"
   },
   {
    "duration": 1543,
    "start_time": "2022-07-10T08:29:31.274Z"
   },
   {
    "duration": 1442,
    "start_time": "2022-07-10T08:29:32.818Z"
   },
   {
    "duration": 4,
    "start_time": "2022-07-10T08:29:34.263Z"
   },
   {
    "duration": 614,
    "start_time": "2022-07-10T08:29:34.269Z"
   },
   {
    "duration": 562,
    "start_time": "2022-07-10T08:29:34.885Z"
   },
   {
    "duration": 4,
    "start_time": "2022-07-10T08:29:35.449Z"
   },
   {
    "duration": 237,
    "start_time": "2022-07-10T08:29:35.456Z"
   },
   {
    "duration": 47,
    "start_time": "2022-07-10T08:29:35.695Z"
   },
   {
    "duration": 2,
    "start_time": "2022-07-10T08:29:35.744Z"
   },
   {
    "duration": 41,
    "start_time": "2022-07-10T08:29:35.748Z"
   },
   {
    "duration": 2,
    "start_time": "2022-07-10T08:29:35.791Z"
   },
   {
    "duration": 229,
    "start_time": "2022-07-10T08:29:35.794Z"
   },
   {
    "duration": 4,
    "start_time": "2022-07-10T08:29:36.025Z"
   },
   {
    "duration": 16,
    "start_time": "2022-07-10T08:29:36.030Z"
   },
   {
    "duration": 55,
    "start_time": "2022-07-10T08:29:36.047Z"
   },
   {
    "duration": 22,
    "start_time": "2022-07-10T08:29:36.104Z"
   },
   {
    "duration": 40,
    "start_time": "2022-07-10T08:29:36.127Z"
   },
   {
    "duration": 23,
    "start_time": "2022-07-10T08:29:36.169Z"
   },
   {
    "duration": 357,
    "start_time": "2022-07-10T08:29:36.194Z"
   },
   {
    "duration": 13,
    "start_time": "2022-07-10T08:29:36.553Z"
   },
   {
    "duration": 4,
    "start_time": "2022-07-10T08:35:59.794Z"
   },
   {
    "duration": 602,
    "start_time": "2022-07-10T08:35:59.800Z"
   },
   {
    "duration": 2,
    "start_time": "2022-07-10T08:36:00.404Z"
   },
   {
    "duration": 19,
    "start_time": "2022-07-10T08:36:00.408Z"
   },
   {
    "duration": 369,
    "start_time": "2022-07-10T08:36:00.428Z"
   },
   {
    "duration": 328,
    "start_time": "2022-07-10T08:36:00.799Z"
   },
   {
    "duration": 380,
    "start_time": "2022-07-10T08:36:01.129Z"
   },
   {
    "duration": 13,
    "start_time": "2022-07-10T08:36:01.510Z"
   },
   {
    "duration": 43,
    "start_time": "2022-07-10T08:36:01.526Z"
   },
   {
    "duration": 18,
    "start_time": "2022-07-10T08:36:01.572Z"
   },
   {
    "duration": 26,
    "start_time": "2022-07-10T08:36:01.592Z"
   },
   {
    "duration": 40,
    "start_time": "2022-07-10T08:36:01.620Z"
   },
   {
    "duration": 67,
    "start_time": "2022-07-10T08:36:01.662Z"
   },
   {
    "duration": 42,
    "start_time": "2022-07-10T08:36:01.731Z"
   },
   {
    "duration": 17,
    "start_time": "2022-07-10T08:36:01.774Z"
   },
   {
    "duration": 26,
    "start_time": "2022-07-10T08:36:01.793Z"
   },
   {
    "duration": 1759,
    "start_time": "2022-07-10T08:36:01.821Z"
   },
   {
    "duration": 1559,
    "start_time": "2022-07-10T08:36:03.582Z"
   },
   {
    "duration": 1584,
    "start_time": "2022-07-10T08:36:05.143Z"
   },
   {
    "duration": 4,
    "start_time": "2022-07-10T08:36:06.729Z"
   },
   {
    "duration": 848,
    "start_time": "2022-07-10T08:36:06.734Z"
   },
   {
    "duration": 590,
    "start_time": "2022-07-10T08:36:07.583Z"
   },
   {
    "duration": 3,
    "start_time": "2022-07-10T08:36:08.175Z"
   },
   {
    "duration": 234,
    "start_time": "2022-07-10T08:36:08.181Z"
   },
   {
    "duration": 39,
    "start_time": "2022-07-10T08:36:08.424Z"
   },
   {
    "duration": 3,
    "start_time": "2022-07-10T08:36:08.464Z"
   },
   {
    "duration": 27,
    "start_time": "2022-07-10T08:36:08.469Z"
   },
   {
    "duration": 25,
    "start_time": "2022-07-10T08:36:08.499Z"
   },
   {
    "duration": 239,
    "start_time": "2022-07-10T08:36:08.526Z"
   },
   {
    "duration": 4,
    "start_time": "2022-07-10T08:36:08.767Z"
   },
   {
    "duration": 21,
    "start_time": "2022-07-10T08:36:08.773Z"
   },
   {
    "duration": 69,
    "start_time": "2022-07-10T08:36:08.797Z"
   },
   {
    "duration": 6,
    "start_time": "2022-07-10T08:36:08.868Z"
   },
   {
    "duration": 9,
    "start_time": "2022-07-10T08:36:08.875Z"
   },
   {
    "duration": 10,
    "start_time": "2022-07-10T08:36:08.887Z"
   },
   {
    "duration": 65,
    "start_time": "2022-07-10T08:36:08.899Z"
   },
   {
    "duration": 11,
    "start_time": "2022-07-10T08:36:08.965Z"
   },
   {
    "duration": 43,
    "start_time": "2022-07-10T08:39:06.108Z"
   },
   {
    "duration": 299,
    "start_time": "2022-07-10T08:40:03.585Z"
   },
   {
    "duration": 41,
    "start_time": "2022-07-10T08:40:32.794Z"
   },
   {
    "duration": 9,
    "start_time": "2022-07-10T08:42:43.272Z"
   },
   {
    "duration": 4,
    "start_time": "2022-07-10T08:43:32.983Z"
   },
   {
    "duration": 574,
    "start_time": "2022-07-10T08:43:32.989Z"
   },
   {
    "duration": 3,
    "start_time": "2022-07-10T08:43:33.565Z"
   },
   {
    "duration": 9,
    "start_time": "2022-07-10T08:43:33.570Z"
   },
   {
    "duration": 380,
    "start_time": "2022-07-10T08:43:33.582Z"
   },
   {
    "duration": 186,
    "start_time": "2022-07-10T08:43:33.964Z"
   },
   {
    "duration": 404,
    "start_time": "2022-07-10T08:43:34.151Z"
   },
   {
    "duration": 10,
    "start_time": "2022-07-10T08:43:34.557Z"
   },
   {
    "duration": 12,
    "start_time": "2022-07-10T08:43:34.570Z"
   },
   {
    "duration": 18,
    "start_time": "2022-07-10T08:43:34.584Z"
   },
   {
    "duration": 4,
    "start_time": "2022-07-10T08:43:34.604Z"
   },
   {
    "duration": 4,
    "start_time": "2022-07-10T08:43:34.610Z"
   },
   {
    "duration": 4,
    "start_time": "2022-07-10T08:43:34.627Z"
   },
   {
    "duration": 27,
    "start_time": "2022-07-10T08:43:34.632Z"
   },
   {
    "duration": 3,
    "start_time": "2022-07-10T08:43:34.662Z"
   },
   {
    "duration": 8,
    "start_time": "2022-07-10T08:43:34.666Z"
   },
   {
    "duration": 1612,
    "start_time": "2022-07-10T08:43:34.675Z"
   },
   {
    "duration": 1580,
    "start_time": "2022-07-10T08:43:36.290Z"
   },
   {
    "duration": 1567,
    "start_time": "2022-07-10T08:43:37.871Z"
   },
   {
    "duration": 4,
    "start_time": "2022-07-10T08:43:39.441Z"
   },
   {
    "duration": 611,
    "start_time": "2022-07-10T08:43:39.446Z"
   },
   {
    "duration": 584,
    "start_time": "2022-07-10T08:43:40.059Z"
   },
   {
    "duration": 4,
    "start_time": "2022-07-10T08:43:40.645Z"
   },
   {
    "duration": 244,
    "start_time": "2022-07-10T08:43:40.651Z"
   },
   {
    "duration": 36,
    "start_time": "2022-07-10T08:43:40.896Z"
   },
   {
    "duration": 2,
    "start_time": "2022-07-10T08:43:40.934Z"
   },
   {
    "duration": 39,
    "start_time": "2022-07-10T08:43:40.938Z"
   },
   {
    "duration": 15,
    "start_time": "2022-07-10T08:43:40.978Z"
   },
   {
    "duration": 242,
    "start_time": "2022-07-10T08:43:40.995Z"
   },
   {
    "duration": 4,
    "start_time": "2022-07-10T08:43:41.239Z"
   },
   {
    "duration": 23,
    "start_time": "2022-07-10T08:43:41.244Z"
   },
   {
    "duration": 52,
    "start_time": "2022-07-10T08:43:41.268Z"
   },
   {
    "duration": 5,
    "start_time": "2022-07-10T08:43:41.321Z"
   },
   {
    "duration": 75,
    "start_time": "2022-07-10T08:43:41.327Z"
   },
   {
    "duration": 0,
    "start_time": "2022-07-10T08:43:41.404Z"
   },
   {
    "duration": 0,
    "start_time": "2022-07-10T08:43:41.405Z"
   },
   {
    "duration": 0,
    "start_time": "2022-07-10T08:43:41.406Z"
   },
   {
    "duration": 0,
    "start_time": "2022-07-10T08:43:41.407Z"
   },
   {
    "duration": 622,
    "start_time": "2022-07-10T08:45:14.335Z"
   },
   {
    "duration": 5,
    "start_time": "2022-07-10T08:45:17.390Z"
   },
   {
    "duration": 588,
    "start_time": "2022-07-10T08:45:17.397Z"
   },
   {
    "duration": 3,
    "start_time": "2022-07-10T08:45:17.987Z"
   },
   {
    "duration": 6,
    "start_time": "2022-07-10T08:45:17.992Z"
   },
   {
    "duration": 489,
    "start_time": "2022-07-10T08:45:17.999Z"
   },
   {
    "duration": 180,
    "start_time": "2022-07-10T08:45:18.490Z"
   },
   {
    "duration": 380,
    "start_time": "2022-07-10T08:45:18.671Z"
   },
   {
    "duration": 7,
    "start_time": "2022-07-10T08:45:19.053Z"
   },
   {
    "duration": 10,
    "start_time": "2022-07-10T08:45:19.062Z"
   },
   {
    "duration": 10,
    "start_time": "2022-07-10T08:45:19.074Z"
   },
   {
    "duration": 8,
    "start_time": "2022-07-10T08:45:19.086Z"
   },
   {
    "duration": 6,
    "start_time": "2022-07-10T08:45:19.095Z"
   },
   {
    "duration": 25,
    "start_time": "2022-07-10T08:45:19.102Z"
   },
   {
    "duration": 22,
    "start_time": "2022-07-10T08:45:19.129Z"
   },
   {
    "duration": 2,
    "start_time": "2022-07-10T08:45:19.153Z"
   },
   {
    "duration": 7,
    "start_time": "2022-07-10T08:45:19.157Z"
   },
   {
    "duration": 1542,
    "start_time": "2022-07-10T08:45:19.165Z"
   },
   {
    "duration": 1515,
    "start_time": "2022-07-10T08:45:20.709Z"
   },
   {
    "duration": 1598,
    "start_time": "2022-07-10T08:45:22.226Z"
   },
   {
    "duration": 5,
    "start_time": "2022-07-10T08:45:23.825Z"
   },
   {
    "duration": 656,
    "start_time": "2022-07-10T08:45:23.831Z"
   },
   {
    "duration": 676,
    "start_time": "2022-07-10T08:45:24.490Z"
   },
   {
    "duration": 3,
    "start_time": "2022-07-10T08:45:25.168Z"
   },
   {
    "duration": 219,
    "start_time": "2022-07-10T08:45:25.172Z"
   },
   {
    "duration": 41,
    "start_time": "2022-07-10T08:45:25.393Z"
   },
   {
    "duration": 2,
    "start_time": "2022-07-10T08:45:25.436Z"
   },
   {
    "duration": 29,
    "start_time": "2022-07-10T08:45:25.439Z"
   },
   {
    "duration": 2,
    "start_time": "2022-07-10T08:45:25.471Z"
   },
   {
    "duration": 241,
    "start_time": "2022-07-10T08:45:25.474Z"
   },
   {
    "duration": 4,
    "start_time": "2022-07-10T08:45:25.724Z"
   },
   {
    "duration": 11,
    "start_time": "2022-07-10T08:45:25.730Z"
   },
   {
    "duration": 50,
    "start_time": "2022-07-10T08:45:25.743Z"
   },
   {
    "duration": 4,
    "start_time": "2022-07-10T08:45:25.795Z"
   },
   {
    "duration": 74,
    "start_time": "2022-07-10T08:45:25.800Z"
   },
   {
    "duration": 0,
    "start_time": "2022-07-10T08:45:25.876Z"
   },
   {
    "duration": 0,
    "start_time": "2022-07-10T08:45:25.877Z"
   },
   {
    "duration": 0,
    "start_time": "2022-07-10T08:45:25.879Z"
   },
   {
    "duration": 0,
    "start_time": "2022-07-10T08:45:25.880Z"
   },
   {
    "duration": 574,
    "start_time": "2022-07-10T08:45:43.344Z"
   },
   {
    "duration": 3,
    "start_time": "2022-07-10T08:45:50.714Z"
   },
   {
    "duration": 595,
    "start_time": "2022-07-10T08:45:50.719Z"
   },
   {
    "duration": 9,
    "start_time": "2022-07-10T08:45:51.315Z"
   },
   {
    "duration": 6,
    "start_time": "2022-07-10T08:45:51.326Z"
   },
   {
    "duration": 414,
    "start_time": "2022-07-10T08:45:51.333Z"
   },
   {
    "duration": 194,
    "start_time": "2022-07-10T08:45:51.749Z"
   },
   {
    "duration": 392,
    "start_time": "2022-07-10T08:45:51.945Z"
   },
   {
    "duration": 7,
    "start_time": "2022-07-10T08:45:52.339Z"
   },
   {
    "duration": 19,
    "start_time": "2022-07-10T08:45:52.348Z"
   },
   {
    "duration": 4,
    "start_time": "2022-07-10T08:45:52.370Z"
   },
   {
    "duration": 4,
    "start_time": "2022-07-10T08:45:52.376Z"
   },
   {
    "duration": 5,
    "start_time": "2022-07-10T08:45:52.382Z"
   },
   {
    "duration": 6,
    "start_time": "2022-07-10T08:45:52.389Z"
   },
   {
    "duration": 36,
    "start_time": "2022-07-10T08:45:52.397Z"
   },
   {
    "duration": 3,
    "start_time": "2022-07-10T08:45:52.435Z"
   },
   {
    "duration": 8,
    "start_time": "2022-07-10T08:45:52.440Z"
   },
   {
    "duration": 1618,
    "start_time": "2022-07-10T08:45:52.450Z"
   },
   {
    "duration": 1688,
    "start_time": "2022-07-10T08:45:54.069Z"
   },
   {
    "duration": 1513,
    "start_time": "2022-07-10T08:45:55.759Z"
   },
   {
    "duration": 6,
    "start_time": "2022-07-10T08:45:57.274Z"
   },
   {
    "duration": 603,
    "start_time": "2022-07-10T08:45:57.282Z"
   },
   {
    "duration": 563,
    "start_time": "2022-07-10T08:45:57.887Z"
   },
   {
    "duration": 3,
    "start_time": "2022-07-10T08:45:58.452Z"
   },
   {
    "duration": 223,
    "start_time": "2022-07-10T08:45:58.456Z"
   },
   {
    "duration": 46,
    "start_time": "2022-07-10T08:45:58.680Z"
   },
   {
    "duration": 2,
    "start_time": "2022-07-10T08:45:58.728Z"
   },
   {
    "duration": 32,
    "start_time": "2022-07-10T08:45:58.732Z"
   },
   {
    "duration": 3,
    "start_time": "2022-07-10T08:45:58.767Z"
   },
   {
    "duration": 345,
    "start_time": "2022-07-10T08:45:58.772Z"
   },
   {
    "duration": 5,
    "start_time": "2022-07-10T08:45:59.119Z"
   },
   {
    "duration": 25,
    "start_time": "2022-07-10T08:45:59.126Z"
   },
   {
    "duration": 48,
    "start_time": "2022-07-10T08:45:59.153Z"
   },
   {
    "duration": 4,
    "start_time": "2022-07-10T08:45:59.203Z"
   },
   {
    "duration": 83,
    "start_time": "2022-07-10T08:45:59.208Z"
   },
   {
    "duration": 0,
    "start_time": "2022-07-10T08:45:59.293Z"
   },
   {
    "duration": 0,
    "start_time": "2022-07-10T08:45:59.294Z"
   },
   {
    "duration": 0,
    "start_time": "2022-07-10T08:45:59.295Z"
   },
   {
    "duration": 0,
    "start_time": "2022-07-10T08:45:59.296Z"
   },
   {
    "duration": 51,
    "start_time": "2022-07-10T09:07:10.995Z"
   },
   {
    "duration": 4,
    "start_time": "2022-07-10T09:07:12.859Z"
   },
   {
    "duration": 49,
    "start_time": "2022-07-10T09:07:42.971Z"
   },
   {
    "duration": 5,
    "start_time": "2022-07-10T09:07:44.321Z"
   },
   {
    "duration": 4,
    "start_time": "2022-07-10T09:07:46.187Z"
   },
   {
    "duration": 5,
    "start_time": "2022-07-10T09:07:47.598Z"
   },
   {
    "duration": 54,
    "start_time": "2022-07-10T09:07:50.747Z"
   },
   {
    "duration": 276,
    "start_time": "2022-07-10T09:10:22.755Z"
   },
   {
    "duration": 3,
    "start_time": "2022-07-10T09:10:25.486Z"
   },
   {
    "duration": 95,
    "start_time": "2022-07-10T09:10:27.308Z"
   },
   {
    "duration": 4,
    "start_time": "2022-07-10T09:49:49.122Z"
   },
   {
    "duration": 1505,
    "start_time": "2022-07-10T09:49:49.129Z"
   },
   {
    "duration": 6,
    "start_time": "2022-07-10T09:49:50.639Z"
   },
   {
    "duration": 22,
    "start_time": "2022-07-10T09:49:50.649Z"
   },
   {
    "duration": 433,
    "start_time": "2022-07-10T09:49:50.674Z"
   },
   {
    "duration": 242,
    "start_time": "2022-07-10T09:49:51.109Z"
   },
   {
    "duration": 393,
    "start_time": "2022-07-10T09:49:51.358Z"
   },
   {
    "duration": 12,
    "start_time": "2022-07-10T09:49:51.755Z"
   },
   {
    "duration": 14,
    "start_time": "2022-07-10T09:49:51.771Z"
   },
   {
    "duration": 10,
    "start_time": "2022-07-10T09:49:51.787Z"
   },
   {
    "duration": 4,
    "start_time": "2022-07-10T09:49:51.801Z"
   },
   {
    "duration": 23,
    "start_time": "2022-07-10T09:49:51.807Z"
   },
   {
    "duration": 42,
    "start_time": "2022-07-10T09:49:51.832Z"
   },
   {
    "duration": 28,
    "start_time": "2022-07-10T09:49:51.876Z"
   },
   {
    "duration": 3,
    "start_time": "2022-07-10T09:49:51.906Z"
   },
   {
    "duration": 9,
    "start_time": "2022-07-10T09:49:51.910Z"
   },
   {
    "duration": 1852,
    "start_time": "2022-07-10T09:49:51.921Z"
   },
   {
    "duration": 1677,
    "start_time": "2022-07-10T09:49:53.776Z"
   },
   {
    "duration": 2216,
    "start_time": "2022-07-10T09:49:55.454Z"
   },
   {
    "duration": 8,
    "start_time": "2022-07-10T09:49:57.676Z"
   },
   {
    "duration": 682,
    "start_time": "2022-07-10T09:49:57.685Z"
   },
   {
    "duration": 722,
    "start_time": "2022-07-10T09:49:58.369Z"
   },
   {
    "duration": 4,
    "start_time": "2022-07-10T09:49:59.093Z"
   },
   {
    "duration": 283,
    "start_time": "2022-07-10T09:49:59.098Z"
   },
   {
    "duration": 58,
    "start_time": "2022-07-10T09:49:59.384Z"
   },
   {
    "duration": 6,
    "start_time": "2022-07-10T09:49:59.443Z"
   },
   {
    "duration": 49,
    "start_time": "2022-07-10T09:49:59.453Z"
   },
   {
    "duration": 2,
    "start_time": "2022-07-10T09:49:59.505Z"
   },
   {
    "duration": 342,
    "start_time": "2022-07-10T09:49:59.512Z"
   },
   {
    "duration": 4,
    "start_time": "2022-07-10T09:49:59.856Z"
   },
   {
    "duration": 9,
    "start_time": "2022-07-10T09:49:59.861Z"
   },
   {
    "duration": 21,
    "start_time": "2022-07-10T09:49:59.872Z"
   },
   {
    "duration": 0,
    "start_time": "2022-07-10T09:49:59.894Z"
   },
   {
    "duration": 0,
    "start_time": "2022-07-10T09:49:59.896Z"
   },
   {
    "duration": 0,
    "start_time": "2022-07-10T09:49:59.897Z"
   },
   {
    "duration": 0,
    "start_time": "2022-07-10T09:49:59.898Z"
   },
   {
    "duration": 0,
    "start_time": "2022-07-10T09:49:59.900Z"
   },
   {
    "duration": 0,
    "start_time": "2022-07-10T09:49:59.933Z"
   },
   {
    "duration": 5,
    "start_time": "2022-07-10T09:50:22.085Z"
   },
   {
    "duration": 710,
    "start_time": "2022-07-10T09:50:22.091Z"
   },
   {
    "duration": 3,
    "start_time": "2022-07-10T09:50:22.802Z"
   },
   {
    "duration": 18,
    "start_time": "2022-07-10T09:50:22.807Z"
   },
   {
    "duration": 413,
    "start_time": "2022-07-10T09:50:22.829Z"
   },
   {
    "duration": 206,
    "start_time": "2022-07-10T09:50:23.244Z"
   },
   {
    "duration": 400,
    "start_time": "2022-07-10T09:50:23.454Z"
   },
   {
    "duration": 9,
    "start_time": "2022-07-10T09:50:23.859Z"
   },
   {
    "duration": 10,
    "start_time": "2022-07-10T09:50:23.871Z"
   },
   {
    "duration": 9,
    "start_time": "2022-07-10T09:50:23.883Z"
   },
   {
    "duration": 7,
    "start_time": "2022-07-10T09:50:23.894Z"
   },
   {
    "duration": 6,
    "start_time": "2022-07-10T09:50:23.903Z"
   },
   {
    "duration": 21,
    "start_time": "2022-07-10T09:50:23.910Z"
   },
   {
    "duration": 46,
    "start_time": "2022-07-10T09:50:23.934Z"
   },
   {
    "duration": 2,
    "start_time": "2022-07-10T09:50:23.982Z"
   },
   {
    "duration": 16,
    "start_time": "2022-07-10T09:50:23.986Z"
   },
   {
    "duration": 1763,
    "start_time": "2022-07-10T09:50:24.007Z"
   },
   {
    "duration": 1689,
    "start_time": "2022-07-10T09:50:25.772Z"
   },
   {
    "duration": 1637,
    "start_time": "2022-07-10T09:50:27.463Z"
   },
   {
    "duration": 5,
    "start_time": "2022-07-10T09:50:29.102Z"
   },
   {
    "duration": 701,
    "start_time": "2022-07-10T09:50:29.109Z"
   },
   {
    "duration": 699,
    "start_time": "2022-07-10T09:50:29.813Z"
   },
   {
    "duration": 20,
    "start_time": "2022-07-10T09:50:30.514Z"
   },
   {
    "duration": 450,
    "start_time": "2022-07-10T09:50:30.541Z"
   },
   {
    "duration": 57,
    "start_time": "2022-07-10T09:50:30.993Z"
   },
   {
    "duration": 6,
    "start_time": "2022-07-10T09:50:31.051Z"
   },
   {
    "duration": 48,
    "start_time": "2022-07-10T09:50:31.062Z"
   },
   {
    "duration": 5,
    "start_time": "2022-07-10T09:50:31.112Z"
   },
   {
    "duration": 301,
    "start_time": "2022-07-10T09:50:31.118Z"
   },
   {
    "duration": 9,
    "start_time": "2022-07-10T09:50:31.427Z"
   },
   {
    "duration": 33,
    "start_time": "2022-07-10T09:50:31.444Z"
   },
   {
    "duration": 73,
    "start_time": "2022-07-10T09:50:31.478Z"
   },
   {
    "duration": 4,
    "start_time": "2022-07-10T09:50:31.559Z"
   },
   {
    "duration": 94,
    "start_time": "2022-07-10T09:50:31.565Z"
   },
   {
    "duration": 0,
    "start_time": "2022-07-10T09:50:31.661Z"
   },
   {
    "duration": 0,
    "start_time": "2022-07-10T09:50:31.663Z"
   },
   {
    "duration": 0,
    "start_time": "2022-07-10T09:50:31.664Z"
   },
   {
    "duration": 0,
    "start_time": "2022-07-10T09:50:31.665Z"
   },
   {
    "duration": 18,
    "start_time": "2022-07-10T09:51:48.353Z"
   },
   {
    "duration": 30,
    "start_time": "2022-07-10T09:52:02.881Z"
   },
   {
    "duration": 3,
    "start_time": "2022-07-10T09:52:12.381Z"
   },
   {
    "duration": 92,
    "start_time": "2022-07-10T09:52:14.502Z"
   },
   {
    "duration": 4,
    "start_time": "2022-07-10T09:52:26.764Z"
   },
   {
    "duration": 107,
    "start_time": "2022-07-10T09:52:28.570Z"
   },
   {
    "duration": 7,
    "start_time": "2022-07-10T09:52:52.737Z"
   },
   {
    "duration": 3,
    "start_time": "2022-07-10T09:52:56.161Z"
   },
   {
    "duration": 24,
    "start_time": "2022-07-10T09:52:59.112Z"
   },
   {
    "duration": 3,
    "start_time": "2022-07-10T09:53:02.292Z"
   },
   {
    "duration": 4,
    "start_time": "2022-07-10T09:53:04.172Z"
   },
   {
    "duration": 7413,
    "start_time": "2022-07-10T09:53:06.263Z"
   },
   {
    "duration": 3,
    "start_time": "2022-07-10T09:55:57.019Z"
   },
   {
    "duration": 5,
    "start_time": "2022-07-10T09:55:58.240Z"
   },
   {
    "duration": 3928,
    "start_time": "2022-07-10T09:55:59.624Z"
   },
   {
    "duration": 23,
    "start_time": "2022-07-10T09:59:53.395Z"
   },
   {
    "duration": 20,
    "start_time": "2022-07-10T10:00:26.902Z"
   },
   {
    "duration": 3,
    "start_time": "2022-07-10T10:00:29.884Z"
   },
   {
    "duration": 9,
    "start_time": "2022-07-10T10:00:31.745Z"
   },
   {
    "duration": 7962,
    "start_time": "2022-07-10T10:00:34.294Z"
   },
   {
    "duration": 120,
    "start_time": "2022-07-10T10:05:17.386Z"
   },
   {
    "duration": 0,
    "start_time": "2022-07-10T10:05:17.509Z"
   },
   {
    "duration": 1,
    "start_time": "2022-07-10T10:05:17.511Z"
   },
   {
    "duration": 0,
    "start_time": "2022-07-10T10:05:17.513Z"
   },
   {
    "duration": 0,
    "start_time": "2022-07-10T10:05:17.515Z"
   },
   {
    "duration": 0,
    "start_time": "2022-07-10T10:05:17.517Z"
   },
   {
    "duration": 0,
    "start_time": "2022-07-10T10:05:17.518Z"
   },
   {
    "duration": 0,
    "start_time": "2022-07-10T10:05:17.520Z"
   },
   {
    "duration": 0,
    "start_time": "2022-07-10T10:05:17.522Z"
   },
   {
    "duration": 0,
    "start_time": "2022-07-10T10:05:17.523Z"
   },
   {
    "duration": 0,
    "start_time": "2022-07-10T10:05:17.525Z"
   },
   {
    "duration": 96,
    "start_time": "2022-07-10T10:05:49.357Z"
   },
   {
    "duration": 50,
    "start_time": "2022-07-10T10:06:03.240Z"
   },
   {
    "duration": 7,
    "start_time": "2022-07-10T10:06:25.847Z"
   },
   {
    "duration": 6,
    "start_time": "2022-07-10T10:06:36.551Z"
   },
   {
    "duration": 18,
    "start_time": "2022-07-10T10:06:36.559Z"
   },
   {
    "duration": 19,
    "start_time": "2022-07-10T10:06:36.579Z"
   },
   {
    "duration": 0,
    "start_time": "2022-07-10T10:06:36.600Z"
   },
   {
    "duration": 1,
    "start_time": "2022-07-10T10:06:36.601Z"
   },
   {
    "duration": 0,
    "start_time": "2022-07-10T10:06:36.603Z"
   },
   {
    "duration": 0,
    "start_time": "2022-07-10T10:06:36.604Z"
   },
   {
    "duration": 0,
    "start_time": "2022-07-10T10:06:36.605Z"
   },
   {
    "duration": 0,
    "start_time": "2022-07-10T10:06:36.606Z"
   },
   {
    "duration": 0,
    "start_time": "2022-07-10T10:06:36.607Z"
   },
   {
    "duration": 0,
    "start_time": "2022-07-10T10:06:36.609Z"
   },
   {
    "duration": 6,
    "start_time": "2022-07-10T10:06:57.294Z"
   },
   {
    "duration": 1074,
    "start_time": "2022-07-10T10:06:57.304Z"
   },
   {
    "duration": 4,
    "start_time": "2022-07-10T10:06:58.381Z"
   },
   {
    "duration": 11,
    "start_time": "2022-07-10T10:06:58.386Z"
   },
   {
    "duration": 426,
    "start_time": "2022-07-10T10:06:58.398Z"
   },
   {
    "duration": 221,
    "start_time": "2022-07-10T10:06:58.825Z"
   },
   {
    "duration": 436,
    "start_time": "2022-07-10T10:06:59.051Z"
   },
   {
    "duration": 9,
    "start_time": "2022-07-10T10:06:59.489Z"
   },
   {
    "duration": 9,
    "start_time": "2022-07-10T10:06:59.500Z"
   },
   {
    "duration": 8,
    "start_time": "2022-07-10T10:06:59.510Z"
   },
   {
    "duration": 2,
    "start_time": "2022-07-10T10:06:59.524Z"
   },
   {
    "duration": 38,
    "start_time": "2022-07-10T10:06:59.528Z"
   },
   {
    "duration": 5,
    "start_time": "2022-07-10T10:06:59.568Z"
   },
   {
    "duration": 20,
    "start_time": "2022-07-10T10:06:59.574Z"
   },
   {
    "duration": 3,
    "start_time": "2022-07-10T10:06:59.597Z"
   },
   {
    "duration": 10,
    "start_time": "2022-07-10T10:06:59.601Z"
   },
   {
    "duration": 1717,
    "start_time": "2022-07-10T10:06:59.613Z"
   },
   {
    "duration": 1446,
    "start_time": "2022-07-10T10:07:01.336Z"
   },
   {
    "duration": 1617,
    "start_time": "2022-07-10T10:07:02.784Z"
   },
   {
    "duration": 5,
    "start_time": "2022-07-10T10:07:04.403Z"
   },
   {
    "duration": 635,
    "start_time": "2022-07-10T10:07:04.409Z"
   },
   {
    "duration": 729,
    "start_time": "2022-07-10T10:07:05.053Z"
   },
   {
    "duration": 3,
    "start_time": "2022-07-10T10:07:05.784Z"
   },
   {
    "duration": 267,
    "start_time": "2022-07-10T10:07:05.789Z"
   },
   {
    "duration": 42,
    "start_time": "2022-07-10T10:07:06.058Z"
   },
   {
    "duration": 2,
    "start_time": "2022-07-10T10:07:06.102Z"
   },
   {
    "duration": 50,
    "start_time": "2022-07-10T10:07:06.105Z"
   },
   {
    "duration": 11,
    "start_time": "2022-07-10T10:07:06.157Z"
   },
   {
    "duration": 275,
    "start_time": "2022-07-10T10:07:06.170Z"
   },
   {
    "duration": 8,
    "start_time": "2022-07-10T10:07:06.450Z"
   },
   {
    "duration": 14,
    "start_time": "2022-07-10T10:07:06.459Z"
   },
   {
    "duration": 41,
    "start_time": "2022-07-10T10:07:06.475Z"
   },
   {
    "duration": 15,
    "start_time": "2022-07-10T10:07:06.527Z"
   },
   {
    "duration": 18,
    "start_time": "2022-07-10T10:07:06.546Z"
   },
   {
    "duration": 33,
    "start_time": "2022-07-10T10:07:06.566Z"
   },
   {
    "duration": 20,
    "start_time": "2022-07-10T10:07:06.601Z"
   },
   {
    "duration": 10,
    "start_time": "2022-07-10T10:07:06.625Z"
   },
   {
    "duration": 19,
    "start_time": "2022-07-10T10:07:06.644Z"
   },
   {
    "duration": 9568,
    "start_time": "2022-07-10T10:07:06.665Z"
   },
   {
    "duration": 21,
    "start_time": "2022-07-10T10:07:16.236Z"
   },
   {
    "duration": 5,
    "start_time": "2022-07-10T12:30:17.586Z"
   },
   {
    "duration": 670,
    "start_time": "2022-07-10T12:30:17.593Z"
   },
   {
    "duration": 3,
    "start_time": "2022-07-10T12:30:18.265Z"
   },
   {
    "duration": 19,
    "start_time": "2022-07-10T12:30:18.269Z"
   },
   {
    "duration": 394,
    "start_time": "2022-07-10T12:30:18.290Z"
   },
   {
    "duration": 216,
    "start_time": "2022-07-10T12:30:18.686Z"
   },
   {
    "duration": 388,
    "start_time": "2022-07-10T12:30:18.904Z"
   },
   {
    "duration": 6,
    "start_time": "2022-07-10T12:30:19.294Z"
   },
   {
    "duration": 22,
    "start_time": "2022-07-10T12:30:19.303Z"
   },
   {
    "duration": 7,
    "start_time": "2022-07-10T12:30:19.328Z"
   },
   {
    "duration": 15,
    "start_time": "2022-07-10T12:30:19.340Z"
   },
   {
    "duration": 16,
    "start_time": "2022-07-10T12:30:19.357Z"
   },
   {
    "duration": 13,
    "start_time": "2022-07-10T12:30:19.374Z"
   },
   {
    "duration": 40,
    "start_time": "2022-07-10T12:30:19.388Z"
   },
   {
    "duration": 31,
    "start_time": "2022-07-10T12:30:19.437Z"
   },
   {
    "duration": 24,
    "start_time": "2022-07-10T12:30:19.470Z"
   },
   {
    "duration": 1687,
    "start_time": "2022-07-10T12:30:19.496Z"
   },
   {
    "duration": 1674,
    "start_time": "2022-07-10T12:30:21.185Z"
   },
   {
    "duration": 1491,
    "start_time": "2022-07-10T12:30:22.862Z"
   },
   {
    "duration": 4,
    "start_time": "2022-07-10T12:30:24.355Z"
   },
   {
    "duration": 649,
    "start_time": "2022-07-10T12:30:24.360Z"
   },
   {
    "duration": 692,
    "start_time": "2022-07-10T12:30:25.011Z"
   },
   {
    "duration": 4,
    "start_time": "2022-07-10T12:30:25.704Z"
   },
   {
    "duration": 243,
    "start_time": "2022-07-10T12:30:25.710Z"
   },
   {
    "duration": 32,
    "start_time": "2022-07-10T12:30:25.955Z"
   },
   {
    "duration": 3,
    "start_time": "2022-07-10T12:30:25.989Z"
   },
   {
    "duration": 49,
    "start_time": "2022-07-10T12:30:25.993Z"
   },
   {
    "duration": 3,
    "start_time": "2022-07-10T12:30:26.044Z"
   },
   {
    "duration": 248,
    "start_time": "2022-07-10T12:30:26.049Z"
   },
   {
    "duration": 4,
    "start_time": "2022-07-10T12:30:26.299Z"
   },
   {
    "duration": 26,
    "start_time": "2022-07-10T12:30:26.305Z"
   },
   {
    "duration": 60,
    "start_time": "2022-07-10T12:30:26.333Z"
   },
   {
    "duration": 6,
    "start_time": "2022-07-10T12:30:26.394Z"
   },
   {
    "duration": 7,
    "start_time": "2022-07-10T12:30:26.401Z"
   },
   {
    "duration": 34,
    "start_time": "2022-07-10T12:30:26.410Z"
   },
   {
    "duration": 30,
    "start_time": "2022-07-10T12:30:26.447Z"
   },
   {
    "duration": 4,
    "start_time": "2022-07-10T12:30:26.479Z"
   },
   {
    "duration": 9,
    "start_time": "2022-07-10T12:30:26.485Z"
   },
   {
    "duration": 5137,
    "start_time": "2022-07-10T12:30:26.496Z"
   },
   {
    "duration": 100,
    "start_time": "2022-07-10T12:30:31.635Z"
   },
   {
    "duration": 12,
    "start_time": "2022-07-10T12:31:31.976Z"
   },
   {
    "duration": 8626,
    "start_time": "2022-07-10T12:31:43.966Z"
   },
   {
    "duration": 13970,
    "start_time": "2022-07-10T12:49:50.645Z"
   },
   {
    "duration": 0,
    "start_time": "2022-07-10T12:50:04.624Z"
   },
   {
    "duration": 21,
    "start_time": "2022-07-10T12:50:20.843Z"
   },
   {
    "duration": 4,
    "start_time": "2022-07-10T12:50:31.886Z"
   },
   {
    "duration": 721,
    "start_time": "2022-07-10T12:50:31.892Z"
   },
   {
    "duration": 13,
    "start_time": "2022-07-10T12:50:32.615Z"
   },
   {
    "duration": 23,
    "start_time": "2022-07-10T12:50:32.633Z"
   },
   {
    "duration": 384,
    "start_time": "2022-07-10T12:50:32.660Z"
   },
   {
    "duration": 207,
    "start_time": "2022-07-10T12:50:33.046Z"
   },
   {
    "duration": 390,
    "start_time": "2022-07-10T12:50:33.255Z"
   },
   {
    "duration": 9,
    "start_time": "2022-07-10T12:50:33.648Z"
   },
   {
    "duration": 12,
    "start_time": "2022-07-10T12:50:33.659Z"
   },
   {
    "duration": 6,
    "start_time": "2022-07-10T12:50:33.673Z"
   },
   {
    "duration": 4,
    "start_time": "2022-07-10T12:50:33.681Z"
   },
   {
    "duration": 4,
    "start_time": "2022-07-10T12:50:33.687Z"
   },
   {
    "duration": 37,
    "start_time": "2022-07-10T12:50:33.694Z"
   },
   {
    "duration": 19,
    "start_time": "2022-07-10T12:50:33.733Z"
   },
   {
    "duration": 3,
    "start_time": "2022-07-10T12:50:33.754Z"
   },
   {
    "duration": 7,
    "start_time": "2022-07-10T12:50:33.758Z"
   },
   {
    "duration": 1746,
    "start_time": "2022-07-10T12:50:33.767Z"
   },
   {
    "duration": 1561,
    "start_time": "2022-07-10T12:50:35.515Z"
   },
   {
    "duration": 1953,
    "start_time": "2022-07-10T12:50:37.078Z"
   },
   {
    "duration": 9,
    "start_time": "2022-07-10T12:50:39.033Z"
   },
   {
    "duration": 638,
    "start_time": "2022-07-10T12:50:39.044Z"
   },
   {
    "duration": 608,
    "start_time": "2022-07-10T12:50:39.684Z"
   },
   {
    "duration": 4,
    "start_time": "2022-07-10T12:50:40.296Z"
   },
   {
    "duration": 254,
    "start_time": "2022-07-10T12:50:40.303Z"
   },
   {
    "duration": 30,
    "start_time": "2022-07-10T12:50:40.559Z"
   },
   {
    "duration": 3,
    "start_time": "2022-07-10T12:50:40.590Z"
   },
   {
    "duration": 42,
    "start_time": "2022-07-10T12:50:40.594Z"
   },
   {
    "duration": 2,
    "start_time": "2022-07-10T12:50:40.647Z"
   },
   {
    "duration": 239,
    "start_time": "2022-07-10T12:50:40.651Z"
   },
   {
    "duration": 4,
    "start_time": "2022-07-10T12:50:40.891Z"
   },
   {
    "duration": 32,
    "start_time": "2022-07-10T12:50:40.897Z"
   },
   {
    "duration": 48,
    "start_time": "2022-07-10T12:50:40.934Z"
   },
   {
    "duration": 2,
    "start_time": "2022-07-10T12:50:40.984Z"
   },
   {
    "duration": 7,
    "start_time": "2022-07-10T12:50:40.988Z"
   },
   {
    "duration": 101,
    "start_time": "2022-07-10T12:50:40.997Z"
   },
   {
    "duration": 0,
    "start_time": "2022-07-10T12:50:41.101Z"
   },
   {
    "duration": 0,
    "start_time": "2022-07-10T12:50:41.103Z"
   },
   {
    "duration": 1,
    "start_time": "2022-07-10T12:50:41.104Z"
   },
   {
    "duration": 0,
    "start_time": "2022-07-10T12:50:41.106Z"
   },
   {
    "duration": 0,
    "start_time": "2022-07-10T12:50:41.108Z"
   },
   {
    "duration": 0,
    "start_time": "2022-07-10T12:50:41.109Z"
   },
   {
    "duration": 0,
    "start_time": "2022-07-10T12:50:41.110Z"
   },
   {
    "duration": 4,
    "start_time": "2022-07-10T12:51:19.648Z"
   },
   {
    "duration": 5,
    "start_time": "2022-07-10T12:51:28.648Z"
   },
   {
    "duration": 4,
    "start_time": "2022-07-10T12:51:30.549Z"
   },
   {
    "duration": 3,
    "start_time": "2022-07-10T12:51:32.909Z"
   },
   {
    "duration": 51,
    "start_time": "2022-07-10T12:51:34.403Z"
   },
   {
    "duration": 16,
    "start_time": "2022-07-10T13:01:17.522Z"
   },
   {
    "duration": 4,
    "start_time": "2022-07-10T13:01:18.782Z"
   },
   {
    "duration": 3,
    "start_time": "2022-07-10T13:01:22.066Z"
   },
   {
    "duration": 4,
    "start_time": "2022-07-10T13:01:23.981Z"
   },
   {
    "duration": 6980,
    "start_time": "2022-07-10T13:01:26.659Z"
   },
   {
    "duration": 9,
    "start_time": "2022-07-10T13:01:52.022Z"
   },
   {
    "duration": 4517,
    "start_time": "2022-07-10T13:01:54.109Z"
   },
   {
    "duration": 6,
    "start_time": "2022-07-10T13:02:17.290Z"
   },
   {
    "duration": 3566,
    "start_time": "2022-07-10T13:02:20.865Z"
   },
   {
    "duration": 8729,
    "start_time": "2022-07-10T13:02:44.858Z"
   },
   {
    "duration": 3,
    "start_time": "2022-07-10T13:02:53.590Z"
   },
   {
    "duration": 5670,
    "start_time": "2022-07-10T13:02:58.353Z"
   },
   {
    "duration": 8845,
    "start_time": "2022-07-10T13:03:08.804Z"
   },
   {
    "duration": 508486,
    "start_time": "2022-07-10T13:03:21.274Z"
   },
   {
    "duration": 40,
    "start_time": "2022-07-10T13:11:54.245Z"
   },
   {
    "duration": 10,
    "start_time": "2022-07-10T13:16:35.802Z"
   },
   {
    "duration": 10,
    "start_time": "2022-07-10T13:17:02.350Z"
   },
   {
    "duration": 47,
    "start_time": "2022-07-10T13:17:05.744Z"
   },
   {
    "duration": 143248,
    "start_time": "2022-07-10T13:27:26.953Z"
   },
   {
    "duration": 1528080,
    "start_time": "2022-07-10T13:37:39.477Z"
   },
   {
    "duration": 15,
    "start_time": "2022-07-10T14:04:53.360Z"
   },
   {
    "duration": 989717,
    "start_time": "2022-07-10T14:05:12.403Z"
   },
   {
    "duration": 5,
    "start_time": "2022-07-10T14:21:52.566Z"
   },
   {
    "duration": 628,
    "start_time": "2022-07-10T14:21:52.573Z"
   },
   {
    "duration": 4,
    "start_time": "2022-07-10T14:21:53.203Z"
   },
   {
    "duration": 15,
    "start_time": "2022-07-10T14:21:53.209Z"
   },
   {
    "duration": 380,
    "start_time": "2022-07-10T14:21:53.226Z"
   },
   {
    "duration": 184,
    "start_time": "2022-07-10T14:21:53.607Z"
   },
   {
    "duration": 377,
    "start_time": "2022-07-10T14:21:53.793Z"
   },
   {
    "duration": 8,
    "start_time": "2022-07-10T14:21:54.172Z"
   },
   {
    "duration": 20,
    "start_time": "2022-07-10T14:21:54.182Z"
   },
   {
    "duration": 4,
    "start_time": "2022-07-10T14:21:54.204Z"
   },
   {
    "duration": 2,
    "start_time": "2022-07-10T14:21:54.226Z"
   },
   {
    "duration": 5,
    "start_time": "2022-07-10T14:21:54.231Z"
   },
   {
    "duration": 12,
    "start_time": "2022-07-10T14:21:54.239Z"
   },
   {
    "duration": 25,
    "start_time": "2022-07-10T14:21:54.254Z"
   },
   {
    "duration": 3,
    "start_time": "2022-07-10T14:21:54.281Z"
   },
   {
    "duration": 13,
    "start_time": "2022-07-10T14:21:54.286Z"
   },
   {
    "duration": 1542,
    "start_time": "2022-07-10T14:21:54.301Z"
   },
   {
    "duration": 1639,
    "start_time": "2022-07-10T14:21:55.845Z"
   },
   {
    "duration": 1547,
    "start_time": "2022-07-10T14:21:57.486Z"
   },
   {
    "duration": 4,
    "start_time": "2022-07-10T14:21:59.035Z"
   },
   {
    "duration": 641,
    "start_time": "2022-07-10T14:21:59.041Z"
   },
   {
    "duration": 740,
    "start_time": "2022-07-10T14:21:59.685Z"
   },
   {
    "duration": 4,
    "start_time": "2022-07-10T14:22:00.428Z"
   },
   {
    "duration": 259,
    "start_time": "2022-07-10T14:22:00.433Z"
   },
   {
    "duration": 46,
    "start_time": "2022-07-10T14:22:00.694Z"
   },
   {
    "duration": 3,
    "start_time": "2022-07-10T14:22:00.742Z"
   },
   {
    "duration": 49,
    "start_time": "2022-07-10T14:22:00.748Z"
   },
   {
    "duration": 2,
    "start_time": "2022-07-10T14:22:00.799Z"
   },
   {
    "duration": 228,
    "start_time": "2022-07-10T14:22:00.806Z"
   },
   {
    "duration": 3,
    "start_time": "2022-07-10T14:22:01.036Z"
   },
   {
    "duration": 28,
    "start_time": "2022-07-10T14:22:01.041Z"
   },
   {
    "duration": 57,
    "start_time": "2022-07-10T14:22:01.070Z"
   },
   {
    "duration": 8,
    "start_time": "2022-07-10T14:22:01.129Z"
   },
   {
    "duration": 16,
    "start_time": "2022-07-10T14:22:01.139Z"
   },
   {
    "duration": 17,
    "start_time": "2022-07-10T14:22:01.156Z"
   },
   {
    "duration": 17,
    "start_time": "2022-07-10T14:22:01.174Z"
   },
   {
    "duration": 17,
    "start_time": "2022-07-10T14:22:01.193Z"
   },
   {
    "duration": 13,
    "start_time": "2022-07-10T14:22:01.213Z"
   },
   {
    "duration": 3110,
    "start_time": "2022-07-10T14:22:01.229Z"
   },
   {
    "duration": 8540,
    "start_time": "2022-07-10T14:22:04.342Z"
   },
   {
    "duration": 464905,
    "start_time": "2022-07-10T14:22:12.884Z"
   },
   {
    "duration": 48,
    "start_time": "2022-07-10T14:29:57.790Z"
   },
   {
    "duration": 2478792,
    "start_time": "2022-07-10T14:29:57.841Z"
   },
   {
    "duration": 48716,
    "start_time": "2022-07-10T15:31:09.352Z"
   },
   {
    "duration": 12655,
    "start_time": "2022-07-10T15:34:26.743Z"
   },
   {
    "duration": 13632,
    "start_time": "2022-07-10T15:48:32.978Z"
   },
   {
    "duration": 97681,
    "start_time": "2022-07-10T15:49:48.503Z"
   },
   {
    "duration": 101453,
    "start_time": "2022-07-10T15:58:06.547Z"
   },
   {
    "duration": 5,
    "start_time": "2022-07-10T16:12:06.588Z"
   },
   {
    "duration": 743,
    "start_time": "2022-07-10T16:12:06.640Z"
   },
   {
    "duration": 3,
    "start_time": "2022-07-10T16:12:07.387Z"
   },
   {
    "duration": 34,
    "start_time": "2022-07-10T16:12:07.392Z"
   },
   {
    "duration": 598,
    "start_time": "2022-07-10T16:12:07.429Z"
   },
   {
    "duration": 196,
    "start_time": "2022-07-10T16:12:08.029Z"
   },
   {
    "duration": 441,
    "start_time": "2022-07-10T16:12:08.227Z"
   },
   {
    "duration": 10,
    "start_time": "2022-07-10T16:12:08.669Z"
   },
   {
    "duration": 10,
    "start_time": "2022-07-10T16:12:08.680Z"
   },
   {
    "duration": 7,
    "start_time": "2022-07-10T16:12:08.692Z"
   },
   {
    "duration": 24,
    "start_time": "2022-07-10T16:12:08.700Z"
   },
   {
    "duration": 7,
    "start_time": "2022-07-10T16:12:08.727Z"
   },
   {
    "duration": 9,
    "start_time": "2022-07-10T16:12:08.737Z"
   },
   {
    "duration": 26,
    "start_time": "2022-07-10T16:12:08.749Z"
   },
   {
    "duration": 4,
    "start_time": "2022-07-10T16:12:08.780Z"
   },
   {
    "duration": 7,
    "start_time": "2022-07-10T16:12:08.786Z"
   },
   {
    "duration": 1693,
    "start_time": "2022-07-10T16:12:08.795Z"
   },
   {
    "duration": 1807,
    "start_time": "2022-07-10T16:12:10.489Z"
   },
   {
    "duration": 1604,
    "start_time": "2022-07-10T16:12:12.297Z"
   },
   {
    "duration": 5,
    "start_time": "2022-07-10T16:12:13.902Z"
   },
   {
    "duration": 744,
    "start_time": "2022-07-10T16:12:13.908Z"
   },
   {
    "duration": 636,
    "start_time": "2022-07-10T16:12:14.656Z"
   },
   {
    "duration": 3,
    "start_time": "2022-07-10T16:12:15.294Z"
   },
   {
    "duration": 252,
    "start_time": "2022-07-10T16:12:15.299Z"
   },
   {
    "duration": 34,
    "start_time": "2022-07-10T16:12:15.553Z"
   },
   {
    "duration": 3,
    "start_time": "2022-07-10T16:12:15.589Z"
   },
   {
    "duration": 49,
    "start_time": "2022-07-10T16:12:15.594Z"
   },
   {
    "duration": 2,
    "start_time": "2022-07-10T16:12:15.645Z"
   },
   {
    "duration": 257,
    "start_time": "2022-07-10T16:12:15.649Z"
   },
   {
    "duration": 3,
    "start_time": "2022-07-10T16:12:15.908Z"
   },
   {
    "duration": 10,
    "start_time": "2022-07-10T16:12:15.923Z"
   },
   {
    "duration": 46,
    "start_time": "2022-07-10T16:12:15.935Z"
   },
   {
    "duration": 5,
    "start_time": "2022-07-10T16:12:15.982Z"
   },
   {
    "duration": 6,
    "start_time": "2022-07-10T16:12:15.989Z"
   },
   {
    "duration": 53,
    "start_time": "2022-07-10T16:12:15.997Z"
   },
   {
    "duration": 23,
    "start_time": "2022-07-10T16:12:16.052Z"
   },
   {
    "duration": 4,
    "start_time": "2022-07-10T16:12:16.077Z"
   },
   {
    "duration": 10,
    "start_time": "2022-07-10T16:12:16.083Z"
   },
   {
    "duration": 9337,
    "start_time": "2022-07-10T16:12:16.094Z"
   },
   {
    "duration": 8776,
    "start_time": "2022-07-10T16:12:25.435Z"
   },
   {
    "duration": 502375,
    "start_time": "2022-07-10T16:12:34.213Z"
   },
   {
    "duration": 50,
    "start_time": "2022-07-10T16:20:56.591Z"
   },
   {
    "duration": 2494898,
    "start_time": "2022-07-10T16:20:56.643Z"
   },
   {
    "duration": 15945,
    "start_time": "2022-07-10T17:02:31.543Z"
   },
   {
    "duration": 47,
    "start_time": "2022-07-10T20:47:56.901Z"
   },
   {
    "duration": 49,
    "start_time": "2022-07-10T20:48:01.838Z"
   },
   {
    "duration": 49,
    "start_time": "2022-07-10T20:48:39.494Z"
   },
   {
    "duration": 45,
    "start_time": "2022-07-10T20:48:46.211Z"
   },
   {
    "duration": 67,
    "start_time": "2022-07-10T20:48:49.091Z"
   },
   {
    "duration": 50,
    "start_time": "2022-07-10T20:50:40.017Z"
   },
   {
    "duration": 15990,
    "start_time": "2022-07-10T20:56:00.980Z"
   },
   {
    "duration": 1611,
    "start_time": "2022-12-17T06:50:31.673Z"
   },
   {
    "duration": 2089,
    "start_time": "2022-12-17T06:50:33.286Z"
   },
   {
    "duration": 3,
    "start_time": "2022-12-17T06:50:35.377Z"
   },
   {
    "duration": 425,
    "start_time": "2022-12-17T06:50:35.382Z"
   },
   {
    "duration": 200,
    "start_time": "2022-12-17T06:50:35.809Z"
   },
   {
    "duration": 400,
    "start_time": "2022-12-17T06:50:36.014Z"
   },
   {
    "duration": 10,
    "start_time": "2022-12-17T06:50:36.417Z"
   },
   {
    "duration": 40,
    "start_time": "2022-12-17T06:50:36.428Z"
   },
   {
    "duration": 10,
    "start_time": "2022-12-17T06:50:36.469Z"
   },
   {
    "duration": 62,
    "start_time": "2022-12-17T06:50:36.482Z"
   },
   {
    "duration": 20,
    "start_time": "2022-12-17T06:50:36.545Z"
   },
   {
    "duration": 19,
    "start_time": "2022-12-17T06:50:36.566Z"
   },
   {
    "duration": 35,
    "start_time": "2022-12-17T06:50:36.587Z"
   },
   {
    "duration": 51,
    "start_time": "2022-12-17T06:50:36.624Z"
   },
   {
    "duration": 4,
    "start_time": "2022-12-17T06:50:36.677Z"
   },
   {
    "duration": 1616,
    "start_time": "2022-12-17T06:50:36.683Z"
   },
   {
    "duration": 1513,
    "start_time": "2022-12-17T06:50:38.301Z"
   },
   {
    "duration": 1549,
    "start_time": "2022-12-17T06:50:39.816Z"
   },
   {
    "duration": 4,
    "start_time": "2022-12-17T06:50:41.367Z"
   },
   {
    "duration": 578,
    "start_time": "2022-12-17T06:50:41.373Z"
   },
   {
    "duration": 701,
    "start_time": "2022-12-17T06:50:41.953Z"
   },
   {
    "duration": 4,
    "start_time": "2022-12-17T06:50:42.656Z"
   },
   {
    "duration": 225,
    "start_time": "2022-12-17T06:50:42.661Z"
   },
   {
    "duration": 53,
    "start_time": "2022-12-17T06:50:42.888Z"
   },
   {
    "duration": 30,
    "start_time": "2022-12-17T06:50:42.954Z"
   },
   {
    "duration": 229,
    "start_time": "2022-12-17T06:50:42.986Z"
   },
   {
    "duration": 3,
    "start_time": "2022-12-17T06:50:43.217Z"
   },
   {
    "duration": 10,
    "start_time": "2022-12-17T06:50:43.224Z"
   },
   {
    "duration": 78,
    "start_time": "2022-12-17T06:50:43.235Z"
   },
   {
    "duration": 6,
    "start_time": "2022-12-17T06:50:43.315Z"
   },
   {
    "duration": 7,
    "start_time": "2022-12-17T06:50:43.323Z"
   },
   {
    "duration": 31,
    "start_time": "2022-12-17T06:50:43.331Z"
   },
   {
    "duration": 22,
    "start_time": "2022-12-17T06:50:43.363Z"
   },
   {
    "duration": 2,
    "start_time": "2022-12-17T06:50:43.387Z"
   },
   {
    "duration": 23,
    "start_time": "2022-12-17T06:50:43.391Z"
   },
   {
    "duration": 2700,
    "start_time": "2022-12-17T06:50:43.416Z"
   },
   {
    "duration": 8009,
    "start_time": "2022-12-17T06:50:46.118Z"
   },
   {
    "duration": 456198,
    "start_time": "2022-12-17T06:50:54.129Z"
   },
   {
    "duration": 57,
    "start_time": "2022-12-17T06:58:30.329Z"
   },
   {
    "duration": 2383175,
    "start_time": "2022-12-17T06:58:30.388Z"
   },
   {
    "duration": 15437,
    "start_time": "2022-12-17T07:38:13.565Z"
   }
  ],
  "kernelspec": {
   "display_name": "Python 3 (ipykernel)",
   "language": "python",
   "name": "python3"
  },
  "language_info": {
   "codemirror_mode": {
    "name": "ipython",
    "version": 3
   },
   "file_extension": ".py",
   "mimetype": "text/x-python",
   "name": "python",
   "nbconvert_exporter": "python",
   "pygments_lexer": "ipython3",
   "version": "3.9.5"
  },
  "toc": {
   "base_numbering": 1,
   "nav_menu": {},
   "number_sections": true,
   "sideBar": true,
   "skip_h1_title": true,
   "title_cell": "Содержание",
   "title_sidebar": "Contents",
   "toc_cell": true,
   "toc_position": {
    "height": "calc(100% - 180px)",
    "left": "10px",
    "top": "150px",
    "width": "339.867px"
   },
   "toc_section_display": true,
   "toc_window_display": true
  }
 },
 "nbformat": 4,
 "nbformat_minor": 2
}
